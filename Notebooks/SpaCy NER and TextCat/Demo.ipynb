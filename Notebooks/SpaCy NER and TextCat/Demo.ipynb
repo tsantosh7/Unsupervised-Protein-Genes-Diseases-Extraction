{
 "cells": [
  {
   "cell_type": "code",
   "execution_count": 1,
   "metadata": {},
   "outputs": [],
   "source": [
    "import en_ner_europepmc_md\n",
    "import en_relationv01"
   ]
  },
  {
   "cell_type": "code",
   "execution_count": 2,
   "metadata": {},
   "outputs": [],
   "source": [
    "assoc_model = en_relationv01.load()\n",
    "rel_model = en_ner_europepmc_md.load()"
   ]
  },
  {
   "cell_type": "code",
   "execution_count": null,
   "metadata": {},
   "outputs": [],
   "source": [
    "# Down-regulation of ATM protein sensitizes human prostate cancer cells to radiation-induced apoptosis.\n",
    "# CBX7 overexpression in LNCaP cells resulted in a slight growth advantage in both androgen-dependent and -independent conditions.\n",
    "# Cytochrome P450 1B1 (CYP1B1), a dioxin inducible member of the CYP supergene family, is overexpressed in various human malignancies including prostate cancer.\n",
    "# Increased expression of osteopontin contributes to the progression of prostate cancer.\n",
    "# Increased expression of type 2 3alpha-hydroxysteroid dehydrogenase/type 5 17beta-hydroxysteroid dehydrogenase (AKR1C3) and its relationship with androgen receptor in prostate carcinoma.\n",
    "# We conclude that elevated expression of AKR1C3 is highly associated with prostate carcinoma.\n",
    "# Kaplan-Meier survival analysis confirmed increased RPL19 expression to be highly predictive of shorter patient survival (P &lt; 0.05), revealing RPL19 to be a sensitive predictor of prostate cancer progression.\n",
    "# Transfection-mediated WWOX overexpression in DU145 cells suppressed colony growth (P = 0.0012), and WWOX overexpression by infection with Ad-WWOX virus induced apoptosis through a caspase-dependent mechanism and suppressed cell growth.\n",
    "# Together, our data suggest that strong Tiam1 overexpression relative to the corresponding benign epithelial cells is a new and independent predictor of decreased DFS for patients with prostate cancer.\n",
    "# Polycomb-group oncogenes EZH2, BMI1, and RING1 are overexpressed in prostate cancer with adverse pathologic and clinical features.\n",
    "# Out of seven isoforms of gal8, the proto isoform gal8e and our newly discovered proto isoform gal8g were upregulated in LNCaP cells compared to PrEC, whereas the two tandem-repeat isoforms gal8a and gal8b were equally expressed in these cells.\n",
    "# Out of seven isoforms of gal8, the proto isoform gal8e and our newly discovered proto isoform gal8g were upregulated in LNCaP cells compared to PrEC, whereas the two tandem-repeat isoforms gal8a and gal8b were equally expressed in these cells.\n",
    "# Increased expression of cyclin B1 sensitizes prostate cancer cells to apoptosis induced by chemotherapy.\n",
    "# We present here for the first time that signal transducers and activators of transcription 3 (Stat3), which is constitutively activated in a wide variety of human cancers, including prostate cancer, interacts with PKCepsilon.\n",
    "# Smad3 is overexpressed in advanced human prostate cancer and necessary for progressive growth of prostate cancer cells in nude mice.\n"
   ]
  },
  {
   "cell_type": "code",
   "execution_count": 16,
   "metadata": {},
   "outputs": [],
   "source": [
    "text_sentence = 'Out of seven isoforms of gal8, the proto isoform gal8e and our newly discovered proto isoform gal8g were upregulated in LNCaP cells compared to PrEC, whereas the two tandem-repeat isoforms gal8a and gal8b were equally expressed in these cells.'"
   ]
  },
  {
   "cell_type": "code",
   "execution_count": 17,
   "metadata": {},
   "outputs": [
    {
     "name": "stdout",
     "output_type": "stream",
     "text": [
      "49 54 GP gal8e\n",
      "94 99 GP gal8g\n",
      "105 116 POSITIVE_REGULATION upregulated\n",
      "120 125 DS LNCaP\n"
     ]
    }
   ],
   "source": [
    "doc = rel_model(text_sentence)\n",
    "\n",
    "for ent in doc.ents:\n",
    "    print(ent.start_char, ent.end_char, ent.label_, ent.text)\n"
   ]
  },
  {
   "cell_type": "code",
   "execution_count": null,
   "metadata": {},
   "outputs": [],
   "source": [
    "# Neogenin expression may be inversely correlated to the tumorigenicity of human breast cancer\n",
    "# Paired-samples analysis was used (Student's t-test) to determine whether the difference of PlGF mRNA expression level observed between matched cancer tissue and the normal tissue.\n",
    "# In contrast coexpression of HIF-1α and CAIX in the epithelium in phyllodes tumors points to epithelial hypoxia most probably caused by relatively distant blood vessels.\n",
    "# The natural history of EGFR and EGFRvIII in glioblastoma patients\n",
    "# Not only in hepatic cancer but also for broncho-pulmonary carcinoid cancers TTR was concluded to be a useful marker [23].\n",
    "# The main results of our study are that: i) KGF and HGF lung expression is preserved in emphysema patients ii) HGF-R and KGF-R mRNA are consistently expressed in the lung of emphysema patients and are not modified by the smoking status iii) HGF mRNA correlates with the severity of airflow obstruction in smokers.\n",
    "# The present study was conducted to investigate if the LRIG1 gene mRNA or protein was deleted or dysregulated in human breast cancer.\n",
    "# Pro-inflammatory properties of stromal cell-derived factor-1 (CXCL12) in collagen-induced arthritis\n",
    "# Relationship between the expression of cyclooxygenase 2 and MDR1/P-glycoprotein in invasive breast cancers and their prognostic significance\n",
    "# Slot blot analyses of total RNA from endometrial normal (EN) and tumors (EA) tissues using mucin MUC5B cDNA probe.\n",
    "# Gain of copy number of PIK3CA gene in primary breast cancer cell lines and tumors\n",
    "# TBXA2R and TBXAS1 transcript levels are differentially linked to tumour differentiation\n",
    "# Quantitative analysis of TLR2 (A) TLR3 (B) and TLR4 (C) immunostaining in nasal epithelium in biopsies from healthy volunteers (controls) from patients with intermittent allergic rhinitis before nasal allergen challenge and from the same patients after allergen challenge.\n"
   ]
  },
  {
   "cell_type": "code",
   "execution_count": 22,
   "metadata": {},
   "outputs": [
    {
     "data": {
      "text/plain": [
       "{'Yes': 1.0,\n",
       " 'No': 0.0,\n",
       " 'Positive': 0.02,\n",
       " 'Negative': 0.0,\n",
       " 'Neutral': 0.0,\n",
       " 'Altered Expression': 0.99,\n",
       " 'Genetic Variation': 0.0,\n",
       " 'Any': 0.0,\n",
       " 'Regulatory modification': 0.0}"
      ]
     },
     "execution_count": 22,
     "metadata": {},
     "output_type": "execute_result"
    }
   ],
   "source": [
    "text_sentence = 'TBXA2R and TBXAS1 transcript levels are differentially linked to tumour differentiation'\n",
    "\n",
    "roundoff(assoc_model(text_sentence).cats)"
   ]
  },
  {
   "cell_type": "code",
   "execution_count": null,
   "metadata": {},
   "outputs": [],
   "source": []
  },
  {
   "cell_type": "code",
   "execution_count": 8,
   "metadata": {},
   "outputs": [],
   "source": [
    "def roundoff(dict_y):\n",
    "    for k, v in dict_y.items():\n",
    "        v = round(v,2) \n",
    "        dict_y[k] = v \n",
    "    return dict_y\n"
   ]
  },
  {
   "cell_type": "code",
   "execution_count": null,
   "metadata": {},
   "outputs": [],
   "source": []
  },
  {
   "cell_type": "code",
   "execution_count": null,
   "metadata": {},
   "outputs": [],
   "source": []
  }
 ],
 "metadata": {
  "kernelspec": {
   "display_name": "pytorch",
   "language": "python",
   "name": "pytorch"
  },
  "language_info": {
   "codemirror_mode": {
    "name": "ipython",
    "version": 3
   },
   "file_extension": ".py",
   "mimetype": "text/x-python",
   "name": "python",
   "nbconvert_exporter": "python",
   "pygments_lexer": "ipython3",
   "version": "3.6.9"
  }
 },
 "nbformat": 4,
 "nbformat_minor": 2
}
