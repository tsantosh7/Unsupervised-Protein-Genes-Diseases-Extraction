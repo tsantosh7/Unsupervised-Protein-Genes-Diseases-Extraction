{
 "cells": [
  {
   "cell_type": "code",
   "execution_count": 6,
   "metadata": {},
   "outputs": [],
   "source": [
    "import spacy\n",
    "\n",
    "model_path = '/nfs/gns/literature/Santosh_Tirunagari/GitHub/spacy_models/en-metagenomics-lg/'\n",
    "modelfile = 'en-core-BCGS-lg'\n",
    "\n",
    "bsgc_nlp = spacy.load(model_path+modelfile)\n"
   ]
  },
  {
   "cell_type": "code",
   "execution_count": 4,
   "metadata": {},
   "outputs": [],
   "source": [
    "text = '''The biosynthetic gene cluster for bisucaberin B (1, bsb gene cluster), \n",
    "an N-hydroxy-N-succinyl diamine (HSD)-based siderophore, was cloned from the marine \n",
    "bacterium Tenacibaculum mesophilum, originated from a marine sponge. The bsb gene cluster \n",
    "consists of six open reading frames (ORFs), in contrast to the four ORFs typically seen in \n",
    "biosynthetic gene clusters of the related molecules. Heterologous expression of the key enzyme, \n",
    "BsbD2, which is responsible for the final biosynthetic step of 1 resulted in production of bisucaberin B (1), \n",
    "but not bisucaberin (2) a macrocyclic counterpart of 1. To date, numbers of related enzymes producing \n",
    "macrocyclic analogues have been reported, but this work represents the first example of the HSD-based \n",
    "siderophore biosynthetic enzyme which exclusively produces a linear molecule rather than macrocyclic \n",
    "counterparts.'''"
   ]
  },
  {
   "cell_type": "code",
   "execution_count": 8,
   "metadata": {},
   "outputs": [
    {
     "name": "stdout",
     "output_type": "stream",
     "text": [
      "bisucaberin 34 45 BSGC\n",
      "siderophore 116 127 BSGC\n",
      "bisucaberin 528 539 BSGC\n",
      "siderophore 754 765 BSGC\n"
     ]
    }
   ],
   "source": [
    "doc = bsgc_nlp(text)\n",
    "for ent in doc.ents:\n",
    "    print(ent.text, ent.start_char, ent.end_char, ent.label_)"
   ]
  },
  {
   "cell_type": "code",
   "execution_count": null,
   "metadata": {},
   "outputs": [],
   "source": []
  }
 ],
 "metadata": {
  "kernelspec": {
   "display_name": "scispcacy",
   "language": "python",
   "name": "scispcacy"
  },
  "language_info": {
   "codemirror_mode": {
    "name": "ipython",
    "version": 3
   },
   "file_extension": ".py",
   "mimetype": "text/x-python",
   "name": "python",
   "nbconvert_exporter": "python",
   "pygments_lexer": "ipython3",
   "version": "3.6.9"
  }
 },
 "nbformat": 4,
 "nbformat_minor": 2
}
