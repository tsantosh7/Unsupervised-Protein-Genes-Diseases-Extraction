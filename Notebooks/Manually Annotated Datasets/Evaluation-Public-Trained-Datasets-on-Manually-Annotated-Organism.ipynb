{
 "cells": [
  {
   "cell_type": "code",
   "execution_count": 1,
   "metadata": {},
   "outputs": [],
   "source": [
    "# Code to evaluate EPMC annotation to the Manual Annotation\n",
    "# Code to compare results from ML methods and EPMC annotation\n",
    "\n",
    "# (c) EMBL-EBI, September 2019\n",
    "#\n",
    "# Started: 23 Septmember  2019\n",
    "# Updated: 24 Septmember  2019\n",
    "\n",
    "_author_ = 'Santosh Tirunagari'\n",
    "\n",
    "import os\n",
    "import pandas as pd\n",
    "import glob\n",
    "import json\n",
    "import csv\n",
    "import sys\n",
    "\n",
    "import multiprocessing\n",
    "\n",
    "import numpy as np\n",
    "import re\n",
    "\n",
    "from nltk.tokenize import wordpunct_tokenize\n",
    "\n",
    "import requests\n",
    "# from pprint import pprint\n",
    "import pandas as pd\n",
    "\n",
    "from collections import defaultdict, Counter\n",
    "import time\n",
    "from requests.compat import urljoin\n",
    "\n",
    "from tqdm import tqdm"
   ]
  },
  {
   "cell_type": "code",
   "execution_count": 2,
   "metadata": {},
   "outputs": [],
   "source": [
    "result_path = '/nfs/gns/literature/machine-learning/evaluation/300articles/ML-NER/PCSE/public_trained/'\n",
    "\n",
    "from nltk.tokenize import wordpunct_tokenize, WordPunctTokenizer\n",
    "from tqdm import tqdm\n",
    "import csv\n",
    "import pandas as pd\n",
    "\n",
    "test_df = pd.read_csv('/nfs/gns/literature/machine-learning/evaluation/300articles/CSV formats/test.csv', sep='\\t', names = ['pmc_id','sentence', 'gt'])\n"
   ]
  },
  {
   "cell_type": "code",
   "execution_count": 3,
   "metadata": {},
   "outputs": [
    {
     "name": "stdout",
     "output_type": "stream",
     "text": [
      "2019-11-21 14:30:02,170 loading file /nfs/gns/literature/Santosh_Tirunagari/GitHub/flair_models/ner/multi_bio_ner_model_organisms/v01/best-model.pt\n"
     ]
    }
   ],
   "source": [
    "from flair.models import TextClassifier\n",
    "from flair.data import Sentence, Token\n",
    "from flair.models import SequenceTagger\n",
    "\n",
    "flair_models = '/nfs/gns/literature/Santosh_Tirunagari/GitHub/flair_models/ner/'\n",
    "# load the model you trained\n",
    "# gene_model = SequenceTagger.load(flair_models+'multi_bio_ner_model_gene/v01/'+'best-model.pt')\n",
    "# disease_model = SequenceTagger.load(flair_models+'multi_bio_ner_model_disease/'+'best-model.pt')\n",
    "organisms_model = SequenceTagger.load(flair_models+'multi_bio_ner_model_organisms/v01/'+'best-model.pt')\n"
   ]
  },
  {
   "cell_type": "code",
   "execution_count": 4,
   "metadata": {},
   "outputs": [
    {
     "name": "stdout",
     "output_type": "stream",
     "text": [
      "Brief\tO\n",
      "inactivation\tO\n",
      "of\tO\n",
      "c\tO\n",
      "-\tO\n",
      "Myc\tO\n",
      "is\tO\n",
      "not\tO\n",
      "sufficient\tO\n",
      "for\tO\n",
      "sustained\tO\n",
      "regression\tO\n",
      "of\tO\n",
      "c\tO\n",
      "-\tO\n",
      "Myc\tO\n",
      "-\tO\n",
      "induced\tO\n",
      "tumours\tO\n",
      "of\tO\n",
      "pancreatic\tO\n",
      "islets\tO\n",
      "and\tO\n",
      "skin\tO\n",
      "epidermis\tO\n",
      "in\tO\n",
      "humans\tB-Species\n",
      "and\tO\n",
      "animals\tO\n"
     ]
    }
   ],
   "source": [
    "from nltk.tokenize import WordPunctTokenizer\n",
    "\n",
    "text_temp = 'Brief inactivation of c-Myc is not sufficient for sustained regression of c-Myc-induced tumours of pancreatic islets and skin epidermis in humans and animals'\n",
    "\n",
    "sentence = ' '.join(wordpunct_tokenize(text_temp))\n",
    "sentence = Sentence(sentence)\n",
    "organisms_model.predict(sentence)\n",
    "\n",
    "for token in sentence:\n",
    "# print what you need (text and NER value)\n",
    "    print(f\"{token.text}\\t{token.get_tag('ner').value}\")"
   ]
  },
  {
   "cell_type": "code",
   "execution_count": 7,
   "metadata": {},
   "outputs": [
    {
     "name": "stderr",
     "output_type": "stream",
     "text": [
      "  3%|▎         | 546/17957 [01:27<23:54, 12.13it/s]  "
     ]
    },
    {
     "name": "stdout",
     "output_type": "stream",
     "text": [
      "2019-11-21 18:02:14,351 ACHTUNG: An empty Sentence was created! Are there empty strings in your dataset?\n",
      "2019-11-21 18:02:14,353 Ignore 1 sentence(s) with no tokens.\n"
     ]
    },
    {
     "name": "stderr",
     "output_type": "stream",
     "text": [
      "\r",
      "  3%|▎         | 549/17957 [01:27<20:10, 14.39it/s]"
     ]
    },
    {
     "name": "stdout",
     "output_type": "stream",
     "text": [
      "2019-11-21 18:02:14,490 ACHTUNG: An empty Sentence was created! Are there empty strings in your dataset?\n",
      "2019-11-21 18:02:14,495 Ignore 1 sentence(s) with no tokens.\n"
     ]
    },
    {
     "name": "stderr",
     "output_type": "stream",
     "text": [
      "\r",
      "  3%|▎         | 553/17957 [01:27<17:04, 16.98it/s]"
     ]
    },
    {
     "name": "stdout",
     "output_type": "stream",
     "text": [
      "2019-11-21 18:02:14,620 ACHTUNG: An empty Sentence was created! Are there empty strings in your dataset?\n",
      "2019-11-21 18:02:14,622 Ignore 1 sentence(s) with no tokens.\n"
     ]
    },
    {
     "name": "stderr",
     "output_type": "stream",
     "text": [
      "  3%|▎         | 617/17957 [01:30<13:57, 20.72it/s]"
     ]
    },
    {
     "name": "stdout",
     "output_type": "stream",
     "text": [
      "2019-11-21 18:02:17,031 ACHTUNG: An empty Sentence was created! Are there empty strings in your dataset?\n",
      "2019-11-21 18:02:17,038 Ignore 1 sentence(s) with no tokens.\n"
     ]
    },
    {
     "name": "stderr",
     "output_type": "stream",
     "text": [
      "\r",
      "  3%|▎         | 622/17957 [01:30<11:58, 24.12it/s]"
     ]
    },
    {
     "name": "stdout",
     "output_type": "stream",
     "text": [
      "2019-11-21 18:02:17,225 ACHTUNG: An empty Sentence was created! Are there empty strings in your dataset?\n",
      "2019-11-21 18:02:17,228 Ignore 1 sentence(s) with no tokens.\n"
     ]
    },
    {
     "name": "stderr",
     "output_type": "stream",
     "text": [
      "  4%|▎         | 631/17957 [01:30<10:27, 27.60it/s]"
     ]
    },
    {
     "name": "stdout",
     "output_type": "stream",
     "text": [
      "2019-11-21 18:02:17,422 ACHTUNG: An empty Sentence was created! Are there empty strings in your dataset?\n",
      "2019-11-21 18:02:17,425 Ignore 1 sentence(s) with no tokens.\n"
     ]
    },
    {
     "name": "stderr",
     "output_type": "stream",
     "text": [
      "  4%|▎         | 639/17957 [01:30<10:32, 27.39it/s]"
     ]
    },
    {
     "name": "stdout",
     "output_type": "stream",
     "text": [
      "2019-11-21 18:02:17,703 ACHTUNG: An empty Sentence was created! Are there empty strings in your dataset?\n",
      "2019-11-21 18:02:17,706 Ignore 1 sentence(s) with no tokens.\n"
     ]
    },
    {
     "name": "stderr",
     "output_type": "stream",
     "text": [
      "  4%|▎         | 648/17957 [01:31<10:49, 26.65it/s]"
     ]
    },
    {
     "name": "stdout",
     "output_type": "stream",
     "text": [
      "2019-11-21 18:02:18,056 ACHTUNG: An empty Sentence was created! Are there empty strings in your dataset?\n",
      "2019-11-21 18:02:18,060 Ignore 1 sentence(s) with no tokens.\n"
     ]
    },
    {
     "name": "stderr",
     "output_type": "stream",
     "text": [
      "\r",
      "  4%|▎         | 654/17957 [01:31<09:21, 30.80it/s]"
     ]
    },
    {
     "name": "stdout",
     "output_type": "stream",
     "text": [
      "2019-11-21 18:02:18,213 ACHTUNG: An empty Sentence was created! Are there empty strings in your dataset?\n",
      "2019-11-21 18:02:18,214 Ignore 1 sentence(s) with no tokens.\n"
     ]
    },
    {
     "name": "stderr",
     "output_type": "stream",
     "text": [
      " 10%|▉         | 1722/17957 [04:01<18:38, 14.52it/s]  "
     ]
    },
    {
     "name": "stdout",
     "output_type": "stream",
     "text": [
      "2019-11-21 18:04:48,289 ACHTUNG: An empty Sentence was created! Are there empty strings in your dataset?\n",
      "2019-11-21 18:04:48,291 Ignore 1 sentence(s) with no tokens.\n"
     ]
    },
    {
     "name": "stderr",
     "output_type": "stream",
     "text": [
      " 10%|▉         | 1734/17957 [04:01<11:22, 23.76it/s]"
     ]
    },
    {
     "name": "stdout",
     "output_type": "stream",
     "text": [
      "2019-11-21 18:04:48,616 ACHTUNG: An empty Sentence was created! Are there empty strings in your dataset?\n",
      "2019-11-21 18:04:48,620 Ignore 1 sentence(s) with no tokens.\n"
     ]
    },
    {
     "name": "stderr",
     "output_type": "stream",
     "text": [
      " 10%|▉         | 1775/17957 [04:03<10:04, 26.79it/s]"
     ]
    },
    {
     "name": "stdout",
     "output_type": "stream",
     "text": [
      "2019-11-21 18:04:50,112 ACHTUNG: An empty Sentence was created! Are there empty strings in your dataset?\n",
      "2019-11-21 18:04:50,114 Ignore 1 sentence(s) with no tokens.\n"
     ]
    },
    {
     "name": "stderr",
     "output_type": "stream",
     "text": [
      " 10%|▉         | 1791/17957 [04:03<10:31, 25.62it/s]"
     ]
    },
    {
     "name": "stdout",
     "output_type": "stream",
     "text": [
      "2019-11-21 18:04:50,742 ACHTUNG: An empty Sentence was created! Are there empty strings in your dataset?\n",
      "2019-11-21 18:04:50,744 Ignore 1 sentence(s) with no tokens.\n"
     ]
    },
    {
     "name": "stderr",
     "output_type": "stream",
     "text": [
      " 10%|█         | 1852/17957 [04:06<12:33, 21.38it/s]"
     ]
    },
    {
     "name": "stdout",
     "output_type": "stream",
     "text": [
      "2019-11-21 18:04:53,347 ACHTUNG: An empty Sentence was created! Are there empty strings in your dataset?\n",
      "2019-11-21 18:04:53,350 Ignore 1 sentence(s) with no tokens.\n"
     ]
    },
    {
     "name": "stderr",
     "output_type": "stream",
     "text": [
      " 10%|█         | 1866/17957 [04:06<10:51, 24.71it/s]"
     ]
    },
    {
     "name": "stdout",
     "output_type": "stream",
     "text": [
      "2019-11-21 18:04:53,854 ACHTUNG: An empty Sentence was created! Are there empty strings in your dataset?\n",
      "2019-11-21 18:04:53,856 Ignore 1 sentence(s) with no tokens.\n"
     ]
    },
    {
     "name": "stderr",
     "output_type": "stream",
     "text": [
      " 10%|█         | 1876/17957 [04:07<09:56, 26.98it/s]"
     ]
    },
    {
     "name": "stdout",
     "output_type": "stream",
     "text": [
      "2019-11-21 18:04:54,117 ACHTUNG: An empty Sentence was created! Are there empty strings in your dataset?\n",
      "2019-11-21 18:04:54,119 Ignore 1 sentence(s) with no tokens.\n"
     ]
    },
    {
     "name": "stderr",
     "output_type": "stream",
     "text": [
      " 11%|█         | 1893/17957 [04:07<10:54, 24.55it/s]"
     ]
    },
    {
     "name": "stdout",
     "output_type": "stream",
     "text": [
      "2019-11-21 18:04:54,811 ACHTUNG: An empty Sentence was created! Are there empty strings in your dataset?\n",
      "2019-11-21 18:04:54,813 Ignore 1 sentence(s) with no tokens.\n"
     ]
    },
    {
     "name": "stderr",
     "output_type": "stream",
     "text": [
      " 11%|█         | 1967/17957 [04:10<10:20, 25.78it/s]"
     ]
    },
    {
     "name": "stdout",
     "output_type": "stream",
     "text": [
      "2019-11-21 18:04:57,650 ACHTUNG: An empty Sentence was created! Are there empty strings in your dataset?\n",
      "2019-11-21 18:04:57,652 Ignore 1 sentence(s) with no tokens.\n"
     ]
    },
    {
     "name": "stderr",
     "output_type": "stream",
     "text": [
      " 42%|████▏     | 7453/17957 [14:41<14:30, 12.07it/s]  "
     ]
    },
    {
     "name": "stdout",
     "output_type": "stream",
     "text": [
      "2019-11-21 18:15:28,327 ACHTUNG: An empty Sentence was created! Are there empty strings in your dataset?\n",
      "2019-11-21 18:15:28,329 Ignore 1 sentence(s) with no tokens.\n",
      "2019-11-21 18:15:28,405 ACHTUNG: An empty Sentence was created! Are there empty strings in your dataset?\n",
      "2019-11-21 18:15:28,407 Ignore 1 sentence(s) with no tokens.\n"
     ]
    },
    {
     "name": "stderr",
     "output_type": "stream",
     "text": [
      "\r",
      " 42%|████▏     | 7460/17957 [14:41<10:58, 15.94it/s]"
     ]
    },
    {
     "name": "stdout",
     "output_type": "stream",
     "text": [
      "2019-11-21 18:15:28,522 ACHTUNG: An empty Sentence was created! Are there empty strings in your dataset?\n",
      "2019-11-21 18:15:28,523 Ignore 1 sentence(s) with no tokens.\n"
     ]
    },
    {
     "name": "stderr",
     "output_type": "stream",
     "text": [
      "\r",
      " 42%|████▏     | 7467/17957 [14:41<08:27, 20.65it/s]"
     ]
    },
    {
     "name": "stdout",
     "output_type": "stream",
     "text": [
      "2019-11-21 18:15:28,594 ACHTUNG: An empty Sentence was created! Are there empty strings in your dataset?\n",
      "2019-11-21 18:15:28,596 Ignore 1 sentence(s) with no tokens.\n"
     ]
    },
    {
     "name": "stderr",
     "output_type": "stream",
     "text": [
      "\r",
      " 42%|████▏     | 7474/17957 [14:41<06:43, 26.01it/s]"
     ]
    },
    {
     "name": "stdout",
     "output_type": "stream",
     "text": [
      "2019-11-21 18:15:28,695 ACHTUNG: An empty Sentence was created! Are there empty strings in your dataset?\n",
      "2019-11-21 18:15:28,697 Ignore 1 sentence(s) with no tokens.\n"
     ]
    },
    {
     "name": "stderr",
     "output_type": "stream",
     "text": [
      "\r",
      " 42%|████▏     | 7482/17957 [14:41<05:33, 31.40it/s]"
     ]
    },
    {
     "name": "stdout",
     "output_type": "stream",
     "text": [
      "2019-11-21 18:15:28,816 ACHTUNG: An empty Sentence was created! Are there empty strings in your dataset?\n",
      "2019-11-21 18:15:28,818 Ignore 1 sentence(s) with no tokens.\n",
      "2019-11-21 18:15:28,871 ACHTUNG: An empty Sentence was created! Are there empty strings in your dataset?\n",
      "2019-11-21 18:15:28,874 Ignore 1 sentence(s) with no tokens.\n"
     ]
    },
    {
     "name": "stderr",
     "output_type": "stream",
     "text": [
      "\r",
      " 42%|████▏     | 7489/17957 [14:42<04:45, 36.68it/s]"
     ]
    },
    {
     "name": "stdout",
     "output_type": "stream",
     "text": [
      "2019-11-21 18:15:28,982 ACHTUNG: An empty Sentence was created! Are there empty strings in your dataset?\n",
      "2019-11-21 18:15:28,985 Ignore 1 sentence(s) with no tokens.\n"
     ]
    },
    {
     "name": "stderr",
     "output_type": "stream",
     "text": [
      "\r",
      " 42%|████▏     | 7496/17957 [14:42<04:13, 41.31it/s]"
     ]
    },
    {
     "name": "stdout",
     "output_type": "stream",
     "text": [
      "2019-11-21 18:15:29,109 ACHTUNG: An empty Sentence was created! Are there empty strings in your dataset?\n",
      "2019-11-21 18:15:29,111 Ignore 1 sentence(s) with no tokens.\n"
     ]
    },
    {
     "name": "stderr",
     "output_type": "stream",
     "text": [
      "\r",
      " 42%|████▏     | 7502/17957 [14:42<03:49, 45.55it/s]"
     ]
    },
    {
     "name": "stdout",
     "output_type": "stream",
     "text": [
      "2019-11-21 18:15:29,183 ACHTUNG: An empty Sentence was created! Are there empty strings in your dataset?\n",
      "2019-11-21 18:15:29,188 Ignore 1 sentence(s) with no tokens.\n"
     ]
    },
    {
     "name": "stderr",
     "output_type": "stream",
     "text": [
      "\r",
      " 42%|████▏     | 7508/17957 [14:42<03:49, 45.53it/s]"
     ]
    },
    {
     "name": "stdout",
     "output_type": "stream",
     "text": [
      "2019-11-21 18:15:29,297 ACHTUNG: An empty Sentence was created! Are there empty strings in your dataset?\n",
      "2019-11-21 18:15:29,299 Ignore 1 sentence(s) with no tokens.\n"
     ]
    },
    {
     "name": "stderr",
     "output_type": "stream",
     "text": [
      "\r",
      " 42%|████▏     | 7515/17957 [14:42<03:25, 50.77it/s]"
     ]
    },
    {
     "name": "stdout",
     "output_type": "stream",
     "text": [
      "2019-11-21 18:15:29,409 ACHTUNG: An empty Sentence was created! Are there empty strings in your dataset?\n",
      "2019-11-21 18:15:29,413 Ignore 1 sentence(s) with no tokens.\n"
     ]
    },
    {
     "name": "stderr",
     "output_type": "stream",
     "text": [
      "\r",
      " 42%|████▏     | 7521/17957 [14:42<03:16, 53.06it/s]"
     ]
    },
    {
     "name": "stdout",
     "output_type": "stream",
     "text": [
      "2019-11-21 18:15:29,487 ACHTUNG: An empty Sentence was created! Are there empty strings in your dataset?\n",
      "2019-11-21 18:15:29,491 Ignore 1 sentence(s) with no tokens.\n"
     ]
    },
    {
     "name": "stderr",
     "output_type": "stream",
     "text": [
      "\r",
      " 42%|████▏     | 7527/17957 [14:42<03:18, 52.56it/s]"
     ]
    },
    {
     "name": "stdout",
     "output_type": "stream",
     "text": [
      "2019-11-21 18:15:29,586 ACHTUNG: An empty Sentence was created! Are there empty strings in your dataset?\n",
      "2019-11-21 18:15:29,589 Ignore 1 sentence(s) with no tokens.\n"
     ]
    },
    {
     "name": "stderr",
     "output_type": "stream",
     "text": [
      "\r",
      " 42%|████▏     | 7533/17957 [14:42<03:23, 51.25it/s]"
     ]
    },
    {
     "name": "stdout",
     "output_type": "stream",
     "text": [
      "2019-11-21 18:15:29,732 ACHTUNG: An empty Sentence was created! Are there empty strings in your dataset?\n",
      "2019-11-21 18:15:29,736 Ignore 1 sentence(s) with no tokens.\n"
     ]
    },
    {
     "name": "stderr",
     "output_type": "stream",
     "text": [
      "\r",
      " 42%|████▏     | 7539/17957 [14:42<03:24, 51.04it/s]"
     ]
    },
    {
     "name": "stdout",
     "output_type": "stream",
     "text": [
      "2019-11-21 18:15:29,865 ACHTUNG: An empty Sentence was created! Are there empty strings in your dataset?\n",
      "2019-11-21 18:15:29,867 Ignore 1 sentence(s) with no tokens.\n"
     ]
    },
    {
     "name": "stderr",
     "output_type": "stream",
     "text": [
      " 42%|████▏     | 7565/17957 [14:44<09:43, 17.82it/s]"
     ]
    },
    {
     "name": "stdout",
     "output_type": "stream",
     "text": [
      "2019-11-21 18:15:31,655 ACHTUNG: An empty Sentence was created! Are there empty strings in your dataset?\n",
      "2019-11-21 18:15:31,657 Ignore 1 sentence(s) with no tokens.\n",
      "2019-11-21 18:15:31,750 ACHTUNG: An empty Sentence was created! Are there empty strings in your dataset?\n",
      "2019-11-21 18:15:31,753 Ignore 1 sentence(s) with no tokens.\n"
     ]
    },
    {
     "name": "stderr",
     "output_type": "stream",
     "text": [
      " 42%|████▏     | 7578/17957 [14:44<06:14, 27.74it/s]"
     ]
    },
    {
     "name": "stdout",
     "output_type": "stream",
     "text": [
      "2019-11-21 18:15:31,867 ACHTUNG: An empty Sentence was created! Are there empty strings in your dataset?\n",
      "2019-11-21 18:15:31,870 Ignore 1 sentence(s) with no tokens.\n",
      "2019-11-21 18:15:31,960 ACHTUNG: An empty Sentence was created! Are there empty strings in your dataset?\n",
      "2019-11-21 18:15:31,964 Ignore 1 sentence(s) with no tokens.\n"
     ]
    },
    {
     "name": "stderr",
     "output_type": "stream",
     "text": [
      " 42%|████▏     | 7591/17957 [14:45<04:31, 38.23it/s]"
     ]
    },
    {
     "name": "stdout",
     "output_type": "stream",
     "text": [
      "2019-11-21 18:15:32,078 ACHTUNG: An empty Sentence was created! Are there empty strings in your dataset?\n",
      "2019-11-21 18:15:32,079 Ignore 1 sentence(s) with no tokens.\n"
     ]
    },
    {
     "name": "stderr",
     "output_type": "stream",
     "text": [
      "\r",
      " 42%|████▏     | 7597/17957 [14:45<04:20, 39.79it/s]"
     ]
    },
    {
     "name": "stdout",
     "output_type": "stream",
     "text": [
      "2019-11-21 18:15:32,216 ACHTUNG: An empty Sentence was created! Are there empty strings in your dataset?\n",
      "2019-11-21 18:15:32,219 Ignore 1 sentence(s) with no tokens.\n"
     ]
    },
    {
     "name": "stderr",
     "output_type": "stream",
     "text": [
      "\r",
      " 42%|████▏     | 7603/17957 [14:45<04:00, 42.99it/s]"
     ]
    },
    {
     "name": "stdout",
     "output_type": "stream",
     "text": [
      "2019-11-21 18:15:32,328 ACHTUNG: An empty Sentence was created! Are there empty strings in your dataset?\n",
      "2019-11-21 18:15:32,331 Ignore 1 sentence(s) with no tokens.\n"
     ]
    },
    {
     "name": "stderr",
     "output_type": "stream",
     "text": [
      " 42%|████▏     | 7616/17957 [14:46<08:06, 21.26it/s]"
     ]
    },
    {
     "name": "stdout",
     "output_type": "stream",
     "text": [
      "2019-11-21 18:15:33,250 ACHTUNG: An empty Sentence was created! Are there empty strings in your dataset?\n",
      "2019-11-21 18:15:33,253 Ignore 1 sentence(s) with no tokens.\n"
     ]
    },
    {
     "name": "stderr",
     "output_type": "stream",
     "text": [
      " 43%|████▎     | 7634/17957 [14:46<05:06, 33.67it/s]"
     ]
    },
    {
     "name": "stdout",
     "output_type": "stream",
     "text": [
      "2019-11-21 18:15:33,473 ACHTUNG: An empty Sentence was created! Are there empty strings in your dataset?\n",
      "2019-11-21 18:15:33,476 Ignore 1 sentence(s) with no tokens.\n"
     ]
    },
    {
     "name": "stderr",
     "output_type": "stream",
     "text": [
      "\r",
      " 43%|████▎     | 7640/17957 [14:46<04:33, 37.78it/s]"
     ]
    },
    {
     "name": "stdout",
     "output_type": "stream",
     "text": [
      "2019-11-21 18:15:33,618 ACHTUNG: An empty Sentence was created! Are there empty strings in your dataset?\n",
      "2019-11-21 18:15:33,621 Ignore 1 sentence(s) with no tokens.\n"
     ]
    },
    {
     "name": "stderr",
     "output_type": "stream",
     "text": [
      "\r",
      " 43%|████▎     | 7646/17957 [14:46<04:08, 41.50it/s]"
     ]
    },
    {
     "name": "stdout",
     "output_type": "stream",
     "text": [
      "2019-11-21 18:15:33,770 ACHTUNG: An empty Sentence was created! Are there empty strings in your dataset?\n",
      "2019-11-21 18:15:33,772 Ignore 1 sentence(s) with no tokens.\n"
     ]
    },
    {
     "name": "stderr",
     "output_type": "stream",
     "text": [
      " 43%|████▎     | 7658/17957 [14:47<03:37, 47.38it/s]"
     ]
    },
    {
     "name": "stdout",
     "output_type": "stream",
     "text": [
      "2019-11-21 18:15:33,915 ACHTUNG: An empty Sentence was created! Are there empty strings in your dataset?\n",
      "2019-11-21 18:15:33,918 Ignore 1 sentence(s) with no tokens.\n"
     ]
    },
    {
     "name": "stderr",
     "output_type": "stream",
     "text": [
      "\r",
      " 43%|████▎     | 7666/17957 [14:47<03:19, 51.62it/s]"
     ]
    },
    {
     "name": "stdout",
     "output_type": "stream",
     "text": [
      "2019-11-21 18:15:34,039 ACHTUNG: An empty Sentence was created! Are there empty strings in your dataset?\n",
      "2019-11-21 18:15:34,041 Ignore 1 sentence(s) with no tokens.\n"
     ]
    },
    {
     "name": "stderr",
     "output_type": "stream",
     "text": [
      "\r",
      " 43%|████▎     | 7672/17957 [14:47<03:11, 53.63it/s]"
     ]
    },
    {
     "name": "stdout",
     "output_type": "stream",
     "text": [
      "2019-11-21 18:15:34,168 ACHTUNG: An empty Sentence was created! Are there empty strings in your dataset?\n",
      "2019-11-21 18:15:34,171 Ignore 1 sentence(s) with no tokens.\n"
     ]
    },
    {
     "name": "stderr",
     "output_type": "stream",
     "text": [
      " 43%|████▎     | 7711/17957 [14:51<18:03,  9.46it/s]"
     ]
    },
    {
     "name": "stdout",
     "output_type": "stream",
     "text": [
      "2019-11-21 18:15:38,101 ACHTUNG: An empty Sentence was created! Are there empty strings in your dataset?\n",
      "2019-11-21 18:15:38,103 Ignore 1 sentence(s) with no tokens.\n"
     ]
    },
    {
     "name": "stderr",
     "output_type": "stream",
     "text": [
      "\r",
      " 43%|████▎     | 7714/17957 [14:51<14:26, 11.83it/s]"
     ]
    },
    {
     "name": "stdout",
     "output_type": "stream",
     "text": [
      "2019-11-21 18:15:38,194 ACHTUNG: An empty Sentence was created! Are there empty strings in your dataset?\n",
      "2019-11-21 18:15:38,197 Ignore 1 sentence(s) with no tokens.\n"
     ]
    },
    {
     "name": "stderr",
     "output_type": "stream",
     "text": [
      "\r",
      " 43%|████▎     | 7721/17957 [14:51<10:54, 15.65it/s]"
     ]
    },
    {
     "name": "stdout",
     "output_type": "stream",
     "text": [
      "2019-11-21 18:15:38,338 ACHTUNG: An empty Sentence was created! Are there empty strings in your dataset?\n",
      "2019-11-21 18:15:38,342 Ignore 1 sentence(s) with no tokens.\n"
     ]
    },
    {
     "name": "stderr",
     "output_type": "stream",
     "text": [
      " 43%|████▎     | 7730/17957 [14:51<07:31, 22.67it/s]"
     ]
    },
    {
     "name": "stdout",
     "output_type": "stream",
     "text": [
      "2019-11-21 18:15:38,454 ACHTUNG: An empty Sentence was created! Are there empty strings in your dataset?\n",
      "2019-11-21 18:15:38,456 Ignore 1 sentence(s) with no tokens.\n"
     ]
    },
    {
     "name": "stderr",
     "output_type": "stream",
     "text": [
      "\r",
      " 43%|████▎     | 7734/17957 [14:51<06:54, 24.67it/s]"
     ]
    },
    {
     "name": "stdout",
     "output_type": "stream",
     "text": [
      "2019-11-21 18:15:38,627 ACHTUNG: An empty Sentence was created! Are there empty strings in your dataset?\n",
      "2019-11-21 18:15:38,630 Ignore 1 sentence(s) with no tokens.\n"
     ]
    },
    {
     "name": "stderr",
     "output_type": "stream",
     "text": [
      "\r",
      " 43%|████▎     | 7738/17957 [14:51<06:25, 26.50it/s]"
     ]
    },
    {
     "name": "stdout",
     "output_type": "stream",
     "text": [
      "2019-11-21 18:15:38,803 ACHTUNG: An empty Sentence was created! Are there empty strings in your dataset?\n",
      "2019-11-21 18:15:38,806 Ignore 1 sentence(s) with no tokens.\n"
     ]
    },
    {
     "name": "stderr",
     "output_type": "stream",
     "text": [
      "\r",
      " 43%|████▎     | 7742/17957 [14:51<06:07, 27.82it/s]"
     ]
    },
    {
     "name": "stdout",
     "output_type": "stream",
     "text": [
      "2019-11-21 18:15:38,972 ACHTUNG: An empty Sentence was created! Are there empty strings in your dataset?\n",
      "2019-11-21 18:15:38,977 Ignore 1 sentence(s) with no tokens.\n"
     ]
    },
    {
     "name": "stderr",
     "output_type": "stream",
     "text": [
      "\r",
      " 43%|████▎     | 7746/17957 [14:52<06:15, 27.19it/s]"
     ]
    },
    {
     "name": "stdout",
     "output_type": "stream",
     "text": [
      "2019-11-21 18:15:39,077 ACHTUNG: An empty Sentence was created! Are there empty strings in your dataset?\n",
      "2019-11-21 18:15:39,080 Ignore 1 sentence(s) with no tokens.\n"
     ]
    },
    {
     "name": "stderr",
     "output_type": "stream",
     "text": [
      " 43%|████▎     | 7756/17957 [14:52<05:02, 33.68it/s]"
     ]
    },
    {
     "name": "stdout",
     "output_type": "stream",
     "text": [
      "2019-11-21 18:15:39,195 ACHTUNG: An empty Sentence was created! Are there empty strings in your dataset?\n",
      "2019-11-21 18:15:39,197 Ignore 1 sentence(s) with no tokens.\n",
      "2019-11-21 18:15:39,291 ACHTUNG: An empty Sentence was created! Are there empty strings in your dataset?\n",
      "2019-11-21 18:15:39,294 Ignore 1 sentence(s) with no tokens.\n"
     ]
    },
    {
     "name": "stderr",
     "output_type": "stream",
     "text": [
      "\r",
      " 43%|████▎     | 7763/17957 [14:52<04:17, 39.54it/s]"
     ]
    },
    {
     "name": "stdout",
     "output_type": "stream",
     "text": [
      "2019-11-21 18:15:39,458 ACHTUNG: An empty Sentence was created! Are there empty strings in your dataset?\n",
      "2019-11-21 18:15:39,461 Ignore 1 sentence(s) with no tokens.\n"
     ]
    },
    {
     "name": "stderr",
     "output_type": "stream",
     "text": [
      " 43%|████▎     | 7773/17957 [14:52<04:18, 39.39it/s]"
     ]
    },
    {
     "name": "stdout",
     "output_type": "stream",
     "text": [
      "2019-11-21 18:15:39,567 ACHTUNG: An empty Sentence was created! Are there empty strings in your dataset?\n",
      "2019-11-21 18:15:39,570 Ignore 1 sentence(s) with no tokens.\n"
     ]
    },
    {
     "name": "stderr",
     "output_type": "stream",
     "text": [
      "\r",
      " 43%|████▎     | 7778/17957 [14:52<04:11, 40.52it/s]"
     ]
    },
    {
     "name": "stdout",
     "output_type": "stream",
     "text": [
      "2019-11-21 18:15:39,682 ACHTUNG: An empty Sentence was created! Are there empty strings in your dataset?\n",
      "2019-11-21 18:15:39,684 Ignore 1 sentence(s) with no tokens.\n",
      "2019-11-21 18:15:39,778 ACHTUNG: An empty Sentence was created! Are there empty strings in your dataset?\n",
      "2019-11-21 18:15:39,781 Ignore 1 sentence(s) with no tokens.\n"
     ]
    },
    {
     "name": "stderr",
     "output_type": "stream",
     "text": [
      "\r",
      " 43%|████▎     | 7785/17957 [14:52<03:41, 45.89it/s]"
     ]
    },
    {
     "name": "stdout",
     "output_type": "stream",
     "text": [
      "2019-11-21 18:15:39,925 ACHTUNG: An empty Sentence was created! Are there empty strings in your dataset?\n",
      "2019-11-21 18:15:39,928 Ignore 1 sentence(s) with no tokens.\n"
     ]
    },
    {
     "name": "stderr",
     "output_type": "stream",
     "text": [
      "\r",
      " 43%|████▎     | 7791/17957 [14:53<03:59, 42.49it/s]"
     ]
    },
    {
     "name": "stdout",
     "output_type": "stream",
     "text": [
      "2019-11-21 18:15:40,023 ACHTUNG: An empty Sentence was created! Are there empty strings in your dataset?\n",
      "2019-11-21 18:15:40,024 Ignore 1 sentence(s) with no tokens.\n"
     ]
    },
    {
     "name": "stderr",
     "output_type": "stream",
     "text": [
      "\r",
      " 43%|████▎     | 7797/17957 [14:53<03:38, 46.47it/s]"
     ]
    },
    {
     "name": "stdout",
     "output_type": "stream",
     "text": [
      "2019-11-21 18:15:40,200 ACHTUNG: An empty Sentence was created! Are there empty strings in your dataset?\n",
      "2019-11-21 18:15:40,203 Ignore 1 sentence(s) with no tokens.\n"
     ]
    },
    {
     "name": "stderr",
     "output_type": "stream",
     "text": [
      "\r",
      " 43%|████▎     | 7803/17957 [14:53<04:30, 37.58it/s]"
     ]
    },
    {
     "name": "stdout",
     "output_type": "stream",
     "text": [
      "2019-11-21 18:15:40,375 ACHTUNG: An empty Sentence was created! Are there empty strings in your dataset?\n",
      "2019-11-21 18:15:40,378 Ignore 1 sentence(s) with no tokens.\n"
     ]
    },
    {
     "name": "stderr",
     "output_type": "stream",
     "text": [
      " 53%|█████▎    | 9467/17957 [18:37<33:23,  4.24it/s]  "
     ]
    },
    {
     "name": "stdout",
     "output_type": "stream",
     "text": [
      "2019-11-21 18:19:24,373 ACHTUNG: An empty Sentence was created! Are there empty strings in your dataset?\n",
      "2019-11-21 18:19:24,376 Ignore 1 sentence(s) with no tokens.\n",
      "2019-11-21 18:19:24,454 ACHTUNG: An empty Sentence was created! Are there empty strings in your dataset?\n",
      "2019-11-21 18:19:24,457 Ignore 1 sentence(s) with no tokens.\n"
     ]
    },
    {
     "name": "stderr",
     "output_type": "stream",
     "text": [
      " 53%|█████▎    | 9477/17957 [18:37<18:05,  7.81it/s]"
     ]
    },
    {
     "name": "stdout",
     "output_type": "stream",
     "text": [
      "2019-11-21 18:19:24,632 ACHTUNG: An empty Sentence was created! Are there empty strings in your dataset?\n",
      "2019-11-21 18:19:24,636 Ignore 1 sentence(s) with no tokens.\n"
     ]
    },
    {
     "name": "stderr",
     "output_type": "stream",
     "text": [
      "\r",
      " 53%|█████▎    | 9482/17957 [18:37<13:33, 10.42it/s]"
     ]
    },
    {
     "name": "stdout",
     "output_type": "stream",
     "text": [
      "2019-11-21 18:19:24,762 ACHTUNG: An empty Sentence was created! Are there empty strings in your dataset?\n",
      "2019-11-21 18:19:24,765 Ignore 1 sentence(s) with no tokens.\n",
      "2019-11-21 18:19:24,768 ACHTUNG: An empty Sentence was created! Are there empty strings in your dataset?\n",
      "2019-11-21 18:19:24,770 Ignore 1 sentence(s) with no tokens.\n",
      "2019-11-21 18:19:24,773 ACHTUNG: An empty Sentence was created! Are there empty strings in your dataset?\n",
      "2019-11-21 18:19:24,774 Ignore 1 sentence(s) with no tokens.\n"
     ]
    },
    {
     "name": "stderr",
     "output_type": "stream",
     "text": [
      " 53%|█████▎    | 9549/17957 [18:39<04:17, 32.61it/s]"
     ]
    },
    {
     "name": "stdout",
     "output_type": "stream",
     "text": [
      "2019-11-21 18:19:26,694 ACHTUNG: An empty Sentence was created! Are there empty strings in your dataset?\n",
      "2019-11-21 18:19:26,697 Ignore 1 sentence(s) with no tokens.\n"
     ]
    },
    {
     "name": "stderr",
     "output_type": "stream",
     "text": [
      " 54%|█████▎    | 9615/17957 [18:41<04:36, 30.18it/s]"
     ]
    },
    {
     "name": "stdout",
     "output_type": "stream",
     "text": [
      "2019-11-21 18:19:28,742 ACHTUNG: An empty Sentence was created! Are there empty strings in your dataset?\n",
      "2019-11-21 18:19:28,745 Ignore 1 sentence(s) with no tokens.\n",
      "2019-11-21 18:19:28,747 ACHTUNG: An empty Sentence was created! Are there empty strings in your dataset?\n",
      "2019-11-21 18:19:28,749 Ignore 1 sentence(s) with no tokens.\n",
      "2019-11-21 18:19:28,787 ACHTUNG: An empty Sentence was created! Are there empty strings in your dataset?\n",
      "2019-11-21 18:19:28,789 Ignore 1 sentence(s) with no tokens.\n"
     ]
    },
    {
     "name": "stderr",
     "output_type": "stream",
     "text": [
      "\r",
      " 54%|█████▎    | 9622/17957 [18:41<03:52, 35.87it/s]"
     ]
    },
    {
     "name": "stdout",
     "output_type": "stream",
     "text": [
      "2019-11-21 18:19:28,949 ACHTUNG: An empty Sentence was created! Are there empty strings in your dataset?\n",
      "2019-11-21 18:19:28,952 Ignore 1 sentence(s) with no tokens.\n"
     ]
    },
    {
     "name": "stderr",
     "output_type": "stream",
     "text": [
      "\r",
      " 54%|█████▎    | 9627/17957 [18:42<03:47, 36.61it/s]"
     ]
    },
    {
     "name": "stdout",
     "output_type": "stream",
     "text": [
      "2019-11-21 18:19:29,082 ACHTUNG: An empty Sentence was created! Are there empty strings in your dataset?\n",
      "2019-11-21 18:19:29,084 Ignore 1 sentence(s) with no tokens.\n"
     ]
    },
    {
     "name": "stderr",
     "output_type": "stream",
     "text": [
      "\r",
      " 54%|█████▎    | 9632/17957 [18:42<03:42, 37.33it/s]"
     ]
    },
    {
     "name": "stdout",
     "output_type": "stream",
     "text": [
      "2019-11-21 18:19:29,209 ACHTUNG: An empty Sentence was created! Are there empty strings in your dataset?\n",
      "2019-11-21 18:19:29,211 Ignore 1 sentence(s) with no tokens.\n"
     ]
    },
    {
     "name": "stderr",
     "output_type": "stream",
     "text": [
      " 54%|█████▎    | 9640/17957 [18:42<03:50, 36.04it/s]"
     ]
    },
    {
     "name": "stdout",
     "output_type": "stream",
     "text": [
      "2019-11-21 18:19:29,335 ACHTUNG: An empty Sentence was created! Are there empty strings in your dataset?\n",
      "2019-11-21 18:19:29,338 Ignore 1 sentence(s) with no tokens.\n"
     ]
    },
    {
     "name": "stderr",
     "output_type": "stream",
     "text": [
      "\r",
      " 54%|█████▎    | 9645/17957 [18:42<03:47, 36.47it/s]"
     ]
    },
    {
     "name": "stdout",
     "output_type": "stream",
     "text": [
      "2019-11-21 18:19:29,469 ACHTUNG: An empty Sentence was created! Are there empty strings in your dataset?\n",
      "2019-11-21 18:19:29,471 Ignore 1 sentence(s) with no tokens.\n"
     ]
    },
    {
     "name": "stderr",
     "output_type": "stream",
     "text": [
      "\r",
      " 54%|█████▎    | 9649/17957 [18:42<03:46, 36.62it/s]"
     ]
    },
    {
     "name": "stdout",
     "output_type": "stream",
     "text": [
      "2019-11-21 18:19:29,604 ACHTUNG: An empty Sentence was created! Are there empty strings in your dataset?\n",
      "2019-11-21 18:19:29,607 Ignore 1 sentence(s) with no tokens.\n",
      "2019-11-21 18:19:29,609 ACHTUNG: An empty Sentence was created! Are there empty strings in your dataset?\n",
      "2019-11-21 18:19:29,610 Ignore 1 sentence(s) with no tokens.\n",
      "2019-11-21 18:19:29,612 ACHTUNG: An empty Sentence was created! Are there empty strings in your dataset?\n",
      "2019-11-21 18:19:29,615 Ignore 1 sentence(s) with no tokens.\n",
      "2019-11-21 18:19:29,620 ACHTUNG: An empty Sentence was created! Are there empty strings in your dataset?\n",
      "2019-11-21 18:19:29,622 Ignore 1 sentence(s) with no tokens.\n",
      "2019-11-21 18:19:29,624 ACHTUNG: An empty Sentence was created! Are there empty strings in your dataset?\n",
      "2019-11-21 18:19:29,626 Ignore 1 sentence(s) with no tokens.\n"
     ]
    },
    {
     "name": "stderr",
     "output_type": "stream",
     "text": [
      "\r",
      " 54%|█████▍    | 9657/17957 [18:42<03:13, 42.83it/s]"
     ]
    },
    {
     "name": "stdout",
     "output_type": "stream",
     "text": [
      "2019-11-21 18:19:29,793 ACHTUNG: An empty Sentence was created! Are there empty strings in your dataset?\n",
      "2019-11-21 18:19:29,795 Ignore 1 sentence(s) with no tokens.\n"
     ]
    },
    {
     "name": "stderr",
     "output_type": "stream",
     "text": [
      "\r",
      " 54%|█████▍    | 9662/17957 [18:42<03:23, 40.70it/s]"
     ]
    },
    {
     "name": "stdout",
     "output_type": "stream",
     "text": [
      "2019-11-21 18:19:29,929 ACHTUNG: An empty Sentence was created! Are there empty strings in your dataset?\n",
      "2019-11-21 18:19:29,931 Ignore 1 sentence(s) with no tokens.\n"
     ]
    },
    {
     "name": "stderr",
     "output_type": "stream",
     "text": [
      "\r",
      " 54%|█████▍    | 9667/17957 [18:43<03:27, 39.92it/s]"
     ]
    },
    {
     "name": "stdout",
     "output_type": "stream",
     "text": [
      "2019-11-21 18:19:30,055 ACHTUNG: An empty Sentence was created! Are there empty strings in your dataset?\n",
      "2019-11-21 18:19:30,058 Ignore 1 sentence(s) with no tokens.\n"
     ]
    },
    {
     "name": "stderr",
     "output_type": "stream",
     "text": [
      "\r",
      " 54%|█████▍    | 9672/17957 [18:43<03:30, 39.27it/s]"
     ]
    },
    {
     "name": "stdout",
     "output_type": "stream",
     "text": [
      "2019-11-21 18:19:30,191 ACHTUNG: An empty Sentence was created! Are there empty strings in your dataset?\n",
      "2019-11-21 18:19:30,194 Ignore 1 sentence(s) with no tokens.\n"
     ]
    },
    {
     "name": "stderr",
     "output_type": "stream",
     "text": [
      "\r",
      " 54%|█████▍    | 9677/17957 [18:43<03:28, 39.69it/s]"
     ]
    },
    {
     "name": "stdout",
     "output_type": "stream",
     "text": [
      "2019-11-21 18:19:30,303 ACHTUNG: An empty Sentence was created! Are there empty strings in your dataset?\n",
      "2019-11-21 18:19:30,307 Ignore 1 sentence(s) with no tokens.\n"
     ]
    },
    {
     "name": "stderr",
     "output_type": "stream",
     "text": [
      "\r",
      " 54%|█████▍    | 9682/17957 [18:43<03:21, 40.99it/s]"
     ]
    },
    {
     "name": "stdout",
     "output_type": "stream",
     "text": [
      "2019-11-21 18:19:30,419 ACHTUNG: An empty Sentence was created! Are there empty strings in your dataset?\n",
      "2019-11-21 18:19:30,422 Ignore 1 sentence(s) with no tokens.\n",
      "2019-11-21 18:19:30,425 ACHTUNG: An empty Sentence was created! Are there empty strings in your dataset?\n",
      "2019-11-21 18:19:30,427 Ignore 1 sentence(s) with no tokens.\n"
     ]
    },
    {
     "name": "stderr",
     "output_type": "stream",
     "text": [
      "\r",
      " 54%|█████▍    | 9687/17957 [18:43<03:14, 42.55it/s]"
     ]
    },
    {
     "name": "stdout",
     "output_type": "stream",
     "text": [
      "2019-11-21 18:19:30,432 ACHTUNG: An empty Sentence was created! Are there empty strings in your dataset?\n",
      "2019-11-21 18:19:30,434 Ignore 1 sentence(s) with no tokens.\n",
      "2019-11-21 18:19:30,435 ACHTUNG: An empty Sentence was created! Are there empty strings in your dataset?\n",
      "2019-11-21 18:19:30,437 Ignore 1 sentence(s) with no tokens.\n",
      "2019-11-21 18:19:30,438 ACHTUNG: An empty Sentence was created! Are there empty strings in your dataset?\n",
      "2019-11-21 18:19:30,439 Ignore 1 sentence(s) with no tokens.\n"
     ]
    },
    {
     "name": "stderr",
     "output_type": "stream",
     "text": [
      "\r",
      " 54%|█████▍    | 9693/17957 [18:43<02:57, 46.54it/s]"
     ]
    },
    {
     "name": "stdout",
     "output_type": "stream",
     "text": [
      "2019-11-21 18:19:30,602 ACHTUNG: An empty Sentence was created! Are there empty strings in your dataset?\n",
      "2019-11-21 18:19:30,606 Ignore 1 sentence(s) with no tokens.\n"
     ]
    },
    {
     "name": "stderr",
     "output_type": "stream",
     "text": [
      "\r",
      " 54%|█████▍    | 9698/17957 [18:43<03:10, 43.42it/s]"
     ]
    },
    {
     "name": "stdout",
     "output_type": "stream",
     "text": [
      "2019-11-21 18:19:30,727 ACHTUNG: An empty Sentence was created! Are there empty strings in your dataset?\n",
      "2019-11-21 18:19:30,729 Ignore 1 sentence(s) with no tokens.\n"
     ]
    },
    {
     "name": "stderr",
     "output_type": "stream",
     "text": [
      "\r",
      " 54%|█████▍    | 9703/17957 [18:43<03:16, 41.90it/s]"
     ]
    },
    {
     "name": "stdout",
     "output_type": "stream",
     "text": [
      "2019-11-21 18:19:30,854 ACHTUNG: An empty Sentence was created! Are there empty strings in your dataset?\n",
      "2019-11-21 18:19:30,855 Ignore 1 sentence(s) with no tokens.\n"
     ]
    },
    {
     "name": "stderr",
     "output_type": "stream",
     "text": [
      "\r",
      " 54%|█████▍    | 9708/17957 [18:44<03:10, 43.38it/s]"
     ]
    },
    {
     "name": "stdout",
     "output_type": "stream",
     "text": [
      "2019-11-21 18:19:30,941 ACHTUNG: An empty Sentence was created! Are there empty strings in your dataset?\n",
      "2019-11-21 18:19:30,942 Ignore 1 sentence(s) with no tokens.\n"
     ]
    },
    {
     "name": "stderr",
     "output_type": "stream",
     "text": [
      "\r",
      " 54%|█████▍    | 9714/17957 [18:44<03:06, 44.23it/s]"
     ]
    },
    {
     "name": "stdout",
     "output_type": "stream",
     "text": [
      "2019-11-21 18:19:31,058 ACHTUNG: An empty Sentence was created! Are there empty strings in your dataset?\n",
      "2019-11-21 18:19:31,059 Ignore 1 sentence(s) with no tokens.\n"
     ]
    },
    {
     "name": "stderr",
     "output_type": "stream",
     "text": [
      "\r",
      " 54%|█████▍    | 9719/17957 [18:44<03:27, 39.73it/s]"
     ]
    },
    {
     "name": "stdout",
     "output_type": "stream",
     "text": [
      "2019-11-21 18:19:31,246 ACHTUNG: An empty Sentence was created! Are there empty strings in your dataset?\n",
      "2019-11-21 18:19:31,247 Ignore 1 sentence(s) with no tokens.\n",
      "2019-11-21 18:19:31,248 ACHTUNG: An empty Sentence was created! Are there empty strings in your dataset?\n",
      "2019-11-21 18:19:31,248 Ignore 1 sentence(s) with no tokens.\n",
      "2019-11-21 18:19:31,249 ACHTUNG: An empty Sentence was created! Are there empty strings in your dataset?\n",
      "2019-11-21 18:19:31,249 Ignore 1 sentence(s) with no tokens.\n",
      "2019-11-21 18:19:31,250 ACHTUNG: An empty Sentence was created! Are there empty strings in your dataset?\n",
      "2019-11-21 18:19:31,250 Ignore 1 sentence(s) with no tokens.\n",
      "2019-11-21 18:19:31,251 ACHTUNG: An empty Sentence was created! Are there empty strings in your dataset?\n",
      "2019-11-21 18:19:31,252 Ignore 1 sentence(s) with no tokens.\n"
     ]
    },
    {
     "name": "stderr",
     "output_type": "stream",
     "text": [
      "\r",
      " 54%|█████▍    | 9726/17957 [18:44<03:01, 45.33it/s]"
     ]
    },
    {
     "name": "stdout",
     "output_type": "stream",
     "text": [
      "2019-11-21 18:19:31,411 ACHTUNG: An empty Sentence was created! Are there empty strings in your dataset?\n",
      "2019-11-21 18:19:31,413 Ignore 1 sentence(s) with no tokens.\n"
     ]
    },
    {
     "name": "stderr",
     "output_type": "stream",
     "text": [
      "\r",
      " 54%|█████▍    | 9731/17957 [18:44<03:10, 43.13it/s]"
     ]
    },
    {
     "name": "stdout",
     "output_type": "stream",
     "text": [
      "2019-11-21 18:19:31,537 ACHTUNG: An empty Sentence was created! Are there empty strings in your dataset?\n",
      "2019-11-21 18:19:31,540 Ignore 1 sentence(s) with no tokens.\n"
     ]
    },
    {
     "name": "stderr",
     "output_type": "stream",
     "text": [
      "\r",
      " 54%|█████▍    | 9736/17957 [18:44<03:16, 41.89it/s]"
     ]
    },
    {
     "name": "stdout",
     "output_type": "stream",
     "text": [
      "2019-11-21 18:19:31,683 ACHTUNG: An empty Sentence was created! Are there empty strings in your dataset?\n",
      "2019-11-21 18:19:31,685 Ignore 1 sentence(s) with no tokens.\n"
     ]
    },
    {
     "name": "stderr",
     "output_type": "stream",
     "text": [
      "\r",
      " 54%|█████▍    | 9741/17957 [18:44<03:29, 39.29it/s]"
     ]
    },
    {
     "name": "stdout",
     "output_type": "stream",
     "text": [
      "2019-11-21 18:19:31,780 ACHTUNG: An empty Sentence was created! Are there empty strings in your dataset?\n",
      "2019-11-21 18:19:31,784 Ignore 1 sentence(s) with no tokens.\n"
     ]
    },
    {
     "name": "stderr",
     "output_type": "stream",
     "text": [
      "\r",
      " 54%|█████▍    | 9747/17957 [18:44<03:12, 42.61it/s]"
     ]
    },
    {
     "name": "stdout",
     "output_type": "stream",
     "text": [
      "2019-11-21 18:19:31,901 ACHTUNG: An empty Sentence was created! Are there empty strings in your dataset?\n",
      "2019-11-21 18:19:31,903 Ignore 1 sentence(s) with no tokens.\n"
     ]
    },
    {
     "name": "stderr",
     "output_type": "stream",
     "text": [
      " 54%|█████▍    | 9757/17957 [18:45<03:41, 37.00it/s]"
     ]
    },
    {
     "name": "stdout",
     "output_type": "stream",
     "text": [
      "2019-11-21 18:19:32,140 ACHTUNG: An empty Sentence was created! Are there empty strings in your dataset?\n",
      "2019-11-21 18:19:32,143 Ignore 1 sentence(s) with no tokens.\n"
     ]
    },
    {
     "name": "stderr",
     "output_type": "stream",
     "text": [
      "\r",
      " 54%|█████▍    | 9761/17957 [18:45<03:46, 36.15it/s]"
     ]
    },
    {
     "name": "stdout",
     "output_type": "stream",
     "text": [
      "2019-11-21 18:19:32,296 ACHTUNG: An empty Sentence was created! Are there empty strings in your dataset?\n",
      "2019-11-21 18:19:32,298 Ignore 1 sentence(s) with no tokens.\n"
     ]
    },
    {
     "name": "stderr",
     "output_type": "stream",
     "text": [
      " 65%|██████▌   | 11724/17957 [22:52<10:25,  9.96it/s]  "
     ]
    },
    {
     "name": "stdout",
     "output_type": "stream",
     "text": [
      "2019-11-21 18:23:39,438 ACHTUNG: An empty Sentence was created! Are there empty strings in your dataset?\n",
      "2019-11-21 18:23:39,442 Ignore 1 sentence(s) with no tokens.\n",
      "2019-11-21 18:23:39,444 ACHTUNG: An empty Sentence was created! Are there empty strings in your dataset?\n",
      "2019-11-21 18:23:39,447 Ignore 1 sentence(s) with no tokens.\n",
      "2019-11-21 18:23:39,450 ACHTUNG: An empty Sentence was created! Are there empty strings in your dataset?\n",
      "2019-11-21 18:23:39,452 Ignore 1 sentence(s) with no tokens.\n",
      "2019-11-21 18:23:39,454 ACHTUNG: An empty Sentence was created! Are there empty strings in your dataset?\n",
      "2019-11-21 18:23:39,456 Ignore 1 sentence(s) with no tokens.\n",
      "2019-11-21 18:23:39,458 ACHTUNG: An empty Sentence was created! Are there empty strings in your dataset?\n",
      "2019-11-21 18:23:39,460 Ignore 1 sentence(s) with no tokens.\n",
      "2019-11-21 18:23:39,462 ACHTUNG: An empty Sentence was created! Are there empty strings in your dataset?\n",
      "2019-11-21 18:23:39,463 Ignore 1 sentence(s) with no tokens.\n"
     ]
    },
    {
     "name": "stderr",
     "output_type": "stream",
     "text": [
      " 66%|██████▌   | 11789/17957 [22:54<03:33, 28.90it/s]"
     ]
    },
    {
     "name": "stdout",
     "output_type": "stream",
     "text": [
      "2019-11-21 18:23:41,371 ACHTUNG: An empty Sentence was created! Are there empty strings in your dataset?\n",
      "2019-11-21 18:23:41,375 Ignore 1 sentence(s) with no tokens.\n",
      "2019-11-21 18:23:41,377 ACHTUNG: An empty Sentence was created! Are there empty strings in your dataset?\n",
      "2019-11-21 18:23:41,379 Ignore 1 sentence(s) with no tokens.\n",
      "2019-11-21 18:23:41,380 ACHTUNG: An empty Sentence was created! Are there empty strings in your dataset?\n",
      "2019-11-21 18:23:41,382 Ignore 1 sentence(s) with no tokens.\n",
      "2019-11-21 18:23:41,384 ACHTUNG: An empty Sentence was created! Are there empty strings in your dataset?\n",
      "2019-11-21 18:23:41,385 Ignore 1 sentence(s) with no tokens.\n",
      "2019-11-21 18:23:41,387 ACHTUNG: An empty Sentence was created! Are there empty strings in your dataset?\n",
      "2019-11-21 18:23:41,388 Ignore 1 sentence(s) with no tokens.\n",
      "2019-11-21 18:23:41,390 ACHTUNG: An empty Sentence was created! Are there empty strings in your dataset?\n",
      "2019-11-21 18:23:41,392 Ignore 1 sentence(s) with no tokens.\n"
     ]
    },
    {
     "name": "stderr",
     "output_type": "stream",
     "text": [
      " 66%|██████▋   | 11921/17957 [23:00<08:42, 11.56it/s]"
     ]
    },
    {
     "name": "stdout",
     "output_type": "stream",
     "text": [
      "2019-11-21 18:23:47,054 ACHTUNG: An empty Sentence was created! Are there empty strings in your dataset?\n",
      "2019-11-21 18:23:47,056 Ignore 1 sentence(s) with no tokens.\n"
     ]
    },
    {
     "name": "stderr",
     "output_type": "stream",
     "text": [
      " 77%|███████▋  | 13782/17957 [26:08<04:50, 14.38it/s]"
     ]
    },
    {
     "name": "stdout",
     "output_type": "stream",
     "text": [
      "2019-11-21 18:26:54,962 ACHTUNG: An empty Sentence was created! Are there empty strings in your dataset?\n",
      "2019-11-21 18:26:54,964 Ignore 1 sentence(s) with no tokens.\n"
     ]
    },
    {
     "name": "stderr",
     "output_type": "stream",
     "text": [
      "\r",
      " 77%|███████▋  | 13787/17957 [26:08<03:51, 18.02it/s]"
     ]
    },
    {
     "name": "stdout",
     "output_type": "stream",
     "text": [
      "2019-11-21 18:26:54,987 ACHTUNG: An empty Sentence was created! Are there empty strings in your dataset?\n",
      "2019-11-21 18:26:54,989 Ignore 1 sentence(s) with no tokens.\n"
     ]
    },
    {
     "name": "stderr",
     "output_type": "stream",
     "text": [
      " 77%|███████▋  | 13795/17957 [26:08<02:46, 24.95it/s]"
     ]
    },
    {
     "name": "stdout",
     "output_type": "stream",
     "text": [
      "2019-11-21 18:26:55,190 ACHTUNG: An empty Sentence was created! Are there empty strings in your dataset?\n",
      "2019-11-21 18:26:55,192 Ignore 1 sentence(s) with no tokens.\n",
      "2019-11-21 18:26:55,213 ACHTUNG: An empty Sentence was created! Are there empty strings in your dataset?\n",
      "2019-11-21 18:26:55,214 Ignore 1 sentence(s) with no tokens.\n"
     ]
    },
    {
     "name": "stderr",
     "output_type": "stream",
     "text": [
      "\r",
      " 77%|███████▋  | 13801/17957 [26:08<02:20, 29.64it/s]"
     ]
    },
    {
     "name": "stdout",
     "output_type": "stream",
     "text": [
      "2019-11-21 18:26:55,404 ACHTUNG: An empty Sentence was created! Are there empty strings in your dataset?\n",
      "2019-11-21 18:26:55,407 Ignore 1 sentence(s) with no tokens.\n"
     ]
    },
    {
     "name": "stderr",
     "output_type": "stream",
     "text": [
      "\r",
      " 77%|███████▋  | 13806/17957 [26:08<02:04, 33.22it/s]"
     ]
    },
    {
     "name": "stdout",
     "output_type": "stream",
     "text": [
      "2019-11-21 18:26:55,431 ACHTUNG: An empty Sentence was created! Are there empty strings in your dataset?\n",
      "2019-11-21 18:26:55,434 Ignore 1 sentence(s) with no tokens.\n"
     ]
    },
    {
     "name": "stderr",
     "output_type": "stream",
     "text": [
      "\r",
      " 77%|███████▋  | 13811/17957 [26:08<01:55, 35.90it/s]"
     ]
    },
    {
     "name": "stdout",
     "output_type": "stream",
     "text": [
      "2019-11-21 18:26:55,627 ACHTUNG: An empty Sentence was created! Are there empty strings in your dataset?\n",
      "2019-11-21 18:26:55,630 Ignore 1 sentence(s) with no tokens.\n"
     ]
    },
    {
     "name": "stderr",
     "output_type": "stream",
     "text": [
      "\r",
      " 77%|███████▋  | 13816/17957 [26:08<01:48, 38.32it/s]"
     ]
    },
    {
     "name": "stdout",
     "output_type": "stream",
     "text": [
      "2019-11-21 18:26:55,654 ACHTUNG: An empty Sentence was created! Are there empty strings in your dataset?\n",
      "2019-11-21 18:26:55,656 Ignore 1 sentence(s) with no tokens.\n"
     ]
    },
    {
     "name": "stderr",
     "output_type": "stream",
     "text": [
      "\r",
      " 77%|███████▋  | 13821/17957 [26:08<01:43, 39.77it/s]"
     ]
    },
    {
     "name": "stdout",
     "output_type": "stream",
     "text": [
      "2019-11-21 18:26:55,848 ACHTUNG: An empty Sentence was created! Are there empty strings in your dataset?\n",
      "2019-11-21 18:26:55,851 Ignore 1 sentence(s) with no tokens.\n"
     ]
    },
    {
     "name": "stderr",
     "output_type": "stream",
     "text": [
      "\r",
      " 77%|███████▋  | 13826/17957 [26:08<01:39, 41.65it/s]"
     ]
    },
    {
     "name": "stdout",
     "output_type": "stream",
     "text": [
      "2019-11-21 18:26:55,878 ACHTUNG: An empty Sentence was created! Are there empty strings in your dataset?\n",
      "2019-11-21 18:26:55,881 Ignore 1 sentence(s) with no tokens.\n"
     ]
    },
    {
     "name": "stderr",
     "output_type": "stream",
     "text": [
      "\r",
      " 77%|███████▋  | 13831/17957 [26:09<01:40, 41.08it/s]"
     ]
    },
    {
     "name": "stdout",
     "output_type": "stream",
     "text": [
      "2019-11-21 18:26:56,079 ACHTUNG: An empty Sentence was created! Are there empty strings in your dataset?\n",
      "2019-11-21 18:26:56,082 Ignore 1 sentence(s) with no tokens.\n"
     ]
    },
    {
     "name": "stderr",
     "output_type": "stream",
     "text": [
      "\r",
      " 77%|███████▋  | 13836/17957 [26:09<01:36, 42.78it/s]"
     ]
    },
    {
     "name": "stdout",
     "output_type": "stream",
     "text": [
      "2019-11-21 18:26:56,110 ACHTUNG: An empty Sentence was created! Are there empty strings in your dataset?\n",
      "2019-11-21 18:26:56,113 Ignore 1 sentence(s) with no tokens.\n"
     ]
    },
    {
     "name": "stderr",
     "output_type": "stream",
     "text": [
      "\r",
      " 77%|███████▋  | 13841/17957 [26:09<01:43, 39.69it/s]"
     ]
    },
    {
     "name": "stdout",
     "output_type": "stream",
     "text": [
      "2019-11-21 18:26:56,345 ACHTUNG: An empty Sentence was created! Are there empty strings in your dataset?\n",
      "2019-11-21 18:26:56,353 Ignore 1 sentence(s) with no tokens.\n"
     ]
    },
    {
     "name": "stderr",
     "output_type": "stream",
     "text": [
      "\r",
      " 77%|███████▋  | 13846/17957 [26:09<01:44, 39.52it/s]"
     ]
    },
    {
     "name": "stdout",
     "output_type": "stream",
     "text": [
      "2019-11-21 18:26:56,386 ACHTUNG: An empty Sentence was created! Are there empty strings in your dataset?\n",
      "2019-11-21 18:26:56,388 Ignore 1 sentence(s) with no tokens.\n"
     ]
    },
    {
     "name": "stderr",
     "output_type": "stream",
     "text": [
      " 77%|███████▋  | 13855/17957 [26:09<01:46, 38.42it/s]"
     ]
    },
    {
     "name": "stdout",
     "output_type": "stream",
     "text": [
      "2019-11-21 18:26:56,602 ACHTUNG: An empty Sentence was created! Are there empty strings in your dataset?\n",
      "2019-11-21 18:26:56,603 Ignore 1 sentence(s) with no tokens.\n",
      "2019-11-21 18:26:56,625 ACHTUNG: An empty Sentence was created! Are there empty strings in your dataset?\n",
      "2019-11-21 18:26:56,627 Ignore 1 sentence(s) with no tokens.\n"
     ]
    },
    {
     "name": "stderr",
     "output_type": "stream",
     "text": [
      "\r",
      " 77%|███████▋  | 13861/17957 [26:09<01:40, 40.93it/s]"
     ]
    },
    {
     "name": "stdout",
     "output_type": "stream",
     "text": [
      "2019-11-21 18:26:56,834 ACHTUNG: An empty Sentence was created! Are there empty strings in your dataset?\n",
      "2019-11-21 18:26:56,837 Ignore 1 sentence(s) with no tokens.\n"
     ]
    },
    {
     "name": "stderr",
     "output_type": "stream",
     "text": [
      "\r",
      " 77%|███████▋  | 13866/17957 [26:09<01:38, 41.71it/s]"
     ]
    },
    {
     "name": "stdout",
     "output_type": "stream",
     "text": [
      "2019-11-21 18:26:56,859 ACHTUNG: An empty Sentence was created! Are there empty strings in your dataset?\n",
      "2019-11-21 18:26:56,861 Ignore 1 sentence(s) with no tokens.\n"
     ]
    },
    {
     "name": "stderr",
     "output_type": "stream",
     "text": [
      "\r",
      " 77%|███████▋  | 13871/17957 [26:10<01:37, 41.85it/s]"
     ]
    },
    {
     "name": "stdout",
     "output_type": "stream",
     "text": [
      "2019-11-21 18:26:57,063 ACHTUNG: An empty Sentence was created! Are there empty strings in your dataset?\n",
      "2019-11-21 18:26:57,065 Ignore 1 sentence(s) with no tokens.\n"
     ]
    },
    {
     "name": "stderr",
     "output_type": "stream",
     "text": [
      "\r",
      " 77%|███████▋  | 13876/17957 [26:10<01:35, 42.88it/s]"
     ]
    },
    {
     "name": "stdout",
     "output_type": "stream",
     "text": [
      "2019-11-21 18:26:57,087 ACHTUNG: An empty Sentence was created! Are there empty strings in your dataset?\n",
      "2019-11-21 18:26:57,089 Ignore 1 sentence(s) with no tokens.\n"
     ]
    },
    {
     "name": "stderr",
     "output_type": "stream",
     "text": [
      " 77%|███████▋  | 13885/17957 [26:10<01:44, 38.80it/s]"
     ]
    },
    {
     "name": "stdout",
     "output_type": "stream",
     "text": [
      "2019-11-21 18:26:57,329 ACHTUNG: An empty Sentence was created! Are there empty strings in your dataset?\n",
      "2019-11-21 18:26:57,331 Ignore 1 sentence(s) with no tokens.\n",
      "2019-11-21 18:26:57,354 ACHTUNG: An empty Sentence was created! Are there empty strings in your dataset?\n",
      "2019-11-21 18:26:57,356 Ignore 1 sentence(s) with no tokens.\n"
     ]
    },
    {
     "name": "stderr",
     "output_type": "stream",
     "text": [
      " 79%|███████▉  | 14195/17957 [26:45<10:35,  5.92it/s]"
     ]
    },
    {
     "name": "stdout",
     "output_type": "stream",
     "text": [
      "2019-11-21 18:27:32,110 ACHTUNG: An empty Sentence was created! Are there empty strings in your dataset?\n",
      "2019-11-21 18:27:32,113 Ignore 1 sentence(s) with no tokens.\n"
     ]
    },
    {
     "name": "stderr",
     "output_type": "stream",
     "text": [
      " 79%|███████▉  | 14202/17957 [26:45<06:15,  9.99it/s]"
     ]
    },
    {
     "name": "stdout",
     "output_type": "stream",
     "text": [
      "2019-11-21 18:27:32,289 ACHTUNG: An empty Sentence was created! Are there empty strings in your dataset?\n",
      "2019-11-21 18:27:32,290 Ignore 1 sentence(s) with no tokens.\n",
      "2019-11-21 18:27:32,354 ACHTUNG: An empty Sentence was created! Are there empty strings in your dataset?\n",
      "2019-11-21 18:27:32,356 Ignore 1 sentence(s) with no tokens.\n"
     ]
    },
    {
     "name": "stderr",
     "output_type": "stream",
     "text": [
      " 79%|███████▉  | 14212/17957 [26:45<03:48, 16.41it/s]"
     ]
    },
    {
     "name": "stdout",
     "output_type": "stream",
     "text": [
      "2019-11-21 18:27:32,552 ACHTUNG: An empty Sentence was created! Are there empty strings in your dataset?\n",
      "2019-11-21 18:27:32,555 Ignore 1 sentence(s) with no tokens.\n"
     ]
    },
    {
     "name": "stderr",
     "output_type": "stream",
     "text": [
      " 79%|███████▉  | 14221/17957 [26:45<02:51, 21.83it/s]"
     ]
    },
    {
     "name": "stdout",
     "output_type": "stream",
     "text": [
      "2019-11-21 18:27:32,771 ACHTUNG: An empty Sentence was created! Are there empty strings in your dataset?\n",
      "2019-11-21 18:27:32,772 Ignore 1 sentence(s) with no tokens.\n",
      "2019-11-21 18:27:32,869 ACHTUNG: An empty Sentence was created! Are there empty strings in your dataset?\n",
      "2019-11-21 18:27:32,873 Ignore 1 sentence(s) with no tokens.\n"
     ]
    },
    {
     "name": "stderr",
     "output_type": "stream",
     "text": [
      " 79%|███████▉  | 14234/17957 [26:46<02:10, 28.55it/s]"
     ]
    },
    {
     "name": "stdout",
     "output_type": "stream",
     "text": [
      "2019-11-21 18:27:33,196 ACHTUNG: An empty Sentence was created! Are there empty strings in your dataset?\n",
      "2019-11-21 18:27:33,199 Ignore 1 sentence(s) with no tokens.\n"
     ]
    },
    {
     "name": "stderr",
     "output_type": "stream",
     "text": [
      "\r",
      " 79%|███████▉  | 14238/17957 [26:46<02:01, 30.70it/s]"
     ]
    },
    {
     "name": "stdout",
     "output_type": "stream",
     "text": [
      "2019-11-21 18:27:33,290 ACHTUNG: An empty Sentence was created! Are there empty strings in your dataset?\n",
      "2019-11-21 18:27:33,297 Ignore 1 sentence(s) with no tokens.\n"
     ]
    },
    {
     "name": "stderr",
     "output_type": "stream",
     "text": [
      " 79%|███████▉  | 14251/17957 [26:46<01:48, 34.04it/s]"
     ]
    },
    {
     "name": "stdout",
     "output_type": "stream",
     "text": [
      "2019-11-21 18:27:33,584 ACHTUNG: An empty Sentence was created! Are there empty strings in your dataset?\n",
      "2019-11-21 18:27:33,588 Ignore 1 sentence(s) with no tokens.\n"
     ]
    },
    {
     "name": "stderr",
     "output_type": "stream",
     "text": [
      "\r",
      " 79%|███████▉  | 14255/17957 [26:46<01:45, 35.19it/s]"
     ]
    },
    {
     "name": "stdout",
     "output_type": "stream",
     "text": [
      "2019-11-21 18:27:33,689 ACHTUNG: An empty Sentence was created! Are there empty strings in your dataset?\n",
      "2019-11-21 18:27:33,691 Ignore 1 sentence(s) with no tokens.\n"
     ]
    },
    {
     "name": "stderr",
     "output_type": "stream",
     "text": [
      " 80%|███████▉  | 14283/17957 [26:47<02:20, 26.17it/s]"
     ]
    },
    {
     "name": "stdout",
     "output_type": "stream",
     "text": [
      "2019-11-21 18:27:34,853 ACHTUNG: An empty Sentence was created! Are there empty strings in your dataset?\n",
      "2019-11-21 18:27:34,855 Ignore 1 sentence(s) with no tokens.\n"
     ]
    },
    {
     "name": "stderr",
     "output_type": "stream",
     "text": [
      " 80%|███████▉  | 14292/17957 [26:48<03:17, 18.53it/s]"
     ]
    },
    {
     "name": "stdout",
     "output_type": "stream",
     "text": [
      "2019-11-21 18:27:35,254 ACHTUNG: An empty Sentence was created! Are there empty strings in your dataset?\n",
      "2019-11-21 18:27:35,255 Ignore 1 sentence(s) with no tokens.\n"
     ]
    },
    {
     "name": "stderr",
     "output_type": "stream",
     "text": [
      "\r",
      " 80%|███████▉  | 14296/17957 [26:48<02:56, 20.75it/s]"
     ]
    },
    {
     "name": "stdout",
     "output_type": "stream",
     "text": [
      "2019-11-21 18:27:35,407 ACHTUNG: An empty Sentence was created! Are there empty strings in your dataset?\n",
      "2019-11-21 18:27:35,407 Ignore 1 sentence(s) with no tokens.\n"
     ]
    },
    {
     "name": "stderr",
     "output_type": "stream",
     "text": [
      " 80%|███████▉  | 14306/17957 [26:48<02:43, 22.34it/s]"
     ]
    },
    {
     "name": "stdout",
     "output_type": "stream",
     "text": [
      "2019-11-21 18:27:35,841 ACHTUNG: An empty Sentence was created! Are there empty strings in your dataset?\n",
      "2019-11-21 18:27:35,850 Ignore 1 sentence(s) with no tokens.\n"
     ]
    },
    {
     "name": "stderr",
     "output_type": "stream",
     "text": [
      " 80%|███████▉  | 14328/17957 [26:49<02:46, 21.75it/s]"
     ]
    },
    {
     "name": "stdout",
     "output_type": "stream",
     "text": [
      "2019-11-21 18:27:36,780 ACHTUNG: An empty Sentence was created! Are there empty strings in your dataset?\n",
      "2019-11-21 18:27:36,781 Ignore 1 sentence(s) with no tokens.\n"
     ]
    },
    {
     "name": "stderr",
     "output_type": "stream",
     "text": [
      "\r",
      " 80%|███████▉  | 14331/17957 [26:50<02:39, 22.80it/s]"
     ]
    },
    {
     "name": "stdout",
     "output_type": "stream",
     "text": [
      "2019-11-21 18:27:36,893 ACHTUNG: An empty Sentence was created! Are there empty strings in your dataset?\n",
      "2019-11-21 18:27:36,893 Ignore 1 sentence(s) with no tokens.\n"
     ]
    },
    {
     "name": "stderr",
     "output_type": "stream",
     "text": [
      " 80%|███████▉  | 14338/17957 [26:50<02:36, 23.08it/s]"
     ]
    },
    {
     "name": "stdout",
     "output_type": "stream",
     "text": [
      "2019-11-21 18:27:37,270 ACHTUNG: An empty Sentence was created! Are there empty strings in your dataset?\n",
      "2019-11-21 18:27:37,271 Ignore 1 sentence(s) with no tokens.\n"
     ]
    },
    {
     "name": "stderr",
     "output_type": "stream",
     "text": [
      " 80%|███████▉  | 14347/17957 [26:50<03:07, 19.25it/s]"
     ]
    },
    {
     "name": "stdout",
     "output_type": "stream",
     "text": [
      "2019-11-21 18:27:37,641 ACHTUNG: An empty Sentence was created! Are there empty strings in your dataset?\n",
      "2019-11-21 18:27:37,642 Ignore 1 sentence(s) with no tokens.\n"
     ]
    },
    {
     "name": "stderr",
     "output_type": "stream",
     "text": [
      "\r",
      " 80%|███████▉  | 14350/17957 [26:50<02:56, 20.47it/s]"
     ]
    },
    {
     "name": "stdout",
     "output_type": "stream",
     "text": [
      "2019-11-21 18:27:37,815 ACHTUNG: An empty Sentence was created! Are there empty strings in your dataset?\n",
      "2019-11-21 18:27:37,816 Ignore 1 sentence(s) with no tokens.\n"
     ]
    },
    {
     "name": "stderr",
     "output_type": "stream",
     "text": [
      " 80%|████████  | 14428/17957 [27:02<10:50,  5.43it/s]"
     ]
    },
    {
     "name": "stdout",
     "output_type": "stream",
     "text": [
      "2019-11-21 18:27:49,604 ACHTUNG: An empty Sentence was created! Are there empty strings in your dataset?\n",
      "2019-11-21 18:27:49,607 Ignore 1 sentence(s) with no tokens.\n"
     ]
    },
    {
     "name": "stderr",
     "output_type": "stream",
     "text": [
      "\r",
      " 80%|████████  | 14432/17957 [27:02<08:05,  7.26it/s]"
     ]
    },
    {
     "name": "stdout",
     "output_type": "stream",
     "text": [
      "2019-11-21 18:27:49,735 ACHTUNG: An empty Sentence was created! Are there empty strings in your dataset?\n",
      "2019-11-21 18:27:49,738 Ignore 1 sentence(s) with no tokens.\n"
     ]
    },
    {
     "name": "stderr",
     "output_type": "stream",
     "text": [
      "\r",
      " 80%|████████  | 14437/17957 [27:02<06:03,  9.68it/s]"
     ]
    },
    {
     "name": "stdout",
     "output_type": "stream",
     "text": [
      "2019-11-21 18:27:49,795 ACHTUNG: An empty Sentence was created! Are there empty strings in your dataset?\n",
      "2019-11-21 18:27:49,797 Ignore 1 sentence(s) with no tokens.\n"
     ]
    },
    {
     "name": "stderr",
     "output_type": "stream",
     "text": [
      " 80%|████████  | 14446/17957 [27:03<03:39, 16.03it/s]"
     ]
    },
    {
     "name": "stdout",
     "output_type": "stream",
     "text": [
      "2019-11-21 18:27:50,061 ACHTUNG: An empty Sentence was created! Are there empty strings in your dataset?\n",
      "2019-11-21 18:27:50,064 Ignore 1 sentence(s) with no tokens.\n"
     ]
    },
    {
     "name": "stderr",
     "output_type": "stream",
     "text": [
      "\r",
      " 80%|████████  | 14452/17957 [27:03<02:54, 20.03it/s]"
     ]
    },
    {
     "name": "stdout",
     "output_type": "stream",
     "text": [
      "2019-11-21 18:27:50,121 ACHTUNG: An empty Sentence was created! Are there empty strings in your dataset?\n",
      "2019-11-21 18:27:50,124 Ignore 1 sentence(s) with no tokens.\n"
     ]
    },
    {
     "name": "stderr",
     "output_type": "stream",
     "text": [
      " 81%|████████  | 14462/17957 [27:03<02:05, 27.76it/s]"
     ]
    },
    {
     "name": "stdout",
     "output_type": "stream",
     "text": [
      "2019-11-21 18:27:50,390 ACHTUNG: An empty Sentence was created! Are there empty strings in your dataset?\n",
      "2019-11-21 18:27:50,391 Ignore 1 sentence(s) with no tokens.\n"
     ]
    },
    {
     "name": "stderr",
     "output_type": "stream",
     "text": [
      "\r",
      " 81%|████████  | 14467/17957 [27:03<01:48, 32.04it/s]"
     ]
    },
    {
     "name": "stdout",
     "output_type": "stream",
     "text": [
      "2019-11-21 18:27:50,518 ACHTUNG: An empty Sentence was created! Are there empty strings in your dataset?\n",
      "2019-11-21 18:27:50,519 Ignore 1 sentence(s) with no tokens.\n"
     ]
    },
    {
     "name": "stderr",
     "output_type": "stream",
     "text": [
      "\r",
      " 81%|████████  | 14472/17957 [27:03<01:44, 33.36it/s]"
     ]
    },
    {
     "name": "stdout",
     "output_type": "stream",
     "text": [
      "2019-11-21 18:27:50,608 ACHTUNG: An empty Sentence was created! Are there empty strings in your dataset?\n",
      "2019-11-21 18:27:50,609 Ignore 1 sentence(s) with no tokens.\n"
     ]
    },
    {
     "name": "stderr",
     "output_type": "stream",
     "text": [
      " 81%|████████  | 14487/17957 [27:04<01:36, 36.00it/s]"
     ]
    },
    {
     "name": "stdout",
     "output_type": "stream",
     "text": [
      "2019-11-21 18:27:50,999 ACHTUNG: An empty Sentence was created! Are there empty strings in your dataset?\n",
      "2019-11-21 18:27:51,001 Ignore 1 sentence(s) with no tokens.\n"
     ]
    },
    {
     "name": "stderr",
     "output_type": "stream",
     "text": [
      " 89%|████████▊ | 15909/17957 [29:57<01:05, 31.18it/s]"
     ]
    },
    {
     "name": "stdout",
     "output_type": "stream",
     "text": [
      "2019-11-21 18:30:44,373 ACHTUNG: An empty Sentence was created! Are there empty strings in your dataset?\n",
      "2019-11-21 18:30:44,376 Ignore 1 sentence(s) with no tokens.\n",
      "2019-11-21 18:30:44,378 ACHTUNG: An empty Sentence was created! Are there empty strings in your dataset?\n",
      "2019-11-21 18:30:44,380 Ignore 1 sentence(s) with no tokens.\n",
      "2019-11-21 18:30:44,436 ACHTUNG: An empty Sentence was created! Are there empty strings in your dataset?\n",
      "2019-11-21 18:30:44,440 Ignore 1 sentence(s) with no tokens.\n",
      "2019-11-21 18:30:44,444 ACHTUNG: An empty Sentence was created! Are there empty strings in your dataset?\n",
      "2019-11-21 18:30:44,448 Ignore 1 sentence(s) with no tokens.\n"
     ]
    },
    {
     "name": "stderr",
     "output_type": "stream",
     "text": [
      " 89%|████████▉ | 16018/17957 [30:01<01:17, 24.97it/s]"
     ]
    },
    {
     "name": "stdout",
     "output_type": "stream",
     "text": [
      "2019-11-21 18:30:48,723 ACHTUNG: An empty Sentence was created! Are there empty strings in your dataset?\n",
      "2019-11-21 18:30:48,726 Ignore 1 sentence(s) with no tokens.\n"
     ]
    },
    {
     "name": "stderr",
     "output_type": "stream",
     "text": [
      "\r",
      " 89%|████████▉ | 16023/17957 [30:01<01:08, 28.19it/s]"
     ]
    },
    {
     "name": "stdout",
     "output_type": "stream",
     "text": [
      "2019-11-21 18:30:48,797 ACHTUNG: An empty Sentence was created! Are there empty strings in your dataset?\n",
      "2019-11-21 18:30:48,799 Ignore 1 sentence(s) with no tokens.\n"
     ]
    },
    {
     "name": "stderr",
     "output_type": "stream",
     "text": [
      "\r",
      " 89%|████████▉ | 16028/17957 [30:02<01:03, 30.59it/s]"
     ]
    },
    {
     "name": "stdout",
     "output_type": "stream",
     "text": [
      "2019-11-21 18:30:48,916 ACHTUNG: An empty Sentence was created! Are there empty strings in your dataset?\n",
      "2019-11-21 18:30:48,919 Ignore 1 sentence(s) with no tokens.\n"
     ]
    },
    {
     "name": "stderr",
     "output_type": "stream",
     "text": [
      "\r",
      " 89%|████████▉ | 16032/17957 [30:02<00:58, 32.79it/s]"
     ]
    },
    {
     "name": "stdout",
     "output_type": "stream",
     "text": [
      "2019-11-21 18:30:48,997 ACHTUNG: An empty Sentence was created! Are there empty strings in your dataset?\n",
      "2019-11-21 18:30:48,999 Ignore 1 sentence(s) with no tokens.\n"
     ]
    },
    {
     "name": "stderr",
     "output_type": "stream",
     "text": [
      "\r",
      " 89%|████████▉ | 16036/17957 [30:02<00:55, 34.59it/s]"
     ]
    },
    {
     "name": "stdout",
     "output_type": "stream",
     "text": [
      "2019-11-21 18:30:49,119 ACHTUNG: An empty Sentence was created! Are there empty strings in your dataset?\n",
      "2019-11-21 18:30:49,121 Ignore 1 sentence(s) with no tokens.\n",
      "2019-11-21 18:30:49,193 ACHTUNG: An empty Sentence was created! Are there empty strings in your dataset?\n",
      "2019-11-21 18:30:49,196 Ignore 1 sentence(s) with no tokens.\n"
     ]
    },
    {
     "name": "stderr",
     "output_type": "stream",
     "text": [
      "\r",
      " 89%|████████▉ | 16041/17957 [30:02<00:50, 37.91it/s]"
     ]
    },
    {
     "name": "stdout",
     "output_type": "stream",
     "text": [
      "2019-11-21 18:30:49,305 ACHTUNG: An empty Sentence was created! Are there empty strings in your dataset?\n",
      "2019-11-21 18:30:49,307 Ignore 1 sentence(s) with no tokens.\n"
     ]
    },
    {
     "name": "stderr",
     "output_type": "stream",
     "text": [
      "\r",
      " 89%|████████▉ | 16046/17957 [30:02<00:48, 39.77it/s]"
     ]
    },
    {
     "name": "stdout",
     "output_type": "stream",
     "text": [
      "2019-11-21 18:30:49,382 ACHTUNG: An empty Sentence was created! Are there empty strings in your dataset?\n",
      "2019-11-21 18:30:49,384 Ignore 1 sentence(s) with no tokens.\n"
     ]
    },
    {
     "name": "stderr",
     "output_type": "stream",
     "text": [
      "\r",
      " 89%|████████▉ | 16051/17957 [30:02<00:49, 38.68it/s]"
     ]
    },
    {
     "name": "stdout",
     "output_type": "stream",
     "text": [
      "2019-11-21 18:30:49,501 ACHTUNG: An empty Sentence was created! Are there empty strings in your dataset?\n",
      "2019-11-21 18:30:49,504 Ignore 1 sentence(s) with no tokens.\n"
     ]
    },
    {
     "name": "stderr",
     "output_type": "stream",
     "text": [
      "\r",
      " 89%|████████▉ | 16056/17957 [30:02<00:48, 39.23it/s]"
     ]
    },
    {
     "name": "stdout",
     "output_type": "stream",
     "text": [
      "2019-11-21 18:30:49,571 ACHTUNG: An empty Sentence was created! Are there empty strings in your dataset?\n",
      "2019-11-21 18:30:49,573 Ignore 1 sentence(s) with no tokens.\n"
     ]
    },
    {
     "name": "stderr",
     "output_type": "stream",
     "text": [
      "\r",
      " 89%|████████▉ | 16061/17957 [30:02<00:48, 39.41it/s]"
     ]
    },
    {
     "name": "stdout",
     "output_type": "stream",
     "text": [
      "2019-11-21 18:30:49,699 ACHTUNG: An empty Sentence was created! Are there empty strings in your dataset?\n",
      "2019-11-21 18:30:49,701 Ignore 1 sentence(s) with no tokens.\n",
      "2019-11-21 18:30:49,769 ACHTUNG: An empty Sentence was created! Are there empty strings in your dataset?\n",
      "2019-11-21 18:30:49,773 Ignore 1 sentence(s) with no tokens.\n"
     ]
    },
    {
     "name": "stderr",
     "output_type": "stream",
     "text": [
      "\r",
      " 89%|████████▉ | 16067/17957 [30:02<00:45, 41.90it/s]"
     ]
    },
    {
     "name": "stdout",
     "output_type": "stream",
     "text": [
      "2019-11-21 18:30:49,877 ACHTUNG: An empty Sentence was created! Are there empty strings in your dataset?\n",
      "2019-11-21 18:30:49,879 Ignore 1 sentence(s) with no tokens.\n"
     ]
    },
    {
     "name": "stderr",
     "output_type": "stream",
     "text": [
      "\r",
      " 90%|████████▉ | 16072/17957 [30:03<00:45, 41.44it/s]"
     ]
    },
    {
     "name": "stdout",
     "output_type": "stream",
     "text": [
      "2019-11-21 18:30:49,945 ACHTUNG: An empty Sentence was created! Are there empty strings in your dataset?\n",
      "2019-11-21 18:30:49,947 Ignore 1 sentence(s) with no tokens.\n"
     ]
    },
    {
     "name": "stderr",
     "output_type": "stream",
     "text": [
      "\r",
      " 90%|████████▉ | 16077/17957 [30:03<00:46, 40.86it/s]"
     ]
    },
    {
     "name": "stdout",
     "output_type": "stream",
     "text": [
      "2019-11-21 18:30:50,200 ACHTUNG: An empty Sentence was created! Are there empty strings in your dataset?\n",
      "2019-11-21 18:30:50,203 Ignore 1 sentence(s) with no tokens.\n"
     ]
    },
    {
     "name": "stderr",
     "output_type": "stream",
     "text": [
      "\r",
      " 90%|████████▉ | 16082/17957 [30:03<00:47, 39.35it/s]"
     ]
    },
    {
     "name": "stdout",
     "output_type": "stream",
     "text": [
      "2019-11-21 18:30:50,271 ACHTUNG: An empty Sentence was created! Are there empty strings in your dataset?\n",
      "2019-11-21 18:30:50,273 Ignore 1 sentence(s) with no tokens.\n"
     ]
    },
    {
     "name": "stderr",
     "output_type": "stream",
     "text": [
      "\r",
      " 90%|████████▉ | 16087/17957 [30:03<00:48, 38.17it/s]"
     ]
    },
    {
     "name": "stdout",
     "output_type": "stream",
     "text": [
      "2019-11-21 18:30:50,454 ACHTUNG: An empty Sentence was created! Are there empty strings in your dataset?\n",
      "2019-11-21 18:30:50,456 Ignore 1 sentence(s) with no tokens.\n"
     ]
    },
    {
     "name": "stderr",
     "output_type": "stream",
     "text": [
      "\r",
      " 90%|████████▉ | 16091/17957 [30:03<00:49, 37.34it/s]"
     ]
    },
    {
     "name": "stdout",
     "output_type": "stream",
     "text": [
      "2019-11-21 18:30:50,543 ACHTUNG: An empty Sentence was created! Are there empty strings in your dataset?\n",
      "2019-11-21 18:30:50,545 Ignore 1 sentence(s) with no tokens.\n"
     ]
    },
    {
     "name": "stderr",
     "output_type": "stream",
     "text": [
      " 90%|████████▉ | 16099/17957 [30:03<00:54, 34.19it/s]"
     ]
    },
    {
     "name": "stdout",
     "output_type": "stream",
     "text": [
      "2019-11-21 18:30:50,710 ACHTUNG: An empty Sentence was created! Are there empty strings in your dataset?\n",
      "2019-11-21 18:30:50,713 Ignore 1 sentence(s) with no tokens.\n",
      "2019-11-21 18:30:50,782 ACHTUNG: An empty Sentence was created! Are there empty strings in your dataset?\n",
      "2019-11-21 18:30:50,784 Ignore 1 sentence(s) with no tokens.\n"
     ]
    },
    {
     "name": "stderr",
     "output_type": "stream",
     "text": [
      " 90%|████████▉ | 16108/17957 [30:04<00:55, 33.22it/s]"
     ]
    },
    {
     "name": "stdout",
     "output_type": "stream",
     "text": [
      "2019-11-21 18:30:50,967 ACHTUNG: An empty Sentence was created! Are there empty strings in your dataset?\n",
      "2019-11-21 18:30:50,970 Ignore 1 sentence(s) with no tokens.\n",
      "2019-11-21 18:30:51,056 ACHTUNG: An empty Sentence was created! Are there empty strings in your dataset?\n",
      "2019-11-21 18:30:51,058 Ignore 1 sentence(s) with no tokens.\n"
     ]
    },
    {
     "name": "stderr",
     "output_type": "stream",
     "text": [
      " 90%|█████████ | 16189/17957 [30:06<00:59, 29.51it/s]"
     ]
    },
    {
     "name": "stdout",
     "output_type": "stream",
     "text": [
      "2019-11-21 18:30:53,669 ACHTUNG: An empty Sentence was created! Are there empty strings in your dataset?\n",
      "2019-11-21 18:30:53,672 Ignore 1 sentence(s) with no tokens.\n"
     ]
    },
    {
     "name": "stderr",
     "output_type": "stream",
     "text": [
      "\r",
      " 90%|█████████ | 16194/17957 [30:06<00:55, 31.64it/s]"
     ]
    },
    {
     "name": "stdout",
     "output_type": "stream",
     "text": [
      "2019-11-21 18:30:53,752 ACHTUNG: An empty Sentence was created! Are there empty strings in your dataset?\n",
      "2019-11-21 18:30:53,755 Ignore 1 sentence(s) with no tokens.\n"
     ]
    },
    {
     "name": "stderr",
     "output_type": "stream",
     "text": [
      "\r",
      " 90%|█████████ | 16198/17957 [30:06<00:52, 33.26it/s]"
     ]
    },
    {
     "name": "stdout",
     "output_type": "stream",
     "text": [
      "2019-11-21 18:30:53,824 ACHTUNG: An empty Sentence was created! Are there empty strings in your dataset?\n",
      "2019-11-21 18:30:53,825 Ignore 1 sentence(s) with no tokens.\n",
      "2019-11-21 18:30:53,900 ACHTUNG: An empty Sentence was created! Are there empty strings in your dataset?\n",
      "2019-11-21 18:30:53,903 Ignore 1 sentence(s) with no tokens.\n"
     ]
    },
    {
     "name": "stderr",
     "output_type": "stream",
     "text": [
      "\r",
      " 90%|█████████ | 16203/17957 [30:07<00:49, 35.37it/s]"
     ]
    },
    {
     "name": "stdout",
     "output_type": "stream",
     "text": [
      "2019-11-21 18:30:53,979 ACHTUNG: An empty Sentence was created! Are there empty strings in your dataset?\n",
      "2019-11-21 18:30:53,983 Ignore 1 sentence(s) with no tokens.\n"
     ]
    },
    {
     "name": "stderr",
     "output_type": "stream",
     "text": [
      "\r",
      " 90%|█████████ | 16207/17957 [30:07<00:49, 35.11it/s]"
     ]
    },
    {
     "name": "stdout",
     "output_type": "stream",
     "text": [
      "2019-11-21 18:30:54,060 ACHTUNG: An empty Sentence was created! Are there empty strings in your dataset?\n",
      "2019-11-21 18:30:54,062 Ignore 1 sentence(s) with no tokens.\n",
      "2019-11-21 18:30:54,139 ACHTUNG: An empty Sentence was created! Are there empty strings in your dataset?\n",
      "2019-11-21 18:30:54,143 Ignore 1 sentence(s) with no tokens.\n"
     ]
    },
    {
     "name": "stderr",
     "output_type": "stream",
     "text": [
      " 92%|█████████▏| 16573/17957 [30:53<02:26,  9.46it/s]"
     ]
    },
    {
     "name": "stdout",
     "output_type": "stream",
     "text": [
      "2019-11-21 18:31:40,702 ACHTUNG: An empty Sentence was created! Are there empty strings in your dataset?\n",
      "2019-11-21 18:31:40,705 Ignore 1 sentence(s) with no tokens.\n"
     ]
    },
    {
     "name": "stderr",
     "output_type": "stream",
     "text": [
      " 93%|█████████▎| 16615/17957 [30:56<01:43, 13.00it/s]"
     ]
    },
    {
     "name": "stdout",
     "output_type": "stream",
     "text": [
      "2019-11-21 18:31:43,647 ACHTUNG: An empty Sentence was created! Are there empty strings in your dataset?\n",
      "2019-11-21 18:31:43,650 Ignore 1 sentence(s) with no tokens.\n"
     ]
    },
    {
     "name": "stderr",
     "output_type": "stream",
     "text": [
      " 94%|█████████▍| 16869/17957 [31:26<02:24,  7.53it/s]"
     ]
    },
    {
     "name": "stdout",
     "output_type": "stream",
     "text": [
      "2019-11-21 18:32:13,409 ACHTUNG: An empty Sentence was created! Are there empty strings in your dataset?\n",
      "2019-11-21 18:32:13,413 Ignore 1 sentence(s) with no tokens.\n"
     ]
    },
    {
     "name": "stderr",
     "output_type": "stream",
     "text": [
      " 97%|█████████▋| 17407/17957 [32:30<00:28, 19.16it/s]"
     ]
    },
    {
     "name": "stdout",
     "output_type": "stream",
     "text": [
      "2019-11-21 18:33:17,414 ACHTUNG: An empty Sentence was created! Are there empty strings in your dataset?\n",
      "2019-11-21 18:33:17,419 Ignore 1 sentence(s) with no tokens.\n",
      "2019-11-21 18:33:17,421 ACHTUNG: An empty Sentence was created! Are there empty strings in your dataset?\n",
      "2019-11-21 18:33:17,423 Ignore 1 sentence(s) with no tokens.\n",
      "2019-11-21 18:33:17,425 ACHTUNG: An empty Sentence was created! Are there empty strings in your dataset?\n",
      "2019-11-21 18:33:17,426 Ignore 1 sentence(s) with no tokens.\n",
      "2019-11-21 18:33:17,429 ACHTUNG: An empty Sentence was created! Are there empty strings in your dataset?\n",
      "2019-11-21 18:33:17,430 Ignore 1 sentence(s) with no tokens.\n",
      "2019-11-21 18:33:17,432 ACHTUNG: An empty Sentence was created! Are there empty strings in your dataset?\n",
      "2019-11-21 18:33:17,434 Ignore 1 sentence(s) with no tokens.\n",
      "2019-11-21 18:33:17,436 ACHTUNG: An empty Sentence was created! Are there empty strings in your dataset?\n",
      "2019-11-21 18:33:17,438 Ignore 1 sentence(s) with no tokens.\n",
      "2019-11-21 18:33:17,439 ACHTUNG: An empty Sentence was created! Are there empty strings in your dataset?\n",
      "2019-11-21 18:33:17,440 Ignore 1 sentence(s) with no tokens.\n",
      "2019-11-21 18:33:17,442 ACHTUNG: An empty Sentence was created! Are there empty strings in your dataset?\n",
      "2019-11-21 18:33:17,443 Ignore 1 sentence(s) with no tokens.\n"
     ]
    },
    {
     "name": "stderr",
     "output_type": "stream",
     "text": [
      " 97%|█████████▋| 17422/17957 [32:30<00:27, 19.60it/s]"
     ]
    },
    {
     "name": "stdout",
     "output_type": "stream",
     "text": [
      "2019-11-21 18:33:17,974 ACHTUNG: An empty Sentence was created! Are there empty strings in your dataset?\n",
      "2019-11-21 18:33:17,976 Ignore 1 sentence(s) with no tokens.\n"
     ]
    },
    {
     "name": "stderr",
     "output_type": "stream",
     "text": [
      " 97%|█████████▋| 17432/17957 [32:31<00:27, 18.99it/s]"
     ]
    },
    {
     "name": "stdout",
     "output_type": "stream",
     "text": [
      "2019-11-21 18:33:18,396 ACHTUNG: An empty Sentence was created! Are there empty strings in your dataset?\n",
      "2019-11-21 18:33:18,400 Ignore 1 sentence(s) with no tokens.\n"
     ]
    },
    {
     "name": "stderr",
     "output_type": "stream",
     "text": [
      " 97%|█████████▋| 17442/17957 [32:31<00:28, 18.11it/s]"
     ]
    },
    {
     "name": "stdout",
     "output_type": "stream",
     "text": [
      "2019-11-21 18:33:18,842 ACHTUNG: An empty Sentence was created! Are there empty strings in your dataset?\n",
      "2019-11-21 18:33:18,845 Ignore 1 sentence(s) with no tokens.\n"
     ]
    },
    {
     "name": "stderr",
     "output_type": "stream",
     "text": [
      " 97%|█████████▋| 17449/17957 [32:32<00:27, 18.61it/s]"
     ]
    },
    {
     "name": "stdout",
     "output_type": "stream",
     "text": [
      "2019-11-21 18:33:19,273 ACHTUNG: An empty Sentence was created! Are there empty strings in your dataset?\n",
      "2019-11-21 18:33:19,274 Ignore 1 sentence(s) with no tokens.\n"
     ]
    },
    {
     "name": "stderr",
     "output_type": "stream",
     "text": [
      " 97%|█████████▋| 17459/17957 [32:32<00:26, 18.90it/s]"
     ]
    },
    {
     "name": "stdout",
     "output_type": "stream",
     "text": [
      "2019-11-21 18:33:19,712 ACHTUNG: An empty Sentence was created! Are there empty strings in your dataset?\n",
      "2019-11-21 18:33:19,714 Ignore 1 sentence(s) with no tokens.\n"
     ]
    },
    {
     "name": "stderr",
     "output_type": "stream",
     "text": [
      " 97%|█████████▋| 17469/17957 [32:33<00:27, 17.86it/s]"
     ]
    },
    {
     "name": "stdout",
     "output_type": "stream",
     "text": [
      "2019-11-21 18:33:20,170 ACHTUNG: An empty Sentence was created! Are there empty strings in your dataset?\n",
      "2019-11-21 18:33:20,174 Ignore 1 sentence(s) with no tokens.\n"
     ]
    },
    {
     "name": "stderr",
     "output_type": "stream",
     "text": [
      " 97%|█████████▋| 17476/17957 [32:33<00:26, 17.97it/s]"
     ]
    },
    {
     "name": "stdout",
     "output_type": "stream",
     "text": [
      "2019-11-21 18:33:20,620 ACHTUNG: An empty Sentence was created! Are there empty strings in your dataset?\n",
      "2019-11-21 18:33:20,622 Ignore 1 sentence(s) with no tokens.\n",
      "2019-11-21 18:33:20,625 ACHTUNG: An empty Sentence was created! Are there empty strings in your dataset?\n",
      "2019-11-21 18:33:20,627 Ignore 1 sentence(s) with no tokens.\n",
      "2019-11-21 18:33:20,628 ACHTUNG: An empty Sentence was created! Are there empty strings in your dataset?\n",
      "2019-11-21 18:33:20,630 Ignore 1 sentence(s) with no tokens.\n"
     ]
    },
    {
     "name": "stderr",
     "output_type": "stream",
     "text": [
      "\r",
      " 97%|█████████▋| 17482/17957 [32:33<00:20, 22.67it/s]"
     ]
    },
    {
     "name": "stdout",
     "output_type": "stream",
     "text": [
      "2019-11-21 18:33:20,633 ACHTUNG: An empty Sentence was created! Are there empty strings in your dataset?\n",
      "2019-11-21 18:33:20,635 Ignore 1 sentence(s) with no tokens.\n",
      "2019-11-21 18:33:20,636 ACHTUNG: An empty Sentence was created! Are there empty strings in your dataset?\n",
      "2019-11-21 18:33:20,638 Ignore 1 sentence(s) with no tokens.\n",
      "2019-11-21 18:33:20,640 ACHTUNG: An empty Sentence was created! Are there empty strings in your dataset?\n",
      "2019-11-21 18:33:20,641 Ignore 1 sentence(s) with no tokens.\n",
      "2019-11-21 18:33:20,643 ACHTUNG: An empty Sentence was created! Are there empty strings in your dataset?\n",
      "2019-11-21 18:33:20,644 Ignore 1 sentence(s) with no tokens.\n",
      "2019-11-21 18:33:20,646 ACHTUNG: An empty Sentence was created! Are there empty strings in your dataset?\n",
      "2019-11-21 18:33:20,647 Ignore 1 sentence(s) with no tokens.\n"
     ]
    },
    {
     "name": "stderr",
     "output_type": "stream",
     "text": [
      " 97%|█████████▋| 17494/17957 [32:34<00:19, 23.86it/s]"
     ]
    },
    {
     "name": "stdout",
     "output_type": "stream",
     "text": [
      "2019-11-21 18:33:21,048 ACHTUNG: An empty Sentence was created! Are there empty strings in your dataset?\n",
      "2019-11-21 18:33:21,050 Ignore 1 sentence(s) with no tokens.\n"
     ]
    },
    {
     "name": "stderr",
     "output_type": "stream",
     "text": [
      " 98%|█████████▊| 17517/17957 [32:35<00:23, 19.01it/s]"
     ]
    },
    {
     "name": "stdout",
     "output_type": "stream",
     "text": [
      "2019-11-21 18:33:22,403 ACHTUNG: An empty Sentence was created! Are there empty strings in your dataset?\n",
      "2019-11-21 18:33:22,406 Ignore 1 sentence(s) with no tokens.\n",
      "2019-11-21 18:33:22,408 ACHTUNG: An empty Sentence was created! Are there empty strings in your dataset?\n",
      "2019-11-21 18:33:22,410 Ignore 1 sentence(s) with no tokens.\n",
      "2019-11-21 18:33:22,412 ACHTUNG: An empty Sentence was created! Are there empty strings in your dataset?\n",
      "2019-11-21 18:33:22,413 Ignore 1 sentence(s) with no tokens.\n",
      "2019-11-21 18:33:22,415 ACHTUNG: An empty Sentence was created! Are there empty strings in your dataset?\n",
      "2019-11-21 18:33:22,416 Ignore 1 sentence(s) with no tokens.\n",
      "2019-11-21 18:33:22,417 ACHTUNG: An empty Sentence was created! Are there empty strings in your dataset?\n",
      "2019-11-21 18:33:22,419 Ignore 1 sentence(s) with no tokens.\n",
      "2019-11-21 18:33:22,420 ACHTUNG: An empty Sentence was created! Are there empty strings in your dataset?\n",
      "2019-11-21 18:33:22,421 Ignore 1 sentence(s) with no tokens.\n",
      "2019-11-21 18:33:22,424 ACHTUNG: An empty Sentence was created! Are there empty strings in your dataset?\n",
      "2019-11-21 18:33:22,425 Ignore 1 sentence(s) with no tokens.\n",
      "2019-11-21 18:33:22,427 ACHTUNG: An empty Sentence was created! Are there empty strings in your dataset?\n",
      "2019-11-21 18:33:22,428 Ignore 1 sentence(s) with no tokens.\n"
     ]
    },
    {
     "name": "stderr",
     "output_type": "stream",
     "text": [
      " 98%|█████████▊| 17533/17957 [32:35<00:18, 23.30it/s]"
     ]
    },
    {
     "name": "stdout",
     "output_type": "stream",
     "text": [
      "2019-11-21 18:33:22,817 ACHTUNG: An empty Sentence was created! Are there empty strings in your dataset?\n",
      "2019-11-21 18:33:22,820 Ignore 1 sentence(s) with no tokens.\n"
     ]
    },
    {
     "name": "stderr",
     "output_type": "stream",
     "text": [
      " 98%|█████████▊| 17541/17957 [32:36<00:18, 22.26it/s]"
     ]
    },
    {
     "name": "stdout",
     "output_type": "stream",
     "text": [
      "2019-11-21 18:33:23,200 ACHTUNG: An empty Sentence was created! Are there empty strings in your dataset?\n",
      "2019-11-21 18:33:23,204 Ignore 1 sentence(s) with no tokens.\n"
     ]
    },
    {
     "name": "stderr",
     "output_type": "stream",
     "text": [
      " 98%|█████████▊| 17551/17957 [32:36<00:19, 21.18it/s]"
     ]
    },
    {
     "name": "stdout",
     "output_type": "stream",
     "text": [
      "2019-11-21 18:33:23,622 ACHTUNG: An empty Sentence was created! Are there empty strings in your dataset?\n",
      "2019-11-21 18:33:23,626 Ignore 1 sentence(s) with no tokens.\n"
     ]
    },
    {
     "name": "stderr",
     "output_type": "stream",
     "text": [
      " 98%|█████████▊| 17560/17957 [32:37<00:20, 19.28it/s]"
     ]
    },
    {
     "name": "stdout",
     "output_type": "stream",
     "text": [
      "2019-11-21 18:33:24,077 ACHTUNG: An empty Sentence was created! Are there empty strings in your dataset?\n",
      "2019-11-21 18:33:24,078 Ignore 1 sentence(s) with no tokens.\n"
     ]
    },
    {
     "name": "stderr",
     "output_type": "stream",
     "text": [
      " 98%|█████████▊| 17570/17957 [32:37<00:20, 19.00it/s]"
     ]
    },
    {
     "name": "stdout",
     "output_type": "stream",
     "text": [
      "2019-11-21 18:33:24,505 ACHTUNG: An empty Sentence was created! Are there empty strings in your dataset?\n",
      "2019-11-21 18:33:24,508 Ignore 1 sentence(s) with no tokens.\n"
     ]
    },
    {
     "name": "stderr",
     "output_type": "stream",
     "text": [
      " 98%|█████████▊| 17579/17957 [32:38<00:18, 20.82it/s]"
     ]
    },
    {
     "name": "stdout",
     "output_type": "stream",
     "text": [
      "2019-11-21 18:33:24,897 ACHTUNG: An empty Sentence was created! Are there empty strings in your dataset?\n",
      "2019-11-21 18:33:24,898 Ignore 1 sentence(s) with no tokens.\n"
     ]
    },
    {
     "name": "stderr",
     "output_type": "stream",
     "text": [
      " 98%|█████████▊| 17586/17957 [32:38<00:18, 20.11it/s]"
     ]
    },
    {
     "name": "stdout",
     "output_type": "stream",
     "text": [
      "2019-11-21 18:33:25,335 ACHTUNG: An empty Sentence was created! Are there empty strings in your dataset?\n",
      "2019-11-21 18:33:25,338 Ignore 1 sentence(s) with no tokens.\n"
     ]
    },
    {
     "name": "stderr",
     "output_type": "stream",
     "text": [
      " 98%|█████████▊| 17595/17957 [32:38<00:19, 18.75it/s]"
     ]
    },
    {
     "name": "stdout",
     "output_type": "stream",
     "text": [
      "2019-11-21 18:33:25,789 ACHTUNG: An empty Sentence was created! Are there empty strings in your dataset?\n",
      "2019-11-21 18:33:25,792 Ignore 1 sentence(s) with no tokens.\n",
      "2019-11-21 18:33:25,794 ACHTUNG: An empty Sentence was created! Are there empty strings in your dataset?\n",
      "2019-11-21 18:33:25,796 Ignore 1 sentence(s) with no tokens.\n"
     ]
    },
    {
     "name": "stderr",
     "output_type": "stream",
     "text": [
      "\r",
      " 98%|█████████▊| 17600/17957 [32:38<00:15, 23.08it/s]"
     ]
    },
    {
     "name": "stdout",
     "output_type": "stream",
     "text": [
      "2019-11-21 18:33:25,800 ACHTUNG: An empty Sentence was created! Are there empty strings in your dataset?\n",
      "2019-11-21 18:33:25,802 Ignore 1 sentence(s) with no tokens.\n",
      "2019-11-21 18:33:25,803 ACHTUNG: An empty Sentence was created! Are there empty strings in your dataset?\n",
      "2019-11-21 18:33:25,805 Ignore 1 sentence(s) with no tokens.\n",
      "2019-11-21 18:33:25,807 ACHTUNG: An empty Sentence was created! Are there empty strings in your dataset?\n",
      "2019-11-21 18:33:25,809 Ignore 1 sentence(s) with no tokens.\n",
      "2019-11-21 18:33:25,810 ACHTUNG: An empty Sentence was created! Are there empty strings in your dataset?\n",
      "2019-11-21 18:33:25,813 Ignore 1 sentence(s) with no tokens.\n",
      "2019-11-21 18:33:25,815 ACHTUNG: An empty Sentence was created! Are there empty strings in your dataset?\n",
      "2019-11-21 18:33:25,817 Ignore 1 sentence(s) with no tokens.\n",
      "2019-11-21 18:33:25,818 ACHTUNG: An empty Sentence was created! Are there empty strings in your dataset?\n",
      "2019-11-21 18:33:25,820 Ignore 1 sentence(s) with no tokens.\n"
     ]
    },
    {
     "name": "stderr",
     "output_type": "stream",
     "text": [
      " 98%|█████████▊| 17613/17957 [32:39<00:14, 23.97it/s]"
     ]
    },
    {
     "name": "stdout",
     "output_type": "stream",
     "text": [
      "2019-11-21 18:33:26,254 ACHTUNG: An empty Sentence was created! Are there empty strings in your dataset?\n",
      "2019-11-21 18:33:26,257 Ignore 1 sentence(s) with no tokens.\n"
     ]
    },
    {
     "name": "stderr",
     "output_type": "stream",
     "text": [
      " 99%|█████████▉| 17826/17957 [32:54<00:15,  8.46it/s]"
     ]
    },
    {
     "name": "stdout",
     "output_type": "stream",
     "text": [
      "2019-11-21 18:33:41,606 ACHTUNG: An empty Sentence was created! Are there empty strings in your dataset?\n",
      "2019-11-21 18:33:41,608 Ignore 1 sentence(s) with no tokens.\n",
      "2019-11-21 18:33:41,610 ACHTUNG: An empty Sentence was created! Are there empty strings in your dataset?\n",
      "2019-11-21 18:33:41,612 Ignore 1 sentence(s) with no tokens.\n",
      "2019-11-21 18:33:41,614 ACHTUNG: An empty Sentence was created! Are there empty strings in your dataset?\n",
      "2019-11-21 18:33:41,615 Ignore 1 sentence(s) with no tokens.\n",
      "2019-11-21 18:33:41,618 ACHTUNG: An empty Sentence was created! Are there empty strings in your dataset?\n",
      "2019-11-21 18:33:41,619 Ignore 1 sentence(s) with no tokens.\n",
      "2019-11-21 18:33:41,622 ACHTUNG: An empty Sentence was created! Are there empty strings in your dataset?\n",
      "2019-11-21 18:33:41,623 Ignore 1 sentence(s) with no tokens.\n"
     ]
    },
    {
     "name": "stderr",
     "output_type": "stream",
     "text": [
      "\r",
      " 99%|█████████▉| 17835/17957 [32:54<00:10, 11.45it/s]"
     ]
    },
    {
     "name": "stdout",
     "output_type": "stream",
     "text": [
      "2019-11-21 18:33:41,763 ACHTUNG: An empty Sentence was created! Are there empty strings in your dataset?\n",
      "2019-11-21 18:33:41,767 Ignore 1 sentence(s) with no tokens.\n"
     ]
    },
    {
     "name": "stderr",
     "output_type": "stream",
     "text": [
      "\r",
      " 99%|█████████▉| 17840/17957 [32:54<00:07, 14.85it/s]"
     ]
    },
    {
     "name": "stdout",
     "output_type": "stream",
     "text": [
      "2019-11-21 18:33:41,939 ACHTUNG: An empty Sentence was created! Are there empty strings in your dataset?\n",
      "2019-11-21 18:33:41,941 Ignore 1 sentence(s) with no tokens.\n",
      "2019-11-21 18:33:41,942 ACHTUNG: An empty Sentence was created! Are there empty strings in your dataset?\n",
      "2019-11-21 18:33:41,943 Ignore 1 sentence(s) with no tokens.\n"
     ]
    },
    {
     "name": "stderr",
     "output_type": "stream",
     "text": [
      "\r",
      " 99%|█████████▉| 17845/17957 [32:55<00:05, 18.81it/s]"
     ]
    },
    {
     "name": "stdout",
     "output_type": "stream",
     "text": [
      "2019-11-21 18:33:41,946 ACHTUNG: An empty Sentence was created! Are there empty strings in your dataset?\n",
      "2019-11-21 18:33:41,948 Ignore 1 sentence(s) with no tokens.\n",
      "2019-11-21 18:33:41,950 ACHTUNG: An empty Sentence was created! Are there empty strings in your dataset?\n",
      "2019-11-21 18:33:41,951 Ignore 1 sentence(s) with no tokens.\n",
      "2019-11-21 18:33:41,953 ACHTUNG: An empty Sentence was created! Are there empty strings in your dataset?\n",
      "2019-11-21 18:33:41,955 Ignore 1 sentence(s) with no tokens.\n"
     ]
    },
    {
     "name": "stderr",
     "output_type": "stream",
     "text": [
      "\r",
      " 99%|█████████▉| 17851/17957 [32:55<00:04, 23.31it/s]"
     ]
    },
    {
     "name": "stdout",
     "output_type": "stream",
     "text": [
      "2019-11-21 18:33:42,123 ACHTUNG: An empty Sentence was created! Are there empty strings in your dataset?\n",
      "2019-11-21 18:33:42,125 Ignore 1 sentence(s) with no tokens.\n"
     ]
    },
    {
     "name": "stderr",
     "output_type": "stream",
     "text": [
      "\r",
      " 99%|█████████▉| 17856/17957 [32:55<00:03, 27.46it/s]"
     ]
    },
    {
     "name": "stdout",
     "output_type": "stream",
     "text": [
      "2019-11-21 18:33:42,298 ACHTUNG: An empty Sentence was created! Are there empty strings in your dataset?\n",
      "2019-11-21 18:33:42,301 Ignore 1 sentence(s) with no tokens.\n"
     ]
    },
    {
     "name": "stderr",
     "output_type": "stream",
     "text": [
      "\r",
      " 99%|█████████▉| 17861/17957 [32:55<00:03, 29.64it/s]"
     ]
    },
    {
     "name": "stdout",
     "output_type": "stream",
     "text": [
      "2019-11-21 18:33:42,304 ACHTUNG: An empty Sentence was created! Are there empty strings in your dataset?\n",
      "2019-11-21 18:33:42,306 Ignore 1 sentence(s) with no tokens.\n",
      "2019-11-21 18:33:42,308 ACHTUNG: An empty Sentence was created! Are there empty strings in your dataset?\n",
      "2019-11-21 18:33:42,309 Ignore 1 sentence(s) with no tokens.\n",
      "2019-11-21 18:33:42,311 ACHTUNG: An empty Sentence was created! Are there empty strings in your dataset?\n",
      "2019-11-21 18:33:42,312 Ignore 1 sentence(s) with no tokens.\n",
      "2019-11-21 18:33:42,314 ACHTUNG: An empty Sentence was created! Are there empty strings in your dataset?\n",
      "2019-11-21 18:33:42,315 Ignore 1 sentence(s) with no tokens.\n"
     ]
    },
    {
     "name": "stderr",
     "output_type": "stream",
     "text": [
      "\r",
      "100%|█████████▉| 17869/17957 [32:55<00:02, 35.30it/s]"
     ]
    },
    {
     "name": "stdout",
     "output_type": "stream",
     "text": [
      "2019-11-21 18:33:42,450 ACHTUNG: An empty Sentence was created! Are there empty strings in your dataset?\n",
      "2019-11-21 18:33:42,452 Ignore 1 sentence(s) with no tokens.\n"
     ]
    },
    {
     "name": "stderr",
     "output_type": "stream",
     "text": [
      "100%|██████████| 17957/17957 [33:06<00:00,  9.04it/s]\n"
     ]
    }
   ],
   "source": [
    "####### Organisms ###################\n",
    "\n",
    "result_file_name = 'PCSE_public_OG_IOB.csv'\n",
    "\n",
    "with open(result_path + result_file_name, 'a', newline='\\n') as f1:\n",
    "    public_writer = csv.writer(f1, delimiter='\\t', lineterminator='\\n')\n",
    "\n",
    "    for index_, each_annotation in tqdm(test_df.iterrows(), total=test_df.shape[0]):\n",
    "        text_temp = each_annotation['sentence'].encode('utf-8').decode('utf-8')\n",
    "\n",
    "        sentence = ' '.join(wordpunct_tokenize(text_temp))\n",
    "        sentence = Sentence(sentence)\n",
    "        organisms_model.predict(sentence)\n",
    "\n",
    "        for token in sentence:\n",
    "        # print what you need (text and NER value)\n",
    "            ner_value = token.get_tag('ner').value\n",
    "            if  ner_value == 'B-Species':\n",
    "                ner_value = 'B-OG'\n",
    "                \n",
    "            if  ner_value == 'I-Species':\n",
    "                ner_value = 'I-OG'   \n",
    "            \n",
    "            public_writer.writerow([token.text, ner_value])\n",
    "        public_writer.writerow('')"
   ]
  },
  {
   "cell_type": "code",
   "execution_count": 9,
   "metadata": {},
   "outputs": [],
   "source": [
    "import csv\n",
    "data_path = '/nfs/gns/literature/machine-learning/Datasets/NER_Datasets/linnaeus-IOB/test.tsv'\n",
    "targets = ['Species']\n",
    "                \n",
    "def load_IOBdataset(data_path,targets):\n",
    "    \"\"\"\n",
    "    load the IOB dataset, which is in csv format\n",
    "    :param data_path: path to the csv file of IOB dataset\n",
    "    :type data_path: str\n",
    "    :param targets: a list of interest types\n",
    "    :type targets: List[str]\n",
    "    :return: list of labels of every sentence in dataset\n",
    "    :rtype: List[List[str\n",
    "    \"\"\"\n",
    "    X = []\n",
    "    y = []\n",
    "\n",
    "    X_sent = []\n",
    "    y_sent = []\n",
    "    with open(data_path, 'r') as f:\n",
    "        csv_reader = csv.reader(f, delimiter='\\t')\n",
    "        for line in csv_reader:\n",
    "            if line:\n",
    "                token, tag = line[0], line[-1]\n",
    "                X_sent.append(token)\n",
    "                if targets:\n",
    "                    if tag.split('-')[-1] in set(targets):\n",
    "                        y_sent.append(tag)\n",
    "                    else:\n",
    "                        y_sent.append('O')\n",
    "                else:\n",
    "                    y_sent.append(tag)\n",
    "            else:\n",
    "                # we reach the end of a sentence\n",
    "                if len(X_sent) > 0:\n",
    "                    X.append(' '.join(X_sent))\n",
    "                    y.append(y_sent)\n",
    "                X_sent = []\n",
    "                y_sent = []\n",
    "    return X, y\n",
    "\n",
    "linnaeus_test,y = load_IOBdataset(data_path,targets)"
   ]
  },
  {
   "cell_type": "code",
   "execution_count": 11,
   "metadata": {},
   "outputs": [
    {
     "name": "stderr",
     "output_type": "stream",
     "text": [
      "100%|██████████| 5170/5170 [13:35<00:00,  6.34it/s]   \n"
     ]
    }
   ],
   "source": [
    "result_path = '/nfs/gns/literature/machine-learning/Santosh/public_train_test/'\n",
    "result_file_name = 'linnaeus_test_IOB.csv'\n",
    "\n",
    "from nltk.tokenize import wordpunct_tokenize, WordPunctTokenizer\n",
    "from tqdm import tqdm\n",
    "import csv\n",
    "import pandas as pd\n",
    "\n",
    "with open(result_path + result_file_name, 'a', newline='\\n') as f1:\n",
    "    public_writer = csv.writer(f1, delimiter='\\t', lineterminator='\\n')\n",
    "\n",
    "    for each_sentence in tqdm(linnaeus_test):\n",
    "        text_temp = each_sentence\n",
    "\n",
    "#         sentence = ' '.join(text_temp.split(' '))\n",
    "        sentence = Sentence(text_temp)\n",
    "        organisms_model.predict(sentence)\n",
    "\n",
    "        for token in sentence:\n",
    "        # print what you need (text and NER value)\n",
    "            ner_value = token.get_tag('ner').value\n",
    "#             if  ner_value == 'B-GP':\n",
    "#                 ner_value = 'B-GENE'\n",
    "                \n",
    "#             if  ner_value == 'I-GP':\n",
    "#                 ner_value = 'I-GENE'  \n",
    "            \n",
    "            public_writer.writerow([token.text, ner_value])\n",
    "        public_writer.writerow('')"
   ]
  }
 ],
 "metadata": {
  "kernelspec": {
   "display_name": "Python 3",
   "language": "python",
   "name": "python3"
  },
  "language_info": {
   "codemirror_mode": {
    "name": "ipython",
    "version": 3
   },
   "file_extension": ".py",
   "mimetype": "text/x-python",
   "name": "python",
   "nbconvert_exporter": "python",
   "pygments_lexer": "ipython3",
   "version": "3.7.4"
  }
 },
 "nbformat": 4,
 "nbformat_minor": 2
}
