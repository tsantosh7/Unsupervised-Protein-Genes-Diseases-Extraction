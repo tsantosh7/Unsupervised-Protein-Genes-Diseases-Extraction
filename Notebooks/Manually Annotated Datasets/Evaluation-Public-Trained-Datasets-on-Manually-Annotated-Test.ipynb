{
 "cells": [
  {
   "cell_type": "code",
   "execution_count": 1,
   "metadata": {},
   "outputs": [],
   "source": [
    "# Code to evaluate EPMC annotation to the Manual Annotation\n",
    "# Code to compare results from ML methods and EPMC annotation\n",
    "\n",
    "# (c) EMBL-EBI, September 2019\n",
    "#\n",
    "# Started: 23 Septmember  2019\n",
    "# Updated: 24 Septmember  2019\n",
    "\n",
    "_author_ = 'Santosh Tirunagari'\n",
    "\n",
    "import os\n",
    "import pandas as pd\n",
    "import glob\n",
    "import json\n",
    "import csv\n",
    "import sys\n",
    "\n",
    "import multiprocessing\n",
    "\n",
    "import numpy as np\n",
    "import re\n",
    "\n",
    "from nltk.tokenize import wordpunct_tokenize\n",
    "\n",
    "import requests\n",
    "# from pprint import pprint\n",
    "import pandas as pd\n",
    "\n",
    "from collections import defaultdict, Counter\n",
    "import time\n",
    "from requests.compat import urljoin\n",
    "\n",
    "from tqdm import tqdm"
   ]
  },
  {
   "cell_type": "code",
   "execution_count": 2,
   "metadata": {},
   "outputs": [],
   "source": [
    "result_path = '/nfs/gns/literature/machine-learning/evaluation/300articles/ML-NER/PCSE/public_trained/'\n",
    "\n",
    "from nltk.tokenize import wordpunct_tokenize, WordPunctTokenizer\n",
    "from tqdm import tqdm\n",
    "import csv\n",
    "import pandas as pd\n",
    "\n",
    "test_df = pd.read_csv('/nfs/gns/literature/machine-learning/evaluation/300articles/CSV formats/test.csv', sep='\\t', names = ['pmc_id','sentence', 'gt'])\n",
    "dev_df = pd.read_csv('/nfs/gns/literature/machine-learning/evaluation/300articles/CSV formats/dev.csv', sep='\\t', names = ['pmc_id','sentence', 'gt'])\n",
    "train_df = pd.read_csv('/nfs/gns/literature/machine-learning/evaluation/300articles/CSV formats/train.csv', sep='\\t', names = ['pmc_id','sentence', 'gt'])"
   ]
  },
  {
   "cell_type": "code",
   "execution_count": 7,
   "metadata": {},
   "outputs": [
    {
     "name": "stdout",
     "output_type": "stream",
     "text": [
      "2019-12-12 17:49:27,526 loading file /nfs/gns/literature/Santosh_Tirunagari/GitHub/flair_models/ner/multi_bio_ner_model_organisms/v01/best-model.pt\n"
     ]
    }
   ],
   "source": [
    "from flair.models import TextClassifier\n",
    "from flair.data import Sentence, Token\n",
    "from flair.models import SequenceTagger\n",
    "\n",
    "flair_models = '/nfs/gns/literature/Santosh_Tirunagari/GitHub/flair_models/ner/'\n",
    "# load the model you trained\n",
    "# gene_model = SequenceTagger.load(flair_models+'multi_bio_ner_model_gene/v01/'+'best-model.pt')\n",
    "# disease_model = SequenceTagger.load(flair_models+'multi_bio_ner_model_disease/'+'best-model.pt')\n",
    "organisms_model = SequenceTagger.load(flair_models+'multi_bio_ner_model_organisms/v01/'+'best-model.pt')\n"
   ]
  },
  {
   "cell_type": "code",
   "execution_count": 9,
   "metadata": {},
   "outputs": [
    {
     "name": "stdout",
     "output_type": "stream",
     "text": [
      "Brief\tO\n",
      "inactivation\tO\n",
      "of\tO\n",
      "c\tO\n",
      "-\tO\n",
      "Myc\tO\n",
      "is\tO\n",
      "mouse\tB-Species\n",
      "not\tO\n",
      "sufficient\tO\n",
      "for\tO\n",
      "sustained\tO\n",
      "regression\tO\n",
      "of\tO\n",
      "c\tO\n",
      "-\tO\n",
      "Myc\tO\n",
      "-\tO\n",
      "induced\tO\n",
      "tumours\tO\n",
      "of\tO\n",
      "pancreatic\tO\n",
      "islets\tO\n",
      "and\tO\n",
      "skin\tO\n",
      "epidermis\tO\n"
     ]
    }
   ],
   "source": [
    "from nltk.tokenize import WordPunctTokenizer\n",
    "\n",
    "text_temp = 'Brief inactivation of c-Myc is mouse not sufficient for sustained regression of c-Myc-induced tumours of pancreatic islets and skin epidermis'\n",
    "\n",
    "sentence = ' '.join(wordpunct_tokenize(text_temp))\n",
    "sentence = Sentence(sentence)\n",
    "organisms_model.predict(sentence)\n",
    "\n",
    "for token in sentence:\n",
    "# print what you need (text and NER value)\n",
    "    print(f\"{token.text}\\t{token.get_tag('ner').value}\")"
   ]
  },
  {
   "cell_type": "code",
   "execution_count": 10,
   "metadata": {},
   "outputs": [
    {
     "name": "stderr",
     "output_type": "stream",
     "text": [
      "  2%|▏         | 1767/80014 [03:40<3:51:59,  5.62it/s]"
     ]
    },
    {
     "name": "stdout",
     "output_type": "stream",
     "text": [
      "2019-12-13 13:56:33,479 ACHTUNG: An empty Sentence was created! Are there empty strings in your dataset?\n",
      "2019-12-13 13:56:33,481 Ignore 1 sentence(s) with no tokens.\n"
     ]
    },
    {
     "name": "stderr",
     "output_type": "stream",
     "text": [
      "  2%|▏         | 1984/80014 [04:18<4:53:15,  4.43it/s]"
     ]
    },
    {
     "name": "stdout",
     "output_type": "stream",
     "text": [
      "2019-12-13 13:57:11,193 ACHTUNG: An empty Sentence was created! Are there empty strings in your dataset?\n",
      "2019-12-13 13:57:11,195 Ignore 1 sentence(s) with no tokens.\n"
     ]
    },
    {
     "name": "stderr",
     "output_type": "stream",
     "text": [
      "  4%|▎         | 2998/80014 [07:26<2:36:14,  8.22it/s] "
     ]
    },
    {
     "name": "stdout",
     "output_type": "stream",
     "text": [
      "2019-12-13 14:00:20,020 ACHTUNG: An empty Sentence was created! Are there empty strings in your dataset?\n",
      "2019-12-13 14:00:20,022 Ignore 1 sentence(s) with no tokens.\n"
     ]
    },
    {
     "name": "stderr",
     "output_type": "stream",
     "text": [
      "\r",
      "  4%|▍         | 3003/80014 [07:26<1:59:15, 10.76it/s]"
     ]
    },
    {
     "name": "stdout",
     "output_type": "stream",
     "text": [
      "2019-12-13 14:00:20,082 ACHTUNG: An empty Sentence was created! Are there empty strings in your dataset?\n",
      "2019-12-13 14:00:20,084 Ignore 1 sentence(s) with no tokens.\n",
      "2019-12-13 14:00:20,158 ACHTUNG: An empty Sentence was created! Are there empty strings in your dataset?\n",
      "2019-12-13 14:00:20,160 Ignore 1 sentence(s) with no tokens.\n"
     ]
    },
    {
     "name": "stderr",
     "output_type": "stream",
     "text": [
      "\r",
      "  4%|▍         | 3009/80014 [07:27<1:33:21, 13.75it/s]"
     ]
    },
    {
     "name": "stdout",
     "output_type": "stream",
     "text": [
      "2019-12-13 14:00:20,236 ACHTUNG: An empty Sentence was created! Are there empty strings in your dataset?\n",
      "2019-12-13 14:00:20,238 Ignore 1 sentence(s) with no tokens.\n"
     ]
    },
    {
     "name": "stderr",
     "output_type": "stream",
     "text": [
      "  4%|▍         | 3021/80014 [07:27<1:00:09, 21.33it/s]"
     ]
    },
    {
     "name": "stdout",
     "output_type": "stream",
     "text": [
      "2019-12-13 14:00:20,713 ACHTUNG: An empty Sentence was created! Are there empty strings in your dataset?\n",
      "2019-12-13 14:00:20,714 Ignore 1 sentence(s) with no tokens.\n"
     ]
    },
    {
     "name": "stderr",
     "output_type": "stream",
     "text": [
      "  4%|▍         | 3030/80014 [07:27<45:50, 27.99it/s]  "
     ]
    },
    {
     "name": "stdout",
     "output_type": "stream",
     "text": [
      "2019-12-13 14:00:20,847 ACHTUNG: An empty Sentence was created! Are there empty strings in your dataset?\n",
      "2019-12-13 14:00:20,848 Ignore 1 sentence(s) with no tokens.\n"
     ]
    },
    {
     "name": "stderr",
     "output_type": "stream",
     "text": [
      "\r",
      "  4%|▍         | 3036/80014 [07:27<40:10, 31.93it/s]"
     ]
    },
    {
     "name": "stdout",
     "output_type": "stream",
     "text": [
      "2019-12-13 14:00:20,973 ACHTUNG: An empty Sentence was created! Are there empty strings in your dataset?\n",
      "2019-12-13 14:00:20,974 Ignore 1 sentence(s) with no tokens.\n"
     ]
    },
    {
     "name": "stderr",
     "output_type": "stream",
     "text": [
      "  4%|▍         | 3082/80014 [07:33<1:56:22, 11.02it/s]"
     ]
    },
    {
     "name": "stdout",
     "output_type": "stream",
     "text": [
      "2019-12-13 14:00:26,458 ACHTUNG: An empty Sentence was created! Are there empty strings in your dataset?\n",
      "2019-12-13 14:00:26,460 Ignore 1 sentence(s) with no tokens.\n"
     ]
    },
    {
     "name": "stderr",
     "output_type": "stream",
     "text": [
      "\r",
      "  4%|▍         | 3088/80014 [07:33<1:28:09, 14.54it/s]"
     ]
    },
    {
     "name": "stdout",
     "output_type": "stream",
     "text": [
      "2019-12-13 14:00:26,530 ACHTUNG: An empty Sentence was created! Are there empty strings in your dataset?\n",
      "2019-12-13 14:00:26,532 Ignore 1 sentence(s) with no tokens.\n",
      "2019-12-13 14:00:26,601 ACHTUNG: An empty Sentence was created! Are there empty strings in your dataset?\n",
      "2019-12-13 14:00:26,602 Ignore 1 sentence(s) with no tokens.\n"
     ]
    },
    {
     "name": "stderr",
     "output_type": "stream",
     "text": [
      "\r",
      "  4%|▍         | 3094/80014 [07:33<1:08:43, 18.65it/s]"
     ]
    },
    {
     "name": "stdout",
     "output_type": "stream",
     "text": [
      "2019-12-13 14:00:26,672 ACHTUNG: An empty Sentence was created! Are there empty strings in your dataset?\n",
      "2019-12-13 14:00:26,674 Ignore 1 sentence(s) with no tokens.\n"
     ]
    },
    {
     "name": "stderr",
     "output_type": "stream",
     "text": [
      "\r",
      "  4%|▍         | 3100/80014 [07:33<54:46, 23.40it/s]  "
     ]
    },
    {
     "name": "stdout",
     "output_type": "stream",
     "text": [
      "2019-12-13 14:00:26,744 ACHTUNG: An empty Sentence was created! Are there empty strings in your dataset?\n",
      "2019-12-13 14:00:26,745 Ignore 1 sentence(s) with no tokens.\n",
      "2019-12-13 14:00:26,814 ACHTUNG: An empty Sentence was created! Are there empty strings in your dataset?\n",
      "2019-12-13 14:00:26,816 Ignore 1 sentence(s) with no tokens.\n"
     ]
    },
    {
     "name": "stderr",
     "output_type": "stream",
     "text": [
      "\r",
      "  4%|▍         | 3106/80014 [07:33<45:21, 28.26it/s]"
     ]
    },
    {
     "name": "stdout",
     "output_type": "stream",
     "text": [
      "2019-12-13 14:00:26,886 ACHTUNG: An empty Sentence was created! Are there empty strings in your dataset?\n",
      "2019-12-13 14:00:26,887 Ignore 1 sentence(s) with no tokens.\n"
     ]
    },
    {
     "name": "stderr",
     "output_type": "stream",
     "text": [
      "\r",
      "  4%|▍         | 3112/80014 [07:33<38:24, 33.37it/s]"
     ]
    },
    {
     "name": "stdout",
     "output_type": "stream",
     "text": [
      "2019-12-13 14:00:26,957 ACHTUNG: An empty Sentence was created! Are there empty strings in your dataset?\n",
      "2019-12-13 14:00:26,959 Ignore 1 sentence(s) with no tokens.\n"
     ]
    },
    {
     "name": "stderr",
     "output_type": "stream",
     "text": [
      "\r",
      "  4%|▍         | 3118/80014 [07:34<36:40, 34.94it/s]"
     ]
    },
    {
     "name": "stdout",
     "output_type": "stream",
     "text": [
      "2019-12-13 14:00:27,110 ACHTUNG: An empty Sentence was created! Are there empty strings in your dataset?\n",
      "2019-12-13 14:00:27,112 Ignore 1 sentence(s) with no tokens.\n"
     ]
    },
    {
     "name": "stderr",
     "output_type": "stream",
     "text": [
      "  4%|▍         | 3360/80014 [08:11<2:41:05,  7.93it/s]"
     ]
    },
    {
     "name": "stdout",
     "output_type": "stream",
     "text": [
      "2019-12-13 14:01:04,773 ACHTUNG: An empty Sentence was created! Are there empty strings in your dataset?\n",
      "2019-12-13 14:01:04,775 Ignore 1 sentence(s) with no tokens.\n"
     ]
    },
    {
     "name": "stderr",
     "output_type": "stream",
     "text": [
      "\r",
      "  4%|▍         | 3364/80014 [08:11<2:03:40, 10.33it/s]"
     ]
    },
    {
     "name": "stdout",
     "output_type": "stream",
     "text": [
      "2019-12-13 14:01:04,882 ACHTUNG: An empty Sentence was created! Are there empty strings in your dataset?\n",
      "2019-12-13 14:01:04,883 Ignore 1 sentence(s) with no tokens.\n"
     ]
    },
    {
     "name": "stderr",
     "output_type": "stream",
     "text": [
      "  4%|▍         | 3379/80014 [08:12<1:00:57, 20.96it/s]"
     ]
    },
    {
     "name": "stdout",
     "output_type": "stream",
     "text": [
      "2019-12-13 14:01:05,198 ACHTUNG: An empty Sentence was created! Are there empty strings in your dataset?\n",
      "2019-12-13 14:01:05,200 Ignore 1 sentence(s) with no tokens.\n"
     ]
    },
    {
     "name": "stderr",
     "output_type": "stream",
     "text": [
      "\r",
      "  4%|▍         | 3386/80014 [08:12<48:53, 26.12it/s]  "
     ]
    },
    {
     "name": "stdout",
     "output_type": "stream",
     "text": [
      "2019-12-13 14:01:05,372 ACHTUNG: An empty Sentence was created! Are there empty strings in your dataset?\n",
      "2019-12-13 14:01:05,374 Ignore 1 sentence(s) with no tokens.\n"
     ]
    },
    {
     "name": "stderr",
     "output_type": "stream",
     "text": [
      "  6%|▌         | 4834/80014 [11:05<43:53, 28.55it/s]  "
     ]
    },
    {
     "name": "stdout",
     "output_type": "stream",
     "text": [
      "2019-12-13 14:03:58,265 ACHTUNG: An empty Sentence was created! Are there empty strings in your dataset?\n",
      "2019-12-13 14:03:58,267 Ignore 1 sentence(s) with no tokens.\n"
     ]
    },
    {
     "name": "stderr",
     "output_type": "stream",
     "text": [
      "\r",
      "  6%|▌         | 4838/80014 [11:05<41:42, 30.05it/s]"
     ]
    },
    {
     "name": "stdout",
     "output_type": "stream",
     "text": [
      "2019-12-13 14:03:58,493 ACHTUNG: An empty Sentence was created! Are there empty strings in your dataset?\n",
      "2019-12-13 14:03:58,494 Ignore 1 sentence(s) with no tokens.\n",
      "2019-12-13 14:03:58,496 ACHTUNG: An empty Sentence was created! Are there empty strings in your dataset?\n",
      "2019-12-13 14:03:58,497 Ignore 1 sentence(s) with no tokens.\n"
     ]
    },
    {
     "name": "stderr",
     "output_type": "stream",
     "text": [
      "\r",
      "  6%|▌         | 4842/80014 [11:05<42:34, 29.43it/s]"
     ]
    },
    {
     "name": "stdout",
     "output_type": "stream",
     "text": [
      "2019-12-13 14:03:58,500 ACHTUNG: An empty Sentence was created! Are there empty strings in your dataset?\n",
      "2019-12-13 14:03:58,502 Ignore 1 sentence(s) with no tokens.\n"
     ]
    },
    {
     "name": "stderr",
     "output_type": "stream",
     "text": [
      "  6%|▌         | 4858/80014 [11:06<58:47, 21.30it/s]"
     ]
    },
    {
     "name": "stdout",
     "output_type": "stream",
     "text": [
      "2019-12-13 14:03:59,232 ACHTUNG: An empty Sentence was created! Are there empty strings in your dataset?\n",
      "2019-12-13 14:03:59,233 Ignore 1 sentence(s) with no tokens.\n",
      "2019-12-13 14:03:59,235 ACHTUNG: An empty Sentence was created! Are there empty strings in your dataset?\n",
      "2019-12-13 14:03:59,236 Ignore 1 sentence(s) with no tokens.\n",
      "2019-12-13 14:03:59,238 ACHTUNG: An empty Sentence was created! Are there empty strings in your dataset?\n",
      "2019-12-13 14:03:59,239 Ignore 1 sentence(s) with no tokens.\n"
     ]
    },
    {
     "name": "stderr",
     "output_type": "stream",
     "text": [
      "  6%|▌         | 4867/80014 [11:06<52:06, 24.03it/s]"
     ]
    },
    {
     "name": "stdout",
     "output_type": "stream",
     "text": [
      "2019-12-13 14:03:59,486 ACHTUNG: An empty Sentence was created! Are there empty strings in your dataset?\n",
      "2019-12-13 14:03:59,487 Ignore 1 sentence(s) with no tokens.\n",
      "2019-12-13 14:03:59,489 ACHTUNG: An empty Sentence was created! Are there empty strings in your dataset?\n",
      "2019-12-13 14:03:59,490 Ignore 1 sentence(s) with no tokens.\n",
      "2019-12-13 14:03:59,492 ACHTUNG: An empty Sentence was created! Are there empty strings in your dataset?\n",
      "2019-12-13 14:03:59,493 Ignore 1 sentence(s) with no tokens.\n"
     ]
    },
    {
     "name": "stderr",
     "output_type": "stream",
     "text": [
      "\r",
      "  6%|▌         | 4874/80014 [11:06<43:29, 28.79it/s]"
     ]
    },
    {
     "name": "stdout",
     "output_type": "stream",
     "text": [
      "2019-12-13 14:03:59,660 ACHTUNG: An empty Sentence was created! Are there empty strings in your dataset?\n",
      "2019-12-13 14:03:59,661 Ignore 1 sentence(s) with no tokens.\n",
      "2019-12-13 14:03:59,663 ACHTUNG: An empty Sentence was created! Are there empty strings in your dataset?\n",
      "2019-12-13 14:03:59,664 Ignore 1 sentence(s) with no tokens.\n",
      "2019-12-13 14:03:59,666 ACHTUNG: An empty Sentence was created! Are there empty strings in your dataset?\n",
      "2019-12-13 14:03:59,667 Ignore 1 sentence(s) with no tokens.\n"
     ]
    },
    {
     "name": "stderr",
     "output_type": "stream",
     "text": [
      " 10%|▉         | 7868/80014 [19:07<3:28:08,  5.78it/s] "
     ]
    },
    {
     "name": "stdout",
     "output_type": "stream",
     "text": [
      "2019-12-13 14:12:00,966 ACHTUNG: An empty Sentence was created! Are there empty strings in your dataset?\n",
      "2019-12-13 14:12:00,967 Ignore 1 sentence(s) with no tokens.\n"
     ]
    },
    {
     "name": "stderr",
     "output_type": "stream",
     "text": [
      "\r",
      " 10%|▉         | 7871/80014 [19:08<3:04:17,  6.52it/s]"
     ]
    },
    {
     "name": "stdout",
     "output_type": "stream",
     "text": [
      "2019-12-13 14:12:01,286 ACHTUNG: An empty Sentence was created! Are there empty strings in your dataset?\n",
      "2019-12-13 14:12:01,288 Ignore 1 sentence(s) with no tokens.\n"
     ]
    },
    {
     "name": "stderr",
     "output_type": "stream",
     "text": [
      "\r",
      " 10%|▉         | 7873/80014 [19:08<2:33:12,  7.85it/s]"
     ]
    },
    {
     "name": "stdout",
     "output_type": "stream",
     "text": [
      "2019-12-13 14:12:01,420 ACHTUNG: An empty Sentence was created! Are there empty strings in your dataset?\n",
      "2019-12-13 14:12:01,422 Ignore 1 sentence(s) with no tokens.\n"
     ]
    },
    {
     "name": "stderr",
     "output_type": "stream",
     "text": [
      " 10%|▉         | 7877/80014 [19:08<3:06:24,  6.45it/s]"
     ]
    },
    {
     "name": "stdout",
     "output_type": "stream",
     "text": [
      "2019-12-13 14:12:02,074 ACHTUNG: An empty Sentence was created! Are there empty strings in your dataset?\n",
      "2019-12-13 14:12:02,075 Ignore 1 sentence(s) with no tokens.\n",
      "2019-12-13 14:12:02,150 ACHTUNG: An empty Sentence was created! Are there empty strings in your dataset?\n",
      "2019-12-13 14:12:02,152 Ignore 1 sentence(s) with no tokens.\n"
     ]
    },
    {
     "name": "stderr",
     "output_type": "stream",
     "text": [
      " 12%|█▏        | 9605/80014 [23:46<35:21, 33.20it/s]  "
     ]
    },
    {
     "name": "stdout",
     "output_type": "stream",
     "text": [
      "2019-12-13 14:16:39,752 ACHTUNG: An empty Sentence was created! Are there empty strings in your dataset?\n",
      "2019-12-13 14:16:39,754 Ignore 1 sentence(s) with no tokens.\n"
     ]
    },
    {
     "name": "stderr",
     "output_type": "stream",
     "text": [
      " 12%|█▏        | 9631/80014 [23:47<28:41, 40.88it/s]"
     ]
    },
    {
     "name": "stdout",
     "output_type": "stream",
     "text": [
      "2019-12-13 14:16:40,407 ACHTUNG: An empty Sentence was created! Are there empty strings in your dataset?\n",
      "2019-12-13 14:16:40,409 Ignore 1 sentence(s) with no tokens.\n"
     ]
    },
    {
     "name": "stderr",
     "output_type": "stream",
     "text": [
      " 12%|█▏        | 9662/80014 [23:47<27:33, 42.54it/s]"
     ]
    },
    {
     "name": "stdout",
     "output_type": "stream",
     "text": [
      "2019-12-13 14:16:41,066 ACHTUNG: An empty Sentence was created! Are there empty strings in your dataset?\n",
      "2019-12-13 14:16:41,067 Ignore 1 sentence(s) with no tokens.\n"
     ]
    },
    {
     "name": "stderr",
     "output_type": "stream",
     "text": [
      " 12%|█▏        | 9693/80014 [23:48<26:44, 43.83it/s]"
     ]
    },
    {
     "name": "stdout",
     "output_type": "stream",
     "text": [
      "2019-12-13 14:16:41,707 ACHTUNG: An empty Sentence was created! Are there empty strings in your dataset?\n",
      "2019-12-13 14:16:41,709 Ignore 1 sentence(s) with no tokens.\n"
     ]
    },
    {
     "name": "stderr",
     "output_type": "stream",
     "text": [
      " 12%|█▏        | 9719/80014 [23:49<26:55, 43.50it/s]"
     ]
    },
    {
     "name": "stdout",
     "output_type": "stream",
     "text": [
      "2019-12-13 14:16:42,356 ACHTUNG: An empty Sentence was created! Are there empty strings in your dataset?\n",
      "2019-12-13 14:16:42,357 Ignore 1 sentence(s) with no tokens.\n"
     ]
    },
    {
     "name": "stderr",
     "output_type": "stream",
     "text": [
      " 12%|█▏        | 9750/80014 [23:49<26:40, 43.91it/s]"
     ]
    },
    {
     "name": "stdout",
     "output_type": "stream",
     "text": [
      "2019-12-13 14:16:42,999 ACHTUNG: An empty Sentence was created! Are there empty strings in your dataset?\n",
      "2019-12-13 14:16:43,000 Ignore 1 sentence(s) with no tokens.\n"
     ]
    },
    {
     "name": "stderr",
     "output_type": "stream",
     "text": [
      " 12%|█▏        | 9776/80014 [23:50<25:03, 46.71it/s]"
     ]
    },
    {
     "name": "stdout",
     "output_type": "stream",
     "text": [
      "2019-12-13 14:16:43,599 ACHTUNG: An empty Sentence was created! Are there empty strings in your dataset?\n",
      "2019-12-13 14:16:43,601 Ignore 1 sentence(s) with no tokens.\n"
     ]
    },
    {
     "name": "stderr",
     "output_type": "stream",
     "text": [
      " 12%|█▏        | 9807/80014 [23:51<26:48, 43.64it/s]"
     ]
    },
    {
     "name": "stdout",
     "output_type": "stream",
     "text": [
      "2019-12-13 14:16:44,252 ACHTUNG: An empty Sentence was created! Are there empty strings in your dataset?\n",
      "2019-12-13 14:16:44,254 Ignore 1 sentence(s) with no tokens.\n"
     ]
    },
    {
     "name": "stderr",
     "output_type": "stream",
     "text": [
      " 12%|█▏        | 9838/80014 [23:51<27:08, 43.08it/s]"
     ]
    },
    {
     "name": "stdout",
     "output_type": "stream",
     "text": [
      "2019-12-13 14:16:44,906 ACHTUNG: An empty Sentence was created! Are there empty strings in your dataset?\n",
      "2019-12-13 14:16:44,907 Ignore 1 sentence(s) with no tokens.\n"
     ]
    },
    {
     "name": "stderr",
     "output_type": "stream",
     "text": [
      " 12%|█▏        | 9864/80014 [23:52<26:51, 43.53it/s]"
     ]
    },
    {
     "name": "stdout",
     "output_type": "stream",
     "text": [
      "2019-12-13 14:16:45,551 ACHTUNG: An empty Sentence was created! Are there empty strings in your dataset?\n",
      "2019-12-13 14:16:45,552 Ignore 1 sentence(s) with no tokens.\n"
     ]
    },
    {
     "name": "stderr",
     "output_type": "stream",
     "text": [
      " 12%|█▏        | 9895/80014 [23:53<25:48, 45.28it/s]"
     ]
    },
    {
     "name": "stdout",
     "output_type": "stream",
     "text": [
      "2019-12-13 14:16:46,175 ACHTUNG: An empty Sentence was created! Are there empty strings in your dataset?\n",
      "2019-12-13 14:16:46,176 Ignore 1 sentence(s) with no tokens.\n"
     ]
    },
    {
     "name": "stderr",
     "output_type": "stream",
     "text": [
      " 12%|█▏        | 9967/80014 [23:54<27:53, 41.87it/s]"
     ]
    },
    {
     "name": "stdout",
     "output_type": "stream",
     "text": [
      "2019-12-13 14:16:48,047 ACHTUNG: An empty Sentence was created! Are there empty strings in your dataset?\n",
      "2019-12-13 14:16:48,048 Ignore 1 sentence(s) with no tokens.\n"
     ]
    },
    {
     "name": "stderr",
     "output_type": "stream",
     "text": [
      " 13%|█▎        | 10113/80014 [23:58<26:44, 43.57it/s]"
     ]
    },
    {
     "name": "stdout",
     "output_type": "stream",
     "text": [
      "2019-12-13 14:16:51,201 ACHTUNG: An empty Sentence was created! Are there empty strings in your dataset?\n",
      "2019-12-13 14:16:51,203 Ignore 1 sentence(s) with no tokens.\n"
     ]
    },
    {
     "name": "stderr",
     "output_type": "stream",
     "text": [
      " 13%|█▎        | 10169/80014 [23:59<24:32, 47.44it/s]"
     ]
    },
    {
     "name": "stdout",
     "output_type": "stream",
     "text": [
      "2019-12-13 14:16:52,416 ACHTUNG: An empty Sentence was created! Are there empty strings in your dataset?\n",
      "2019-12-13 14:16:52,418 Ignore 1 sentence(s) with no tokens.\n"
     ]
    },
    {
     "name": "stderr",
     "output_type": "stream",
     "text": [
      " 13%|█▎        | 10201/80014 [23:59<26:21, 44.14it/s]"
     ]
    },
    {
     "name": "stdout",
     "output_type": "stream",
     "text": [
      "2019-12-13 14:16:53,080 ACHTUNG: An empty Sentence was created! Are there empty strings in your dataset?\n",
      "2019-12-13 14:16:53,081 Ignore 1 sentence(s) with no tokens.\n"
     ]
    },
    {
     "name": "stderr",
     "output_type": "stream",
     "text": [
      " 13%|█▎        | 10415/80014 [24:16<1:57:56,  9.84it/s]"
     ]
    },
    {
     "name": "stdout",
     "output_type": "stream",
     "text": [
      "2019-12-13 14:17:09,403 ACHTUNG: An empty Sentence was created! Are there empty strings in your dataset?\n",
      "2019-12-13 14:17:09,405 Ignore 1 sentence(s) with no tokens.\n"
     ]
    },
    {
     "name": "stderr",
     "output_type": "stream",
     "text": [
      " 13%|█▎        | 10424/80014 [24:16<1:13:00, 15.89it/s]"
     ]
    },
    {
     "name": "stdout",
     "output_type": "stream",
     "text": [
      "2019-12-13 14:17:09,620 ACHTUNG: An empty Sentence was created! Are there empty strings in your dataset?\n",
      "2019-12-13 14:17:09,621 Ignore 1 sentence(s) with no tokens.\n",
      "2019-12-13 14:17:09,657 ACHTUNG: An empty Sentence was created! Are there empty strings in your dataset?\n",
      "2019-12-13 14:17:09,659 Ignore 1 sentence(s) with no tokens.\n"
     ]
    },
    {
     "name": "stderr",
     "output_type": "stream",
     "text": [
      " 13%|█▎        | 10485/80014 [24:19<1:27:47, 13.20it/s]"
     ]
    },
    {
     "name": "stdout",
     "output_type": "stream",
     "text": [
      "2019-12-13 14:17:12,782 ACHTUNG: An empty Sentence was created! Are there empty strings in your dataset?\n",
      "2019-12-13 14:17:12,784 Ignore 1 sentence(s) with no tokens.\n"
     ]
    },
    {
     "name": "stderr",
     "output_type": "stream",
     "text": [
      "\r",
      " 13%|█▎        | 10490/80014 [24:19<1:18:30, 14.76it/s]"
     ]
    },
    {
     "name": "stdout",
     "output_type": "stream",
     "text": [
      "2019-12-13 14:17:13,028 ACHTUNG: An empty Sentence was created! Are there empty strings in your dataset?\n",
      "2019-12-13 14:17:13,030 Ignore 1 sentence(s) with no tokens.\n"
     ]
    },
    {
     "name": "stderr",
     "output_type": "stream",
     "text": [
      "\r",
      " 13%|█▎        | 10495/80014 [24:20<1:12:50, 15.91it/s]"
     ]
    },
    {
     "name": "stdout",
     "output_type": "stream",
     "text": [
      "2019-12-13 14:17:13,291 ACHTUNG: An empty Sentence was created! Are there empty strings in your dataset?\n",
      "2019-12-13 14:17:13,293 Ignore 1 sentence(s) with no tokens.\n"
     ]
    },
    {
     "name": "stderr",
     "output_type": "stream",
     "text": [
      "\r",
      " 13%|█▎        | 10500/80014 [24:20<1:02:01, 18.68it/s]"
     ]
    },
    {
     "name": "stdout",
     "output_type": "stream",
     "text": [
      "2019-12-13 14:17:13,444 ACHTUNG: An empty Sentence was created! Are there empty strings in your dataset?\n",
      "2019-12-13 14:17:13,445 Ignore 1 sentence(s) with no tokens.\n"
     ]
    },
    {
     "name": "stderr",
     "output_type": "stream",
     "text": [
      "\r",
      " 13%|█▎        | 10505/80014 [24:20<53:29, 21.66it/s]  "
     ]
    },
    {
     "name": "stdout",
     "output_type": "stream",
     "text": [
      "2019-12-13 14:17:13,589 ACHTUNG: An empty Sentence was created! Are there empty strings in your dataset?\n",
      "2019-12-13 14:17:13,590 Ignore 1 sentence(s) with no tokens.\n"
     ]
    },
    {
     "name": "stderr",
     "output_type": "stream",
     "text": [
      "\r",
      " 13%|█▎        | 10510/80014 [24:20<48:19, 23.97it/s]"
     ]
    },
    {
     "name": "stdout",
     "output_type": "stream",
     "text": [
      "2019-12-13 14:17:13,746 ACHTUNG: An empty Sentence was created! Are there empty strings in your dataset?\n",
      "2019-12-13 14:17:13,747 Ignore 1 sentence(s) with no tokens.\n"
     ]
    },
    {
     "name": "stderr",
     "output_type": "stream",
     "text": [
      "\r",
      " 13%|█▎        | 10515/80014 [24:20<43:19, 26.73it/s]"
     ]
    },
    {
     "name": "stdout",
     "output_type": "stream",
     "text": [
      "2019-12-13 14:17:13,882 ACHTUNG: An empty Sentence was created! Are there empty strings in your dataset?\n",
      "2019-12-13 14:17:13,884 Ignore 1 sentence(s) with no tokens.\n"
     ]
    },
    {
     "name": "stderr",
     "output_type": "stream",
     "text": [
      " 13%|█▎        | 10524/80014 [24:21<45:27, 25.48it/s]"
     ]
    },
    {
     "name": "stdout",
     "output_type": "stream",
     "text": [
      "2019-12-13 14:17:14,337 ACHTUNG: An empty Sentence was created! Are there empty strings in your dataset?\n",
      "2019-12-13 14:17:14,338 Ignore 1 sentence(s) with no tokens.\n"
     ]
    },
    {
     "name": "stderr",
     "output_type": "stream",
     "text": [
      " 13%|█▎        | 10538/80014 [24:21<43:05, 26.88it/s]"
     ]
    },
    {
     "name": "stdout",
     "output_type": "stream",
     "text": [
      "2019-12-13 14:17:14,750 ACHTUNG: An empty Sentence was created! Are there empty strings in your dataset?\n",
      "2019-12-13 14:17:14,751 Ignore 1 sentence(s) with no tokens.\n"
     ]
    },
    {
     "name": "stderr",
     "output_type": "stream",
     "text": [
      " 13%|█▎        | 10546/80014 [24:21<46:41, 24.80it/s]"
     ]
    },
    {
     "name": "stdout",
     "output_type": "stream",
     "text": [
      "2019-12-13 14:17:15,115 ACHTUNG: An empty Sentence was created! Are there empty strings in your dataset?\n",
      "2019-12-13 14:17:15,116 Ignore 1 sentence(s) with no tokens.\n"
     ]
    },
    {
     "name": "stderr",
     "output_type": "stream",
     "text": [
      " 13%|█▎        | 10554/80014 [24:22<49:13, 23.51it/s]"
     ]
    },
    {
     "name": "stdout",
     "output_type": "stream",
     "text": [
      "2019-12-13 14:17:15,491 ACHTUNG: An empty Sentence was created! Are there empty strings in your dataset?\n",
      "2019-12-13 14:17:15,492 Ignore 1 sentence(s) with no tokens.\n"
     ]
    },
    {
     "name": "stderr",
     "output_type": "stream",
     "text": [
      " 13%|█▎        | 10568/80014 [24:22<55:37, 20.81it/s]"
     ]
    },
    {
     "name": "stdout",
     "output_type": "stream",
     "text": [
      "2019-12-13 14:17:16,075 ACHTUNG: An empty Sentence was created! Are there empty strings in your dataset?\n",
      "2019-12-13 14:17:16,077 Ignore 1 sentence(s) with no tokens.\n"
     ]
    },
    {
     "name": "stderr",
     "output_type": "stream",
     "text": [
      " 13%|█▎        | 10580/80014 [24:23<43:45, 26.45it/s]"
     ]
    },
    {
     "name": "stdout",
     "output_type": "stream",
     "text": [
      "2019-12-13 14:17:16,474 ACHTUNG: An empty Sentence was created! Are there empty strings in your dataset?\n",
      "2019-12-13 14:17:16,475 Ignore 1 sentence(s) with no tokens.\n"
     ]
    },
    {
     "name": "stderr",
     "output_type": "stream",
     "text": [
      " 13%|█▎        | 10589/80014 [24:23<38:14, 30.26it/s]"
     ]
    },
    {
     "name": "stdout",
     "output_type": "stream",
     "text": [
      "2019-12-13 14:17:16,694 ACHTUNG: An empty Sentence was created! Are there empty strings in your dataset?\n",
      "2019-12-13 14:17:16,695 Ignore 1 sentence(s) with no tokens.\n"
     ]
    },
    {
     "name": "stderr",
     "output_type": "stream",
     "text": [
      " 13%|█▎        | 10597/80014 [24:23<37:34, 30.79it/s]"
     ]
    },
    {
     "name": "stdout",
     "output_type": "stream",
     "text": [
      "2019-12-13 14:17:16,943 ACHTUNG: An empty Sentence was created! Are there empty strings in your dataset?\n",
      "2019-12-13 14:17:16,945 Ignore 1 sentence(s) with no tokens.\n"
     ]
    },
    {
     "name": "stderr",
     "output_type": "stream",
     "text": [
      " 13%|█▎        | 10656/80014 [24:33<1:58:28,  9.76it/s]"
     ]
    },
    {
     "name": "stdout",
     "output_type": "stream",
     "text": [
      "2019-12-13 14:17:27,015 ACHTUNG: An empty Sentence was created! Are there empty strings in your dataset?\n",
      "2019-12-13 14:17:27,016 Ignore 1 sentence(s) with no tokens.\n"
     ]
    },
    {
     "name": "stderr",
     "output_type": "stream",
     "text": [
      " 13%|█▎        | 10675/80014 [24:34<1:06:24, 17.40it/s]"
     ]
    },
    {
     "name": "stdout",
     "output_type": "stream",
     "text": [
      "2019-12-13 14:17:27,926 ACHTUNG: An empty Sentence was created! Are there empty strings in your dataset?\n",
      "2019-12-13 14:17:27,928 Ignore 1 sentence(s) with no tokens.\n"
     ]
    },
    {
     "name": "stderr",
     "output_type": "stream",
     "text": [
      "\r",
      " 13%|█▎        | 10679/80014 [24:34<59:35, 19.39it/s]  "
     ]
    },
    {
     "name": "stdout",
     "output_type": "stream",
     "text": [
      "2019-12-13 14:17:28,015 ACHTUNG: An empty Sentence was created! Are there empty strings in your dataset?\n",
      "2019-12-13 14:17:28,016 Ignore 1 sentence(s) with no tokens.\n"
     ]
    },
    {
     "name": "stderr",
     "output_type": "stream",
     "text": [
      " 13%|█▎        | 10743/80014 [24:38<59:22, 19.44it/s]  "
     ]
    },
    {
     "name": "stdout",
     "output_type": "stream",
     "text": [
      "2019-12-13 14:17:32,069 ACHTUNG: An empty Sentence was created! Are there empty strings in your dataset?\n",
      "2019-12-13 14:17:32,071 Ignore 1 sentence(s) with no tokens.\n"
     ]
    },
    {
     "name": "stderr",
     "output_type": "stream",
     "text": [
      " 14%|█▎        | 10815/80014 [24:49<2:26:45,  7.86it/s]"
     ]
    },
    {
     "name": "stdout",
     "output_type": "stream",
     "text": [
      "2019-12-13 14:17:42,831 ACHTUNG: An empty Sentence was created! Are there empty strings in your dataset?\n",
      "2019-12-13 14:17:42,832 Ignore 1 sentence(s) with no tokens.\n"
     ]
    },
    {
     "name": "stderr",
     "output_type": "stream",
     "text": [
      " 14%|█▎        | 10828/80014 [24:50<1:10:18, 16.40it/s]"
     ]
    },
    {
     "name": "stdout",
     "output_type": "stream",
     "text": [
      "2019-12-13 14:17:43,352 ACHTUNG: An empty Sentence was created! Are there empty strings in your dataset?\n",
      "2019-12-13 14:17:43,353 Ignore 1 sentence(s) with no tokens.\n"
     ]
    },
    {
     "name": "stderr",
     "output_type": "stream",
     "text": [
      " 14%|█▎        | 10841/80014 [24:50<49:49, 23.14it/s]  "
     ]
    },
    {
     "name": "stdout",
     "output_type": "stream",
     "text": [
      "2019-12-13 14:17:43,874 ACHTUNG: An empty Sentence was created! Are there empty strings in your dataset?\n",
      "2019-12-13 14:17:43,876 Ignore 1 sentence(s) with no tokens.\n"
     ]
    },
    {
     "name": "stderr",
     "output_type": "stream",
     "text": [
      " 14%|█▎        | 10857/80014 [24:51<45:56, 25.09it/s]"
     ]
    },
    {
     "name": "stdout",
     "output_type": "stream",
     "text": [
      "2019-12-13 14:17:44,398 ACHTUNG: An empty Sentence was created! Are there empty strings in your dataset?\n",
      "2019-12-13 14:17:44,399 Ignore 1 sentence(s) with no tokens.\n"
     ]
    },
    {
     "name": "stderr",
     "output_type": "stream",
     "text": [
      " 14%|█▎        | 10876/80014 [24:52<57:29, 20.04it/s]"
     ]
    },
    {
     "name": "stdout",
     "output_type": "stream",
     "text": [
      "2019-12-13 14:17:45,249 ACHTUNG: An empty Sentence was created! Are there empty strings in your dataset?\n",
      "2019-12-13 14:17:45,251 Ignore 1 sentence(s) with no tokens.\n"
     ]
    },
    {
     "name": "stderr",
     "output_type": "stream",
     "text": [
      " 14%|█▎        | 10889/80014 [24:52<49:45, 23.16it/s]"
     ]
    },
    {
     "name": "stdout",
     "output_type": "stream",
     "text": [
      "2019-12-13 14:17:45,780 ACHTUNG: An empty Sentence was created! Are there empty strings in your dataset?\n",
      "2019-12-13 14:17:45,782 Ignore 1 sentence(s) with no tokens.\n"
     ]
    },
    {
     "name": "stderr",
     "output_type": "stream",
     "text": [
      " 14%|█▎        | 10902/80014 [24:53<46:04, 25.00it/s]"
     ]
    },
    {
     "name": "stdout",
     "output_type": "stream",
     "text": [
      "2019-12-13 14:17:46,313 ACHTUNG: An empty Sentence was created! Are there empty strings in your dataset?\n",
      "2019-12-13 14:17:46,314 Ignore 1 sentence(s) with no tokens.\n"
     ]
    },
    {
     "name": "stderr",
     "output_type": "stream",
     "text": [
      " 14%|█▎        | 10918/80014 [24:53<45:48, 25.14it/s]"
     ]
    },
    {
     "name": "stdout",
     "output_type": "stream",
     "text": [
      "2019-12-13 14:17:46,844 ACHTUNG: An empty Sentence was created! Are there empty strings in your dataset?\n",
      "2019-12-13 14:17:46,845 Ignore 1 sentence(s) with no tokens.\n"
     ]
    },
    {
     "name": "stderr",
     "output_type": "stream",
     "text": [
      " 16%|█▌        | 12484/80014 [28:29<2:47:45,  6.71it/s]"
     ]
    },
    {
     "name": "stdout",
     "output_type": "stream",
     "text": [
      "2019-12-13 14:21:22,340 ACHTUNG: An empty Sentence was created! Are there empty strings in your dataset?\n",
      "2019-12-13 14:21:22,342 Ignore 1 sentence(s) with no tokens.\n"
     ]
    },
    {
     "name": "stderr",
     "output_type": "stream",
     "text": [
      " 16%|█▌        | 12521/80014 [28:30<42:35, 26.42it/s]  "
     ]
    },
    {
     "name": "stdout",
     "output_type": "stream",
     "text": [
      "2019-12-13 14:21:23,398 ACHTUNG: An empty Sentence was created! Are there empty strings in your dataset?\n",
      "2019-12-13 14:21:23,399 Ignore 1 sentence(s) with no tokens.\n"
     ]
    },
    {
     "name": "stderr",
     "output_type": "stream",
     "text": [
      " 16%|█▌        | 12558/80014 [28:31<38:45, 29.01it/s]"
     ]
    },
    {
     "name": "stdout",
     "output_type": "stream",
     "text": [
      "2019-12-13 14:21:24,528 ACHTUNG: An empty Sentence was created! Are there empty strings in your dataset?\n",
      "2019-12-13 14:21:24,529 Ignore 1 sentence(s) with no tokens.\n",
      "2019-12-13 14:21:24,531 ACHTUNG: An empty Sentence was created! Are there empty strings in your dataset?\n",
      "2019-12-13 14:21:24,532 Ignore 1 sentence(s) with no tokens.\n",
      "2019-12-13 14:21:24,594 ACHTUNG: An empty Sentence was created! Are there empty strings in your dataset?\n",
      "2019-12-13 14:21:24,595 Ignore 1 sentence(s) with no tokens.\n"
     ]
    },
    {
     "name": "stderr",
     "output_type": "stream",
     "text": [
      " 16%|█▌        | 12587/80014 [28:32<35:25, 31.73it/s]"
     ]
    },
    {
     "name": "stdout",
     "output_type": "stream",
     "text": [
      "2019-12-13 14:21:25,411 ACHTUNG: An empty Sentence was created! Are there empty strings in your dataset?\n",
      "2019-12-13 14:21:25,412 Ignore 1 sentence(s) with no tokens.\n"
     ]
    },
    {
     "name": "stderr",
     "output_type": "stream",
     "text": [
      " 16%|█▌        | 12595/80014 [28:32<37:29, 29.97it/s]"
     ]
    },
    {
     "name": "stdout",
     "output_type": "stream",
     "text": [
      "2019-12-13 14:21:25,698 ACHTUNG: An empty Sentence was created! Are there empty strings in your dataset?\n",
      "2019-12-13 14:21:25,700 Ignore 1 sentence(s) with no tokens.\n"
     ]
    },
    {
     "name": "stderr",
     "output_type": "stream",
     "text": [
      " 16%|█▌        | 12617/80014 [28:33<31:22, 35.80it/s]"
     ]
    },
    {
     "name": "stdout",
     "output_type": "stream",
     "text": [
      "2019-12-13 14:21:26,225 ACHTUNG: An empty Sentence was created! Are there empty strings in your dataset?\n",
      "2019-12-13 14:21:26,226 Ignore 1 sentence(s) with no tokens.\n"
     ]
    },
    {
     "name": "stderr",
     "output_type": "stream",
     "text": [
      " 16%|█▌        | 12670/80014 [28:42<3:42:03,  5.05it/s]"
     ]
    },
    {
     "name": "stdout",
     "output_type": "stream",
     "text": [
      "2019-12-13 14:21:36,123 ACHTUNG: An empty Sentence was created! Are there empty strings in your dataset?\n",
      "2019-12-13 14:21:36,126 Ignore 1 sentence(s) with no tokens.\n"
     ]
    },
    {
     "name": "stderr",
     "output_type": "stream",
     "text": [
      " 16%|█▌        | 12821/80014 [29:01<3:31:58,  5.28it/s]"
     ]
    },
    {
     "name": "stdout",
     "output_type": "stream",
     "text": [
      "2019-12-13 14:21:54,333 ACHTUNG: An empty Sentence was created! Are there empty strings in your dataset?\n",
      "2019-12-13 14:21:54,335 Ignore 1 sentence(s) with no tokens.\n",
      "2019-12-13 14:21:54,336 ACHTUNG: An empty Sentence was created! Are there empty strings in your dataset?\n",
      "2019-12-13 14:21:54,338 Ignore 1 sentence(s) with no tokens.\n",
      "2019-12-13 14:21:54,413 ACHTUNG: An empty Sentence was created! Are there empty strings in your dataset?\n",
      "2019-12-13 14:21:54,414 Ignore 1 sentence(s) with no tokens.\n",
      "2019-12-13 14:21:54,416 ACHTUNG: An empty Sentence was created! Are there empty strings in your dataset?\n",
      "2019-12-13 14:21:54,417 Ignore 1 sentence(s) with no tokens.\n"
     ]
    },
    {
     "name": "stderr",
     "output_type": "stream",
     "text": [
      "\r",
      " 16%|█▌        | 12827/80014 [29:01<2:34:23,  7.25it/s]"
     ]
    },
    {
     "name": "stdout",
     "output_type": "stream",
     "text": [
      "2019-12-13 14:21:54,479 ACHTUNG: An empty Sentence was created! Are there empty strings in your dataset?\n",
      "2019-12-13 14:21:54,481 Ignore 1 sentence(s) with no tokens.\n"
     ]
    },
    {
     "name": "stderr",
     "output_type": "stream",
     "text": [
      " 16%|█▌        | 12926/80014 [29:04<38:00, 29.42it/s]  "
     ]
    },
    {
     "name": "stdout",
     "output_type": "stream",
     "text": [
      "2019-12-13 14:21:57,847 ACHTUNG: An empty Sentence was created! Are there empty strings in your dataset?\n",
      "2019-12-13 14:21:57,849 Ignore 1 sentence(s) with no tokens.\n"
     ]
    },
    {
     "name": "stderr",
     "output_type": "stream",
     "text": [
      " 16%|█▌        | 12976/80014 [29:08<1:06:49, 16.72it/s]"
     ]
    },
    {
     "name": "stdout",
     "output_type": "stream",
     "text": [
      "2019-12-13 14:22:01,589 ACHTUNG: An empty Sentence was created! Are there empty strings in your dataset?\n",
      "2019-12-13 14:22:01,590 Ignore 1 sentence(s) with no tokens.\n"
     ]
    },
    {
     "name": "stderr",
     "output_type": "stream",
     "text": [
      " 17%|█▋        | 13299/80014 [30:04<40:12, 27.65it/s]  "
     ]
    },
    {
     "name": "stdout",
     "output_type": "stream",
     "text": [
      "2019-12-13 14:22:57,564 ACHTUNG: An empty Sentence was created! Are there empty strings in your dataset?\n",
      "2019-12-13 14:22:57,565 Ignore 1 sentence(s) with no tokens.\n"
     ]
    },
    {
     "name": "stderr",
     "output_type": "stream",
     "text": [
      " 17%|█▋        | 13312/80014 [30:04<35:57, 30.92it/s]"
     ]
    },
    {
     "name": "stdout",
     "output_type": "stream",
     "text": [
      "2019-12-13 14:22:57,982 ACHTUNG: An empty Sentence was created! Are there empty strings in your dataset?\n",
      "2019-12-13 14:22:57,984 Ignore 1 sentence(s) with no tokens.\n"
     ]
    },
    {
     "name": "stderr",
     "output_type": "stream",
     "text": [
      " 17%|█▋        | 13328/80014 [30:05<35:32, 31.27it/s]"
     ]
    },
    {
     "name": "stdout",
     "output_type": "stream",
     "text": [
      "2019-12-13 14:22:58,410 ACHTUNG: An empty Sentence was created! Are there empty strings in your dataset?\n",
      "2019-12-13 14:22:58,412 Ignore 1 sentence(s) with no tokens.\n"
     ]
    },
    {
     "name": "stderr",
     "output_type": "stream",
     "text": [
      " 17%|█▋        | 13355/80014 [30:06<40:58, 27.11it/s]"
     ]
    },
    {
     "name": "stdout",
     "output_type": "stream",
     "text": [
      "2019-12-13 14:22:59,483 ACHTUNG: An empty Sentence was created! Are there empty strings in your dataset?\n",
      "2019-12-13 14:22:59,485 Ignore 1 sentence(s) with no tokens.\n"
     ]
    },
    {
     "name": "stderr",
     "output_type": "stream",
     "text": [
      " 17%|█▋        | 13391/80014 [30:07<36:20, 30.55it/s]"
     ]
    },
    {
     "name": "stdout",
     "output_type": "stream",
     "text": [
      "2019-12-13 14:23:00,553 ACHTUNG: An empty Sentence was created! Are there empty strings in your dataset?\n",
      "2019-12-13 14:23:00,554 Ignore 1 sentence(s) with no tokens.\n"
     ]
    },
    {
     "name": "stderr",
     "output_type": "stream",
     "text": [
      " 17%|█▋        | 13511/80014 [30:13<53:27, 20.73it/s]  "
     ]
    },
    {
     "name": "stdout",
     "output_type": "stream",
     "text": [
      "2019-12-13 14:23:06,313 ACHTUNG: An empty Sentence was created! Are there empty strings in your dataset?\n",
      "2019-12-13 14:23:06,314 Ignore 1 sentence(s) with no tokens.\n"
     ]
    },
    {
     "name": "stderr",
     "output_type": "stream",
     "text": [
      " 17%|█▋        | 13522/80014 [30:13<40:46, 27.18it/s]"
     ]
    },
    {
     "name": "stdout",
     "output_type": "stream",
     "text": [
      "2019-12-13 14:23:06,696 ACHTUNG: An empty Sentence was created! Are there empty strings in your dataset?\n",
      "2019-12-13 14:23:06,696 Ignore 1 sentence(s) with no tokens.\n"
     ]
    },
    {
     "name": "stderr",
     "output_type": "stream",
     "text": [
      " 17%|█▋        | 13551/80014 [30:14<52:55, 20.93it/s]"
     ]
    },
    {
     "name": "stdout",
     "output_type": "stream",
     "text": [
      "2019-12-13 14:23:07,899 ACHTUNG: An empty Sentence was created! Are there empty strings in your dataset?\n",
      "2019-12-13 14:23:07,899 Ignore 1 sentence(s) with no tokens.\n"
     ]
    },
    {
     "name": "stderr",
     "output_type": "stream",
     "text": [
      " 17%|█▋        | 13569/80014 [30:15<59:25, 18.64it/s]"
     ]
    },
    {
     "name": "stdout",
     "output_type": "stream",
     "text": [
      "2019-12-13 14:23:08,628 ACHTUNG: An empty Sentence was created! Are there empty strings in your dataset?\n",
      "2019-12-13 14:23:08,630 Ignore 1 sentence(s) with no tokens.\n"
     ]
    },
    {
     "name": "stderr",
     "output_type": "stream",
     "text": [
      " 17%|█▋        | 13675/80014 [30:20<34:23, 32.15it/s]  "
     ]
    },
    {
     "name": "stdout",
     "output_type": "stream",
     "text": [
      "2019-12-13 14:23:13,423 ACHTUNG: An empty Sentence was created! Are there empty strings in your dataset?\n",
      "2019-12-13 14:23:13,424 Ignore 1 sentence(s) with no tokens.\n"
     ]
    },
    {
     "name": "stderr",
     "output_type": "stream",
     "text": [
      " 17%|█▋        | 13692/80014 [30:20<35:11, 31.41it/s]"
     ]
    },
    {
     "name": "stdout",
     "output_type": "stream",
     "text": [
      "2019-12-13 14:23:13,908 ACHTUNG: An empty Sentence was created! Are there empty strings in your dataset?\n",
      "2019-12-13 14:23:13,910 Ignore 1 sentence(s) with no tokens.\n"
     ]
    },
    {
     "name": "stderr",
     "output_type": "stream",
     "text": [
      " 17%|█▋        | 13735/80014 [30:22<41:16, 26.76it/s]"
     ]
    },
    {
     "name": "stdout",
     "output_type": "stream",
     "text": [
      "2019-12-13 14:23:15,516 ACHTUNG: An empty Sentence was created! Are there empty strings in your dataset?\n",
      "2019-12-13 14:23:15,518 Ignore 1 sentence(s) with no tokens.\n"
     ]
    },
    {
     "name": "stderr",
     "output_type": "stream",
     "text": [
      " 17%|█▋        | 13919/80014 [30:30<56:39, 19.44it/s]  "
     ]
    },
    {
     "name": "stdout",
     "output_type": "stream",
     "text": [
      "2019-12-13 14:23:23,884 ACHTUNG: An empty Sentence was created! Are there empty strings in your dataset?\n",
      "2019-12-13 14:23:23,885 Ignore 1 sentence(s) with no tokens.\n"
     ]
    },
    {
     "name": "stderr",
     "output_type": "stream",
     "text": [
      " 17%|█▋        | 13930/80014 [30:31<41:44, 26.38it/s]"
     ]
    },
    {
     "name": "stdout",
     "output_type": "stream",
     "text": [
      "2019-12-13 14:23:24,267 ACHTUNG: An empty Sentence was created! Are there empty strings in your dataset?\n",
      "2019-12-13 14:23:24,268 Ignore 1 sentence(s) with no tokens.\n"
     ]
    },
    {
     "name": "stderr",
     "output_type": "stream",
     "text": [
      " 17%|█▋        | 13959/80014 [30:32<52:28, 20.98it/s]"
     ]
    },
    {
     "name": "stdout",
     "output_type": "stream",
     "text": [
      "2019-12-13 14:23:25,471 ACHTUNG: An empty Sentence was created! Are there empty strings in your dataset?\n",
      "2019-12-13 14:23:25,472 Ignore 1 sentence(s) with no tokens.\n"
     ]
    },
    {
     "name": "stderr",
     "output_type": "stream",
     "text": [
      " 18%|█▊        | 14082/80014 [30:37<34:13, 32.11it/s]  "
     ]
    },
    {
     "name": "stdout",
     "output_type": "stream",
     "text": [
      "2019-12-13 14:23:30,895 ACHTUNG: An empty Sentence was created! Are there empty strings in your dataset?\n",
      "2019-12-13 14:23:30,897 Ignore 1 sentence(s) with no tokens.\n"
     ]
    },
    {
     "name": "stderr",
     "output_type": "stream",
     "text": [
      " 18%|█▊        | 14099/80014 [30:38<34:57, 31.42it/s]"
     ]
    },
    {
     "name": "stdout",
     "output_type": "stream",
     "text": [
      "2019-12-13 14:23:31,378 ACHTUNG: An empty Sentence was created! Are there empty strings in your dataset?\n",
      "2019-12-13 14:23:31,379 Ignore 1 sentence(s) with no tokens.\n"
     ]
    },
    {
     "name": "stderr",
     "output_type": "stream",
     "text": [
      " 18%|█▊        | 14142/80014 [30:39<41:04, 26.73it/s]"
     ]
    },
    {
     "name": "stdout",
     "output_type": "stream",
     "text": [
      "2019-12-13 14:23:32,987 ACHTUNG: An empty Sentence was created! Are there empty strings in your dataset?\n",
      "2019-12-13 14:23:32,989 Ignore 1 sentence(s) with no tokens.\n"
     ]
    },
    {
     "name": "stderr",
     "output_type": "stream",
     "text": [
      " 21%|██        | 16952/80014 [38:08<3:07:03,  5.62it/s] "
     ]
    },
    {
     "name": "stdout",
     "output_type": "stream",
     "text": [
      "2019-12-13 14:31:01,848 ACHTUNG: An empty Sentence was created! Are there empty strings in your dataset?\n",
      "2019-12-13 14:31:01,850 Ignore 1 sentence(s) with no tokens.\n"
     ]
    },
    {
     "name": "stderr",
     "output_type": "stream",
     "text": [
      " 21%|██        | 16959/80014 [38:08<1:50:05,  9.55it/s]"
     ]
    },
    {
     "name": "stdout",
     "output_type": "stream",
     "text": [
      "2019-12-13 14:31:01,988 ACHTUNG: An empty Sentence was created! Are there empty strings in your dataset?\n",
      "2019-12-13 14:31:01,989 Ignore 1 sentence(s) with no tokens.\n"
     ]
    },
    {
     "name": "stderr",
     "output_type": "stream",
     "text": [
      "\r",
      " 21%|██        | 16964/80014 [38:09<1:25:04, 12.35it/s]"
     ]
    },
    {
     "name": "stdout",
     "output_type": "stream",
     "text": [
      "2019-12-13 14:31:02,175 ACHTUNG: An empty Sentence was created! Are there empty strings in your dataset?\n",
      "2019-12-13 14:31:02,176 Ignore 1 sentence(s) with no tokens.\n"
     ]
    },
    {
     "name": "stderr",
     "output_type": "stream",
     "text": [
      "\r",
      " 21%|██        | 16969/80014 [38:09<1:07:47, 15.50it/s]"
     ]
    },
    {
     "name": "stdout",
     "output_type": "stream",
     "text": [
      "2019-12-13 14:31:02,246 ACHTUNG: An empty Sentence was created! Are there empty strings in your dataset?\n",
      "2019-12-13 14:31:02,247 Ignore 1 sentence(s) with no tokens.\n"
     ]
    },
    {
     "name": "stderr",
     "output_type": "stream",
     "text": [
      "\r",
      " 21%|██        | 16973/80014 [38:09<56:06, 18.72it/s]  "
     ]
    },
    {
     "name": "stdout",
     "output_type": "stream",
     "text": [
      "2019-12-13 14:31:02,381 ACHTUNG: An empty Sentence was created! Are there empty strings in your dataset?\n",
      "2019-12-13 14:31:02,382 Ignore 1 sentence(s) with no tokens.\n",
      "2019-12-13 14:31:02,440 ACHTUNG: An empty Sentence was created! Are there empty strings in your dataset?\n",
      "2019-12-13 14:31:02,441 Ignore 1 sentence(s) with no tokens.\n",
      "2019-12-13 14:31:02,442 ACHTUNG: An empty Sentence was created! Are there empty strings in your dataset?\n",
      "2019-12-13 14:31:02,444 Ignore 1 sentence(s) with no tokens.\n"
     ]
    },
    {
     "name": "stderr",
     "output_type": "stream",
     "text": [
      "\r",
      " 21%|██        | 16980/80014 [38:09<44:19, 23.70it/s]"
     ]
    },
    {
     "name": "stdout",
     "output_type": "stream",
     "text": [
      "2019-12-13 14:31:02,502 ACHTUNG: An empty Sentence was created! Are there empty strings in your dataset?\n",
      "2019-12-13 14:31:02,503 Ignore 1 sentence(s) with no tokens.\n"
     ]
    },
    {
     "name": "stderr",
     "output_type": "stream",
     "text": [
      "\r",
      " 21%|██        | 16985/80014 [38:09<38:41, 27.15it/s]"
     ]
    },
    {
     "name": "stdout",
     "output_type": "stream",
     "text": [
      "2019-12-13 14:31:02,614 ACHTUNG: An empty Sentence was created! Are there empty strings in your dataset?\n",
      "2019-12-13 14:31:02,616 Ignore 1 sentence(s) with no tokens.\n",
      "2019-12-13 14:31:02,680 ACHTUNG: An empty Sentence was created! Are there empty strings in your dataset?\n",
      "2019-12-13 14:31:02,682 Ignore 1 sentence(s) with no tokens.\n"
     ]
    },
    {
     "name": "stderr",
     "output_type": "stream",
     "text": [
      "\r",
      " 21%|██        | 16991/80014 [38:09<33:57, 30.93it/s]"
     ]
    },
    {
     "name": "stdout",
     "output_type": "stream",
     "text": [
      "2019-12-13 14:31:02,816 ACHTUNG: An empty Sentence was created! Are there empty strings in your dataset?\n",
      "2019-12-13 14:31:02,817 Ignore 1 sentence(s) with no tokens.\n"
     ]
    },
    {
     "name": "stderr",
     "output_type": "stream",
     "text": [
      "\r",
      " 21%|██        | 16996/80014 [38:09<32:24, 32.41it/s]"
     ]
    },
    {
     "name": "stdout",
     "output_type": "stream",
     "text": [
      "2019-12-13 14:31:02,892 ACHTUNG: An empty Sentence was created! Are there empty strings in your dataset?\n",
      "2019-12-13 14:31:02,893 Ignore 1 sentence(s) with no tokens.\n"
     ]
    },
    {
     "name": "stderr",
     "output_type": "stream",
     "text": [
      "\r",
      " 21%|██        | 17001/80014 [38:09<30:59, 33.89it/s]"
     ]
    },
    {
     "name": "stdout",
     "output_type": "stream",
     "text": [
      "2019-12-13 14:31:03,014 ACHTUNG: An empty Sentence was created! Are there empty strings in your dataset?\n",
      "2019-12-13 14:31:03,016 Ignore 1 sentence(s) with no tokens.\n",
      "2019-12-13 14:31:03,076 ACHTUNG: An empty Sentence was created! Are there empty strings in your dataset?\n",
      "2019-12-13 14:31:03,077 Ignore 1 sentence(s) with no tokens.\n",
      "2019-12-13 14:31:03,079 ACHTUNG: An empty Sentence was created! Are there empty strings in your dataset?\n",
      "2019-12-13 14:31:03,080 Ignore 1 sentence(s) with no tokens.\n"
     ]
    },
    {
     "name": "stderr",
     "output_type": "stream",
     "text": [
      "\r",
      " 21%|██▏       | 17008/80014 [38:10<27:07, 38.72it/s]"
     ]
    },
    {
     "name": "stdout",
     "output_type": "stream",
     "text": [
      "2019-12-13 14:31:03,144 ACHTUNG: An empty Sentence was created! Are there empty strings in your dataset?\n",
      "2019-12-13 14:31:03,146 Ignore 1 sentence(s) with no tokens.\n",
      "2019-12-13 14:31:03,147 ACHTUNG: An empty Sentence was created! Are there empty strings in your dataset?\n",
      "2019-12-13 14:31:03,149 Ignore 1 sentence(s) with no tokens.\n",
      "2019-12-13 14:31:03,208 ACHTUNG: An empty Sentence was created! Are there empty strings in your dataset?\n",
      "2019-12-13 14:31:03,209 Ignore 1 sentence(s) with no tokens.\n"
     ]
    },
    {
     "name": "stderr",
     "output_type": "stream",
     "text": [
      "\r",
      " 21%|██▏       | 17014/80014 [38:10<24:21, 43.11it/s]"
     ]
    },
    {
     "name": "stdout",
     "output_type": "stream",
     "text": [
      "2019-12-13 14:31:03,326 ACHTUNG: An empty Sentence was created! Are there empty strings in your dataset?\n",
      "2019-12-13 14:31:03,328 Ignore 1 sentence(s) with no tokens.\n"
     ]
    },
    {
     "name": "stderr",
     "output_type": "stream",
     "text": [
      "\r",
      " 21%|██▏       | 17019/80014 [38:10<24:30, 42.83it/s]"
     ]
    },
    {
     "name": "stdout",
     "output_type": "stream",
     "text": [
      "2019-12-13 14:31:03,389 ACHTUNG: An empty Sentence was created! Are there empty strings in your dataset?\n",
      "2019-12-13 14:31:03,390 Ignore 1 sentence(s) with no tokens.\n",
      "2019-12-13 14:31:03,392 ACHTUNG: An empty Sentence was created! Are there empty strings in your dataset?\n",
      "2019-12-13 14:31:03,393 Ignore 1 sentence(s) with no tokens.\n"
     ]
    },
    {
     "name": "stderr",
     "output_type": "stream",
     "text": [
      "\r",
      " 21%|██▏       | 17025/80014 [38:10<23:29, 44.67it/s]"
     ]
    },
    {
     "name": "stdout",
     "output_type": "stream",
     "text": [
      "2019-12-13 14:31:03,452 ACHTUNG: An empty Sentence was created! Are there empty strings in your dataset?\n",
      "2019-12-13 14:31:03,453 Ignore 1 sentence(s) with no tokens.\n"
     ]
    },
    {
     "name": "stderr",
     "output_type": "stream",
     "text": [
      "\r",
      " 21%|██▏       | 17030/80014 [38:10<23:40, 44.35it/s]"
     ]
    },
    {
     "name": "stdout",
     "output_type": "stream",
     "text": [
      "2019-12-13 14:31:03,566 ACHTUNG: An empty Sentence was created! Are there empty strings in your dataset?\n",
      "2019-12-13 14:31:03,568 Ignore 1 sentence(s) with no tokens.\n",
      "2019-12-13 14:31:03,628 ACHTUNG: An empty Sentence was created! Are there empty strings in your dataset?\n",
      "2019-12-13 14:31:03,629 Ignore 1 sentence(s) with no tokens.\n",
      "2019-12-13 14:31:03,631 ACHTUNG: An empty Sentence was created! Are there empty strings in your dataset?\n",
      "2019-12-13 14:31:03,632 Ignore 1 sentence(s) with no tokens.\n"
     ]
    },
    {
     "name": "stderr",
     "output_type": "stream",
     "text": [
      "\r",
      " 21%|██▏       | 17037/80014 [38:10<22:03, 47.59it/s]"
     ]
    },
    {
     "name": "stdout",
     "output_type": "stream",
     "text": [
      "2019-12-13 14:31:03,688 ACHTUNG: An empty Sentence was created! Are there empty strings in your dataset?\n",
      "2019-12-13 14:31:03,690 Ignore 1 sentence(s) with no tokens.\n",
      "2019-12-13 14:31:03,691 ACHTUNG: An empty Sentence was created! Are there empty strings in your dataset?\n",
      "2019-12-13 14:31:03,693 Ignore 1 sentence(s) with no tokens.\n",
      "2019-12-13 14:31:03,750 ACHTUNG: An empty Sentence was created! Are there empty strings in your dataset?\n",
      "2019-12-13 14:31:03,751 Ignore 1 sentence(s) with no tokens.\n"
     ]
    },
    {
     "name": "stderr",
     "output_type": "stream",
     "text": [
      "\r",
      " 21%|██▏       | 17043/80014 [38:10<22:12, 47.27it/s]"
     ]
    },
    {
     "name": "stdout",
     "output_type": "stream",
     "text": [
      "2019-12-13 14:31:03,887 ACHTUNG: An empty Sentence was created! Are there empty strings in your dataset?\n",
      "2019-12-13 14:31:03,889 Ignore 1 sentence(s) with no tokens.\n"
     ]
    },
    {
     "name": "stderr",
     "output_type": "stream",
     "text": [
      "\r",
      " 21%|██▏       | 17048/80014 [38:10<25:32, 41.08it/s]"
     ]
    },
    {
     "name": "stdout",
     "output_type": "stream",
     "text": [
      "2019-12-13 14:31:04,052 ACHTUNG: An empty Sentence was created! Are there empty strings in your dataset?\n",
      "2019-12-13 14:31:04,053 Ignore 1 sentence(s) with no tokens.\n"
     ]
    },
    {
     "name": "stderr",
     "output_type": "stream",
     "text": [
      "\r",
      " 21%|██▏       | 17053/80014 [38:10<24:34, 42.70it/s]"
     ]
    },
    {
     "name": "stdout",
     "output_type": "stream",
     "text": [
      "2019-12-13 14:31:04,116 ACHTUNG: An empty Sentence was created! Are there empty strings in your dataset?\n",
      "2019-12-13 14:31:04,117 Ignore 1 sentence(s) with no tokens.\n",
      "2019-12-13 14:31:04,178 ACHTUNG: An empty Sentence was created! Are there empty strings in your dataset?\n",
      "2019-12-13 14:31:04,179 Ignore 1 sentence(s) with no tokens.\n"
     ]
    },
    {
     "name": "stderr",
     "output_type": "stream",
     "text": [
      " 21%|██▏       | 17063/80014 [38:11<27:00, 38.84it/s]"
     ]
    },
    {
     "name": "stdout",
     "output_type": "stream",
     "text": [
      "2019-12-13 14:31:04,361 ACHTUNG: An empty Sentence was created! Are there empty strings in your dataset?\n",
      "2019-12-13 14:31:04,363 Ignore 1 sentence(s) with no tokens.\n",
      "2019-12-13 14:31:04,422 ACHTUNG: An empty Sentence was created! Are there empty strings in your dataset?\n",
      "2019-12-13 14:31:04,423 Ignore 1 sentence(s) with no tokens.\n",
      "2019-12-13 14:31:04,425 ACHTUNG: An empty Sentence was created! Are there empty strings in your dataset?\n",
      "2019-12-13 14:31:04,426 Ignore 1 sentence(s) with no tokens.\n"
     ]
    },
    {
     "name": "stderr",
     "output_type": "stream",
     "text": [
      "\r",
      " 21%|██▏       | 17070/80014 [38:11<24:25, 42.95it/s]"
     ]
    },
    {
     "name": "stdout",
     "output_type": "stream",
     "text": [
      "2019-12-13 14:31:04,484 ACHTUNG: An empty Sentence was created! Are there empty strings in your dataset?\n",
      "2019-12-13 14:31:04,485 Ignore 1 sentence(s) with no tokens.\n"
     ]
    },
    {
     "name": "stderr",
     "output_type": "stream",
     "text": [
      "\r",
      " 21%|██▏       | 17075/80014 [38:11<25:52, 40.54it/s]"
     ]
    },
    {
     "name": "stdout",
     "output_type": "stream",
     "text": [
      "2019-12-13 14:31:04,624 ACHTUNG: An empty Sentence was created! Are there empty strings in your dataset?\n",
      "2019-12-13 14:31:04,625 Ignore 1 sentence(s) with no tokens.\n",
      "2019-12-13 14:31:04,678 ACHTUNG: An empty Sentence was created! Are there empty strings in your dataset?\n",
      "2019-12-13 14:31:04,679 Ignore 1 sentence(s) with no tokens.\n",
      "2019-12-13 14:31:04,681 ACHTUNG: An empty Sentence was created! Are there empty strings in your dataset?\n",
      "2019-12-13 14:31:04,682 Ignore 1 sentence(s) with no tokens.\n"
     ]
    },
    {
     "name": "stderr",
     "output_type": "stream",
     "text": [
      "\r",
      " 21%|██▏       | 17082/80014 [38:11<23:20, 44.93it/s]"
     ]
    },
    {
     "name": "stdout",
     "output_type": "stream",
     "text": [
      "2019-12-13 14:31:04,740 ACHTUNG: An empty Sentence was created! Are there empty strings in your dataset?\n",
      "2019-12-13 14:31:04,742 Ignore 1 sentence(s) with no tokens.\n",
      "2019-12-13 14:31:04,743 ACHTUNG: An empty Sentence was created! Are there empty strings in your dataset?\n",
      "2019-12-13 14:31:04,745 Ignore 1 sentence(s) with no tokens.\n",
      "2019-12-13 14:31:04,798 ACHTUNG: An empty Sentence was created! Are there empty strings in your dataset?\n",
      "2019-12-13 14:31:04,800 Ignore 1 sentence(s) with no tokens.\n"
     ]
    },
    {
     "name": "stderr",
     "output_type": "stream",
     "text": [
      "\r",
      " 21%|██▏       | 17088/80014 [38:11<23:03, 45.48it/s]"
     ]
    },
    {
     "name": "stdout",
     "output_type": "stream",
     "text": [
      "2019-12-13 14:31:04,946 ACHTUNG: An empty Sentence was created! Are there empty strings in your dataset?\n",
      "2019-12-13 14:31:04,947 Ignore 1 sentence(s) with no tokens.\n"
     ]
    },
    {
     "name": "stderr",
     "output_type": "stream",
     "text": [
      "\r",
      " 21%|██▏       | 17094/80014 [38:11<23:09, 45.27it/s]"
     ]
    },
    {
     "name": "stdout",
     "output_type": "stream",
     "text": [
      "2019-12-13 14:31:05,002 ACHTUNG: An empty Sentence was created! Are there empty strings in your dataset?\n",
      "2019-12-13 14:31:05,004 Ignore 1 sentence(s) with no tokens.\n"
     ]
    },
    {
     "name": "stderr",
     "output_type": "stream",
     "text": [
      "\r",
      " 21%|██▏       | 17099/80014 [38:12<25:13, 41.58it/s]"
     ]
    },
    {
     "name": "stdout",
     "output_type": "stream",
     "text": [
      "2019-12-13 14:31:05,145 ACHTUNG: An empty Sentence was created! Are there empty strings in your dataset?\n",
      "2019-12-13 14:31:05,147 Ignore 1 sentence(s) with no tokens.\n",
      "2019-12-13 14:31:05,205 ACHTUNG: An empty Sentence was created! Are there empty strings in your dataset?\n",
      "2019-12-13 14:31:05,207 Ignore 1 sentence(s) with no tokens.\n",
      "2019-12-13 14:31:05,208 ACHTUNG: An empty Sentence was created! Are there empty strings in your dataset?\n",
      "2019-12-13 14:31:05,210 Ignore 1 sentence(s) with no tokens.\n"
     ]
    },
    {
     "name": "stderr",
     "output_type": "stream",
     "text": [
      "\r",
      " 21%|██▏       | 17106/80014 [38:12<23:08, 45.29it/s]"
     ]
    },
    {
     "name": "stdout",
     "output_type": "stream",
     "text": [
      "2019-12-13 14:31:05,268 ACHTUNG: An empty Sentence was created! Are there empty strings in your dataset?\n",
      "2019-12-13 14:31:05,269 Ignore 1 sentence(s) with no tokens.\n"
     ]
    },
    {
     "name": "stderr",
     "output_type": "stream",
     "text": [
      "\r",
      " 21%|██▏       | 17111/80014 [38:12<23:46, 44.10it/s]"
     ]
    },
    {
     "name": "stdout",
     "output_type": "stream",
     "text": [
      "2019-12-13 14:31:05,388 ACHTUNG: An empty Sentence was created! Are there empty strings in your dataset?\n",
      "2019-12-13 14:31:05,389 Ignore 1 sentence(s) with no tokens.\n",
      "2019-12-13 14:31:05,444 ACHTUNG: An empty Sentence was created! Are there empty strings in your dataset?\n",
      "2019-12-13 14:31:05,445 Ignore 1 sentence(s) with no tokens.\n"
     ]
    },
    {
     "name": "stderr",
     "output_type": "stream",
     "text": [
      " 21%|██▏       | 17165/80014 [38:22<2:51:35,  6.10it/s]"
     ]
    },
    {
     "name": "stdout",
     "output_type": "stream",
     "text": [
      "2019-12-13 14:31:15,603 ACHTUNG: An empty Sentence was created! Are there empty strings in your dataset?\n",
      "2019-12-13 14:31:15,604 Ignore 1 sentence(s) with no tokens.\n",
      "2019-12-13 14:31:15,606 ACHTUNG: An empty Sentence was created! Are there empty strings in your dataset?\n",
      "2019-12-13 14:31:15,607 Ignore 1 sentence(s) with no tokens.\n"
     ]
    },
    {
     "name": "stderr",
     "output_type": "stream",
     "text": [
      " 21%|██▏       | 17178/80014 [38:22<1:16:05, 13.76it/s]"
     ]
    },
    {
     "name": "stdout",
     "output_type": "stream",
     "text": [
      "2019-12-13 14:31:15,875 ACHTUNG: An empty Sentence was created! Are there empty strings in your dataset?\n",
      "2019-12-13 14:31:15,876 Ignore 1 sentence(s) with no tokens.\n",
      "2019-12-13 14:31:15,878 ACHTUNG: An empty Sentence was created! Are there empty strings in your dataset?\n",
      "2019-12-13 14:31:15,879 Ignore 1 sentence(s) with no tokens.\n",
      "2019-12-13 14:31:15,881 ACHTUNG: An empty Sentence was created! Are there empty strings in your dataset?\n",
      "2019-12-13 14:31:15,893 Ignore 1 sentence(s) with no tokens.\n"
     ]
    },
    {
     "name": "stderr",
     "output_type": "stream",
     "text": [
      "\r",
      " 21%|██▏       | 17184/80014 [38:22<59:25, 17.62it/s]  "
     ]
    },
    {
     "name": "stdout",
     "output_type": "stream",
     "text": [
      "2019-12-13 14:31:16,033 ACHTUNG: An empty Sentence was created! Are there empty strings in your dataset?\n",
      "2019-12-13 14:31:16,035 Ignore 1 sentence(s) with no tokens.\n",
      "2019-12-13 14:31:16,036 ACHTUNG: An empty Sentence was created! Are there empty strings in your dataset?\n",
      "2019-12-13 14:31:16,038 Ignore 1 sentence(s) with no tokens.\n"
     ]
    },
    {
     "name": "stderr",
     "output_type": "stream",
     "text": [
      "\r",
      " 21%|██▏       | 17189/80014 [38:23<49:09, 21.30it/s]"
     ]
    },
    {
     "name": "stdout",
     "output_type": "stream",
     "text": [
      "2019-12-13 14:31:16,186 ACHTUNG: An empty Sentence was created! Are there empty strings in your dataset?\n",
      "2019-12-13 14:31:16,187 Ignore 1 sentence(s) with no tokens.\n",
      "2019-12-13 14:31:16,189 ACHTUNG: An empty Sentence was created! Are there empty strings in your dataset?\n",
      "2019-12-13 14:31:16,190 Ignore 1 sentence(s) with no tokens.\n",
      "2019-12-13 14:31:16,192 ACHTUNG: An empty Sentence was created! Are there empty strings in your dataset?\n",
      "2019-12-13 14:31:16,193 Ignore 1 sentence(s) with no tokens.\n"
     ]
    },
    {
     "name": "stderr",
     "output_type": "stream",
     "text": [
      "\r",
      " 21%|██▏       | 17196/80014 [38:23<39:05, 26.78it/s]"
     ]
    },
    {
     "name": "stdout",
     "output_type": "stream",
     "text": [
      "2019-12-13 14:31:16,322 ACHTUNG: An empty Sentence was created! Are there empty strings in your dataset?\n",
      "2019-12-13 14:31:16,323 Ignore 1 sentence(s) with no tokens.\n",
      "2019-12-13 14:31:16,325 ACHTUNG: An empty Sentence was created! Are there empty strings in your dataset?\n",
      "2019-12-13 14:31:16,326 Ignore 1 sentence(s) with no tokens.\n"
     ]
    },
    {
     "name": "stderr",
     "output_type": "stream",
     "text": [
      "\r",
      " 21%|██▏       | 17201/80014 [38:23<34:25, 30.41it/s]"
     ]
    },
    {
     "name": "stdout",
     "output_type": "stream",
     "text": [
      "2019-12-13 14:31:16,329 ACHTUNG: An empty Sentence was created! Are there empty strings in your dataset?\n",
      "2019-12-13 14:31:16,331 Ignore 1 sentence(s) with no tokens.\n"
     ]
    },
    {
     "name": "stderr",
     "output_type": "stream",
     "text": [
      "\r",
      " 22%|██▏       | 17206/80014 [38:23<32:16, 32.44it/s]"
     ]
    },
    {
     "name": "stdout",
     "output_type": "stream",
     "text": [
      "2019-12-13 14:31:16,460 ACHTUNG: An empty Sentence was created! Are there empty strings in your dataset?\n",
      "2019-12-13 14:31:16,461 Ignore 1 sentence(s) with no tokens.\n",
      "2019-12-13 14:31:16,463 ACHTUNG: An empty Sentence was created! Are there empty strings in your dataset?\n",
      "2019-12-13 14:31:16,464 Ignore 1 sentence(s) with no tokens.\n"
     ]
    },
    {
     "name": "stderr",
     "output_type": "stream",
     "text": [
      "\r",
      " 22%|██▏       | 17212/80014 [38:23<28:30, 36.71it/s]"
     ]
    },
    {
     "name": "stdout",
     "output_type": "stream",
     "text": [
      "2019-12-13 14:31:16,589 ACHTUNG: An empty Sentence was created! Are there empty strings in your dataset?\n",
      "2019-12-13 14:31:16,590 Ignore 1 sentence(s) with no tokens.\n",
      "2019-12-13 14:31:16,592 ACHTUNG: An empty Sentence was created! Are there empty strings in your dataset?\n",
      "2019-12-13 14:31:16,594 Ignore 1 sentence(s) with no tokens.\n",
      "2019-12-13 14:31:16,595 ACHTUNG: An empty Sentence was created! Are there empty strings in your dataset?\n",
      "2019-12-13 14:31:16,597 Ignore 1 sentence(s) with no tokens.\n"
     ]
    },
    {
     "name": "stderr",
     "output_type": "stream",
     "text": [
      "\r",
      " 22%|██▏       | 17219/80014 [38:23<25:10, 41.58it/s]"
     ]
    },
    {
     "name": "stdout",
     "output_type": "stream",
     "text": [
      "2019-12-13 14:31:16,730 ACHTUNG: An empty Sentence was created! Are there empty strings in your dataset?\n",
      "2019-12-13 14:31:16,731 Ignore 1 sentence(s) with no tokens.\n",
      "2019-12-13 14:31:16,733 ACHTUNG: An empty Sentence was created! Are there empty strings in your dataset?\n",
      "2019-12-13 14:31:16,734 Ignore 1 sentence(s) with no tokens.\n"
     ]
    },
    {
     "name": "stderr",
     "output_type": "stream",
     "text": [
      "\r",
      " 22%|██▏       | 17225/80014 [38:23<26:02, 40.19it/s]"
     ]
    },
    {
     "name": "stdout",
     "output_type": "stream",
     "text": [
      "2019-12-13 14:31:16,883 ACHTUNG: An empty Sentence was created! Are there empty strings in your dataset?\n",
      "2019-12-13 14:31:16,884 Ignore 1 sentence(s) with no tokens.\n",
      "2019-12-13 14:31:16,886 ACHTUNG: An empty Sentence was created! Are there empty strings in your dataset?\n",
      "2019-12-13 14:31:16,887 Ignore 1 sentence(s) with no tokens.\n",
      "2019-12-13 14:31:16,889 ACHTUNG: An empty Sentence was created! Are there empty strings in your dataset?\n",
      "2019-12-13 14:31:16,890 Ignore 1 sentence(s) with no tokens.\n"
     ]
    },
    {
     "name": "stderr",
     "output_type": "stream",
     "text": [
      "\r",
      " 22%|██▏       | 17232/80014 [38:23<23:41, 44.16it/s]"
     ]
    },
    {
     "name": "stdout",
     "output_type": "stream",
     "text": [
      "2019-12-13 14:31:17,036 ACHTUNG: An empty Sentence was created! Are there empty strings in your dataset?\n",
      "2019-12-13 14:31:17,038 Ignore 1 sentence(s) with no tokens.\n",
      "2019-12-13 14:31:17,039 ACHTUNG: An empty Sentence was created! Are there empty strings in your dataset?\n",
      "2019-12-13 14:31:17,041 Ignore 1 sentence(s) with no tokens.\n"
     ]
    },
    {
     "name": "stderr",
     "output_type": "stream",
     "text": [
      "\r",
      " 22%|██▏       | 17237/80014 [38:23<23:21, 44.80it/s]"
     ]
    },
    {
     "name": "stdout",
     "output_type": "stream",
     "text": [
      "2019-12-13 14:31:17,176 ACHTUNG: An empty Sentence was created! Are there empty strings in your dataset?\n",
      "2019-12-13 14:31:17,178 Ignore 1 sentence(s) with no tokens.\n"
     ]
    },
    {
     "name": "stderr",
     "output_type": "stream",
     "text": [
      "\r",
      " 22%|██▏       | 17242/80014 [38:24<22:42, 46.07it/s]"
     ]
    },
    {
     "name": "stdout",
     "output_type": "stream",
     "text": [
      "2019-12-13 14:31:17,181 ACHTUNG: An empty Sentence was created! Are there empty strings in your dataset?\n",
      "2019-12-13 14:31:17,183 Ignore 1 sentence(s) with no tokens.\n",
      "2019-12-13 14:31:17,184 ACHTUNG: An empty Sentence was created! Are there empty strings in your dataset?\n",
      "2019-12-13 14:31:17,186 Ignore 1 sentence(s) with no tokens.\n"
     ]
    },
    {
     "name": "stderr",
     "output_type": "stream",
     "text": [
      "\r",
      " 22%|██▏       | 17248/80014 [38:24<23:03, 45.36it/s]"
     ]
    },
    {
     "name": "stdout",
     "output_type": "stream",
     "text": [
      "2019-12-13 14:31:17,318 ACHTUNG: An empty Sentence was created! Are there empty strings in your dataset?\n",
      "2019-12-13 14:31:17,320 Ignore 1 sentence(s) with no tokens.\n",
      "2019-12-13 14:31:17,321 ACHTUNG: An empty Sentence was created! Are there empty strings in your dataset?\n",
      "2019-12-13 14:31:17,323 Ignore 1 sentence(s) with no tokens.\n",
      "2019-12-13 14:31:17,324 ACHTUNG: An empty Sentence was created! Are there empty strings in your dataset?\n",
      "2019-12-13 14:31:17,326 Ignore 1 sentence(s) with no tokens.\n"
     ]
    },
    {
     "name": "stderr",
     "output_type": "stream",
     "text": [
      "\r",
      " 22%|██▏       | 17255/80014 [38:24<22:14, 47.03it/s]"
     ]
    },
    {
     "name": "stdout",
     "output_type": "stream",
     "text": [
      "2019-12-13 14:31:17,454 ACHTUNG: An empty Sentence was created! Are there empty strings in your dataset?\n",
      "2019-12-13 14:31:17,456 Ignore 1 sentence(s) with no tokens.\n",
      "2019-12-13 14:31:17,457 ACHTUNG: An empty Sentence was created! Are there empty strings in your dataset?\n",
      "2019-12-13 14:31:17,459 Ignore 1 sentence(s) with no tokens.\n"
     ]
    },
    {
     "name": "stderr",
     "output_type": "stream",
     "text": [
      "\r",
      " 22%|██▏       | 17260/80014 [38:24<22:06, 47.32it/s]"
     ]
    },
    {
     "name": "stdout",
     "output_type": "stream",
     "text": [
      "2019-12-13 14:31:17,592 ACHTUNG: An empty Sentence was created! Are there empty strings in your dataset?\n",
      "2019-12-13 14:31:17,593 Ignore 1 sentence(s) with no tokens.\n",
      "2019-12-13 14:31:17,595 ACHTUNG: An empty Sentence was created! Are there empty strings in your dataset?\n",
      "2019-12-13 14:31:17,596 Ignore 1 sentence(s) with no tokens.\n",
      "2019-12-13 14:31:17,598 ACHTUNG: An empty Sentence was created! Are there empty strings in your dataset?\n",
      "2019-12-13 14:31:17,599 Ignore 1 sentence(s) with no tokens.\n"
     ]
    },
    {
     "name": "stderr",
     "output_type": "stream",
     "text": [
      "\r",
      " 22%|██▏       | 17267/80014 [38:24<20:10, 51.84it/s]"
     ]
    },
    {
     "name": "stdout",
     "output_type": "stream",
     "text": [
      "2019-12-13 14:31:17,728 ACHTUNG: An empty Sentence was created! Are there empty strings in your dataset?\n",
      "2019-12-13 14:31:17,729 Ignore 1 sentence(s) with no tokens.\n",
      "2019-12-13 14:31:17,731 ACHTUNG: An empty Sentence was created! Are there empty strings in your dataset?\n",
      "2019-12-13 14:31:17,732 Ignore 1 sentence(s) with no tokens.\n"
     ]
    },
    {
     "name": "stderr",
     "output_type": "stream",
     "text": [
      "\r",
      " 22%|██▏       | 17273/80014 [38:24<21:46, 48.02it/s]"
     ]
    },
    {
     "name": "stdout",
     "output_type": "stream",
     "text": [
      "2019-12-13 14:31:17,916 ACHTUNG: An empty Sentence was created! Are there empty strings in your dataset?\n",
      "2019-12-13 14:31:17,918 Ignore 1 sentence(s) with no tokens.\n"
     ]
    },
    {
     "name": "stderr",
     "output_type": "stream",
     "text": [
      " 22%|██▏       | 17285/80014 [38:25<24:55, 41.94it/s]"
     ]
    },
    {
     "name": "stdout",
     "output_type": "stream",
     "text": [
      "2019-12-13 14:31:18,186 ACHTUNG: An empty Sentence was created! Are there empty strings in your dataset?\n",
      "2019-12-13 14:31:18,188 Ignore 1 sentence(s) with no tokens.\n"
     ]
    },
    {
     "name": "stderr",
     "output_type": "stream",
     "text": [
      "\r",
      " 22%|██▏       | 17290/80014 [38:25<27:51, 37.53it/s]"
     ]
    },
    {
     "name": "stdout",
     "output_type": "stream",
     "text": [
      "2019-12-13 14:31:18,282 ACHTUNG: An empty Sentence was created! Are there empty strings in your dataset?\n",
      "2019-12-13 14:31:18,283 Ignore 1 sentence(s) with no tokens.\n",
      "2019-12-13 14:31:18,285 ACHTUNG: An empty Sentence was created! Are there empty strings in your dataset?\n",
      "2019-12-13 14:31:18,286 Ignore 1 sentence(s) with no tokens.\n"
     ]
    },
    {
     "name": "stderr",
     "output_type": "stream",
     "text": [
      "\r",
      " 22%|██▏       | 17296/80014 [38:25<24:56, 41.90it/s]"
     ]
    },
    {
     "name": "stdout",
     "output_type": "stream",
     "text": [
      "2019-12-13 14:31:18,402 ACHTUNG: An empty Sentence was created! Are there empty strings in your dataset?\n",
      "2019-12-13 14:31:18,404 Ignore 1 sentence(s) with no tokens.\n",
      "2019-12-13 14:31:18,405 ACHTUNG: An empty Sentence was created! Are there empty strings in your dataset?\n",
      "2019-12-13 14:31:18,407 Ignore 1 sentence(s) with no tokens.\n",
      "2019-12-13 14:31:18,408 ACHTUNG: An empty Sentence was created! Are there empty strings in your dataset?\n",
      "2019-12-13 14:31:18,410 Ignore 1 sentence(s) with no tokens.\n"
     ]
    },
    {
     "name": "stderr",
     "output_type": "stream",
     "text": [
      "\r",
      " 22%|██▏       | 17303/80014 [38:25<22:41, 46.05it/s]"
     ]
    },
    {
     "name": "stdout",
     "output_type": "stream",
     "text": [
      "2019-12-13 14:31:18,544 ACHTUNG: An empty Sentence was created! Are there empty strings in your dataset?\n",
      "2019-12-13 14:31:18,545 Ignore 1 sentence(s) with no tokens.\n",
      "2019-12-13 14:31:18,547 ACHTUNG: An empty Sentence was created! Are there empty strings in your dataset?\n",
      "2019-12-13 14:31:18,549 Ignore 1 sentence(s) with no tokens.\n",
      "2019-12-13 14:31:18,609 ACHTUNG: An empty Sentence was created! Are there empty strings in your dataset?\n",
      "2019-12-13 14:31:18,611 Ignore 1 sentence(s) with no tokens.\n"
     ]
    },
    {
     "name": "stderr",
     "output_type": "stream",
     "text": [
      "\r",
      " 22%|██▏       | 17308/80014 [38:25<22:50, 45.77it/s]"
     ]
    },
    {
     "name": "stdout",
     "output_type": "stream",
     "text": [
      "2019-12-13 14:31:18,704 ACHTUNG: An empty Sentence was created! Are there empty strings in your dataset?\n",
      "2019-12-13 14:31:18,706 Ignore 1 sentence(s) with no tokens.\n",
      "2019-12-13 14:31:18,707 ACHTUNG: An empty Sentence was created! Are there empty strings in your dataset?\n",
      "2019-12-13 14:31:18,709 Ignore 1 sentence(s) with no tokens.\n"
     ]
    },
    {
     "name": "stderr",
     "output_type": "stream",
     "text": [
      " 22%|██▏       | 17319/80014 [38:25<23:05, 45.26it/s]"
     ]
    },
    {
     "name": "stdout",
     "output_type": "stream",
     "text": [
      "2019-12-13 14:31:18,880 ACHTUNG: An empty Sentence was created! Are there empty strings in your dataset?\n",
      "2019-12-13 14:31:18,881 Ignore 1 sentence(s) with no tokens.\n"
     ]
    },
    {
     "name": "stderr",
     "output_type": "stream",
     "text": [
      "\r",
      " 22%|██▏       | 17324/80014 [38:25<22:59, 45.45it/s]"
     ]
    },
    {
     "name": "stdout",
     "output_type": "stream",
     "text": [
      "2019-12-13 14:31:19,078 ACHTUNG: An empty Sentence was created! Are there empty strings in your dataset?\n",
      "2019-12-13 14:31:19,080 Ignore 1 sentence(s) with no tokens.\n"
     ]
    },
    {
     "name": "stderr",
     "output_type": "stream",
     "text": [
      " 22%|██▏       | 17338/80014 [38:26<30:52, 33.83it/s]"
     ]
    },
    {
     "name": "stdout",
     "output_type": "stream",
     "text": [
      "2019-12-13 14:31:19,439 ACHTUNG: An empty Sentence was created! Are there empty strings in your dataset?\n",
      "2019-12-13 14:31:19,440 Ignore 1 sentence(s) with no tokens.\n",
      "2019-12-13 14:31:19,442 ACHTUNG: An empty Sentence was created! Are there empty strings in your dataset?\n",
      "2019-12-13 14:31:19,443 Ignore 1 sentence(s) with no tokens.\n",
      "2019-12-13 14:31:19,445 ACHTUNG: An empty Sentence was created! Are there empty strings in your dataset?\n",
      "2019-12-13 14:31:19,447 Ignore 1 sentence(s) with no tokens.\n"
     ]
    },
    {
     "name": "stderr",
     "output_type": "stream",
     "text": [
      "\r",
      " 22%|██▏       | 17345/80014 [38:26<26:34, 39.32it/s]"
     ]
    },
    {
     "name": "stdout",
     "output_type": "stream",
     "text": [
      "2019-12-13 14:31:19,574 ACHTUNG: An empty Sentence was created! Are there empty strings in your dataset?\n",
      "2019-12-13 14:31:19,575 Ignore 1 sentence(s) with no tokens.\n",
      "2019-12-13 14:31:19,577 ACHTUNG: An empty Sentence was created! Are there empty strings in your dataset?\n",
      "2019-12-13 14:31:19,578 Ignore 1 sentence(s) with no tokens.\n"
     ]
    },
    {
     "name": "stderr",
     "output_type": "stream",
     "text": [
      " 22%|██▏       | 17355/80014 [38:26<25:31, 40.92it/s]"
     ]
    },
    {
     "name": "stdout",
     "output_type": "stream",
     "text": [
      "2019-12-13 14:31:19,772 ACHTUNG: An empty Sentence was created! Are there empty strings in your dataset?\n",
      "2019-12-13 14:31:19,773 Ignore 1 sentence(s) with no tokens.\n"
     ]
    },
    {
     "name": "stderr",
     "output_type": "stream",
     "text": [
      " 22%|██▏       | 17365/80014 [38:26<29:49, 35.00it/s]"
     ]
    },
    {
     "name": "stdout",
     "output_type": "stream",
     "text": [
      "2019-12-13 14:31:20,120 ACHTUNG: An empty Sentence was created! Are there empty strings in your dataset?\n",
      "2019-12-13 14:31:20,121 Ignore 1 sentence(s) with no tokens.\n",
      "2019-12-13 14:31:20,123 ACHTUNG: An empty Sentence was created! Are there empty strings in your dataset?\n",
      "2019-12-13 14:31:20,124 Ignore 1 sentence(s) with no tokens.\n",
      "2019-12-13 14:31:20,126 ACHTUNG: An empty Sentence was created! Are there empty strings in your dataset?\n",
      "2019-12-13 14:31:20,127 Ignore 1 sentence(s) with no tokens.\n"
     ]
    },
    {
     "name": "stderr",
     "output_type": "stream",
     "text": [
      "\r",
      " 22%|██▏       | 17372/80014 [38:27<25:35, 40.79it/s]"
     ]
    },
    {
     "name": "stdout",
     "output_type": "stream",
     "text": [
      "2019-12-13 14:31:20,258 ACHTUNG: An empty Sentence was created! Are there empty strings in your dataset?\n",
      "2019-12-13 14:31:20,260 Ignore 1 sentence(s) with no tokens.\n",
      "2019-12-13 14:31:20,261 ACHTUNG: An empty Sentence was created! Are there empty strings in your dataset?\n",
      "2019-12-13 14:31:20,263 Ignore 1 sentence(s) with no tokens.\n",
      "2019-12-13 14:31:20,264 ACHTUNG: An empty Sentence was created! Are there empty strings in your dataset?\n",
      "2019-12-13 14:31:20,266 Ignore 1 sentence(s) with no tokens.\n"
     ]
    },
    {
     "name": "stderr",
     "output_type": "stream",
     "text": [
      "\r",
      " 22%|██▏       | 17379/80014 [38:27<24:04, 43.37it/s]"
     ]
    },
    {
     "name": "stdout",
     "output_type": "stream",
     "text": [
      "2019-12-13 14:31:20,395 ACHTUNG: An empty Sentence was created! Are there empty strings in your dataset?\n",
      "2019-12-13 14:31:20,396 Ignore 1 sentence(s) with no tokens.\n",
      "2019-12-13 14:31:20,398 ACHTUNG: An empty Sentence was created! Are there empty strings in your dataset?\n",
      "2019-12-13 14:31:20,399 Ignore 1 sentence(s) with no tokens.\n"
     ]
    },
    {
     "name": "stderr",
     "output_type": "stream",
     "text": [
      "\r",
      " 22%|██▏       | 17384/80014 [38:27<23:45, 43.94it/s]"
     ]
    },
    {
     "name": "stdout",
     "output_type": "stream",
     "text": [
      "2019-12-13 14:31:20,533 ACHTUNG: An empty Sentence was created! Are there empty strings in your dataset?\n",
      "2019-12-13 14:31:20,535 Ignore 1 sentence(s) with no tokens.\n",
      "2019-12-13 14:31:20,536 ACHTUNG: An empty Sentence was created! Are there empty strings in your dataset?\n",
      "2019-12-13 14:31:20,538 Ignore 1 sentence(s) with no tokens.\n"
     ]
    },
    {
     "name": "stderr",
     "output_type": "stream",
     "text": [
      "\r",
      " 22%|██▏       | 17390/80014 [38:27<21:52, 47.72it/s]"
     ]
    },
    {
     "name": "stdout",
     "output_type": "stream",
     "text": [
      "2019-12-13 14:31:20,541 ACHTUNG: An empty Sentence was created! Are there empty strings in your dataset?\n",
      "2019-12-13 14:31:20,542 Ignore 1 sentence(s) with no tokens.\n",
      "2019-12-13 14:31:20,668 ACHTUNG: An empty Sentence was created! Are there empty strings in your dataset?\n",
      "2019-12-13 14:31:20,670 Ignore 1 sentence(s) with no tokens.\n"
     ]
    },
    {
     "name": "stderr",
     "output_type": "stream",
     "text": [
      "\r",
      " 22%|██▏       | 17396/80014 [38:27<22:11, 47.02it/s]"
     ]
    },
    {
     "name": "stdout",
     "output_type": "stream",
     "text": [
      "2019-12-13 14:31:20,673 ACHTUNG: An empty Sentence was created! Are there empty strings in your dataset?\n",
      "2019-12-13 14:31:20,675 Ignore 1 sentence(s) with no tokens.\n"
     ]
    },
    {
     "name": "stderr",
     "output_type": "stream",
     "text": [
      " 28%|██▊       | 22032/80014 [49:34<4:14:11,  3.80it/s] "
     ]
    },
    {
     "name": "stdout",
     "output_type": "stream",
     "text": [
      "2019-12-13 14:42:27,832 ACHTUNG: An empty Sentence was created! Are there empty strings in your dataset?\n",
      "2019-12-13 14:42:27,834 Ignore 1 sentence(s) with no tokens.\n"
     ]
    },
    {
     "name": "stderr",
     "output_type": "stream",
     "text": [
      " 33%|███▎      | 26228/80014 [57:53<56:44, 15.80it/s]   "
     ]
    },
    {
     "name": "stdout",
     "output_type": "stream",
     "text": [
      "2019-12-13 14:50:46,866 ACHTUNG: An empty Sentence was created! Are there empty strings in your dataset?\n",
      "2019-12-13 14:50:46,867 Ignore 1 sentence(s) with no tokens.\n"
     ]
    },
    {
     "name": "stderr",
     "output_type": "stream",
     "text": [
      " 33%|███▎      | 26239/80014 [57:54<43:00, 20.84it/s]"
     ]
    },
    {
     "name": "stdout",
     "output_type": "stream",
     "text": [
      "2019-12-13 14:50:47,393 ACHTUNG: An empty Sentence was created! Are there empty strings in your dataset?\n",
      "2019-12-13 14:50:47,394 Ignore 1 sentence(s) with no tokens.\n"
     ]
    },
    {
     "name": "stderr",
     "output_type": "stream",
     "text": [
      " 35%|███▍      | 27969/80014 [1:01:21<1:45:44,  8.20it/s] "
     ]
    },
    {
     "name": "stdout",
     "output_type": "stream",
     "text": [
      "2019-12-13 14:54:14,512 ACHTUNG: An empty Sentence was created! Are there empty strings in your dataset?\n",
      "2019-12-13 14:54:14,513 Ignore 1 sentence(s) with no tokens.\n"
     ]
    },
    {
     "name": "stderr",
     "output_type": "stream",
     "text": [
      " 35%|███▍      | 27994/80014 [1:01:22<35:30, 24.42it/s]  "
     ]
    },
    {
     "name": "stdout",
     "output_type": "stream",
     "text": [
      "2019-12-13 14:54:15,234 ACHTUNG: An empty Sentence was created! Are there empty strings in your dataset?\n",
      "2019-12-13 14:54:15,236 Ignore 1 sentence(s) with no tokens.\n",
      "2019-12-13 14:54:15,237 ACHTUNG: An empty Sentence was created! Are there empty strings in your dataset?\n",
      "2019-12-13 14:54:15,239 Ignore 1 sentence(s) with no tokens.\n",
      "2019-12-13 14:54:15,240 ACHTUNG: An empty Sentence was created! Are there empty strings in your dataset?\n",
      "2019-12-13 14:54:15,242 Ignore 1 sentence(s) with no tokens.\n"
     ]
    },
    {
     "name": "stderr",
     "output_type": "stream",
     "text": [
      "\r",
      " 35%|███▍      | 28001/80014 [1:01:22<29:08, 29.75it/s]"
     ]
    },
    {
     "name": "stdout",
     "output_type": "stream",
     "text": [
      "2019-12-13 14:54:15,393 ACHTUNG: An empty Sentence was created! Are there empty strings in your dataset?\n",
      "2019-12-13 14:54:15,395 Ignore 1 sentence(s) with no tokens.\n",
      "2019-12-13 14:54:15,396 ACHTUNG: An empty Sentence was created! Are there empty strings in your dataset?\n",
      "2019-12-13 14:54:15,398 Ignore 1 sentence(s) with no tokens.\n",
      "2019-12-13 14:54:15,399 ACHTUNG: An empty Sentence was created! Are there empty strings in your dataset?\n",
      "2019-12-13 14:54:15,401 Ignore 1 sentence(s) with no tokens.\n"
     ]
    },
    {
     "name": "stderr",
     "output_type": "stream",
     "text": [
      " 35%|███▌      | 28366/80014 [1:02:18<33:14, 25.89it/s]  "
     ]
    },
    {
     "name": "stdout",
     "output_type": "stream",
     "text": [
      "2019-12-13 14:55:11,413 ACHTUNG: An empty Sentence was created! Are there empty strings in your dataset?\n",
      "2019-12-13 14:55:11,414 Ignore 1 sentence(s) with no tokens.\n"
     ]
    },
    {
     "name": "stderr",
     "output_type": "stream",
     "text": [
      " 35%|███▌      | 28382/80014 [1:02:18<24:28, 35.17it/s]"
     ]
    },
    {
     "name": "stdout",
     "output_type": "stream",
     "text": [
      "2019-12-13 14:55:11,773 ACHTUNG: An empty Sentence was created! Are there empty strings in your dataset?\n",
      "2019-12-13 14:55:11,774 Ignore 1 sentence(s) with no tokens.\n"
     ]
    },
    {
     "name": "stderr",
     "output_type": "stream",
     "text": [
      " 35%|███▌      | 28401/80014 [1:02:19<23:14, 37.02it/s]"
     ]
    },
    {
     "name": "stdout",
     "output_type": "stream",
     "text": [
      "2019-12-13 14:55:12,340 ACHTUNG: An empty Sentence was created! Are there empty strings in your dataset?\n",
      "2019-12-13 14:55:12,341 Ignore 1 sentence(s) with no tokens.\n"
     ]
    },
    {
     "name": "stderr",
     "output_type": "stream",
     "text": [
      " 36%|███▌      | 28411/80014 [1:02:19<21:54, 39.27it/s]"
     ]
    },
    {
     "name": "stdout",
     "output_type": "stream",
     "text": [
      "2019-12-13 14:55:12,505 ACHTUNG: An empty Sentence was created! Are there empty strings in your dataset?\n",
      "2019-12-13 14:55:12,507 Ignore 1 sentence(s) with no tokens.\n"
     ]
    },
    {
     "name": "stderr",
     "output_type": "stream",
     "text": [
      " 36%|███▌      | 28420/80014 [1:02:19<23:07, 37.18it/s]"
     ]
    },
    {
     "name": "stdout",
     "output_type": "stream",
     "text": [
      "2019-12-13 14:55:12,828 ACHTUNG: An empty Sentence was created! Are there empty strings in your dataset?\n",
      "2019-12-13 14:55:12,830 Ignore 1 sentence(s) with no tokens.\n"
     ]
    },
    {
     "name": "stderr",
     "output_type": "stream",
     "text": [
      " 36%|███▌      | 28489/80014 [1:02:21<22:24, 38.32it/s]"
     ]
    },
    {
     "name": "stdout",
     "output_type": "stream",
     "text": [
      "2019-12-13 14:55:14,676 ACHTUNG: An empty Sentence was created! Are there empty strings in your dataset?\n",
      "2019-12-13 14:55:14,677 Ignore 1 sentence(s) with no tokens.\n"
     ]
    },
    {
     "name": "stderr",
     "output_type": "stream",
     "text": [
      "\r",
      " 36%|███▌      | 28495/80014 [1:02:21<21:45, 39.47it/s]"
     ]
    },
    {
     "name": "stdout",
     "output_type": "stream",
     "text": [
      "2019-12-13 14:55:14,757 ACHTUNG: An empty Sentence was created! Are there empty strings in your dataset?\n",
      "2019-12-13 14:55:14,758 Ignore 1 sentence(s) with no tokens.\n"
     ]
    },
    {
     "name": "stderr",
     "output_type": "stream",
     "text": [
      " 36%|███▌      | 28534/80014 [1:02:25<52:03, 16.48it/s]  "
     ]
    },
    {
     "name": "stdout",
     "output_type": "stream",
     "text": [
      "2019-12-13 14:55:18,446 ACHTUNG: An empty Sentence was created! Are there empty strings in your dataset?\n",
      "2019-12-13 14:55:18,447 Ignore 1 sentence(s) with no tokens.\n"
     ]
    },
    {
     "name": "stderr",
     "output_type": "stream",
     "text": [
      " 36%|███▌      | 28555/80014 [1:02:25<29:13, 29.35it/s]"
     ]
    },
    {
     "name": "stdout",
     "output_type": "stream",
     "text": [
      "2019-12-13 14:55:18,985 ACHTUNG: An empty Sentence was created! Are there empty strings in your dataset?\n",
      "2019-12-13 14:55:18,987 Ignore 1 sentence(s) with no tokens.\n"
     ]
    },
    {
     "name": "stderr",
     "output_type": "stream",
     "text": [
      "\r",
      " 36%|███▌      | 28560/80014 [1:02:25<26:32, 32.31it/s]"
     ]
    },
    {
     "name": "stdout",
     "output_type": "stream",
     "text": [
      "2019-12-13 14:55:19,153 ACHTUNG: An empty Sentence was created! Are there empty strings in your dataset?\n",
      "2019-12-13 14:55:19,154 Ignore 1 sentence(s) with no tokens.\n"
     ]
    },
    {
     "name": "stderr",
     "output_type": "stream",
     "text": [
      " 36%|███▌      | 28573/80014 [1:02:26<26:09, 32.77it/s]"
     ]
    },
    {
     "name": "stdout",
     "output_type": "stream",
     "text": [
      "2019-12-13 14:55:19,485 ACHTUNG: An empty Sentence was created! Are there empty strings in your dataset?\n",
      "2019-12-13 14:55:19,486 Ignore 1 sentence(s) with no tokens.\n"
     ]
    },
    {
     "name": "stderr",
     "output_type": "stream",
     "text": [
      " 36%|███▌      | 28641/80014 [1:02:28<23:22, 36.62it/s]"
     ]
    },
    {
     "name": "stdout",
     "output_type": "stream",
     "text": [
      "2019-12-13 14:55:21,436 ACHTUNG: An empty Sentence was created! Are there empty strings in your dataset?\n",
      "2019-12-13 14:55:21,438 Ignore 1 sentence(s) with no tokens.\n"
     ]
    },
    {
     "name": "stderr",
     "output_type": "stream",
     "text": [
      " 36%|███▌      | 28649/80014 [1:02:28<23:14, 36.84it/s]"
     ]
    },
    {
     "name": "stdout",
     "output_type": "stream",
     "text": [
      "2019-12-13 14:55:21,596 ACHTUNG: An empty Sentence was created! Are there empty strings in your dataset?\n",
      "2019-12-13 14:55:21,597 Ignore 1 sentence(s) with no tokens.\n"
     ]
    },
    {
     "name": "stderr",
     "output_type": "stream",
     "text": [
      " 36%|███▌      | 28663/80014 [1:02:29<40:18, 21.23it/s]"
     ]
    },
    {
     "name": "stdout",
     "output_type": "stream",
     "text": [
      "2019-12-13 14:55:22,451 ACHTUNG: An empty Sentence was created! Are there empty strings in your dataset?\n",
      "2019-12-13 14:55:22,453 Ignore 1 sentence(s) with no tokens.\n"
     ]
    },
    {
     "name": "stderr",
     "output_type": "stream",
     "text": [
      "\r",
      " 36%|███▌      | 28667/80014 [1:02:29<57:15, 14.94it/s]"
     ]
    },
    {
     "name": "stdout",
     "output_type": "stream",
     "text": [
      "2019-12-13 14:55:22,918 ACHTUNG: An empty Sentence was created! Are there empty strings in your dataset?\n",
      "2019-12-13 14:55:22,919 Ignore 1 sentence(s) with no tokens.\n"
     ]
    },
    {
     "name": "stderr",
     "output_type": "stream",
     "text": [
      "\r",
      " 36%|███▌      | 28672/80014 [1:02:29<46:29, 18.40it/s]"
     ]
    },
    {
     "name": "stdout",
     "output_type": "stream",
     "text": [
      "2019-12-13 14:55:22,989 ACHTUNG: An empty Sentence was created! Are there empty strings in your dataset?\n",
      "2019-12-13 14:55:22,990 Ignore 1 sentence(s) with no tokens.\n",
      "2019-12-13 14:55:23,056 ACHTUNG: An empty Sentence was created! Are there empty strings in your dataset?\n",
      "2019-12-13 14:55:23,058 Ignore 1 sentence(s) with no tokens.\n"
     ]
    },
    {
     "name": "stderr",
     "output_type": "stream",
     "text": [
      "\r",
      " 36%|███▌      | 28677/80014 [1:02:30<38:57, 21.97it/s]"
     ]
    },
    {
     "name": "stdout",
     "output_type": "stream",
     "text": [
      "2019-12-13 14:55:23,170 ACHTUNG: An empty Sentence was created! Are there empty strings in your dataset?\n",
      "2019-12-13 14:55:23,171 Ignore 1 sentence(s) with no tokens.\n",
      "2019-12-13 14:55:23,173 ACHTUNG: An empty Sentence was created! Are there empty strings in your dataset?\n",
      "2019-12-13 14:55:23,174 Ignore 1 sentence(s) with no tokens.\n"
     ]
    },
    {
     "name": "stderr",
     "output_type": "stream",
     "text": [
      "\r",
      " 36%|███▌      | 28682/80014 [1:02:30<33:13, 25.74it/s]"
     ]
    },
    {
     "name": "stdout",
     "output_type": "stream",
     "text": [
      "2019-12-13 14:55:23,323 ACHTUNG: An empty Sentence was created! Are there empty strings in your dataset?\n",
      "2019-12-13 14:55:23,324 Ignore 1 sentence(s) with no tokens.\n"
     ]
    },
    {
     "name": "stderr",
     "output_type": "stream",
     "text": [
      "\r",
      " 36%|███▌      | 28689/80014 [1:02:30<42:52, 19.95it/s]"
     ]
    },
    {
     "name": "stdout",
     "output_type": "stream",
     "text": [
      "2019-12-13 14:55:23,829 ACHTUNG: An empty Sentence was created! Are there empty strings in your dataset?\n",
      "2019-12-13 14:55:23,831 Ignore 1 sentence(s) with no tokens.\n"
     ]
    },
    {
     "name": "stderr",
     "output_type": "stream",
     "text": [
      "\r",
      " 36%|███▌      | 28694/80014 [1:02:30<36:26, 23.47it/s]"
     ]
    },
    {
     "name": "stdout",
     "output_type": "stream",
     "text": [
      "2019-12-13 14:55:23,890 ACHTUNG: An empty Sentence was created! Are there empty strings in your dataset?\n",
      "2019-12-13 14:55:23,892 Ignore 1 sentence(s) with no tokens.\n"
     ]
    },
    {
     "name": "stderr",
     "output_type": "stream",
     "text": [
      "\r",
      " 36%|███▌      | 28699/80014 [1:02:30<31:22, 27.25it/s]"
     ]
    },
    {
     "name": "stdout",
     "output_type": "stream",
     "text": [
      "2019-12-13 14:55:24,034 ACHTUNG: An empty Sentence was created! Are there empty strings in your dataset?\n",
      "2019-12-13 14:55:24,036 Ignore 1 sentence(s) with no tokens.\n",
      "2019-12-13 14:55:24,037 ACHTUNG: An empty Sentence was created! Are there empty strings in your dataset?\n",
      "2019-12-13 14:55:24,039 Ignore 1 sentence(s) with no tokens.\n"
     ]
    },
    {
     "name": "stderr",
     "output_type": "stream",
     "text": [
      "\r",
      " 36%|███▌      | 28704/80014 [1:02:31<27:29, 31.11it/s]"
     ]
    },
    {
     "name": "stdout",
     "output_type": "stream",
     "text": [
      "2019-12-13 14:55:24,186 ACHTUNG: An empty Sentence was created! Are there empty strings in your dataset?\n",
      "2019-12-13 14:55:24,188 Ignore 1 sentence(s) with no tokens.\n"
     ]
    },
    {
     "name": "stderr",
     "output_type": "stream",
     "text": [
      "\r",
      " 36%|███▌      | 28710/80014 [1:02:31<41:04, 20.82it/s]"
     ]
    },
    {
     "name": "stdout",
     "output_type": "stream",
     "text": [
      "2019-12-13 14:55:24,680 ACHTUNG: An empty Sentence was created! Are there empty strings in your dataset?\n",
      "2019-12-13 14:55:24,682 Ignore 1 sentence(s) with no tokens.\n"
     ]
    },
    {
     "name": "stderr",
     "output_type": "stream",
     "text": [
      "\r",
      " 36%|███▌      | 28714/80014 [1:02:31<35:54, 23.81it/s]"
     ]
    },
    {
     "name": "stdout",
     "output_type": "stream",
     "text": [
      "2019-12-13 14:55:24,765 ACHTUNG: An empty Sentence was created! Are there empty strings in your dataset?\n",
      "2019-12-13 14:55:24,766 Ignore 1 sentence(s) with no tokens.\n",
      "2019-12-13 14:55:24,833 ACHTUNG: An empty Sentence was created! Are there empty strings in your dataset?\n",
      "2019-12-13 14:55:24,834 Ignore 1 sentence(s) with no tokens.\n"
     ]
    },
    {
     "name": "stderr",
     "output_type": "stream",
     "text": [
      " 36%|███▌      | 28746/80014 [1:02:33<54:36, 15.65it/s]  "
     ]
    },
    {
     "name": "stdout",
     "output_type": "stream",
     "text": [
      "2019-12-13 14:55:26,894 ACHTUNG: An empty Sentence was created! Are there empty strings in your dataset?\n",
      "2019-12-13 14:55:26,896 Ignore 1 sentence(s) with no tokens.\n"
     ]
    },
    {
     "name": "stderr",
     "output_type": "stream",
     "text": [
      " 36%|███▌      | 28759/80014 [1:02:34<33:55, 25.18it/s]"
     ]
    },
    {
     "name": "stdout",
     "output_type": "stream",
     "text": [
      "2019-12-13 14:55:27,294 ACHTUNG: An empty Sentence was created! Are there empty strings in your dataset?\n",
      "2019-12-13 14:55:27,296 Ignore 1 sentence(s) with no tokens.\n"
     ]
    },
    {
     "name": "stderr",
     "output_type": "stream",
     "text": [
      " 36%|███▌      | 28780/80014 [1:02:34<25:44, 33.18it/s]"
     ]
    },
    {
     "name": "stdout",
     "output_type": "stream",
     "text": [
      "2019-12-13 14:55:27,830 ACHTUNG: An empty Sentence was created! Are there empty strings in your dataset?\n",
      "2019-12-13 14:55:27,832 Ignore 1 sentence(s) with no tokens.\n"
     ]
    },
    {
     "name": "stderr",
     "output_type": "stream",
     "text": [
      " 36%|███▌      | 28808/80014 [1:02:35<24:14, 35.20it/s]"
     ]
    },
    {
     "name": "stdout",
     "output_type": "stream",
     "text": [
      "2019-12-13 14:55:28,658 ACHTUNG: An empty Sentence was created! Are there empty strings in your dataset?\n",
      "2019-12-13 14:55:28,660 Ignore 1 sentence(s) with no tokens.\n"
     ]
    },
    {
     "name": "stderr",
     "output_type": "stream",
     "text": [
      " 36%|███▌      | 28817/80014 [1:02:35<22:45, 37.48it/s]"
     ]
    },
    {
     "name": "stdout",
     "output_type": "stream",
     "text": [
      "2019-12-13 14:55:28,830 ACHTUNG: An empty Sentence was created! Are there empty strings in your dataset?\n",
      "2019-12-13 14:55:28,831 Ignore 1 sentence(s) with no tokens.\n"
     ]
    },
    {
     "name": "stderr",
     "output_type": "stream",
     "text": [
      " 36%|███▌      | 28833/80014 [1:02:36<24:17, 35.13it/s]"
     ]
    },
    {
     "name": "stdout",
     "output_type": "stream",
     "text": [
      "2019-12-13 14:55:29,359 ACHTUNG: An empty Sentence was created! Are there empty strings in your dataset?\n",
      "2019-12-13 14:55:29,360 Ignore 1 sentence(s) with no tokens.\n"
     ]
    },
    {
     "name": "stderr",
     "output_type": "stream",
     "text": [
      " 36%|███▌      | 28922/80014 [1:02:38<23:40, 35.96it/s]"
     ]
    },
    {
     "name": "stdout",
     "output_type": "stream",
     "text": [
      "2019-12-13 14:55:31,977 ACHTUNG: An empty Sentence was created! Are there empty strings in your dataset?\n",
      "2019-12-13 14:55:31,978 Ignore 1 sentence(s) with no tokens.\n"
     ]
    },
    {
     "name": "stderr",
     "output_type": "stream",
     "text": [
      " 36%|███▌      | 28934/80014 [1:02:39<23:00, 36.99it/s]"
     ]
    },
    {
     "name": "stdout",
     "output_type": "stream",
     "text": [
      "2019-12-13 14:55:32,292 ACHTUNG: An empty Sentence was created! Are there empty strings in your dataset?\n",
      "2019-12-13 14:55:32,293 Ignore 1 sentence(s) with no tokens.\n"
     ]
    },
    {
     "name": "stderr",
     "output_type": "stream",
     "text": [
      " 37%|███▋      | 29531/80014 [1:04:26<52:12, 16.12it/s]   "
     ]
    },
    {
     "name": "stdout",
     "output_type": "stream",
     "text": [
      "2019-12-13 14:57:19,423 ACHTUNG: An empty Sentence was created! Are there empty strings in your dataset?\n",
      "2019-12-13 14:57:19,425 Ignore 1 sentence(s) with no tokens.\n"
     ]
    },
    {
     "name": "stderr",
     "output_type": "stream",
     "text": [
      " 37%|███▋      | 29537/80014 [1:04:26<42:33, 19.77it/s]"
     ]
    },
    {
     "name": "stdout",
     "output_type": "stream",
     "text": [
      "2019-12-13 14:57:19,660 ACHTUNG: An empty Sentence was created! Are there empty strings in your dataset?\n",
      "2019-12-13 14:57:19,662 Ignore 1 sentence(s) with no tokens.\n"
     ]
    },
    {
     "name": "stderr",
     "output_type": "stream",
     "text": [
      " 37%|███▋      | 29543/80014 [1:04:26<36:59, 22.74it/s]"
     ]
    },
    {
     "name": "stdout",
     "output_type": "stream",
     "text": [
      "2019-12-13 14:57:19,882 ACHTUNG: An empty Sentence was created! Are there empty strings in your dataset?\n",
      "2019-12-13 14:57:19,883 Ignore 1 sentence(s) with no tokens.\n"
     ]
    },
    {
     "name": "stderr",
     "output_type": "stream",
     "text": [
      " 37%|███▋      | 29549/80014 [1:04:26<34:08, 24.64it/s]"
     ]
    },
    {
     "name": "stdout",
     "output_type": "stream",
     "text": [
      "2019-12-13 14:57:20,108 ACHTUNG: An empty Sentence was created! Are there empty strings in your dataset?\n",
      "2019-12-13 14:57:20,110 Ignore 1 sentence(s) with no tokens.\n"
     ]
    },
    {
     "name": "stderr",
     "output_type": "stream",
     "text": [
      " 40%|████      | 32016/80014 [1:10:34<58:49, 13.60it/s]  "
     ]
    },
    {
     "name": "stdout",
     "output_type": "stream",
     "text": [
      "2019-12-13 15:03:27,822 ACHTUNG: An empty Sentence was created! Are there empty strings in your dataset?\n",
      "2019-12-13 15:03:27,823 Ignore 1 sentence(s) with no tokens.\n"
     ]
    },
    {
     "name": "stderr",
     "output_type": "stream",
     "text": [
      " 40%|████      | 32031/80014 [1:10:34<31:57, 25.02it/s]"
     ]
    },
    {
     "name": "stdout",
     "output_type": "stream",
     "text": [
      "2019-12-13 15:03:28,057 ACHTUNG: An empty Sentence was created! Are there empty strings in your dataset?\n",
      "2019-12-13 15:03:28,058 Ignore 1 sentence(s) with no tokens.\n"
     ]
    },
    {
     "name": "stderr",
     "output_type": "stream",
     "text": [
      " 40%|████      | 32042/80014 [1:10:35<24:36, 32.49it/s]"
     ]
    },
    {
     "name": "stdout",
     "output_type": "stream",
     "text": [
      "2019-12-13 15:03:28,292 ACHTUNG: An empty Sentence was created! Are there empty strings in your dataset?\n",
      "2019-12-13 15:03:28,293 Ignore 1 sentence(s) with no tokens.\n"
     ]
    },
    {
     "name": "stderr",
     "output_type": "stream",
     "text": [
      " 40%|████      | 32063/80014 [1:10:35<20:45, 38.50it/s]"
     ]
    },
    {
     "name": "stdout",
     "output_type": "stream",
     "text": [
      "2019-12-13 15:03:28,813 ACHTUNG: An empty Sentence was created! Are there empty strings in your dataset?\n",
      "2019-12-13 15:03:28,815 Ignore 1 sentence(s) with no tokens.\n"
     ]
    },
    {
     "name": "stderr",
     "output_type": "stream",
     "text": [
      " 40%|████      | 32074/80014 [1:10:35<19:00, 42.03it/s]"
     ]
    },
    {
     "name": "stdout",
     "output_type": "stream",
     "text": [
      "2019-12-13 15:03:29,045 ACHTUNG: An empty Sentence was created! Are there empty strings in your dataset?\n",
      "2019-12-13 15:03:29,047 Ignore 1 sentence(s) with no tokens.\n"
     ]
    },
    {
     "name": "stderr",
     "output_type": "stream",
     "text": [
      " 40%|████      | 32085/80014 [1:10:36<18:06, 44.11it/s]"
     ]
    },
    {
     "name": "stdout",
     "output_type": "stream",
     "text": [
      "2019-12-13 15:03:29,276 ACHTUNG: An empty Sentence was created! Are there empty strings in your dataset?\n",
      "2019-12-13 15:03:29,278 Ignore 1 sentence(s) with no tokens.\n"
     ]
    },
    {
     "name": "stderr",
     "output_type": "stream",
     "text": [
      " 40%|████      | 32106/80014 [1:10:36<19:03, 41.88it/s]"
     ]
    },
    {
     "name": "stdout",
     "output_type": "stream",
     "text": [
      "2019-12-13 15:03:29,794 ACHTUNG: An empty Sentence was created! Are there empty strings in your dataset?\n",
      "2019-12-13 15:03:29,796 Ignore 1 sentence(s) with no tokens.\n"
     ]
    },
    {
     "name": "stderr",
     "output_type": "stream",
     "text": [
      " 40%|████      | 32117/80014 [1:10:36<18:14, 43.75it/s]"
     ]
    },
    {
     "name": "stdout",
     "output_type": "stream",
     "text": [
      "2019-12-13 15:03:30,029 ACHTUNG: An empty Sentence was created! Are there empty strings in your dataset?\n",
      "2019-12-13 15:03:30,030 Ignore 1 sentence(s) with no tokens.\n"
     ]
    },
    {
     "name": "stderr",
     "output_type": "stream",
     "text": [
      " 40%|████      | 32128/80014 [1:10:37<17:47, 44.84it/s]"
     ]
    },
    {
     "name": "stdout",
     "output_type": "stream",
     "text": [
      "2019-12-13 15:03:30,263 ACHTUNG: An empty Sentence was created! Are there empty strings in your dataset?\n",
      "2019-12-13 15:03:30,264 Ignore 1 sentence(s) with no tokens.\n"
     ]
    },
    {
     "name": "stderr",
     "output_type": "stream",
     "text": [
      " 40%|████      | 32149/80014 [1:10:37<18:59, 42.00it/s]"
     ]
    },
    {
     "name": "stdout",
     "output_type": "stream",
     "text": [
      "2019-12-13 15:03:30,781 ACHTUNG: An empty Sentence was created! Are there empty strings in your dataset?\n",
      "2019-12-13 15:03:30,783 Ignore 1 sentence(s) with no tokens.\n"
     ]
    },
    {
     "name": "stderr",
     "output_type": "stream",
     "text": [
      " 40%|████      | 32160/80014 [1:10:37<18:14, 43.73it/s]"
     ]
    },
    {
     "name": "stdout",
     "output_type": "stream",
     "text": [
      "2019-12-13 15:03:31,018 ACHTUNG: An empty Sentence was created! Are there empty strings in your dataset?\n",
      "2019-12-13 15:03:31,020 Ignore 1 sentence(s) with no tokens.\n"
     ]
    },
    {
     "name": "stderr",
     "output_type": "stream",
     "text": [
      " 40%|████      | 32171/80014 [1:10:38<17:50, 44.71it/s]"
     ]
    },
    {
     "name": "stdout",
     "output_type": "stream",
     "text": [
      "2019-12-13 15:03:31,253 ACHTUNG: An empty Sentence was created! Are there empty strings in your dataset?\n",
      "2019-12-13 15:03:31,254 Ignore 1 sentence(s) with no tokens.\n"
     ]
    },
    {
     "name": "stderr",
     "output_type": "stream",
     "text": [
      " 40%|████      | 32192/80014 [1:10:38<19:11, 41.54it/s]"
     ]
    },
    {
     "name": "stdout",
     "output_type": "stream",
     "text": [
      "2019-12-13 15:03:31,775 ACHTUNG: An empty Sentence was created! Are there empty strings in your dataset?\n",
      "2019-12-13 15:03:31,777 Ignore 1 sentence(s) with no tokens.\n"
     ]
    },
    {
     "name": "stderr",
     "output_type": "stream",
     "text": [
      " 40%|████      | 32203/80014 [1:10:38<18:14, 43.68it/s]"
     ]
    },
    {
     "name": "stdout",
     "output_type": "stream",
     "text": [
      "2019-12-13 15:03:32,008 ACHTUNG: An empty Sentence was created! Are there empty strings in your dataset?\n",
      "2019-12-13 15:03:32,010 Ignore 1 sentence(s) with no tokens.\n"
     ]
    },
    {
     "name": "stderr",
     "output_type": "stream",
     "text": [
      " 40%|████      | 32214/80014 [1:10:39<17:40, 45.09it/s]"
     ]
    },
    {
     "name": "stdout",
     "output_type": "stream",
     "text": [
      "2019-12-13 15:03:32,239 ACHTUNG: An empty Sentence was created! Are there empty strings in your dataset?\n",
      "2019-12-13 15:03:32,240 Ignore 1 sentence(s) with no tokens.\n"
     ]
    },
    {
     "name": "stderr",
     "output_type": "stream",
     "text": [
      " 40%|████      | 32240/80014 [1:10:39<19:01, 41.86it/s]"
     ]
    },
    {
     "name": "stdout",
     "output_type": "stream",
     "text": [
      "2019-12-13 15:03:32,762 ACHTUNG: An empty Sentence was created! Are there empty strings in your dataset?\n",
      "2019-12-13 15:03:32,764 Ignore 1 sentence(s) with no tokens.\n"
     ]
    },
    {
     "name": "stderr",
     "output_type": "stream",
     "text": [
      " 40%|████      | 32251/80014 [1:10:39<18:07, 43.93it/s]"
     ]
    },
    {
     "name": "stdout",
     "output_type": "stream",
     "text": [
      "2019-12-13 15:03:32,995 ACHTUNG: An empty Sentence was created! Are there empty strings in your dataset?\n",
      "2019-12-13 15:03:32,997 Ignore 1 sentence(s) with no tokens.\n"
     ]
    },
    {
     "name": "stderr",
     "output_type": "stream",
     "text": [
      " 40%|████      | 32262/80014 [1:10:40<17:43, 44.90it/s]"
     ]
    },
    {
     "name": "stdout",
     "output_type": "stream",
     "text": [
      "2019-12-13 15:03:33,229 ACHTUNG: An empty Sentence was created! Are there empty strings in your dataset?\n",
      "2019-12-13 15:03:33,231 Ignore 1 sentence(s) with no tokens.\n"
     ]
    },
    {
     "name": "stderr",
     "output_type": "stream",
     "text": [
      " 40%|████      | 32283/80014 [1:10:40<19:07, 41.60it/s]"
     ]
    },
    {
     "name": "stdout",
     "output_type": "stream",
     "text": [
      "2019-12-13 15:03:33,752 ACHTUNG: An empty Sentence was created! Are there empty strings in your dataset?\n",
      "2019-12-13 15:03:33,754 Ignore 1 sentence(s) with no tokens.\n"
     ]
    },
    {
     "name": "stderr",
     "output_type": "stream",
     "text": [
      " 40%|████      | 32294/80014 [1:10:40<18:16, 43.52it/s]"
     ]
    },
    {
     "name": "stdout",
     "output_type": "stream",
     "text": [
      "2019-12-13 15:03:33,987 ACHTUNG: An empty Sentence was created! Are there empty strings in your dataset?\n",
      "2019-12-13 15:03:33,989 Ignore 1 sentence(s) with no tokens.\n"
     ]
    },
    {
     "name": "stderr",
     "output_type": "stream",
     "text": [
      " 40%|████      | 32305/80014 [1:10:41<17:50, 44.55it/s]"
     ]
    },
    {
     "name": "stdout",
     "output_type": "stream",
     "text": [
      "2019-12-13 15:03:34,223 ACHTUNG: An empty Sentence was created! Are there empty strings in your dataset?\n",
      "2019-12-13 15:03:34,224 Ignore 1 sentence(s) with no tokens.\n"
     ]
    },
    {
     "name": "stderr",
     "output_type": "stream",
     "text": [
      " 45%|████▌     | 36297/80014 [1:18:57<1:33:26,  7.80it/s] "
     ]
    },
    {
     "name": "stdout",
     "output_type": "stream",
     "text": [
      "2019-12-13 15:11:50,284 ACHTUNG: An empty Sentence was created! Are there empty strings in your dataset?\n",
      "2019-12-13 15:11:50,286 Ignore 1 sentence(s) with no tokens.\n"
     ]
    },
    {
     "name": "stderr",
     "output_type": "stream",
     "text": [
      " 45%|████▌     | 36309/80014 [1:18:57<44:03, 16.54it/s]  "
     ]
    },
    {
     "name": "stdout",
     "output_type": "stream",
     "text": [
      "2019-12-13 15:11:50,668 ACHTUNG: An empty Sentence was created! Are there empty strings in your dataset?\n",
      "2019-12-13 15:11:50,669 Ignore 1 sentence(s) with no tokens.\n",
      "2019-12-13 15:11:50,671 ACHTUNG: An empty Sentence was created! Are there empty strings in your dataset?\n",
      "2019-12-13 15:11:50,672 Ignore 1 sentence(s) with no tokens.\n",
      "2019-12-13 15:11:50,674 ACHTUNG: An empty Sentence was created! Are there empty strings in your dataset?\n",
      "2019-12-13 15:11:50,675 Ignore 1 sentence(s) with no tokens.\n"
     ]
    },
    {
     "name": "stderr",
     "output_type": "stream",
     "text": [
      " 46%|████▌     | 36459/80014 [1:19:10<1:17:49,  9.33it/s]"
     ]
    },
    {
     "name": "stdout",
     "output_type": "stream",
     "text": [
      "2019-12-13 15:12:03,661 ACHTUNG: An empty Sentence was created! Are there empty strings in your dataset?\n",
      "2019-12-13 15:12:03,663 Ignore 1 sentence(s) with no tokens.\n"
     ]
    },
    {
     "name": "stderr",
     "output_type": "stream",
     "text": [
      " 46%|████▌     | 36477/80014 [1:19:11<32:14, 22.51it/s]  "
     ]
    },
    {
     "name": "stdout",
     "output_type": "stream",
     "text": [
      "2019-12-13 15:12:04,198 ACHTUNG: An empty Sentence was created! Are there empty strings in your dataset?\n",
      "2019-12-13 15:12:04,200 Ignore 1 sentence(s) with no tokens.\n"
     ]
    },
    {
     "name": "stderr",
     "output_type": "stream",
     "text": [
      "\r",
      " 46%|████▌     | 36482/80014 [1:19:11<27:41, 26.21it/s]"
     ]
    },
    {
     "name": "stdout",
     "output_type": "stream",
     "text": [
      "2019-12-13 15:12:04,385 ACHTUNG: An empty Sentence was created! Are there empty strings in your dataset?\n",
      "2019-12-13 15:12:04,387 Ignore 1 sentence(s) with no tokens.\n"
     ]
    },
    {
     "name": "stderr",
     "output_type": "stream",
     "text": [
      " 46%|████▌     | 36500/80014 [1:19:11<19:53, 36.46it/s]"
     ]
    },
    {
     "name": "stdout",
     "output_type": "stream",
     "text": [
      "2019-12-13 15:12:04,888 ACHTUNG: An empty Sentence was created! Are there empty strings in your dataset?\n",
      "2019-12-13 15:12:04,890 Ignore 1 sentence(s) with no tokens.\n"
     ]
    },
    {
     "name": "stderr",
     "output_type": "stream",
     "text": [
      " 46%|████▌     | 36517/80014 [1:19:12<22:38, 32.01it/s]"
     ]
    },
    {
     "name": "stdout",
     "output_type": "stream",
     "text": [
      "2019-12-13 15:12:05,372 ACHTUNG: An empty Sentence was created! Are there empty strings in your dataset?\n",
      "2019-12-13 15:12:05,373 Ignore 1 sentence(s) with no tokens.\n"
     ]
    },
    {
     "name": "stderr",
     "output_type": "stream",
     "text": [
      " 46%|████▌     | 36527/80014 [1:19:12<20:11, 35.89it/s]"
     ]
    },
    {
     "name": "stdout",
     "output_type": "stream",
     "text": [
      "2019-12-13 15:12:05,528 ACHTUNG: An empty Sentence was created! Are there empty strings in your dataset?\n",
      "2019-12-13 15:12:05,529 Ignore 1 sentence(s) with no tokens.\n"
     ]
    },
    {
     "name": "stderr",
     "output_type": "stream",
     "text": [
      "\r",
      " 46%|████▌     | 36531/80014 [1:19:12<21:30, 33.70it/s]"
     ]
    },
    {
     "name": "stdout",
     "output_type": "stream",
     "text": [
      "2019-12-13 15:12:05,748 ACHTUNG: An empty Sentence was created! Are there empty strings in your dataset?\n",
      "2019-12-13 15:12:05,750 Ignore 1 sentence(s) with no tokens.\n"
     ]
    },
    {
     "name": "stderr",
     "output_type": "stream",
     "text": [
      "\r",
      " 46%|████▌     | 36536/80014 [1:19:12<19:51, 36.50it/s]"
     ]
    },
    {
     "name": "stdout",
     "output_type": "stream",
     "text": [
      "2019-12-13 15:12:05,843 ACHTUNG: An empty Sentence was created! Are there empty strings in your dataset?\n",
      "2019-12-13 15:12:05,845 Ignore 1 sentence(s) with no tokens.\n"
     ]
    },
    {
     "name": "stderr",
     "output_type": "stream",
     "text": [
      " 46%|████▌     | 36545/80014 [1:19:12<20:45, 34.90it/s]"
     ]
    },
    {
     "name": "stdout",
     "output_type": "stream",
     "text": [
      "2019-12-13 15:12:06,030 ACHTUNG: An empty Sentence was created! Are there empty strings in your dataset?\n",
      "2019-12-13 15:12:06,031 Ignore 1 sentence(s) with no tokens.\n"
     ]
    },
    {
     "name": "stderr",
     "output_type": "stream",
     "text": [
      "\r",
      " 46%|████▌     | 36549/80014 [1:19:13<20:05, 36.04it/s]"
     ]
    },
    {
     "name": "stdout",
     "output_type": "stream",
     "text": [
      "2019-12-13 15:12:06,166 ACHTUNG: An empty Sentence was created! Are there empty strings in your dataset?\n",
      "2019-12-13 15:12:06,167 Ignore 1 sentence(s) with no tokens.\n"
     ]
    },
    {
     "name": "stderr",
     "output_type": "stream",
     "text": [
      "\r",
      " 46%|████▌     | 36555/80014 [1:19:13<19:33, 37.05it/s]"
     ]
    },
    {
     "name": "stdout",
     "output_type": "stream",
     "text": [
      "2019-12-13 15:12:06,317 ACHTUNG: An empty Sentence was created! Are there empty strings in your dataset?\n",
      "2019-12-13 15:12:06,318 Ignore 1 sentence(s) with no tokens.\n"
     ]
    },
    {
     "name": "stderr",
     "output_type": "stream",
     "text": [
      "\r",
      " 46%|████▌     | 36560/80014 [1:19:13<18:21, 39.46it/s]"
     ]
    },
    {
     "name": "stdout",
     "output_type": "stream",
     "text": [
      "2019-12-13 15:12:06,492 ACHTUNG: An empty Sentence was created! Are there empty strings in your dataset?\n",
      "2019-12-13 15:12:06,494 Ignore 1 sentence(s) with no tokens.\n"
     ]
    },
    {
     "name": "stderr",
     "output_type": "stream",
     "text": [
      "\r",
      " 46%|████▌     | 36565/80014 [1:19:13<18:11, 39.80it/s]"
     ]
    },
    {
     "name": "stdout",
     "output_type": "stream",
     "text": [
      "2019-12-13 15:12:06,614 ACHTUNG: An empty Sentence was created! Are there empty strings in your dataset?\n",
      "2019-12-13 15:12:06,615 Ignore 1 sentence(s) with no tokens.\n"
     ]
    },
    {
     "name": "stderr",
     "output_type": "stream",
     "text": [
      " 46%|████▌     | 36574/80014 [1:19:13<18:29, 39.14it/s]"
     ]
    },
    {
     "name": "stdout",
     "output_type": "stream",
     "text": [
      "2019-12-13 15:12:06,751 ACHTUNG: An empty Sentence was created! Are there empty strings in your dataset?\n",
      "2019-12-13 15:12:06,752 Ignore 1 sentence(s) with no tokens.\n"
     ]
    },
    {
     "name": "stderr",
     "output_type": "stream",
     "text": [
      "\r",
      " 46%|████▌     | 36578/80014 [1:19:13<21:35, 33.53it/s]"
     ]
    },
    {
     "name": "stdout",
     "output_type": "stream",
     "text": [
      "2019-12-13 15:12:06,982 ACHTUNG: An empty Sentence was created! Are there empty strings in your dataset?\n",
      "2019-12-13 15:12:06,984 Ignore 1 sentence(s) with no tokens.\n"
     ]
    },
    {
     "name": "stderr",
     "output_type": "stream",
     "text": [
      " 46%|████▌     | 36587/80014 [1:19:14<20:07, 35.95it/s]"
     ]
    },
    {
     "name": "stdout",
     "output_type": "stream",
     "text": [
      "2019-12-13 15:12:07,134 ACHTUNG: An empty Sentence was created! Are there empty strings in your dataset?\n",
      "2019-12-13 15:12:07,136 Ignore 1 sentence(s) with no tokens.\n"
     ]
    },
    {
     "name": "stderr",
     "output_type": "stream",
     "text": [
      " 49%|████▉     | 39359/80014 [1:26:51<37:43, 17.96it/s]   "
     ]
    },
    {
     "name": "stdout",
     "output_type": "stream",
     "text": [
      "2019-12-13 15:19:44,380 ACHTUNG: An empty Sentence was created! Are there empty strings in your dataset?\n",
      "2019-12-13 15:19:44,382 Ignore 1 sentence(s) with no tokens.\n",
      "2019-12-13 15:19:44,384 ACHTUNG: An empty Sentence was created! Are there empty strings in your dataset?\n",
      "2019-12-13 15:19:44,385 Ignore 1 sentence(s) with no tokens.\n"
     ]
    },
    {
     "name": "stderr",
     "output_type": "stream",
     "text": [
      " 56%|█████▋    | 45050/80014 [1:42:08<46:59, 12.40it/s]  "
     ]
    },
    {
     "name": "stdout",
     "output_type": "stream",
     "text": [
      "2019-12-13 15:35:01,490 ACHTUNG: An empty Sentence was created! Are there empty strings in your dataset?\n",
      "2019-12-13 15:35:01,491 Ignore 1 sentence(s) with no tokens.\n"
     ]
    },
    {
     "name": "stderr",
     "output_type": "stream",
     "text": [
      "\r",
      " 56%|█████▋    | 45055/80014 [1:42:08<36:29, 15.96it/s]"
     ]
    },
    {
     "name": "stdout",
     "output_type": "stream",
     "text": [
      "2019-12-13 15:35:01,641 ACHTUNG: An empty Sentence was created! Are there empty strings in your dataset?\n",
      "2019-12-13 15:35:01,643 Ignore 1 sentence(s) with no tokens.\n"
     ]
    },
    {
     "name": "stderr",
     "output_type": "stream",
     "text": [
      " 56%|█████▋    | 45068/80014 [1:42:08<23:26, 24.84it/s]"
     ]
    },
    {
     "name": "stdout",
     "output_type": "stream",
     "text": [
      "2019-12-13 15:35:01,792 ACHTUNG: An empty Sentence was created! Are there empty strings in your dataset?\n",
      "2019-12-13 15:35:01,793 Ignore 1 sentence(s) with no tokens.\n"
     ]
    },
    {
     "name": "stderr",
     "output_type": "stream",
     "text": [
      "\r",
      " 56%|█████▋    | 45074/80014 [1:42:08<19:51, 29.32it/s]"
     ]
    },
    {
     "name": "stdout",
     "output_type": "stream",
     "text": [
      "2019-12-13 15:35:01,955 ACHTUNG: An empty Sentence was created! Are there empty strings in your dataset?\n",
      "2019-12-13 15:35:01,956 Ignore 1 sentence(s) with no tokens.\n"
     ]
    },
    {
     "name": "stderr",
     "output_type": "stream",
     "text": [
      "\r",
      " 56%|█████▋    | 45080/80014 [1:42:08<17:15, 33.73it/s]"
     ]
    },
    {
     "name": "stdout",
     "output_type": "stream",
     "text": [
      "2019-12-13 15:35:02,104 ACHTUNG: An empty Sentence was created! Are there empty strings in your dataset?\n",
      "2019-12-13 15:35:02,106 Ignore 1 sentence(s) with no tokens.\n"
     ]
    },
    {
     "name": "stderr",
     "output_type": "stream",
     "text": [
      " 56%|█████▋    | 45091/80014 [1:42:09<14:41, 39.62it/s]"
     ]
    },
    {
     "name": "stdout",
     "output_type": "stream",
     "text": [
      "2019-12-13 15:35:02,275 ACHTUNG: An empty Sentence was created! Are there empty strings in your dataset?\n",
      "2019-12-13 15:35:02,278 Ignore 1 sentence(s) with no tokens.\n"
     ]
    },
    {
     "name": "stderr",
     "output_type": "stream",
     "text": [
      "\r",
      " 56%|█████▋    | 45096/80014 [1:42:09<14:05, 41.31it/s]"
     ]
    },
    {
     "name": "stdout",
     "output_type": "stream",
     "text": [
      "2019-12-13 15:35:02,447 ACHTUNG: An empty Sentence was created! Are there empty strings in your dataset?\n",
      "2019-12-13 15:35:02,449 Ignore 1 sentence(s) with no tokens.\n"
     ]
    },
    {
     "name": "stderr",
     "output_type": "stream",
     "text": [
      " 56%|█████▋    | 45108/80014 [1:42:09<12:35, 46.20it/s]"
     ]
    },
    {
     "name": "stdout",
     "output_type": "stream",
     "text": [
      "2019-12-13 15:35:02,591 ACHTUNG: An empty Sentence was created! Are there empty strings in your dataset?\n",
      "2019-12-13 15:35:02,593 Ignore 1 sentence(s) with no tokens.\n"
     ]
    },
    {
     "name": "stderr",
     "output_type": "stream",
     "text": [
      "\r",
      " 56%|█████▋    | 45114/80014 [1:42:09<11:47, 49.35it/s]"
     ]
    },
    {
     "name": "stdout",
     "output_type": "stream",
     "text": [
      "2019-12-13 15:35:02,732 ACHTUNG: An empty Sentence was created! Are there empty strings in your dataset?\n",
      "2019-12-13 15:35:02,733 Ignore 1 sentence(s) with no tokens.\n"
     ]
    },
    {
     "name": "stderr",
     "output_type": "stream",
     "text": [
      "\r",
      " 56%|█████▋    | 45120/80014 [1:42:09<11:49, 49.20it/s]"
     ]
    },
    {
     "name": "stdout",
     "output_type": "stream",
     "text": [
      "2019-12-13 15:35:02,886 ACHTUNG: An empty Sentence was created! Are there empty strings in your dataset?\n",
      "2019-12-13 15:35:02,887 Ignore 1 sentence(s) with no tokens.\n"
     ]
    },
    {
     "name": "stderr",
     "output_type": "stream",
     "text": [
      " 56%|█████▋    | 45157/80014 [1:42:13<48:45, 11.92it/s]  "
     ]
    },
    {
     "name": "stdout",
     "output_type": "stream",
     "text": [
      "2019-12-13 15:35:06,270 ACHTUNG: An empty Sentence was created! Are there empty strings in your dataset?\n",
      "2019-12-13 15:35:06,272 Ignore 1 sentence(s) with no tokens.\n"
     ]
    },
    {
     "name": "stderr",
     "output_type": "stream",
     "text": [
      " 56%|█████▋    | 45168/80014 [1:42:13<29:30, 19.68it/s]"
     ]
    },
    {
     "name": "stdout",
     "output_type": "stream",
     "text": [
      "2019-12-13 15:35:06,412 ACHTUNG: An empty Sentence was created! Are there empty strings in your dataset?\n",
      "2019-12-13 15:35:06,413 Ignore 1 sentence(s) with no tokens.\n"
     ]
    },
    {
     "name": "stderr",
     "output_type": "stream",
     "text": [
      "\r",
      " 56%|█████▋    | 45174/80014 [1:42:13<23:36, 24.59it/s]"
     ]
    },
    {
     "name": "stdout",
     "output_type": "stream",
     "text": [
      "2019-12-13 15:35:06,549 ACHTUNG: An empty Sentence was created! Are there empty strings in your dataset?\n",
      "2019-12-13 15:35:06,551 Ignore 1 sentence(s) with no tokens.\n"
     ]
    },
    {
     "name": "stderr",
     "output_type": "stream",
     "text": [
      " 56%|█████▋    | 45186/80014 [1:42:13<16:56, 34.26it/s]"
     ]
    },
    {
     "name": "stdout",
     "output_type": "stream",
     "text": [
      "2019-12-13 15:35:06,696 ACHTUNG: An empty Sentence was created! Are there empty strings in your dataset?\n",
      "2019-12-13 15:35:06,697 Ignore 1 sentence(s) with no tokens.\n"
     ]
    },
    {
     "name": "stderr",
     "output_type": "stream",
     "text": [
      "\r",
      " 56%|█████▋    | 45192/80014 [1:42:13<15:02, 38.57it/s]"
     ]
    },
    {
     "name": "stdout",
     "output_type": "stream",
     "text": [
      "2019-12-13 15:35:06,844 ACHTUNG: An empty Sentence was created! Are there empty strings in your dataset?\n",
      "2019-12-13 15:35:06,845 Ignore 1 sentence(s) with no tokens.\n"
     ]
    },
    {
     "name": "stderr",
     "output_type": "stream",
     "text": [
      "\r",
      " 56%|█████▋    | 45198/80014 [1:42:13<13:33, 42.80it/s]"
     ]
    },
    {
     "name": "stdout",
     "output_type": "stream",
     "text": [
      "2019-12-13 15:35:06,990 ACHTUNG: An empty Sentence was created! Are there empty strings in your dataset?\n",
      "2019-12-13 15:35:06,991 Ignore 1 sentence(s) with no tokens.\n"
     ]
    },
    {
     "name": "stderr",
     "output_type": "stream",
     "text": [
      " 57%|█████▋    | 45210/80014 [1:42:14<13:27, 43.08it/s]"
     ]
    },
    {
     "name": "stdout",
     "output_type": "stream",
     "text": [
      "2019-12-13 15:35:07,180 ACHTUNG: An empty Sentence was created! Are there empty strings in your dataset?\n",
      "2019-12-13 15:35:07,180 Ignore 1 sentence(s) with no tokens.\n"
     ]
    },
    {
     "name": "stderr",
     "output_type": "stream",
     "text": [
      "\r",
      " 57%|█████▋    | 45215/80014 [1:42:14<13:59, 41.46it/s]"
     ]
    },
    {
     "name": "stdout",
     "output_type": "stream",
     "text": [
      "2019-12-13 15:35:07,383 ACHTUNG: An empty Sentence was created! Are there empty strings in your dataset?\n",
      "2019-12-13 15:35:07,384 Ignore 1 sentence(s) with no tokens.\n"
     ]
    },
    {
     "name": "stderr",
     "output_type": "stream",
     "text": [
      " 57%|█████▋    | 45225/80014 [1:42:14<15:30, 37.37it/s]"
     ]
    },
    {
     "name": "stdout",
     "output_type": "stream",
     "text": [
      "2019-12-13 15:35:07,621 ACHTUNG: An empty Sentence was created! Are there empty strings in your dataset?\n",
      "2019-12-13 15:35:07,622 Ignore 1 sentence(s) with no tokens.\n"
     ]
    },
    {
     "name": "stderr",
     "output_type": "stream",
     "text": [
      "\r",
      " 57%|█████▋    | 45231/80014 [1:42:14<14:01, 41.36it/s]"
     ]
    },
    {
     "name": "stdout",
     "output_type": "stream",
     "text": [
      "2019-12-13 15:35:07,763 ACHTUNG: An empty Sentence was created! Are there empty strings in your dataset?\n",
      "2019-12-13 15:35:07,764 Ignore 1 sentence(s) with no tokens.\n"
     ]
    },
    {
     "name": "stderr",
     "output_type": "stream",
     "text": [
      " 57%|█████▋    | 45282/80014 [1:42:22<56:02, 10.33it/s]  "
     ]
    },
    {
     "name": "stdout",
     "output_type": "stream",
     "text": [
      "2019-12-13 15:35:15,733 ACHTUNG: An empty Sentence was created! Are there empty strings in your dataset?\n",
      "2019-12-13 15:35:15,735 Ignore 1 sentence(s) with no tokens.\n"
     ]
    },
    {
     "name": "stderr",
     "output_type": "stream",
     "text": [
      " 57%|█████▋    | 45293/80014 [1:42:22<33:47, 17.13it/s]"
     ]
    },
    {
     "name": "stdout",
     "output_type": "stream",
     "text": [
      "2019-12-13 15:35:15,910 ACHTUNG: An empty Sentence was created! Are there empty strings in your dataset?\n",
      "2019-12-13 15:35:15,911 Ignore 1 sentence(s) with no tokens.\n"
     ]
    },
    {
     "name": "stderr",
     "output_type": "stream",
     "text": [
      "\r",
      " 57%|█████▋    | 45298/80014 [1:42:22<27:39, 20.92it/s]"
     ]
    },
    {
     "name": "stdout",
     "output_type": "stream",
     "text": [
      "2019-12-13 15:35:16,084 ACHTUNG: An empty Sentence was created! Are there empty strings in your dataset?\n",
      "2019-12-13 15:35:16,085 Ignore 1 sentence(s) with no tokens.\n"
     ]
    },
    {
     "name": "stderr",
     "output_type": "stream",
     "text": [
      " 57%|█████▋    | 45309/80014 [1:42:23<19:45, 29.28it/s]"
     ]
    },
    {
     "name": "stdout",
     "output_type": "stream",
     "text": [
      "2019-12-13 15:35:16,258 ACHTUNG: An empty Sentence was created! Are there empty strings in your dataset?\n",
      "2019-12-13 15:35:16,260 Ignore 1 sentence(s) with no tokens.\n"
     ]
    },
    {
     "name": "stderr",
     "output_type": "stream",
     "text": [
      "\r",
      " 57%|█████▋    | 45314/80014 [1:42:23<17:36, 32.84it/s]"
     ]
    },
    {
     "name": "stdout",
     "output_type": "stream",
     "text": [
      "2019-12-13 15:35:16,434 ACHTUNG: An empty Sentence was created! Are there empty strings in your dataset?\n",
      "2019-12-13 15:35:16,435 Ignore 1 sentence(s) with no tokens.\n"
     ]
    },
    {
     "name": "stderr",
     "output_type": "stream",
     "text": [
      " 57%|█████▋    | 45324/80014 [1:42:23<15:35, 37.08it/s]"
     ]
    },
    {
     "name": "stdout",
     "output_type": "stream",
     "text": [
      "2019-12-13 15:35:16,622 ACHTUNG: An empty Sentence was created! Are there empty strings in your dataset?\n",
      "2019-12-13 15:35:16,623 Ignore 1 sentence(s) with no tokens.\n"
     ]
    },
    {
     "name": "stderr",
     "output_type": "stream",
     "text": [
      "\r",
      " 57%|█████▋    | 45329/80014 [1:42:23<14:57, 38.67it/s]"
     ]
    },
    {
     "name": "stdout",
     "output_type": "stream",
     "text": [
      "2019-12-13 15:35:16,795 ACHTUNG: An empty Sentence was created! Are there empty strings in your dataset?\n",
      "2019-12-13 15:35:16,796 Ignore 1 sentence(s) with no tokens.\n"
     ]
    },
    {
     "name": "stderr",
     "output_type": "stream",
     "text": [
      " 57%|█████▋    | 45340/80014 [1:42:23<13:42, 42.15it/s]"
     ]
    },
    {
     "name": "stdout",
     "output_type": "stream",
     "text": [
      "2019-12-13 15:35:16,968 ACHTUNG: An empty Sentence was created! Are there empty strings in your dataset?\n",
      "2019-12-13 15:35:16,969 Ignore 1 sentence(s) with no tokens.\n"
     ]
    },
    {
     "name": "stderr",
     "output_type": "stream",
     "text": [
      "\r",
      " 57%|█████▋    | 45345/80014 [1:42:23<13:18, 43.42it/s]"
     ]
    },
    {
     "name": "stdout",
     "output_type": "stream",
     "text": [
      "2019-12-13 15:35:17,141 ACHTUNG: An empty Sentence was created! Are there empty strings in your dataset?\n",
      "2019-12-13 15:35:17,142 Ignore 1 sentence(s) with no tokens.\n"
     ]
    },
    {
     "name": "stderr",
     "output_type": "stream",
     "text": [
      " 57%|█████▋    | 45356/80014 [1:42:24<13:09, 43.91it/s]"
     ]
    },
    {
     "name": "stdout",
     "output_type": "stream",
     "text": [
      "2019-12-13 15:35:17,322 ACHTUNG: An empty Sentence was created! Are there empty strings in your dataset?\n",
      "2019-12-13 15:35:17,324 Ignore 1 sentence(s) with no tokens.\n"
     ]
    },
    {
     "name": "stderr",
     "output_type": "stream",
     "text": [
      " 57%|█████▋    | 45391/80014 [1:42:27<1:00:10,  9.59it/s]"
     ]
    },
    {
     "name": "stdout",
     "output_type": "stream",
     "text": [
      "2019-12-13 15:35:20,801 ACHTUNG: An empty Sentence was created! Are there empty strings in your dataset?\n",
      "2019-12-13 15:35:20,802 Ignore 1 sentence(s) with no tokens.\n"
     ]
    },
    {
     "name": "stderr",
     "output_type": "stream",
     "text": [
      "\r",
      " 57%|█████▋    | 45397/80014 [1:42:27<45:13, 12.76it/s]  "
     ]
    },
    {
     "name": "stdout",
     "output_type": "stream",
     "text": [
      "2019-12-13 15:35:20,891 ACHTUNG: An empty Sentence was created! Are there empty strings in your dataset?\n",
      "2019-12-13 15:35:20,893 Ignore 1 sentence(s) with no tokens.\n"
     ]
    },
    {
     "name": "stderr",
     "output_type": "stream",
     "text": [
      "\r",
      " 57%|█████▋    | 45403/80014 [1:42:27<34:39, 16.64it/s]"
     ]
    },
    {
     "name": "stdout",
     "output_type": "stream",
     "text": [
      "2019-12-13 15:35:20,978 ACHTUNG: An empty Sentence was created! Are there empty strings in your dataset?\n",
      "2019-12-13 15:35:20,980 Ignore 1 sentence(s) with no tokens.\n",
      "2019-12-13 15:35:21,066 ACHTUNG: An empty Sentence was created! Are there empty strings in your dataset?\n",
      "2019-12-13 15:35:21,068 Ignore 1 sentence(s) with no tokens.\n"
     ]
    },
    {
     "name": "stderr",
     "output_type": "stream",
     "text": [
      "\r",
      " 57%|█████▋    | 45410/80014 [1:42:28<27:19, 21.10it/s]"
     ]
    },
    {
     "name": "stdout",
     "output_type": "stream",
     "text": [
      "2019-12-13 15:35:21,154 ACHTUNG: An empty Sentence was created! Are there empty strings in your dataset?\n",
      "2019-12-13 15:35:21,156 Ignore 1 sentence(s) with no tokens.\n"
     ]
    },
    {
     "name": "stderr",
     "output_type": "stream",
     "text": [
      "\r",
      " 57%|█████▋    | 45416/80014 [1:42:28<22:10, 26.00it/s]"
     ]
    },
    {
     "name": "stdout",
     "output_type": "stream",
     "text": [
      "2019-12-13 15:35:21,243 ACHTUNG: An empty Sentence was created! Are there empty strings in your dataset?\n",
      "2019-12-13 15:35:21,245 Ignore 1 sentence(s) with no tokens.\n"
     ]
    },
    {
     "name": "stderr",
     "output_type": "stream",
     "text": [
      "\r",
      " 57%|█████▋    | 45422/80014 [1:42:28<18:34, 31.04it/s]"
     ]
    },
    {
     "name": "stdout",
     "output_type": "stream",
     "text": [
      "2019-12-13 15:35:21,332 ACHTUNG: An empty Sentence was created! Are there empty strings in your dataset?\n",
      "2019-12-13 15:35:21,333 Ignore 1 sentence(s) with no tokens.\n",
      "2019-12-13 15:35:21,411 ACHTUNG: An empty Sentence was created! Are there empty strings in your dataset?\n",
      "2019-12-13 15:35:21,413 Ignore 1 sentence(s) with no tokens.\n"
     ]
    },
    {
     "name": "stderr",
     "output_type": "stream",
     "text": [
      "\r",
      " 57%|█████▋    | 45429/80014 [1:42:28<15:30, 37.16it/s]"
     ]
    },
    {
     "name": "stdout",
     "output_type": "stream",
     "text": [
      "2019-12-13 15:35:21,491 ACHTUNG: An empty Sentence was created! Are there empty strings in your dataset?\n",
      "2019-12-13 15:35:21,492 Ignore 1 sentence(s) with no tokens.\n"
     ]
    },
    {
     "name": "stderr",
     "output_type": "stream",
     "text": [
      "\r",
      " 57%|█████▋    | 45435/80014 [1:42:28<14:10, 40.64it/s]"
     ]
    },
    {
     "name": "stdout",
     "output_type": "stream",
     "text": [
      "2019-12-13 15:35:21,583 ACHTUNG: An empty Sentence was created! Are there empty strings in your dataset?\n",
      "2019-12-13 15:35:21,585 Ignore 1 sentence(s) with no tokens.\n"
     ]
    },
    {
     "name": "stderr",
     "output_type": "stream",
     "text": [
      " 57%|█████▋    | 45452/80014 [1:42:29<28:14, 20.40it/s]"
     ]
    },
    {
     "name": "stdout",
     "output_type": "stream",
     "text": [
      "2019-12-13 15:35:22,653 ACHTUNG: An empty Sentence was created! Are there empty strings in your dataset?\n",
      "2019-12-13 15:35:22,655 Ignore 1 sentence(s) with no tokens.\n"
     ]
    },
    {
     "name": "stderr",
     "output_type": "stream",
     "text": [
      "\r",
      " 57%|█████▋    | 45456/80014 [1:42:29<24:44, 23.27it/s]"
     ]
    },
    {
     "name": "stdout",
     "output_type": "stream",
     "text": [
      "2019-12-13 15:35:22,829 ACHTUNG: An empty Sentence was created! Are there empty strings in your dataset?\n",
      "2019-12-13 15:35:22,830 Ignore 1 sentence(s) with no tokens.\n"
     ]
    },
    {
     "name": "stderr",
     "output_type": "stream",
     "text": [
      "\r",
      " 57%|█████▋    | 45460/80014 [1:42:29<26:22, 21.83it/s]"
     ]
    },
    {
     "name": "stdout",
     "output_type": "stream",
     "text": [
      "2019-12-13 15:35:22,962 ACHTUNG: An empty Sentence was created! Are there empty strings in your dataset?\n",
      "2019-12-13 15:35:22,964 Ignore 1 sentence(s) with no tokens.\n"
     ]
    },
    {
     "name": "stderr",
     "output_type": "stream",
     "text": [
      "\r",
      " 57%|█████▋    | 45464/80014 [1:42:29<24:58, 23.06it/s]"
     ]
    },
    {
     "name": "stdout",
     "output_type": "stream",
     "text": [
      "2019-12-13 15:35:23,043 ACHTUNG: An empty Sentence was created! Are there empty strings in your dataset?\n",
      "2019-12-13 15:35:23,044 Ignore 1 sentence(s) with no tokens.\n"
     ]
    },
    {
     "name": "stderr",
     "output_type": "stream",
     "text": [
      "\r",
      " 57%|█████▋    | 45468/80014 [1:42:30<22:36, 25.46it/s]"
     ]
    },
    {
     "name": "stdout",
     "output_type": "stream",
     "text": [
      "2019-12-13 15:35:23,162 ACHTUNG: An empty Sentence was created! Are there empty strings in your dataset?\n",
      "2019-12-13 15:35:23,163 Ignore 1 sentence(s) with no tokens.\n",
      "2019-12-13 15:35:23,300 ACHTUNG: An empty Sentence was created! Are there empty strings in your dataset?\n",
      "2019-12-13 15:35:23,302 Ignore 1 sentence(s) with no tokens.\n"
     ]
    },
    {
     "name": "stderr",
     "output_type": "stream",
     "text": [
      " 57%|█████▋    | 45475/80014 [1:42:30<27:54, 20.63it/s]"
     ]
    },
    {
     "name": "stdout",
     "output_type": "stream",
     "text": [
      "2019-12-13 15:35:23,523 ACHTUNG: An empty Sentence was created! Are there empty strings in your dataset?\n",
      "2019-12-13 15:35:23,524 Ignore 1 sentence(s) with no tokens.\n"
     ]
    },
    {
     "name": "stderr",
     "output_type": "stream",
     "text": [
      "\r",
      " 57%|█████▋    | 45478/80014 [1:42:30<25:33, 22.52it/s]"
     ]
    },
    {
     "name": "stdout",
     "output_type": "stream",
     "text": [
      "2019-12-13 15:35:23,627 ACHTUNG: An empty Sentence was created! Are there empty strings in your dataset?\n",
      "2019-12-13 15:35:23,628 Ignore 1 sentence(s) with no tokens.\n",
      "2019-12-13 15:35:23,721 ACHTUNG: An empty Sentence was created! Are there empty strings in your dataset?\n",
      "2019-12-13 15:35:23,723 Ignore 1 sentence(s) with no tokens.\n"
     ]
    },
    {
     "name": "stderr",
     "output_type": "stream",
     "text": [
      "\r",
      " 57%|█████▋    | 45484/80014 [1:42:30<21:26, 26.83it/s]"
     ]
    },
    {
     "name": "stdout",
     "output_type": "stream",
     "text": [
      "2019-12-13 15:35:23,804 ACHTUNG: An empty Sentence was created! Are there empty strings in your dataset?\n",
      "2019-12-13 15:35:23,806 Ignore 1 sentence(s) with no tokens.\n"
     ]
    },
    {
     "name": "stderr",
     "output_type": "stream",
     "text": [
      "\r",
      " 57%|█████▋    | 45488/80014 [1:42:30<19:57, 28.83it/s]"
     ]
    },
    {
     "name": "stdout",
     "output_type": "stream",
     "text": [
      "2019-12-13 15:35:23,985 ACHTUNG: An empty Sentence was created! Are there empty strings in your dataset?\n",
      "2019-12-13 15:35:23,987 Ignore 1 sentence(s) with no tokens.\n"
     ]
    },
    {
     "name": "stderr",
     "output_type": "stream",
     "text": [
      "\r",
      " 57%|█████▋    | 45492/80014 [1:42:30<21:56, 26.22it/s]"
     ]
    },
    {
     "name": "stdout",
     "output_type": "stream",
     "text": [
      "2019-12-13 15:35:24,051 ACHTUNG: An empty Sentence was created! Are there empty strings in your dataset?\n",
      "2019-12-13 15:35:24,052 Ignore 1 sentence(s) with no tokens.\n",
      "2019-12-13 15:35:24,146 ACHTUNG: An empty Sentence was created! Are there empty strings in your dataset?\n",
      "2019-12-13 15:35:24,148 Ignore 1 sentence(s) with no tokens.\n"
     ]
    },
    {
     "name": "stderr",
     "output_type": "stream",
     "text": [
      "\r",
      " 57%|█████▋    | 45497/80014 [1:42:31<18:50, 30.53it/s]"
     ]
    },
    {
     "name": "stdout",
     "output_type": "stream",
     "text": [
      "2019-12-13 15:35:24,312 ACHTUNG: An empty Sentence was created! Are there empty strings in your dataset?\n",
      "2019-12-13 15:35:24,314 Ignore 1 sentence(s) with no tokens.\n"
     ]
    },
    {
     "name": "stderr",
     "output_type": "stream",
     "text": [
      "\r",
      " 57%|█████▋    | 45501/80014 [1:42:31<21:23, 26.88it/s]"
     ]
    },
    {
     "name": "stdout",
     "output_type": "stream",
     "text": [
      "2019-12-13 15:35:24,404 ACHTUNG: An empty Sentence was created! Are there empty strings in your dataset?\n",
      "2019-12-13 15:35:24,406 Ignore 1 sentence(s) with no tokens.\n"
     ]
    },
    {
     "name": "stderr",
     "output_type": "stream",
     "text": [
      "\r",
      " 57%|█████▋    | 45506/80014 [1:42:31<20:10, 28.51it/s]"
     ]
    },
    {
     "name": "stdout",
     "output_type": "stream",
     "text": [
      "2019-12-13 15:35:24,492 ACHTUNG: An empty Sentence was created! Are there empty strings in your dataset?\n",
      "2019-12-13 15:35:24,494 Ignore 1 sentence(s) with no tokens.\n"
     ]
    },
    {
     "name": "stderr",
     "output_type": "stream",
     "text": [
      "\r",
      " 57%|█████▋    | 45510/80014 [1:42:31<18:53, 30.43it/s]"
     ]
    },
    {
     "name": "stdout",
     "output_type": "stream",
     "text": [
      "2019-12-13 15:35:24,603 ACHTUNG: An empty Sentence was created! Are there empty strings in your dataset?\n",
      "2019-12-13 15:35:24,604 Ignore 1 sentence(s) with no tokens.\n",
      "2019-12-13 15:35:24,686 ACHTUNG: An empty Sentence was created! Are there empty strings in your dataset?\n",
      "2019-12-13 15:35:24,687 Ignore 1 sentence(s) with no tokens.\n"
     ]
    },
    {
     "name": "stderr",
     "output_type": "stream",
     "text": [
      "\r",
      " 57%|█████▋    | 45515/80014 [1:42:31<17:29, 32.88it/s]"
     ]
    },
    {
     "name": "stdout",
     "output_type": "stream",
     "text": [
      "2019-12-13 15:35:24,809 ACHTUNG: An empty Sentence was created! Are there empty strings in your dataset?\n",
      "2019-12-13 15:35:24,811 Ignore 1 sentence(s) with no tokens.\n"
     ]
    },
    {
     "name": "stderr",
     "output_type": "stream",
     "text": [
      "\r",
      " 57%|█████▋    | 45519/80014 [1:42:31<17:05, 33.64it/s]"
     ]
    },
    {
     "name": "stdout",
     "output_type": "stream",
     "text": [
      "2019-12-13 15:35:24,966 ACHTUNG: An empty Sentence was created! Are there empty strings in your dataset?\n",
      "2019-12-13 15:35:24,967 Ignore 1 sentence(s) with no tokens.\n"
     ]
    },
    {
     "name": "stderr",
     "output_type": "stream",
     "text": [
      "\r",
      " 57%|█████▋    | 45523/80014 [1:42:31<20:10, 28.49it/s]"
     ]
    },
    {
     "name": "stdout",
     "output_type": "stream",
     "text": [
      "2019-12-13 15:35:25,066 ACHTUNG: An empty Sentence was created! Are there empty strings in your dataset?\n",
      "2019-12-13 15:35:25,067 Ignore 1 sentence(s) with no tokens.\n"
     ]
    },
    {
     "name": "stderr",
     "output_type": "stream",
     "text": [
      " 57%|█████▋    | 45623/80014 [1:42:48<57:07, 10.03it/s]  "
     ]
    },
    {
     "name": "stdout",
     "output_type": "stream",
     "text": [
      "2019-12-13 15:35:41,700 ACHTUNG: An empty Sentence was created! Are there empty strings in your dataset?\n",
      "2019-12-13 15:35:41,702 Ignore 1 sentence(s) with no tokens.\n"
     ]
    },
    {
     "name": "stderr",
     "output_type": "stream",
     "text": [
      "\r",
      " 57%|█████▋    | 45627/80014 [1:42:48<44:42, 12.82it/s]"
     ]
    },
    {
     "name": "stdout",
     "output_type": "stream",
     "text": [
      "2019-12-13 15:35:41,845 ACHTUNG: An empty Sentence was created! Are there empty strings in your dataset?\n",
      "2019-12-13 15:35:41,846 Ignore 1 sentence(s) with no tokens.\n"
     ]
    },
    {
     "name": "stderr",
     "output_type": "stream",
     "text": [
      "\r",
      " 57%|█████▋    | 45632/80014 [1:42:48<36:01, 15.90it/s]"
     ]
    },
    {
     "name": "stdout",
     "output_type": "stream",
     "text": [
      "2019-12-13 15:35:41,982 ACHTUNG: An empty Sentence was created! Are there empty strings in your dataset?\n",
      "2019-12-13 15:35:41,984 Ignore 1 sentence(s) with no tokens.\n"
     ]
    },
    {
     "name": "stderr",
     "output_type": "stream",
     "text": [
      "\r",
      " 57%|█████▋    | 45636/80014 [1:42:48<29:36, 19.35it/s]"
     ]
    },
    {
     "name": "stdout",
     "output_type": "stream",
     "text": [
      "2019-12-13 15:35:42,139 ACHTUNG: An empty Sentence was created! Are there empty strings in your dataset?\n",
      "2019-12-13 15:35:42,140 Ignore 1 sentence(s) with no tokens.\n"
     ]
    },
    {
     "name": "stderr",
     "output_type": "stream",
     "text": [
      "\r",
      " 57%|█████▋    | 45640/80014 [1:42:49<26:26, 21.67it/s]"
     ]
    },
    {
     "name": "stdout",
     "output_type": "stream",
     "text": [
      "2019-12-13 15:35:42,273 ACHTUNG: An empty Sentence was created! Are there empty strings in your dataset?\n",
      "2019-12-13 15:35:42,275 Ignore 1 sentence(s) with no tokens.\n"
     ]
    },
    {
     "name": "stderr",
     "output_type": "stream",
     "text": [
      "\r",
      " 57%|█████▋    | 45645/80014 [1:42:49<23:08, 24.75it/s]"
     ]
    },
    {
     "name": "stdout",
     "output_type": "stream",
     "text": [
      "2019-12-13 15:35:42,446 ACHTUNG: An empty Sentence was created! Are there empty strings in your dataset?\n",
      "2019-12-13 15:35:42,447 Ignore 1 sentence(s) with no tokens.\n"
     ]
    },
    {
     "name": "stderr",
     "output_type": "stream",
     "text": [
      " 57%|█████▋    | 45653/80014 [1:42:49<21:37, 26.48it/s]"
     ]
    },
    {
     "name": "stdout",
     "output_type": "stream",
     "text": [
      "2019-12-13 15:35:42,597 ACHTUNG: An empty Sentence was created! Are there empty strings in your dataset?\n",
      "2019-12-13 15:35:42,599 Ignore 1 sentence(s) with no tokens.\n"
     ]
    },
    {
     "name": "stderr",
     "output_type": "stream",
     "text": [
      "\r",
      " 57%|█████▋    | 45658/80014 [1:42:49<19:21, 29.57it/s]"
     ]
    },
    {
     "name": "stdout",
     "output_type": "stream",
     "text": [
      "2019-12-13 15:35:42,720 ACHTUNG: An empty Sentence was created! Are there empty strings in your dataset?\n",
      "2019-12-13 15:35:42,722 Ignore 1 sentence(s) with no tokens.\n"
     ]
    },
    {
     "name": "stderr",
     "output_type": "stream",
     "text": [
      "\r",
      " 57%|█████▋    | 45662/80014 [1:42:49<19:17, 29.69it/s]"
     ]
    },
    {
     "name": "stdout",
     "output_type": "stream",
     "text": [
      "2019-12-13 15:35:42,891 ACHTUNG: An empty Sentence was created! Are there empty strings in your dataset?\n",
      "2019-12-13 15:35:42,892 Ignore 1 sentence(s) with no tokens.\n"
     ]
    },
    {
     "name": "stderr",
     "output_type": "stream",
     "text": [
      "\r",
      " 57%|█████▋    | 45666/80014 [1:42:49<18:05, 31.65it/s]"
     ]
    },
    {
     "name": "stdout",
     "output_type": "stream",
     "text": [
      "2019-12-13 15:35:43,053 ACHTUNG: An empty Sentence was created! Are there empty strings in your dataset?\n",
      "2019-12-13 15:35:43,055 Ignore 1 sentence(s) with no tokens.\n"
     ]
    },
    {
     "name": "stderr",
     "output_type": "stream",
     "text": [
      " 57%|█████▋    | 45952/80014 [1:43:39<21:55, 25.88it/s]  "
     ]
    },
    {
     "name": "stdout",
     "output_type": "stream",
     "text": [
      "2019-12-13 15:36:33,001 ACHTUNG: An empty Sentence was created! Are there empty strings in your dataset?\n",
      "2019-12-13 15:36:33,003 Ignore 1 sentence(s) with no tokens.\n"
     ]
    },
    {
     "name": "stderr",
     "output_type": "stream",
     "text": [
      " 58%|█████▊    | 46618/80014 [1:45:07<42:47, 13.01it/s]  "
     ]
    },
    {
     "name": "stdout",
     "output_type": "stream",
     "text": [
      "2019-12-13 15:38:00,126 ACHTUNG: An empty Sentence was created! Are there empty strings in your dataset?\n",
      "2019-12-13 15:38:00,128 Ignore 1 sentence(s) with no tokens.\n"
     ]
    },
    {
     "name": "stderr",
     "output_type": "stream",
     "text": [
      " 59%|█████▉    | 47548/80014 [1:47:54<2:19:33,  3.88it/s]"
     ]
    },
    {
     "name": "stdout",
     "output_type": "stream",
     "text": [
      "2019-12-13 15:40:47,150 ACHTUNG: An empty Sentence was created! Are there empty strings in your dataset?\n",
      "2019-12-13 15:40:47,151 Ignore 1 sentence(s) with no tokens.\n"
     ]
    },
    {
     "name": "stderr",
     "output_type": "stream",
     "text": [
      " 65%|██████▍   | 51937/80014 [1:58:25<2:03:33,  3.79it/s] "
     ]
    },
    {
     "name": "stdout",
     "output_type": "stream",
     "text": [
      "2019-12-13 15:51:18,976 ACHTUNG: An empty Sentence was created! Are there empty strings in your dataset?\n",
      "2019-12-13 15:51:18,978 Ignore 1 sentence(s) with no tokens.\n"
     ]
    },
    {
     "name": "stderr",
     "output_type": "stream",
     "text": [
      " 65%|██████▍   | 51979/80014 [1:58:27<18:29, 25.27it/s]  "
     ]
    },
    {
     "name": "stdout",
     "output_type": "stream",
     "text": [
      "2019-12-13 15:51:20,465 ACHTUNG: An empty Sentence was created! Are there empty strings in your dataset?\n",
      "2019-12-13 15:51:20,467 Ignore 1 sentence(s) with no tokens.\n"
     ]
    },
    {
     "name": "stderr",
     "output_type": "stream",
     "text": [
      " 65%|██████▌   | 52017/80014 [1:58:28<16:05, 29.01it/s]"
     ]
    },
    {
     "name": "stdout",
     "output_type": "stream",
     "text": [
      "2019-12-13 15:51:21,716 ACHTUNG: An empty Sentence was created! Are there empty strings in your dataset?\n",
      "2019-12-13 15:51:21,718 Ignore 1 sentence(s) with no tokens.\n"
     ]
    },
    {
     "name": "stderr",
     "output_type": "stream",
     "text": [
      " 65%|██████▌   | 52035/80014 [1:58:29<21:14, 21.96it/s]"
     ]
    },
    {
     "name": "stdout",
     "output_type": "stream",
     "text": [
      "2019-12-13 15:51:22,571 ACHTUNG: An empty Sentence was created! Are there empty strings in your dataset?\n",
      "2019-12-13 15:51:22,573 Ignore 1 sentence(s) with no tokens.\n"
     ]
    },
    {
     "name": "stderr",
     "output_type": "stream",
     "text": [
      " 69%|██████▉   | 55432/80014 [2:08:00<1:05:28,  6.26it/s]"
     ]
    },
    {
     "name": "stdout",
     "output_type": "stream",
     "text": [
      "2019-12-13 16:00:54,025 ACHTUNG: An empty Sentence was created! Are there empty strings in your dataset?\n",
      "2019-12-13 16:00:54,027 Ignore 1 sentence(s) with no tokens.\n"
     ]
    },
    {
     "name": "stderr",
     "output_type": "stream",
     "text": [
      " 72%|███████▏  | 57393/80014 [2:13:26<11:36, 32.48it/s]  "
     ]
    },
    {
     "name": "stdout",
     "output_type": "stream",
     "text": [
      "2019-12-13 16:06:19,763 ACHTUNG: An empty Sentence was created! Are there empty strings in your dataset?\n",
      "2019-12-13 16:06:19,764 Ignore 1 sentence(s) with no tokens.\n"
     ]
    },
    {
     "name": "stderr",
     "output_type": "stream",
     "text": [
      " 72%|███████▏  | 57409/80014 [2:13:27<09:27, 39.83it/s]"
     ]
    },
    {
     "name": "stdout",
     "output_type": "stream",
     "text": [
      "2019-12-13 16:06:20,211 ACHTUNG: An empty Sentence was created! Are there empty strings in your dataset?\n",
      "2019-12-13 16:06:20,213 Ignore 1 sentence(s) with no tokens.\n"
     ]
    },
    {
     "name": "stderr",
     "output_type": "stream",
     "text": [
      " 75%|███████▍  | 59905/80014 [2:19:17<31:10, 10.75it/s]  "
     ]
    },
    {
     "name": "stdout",
     "output_type": "stream",
     "text": [
      "2019-12-13 16:12:10,798 ACHTUNG: An empty Sentence was created! Are there empty strings in your dataset?\n",
      "2019-12-13 16:12:10,799 Ignore 1 sentence(s) with no tokens.\n"
     ]
    },
    {
     "name": "stderr",
     "output_type": "stream",
     "text": [
      " 75%|███████▍  | 59913/80014 [2:19:17<20:48, 16.10it/s]"
     ]
    },
    {
     "name": "stdout",
     "output_type": "stream",
     "text": [
      "2019-12-13 16:12:11,036 ACHTUNG: An empty Sentence was created! Are there empty strings in your dataset?\n",
      "2019-12-13 16:12:11,037 Ignore 1 sentence(s) with no tokens.\n"
     ]
    },
    {
     "name": "stderr",
     "output_type": "stream",
     "text": [
      "\r",
      " 75%|███████▍  | 59918/80014 [2:19:18<17:00, 19.69it/s]"
     ]
    },
    {
     "name": "stdout",
     "output_type": "stream",
     "text": [
      "2019-12-13 16:12:11,187 ACHTUNG: An empty Sentence was created! Are there empty strings in your dataset?\n",
      "2019-12-13 16:12:11,189 Ignore 1 sentence(s) with no tokens.\n"
     ]
    },
    {
     "name": "stderr",
     "output_type": "stream",
     "text": [
      " 75%|███████▍  | 59934/80014 [2:19:18<14:12, 23.55it/s]"
     ]
    },
    {
     "name": "stdout",
     "output_type": "stream",
     "text": [
      "2019-12-13 16:12:11,791 ACHTUNG: An empty Sentence was created! Are there empty strings in your dataset?\n",
      "2019-12-13 16:12:11,793 Ignore 1 sentence(s) with no tokens.\n",
      "2019-12-13 16:12:11,794 ACHTUNG: An empty Sentence was created! Are there empty strings in your dataset?\n",
      "2019-12-13 16:12:11,796 Ignore 1 sentence(s) with no tokens.\n",
      "2019-12-13 16:12:11,797 ACHTUNG: An empty Sentence was created! Are there empty strings in your dataset?\n",
      "2019-12-13 16:12:11,799 Ignore 1 sentence(s) with no tokens.\n",
      "2019-12-13 16:12:11,800 ACHTUNG: An empty Sentence was created! Are there empty strings in your dataset?\n",
      "2019-12-13 16:12:11,802 Ignore 1 sentence(s) with no tokens.\n"
     ]
    },
    {
     "name": "stderr",
     "output_type": "stream",
     "text": [
      " 75%|███████▍  | 59946/80014 [2:19:18<11:23, 29.35it/s]"
     ]
    },
    {
     "name": "stdout",
     "output_type": "stream",
     "text": [
      "2019-12-13 16:12:12,002 ACHTUNG: An empty Sentence was created! Are there empty strings in your dataset?\n",
      "2019-12-13 16:12:12,004 Ignore 1 sentence(s) with no tokens.\n"
     ]
    },
    {
     "name": "stderr",
     "output_type": "stream",
     "text": [
      " 75%|███████▍  | 59979/80014 [2:19:19<11:39, 28.63it/s]"
     ]
    },
    {
     "name": "stdout",
     "output_type": "stream",
     "text": [
      "2019-12-13 16:12:13,141 ACHTUNG: An empty Sentence was created! Are there empty strings in your dataset?\n",
      "2019-12-13 16:12:13,142 Ignore 1 sentence(s) with no tokens.\n",
      "2019-12-13 16:12:13,144 ACHTUNG: An empty Sentence was created! Are there empty strings in your dataset?\n",
      "2019-12-13 16:12:13,145 Ignore 1 sentence(s) with no tokens.\n",
      "2019-12-13 16:12:13,147 ACHTUNG: An empty Sentence was created! Are there empty strings in your dataset?\n",
      "2019-12-13 16:12:13,148 Ignore 1 sentence(s) with no tokens.\n"
     ]
    },
    {
     "name": "stderr",
     "output_type": "stream",
     "text": [
      "\r",
      " 75%|███████▍  | 59986/80014 [2:19:20<10:06, 33.03it/s]"
     ]
    },
    {
     "name": "stdout",
     "output_type": "stream",
     "text": [
      "2019-12-13 16:12:13,192 ACHTUNG: An empty Sentence was created! Are there empty strings in your dataset?\n",
      "2019-12-13 16:12:13,193 Ignore 1 sentence(s) with no tokens.\n"
     ]
    },
    {
     "name": "stderr",
     "output_type": "stream",
     "text": [
      "\r",
      " 75%|███████▍  | 59991/80014 [2:19:20<09:48, 34.01it/s]"
     ]
    },
    {
     "name": "stdout",
     "output_type": "stream",
     "text": [
      "2019-12-13 16:12:13,329 ACHTUNG: An empty Sentence was created! Are there empty strings in your dataset?\n",
      "2019-12-13 16:12:13,330 Ignore 1 sentence(s) with no tokens.\n"
     ]
    },
    {
     "name": "stderr",
     "output_type": "stream",
     "text": [
      "\r",
      " 75%|███████▍  | 59996/80014 [2:19:20<09:37, 34.69it/s]"
     ]
    },
    {
     "name": "stdout",
     "output_type": "stream",
     "text": [
      "2019-12-13 16:12:13,467 ACHTUNG: An empty Sentence was created! Are there empty strings in your dataset?\n",
      "2019-12-13 16:12:13,468 Ignore 1 sentence(s) with no tokens.\n"
     ]
    },
    {
     "name": "stderr",
     "output_type": "stream",
     "text": [
      "\r",
      " 75%|███████▍  | 60001/80014 [2:19:20<09:51, 33.83it/s]"
     ]
    },
    {
     "name": "stdout",
     "output_type": "stream",
     "text": [
      "2019-12-13 16:12:13,623 ACHTUNG: An empty Sentence was created! Are there empty strings in your dataset?\n",
      "2019-12-13 16:12:13,624 Ignore 1 sentence(s) with no tokens.\n"
     ]
    },
    {
     "name": "stderr",
     "output_type": "stream",
     "text": [
      "\r",
      " 75%|███████▍  | 60006/80014 [2:19:20<10:08, 32.88it/s]"
     ]
    },
    {
     "name": "stdout",
     "output_type": "stream",
     "text": [
      "2019-12-13 16:12:13,803 ACHTUNG: An empty Sentence was created! Are there empty strings in your dataset?\n",
      "2019-12-13 16:12:13,805 Ignore 1 sentence(s) with no tokens.\n",
      "2019-12-13 16:12:13,806 ACHTUNG: An empty Sentence was created! Are there empty strings in your dataset?\n",
      "2019-12-13 16:12:13,808 Ignore 1 sentence(s) with no tokens.\n",
      "2019-12-13 16:12:13,809 ACHTUNG: An empty Sentence was created! Are there empty strings in your dataset?\n",
      "2019-12-13 16:12:13,811 Ignore 1 sentence(s) with no tokens.\n",
      "2019-12-13 16:12:13,851 ACHTUNG: An empty Sentence was created! Are there empty strings in your dataset?\n",
      "2019-12-13 16:12:13,853 Ignore 1 sentence(s) with no tokens.\n"
     ]
    },
    {
     "name": "stderr",
     "output_type": "stream",
     "text": [
      "\r",
      " 75%|███████▌  | 60013/80014 [2:19:20<08:33, 38.96it/s]"
     ]
    },
    {
     "name": "stdout",
     "output_type": "stream",
     "text": [
      "2019-12-13 16:12:13,983 ACHTUNG: An empty Sentence was created! Are there empty strings in your dataset?\n",
      "2019-12-13 16:12:13,985 Ignore 1 sentence(s) with no tokens.\n"
     ]
    },
    {
     "name": "stderr",
     "output_type": "stream",
     "text": [
      "\r",
      " 75%|███████▌  | 60018/80014 [2:19:20<08:37, 38.61it/s]"
     ]
    },
    {
     "name": "stdout",
     "output_type": "stream",
     "text": [
      "2019-12-13 16:12:14,124 ACHTUNG: An empty Sentence was created! Are there empty strings in your dataset?\n",
      "2019-12-13 16:12:14,126 Ignore 1 sentence(s) with no tokens.\n"
     ]
    },
    {
     "name": "stderr",
     "output_type": "stream",
     "text": [
      "\r",
      " 75%|███████▌  | 60023/80014 [2:19:21<08:51, 37.63it/s]"
     ]
    },
    {
     "name": "stdout",
     "output_type": "stream",
     "text": [
      "2019-12-13 16:12:14,254 ACHTUNG: An empty Sentence was created! Are there empty strings in your dataset?\n",
      "2019-12-13 16:12:14,255 Ignore 1 sentence(s) with no tokens.\n"
     ]
    },
    {
     "name": "stderr",
     "output_type": "stream",
     "text": [
      "\r",
      " 75%|███████▌  | 60028/80014 [2:19:21<08:47, 37.92it/s]"
     ]
    },
    {
     "name": "stdout",
     "output_type": "stream",
     "text": [
      "2019-12-13 16:12:14,519 ACHTUNG: An empty Sentence was created! Are there empty strings in your dataset?\n",
      "2019-12-13 16:12:14,520 Ignore 1 sentence(s) with no tokens.\n"
     ]
    },
    {
     "name": "stderr",
     "output_type": "stream",
     "text": [
      " 75%|███████▌  | 60036/80014 [2:19:21<11:30, 28.95it/s]"
     ]
    },
    {
     "name": "stdout",
     "output_type": "stream",
     "text": [
      "2019-12-13 16:12:14,708 ACHTUNG: An empty Sentence was created! Are there empty strings in your dataset?\n",
      "2019-12-13 16:12:14,710 Ignore 1 sentence(s) with no tokens.\n",
      "2019-12-13 16:12:14,711 ACHTUNG: An empty Sentence was created! Are there empty strings in your dataset?\n",
      "2019-12-13 16:12:14,713 Ignore 1 sentence(s) with no tokens.\n",
      "2019-12-13 16:12:14,714 ACHTUNG: An empty Sentence was created! Are there empty strings in your dataset?\n",
      "2019-12-13 16:12:14,716 Ignore 1 sentence(s) with no tokens.\n",
      "2019-12-13 16:12:14,717 ACHTUNG: An empty Sentence was created! Are there empty strings in your dataset?\n",
      "2019-12-13 16:12:14,719 Ignore 1 sentence(s) with no tokens.\n"
     ]
    },
    {
     "name": "stderr",
     "output_type": "stream",
     "text": [
      " 75%|███████▌  | 60060/80014 [2:19:22<10:45, 30.89it/s]"
     ]
    },
    {
     "name": "stdout",
     "output_type": "stream",
     "text": [
      "2019-12-13 16:12:15,416 ACHTUNG: An empty Sentence was created! Are there empty strings in your dataset?\n",
      "2019-12-13 16:12:15,418 Ignore 1 sentence(s) with no tokens.\n",
      "2019-12-13 16:12:15,419 ACHTUNG: An empty Sentence was created! Are there empty strings in your dataset?\n",
      "2019-12-13 16:12:15,421 Ignore 1 sentence(s) with no tokens.\n",
      "2019-12-13 16:12:15,422 ACHTUNG: An empty Sentence was created! Are there empty strings in your dataset?\n",
      "2019-12-13 16:12:15,424 Ignore 1 sentence(s) with no tokens.\n",
      "2019-12-13 16:12:15,425 ACHTUNG: An empty Sentence was created! Are there empty strings in your dataset?\n",
      "2019-12-13 16:12:15,427 Ignore 1 sentence(s) with no tokens.\n"
     ]
    },
    {
     "name": "stderr",
     "output_type": "stream",
     "text": [
      " 75%|███████▌  | 60087/80014 [2:19:23<11:57, 27.79it/s]"
     ]
    },
    {
     "name": "stdout",
     "output_type": "stream",
     "text": [
      "2019-12-13 16:12:16,216 ACHTUNG: An empty Sentence was created! Are there empty strings in your dataset?\n",
      "2019-12-13 16:12:16,217 Ignore 1 sentence(s) with no tokens.\n",
      "2019-12-13 16:12:16,219 ACHTUNG: An empty Sentence was created! Are there empty strings in your dataset?\n",
      "2019-12-13 16:12:16,220 Ignore 1 sentence(s) with no tokens.\n",
      "2019-12-13 16:12:16,222 ACHTUNG: An empty Sentence was created! Are there empty strings in your dataset?\n",
      "2019-12-13 16:12:16,223 Ignore 1 sentence(s) with no tokens.\n",
      "2019-12-13 16:12:16,225 ACHTUNG: An empty Sentence was created! Are there empty strings in your dataset?\n",
      "2019-12-13 16:12:16,226 Ignore 1 sentence(s) with no tokens.\n"
     ]
    },
    {
     "name": "stderr",
     "output_type": "stream",
     "text": [
      " 76%|███████▋  | 61161/80014 [2:22:14<1:52:39,  2.79it/s]"
     ]
    },
    {
     "name": "stdout",
     "output_type": "stream",
     "text": [
      "2019-12-13 16:15:07,867 ACHTUNG: An empty Sentence was created! Are there empty strings in your dataset?\n",
      "2019-12-13 16:15:07,869 Ignore 1 sentence(s) with no tokens.\n"
     ]
    },
    {
     "name": "stderr",
     "output_type": "stream",
     "text": [
      " 78%|███████▊  | 62421/80014 [2:26:19<37:49,  7.75it/s]  "
     ]
    },
    {
     "name": "stdout",
     "output_type": "stream",
     "text": [
      "2019-12-13 16:19:12,754 ACHTUNG: An empty Sentence was created! Are there empty strings in your dataset?\n",
      "2019-12-13 16:19:12,755 Ignore 1 sentence(s) with no tokens.\n"
     ]
    },
    {
     "name": "stderr",
     "output_type": "stream",
     "text": [
      " 78%|███████▊  | 62434/80014 [2:26:19<18:12, 16.10it/s]"
     ]
    },
    {
     "name": "stdout",
     "output_type": "stream",
     "text": [
      "2019-12-13 16:19:13,032 ACHTUNG: An empty Sentence was created! Are there empty strings in your dataset?\n",
      "2019-12-13 16:19:13,034 Ignore 1 sentence(s) with no tokens.\n",
      "2019-12-13 16:19:13,035 ACHTUNG: An empty Sentence was created! Are there empty strings in your dataset?\n",
      "2019-12-13 16:19:13,037 Ignore 1 sentence(s) with no tokens.\n",
      "2019-12-13 16:19:13,038 ACHTUNG: An empty Sentence was created! Are there empty strings in your dataset?\n",
      "2019-12-13 16:19:13,040 Ignore 1 sentence(s) with no tokens.\n",
      "2019-12-13 16:19:13,041 ACHTUNG: An empty Sentence was created! Are there empty strings in your dataset?\n",
      "2019-12-13 16:19:13,043 Ignore 1 sentence(s) with no tokens.\n"
     ]
    },
    {
     "name": "stderr",
     "output_type": "stream",
     "text": [
      "\r",
      " 78%|███████▊  | 62442/80014 [2:26:20<13:52, 21.10it/s]"
     ]
    },
    {
     "name": "stdout",
     "output_type": "stream",
     "text": [
      "2019-12-13 16:19:13,217 ACHTUNG: An empty Sentence was created! Are there empty strings in your dataset?\n",
      "2019-12-13 16:19:13,218 Ignore 1 sentence(s) with no tokens.\n",
      "2019-12-13 16:19:13,220 ACHTUNG: An empty Sentence was created! Are there empty strings in your dataset?\n",
      "2019-12-13 16:19:13,221 Ignore 1 sentence(s) with no tokens.\n",
      "2019-12-13 16:19:13,223 ACHTUNG: An empty Sentence was created! Are there empty strings in your dataset?\n",
      "2019-12-13 16:19:13,224 Ignore 1 sentence(s) with no tokens.\n",
      "2019-12-13 16:19:13,226 ACHTUNG: An empty Sentence was created! Are there empty strings in your dataset?\n",
      "2019-12-13 16:19:13,227 Ignore 1 sentence(s) with no tokens.\n"
     ]
    },
    {
     "name": "stderr",
     "output_type": "stream",
     "text": [
      " 78%|███████▊  | 62456/80014 [2:26:20<09:55, 29.51it/s]"
     ]
    },
    {
     "name": "stdout",
     "output_type": "stream",
     "text": [
      "2019-12-13 16:19:13,404 ACHTUNG: An empty Sentence was created! Are there empty strings in your dataset?\n",
      "2019-12-13 16:19:13,406 Ignore 1 sentence(s) with no tokens.\n",
      "2019-12-13 16:19:13,407 ACHTUNG: An empty Sentence was created! Are there empty strings in your dataset?\n",
      "2019-12-13 16:19:13,409 Ignore 1 sentence(s) with no tokens.\n",
      "2019-12-13 16:19:13,410 ACHTUNG: An empty Sentence was created! Are there empty strings in your dataset?\n",
      "2019-12-13 16:19:13,412 Ignore 1 sentence(s) with no tokens.\n",
      "2019-12-13 16:19:13,413 ACHTUNG: An empty Sentence was created! Are there empty strings in your dataset?\n",
      "2019-12-13 16:19:13,415 Ignore 1 sentence(s) with no tokens.\n"
     ]
    },
    {
     "name": "stderr",
     "output_type": "stream",
     "text": [
      "\r",
      " 78%|███████▊  | 62463/80014 [2:26:20<08:34, 34.13it/s]"
     ]
    },
    {
     "name": "stdout",
     "output_type": "stream",
     "text": [
      "2019-12-13 16:19:13,616 ACHTUNG: An empty Sentence was created! Are there empty strings in your dataset?\n",
      "2019-12-13 16:19:13,617 Ignore 1 sentence(s) with no tokens.\n"
     ]
    },
    {
     "name": "stderr",
     "output_type": "stream",
     "text": [
      " 78%|███████▊  | 62474/80014 [2:26:20<07:48, 37.41it/s]"
     ]
    },
    {
     "name": "stdout",
     "output_type": "stream",
     "text": [
      "2019-12-13 16:19:13,887 ACHTUNG: An empty Sentence was created! Are there empty strings in your dataset?\n",
      "2019-12-13 16:19:13,888 Ignore 1 sentence(s) with no tokens.\n",
      "2019-12-13 16:19:13,890 ACHTUNG: An empty Sentence was created! Are there empty strings in your dataset?\n",
      "2019-12-13 16:19:13,891 Ignore 1 sentence(s) with no tokens.\n",
      "2019-12-13 16:19:13,893 ACHTUNG: An empty Sentence was created! Are there empty strings in your dataset?\n",
      "2019-12-13 16:19:13,894 Ignore 1 sentence(s) with no tokens.\n",
      "2019-12-13 16:19:13,896 ACHTUNG: An empty Sentence was created! Are there empty strings in your dataset?\n",
      "2019-12-13 16:19:13,897 Ignore 1 sentence(s) with no tokens.\n"
     ]
    },
    {
     "name": "stderr",
     "output_type": "stream",
     "text": [
      " 78%|███████▊  | 62488/80014 [2:26:20<07:14, 40.36it/s]"
     ]
    },
    {
     "name": "stdout",
     "output_type": "stream",
     "text": [
      "2019-12-13 16:19:14,093 ACHTUNG: An empty Sentence was created! Are there empty strings in your dataset?\n",
      "2019-12-13 16:19:14,095 Ignore 1 sentence(s) with no tokens.\n",
      "2019-12-13 16:19:14,096 ACHTUNG: An empty Sentence was created! Are there empty strings in your dataset?\n",
      "2019-12-13 16:19:14,098 Ignore 1 sentence(s) with no tokens.\n",
      "2019-12-13 16:19:14,099 ACHTUNG: An empty Sentence was created! Are there empty strings in your dataset?\n",
      "2019-12-13 16:19:14,101 Ignore 1 sentence(s) with no tokens.\n",
      "2019-12-13 16:19:14,102 ACHTUNG: An empty Sentence was created! Are there empty strings in your dataset?\n",
      "2019-12-13 16:19:14,104 Ignore 1 sentence(s) with no tokens.\n"
     ]
    },
    {
     "name": "stderr",
     "output_type": "stream",
     "text": [
      "\r",
      " 78%|███████▊  | 62496/80014 [2:26:21<06:12, 47.04it/s]"
     ]
    },
    {
     "name": "stdout",
     "output_type": "stream",
     "text": [
      "2019-12-13 16:19:14,278 ACHTUNG: An empty Sentence was created! Are there empty strings in your dataset?\n",
      "2019-12-13 16:19:14,280 Ignore 1 sentence(s) with no tokens.\n"
     ]
    },
    {
     "name": "stderr",
     "output_type": "stream",
     "text": [
      " 78%|███████▊  | 62507/80014 [2:26:21<06:53, 42.32it/s]"
     ]
    },
    {
     "name": "stdout",
     "output_type": "stream",
     "text": [
      "2019-12-13 16:19:14,575 ACHTUNG: An empty Sentence was created! Are there empty strings in your dataset?\n",
      "2019-12-13 16:19:14,576 Ignore 1 sentence(s) with no tokens.\n",
      "2019-12-13 16:19:14,578 ACHTUNG: An empty Sentence was created! Are there empty strings in your dataset?\n",
      "2019-12-13 16:19:14,579 Ignore 1 sentence(s) with no tokens.\n",
      "2019-12-13 16:19:14,581 ACHTUNG: An empty Sentence was created! Are there empty strings in your dataset?\n",
      "2019-12-13 16:19:14,582 Ignore 1 sentence(s) with no tokens.\n",
      "2019-12-13 16:19:14,584 ACHTUNG: An empty Sentence was created! Are there empty strings in your dataset?\n",
      "2019-12-13 16:19:14,586 Ignore 1 sentence(s) with no tokens.\n"
     ]
    },
    {
     "name": "stderr",
     "output_type": "stream",
     "text": [
      " 78%|███████▊  | 62521/80014 [2:26:21<06:47, 42.92it/s]"
     ]
    },
    {
     "name": "stdout",
     "output_type": "stream",
     "text": [
      "2019-12-13 16:19:14,782 ACHTUNG: An empty Sentence was created! Are there empty strings in your dataset?\n",
      "2019-12-13 16:19:14,784 Ignore 1 sentence(s) with no tokens.\n",
      "2019-12-13 16:19:14,785 ACHTUNG: An empty Sentence was created! Are there empty strings in your dataset?\n",
      "2019-12-13 16:19:14,787 Ignore 1 sentence(s) with no tokens.\n",
      "2019-12-13 16:19:14,788 ACHTUNG: An empty Sentence was created! Are there empty strings in your dataset?\n",
      "2019-12-13 16:19:14,790 Ignore 1 sentence(s) with no tokens.\n",
      "2019-12-13 16:19:14,791 ACHTUNG: An empty Sentence was created! Are there empty strings in your dataset?\n",
      "2019-12-13 16:19:14,793 Ignore 1 sentence(s) with no tokens.\n"
     ]
    },
    {
     "name": "stderr",
     "output_type": "stream",
     "text": [
      "\r",
      " 78%|███████▊  | 62529/80014 [2:26:21<05:53, 49.46it/s]"
     ]
    },
    {
     "name": "stdout",
     "output_type": "stream",
     "text": [
      "2019-12-13 16:19:14,966 ACHTUNG: An empty Sentence was created! Are there empty strings in your dataset?\n",
      "2019-12-13 16:19:14,968 Ignore 1 sentence(s) with no tokens.\n",
      "2019-12-13 16:19:14,969 ACHTUNG: An empty Sentence was created! Are there empty strings in your dataset?\n",
      "2019-12-13 16:19:14,971 Ignore 1 sentence(s) with no tokens.\n",
      "2019-12-13 16:19:14,972 ACHTUNG: An empty Sentence was created! Are there empty strings in your dataset?\n",
      "2019-12-13 16:19:14,974 Ignore 1 sentence(s) with no tokens.\n",
      "2019-12-13 16:19:14,976 ACHTUNG: An empty Sentence was created! Are there empty strings in your dataset?\n",
      "2019-12-13 16:19:14,977 Ignore 1 sentence(s) with no tokens.\n"
     ]
    },
    {
     "name": "stderr",
     "output_type": "stream",
     "text": [
      "\r",
      " 78%|███████▊  | 62537/80014 [2:26:21<05:21, 54.29it/s]"
     ]
    },
    {
     "name": "stdout",
     "output_type": "stream",
     "text": [
      "2019-12-13 16:19:15,173 ACHTUNG: An empty Sentence was created! Are there empty strings in your dataset?\n",
      "2019-12-13 16:19:15,174 Ignore 1 sentence(s) with no tokens.\n"
     ]
    },
    {
     "name": "stderr",
     "output_type": "stream",
     "text": [
      " 78%|███████▊  | 62550/80014 [2:26:22<06:27, 45.12it/s]"
     ]
    },
    {
     "name": "stdout",
     "output_type": "stream",
     "text": [
      "2019-12-13 16:19:15,424 ACHTUNG: An empty Sentence was created! Are there empty strings in your dataset?\n",
      "2019-12-13 16:19:15,425 Ignore 1 sentence(s) with no tokens.\n",
      "2019-12-13 16:19:15,427 ACHTUNG: An empty Sentence was created! Are there empty strings in your dataset?\n",
      "2019-12-13 16:19:15,428 Ignore 1 sentence(s) with no tokens.\n",
      "2019-12-13 16:19:15,430 ACHTUNG: An empty Sentence was created! Are there empty strings in your dataset?\n",
      "2019-12-13 16:19:15,431 Ignore 1 sentence(s) with no tokens.\n"
     ]
    },
    {
     "name": "stderr",
     "output_type": "stream",
     "text": [
      "\r",
      " 78%|███████▊  | 62557/80014 [2:26:22<05:46, 50.43it/s]"
     ]
    },
    {
     "name": "stdout",
     "output_type": "stream",
     "text": [
      "2019-12-13 16:19:15,434 ACHTUNG: An empty Sentence was created! Are there empty strings in your dataset?\n",
      "2019-12-13 16:19:15,436 Ignore 1 sentence(s) with no tokens.\n"
     ]
    },
    {
     "name": "stderr",
     "output_type": "stream",
     "text": [
      "\r",
      " 78%|███████▊  | 62563/80014 [2:26:22<06:16, 46.30it/s]"
     ]
    },
    {
     "name": "stdout",
     "output_type": "stream",
     "text": [
      "2019-12-13 16:19:15,654 ACHTUNG: An empty Sentence was created! Are there empty strings in your dataset?\n",
      "2019-12-13 16:19:15,656 Ignore 1 sentence(s) with no tokens.\n",
      "2019-12-13 16:19:15,657 ACHTUNG: An empty Sentence was created! Are there empty strings in your dataset?\n",
      "2019-12-13 16:19:15,659 Ignore 1 sentence(s) with no tokens.\n",
      "2019-12-13 16:19:15,660 ACHTUNG: An empty Sentence was created! Are there empty strings in your dataset?\n",
      "2019-12-13 16:19:15,662 Ignore 1 sentence(s) with no tokens.\n",
      "2019-12-13 16:19:15,663 ACHTUNG: An empty Sentence was created! Are there empty strings in your dataset?\n",
      "2019-12-13 16:19:15,665 Ignore 1 sentence(s) with no tokens.\n"
     ]
    },
    {
     "name": "stderr",
     "output_type": "stream",
     "text": [
      "\r",
      " 78%|███████▊  | 62571/80014 [2:26:22<05:40, 51.19it/s]"
     ]
    },
    {
     "name": "stdout",
     "output_type": "stream",
     "text": [
      "2019-12-13 16:19:15,862 ACHTUNG: An empty Sentence was created! Are there empty strings in your dataset?\n",
      "2019-12-13 16:19:15,864 Ignore 1 sentence(s) with no tokens.\n"
     ]
    },
    {
     "name": "stderr",
     "output_type": "stream",
     "text": [
      "\r",
      " 78%|███████▊  | 62577/80014 [2:26:22<06:18, 46.11it/s]"
     ]
    },
    {
     "name": "stdout",
     "output_type": "stream",
     "text": [
      "2019-12-13 16:19:15,867 ACHTUNG: An empty Sentence was created! Are there empty strings in your dataset?\n",
      "2019-12-13 16:19:15,868 Ignore 1 sentence(s) with no tokens.\n",
      "2019-12-13 16:19:15,870 ACHTUNG: An empty Sentence was created! Are there empty strings in your dataset?\n",
      "2019-12-13 16:19:15,871 Ignore 1 sentence(s) with no tokens.\n",
      "2019-12-13 16:19:15,873 ACHTUNG: An empty Sentence was created! Are there empty strings in your dataset?\n",
      "2019-12-13 16:19:15,874 Ignore 1 sentence(s) with no tokens.\n"
     ]
    },
    {
     "name": "stderr",
     "output_type": "stream",
     "text": [
      "\r",
      " 78%|███████▊  | 62583/80014 [2:26:22<06:13, 46.66it/s]"
     ]
    },
    {
     "name": "stdout",
     "output_type": "stream",
     "text": [
      "2019-12-13 16:19:16,074 ACHTUNG: An empty Sentence was created! Are there empty strings in your dataset?\n",
      "2019-12-13 16:19:16,076 Ignore 1 sentence(s) with no tokens.\n"
     ]
    },
    {
     "name": "stderr",
     "output_type": "stream",
     "text": [
      " 78%|███████▊  | 62593/80014 [2:26:23<06:25, 45.18it/s]"
     ]
    },
    {
     "name": "stdout",
     "output_type": "stream",
     "text": [
      "2019-12-13 16:19:16,381 ACHTUNG: An empty Sentence was created! Are there empty strings in your dataset?\n",
      "2019-12-13 16:19:16,382 Ignore 1 sentence(s) with no tokens.\n"
     ]
    },
    {
     "name": "stderr",
     "output_type": "stream",
     "text": [
      " 81%|████████  | 64795/80014 [2:32:36<53:27,  4.74it/s]   "
     ]
    },
    {
     "name": "stdout",
     "output_type": "stream",
     "text": [
      "2019-12-13 16:25:29,785 ACHTUNG: An empty Sentence was created! Are there empty strings in your dataset?\n",
      "2019-12-13 16:25:29,787 Ignore 1 sentence(s) with no tokens.\n"
     ]
    },
    {
     "name": "stderr",
     "output_type": "stream",
     "text": [
      " 81%|████████  | 64822/80014 [2:32:37<11:52, 21.31it/s]"
     ]
    },
    {
     "name": "stdout",
     "output_type": "stream",
     "text": [
      "2019-12-13 16:25:30,753 ACHTUNG: An empty Sentence was created! Are there empty strings in your dataset?\n",
      "2019-12-13 16:25:30,754 Ignore 1 sentence(s) with no tokens.\n"
     ]
    },
    {
     "name": "stderr",
     "output_type": "stream",
     "text": [
      "\r",
      " 81%|████████  | 64826/80014 [2:32:37<10:15, 24.69it/s]"
     ]
    },
    {
     "name": "stdout",
     "output_type": "stream",
     "text": [
      "2019-12-13 16:25:30,780 ACHTUNG: An empty Sentence was created! Are there empty strings in your dataset?\n",
      "2019-12-13 16:25:30,781 Ignore 1 sentence(s) with no tokens.\n"
     ]
    },
    {
     "name": "stderr",
     "output_type": "stream",
     "text": [
      " 81%|████████  | 64871/80014 [2:32:40<12:49, 19.68it/s]"
     ]
    },
    {
     "name": "stdout",
     "output_type": "stream",
     "text": [
      "2019-12-13 16:25:33,702 ACHTUNG: An empty Sentence was created! Are there empty strings in your dataset?\n",
      "2019-12-13 16:25:33,704 Ignore 1 sentence(s) with no tokens.\n"
     ]
    },
    {
     "name": "stderr",
     "output_type": "stream",
     "text": [
      " 81%|████████  | 64901/80014 [2:32:42<26:37,  9.46it/s]"
     ]
    },
    {
     "name": "stdout",
     "output_type": "stream",
     "text": [
      "2019-12-13 16:25:35,766 ACHTUNG: An empty Sentence was created! Are there empty strings in your dataset?\n",
      "2019-12-13 16:25:35,768 Ignore 1 sentence(s) with no tokens.\n"
     ]
    },
    {
     "name": "stderr",
     "output_type": "stream",
     "text": [
      " 81%|████████  | 64942/80014 [2:32:43<07:59, 31.41it/s]"
     ]
    },
    {
     "name": "stdout",
     "output_type": "stream",
     "text": [
      "2019-12-13 16:25:36,971 ACHTUNG: An empty Sentence was created! Are there empty strings in your dataset?\n",
      "2019-12-13 16:25:36,973 Ignore 1 sentence(s) with no tokens.\n",
      "2019-12-13 16:25:36,997 ACHTUNG: An empty Sentence was created! Are there empty strings in your dataset?\n",
      "2019-12-13 16:25:36,998 Ignore 1 sentence(s) with no tokens.\n"
     ]
    },
    {
     "name": "stderr",
     "output_type": "stream",
     "text": [
      " 82%|████████▏ | 65748/80014 [2:35:05<32:34,  7.30it/s]  "
     ]
    },
    {
     "name": "stdout",
     "output_type": "stream",
     "text": [
      "2019-12-13 16:27:59,065 ACHTUNG: An empty Sentence was created! Are there empty strings in your dataset?\n",
      "2019-12-13 16:27:59,067 Ignore 1 sentence(s) with no tokens.\n"
     ]
    },
    {
     "name": "stderr",
     "output_type": "stream",
     "text": [
      "\r",
      " 82%|████████▏ | 65752/80014 [2:35:06<25:00,  9.51it/s]"
     ]
    },
    {
     "name": "stdout",
     "output_type": "stream",
     "text": [
      "2019-12-13 16:27:59,190 ACHTUNG: An empty Sentence was created! Are there empty strings in your dataset?\n",
      "2019-12-13 16:27:59,191 Ignore 1 sentence(s) with no tokens.\n"
     ]
    },
    {
     "name": "stderr",
     "output_type": "stream",
     "text": [
      "\r",
      " 82%|████████▏ | 65755/80014 [2:35:06<20:10, 11.78it/s]"
     ]
    },
    {
     "name": "stdout",
     "output_type": "stream",
     "text": [
      "2019-12-13 16:27:59,327 ACHTUNG: An empty Sentence was created! Are there empty strings in your dataset?\n",
      "2019-12-13 16:27:59,328 Ignore 1 sentence(s) with no tokens.\n"
     ]
    },
    {
     "name": "stderr",
     "output_type": "stream",
     "text": [
      "\r",
      " 82%|████████▏ | 65759/80014 [2:35:06<16:13, 14.64it/s]"
     ]
    },
    {
     "name": "stdout",
     "output_type": "stream",
     "text": [
      "2019-12-13 16:27:59,445 ACHTUNG: An empty Sentence was created! Are there empty strings in your dataset?\n",
      "2019-12-13 16:27:59,447 Ignore 1 sentence(s) with no tokens.\n"
     ]
    },
    {
     "name": "stderr",
     "output_type": "stream",
     "text": [
      "\r",
      " 82%|████████▏ | 65764/80014 [2:35:06<13:04, 18.16it/s]"
     ]
    },
    {
     "name": "stdout",
     "output_type": "stream",
     "text": [
      "2019-12-13 16:27:59,541 ACHTUNG: An empty Sentence was created! Are there empty strings in your dataset?\n",
      "2019-12-13 16:27:59,542 Ignore 1 sentence(s) with no tokens.\n"
     ]
    },
    {
     "name": "stderr",
     "output_type": "stream",
     "text": [
      "\r",
      " 82%|████████▏ | 65768/80014 [2:35:06<11:23, 20.85it/s]"
     ]
    },
    {
     "name": "stdout",
     "output_type": "stream",
     "text": [
      "2019-12-13 16:27:59,667 ACHTUNG: An empty Sentence was created! Are there empty strings in your dataset?\n",
      "2019-12-13 16:27:59,668 Ignore 1 sentence(s) with no tokens.\n"
     ]
    },
    {
     "name": "stderr",
     "output_type": "stream",
     "text": [
      "\r",
      " 82%|████████▏ | 65772/80014 [2:35:06<09:48, 24.21it/s]"
     ]
    },
    {
     "name": "stdout",
     "output_type": "stream",
     "text": [
      "2019-12-13 16:27:59,770 ACHTUNG: An empty Sentence was created! Are there empty strings in your dataset?\n",
      "2019-12-13 16:27:59,771 Ignore 1 sentence(s) with no tokens.\n"
     ]
    },
    {
     "name": "stderr",
     "output_type": "stream",
     "text": [
      "\r",
      " 82%|████████▏ | 65776/80014 [2:35:06<09:29, 24.99it/s]"
     ]
    },
    {
     "name": "stdout",
     "output_type": "stream",
     "text": [
      "2019-12-13 16:27:59,918 ACHTUNG: An empty Sentence was created! Are there empty strings in your dataset?\n",
      "2019-12-13 16:27:59,919 Ignore 1 sentence(s) with no tokens.\n"
     ]
    },
    {
     "name": "stderr",
     "output_type": "stream",
     "text": [
      "\r",
      " 82%|████████▏ | 65780/80014 [2:35:06<09:16, 25.59it/s]"
     ]
    },
    {
     "name": "stdout",
     "output_type": "stream",
     "text": [
      "2019-12-13 16:28:00,065 ACHTUNG: An empty Sentence was created! Are there empty strings in your dataset?\n",
      "2019-12-13 16:28:00,067 Ignore 1 sentence(s) with no tokens.\n"
     ]
    },
    {
     "name": "stderr",
     "output_type": "stream",
     "text": [
      "\r",
      " 82%|████████▏ | 65784/80014 [2:35:07<08:36, 27.56it/s]"
     ]
    },
    {
     "name": "stdout",
     "output_type": "stream",
     "text": [
      "2019-12-13 16:28:00,184 ACHTUNG: An empty Sentence was created! Are there empty strings in your dataset?\n",
      "2019-12-13 16:28:00,186 Ignore 1 sentence(s) with no tokens.\n"
     ]
    },
    {
     "name": "stderr",
     "output_type": "stream",
     "text": [
      "\r",
      " 82%|████████▏ | 65788/80014 [2:35:07<08:20, 28.44it/s]"
     ]
    },
    {
     "name": "stdout",
     "output_type": "stream",
     "text": [
      "2019-12-13 16:28:00,314 ACHTUNG: An empty Sentence was created! Are there empty strings in your dataset?\n",
      "2019-12-13 16:28:00,316 Ignore 1 sentence(s) with no tokens.\n"
     ]
    },
    {
     "name": "stderr",
     "output_type": "stream",
     "text": [
      "\r",
      " 82%|████████▏ | 65792/80014 [2:35:07<07:54, 29.96it/s]"
     ]
    },
    {
     "name": "stdout",
     "output_type": "stream",
     "text": [
      "2019-12-13 16:28:00,432 ACHTUNG: An empty Sentence was created! Are there empty strings in your dataset?\n",
      "2019-12-13 16:28:00,433 Ignore 1 sentence(s) with no tokens.\n",
      "2019-12-13 16:28:00,527 ACHTUNG: An empty Sentence was created! Are there empty strings in your dataset?\n",
      "2019-12-13 16:28:00,528 Ignore 1 sentence(s) with no tokens.\n"
     ]
    },
    {
     "name": "stderr",
     "output_type": "stream",
     "text": [
      "\r",
      " 82%|████████▏ | 65797/80014 [2:35:07<06:57, 34.04it/s]"
     ]
    },
    {
     "name": "stdout",
     "output_type": "stream",
     "text": [
      "2019-12-13 16:28:00,637 ACHTUNG: An empty Sentence was created! Are there empty strings in your dataset?\n",
      "2019-12-13 16:28:00,638 Ignore 1 sentence(s) with no tokens.\n"
     ]
    },
    {
     "name": "stderr",
     "output_type": "stream",
     "text": [
      "\r",
      " 82%|████████▏ | 65801/80014 [2:35:07<06:49, 34.74it/s]"
     ]
    },
    {
     "name": "stdout",
     "output_type": "stream",
     "text": [
      "2019-12-13 16:28:00,777 ACHTUNG: An empty Sentence was created! Are there empty strings in your dataset?\n",
      "2019-12-13 16:28:00,779 Ignore 1 sentence(s) with no tokens.\n"
     ]
    },
    {
     "name": "stderr",
     "output_type": "stream",
     "text": [
      "\r",
      " 82%|████████▏ | 65805/80014 [2:35:07<07:16, 32.56it/s]"
     ]
    },
    {
     "name": "stdout",
     "output_type": "stream",
     "text": [
      "2019-12-13 16:28:00,885 ACHTUNG: An empty Sentence was created! Are there empty strings in your dataset?\n",
      "2019-12-13 16:28:00,886 Ignore 1 sentence(s) with no tokens.\n"
     ]
    },
    {
     "name": "stderr",
     "output_type": "stream",
     "text": [
      " 82%|████████▏ | 65820/80014 [2:35:08<11:16, 20.97it/s]"
     ]
    },
    {
     "name": "stdout",
     "output_type": "stream",
     "text": [
      "2019-12-13 16:28:01,531 ACHTUNG: An empty Sentence was created! Are there empty strings in your dataset?\n",
      "2019-12-13 16:28:01,532 Ignore 1 sentence(s) with no tokens.\n"
     ]
    },
    {
     "name": "stderr",
     "output_type": "stream",
     "text": [
      "\r",
      " 82%|████████▏ | 65823/80014 [2:35:08<10:35, 22.34it/s]"
     ]
    },
    {
     "name": "stdout",
     "output_type": "stream",
     "text": [
      "2019-12-13 16:28:01,669 ACHTUNG: An empty Sentence was created! Are there empty strings in your dataset?\n",
      "2019-12-13 16:28:01,670 Ignore 1 sentence(s) with no tokens.\n"
     ]
    },
    {
     "name": "stderr",
     "output_type": "stream",
     "text": [
      "\r",
      " 82%|████████▏ | 65827/80014 [2:35:08<09:53, 23.92it/s]"
     ]
    },
    {
     "name": "stdout",
     "output_type": "stream",
     "text": [
      "2019-12-13 16:28:01,809 ACHTUNG: An empty Sentence was created! Are there empty strings in your dataset?\n",
      "2019-12-13 16:28:01,811 Ignore 1 sentence(s) with no tokens.\n"
     ]
    },
    {
     "name": "stderr",
     "output_type": "stream",
     "text": [
      "\r",
      " 82%|████████▏ | 65831/80014 [2:35:08<09:42, 24.37it/s]"
     ]
    },
    {
     "name": "stdout",
     "output_type": "stream",
     "text": [
      "2019-12-13 16:28:01,966 ACHTUNG: An empty Sentence was created! Are there empty strings in your dataset?\n",
      "2019-12-13 16:28:01,968 Ignore 1 sentence(s) with no tokens.\n"
     ]
    },
    {
     "name": "stderr",
     "output_type": "stream",
     "text": [
      "\r",
      " 82%|████████▏ | 65835/80014 [2:35:08<09:15, 25.53it/s]"
     ]
    },
    {
     "name": "stdout",
     "output_type": "stream",
     "text": [
      "2019-12-13 16:28:02,105 ACHTUNG: An empty Sentence was created! Are there empty strings in your dataset?\n",
      "2019-12-13 16:28:02,106 Ignore 1 sentence(s) with no tokens.\n"
     ]
    },
    {
     "name": "stderr",
     "output_type": "stream",
     "text": [
      "\r",
      " 82%|████████▏ | 65839/80014 [2:35:09<08:59, 26.28it/s]"
     ]
    },
    {
     "name": "stdout",
     "output_type": "stream",
     "text": [
      "2019-12-13 16:28:02,247 ACHTUNG: An empty Sentence was created! Are there empty strings in your dataset?\n",
      "2019-12-13 16:28:02,248 Ignore 1 sentence(s) with no tokens.\n"
     ]
    },
    {
     "name": "stderr",
     "output_type": "stream",
     "text": [
      "\r",
      " 82%|████████▏ | 65843/80014 [2:35:09<08:31, 27.73it/s]"
     ]
    },
    {
     "name": "stdout",
     "output_type": "stream",
     "text": [
      "2019-12-13 16:28:02,373 ACHTUNG: An empty Sentence was created! Are there empty strings in your dataset?\n",
      "2019-12-13 16:28:02,374 Ignore 1 sentence(s) with no tokens.\n"
     ]
    },
    {
     "name": "stderr",
     "output_type": "stream",
     "text": [
      "\r",
      " 82%|████████▏ | 65847/80014 [2:35:09<08:17, 28.47it/s]"
     ]
    },
    {
     "name": "stdout",
     "output_type": "stream",
     "text": [
      "2019-12-13 16:28:02,504 ACHTUNG: An empty Sentence was created! Are there empty strings in your dataset?\n",
      "2019-12-13 16:28:02,505 Ignore 1 sentence(s) with no tokens.\n"
     ]
    },
    {
     "name": "stderr",
     "output_type": "stream",
     "text": [
      "\r",
      " 82%|████████▏ | 65851/80014 [2:35:09<08:24, 28.06it/s]"
     ]
    },
    {
     "name": "stdout",
     "output_type": "stream",
     "text": [
      "2019-12-13 16:28:02,652 ACHTUNG: An empty Sentence was created! Are there empty strings in your dataset?\n",
      "2019-12-13 16:28:02,654 Ignore 1 sentence(s) with no tokens.\n"
     ]
    },
    {
     "name": "stderr",
     "output_type": "stream",
     "text": [
      "\r",
      " 82%|████████▏ | 65855/80014 [2:35:09<08:18, 28.41it/s]"
     ]
    },
    {
     "name": "stdout",
     "output_type": "stream",
     "text": [
      "2019-12-13 16:28:02,788 ACHTUNG: An empty Sentence was created! Are there empty strings in your dataset?\n",
      "2019-12-13 16:28:02,790 Ignore 1 sentence(s) with no tokens.\n"
     ]
    },
    {
     "name": "stderr",
     "output_type": "stream",
     "text": [
      "\r",
      " 82%|████████▏ | 65859/80014 [2:35:09<07:55, 29.78it/s]"
     ]
    },
    {
     "name": "stdout",
     "output_type": "stream",
     "text": [
      "2019-12-13 16:28:02,908 ACHTUNG: An empty Sentence was created! Are there empty strings in your dataset?\n",
      "2019-12-13 16:28:02,909 Ignore 1 sentence(s) with no tokens.\n"
     ]
    },
    {
     "name": "stderr",
     "output_type": "stream",
     "text": [
      "\r",
      " 82%|████████▏ | 65863/80014 [2:35:09<07:48, 30.19it/s]"
     ]
    },
    {
     "name": "stdout",
     "output_type": "stream",
     "text": [
      "2019-12-13 16:28:03,036 ACHTUNG: An empty Sentence was created! Are there empty strings in your dataset?\n",
      "2019-12-13 16:28:03,037 Ignore 1 sentence(s) with no tokens.\n"
     ]
    },
    {
     "name": "stderr",
     "output_type": "stream",
     "text": [
      "\r",
      " 82%|████████▏ | 65867/80014 [2:35:10<07:51, 30.02it/s]"
     ]
    },
    {
     "name": "stdout",
     "output_type": "stream",
     "text": [
      "2019-12-13 16:28:03,171 ACHTUNG: An empty Sentence was created! Are there empty strings in your dataset?\n",
      "2019-12-13 16:28:03,172 Ignore 1 sentence(s) with no tokens.\n"
     ]
    },
    {
     "name": "stderr",
     "output_type": "stream",
     "text": [
      "\r",
      " 82%|████████▏ | 65871/80014 [2:35:10<07:43, 30.52it/s]"
     ]
    },
    {
     "name": "stdout",
     "output_type": "stream",
     "text": [
      "2019-12-13 16:28:03,296 ACHTUNG: An empty Sentence was created! Are there empty strings in your dataset?\n",
      "2019-12-13 16:28:03,298 Ignore 1 sentence(s) with no tokens.\n"
     ]
    },
    {
     "name": "stderr",
     "output_type": "stream",
     "text": [
      "\r",
      " 82%|████████▏ | 65875/80014 [2:35:10<07:18, 32.23it/s]"
     ]
    },
    {
     "name": "stdout",
     "output_type": "stream",
     "text": [
      "2019-12-13 16:28:03,404 ACHTUNG: An empty Sentence was created! Are there empty strings in your dataset?\n",
      "2019-12-13 16:28:03,406 Ignore 1 sentence(s) with no tokens.\n"
     ]
    },
    {
     "name": "stderr",
     "output_type": "stream",
     "text": [
      "\r",
      " 82%|████████▏ | 65879/80014 [2:35:10<07:34, 31.07it/s]"
     ]
    },
    {
     "name": "stdout",
     "output_type": "stream",
     "text": [
      "2019-12-13 16:28:03,544 ACHTUNG: An empty Sentence was created! Are there empty strings in your dataset?\n",
      "2019-12-13 16:28:03,546 Ignore 1 sentence(s) with no tokens.\n"
     ]
    },
    {
     "name": "stderr",
     "output_type": "stream",
     "text": [
      "\r",
      " 82%|████████▏ | 65883/80014 [2:35:10<07:45, 30.37it/s]"
     ]
    },
    {
     "name": "stdout",
     "output_type": "stream",
     "text": [
      "2019-12-13 16:28:03,683 ACHTUNG: An empty Sentence was created! Are there empty strings in your dataset?\n",
      "2019-12-13 16:28:03,684 Ignore 1 sentence(s) with no tokens.\n"
     ]
    },
    {
     "name": "stderr",
     "output_type": "stream",
     "text": [
      "\r",
      " 82%|████████▏ | 65887/80014 [2:35:10<07:53, 29.81it/s]"
     ]
    },
    {
     "name": "stdout",
     "output_type": "stream",
     "text": [
      "2019-12-13 16:28:03,825 ACHTUNG: An empty Sentence was created! Are there empty strings in your dataset?\n",
      "2019-12-13 16:28:03,826 Ignore 1 sentence(s) with no tokens.\n"
     ]
    },
    {
     "name": "stderr",
     "output_type": "stream",
     "text": [
      "\r",
      " 82%|████████▏ | 65891/80014 [2:35:10<07:58, 29.52it/s]"
     ]
    },
    {
     "name": "stdout",
     "output_type": "stream",
     "text": [
      "2019-12-13 16:28:03,961 ACHTUNG: An empty Sentence was created! Are there empty strings in your dataset?\n",
      "2019-12-13 16:28:03,963 Ignore 1 sentence(s) with no tokens.\n"
     ]
    },
    {
     "name": "stderr",
     "output_type": "stream",
     "text": [
      " 82%|████████▏ | 65989/80014 [2:35:15<07:41, 30.42it/s]"
     ]
    },
    {
     "name": "stdout",
     "output_type": "stream",
     "text": [
      "2019-12-13 16:28:08,743 ACHTUNG: An empty Sentence was created! Are there empty strings in your dataset?\n",
      "2019-12-13 16:28:08,745 Ignore 1 sentence(s) with no tokens.\n"
     ]
    },
    {
     "name": "stderr",
     "output_type": "stream",
     "text": [
      " 83%|████████▎ | 66771/80014 [2:36:28<43:02,  5.13it/s]  "
     ]
    },
    {
     "name": "stdout",
     "output_type": "stream",
     "text": [
      "2019-12-13 16:29:21,973 ACHTUNG: An empty Sentence was created! Are there empty strings in your dataset?\n",
      "2019-12-13 16:29:21,975 Ignore 1 sentence(s) with no tokens.\n"
     ]
    },
    {
     "name": "stderr",
     "output_type": "stream",
     "text": [
      " 83%|████████▎ | 66782/80014 [2:36:29<20:06, 10.96it/s]"
     ]
    },
    {
     "name": "stdout",
     "output_type": "stream",
     "text": [
      "2019-12-13 16:29:22,378 ACHTUNG: An empty Sentence was created! Are there empty strings in your dataset?\n",
      "2019-12-13 16:29:22,379 Ignore 1 sentence(s) with no tokens.\n"
     ]
    },
    {
     "name": "stderr",
     "output_type": "stream",
     "text": [
      "\r",
      " 83%|████████▎ | 66787/80014 [2:36:29<15:48, 13.95it/s]"
     ]
    },
    {
     "name": "stdout",
     "output_type": "stream",
     "text": [
      "2019-12-13 16:29:22,508 ACHTUNG: An empty Sentence was created! Are there empty strings in your dataset?\n",
      "2019-12-13 16:29:22,509 Ignore 1 sentence(s) with no tokens.\n",
      "2019-12-13 16:29:22,511 ACHTUNG: An empty Sentence was created! Are there empty strings in your dataset?\n",
      "2019-12-13 16:29:22,512 Ignore 1 sentence(s) with no tokens.\n",
      "2019-12-13 16:29:22,597 ACHTUNG: An empty Sentence was created! Are there empty strings in your dataset?\n",
      "2019-12-13 16:29:22,599 Ignore 1 sentence(s) with no tokens.\n",
      "2019-12-13 16:29:22,600 ACHTUNG: An empty Sentence was created! Are there empty strings in your dataset?\n",
      "2019-12-13 16:29:22,602 Ignore 1 sentence(s) with no tokens.\n",
      "2019-12-13 16:29:22,603 ACHTUNG: An empty Sentence was created! Are there empty strings in your dataset?\n",
      "2019-12-13 16:29:22,605 Ignore 1 sentence(s) with no tokens.\n"
     ]
    },
    {
     "name": "stderr",
     "output_type": "stream",
     "text": [
      " 86%|████████▋ | 69140/80014 [2:41:28<31:50,  5.69it/s]  "
     ]
    },
    {
     "name": "stdout",
     "output_type": "stream",
     "text": [
      "2019-12-13 16:34:21,934 ACHTUNG: An empty Sentence was created! Are there empty strings in your dataset?\n",
      "2019-12-13 16:34:21,936 Ignore 1 sentence(s) with no tokens.\n"
     ]
    },
    {
     "name": "stderr",
     "output_type": "stream",
     "text": [
      "\r",
      " 86%|████████▋ | 69144/80014 [2:41:28<23:54,  7.58it/s]"
     ]
    },
    {
     "name": "stdout",
     "output_type": "stream",
     "text": [
      "2019-12-13 16:34:22,005 ACHTUNG: An empty Sentence was created! Are there empty strings in your dataset?\n",
      "2019-12-13 16:34:22,007 Ignore 1 sentence(s) with no tokens.\n"
     ]
    },
    {
     "name": "stderr",
     "output_type": "stream",
     "text": [
      " 88%|████████▊ | 70259/80014 [2:43:49<13:44, 11.83it/s]"
     ]
    },
    {
     "name": "stdout",
     "output_type": "stream",
     "text": [
      "2019-12-13 16:36:42,977 ACHTUNG: An empty Sentence was created! Are there empty strings in your dataset?\n",
      "2019-12-13 16:36:42,979 Ignore 1 sentence(s) with no tokens.\n"
     ]
    },
    {
     "name": "stderr",
     "output_type": "stream",
     "text": [
      " 88%|████████▊ | 70403/80014 [2:44:02<25:28,  6.29it/s]"
     ]
    },
    {
     "name": "stdout",
     "output_type": "stream",
     "text": [
      "2019-12-13 16:36:55,796 ACHTUNG: An empty Sentence was created! Are there empty strings in your dataset?\n",
      "2019-12-13 16:36:55,798 Ignore 1 sentence(s) with no tokens.\n",
      "2019-12-13 16:36:55,800 ACHTUNG: An empty Sentence was created! Are there empty strings in your dataset?\n",
      "2019-12-13 16:36:55,801 Ignore 1 sentence(s) with no tokens.\n"
     ]
    },
    {
     "name": "stderr",
     "output_type": "stream",
     "text": [
      " 88%|████████▊ | 70583/80014 [2:44:06<02:58, 52.82it/s]"
     ]
    },
    {
     "name": "stdout",
     "output_type": "stream",
     "text": [
      "2019-12-13 16:36:59,406 ACHTUNG: An empty Sentence was created! Are there empty strings in your dataset?\n",
      "2019-12-13 16:36:59,407 Ignore 1 sentence(s) with no tokens.\n"
     ]
    },
    {
     "name": "stderr",
     "output_type": "stream",
     "text": [
      " 88%|████████▊ | 70719/80014 [2:44:23<15:49,  9.79it/s]"
     ]
    },
    {
     "name": "stdout",
     "output_type": "stream",
     "text": [
      "2019-12-13 16:37:16,922 ACHTUNG: An empty Sentence was created! Are there empty strings in your dataset?\n",
      "2019-12-13 16:37:16,923 Ignore 1 sentence(s) with no tokens.\n"
     ]
    },
    {
     "name": "stderr",
     "output_type": "stream",
     "text": [
      " 89%|████████▉ | 71266/80014 [2:45:47<28:45,  5.07it/s]"
     ]
    },
    {
     "name": "stdout",
     "output_type": "stream",
     "text": [
      "2019-12-13 16:38:40,255 ACHTUNG: An empty Sentence was created! Are there empty strings in your dataset?\n",
      "2019-12-13 16:38:40,256 Ignore 1 sentence(s) with no tokens.\n"
     ]
    },
    {
     "name": "stderr",
     "output_type": "stream",
     "text": [
      " 89%|████████▉ | 71289/80014 [2:45:47<07:44, 18.76it/s]"
     ]
    },
    {
     "name": "stdout",
     "output_type": "stream",
     "text": [
      "2019-12-13 16:38:40,938 ACHTUNG: An empty Sentence was created! Are there empty strings in your dataset?\n",
      "2019-12-13 16:38:40,940 Ignore 1 sentence(s) with no tokens.\n"
     ]
    },
    {
     "name": "stderr",
     "output_type": "stream",
     "text": [
      "\r",
      " 89%|████████▉ | 71296/80014 [2:45:47<06:09, 23.58it/s]"
     ]
    },
    {
     "name": "stdout",
     "output_type": "stream",
     "text": [
      "2019-12-13 16:38:41,128 ACHTUNG: An empty Sentence was created! Are there empty strings in your dataset?\n",
      "2019-12-13 16:38:41,130 Ignore 1 sentence(s) with no tokens.\n"
     ]
    },
    {
     "name": "stderr",
     "output_type": "stream",
     "text": [
      " 89%|████████▉ | 71305/80014 [2:45:48<04:47, 30.25it/s]"
     ]
    },
    {
     "name": "stdout",
     "output_type": "stream",
     "text": [
      "2019-12-13 16:38:41,412 ACHTUNG: An empty Sentence was created! Are there empty strings in your dataset?\n",
      "2019-12-13 16:38:41,414 Ignore 1 sentence(s) with no tokens.\n"
     ]
    },
    {
     "name": "stderr",
     "output_type": "stream",
     "text": [
      " 89%|████████▉ | 71316/80014 [2:45:48<04:03, 35.73it/s]"
     ]
    },
    {
     "name": "stdout",
     "output_type": "stream",
     "text": [
      "2019-12-13 16:38:41,635 ACHTUNG: An empty Sentence was created! Are there empty strings in your dataset?\n",
      "2019-12-13 16:38:41,637 Ignore 1 sentence(s) with no tokens.\n"
     ]
    },
    {
     "name": "stderr",
     "output_type": "stream",
     "text": [
      " 89%|████████▉ | 71326/80014 [2:45:48<03:55, 36.83it/s]"
     ]
    },
    {
     "name": "stdout",
     "output_type": "stream",
     "text": [
      "2019-12-13 16:38:42,042 ACHTUNG: An empty Sentence was created! Are there empty strings in your dataset?\n",
      "2019-12-13 16:38:42,044 Ignore 1 sentence(s) with no tokens.\n"
     ]
    },
    {
     "name": "stderr",
     "output_type": "stream",
     "text": [
      " 89%|████████▉ | 71336/80014 [2:45:49<04:34, 31.66it/s]"
     ]
    },
    {
     "name": "stdout",
     "output_type": "stream",
     "text": [
      "2019-12-13 16:38:42,406 ACHTUNG: An empty Sentence was created! Are there empty strings in your dataset?\n",
      "2019-12-13 16:38:42,408 Ignore 1 sentence(s) with no tokens.\n"
     ]
    },
    {
     "name": "stderr",
     "output_type": "stream",
     "text": [
      " 89%|████████▉ | 71346/80014 [2:45:49<04:39, 30.97it/s]"
     ]
    },
    {
     "name": "stdout",
     "output_type": "stream",
     "text": [
      "2019-12-13 16:38:42,798 ACHTUNG: An empty Sentence was created! Are there empty strings in your dataset?\n",
      "2019-12-13 16:38:42,799 Ignore 1 sentence(s) with no tokens.\n"
     ]
    },
    {
     "name": "stderr",
     "output_type": "stream",
     "text": [
      " 89%|████████▉ | 71356/80014 [2:45:49<05:12, 27.74it/s]"
     ]
    },
    {
     "name": "stdout",
     "output_type": "stream",
     "text": [
      "2019-12-13 16:38:43,217 ACHTUNG: An empty Sentence was created! Are there empty strings in your dataset?\n",
      "2019-12-13 16:38:43,220 Ignore 1 sentence(s) with no tokens.\n"
     ]
    },
    {
     "name": "stderr",
     "output_type": "stream",
     "text": [
      " 89%|████████▉ | 71387/80014 [2:45:51<05:03, 28.46it/s]"
     ]
    },
    {
     "name": "stdout",
     "output_type": "stream",
     "text": [
      "2019-12-13 16:38:44,156 ACHTUNG: An empty Sentence was created! Are there empty strings in your dataset?\n",
      "2019-12-13 16:38:44,158 Ignore 1 sentence(s) with no tokens.\n"
     ]
    },
    {
     "name": "stderr",
     "output_type": "stream",
     "text": [
      " 89%|████████▉ | 71397/80014 [2:45:51<04:11, 34.25it/s]"
     ]
    },
    {
     "name": "stdout",
     "output_type": "stream",
     "text": [
      "2019-12-13 16:38:44,460 ACHTUNG: An empty Sentence was created! Are there empty strings in your dataset?\n",
      "2019-12-13 16:38:44,462 Ignore 1 sentence(s) with no tokens.\n"
     ]
    },
    {
     "name": "stderr",
     "output_type": "stream",
     "text": [
      " 89%|████████▉ | 71406/80014 [2:45:51<03:56, 36.46it/s]"
     ]
    },
    {
     "name": "stdout",
     "output_type": "stream",
     "text": [
      "2019-12-13 16:38:44,717 ACHTUNG: An empty Sentence was created! Are there empty strings in your dataset?\n",
      "2019-12-13 16:38:44,719 Ignore 1 sentence(s) with no tokens.\n"
     ]
    },
    {
     "name": "stderr",
     "output_type": "stream",
     "text": [
      " 89%|████████▉ | 71415/80014 [2:45:51<03:49, 37.50it/s]"
     ]
    },
    {
     "name": "stdout",
     "output_type": "stream",
     "text": [
      "2019-12-13 16:38:44,935 ACHTUNG: An empty Sentence was created! Are there empty strings in your dataset?\n",
      "2019-12-13 16:38:44,936 Ignore 1 sentence(s) with no tokens.\n"
     ]
    },
    {
     "name": "stderr",
     "output_type": "stream",
     "text": [
      " 89%|████████▉ | 71425/80014 [2:45:52<04:06, 34.82it/s]"
     ]
    },
    {
     "name": "stdout",
     "output_type": "stream",
     "text": [
      "2019-12-13 16:38:45,333 ACHTUNG: An empty Sentence was created! Are there empty strings in your dataset?\n",
      "2019-12-13 16:38:45,335 Ignore 1 sentence(s) with no tokens.\n"
     ]
    },
    {
     "name": "stderr",
     "output_type": "stream",
     "text": [
      " 89%|████████▉ | 71438/80014 [2:45:52<05:02, 28.32it/s]"
     ]
    },
    {
     "name": "stdout",
     "output_type": "stream",
     "text": [
      "2019-12-13 16:38:45,834 ACHTUNG: An empty Sentence was created! Are there empty strings in your dataset?\n",
      "2019-12-13 16:38:45,836 Ignore 1 sentence(s) with no tokens.\n"
     ]
    },
    {
     "name": "stderr",
     "output_type": "stream",
     "text": [
      " 89%|████████▉ | 71456/80014 [2:45:53<04:33, 31.26it/s]"
     ]
    },
    {
     "name": "stdout",
     "output_type": "stream",
     "text": [
      "2019-12-13 16:38:46,545 ACHTUNG: An empty Sentence was created! Are there empty strings in your dataset?\n",
      "2019-12-13 16:38:46,547 Ignore 1 sentence(s) with no tokens.\n"
     ]
    },
    {
     "name": "stderr",
     "output_type": "stream",
     "text": [
      " 89%|████████▉ | 71478/80014 [2:45:53<05:08, 27.63it/s]"
     ]
    },
    {
     "name": "stdout",
     "output_type": "stream",
     "text": [
      "2019-12-13 16:38:47,167 ACHTUNG: An empty Sentence was created! Are there empty strings in your dataset?\n",
      "2019-12-13 16:38:47,168 Ignore 1 sentence(s) with no tokens.\n"
     ]
    },
    {
     "name": "stderr",
     "output_type": "stream",
     "text": [
      " 89%|████████▉ | 71487/80014 [2:45:54<04:41, 30.25it/s]"
     ]
    },
    {
     "name": "stdout",
     "output_type": "stream",
     "text": [
      "2019-12-13 16:38:47,412 ACHTUNG: An empty Sentence was created! Are there empty strings in your dataset?\n",
      "2019-12-13 16:38:47,414 Ignore 1 sentence(s) with no tokens.\n"
     ]
    },
    {
     "name": "stderr",
     "output_type": "stream",
     "text": [
      " 89%|████████▉ | 71496/80014 [2:45:54<04:03, 35.01it/s]"
     ]
    },
    {
     "name": "stdout",
     "output_type": "stream",
     "text": [
      "2019-12-13 16:38:47,656 ACHTUNG: An empty Sentence was created! Are there empty strings in your dataset?\n",
      "2019-12-13 16:38:47,658 Ignore 1 sentence(s) with no tokens.\n"
     ]
    },
    {
     "name": "stderr",
     "output_type": "stream",
     "text": [
      " 89%|████████▉ | 71505/80014 [2:45:54<04:56, 28.74it/s]"
     ]
    },
    {
     "name": "stdout",
     "output_type": "stream",
     "text": [
      "2019-12-13 16:38:48,101 ACHTUNG: An empty Sentence was created! Are there empty strings in your dataset?\n",
      "2019-12-13 16:38:48,103 Ignore 1 sentence(s) with no tokens.\n"
     ]
    },
    {
     "name": "stderr",
     "output_type": "stream",
     "text": [
      " 89%|████████▉ | 71518/80014 [2:45:55<04:53, 28.94it/s]"
     ]
    },
    {
     "name": "stdout",
     "output_type": "stream",
     "text": [
      "2019-12-13 16:38:48,384 ACHTUNG: An empty Sentence was created! Are there empty strings in your dataset?\n",
      "2019-12-13 16:38:48,386 Ignore 1 sentence(s) with no tokens.\n"
     ]
    },
    {
     "name": "stderr",
     "output_type": "stream",
     "text": [
      " 93%|█████████▎| 74220/80014 [2:52:57<15:46,  6.12it/s]  "
     ]
    },
    {
     "name": "stdout",
     "output_type": "stream",
     "text": [
      "2019-12-13 16:45:50,487 ACHTUNG: An empty Sentence was created! Are there empty strings in your dataset?\n",
      "2019-12-13 16:45:50,489 Ignore 1 sentence(s) with no tokens.\n"
     ]
    },
    {
     "name": "stderr",
     "output_type": "stream",
     "text": [
      " 94%|█████████▎| 74850/80014 [2:54:13<03:10, 27.12it/s]"
     ]
    },
    {
     "name": "stdout",
     "output_type": "stream",
     "text": [
      "2019-12-13 16:47:06,247 ACHTUNG: An empty Sentence was created! Are there empty strings in your dataset?\n",
      "2019-12-13 16:47:06,249 Ignore 1 sentence(s) with no tokens.\n"
     ]
    },
    {
     "name": "stderr",
     "output_type": "stream",
     "text": [
      " 94%|█████████▎| 74959/80014 [2:54:30<08:53,  9.47it/s]"
     ]
    },
    {
     "name": "stdout",
     "output_type": "stream",
     "text": [
      "2019-12-13 16:47:24,119 ACHTUNG: An empty Sentence was created! Are there empty strings in your dataset?\n",
      "2019-12-13 16:47:24,120 Ignore 1 sentence(s) with no tokens.\n"
     ]
    },
    {
     "name": "stderr",
     "output_type": "stream",
     "text": [
      " 96%|█████████▌| 76556/80014 [2:58:31<06:07,  9.42it/s]  "
     ]
    },
    {
     "name": "stdout",
     "output_type": "stream",
     "text": [
      "2019-12-13 16:51:24,867 ACHTUNG: An empty Sentence was created! Are there empty strings in your dataset?\n",
      "2019-12-13 16:51:24,869 Ignore 1 sentence(s) with no tokens.\n"
     ]
    },
    {
     "name": "stderr",
     "output_type": "stream",
     "text": [
      "\r",
      " 96%|█████████▌| 76561/80014 [2:58:31<04:39, 12.33it/s]"
     ]
    },
    {
     "name": "stdout",
     "output_type": "stream",
     "text": [
      "2019-12-13 16:51:25,032 ACHTUNG: An empty Sentence was created! Are there empty strings in your dataset?\n",
      "2019-12-13 16:51:25,034 Ignore 1 sentence(s) with no tokens.\n"
     ]
    },
    {
     "name": "stderr",
     "output_type": "stream",
     "text": [
      " 96%|█████████▌| 76571/80014 [2:58:32<03:00, 19.10it/s]"
     ]
    },
    {
     "name": "stdout",
     "output_type": "stream",
     "text": [
      "2019-12-13 16:51:25,209 ACHTUNG: An empty Sentence was created! Are there empty strings in your dataset?\n",
      "2019-12-13 16:51:25,211 Ignore 1 sentence(s) with no tokens.\n"
     ]
    },
    {
     "name": "stderr",
     "output_type": "stream",
     "text": [
      " 96%|█████████▌| 76681/80014 [2:58:51<06:00,  9.24it/s]"
     ]
    },
    {
     "name": "stdout",
     "output_type": "stream",
     "text": [
      "2019-12-13 16:51:44,513 ACHTUNG: An empty Sentence was created! Are there empty strings in your dataset?\n",
      "2019-12-13 16:51:44,515 Ignore 1 sentence(s) with no tokens.\n"
     ]
    },
    {
     "name": "stderr",
     "output_type": "stream",
     "text": [
      " 96%|█████████▌| 76690/80014 [2:58:51<03:38, 15.23it/s]"
     ]
    },
    {
     "name": "stdout",
     "output_type": "stream",
     "text": [
      "2019-12-13 16:51:44,666 ACHTUNG: An empty Sentence was created! Are there empty strings in your dataset?\n",
      "2019-12-13 16:51:44,667 Ignore 1 sentence(s) with no tokens.\n"
     ]
    },
    {
     "name": "stderr",
     "output_type": "stream",
     "text": [
      "\r",
      " 96%|█████████▌| 76696/80014 [2:58:51<02:52, 19.18it/s]"
     ]
    },
    {
     "name": "stdout",
     "output_type": "stream",
     "text": [
      "2019-12-13 16:51:44,848 ACHTUNG: An empty Sentence was created! Are there empty strings in your dataset?\n",
      "2019-12-13 16:51:44,849 Ignore 1 sentence(s) with no tokens.\n"
     ]
    },
    {
     "name": "stderr",
     "output_type": "stream",
     "text": [
      " 96%|█████████▌| 76706/80014 [2:58:51<02:05, 26.44it/s]"
     ]
    },
    {
     "name": "stdout",
     "output_type": "stream",
     "text": [
      "2019-12-13 16:51:44,999 ACHTUNG: An empty Sentence was created! Are there empty strings in your dataset?\n",
      "2019-12-13 16:51:45,001 Ignore 1 sentence(s) with no tokens.\n"
     ]
    },
    {
     "name": "stderr",
     "output_type": "stream",
     "text": [
      "\r",
      " 96%|█████████▌| 76711/80014 [2:58:52<01:47, 30.60it/s]"
     ]
    },
    {
     "name": "stdout",
     "output_type": "stream",
     "text": [
      "2019-12-13 16:51:45,192 ACHTUNG: An empty Sentence was created! Are there empty strings in your dataset?\n",
      "2019-12-13 16:51:45,194 Ignore 1 sentence(s) with no tokens.\n"
     ]
    },
    {
     "name": "stderr",
     "output_type": "stream",
     "text": [
      " 97%|█████████▋| 77382/80014 [3:00:59<02:56, 14.88it/s]"
     ]
    },
    {
     "name": "stdout",
     "output_type": "stream",
     "text": [
      "2019-12-13 16:53:52,812 ACHTUNG: An empty Sentence was created! Are there empty strings in your dataset?\n",
      "2019-12-13 16:53:52,814 Ignore 1 sentence(s) with no tokens.\n"
     ]
    },
    {
     "name": "stderr",
     "output_type": "stream",
     "text": [
      " 97%|█████████▋| 77540/80014 [3:01:11<01:31, 27.18it/s]"
     ]
    },
    {
     "name": "stdout",
     "output_type": "stream",
     "text": [
      "2019-12-13 16:54:04,262 ACHTUNG: An empty Sentence was created! Are there empty strings in your dataset?\n",
      "2019-12-13 16:54:04,263 Ignore 1 sentence(s) with no tokens.\n"
     ]
    },
    {
     "name": "stderr",
     "output_type": "stream",
     "text": [
      " 97%|█████████▋| 77811/80014 [3:01:24<01:21, 27.04it/s]"
     ]
    },
    {
     "name": "stdout",
     "output_type": "stream",
     "text": [
      "2019-12-13 16:54:17,975 ACHTUNG: An empty Sentence was created! Are there empty strings in your dataset?\n",
      "2019-12-13 16:54:17,977 Ignore 1 sentence(s) with no tokens.\n"
     ]
    },
    {
     "name": "stderr",
     "output_type": "stream",
     "text": [
      " 97%|█████████▋| 77844/80014 [3:01:25<01:17, 28.13it/s]"
     ]
    },
    {
     "name": "stdout",
     "output_type": "stream",
     "text": [
      "2019-12-13 16:54:19,042 ACHTUNG: An empty Sentence was created! Are there empty strings in your dataset?\n",
      "2019-12-13 16:54:19,043 Ignore 1 sentence(s) with no tokens.\n"
     ]
    },
    {
     "name": "stderr",
     "output_type": "stream",
     "text": [
      " 97%|█████████▋| 77878/80014 [3:01:26<01:15, 28.36it/s]"
     ]
    },
    {
     "name": "stdout",
     "output_type": "stream",
     "text": [
      "2019-12-13 16:54:20,086 ACHTUNG: An empty Sentence was created! Are there empty strings in your dataset?\n",
      "2019-12-13 16:54:20,087 Ignore 1 sentence(s) with no tokens.\n"
     ]
    },
    {
     "name": "stderr",
     "output_type": "stream",
     "text": [
      " 98%|█████████▊| 78380/80014 [3:02:52<04:25,  6.15it/s]"
     ]
    },
    {
     "name": "stdout",
     "output_type": "stream",
     "text": [
      "2019-12-13 16:55:45,796 ACHTUNG: An empty Sentence was created! Are there empty strings in your dataset?\n",
      "2019-12-13 16:55:45,798 Ignore 1 sentence(s) with no tokens.\n"
     ]
    },
    {
     "name": "stderr",
     "output_type": "stream",
     "text": [
      "\r",
      " 98%|█████████▊| 78384/80014 [3:02:52<03:18,  8.22it/s]"
     ]
    },
    {
     "name": "stdout",
     "output_type": "stream",
     "text": [
      "2019-12-13 16:55:45,848 ACHTUNG: An empty Sentence was created! Are there empty strings in your dataset?\n",
      "2019-12-13 16:55:45,850 Ignore 1 sentence(s) with no tokens.\n"
     ]
    },
    {
     "name": "stderr",
     "output_type": "stream",
     "text": [
      "\r",
      " 98%|█████████▊| 78389/80014 [3:02:52<02:30, 10.82it/s]"
     ]
    },
    {
     "name": "stdout",
     "output_type": "stream",
     "text": [
      "2019-12-13 16:55:45,942 ACHTUNG: An empty Sentence was created! Are there empty strings in your dataset?\n",
      "2019-12-13 16:55:45,943 Ignore 1 sentence(s) with no tokens.\n",
      "2019-12-13 16:55:45,945 ACHTUNG: An empty Sentence was created! Are there empty strings in your dataset?\n",
      "2019-12-13 16:55:45,946 Ignore 1 sentence(s) with no tokens.\n",
      "2019-12-13 16:55:46,004 ACHTUNG: An empty Sentence was created! Are there empty strings in your dataset?\n",
      "2019-12-13 16:55:46,005 Ignore 1 sentence(s) with no tokens.\n"
     ]
    },
    {
     "name": "stderr",
     "output_type": "stream",
     "text": [
      "\r",
      " 98%|█████████▊| 78396/80014 [3:02:52<01:53, 14.26it/s]"
     ]
    },
    {
     "name": "stdout",
     "output_type": "stream",
     "text": [
      "2019-12-13 16:55:46,069 ACHTUNG: An empty Sentence was created! Are there empty strings in your dataset?\n",
      "2019-12-13 16:55:46,070 Ignore 1 sentence(s) with no tokens.\n",
      "2019-12-13 16:55:46,133 ACHTUNG: An empty Sentence was created! Are there empty strings in your dataset?\n",
      "2019-12-13 16:55:46,134 Ignore 1 sentence(s) with no tokens.\n"
     ]
    },
    {
     "name": "stderr",
     "output_type": "stream",
     "text": [
      "\r",
      " 98%|█████████▊| 78401/80014 [3:02:53<01:30, 17.78it/s]"
     ]
    },
    {
     "name": "stdout",
     "output_type": "stream",
     "text": [
      "2019-12-13 16:55:46,215 ACHTUNG: An empty Sentence was created! Are there empty strings in your dataset?\n",
      "2019-12-13 16:55:46,216 Ignore 1 sentence(s) with no tokens.\n"
     ]
    },
    {
     "name": "stderr",
     "output_type": "stream",
     "text": [
      " 98%|█████████▊| 78661/80014 [3:03:43<06:26,  3.50it/s]"
     ]
    },
    {
     "name": "stdout",
     "output_type": "stream",
     "text": [
      "2019-12-13 16:56:36,470 ACHTUNG: An empty Sentence was created! Are there empty strings in your dataset?\n",
      "2019-12-13 16:56:36,472 Ignore 1 sentence(s) with no tokens.\n"
     ]
    },
    {
     "name": "stderr",
     "output_type": "stream",
     "text": [
      " 98%|█████████▊| 78710/80014 [3:03:55<05:31,  3.93it/s]"
     ]
    },
    {
     "name": "stdout",
     "output_type": "stream",
     "text": [
      "2019-12-13 16:56:48,697 ACHTUNG: An empty Sentence was created! Are there empty strings in your dataset?\n",
      "2019-12-13 16:56:48,698 Ignore 1 sentence(s) with no tokens.\n"
     ]
    },
    {
     "name": "stderr",
     "output_type": "stream",
     "text": [
      " 98%|█████████▊| 78751/80014 [3:04:05<06:12,  3.39it/s]"
     ]
    },
    {
     "name": "stdout",
     "output_type": "stream",
     "text": [
      "2019-12-13 16:56:58,725 ACHTUNG: An empty Sentence was created! Are there empty strings in your dataset?\n",
      "2019-12-13 16:56:58,726 Ignore 1 sentence(s) with no tokens.\n"
     ]
    },
    {
     "name": "stderr",
     "output_type": "stream",
     "text": [
      " 98%|█████████▊| 78781/80014 [3:04:12<05:27,  3.77it/s]"
     ]
    },
    {
     "name": "stdout",
     "output_type": "stream",
     "text": [
      "2019-12-13 16:57:05,439 ACHTUNG: An empty Sentence was created! Are there empty strings in your dataset?\n",
      "2019-12-13 16:57:05,440 Ignore 1 sentence(s) with no tokens.\n"
     ]
    },
    {
     "name": "stderr",
     "output_type": "stream",
     "text": [
      " 99%|█████████▉| 79448/80014 [3:05:04<00:56,  9.99it/s]"
     ]
    },
    {
     "name": "stdout",
     "output_type": "stream",
     "text": [
      "2019-12-13 16:57:57,342 ACHTUNG: An empty Sentence was created! Are there empty strings in your dataset?\n",
      "2019-12-13 16:57:57,344 Ignore 1 sentence(s) with no tokens.\n"
     ]
    },
    {
     "name": "stderr",
     "output_type": "stream",
     "text": [
      " 99%|█████████▉| 79477/80014 [3:05:05<00:20, 26.69it/s]"
     ]
    },
    {
     "name": "stdout",
     "output_type": "stream",
     "text": [
      "2019-12-13 16:57:58,316 ACHTUNG: An empty Sentence was created! Are there empty strings in your dataset?\n",
      "2019-12-13 16:57:58,317 Ignore 1 sentence(s) with no tokens.\n"
     ]
    },
    {
     "name": "stderr",
     "output_type": "stream",
     "text": [
      "\r",
      " 99%|█████████▉| 79481/80014 [3:05:05<00:18, 28.31it/s]"
     ]
    },
    {
     "name": "stdout",
     "output_type": "stream",
     "text": [
      "2019-12-13 16:57:58,429 ACHTUNG: An empty Sentence was created! Are there empty strings in your dataset?\n",
      "2019-12-13 16:57:58,430 Ignore 1 sentence(s) with no tokens.\n"
     ]
    },
    {
     "name": "stderr",
     "output_type": "stream",
     "text": [
      " 99%|█████████▉| 79537/80014 [3:05:06<00:15, 31.38it/s]"
     ]
    },
    {
     "name": "stdout",
     "output_type": "stream",
     "text": [
      "2019-12-13 16:58:00,181 ACHTUNG: An empty Sentence was created! Are there empty strings in your dataset?\n",
      "2019-12-13 16:58:00,183 Ignore 1 sentence(s) with no tokens.\n"
     ]
    },
    {
     "name": "stderr",
     "output_type": "stream",
     "text": [
      "\r",
      " 99%|█████████▉| 79541/80014 [3:05:07<00:14, 31.80it/s]"
     ]
    },
    {
     "name": "stdout",
     "output_type": "stream",
     "text": [
      "2019-12-13 16:58:00,294 ACHTUNG: An empty Sentence was created! Are there empty strings in your dataset?\n",
      "2019-12-13 16:58:00,296 Ignore 1 sentence(s) with no tokens.\n"
     ]
    },
    {
     "name": "stderr",
     "output_type": "stream",
     "text": [
      " 99%|█████████▉| 79569/80014 [3:05:07<00:14, 30.53it/s]"
     ]
    },
    {
     "name": "stdout",
     "output_type": "stream",
     "text": [
      "2019-12-13 16:58:01,094 ACHTUNG: An empty Sentence was created! Are there empty strings in your dataset?\n",
      "2019-12-13 16:58:01,095 Ignore 1 sentence(s) with no tokens.\n"
     ]
    },
    {
     "name": "stderr",
     "output_type": "stream",
     "text": [
      "\r",
      " 99%|█████████▉| 79573/80014 [3:05:08<00:13, 31.80it/s]"
     ]
    },
    {
     "name": "stdout",
     "output_type": "stream",
     "text": [
      "2019-12-13 16:58:01,207 ACHTUNG: An empty Sentence was created! Are there empty strings in your dataset?\n",
      "2019-12-13 16:58:01,209 Ignore 1 sentence(s) with no tokens.\n"
     ]
    },
    {
     "name": "stderr",
     "output_type": "stream",
     "text": [
      "100%|██████████| 80014/80014 [3:06:24<00:00,  7.15it/s]\n",
      "  7%|▋         | 1097/16108 [02:37<28:02,  8.92it/s]  "
     ]
    },
    {
     "name": "stdout",
     "output_type": "stream",
     "text": [
      "2019-12-13 17:01:55,108 ACHTUNG: An empty Sentence was created! Are there empty strings in your dataset?\n",
      "2019-12-13 17:01:55,110 Ignore 1 sentence(s) with no tokens.\n"
     ]
    },
    {
     "name": "stderr",
     "output_type": "stream",
     "text": [
      " 18%|█▊        | 2880/16108 [07:22<37:44,  5.84it/s]   "
     ]
    },
    {
     "name": "stdout",
     "output_type": "stream",
     "text": [
      "2019-12-13 17:06:40,319 ACHTUNG: An empty Sentence was created! Are there empty strings in your dataset?\n",
      "2019-12-13 17:06:40,320 Ignore 1 sentence(s) with no tokens.\n",
      "2019-12-13 17:06:40,322 ACHTUNG: An empty Sentence was created! Are there empty strings in your dataset?\n",
      "2019-12-13 17:06:40,323 Ignore 1 sentence(s) with no tokens.\n"
     ]
    },
    {
     "name": "stderr",
     "output_type": "stream",
     "text": [
      "\r",
      " 18%|█▊        | 2884/16108 [07:22<28:39,  7.69it/s]"
     ]
    },
    {
     "name": "stdout",
     "output_type": "stream",
     "text": [
      "2019-12-13 17:06:40,405 ACHTUNG: An empty Sentence was created! Are there empty strings in your dataset?\n",
      "2019-12-13 17:06:40,406 Ignore 1 sentence(s) with no tokens.\n",
      "2019-12-13 17:06:40,429 ACHTUNG: An empty Sentence was created! Are there empty strings in your dataset?\n",
      "2019-12-13 17:06:40,430 Ignore 1 sentence(s) with no tokens.\n",
      "2019-12-13 17:06:40,432 ACHTUNG: An empty Sentence was created! Are there empty strings in your dataset?\n",
      "2019-12-13 17:06:40,433 Ignore 1 sentence(s) with no tokens.\n"
     ]
    },
    {
     "name": "stderr",
     "output_type": "stream",
     "text": [
      " 31%|███       | 4938/16108 [12:57<31:06,  5.99it/s]  "
     ]
    },
    {
     "name": "stdout",
     "output_type": "stream",
     "text": [
      "2019-12-13 17:12:15,099 ACHTUNG: An empty Sentence was created! Are there empty strings in your dataset?\n",
      "2019-12-13 17:12:15,100 Ignore 1 sentence(s) with no tokens.\n"
     ]
    },
    {
     "name": "stderr",
     "output_type": "stream",
     "text": [
      " 34%|███▎      | 5400/16108 [14:16<05:48, 30.75it/s]  "
     ]
    },
    {
     "name": "stdout",
     "output_type": "stream",
     "text": [
      "2019-12-13 17:13:34,246 ACHTUNG: An empty Sentence was created! Are there empty strings in your dataset?\n",
      "2019-12-13 17:13:34,247 Ignore 1 sentence(s) with no tokens.\n"
     ]
    },
    {
     "name": "stderr",
     "output_type": "stream",
     "text": [
      " 34%|███▎      | 5422/16108 [14:16<03:59, 44.61it/s]"
     ]
    },
    {
     "name": "stdout",
     "output_type": "stream",
     "text": [
      "2019-12-13 17:13:34,672 ACHTUNG: An empty Sentence was created! Are there empty strings in your dataset?\n",
      "2019-12-13 17:13:34,673 Ignore 1 sentence(s) with no tokens.\n"
     ]
    },
    {
     "name": "stderr",
     "output_type": "stream",
     "text": [
      " 34%|███▍      | 5439/16108 [14:17<03:47, 46.98it/s]"
     ]
    },
    {
     "name": "stdout",
     "output_type": "stream",
     "text": [
      "2019-12-13 17:13:35,100 ACHTUNG: An empty Sentence was created! Are there empty strings in your dataset?\n",
      "2019-12-13 17:13:35,101 Ignore 1 sentence(s) with no tokens.\n"
     ]
    },
    {
     "name": "stderr",
     "output_type": "stream",
     "text": [
      " 34%|███▍      | 5532/16108 [14:19<05:10, 34.03it/s]"
     ]
    },
    {
     "name": "stdout",
     "output_type": "stream",
     "text": [
      "2019-12-13 17:13:37,352 ACHTUNG: An empty Sentence was created! Are there empty strings in your dataset?\n",
      "2019-12-13 17:13:37,354 Ignore 1 sentence(s) with no tokens.\n"
     ]
    },
    {
     "name": "stderr",
     "output_type": "stream",
     "text": [
      "\r",
      " 34%|███▍      | 5536/16108 [14:19<05:07, 34.43it/s]"
     ]
    },
    {
     "name": "stdout",
     "output_type": "stream",
     "text": [
      "2019-12-13 17:13:37,393 ACHTUNG: An empty Sentence was created! Are there empty strings in your dataset?\n",
      "2019-12-13 17:13:37,394 Ignore 1 sentence(s) with no tokens.\n",
      "2019-12-13 17:13:37,396 ACHTUNG: An empty Sentence was created! Are there empty strings in your dataset?\n",
      "2019-12-13 17:13:37,398 Ignore 1 sentence(s) with no tokens.\n",
      "2019-12-13 17:13:37,399 ACHTUNG: An empty Sentence was created! Are there empty strings in your dataset?\n",
      "2019-12-13 17:13:37,401 Ignore 1 sentence(s) with no tokens.\n"
     ]
    },
    {
     "name": "stderr",
     "output_type": "stream",
     "text": [
      " 35%|███▍      | 5569/16108 [14:20<03:26, 51.15it/s]"
     ]
    },
    {
     "name": "stdout",
     "output_type": "stream",
     "text": [
      "2019-12-13 17:13:38,037 ACHTUNG: An empty Sentence was created! Are there empty strings in your dataset?\n",
      "2019-12-13 17:13:38,039 Ignore 1 sentence(s) with no tokens.\n"
     ]
    },
    {
     "name": "stderr",
     "output_type": "stream",
     "text": [
      " 46%|████▋     | 7456/16108 [20:02<04:51, 29.67it/s]  "
     ]
    },
    {
     "name": "stdout",
     "output_type": "stream",
     "text": [
      "2019-12-13 17:19:19,969 ACHTUNG: An empty Sentence was created! Are there empty strings in your dataset?\n",
      "2019-12-13 17:19:19,970 Ignore 1 sentence(s) with no tokens.\n"
     ]
    },
    {
     "name": "stderr",
     "output_type": "stream",
     "text": [
      " 46%|████▋     | 7467/16108 [20:02<07:26, 19.37it/s]"
     ]
    },
    {
     "name": "stdout",
     "output_type": "stream",
     "text": [
      "2019-12-13 17:19:20,719 ACHTUNG: An empty Sentence was created! Are there empty strings in your dataset?\n",
      "2019-12-13 17:19:20,721 Ignore 1 sentence(s) with no tokens.\n"
     ]
    },
    {
     "name": "stderr",
     "output_type": "stream",
     "text": [
      " 46%|████▋     | 7479/16108 [20:03<08:56, 16.09it/s]"
     ]
    },
    {
     "name": "stdout",
     "output_type": "stream",
     "text": [
      "2019-12-13 17:19:21,304 ACHTUNG: An empty Sentence was created! Are there empty strings in your dataset?\n",
      "2019-12-13 17:19:21,305 Ignore 1 sentence(s) with no tokens.\n"
     ]
    },
    {
     "name": "stderr",
     "output_type": "stream",
     "text": [
      " 47%|████▋     | 7506/16108 [20:04<06:53, 20.78it/s]"
     ]
    },
    {
     "name": "stdout",
     "output_type": "stream",
     "text": [
      "2019-12-13 17:19:22,574 ACHTUNG: An empty Sentence was created! Are there empty strings in your dataset?\n",
      "2019-12-13 17:19:22,576 Ignore 1 sentence(s) with no tokens.\n"
     ]
    },
    {
     "name": "stderr",
     "output_type": "stream",
     "text": [
      " 47%|████▋     | 7516/16108 [20:05<06:32, 21.91it/s]"
     ]
    },
    {
     "name": "stdout",
     "output_type": "stream",
     "text": [
      "2019-12-13 17:19:22,996 ACHTUNG: An empty Sentence was created! Are there empty strings in your dataset?\n",
      "2019-12-13 17:19:22,998 Ignore 1 sentence(s) with no tokens.\n"
     ]
    },
    {
     "name": "stderr",
     "output_type": "stream",
     "text": [
      " 47%|████▋     | 7550/16108 [20:06<08:21, 17.07it/s]"
     ]
    },
    {
     "name": "stdout",
     "output_type": "stream",
     "text": [
      "2019-12-13 17:19:24,759 ACHTUNG: An empty Sentence was created! Are there empty strings in your dataset?\n",
      "2019-12-13 17:19:24,760 Ignore 1 sentence(s) with no tokens.\n"
     ]
    },
    {
     "name": "stderr",
     "output_type": "stream",
     "text": [
      " 47%|████▋     | 7560/16108 [20:07<10:40, 13.34it/s]"
     ]
    },
    {
     "name": "stdout",
     "output_type": "stream",
     "text": [
      "2019-12-13 17:19:25,493 ACHTUNG: An empty Sentence was created! Are there empty strings in your dataset?\n",
      "2019-12-13 17:19:25,494 Ignore 1 sentence(s) with no tokens.\n"
     ]
    },
    {
     "name": "stderr",
     "output_type": "stream",
     "text": [
      " 47%|████▋     | 7566/16108 [20:07<09:02, 15.75it/s]"
     ]
    },
    {
     "name": "stdout",
     "output_type": "stream",
     "text": [
      "2019-12-13 17:19:25,759 ACHTUNG: An empty Sentence was created! Are there empty strings in your dataset?\n",
      "2019-12-13 17:19:25,760 Ignore 1 sentence(s) with no tokens.\n"
     ]
    },
    {
     "name": "stderr",
     "output_type": "stream",
     "text": [
      "\r",
      " 47%|████▋     | 7570/16108 [20:08<07:50, 18.14it/s]"
     ]
    },
    {
     "name": "stdout",
     "output_type": "stream",
     "text": [
      "2019-12-13 17:19:26,002 ACHTUNG: An empty Sentence was created! Are there empty strings in your dataset?\n",
      "2019-12-13 17:19:26,003 Ignore 1 sentence(s) with no tokens.\n"
     ]
    },
    {
     "name": "stderr",
     "output_type": "stream",
     "text": [
      " 75%|███████▌  | 12153/16108 [29:53<12:10,  5.42it/s]  "
     ]
    },
    {
     "name": "stdout",
     "output_type": "stream",
     "text": [
      "2019-12-13 17:29:11,077 ACHTUNG: An empty Sentence was created! Are there empty strings in your dataset?\n",
      "2019-12-13 17:29:11,079 Ignore 1 sentence(s) with no tokens.\n"
     ]
    },
    {
     "name": "stderr",
     "output_type": "stream",
     "text": [
      " 76%|███████▌  | 12174/16108 [29:56<13:53,  4.72it/s]"
     ]
    },
    {
     "name": "stdout",
     "output_type": "stream",
     "text": [
      "2019-12-13 17:29:14,798 ACHTUNG: An empty Sentence was created! Are there empty strings in your dataset?\n",
      "2019-12-13 17:29:14,799 Ignore 1 sentence(s) with no tokens.\n"
     ]
    },
    {
     "name": "stderr",
     "output_type": "stream",
     "text": [
      " 77%|███████▋  | 12327/16108 [30:01<02:26, 25.73it/s]"
     ]
    },
    {
     "name": "stdout",
     "output_type": "stream",
     "text": [
      "2019-12-13 17:29:19,091 ACHTUNG: An empty Sentence was created! Are there empty strings in your dataset?\n",
      "2019-12-13 17:29:19,092 Ignore 1 sentence(s) with no tokens.\n"
     ]
    },
    {
     "name": "stderr",
     "output_type": "stream",
     "text": [
      " 77%|███████▋  | 12337/16108 [30:01<03:12, 19.64it/s]"
     ]
    },
    {
     "name": "stdout",
     "output_type": "stream",
     "text": [
      "2019-12-13 17:29:19,588 ACHTUNG: An empty Sentence was created! Are there empty strings in your dataset?\n",
      "2019-12-13 17:29:19,589 Ignore 1 sentence(s) with no tokens.\n"
     ]
    },
    {
     "name": "stderr",
     "output_type": "stream",
     "text": [
      "\r",
      " 77%|███████▋  | 12340/16108 [30:01<03:14, 19.33it/s]"
     ]
    },
    {
     "name": "stdout",
     "output_type": "stream",
     "text": [
      "2019-12-13 17:29:19,751 ACHTUNG: An empty Sentence was created! Are there empty strings in your dataset?\n",
      "2019-12-13 17:29:19,752 Ignore 1 sentence(s) with no tokens.\n"
     ]
    },
    {
     "name": "stderr",
     "output_type": "stream",
     "text": [
      "\r",
      " 77%|███████▋  | 12343/16108 [30:01<03:01, 20.74it/s]"
     ]
    },
    {
     "name": "stdout",
     "output_type": "stream",
     "text": [
      "2019-12-13 17:29:19,871 ACHTUNG: An empty Sentence was created! Are there empty strings in your dataset?\n",
      "2019-12-13 17:29:19,873 Ignore 1 sentence(s) with no tokens.\n"
     ]
    },
    {
     "name": "stderr",
     "output_type": "stream",
     "text": [
      " 77%|███████▋  | 12349/16108 [30:02<02:59, 20.91it/s]"
     ]
    },
    {
     "name": "stdout",
     "output_type": "stream",
     "text": [
      "2019-12-13 17:29:20,145 ACHTUNG: An empty Sentence was created! Are there empty strings in your dataset?\n",
      "2019-12-13 17:29:20,147 Ignore 1 sentence(s) with no tokens.\n"
     ]
    },
    {
     "name": "stderr",
     "output_type": "stream",
     "text": [
      " 77%|███████▋  | 12413/16108 [30:12<08:41,  7.09it/s]"
     ]
    },
    {
     "name": "stdout",
     "output_type": "stream",
     "text": [
      "2019-12-13 17:29:30,232 ACHTUNG: An empty Sentence was created! Are there empty strings in your dataset?\n",
      "2019-12-13 17:29:30,233 Ignore 1 sentence(s) with no tokens.\n"
     ]
    },
    {
     "name": "stderr",
     "output_type": "stream",
     "text": [
      "\r",
      " 77%|███████▋  | 12416/16108 [30:12<06:45,  9.11it/s]"
     ]
    },
    {
     "name": "stdout",
     "output_type": "stream",
     "text": [
      "2019-12-13 17:29:30,339 ACHTUNG: An empty Sentence was created! Are there empty strings in your dataset?\n",
      "2019-12-13 17:29:30,341 Ignore 1 sentence(s) with no tokens.\n"
     ]
    },
    {
     "name": "stderr",
     "output_type": "stream",
     "text": [
      " 77%|███████▋  | 12422/16108 [30:12<05:21, 11.45it/s]"
     ]
    },
    {
     "name": "stdout",
     "output_type": "stream",
     "text": [
      "2019-12-13 17:29:30,722 ACHTUNG: An empty Sentence was created! Are there empty strings in your dataset?\n",
      "2019-12-13 17:29:30,723 Ignore 1 sentence(s) with no tokens.\n"
     ]
    },
    {
     "name": "stderr",
     "output_type": "stream",
     "text": [
      "\r",
      " 77%|███████▋  | 12425/16108 [30:12<04:41, 13.07it/s]"
     ]
    },
    {
     "name": "stdout",
     "output_type": "stream",
     "text": [
      "2019-12-13 17:29:30,875 ACHTUNG: An empty Sentence was created! Are there empty strings in your dataset?\n",
      "2019-12-13 17:29:30,876 Ignore 1 sentence(s) with no tokens.\n"
     ]
    },
    {
     "name": "stderr",
     "output_type": "stream",
     "text": [
      " 77%|███████▋  | 12433/16108 [30:13<05:19, 11.51it/s]"
     ]
    },
    {
     "name": "stdout",
     "output_type": "stream",
     "text": [
      "2019-12-13 17:29:31,509 ACHTUNG: An empty Sentence was created! Are there empty strings in your dataset?\n",
      "2019-12-13 17:29:31,511 Ignore 1 sentence(s) with no tokens.\n"
     ]
    },
    {
     "name": "stderr",
     "output_type": "stream",
     "text": [
      "\r",
      " 77%|███████▋  | 12436/16108 [30:13<04:30, 13.59it/s]"
     ]
    },
    {
     "name": "stdout",
     "output_type": "stream",
     "text": [
      "2019-12-13 17:29:31,637 ACHTUNG: An empty Sentence was created! Are there empty strings in your dataset?\n",
      "2019-12-13 17:29:31,639 Ignore 1 sentence(s) with no tokens.\n"
     ]
    },
    {
     "name": "stderr",
     "output_type": "stream",
     "text": [
      "\r",
      " 77%|███████▋  | 12438/16108 [30:13<04:20, 14.06it/s]"
     ]
    },
    {
     "name": "stdout",
     "output_type": "stream",
     "text": [
      "2019-12-13 17:29:31,799 ACHTUNG: An empty Sentence was created! Are there empty strings in your dataset?\n",
      "2019-12-13 17:29:31,801 Ignore 1 sentence(s) with no tokens.\n"
     ]
    },
    {
     "name": "stderr",
     "output_type": "stream",
     "text": [
      " 80%|███████▉  | 12859/16108 [31:28<04:46, 11.34it/s]"
     ]
    },
    {
     "name": "stdout",
     "output_type": "stream",
     "text": [
      "2019-12-13 17:30:46,002 ACHTUNG: An empty Sentence was created! Are there empty strings in your dataset?\n",
      "2019-12-13 17:30:46,004 Ignore 1 sentence(s) with no tokens.\n"
     ]
    },
    {
     "name": "stderr",
     "output_type": "stream",
     "text": [
      " 96%|█████████▌| 15470/16108 [38:43<01:43,  6.14it/s]"
     ]
    },
    {
     "name": "stdout",
     "output_type": "stream",
     "text": [
      "2019-12-13 17:38:01,301 ACHTUNG: An empty Sentence was created! Are there empty strings in your dataset?\n",
      "2019-12-13 17:38:01,302 Ignore 1 sentence(s) with no tokens.\n"
     ]
    },
    {
     "name": "stderr",
     "output_type": "stream",
     "text": [
      "100%|██████████| 16108/16108 [40:51<00:00,  6.57it/s]\n"
     ]
    }
   ],
   "source": [
    "####### Organisms ###################\n",
    "\n",
    "train_result_file_name = 'PCSE_public_train_OG_IOB.csv'\n",
    "dev_result_file_name = 'PCSE_public_dev_OG_IOB.csv'\n",
    "\n",
    "with open(result_path + train_result_file_name, 'w', newline='\\n') as f1:\n",
    "    public_writer = csv.writer(f1, delimiter='\\t', lineterminator='\\n')\n",
    "\n",
    "    for index_, each_annotation in tqdm(train_df.iterrows(), total=train_df.shape[0]):\n",
    "        text_temp = each_annotation['sentence'].encode('utf-8').decode('utf-8')\n",
    "\n",
    "        sentence = ' '.join(wordpunct_tokenize(text_temp))\n",
    "        sentence = Sentence(sentence)\n",
    "        organisms_model.predict(sentence)\n",
    "\n",
    "        for token in sentence:\n",
    "        # print what you need (text and NER value)\n",
    "            ner_value = token.get_tag('ner').value\n",
    "            if  ner_value == 'B-Species':\n",
    "                ner_value = 'B-OG'\n",
    "                \n",
    "            if  ner_value == 'I-Species':\n",
    "                ner_value = 'I-OG'   \n",
    "            \n",
    "            public_writer.writerow([token.text, ner_value])\n",
    "        public_writer.writerow('')\n",
    "        \n",
    "        \n",
    "with open(result_path + dev_result_file_name, 'a', newline='\\n') as f1:\n",
    "    public_writer = csv.writer(f1, delimiter='\\t', lineterminator='\\n')\n",
    "\n",
    "    for index_, each_annotation in tqdm(dev_df.iterrows(), total=dev_df.shape[0]):\n",
    "        text_temp = each_annotation['sentence'].encode('utf-8').decode('utf-8')\n",
    "\n",
    "        sentence = ' '.join(wordpunct_tokenize(text_temp))\n",
    "        sentence = Sentence(sentence)\n",
    "        organisms_model.predict(sentence)\n",
    "\n",
    "        for token in sentence:\n",
    "        # print what you need (text and NER value)\n",
    "            ner_value = token.get_tag('ner').value\n",
    "            if  ner_value == 'B-Species':\n",
    "                ner_value = 'B-OG'\n",
    "                \n",
    "            if  ner_value == 'I-Species':\n",
    "                ner_value = 'I-OG'   \n",
    "            \n",
    "            public_writer.writerow([token.text, ner_value])\n",
    "        public_writer.writerow('')        "
   ]
  },
  {
   "cell_type": "code",
   "execution_count": null,
   "metadata": {},
   "outputs": [],
   "source": [
    "import csv\n",
    "data_path = '/nfs/gns/literature/machine-learning/Datasets/NER_Datasets/BC2GM-IOB/test.tsv'\n",
    "targets = ['GENE']\n",
    "                \n",
    "def load_IOBdataset(data_path,targets):\n",
    "    \"\"\"\n",
    "    load the IOB dataset, which is in csv format\n",
    "    :param data_path: path to the csv file of IOB dataset\n",
    "    :type data_path: str\n",
    "    :param targets: a list of interest types\n",
    "    :type targets: List[str]\n",
    "    :return: list of labels of every sentence in dataset\n",
    "    :rtype: List[List[str\n",
    "    \"\"\"\n",
    "    X = []\n",
    "    y = []\n",
    "\n",
    "    X_sent = []\n",
    "    y_sent = []\n",
    "    with open(data_path, 'r') as f:\n",
    "        csv_reader = csv.reader(f, delimiter='\\t')\n",
    "        for line in csv_reader:\n",
    "            if line:\n",
    "                token, tag = line[0], line[-1]\n",
    "                X_sent.append(token)\n",
    "                if targets:\n",
    "                    if tag.split('-')[-1] in set(targets):\n",
    "                        y_sent.append(tag)\n",
    "                    else:\n",
    "                        y_sent.append('O')\n",
    "                else:\n",
    "                    y_sent.append(tag)\n",
    "            else:\n",
    "                # we reach the end of a sentence\n",
    "                if len(X_sent) > 0:\n",
    "                    X.append(' '.join(X_sent))\n",
    "                    y.append(y_sent)\n",
    "                X_sent = []\n",
    "                y_sent = []\n",
    "    return X, y\n",
    "\n",
    "BC2GM_test,y = load_IOBdataset(data_path,targets)"
   ]
  },
  {
   "cell_type": "code",
   "execution_count": null,
   "metadata": {},
   "outputs": [],
   "source": [
    "result_path = '/nfs/gns/literature/machine-learning/Santosh/public_train_test'\n",
    "result_file_name = 'BC2GM_test_IOB.csv'\n",
    "\n",
    "from nltk.tokenize import wordpunct_tokenize, WordPunctTokenizer\n",
    "from tqdm import tqdm\n",
    "import csv\n",
    "import pandas as pd\n",
    "\n",
    "with open(result_path + result_file_name, 'a', newline='\\n') as f1:\n",
    "    public_writer = csv.writer(f1, delimiter='\\t', lineterminator='\\n')\n",
    "\n",
    "    for each_sentence in tqdm(BC2GM_test):\n",
    "        text_temp = each_sentence\n",
    "\n",
    "#         sentence = ' '.join(text_temp.split(' '))\n",
    "        sentence = Sentence(text_temp)\n",
    "        gene_model.predict(sentence)\n",
    "\n",
    "        for token in sentence:\n",
    "        # print what you need (text and NER value)\n",
    "            ner_value = token.get_tag('ner').value\n",
    "#             if  ner_value == 'B-GP':\n",
    "#                 ner_value = 'B-GENE'\n",
    "                \n",
    "#             if  ner_value == 'I-GP':\n",
    "#                 ner_value = 'I-GENE'  \n",
    "            \n",
    "            public_writer.writerow([token.text, ner_value])\n",
    "        public_writer.writerow('')"
   ]
  }
 ],
 "metadata": {
  "kernelspec": {
   "display_name": "PyTorch",
   "language": "python",
   "name": "pytorch"
  },
  "language_info": {
   "codemirror_mode": {
    "name": "ipython",
    "version": 3
   },
   "file_extension": ".py",
   "mimetype": "text/x-python",
   "name": "python",
   "nbconvert_exporter": "python",
   "pygments_lexer": "ipython3",
   "version": "3.7.4"
  }
 },
 "nbformat": 4,
 "nbformat_minor": 2
}
