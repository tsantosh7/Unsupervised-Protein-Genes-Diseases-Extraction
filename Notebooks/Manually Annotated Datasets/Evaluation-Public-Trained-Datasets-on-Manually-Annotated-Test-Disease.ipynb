{
 "cells": [
  {
   "cell_type": "code",
   "execution_count": 1,
   "metadata": {},
   "outputs": [],
   "source": [
    "# Code to evaluate EPMC annotation to the Manual Annotation\n",
    "# Code to compare results from ML methods and EPMC annotation\n",
    "\n",
    "# (c) EMBL-EBI, September 2019\n",
    "#\n",
    "# Started: 23 Septmember  2019\n",
    "# Updated: 24 Septmember  2019\n",
    "\n",
    "_author_ = 'Santosh Tirunagari'\n",
    "\n",
    "import os\n",
    "import pandas as pd\n",
    "import glob\n",
    "import json\n",
    "import csv\n",
    "import sys\n",
    "\n",
    "import multiprocessing\n",
    "\n",
    "import numpy as np\n",
    "import re\n",
    "\n",
    "from nltk.tokenize import wordpunct_tokenize\n",
    "\n",
    "import requests\n",
    "# from pprint import pprint\n",
    "import pandas as pd\n",
    "\n",
    "from collections import defaultdict, Counter\n",
    "import time\n",
    "from requests.compat import urljoin\n",
    "\n",
    "from tqdm import tqdm"
   ]
  },
  {
   "cell_type": "code",
   "execution_count": 2,
   "metadata": {},
   "outputs": [],
   "source": [
    "result_path = '/nfs/gns/literature/machine-learning/evaluation/300articles/ML-NER/PCSE/public_trained/'\n",
    "\n",
    "from nltk.tokenize import wordpunct_tokenize, WordPunctTokenizer\n",
    "from tqdm import tqdm\n",
    "import csv\n",
    "import pandas as pd\n",
    "\n",
    "test_df = pd.read_csv('/nfs/gns/literature/machine-learning/evaluation/300articles/CSV formats/test.csv', sep='\\t', names = ['pmc_id','sentence', 'gt'])\n"
   ]
  },
  {
   "cell_type": "code",
   "execution_count": 3,
   "metadata": {},
   "outputs": [
    {
     "name": "stdout",
     "output_type": "stream",
     "text": [
      "2019-11-21 14:27:02,604 loading file /nfs/gns/literature/Santosh_Tirunagari/GitHub/flair_models/ner/multi_bio_ner_model_disease/best-model.pt\n"
     ]
    }
   ],
   "source": [
    "from flair.models import TextClassifier\n",
    "from flair.data import Sentence, Token\n",
    "from flair.models import SequenceTagger\n",
    "\n",
    "flair_models = '/nfs/gns/literature/Santosh_Tirunagari/GitHub/flair_models/ner/'\n",
    "# load the model you trained\n",
    "# gene_model = SequenceTagger.load(flair_models+'multi_bio_ner_model_gene/v01/'+'best-model.pt')\n",
    "disease_model = SequenceTagger.load(flair_models+'multi_bio_ner_model_disease/'+'best-model.pt')\n",
    "# organisms_model = SequenceTagger.load(flair_models+'multi_bio_ner_model_organisms/v01/'+'best-model.pt')\n"
   ]
  },
  {
   "cell_type": "code",
   "execution_count": 4,
   "metadata": {},
   "outputs": [
    {
     "name": "stdout",
     "output_type": "stream",
     "text": [
      "Brief\tO\n",
      "inactivation\tO\n",
      "of\tO\n",
      "c\tO\n",
      "-\tO\n",
      "Myc\tO\n",
      "is\tO\n",
      "not\tO\n",
      "sufficient\tO\n",
      "for\tO\n",
      "sustained\tO\n",
      "regression\tO\n",
      "of\tO\n",
      "c\tO\n",
      "-\tO\n",
      "Myc\tO\n",
      "-\tO\n",
      "induced\tO\n",
      "tumours\tB-Disease\n",
      "of\tO\n",
      "pancreatic\tO\n",
      "islets\tO\n",
      "and\tO\n",
      "skin\tO\n",
      "epidermis\tO\n"
     ]
    }
   ],
   "source": [
    "from nltk.tokenize import WordPunctTokenizer\n",
    "\n",
    "text_temp = 'Brief inactivation of c-Myc is not sufficient for sustained regression of c-Myc-induced tumours of pancreatic islets and skin epidermis'\n",
    "\n",
    "sentence = ' '.join(wordpunct_tokenize(text_temp))\n",
    "sentence = Sentence(sentence)\n",
    "disease_model.predict(sentence)\n",
    "\n",
    "for token in sentence:\n",
    "# print what you need (text and NER value)\n",
    "    print(f\"{token.text}\\t{token.get_tag('ner').value}\")"
   ]
  },
  {
   "cell_type": "code",
   "execution_count": 5,
   "metadata": {},
   "outputs": [
    {
     "name": "stderr",
     "output_type": "stream",
     "text": [
      "  3%|▎         | 546/17957 [02:28<41:03,  7.07it/s]  "
     ]
    },
    {
     "name": "stdout",
     "output_type": "stream",
     "text": [
      "2019-11-21 14:46:01,202 ACHTUNG: An empty Sentence was created! Are there empty strings in your dataset?\n",
      "2019-11-21 14:46:01,213 Ignore 1 sentence(s) with no tokens.\n"
     ]
    },
    {
     "name": "stderr",
     "output_type": "stream",
     "text": [
      "\r",
      "  3%|▎         | 549/17957 [02:29<39:56,  7.26it/s]"
     ]
    },
    {
     "name": "stdout",
     "output_type": "stream",
     "text": [
      "2019-11-21 14:46:01,649 ACHTUNG: An empty Sentence was created! Are there empty strings in your dataset?\n",
      "2019-11-21 14:46:01,649 Ignore 1 sentence(s) with no tokens.\n"
     ]
    },
    {
     "name": "stderr",
     "output_type": "stream",
     "text": [
      "  3%|▎         | 554/17957 [02:29<37:17,  7.78it/s]"
     ]
    },
    {
     "name": "stdout",
     "output_type": "stream",
     "text": [
      "2019-11-21 14:46:02,115 ACHTUNG: An empty Sentence was created! Are there empty strings in your dataset?\n",
      "2019-11-21 14:46:02,117 Ignore 1 sentence(s) with no tokens.\n"
     ]
    },
    {
     "name": "stderr",
     "output_type": "stream",
     "text": [
      "  3%|▎         | 616/17957 [02:36<54:25,  5.31it/s]"
     ]
    },
    {
     "name": "stdout",
     "output_type": "stream",
     "text": [
      "2019-11-21 14:46:09,069 ACHTUNG: An empty Sentence was created! Are there empty strings in your dataset?\n",
      "2019-11-21 14:46:09,071 Ignore 1 sentence(s) with no tokens.\n"
     ]
    },
    {
     "name": "stderr",
     "output_type": "stream",
     "text": [
      "  3%|▎         | 624/17957 [02:37<37:06,  7.79it/s]"
     ]
    },
    {
     "name": "stdout",
     "output_type": "stream",
     "text": [
      "2019-11-21 14:46:09,746 ACHTUNG: An empty Sentence was created! Are there empty strings in your dataset?\n",
      "2019-11-21 14:46:09,749 Ignore 1 sentence(s) with no tokens.\n"
     ]
    },
    {
     "name": "stderr",
     "output_type": "stream",
     "text": [
      "  4%|▎         | 631/17957 [02:37<34:14,  8.43it/s]"
     ]
    },
    {
     "name": "stdout",
     "output_type": "stream",
     "text": [
      "2019-11-21 14:46:10,406 ACHTUNG: An empty Sentence was created! Are there empty strings in your dataset?\n",
      "2019-11-21 14:46:10,409 Ignore 1 sentence(s) with no tokens.\n"
     ]
    },
    {
     "name": "stderr",
     "output_type": "stream",
     "text": [
      "  4%|▎         | 639/17957 [02:38<31:38,  9.12it/s]"
     ]
    },
    {
     "name": "stdout",
     "output_type": "stream",
     "text": [
      "2019-11-21 14:46:11,155 ACHTUNG: An empty Sentence was created! Are there empty strings in your dataset?\n",
      "2019-11-21 14:46:11,156 Ignore 1 sentence(s) with no tokens.\n"
     ]
    },
    {
     "name": "stderr",
     "output_type": "stream",
     "text": [
      "  4%|▎         | 649/17957 [02:39<41:07,  7.01it/s]"
     ]
    },
    {
     "name": "stdout",
     "output_type": "stream",
     "text": [
      "2019-11-21 14:46:12,289 ACHTUNG: An empty Sentence was created! Are there empty strings in your dataset?\n",
      "2019-11-21 14:46:12,292 Ignore 1 sentence(s) with no tokens.\n"
     ]
    },
    {
     "name": "stderr",
     "output_type": "stream",
     "text": [
      "  4%|▎         | 656/17957 [02:40<29:16,  9.85it/s]"
     ]
    },
    {
     "name": "stdout",
     "output_type": "stream",
     "text": [
      "2019-11-21 14:46:12,793 ACHTUNG: An empty Sentence was created! Are there empty strings in your dataset?\n",
      "2019-11-21 14:46:12,795 Ignore 1 sentence(s) with no tokens.\n"
     ]
    },
    {
     "name": "stderr",
     "output_type": "stream",
     "text": [
      " 10%|▉         | 1725/17957 [07:31<31:24,  8.62it/s]  "
     ]
    },
    {
     "name": "stdout",
     "output_type": "stream",
     "text": [
      "2019-11-21 14:51:04,034 ACHTUNG: An empty Sentence was created! Are there empty strings in your dataset?\n",
      "2019-11-21 14:51:04,037 Ignore 1 sentence(s) with no tokens.\n"
     ]
    },
    {
     "name": "stderr",
     "output_type": "stream",
     "text": [
      " 10%|▉         | 1735/17957 [07:32<29:18,  9.22it/s]"
     ]
    },
    {
     "name": "stdout",
     "output_type": "stream",
     "text": [
      "2019-11-21 14:51:05,081 ACHTUNG: An empty Sentence was created! Are there empty strings in your dataset?\n",
      "2019-11-21 14:51:05,100 Ignore 1 sentence(s) with no tokens.\n"
     ]
    },
    {
     "name": "stderr",
     "output_type": "stream",
     "text": [
      " 10%|▉         | 1776/17957 [07:36<32:41,  8.25it/s]"
     ]
    },
    {
     "name": "stdout",
     "output_type": "stream",
     "text": [
      "2019-11-21 14:51:09,491 ACHTUNG: An empty Sentence was created! Are there empty strings in your dataset?\n",
      "2019-11-21 14:51:09,492 Ignore 1 sentence(s) with no tokens.\n"
     ]
    },
    {
     "name": "stderr",
     "output_type": "stream",
     "text": [
      " 10%|▉         | 1793/17957 [07:39<35:40,  7.55it/s]"
     ]
    },
    {
     "name": "stdout",
     "output_type": "stream",
     "text": [
      "2019-11-21 14:51:11,622 ACHTUNG: An empty Sentence was created! Are there empty strings in your dataset?\n",
      "2019-11-21 14:51:11,625 Ignore 1 sentence(s) with no tokens.\n"
     ]
    },
    {
     "name": "stderr",
     "output_type": "stream",
     "text": [
      " 10%|█         | 1855/17957 [07:46<32:13,  8.33it/s]"
     ]
    },
    {
     "name": "stdout",
     "output_type": "stream",
     "text": [
      "2019-11-21 14:51:18,884 ACHTUNG: An empty Sentence was created! Are there empty strings in your dataset?\n",
      "2019-11-21 14:51:18,886 Ignore 1 sentence(s) with no tokens.\n"
     ]
    },
    {
     "name": "stderr",
     "output_type": "stream",
     "text": [
      " 10%|█         | 1868/17957 [07:47<34:59,  7.66it/s]"
     ]
    },
    {
     "name": "stdout",
     "output_type": "stream",
     "text": [
      "2019-11-21 14:51:20,459 ACHTUNG: An empty Sentence was created! Are there empty strings in your dataset?\n",
      "2019-11-21 14:51:20,463 Ignore 1 sentence(s) with no tokens.\n"
     ]
    },
    {
     "name": "stderr",
     "output_type": "stream",
     "text": [
      " 10%|█         | 1875/17957 [07:48<26:39, 10.06it/s]"
     ]
    },
    {
     "name": "stdout",
     "output_type": "stream",
     "text": [
      "2019-11-21 14:51:21,143 ACHTUNG: An empty Sentence was created! Are there empty strings in your dataset?\n",
      "2019-11-21 14:51:21,154 Ignore 1 sentence(s) with no tokens.\n"
     ]
    },
    {
     "name": "stderr",
     "output_type": "stream",
     "text": [
      " 11%|█         | 1893/17957 [07:51<51:46,  5.17it/s]"
     ]
    },
    {
     "name": "stdout",
     "output_type": "stream",
     "text": [
      "2019-11-21 14:51:23,597 ACHTUNG: An empty Sentence was created! Are there empty strings in your dataset?\n",
      "2019-11-21 14:51:23,600 Ignore 1 sentence(s) with no tokens.\n"
     ]
    },
    {
     "name": "stderr",
     "output_type": "stream",
     "text": [
      " 11%|█         | 1968/17957 [08:00<30:40,  8.69it/s]"
     ]
    },
    {
     "name": "stdout",
     "output_type": "stream",
     "text": [
      "2019-11-21 14:51:32,692 ACHTUNG: An empty Sentence was created! Are there empty strings in your dataset?\n",
      "2019-11-21 14:51:32,692 Ignore 1 sentence(s) with no tokens.\n"
     ]
    },
    {
     "name": "stderr",
     "output_type": "stream",
     "text": [
      " 42%|████▏     | 7453/17957 [28:55<22:31,  7.77it/s]  "
     ]
    },
    {
     "name": "stdout",
     "output_type": "stream",
     "text": [
      "2019-11-21 15:12:28,076 ACHTUNG: An empty Sentence was created! Are there empty strings in your dataset?\n",
      "2019-11-21 15:12:28,079 Ignore 1 sentence(s) with no tokens.\n"
     ]
    },
    {
     "name": "stderr",
     "output_type": "stream",
     "text": [
      "\r",
      " 42%|████▏     | 7456/17957 [28:55<18:07,  9.65it/s]"
     ]
    },
    {
     "name": "stdout",
     "output_type": "stream",
     "text": [
      "2019-11-21 15:12:28,294 ACHTUNG: An empty Sentence was created! Are there empty strings in your dataset?\n",
      "2019-11-21 15:12:28,319 Ignore 1 sentence(s) with no tokens.\n"
     ]
    },
    {
     "name": "stderr",
     "output_type": "stream",
     "text": [
      " 42%|████▏     | 7464/17957 [28:56<13:26, 13.00it/s]"
     ]
    },
    {
     "name": "stdout",
     "output_type": "stream",
     "text": [
      "2019-11-21 15:12:28,670 ACHTUNG: An empty Sentence was created! Are there empty strings in your dataset?\n",
      "2019-11-21 15:12:28,671 Ignore 1 sentence(s) with no tokens.\n"
     ]
    },
    {
     "name": "stderr",
     "output_type": "stream",
     "text": [
      "\r",
      " 42%|████▏     | 7468/17957 [28:56<10:48, 16.17it/s]"
     ]
    },
    {
     "name": "stdout",
     "output_type": "stream",
     "text": [
      "2019-11-21 15:12:28,915 ACHTUNG: An empty Sentence was created! Are there empty strings in your dataset?\n",
      "2019-11-21 15:12:28,918 Ignore 1 sentence(s) with no tokens.\n"
     ]
    },
    {
     "name": "stderr",
     "output_type": "stream",
     "text": [
      " 42%|████▏     | 7476/17957 [28:56<13:29, 12.95it/s]"
     ]
    },
    {
     "name": "stdout",
     "output_type": "stream",
     "text": [
      "2019-11-21 15:12:29,401 ACHTUNG: An empty Sentence was created! Are there empty strings in your dataset?\n",
      "2019-11-21 15:12:29,403 Ignore 1 sentence(s) with no tokens.\n"
     ]
    },
    {
     "name": "stderr",
     "output_type": "stream",
     "text": [
      " 42%|████▏     | 7483/17957 [28:57<12:50, 13.60it/s]"
     ]
    },
    {
     "name": "stdout",
     "output_type": "stream",
     "text": [
      "2019-11-21 15:12:29,829 ACHTUNG: An empty Sentence was created! Are there empty strings in your dataset?\n",
      "2019-11-21 15:12:29,847 Ignore 1 sentence(s) with no tokens.\n"
     ]
    },
    {
     "name": "stderr",
     "output_type": "stream",
     "text": [
      "\r",
      " 42%|████▏     | 7486/17957 [28:57<11:28, 15.22it/s]"
     ]
    },
    {
     "name": "stdout",
     "output_type": "stream",
     "text": [
      "2019-11-21 15:12:30,070 ACHTUNG: An empty Sentence was created! Are there empty strings in your dataset?\n",
      "2019-11-21 15:12:30,082 Ignore 1 sentence(s) with no tokens.\n"
     ]
    },
    {
     "name": "stderr",
     "output_type": "stream",
     "text": [
      " 42%|████▏     | 7494/17957 [28:58<13:22, 13.03it/s]"
     ]
    },
    {
     "name": "stdout",
     "output_type": "stream",
     "text": [
      "2019-11-21 15:12:30,557 ACHTUNG: An empty Sentence was created! Are there empty strings in your dataset?\n",
      "2019-11-21 15:12:30,568 Ignore 1 sentence(s) with no tokens.\n"
     ]
    },
    {
     "name": "stderr",
     "output_type": "stream",
     "text": [
      " 42%|████▏     | 7500/17957 [28:58<14:28, 12.04it/s]"
     ]
    },
    {
     "name": "stdout",
     "output_type": "stream",
     "text": [
      "2019-11-21 15:12:31,049 ACHTUNG: An empty Sentence was created! Are there empty strings in your dataset?\n",
      "2019-11-21 15:12:31,069 Ignore 1 sentence(s) with no tokens.\n"
     ]
    },
    {
     "name": "stderr",
     "output_type": "stream",
     "text": [
      "\r",
      " 42%|████▏     | 7503/17957 [28:58<13:20, 13.06it/s]"
     ]
    },
    {
     "name": "stdout",
     "output_type": "stream",
     "text": [
      "2019-11-21 15:12:31,317 ACHTUNG: An empty Sentence was created! Are there empty strings in your dataset?\n",
      "2019-11-21 15:12:31,344 Ignore 1 sentence(s) with no tokens.\n"
     ]
    },
    {
     "name": "stderr",
     "output_type": "stream",
     "text": [
      " 42%|████▏     | 7509/17957 [28:59<14:04, 12.38it/s]"
     ]
    },
    {
     "name": "stdout",
     "output_type": "stream",
     "text": [
      "2019-11-21 15:12:31,745 ACHTUNG: An empty Sentence was created! Are there empty strings in your dataset?\n",
      "2019-11-21 15:12:31,772 Ignore 1 sentence(s) with no tokens.\n"
     ]
    },
    {
     "name": "stderr",
     "output_type": "stream",
     "text": [
      " 42%|████▏     | 7517/17957 [28:59<12:15, 14.20it/s]"
     ]
    },
    {
     "name": "stdout",
     "output_type": "stream",
     "text": [
      "2019-11-21 15:12:32,252 ACHTUNG: An empty Sentence was created! Are there empty strings in your dataset?\n",
      "2019-11-21 15:12:32,254 Ignore 1 sentence(s) with no tokens.\n"
     ]
    },
    {
     "name": "stderr",
     "output_type": "stream",
     "text": [
      " 42%|████▏     | 7523/17957 [29:00<12:30, 13.90it/s]"
     ]
    },
    {
     "name": "stdout",
     "output_type": "stream",
     "text": [
      "2019-11-21 15:12:32,582 ACHTUNG: An empty Sentence was created! Are there empty strings in your dataset?\n",
      "2019-11-21 15:12:32,585 Ignore 1 sentence(s) with no tokens.\n"
     ]
    },
    {
     "name": "stderr",
     "output_type": "stream",
     "text": [
      "\r",
      " 42%|████▏     | 7527/17957 [29:00<10:39, 16.31it/s]"
     ]
    },
    {
     "name": "stdout",
     "output_type": "stream",
     "text": [
      "2019-11-21 15:12:32,796 ACHTUNG: An empty Sentence was created! Are there empty strings in your dataset?\n",
      "2019-11-21 15:12:32,799 Ignore 1 sentence(s) with no tokens.\n"
     ]
    },
    {
     "name": "stderr",
     "output_type": "stream",
     "text": [
      " 42%|████▏     | 7534/17957 [29:00<11:02, 15.72it/s]"
     ]
    },
    {
     "name": "stdout",
     "output_type": "stream",
     "text": [
      "2019-11-21 15:12:33,231 ACHTUNG: An empty Sentence was created! Are there empty strings in your dataset?\n",
      "2019-11-21 15:12:33,233 Ignore 1 sentence(s) with no tokens.\n"
     ]
    },
    {
     "name": "stderr",
     "output_type": "stream",
     "text": [
      " 42%|████▏     | 7542/17957 [29:01<12:14, 14.17it/s]"
     ]
    },
    {
     "name": "stdout",
     "output_type": "stream",
     "text": [
      "2019-11-21 15:12:33,802 ACHTUNG: An empty Sentence was created! Are there empty strings in your dataset?\n",
      "2019-11-21 15:12:33,804 Ignore 1 sentence(s) with no tokens.\n"
     ]
    },
    {
     "name": "stderr",
     "output_type": "stream",
     "text": [
      " 42%|████▏     | 7565/17957 [29:06<21:08,  8.19it/s]  "
     ]
    },
    {
     "name": "stdout",
     "output_type": "stream",
     "text": [
      "2019-11-21 15:12:38,520 ACHTUNG: An empty Sentence was created! Are there empty strings in your dataset?\n",
      "2019-11-21 15:12:38,523 Ignore 1 sentence(s) with no tokens.\n"
     ]
    },
    {
     "name": "stderr",
     "output_type": "stream",
     "text": [
      " 42%|████▏     | 7571/17957 [29:06<17:20,  9.98it/s]"
     ]
    },
    {
     "name": "stdout",
     "output_type": "stream",
     "text": [
      "2019-11-21 15:12:39,039 ACHTUNG: An empty Sentence was created! Are there empty strings in your dataset?\n",
      "2019-11-21 15:12:39,041 Ignore 1 sentence(s) with no tokens.\n"
     ]
    },
    {
     "name": "stderr",
     "output_type": "stream",
     "text": [
      " 42%|████▏     | 7578/17957 [29:07<15:19, 11.29it/s]"
     ]
    },
    {
     "name": "stdout",
     "output_type": "stream",
     "text": [
      "2019-11-21 15:12:39,577 ACHTUNG: An empty Sentence was created! Are there empty strings in your dataset?\n",
      "2019-11-21 15:12:39,587 Ignore 1 sentence(s) with no tokens.\n"
     ]
    },
    {
     "name": "stderr",
     "output_type": "stream",
     "text": [
      " 42%|████▏     | 7583/17957 [29:07<14:56, 11.57it/s]"
     ]
    },
    {
     "name": "stdout",
     "output_type": "stream",
     "text": [
      "2019-11-21 15:12:40,015 ACHTUNG: An empty Sentence was created! Are there empty strings in your dataset?\n",
      "2019-11-21 15:12:40,025 Ignore 1 sentence(s) with no tokens.\n"
     ]
    },
    {
     "name": "stderr",
     "output_type": "stream",
     "text": [
      " 42%|████▏     | 7591/17957 [29:07<11:08, 15.51it/s]"
     ]
    },
    {
     "name": "stdout",
     "output_type": "stream",
     "text": [
      "2019-11-21 15:12:40,381 ACHTUNG: An empty Sentence was created! Are there empty strings in your dataset?\n",
      "2019-11-21 15:12:40,382 Ignore 1 sentence(s) with no tokens.\n"
     ]
    },
    {
     "name": "stderr",
     "output_type": "stream",
     "text": [
      " 42%|████▏     | 7596/17957 [29:08<10:35, 16.29it/s]"
     ]
    },
    {
     "name": "stdout",
     "output_type": "stream",
     "text": [
      "2019-11-21 15:12:40,763 ACHTUNG: An empty Sentence was created! Are there empty strings in your dataset?\n",
      "2019-11-21 15:12:40,773 Ignore 1 sentence(s) with no tokens.\n"
     ]
    },
    {
     "name": "stderr",
     "output_type": "stream",
     "text": [
      " 42%|████▏     | 7602/17957 [29:08<13:42, 12.59it/s]"
     ]
    },
    {
     "name": "stdout",
     "output_type": "stream",
     "text": [
      "2019-11-21 15:12:41,251 ACHTUNG: An empty Sentence was created! Are there empty strings in your dataset?\n",
      "2019-11-21 15:12:41,255 Ignore 1 sentence(s) with no tokens.\n"
     ]
    },
    {
     "name": "stderr",
     "output_type": "stream",
     "text": [
      " 42%|████▏     | 7620/17957 [29:11<26:59,  6.38it/s]"
     ]
    },
    {
     "name": "stdout",
     "output_type": "stream",
     "text": [
      "2019-11-21 15:12:43,664 ACHTUNG: An empty Sentence was created! Are there empty strings in your dataset?\n",
      "2019-11-21 15:12:43,666 Ignore 1 sentence(s) with no tokens.\n"
     ]
    },
    {
     "name": "stderr",
     "output_type": "stream",
     "text": [
      " 43%|████▎     | 7633/17957 [29:11<13:24, 12.84it/s]"
     ]
    },
    {
     "name": "stdout",
     "output_type": "stream",
     "text": [
      "2019-11-21 15:12:44,384 ACHTUNG: An empty Sentence was created! Are there empty strings in your dataset?\n",
      "2019-11-21 15:12:44,406 Ignore 1 sentence(s) with no tokens.\n"
     ]
    },
    {
     "name": "stderr",
     "output_type": "stream",
     "text": [
      " 43%|████▎     | 7642/17957 [29:12<13:03, 13.16it/s]"
     ]
    },
    {
     "name": "stdout",
     "output_type": "stream",
     "text": [
      "2019-11-21 15:12:44,979 ACHTUNG: An empty Sentence was created! Are there empty strings in your dataset?\n",
      "2019-11-21 15:12:44,984 Ignore 1 sentence(s) with no tokens.\n"
     ]
    },
    {
     "name": "stderr",
     "output_type": "stream",
     "text": [
      " 43%|████▎     | 7650/17957 [29:13<14:45, 11.64it/s]"
     ]
    },
    {
     "name": "stdout",
     "output_type": "stream",
     "text": [
      "2019-11-21 15:12:45,691 ACHTUNG: An empty Sentence was created! Are there empty strings in your dataset?\n",
      "2019-11-21 15:12:45,693 Ignore 1 sentence(s) with no tokens.\n"
     ]
    },
    {
     "name": "stderr",
     "output_type": "stream",
     "text": [
      " 43%|████▎     | 7657/17957 [29:13<11:50, 14.50it/s]"
     ]
    },
    {
     "name": "stdout",
     "output_type": "stream",
     "text": [
      "2019-11-21 15:12:46,210 ACHTUNG: An empty Sentence was created! Are there empty strings in your dataset?\n",
      "2019-11-21 15:12:46,221 Ignore 1 sentence(s) with no tokens.\n"
     ]
    },
    {
     "name": "stderr",
     "output_type": "stream",
     "text": [
      " 43%|████▎     | 7666/17957 [29:14<11:31, 14.87it/s]"
     ]
    },
    {
     "name": "stdout",
     "output_type": "stream",
     "text": [
      "2019-11-21 15:12:46,705 ACHTUNG: An empty Sentence was created! Are there empty strings in your dataset?\n",
      "2019-11-21 15:12:46,707 Ignore 1 sentence(s) with no tokens.\n"
     ]
    },
    {
     "name": "stderr",
     "output_type": "stream",
     "text": [
      " 43%|████▎     | 7674/17957 [29:14<15:09, 11.31it/s]"
     ]
    },
    {
     "name": "stdout",
     "output_type": "stream",
     "text": [
      "2019-11-21 15:12:47,459 ACHTUNG: An empty Sentence was created! Are there empty strings in your dataset?\n",
      "2019-11-21 15:12:47,463 Ignore 1 sentence(s) with no tokens.\n"
     ]
    },
    {
     "name": "stderr",
     "output_type": "stream",
     "text": [
      " 43%|████▎     | 7713/17957 [29:23<32:23,  5.27it/s]  "
     ]
    },
    {
     "name": "stdout",
     "output_type": "stream",
     "text": [
      "2019-11-21 15:12:56,384 ACHTUNG: An empty Sentence was created! Are there empty strings in your dataset?\n",
      "2019-11-21 15:12:56,386 Ignore 1 sentence(s) with no tokens.\n"
     ]
    },
    {
     "name": "stderr",
     "output_type": "stream",
     "text": [
      " 43%|████▎     | 7718/17957 [29:24<22:37,  7.54it/s]"
     ]
    },
    {
     "name": "stdout",
     "output_type": "stream",
     "text": [
      "2019-11-21 15:12:56,844 ACHTUNG: An empty Sentence was created! Are there empty strings in your dataset?\n",
      "2019-11-21 15:12:56,847 Ignore 1 sentence(s) with no tokens.\n"
     ]
    },
    {
     "name": "stderr",
     "output_type": "stream",
     "text": [
      " 43%|████▎     | 7724/17957 [29:24<20:11,  8.45it/s]"
     ]
    },
    {
     "name": "stdout",
     "output_type": "stream",
     "text": [
      "2019-11-21 15:12:57,366 ACHTUNG: An empty Sentence was created! Are there empty strings in your dataset?\n",
      "2019-11-21 15:12:57,368 Ignore 1 sentence(s) with no tokens.\n"
     ]
    },
    {
     "name": "stderr",
     "output_type": "stream",
     "text": [
      " 43%|████▎     | 7730/17957 [29:25<14:00, 12.17it/s]"
     ]
    },
    {
     "name": "stdout",
     "output_type": "stream",
     "text": [
      "2019-11-21 15:12:57,605 ACHTUNG: An empty Sentence was created! Are there empty strings in your dataset?\n",
      "2019-11-21 15:12:57,606 Ignore 1 sentence(s) with no tokens.\n"
     ]
    },
    {
     "name": "stderr",
     "output_type": "stream",
     "text": [
      " 43%|████▎     | 7734/17957 [29:25<12:43, 13.38it/s]"
     ]
    },
    {
     "name": "stdout",
     "output_type": "stream",
     "text": [
      "2019-11-21 15:12:58,021 ACHTUNG: An empty Sentence was created! Are there empty strings in your dataset?\n",
      "2019-11-21 15:12:58,025 Ignore 1 sentence(s) with no tokens.\n"
     ]
    },
    {
     "name": "stderr",
     "output_type": "stream",
     "text": [
      " 43%|████▎     | 7740/17957 [29:26<23:16,  7.32it/s]"
     ]
    },
    {
     "name": "stdout",
     "output_type": "stream",
     "text": [
      "2019-11-21 15:12:58,791 ACHTUNG: An empty Sentence was created! Are there empty strings in your dataset?\n",
      "2019-11-21 15:12:58,794 Ignore 1 sentence(s) with no tokens.\n"
     ]
    },
    {
     "name": "stderr",
     "output_type": "stream",
     "text": [
      " 43%|████▎     | 7745/17957 [29:26<24:24,  6.97it/s]"
     ]
    },
    {
     "name": "stdout",
     "output_type": "stream",
     "text": [
      "2019-11-21 15:12:59,378 ACHTUNG: An empty Sentence was created! Are there empty strings in your dataset?\n",
      "2019-11-21 15:12:59,381 Ignore 1 sentence(s) with no tokens.\n"
     ]
    },
    {
     "name": "stderr",
     "output_type": "stream",
     "text": [
      " 43%|████▎     | 7750/17957 [29:27<18:15,  9.32it/s]"
     ]
    },
    {
     "name": "stdout",
     "output_type": "stream",
     "text": [
      "2019-11-21 15:12:59,823 ACHTUNG: An empty Sentence was created! Are there empty strings in your dataset?\n",
      "2019-11-21 15:12:59,826 Ignore 1 sentence(s) with no tokens.\n"
     ]
    },
    {
     "name": "stderr",
     "output_type": "stream",
     "text": [
      " 43%|████▎     | 7756/17957 [29:27<16:41, 10.18it/s]"
     ]
    },
    {
     "name": "stdout",
     "output_type": "stream",
     "text": [
      "2019-11-21 15:13:00,245 ACHTUNG: An empty Sentence was created! Are there empty strings in your dataset?\n",
      "2019-11-21 15:13:00,247 Ignore 1 sentence(s) with no tokens.\n"
     ]
    },
    {
     "name": "stderr",
     "output_type": "stream",
     "text": [
      " 43%|████▎     | 7761/17957 [29:28<13:39, 12.44it/s]"
     ]
    },
    {
     "name": "stdout",
     "output_type": "stream",
     "text": [
      "2019-11-21 15:13:00,689 ACHTUNG: An empty Sentence was created! Are there empty strings in your dataset?\n",
      "2019-11-21 15:13:00,701 Ignore 1 sentence(s) with no tokens.\n"
     ]
    },
    {
     "name": "stderr",
     "output_type": "stream",
     "text": [
      " 43%|████▎     | 7767/17957 [29:28<15:12, 11.17it/s]"
     ]
    },
    {
     "name": "stdout",
     "output_type": "stream",
     "text": [
      "2019-11-21 15:13:01,105 ACHTUNG: An empty Sentence was created! Are there empty strings in your dataset?\n",
      "2019-11-21 15:13:01,107 Ignore 1 sentence(s) with no tokens.\n"
     ]
    },
    {
     "name": "stderr",
     "output_type": "stream",
     "text": [
      " 43%|████▎     | 7773/17957 [29:29<14:04, 12.05it/s]"
     ]
    },
    {
     "name": "stdout",
     "output_type": "stream",
     "text": [
      "2019-11-21 15:13:01,567 ACHTUNG: An empty Sentence was created! Are there empty strings in your dataset?\n",
      "2019-11-21 15:13:01,569 Ignore 1 sentence(s) with no tokens.\n"
     ]
    },
    {
     "name": "stderr",
     "output_type": "stream",
     "text": [
      " 43%|████▎     | 7778/17957 [29:29<12:05, 14.04it/s]"
     ]
    },
    {
     "name": "stdout",
     "output_type": "stream",
     "text": [
      "2019-11-21 15:13:01,871 ACHTUNG: An empty Sentence was created! Are there empty strings in your dataset?\n",
      "2019-11-21 15:13:01,874 Ignore 1 sentence(s) with no tokens.\n"
     ]
    },
    {
     "name": "stderr",
     "output_type": "stream",
     "text": [
      " 43%|████▎     | 7783/17957 [29:29<09:55, 17.09it/s]"
     ]
    },
    {
     "name": "stdout",
     "output_type": "stream",
     "text": [
      "2019-11-21 15:13:02,131 ACHTUNG: An empty Sentence was created! Are there empty strings in your dataset?\n",
      "2019-11-21 15:13:02,154 Ignore 1 sentence(s) with no tokens.\n"
     ]
    },
    {
     "name": "stderr",
     "output_type": "stream",
     "text": [
      " 43%|████▎     | 7788/17957 [29:30<14:31, 11.66it/s]"
     ]
    },
    {
     "name": "stdout",
     "output_type": "stream",
     "text": [
      "2019-11-21 15:13:02,648 ACHTUNG: An empty Sentence was created! Are there empty strings in your dataset?\n",
      "2019-11-21 15:13:02,650 Ignore 1 sentence(s) with no tokens.\n"
     ]
    },
    {
     "name": "stderr",
     "output_type": "stream",
     "text": [
      " 43%|████▎     | 7794/17957 [29:30<12:16, 13.79it/s]"
     ]
    },
    {
     "name": "stdout",
     "output_type": "stream",
     "text": [
      "2019-11-21 15:13:02,977 ACHTUNG: An empty Sentence was created! Are there empty strings in your dataset?\n",
      "2019-11-21 15:13:02,993 Ignore 1 sentence(s) with no tokens.\n"
     ]
    },
    {
     "name": "stderr",
     "output_type": "stream",
     "text": [
      " 43%|████▎     | 7799/17957 [29:30<17:36,  9.62it/s]"
     ]
    },
    {
     "name": "stdout",
     "output_type": "stream",
     "text": [
      "2019-11-21 15:13:03,541 ACHTUNG: An empty Sentence was created! Are there empty strings in your dataset?\n",
      "2019-11-21 15:13:03,560 Ignore 1 sentence(s) with no tokens.\n"
     ]
    },
    {
     "name": "stderr",
     "output_type": "stream",
     "text": [
      " 43%|████▎     | 7804/17957 [29:31<15:07, 11.18it/s]"
     ]
    },
    {
     "name": "stdout",
     "output_type": "stream",
     "text": [
      "2019-11-21 15:13:03,915 ACHTUNG: An empty Sentence was created! Are there empty strings in your dataset?\n",
      "2019-11-21 15:13:03,926 Ignore 1 sentence(s) with no tokens.\n"
     ]
    },
    {
     "name": "stderr",
     "output_type": "stream",
     "text": [
      " 53%|█████▎    | 9467/17957 [36:48<57:03,  2.48it/s]  "
     ]
    },
    {
     "name": "stdout",
     "output_type": "stream",
     "text": [
      "2019-11-21 15:20:21,236 ACHTUNG: An empty Sentence was created! Are there empty strings in your dataset?\n",
      "2019-11-21 15:20:21,239 Ignore 1 sentence(s) with no tokens.\n"
     ]
    },
    {
     "name": "stderr",
     "output_type": "stream",
     "text": [
      "\r",
      " 53%|█████▎    | 9470/17957 [36:48<42:48,  3.30it/s]"
     ]
    },
    {
     "name": "stdout",
     "output_type": "stream",
     "text": [
      "2019-11-21 15:20:21,507 ACHTUNG: An empty Sentence was created! Are there empty strings in your dataset?\n",
      "2019-11-21 15:20:21,510 Ignore 1 sentence(s) with no tokens.\n"
     ]
    },
    {
     "name": "stderr",
     "output_type": "stream",
     "text": [
      " 53%|█████▎    | 9477/17957 [36:49<20:24,  6.92it/s]"
     ]
    },
    {
     "name": "stdout",
     "output_type": "stream",
     "text": [
      "2019-11-21 15:20:21,929 ACHTUNG: An empty Sentence was created! Are there empty strings in your dataset?\n",
      "2019-11-21 15:20:21,941 Ignore 1 sentence(s) with no tokens.\n"
     ]
    },
    {
     "name": "stderr",
     "output_type": "stream",
     "text": [
      " 53%|█████▎    | 9485/17957 [36:49<11:31, 12.25it/s]"
     ]
    },
    {
     "name": "stdout",
     "output_type": "stream",
     "text": [
      "2019-11-21 15:20:22,321 ACHTUNG: An empty Sentence was created! Are there empty strings in your dataset?\n",
      "2019-11-21 15:20:22,323 Ignore 1 sentence(s) with no tokens.\n",
      "2019-11-21 15:20:22,325 ACHTUNG: An empty Sentence was created! Are there empty strings in your dataset?\n",
      "2019-11-21 15:20:22,326 Ignore 1 sentence(s) with no tokens.\n",
      "2019-11-21 15:20:22,328 ACHTUNG: An empty Sentence was created! Are there empty strings in your dataset?\n",
      "2019-11-21 15:20:22,329 Ignore 1 sentence(s) with no tokens.\n"
     ]
    },
    {
     "name": "stderr",
     "output_type": "stream",
     "text": [
      " 53%|█████▎    | 9549/17957 [36:57<13:36, 10.29it/s]"
     ]
    },
    {
     "name": "stdout",
     "output_type": "stream",
     "text": [
      "2019-11-21 15:20:29,798 ACHTUNG: An empty Sentence was created! Are there empty strings in your dataset?\n",
      "2019-11-21 15:20:29,815 Ignore 1 sentence(s) with no tokens.\n"
     ]
    },
    {
     "name": "stderr",
     "output_type": "stream",
     "text": [
      " 54%|█████▎    | 9614/17957 [37:04<13:32, 10.26it/s]"
     ]
    },
    {
     "name": "stdout",
     "output_type": "stream",
     "text": [
      "2019-11-21 15:20:37,035 ACHTUNG: An empty Sentence was created! Are there empty strings in your dataset?\n",
      "2019-11-21 15:20:37,037 Ignore 1 sentence(s) with no tokens.\n",
      "2019-11-21 15:20:37,039 ACHTUNG: An empty Sentence was created! Are there empty strings in your dataset?\n",
      "2019-11-21 15:20:37,040 Ignore 1 sentence(s) with no tokens.\n"
     ]
    },
    {
     "name": "stderr",
     "output_type": "stream",
     "text": [
      "\r",
      " 54%|█████▎    | 9618/17957 [37:04<10:53, 12.77it/s]"
     ]
    },
    {
     "name": "stdout",
     "output_type": "stream",
     "text": [
      "2019-11-21 15:20:37,163 ACHTUNG: An empty Sentence was created! Are there empty strings in your dataset?\n",
      "2019-11-21 15:20:37,166 Ignore 1 sentence(s) with no tokens.\n"
     ]
    },
    {
     "name": "stderr",
     "output_type": "stream",
     "text": [
      " 54%|█████▎    | 9625/17957 [37:05<12:56, 10.74it/s]"
     ]
    },
    {
     "name": "stdout",
     "output_type": "stream",
     "text": [
      "2019-11-21 15:20:37,691 ACHTUNG: An empty Sentence was created! Are there empty strings in your dataset?\n",
      "2019-11-21 15:20:37,693 Ignore 1 sentence(s) with no tokens.\n"
     ]
    },
    {
     "name": "stderr",
     "output_type": "stream",
     "text": [
      " 54%|█████▎    | 9630/17957 [37:05<12:46, 10.87it/s]"
     ]
    },
    {
     "name": "stdout",
     "output_type": "stream",
     "text": [
      "2019-11-21 15:20:38,137 ACHTUNG: An empty Sentence was created! Are there empty strings in your dataset?\n",
      "2019-11-21 15:20:38,155 Ignore 1 sentence(s) with no tokens.\n"
     ]
    },
    {
     "name": "stderr",
     "output_type": "stream",
     "text": [
      " 54%|█████▎    | 9635/17957 [37:06<13:24, 10.34it/s]"
     ]
    },
    {
     "name": "stdout",
     "output_type": "stream",
     "text": [
      "2019-11-21 15:20:38,630 ACHTUNG: An empty Sentence was created! Are there empty strings in your dataset?\n",
      "2019-11-21 15:20:38,633 Ignore 1 sentence(s) with no tokens.\n"
     ]
    },
    {
     "name": "stderr",
     "output_type": "stream",
     "text": [
      " 54%|█████▎    | 9639/17957 [37:06<14:28,  9.57it/s]"
     ]
    },
    {
     "name": "stdout",
     "output_type": "stream",
     "text": [
      "2019-11-21 15:20:39,124 ACHTUNG: An empty Sentence was created! Are there empty strings in your dataset?\n",
      "2019-11-21 15:20:39,126 Ignore 1 sentence(s) with no tokens.\n"
     ]
    },
    {
     "name": "stderr",
     "output_type": "stream",
     "text": [
      " 54%|█████▎    | 9644/17957 [37:06<14:46,  9.37it/s]"
     ]
    },
    {
     "name": "stdout",
     "output_type": "stream",
     "text": [
      "2019-11-21 15:20:39,540 ACHTUNG: An empty Sentence was created! Are there empty strings in your dataset?\n",
      "2019-11-21 15:20:39,552 Ignore 1 sentence(s) with no tokens.\n"
     ]
    },
    {
     "name": "stderr",
     "output_type": "stream",
     "text": [
      " 54%|█████▎    | 9649/17957 [37:07<13:48, 10.03it/s]"
     ]
    },
    {
     "name": "stdout",
     "output_type": "stream",
     "text": [
      "2019-11-21 15:20:39,964 ACHTUNG: An empty Sentence was created! Are there empty strings in your dataset?\n",
      "2019-11-21 15:20:40,012 Ignore 1 sentence(s) with no tokens.\n"
     ]
    },
    {
     "name": "stderr",
     "output_type": "stream",
     "text": [
      "\r",
      " 54%|█████▎    | 9651/17957 [37:07<12:37, 10.96it/s]"
     ]
    },
    {
     "name": "stdout",
     "output_type": "stream",
     "text": [
      "2019-11-21 15:20:40,018 ACHTUNG: An empty Sentence was created! Are there empty strings in your dataset?\n",
      "2019-11-21 15:20:40,020 Ignore 1 sentence(s) with no tokens.\n",
      "2019-11-21 15:20:40,022 ACHTUNG: An empty Sentence was created! Are there empty strings in your dataset?\n",
      "2019-11-21 15:20:40,023 Ignore 1 sentence(s) with no tokens.\n",
      "2019-11-21 15:20:40,025 ACHTUNG: An empty Sentence was created! Are there empty strings in your dataset?\n",
      "2019-11-21 15:20:40,026 Ignore 1 sentence(s) with no tokens.\n",
      "2019-11-21 15:20:40,028 ACHTUNG: An empty Sentence was created! Are there empty strings in your dataset?\n",
      "2019-11-21 15:20:40,029 Ignore 1 sentence(s) with no tokens.\n"
     ]
    },
    {
     "name": "stderr",
     "output_type": "stream",
     "text": [
      " 54%|█████▍    | 9659/17957 [37:07<10:32, 13.13it/s]"
     ]
    },
    {
     "name": "stdout",
     "output_type": "stream",
     "text": [
      "2019-11-21 15:20:40,521 ACHTUNG: An empty Sentence was created! Are there empty strings in your dataset?\n",
      "2019-11-21 15:20:40,524 Ignore 1 sentence(s) with no tokens.\n"
     ]
    },
    {
     "name": "stderr",
     "output_type": "stream",
     "text": [
      " 54%|█████▍    | 9665/17957 [37:08<09:28, 14.58it/s]"
     ]
    },
    {
     "name": "stdout",
     "output_type": "stream",
     "text": [
      "2019-11-21 15:20:40,786 ACHTUNG: An empty Sentence was created! Are there empty strings in your dataset?\n",
      "2019-11-21 15:20:40,796 Ignore 1 sentence(s) with no tokens.\n"
     ]
    },
    {
     "name": "stderr",
     "output_type": "stream",
     "text": [
      " 54%|█████▍    | 9670/17957 [37:08<12:39, 10.91it/s]"
     ]
    },
    {
     "name": "stdout",
     "output_type": "stream",
     "text": [
      "2019-11-21 15:20:41,314 ACHTUNG: An empty Sentence was created! Are there empty strings in your dataset?\n",
      "2019-11-21 15:20:41,317 Ignore 1 sentence(s) with no tokens.\n"
     ]
    },
    {
     "name": "stderr",
     "output_type": "stream",
     "text": [
      " 54%|█████▍    | 9674/17957 [37:09<13:30, 10.21it/s]"
     ]
    },
    {
     "name": "stdout",
     "output_type": "stream",
     "text": [
      "2019-11-21 15:20:41,798 ACHTUNG: An empty Sentence was created! Are there empty strings in your dataset?\n",
      "2019-11-21 15:20:41,800 Ignore 1 sentence(s) with no tokens.\n"
     ]
    },
    {
     "name": "stderr",
     "output_type": "stream",
     "text": [
      " 54%|█████▍    | 9679/17957 [37:09<11:44, 11.76it/s]"
     ]
    },
    {
     "name": "stdout",
     "output_type": "stream",
     "text": [
      "2019-11-21 15:20:42,158 ACHTUNG: An empty Sentence was created! Are there empty strings in your dataset?\n",
      "2019-11-21 15:20:42,162 Ignore 1 sentence(s) with no tokens.\n"
     ]
    },
    {
     "name": "stderr",
     "output_type": "stream",
     "text": [
      " 54%|█████▍    | 9685/17957 [37:09<10:48, 12.75it/s]"
     ]
    },
    {
     "name": "stdout",
     "output_type": "stream",
     "text": [
      "2019-11-21 15:20:42,496 ACHTUNG: An empty Sentence was created! Are there empty strings in your dataset?\n",
      "2019-11-21 15:20:42,498 Ignore 1 sentence(s) with no tokens.\n",
      "2019-11-21 15:20:42,500 ACHTUNG: An empty Sentence was created! Are there empty strings in your dataset?\n",
      "2019-11-21 15:20:42,501 Ignore 1 sentence(s) with no tokens.\n",
      "2019-11-21 15:20:42,503 ACHTUNG: An empty Sentence was created! Are there empty strings in your dataset?\n",
      "2019-11-21 15:20:42,504 Ignore 1 sentence(s) with no tokens.\n",
      "2019-11-21 15:20:42,505 ACHTUNG: An empty Sentence was created! Are there empty strings in your dataset?\n",
      "2019-11-21 15:20:42,507 Ignore 1 sentence(s) with no tokens.\n",
      "2019-11-21 15:20:42,508 ACHTUNG: An empty Sentence was created! Are there empty strings in your dataset?\n",
      "2019-11-21 15:20:42,511 Ignore 1 sentence(s) with no tokens.\n"
     ]
    },
    {
     "name": "stderr",
     "output_type": "stream",
     "text": [
      " 54%|█████▍    | 9695/17957 [37:10<12:47, 10.77it/s]"
     ]
    },
    {
     "name": "stdout",
     "output_type": "stream",
     "text": [
      "2019-11-21 15:20:43,163 ACHTUNG: An empty Sentence was created! Are there empty strings in your dataset?\n",
      "2019-11-21 15:20:43,183 Ignore 1 sentence(s) with no tokens.\n"
     ]
    },
    {
     "name": "stderr",
     "output_type": "stream",
     "text": [
      " 54%|█████▍    | 9700/17957 [37:11<12:19, 11.16it/s]"
     ]
    },
    {
     "name": "stdout",
     "output_type": "stream",
     "text": [
      "2019-11-21 15:20:43,541 ACHTUNG: An empty Sentence was created! Are there empty strings in your dataset?\n",
      "2019-11-21 15:20:43,542 Ignore 1 sentence(s) with no tokens.\n"
     ]
    },
    {
     "name": "stderr",
     "output_type": "stream",
     "text": [
      " 54%|█████▍    | 9705/17957 [37:11<14:27,  9.51it/s]"
     ]
    },
    {
     "name": "stdout",
     "output_type": "stream",
     "text": [
      "2019-11-21 15:20:44,078 ACHTUNG: An empty Sentence was created! Are there empty strings in your dataset?\n",
      "2019-11-21 15:20:44,079 Ignore 1 sentence(s) with no tokens.\n"
     ]
    },
    {
     "name": "stderr",
     "output_type": "stream",
     "text": [
      " 54%|█████▍    | 9709/17957 [37:11<10:57, 12.55it/s]"
     ]
    },
    {
     "name": "stdout",
     "output_type": "stream",
     "text": [
      "2019-11-21 15:20:44,353 ACHTUNG: An empty Sentence was created! Are there empty strings in your dataset?\n",
      "2019-11-21 15:20:44,354 Ignore 1 sentence(s) with no tokens.\n"
     ]
    },
    {
     "name": "stderr",
     "output_type": "stream",
     "text": [
      " 54%|█████▍    | 9714/17957 [37:12<09:27, 14.51it/s]"
     ]
    },
    {
     "name": "stdout",
     "output_type": "stream",
     "text": [
      "2019-11-21 15:20:44,603 ACHTUNG: An empty Sentence was created! Are there empty strings in your dataset?\n",
      "2019-11-21 15:20:44,640 Ignore 1 sentence(s) with no tokens.\n"
     ]
    },
    {
     "name": "stderr",
     "output_type": "stream",
     "text": [
      " 54%|█████▍    | 9719/17957 [37:12<13:08, 10.45it/s]"
     ]
    },
    {
     "name": "stdout",
     "output_type": "stream",
     "text": [
      "2019-11-21 15:20:45,118 ACHTUNG: An empty Sentence was created! Are there empty strings in your dataset?\n",
      "2019-11-21 15:20:45,121 Ignore 1 sentence(s) with no tokens.\n",
      "2019-11-21 15:20:45,123 ACHTUNG: An empty Sentence was created! Are there empty strings in your dataset?\n",
      "2019-11-21 15:20:45,124 Ignore 1 sentence(s) with no tokens.\n",
      "2019-11-21 15:20:45,124 ACHTUNG: An empty Sentence was created! Are there empty strings in your dataset?\n",
      "2019-11-21 15:20:45,127 Ignore 1 sentence(s) with no tokens.\n",
      "2019-11-21 15:20:45,128 ACHTUNG: An empty Sentence was created! Are there empty strings in your dataset?\n",
      "2019-11-21 15:20:45,128 Ignore 1 sentence(s) with no tokens.\n",
      "2019-11-21 15:20:45,129 ACHTUNG: An empty Sentence was created! Are there empty strings in your dataset?\n",
      "2019-11-21 15:20:45,129 Ignore 1 sentence(s) with no tokens.\n"
     ]
    },
    {
     "name": "stderr",
     "output_type": "stream",
     "text": [
      " 54%|█████▍    | 9729/17957 [37:13<12:18, 11.14it/s]"
     ]
    },
    {
     "name": "stdout",
     "output_type": "stream",
     "text": [
      "2019-11-21 15:20:45,662 ACHTUNG: An empty Sentence was created! Are there empty strings in your dataset?\n",
      "2019-11-21 15:20:45,664 Ignore 1 sentence(s) with no tokens.\n"
     ]
    },
    {
     "name": "stderr",
     "output_type": "stream",
     "text": [
      " 54%|█████▍    | 9734/17957 [37:13<12:48, 10.70it/s]"
     ]
    },
    {
     "name": "stdout",
     "output_type": "stream",
     "text": [
      "2019-11-21 15:20:46,165 ACHTUNG: An empty Sentence was created! Are there empty strings in your dataset?\n",
      "2019-11-21 15:20:46,167 Ignore 1 sentence(s) with no tokens.\n"
     ]
    },
    {
     "name": "stderr",
     "output_type": "stream",
     "text": [
      " 54%|█████▍    | 9740/17957 [37:14<19:07,  7.16it/s]"
     ]
    },
    {
     "name": "stdout",
     "output_type": "stream",
     "text": [
      "2019-11-21 15:20:46,889 ACHTUNG: An empty Sentence was created! Are there empty strings in your dataset?\n",
      "2019-11-21 15:20:46,890 Ignore 1 sentence(s) with no tokens.\n"
     ]
    },
    {
     "name": "stderr",
     "output_type": "stream",
     "text": [
      " 54%|█████▍    | 9745/17957 [37:14<13:41, 10.00it/s]"
     ]
    },
    {
     "name": "stdout",
     "output_type": "stream",
     "text": [
      "2019-11-21 15:20:47,185 ACHTUNG: An empty Sentence was created! Are there empty strings in your dataset?\n",
      "2019-11-21 15:20:47,188 Ignore 1 sentence(s) with no tokens.\n"
     ]
    },
    {
     "name": "stderr",
     "output_type": "stream",
     "text": [
      " 54%|█████▍    | 9750/17957 [37:15<13:40, 10.01it/s]"
     ]
    },
    {
     "name": "stdout",
     "output_type": "stream",
     "text": [
      "2019-11-21 15:20:47,635 ACHTUNG: An empty Sentence was created! Are there empty strings in your dataset?\n",
      "2019-11-21 15:20:47,645 Ignore 1 sentence(s) with no tokens.\n"
     ]
    },
    {
     "name": "stderr",
     "output_type": "stream",
     "text": [
      " 54%|█████▍    | 9757/17957 [37:15<11:29, 11.89it/s]"
     ]
    },
    {
     "name": "stdout",
     "output_type": "stream",
     "text": [
      "2019-11-21 15:20:48,273 ACHTUNG: An empty Sentence was created! Are there empty strings in your dataset?\n",
      "2019-11-21 15:20:48,275 Ignore 1 sentence(s) with no tokens.\n"
     ]
    },
    {
     "name": "stderr",
     "output_type": "stream",
     "text": [
      " 54%|█████▍    | 9763/17957 [37:16<11:25, 11.96it/s]"
     ]
    },
    {
     "name": "stdout",
     "output_type": "stream",
     "text": [
      "2019-11-21 15:20:48,627 ACHTUNG: An empty Sentence was created! Are there empty strings in your dataset?\n",
      "2019-11-21 15:20:48,628 Ignore 1 sentence(s) with no tokens.\n"
     ]
    },
    {
     "name": "stderr",
     "output_type": "stream",
     "text": [
      " 65%|██████▌   | 11726/17957 [46:00<15:23,  6.75it/s]  "
     ]
    },
    {
     "name": "stdout",
     "output_type": "stream",
     "text": [
      "2019-11-21 15:29:32,877 ACHTUNG: An empty Sentence was created! Are there empty strings in your dataset?\n",
      "2019-11-21 15:29:32,900 Ignore 1 sentence(s) with no tokens.\n"
     ]
    },
    {
     "name": "stderr",
     "output_type": "stream",
     "text": [
      "\r",
      " 65%|██████▌   | 11729/17957 [46:00<11:58,  8.66it/s]"
     ]
    },
    {
     "name": "stdout",
     "output_type": "stream",
     "text": [
      "2019-11-21 15:29:32,902 ACHTUNG: An empty Sentence was created! Are there empty strings in your dataset?\n",
      "2019-11-21 15:29:32,906 Ignore 1 sentence(s) with no tokens.\n",
      "2019-11-21 15:29:32,907 ACHTUNG: An empty Sentence was created! Are there empty strings in your dataset?\n",
      "2019-11-21 15:29:32,908 Ignore 1 sentence(s) with no tokens.\n",
      "2019-11-21 15:29:32,909 ACHTUNG: An empty Sentence was created! Are there empty strings in your dataset?\n",
      "2019-11-21 15:29:32,909 Ignore 1 sentence(s) with no tokens.\n",
      "2019-11-21 15:29:32,910 ACHTUNG: An empty Sentence was created! Are there empty strings in your dataset?\n",
      "2019-11-21 15:29:32,910 Ignore 1 sentence(s) with no tokens.\n",
      "2019-11-21 15:29:32,911 ACHTUNG: An empty Sentence was created! Are there empty strings in your dataset?\n",
      "2019-11-21 15:29:32,911 Ignore 1 sentence(s) with no tokens.\n"
     ]
    },
    {
     "name": "stderr",
     "output_type": "stream",
     "text": [
      " 66%|██████▌   | 11791/17957 [46:07<12:50,  8.01it/s]"
     ]
    },
    {
     "name": "stdout",
     "output_type": "stream",
     "text": [
      "2019-11-21 15:29:40,320 ACHTUNG: An empty Sentence was created! Are there empty strings in your dataset?\n",
      "2019-11-21 15:29:40,332 Ignore 1 sentence(s) with no tokens.\n",
      "2019-11-21 15:29:40,336 ACHTUNG: An empty Sentence was created! Are there empty strings in your dataset?\n",
      "2019-11-21 15:29:40,338 Ignore 1 sentence(s) with no tokens.\n",
      "2019-11-21 15:29:40,340 ACHTUNG: An empty Sentence was created! Are there empty strings in your dataset?\n",
      "2019-11-21 15:29:40,342 Ignore 1 sentence(s) with no tokens.\n",
      "2019-11-21 15:29:40,343 ACHTUNG: An empty Sentence was created! Are there empty strings in your dataset?\n",
      "2019-11-21 15:29:40,361 Ignore 1 sentence(s) with no tokens.\n",
      "2019-11-21 15:29:40,367 ACHTUNG: An empty Sentence was created! Are there empty strings in your dataset?\n",
      "2019-11-21 15:29:40,370 Ignore 1 sentence(s) with no tokens.\n",
      "2019-11-21 15:29:40,382 ACHTUNG: An empty Sentence was created! Are there empty strings in your dataset?\n",
      "2019-11-21 15:29:40,384 Ignore 1 sentence(s) with no tokens.\n"
     ]
    },
    {
     "name": "stderr",
     "output_type": "stream",
     "text": [
      " 66%|██████▋   | 11921/17957 [46:23<26:49,  3.75it/s]"
     ]
    },
    {
     "name": "stdout",
     "output_type": "stream",
     "text": [
      "2019-11-21 15:29:55,508 ACHTUNG: An empty Sentence was created! Are there empty strings in your dataset?\n",
      "2019-11-21 15:29:55,509 Ignore 1 sentence(s) with no tokens.\n"
     ]
    },
    {
     "name": "stderr",
     "output_type": "stream",
     "text": [
      " 77%|███████▋  | 13784/17957 [52:10<05:23, 12.90it/s]  "
     ]
    },
    {
     "name": "stdout",
     "output_type": "stream",
     "text": [
      "2019-11-21 15:35:43,363 ACHTUNG: An empty Sentence was created! Are there empty strings in your dataset?\n",
      "2019-11-21 15:35:43,366 Ignore 1 sentence(s) with no tokens.\n"
     ]
    },
    {
     "name": "stderr",
     "output_type": "stream",
     "text": [
      "\r",
      " 77%|███████▋  | 13787/17957 [52:10<04:38, 14.97it/s]"
     ]
    },
    {
     "name": "stdout",
     "output_type": "stream",
     "text": [
      "2019-11-21 15:35:43,429 ACHTUNG: An empty Sentence was created! Are there empty strings in your dataset?\n",
      "2019-11-21 15:35:43,439 Ignore 1 sentence(s) with no tokens.\n"
     ]
    },
    {
     "name": "stderr",
     "output_type": "stream",
     "text": [
      " 77%|███████▋  | 13795/17957 [52:11<03:55, 17.69it/s]"
     ]
    },
    {
     "name": "stdout",
     "output_type": "stream",
     "text": [
      "2019-11-21 15:35:43,827 ACHTUNG: An empty Sentence was created! Are there empty strings in your dataset?\n",
      "2019-11-21 15:35:43,839 Ignore 1 sentence(s) with no tokens.\n"
     ]
    },
    {
     "name": "stderr",
     "output_type": "stream",
     "text": [
      "\r",
      " 77%|███████▋  | 13797/17957 [52:11<04:07, 16.78it/s]"
     ]
    },
    {
     "name": "stdout",
     "output_type": "stream",
     "text": [
      "2019-11-21 15:35:43,952 ACHTUNG: An empty Sentence was created! Are there empty strings in your dataset?\n",
      "2019-11-21 15:35:43,963 Ignore 1 sentence(s) with no tokens.\n"
     ]
    },
    {
     "name": "stderr",
     "output_type": "stream",
     "text": [
      " 77%|███████▋  | 13803/17957 [52:11<03:33, 19.48it/s]"
     ]
    },
    {
     "name": "stdout",
     "output_type": "stream",
     "text": [
      "2019-11-21 15:35:44,410 ACHTUNG: An empty Sentence was created! Are there empty strings in your dataset?\n",
      "2019-11-21 15:35:44,423 Ignore 1 sentence(s) with no tokens.\n"
     ]
    },
    {
     "name": "stderr",
     "output_type": "stream",
     "text": [
      "\r",
      " 77%|███████▋  | 13806/17957 [52:11<03:59, 17.30it/s]"
     ]
    },
    {
     "name": "stdout",
     "output_type": "stream",
     "text": [
      "2019-11-21 15:35:44,470 ACHTUNG: An empty Sentence was created! Are there empty strings in your dataset?\n",
      "2019-11-21 15:35:44,487 Ignore 1 sentence(s) with no tokens.\n"
     ]
    },
    {
     "name": "stderr",
     "output_type": "stream",
     "text": [
      " 77%|███████▋  | 13815/17957 [52:12<03:57, 17.44it/s]"
     ]
    },
    {
     "name": "stdout",
     "output_type": "stream",
     "text": [
      "2019-11-21 15:35:44,898 ACHTUNG: An empty Sentence was created! Are there empty strings in your dataset?\n",
      "2019-11-21 15:35:44,904 Ignore 1 sentence(s) with no tokens.\n"
     ]
    },
    {
     "name": "stderr",
     "output_type": "stream",
     "text": [
      "\r",
      " 77%|███████▋  | 13817/17957 [52:12<03:49, 18.06it/s]"
     ]
    },
    {
     "name": "stdout",
     "output_type": "stream",
     "text": [
      "2019-11-21 15:35:44,988 ACHTUNG: An empty Sentence was created! Are there empty strings in your dataset?\n",
      "2019-11-21 15:35:45,008 Ignore 1 sentence(s) with no tokens.\n"
     ]
    },
    {
     "name": "stderr",
     "output_type": "stream",
     "text": [
      " 77%|███████▋  | 13824/17957 [52:12<03:20, 20.57it/s]"
     ]
    },
    {
     "name": "stdout",
     "output_type": "stream",
     "text": [
      "2019-11-21 15:35:45,387 ACHTUNG: An empty Sentence was created! Are there empty strings in your dataset?\n",
      "2019-11-21 15:35:45,420 Ignore 1 sentence(s) with no tokens.\n"
     ]
    },
    {
     "name": "stderr",
     "output_type": "stream",
     "text": [
      "\r",
      " 77%|███████▋  | 13827/17957 [52:12<03:23, 20.25it/s]"
     ]
    },
    {
     "name": "stdout",
     "output_type": "stream",
     "text": [
      "2019-11-21 15:35:45,464 ACHTUNG: An empty Sentence was created! Are there empty strings in your dataset?\n",
      "2019-11-21 15:35:45,466 Ignore 1 sentence(s) with no tokens.\n"
     ]
    },
    {
     "name": "stderr",
     "output_type": "stream",
     "text": [
      " 77%|███████▋  | 13834/17957 [52:13<02:58, 23.13it/s]"
     ]
    },
    {
     "name": "stdout",
     "output_type": "stream",
     "text": [
      "2019-11-21 15:35:45,774 ACHTUNG: An empty Sentence was created! Are there empty strings in your dataset?\n",
      "2019-11-21 15:35:45,777 Ignore 1 sentence(s) with no tokens.\n"
     ]
    },
    {
     "name": "stderr",
     "output_type": "stream",
     "text": [
      "\r",
      " 77%|███████▋  | 13837/17957 [52:13<02:54, 23.60it/s]"
     ]
    },
    {
     "name": "stdout",
     "output_type": "stream",
     "text": [
      "2019-11-21 15:35:45,828 ACHTUNG: An empty Sentence was created! Are there empty strings in your dataset?\n",
      "2019-11-21 15:35:45,828 Ignore 1 sentence(s) with no tokens.\n"
     ]
    },
    {
     "name": "stderr",
     "output_type": "stream",
     "text": [
      " 77%|███████▋  | 13843/17957 [52:13<03:34, 19.17it/s]"
     ]
    },
    {
     "name": "stdout",
     "output_type": "stream",
     "text": [
      "2019-11-21 15:35:46,278 ACHTUNG: An empty Sentence was created! Are there empty strings in your dataset?\n",
      "2019-11-21 15:35:46,281 Ignore 1 sentence(s) with no tokens.\n"
     ]
    },
    {
     "name": "stderr",
     "output_type": "stream",
     "text": [
      "\r",
      " 77%|███████▋  | 13847/17957 [52:13<03:16, 20.94it/s]"
     ]
    },
    {
     "name": "stdout",
     "output_type": "stream",
     "text": [
      "2019-11-21 15:35:46,344 ACHTUNG: An empty Sentence was created! Are there empty strings in your dataset?\n",
      "2019-11-21 15:35:46,350 Ignore 1 sentence(s) with no tokens.\n"
     ]
    },
    {
     "name": "stderr",
     "output_type": "stream",
     "text": [
      " 77%|███████▋  | 13853/17957 [52:14<03:26, 19.90it/s]"
     ]
    },
    {
     "name": "stdout",
     "output_type": "stream",
     "text": [
      "2019-11-21 15:35:46,909 ACHTUNG: An empty Sentence was created! Are there empty strings in your dataset?\n",
      "2019-11-21 15:35:46,911 Ignore 1 sentence(s) with no tokens.\n"
     ]
    },
    {
     "name": "stderr",
     "output_type": "stream",
     "text": [
      "\r",
      " 77%|███████▋  | 13856/17957 [52:14<04:15, 16.06it/s]"
     ]
    },
    {
     "name": "stdout",
     "output_type": "stream",
     "text": [
      "2019-11-21 15:35:46,976 ACHTUNG: An empty Sentence was created! Are there empty strings in your dataset?\n",
      "2019-11-21 15:35:46,989 Ignore 1 sentence(s) with no tokens.\n"
     ]
    },
    {
     "name": "stderr",
     "output_type": "stream",
     "text": [
      " 77%|███████▋  | 13865/17957 [52:15<05:03, 13.50it/s]"
     ]
    },
    {
     "name": "stdout",
     "output_type": "stream",
     "text": [
      "2019-11-21 15:35:47,572 ACHTUNG: An empty Sentence was created! Are there empty strings in your dataset?\n",
      "2019-11-21 15:35:47,574 Ignore 1 sentence(s) with no tokens.\n",
      "2019-11-21 15:35:47,588 ACHTUNG: An empty Sentence was created! Are there empty strings in your dataset?\n",
      "2019-11-21 15:35:47,589 Ignore 1 sentence(s) with no tokens.\n"
     ]
    },
    {
     "name": "stderr",
     "output_type": "stream",
     "text": [
      " 77%|███████▋  | 13874/17957 [52:15<04:53, 13.91it/s]"
     ]
    },
    {
     "name": "stdout",
     "output_type": "stream",
     "text": [
      "2019-11-21 15:35:48,198 ACHTUNG: An empty Sentence was created! Are there empty strings in your dataset?\n",
      "2019-11-21 15:35:48,201 Ignore 1 sentence(s) with no tokens.\n"
     ]
    },
    {
     "name": "stderr",
     "output_type": "stream",
     "text": [
      "\r",
      " 77%|███████▋  | 13876/17957 [52:15<04:42, 14.43it/s]"
     ]
    },
    {
     "name": "stdout",
     "output_type": "stream",
     "text": [
      "2019-11-21 15:35:48,239 ACHTUNG: An empty Sentence was created! Are there empty strings in your dataset?\n",
      "2019-11-21 15:35:48,253 Ignore 1 sentence(s) with no tokens.\n"
     ]
    },
    {
     "name": "stderr",
     "output_type": "stream",
     "text": [
      " 77%|███████▋  | 13885/17957 [52:16<04:59, 13.61it/s]"
     ]
    },
    {
     "name": "stdout",
     "output_type": "stream",
     "text": [
      "2019-11-21 15:35:48,877 ACHTUNG: An empty Sentence was created! Are there empty strings in your dataset?\n",
      "2019-11-21 15:35:48,879 Ignore 1 sentence(s) with no tokens.\n",
      "2019-11-21 15:35:48,935 ACHTUNG: An empty Sentence was created! Are there empty strings in your dataset?\n",
      "2019-11-21 15:35:48,951 Ignore 1 sentence(s) with no tokens.\n"
     ]
    },
    {
     "name": "stderr",
     "output_type": "stream",
     "text": [
      " 79%|███████▉  | 14196/17957 [53:21<18:23,  3.41it/s]"
     ]
    },
    {
     "name": "stdout",
     "output_type": "stream",
     "text": [
      "2019-11-21 15:36:54,289 ACHTUNG: An empty Sentence was created! Are there empty strings in your dataset?\n",
      "2019-11-21 15:36:54,299 Ignore 1 sentence(s) with no tokens.\n"
     ]
    },
    {
     "name": "stderr",
     "output_type": "stream",
     "text": [
      " 79%|███████▉  | 14202/17957 [53:22<10:34,  5.92it/s]"
     ]
    },
    {
     "name": "stdout",
     "output_type": "stream",
     "text": [
      "2019-11-21 15:36:54,989 ACHTUNG: An empty Sentence was created! Are there empty strings in your dataset?\n",
      "2019-11-21 15:36:54,991 Ignore 1 sentence(s) with no tokens.\n"
     ]
    },
    {
     "name": "stderr",
     "output_type": "stream",
     "text": [
      " 79%|███████▉  | 14205/17957 [53:22<09:20,  6.69it/s]"
     ]
    },
    {
     "name": "stdout",
     "output_type": "stream",
     "text": [
      "2019-11-21 15:36:55,318 ACHTUNG: An empty Sentence was created! Are there empty strings in your dataset?\n",
      "2019-11-21 15:36:55,324 Ignore 1 sentence(s) with no tokens.\n"
     ]
    },
    {
     "name": "stderr",
     "output_type": "stream",
     "text": [
      " 79%|███████▉  | 14214/17957 [53:23<05:59, 10.41it/s]"
     ]
    },
    {
     "name": "stdout",
     "output_type": "stream",
     "text": [
      "2019-11-21 15:36:55,951 ACHTUNG: An empty Sentence was created! Are there empty strings in your dataset?\n",
      "2019-11-21 15:36:55,954 Ignore 1 sentence(s) with no tokens.\n"
     ]
    },
    {
     "name": "stderr",
     "output_type": "stream",
     "text": [
      " 79%|███████▉  | 14221/17957 [53:24<06:14,  9.99it/s]"
     ]
    },
    {
     "name": "stdout",
     "output_type": "stream",
     "text": [
      "2019-11-21 15:36:56,649 ACHTUNG: An empty Sentence was created! Are there empty strings in your dataset?\n",
      "2019-11-21 15:36:56,652 Ignore 1 sentence(s) with no tokens.\n"
     ]
    },
    {
     "name": "stderr",
     "output_type": "stream",
     "text": [
      " 79%|███████▉  | 14225/17957 [53:24<05:36, 11.10it/s]"
     ]
    },
    {
     "name": "stdout",
     "output_type": "stream",
     "text": [
      "2019-11-21 15:36:56,951 ACHTUNG: An empty Sentence was created! Are there empty strings in your dataset?\n",
      "2019-11-21 15:36:56,953 Ignore 1 sentence(s) with no tokens.\n"
     ]
    },
    {
     "name": "stderr",
     "output_type": "stream",
     "text": [
      " 79%|███████▉  | 14235/17957 [53:25<06:02, 10.25it/s]"
     ]
    },
    {
     "name": "stdout",
     "output_type": "stream",
     "text": [
      "2019-11-21 15:36:57,954 ACHTUNG: An empty Sentence was created! Are there empty strings in your dataset?\n",
      "2019-11-21 15:36:57,956 Ignore 1 sentence(s) with no tokens.\n"
     ]
    },
    {
     "name": "stderr",
     "output_type": "stream",
     "text": [
      " 79%|███████▉  | 14239/17957 [53:25<06:10, 10.02it/s]"
     ]
    },
    {
     "name": "stdout",
     "output_type": "stream",
     "text": [
      "2019-11-21 15:36:58,350 ACHTUNG: An empty Sentence was created! Are there empty strings in your dataset?\n",
      "2019-11-21 15:36:58,353 Ignore 1 sentence(s) with no tokens.\n"
     ]
    },
    {
     "name": "stderr",
     "output_type": "stream",
     "text": [
      " 79%|███████▉  | 14250/17957 [53:27<09:44,  6.35it/s]"
     ]
    },
    {
     "name": "stdout",
     "output_type": "stream",
     "text": [
      "2019-11-21 15:36:59,765 ACHTUNG: An empty Sentence was created! Are there empty strings in your dataset?\n",
      "2019-11-21 15:36:59,768 Ignore 1 sentence(s) with no tokens.\n"
     ]
    },
    {
     "name": "stderr",
     "output_type": "stream",
     "text": [
      " 79%|███████▉  | 14254/17957 [53:27<07:43,  7.99it/s]"
     ]
    },
    {
     "name": "stdout",
     "output_type": "stream",
     "text": [
      "2019-11-21 15:37:00,020 ACHTUNG: An empty Sentence was created! Are there empty strings in your dataset?\n",
      "2019-11-21 15:37:00,040 Ignore 1 sentence(s) with no tokens.\n"
     ]
    },
    {
     "name": "stderr",
     "output_type": "stream",
     "text": [
      " 80%|███████▉  | 14285/17957 [53:31<07:26,  8.23it/s]"
     ]
    },
    {
     "name": "stdout",
     "output_type": "stream",
     "text": [
      "2019-11-21 15:37:03,542 ACHTUNG: An empty Sentence was created! Are there empty strings in your dataset?\n",
      "2019-11-21 15:37:03,544 Ignore 1 sentence(s) with no tokens.\n"
     ]
    },
    {
     "name": "stderr",
     "output_type": "stream",
     "text": [
      " 80%|███████▉  | 14292/17957 [53:31<05:34, 10.97it/s]"
     ]
    },
    {
     "name": "stdout",
     "output_type": "stream",
     "text": [
      "2019-11-21 15:37:03,997 ACHTUNG: An empty Sentence was created! Are there empty strings in your dataset?\n",
      "2019-11-21 15:37:03,999 Ignore 1 sentence(s) with no tokens.\n"
     ]
    },
    {
     "name": "stderr",
     "output_type": "stream",
     "text": [
      "\r",
      " 80%|███████▉  | 14295/17957 [53:31<04:40, 13.04it/s]"
     ]
    },
    {
     "name": "stdout",
     "output_type": "stream",
     "text": [
      "2019-11-21 15:37:04,324 ACHTUNG: An empty Sentence was created! Are there empty strings in your dataset?\n",
      "2019-11-21 15:37:04,345 Ignore 1 sentence(s) with no tokens.\n"
     ]
    },
    {
     "name": "stderr",
     "output_type": "stream",
     "text": [
      " 80%|███████▉  | 14306/17957 [53:32<05:05, 11.96it/s]"
     ]
    },
    {
     "name": "stdout",
     "output_type": "stream",
     "text": [
      "2019-11-21 15:37:05,156 ACHTUNG: An empty Sentence was created! Are there empty strings in your dataset?\n",
      "2019-11-21 15:37:05,158 Ignore 1 sentence(s) with no tokens.\n"
     ]
    },
    {
     "name": "stderr",
     "output_type": "stream",
     "text": [
      " 80%|███████▉  | 14327/17957 [53:34<06:48,  8.89it/s]"
     ]
    },
    {
     "name": "stdout",
     "output_type": "stream",
     "text": [
      "2019-11-21 15:37:07,217 ACHTUNG: An empty Sentence was created! Are there empty strings in your dataset?\n",
      "2019-11-21 15:37:07,218 Ignore 1 sentence(s) with no tokens.\n"
     ]
    },
    {
     "name": "stderr",
     "output_type": "stream",
     "text": [
      "\r",
      " 80%|███████▉  | 14330/17957 [53:34<05:41, 10.63it/s]"
     ]
    },
    {
     "name": "stdout",
     "output_type": "stream",
     "text": [
      "2019-11-21 15:37:07,459 ACHTUNG: An empty Sentence was created! Are there empty strings in your dataset?\n",
      "2019-11-21 15:37:07,470 Ignore 1 sentence(s) with no tokens.\n"
     ]
    },
    {
     "name": "stderr",
     "output_type": "stream",
     "text": [
      " 80%|███████▉  | 14339/17957 [53:35<05:38, 10.70it/s]"
     ]
    },
    {
     "name": "stdout",
     "output_type": "stream",
     "text": [
      "2019-11-21 15:37:08,195 ACHTUNG: An empty Sentence was created! Are there empty strings in your dataset?\n",
      "2019-11-21 15:37:08,199 Ignore 1 sentence(s) with no tokens.\n"
     ]
    },
    {
     "name": "stderr",
     "output_type": "stream",
     "text": [
      " 80%|███████▉  | 14346/17957 [53:36<06:47,  8.86it/s]"
     ]
    },
    {
     "name": "stdout",
     "output_type": "stream",
     "text": [
      "2019-11-21 15:37:08,873 ACHTUNG: An empty Sentence was created! Are there empty strings in your dataset?\n",
      "2019-11-21 15:37:08,875 Ignore 1 sentence(s) with no tokens.\n"
     ]
    },
    {
     "name": "stderr",
     "output_type": "stream",
     "text": [
      " 80%|███████▉  | 14351/17957 [53:36<07:15,  8.28it/s]"
     ]
    },
    {
     "name": "stdout",
     "output_type": "stream",
     "text": [
      "2019-11-21 15:37:09,396 ACHTUNG: An empty Sentence was created! Are there empty strings in your dataset?\n",
      "2019-11-21 15:37:09,420 Ignore 1 sentence(s) with no tokens.\n"
     ]
    },
    {
     "name": "stderr",
     "output_type": "stream",
     "text": [
      " 80%|████████  | 14429/17957 [54:03<17:45,  3.31it/s]"
     ]
    },
    {
     "name": "stdout",
     "output_type": "stream",
     "text": [
      "2019-11-21 15:37:36,018 ACHTUNG: An empty Sentence was created! Are there empty strings in your dataset?\n",
      "2019-11-21 15:37:36,019 Ignore 1 sentence(s) with no tokens.\n"
     ]
    },
    {
     "name": "stderr",
     "output_type": "stream",
     "text": [
      " 80%|████████  | 14433/17957 [54:03<11:48,  4.97it/s]"
     ]
    },
    {
     "name": "stdout",
     "output_type": "stream",
     "text": [
      "2019-11-21 15:37:36,373 ACHTUNG: An empty Sentence was created! Are there empty strings in your dataset?\n",
      "2019-11-21 15:37:36,404 Ignore 1 sentence(s) with no tokens.\n"
     ]
    },
    {
     "name": "stderr",
     "output_type": "stream",
     "text": [
      " 80%|████████  | 14438/17957 [54:04<08:12,  7.15it/s]"
     ]
    },
    {
     "name": "stdout",
     "output_type": "stream",
     "text": [
      "2019-11-21 15:37:36,646 ACHTUNG: An empty Sentence was created! Are there empty strings in your dataset?\n",
      "2019-11-21 15:37:36,648 Ignore 1 sentence(s) with no tokens.\n"
     ]
    },
    {
     "name": "stderr",
     "output_type": "stream",
     "text": [
      " 80%|████████  | 14449/17957 [54:05<05:43, 10.22it/s]"
     ]
    },
    {
     "name": "stdout",
     "output_type": "stream",
     "text": [
      "2019-11-21 15:37:37,682 ACHTUNG: An empty Sentence was created! Are there empty strings in your dataset?\n",
      "2019-11-21 15:37:37,705 Ignore 1 sentence(s) with no tokens.\n"
     ]
    },
    {
     "name": "stderr",
     "output_type": "stream",
     "text": [
      "\r",
      " 80%|████████  | 14452/17957 [54:05<05:22, 10.87it/s]"
     ]
    },
    {
     "name": "stdout",
     "output_type": "stream",
     "text": [
      "2019-11-21 15:37:38,046 ACHTUNG: An empty Sentence was created! Are there empty strings in your dataset?\n",
      "2019-11-21 15:37:38,048 Ignore 1 sentence(s) with no tokens.\n"
     ]
    },
    {
     "name": "stderr",
     "output_type": "stream",
     "text": [
      " 81%|████████  | 14465/17957 [54:06<05:12, 11.18it/s]"
     ]
    },
    {
     "name": "stdout",
     "output_type": "stream",
     "text": [
      "2019-11-21 15:37:39,077 ACHTUNG: An empty Sentence was created! Are there empty strings in your dataset?\n",
      "2019-11-21 15:37:39,079 Ignore 1 sentence(s) with no tokens.\n"
     ]
    },
    {
     "name": "stderr",
     "output_type": "stream",
     "text": [
      " 81%|████████  | 14470/17957 [54:06<05:00, 11.59it/s]"
     ]
    },
    {
     "name": "stdout",
     "output_type": "stream",
     "text": [
      "2019-11-21 15:37:39,458 ACHTUNG: An empty Sentence was created! Are there empty strings in your dataset?\n",
      "2019-11-21 15:37:39,459 Ignore 1 sentence(s) with no tokens.\n"
     ]
    },
    {
     "name": "stderr",
     "output_type": "stream",
     "text": [
      "\r",
      " 81%|████████  | 14473/17957 [54:07<04:46, 12.14it/s]"
     ]
    },
    {
     "name": "stdout",
     "output_type": "stream",
     "text": [
      "2019-11-21 15:37:39,759 ACHTUNG: An empty Sentence was created! Are there empty strings in your dataset?\n",
      "2019-11-21 15:37:39,762 Ignore 1 sentence(s) with no tokens.\n"
     ]
    },
    {
     "name": "stderr",
     "output_type": "stream",
     "text": [
      " 81%|████████  | 14489/17957 [54:09<07:44,  7.47it/s]"
     ]
    },
    {
     "name": "stdout",
     "output_type": "stream",
     "text": [
      "2019-11-21 15:37:41,599 ACHTUNG: An empty Sentence was created! Are there empty strings in your dataset?\n",
      "2019-11-21 15:37:41,602 Ignore 1 sentence(s) with no tokens.\n"
     ]
    },
    {
     "name": "stderr",
     "output_type": "stream",
     "text": [
      " 89%|████████▊ | 15908/17957 [1:00:19<02:42, 12.58it/s]"
     ]
    },
    {
     "name": "stdout",
     "output_type": "stream",
     "text": [
      "2019-11-21 15:43:52,017 ACHTUNG: An empty Sentence was created! Are there empty strings in your dataset?\n",
      "2019-11-21 15:43:52,019 Ignore 1 sentence(s) with no tokens.\n",
      "2019-11-21 15:43:52,021 ACHTUNG: An empty Sentence was created! Are there empty strings in your dataset?\n",
      "2019-11-21 15:43:52,022 Ignore 1 sentence(s) with no tokens.\n"
     ]
    },
    {
     "name": "stderr",
     "output_type": "stream",
     "text": [
      "\r",
      " 89%|████████▊ | 15912/17957 [1:00:19<02:25, 14.06it/s]"
     ]
    },
    {
     "name": "stdout",
     "output_type": "stream",
     "text": [
      "2019-11-21 15:43:52,162 ACHTUNG: An empty Sentence was created! Are there empty strings in your dataset?\n",
      "2019-11-21 15:43:52,168 Ignore 1 sentence(s) with no tokens.\n",
      "2019-11-21 15:43:52,170 ACHTUNG: An empty Sentence was created! Are there empty strings in your dataset?\n",
      "2019-11-21 15:43:52,174 Ignore 1 sentence(s) with no tokens.\n"
     ]
    },
    {
     "name": "stderr",
     "output_type": "stream",
     "text": [
      " 89%|████████▉ | 16020/17957 [1:00:28<02:11, 14.76it/s]"
     ]
    },
    {
     "name": "stdout",
     "output_type": "stream",
     "text": [
      "2019-11-21 15:44:01,192 ACHTUNG: An empty Sentence was created! Are there empty strings in your dataset?\n",
      "2019-11-21 15:44:01,205 Ignore 1 sentence(s) with no tokens.\n"
     ]
    },
    {
     "name": "stderr",
     "output_type": "stream",
     "text": [
      "\r",
      " 89%|████████▉ | 16023/17957 [1:00:28<01:51, 17.28it/s]"
     ]
    },
    {
     "name": "stdout",
     "output_type": "stream",
     "text": [
      "2019-11-21 15:44:01,357 ACHTUNG: An empty Sentence was created! Are there empty strings in your dataset?\n",
      "2019-11-21 15:44:01,362 Ignore 1 sentence(s) with no tokens.\n"
     ]
    },
    {
     "name": "stderr",
     "output_type": "stream",
     "text": [
      " 89%|████████▉ | 16028/17957 [1:00:29<01:50, 17.47it/s]"
     ]
    },
    {
     "name": "stdout",
     "output_type": "stream",
     "text": [
      "2019-11-21 15:44:01,605 ACHTUNG: An empty Sentence was created! Are there empty strings in your dataset?\n",
      "2019-11-21 15:44:01,619 Ignore 1 sentence(s) with no tokens.\n"
     ]
    },
    {
     "name": "stderr",
     "output_type": "stream",
     "text": [
      "\r",
      " 89%|████████▉ | 16031/17957 [1:00:29<01:38, 19.63it/s]"
     ]
    },
    {
     "name": "stdout",
     "output_type": "stream",
     "text": [
      "2019-11-21 15:44:01,748 ACHTUNG: An empty Sentence was created! Are there empty strings in your dataset?\n",
      "2019-11-21 15:44:01,759 Ignore 1 sentence(s) with no tokens.\n"
     ]
    },
    {
     "name": "stderr",
     "output_type": "stream",
     "text": [
      " 89%|████████▉ | 16037/17957 [1:00:29<01:32, 20.65it/s]"
     ]
    },
    {
     "name": "stdout",
     "output_type": "stream",
     "text": [
      "2019-11-21 15:44:01,979 ACHTUNG: An empty Sentence was created! Are there empty strings in your dataset?\n",
      "2019-11-21 15:44:01,981 Ignore 1 sentence(s) with no tokens.\n"
     ]
    },
    {
     "name": "stderr",
     "output_type": "stream",
     "text": [
      "\r",
      " 89%|████████▉ | 16040/17957 [1:00:29<01:29, 21.37it/s]"
     ]
    },
    {
     "name": "stdout",
     "output_type": "stream",
     "text": [
      "2019-11-21 15:44:02,077 ACHTUNG: An empty Sentence was created! Are there empty strings in your dataset?\n",
      "2019-11-21 15:44:02,078 Ignore 1 sentence(s) with no tokens.\n"
     ]
    },
    {
     "name": "stderr",
     "output_type": "stream",
     "text": [
      "\r",
      " 89%|████████▉ | 16043/17957 [1:00:29<01:25, 22.48it/s]"
     ]
    },
    {
     "name": "stdout",
     "output_type": "stream",
     "text": [
      "2019-11-21 15:44:02,337 ACHTUNG: An empty Sentence was created! Are there empty strings in your dataset?\n",
      "2019-11-21 15:44:02,339 Ignore 1 sentence(s) with no tokens.\n"
     ]
    },
    {
     "name": "stderr",
     "output_type": "stream",
     "text": [
      "\r",
      " 89%|████████▉ | 16046/17957 [1:00:29<01:28, 21.61it/s]"
     ]
    },
    {
     "name": "stdout",
     "output_type": "stream",
     "text": [
      "2019-11-21 15:44:02,506 ACHTUNG: An empty Sentence was created! Are there empty strings in your dataset?\n",
      "2019-11-21 15:44:02,509 Ignore 1 sentence(s) with no tokens.\n"
     ]
    },
    {
     "name": "stderr",
     "output_type": "stream",
     "text": [
      " 89%|████████▉ | 16052/17957 [1:00:30<01:41, 18.71it/s]"
     ]
    },
    {
     "name": "stdout",
     "output_type": "stream",
     "text": [
      "2019-11-21 15:44:02,759 ACHTUNG: An empty Sentence was created! Are there empty strings in your dataset?\n",
      "2019-11-21 15:44:02,764 Ignore 1 sentence(s) with no tokens.\n"
     ]
    },
    {
     "name": "stderr",
     "output_type": "stream",
     "text": [
      "\r",
      " 89%|████████▉ | 16055/17957 [1:00:30<01:34, 20.09it/s]"
     ]
    },
    {
     "name": "stdout",
     "output_type": "stream",
     "text": [
      "2019-11-21 15:44:02,893 ACHTUNG: An empty Sentence was created! Are there empty strings in your dataset?\n",
      "2019-11-21 15:44:02,920 Ignore 1 sentence(s) with no tokens.\n"
     ]
    },
    {
     "name": "stderr",
     "output_type": "stream",
     "text": [
      " 89%|████████▉ | 16061/17957 [1:00:30<01:32, 20.54it/s]"
     ]
    },
    {
     "name": "stdout",
     "output_type": "stream",
     "text": [
      "2019-11-21 15:44:03,103 ACHTUNG: An empty Sentence was created! Are there empty strings in your dataset?\n",
      "2019-11-21 15:44:03,105 Ignore 1 sentence(s) with no tokens.\n"
     ]
    },
    {
     "name": "stderr",
     "output_type": "stream",
     "text": [
      "\r",
      " 89%|████████▉ | 16064/17957 [1:00:30<01:36, 19.62it/s]"
     ]
    },
    {
     "name": "stdout",
     "output_type": "stream",
     "text": [
      "2019-11-21 15:44:03,272 ACHTUNG: An empty Sentence was created! Are there empty strings in your dataset?\n",
      "2019-11-21 15:44:03,274 Ignore 1 sentence(s) with no tokens.\n"
     ]
    },
    {
     "name": "stderr",
     "output_type": "stream",
     "text": [
      "\r",
      " 89%|████████▉ | 16068/17957 [1:00:30<01:25, 22.03it/s]"
     ]
    },
    {
     "name": "stdout",
     "output_type": "stream",
     "text": [
      "2019-11-21 15:44:03,445 ACHTUNG: An empty Sentence was created! Are there empty strings in your dataset?\n",
      "2019-11-21 15:44:03,454 Ignore 1 sentence(s) with no tokens.\n"
     ]
    },
    {
     "name": "stderr",
     "output_type": "stream",
     "text": [
      "\r",
      " 90%|████████▉ | 16072/17957 [1:00:31<01:21, 23.10it/s]"
     ]
    },
    {
     "name": "stdout",
     "output_type": "stream",
     "text": [
      "2019-11-21 15:44:03,555 ACHTUNG: An empty Sentence was created! Are there empty strings in your dataset?\n",
      "2019-11-21 15:44:03,557 Ignore 1 sentence(s) with no tokens.\n"
     ]
    },
    {
     "name": "stderr",
     "output_type": "stream",
     "text": [
      " 90%|████████▉ | 16081/17957 [1:00:31<01:38, 19.05it/s]"
     ]
    },
    {
     "name": "stdout",
     "output_type": "stream",
     "text": [
      "2019-11-21 15:44:04,065 ACHTUNG: An empty Sentence was created! Are there empty strings in your dataset?\n",
      "2019-11-21 15:44:04,067 Ignore 1 sentence(s) with no tokens.\n",
      "2019-11-21 15:44:04,147 ACHTUNG: An empty Sentence was created! Are there empty strings in your dataset?\n",
      "2019-11-21 15:44:04,154 Ignore 1 sentence(s) with no tokens.\n"
     ]
    },
    {
     "name": "stderr",
     "output_type": "stream",
     "text": [
      " 90%|████████▉ | 16088/17957 [1:00:31<01:29, 20.94it/s]"
     ]
    },
    {
     "name": "stdout",
     "output_type": "stream",
     "text": [
      "2019-11-21 15:44:04,469 ACHTUNG: An empty Sentence was created! Are there empty strings in your dataset?\n",
      "2019-11-21 15:44:04,471 Ignore 1 sentence(s) with no tokens.\n"
     ]
    },
    {
     "name": "stderr",
     "output_type": "stream",
     "text": [
      "\r",
      " 90%|████████▉ | 16091/17957 [1:00:31<01:28, 21.04it/s]"
     ]
    },
    {
     "name": "stdout",
     "output_type": "stream",
     "text": [
      "2019-11-21 15:44:04,607 ACHTUNG: An empty Sentence was created! Are there empty strings in your dataset?\n",
      "2019-11-21 15:44:04,613 Ignore 1 sentence(s) with no tokens.\n"
     ]
    },
    {
     "name": "stderr",
     "output_type": "stream",
     "text": [
      " 90%|████████▉ | 16097/17957 [1:00:32<01:31, 20.34it/s]"
     ]
    },
    {
     "name": "stdout",
     "output_type": "stream",
     "text": [
      "2019-11-21 15:44:04,892 ACHTUNG: An empty Sentence was created! Are there empty strings in your dataset?\n",
      "2019-11-21 15:44:04,894 Ignore 1 sentence(s) with no tokens.\n"
     ]
    },
    {
     "name": "stderr",
     "output_type": "stream",
     "text": [
      "\r",
      " 90%|████████▉ | 16100/17957 [1:00:32<01:26, 21.50it/s]"
     ]
    },
    {
     "name": "stdout",
     "output_type": "stream",
     "text": [
      "2019-11-21 15:44:05,021 ACHTUNG: An empty Sentence was created! Are there empty strings in your dataset?\n",
      "2019-11-21 15:44:05,024 Ignore 1 sentence(s) with no tokens.\n"
     ]
    },
    {
     "name": "stderr",
     "output_type": "stream",
     "text": [
      " 90%|████████▉ | 16106/17957 [1:00:32<01:25, 21.58it/s]"
     ]
    },
    {
     "name": "stdout",
     "output_type": "stream",
     "text": [
      "2019-11-21 15:44:05,264 ACHTUNG: An empty Sentence was created! Are there empty strings in your dataset?\n",
      "2019-11-21 15:44:05,268 Ignore 1 sentence(s) with no tokens.\n"
     ]
    },
    {
     "name": "stderr",
     "output_type": "stream",
     "text": [
      "\r",
      " 90%|████████▉ | 16110/17957 [1:00:32<01:21, 22.56it/s]"
     ]
    },
    {
     "name": "stdout",
     "output_type": "stream",
     "text": [
      "2019-11-21 15:44:05,404 ACHTUNG: An empty Sentence was created! Are there empty strings in your dataset?\n",
      "2019-11-21 15:44:05,409 Ignore 1 sentence(s) with no tokens.\n"
     ]
    },
    {
     "name": "stderr",
     "output_type": "stream",
     "text": [
      " 90%|█████████ | 16192/17957 [1:00:38<02:13, 13.20it/s]"
     ]
    },
    {
     "name": "stdout",
     "output_type": "stream",
     "text": [
      "2019-11-21 15:44:11,314 ACHTUNG: An empty Sentence was created! Are there empty strings in your dataset?\n",
      "2019-11-21 15:44:11,317 Ignore 1 sentence(s) with no tokens.\n"
     ]
    },
    {
     "name": "stderr",
     "output_type": "stream",
     "text": [
      "\r",
      " 90%|█████████ | 16194/17957 [1:00:38<02:06, 13.93it/s]"
     ]
    },
    {
     "name": "stdout",
     "output_type": "stream",
     "text": [
      "2019-11-21 15:44:11,506 ACHTUNG: An empty Sentence was created! Are there empty strings in your dataset?\n",
      "2019-11-21 15:44:11,519 Ignore 1 sentence(s) with no tokens.\n"
     ]
    },
    {
     "name": "stderr",
     "output_type": "stream",
     "text": [
      "\r",
      " 90%|█████████ | 16197/17957 [1:00:39<01:50, 15.96it/s]"
     ]
    },
    {
     "name": "stdout",
     "output_type": "stream",
     "text": [
      "2019-11-21 15:44:11,687 ACHTUNG: An empty Sentence was created! Are there empty strings in your dataset?\n",
      "2019-11-21 15:44:11,689 Ignore 1 sentence(s) with no tokens.\n"
     ]
    },
    {
     "name": "stderr",
     "output_type": "stream",
     "text": [
      " 90%|█████████ | 16201/17957 [1:00:39<01:52, 15.57it/s]"
     ]
    },
    {
     "name": "stdout",
     "output_type": "stream",
     "text": [
      "2019-11-21 15:44:11,835 ACHTUNG: An empty Sentence was created! Are there empty strings in your dataset?\n",
      "2019-11-21 15:44:11,838 Ignore 1 sentence(s) with no tokens.\n"
     ]
    },
    {
     "name": "stderr",
     "output_type": "stream",
     "text": [
      "\r",
      " 90%|█████████ | 16204/17957 [1:00:39<01:41, 17.31it/s]"
     ]
    },
    {
     "name": "stdout",
     "output_type": "stream",
     "text": [
      "2019-11-21 15:44:11,953 ACHTUNG: An empty Sentence was created! Are there empty strings in your dataset?\n",
      "2019-11-21 15:44:11,954 Ignore 1 sentence(s) with no tokens.\n"
     ]
    },
    {
     "name": "stderr",
     "output_type": "stream",
     "text": [
      "\r",
      " 90%|█████████ | 16206/17957 [1:00:39<01:38, 17.78it/s]"
     ]
    },
    {
     "name": "stdout",
     "output_type": "stream",
     "text": [
      "2019-11-21 15:44:12,117 ACHTUNG: An empty Sentence was created! Are there empty strings in your dataset?\n",
      "2019-11-21 15:44:12,120 Ignore 1 sentence(s) with no tokens.\n"
     ]
    },
    {
     "name": "stderr",
     "output_type": "stream",
     "text": [
      "\r",
      " 90%|█████████ | 16209/17957 [1:00:39<01:35, 18.26it/s]"
     ]
    },
    {
     "name": "stdout",
     "output_type": "stream",
     "text": [
      "2019-11-21 15:44:12,314 ACHTUNG: An empty Sentence was created! Are there empty strings in your dataset?\n",
      "2019-11-21 15:44:12,328 Ignore 1 sentence(s) with no tokens.\n"
     ]
    },
    {
     "name": "stderr",
     "output_type": "stream",
     "text": [
      " 92%|█████████▏| 16574/17957 [1:02:16<04:32,  5.08it/s]"
     ]
    },
    {
     "name": "stdout",
     "output_type": "stream",
     "text": [
      "2019-11-21 15:45:49,285 ACHTUNG: An empty Sentence was created! Are there empty strings in your dataset?\n",
      "2019-11-21 15:45:49,287 Ignore 1 sentence(s) with no tokens.\n"
     ]
    },
    {
     "name": "stderr",
     "output_type": "stream",
     "text": [
      " 93%|█████████▎| 16616/17957 [1:02:22<03:04,  7.27it/s]"
     ]
    },
    {
     "name": "stdout",
     "output_type": "stream",
     "text": [
      "2019-11-21 15:45:55,377 ACHTUNG: An empty Sentence was created! Are there empty strings in your dataset?\n",
      "2019-11-21 15:45:55,395 Ignore 1 sentence(s) with no tokens.\n"
     ]
    },
    {
     "name": "stderr",
     "output_type": "stream",
     "text": [
      " 94%|█████████▍| 16869/17957 [1:03:06<04:24,  4.12it/s]"
     ]
    },
    {
     "name": "stdout",
     "output_type": "stream",
     "text": [
      "2019-11-21 15:46:39,417 ACHTUNG: An empty Sentence was created! Are there empty strings in your dataset?\n",
      "2019-11-21 15:46:39,422 Ignore 1 sentence(s) with no tokens.\n"
     ]
    },
    {
     "name": "stderr",
     "output_type": "stream",
     "text": [
      " 97%|█████████▋| 17407/17957 [1:05:20<01:15,  7.29it/s]"
     ]
    },
    {
     "name": "stdout",
     "output_type": "stream",
     "text": [
      "2019-11-21 15:48:53,375 ACHTUNG: An empty Sentence was created! Are there empty strings in your dataset?\n",
      "2019-11-21 15:48:53,382 Ignore 1 sentence(s) with no tokens.\n",
      "2019-11-21 15:48:53,384 ACHTUNG: An empty Sentence was created! Are there empty strings in your dataset?\n",
      "2019-11-21 15:48:53,386 Ignore 1 sentence(s) with no tokens.\n",
      "2019-11-21 15:48:53,387 ACHTUNG: An empty Sentence was created! Are there empty strings in your dataset?\n",
      "2019-11-21 15:48:53,403 Ignore 1 sentence(s) with no tokens.\n"
     ]
    },
    {
     "name": "stderr",
     "output_type": "stream",
     "text": [
      "\r",
      " 97%|█████████▋| 17411/17957 [1:05:20<00:56,  9.59it/s]"
     ]
    },
    {
     "name": "stdout",
     "output_type": "stream",
     "text": [
      "2019-11-21 15:48:53,407 ACHTUNG: An empty Sentence was created! Are there empty strings in your dataset?\n",
      "2019-11-21 15:48:53,410 Ignore 1 sentence(s) with no tokens.\n",
      "2019-11-21 15:48:53,422 ACHTUNG: An empty Sentence was created! Are there empty strings in your dataset?\n",
      "2019-11-21 15:48:53,424 Ignore 1 sentence(s) with no tokens.\n",
      "2019-11-21 15:48:53,426 ACHTUNG: An empty Sentence was created! Are there empty strings in your dataset?\n",
      "2019-11-21 15:48:53,428 Ignore 1 sentence(s) with no tokens.\n",
      "2019-11-21 15:48:53,429 ACHTUNG: An empty Sentence was created! Are there empty strings in your dataset?\n",
      "2019-11-21 15:48:53,431 Ignore 1 sentence(s) with no tokens.\n",
      "2019-11-21 15:48:53,432 ACHTUNG: An empty Sentence was created! Are there empty strings in your dataset?\n",
      "2019-11-21 15:48:53,434 Ignore 1 sentence(s) with no tokens.\n"
     ]
    },
    {
     "name": "stderr",
     "output_type": "stream",
     "text": [
      " 97%|█████████▋| 17424/17957 [1:05:22<01:35,  5.56it/s]"
     ]
    },
    {
     "name": "stdout",
     "output_type": "stream",
     "text": [
      "2019-11-21 15:48:55,089 ACHTUNG: An empty Sentence was created! Are there empty strings in your dataset?\n",
      "2019-11-21 15:48:55,101 Ignore 1 sentence(s) with no tokens.\n"
     ]
    },
    {
     "name": "stderr",
     "output_type": "stream",
     "text": [
      " 97%|█████████▋| 17433/17957 [1:05:23<01:36,  5.41it/s]"
     ]
    },
    {
     "name": "stdout",
     "output_type": "stream",
     "text": [
      "2019-11-21 15:48:56,432 ACHTUNG: An empty Sentence was created! Are there empty strings in your dataset?\n",
      "2019-11-21 15:48:56,447 Ignore 1 sentence(s) with no tokens.\n"
     ]
    },
    {
     "name": "stderr",
     "output_type": "stream",
     "text": [
      " 97%|█████████▋| 17442/17957 [1:05:25<01:15,  6.79it/s]"
     ]
    },
    {
     "name": "stdout",
     "output_type": "stream",
     "text": [
      "2019-11-21 15:48:57,697 ACHTUNG: An empty Sentence was created! Are there empty strings in your dataset?\n",
      "2019-11-21 15:48:57,707 Ignore 1 sentence(s) with no tokens.\n"
     ]
    },
    {
     "name": "stderr",
     "output_type": "stream",
     "text": [
      " 97%|█████████▋| 17451/17957 [1:05:26<01:07,  7.53it/s]"
     ]
    },
    {
     "name": "stdout",
     "output_type": "stream",
     "text": [
      "2019-11-21 15:48:58,860 ACHTUNG: An empty Sentence was created! Are there empty strings in your dataset?\n",
      "2019-11-21 15:48:58,874 Ignore 1 sentence(s) with no tokens.\n"
     ]
    },
    {
     "name": "stderr",
     "output_type": "stream",
     "text": [
      " 97%|█████████▋| 17459/17957 [1:05:27<01:11,  7.00it/s]"
     ]
    },
    {
     "name": "stdout",
     "output_type": "stream",
     "text": [
      "2019-11-21 15:49:00,110 ACHTUNG: An empty Sentence was created! Are there empty strings in your dataset?\n",
      "2019-11-21 15:49:00,110 Ignore 1 sentence(s) with no tokens.\n"
     ]
    },
    {
     "name": "stderr",
     "output_type": "stream",
     "text": [
      " 97%|█████████▋| 17468/17957 [1:05:28<01:18,  6.25it/s]"
     ]
    },
    {
     "name": "stdout",
     "output_type": "stream",
     "text": [
      "2019-11-21 15:49:01,512 ACHTUNG: An empty Sentence was created! Are there empty strings in your dataset?\n",
      "2019-11-21 15:49:01,523 Ignore 1 sentence(s) with no tokens.\n"
     ]
    },
    {
     "name": "stderr",
     "output_type": "stream",
     "text": [
      " 97%|█████████▋| 17479/17957 [1:05:30<01:25,  5.62it/s]"
     ]
    },
    {
     "name": "stdout",
     "output_type": "stream",
     "text": [
      "2019-11-21 15:49:03,206 ACHTUNG: An empty Sentence was created! Are there empty strings in your dataset?\n",
      "2019-11-21 15:49:03,210 Ignore 1 sentence(s) with no tokens.\n",
      "2019-11-21 15:49:03,214 ACHTUNG: An empty Sentence was created! Are there empty strings in your dataset?\n",
      "2019-11-21 15:49:03,218 Ignore 1 sentence(s) with no tokens.\n",
      "2019-11-21 15:49:03,221 ACHTUNG: An empty Sentence was created! Are there empty strings in your dataset?\n",
      "2019-11-21 15:49:03,223 Ignore 1 sentence(s) with no tokens.\n",
      "2019-11-21 15:49:03,226 ACHTUNG: An empty Sentence was created! Are there empty strings in your dataset?\n",
      "2019-11-21 15:49:03,229 Ignore 1 sentence(s) with no tokens.\n",
      "2019-11-21 15:49:03,232 ACHTUNG: An empty Sentence was created! Are there empty strings in your dataset?\n",
      "2019-11-21 15:49:03,246 Ignore 1 sentence(s) with no tokens.\n",
      "2019-11-21 15:49:03,258 ACHTUNG: An empty Sentence was created! Are there empty strings in your dataset?\n",
      "2019-11-21 15:49:03,260 Ignore 1 sentence(s) with no tokens.\n",
      "2019-11-21 15:49:03,263 ACHTUNG: An empty Sentence was created! Are there empty strings in your dataset?\n",
      "2019-11-21 15:49:03,265 Ignore 1 sentence(s) with no tokens.\n",
      "2019-11-21 15:49:03,266 ACHTUNG: An empty Sentence was created! Are there empty strings in your dataset?\n",
      "2019-11-21 15:49:03,269 Ignore 1 sentence(s) with no tokens.\n"
     ]
    },
    {
     "name": "stderr",
     "output_type": "stream",
     "text": [
      " 97%|█████████▋| 17495/17957 [1:05:32<01:08,  6.75it/s]"
     ]
    },
    {
     "name": "stdout",
     "output_type": "stream",
     "text": [
      "2019-11-21 15:49:04,548 ACHTUNG: An empty Sentence was created! Are there empty strings in your dataset?\n",
      "2019-11-21 15:49:04,551 Ignore 1 sentence(s) with no tokens.\n"
     ]
    },
    {
     "name": "stderr",
     "output_type": "stream",
     "text": [
      " 98%|█████████▊| 17517/17957 [1:05:35<00:58,  7.48it/s]"
     ]
    },
    {
     "name": "stdout",
     "output_type": "stream",
     "text": [
      "2019-11-21 15:49:08,333 ACHTUNG: An empty Sentence was created! Are there empty strings in your dataset?\n",
      "2019-11-21 15:49:08,337 Ignore 1 sentence(s) with no tokens.\n",
      "2019-11-21 15:49:08,339 ACHTUNG: An empty Sentence was created! Are there empty strings in your dataset?\n",
      "2019-11-21 15:49:08,340 Ignore 1 sentence(s) with no tokens.\n",
      "2019-11-21 15:49:08,341 ACHTUNG: An empty Sentence was created! Are there empty strings in your dataset?\n",
      "2019-11-21 15:49:08,351 Ignore 1 sentence(s) with no tokens.\n",
      "2019-11-21 15:49:08,353 ACHTUNG: An empty Sentence was created! Are there empty strings in your dataset?\n",
      "2019-11-21 15:49:08,354 Ignore 1 sentence(s) with no tokens.\n",
      "2019-11-21 15:49:08,355 ACHTUNG: An empty Sentence was created! Are there empty strings in your dataset?\n",
      "2019-11-21 15:49:08,357 Ignore 1 sentence(s) with no tokens.\n",
      "2019-11-21 15:49:08,358 ACHTUNG: An empty Sentence was created! Are there empty strings in your dataset?\n",
      "2019-11-21 15:49:08,359 Ignore 1 sentence(s) with no tokens.\n",
      "2019-11-21 15:49:08,360 ACHTUNG: An empty Sentence was created! Are there empty strings in your dataset?\n",
      "2019-11-21 15:49:08,362 Ignore 1 sentence(s) with no tokens.\n",
      "2019-11-21 15:49:08,363 ACHTUNG: An empty Sentence was created! Are there empty strings in your dataset?\n",
      "2019-11-21 15:49:08,364 Ignore 1 sentence(s) with no tokens.\n"
     ]
    },
    {
     "name": "stderr",
     "output_type": "stream",
     "text": [
      " 98%|█████████▊| 17533/17957 [1:05:37<01:14,  5.69it/s]"
     ]
    },
    {
     "name": "stdout",
     "output_type": "stream",
     "text": [
      "2019-11-21 15:49:10,097 ACHTUNG: An empty Sentence was created! Are there empty strings in your dataset?\n",
      "2019-11-21 15:49:10,115 Ignore 1 sentence(s) with no tokens.\n"
     ]
    },
    {
     "name": "stderr",
     "output_type": "stream",
     "text": [
      " 98%|█████████▊| 17543/17957 [1:05:39<02:07,  3.26it/s]"
     ]
    },
    {
     "name": "stdout",
     "output_type": "stream",
     "text": [
      "2019-11-21 15:49:12,419 ACHTUNG: An empty Sentence was created! Are there empty strings in your dataset?\n",
      "2019-11-21 15:49:12,440 Ignore 1 sentence(s) with no tokens.\n"
     ]
    },
    {
     "name": "stderr",
     "output_type": "stream",
     "text": [
      " 98%|█████████▊| 17552/17957 [1:05:41<01:36,  4.21it/s]"
     ]
    },
    {
     "name": "stdout",
     "output_type": "stream",
     "text": [
      "2019-11-21 15:49:14,208 ACHTUNG: An empty Sentence was created! Are there empty strings in your dataset?\n",
      "2019-11-21 15:49:14,222 Ignore 1 sentence(s) with no tokens.\n"
     ]
    },
    {
     "name": "stderr",
     "output_type": "stream",
     "text": [
      " 98%|█████████▊| 17561/17957 [1:05:42<01:04,  6.16it/s]"
     ]
    },
    {
     "name": "stdout",
     "output_type": "stream",
     "text": [
      "2019-11-21 15:49:15,442 ACHTUNG: An empty Sentence was created! Are there empty strings in your dataset?\n",
      "2019-11-21 15:49:15,459 Ignore 1 sentence(s) with no tokens.\n"
     ]
    },
    {
     "name": "stderr",
     "output_type": "stream",
     "text": [
      " 98%|█████████▊| 17570/17957 [1:05:44<00:56,  6.86it/s]"
     ]
    },
    {
     "name": "stdout",
     "output_type": "stream",
     "text": [
      "2019-11-21 15:49:16,569 ACHTUNG: An empty Sentence was created! Are there empty strings in your dataset?\n",
      "2019-11-21 15:49:16,571 Ignore 1 sentence(s) with no tokens.\n"
     ]
    },
    {
     "name": "stderr",
     "output_type": "stream",
     "text": [
      " 98%|█████████▊| 17578/17957 [1:05:44<00:37,  9.98it/s]"
     ]
    },
    {
     "name": "stdout",
     "output_type": "stream",
     "text": [
      "2019-11-21 15:49:17,384 ACHTUNG: An empty Sentence was created! Are there empty strings in your dataset?\n",
      "2019-11-21 15:49:17,386 Ignore 1 sentence(s) with no tokens.\n"
     ]
    },
    {
     "name": "stderr",
     "output_type": "stream",
     "text": [
      " 98%|█████████▊| 17587/17957 [1:05:46<00:57,  6.49it/s]"
     ]
    },
    {
     "name": "stdout",
     "output_type": "stream",
     "text": [
      "2019-11-21 15:49:18,723 ACHTUNG: An empty Sentence was created! Are there empty strings in your dataset?\n",
      "2019-11-21 15:49:18,725 Ignore 1 sentence(s) with no tokens.\n"
     ]
    },
    {
     "name": "stderr",
     "output_type": "stream",
     "text": [
      " 98%|█████████▊| 17598/17957 [1:05:47<00:46,  7.73it/s]"
     ]
    },
    {
     "name": "stdout",
     "output_type": "stream",
     "text": [
      "2019-11-21 15:49:19,950 ACHTUNG: An empty Sentence was created! Are there empty strings in your dataset?\n",
      "2019-11-21 15:49:19,951 Ignore 1 sentence(s) with no tokens.\n",
      "2019-11-21 15:49:19,953 ACHTUNG: An empty Sentence was created! Are there empty strings in your dataset?\n",
      "2019-11-21 15:49:19,955 Ignore 1 sentence(s) with no tokens.\n",
      "2019-11-21 15:49:19,958 ACHTUNG: An empty Sentence was created! Are there empty strings in your dataset?\n",
      "2019-11-21 15:49:19,968 Ignore 1 sentence(s) with no tokens.\n",
      "2019-11-21 15:49:19,970 ACHTUNG: An empty Sentence was created! Are there empty strings in your dataset?\n",
      "2019-11-21 15:49:19,981 Ignore 1 sentence(s) with no tokens.\n",
      "2019-11-21 15:49:19,983 ACHTUNG: An empty Sentence was created! Are there empty strings in your dataset?\n",
      "2019-11-21 15:49:19,985 Ignore 1 sentence(s) with no tokens.\n",
      "2019-11-21 15:49:19,986 ACHTUNG: An empty Sentence was created! Are there empty strings in your dataset?\n",
      "2019-11-21 15:49:19,988 Ignore 1 sentence(s) with no tokens.\n",
      "2019-11-21 15:49:19,989 ACHTUNG: An empty Sentence was created! Are there empty strings in your dataset?\n",
      "2019-11-21 15:49:19,991 Ignore 1 sentence(s) with no tokens.\n",
      "2019-11-21 15:49:19,992 ACHTUNG: An empty Sentence was created! Are there empty strings in your dataset?\n",
      "2019-11-21 15:49:19,994 Ignore 1 sentence(s) with no tokens.\n"
     ]
    },
    {
     "name": "stderr",
     "output_type": "stream",
     "text": [
      " 98%|█████████▊| 17613/17957 [1:05:48<00:42,  8.07it/s]"
     ]
    },
    {
     "name": "stdout",
     "output_type": "stream",
     "text": [
      "2019-11-21 15:49:21,005 ACHTUNG: An empty Sentence was created! Are there empty strings in your dataset?\n",
      "2019-11-21 15:49:21,008 Ignore 1 sentence(s) with no tokens.\n"
     ]
    },
    {
     "name": "stderr",
     "output_type": "stream",
     "text": [
      " 99%|█████████▉| 17826/17957 [1:06:26<00:23,  5.50it/s]"
     ]
    },
    {
     "name": "stdout",
     "output_type": "stream",
     "text": [
      "2019-11-21 15:49:58,779 ACHTUNG: An empty Sentence was created! Are there empty strings in your dataset?\n",
      "2019-11-21 15:49:58,781 Ignore 1 sentence(s) with no tokens.\n",
      "2019-11-21 15:49:58,783 ACHTUNG: An empty Sentence was created! Are there empty strings in your dataset?\n",
      "2019-11-21 15:49:58,785 Ignore 1 sentence(s) with no tokens.\n",
      "2019-11-21 15:49:58,787 ACHTUNG: An empty Sentence was created! Are there empty strings in your dataset?\n",
      "2019-11-21 15:49:58,796 Ignore 1 sentence(s) with no tokens.\n",
      "2019-11-21 15:49:58,799 ACHTUNG: An empty Sentence was created! Are there empty strings in your dataset?\n",
      "2019-11-21 15:49:58,800 Ignore 1 sentence(s) with no tokens.\n",
      "2019-11-21 15:49:58,802 ACHTUNG: An empty Sentence was created! Are there empty strings in your dataset?\n",
      "2019-11-21 15:49:58,803 Ignore 1 sentence(s) with no tokens.\n"
     ]
    },
    {
     "name": "stderr",
     "output_type": "stream",
     "text": [
      " 99%|█████████▉| 17834/17957 [1:06:26<00:13,  8.92it/s]"
     ]
    },
    {
     "name": "stdout",
     "output_type": "stream",
     "text": [
      "2019-11-21 15:49:59,163 ACHTUNG: An empty Sentence was created! Are there empty strings in your dataset?\n",
      "2019-11-21 15:49:59,165 Ignore 1 sentence(s) with no tokens.\n"
     ]
    },
    {
     "name": "stderr",
     "output_type": "stream",
     "text": [
      " 99%|█████████▉| 17842/17957 [1:06:27<00:11,  9.66it/s]"
     ]
    },
    {
     "name": "stdout",
     "output_type": "stream",
     "text": [
      "2019-11-21 15:49:59,821 ACHTUNG: An empty Sentence was created! Are there empty strings in your dataset?\n",
      "2019-11-21 15:49:59,841 Ignore 1 sentence(s) with no tokens.\n"
     ]
    },
    {
     "name": "stderr",
     "output_type": "stream",
     "text": [
      "\r",
      " 99%|█████████▉| 17844/17957 [1:06:27<00:10, 11.12it/s]"
     ]
    },
    {
     "name": "stdout",
     "output_type": "stream",
     "text": [
      "2019-11-21 15:49:59,845 ACHTUNG: An empty Sentence was created! Are there empty strings in your dataset?\n",
      "2019-11-21 15:49:59,846 Ignore 1 sentence(s) with no tokens.\n",
      "2019-11-21 15:49:59,849 ACHTUNG: An empty Sentence was created! Are there empty strings in your dataset?\n",
      "2019-11-21 15:49:59,850 Ignore 1 sentence(s) with no tokens.\n",
      "2019-11-21 15:49:59,853 ACHTUNG: An empty Sentence was created! Are there empty strings in your dataset?\n",
      "2019-11-21 15:49:59,854 Ignore 1 sentence(s) with no tokens.\n",
      "2019-11-21 15:49:59,855 ACHTUNG: An empty Sentence was created! Are there empty strings in your dataset?\n",
      "2019-11-21 15:49:59,857 Ignore 1 sentence(s) with no tokens.\n"
     ]
    },
    {
     "name": "stderr",
     "output_type": "stream",
     "text": [
      " 99%|█████████▉| 17853/17957 [1:06:28<00:09, 10.65it/s]"
     ]
    },
    {
     "name": "stdout",
     "output_type": "stream",
     "text": [
      "2019-11-21 15:50:00,522 ACHTUNG: An empty Sentence was created! Are there empty strings in your dataset?\n",
      "2019-11-21 15:50:00,524 Ignore 1 sentence(s) with no tokens.\n"
     ]
    },
    {
     "name": "stderr",
     "output_type": "stream",
     "text": [
      " 99%|█████████▉| 17860/17957 [1:06:28<00:07, 12.21it/s]"
     ]
    },
    {
     "name": "stdout",
     "output_type": "stream",
     "text": [
      "2019-11-21 15:50:01,054 ACHTUNG: An empty Sentence was created! Are there empty strings in your dataset?\n",
      "2019-11-21 15:50:01,058 Ignore 1 sentence(s) with no tokens.\n",
      "2019-11-21 15:50:01,061 ACHTUNG: An empty Sentence was created! Are there empty strings in your dataset?\n",
      "2019-11-21 15:50:01,063 Ignore 1 sentence(s) with no tokens.\n",
      "2019-11-21 15:50:01,066 ACHTUNG: An empty Sentence was created! Are there empty strings in your dataset?\n",
      "2019-11-21 15:50:01,068 Ignore 1 sentence(s) with no tokens.\n",
      "2019-11-21 15:50:01,071 ACHTUNG: An empty Sentence was created! Are there empty strings in your dataset?\n",
      "2019-11-21 15:50:01,074 Ignore 1 sentence(s) with no tokens.\n",
      "2019-11-21 15:50:01,076 ACHTUNG: An empty Sentence was created! Are there empty strings in your dataset?\n",
      "2019-11-21 15:50:01,077 Ignore 1 sentence(s) with no tokens.\n"
     ]
    },
    {
     "name": "stderr",
     "output_type": "stream",
     "text": [
      "100%|█████████▉| 17869/17957 [1:06:29<00:07, 12.37it/s]"
     ]
    },
    {
     "name": "stdout",
     "output_type": "stream",
     "text": [
      "2019-11-21 15:50:01,618 ACHTUNG: An empty Sentence was created! Are there empty strings in your dataset?\n",
      "2019-11-21 15:50:01,621 Ignore 1 sentence(s) with no tokens.\n"
     ]
    },
    {
     "name": "stderr",
     "output_type": "stream",
     "text": [
      "100%|██████████| 17957/17957 [1:06:51<00:00,  4.48it/s]\n"
     ]
    }
   ],
   "source": [
    "####### disease ###################\n",
    "\n",
    "result_file_name = 'PCSE_public_DS_IOB.csv'\n",
    "\n",
    "with open(result_path + result_file_name, 'a', newline='\\n') as f1:\n",
    "    public_writer = csv.writer(f1, delimiter='\\t', lineterminator='\\n')\n",
    "\n",
    "    for index_, each_annotation in tqdm(test_df.iterrows(), total=test_df.shape[0]):\n",
    "        text_temp = each_annotation['sentence'].encode('utf-8').decode('utf-8')\n",
    "\n",
    "        sentence = ' '.join(wordpunct_tokenize(text_temp))\n",
    "        sentence = Sentence(sentence)\n",
    "        disease_model.predict(sentence)\n",
    "\n",
    "        for token in sentence:\n",
    "        # print what you need (text and NER value)\n",
    "            ner_value = token.get_tag('ner').value\n",
    "            if  ner_value == 'B-Disease':\n",
    "                ner_value = 'B-DS'\n",
    "                \n",
    "            if  ner_value == 'I-Disease':\n",
    "                ner_value = 'I-DS'   \n",
    "            \n",
    "            public_writer.writerow([token.text, ner_value])\n",
    "        public_writer.writerow('')"
   ]
  },
  {
   "cell_type": "code",
   "execution_count": 8,
   "metadata": {},
   "outputs": [],
   "source": [
    "import csv\n",
    "data_path = '/nfs/gns/literature/machine-learning/Datasets/NER_Datasets/NCBI-disease-IOB/test.tsv'\n",
    "targets = ['Disease']\n",
    "                \n",
    "def load_IOBdataset(data_path,targets):\n",
    "    \"\"\"\n",
    "    load the IOB dataset, which is in csv format\n",
    "    :param data_path: path to the csv file of IOB dataset\n",
    "    :type data_path: str\n",
    "    :param targets: a list of interest types\n",
    "    :type targets: List[str]\n",
    "    :return: list of labels of every sentence in dataset\n",
    "    :rtype: List[List[str\n",
    "    \"\"\"\n",
    "    X = []\n",
    "    y = []\n",
    "\n",
    "    X_sent = []\n",
    "    y_sent = []\n",
    "    with open(data_path, 'r') as f:\n",
    "        csv_reader = csv.reader(f, delimiter='\\t')\n",
    "        for line in csv_reader:\n",
    "            if line:\n",
    "                token, tag = line[0], line[-1]\n",
    "                X_sent.append(token)\n",
    "                if targets:\n",
    "                    if tag.split('-')[-1] in set(targets):\n",
    "                        y_sent.append(tag)\n",
    "                    else:\n",
    "                        y_sent.append('O')\n",
    "                else:\n",
    "                    y_sent.append(tag)\n",
    "            else:\n",
    "                # we reach the end of a sentence\n",
    "                if len(X_sent) > 0:\n",
    "                    X.append(' '.join(X_sent))\n",
    "                    y.append(y_sent)\n",
    "                X_sent = []\n",
    "                y_sent = []\n",
    "    return X, y\n",
    "\n",
    "NCBI_test,y = load_IOBdataset(data_path,targets)"
   ]
  },
  {
   "cell_type": "code",
   "execution_count": 9,
   "metadata": {},
   "outputs": [
    {
     "name": "stderr",
     "output_type": "stream",
     "text": [
      "100%|██████████| 939/939 [01:24<00:00, 11.08it/s]\n"
     ]
    }
   ],
   "source": [
    "result_path = '/nfs/gns/literature/machine-learning/Santosh/public_train_test/'\n",
    "result_file_name = 'NCBI_test_IOB.csv'\n",
    "\n",
    "from nltk.tokenize import wordpunct_tokenize, WordPunctTokenizer\n",
    "from tqdm import tqdm\n",
    "import csv\n",
    "import pandas as pd\n",
    "\n",
    "with open(result_path + result_file_name, 'a', newline='\\n') as f1:\n",
    "    public_writer = csv.writer(f1, delimiter='\\t', lineterminator='\\n')\n",
    "\n",
    "    for each_sentence in tqdm(NCBI_test):\n",
    "        text_temp = each_sentence\n",
    "\n",
    "#         sentence = ' '.join(text_temp.split(' '))\n",
    "        sentence = Sentence(text_temp)\n",
    "        disease_model.predict(sentence)\n",
    "\n",
    "        for token in sentence:\n",
    "        # print what you need (text and NER value)\n",
    "            ner_value = token.get_tag('ner').value\n",
    "#             if  ner_value == 'B-GP':\n",
    "#                 ner_value = 'B-GENE'\n",
    "                \n",
    "#             if  ner_value == 'I-GP':\n",
    "#                 ner_value = 'I-GENE'  \n",
    "            \n",
    "            public_writer.writerow([token.text, ner_value])\n",
    "        public_writer.writerow('')"
   ]
  }
 ],
 "metadata": {
  "kernelspec": {
   "display_name": "Python [conda env:scispacy]",
   "language": "python",
   "name": "conda-env-scispacy-py"
  },
  "language_info": {
   "codemirror_mode": {
    "name": "ipython",
    "version": 3
   },
   "file_extension": ".py",
   "mimetype": "text/x-python",
   "name": "python",
   "nbconvert_exporter": "python",
   "pygments_lexer": "ipython3",
   "version": "3.6.9"
  }
 },
 "nbformat": 4,
 "nbformat_minor": 2
}
