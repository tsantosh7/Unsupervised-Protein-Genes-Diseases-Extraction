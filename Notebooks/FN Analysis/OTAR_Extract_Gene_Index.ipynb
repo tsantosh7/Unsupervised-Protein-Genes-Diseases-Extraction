{
 "cells": [
  {
   "cell_type": "code",
   "execution_count": 68,
   "metadata": {},
   "outputs": [],
   "source": [
    "import json\n",
    "\n",
    "\n",
    "gene_index_path_json = '/nfs/gns/literature/Santosh_Tirunagari/OTAR_dumps/Gene_index/20.02.1-gene-data.json'"
   ]
  },
  {
   "cell_type": "code",
   "execution_count": 69,
   "metadata": {},
   "outputs": [],
   "source": [
    "data = []\n",
    "\n",
    "with open(gene_index_path_json) as f:\n",
    "    for line in f:\n",
    "        data.append(json.loads(line))\n"
   ]
  },
  {
   "cell_type": "code",
   "execution_count": 70,
   "metadata": {},
   "outputs": [],
   "source": [
    "def get_ground_variables(data_json):\n",
    "\n",
    "    #Grounding\n",
    "    try:\n",
    "        emsemble_gene_id = data_json['ensembl_gene_id']\n",
    "    except:\n",
    "        emsemble_gene_id = ''\n",
    "\n",
    "    try:    \n",
    "        uniprot_accessions = data_json['uniprot_accessions']\n",
    "    except:\n",
    "        uniprot_accessions = ''\n",
    "\n",
    "    try:    \n",
    "        uniprot_id = data_json['uniprot_id'] #['uniprot_id']\n",
    "    except:\n",
    "        uniprot_id = ''\n",
    "    \n",
    "\n",
    "    return uniprot_id, emsemble_gene_id, uniprot_accessions\n",
    "   "
   ]
  },
  {
   "cell_type": "code",
   "execution_count": 71,
   "metadata": {},
   "outputs": [],
   "source": [
    "def get_synonyms(data_json):\n",
    " \n",
    "    #Synonyms\n",
    "\n",
    "    input_ = data_json['_private']['suggestions']['input'] \n",
    "    output_ = data_json['_private']['suggestions']['output']\n",
    "    approved_name = data_json['approved_name']\n",
    "    approved_symbol = data_json['approved_symbol']\n",
    "    gene_name = data_json['_private']['suggestions']['payload']['gene_name']\n",
    "    gene_symbol = data_json['_private']['suggestions']['payload']['gene_symbol']\n",
    "\n",
    "\n",
    "    if type(output_) == list:\n",
    "        for each_output in output_:\n",
    "            input_.extend(each_output)\n",
    "    else:\n",
    "            input_.extend([output_])\n",
    "\n",
    "\n",
    "    if type(approved_name) == list:\n",
    "        for each_approved_name in approved_name:\n",
    "            input_.extend(each_approved_name)\n",
    "    else:\n",
    "            input_.extend([approved_name])\n",
    "\n",
    "\n",
    "    if type(approved_symbol) == list:\n",
    "        for each_approved_symbol in approved_symbol:\n",
    "            input_.extend(each_approved_symbol)\n",
    "    else:\n",
    "            input_.extend([approved_symbol])\n",
    "\n",
    "\n",
    "    if type(gene_name) == list:\n",
    "        for each_gene_name in gene_name:\n",
    "            input_.extend(each_gene_name)\n",
    "    else:\n",
    "            input_.extend([gene_name])\n",
    "\n",
    "\n",
    "    if type(gene_symbol) == list:\n",
    "        for each_gene_symbol in gene_symbol:\n",
    "            input_.extend(each_gene_symbol)\n",
    "    else:\n",
    "            input_.extend([gene_symbol])\n",
    "\n",
    "\n",
    "    synonyms = list(set(input_))\n",
    "    \n",
    "    return synonyms  "
   ]
  },
  {
   "cell_type": "code",
   "execution_count": 72,
   "metadata": {},
   "outputs": [
    {
     "name": "stderr",
     "output_type": "stream",
     "text": [
      "100%|██████████| 60564/60564 [00:00<00:00, 107116.66it/s]\n"
     ]
    }
   ],
   "source": [
    "synonyms_ground_json = []\n",
    "\n",
    "from tqdm import tqdm\n",
    "\n",
    "for each_json_line in tqdm(data):\n",
    "    temp_ = {}\n",
    "    temp_['uniprot_id'], temp_['emsemble_gene_id'], temp_['uniprot_accessions'] = get_ground_variables(each_json_line)\n",
    "    temp_['synonyms_data'] = get_synonyms(each_json_line)\n",
    "    \n",
    "    synonyms_ground_json.append(temp_)\n",
    "    \n"
   ]
  },
  {
   "cell_type": "code",
   "execution_count": 74,
   "metadata": {},
   "outputs": [],
   "source": [
    "result_path = '/nfs/gns/literature/machine-learning/Dictionaries/OTAR_gene_index/'\n",
    "\n",
    "with open(result_path+'synonyms_ground_'+gene_index_path_json.split('/')[-1],'w') as f:\n",
    "    json.dump(synonyms_ground_json,f)"
   ]
  },
  {
   "cell_type": "code",
   "execution_count": 75,
   "metadata": {},
   "outputs": [
    {
     "data": {
      "text/plain": [
       "'/nfs/gns/literature/machine-learning/Dictionaries/synonyms_ground20.02.1-gene-data.json'"
      ]
     },
     "execution_count": 75,
     "metadata": {},
     "output_type": "execute_result"
    }
   ],
   "source": [
    "result_path+'synonyms_ground_'+gene_index_path_json.split('/')[-1]"
   ]
  },
  {
   "cell_type": "code",
   "execution_count": 73,
   "metadata": {},
   "outputs": [
    {
     "data": {
      "text/plain": [
       "[{'uniprot_id': 'P00519',\n",
       "  'emsemble_gene_id': 'ENSG00000097007',\n",
       "  'uniprot_accessions': ['Q13869',\n",
       "   'Q45F09',\n",
       "   'A3KFJ3',\n",
       "   'Q16133',\n",
       "   'Q13870',\n",
       "   'P00519',\n",
       "   'Q17R61'],\n",
       "  'synonyms_data': ['abl proto-oncogene 1, non-receptor tyrosine kinase',\n",
       "   'q16133',\n",
       "   'proto-oncogene c-abl',\n",
       "   'q13869',\n",
       "   'nm_007313',\n",
       "   'c-abl',\n",
       "   'abl',\n",
       "   'q45f09',\n",
       "   'p150',\n",
       "   'ensg00000097007',\n",
       "   'abelson murine leukemia viral oncogene homolog 1',\n",
       "   'jtk7',\n",
       "   'abl1',\n",
       "   'q17r61',\n",
       "   'abelson tyrosine-protein kinase 1',\n",
       "   'p00519',\n",
       "   'ABL1',\n",
       "   'q13870',\n",
       "   '2.7.10.2',\n",
       "   'tyrosine-protein kinase abl1',\n",
       "   'ABL proto-oncogene 1, non-receptor tyrosine kinase',\n",
       "   '25',\n",
       "   'a3kfj3']},\n",
       " {'uniprot_id': 'Q13085',\n",
       "  'emsemble_gene_id': 'ENSG00000278540',\n",
       "  'uniprot_accessions': ['Q7Z2G8',\n",
       "   'Q86WB3',\n",
       "   'Q6XDA8',\n",
       "   'Q7Z563',\n",
       "   'Q7Z561',\n",
       "   'B2RP68',\n",
       "   'Q7Z564',\n",
       "   'Q86WB2',\n",
       "   'Q6KEV6',\n",
       "   'Q13085',\n",
       "   'B2ZZ90'],\n",
       "  'synonyms_data': ['ensg00000278540',\n",
       "   'q7z563',\n",
       "   'q86wb2',\n",
       "   'q7z564',\n",
       "   'acc-alpha',\n",
       "   'q6kev6',\n",
       "   'b2zz90',\n",
       "   'q7z2g8',\n",
       "   'q86wb3',\n",
       "   '6.4.1.2',\n",
       "   'acac',\n",
       "   'ACACA',\n",
       "   'nm_198836',\n",
       "   'acetyl-coa carboxylase 1',\n",
       "   'acetyl-CoA carboxylase alpha',\n",
       "   'b2rp68',\n",
       "   'acaca',\n",
       "   '31',\n",
       "   'q7z561',\n",
       "   'acetyl-coa carboxylase alpha',\n",
       "   'acc1',\n",
       "   'acetyl-coenzyme a carboxylase alpha',\n",
       "   'q6xda8',\n",
       "   'acca',\n",
       "   'q13085']}]"
      ]
     },
     "execution_count": 73,
     "metadata": {},
     "output_type": "execute_result"
    }
   ],
   "source": [
    "synonyms_ground_json[0:2]"
   ]
  }
 ],
 "metadata": {
  "kernelspec": {
   "display_name": "scispcacy",
   "language": "python",
   "name": "scispcacy"
  },
  "language_info": {
   "codemirror_mode": {
    "name": "ipython",
    "version": 3
   },
   "file_extension": ".py",
   "mimetype": "text/x-python",
   "name": "python",
   "nbconvert_exporter": "python",
   "pygments_lexer": "ipython3",
   "version": "3.6.9"
  }
 },
 "nbformat": 4,
 "nbformat_minor": 2
}
