{
 "cells": [
  {
   "cell_type": "code",
   "execution_count": 19,
   "metadata": {},
   "outputs": [],
   "source": [
    "testPMCids = ['PMC:3097211',\n",
    "'PMC:3115949',\n",
    "'PMC:3189878',\n",
    "'PMC:3281816',\n",
    "'PMC:3304128',\n",
    "'PMC:3402998',\n",
    "'PMC:3534334',\n",
    "'PMC:3581133',\n",
    "'PMC:3585192',\n",
    "'PMC:3648400',\n",
    "'PMC:3829848',\n",
    "'PMC:3892176',\n",
    "'PMC:3897916',\n",
    "'PMC:3899050',\n",
    "'PMC:4237798',\n",
    "'PMC:4311248',\n",
    "'PMC:4349710',\n",
    "'PMC:4465466',\n",
    "'PMC:4792959',\n",
    "'PMC:4794213',\n",
    "'PMC:4808240',\n",
    "'PMC:4872455',\n",
    "'PMC:4931053',\n",
    "'PMC:4944956',\n",
    "'PMC:4978644',\n",
    "'PMC:4991502',\n",
    "'PMC:5078810',\n",
    "'PMC:5087830',\n",
    "'PMC:5100220',\n",
    "'PMC:5134075',\n",
    "'PMC:5297700',\n",
    "'PMC:5306324',\n",
    "'PMC:5315555',\n",
    "'PMC:5350351',\n",
    "'PMC:5356474',\n",
    "'PMC:5486778',\n",
    "'PMC:5521126',\n",
    "'PMC:5528876',\n",
    "'PMC:5567653',\n",
    "'PMC:5666160',\n",
    "'PMC:5730077',\n",
    "'PMC:5889178',\n",
    "'PMC:5891899',\n",
    "'PMC:5982820',\n",
    "'PMC:6032655']"
   ]
  },
  {
   "cell_type": "code",
   "execution_count": 20,
   "metadata": {},
   "outputs": [
    {
     "data": {
      "text/plain": [
       "['PMC4792959',\n",
       " 'PMC4556948',\n",
       " 'PMC5993813',\n",
       " 'PMC3174205',\n",
       " 'PMC5962829',\n",
       " 'PMC3874094',\n",
       " 'PMC3792120',\n",
       " 'PMC4901335',\n",
       " 'PMC3581133',\n",
       " 'PMC2935479',\n",
       " 'PMC5225553',\n",
       " 'PMC5744400',\n",
       " 'PMC3281816',\n",
       " 'PMC3583137',\n",
       " 'PMC4022742',\n",
       " 'PMC3542345',\n",
       " 'PMC4452330',\n",
       " 'PMC4464872',\n",
       " 'PMC4872455',\n",
       " 'PMC3651197',\n",
       " 'PMC3362782',\n",
       " 'PMC5817132',\n",
       " 'PMC4313693',\n",
       " 'PMC4489904',\n",
       " 'PMC4552872',\n",
       " 'PMC5376652',\n",
       " 'PMC5070310',\n",
       " 'PMC5921292',\n",
       " 'PMC5641157',\n",
       " 'PMC3751948',\n",
       " 'PMC5472290',\n",
       " 'PMC4649626',\n",
       " 'PMC5502978',\n",
       " 'PMC4767726',\n",
       " 'PMC3897916',\n",
       " 'PMC5087830',\n",
       " 'PMC3585192',\n",
       " 'PMC5484670',\n",
       " 'PMC5259676',\n",
       " 'PMC3024232',\n",
       " 'PMC3097211',\n",
       " 'PMC5317055',\n",
       " 'PMC3648400',\n",
       " 'PMC5750880',\n",
       " 'PMC5100220',\n",
       " 'PMC4749753',\n",
       " 'PMC5344356',\n",
       " 'PMC5110973',\n",
       " 'PMC5708618',\n",
       " 'PMC3598673',\n",
       " 'PMC3751959',\n",
       " 'PMC5131611',\n",
       " 'PMC5891595',\n",
       " 'PMC3950279',\n",
       " 'PMC5972578',\n",
       " 'PMC5082793',\n",
       " 'PMC5487420',\n",
       " 'PMC5106849',\n",
       " 'PMC3858553',\n",
       " 'PMC3613406',\n",
       " 'PMC4167147',\n",
       " 'PMC3599585',\n",
       " 'PMC2761781',\n",
       " 'PMC3899050',\n",
       " 'PMC2481430',\n",
       " 'PMC5006041',\n",
       " 'PMC4790888',\n",
       " 'PMC3892176',\n",
       " 'PMC5126123',\n",
       " 'PMC4743178',\n",
       " 'PMC3322675',\n",
       " 'PMC3938772',\n",
       " 'PMC5832847',\n",
       " 'PMC4067685',\n",
       " 'PMC5260044',\n",
       " 'PMC3972685',\n",
       " 'PMC5982820',\n",
       " 'PMC4618948',\n",
       " 'PMC4831690',\n",
       " 'PMC4753424',\n",
       " 'PMC4340678',\n",
       " 'PMC2757916',\n",
       " 'PMC3439437',\n",
       " 'PMC3233425',\n",
       " 'PMC4603952',\n",
       " 'PMC4128218',\n",
       " 'PMC4940692',\n",
       " 'PMC6083812',\n",
       " 'PMC3304128',\n",
       " 'PMC4276928',\n",
       " 'PMC5395742',\n",
       " 'PMC3800775',\n",
       " 'PMC5703515',\n",
       " 'PMC3388477',\n",
       " 'PMC2474741',\n",
       " 'PMC2268669',\n",
       " 'PMC5350351',\n",
       " 'PMC5979449',\n",
       " 'PMC4531540',\n",
       " 'PMC4056076',\n",
       " 'PMC4554469',\n",
       " 'PMC3125229',\n",
       " 'PMC4189602',\n",
       " 'PMC4627615',\n",
       " 'PMC4921679',\n",
       " 'PMC5785827',\n",
       " 'PMC6069148',\n",
       " 'PMC4607270',\n",
       " 'PMC5521126',\n",
       " 'PMC5666160',\n",
       " 'PMC4978644',\n",
       " 'PMC5278426',\n",
       " 'PMC1762380',\n",
       " 'PMC4764649',\n",
       " 'PMC2424173',\n",
       " 'PMC4789058',\n",
       " 'PMC5891899',\n",
       " 'PMC2644373',\n",
       " 'PMC4931053',\n",
       " 'PMC5120353',\n",
       " 'PMC3867463',\n",
       " 'PMC5530572',\n",
       " 'PMC4540425',\n",
       " 'PMC3260253',\n",
       " 'PMC3189878',\n",
       " 'PMC3306317',\n",
       " 'PMC4263299',\n",
       " 'PMC5468280',\n",
       " 'PMC4465466',\n",
       " 'PMC5141432',\n",
       " 'PMC2720973',\n",
       " 'PMC5889178',\n",
       " 'PMC4349710',\n",
       " 'PMC3960246',\n",
       " 'PMC6037156',\n",
       " 'PMC5298922',\n",
       " 'PMC4494930',\n",
       " 'PMC3829848',\n",
       " 'PMC4954838',\n",
       " 'PMC4200311',\n",
       " 'PMC5315555',\n",
       " 'PMC5607173',\n",
       " 'PMC5730077',\n",
       " 'PMC5462789',\n",
       " 'PMC4109790',\n",
       " 'PMC5637056',\n",
       " 'PMC3291930',\n",
       " 'PMC5999171',\n",
       " 'PMC5920331',\n",
       " 'PMC5362908',\n",
       " 'PMC4816555',\n",
       " 'PMC4768280',\n",
       " 'PMC3494018',\n",
       " 'PMC5462825',\n",
       " 'PMC5706499',\n",
       " 'PMC4574349',\n",
       " 'PMC4320556',\n",
       " 'PMC3478264',\n",
       " 'PMC4405200',\n",
       " 'PMC5619751',\n",
       " 'PMC3020944',\n",
       " 'PMC5486778',\n",
       " 'PMC5356474',\n",
       " 'PMC5009309',\n",
       " 'PMC4359122',\n",
       " 'PMC4128749',\n",
       " 'PMC5134075',\n",
       " 'PMC5286694',\n",
       " 'PMC3228540',\n",
       " 'PMC5241644',\n",
       " 'PMC4899918',\n",
       " 'PMC2731044',\n",
       " 'PMC4302291',\n",
       " 'PMC3836741',\n",
       " 'PMC4414469',\n",
       " 'PMC5680628',\n",
       " 'PMC4794213',\n",
       " 'PMC4237798',\n",
       " 'PMC3895799',\n",
       " 'PMC4051664',\n",
       " 'PMC5302783',\n",
       " 'PMC2936521',\n",
       " 'PMC4923249',\n",
       " 'PMC5249225',\n",
       " 'PMC4871916',\n",
       " 'PMC4384350',\n",
       " 'PMC5528876',\n",
       " 'PMC4944956',\n",
       " 'PMC5770482',\n",
       " 'PMC3981893',\n",
       " 'PMC5779698',\n",
       " 'PMC4090160',\n",
       " 'PMC6069223',\n",
       " 'PMC5306324',\n",
       " 'PMC4417603',\n",
       " 'PMC3365900',\n",
       " 'PMC4262987',\n",
       " 'PMC4841026',\n",
       " 'PMC3502096',\n",
       " 'PMC4973533',\n",
       " 'PMC5244658',\n",
       " 'PMC3119053',\n",
       " 'PMC4766309',\n",
       " 'PMC5685608',\n",
       " 'PMC1971115',\n",
       " 'PMC5367487',\n",
       " 'PMC5617383',\n",
       " 'PMC3543396',\n",
       " 'PMC4294342',\n",
       " 'PMC3534334',\n",
       " 'PMC4964887',\n",
       " 'PMC6035403',\n",
       " 'PMC4912736',\n",
       " 'PMC3035578',\n",
       " 'PMC5004205',\n",
       " 'PMC4156656',\n",
       " 'PMC2233677',\n",
       " 'PMC4200867',\n",
       " 'PMC4914568',\n",
       " 'PMC2904378',\n",
       " 'PMC5216082',\n",
       " 'PMC3787392',\n",
       " 'PMC6023005',\n",
       " 'PMC3949526',\n",
       " 'PMC3435272',\n",
       " 'PMC3031208',\n",
       " 'PMC4892805',\n",
       " 'PMC5369143',\n",
       " 'PMC4906686',\n",
       " 'PMC3316545',\n",
       " 'PMC4051163',\n",
       " 'PMC4010498',\n",
       " 'PMC5227166',\n",
       " 'PMC3061204',\n",
       " 'PMC2386054',\n",
       " 'PMC3584731',\n",
       " 'PMC5426787',\n",
       " 'PMC5722940',\n",
       " 'PMC4462005',\n",
       " 'PMC3692464',\n",
       " 'PMC3836913',\n",
       " 'PMC4162557',\n",
       " 'PMC4542470',\n",
       " 'PMC5731848',\n",
       " 'PMC5026174',\n",
       " 'PMC6008929',\n",
       " 'PMC5959848',\n",
       " 'PMC2946298',\n",
       " 'PMC4499843',\n",
       " 'PMC5890137',\n",
       " 'PMC4352028',\n",
       " 'PMC4951087',\n",
       " 'PMC2987983',\n",
       " 'PMC3402998',\n",
       " 'PMC3115949',\n",
       " 'PMC4589515',\n",
       " 'PMC5510223',\n",
       " 'PMC2727484',\n",
       " 'PMC3464611',\n",
       " 'PMC4441378',\n",
       " 'PMC2478677',\n",
       " 'PMC2806293',\n",
       " 'PMC4647564',\n",
       " 'PMC4866616',\n",
       " 'PMC5530482',\n",
       " 'PMC2664782',\n",
       " 'PMC5816796',\n",
       " 'PMC3844564',\n",
       " 'PMC5770383',\n",
       " 'PMC5567653',\n",
       " 'PMC4697806',\n",
       " 'PMC5457019',\n",
       " 'PMC5297700',\n",
       " 'PMC4683867',\n",
       " 'PMC4244103',\n",
       " 'PMC2639708',\n",
       " 'PMC4791522',\n",
       " 'PMC5307887',\n",
       " 'PMC4311248',\n",
       " 'PMC4658497',\n",
       " 'PMC3611597',\n",
       " 'PMC1187897',\n",
       " 'PMC4991502',\n",
       " 'PMC3231843',\n",
       " 'PMC3859478',\n",
       " 'PMC5723443',\n",
       " 'PMC5217317',\n",
       " 'PMC6032655',\n",
       " 'PMC3029330',\n",
       " 'PMC4306119',\n",
       " 'PMC2443369',\n",
       " 'PMC4971634',\n",
       " 'PMC2895614',\n",
       " 'PMC4780767',\n",
       " 'PMC5078810',\n",
       " 'PMC4947190',\n",
       " 'PMC4976205',\n",
       " 'PMC2292144',\n",
       " 'PMC4808240',\n",
       " 'PMC3458065']"
      ]
     },
     "execution_count": 20,
     "metadata": {},
     "output_type": "execute_result"
    }
   ],
   "source": [
    "import glob\n",
    "\n",
    "files = glob.glob('/nfs/gns/literature/machine-learning/cleaned_dataset/sentencised_xml_full/*.xml')\n",
    "\n",
    "all_files =[]\n",
    "\n",
    "for each_file in files:\n",
    "    all_files.append(each_file.split('/')[-1][:10])\n",
    "    \n",
    "all_files    "
   ]
  },
  {
   "cell_type": "code",
   "execution_count": 21,
   "metadata": {},
   "outputs": [],
   "source": [
    "# 'https://www.ebi.ac.uk/europepmc/annotations_api/annotationsByArticleIds?articleIds=PMC%3A3097211&type=Clinical%20Drug&provider=OntoGene&format=JSON'"
   ]
  },
  {
   "cell_type": "code",
   "execution_count": 22,
   "metadata": {},
   "outputs": [],
   "source": [
    "def get_Json_through_PMCID(pmcid):\n",
    "    \n",
    "    base_url = \"https://www.ebi.ac.uk/europepmc/annotations_api/\"\n",
    "    article_url = urljoin(base_url, \"annotationsByArticleIds?articleIds=PMC%3A\"+pmcid+\"&type=Clinical%20Drug&provider=OntoGene&format=JSON\")\n",
    "    r = requests.get(article_url)\n",
    "    \n",
    "    if r.status_code == 200:\n",
    "        return r\n",
    "    else:\n",
    "        return False\n",
    "    "
   ]
  },
  {
   "cell_type": "code",
   "execution_count": 24,
   "metadata": {},
   "outputs": [
    {
     "name": "stderr",
     "output_type": "stream",
     "text": [
      "  1%|          | 2/300 [00:00<00:26, 11.32it/s]"
     ]
    },
    {
     "name": "stdout",
     "output_type": "stream",
     "text": [
      "PMC4792959\n",
      "PMC4556948\n",
      "PMC5993813\n"
     ]
    },
    {
     "name": "stderr",
     "output_type": "stream",
     "text": [
      "  2%|▏         | 6/300 [00:00<00:21, 13.56it/s]"
     ]
    },
    {
     "name": "stdout",
     "output_type": "stream",
     "text": [
      "PMC3174205\n",
      "PMC5962829\n",
      "PMC3874094\n",
      "PMC3792120\n"
     ]
    },
    {
     "name": "stderr",
     "output_type": "stream",
     "text": [
      "  4%|▍         | 12/300 [00:00<00:17, 16.63it/s]"
     ]
    },
    {
     "name": "stdout",
     "output_type": "stream",
     "text": [
      "PMC4901335\n",
      "PMC3581133\n",
      "PMC2935479\n",
      "PMC5225553\n",
      "PMC5744400\n"
     ]
    },
    {
     "name": "stderr",
     "output_type": "stream",
     "text": [
      "\r",
      "  5%|▍         | 14/300 [00:01<00:25, 11.44it/s]"
     ]
    },
    {
     "name": "stdout",
     "output_type": "stream",
     "text": [
      "PMC3281816\n",
      "PMC3583137\n",
      "PMC4022742\n"
     ]
    },
    {
     "name": "stderr",
     "output_type": "stream",
     "text": [
      "  6%|▋         | 19/300 [00:01<00:24, 11.68it/s]"
     ]
    },
    {
     "name": "stdout",
     "output_type": "stream",
     "text": [
      "PMC3542345\n",
      "PMC4452330\n",
      "PMC4464872\n",
      "PMC4872455\n"
     ]
    },
    {
     "name": "stderr",
     "output_type": "stream",
     "text": [
      "  8%|▊         | 24/300 [00:01<00:20, 13.78it/s]"
     ]
    },
    {
     "name": "stdout",
     "output_type": "stream",
     "text": [
      "PMC3651197\n",
      "PMC3362782\n",
      "PMC5817132\n",
      "PMC4313693\n",
      "PMC4489904\n",
      "PMC4552872\n"
     ]
    },
    {
     "name": "stderr",
     "output_type": "stream",
     "text": [
      " 10%|█         | 30/300 [00:02<00:20, 13.47it/s]"
     ]
    },
    {
     "name": "stdout",
     "output_type": "stream",
     "text": [
      "PMC5376652\n",
      "PMC5070310\n",
      "PMC5921292\n",
      "PMC5641157\n",
      "PMC3751948\n",
      "PMC5472290\n"
     ]
    },
    {
     "name": "stderr",
     "output_type": "stream",
     "text": [
      " 11%|█▏        | 34/300 [00:02<00:17, 15.30it/s]"
     ]
    },
    {
     "name": "stdout",
     "output_type": "stream",
     "text": [
      "PMC4649626\n",
      "PMC5502978\n",
      "PMC4767726\n",
      "PMC3897916\n"
     ]
    },
    {
     "name": "stderr",
     "output_type": "stream",
     "text": [
      " 13%|█▎        | 39/300 [00:02<00:15, 17.03it/s]"
     ]
    },
    {
     "name": "stdout",
     "output_type": "stream",
     "text": [
      "PMC5087830\n",
      "PMC3585192\n",
      "PMC5484670\n",
      "PMC5259676\n"
     ]
    },
    {
     "name": "stderr",
     "output_type": "stream",
     "text": [
      "\r",
      " 14%|█▎        | 41/300 [00:02<00:20, 12.63it/s]"
     ]
    },
    {
     "name": "stdout",
     "output_type": "stream",
     "text": [
      "PMC3024232\n",
      "PMC3097211\n",
      "PMC5317055\n",
      "PMC3648400\n"
     ]
    },
    {
     "name": "stderr",
     "output_type": "stream",
     "text": [
      " 16%|█▌        | 47/300 [00:03<00:18, 13.98it/s]"
     ]
    },
    {
     "name": "stdout",
     "output_type": "stream",
     "text": [
      "PMC5750880\n",
      "PMC5100220\n",
      "PMC4749753\n",
      "PMC5344356\n"
     ]
    },
    {
     "name": "stderr",
     "output_type": "stream",
     "text": [
      "\r",
      " 16%|█▋        | 49/300 [00:03<00:19, 13.15it/s]"
     ]
    },
    {
     "name": "stdout",
     "output_type": "stream",
     "text": [
      "PMC5110973\n",
      "PMC5708618\n",
      "PMC3598673\n"
     ]
    },
    {
     "name": "stderr",
     "output_type": "stream",
     "text": [
      "\r",
      " 17%|█▋        | 51/300 [00:03<00:19, 12.57it/s]"
     ]
    },
    {
     "name": "stdout",
     "output_type": "stream",
     "text": [
      "PMC3751959\n",
      "PMC5131611\n",
      "PMC5891595\n"
     ]
    },
    {
     "name": "stderr",
     "output_type": "stream",
     "text": [
      "\r",
      " 18%|█▊        | 54/300 [00:03<00:19, 12.91it/s]"
     ]
    },
    {
     "name": "stdout",
     "output_type": "stream",
     "text": [
      "PMC3950279\n",
      "PMC5972578\n"
     ]
    },
    {
     "name": "stderr",
     "output_type": "stream",
     "text": [
      " 19%|█▉        | 58/300 [00:04<00:22, 10.89it/s]"
     ]
    },
    {
     "name": "stdout",
     "output_type": "stream",
     "text": [
      "PMC5082793\n",
      "PMC5487420\n",
      "PMC5106849\n"
     ]
    },
    {
     "name": "stderr",
     "output_type": "stream",
     "text": [
      "\r",
      " 20%|██        | 60/300 [00:04<00:21, 11.15it/s]"
     ]
    },
    {
     "name": "stdout",
     "output_type": "stream",
     "text": [
      "PMC3858553\n",
      "PMC3613406\n",
      "PMC4167147\n"
     ]
    },
    {
     "name": "stderr",
     "output_type": "stream",
     "text": [
      " 21%|██▏       | 64/300 [00:04<00:21, 11.02it/s]"
     ]
    },
    {
     "name": "stdout",
     "output_type": "stream",
     "text": [
      "PMC3599585\n",
      "PMC2761781\n",
      "PMC3899050\n"
     ]
    },
    {
     "name": "stderr",
     "output_type": "stream",
     "text": [
      "\r",
      " 22%|██▏       | 66/300 [00:04<00:20, 11.58it/s]"
     ]
    },
    {
     "name": "stdout",
     "output_type": "stream",
     "text": [
      "PMC2481430\n",
      "PMC5006041\n",
      "PMC4790888\n",
      "PMC3892176\n"
     ]
    },
    {
     "name": "stderr",
     "output_type": "stream",
     "text": [
      " 24%|██▍       | 72/300 [00:05<00:15, 15.07it/s]"
     ]
    },
    {
     "name": "stdout",
     "output_type": "stream",
     "text": [
      "PMC5126123\n",
      "PMC4743178\n",
      "PMC3322675\n",
      "PMC3938772\n",
      "PMC5832847\n"
     ]
    },
    {
     "name": "stderr",
     "output_type": "stream",
     "text": [
      " 26%|██▌       | 78/300 [00:05<00:11, 19.28it/s]"
     ]
    },
    {
     "name": "stdout",
     "output_type": "stream",
     "text": [
      "PMC4067685\n",
      "PMC5260044\n",
      "PMC3972685\n",
      "PMC5982820\n",
      "PMC4618948\n"
     ]
    },
    {
     "name": "stderr",
     "output_type": "stream",
     "text": [
      "\r",
      " 27%|██▋       | 81/300 [00:05<00:13, 16.06it/s]"
     ]
    },
    {
     "name": "stdout",
     "output_type": "stream",
     "text": [
      "PMC4831690\n",
      "PMC4753424\n",
      "PMC4340678\n",
      "PMC2757916\n"
     ]
    },
    {
     "name": "stderr",
     "output_type": "stream",
     "text": [
      "\r",
      " 28%|██▊       | 83/300 [00:05<00:13, 16.34it/s]"
     ]
    },
    {
     "name": "stdout",
     "output_type": "stream",
     "text": [
      "PMC3439437\n",
      "PMC3233425\n"
     ]
    },
    {
     "name": "stderr",
     "output_type": "stream",
     "text": [
      " 29%|██▉       | 88/300 [00:06<00:14, 14.27it/s]"
     ]
    },
    {
     "name": "stdout",
     "output_type": "stream",
     "text": [
      "PMC4603952\n",
      "PMC4128218\n",
      "PMC4940692\n",
      "PMC6083812\n"
     ]
    },
    {
     "name": "stderr",
     "output_type": "stream",
     "text": [
      "\r",
      " 30%|███       | 90/300 [00:06<00:13, 15.52it/s]"
     ]
    },
    {
     "name": "stdout",
     "output_type": "stream",
     "text": [
      "PMC3304128\n",
      "PMC4276928\n"
     ]
    },
    {
     "name": "stderr",
     "output_type": "stream",
     "text": [
      " 31%|███▏      | 94/300 [00:06<00:14, 14.52it/s]"
     ]
    },
    {
     "name": "stdout",
     "output_type": "stream",
     "text": [
      "PMC5395742\n",
      "PMC3800775\n",
      "PMC5703515\n",
      "PMC3388477\n"
     ]
    },
    {
     "name": "stderr",
     "output_type": "stream",
     "text": [
      " 33%|███▎      | 99/300 [00:06<00:11, 17.53it/s]"
     ]
    },
    {
     "name": "stdout",
     "output_type": "stream",
     "text": [
      "PMC2474741\n",
      "PMC2268669\n",
      "PMC5350351\n",
      "PMC5979449\n",
      "PMC4531540\n",
      "PMC4056076\n"
     ]
    },
    {
     "name": "stderr",
     "output_type": "stream",
     "text": [
      " 35%|███▌      | 105/300 [00:07<00:10, 17.83it/s]"
     ]
    },
    {
     "name": "stdout",
     "output_type": "stream",
     "text": [
      "PMC4554469\n",
      "PMC3125229\n",
      "PMC4189602\n",
      "PMC4627615\n",
      "PMC4921679\n"
     ]
    },
    {
     "name": "stderr",
     "output_type": "stream",
     "text": [
      "\r",
      " 36%|███▌      | 107/300 [00:07<00:12, 15.11it/s]"
     ]
    },
    {
     "name": "stdout",
     "output_type": "stream",
     "text": [
      "PMC5785827\n",
      "PMC6069148\n",
      "PMC4607270\n",
      "PMC5521126\n"
     ]
    },
    {
     "name": "stderr",
     "output_type": "stream",
     "text": [
      " 38%|███▊      | 113/300 [00:07<00:10, 17.78it/s]"
     ]
    },
    {
     "name": "stdout",
     "output_type": "stream",
     "text": [
      "PMC5666160\n",
      "PMC4978644\n",
      "PMC5278426\n",
      "PMC1762380\n",
      "PMC4764649\n"
     ]
    },
    {
     "name": "stderr",
     "output_type": "stream",
     "text": [
      "\r",
      " 39%|███▊      | 116/300 [00:07<00:10, 17.11it/s]"
     ]
    },
    {
     "name": "stdout",
     "output_type": "stream",
     "text": [
      "PMC2424173\n",
      "PMC4789058\n"
     ]
    },
    {
     "name": "stderr",
     "output_type": "stream",
     "text": [
      "\r",
      " 39%|███▉      | 118/300 [00:08<00:12, 14.31it/s]"
     ]
    },
    {
     "name": "stdout",
     "output_type": "stream",
     "text": [
      "PMC5891899\n",
      "PMC2644373\n",
      "PMC4931053\n"
     ]
    },
    {
     "name": "stderr",
     "output_type": "stream",
     "text": [
      " 41%|████▏     | 124/300 [00:08<00:11, 15.18it/s]"
     ]
    },
    {
     "name": "stdout",
     "output_type": "stream",
     "text": [
      "PMC5120353\n",
      "PMC3867463\n",
      "PMC5530572\n",
      "PMC4540425\n",
      "PMC3260253\n"
     ]
    },
    {
     "name": "stderr",
     "output_type": "stream",
     "text": [
      "\r",
      " 42%|████▏     | 127/300 [00:08<00:12, 13.76it/s]"
     ]
    },
    {
     "name": "stdout",
     "output_type": "stream",
     "text": [
      "PMC3189878\n",
      "PMC3306317\n",
      "PMC4263299\n"
     ]
    },
    {
     "name": "stderr",
     "output_type": "stream",
     "text": [
      "\r",
      " 43%|████▎     | 129/300 [00:08<00:12, 13.20it/s]"
     ]
    },
    {
     "name": "stdout",
     "output_type": "stream",
     "text": [
      "PMC5468280\n",
      "PMC4465466\n",
      "PMC5141432\n",
      "PMC2720973\n"
     ]
    },
    {
     "name": "stderr",
     "output_type": "stream",
     "text": [
      " 45%|████▌     | 135/300 [00:09<00:09, 16.86it/s]"
     ]
    },
    {
     "name": "stdout",
     "output_type": "stream",
     "text": [
      "PMC5889178\n",
      "PMC4349710\n",
      "PMC3960246\n",
      "PMC6037156\n",
      "PMC5298922\n"
     ]
    },
    {
     "name": "stderr",
     "output_type": "stream",
     "text": [
      " 47%|████▋     | 140/300 [00:09<00:10, 15.47it/s]"
     ]
    },
    {
     "name": "stdout",
     "output_type": "stream",
     "text": [
      "PMC4494930\n",
      "PMC3829848\n",
      "PMC4954838\n",
      "PMC4200311\n",
      "PMC5315555\n"
     ]
    },
    {
     "name": "stderr",
     "output_type": "stream",
     "text": [
      "\r",
      " 48%|████▊     | 143/300 [00:09<00:09, 16.16it/s]"
     ]
    },
    {
     "name": "stdout",
     "output_type": "stream",
     "text": [
      "PMC5607173\n",
      "PMC5730077\n",
      "PMC5462789\n",
      "PMC4109790\n"
     ]
    },
    {
     "name": "stderr",
     "output_type": "stream",
     "text": [
      " 50%|████▉     | 149/300 [00:09<00:07, 19.86it/s]"
     ]
    },
    {
     "name": "stdout",
     "output_type": "stream",
     "text": [
      "PMC5637056\n",
      "PMC3291930\n",
      "PMC5999171\n",
      "PMC5920331\n",
      "PMC5362908\n"
     ]
    },
    {
     "name": "stderr",
     "output_type": "stream",
     "text": [
      "\r",
      " 51%|█████     | 152/300 [00:10<00:08, 18.46it/s]"
     ]
    },
    {
     "name": "stdout",
     "output_type": "stream",
     "text": [
      "PMC4816555\n",
      "PMC4768280\n",
      "PMC3494018\n",
      "PMC5462825\n"
     ]
    },
    {
     "name": "stderr",
     "output_type": "stream",
     "text": [
      " 53%|█████▎    | 158/300 [00:10<00:09, 15.19it/s]"
     ]
    },
    {
     "name": "stdout",
     "output_type": "stream",
     "text": [
      "PMC5706499\n",
      "PMC4574349\n",
      "PMC4320556\n",
      "PMC3478264\n"
     ]
    },
    {
     "name": "stderr",
     "output_type": "stream",
     "text": [
      "\r",
      " 53%|█████▎    | 160/300 [00:10<00:12, 10.84it/s]"
     ]
    },
    {
     "name": "stdout",
     "output_type": "stream",
     "text": [
      "PMC4405200\n",
      "PMC5619751\n"
     ]
    },
    {
     "name": "stderr",
     "output_type": "stream",
     "text": [
      "\r",
      " 54%|█████▍    | 162/300 [00:11<00:12, 10.69it/s]"
     ]
    },
    {
     "name": "stdout",
     "output_type": "stream",
     "text": [
      "PMC3020944\n",
      "PMC5486778\n",
      "PMC5356474\n"
     ]
    },
    {
     "name": "stderr",
     "output_type": "stream",
     "text": [
      " 55%|█████▌    | 166/300 [00:11<00:14,  9.57it/s]"
     ]
    },
    {
     "name": "stdout",
     "output_type": "stream",
     "text": [
      "PMC5009309\n",
      "PMC4359122\n",
      "PMC4128749\n"
     ]
    },
    {
     "name": "stderr",
     "output_type": "stream",
     "text": [
      "\r",
      " 56%|█████▌    | 168/300 [00:11<00:13,  9.45it/s]"
     ]
    },
    {
     "name": "stdout",
     "output_type": "stream",
     "text": [
      "PMC5134075\n",
      "PMC5286694\n",
      "PMC3228540\n"
     ]
    },
    {
     "name": "stderr",
     "output_type": "stream",
     "text": [
      " 58%|█████▊    | 173/300 [00:11<00:10, 11.89it/s]"
     ]
    },
    {
     "name": "stdout",
     "output_type": "stream",
     "text": [
      "PMC5241644\n",
      "PMC4899918\n",
      "PMC2731044\n",
      "PMC4302291\n"
     ]
    },
    {
     "name": "stderr",
     "output_type": "stream",
     "text": [
      " 60%|█████▉    | 179/300 [00:12<00:08, 14.82it/s]"
     ]
    },
    {
     "name": "stdout",
     "output_type": "stream",
     "text": [
      "PMC3836741\n",
      "PMC4414469\n",
      "PMC5680628\n",
      "PMC4794213\n",
      "PMC4237798\n",
      "PMC3895799\n"
     ]
    },
    {
     "name": "stderr",
     "output_type": "stream",
     "text": [
      "\r",
      " 61%|██████    | 182/300 [00:12<00:07, 15.45it/s]"
     ]
    },
    {
     "name": "stdout",
     "output_type": "stream",
     "text": [
      "PMC4051664\n",
      "PMC5302783\n",
      "PMC2936521\n",
      "PMC4923249\n"
     ]
    },
    {
     "name": "stderr",
     "output_type": "stream",
     "text": [
      " 62%|██████▏   | 186/300 [00:12<00:07, 15.44it/s]"
     ]
    },
    {
     "name": "stdout",
     "output_type": "stream",
     "text": [
      "PMC5249225\n",
      "PMC4871916\n",
      "PMC4384350\n"
     ]
    },
    {
     "name": "stderr",
     "output_type": "stream",
     "text": [
      "\r",
      " 63%|██████▎   | 188/300 [00:12<00:08, 12.89it/s]"
     ]
    },
    {
     "name": "stdout",
     "output_type": "stream",
     "text": [
      "PMC5528876\n",
      "PMC4944956\n"
     ]
    },
    {
     "name": "stderr",
     "output_type": "stream",
     "text": [
      "\r",
      " 63%|██████▎   | 190/300 [00:13<00:08, 12.28it/s]"
     ]
    },
    {
     "name": "stdout",
     "output_type": "stream",
     "text": [
      "PMC5770482\n",
      "PMC3981893\n",
      "PMC5779698\n"
     ]
    },
    {
     "name": "stderr",
     "output_type": "stream",
     "text": [
      " 65%|██████▌   | 195/300 [00:13<00:06, 16.00it/s]"
     ]
    },
    {
     "name": "stdout",
     "output_type": "stream",
     "text": [
      "PMC4090160\n",
      "PMC6069223\n",
      "PMC5306324\n",
      "PMC4417603\n",
      "PMC3365900\n",
      "PMC4262987\n"
     ]
    },
    {
     "name": "stderr",
     "output_type": "stream",
     "text": [
      " 67%|██████▋   | 200/300 [00:13<00:06, 16.07it/s]"
     ]
    },
    {
     "name": "stdout",
     "output_type": "stream",
     "text": [
      "PMC4841026\n",
      "PMC3502096\n",
      "PMC4973533\n",
      "PMC5244658\n",
      "PMC3119053\n"
     ]
    },
    {
     "name": "stderr",
     "output_type": "stream",
     "text": [
      "\r",
      " 68%|██████▊   | 204/300 [00:13<00:05, 18.72it/s]"
     ]
    },
    {
     "name": "stdout",
     "output_type": "stream",
     "text": [
      "PMC4766309\n",
      "PMC5685608\n",
      "PMC1971115\n",
      "PMC5367487\n"
     ]
    },
    {
     "name": "stderr",
     "output_type": "stream",
     "text": [
      " 70%|██████▉   | 209/300 [00:14<00:09,  9.77it/s]"
     ]
    },
    {
     "name": "stdout",
     "output_type": "stream",
     "text": [
      "PMC5617383\n",
      "PMC3543396\n",
      "PMC4294342\n"
     ]
    },
    {
     "name": "stderr",
     "output_type": "stream",
     "text": [
      " 71%|███████▏  | 214/300 [00:14<00:06, 13.41it/s]"
     ]
    },
    {
     "name": "stdout",
     "output_type": "stream",
     "text": [
      "PMC3534334\n",
      "PMC4964887\n",
      "PMC6035403\n",
      "PMC4912736\n",
      "PMC3035578\n"
     ]
    },
    {
     "name": "stderr",
     "output_type": "stream",
     "text": [
      "\r",
      " 72%|███████▏  | 216/300 [00:14<00:05, 14.43it/s]"
     ]
    },
    {
     "name": "stdout",
     "output_type": "stream",
     "text": [
      "PMC5004205\n",
      "PMC4156656\n",
      "PMC2233677\n"
     ]
    },
    {
     "name": "stderr",
     "output_type": "stream",
     "text": [
      " 73%|███████▎  | 220/300 [00:15<00:05, 14.25it/s]"
     ]
    },
    {
     "name": "stdout",
     "output_type": "stream",
     "text": [
      "PMC4200867\n",
      "PMC4914568\n",
      "PMC2904378\n"
     ]
    },
    {
     "name": "stderr",
     "output_type": "stream",
     "text": [
      "\r",
      " 74%|███████▍  | 222/300 [00:15<00:06, 12.72it/s]"
     ]
    },
    {
     "name": "stdout",
     "output_type": "stream",
     "text": [
      "PMC5216082\n",
      "PMC3787392\n"
     ]
    },
    {
     "name": "stderr",
     "output_type": "stream",
     "text": [
      "\r",
      " 75%|███████▍  | 224/300 [00:15<00:06, 11.50it/s]"
     ]
    },
    {
     "name": "stdout",
     "output_type": "stream",
     "text": [
      "PMC6023005\n",
      "PMC3949526\n",
      "PMC3435272\n"
     ]
    },
    {
     "name": "stderr",
     "output_type": "stream",
     "text": [
      " 76%|███████▋  | 229/300 [00:15<00:05, 14.07it/s]"
     ]
    },
    {
     "name": "stdout",
     "output_type": "stream",
     "text": [
      "PMC3031208\n",
      "PMC4892805\n",
      "PMC5369143\n",
      "PMC4906686\n"
     ]
    },
    {
     "name": "stderr",
     "output_type": "stream",
     "text": [
      " 78%|███████▊  | 234/300 [00:16<00:04, 14.85it/s]"
     ]
    },
    {
     "name": "stdout",
     "output_type": "stream",
     "text": [
      "PMC3316545\n",
      "PMC4051163\n",
      "PMC4010498\n",
      "PMC5227166\n",
      "PMC3061204\n"
     ]
    },
    {
     "name": "stderr",
     "output_type": "stream",
     "text": [
      " 79%|███████▉  | 238/300 [00:16<00:04, 15.43it/s]"
     ]
    },
    {
     "name": "stdout",
     "output_type": "stream",
     "text": [
      "PMC2386054\n",
      "PMC3584731\n",
      "PMC5426787\n",
      "PMC5722940\n"
     ]
    },
    {
     "name": "stderr",
     "output_type": "stream",
     "text": [
      " 81%|████████  | 242/300 [00:16<00:04, 14.48it/s]"
     ]
    },
    {
     "name": "stdout",
     "output_type": "stream",
     "text": [
      "PMC4462005\n",
      "PMC3692464\n",
      "PMC3836913\n",
      "PMC4162557\n",
      "PMC4542470\n"
     ]
    },
    {
     "name": "stderr",
     "output_type": "stream",
     "text": [
      " 82%|████████▏ | 246/300 [00:17<00:06,  7.96it/s]"
     ]
    },
    {
     "name": "stdout",
     "output_type": "stream",
     "text": [
      "PMC5731848\n",
      "PMC5026174\n",
      "PMC6008929\n"
     ]
    },
    {
     "name": "stderr",
     "output_type": "stream",
     "text": [
      "\r",
      " 83%|████████▎ | 248/300 [00:17<00:06,  8.09it/s]"
     ]
    },
    {
     "name": "stdout",
     "output_type": "stream",
     "text": [
      "PMC5959848\n",
      "PMC2946298\n"
     ]
    },
    {
     "name": "stderr",
     "output_type": "stream",
     "text": [
      "\r",
      " 83%|████████▎ | 250/300 [00:18<00:06,  7.50it/s]"
     ]
    },
    {
     "name": "stdout",
     "output_type": "stream",
     "text": [
      "PMC4499843\n",
      "PMC5890137\n"
     ]
    },
    {
     "name": "stderr",
     "output_type": "stream",
     "text": [
      " 84%|████████▍ | 252/300 [00:18<00:06,  6.89it/s]"
     ]
    },
    {
     "name": "stdout",
     "output_type": "stream",
     "text": [
      "PMC4352028\n",
      "PMC4951087\n"
     ]
    },
    {
     "name": "stderr",
     "output_type": "stream",
     "text": [
      " 85%|████████▍ | 254/300 [00:18<00:07,  5.87it/s]"
     ]
    },
    {
     "name": "stdout",
     "output_type": "stream",
     "text": [
      "PMC2987983\n",
      "PMC3402998\n"
     ]
    },
    {
     "name": "stderr",
     "output_type": "stream",
     "text": [
      "\r",
      " 85%|████████▌ | 255/300 [00:19<00:07,  6.35it/s]"
     ]
    },
    {
     "name": "stdout",
     "output_type": "stream",
     "text": [
      "PMC3115949\n"
     ]
    },
    {
     "name": "stderr",
     "output_type": "stream",
     "text": [
      " 86%|████████▌ | 257/300 [00:19<00:08,  5.03it/s]"
     ]
    },
    {
     "name": "stdout",
     "output_type": "stream",
     "text": [
      "PMC4589515\n",
      "PMC5510223\n"
     ]
    },
    {
     "name": "stderr",
     "output_type": "stream",
     "text": [
      " 86%|████████▋ | 259/300 [00:19<00:07,  5.57it/s]"
     ]
    },
    {
     "name": "stdout",
     "output_type": "stream",
     "text": [
      "PMC2727484\n",
      "PMC3464611\n",
      "PMC4441378\n"
     ]
    },
    {
     "name": "stderr",
     "output_type": "stream",
     "text": [
      " 87%|████████▋ | 262/300 [00:20<00:06,  6.31it/s]"
     ]
    },
    {
     "name": "stdout",
     "output_type": "stream",
     "text": [
      "PMC2478677\n",
      "PMC2806293\n"
     ]
    },
    {
     "name": "stderr",
     "output_type": "stream",
     "text": [
      "\r",
      " 88%|████████▊ | 264/300 [00:20<00:04,  7.85it/s]"
     ]
    },
    {
     "name": "stdout",
     "output_type": "stream",
     "text": [
      "PMC4647564\n",
      "PMC4866616\n",
      "PMC5530482\n"
     ]
    },
    {
     "name": "stderr",
     "output_type": "stream",
     "text": [
      "\r",
      " 89%|████████▊ | 266/300 [00:20<00:04,  8.44it/s]"
     ]
    },
    {
     "name": "stdout",
     "output_type": "stream",
     "text": [
      "PMC2664782\n",
      "PMC5816796\n",
      "PMC3844564\n"
     ]
    },
    {
     "name": "stderr",
     "output_type": "stream",
     "text": [
      "\r",
      " 90%|████████▉ | 269/300 [00:20<00:03,  9.21it/s]"
     ]
    },
    {
     "name": "stdout",
     "output_type": "stream",
     "text": [
      "PMC5770383\n",
      "PMC5567653\n"
     ]
    },
    {
     "name": "stderr",
     "output_type": "stream",
     "text": [
      " 91%|█████████ | 273/300 [00:21<00:02,  9.75it/s]"
     ]
    },
    {
     "name": "stdout",
     "output_type": "stream",
     "text": [
      "PMC4697806\n",
      "PMC5457019\n",
      "PMC5297700\n"
     ]
    },
    {
     "name": "stderr",
     "output_type": "stream",
     "text": [
      "\r",
      " 92%|█████████▏| 275/300 [00:21<00:02, 10.24it/s]"
     ]
    },
    {
     "name": "stdout",
     "output_type": "stream",
     "text": [
      "PMC4683867\n",
      "PMC4244103\n",
      "PMC2639708\n"
     ]
    },
    {
     "name": "stderr",
     "output_type": "stream",
     "text": [
      "\r",
      " 92%|█████████▏| 277/300 [00:21<00:02,  8.39it/s]"
     ]
    },
    {
     "name": "stdout",
     "output_type": "stream",
     "text": [
      "PMC4791522\n",
      "PMC5307887\n"
     ]
    },
    {
     "name": "stderr",
     "output_type": "stream",
     "text": [
      " 94%|█████████▎| 281/300 [00:22<00:02,  9.37it/s]"
     ]
    },
    {
     "name": "stdout",
     "output_type": "stream",
     "text": [
      "PMC4311248\n",
      "PMC4658497\n",
      "PMC3611597\n",
      "PMC1187897\n"
     ]
    },
    {
     "name": "stderr",
     "output_type": "stream",
     "text": [
      " 95%|█████████▌| 285/300 [00:22<00:01, 10.83it/s]"
     ]
    },
    {
     "name": "stdout",
     "output_type": "stream",
     "text": [
      "PMC4991502\n",
      "PMC3231843\n",
      "PMC3859478\n",
      "PMC5723443\n"
     ]
    },
    {
     "name": "stderr",
     "output_type": "stream",
     "text": [
      " 97%|█████████▋| 292/300 [00:22<00:00, 15.50it/s]"
     ]
    },
    {
     "name": "stdout",
     "output_type": "stream",
     "text": [
      "PMC5217317\n",
      "PMC6032655\n",
      "PMC3029330\n",
      "PMC4306119\n",
      "PMC2443369\n",
      "PMC4971634\n"
     ]
    },
    {
     "name": "stderr",
     "output_type": "stream",
     "text": [
      " 99%|█████████▊| 296/300 [00:22<00:00, 16.52it/s]"
     ]
    },
    {
     "name": "stdout",
     "output_type": "stream",
     "text": [
      "PMC2895614\n",
      "PMC4780767\n",
      "PMC5078810\n",
      "PMC4947190\n"
     ]
    },
    {
     "name": "stderr",
     "output_type": "stream",
     "text": [
      "\r",
      " 99%|█████████▉| 298/300 [00:23<00:00, 17.36it/s]"
     ]
    },
    {
     "name": "stdout",
     "output_type": "stream",
     "text": [
      "PMC4976205\n",
      "PMC2292144\n",
      "PMC4808240\n"
     ]
    },
    {
     "name": "stderr",
     "output_type": "stream",
     "text": [
      "100%|██████████| 300/300 [00:23<00:00, 12.87it/s]"
     ]
    },
    {
     "name": "stdout",
     "output_type": "stream",
     "text": [
      "PMC3458065\n"
     ]
    },
    {
     "name": "stderr",
     "output_type": "stream",
     "text": [
      "\n"
     ]
    }
   ],
   "source": [
    "import os\n",
    "import pandas as pd\n",
    "import glob\n",
    "import json\n",
    "import csv\n",
    "import sys\n",
    "\n",
    "import multiprocessing\n",
    "\n",
    "import numpy as np\n",
    "import re\n",
    "\n",
    "from nltk.tokenize import wordpunct_tokenize\n",
    "\n",
    "import requests\n",
    "# from pprint import pprint\n",
    "import pandas as pd\n",
    "\n",
    "from collections import defaultdict, Counter\n",
    "import time\n",
    "from requests.compat import urljoin\n",
    "\n",
    "from tqdm import tqdm\n",
    "\n",
    "# result_path = '/mnt/droplet/nfs/gns/literature/Santosh_Tirunagari/EPMC Annotations Dataset/'\n",
    "result_path = '/nfs/gns/literature/Santosh_Tirunagari/OTAR_dumps/Drugs/'\n",
    "\n",
    "with open(result_path+'EPMC_drug_annotations_.csv','w',  newline='\\n') as f1:\n",
    "    test_writer=csv.writer(f1, delimiter='\\t',lineterminator='\\n')\n",
    "    \n",
    "    for each_test_pmc_id in tqdm(all_files):\n",
    "        ss = get_Json_through_PMCID(each_test_pmc_id[3:]) # Just the number is needed. SO remove the PMC from the front\n",
    "        if ss:\n",
    "            json_results = ss.json()\n",
    "            pmc_id = json_results[0]['pmcid']\n",
    "            print(pmc_id)\n",
    "            for each_annotation in json_results[0]['annotations']:\n",
    "                exact = each_annotation['prefix']+ each_annotation['exact']+each_annotation['postfix']\n",
    "                token = each_annotation['tags'][0]['name']\n",
    "                ner = each_annotation['type']\n",
    "\n",
    "                row = [pmc_id, exact, token, ner]\n",
    "                test_writer.writerow(row)\n",
    "        else:\n",
    "            continue    \n",
    "            \n"
   ]
  },
  {
   "cell_type": "code",
   "execution_count": 14,
   "metadata": {},
   "outputs": [
    {
     "data": {
      "text/plain": [
       "'6032655'"
      ]
     },
     "execution_count": 14,
     "metadata": {},
     "output_type": "execute_result"
    }
   ],
   "source": [
    "each_test_pmc_id[4:]"
   ]
  }
 ],
 "metadata": {
  "kernelspec": {
   "display_name": "scispcacy",
   "language": "python",
   "name": "scispcacy"
  },
  "language_info": {
   "codemirror_mode": {
    "name": "ipython",
    "version": 3
   },
   "file_extension": ".py",
   "mimetype": "text/x-python",
   "name": "python",
   "nbconvert_exporter": "python",
   "pygments_lexer": "ipython3",
   "version": "3.6.9"
  }
 },
 "nbformat": 4,
 "nbformat_minor": 2
}
