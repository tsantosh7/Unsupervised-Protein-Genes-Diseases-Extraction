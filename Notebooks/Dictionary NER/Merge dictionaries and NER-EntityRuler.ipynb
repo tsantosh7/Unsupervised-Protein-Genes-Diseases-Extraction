{
 "cells": [
  {
   "cell_type": "code",
   "execution_count": 1,
   "metadata": {},
   "outputs": [],
   "source": [
    "import sys\n",
    "import random\n",
    "import os\n",
    "from pathlib import Path\n",
    "import shutil\n",
    "import json\n",
    "\n",
    "import argparse\n",
    "import tqdm\n",
    "import spacy\n",
    "from spacy.gold import minibatch\n",
    "from spacy.language import Language\n",
    "from spacy import util\n",
    "\n",
    "import jsonlines \n",
    "from tqdm import tqdm\n",
    "from bs4 import BeautifulSoup"
   ]
  },
  {
   "cell_type": "code",
   "execution_count": 2,
   "metadata": {},
   "outputs": [
    {
     "name": "stdout",
     "output_type": "stream",
     "text": [
      "Adding Genes Dictionary\n"
     ]
    },
    {
     "name": "stderr",
     "output_type": "stream",
     "text": [
      "100%|██████████| 347929/347929 [00:01<00:00, 240249.36it/s]\n",
      " 41%|████      | 24177/59088 [00:00<00:00, 241758.70it/s]"
     ]
    },
    {
     "name": "stdout",
     "output_type": "stream",
     "text": [
      "Adding Disease Dictionary\n"
     ]
    },
    {
     "name": "stderr",
     "output_type": "stream",
     "text": [
      "100%|██████████| 59088/59088 [00:00<00:00, 242864.99it/s]\n"
     ]
    }
   ],
   "source": [
    "# dictionary_paths, create pattens \n",
    "from spacy.pipeline import EntityRuler\n",
    "\n",
    "Diseases = '/nfs/gns/literature/lit-textmining-pipelines/automata/DiseaseDictionary.mwt' #(# of terms - 59088)\n",
    "Genes_Proteins = '/nfs/gns/literature/lit-textmining-pipelines/automata/swissprot_Sept2014.2.3.mwt' #(# of terms - 347929)\n",
    "Organism = '/nfs/gns/literature/lit-textmining-pipelines/automata/Organisms150507.2.mwt' #(# of terms - 1683021)\n",
    "\n",
    "patterns = []\n",
    "\n",
    "with open(Genes_Proteins, 'r') as f:\n",
    "    contents = f.read()\n",
    "    soup = BeautifulSoup(contents, 'lxml')\n",
    "    print('Adding Genes Dictionary')\n",
    "    pattern_types = soup.find_all('t')\n",
    "    for pattern in tqdm(pattern_types):\n",
    "        patterns.append({\"label\": \"GP\", \"pattern\": pattern.text})\n",
    "\n",
    "\n",
    "with open(Diseases, 'r') as f:\n",
    "    contents = f.read()\n",
    "    soup = BeautifulSoup(contents, 'lxml')\n",
    "    print('Adding Disease Dictionary')\n",
    "    pattern_types = soup.find_all('t')\n",
    "    for pattern in tqdm(pattern_types):\n",
    "        patterns.append({\"label\": \"DS\", \"pattern\": pattern.text})\n",
    "        \n",
    "        \n",
    "# with open(Organism, 'r') as f:\n",
    "#     contents = f.read()\n",
    "#     soup = BeautifulSoup(contents, 'lxml')\n",
    "#     print('Adding Organisms Dictionary')\n",
    "#     pattern_types = soup.find_all('r')\n",
    "#     for pattern in tqdm(pattern_types):\n",
    "#         patterns.append({\"label\": \"OG\", \"pattern\": [{\"TEXT\": {\"REGEX\": pattern.text.replace('[^A-Za-z0-9]','')}}]})"
   ]
  },
  {
   "cell_type": "code",
   "execution_count": 3,
   "metadata": {},
   "outputs": [
    {
     "name": "stdout",
     "output_type": "stream",
     "text": [
      "Loading from /nfs/gns/literature/Santosh_Tirunagari/GitHub/spacy_models/pubmed-pmc-lg/best\n"
     ]
    }
   ],
   "source": [
    "## load the best model\n",
    "best_model_path = '/nfs/gns/literature/Santosh_Tirunagari/GitHub/spacy_models/pubmed-pmc-lg/best'\n",
    "print(\"Loading from\", best_model_path)\n",
    "nlp = util.load_model_from_path(best_model_path)\n"
   ]
  },
  {
   "cell_type": "code",
   "execution_count": 4,
   "metadata": {},
   "outputs": [],
   "source": [
    "from spacy.pipeline import EntityRuler\n",
    "rulerDictionary = EntityRuler(nlp, overwrite_ents=True)\n"
   ]
  },
  {
   "cell_type": "code",
   "execution_count": null,
   "metadata": {},
   "outputs": [],
   "source": [
    "rulerDictionary.add_patterns(patterns)\n"
   ]
  },
  {
   "cell_type": "code",
   "execution_count": null,
   "metadata": {},
   "outputs": [],
   "source": [
    "nlp.remove_pipe('entity_ruler')\n",
    "nlp.add_pipe(rulerDictionary, after=\"ner\")\n",
    "print(nlp.pipeline)"
   ]
  },
  {
   "cell_type": "code",
   "execution_count": null,
   "metadata": {},
   "outputs": [],
   "source": [
    "text = 'Interspecific tumor ZBTB12 PT Sergef Ribonuclease 5 EN116 overgrowth TGN48 Uncharacterized protein Rv2292c phenocopies the s.Crocodylurus Transmembrane protein 2 tarahumaras-frogs Putative HLA class I histocompatibility antigen, alpha chain H female gametophytic mutants feronia/sirène (fer/srn), lorelei (lre), nortia (nta), Turan (tun), evAn (evn), and Zea mays embryo sac 4 (ZmES4) RNAi-lines1314151617181920, PtdInsTP β,  hmg2l1, MXL8.8 which are defective in the reception of intraspecific PTs. GTP'\n",
    "# text = 'These ractory cytopenia with unilineage dysplasia iris neoplasms results indicate the dentate gyrus is breast tumor mostly comprised of mature neurons (NeuN), along with a smaller population of precursor cells (nestin) and newly differentiated neurons (DCX), which corresponds to prior findings examining the relative number of each cell population in the dentate gyrus, indicating the proportion of cells labeled by the sensor approximately reflects physiological proportions [21, 22]. '\n",
    "text = ' However, if a pollen grain originating from a different species (interspecific pollination) is placed on a plant\\'s stigma, all the communication processes desc     27 ribed above have the potential to act as pre-zygotic post-pollination barriers.'\n",
    "# text = 'Residual erythrocytes were removed by hypotonic lysis'\n",
    "sentence =nlp(text)\n",
    "\n",
    "print(sentence)\n",
    "print('~~~~~~~~~~~~~~~~~~~~~~~~~~~ **** ~~~~~~~~~~~~~~~~~~~~~~~')\n",
    "for ent in sentence.ents:\n",
    "    print(ent.text, ent.start_char, ent.end_char, ent.label_)"
   ]
  },
  {
   "cell_type": "code",
   "execution_count": null,
   "metadata": {},
   "outputs": [],
   "source": []
  }
 ],
 "metadata": {
  "kernelspec": {
   "display_name": "scispcacy",
   "language": "python",
   "name": "scispcacy"
  },
  "language_info": {
   "codemirror_mode": {
    "name": "ipython",
    "version": 3
   },
   "file_extension": ".py",
   "mimetype": "text/x-python",
   "name": "python",
   "nbconvert_exporter": "python",
   "pygments_lexer": "ipython3",
   "version": "3.6.9"
  }
 },
 "nbformat": 4,
 "nbformat_minor": 2
}
