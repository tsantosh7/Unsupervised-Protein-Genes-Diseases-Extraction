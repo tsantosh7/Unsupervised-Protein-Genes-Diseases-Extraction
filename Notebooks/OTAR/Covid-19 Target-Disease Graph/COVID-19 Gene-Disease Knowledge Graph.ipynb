{
 "cells": [
  {
   "cell_type": "code",
   "execution_count": 1,
   "metadata": {},
   "outputs": [],
   "source": [
    "import requests\n",
    "from bs4 import BeautifulSoup\n",
    "import lxml\n",
    "\n",
    "from spacy.matcher import Matcher \n",
    "from spacy.tokens import Span \n",
    "\n",
    "import networkx as nx\n",
    "\n",
    "import matplotlib.pyplot as plt\n",
    "from tqdm import tqdm\n",
    "import pandas as pd\n",
    "\n",
    "pd.set_option('display.max_colwidth', 200)\n",
    "%matplotlib inline\n",
    "\n"
   ]
  },
  {
   "cell_type": "code",
   "execution_count": 2,
   "metadata": {},
   "outputs": [
    {
     "name": "stdout",
     "output_type": "stream",
     "text": [
      "Total .. 25 free to use articles found!\n"
     ]
    }
   ],
   "source": [
    "# get all the open source and free to use and read papers from Europe PMC\n",
    "# URL = 'http://europepmc.org/search?query=covid-19%20AND%20%28HAS_FT%3AY%29%20AND%20%28HAS_FT%3AY%29%20AND%20%28OPEN_ACCESS%3AY%29&page=1?javascript_support=no'\n",
    "URL = 'http://europepmc.org/search?query=covid-19%20%20AND%20%28HAS_FT%3AY%29%20AND%20%28HAS_FT%3AY%29%20AND%20%28OPEN_ACCESS%3AY%29%20AND%20%28FIRST_PDATE%3A2020%29%20AND%20%28HAS_FT%3AY%20OR%20OPEN_ACCESS%3AY%29%20AND%20%28OPEN_ACCESS%3AY%29?javascript_support=no'\n",
    "r = requests.get(URL)\n",
    "soup = BeautifulSoup(r.text, 'lxml')\n",
    "open_acces_set = soup.findAll(attrs={\"class\" : \"open-access\"})\n",
    "\n",
    "print('Total .. '+str(len(open_acces_set))+' free to use articles found!')"
   ]
  },
  {
   "cell_type": "code",
   "execution_count": 3,
   "metadata": {},
   "outputs": [
    {
     "name": "stderr",
     "output_type": "stream",
     "text": [
      "100%|██████████| 25/25 [00:00<00:00, 24585.60it/s]\n"
     ]
    }
   ],
   "source": [
    "# get all the article links\n",
    "articles = []\n",
    "for each_article in tqdm(open_acces_set):\n",
    "    link = each_article.find('a', href=True)\n",
    "    article_link = link['href'].split('#')\n",
    "    articles.append('https://europepmc.org'+article_link[0]+'?javascript_support=no')"
   ]
  },
  {
   "cell_type": "code",
   "execution_count": 4,
   "metadata": {},
   "outputs": [
    {
     "name": "stderr",
     "output_type": "stream",
     "text": [
      "100%|██████████| 25/25 [01:10<00:00,  2.81s/it]\n"
     ]
    }
   ],
   "source": [
    "# get all the p tags\n",
    "list_p_text = []\n",
    "\n",
    "for each_article_link in tqdm(articles):\n",
    "    r = requests.get(each_article_link)\n",
    "    article_soup = BeautifulSoup(r.text, 'lxml')\n",
    "    for each_p_tag in article_soup.find_all('p'):\n",
    "        if len(each_p_tag.text)>25:\n",
    "            list_p_text.append(each_p_tag.text)"
   ]
  },
  {
   "cell_type": "code",
   "execution_count": 5,
   "metadata": {},
   "outputs": [
    {
     "name": "stderr",
     "output_type": "stream",
     "text": [
      "100%|██████████| 1271/1271 [00:00<00:00, 380565.42it/s]\n"
     ]
    }
   ],
   "source": [
    "# get all the sentences\n",
    "sentences = []\n",
    "for each_par in tqdm(list_p_text):\n",
    "    for each_sentence in each_par.split('.'):\n",
    "        if len(each_sentence)>25:\n",
    "            sentences.append(each_sentence.strip())"
   ]
  },
  {
   "cell_type": "code",
   "execution_count": 6,
   "metadata": {},
   "outputs": [
    {
     "name": "stdout",
     "output_type": "stream",
     "text": [
      "Loading from /nfs/gns/literature/Santosh_Tirunagari/GitHub/spacy_models/pretrain_exp/best/\n"
     ]
    }
   ],
   "source": [
    "# import spaCY and load gene disease ner models\n",
    "import spacy\n",
    "from spacy import util\n",
    "\n",
    "## Test best model performance on test set\n",
    "best_model_path = '/nfs/gns/literature/Santosh_Tirunagari/GitHub/spacy_models/pretrain_exp/best/'\n",
    "\n",
    "print(\"Loading from\", best_model_path)\n",
    "ml_annotator = util.load_model_from_path(best_model_path)\n",
    "\n",
    "# load this model for dependency\n",
    "nlp_en = spacy.load('en')"
   ]
  },
  {
   "cell_type": "code",
   "execution_count": 7,
   "metadata": {},
   "outputs": [],
   "source": [
    "# get gene and disease pairs\n",
    "\n",
    "def get_gene_disease_pairs(sent):\n",
    "    GP =''\n",
    "    DS = ''\n",
    "    doc = ml_annotator(sent)\n",
    "    for ent in doc.ents:\n",
    "        if ent.label_ == 'GP':\n",
    "            GP = ent.text\n",
    "        elif ent.label_ == 'DS':\n",
    "            DS = ent.text\n",
    "    return [GP.strip(), DS.strip()]        "
   ]
  },
  {
   "cell_type": "code",
   "execution_count": 8,
   "metadata": {},
   "outputs": [
    {
     "data": {
      "text/plain": [
       "['cell receptor ACE2', 'infection']"
      ]
     },
     "execution_count": 8,
     "metadata": {},
     "output_type": "execute_result"
    }
   ],
   "source": [
    "get_gene_disease_pairs(\"The infection routes and pathogenesis of 2019-nCov are not fully understood by far, and the study of 2019-nCoV host cell receptor ACE2 could be valuable for the prevention and treatment of the COVID-19\")"
   ]
  },
  {
   "cell_type": "code",
   "execution_count": 9,
   "metadata": {},
   "outputs": [
    {
     "name": "stderr",
     "output_type": "stream",
     "text": [
      "100%|██████████| 2753/2753 [00:09<00:00, 289.86it/s]\n"
     ]
    }
   ],
   "source": [
    "entity_pairs = []\n",
    "\n",
    "for i in tqdm(sentences):\n",
    "    entity_pairs.append(get_gene_disease_pairs(i))"
   ]
  },
  {
   "cell_type": "code",
   "execution_count": 10,
   "metadata": {},
   "outputs": [],
   "source": [
    "# get relations\n",
    "def get_relation(sent):\n",
    "\n",
    "    doc = nlp_en(sent)\n",
    "\n",
    "    # Matcher class object \n",
    "    matcher = Matcher(nlp_en.vocab)\n",
    "\n",
    "    #define the pattern \n",
    "    pattern = [{'DEP':'ROOT'}, \n",
    "            {'DEP':'prep','OP':\"?\"},\n",
    "            {'DEP':'agent','OP':\"?\"},  \n",
    "            {'POS':'ADJ','OP':\"?\"}] \n",
    "\n",
    "    matcher.add(\"matching_1\", None, pattern) \n",
    "\n",
    "    matches = matcher(doc)\n",
    "    k = len(matches) - 1\n",
    "\n",
    "    span = doc[matches[k][1]:matches[k][2]] \n",
    "\n",
    "    return(span.text)"
   ]
  },
  {
   "cell_type": "code",
   "execution_count": 11,
   "metadata": {},
   "outputs": [
    {
     "name": "stderr",
     "output_type": "stream",
     "text": [
      "100%|██████████| 2753/2753 [00:28<00:00, 96.36it/s] \n"
     ]
    }
   ],
   "source": [
    "# extract relations\n",
    "\n",
    "relations = []\n",
    "\n",
    "for i in tqdm(sentences):\n",
    "    relations.append(get_relation(i))\n",
    " "
   ]
  },
  {
   "cell_type": "code",
   "execution_count": 12,
   "metadata": {},
   "outputs": [],
   "source": [
    "# extract gene\n",
    "source = [i[0] for i in entity_pairs]\n",
    "\n",
    "# extract disease\n",
    "target = [i[1] for i in entity_pairs]\n",
    "\n",
    "kg_df = pd.DataFrame({'gene':source, 'disease':target, 'edge':relations})"
   ]
  },
  {
   "cell_type": "code",
   "execution_count": 13,
   "metadata": {},
   "outputs": [
    {
     "data": {
      "text/html": [
       "<div>\n",
       "<style scoped>\n",
       "    .dataframe tbody tr th:only-of-type {\n",
       "        vertical-align: middle;\n",
       "    }\n",
       "\n",
       "    .dataframe tbody tr th {\n",
       "        vertical-align: top;\n",
       "    }\n",
       "\n",
       "    .dataframe thead th {\n",
       "        text-align: right;\n",
       "    }\n",
       "</style>\n",
       "<table border=\"1\" class=\"dataframe\">\n",
       "  <thead>\n",
       "    <tr style=\"text-align: right;\">\n",
       "      <th></th>\n",
       "      <th>gene</th>\n",
       "      <th>disease</th>\n",
       "      <th>edge</th>\n",
       "    </tr>\n",
       "  </thead>\n",
       "  <tbody>\n",
       "    <tr>\n",
       "      <th>123</th>\n",
       "      <td>polymerase</td>\n",
       "      <td>infections</td>\n",
       "      <td>made</td>\n",
       "    </tr>\n",
       "    <tr>\n",
       "      <th>239</th>\n",
       "      <td>reverse transcriptase</td>\n",
       "      <td>SARS</td>\n",
       "      <td>collected from symptomatic</td>\n",
       "    </tr>\n",
       "    <tr>\n",
       "      <th>289</th>\n",
       "      <td>SARS</td>\n",
       "      <td>SARS</td>\n",
       "      <td>reported full</td>\n",
       "    </tr>\n",
       "    <tr>\n",
       "      <th>299</th>\n",
       "      <td>E6</td>\n",
       "      <td>SARS</td>\n",
       "      <td>replicate in other</td>\n",
       "    </tr>\n",
       "    <tr>\n",
       "      <th>309</th>\n",
       "      <td>CoV</td>\n",
       "      <td>SARS</td>\n",
       "      <td>Prior to</td>\n",
       "    </tr>\n",
       "    <tr>\n",
       "      <th>1401</th>\n",
       "      <td>reverse transcription-polymerase</td>\n",
       "      <td>infection15</td>\n",
       "      <td>developed</td>\n",
       "    </tr>\n",
       "    <tr>\n",
       "      <th>1724</th>\n",
       "      <td>villagers[41</td>\n",
       "      <td>CoV-2 infection</td>\n",
       "      <td>was</td>\n",
       "    </tr>\n",
       "    <tr>\n",
       "      <th>1832</th>\n",
       "      <td>ACE2</td>\n",
       "      <td>SARS</td>\n",
       "      <td>is</td>\n",
       "    </tr>\n",
       "    <tr>\n",
       "      <th>1834</th>\n",
       "      <td>ACE2</td>\n",
       "      <td>SARS</td>\n",
       "      <td>suggests</td>\n",
       "    </tr>\n",
       "    <tr>\n",
       "      <th>1980</th>\n",
       "      <td>CRP</td>\n",
       "      <td>viral infections</td>\n",
       "      <td>had</td>\n",
       "    </tr>\n",
       "    <tr>\n",
       "      <th>2095</th>\n",
       "      <td>CoV</td>\n",
       "      <td>SARS</td>\n",
       "      <td>suggests</td>\n",
       "    </tr>\n",
       "    <tr>\n",
       "      <th>2104</th>\n",
       "      <td>reverse transcriptase polymerase</td>\n",
       "      <td>SARS</td>\n",
       "      <td>used</td>\n",
       "    </tr>\n",
       "    <tr>\n",
       "      <th>2247</th>\n",
       "      <td>ACE2</td>\n",
       "      <td>infection</td>\n",
       "      <td>reported</td>\n",
       "    </tr>\n",
       "    <tr>\n",
       "      <th>2261</th>\n",
       "      <td>CoVZXC21</td>\n",
       "      <td>SARS</td>\n",
       "      <td>found</td>\n",
       "    </tr>\n",
       "    <tr>\n",
       "      <th>2262</th>\n",
       "      <td>cell receptor</td>\n",
       "      <td>SARS</td>\n",
       "      <td>indicated</td>\n",
       "    </tr>\n",
       "    <tr>\n",
       "      <th>2264</th>\n",
       "      <td>S-protein</td>\n",
       "      <td>RBD</td>\n",
       "      <td>found</td>\n",
       "    </tr>\n",
       "    <tr>\n",
       "      <th>2266</th>\n",
       "      <td>ACE2</td>\n",
       "      <td>infection</td>\n",
       "      <td>indicate</td>\n",
       "    </tr>\n",
       "    <tr>\n",
       "      <th>2270</th>\n",
       "      <td>ACE2</td>\n",
       "      <td>infection</td>\n",
       "      <td>explored</td>\n",
       "    </tr>\n",
       "    <tr>\n",
       "      <th>2308</th>\n",
       "      <td>cell receptor ACE2</td>\n",
       "      <td>infection</td>\n",
       "      <td>understood by</td>\n",
       "    </tr>\n",
       "    <tr>\n",
       "      <th>2323</th>\n",
       "      <td>ACE2</td>\n",
       "      <td>infection</td>\n",
       "      <td>provides</td>\n",
       "    </tr>\n",
       "    <tr>\n",
       "      <th>2326</th>\n",
       "      <td>ACE2</td>\n",
       "      <td>oral infection</td>\n",
       "      <td>indicated</td>\n",
       "    </tr>\n",
       "    <tr>\n",
       "      <th>2418</th>\n",
       "      <td>EboV</td>\n",
       "      <td>DenV</td>\n",
       "      <td>implicated in immune</td>\n",
       "    </tr>\n",
       "    <tr>\n",
       "      <th>2420</th>\n",
       "      <td>furin</td>\n",
       "      <td>measles</td>\n",
       "      <td>discuss</td>\n",
       "    </tr>\n",
       "  </tbody>\n",
       "</table>\n",
       "</div>"
      ],
      "text/plain": [
       "                                  gene           disease  \\\n",
       "123                         polymerase        infections   \n",
       "239              reverse transcriptase              SARS   \n",
       "289                               SARS              SARS   \n",
       "299                                 E6              SARS   \n",
       "309                                CoV              SARS   \n",
       "1401  reverse transcription-polymerase       infection15   \n",
       "1724                      villagers[41   CoV-2 infection   \n",
       "1832                              ACE2              SARS   \n",
       "1834                              ACE2              SARS   \n",
       "1980                               CRP  viral infections   \n",
       "2095                               CoV              SARS   \n",
       "2104  reverse transcriptase polymerase              SARS   \n",
       "2247                              ACE2         infection   \n",
       "2261                          CoVZXC21              SARS   \n",
       "2262                     cell receptor              SARS   \n",
       "2264                         S-protein               RBD   \n",
       "2266                              ACE2         infection   \n",
       "2270                              ACE2         infection   \n",
       "2308                cell receptor ACE2         infection   \n",
       "2323                              ACE2         infection   \n",
       "2326                              ACE2    oral infection   \n",
       "2418                              EboV              DenV   \n",
       "2420                             furin           measles   \n",
       "\n",
       "                            edge  \n",
       "123                         made  \n",
       "239   collected from symptomatic  \n",
       "289                reported full  \n",
       "299           replicate in other  \n",
       "309                     Prior to  \n",
       "1401                   developed  \n",
       "1724                         was  \n",
       "1832                          is  \n",
       "1834                    suggests  \n",
       "1980                         had  \n",
       "2095                    suggests  \n",
       "2104                        used  \n",
       "2247                    reported  \n",
       "2261                       found  \n",
       "2262                   indicated  \n",
       "2264                       found  \n",
       "2266                    indicate  \n",
       "2270                    explored  \n",
       "2308               understood by  \n",
       "2323                    provides  \n",
       "2326                   indicated  \n",
       "2418        implicated in immune  \n",
       "2420                     discuss  "
      ]
     },
     "execution_count": 13,
     "metadata": {},
     "output_type": "execute_result"
    }
   ],
   "source": [
    "import numpy as np\n",
    "kg_df['gene'].replace('', np.nan, inplace=True)\n",
    "kg_df['disease'].replace('', np.nan, inplace=True)\n",
    "\n",
    "kg_df['gene'].replace('HER2', np.nan, inplace=True) # This was an example for every article in EPMC, bettwr to remove\n",
    "\n",
    "kg_df.dropna(subset=['gene','disease'], inplace=True)\n",
    "kg_df\n"
   ]
  },
  {
   "cell_type": "code",
   "execution_count": 18,
   "metadata": {},
   "outputs": [],
   "source": [
    "import os\n",
    "\n",
    "kg_df.to_json (os.getcwd()+'/Export_DataFrame.json', orient='split')\n",
    "kg_df.to_json (os.getcwd()+'/Export_DataFrame_1.json')"
   ]
  },
  {
   "cell_type": "markdown",
   "metadata": {},
   "source": [
    "# Knowledge graph"
   ]
  },
  {
   "cell_type": "code",
   "execution_count": 20,
   "metadata": {},
   "outputs": [],
   "source": [
    "# create a directed-graph from a dataframe\n",
    "G=nx.from_pandas_edgelist(kg_df, \"gene\", \"disease\", \n",
    "                          edge_attr=True, create_using=nx.MultiDiGraph())"
   ]
  },
  {
   "cell_type": "code",
   "execution_count": 21,
   "metadata": {},
   "outputs": [
    {
     "data": {
      "image/png": "[encoded data removed]",
      "text/plain": [
       "<Figure size 864x864 with 1 Axes>"
      ]
     },
     "metadata": {},
     "output_type": "display_data"
    }
   ],
   "source": [
    "plt.figure(figsize=(12,12))\n",
    "\n",
    "pos = nx.spring_layout(G)\n",
    "nx.draw(G, with_labels=True, node_color='skyblue', edge_cmap=plt.cm.Blues, pos = pos)\n",
    "plt.show()"
   ]
  },
  {
   "cell_type": "code",
   "execution_count": 16,
   "metadata": {},
   "outputs": [],
   "source": [
    "# G=nx.from_pandas_edgelist(kg_df[kg_df['edge']==\"indicate\"], \"source\", \"target\", \n",
    "#                           edge_attr=True, create_using=nx.MultiDiGraph())\n",
    "\n",
    "# plt.figure(figsize=(12,12))\n",
    "# pos = nx.spring_layout(G, k = 0.5) # k regulates the distance between nodes\n",
    "# nx.draw(G, with_labels=True, node_color='skyblue', node_size=1500, edge_cmap=plt.cm.Blues, pos = pos)\n",
    "# plt.show()"
   ]
  },
  {
   "cell_type": "code",
   "execution_count": null,
   "metadata": {},
   "outputs": [],
   "source": []
  }
 ],
 "metadata": {
  "kernelspec": {
   "display_name": "scispcacy",
   "language": "python",
   "name": "scispcacy"
  },
  "language_info": {
   "codemirror_mode": {
    "name": "ipython",
    "version": 3
   },
   "file_extension": ".py",
   "mimetype": "text/x-python",
   "name": "python",
   "nbconvert_exporter": "python",
   "pygments_lexer": "ipython3",
   "version": "3.6.9"
  }
 },
 "nbformat": 4,
 "nbformat_minor": 2
}
