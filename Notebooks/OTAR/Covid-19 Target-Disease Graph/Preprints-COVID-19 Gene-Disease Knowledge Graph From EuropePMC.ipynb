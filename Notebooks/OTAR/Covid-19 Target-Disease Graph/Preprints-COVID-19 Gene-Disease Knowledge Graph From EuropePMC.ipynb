{
 "cells": [
  {
   "cell_type": "code",
   "execution_count": 1,
   "metadata": {},
   "outputs": [],
   "source": [
    "import requests\n",
    "from bs4 import BeautifulSoup\n",
    "import lxml\n",
    "\n",
    "from spacy.matcher import Matcher \n",
    "from spacy.tokens import Span \n",
    "\n",
    "import networkx as nx\n",
    "\n",
    "import matplotlib.pyplot as plt\n",
    "from tqdm import tqdm\n",
    "import pandas as pd\n",
    "\n",
    "import numpy as np\n",
    "\n",
    "%matplotlib inline\n",
    "\n"
   ]
  },
  {
   "cell_type": "code",
   "execution_count": null,
   "metadata": {},
   "outputs": [],
   "source": [
    "# Call for TOP 1000 papers \n",
    "# QUERY_1 = 'covid-19 OR corona virus AND (HAS_FT:Y) AND (HAS_FT:Y) AND (OPEN_ACCESS:Y)'\n",
    "QUERY_2 = 'covid-19 OR corona virus disease 2019 AND (((SRC:MED OR SRC:PMC OR SRC:PPR OR SRC:CBA) NOT (PUB_TYPE:\"Review\")))'\n",
    "\n",
    "URL = 'https://www.ebi.ac.uk/europepmc/webservices/rest/search?query='+QUERY_2+'&resultType=lite&cursorMark=*&pageSize=1000&format=json'\n",
    "print(URL)\n",
    "\n",
    "# # call the URL request\n",
    "# r = requests.get(URL)\n",
    "# r_json = r.json()\n"
   ]
  },
  {
   "cell_type": "code",
   "execution_count": null,
   "metadata": {},
   "outputs": [],
   "source": [
    "# get all the open source and free to use and read papers from Europe PMC\n",
    "\n",
    "open_acces_sentences= []\n",
    "\n",
    "for each_pmc_id in tqdm(r_json['resultList']['result']):\n",
    "    Full_TEXT_XML = 'https://www.ebi.ac.uk/europepmc/webservices/rest/'+each_pmc_id['pmcid']+'/fullTextXML'\n",
    "    r = requests.get(Full_TEXT_XML)\n",
    "    soup = BeautifulSoup(r.text, 'lxml')\n",
    "    \n",
    "    for each_p_tag in soup.findAll('p'):\n",
    "        open_acces_sentences.append(each_p_tag.text)\n",
    "\n",
    "    "
   ]
  },
  {
   "cell_type": "code",
   "execution_count": null,
   "metadata": {},
   "outputs": [],
   "source": [
    "# get all the sentences that are grater than 25 in lengths\n",
    "sentences = []\n",
    "for each_par in tqdm(open_acces_sentences):\n",
    "    for each_sentence in each_par.split('.'):\n",
    "        if len(each_sentence)>25:\n",
    "            sentences.append(each_sentence.strip())"
   ]
  },
  {
   "cell_type": "code",
   "execution_count": null,
   "metadata": {},
   "outputs": [],
   "source": [
    "# import spaCY and load gene disease ner models\n",
    "import spacy\n",
    "from spacy import util\n",
    "\n",
    "## Test best model performance on test set\n",
    "best_model_path = '/nfs/gns/literature/Santosh_Tirunagari/GitHub/spacy_models/pretrain_exp/best/'\n",
    "\n",
    "print(\"Loading from\", best_model_path)\n",
    "ml_annotator = util.load_model_from_path(best_model_path)\n",
    "\n",
    "# load this model for dependency\n",
    "nlp_en = spacy.load('en')"
   ]
  },
  {
   "cell_type": "code",
   "execution_count": null,
   "metadata": {},
   "outputs": [],
   "source": [
    "# get gene and disease pairs\n",
    "\n",
    "def get_gene_disease_pairs(sent):\n",
    "    \n",
    "    sent = sent.lower()\n",
    "    \n",
    "    GP =''\n",
    "    DS = ''\n",
    "    doc = ml_annotator(sent)\n",
    "    \n",
    "    for ent in doc.ents:\n",
    "        if ent.label_ == 'GP':\n",
    "            GP = ent.text\n",
    "        elif ent.label_ == 'DS':\n",
    "            DS = ent.text\n",
    "    # give more importance to covid-19 in the sentence. My model doesnt seem to recognise covid-19 yet as a disease\n",
    "    if 'covid-19' in sent:\n",
    "        DS = 'covid-19'\n",
    "    \n",
    "    return [GP.strip(), DS.strip()]        "
   ]
  },
  {
   "cell_type": "code",
   "execution_count": null,
   "metadata": {},
   "outputs": [],
   "source": [
    "get_gene_disease_pairs(\"The infection routes and pathogenesis of 2019-nCov are not fully understood by far, and the study of 2019-nCoV host cell receptor ACE2 could be valuable for the prevention and treatment of the COVID-19\")"
   ]
  },
  {
   "cell_type": "code",
   "execution_count": null,
   "metadata": {},
   "outputs": [],
   "source": [
    "entity_pairs = []\n",
    "\n",
    "for i in tqdm(sentences):\n",
    "    entity_pairs.append(get_gene_disease_pairs(i))"
   ]
  },
  {
   "cell_type": "code",
   "execution_count": null,
   "metadata": {},
   "outputs": [],
   "source": [
    "# extract gene\n",
    "source = [i[0] for i in entity_pairs]\n",
    "\n",
    "# extract disease\n",
    "target = [i[1] for i in entity_pairs]\n",
    "\n",
    "kg_df = pd.DataFrame({'gene':source, 'disease':target})"
   ]
  },
  {
   "cell_type": "code",
   "execution_count": null,
   "metadata": {},
   "outputs": [],
   "source": [
    "# remove empty rows\n",
    "\n",
    "kg_df['gene'].replace('', np.nan, inplace=True)\n",
    "kg_df['disease'].replace('', np.nan, inplace=True)\n",
    "kg_df.dropna(subset=['gene','disease'], inplace=True)\n",
    "\n"
   ]
  },
  {
   "cell_type": "code",
   "execution_count": null,
   "metadata": {},
   "outputs": [],
   "source": [
    "# get weights that are more than 2\n",
    "\n",
    "new_df = kg_df.groupby(['gene','disease'])[\"gene\"].count().reset_index(name=\"weight\")\n",
    "f_df = new_df[new_df['weight']>2]\n",
    "len(f_df)"
   ]
  },
  {
   "cell_type": "markdown",
   "metadata": {},
   "source": [
    "# Knowledge Graphs"
   ]
  },
  {
   "cell_type": "code",
   "execution_count": null,
   "metadata": {},
   "outputs": [],
   "source": [
    "# create a directed-graph from a dataframe\n",
    "G=nx.from_pandas_edgelist(f_df, \"gene\", \"disease\", \n",
    "                          edge_attr=True, create_using=nx.MultiDiGraph())\n",
    "\n",
    "plt.figure(figsize=(15,15))\n",
    "\n",
    "# pos = nx.spring_layout(G)\n",
    "pos = nx.fruchterman_reingold_layout(G, k =0.9, iterations =20)\n",
    "\n",
    "nx.draw(G, \n",
    "        with_labels=True, \n",
    "        node_color='coral', \n",
    "        edge_cmap=plt.cm.Blues, \n",
    "        pos = pos)\n",
    "\n",
    "plt.show()\n"
   ]
  },
  {
   "cell_type": "code",
   "execution_count": null,
   "metadata": {},
   "outputs": [],
   "source": [
    "# Strength 5 ( 5 times occurance)\n",
    "f_df_5 = new_df[new_df['weight']>5]\n",
    "\n",
    "G=nx.from_pandas_edgelist(f_df_5, \"gene\", \"disease\", \n",
    "                          edge_attr=True, create_using=nx.MultiDiGraph())\n",
    "\n",
    "plt.figure(figsize=(15,15))\n",
    "\n",
    "# pos = nx.spring_layout(G)\n",
    "pos = nx.fruchterman_reingold_layout(G, k =0.9, iterations =20)\n",
    "\n",
    "nx.draw(G, \n",
    "        with_labels=True, \n",
    "        node_color='coral', \n",
    "        edge_cmap=plt.cm.Blues, \n",
    "        pos = pos)\n",
    "\n",
    "plt.show()"
   ]
  },
  {
   "cell_type": "code",
   "execution_count": null,
   "metadata": {},
   "outputs": [],
   "source": [
    "# Strength 6 ( more than 6 times occurance)\n",
    "\n",
    "f_df_5 = new_df[new_df['weight']>6]\n",
    "\n",
    "G=nx.from_pandas_edgelist(f_df_5, \"gene\", \"disease\", \n",
    "                          edge_attr=True, create_using=nx.MultiDiGraph())\n",
    "\n",
    "plt.figure(figsize=(15,15))\n",
    "\n",
    "# pos = nx.spring_layout(G)\n",
    "pos = nx.fruchterman_reingold_layout(G, k =0.9, iterations =20)\n",
    "\n",
    "nx.draw(G, \n",
    "        with_labels=True, \n",
    "        node_color='coral', \n",
    "        edge_cmap=plt.cm.Blues, \n",
    "        pos = pos)\n",
    "\n",
    "plt.show()"
   ]
  },
  {
   "cell_type": "code",
   "execution_count": null,
   "metadata": {},
   "outputs": [],
   "source": [
    "# Covid papers\n",
    "covid_df = new_df[new_df['disease']=='covid-19']\n",
    "len(covid_df)\n",
    "\n",
    "# create a directed-graph from a dataframe\n",
    "G=nx.from_pandas_edgelist(covid_df, \"gene\", \"disease\", \n",
    "                          edge_attr=True, create_using=nx.MultiDiGraph())\n",
    "\n",
    "\n",
    "plt.figure(figsize=(10,10))\n",
    "\n",
    "# pos = nx.spring_layout(G)\n",
    "pos = nx.fruchterman_reingold_layout(G, k =0.9, iterations =20)\n",
    "\n",
    "nx.draw(G, \n",
    "        with_labels=True, \n",
    "        node_color='coral', \n",
    "        edge_cmap=plt.cm.Blues, \n",
    "        pos = pos)\n",
    "\n",
    "plt.show()\n"
   ]
  }
 ],
 "metadata": {
  "kernelspec": {
   "display_name": "scispcacy",
   "language": "python",
   "name": "scispcacy"
  },
  "language_info": {
   "codemirror_mode": {
    "name": "ipython",
    "version": 3
   },
   "file_extension": ".py",
   "mimetype": "text/x-python",
   "name": "python",
   "nbconvert_exporter": "python",
   "pygments_lexer": "ipython3",
   "version": "3.6.9"
  }
 },
 "nbformat": 4,
 "nbformat_minor": 2
}
