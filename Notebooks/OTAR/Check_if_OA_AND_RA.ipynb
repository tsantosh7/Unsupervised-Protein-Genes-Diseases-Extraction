{
 "cells": [
  {
   "cell_type": "code",
   "execution_count": 1,
   "metadata": {},
   "outputs": [],
   "source": [
    "import pandas as pd"
   ]
  },
  {
   "cell_type": "code",
   "execution_count": 2,
   "metadata": {},
   "outputs": [],
   "source": [
    "df = pd.read_csv('/nfs/misc/literature/shyama/OTAR_Old_Pipeline/release_20_11.tsv', sep = '\\t')"
   ]
  },
  {
   "cell_type": "code",
   "execution_count": 11,
   "metadata": {},
   "outputs": [],
   "source": [
    "selected_columns = ['PMID','FT_ID','PUBYEAR','PUB_DATE']\n",
    "df_final = df[(df.RESEARCH_ARTICLE_YES_NO =='Y') & (df.AVAILABILITY_STATUS=='O')][selected_columns]"
   ]
  },
  {
   "cell_type": "code",
   "execution_count": 12,
   "metadata": {},
   "outputs": [
    {
     "data": {
      "text/html": [
       "<div>\n",
       "<style scoped>\n",
       "    .dataframe tbody tr th:only-of-type {\n",
       "        vertical-align: middle;\n",
       "    }\n",
       "\n",
       "    .dataframe tbody tr th {\n",
       "        vertical-align: top;\n",
       "    }\n",
       "\n",
       "    .dataframe thead th {\n",
       "        text-align: right;\n",
       "    }\n",
       "</style>\n",
       "<table border=\"1\" class=\"dataframe\">\n",
       "  <thead>\n",
       "    <tr style=\"text-align: right;\">\n",
       "      <th></th>\n",
       "      <th>PMID</th>\n",
       "      <th>FT_ID</th>\n",
       "      <th>PUBYEAR</th>\n",
       "      <th>PUB_DATE</th>\n",
       "    </tr>\n",
       "  </thead>\n",
       "  <tbody>\n",
       "    <tr>\n",
       "      <th>5</th>\n",
       "      <td>NaN</td>\n",
       "      <td>PMC7532628</td>\n",
       "      <td>2020.0</td>\n",
       "      <td>01/01/2020</td>\n",
       "    </tr>\n",
       "    <tr>\n",
       "      <th>6</th>\n",
       "      <td>NaN</td>\n",
       "      <td>PMC7532630</td>\n",
       "      <td>2020.0</td>\n",
       "      <td>01/01/2020</td>\n",
       "    </tr>\n",
       "    <tr>\n",
       "      <th>7</th>\n",
       "      <td>NaN</td>\n",
       "      <td>PMC7467904</td>\n",
       "      <td>2020.0</td>\n",
       "      <td>01/09/2020</td>\n",
       "    </tr>\n",
       "    <tr>\n",
       "      <th>8</th>\n",
       "      <td>NaN</td>\n",
       "      <td>PMC7474916</td>\n",
       "      <td>2020.0</td>\n",
       "      <td>01/09/2020</td>\n",
       "    </tr>\n",
       "    <tr>\n",
       "      <th>9</th>\n",
       "      <td>NaN</td>\n",
       "      <td>PMC7454852</td>\n",
       "      <td>2020.0</td>\n",
       "      <td>01/08/2020</td>\n",
       "    </tr>\n",
       "    <tr>\n",
       "      <th>11</th>\n",
       "      <td>NaN</td>\n",
       "      <td>PMC7391889</td>\n",
       "      <td>2019.0</td>\n",
       "      <td>01/07/2019</td>\n",
       "    </tr>\n",
       "    <tr>\n",
       "      <th>16</th>\n",
       "      <td>NaN</td>\n",
       "      <td>PMC7542504</td>\n",
       "      <td>2020.0</td>\n",
       "      <td>01/01/2020</td>\n",
       "    </tr>\n",
       "    <tr>\n",
       "      <th>17</th>\n",
       "      <td>NaN</td>\n",
       "      <td>PMC7388410</td>\n",
       "      <td>2020.0</td>\n",
       "      <td>01/05/2020</td>\n",
       "    </tr>\n",
       "    <tr>\n",
       "      <th>18</th>\n",
       "      <td>NaN</td>\n",
       "      <td>PMC7387829</td>\n",
       "      <td>2020.0</td>\n",
       "      <td>01/07/2020</td>\n",
       "    </tr>\n",
       "    <tr>\n",
       "      <th>19</th>\n",
       "      <td>NaN</td>\n",
       "      <td>PMC7388411</td>\n",
       "      <td>2020.0</td>\n",
       "      <td>01/06/2020</td>\n",
       "    </tr>\n",
       "  </tbody>\n",
       "</table>\n",
       "</div>"
      ],
      "text/plain": [
       "    PMID       FT_ID  PUBYEAR    PUB_DATE\n",
       "5    NaN  PMC7532628   2020.0  01/01/2020\n",
       "6    NaN  PMC7532630   2020.0  01/01/2020\n",
       "7    NaN  PMC7467904   2020.0  01/09/2020\n",
       "8    NaN  PMC7474916   2020.0  01/09/2020\n",
       "9    NaN  PMC7454852   2020.0  01/08/2020\n",
       "11   NaN  PMC7391889   2019.0  01/07/2019\n",
       "16   NaN  PMC7542504   2020.0  01/01/2020\n",
       "17   NaN  PMC7388410   2020.0  01/05/2020\n",
       "18   NaN  PMC7387829   2020.0  01/07/2020\n",
       "19   NaN  PMC7388411   2020.0  01/06/2020"
      ]
     },
     "execution_count": 12,
     "metadata": {},
     "output_type": "execute_result"
    }
   ],
   "source": [
    "df_final.head(10)"
   ]
  },
  {
   "cell_type": "code",
   "execution_count": 13,
   "metadata": {},
   "outputs": [
    {
     "data": {
      "text/html": [
       "<div>\n",
       "<style scoped>\n",
       "    .dataframe tbody tr th:only-of-type {\n",
       "        vertical-align: middle;\n",
       "    }\n",
       "\n",
       "    .dataframe tbody tr th {\n",
       "        vertical-align: top;\n",
       "    }\n",
       "\n",
       "    .dataframe thead th {\n",
       "        text-align: right;\n",
       "    }\n",
       "</style>\n",
       "<table border=\"1\" class=\"dataframe\">\n",
       "  <thead>\n",
       "    <tr style=\"text-align: right;\">\n",
       "      <th></th>\n",
       "      <th>PMID</th>\n",
       "      <th>FT_ID</th>\n",
       "      <th>PUBYEAR</th>\n",
       "      <th>PUB_DATE</th>\n",
       "    </tr>\n",
       "  </thead>\n",
       "  <tbody>\n",
       "    <tr>\n",
       "      <th>15631610</th>\n",
       "      <td>11882252.0</td>\n",
       "      <td>PMC100320</td>\n",
       "      <td>2002.0</td>\n",
       "      <td>01/01/2002</td>\n",
       "    </tr>\n",
       "    <tr>\n",
       "      <th>20311744</th>\n",
       "      <td>11882251.0</td>\n",
       "      <td>PMC100321</td>\n",
       "      <td>2002.0</td>\n",
       "      <td>01/01/2002</td>\n",
       "    </tr>\n",
       "    <tr>\n",
       "      <th>25632571</th>\n",
       "      <td>11922865.0</td>\n",
       "      <td>PMC100322</td>\n",
       "      <td>2002.0</td>\n",
       "      <td>01/01/2002</td>\n",
       "    </tr>\n",
       "    <tr>\n",
       "      <th>18126022</th>\n",
       "      <td>11922867.0</td>\n",
       "      <td>PMC100323</td>\n",
       "      <td>2002.0</td>\n",
       "      <td>01/01/2002</td>\n",
       "    </tr>\n",
       "    <tr>\n",
       "      <th>28057161</th>\n",
       "      <td>11879527.0</td>\n",
       "      <td>PMC100324</td>\n",
       "      <td>2002.0</td>\n",
       "      <td>01/01/2002</td>\n",
       "    </tr>\n",
       "    <tr>\n",
       "      <th>15447634</th>\n",
       "      <td>11914147.0</td>\n",
       "      <td>PMC100325</td>\n",
       "      <td>2002.0</td>\n",
       "      <td>01/01/2002</td>\n",
       "    </tr>\n",
       "    <tr>\n",
       "      <th>28741483</th>\n",
       "      <td>11884248.0</td>\n",
       "      <td>PMC100326</td>\n",
       "      <td>2002.0</td>\n",
       "      <td>01/01/2002</td>\n",
       "    </tr>\n",
       "    <tr>\n",
       "      <th>22714587</th>\n",
       "      <td>11914137.0</td>\n",
       "      <td>PMC100327</td>\n",
       "      <td>2002.0</td>\n",
       "      <td>01/01/2002</td>\n",
       "    </tr>\n",
       "    <tr>\n",
       "      <th>29397792</th>\n",
       "      <td>11918828.0</td>\n",
       "      <td>PMC100357</td>\n",
       "      <td>2002.0</td>\n",
       "      <td>01/01/2002</td>\n",
       "    </tr>\n",
       "    <tr>\n",
       "      <th>20789555</th>\n",
       "      <td>11918830.0</td>\n",
       "      <td>PMC100780</td>\n",
       "      <td>2002.0</td>\n",
       "      <td>01/01/2002</td>\n",
       "    </tr>\n",
       "  </tbody>\n",
       "</table>\n",
       "</div>"
      ],
      "text/plain": [
       "                PMID      FT_ID  PUBYEAR    PUB_DATE\n",
       "15631610  11882252.0  PMC100320   2002.0  01/01/2002\n",
       "20311744  11882251.0  PMC100321   2002.0  01/01/2002\n",
       "25632571  11922865.0  PMC100322   2002.0  01/01/2002\n",
       "18126022  11922867.0  PMC100323   2002.0  01/01/2002\n",
       "28057161  11879527.0  PMC100324   2002.0  01/01/2002\n",
       "15447634  11914147.0  PMC100325   2002.0  01/01/2002\n",
       "28741483  11884248.0  PMC100326   2002.0  01/01/2002\n",
       "22714587  11914137.0  PMC100327   2002.0  01/01/2002\n",
       "29397792  11918828.0  PMC100357   2002.0  01/01/2002\n",
       "20789555  11918830.0  PMC100780   2002.0  01/01/2002"
      ]
     },
     "execution_count": 13,
     "metadata": {},
     "output_type": "execute_result"
    }
   ],
   "source": [
    "id_database_df = df_final.sort_values(by=['FT_ID'], ascending=True)\n",
    "id_database_df.head(10)"
   ]
  },
  {
   "cell_type": "code",
   "execution_count": 14,
   "metadata": {},
   "outputs": [
    {
     "data": {
      "text/plain": [
       "2788739"
      ]
     },
     "execution_count": 14,
     "metadata": {},
     "output_type": "execute_result"
    }
   ],
   "source": [
    "len(id_database_df)"
   ]
  },
  {
   "cell_type": "code",
   "execution_count": 16,
   "metadata": {},
   "outputs": [],
   "source": [
    "id_database_df.to_csv ('/nfs/gns/literature/Santosh_Tirunagari/OTAR_ids_dataset/id_dataset.csv', index = False, header=True)"
   ]
  },
  {
   "cell_type": "code",
   "execution_count": 28,
   "metadata": {},
   "outputs": [],
   "source": [
    "FT_IDS = dict(zip(id_database_df['FT_ID'].values.tolist(), id_database_df['PUB_DATE'].values))"
   ]
  },
  {
   "cell_type": "code",
   "execution_count": 29,
   "metadata": {},
   "outputs": [
    {
     "data": {
      "text/plain": [
       "True"
      ]
     },
     "execution_count": 29,
     "metadata": {},
     "output_type": "execute_result"
    }
   ],
   "source": [
    "'PMC1065265' in FT_IDS"
   ]
  },
  {
   "cell_type": "code",
   "execution_count": 30,
   "metadata": {},
   "outputs": [
    {
     "data": {
      "text/plain": [
       "'01/04/2005'"
      ]
     },
     "execution_count": 30,
     "metadata": {},
     "output_type": "execute_result"
    }
   ],
   "source": [
    "FT_IDS['PMC1065265']"
   ]
  }
 ],
 "metadata": {
  "kernelspec": {
   "display_name": "pytorch",
   "language": "python",
   "name": "pytorch"
  },
  "language_info": {
   "codemirror_mode": {
    "name": "ipython",
    "version": 3
   },
   "file_extension": ".py",
   "mimetype": "text/x-python",
   "name": "python",
   "nbconvert_exporter": "python",
   "pygments_lexer": "ipython3",
   "version": "3.6.9"
  }
 },
 "nbformat": 4,
 "nbformat_minor": 2
}
