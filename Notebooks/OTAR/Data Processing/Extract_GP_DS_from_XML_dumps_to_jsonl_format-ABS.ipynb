{
 "cells": [
  {
   "cell_type": "code",
   "execution_count": 1,
   "metadata": {},
   "outputs": [],
   "source": [
    "# This script will process patch files to remove GP FPs in job folders on OTAR FullTextLoadings\n",
    "# (c) EMBL-EBI, Jan 2020\n",
    "#\n",
    "# Started: 15 Sept 2020\n",
    "# Updated: 13 Oct  2020\n",
    "\n",
    "_author_ = 'Santosh Tirunagari'\n",
    "\n",
    "import glob\n",
    "import gzip\n",
    "from bs4 import BeautifulSoup\n",
    "import lxml\n",
    "from collections import defaultdict\n",
    "from tqdm import tqdm\n",
    "import requests\n",
    "import random\n",
    "import sys\n",
    "import pathlib\n",
    "import json\n",
    "import io"
   ]
  },
  {
   "cell_type": "code",
   "execution_count": 2,
   "metadata": {},
   "outputs": [],
   "source": [
    "import argparse\n",
    "\n",
    "result_path = '/nfs/production/literature/Santosh_Tirunagari/GP_DS_jsonl_Extracted/ABS/'\n",
    "pathlib.Path(result_path).mkdir(parents=True, exist_ok=True)\n",
    "\n"
   ]
  },
  {
   "cell_type": "code",
   "execution_count": 3,
   "metadata": {},
   "outputs": [],
   "source": [
    "def get_GP_tags(file_soup):\n",
    "    gene_tags =[]\n",
    "    for each_ztag in file_soup.find_all('uniprot'):\n",
    "        gene_tags.append(each_ztag.text)\n",
    "    return list(set(gene_tags))"
   ]
  },
  {
   "cell_type": "code",
   "execution_count": 4,
   "metadata": {},
   "outputs": [],
   "source": [
    "def get_DS_tags(file_soup):\n",
    "    disease_tags = []\n",
    "    for each_ztag in file_soup.find_all('efo'):\n",
    "        disease_tags.append(each_ztag.text)\n",
    "    return list(set(disease_tags))"
   ]
  },
  {
   "cell_type": "code",
   "execution_count": 5,
   "metadata": {},
   "outputs": [],
   "source": [
    "file_path = '/nfs/production/literature/shyama/Abs20.09/ML_FP/Annot_medline.29697000.xml'"
   ]
  },
  {
   "cell_type": "code",
   "execution_count": 25,
   "metadata": {},
   "outputs": [],
   "source": [
    "def process_each_file_in_job(each_file_path):\n",
    "    \n",
    "    with io.open(each_file_path, 'r', encoding='utf8') as fh:\n",
    "        abs_text_content = fh.read()\n",
    "        \n",
    "    ss = abs_text_content.split('<PubmedArticle xmlns:z=\"ebistuff\">\\n')\n",
    "    subFileBlocks = ss[1:]\n",
    "    \n",
    "    article_tags_dict ={}\n",
    "    \n",
    "    for each_article in tqdm(subFileBlocks):\n",
    "        soup = BeautifulSoup(each_article, 'xml')\n",
    "        \n",
    "        try:\n",
    "            pm_id = 'PMID'+soup.find('PMID').text #\"article-id\"\n",
    "        except:\n",
    "            pm_id = 'PMID'\n",
    "        \n",
    "        GP_list = get_GP_tags(soup)\n",
    "        DS_list = get_DS_tags(soup)\n",
    "#         print(GP_list)\n",
    "        article_tags_dict['pmid'] = pm_id\n",
    "        article_tags_dict['GP'] = GP_list\n",
    "        article_tags_dict['DS'] = DS_list\n",
    "\n",
    "        with io.open(result_path+'tags_'+each_file_path.split('/')[-1][:-3]+'jsonl', 'a', encoding='utf8') as f:\n",
    "            json.dump(article_tags_dict,f, ensure_ascii=False)#.decode('unicode-escape').encode('utf8') #,indent = 2\n",
    "            f.write('\\n')"
   ]
  },
  {
   "cell_type": "code",
   "execution_count": 26,
   "metadata": {},
   "outputs": [
    {
     "name": "stderr",
     "output_type": "stream",
     "text": [
      "100%|██████████| 568/568 [00:07<00:00, 76.51it/s]\n"
     ]
    }
   ],
   "source": [
    "process_each_file_in_job(file_path)"
   ]
  },
  {
   "cell_type": "code",
   "execution_count": 18,
   "metadata": {},
   "outputs": [],
   "source": [
    "# with open(file_path, 'r') as fh:\n",
    "#     abs_text_content = fh.read()\n",
    "    \n",
    "# ss = abs_text_content.split('<PubmedArticle xmlns:z=\"ebistuff\">\\n')\n",
    "# subFileBlocks = ss[1:]"
   ]
  },
  {
   "cell_type": "code",
   "execution_count": 19,
   "metadata": {},
   "outputs": [],
   "source": [
    "# soup = BeautifulSoup(subFileBlocks[3], 'xml') #PMID29697001"
   ]
  },
  {
   "cell_type": "code",
   "execution_count": null,
   "metadata": {},
   "outputs": [],
   "source": [
    "# soup"
   ]
  },
  {
   "cell_type": "code",
   "execution_count": 20,
   "metadata": {},
   "outputs": [
    {
     "data": {
      "text/plain": [
       "'PPAR-β'"
      ]
     },
     "execution_count": 20,
     "metadata": {},
     "output_type": "execute_result"
    }
   ],
   "source": [
    "# gtags = soup.find_all('uniprot')\n",
    "# gtags[0].text"
   ]
  },
  {
   "cell_type": "code",
   "execution_count": 21,
   "metadata": {},
   "outputs": [
    {
     "ename": "TypeError",
     "evalue": "dump() missing 1 required positional argument: 'fp'",
     "output_type": "error",
     "traceback": [
      "\u001b[0;31m---------------------------------------------------------------------------\u001b[0m",
      "\u001b[0;31mTypeError\u001b[0m                                 Traceback (most recent call last)",
      "\u001b[0;32m<ipython-input-21-7489a7ee1f1d>\u001b[0m in \u001b[0;36m<module>\u001b[0;34m\u001b[0m\n\u001b[0;32m----> 1\u001b[0;31m \u001b[0mss1\u001b[0m \u001b[0;34m=\u001b[0m \u001b[0mjson\u001b[0m\u001b[0;34m.\u001b[0m\u001b[0mdump\u001b[0m\u001b[0;34m(\u001b[0m\u001b[0mgtags\u001b[0m\u001b[0;34m[\u001b[0m\u001b[0;36m0\u001b[0m\u001b[0;34m]\u001b[0m\u001b[0;34m.\u001b[0m\u001b[0mtext\u001b[0m\u001b[0;34m)\u001b[0m\u001b[0;31m#.decode('unicode-escape').encode('utf8')\u001b[0m\u001b[0;34m\u001b[0m\u001b[0;34m\u001b[0m\u001b[0m\n\u001b[0m\u001b[1;32m      2\u001b[0m \u001b[0mprint\u001b[0m\u001b[0;34m(\u001b[0m\u001b[0mss1\u001b[0m\u001b[0;34m)\u001b[0m\u001b[0;34m\u001b[0m\u001b[0;34m\u001b[0m\u001b[0m\n",
      "\u001b[0;31mTypeError\u001b[0m: dump() missing 1 required positional argument: 'fp'"
     ]
    }
   ],
   "source": [
    "# ss1 = json.dump(gtags[0].text)#.decode('unicode-escape').encode('utf8')\n",
    "# print(ss1)"
   ]
  }
 ],
 "metadata": {
  "kernelspec": {
   "display_name": "scispcacy",
   "language": "python",
   "name": "scispcacy"
  },
  "language_info": {
   "codemirror_mode": {
    "name": "ipython",
    "version": 3
   },
   "file_extension": ".py",
   "mimetype": "text/x-python",
   "name": "python",
   "nbconvert_exporter": "python",
   "pygments_lexer": "ipython3",
   "version": "3.6.9"
  }
 },
 "nbformat": 4,
 "nbformat_minor": 2
}
