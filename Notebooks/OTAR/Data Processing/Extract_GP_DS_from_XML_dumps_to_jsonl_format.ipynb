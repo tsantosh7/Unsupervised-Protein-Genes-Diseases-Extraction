{
 "cells": [
  {
   "cell_type": "code",
   "execution_count": 1,
   "metadata": {},
   "outputs": [],
   "source": [
    "# This script will process patch files to remove GP FPs in job folders on OTAR FullTextLoadings\n",
    "# (c) EMBL-EBI, Jan 2020\n",
    "#\n",
    "# Started: 15 Sept 2020\n",
    "# Updated: 13 Oct  2020\n",
    "\n",
    "_author_ = 'Santosh Tirunagari'\n",
    "\n",
    "import glob\n",
    "import gzip\n",
    "from bs4 import BeautifulSoup\n",
    "import lxml\n",
    "from collections import defaultdict\n",
    "from tqdm import tqdm\n",
    "import requests\n",
    "import random\n",
    "import sys\n",
    "import pathlib\n",
    "import json\n"
   ]
  },
  {
   "cell_type": "code",
   "execution_count": 2,
   "metadata": {},
   "outputs": [],
   "source": [
    "import argparse\n",
    "\n",
    "# import multiprocessing\n",
    "from fuzzywuzzy import fuzz\n",
    "\n",
    "result_path = '/nfs/production/literature/Santosh_Tirunagari/GP_DS_jsonl_Extracted/'\n",
    "\n",
    "pathlib.Path(result_path).mkdir(parents=True, exist_ok=True)\n",
    "\n",
    "def getfileblocks(file_path):\n",
    "    subFileBlocks = []\n",
    "\n",
    "    with open(file_path, 'r') as fh:\n",
    "        for line in fh:\n",
    "            if line.startswith('<!DOCTYPE'):\n",
    "                subFileBlocks.append(line)\n",
    "            else:\n",
    "                subFileBlocks[-1] += line\n",
    "\n",
    "    return subFileBlocks"
   ]
  },
  {
   "cell_type": "code",
   "execution_count": 3,
   "metadata": {},
   "outputs": [],
   "source": [
    "def get_GP_tags(file_soup):\n",
    "    gene_tags =[]\n",
    "    for each_ztag in file_soup.find_all('z:uniprot'):\n",
    "        gene_tags.append(each_ztag.text)\n",
    "    return list(set(gene_tags))"
   ]
  },
  {
   "cell_type": "code",
   "execution_count": 4,
   "metadata": {},
   "outputs": [],
   "source": [
    "def get_DS_tags(file_soup):\n",
    "    disease_tags = []\n",
    "    for each_ztag in file_soup.find_all('z:efo'):\n",
    "        disease_tags.append(each_ztag.text)\n",
    "    return list(set(disease_tags))"
   ]
  },
  {
   "cell_type": "code",
   "execution_count": 5,
   "metadata": {},
   "outputs": [],
   "source": [
    "file_path = '/nfs/production/literature/shyama/FullText20.09/ML_FP/Annot_PMC13900_PMC548680.xml'"
   ]
  },
  {
   "cell_type": "code",
   "execution_count": 6,
   "metadata": {},
   "outputs": [],
   "source": [
    "def process_each_file_in_job(each_file_path):\n",
    "    ss = getfileblocks(each_file_path)\n",
    "    article_tags_dict ={}\n",
    "    \n",
    "    for each_article in tqdm(ss):\n",
    "        soup = BeautifulSoup(each_article, 'lxml')\n",
    "        \n",
    "        try:\n",
    "            pm_id = 'PMC'+soup.find(attrs={\"pub-id-type\" : \"pmcid\"}).text #\"article-id\"\n",
    "        except:\n",
    "            pm_id = 'PMC'\n",
    "        \n",
    "        GP_list = get_GP_tags(soup)\n",
    "        DS_list = get_DS_tags(soup)\n",
    "        \n",
    "        article_tags_dict['pmid'] = pm_id\n",
    "        article_tags_dict['GP'] = GP_list\n",
    "        article_tags_dict['DS'] = DS_list\n",
    "\n",
    "        with open(result_path+'tags_'+each_file_path.split('/')[-1][:-3]+'jsonl', 'at') as f:\n",
    "            json.dump(article_tags_dict,f) #,indent = 2\n",
    "            f.write('\\n')"
   ]
  },
  {
   "cell_type": "code",
   "execution_count": 7,
   "metadata": {},
   "outputs": [
    {
     "name": "stderr",
     "output_type": "stream",
     "text": [
      "100%|██████████| 8526/8526 [05:35<00:00, 25.40it/s]\n"
     ]
    }
   ],
   "source": [
    "process_each_file_in_job(file_path)"
   ]
  },
  {
   "cell_type": "code",
   "execution_count": null,
   "metadata": {},
   "outputs": [],
   "source": []
  }
 ],
 "metadata": {
  "kernelspec": {
   "display_name": "scispcacy",
   "language": "python",
   "name": "scispcacy"
  },
  "language_info": {
   "codemirror_mode": {
    "name": "ipython",
    "version": 3
   },
   "file_extension": ".py",
   "mimetype": "text/x-python",
   "name": "python",
   "nbconvert_exporter": "python",
   "pygments_lexer": "ipython3",
   "version": "3.6.9"
  }
 },
 "nbformat": 4,
 "nbformat_minor": 2
}
