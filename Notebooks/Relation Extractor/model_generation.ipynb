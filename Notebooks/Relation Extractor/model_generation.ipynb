{
 "cells": [
  {
   "cell_type": "code",
   "execution_count": 1,
   "metadata": {},
   "outputs": [],
   "source": [
    "import sys\n",
    "import random\n",
    "import os\n",
    "from pathlib import Path\n",
    "import shutil\n",
    "import json\n",
    "\n",
    "import argparse\n",
    "import tqdm\n",
    "import spacy\n",
    "from spacy.gold import minibatch\n",
    "from spacy.language import Language\n",
    "from spacy import util\n",
    "\n",
    "from scispacy.data_util import read_full_med_mentions, read_ner_from_tsv\n",
    "from scispacy.per_class_scorer import PerClassScorer\n",
    "from scispacy.train_utils import evaluate_ner\n",
    "\n",
    "import en_core_sci_sm\n"
   ]
  },
  {
   "cell_type": "code",
   "execution_count": 2,
   "metadata": {},
   "outputs": [],
   "source": [
    "def train_ner(output_dir: str,\n",
    "              train_data_path: str,\n",
    "              dev_data_path: str,\n",
    "              test_data_path: str,\n",
    "              run_test: bool = None,\n",
    "              model: str = None,\n",
    "              n_iter: int = 10,\n",
    "              meta_overrides: str = None):\n",
    "\n",
    "    util.fix_random_seed(util.env_opt(\"seed\", 0))\n",
    "    train_data = read_ner_from_tsv(train_data_path)\n",
    "    dev_data = read_ner_from_tsv(dev_data_path)\n",
    "    test_data = read_ner_from_tsv(test_data_path)\n",
    "    os.makedirs(output_dir, exist_ok=True)\n",
    "    if run_test:\n",
    "        nlp = spacy.load(model)\n",
    "        print(\"Loaded model '%s'\" % model)\n",
    "        evaluate_ner(nlp, dev_data, dump_path=os.path.join(output_dir, \"dev_metrics.json\"))\n",
    "        evaluate_ner(nlp, test_data, dump_path=os.path.join(output_dir, \"test_metrics.json\"))\n",
    "    else:\n",
    "        train(model, train_data, dev_data, test_data, output_dir, n_iter, meta_overrides)"
   ]
  },
  {
   "cell_type": "code",
   "execution_count": 3,
   "metadata": {},
   "outputs": [],
   "source": [
    "def train(model, train_data, dev_data, test_data, output_dir, n_iter, meta_overrides):\n",
    "    \"\"\"Load the model, set up the pipeline and train the entity recognizer.\"\"\"\n",
    "    \n",
    "    if model is not None:\n",
    "        nlp = spacy.load(model)  # load existing spaCy model\n",
    "        print(\"Loaded model '%s'\" % model)\n",
    "    else:\n",
    "#         nlp = spacy.blank('en')  # create blank Language class\n",
    "        nlp = en_core_sci_sm.load()\n",
    "        print(\"Created blank 'en_core_sci_sm' model\")\n",
    "\n",
    "    if meta_overrides is not None:\n",
    "        metadata = json.load(open(meta_overrides))\n",
    "        nlp.meta.update(metadata)\n",
    "\n",
    "    original_tokenizer = nlp.tokenizer\n",
    "\n",
    "#     nlp.tokenizer = nlp_en.tokenizer\n",
    "\n",
    "    # create the built-in pipeline components and add them to the pipeline\n",
    "    # nlp.create_pipe works for built-ins that are registered with spaCy\n",
    "    if 'ner' not in nlp.pipe_names and \"parser\" in nlp.pipe_names:\n",
    "        ner = nlp.create_pipe('ner')\n",
    "        nlp.add_pipe(ner, after=\"parser\")\n",
    "    elif 'ner' not in nlp.pipe_names and \"tagger\" in nlp.pipe_names:\n",
    "        ner = nlp.create_pipe('ner')\n",
    "        nlp.add_pipe(ner, after=\"tagger\")\n",
    "    elif 'ner' not in nlp.pipe_names:\n",
    "        ner = nlp.create_pipe('ner')\n",
    "        nlp.add_pipe(ner, last=True)\n",
    "    # otherwise, get it so we can add labels\n",
    "    else:\n",
    "        ner = nlp.get_pipe('ner')\n",
    "\n",
    "    # add labels\n",
    "    for _, annotations in train_data:\n",
    "        for ent in annotations.get('entities'):\n",
    "            ner.add_label(ent[2])\n",
    "\n",
    "    # get names of other pipes to disable them during training\n",
    "    other_pipes = [pipe for pipe in nlp.pipe_names if pipe != 'ner']\n",
    "\n",
    "    dropout_rates = util.decaying(util.env_opt('dropout_from', 0.2),\n",
    "                                  util.env_opt('dropout_to', 0.2),\n",
    "                                  util.env_opt('dropout_decay', 0.005))\n",
    "    batch_sizes = util.compounding(util.env_opt('batch_from', 1),\n",
    "                                   util.env_opt('batch_to', 32),\n",
    "                                   util.env_opt('batch_compound', 1.001))\n",
    "\n",
    "    optimizer = nlp.begin_training()\n",
    "    best_epoch = 0\n",
    "    best_f1 = 0\n",
    "    for i in range(n_iter):\n",
    "        print(str(i)+'--'+str(n_iter))\n",
    "        random.shuffle(train_data)\n",
    "        count = 0\n",
    "        losses = {}\n",
    "        total = len(train_data)\n",
    "\n",
    "        with nlp.disable_pipes(*other_pipes):  # only train NER\n",
    "            with tqdm.tqdm(total=total, leave=True) as pbar:\n",
    "                for batch in minibatch(train_data, size=batch_sizes):\n",
    "                    docs, golds = zip(*batch)\n",
    "                    nlp.update(docs, golds, sgd=optimizer,\n",
    "                               losses=losses, drop=next(dropout_rates))\n",
    "                    pbar.update(len(batch))\n",
    "                    if count % 100 == 0 and count > 0:\n",
    "                        print('sum loss: %s' % losses['ner'])\n",
    "                    count += 1\n",
    "\n",
    "        # save model to output directory\n",
    "        output_dir_path = Path(output_dir + \"/\" + str(i))\n",
    "        if not output_dir_path.exists():\n",
    "            output_dir_path.mkdir()\n",
    "\n",
    "        with nlp.use_params(optimizer.averages):\n",
    "            nlp.tokenizer = original_tokenizer\n",
    "            nlp.to_disk(output_dir_path)\n",
    "            print(\"Saved model to\", output_dir_path)\n",
    "\n",
    "        # test the saved model\n",
    "        print(\"Loading from\", output_dir_path)\n",
    "        nlp2 = util.load_model_from_path(output_dir_path)\n",
    "#         nlp2.tokenizer = nlp_en.tokenizer\n",
    "\n",
    "        metrics = evaluate_ner(nlp2, dev_data)\n",
    "        if metrics[\"f1-measure-overall\"] > best_f1:\n",
    "            best_f1 = metrics[\"f1-measure-overall\"]\n",
    "            best_epoch = i\n",
    "    # save model to output directory\n",
    "    best_model_path = Path(output_dir + \"/\" + \"best\")\n",
    "    print(f\"Best Epoch: {best_epoch} of {n_iter}\")\n",
    "    if os.path.exists(best_model_path):\n",
    "        shutil.rmtree(best_model_path)\n",
    "    shutil.copytree(os.path.join(output_dir, str(best_epoch)),\n",
    "                    best_model_path)\n",
    "\n",
    "    # test the saved model\n",
    "    print(\"Loading from\", best_model_path)\n",
    "    nlp2 = util.load_model_from_path(best_model_path)\n",
    "#     nlp2.tokenizer = nlp_en.tokenizer\n",
    "\n",
    "    evaluate_ner(nlp2, dev_data, dump_path=os.path.join(output_dir, \"dev_metrics.json\"))\n",
    "    evaluate_ner(nlp2, test_data, dump_path=os.path.join(output_dir, \"test_metrics.json\"))"
   ]
  },
  {
   "cell_type": "code",
   "execution_count": 4,
   "metadata": {},
   "outputs": [],
   "source": [
    "datapath = '/nfs/gns/literature/Santosh_Tirunagari/GitHub/Unsupervised-Protein-Genes-Diseases-Extraction/Datasets/relation_dataset/'\n",
    "model_output_dir = '/nfs/gns/literature/Santosh_Tirunagari/GitHub/spacy_models/relation_ner/'\n",
    "train_data_path = datapath+'train.csv'\n",
    "dev_data_path = datapath+'devel.csv'\n",
    "test_data_path = datapath+'test.csv'\n",
    "run_test = False\n",
    "model_path = None\n",
    "iterations = 10\n",
    "meta_overrides = '/nfs/gns/literature/Santosh_Tirunagari/GitHub/scispacy/data/EPMC_ner.json'"
   ]
  },
  {
   "cell_type": "code",
   "execution_count": 5,
   "metadata": {},
   "outputs": [
    {
     "name": "stderr",
     "output_type": "stream",
     "text": [
      "  0%|          | 2/488 [00:00<00:39, 12.38it/s]"
     ]
    },
    {
     "name": "stdout",
     "output_type": "stream",
     "text": [
      "Created blank 'en_core_sci_sm' model\n",
      "0--10\n"
     ]
    },
    {
     "name": "stderr",
     "output_type": "stream",
     "text": [
      " 21%|██        | 103/488 [00:07<00:28, 13.50it/s]"
     ]
    },
    {
     "name": "stdout",
     "output_type": "stream",
     "text": [
      "sum loss: 1286.907295449678\n"
     ]
    },
    {
     "name": "stderr",
     "output_type": "stream",
     "text": [
      " 42%|████▏     | 203/488 [00:14<00:20, 14.06it/s]"
     ]
    },
    {
     "name": "stdout",
     "output_type": "stream",
     "text": [
      "sum loss: 2433.5036239369633\n"
     ]
    },
    {
     "name": "stderr",
     "output_type": "stream",
     "text": [
      " 62%|██████▏   | 303/488 [00:21<00:11, 15.58it/s]"
     ]
    },
    {
     "name": "stdout",
     "output_type": "stream",
     "text": [
      "sum loss: 3415.7817587864565\n"
     ]
    },
    {
     "name": "stderr",
     "output_type": "stream",
     "text": [
      " 83%|████████▎ | 403/488 [00:28<00:05, 15.38it/s]"
     ]
    },
    {
     "name": "stdout",
     "output_type": "stream",
     "text": [
      "sum loss: 4466.731679697009\n"
     ]
    },
    {
     "name": "stderr",
     "output_type": "stream",
     "text": [
      "100%|██████████| 488/488 [00:34<00:00, 14.33it/s]\n"
     ]
    },
    {
     "name": "stdout",
     "output_type": "stream",
     "text": [
      "Saved model to /nfs/gns/literature/Santosh_Tirunagari/GitHub/spacy_models/relation_ner/0\n",
      "Loading from /nfs/gns/literature/Santosh_Tirunagari/GitHub/spacy_models/relation_ner/0\n"
     ]
    },
    {
     "name": "stderr",
     "output_type": "stream",
     "text": [
      "  8%|▊         | 5/61 [00:00<00:01, 44.17it/s]"
     ]
    },
    {
     "name": "stdout",
     "output_type": "stream",
     "text": [
      "Evaluating 61 rows\n"
     ]
    },
    {
     "name": "stderr",
     "output_type": "stream",
     "text": [
      "100%|██████████| 61/61 [00:01<00:00, 43.78it/s]\n",
      "  0%|          | 2/488 [00:00<00:35, 13.77it/s]"
     ]
    },
    {
     "name": "stdout",
     "output_type": "stream",
     "text": [
      "precision-untyped: \t\t 0.6666666666666662\n",
      "recall-untyped: \t\t 0.5079365079365077\n",
      "f1-measure-untyped: \t\t 0.5765765765765272\n",
      "precision-overall: \t\t 0.5972222222222218\n",
      "recall-overall: \t\t 0.4550264550264548\n",
      "f1-measure-overall: \t\t 0.5165165165164671\n",
      "1--10\n"
     ]
    },
    {
     "name": "stderr",
     "output_type": "stream",
     "text": [
      " 21%|██        | 103/488 [00:07<00:27, 13.87it/s]"
     ]
    },
    {
     "name": "stdout",
     "output_type": "stream",
     "text": [
      "sum loss: 985.1858874339955\n"
     ]
    },
    {
     "name": "stderr",
     "output_type": "stream",
     "text": [
      " 42%|████▏     | 203/488 [00:15<00:24, 11.55it/s]"
     ]
    },
    {
     "name": "stdout",
     "output_type": "stream",
     "text": [
      "sum loss: 2058.910013603808\n"
     ]
    },
    {
     "name": "stderr",
     "output_type": "stream",
     "text": [
      " 82%|████████▏ | 401/488 [00:22<00:02, 30.76it/s]"
     ]
    },
    {
     "name": "stdout",
     "output_type": "stream",
     "text": [
      "sum loss: 4025.8034852732217\n"
     ]
    },
    {
     "name": "stderr",
     "output_type": "stream",
     "text": [
      "100%|██████████| 488/488 [00:24<00:00, 19.60it/s]\n"
     ]
    },
    {
     "name": "stdout",
     "output_type": "stream",
     "text": [
      "Saved model to /nfs/gns/literature/Santosh_Tirunagari/GitHub/spacy_models/relation_ner/1\n",
      "Loading from /nfs/gns/literature/Santosh_Tirunagari/GitHub/spacy_models/relation_ner/1\n"
     ]
    },
    {
     "name": "stderr",
     "output_type": "stream",
     "text": [
      "  8%|▊         | 5/61 [00:00<00:01, 43.36it/s]"
     ]
    },
    {
     "name": "stdout",
     "output_type": "stream",
     "text": [
      "Evaluating 61 rows\n"
     ]
    },
    {
     "name": "stderr",
     "output_type": "stream",
     "text": [
      "100%|██████████| 61/61 [00:01<00:00, 51.60it/s]\n",
      "  1%|          | 4/488 [00:00<00:14, 33.35it/s]"
     ]
    },
    {
     "name": "stdout",
     "output_type": "stream",
     "text": [
      "precision-untyped: \t\t 0.7382550335570465\n",
      "recall-untyped: \t\t 0.5820105820105816\n",
      "f1-measure-untyped: \t\t 0.6508875739644474\n",
      "precision-overall: \t\t 0.6979865771812075\n",
      "recall-overall: \t\t 0.5502645502645499\n",
      "f1-measure-overall: \t\t 0.6153846153845658\n",
      "2--10\n"
     ]
    },
    {
     "name": "stderr",
     "output_type": "stream",
     "text": [
      " 42%|████▏     | 206/488 [00:06<00:09, 28.45it/s]"
     ]
    },
    {
     "name": "stdout",
     "output_type": "stream",
     "text": [
      "sum loss: 1865.6044609369844\n"
     ]
    },
    {
     "name": "stderr",
     "output_type": "stream",
     "text": [
      " 83%|████████▎ | 404/488 [00:13<00:02, 30.18it/s]"
     ]
    },
    {
     "name": "stdout",
     "output_type": "stream",
     "text": [
      "sum loss: 3688.8786141548567\n"
     ]
    },
    {
     "name": "stderr",
     "output_type": "stream",
     "text": [
      "100%|██████████| 488/488 [00:16<00:00, 29.73it/s]\n"
     ]
    },
    {
     "name": "stdout",
     "output_type": "stream",
     "text": [
      "Saved model to /nfs/gns/literature/Santosh_Tirunagari/GitHub/spacy_models/relation_ner/2\n",
      "Loading from /nfs/gns/literature/Santosh_Tirunagari/GitHub/spacy_models/relation_ner/2\n"
     ]
    },
    {
     "name": "stderr",
     "output_type": "stream",
     "text": [
      "  8%|▊         | 5/61 [00:00<00:01, 47.43it/s]"
     ]
    },
    {
     "name": "stdout",
     "output_type": "stream",
     "text": [
      "Evaluating 61 rows\n"
     ]
    },
    {
     "name": "stderr",
     "output_type": "stream",
     "text": [
      "100%|██████████| 61/61 [00:01<00:00, 43.00it/s]\n",
      "  1%|          | 4/488 [00:00<00:17, 28.14it/s]"
     ]
    },
    {
     "name": "stdout",
     "output_type": "stream",
     "text": [
      "precision-untyped: \t\t 0.7251461988304089\n",
      "recall-untyped: \t\t 0.6560846560846557\n",
      "f1-measure-untyped: \t\t 0.6888888888888387\n",
      "precision-overall: \t\t 0.6959064327485376\n",
      "recall-overall: \t\t 0.6685393258426962\n",
      "f1-measure-overall: \t\t 0.6819484240687176\n",
      "3--10\n"
     ]
    },
    {
     "name": "stderr",
     "output_type": "stream",
     "text": [
      " 60%|██████    | 294/488 [00:07<00:04, 45.17it/s]"
     ]
    },
    {
     "name": "stdout",
     "output_type": "stream",
     "text": [
      "sum loss: 2494.9477137164777\n"
     ]
    },
    {
     "name": "stderr",
     "output_type": "stream",
     "text": [
      "100%|██████████| 488/488 [00:12<00:00, 39.62it/s]\n"
     ]
    },
    {
     "name": "stdout",
     "output_type": "stream",
     "text": [
      "Saved model to /nfs/gns/literature/Santosh_Tirunagari/GitHub/spacy_models/relation_ner/3\n",
      "Loading from /nfs/gns/literature/Santosh_Tirunagari/GitHub/spacy_models/relation_ner/3\n"
     ]
    },
    {
     "name": "stderr",
     "output_type": "stream",
     "text": [
      "  8%|▊         | 5/61 [00:00<00:01, 49.40it/s]"
     ]
    },
    {
     "name": "stdout",
     "output_type": "stream",
     "text": [
      "Evaluating 61 rows\n"
     ]
    },
    {
     "name": "stderr",
     "output_type": "stream",
     "text": [
      "100%|██████████| 61/61 [00:01<00:00, 51.65it/s]\n",
      "  1%|          | 6/488 [00:00<00:08, 54.26it/s]"
     ]
    },
    {
     "name": "stdout",
     "output_type": "stream",
     "text": [
      "precision-untyped: \t\t 0.7469879518072284\n",
      "recall-untyped: \t\t 0.6560846560846557\n",
      "f1-measure-untyped: \t\t 0.6985915492957244\n",
      "precision-overall: \t\t 0.7289156626506019\n",
      "recall-overall: \t\t 0.6402116402116398\n",
      "f1-measure-overall: \t\t 0.6816901408450202\n",
      "4--10\n"
     ]
    },
    {
     "name": "stderr",
     "output_type": "stream",
     "text": [
      " 64%|██████▍   | 312/488 [00:07<00:03, 45.74it/s]"
     ]
    },
    {
     "name": "stdout",
     "output_type": "stream",
     "text": [
      "sum loss: 2518.0633731764133\n"
     ]
    },
    {
     "name": "stderr",
     "output_type": "stream",
     "text": [
      "100%|██████████| 488/488 [00:10<00:00, 45.56it/s]\n"
     ]
    },
    {
     "name": "stdout",
     "output_type": "stream",
     "text": [
      "Saved model to /nfs/gns/literature/Santosh_Tirunagari/GitHub/spacy_models/relation_ner/4\n",
      "Loading from /nfs/gns/literature/Santosh_Tirunagari/GitHub/spacy_models/relation_ner/4\n"
     ]
    },
    {
     "name": "stderr",
     "output_type": "stream",
     "text": [
      "  8%|▊         | 5/61 [00:00<00:01, 44.28it/s]"
     ]
    },
    {
     "name": "stdout",
     "output_type": "stream",
     "text": [
      "Evaluating 61 rows\n"
     ]
    },
    {
     "name": "stderr",
     "output_type": "stream",
     "text": [
      "100%|██████████| 61/61 [00:01<00:00, 43.49it/s]\n",
      "  2%|▏         | 8/488 [00:00<00:10, 44.15it/s]"
     ]
    },
    {
     "name": "stdout",
     "output_type": "stream",
     "text": [
      "precision-untyped: \t\t 0.797546012269938\n",
      "recall-untyped: \t\t 0.6878306878306875\n",
      "f1-measure-untyped: \t\t 0.7386363636363135\n",
      "precision-overall: \t\t 0.779141104294478\n",
      "recall-overall: \t\t 0.6719576719576715\n",
      "f1-measure-overall: \t\t 0.7215909090908589\n",
      "5--10\n"
     ]
    },
    {
     "name": "stderr",
     "output_type": "stream",
     "text": [
      " 84%|████████▎ | 408/488 [00:08<00:01, 46.83it/s]"
     ]
    },
    {
     "name": "stdout",
     "output_type": "stream",
     "text": [
      "sum loss: 3271.3927103331544\n"
     ]
    },
    {
     "name": "stderr",
     "output_type": "stream",
     "text": [
      "100%|██████████| 488/488 [00:09<00:00, 49.30it/s]\n"
     ]
    },
    {
     "name": "stdout",
     "output_type": "stream",
     "text": [
      "Saved model to /nfs/gns/literature/Santosh_Tirunagari/GitHub/spacy_models/relation_ner/5\n",
      "Loading from /nfs/gns/literature/Santosh_Tirunagari/GitHub/spacy_models/relation_ner/5\n"
     ]
    },
    {
     "name": "stderr",
     "output_type": "stream",
     "text": [
      "  8%|▊         | 5/61 [00:00<00:01, 44.20it/s]"
     ]
    },
    {
     "name": "stdout",
     "output_type": "stream",
     "text": [
      "Evaluating 61 rows\n"
     ]
    },
    {
     "name": "stderr",
     "output_type": "stream",
     "text": [
      "100%|██████████| 61/61 [00:01<00:00, 43.98it/s]\n",
      "  2%|▏         | 8/488 [00:00<00:08, 55.83it/s]"
     ]
    },
    {
     "name": "stdout",
     "output_type": "stream",
     "text": [
      "precision-untyped: \t\t 0.7848837209302321\n",
      "recall-untyped: \t\t 0.7142857142857139\n",
      "f1-measure-untyped: \t\t 0.7479224376730799\n",
      "precision-overall: \t\t 0.7558139534883715\n",
      "recall-overall: \t\t 0.6878306878306875\n",
      "f1-measure-overall: \t\t 0.720221606648149\n",
      "6--10\n"
     ]
    },
    {
     "name": "stderr",
     "output_type": "stream",
     "text": [
      " 90%|█████████ | 441/488 [00:07<00:00, 72.96it/s]"
     ]
    },
    {
     "name": "stdout",
     "output_type": "stream",
     "text": [
      "sum loss: 3290.425525144984\n"
     ]
    },
    {
     "name": "stderr",
     "output_type": "stream",
     "text": [
      "100%|██████████| 488/488 [00:08<00:00, 60.38it/s]\n"
     ]
    },
    {
     "name": "stdout",
     "output_type": "stream",
     "text": [
      "Saved model to /nfs/gns/literature/Santosh_Tirunagari/GitHub/spacy_models/relation_ner/6\n",
      "Loading from /nfs/gns/literature/Santosh_Tirunagari/GitHub/spacy_models/relation_ner/6\n"
     ]
    },
    {
     "name": "stderr",
     "output_type": "stream",
     "text": [
      "  8%|▊         | 5/61 [00:00<00:01, 44.43it/s]"
     ]
    },
    {
     "name": "stdout",
     "output_type": "stream",
     "text": [
      "Evaluating 61 rows\n"
     ]
    },
    {
     "name": "stderr",
     "output_type": "stream",
     "text": [
      "100%|██████████| 61/61 [00:01<00:00, 41.58it/s]\n",
      "  1%|          | 5/488 [00:00<00:13, 35.20it/s]"
     ]
    },
    {
     "name": "stdout",
     "output_type": "stream",
     "text": [
      "precision-untyped: \t\t 0.7919075144508665\n",
      "recall-untyped: \t\t 0.7248677248677244\n",
      "f1-measure-untyped: \t\t 0.756906077348016\n",
      "precision-overall: \t\t 0.7745664739884388\n",
      "recall-overall: \t\t 0.7089947089947086\n",
      "f1-measure-overall: \t\t 0.7403314917126568\n",
      "7--10\n"
     ]
    },
    {
     "name": "stderr",
     "output_type": "stream",
     "text": [
      "100%|██████████| 488/488 [00:08<00:00, 58.02it/s]\n"
     ]
    },
    {
     "name": "stdout",
     "output_type": "stream",
     "text": [
      "Saved model to /nfs/gns/literature/Santosh_Tirunagari/GitHub/spacy_models/relation_ner/7\n",
      "Loading from /nfs/gns/literature/Santosh_Tirunagari/GitHub/spacy_models/relation_ner/7\n"
     ]
    },
    {
     "name": "stderr",
     "output_type": "stream",
     "text": [
      "  8%|▊         | 5/61 [00:00<00:01, 44.09it/s]"
     ]
    },
    {
     "name": "stdout",
     "output_type": "stream",
     "text": [
      "Evaluating 61 rows\n"
     ]
    },
    {
     "name": "stderr",
     "output_type": "stream",
     "text": [
      "100%|██████████| 61/61 [00:01<00:00, 42.13it/s]\n",
      "  2%|▏         | 10/488 [00:00<00:07, 61.06it/s]"
     ]
    },
    {
     "name": "stdout",
     "output_type": "stream",
     "text": [
      "precision-untyped: \t\t 0.7714285714285709\n",
      "recall-untyped: \t\t 0.7142857142857139\n",
      "f1-measure-untyped: \t\t 0.7417582417581913\n",
      "precision-overall: \t\t 0.7599999999999995\n",
      "recall-overall: \t\t 0.7037037037037033\n",
      "f1-measure-overall: \t\t 0.7307692307691804\n",
      "8--10\n"
     ]
    },
    {
     "name": "stderr",
     "output_type": "stream",
     "text": [
      "100%|██████████| 488/488 [00:07<00:00, 61.45it/s]\n"
     ]
    },
    {
     "name": "stdout",
     "output_type": "stream",
     "text": [
      "Saved model to /nfs/gns/literature/Santosh_Tirunagari/GitHub/spacy_models/relation_ner/8\n",
      "Loading from /nfs/gns/literature/Santosh_Tirunagari/GitHub/spacy_models/relation_ner/8\n"
     ]
    },
    {
     "name": "stderr",
     "output_type": "stream",
     "text": [
      "  8%|▊         | 5/61 [00:00<00:01, 42.84it/s]"
     ]
    },
    {
     "name": "stdout",
     "output_type": "stream",
     "text": [
      "Evaluating 61 rows\n"
     ]
    },
    {
     "name": "stderr",
     "output_type": "stream",
     "text": [
      "100%|██████████| 61/61 [00:01<00:00, 44.23it/s]\n",
      "  2%|▏         | 12/488 [00:00<00:06, 77.87it/s]"
     ]
    },
    {
     "name": "stdout",
     "output_type": "stream",
     "text": [
      "precision-untyped: \t\t 0.7643678160919535\n",
      "recall-untyped: \t\t 0.7037037037037033\n",
      "f1-measure-untyped: \t\t 0.7327823691459552\n",
      "precision-overall: \t\t 0.7471264367816087\n",
      "recall-overall: \t\t 0.6878306878306875\n",
      "f1-measure-overall: \t\t 0.7162534435261205\n",
      "9--10\n"
     ]
    },
    {
     "name": "stderr",
     "output_type": "stream",
     "text": [
      "100%|██████████| 488/488 [00:07<00:00, 68.17it/s]\n"
     ]
    },
    {
     "name": "stdout",
     "output_type": "stream",
     "text": [
      "Saved model to /nfs/gns/literature/Santosh_Tirunagari/GitHub/spacy_models/relation_ner/9\n",
      "Loading from /nfs/gns/literature/Santosh_Tirunagari/GitHub/spacy_models/relation_ner/9\n"
     ]
    },
    {
     "name": "stderr",
     "output_type": "stream",
     "text": [
      " 10%|▉         | 6/61 [00:00<00:01, 53.29it/s]"
     ]
    },
    {
     "name": "stdout",
     "output_type": "stream",
     "text": [
      "Evaluating 61 rows\n"
     ]
    },
    {
     "name": "stderr",
     "output_type": "stream",
     "text": [
      "100%|██████████| 61/61 [00:01<00:00, 49.79it/s]\n"
     ]
    },
    {
     "name": "stdout",
     "output_type": "stream",
     "text": [
      "precision-untyped: \t\t 0.7836257309941516\n",
      "recall-untyped: \t\t 0.7089947089947086\n",
      "f1-measure-untyped: \t\t 0.7444444444443942\n",
      "precision-overall: \t\t 0.771929824561403\n",
      "recall-overall: \t\t 0.698412698412698\n",
      "f1-measure-overall: \t\t 0.7333333333332832\n",
      "Best Epoch: 6 of 10\n",
      "Loading from /nfs/gns/literature/Santosh_Tirunagari/GitHub/spacy_models/relation_ner/best\n"
     ]
    },
    {
     "name": "stderr",
     "output_type": "stream",
     "text": [
      "  8%|▊         | 5/61 [00:00<00:01, 44.83it/s]"
     ]
    },
    {
     "name": "stdout",
     "output_type": "stream",
     "text": [
      "Evaluating 61 rows\n"
     ]
    },
    {
     "name": "stderr",
     "output_type": "stream",
     "text": [
      "100%|██████████| 61/61 [00:01<00:00, 48.03it/s]\n",
      "  8%|▊         | 5/61 [00:00<00:01, 47.24it/s]"
     ]
    },
    {
     "name": "stdout",
     "output_type": "stream",
     "text": [
      "precision-untyped: \t\t 0.7919075144508665\n",
      "recall-untyped: \t\t 0.7248677248677244\n",
      "f1-measure-untyped: \t\t 0.756906077348016\n",
      "precision-overall: \t\t 0.7745664739884388\n",
      "recall-overall: \t\t 0.7089947089947086\n",
      "f1-measure-overall: \t\t 0.7403314917126568\n",
      "Evaluating 61 rows\n"
     ]
    },
    {
     "name": "stderr",
     "output_type": "stream",
     "text": [
      "100%|██████████| 61/61 [00:01<00:00, 47.50it/s]\n"
     ]
    },
    {
     "name": "stdout",
     "output_type": "stream",
     "text": [
      "precision-untyped: \t\t 0.7387387387387384\n",
      "recall-untyped: \t\t 0.7999999999999996\n",
      "f1-measure-untyped: \t\t 0.7681498829039309\n",
      "precision-overall: \t\t 0.6568047337278102\n",
      "recall-overall: \t\t 0.7449664429530196\n",
      "f1-measure-overall: \t\t 0.6981132075471196\n"
     ]
    }
   ],
   "source": [
    "train_ner(model_output_dir,\n",
    "              train_data_path,\n",
    "              dev_data_path,\n",
    "              test_data_path,\n",
    "              run_test,\n",
    "              model_path,\n",
    "              iterations,\n",
    "              meta_overrides)"
   ]
  },
  {
   "cell_type": "code",
   "execution_count": 7,
   "metadata": {},
   "outputs": [
    {
     "name": "stdout",
     "output_type": "stream",
     "text": [
      "Loading from /nfs/gns/literature/Santosh_Tirunagari/GitHub/spacy_models/relation_ner/best/\n"
     ]
    }
   ],
   "source": [
    "best_model_path = model_output_dir+'best/'\n",
    "\n",
    "print(\"Loading from\", best_model_path)\n",
    "nlp2 = util.load_model_from_path(best_model_path)\n",
    "doc = nlp2(text)\n"
   ]
  },
  {
   "cell_type": "code",
   "execution_count": 16,
   "metadata": {},
   "outputs": [],
   "source": [
    "import pandas as pd\n",
    "\n",
    "df = pd.read_csv('/nfs/gns/literature/Santosh_Tirunagari/GitHub/Unsupervised-Protein-Genes-Diseases-Extraction/Notebooks/SpaCy NER and TextCat/agreed_.csv', names=['expert','sentence', 'label'])\n",
    "agreed_df = df[['sentence', 'label']] \n"
   ]
  },
  {
   "cell_type": "code",
   "execution_count": 32,
   "metadata": {},
   "outputs": [
    {
     "name": "stdout",
     "output_type": "stream",
     "text": [
      "Urinary TGF-β1 excretion increased in patients with crescentic nephritis (CN) (n = 15 p < 0.01) and with various types of proliferative GN (vGN) (n = 12 p < 0.05) compared to healthy subjects (n = 10).\n",
      "increased 25 34 POSITIVE_REGULATION\n"
     ]
    }
   ],
   "source": [
    "text = agreed_df.iloc[30].sentence\n",
    "# text = 'These results indicate the dentate gyrus is mostly comprised of mature neurons (NeuN), along with a smaller population of precursor cells (nestin) and newly differentiated neurons (DCX), which corresponds to prior findings examining the relative number of each cell population in the dentate gyrus, indicating the proportion of cells labeled by the sensor approximately reflects physiological proportions [21, 22]. '\n",
    "sentence = nlp2(text)\n",
    "print(text)\n",
    "for ent in sentence.ents:\n",
    "    print(ent.text, ent.start_char, ent.end_char, ent.label_)"
   ]
  },
  {
   "cell_type": "code",
   "execution_count": 34,
   "metadata": {},
   "outputs": [
    {
     "name": "stdout",
     "output_type": "stream",
     "text": [
      "\u001b[38;5;2m✔ Loaded meta.json from file\u001b[0m\n",
      "/nfs/gns/literature/Santosh_Tirunagari/GitHub/spacy_models/relation_ner/best/meta.json\n",
      "\u001b[38;5;2m✔ Successfully created package 'en_ner_europepmc_md-0.2.5'\u001b[0m\n",
      "/nfs/gns/literature/Santosh_Tirunagari/GitHub/spacy_models/relation_ner/model/en_ner_europepmc_md-0.2.5\n",
      "To build the package, run `python setup.py sdist` in this directory.\n"
     ]
    }
   ],
   "source": [
    "!python -m spacy package /nfs/gns/literature/Santosh_Tirunagari/GitHub/spacy_models/relation_ner/best/ /nfs/gns/literature/Santosh_Tirunagari/GitHub/spacy_models/relation_ner/model"
   ]
  },
  {
   "cell_type": "code",
   "execution_count": null,
   "metadata": {},
   "outputs": [],
   "source": []
  }
 ],
 "metadata": {
  "kernelspec": {
   "display_name": "scispcacy",
   "language": "python",
   "name": "scispcacy"
  },
  "language_info": {
   "codemirror_mode": {
    "name": "ipython",
    "version": 3
   },
   "file_extension": ".py",
   "mimetype": "text/x-python",
   "name": "python",
   "nbconvert_exporter": "python",
   "pygments_lexer": "ipython3",
   "version": "3.6.9"
  }
 },
 "nbformat": 4,
 "nbformat_minor": 2
}
