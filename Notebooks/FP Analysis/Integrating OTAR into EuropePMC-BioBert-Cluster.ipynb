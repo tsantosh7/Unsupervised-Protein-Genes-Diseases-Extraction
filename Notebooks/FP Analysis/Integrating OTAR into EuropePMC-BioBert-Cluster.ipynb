{
 "cells": [
  {
   "cell_type": "code",
   "execution_count": 249,
   "metadata": {},
   "outputs": [],
   "source": [
    "import glob\n",
    "import gzip\n",
    "from bs4 import BeautifulSoup\n",
    "import lxml\n",
    "from collections import defaultdict\n",
    "from tqdm import tqdm\n",
    "import requests\n",
    "import random\n",
    "import sys\n",
    "import pathlib\n",
    "import csv\n",
    "import pandas as pd\n",
    "\n",
    "import argparse\n",
    "\n",
    "# import multiprocessing\n",
    "from fuzzywuzzy import fuzz\n",
    "\n",
    "import numpy as np\n",
    "import itertools\n",
    "import re\n",
    "\n",
    "# set the system path\n",
    "sys.path.insert(1, '/nfs/gns/literature/machine-learning/Santosh/Gitlab/biobertepmc/')\n",
    "\n",
    "# BioBERT NER models\n",
    "import logging\n",
    "import torch\n",
    "from torch.utils.data import DataLoader\n",
    "import pickle\n",
    "from biobert.model.bert_crf_model import BertCRF\n",
    "from biobert.data_loader.epmc_loader import NERDatasetBatch\n",
    "from biobert.utils.utils import my_collate\n",
    "from statistics import mean\n",
    "from collections import namedtuple\n",
    "\n",
    "\n",
    "# Relations and associations model\n",
    "import en_ner_europepmc_md\n",
    "import en_relationv01\n",
    "\n",
    "import unicodedata\n",
    "# import datetime\n",
    "\n",
    "from nltk.tokenize import WordPunctTokenizer\n",
    "tokenizer = WordPunctTokenizer()"
   ]
  },
  {
   "cell_type": "code",
   "execution_count": 79,
   "metadata": {},
   "outputs": [],
   "source": [
    "Entity = namedtuple('Entity', ['span', 'tag', 'text', 'pre', 'post'])\n",
    "Entity_Label = namedtuple('Label', ['index', 'pos', 'tag', 'span'])"
   ]
  },
  {
   "cell_type": "code",
   "execution_count": null,
   "metadata": {},
   "outputs": [],
   "source": [
    "MODEL_PATH = '/nfs/gns/literature/machine-learning/Santosh/Gitlab/biobertepmc/reproduce_GP_DS_OG_CD/1604049631/'\n",
    "\n",
    "# path to the file that has model parameters\n",
    "params_path = MODEL_PATH + \"params.pickle\"\n",
    "with open(params_path, 'rb') as f:\n",
    "    params = pickle.load(f)\n",
    "params['max_ner_token_len'] = -1\n",
    "params['max_bert_token_len'] = -1\n",
    "\n",
    "device = torch.device(\"cuda:0\" if torch.cuda.is_available() else \"cpu\")\n",
    "\n",
    "ml_model = MLModel()"
   ]
  },
  {
   "cell_type": "code",
   "execution_count": 3,
   "metadata": {},
   "outputs": [
    {
     "name": "stdout",
     "output_type": "stream",
     "text": [
      "/nfs/gns/literature/Santosh_Tirunagari/miniconda3/condabin/conda\r\n"
     ]
    }
   ],
   "source": [
    "# !which conda"
   ]
  },
  {
   "cell_type": "code",
   "execution_count": 250,
   "metadata": {},
   "outputs": [
    {
     "name": "stdout",
     "output_type": "stream",
     "text": [
      "/nfs/gns/literature/Santosh_Tirunagari/miniconda3/envs/scispacy/bin/python\r\n"
     ]
    }
   ],
   "source": [
    "!which python"
   ]
  },
  {
   "cell_type": "code",
   "execution_count": 4,
   "metadata": {},
   "outputs": [],
   "source": [
    "# load association and relation models\n",
    "relation_model1 = en_relationv01.load()\n",
    "relation_model2 = en_ner_europepmc_md.load()"
   ]
  },
  {
   "cell_type": "code",
   "execution_count": 5,
   "metadata": {},
   "outputs": [],
   "source": [
    "batch_size = 8\n",
    "class MLModel:\n",
    "    def __init__(self):\n",
    "        self.bertCrf_model = load_model()\n",
    "\n",
    "        # bertCrf_model.load_state_dict(torch.load('/homes/yangx/home/gitrepo/biobertepmc/model/bert_crf_model.states', map_location=device))\n",
    "        self.bertCrf_model.load_state_dict(torch.load(MODEL_PATH + 'bert_crf_model.states', map_location=device))\n",
    "        self.bertCrf_model.bert_model.bert_model.to(device)\n",
    "\n",
    "    def post(self, sentences):\n",
    "        BATCH_SIZE = 16\n",
    "        text = sentences\n",
    "        # print(text)\n",
    "        with torch.no_grad():\n",
    "            processor, tokens, spans = load_data_processor(text)\n",
    "            dataLoader = DataLoader(dataset=processor, batch_size=BATCH_SIZE, collate_fn=my_collate, num_workers=2)\n",
    "\n",
    "            idx2label = params['idx2label']\n",
    "            self.bertCrf_model.eval()\n",
    "            entities = []\n",
    "            for i_batch, sample_batched in enumerate(dataLoader):\n",
    "                inputs = sample_batched['input']\n",
    "\n",
    "                bert_inputs, bert_attention_mask, bert_token_mask, wordpiece_alignment, split_alignments, lengths, token_mask \\\n",
    "                    = processor.tokens_totensor(inputs)\n",
    "\n",
    "                _, preds = self.bertCrf_model.predict(input_ids=bert_inputs.to(device),\n",
    "                                                      bert_attention_mask=bert_attention_mask.to(device),\n",
    "                                                      bert_token_mask=bert_token_mask,\n",
    "                                                      alignment=wordpiece_alignment,\n",
    "                                                      splits=(split_alignments, lengths),\n",
    "                                                      token_mask=token_mask)\n",
    "                if idx2label:\n",
    "                    for i, (path, score) in enumerate(preds):\n",
    "                        labels = [idx2label[p] for p in path]\n",
    "                        offset_index = i_batch * BATCH_SIZE + i\n",
    "                        entities.append([[e.span[0], e.span[1], e.tag, e.text]\n",
    "                                         for e in extract_entity(labels, spans[offset_index], text[offset_index])])\n",
    "        return {'annotations': entities}\n",
    "\n",
    "\n",
    "def load_data_processor(inputs):\n",
    "    token_spans = []\n",
    "    tokens = []\n",
    "    for line in inputs:\n",
    "        token_spans.append(list(tokenizer.span_tokenize(line)))\n",
    "        tokens.append([line[start: end] for start, end in token_spans[-1]])\n",
    "\n",
    "    processor = NERDatasetBatch.from_params(params=params, inputs=tokens)\n",
    "    return processor, tokens, token_spans\n",
    "\n",
    "\n",
    "def load_model():\n",
    "    allowed_transitions = None\n",
    "    model = BertCRF(num_tags=params['num_tags'],\n",
    "                    model_name=params['model_name'],\n",
    "                    stride=params['stride'],\n",
    "                    include_start_end_transitions=True,\n",
    "                    constraints=allowed_transitions)\n",
    "    return model\n",
    "\n",
    "\n",
    "def extract_entity(preds, spans, text, length=20):\n",
    "    \"\"\"\n",
    "    extract entity from label sequence\n",
    "    :param preds: a list of labels in a sentence\n",
    "    :type preds: List[str\n",
    "    :param spans:\n",
    "    :type spans:\n",
    "    :return: A list of entity object\n",
    "    :rtype: List[Entity]\n",
    "    \"\"\"\n",
    "    entities = []\n",
    "    tmp = []\n",
    "\n",
    "    for i, token in enumerate(preds):\n",
    "        if token == 'O':\n",
    "            pos, tag = 'O', 'O'\n",
    "            label = None\n",
    "        else:\n",
    "            pos, tag = token.split('-')\n",
    "            label = Entity_Label(index=i, pos=pos, tag=tag, span=spans[i])\n",
    "\n",
    "        if pos in {'B', 'O'} and tmp:\n",
    "            start_span = tmp[0].span[0]\n",
    "            end_span = tmp[-1].span[1]\n",
    "            entities.append(Entity(span=(start_span, end_span),\n",
    "                                   tag=tmp[0].tag,\n",
    "                                   text=text[start_span:end_span],\n",
    "                                   pre=text[max(0, start_span - length):start_span],\n",
    "                                   post=text[end_span: end_span + length]))\n",
    "            tmp[:] = []\n",
    "        if pos == 'B' or pos == 'I':\n",
    "            tmp.append(label)\n",
    "\n",
    "    if tmp:\n",
    "        start_span = tmp[0].span[0]\n",
    "        end_span = tmp[-1].span[-1]\n",
    "        entities.append(\n",
    "            Entity(span=(start_span, end_span),\n",
    "                   tag=tmp[0].tag,\n",
    "                   text=text[start_span:end_span],\n",
    "                   pre=text[max(0, start_span - length):start_span],\n",
    "                   post=text[end_span:end_span + length])\n",
    "        )\n",
    "    return entities\n",
    "\n",
    "\n",
    "# Create a function called \"chunks\" with two arguments, l and n:\n",
    "def chunks(l, n):\n",
    "    # For item i in a range that is a length of l,\n",
    "    for i in range(0, len(l), n):\n",
    "        # Create an index range for l of n items:\n",
    "        yield l[i:i + n]\n",
    "\n",
    "\n",
    "def clean_Nones(ner_tags_):\n",
    "    ner_tags = []\n",
    "    # had to do this as the position of entity tag and entity are exchanged in CD\n",
    "    for each_ner_tag in ner_tags_:\n",
    "        if 'CD' == each_ner_tag[2]:\n",
    "            ner_tags.append([each_ner_tag[0], each_ner_tag[1], each_ner_tag[3], each_ner_tag[2]])\n",
    "        else:\n",
    "            ner_tags.append(each_ner_tag)\n",
    "\n",
    "    ner_tags = sorted(ner_tags, key=lambda x: len(x[3]), reverse=True)\n",
    "    if len(ner_tags) == 1 and 'None' in ner_tags:\n",
    "        return ner_tags\n",
    "    elif len(ner_tags) > 1 and 'None' in ner_tags:\n",
    "        ner_tags.remove('None')\n",
    "        return ner_tags\n",
    "    else:\n",
    "        return ner_tags\n"
   ]
  },
  {
   "cell_type": "code",
   "execution_count": null,
   "metadata": {},
   "outputs": [],
   "source": [
    "# This function will compare ml tags and ztags. The agreed tags are then returned back\n",
    "def compare_ml_annotations_with_dictionary_tagged(ml_tags_, z_tags_):\n",
    "    agreed_z_tags = set()\n",
    "#     print(z_tags_, ml_tags_)\n",
    "    for each_z_tag in z_tags_:\n",
    "        for each_ml_annotation in ml_tags_:\n",
    "            if each_z_tag.lower() in missing_list:\n",
    "                agreed_z_tags.add(each_z_tag)\n",
    "            else:\n",
    "                score = fuzz.partial_ratio(each_ml_annotation, each_z_tag) #token_set_ratio\n",
    "                if score > 80:\n",
    "                    agreed_z_tags.add(each_z_tag)\n",
    "    return agreed_z_tags"
   ]
  },
  {
   "cell_type": "code",
   "execution_count": 7,
   "metadata": {},
   "outputs": [],
   "source": [
    "fulltext_scores={\n",
    "    \n",
    "'title':10,\n",
    "'intro':1,\n",
    "'result':5,\n",
    "'discus':2,\n",
    "'conclus':2,\n",
    "'case':1,\n",
    "'fig':5,\n",
    "'table':5,\n",
    "'appendix':1,\n",
    "'other':1\n",
    "}\n",
    "# fulltext_scores\n",
    "\n",
    "\n",
    "def assign_scores_to_sections(fulltext_scores_, section_tagged_):\n",
    "    scores = []\n",
    "    for key,val in fulltext_scores_.items():\n",
    "        if key in section_tagged_.lower():\n",
    "            return val\n",
    "\n",
    "    return fulltext_scores_['other']"
   ]
  },
  {
   "cell_type": "code",
   "execution_count": null,
   "metadata": {},
   "outputs": [],
   "source": [
    "# get gp, ds, cd, and og sets\n",
    "gp_set = set()\n",
    "ds_set = set()\n",
    "cd_set = set()\n",
    "og_set = set()"
   ]
  },
  {
   "cell_type": "code",
   "execution_count": 8,
   "metadata": {},
   "outputs": [],
   "source": [
    "# Read IDS OAs and RAs  Not usefu now. Use this when working at EuropePMC level\n",
    "# id_database_df= pd.read_csv('/nfs/gns/literature/Santosh_Tirunagari/OTAR_ids_dataset/id_dataset.csv')\n",
    "# FT_IDS = dict(zip(id_database_df['FT_ID'].values.tolist(), id_database_df['PUB_DATE'].values))\n",
    "# id_database_df.sample(n=2)\n",
    "\n",
    "# try:\n",
    "#     pmc_id = 'PMC'+soup.find(attrs={\"pub-id-type\" : \"pmcid\"}).text\n",
    "#     if pmc_id in FT_IDS:\n",
    "#         pub_date = FT_IDS[pmc_id]\n",
    "#         print(pmc_id, pub_date)\n",
    "#     else:\n",
    "#         print(pmc_id+ ' not found')\n",
    "# except:\n",
    "#     print(pmc_id+ ' not found')"
   ]
  },
  {
   "cell_type": "code",
   "execution_count": 6,
   "metadata": {},
   "outputs": [],
   "source": [
    "# data_file_path = '/nfs/misc/literature/rdf_annotation_data/daily_pipeline_api/15_08_1947/fulltext/job_14/annotation/patch-total-417.xml.gz'\n",
    "\n",
    "# # data_file_path = '/nfs/misc/literature/rdf_annotation_data/daily_pipeline_api/15_08_1947/abstract/job_21/annotation/patch-total-415.abstract.gz'\n",
    "\n",
    "# def getfileblocks(file_path):\n",
    "#     subFileBlocks = []\n",
    "\n",
    "#     with gzip.open(file_path, 'rt') as fh: #gzip.open\n",
    "#         for line in fh:\n",
    "#             if line.startswith('<!DOCTYPE article'):  # <!DOCTYPE \"JATS-archivearticle1.dtd\">\n",
    "#                 subFileBlocks.append(line)\n",
    "#             else:\n",
    "#                 subFileBlocks[-1] += line\n",
    "\n",
    "#     return subFileBlocks"
   ]
  },
  {
   "cell_type": "code",
   "execution_count": 212,
   "metadata": {},
   "outputs": [],
   "source": [
    "import io\n",
    "data_folder_path = '/nfs/production/literature/Santosh_Tirunagari/20.11_FT_Chunks/'\n",
    "data_file_path = data_folder_path+ 'Annot_PMC2111990_PMC2131188_split_99.xml'#'Annot_PMC6432232_PMC6447240_split_36.xml'\n",
    "\n",
    "\n",
    "def getfileblocks(file_path):\n",
    "    subFileBlocks = []\n",
    "\n",
    "    with io.open(file_path, 'r', encoding='utf8') as fh:\n",
    "        for line in fh:\n",
    "            if line.startswith('<!DOCTYPE'):\n",
    "                subFileBlocks.append(line)\n",
    "            else:\n",
    "                subFileBlocks[-1] += line\n",
    "\n",
    "    return subFileBlocks\n"
   ]
  },
  {
   "cell_type": "code",
   "execution_count": 213,
   "metadata": {},
   "outputs": [],
   "source": [
    "files_list = getfileblocks(data_file_path)"
   ]
  },
  {
   "cell_type": "code",
   "execution_count": 214,
   "metadata": {},
   "outputs": [],
   "source": [
    "soup = BeautifulSoup(files_list[11], 'lxml')"
   ]
  },
  {
   "cell_type": "code",
   "execution_count": 215,
   "metadata": {},
   "outputs": [
    {
     "data": {
      "text/plain": [
       "<!DOCTYPE >\n",
       "<html><body><p>JATS-archivearticle1.dtd\"&gt;\n",
       "<ebiroot xmlns:z=\"ebistuff\"><article article-type=\"research-article\" xmlns:mml=\"http://www.w3.org/1998/Math/MathML\" xmlns:xlink=\"http://www.w3.org/1999/xlink\"><?properties open_access?><?DTDIdentifier.IdentifierValue -//NLM//DTD Journal Archiving and Interchange DTD v2.3 20070202//EN?><?DTDIdentifier.IdentifierType public?><?SourceDTD.DTDName archivearticle.dtd?><?SourceDTD.Version 2.3?><?ConverterInfo.XSLTName jp2nlmx2.xsl?><?ConverterInfo.Version 1?><front><journal-meta><journal-id journal-id-type=\"nlm-ta\">J Exp Med</journal-id><journal-id journal-id-type=\"iso-abbrev\">J. Exp. Med</journal-id><journal-title-group><journal-title>The Journal of Experimental Medicine</journal-title></journal-title-group><issn pub-type=\"ppub\">0022-1007</issn><issn pub-type=\"epub\">1540-9538</issn><publisher><publisher-name>The Rockefeller University Press</publisher-name></publisher></journal-meta><article-meta><article-id pub-id-type=\"pmid\">19869123</article-id><article-categories><subj-group subj-group-type=\"heading\"><subject>Article</subject></subj-group></article-categories><title-group><article-title><text><sent pm=\".\" sid=\"512374\"><plain>EFFECT OF THYROIDECTOMY AND OF THYMECTOMY IN EXPERIMENTAL SYPHILIS OF THE RABBIT </plain></sent>\n",
       "</text></article-title></title-group><contrib-group><contrib contrib-type=\"author\"><name><surname>Pearce</surname><given-names>Louise</given-names></name></contrib><contrib contrib-type=\"author\"><name><surname>Van Allen</surname><given-names>Chester M.</given-names></name></contrib></contrib-group><aff id=\"N0x1c3d930N0x1d9cd18\">From the Laboratories of The Rockefeller Institute for Medical Research.</aff><pub-date pub-type=\"ppub\"><day>28</day><month>2</month><year>1926</year></pub-date><volume>43</volume><issue>3</issue><fpage>297</fpage><lpage>316</lpage><history><date date-type=\"received\"><day>5</day><month>11</month><year>1925</year></date></history><permissions><copyright-statement>Copyright © Copyright, 1926, by The Rockefeller Institute for Medical Research New York</copyright-statement><license license-type=\"openaccess\"><license-p>This article is distributed under the terms of an Attribution–Noncommercial–Share Alike–No Mirror Sites license for the first six months after the publication date (see <ext-link ext-link-type=\"uri\" xlink:href=\"http://www.rupress.org/terms\">http://www.rupress.org/terms</ext-link>). After six months it is available under a Creative Commons License (Attribution–Noncommercial–Share Alike 4.0 Unported license, as described at <ext-link ext-link-type=\"uri\" xlink:href=\"http://creativecommons.org/licenses/by-nc-sa/4.0/\">http://creativecommons.org/licenses/by-nc-sa/4.0/</ext-link>).</license-p></license></permissions><abstract><p><text><sent pm=\".\" sid=\"512375\"><plain>Experiments are described in which the thyroid or thymus gland of rabbits was removed prior to inoculation of the animals with Tr. pallidum. </plain></sent>\n",
       "<sent pm=\".\" sid=\"512376\"><plain>The effect of these procedures is described from the standpoint of the manifestations of the disease. </plain></sent>\n",
       "<sent pm=\".\" sid=\"512377\"><plain>After complete thyroidectomy, the disease was considerably more severe than in the controls and very markedly so in certain instances. </plain></sent>\n",
       "<sent pm=\".\" sid=\"512378\"><plain>Partial tyroidectomy, on the other hand, resulted in a milder disease than that of the controls. </plain></sent>\n",
       "<sent pm=\".\" sid=\"512379\"><plain>The effect of complete thymectomy was less pronounced than that of either complete or partial thyroidectomy, but, in general, the <z:efo cat=\"disease\" ids=\"EFO_0007504\">syphilis</z:efo> resembled that in partially thyroidectomized animals. </plain></sent>\n",
       "<sent pm=\".\" sid=\"512380\"><plain>These effects are discussed in relation to the host's reaction and resistance to experimental <z:efo cat=\"disease\" ids=\"EFO_0007504\">syphilis</z:efo> and the conclusion was reached that the integrity and balance of the glands of internal secretion play an important rôle in the mechanism of defense against this <z:efo cat=\"disease\" ids=\"EFO_0005741\">infection</z:efo>. </plain></sent>\n",
       "</text></p></abstract></article-meta></front></article>\n",
       "</ebiroot>\n",
       "</p></body></html>"
      ]
     },
     "execution_count": 215,
     "metadata": {},
     "output_type": "execute_result"
    }
   ],
   "source": [
    "soup"
   ]
  },
  {
   "cell_type": "code",
   "execution_count": 216,
   "metadata": {},
   "outputs": [],
   "source": [
    "  \n",
    "# publicate_date = datetime.datetime.strptime(publication_date,\"%Y-%m-%d\")\n",
    "# print(publicate_date.date())"
   ]
  },
  {
   "cell_type": "code",
   "execution_count": 217,
   "metadata": {},
   "outputs": [],
   "source": [
    "all_sentences = soup.find_all('sent')# all_sentences = soup.find_all('SENT')"
   ]
  },
  {
   "cell_type": "code",
   "execution_count": 218,
   "metadata": {},
   "outputs": [],
   "source": [
    "try:\n",
    "    abs_full = soup.find('abstract').text\n",
    "    abs_sentences = soup.find('abstract').find_all('plain')\n",
    "    total_abstract_length = len(abs_sentences)\n",
    "except:\n",
    "    abs_full =''\n",
    "    abs_sentences =''\n",
    "    "
   ]
  },
  {
   "cell_type": "code",
   "execution_count": 219,
   "metadata": {},
   "outputs": [],
   "source": [
    "plain_sentences = []\n",
    "section_tags = defaultdict(set)\n",
    "evidence_scores = defaultdict(list)\n",
    "gene_sentences = defaultdict(set)\n",
    "disease_setences = defaultdict(set)\n",
    "line_count = 0    \n",
    "for each_sentence in all_sentences:\n",
    "    extracted_sentence = each_sentence.plain\n",
    "    \n",
    "    if extracted_sentence:\n",
    "        clean_text = unicodedata.normalize(\"NFKD\",extracted_sentence.text).strip()\n",
    "\n",
    "        try:\n",
    "            title_tag = extracted_sentence.findParent('article-title')\n",
    "        except:\n",
    "            title_tag =''\n",
    "                \n",
    "        try:\n",
    "#             section_tags[extracted_sentence.text].add(extracted_sentence.findParents('SecTag')[0]['type'])\n",
    "            if title_tag:\n",
    "                section_tags[clean_text].add('title')\n",
    "                evidence_scores[clean_text].append(10)\n",
    "            else:\n",
    "                try:\n",
    "                    if extracted_sentence in abs_sentences:\n",
    "                        section_tagged = 'Abstract'\n",
    "                    else:\n",
    "                        section_tagged = extracted_sentence.findParent('sec').title.text.strip()\n",
    "                    \n",
    "                except:\n",
    "                    section_tagged =''\n",
    "                \n",
    "                if section_tagged:\n",
    "                    section_tags[clean_text].add(section_tagged)\n",
    "                    # evidence scores\n",
    "                    if 'abstract' in section_tagged.lower():\n",
    "#                         print(line_count)\n",
    "                        line_count = line_count+1\n",
    "                        if line_count ==1 or line_count==2:\n",
    "                            evidence_scores[clean_text].append(2)\n",
    "                        elif line_count==total_abstract_length:\n",
    "                            evidence_scores[clean_text].append(5)\n",
    "                        else:\n",
    "                            evidence_scores[clean_text].append(3)\n",
    "                    else:\n",
    "                        evi_scor = assign_scores_to_sections(fulltext_scores,section_tagged)\n",
    "#                         print(section_tagged, evi_scor)\n",
    "                        evidence_scores[clean_text].append(evi_scor)\n",
    "                else:\n",
    "                    evidence_scores[clean_text].append(1)               \n",
    "        except:\n",
    "#             section_tags[extracted_sentence.text].add('Other')\n",
    "#             evidence_scores[extracted_sentence.text].append(1)\n",
    "            pass\n",
    "        \n",
    "        plain_sentences.append(clean_text)\n",
    "  "
   ]
  },
  {
   "cell_type": "code",
   "execution_count": 220,
   "metadata": {},
   "outputs": [],
   "source": [
    "try:\n",
    "    uniprot_ztags = soup.find_all('z:uniprot')\n",
    "    for each_tag in uniprot_ztags:\n",
    "        uniprot_set.add(each_tag.text)\n",
    "except:\n",
    "    print('no uniprot_ztags found ')\n",
    "\n",
    "try:   \n",
    "    efo_ztags = soup.find_all('z:efo')\n",
    "    for each_tag in efo_ztags:\n",
    "        efo_set.add(each_tag.text)\n",
    "except:\n",
    "    print('no efo_ztags found ')"
   ]
  },
  {
   "cell_type": "code",
   "execution_count": 221,
   "metadata": {},
   "outputs": [],
   "source": [
    "for each_sentence,scores in evidence_scores.items():\n",
    "    average_score = mean(scores)\n",
    "    average_evidence_scores[each_sentence] = average_score\n",
    "    \n",
    "# average_evidence_scores"
   ]
  },
  {
   "cell_type": "code",
   "execution_count": 222,
   "metadata": {},
   "outputs": [],
   "source": [
    "from nltk.tokenize import WordPunctTokenizer\n",
    "tokenizer = WordPunctTokenizer()\n",
    "\n",
    "def get_all_tags(all_sentences):\n",
    "    ML_annotations = ml_model.post(all_sentences)\n",
    "    return ML_annotations['annotations']#list(filter(None, ML_annotations['annotations']))"
   ]
  },
  {
   "cell_type": "code",
   "execution_count": 223,
   "metadata": {},
   "outputs": [],
   "source": [
    "annotations = get_all_tags(plain_sentences)"
   ]
  },
  {
   "cell_type": "code",
   "execution_count": 224,
   "metadata": {},
   "outputs": [
    {
     "data": {
      "text/plain": [
       "[[],\n",
       " [[66, 73, 'OG', 'rabbits'],\n",
       "  [114, 121, 'OG', 'animals'],\n",
       "  [127, 139, 'OG', 'Tr. pallidum']],\n",
       " [],\n",
       " [],\n",
       " [],\n",
       " [[130, 138, 'DS', 'syphilis'], [184, 191, 'OG', 'animals']],\n",
       " [[94, 102, 'DS', 'syphilis'], [266, 275, 'DS', 'infection']]]"
      ]
     },
     "execution_count": 224,
     "metadata": {},
     "output_type": "execute_result"
    }
   ],
   "source": [
    "annotations"
   ]
  },
  {
   "cell_type": "code",
   "execution_count": 225,
   "metadata": {},
   "outputs": [],
   "source": [
    "\n",
    "    \n",
    "    "
   ]
  },
  {
   "cell_type": "code",
   "execution_count": 226,
   "metadata": {},
   "outputs": [
    {
     "data": {
      "text/plain": [
       "[[],\n",
       " [[66, 73, 'OG', 'rabbits'],\n",
       "  [114, 121, 'OG', 'animals'],\n",
       "  [127, 139, 'OG', 'Tr. pallidum']],\n",
       " [],\n",
       " [],\n",
       " [],\n",
       " [[130, 138, 'DS', 'syphilis'], [184, 191, 'OG', 'animals']],\n",
       " [[94, 102, 'DS', 'syphilis'], [266, 275, 'DS', 'infection']]]"
      ]
     },
     "execution_count": 226,
     "metadata": {},
     "output_type": "execute_result"
    }
   ],
   "source": [
    "final_annotations"
   ]
  },
  {
   "cell_type": "code",
   "execution_count": 227,
   "metadata": {},
   "outputs": [],
   "source": [
    "def roundoff(dict_y):\n",
    "    for k, v in dict_y.items():\n",
    "        v = round(v,2) \n",
    "        dict_y[k] = v \n",
    "    return dict_y\n",
    "\n",
    "\n",
    "def get_new_missing_tags(each_sentence, missing_list_, tag_type):\n",
    "    new_entities = []\n",
    "    for missing_string in missing_list_:\n",
    "        for i in re.finditer(missing_string, each_sentence.lower()):\n",
    "            indexlocation= i.span()\n",
    "    #         print(indexlocation)\n",
    "            startindex= i.start()\n",
    "            endindex= i.end()\n",
    "            entity = each_sentence[indexlocation[0]:indexlocation[1]]\n",
    "            new_entities.append([startindex,endindex, tag_type, entity])\n",
    "    return new_entities"
   ]
  },
  {
   "cell_type": "code",
   "execution_count": 228,
   "metadata": {},
   "outputs": [
    {
     "name": "stderr",
     "output_type": "stream",
     "text": [
      "100%|██████████| 7/7 [00:00<00:00, 18535.43it/s]\n"
     ]
    }
   ],
   "source": [
    "ml_tagged_sentences = defaultdict(list)\n",
    "count = 0\n",
    "for each_sentence in tqdm(plain_sentences):\n",
    "#     rs = requests.post(url, data={'text': each_sentence})\n",
    "#     ml_annotations = rs.json()['annotations']\n",
    "    new_entities = get_new_missing_tags(each_sentence, missing_list, tag_type='DS')\n",
    "    all_tags = new_entities+final_annotations[count] \n",
    "\n",
    "    if all_tags:\n",
    "        ml_tagged_sentences[each_sentence] = all_tags\n",
    "        for each_ml_tag in all_tags:\n",
    "            if each_ml_tag[2] =='GP':\n",
    "                gp_set.add(each_ml_tag[3])\n",
    "            elif each_ml_tag[2] =='DS':\n",
    "                ds_set.add(each_ml_tag[3])\n",
    "            if each_ml_tag[2] =='CD':\n",
    "                cd_set.add(each_ml_tag[3])\n",
    "            if each_ml_tag[2] =='OG':\n",
    "                og_set.add(each_ml_tag[3])\n",
    "\n",
    "    count = count+1\n",
    "    "
   ]
  },
  {
   "cell_type": "code",
   "execution_count": 229,
   "metadata": {},
   "outputs": [
    {
     "data": {
      "text/plain": [
       "defaultdict(list,\n",
       "            {'Experiments are described in which the thyroid or thymus gland of rabbits was removed prior to inoculation of the animals with Tr. pallidum.': [[66,\n",
       "               73,\n",
       "               'OG',\n",
       "               'rabbits'],\n",
       "              [114, 121, 'OG', 'animals'],\n",
       "              [127, 139, 'OG', 'Tr. pallidum']],\n",
       "             'The effect of complete thymectomy was less pronounced than that of either complete or partial thyroidectomy, but, in general, the syphilis resembled that in partially thyroidectomized animals.': [[130,\n",
       "               138,\n",
       "               'DS',\n",
       "               'syphilis'],\n",
       "              [184, 191, 'OG', 'animals']],\n",
       "             \"These effects are discussed in relation to the host's reaction and resistance to experimental syphilis and the conclusion was reached that the integrity and balance of the glands of internal secretion play an important rôle in the mechanism of defense against this infection.\": [[94,\n",
       "               102,\n",
       "               'DS',\n",
       "               'syphilis'],\n",
       "              [266, 275, 'DS', 'infection']]})"
      ]
     },
     "execution_count": 229,
     "metadata": {},
     "output_type": "execute_result"
    }
   ],
   "source": [
    "ml_tagged_sentences"
   ]
  },
  {
   "cell_type": "code",
   "execution_count": 230,
   "metadata": {},
   "outputs": [],
   "source": [
    "# ML not recognising covid terms in some cases."
   ]
  },
  {
   "cell_type": "code",
   "execution_count": 231,
   "metadata": {},
   "outputs": [],
   "source": [
    "# This is for dictionary based method\n",
    "\n",
    "# def get_article_offset_per_tag(soup, tagset):\n",
    "#     dicttag = defaultdict(list)\n",
    "   \n",
    "    \n",
    "#     for each_tag in tagset:\n",
    "#         for i in re.finditer(each_tag, each_sentence.lower()):\n",
    "#             indexlocation= i.span()\n",
    "#     #         print(indexlocation)\n",
    "#             startindex= i.start()\n",
    "#             endindex= i.end()\n",
    "#             entity = each_sentence[indexlocation[0]:indexlocation[1]]\n",
    "#         dicttag[each_tag].append([each_sentence, each_ml_tag[0], each_ml_tag[1]])\n",
    "#     return dicttag\n",
    "\n",
    "# def compare_ml_annotations_with_dictionary_tagged(ml_tags_, z_tags_):\n",
    "#     agreed_z_tags = set()\n",
    "# #     print(z_tags_, ml_tags_)\n",
    "#     for each_z_tag in z_tags_:\n",
    "#         for each_ml_annotation in ml_tags_:\n",
    "#             if each_z_tag.lower() in missing_list:\n",
    "#                 agreed_z_tags.add(each_z_tag)\n",
    "#             else:\n",
    "#                 score = fuzz.partial_ratio(each_ml_annotation, each_z_tag) #token_set_ratio\n",
    "#                 if score > 80:\n",
    "#                     agreed_z_tags.add(each_z_tag)\n",
    "#     return list(z_tags_- agreed_z_tags)\n",
    "\n",
    "# all_ml_gp_tags = set()\n",
    "# all_ml_ds_tags = set()\n",
    "# all_gp_ztags = set()\n",
    "# all_ds_ztags = set()\n",
    "\n",
    "# for each_sentence, gp_z_tags in gene_sentences.items():\n",
    "#     ml_tags = ml_tagged_sentences[each_sentence]\n",
    "#     print(ml_tags)\n",
    "#     for each_ml_tag in ml_tags:\n",
    "#         if each_ml_tag[2] =='GP':\n",
    "#             all_ml_gp_tags.add(each_ml_tag[3])\n",
    "#     for each_gp_ztag in gp_z_tags:\n",
    "#         all_gp_ztags.add(each_gp_ztag)\n",
    "    \n",
    "# for each_sentence, ds_z_tags in disease_setences.items():\n",
    "#     ml_tags = ml_tagged_sentences[each_sentence]\n",
    "#     for each_ml_tag in ml_tags:\n",
    "#         if each_ml_tag[2] =='DS':\n",
    "#             all_ml_ds_tags.add(each_ml_tag[3])\n",
    "#     for each_ds_ztag in ds_z_tags:\n",
    "#         all_ds_ztags.add(each_ds_ztag)  \n",
    "\n",
    "# GP_false_postives = compare_ml_annotations_with_dictionary_tagged(all_ml_gp_tags, all_gp_ztags)\n",
    "# GP_false_postives\n",
    "\n",
    "# DS_false_postives = compare_ml_annotations_with_dictionary_tagged(all_ml_ds_tags, all_ds_ztags)\n",
    "# DS_false_postives"
   ]
  },
  {
   "cell_type": "code",
   "execution_count": 232,
   "metadata": {},
   "outputs": [],
   "source": []
  },
  {
   "cell_type": "code",
   "execution_count": 233,
   "metadata": {},
   "outputs": [
    {
     "data": {
      "text/plain": [
       "(set(),\n",
       " {'infection', 'syphilis'},\n",
       " {'Creatinine',\n",
       "  'Spironolacton',\n",
       "  'Uric acid',\n",
       "  'aldosterone',\n",
       "  'bilirubin',\n",
       "  'creatinine',\n",
       "  'ecadotril',\n",
       "  'sildenafil',\n",
       "  'thiazides',\n",
       "  'urea',\n",
       "  'uric acid'})"
      ]
     },
     "execution_count": 233,
     "metadata": {},
     "output_type": "execute_result"
    }
   ],
   "source": [
    "uniprot_fp_removed_set = compare_ml_annotations_with_dictionary_tagged(gp_set, uniprot_set)\n",
    "uniprot_fp_removed_set, efo_set, cd_set"
   ]
  },
  {
   "cell_type": "code",
   "execution_count": 234,
   "metadata": {},
   "outputs": [
    {
     "name": "stderr",
     "output_type": "stream",
     "text": [
      "100%|██████████| 7/7 [00:00<00:00, 11362.28it/s]\n"
     ]
    }
   ],
   "source": [
    "ztag_sentences = {}\n",
    "for each_sentence in tqdm(plain_sentences):\n",
    "    uniport_entities = get_new_missing_tags(each_sentence, uniprot_fp_removed_set, tag_type='GP')\n",
    "    efo_entities = get_new_missing_tags(each_sentence, efo_set, tag_type='DS')\n",
    "    cd_entities = get_new_missing_tags(each_sentence, cd_set, tag_type='CD')\n",
    "    all_tags = uniport_entities+efo_entities+cd_entities\n",
    "    if all_tags:\n",
    "        ztag_sentences[each_sentence]= all_tags\n"
   ]
  },
  {
   "cell_type": "code",
   "execution_count": 235,
   "metadata": {},
   "outputs": [
    {
     "data": {
      "text/plain": [
       "{'EFFECT OF THYROIDECTOMY AND OF THYMECTOMY IN EXPERIMENTAL SYPHILIS OF THE RABBIT': [[58,\n",
       "   66,\n",
       "   'DS',\n",
       "   'SYPHILIS']],\n",
       " 'The effect of complete thymectomy was less pronounced than that of either complete or partial thyroidectomy, but, in general, the syphilis resembled that in partially thyroidectomized animals.': [[130,\n",
       "   138,\n",
       "   'DS',\n",
       "   'syphilis']],\n",
       " \"These effects are discussed in relation to the host's reaction and resistance to experimental syphilis and the conclusion was reached that the integrity and balance of the glands of internal secretion play an important rôle in the mechanism of defense against this infection.\": [[94,\n",
       "   102,\n",
       "   'DS',\n",
       "   'syphilis'],\n",
       "  [266, 275, 'DS', 'infection']]}"
      ]
     },
     "execution_count": 235,
     "metadata": {},
     "output_type": "execute_result"
    }
   ],
   "source": [
    "ztag_sentences"
   ]
  },
  {
   "cell_type": "code",
   "execution_count": 236,
   "metadata": {},
   "outputs": [],
   "source": [
    "# this will get matches\n",
    "def get_sentences_matches_tags(sentences_tags):\n",
    "    matches = defaultdict(list)\n",
    "    for each_sentence, ml_tags in sentences_tags.items():\n",
    "        for each_ml_tag in ml_tags:\n",
    "            if each_ml_tag[2]!= 'OG':\n",
    "                mini_dict = {}\n",
    "                mini_dict['label'] = each_ml_tag[3]\n",
    "                mini_dict['type'] = each_ml_tag[2]\n",
    "                mini_dict['startInSentence'] = each_ml_tag[0]\n",
    "                mini_dict['endInSentence'] = each_ml_tag[1]\n",
    "                if each_sentence in abs_full:\n",
    "                    start_index = abs_full.find(each_sentence)\n",
    "                    mini_dict['sectionStart'] = start_index\n",
    "                    mini_dict['sectionEnd'] = start_index + len(each_sentence)\n",
    "                matches[each_sentence].append(mini_dict)\n",
    "    \n",
    "    return matches\n",
    "\n",
    "# map annotations in sets of pairs\n",
    "def get_mapped_list_from_annotations(annotation_list):\n",
    "    mapped_list = list(itertools.combinations(annotation_list, 2))\n",
    "\n",
    "    unique_maplist = []\n",
    "    for each_list in mapped_list:\n",
    "        if each_list[0][2] !=each_list[1][2] and each_list[1][2]!='OG' and each_list[0][2]!='OG':\n",
    "            unique_maplist.append((each_list[0], each_list[1]))\n",
    "\n",
    "    return unique_maplist  \n",
    "\n",
    "# get only those sentences with relevant pairs\n",
    "def get_sentences_offset_per_cooccurance(sentences_tags):\n",
    "    \n",
    "    dict_gp_ds = defaultdict(list)\n",
    "    dict_gp_cd = defaultdict(list)\n",
    "    dict_ds_cd = defaultdict(list)\n",
    "\n",
    "    for sentence, tags in sentences_tags.items():\n",
    "        if len(tags)>1: # only if more than 1 tag is available\n",
    "            check_tags =np.array(tags)\n",
    "            if 'GP' in  check_tags and 'DS' in check_tags:\n",
    "                dict_gp_ds[sentence] = get_mapped_list_from_annotations(tags)\n",
    "            if 'GP' in  check_tags and 'CD' in check_tags:\n",
    "                dict_gp_cd[sentence] = get_mapped_list_from_annotations(tags)\n",
    "            if 'DS' in  check_tags and 'CD' in check_tags:\n",
    "                dict_ds_cd[sentence]= get_mapped_list_from_annotations(tags)         \n",
    "                \n",
    "    return dict_gp_ds, dict_gp_cd, dict_ds_cd\n",
    "\n",
    "\n",
    "# if not in the right position if the pair and swap them such that always GP is followed by either CD or DS and DS is followed by CD\n",
    "def swap_positions(cooccurance_list, pos1, pos2): \n",
    "    cooccurance_list[pos1], cooccurance_list[pos2] = cooccurance_list[pos2], cooccurance_list[pos1]\n",
    "    return cooccurance_list    \n",
    "    \n"
   ]
  },
  {
   "cell_type": "code",
   "execution_count": 237,
   "metadata": {},
   "outputs": [],
   "source": [
    "# xx_ = ' '.join(plain_sentences[1:])"
   ]
  },
  {
   "cell_type": "code",
   "execution_count": 238,
   "metadata": {},
   "outputs": [],
   "source": [
    "# this is for getting relationship text\n",
    "def get_relations(gp_ds_text_sentence):\n",
    "    docs = relation_model2(gp_ds_text_sentence)\n",
    "    rel_list =[]\n",
    "    for ent in docs.ents:\n",
    "        if ent.label_!='GP' and ent.label_!='DS':\n",
    "            rel_dict = {}\n",
    "            rel_dict['startr'] = ent.start_char\n",
    "            rel_dict['endr'] = ent.end_char\n",
    "            rel_dict['labelr'] = ent.text\n",
    "            rel_dict['typer'] = ent.label_\n",
    "            rel_list.append(rel_dict)\n",
    "    return rel_list"
   ]
  },
  {
   "cell_type": "code",
   "execution_count": 239,
   "metadata": {},
   "outputs": [],
   "source": [
    "def get_cooccurance_evidence(dict_tags, tag_type_1, tag_type_2):\n",
    "    co_occurance_sentences = defaultdict(list)\n",
    "#     mined_sentences = []\n",
    "    for each_sent_map, mappedtags in dict_tags.items():\n",
    "        # always see that GP-DS, GP-CD and CD-DS is followed\n",
    "        \n",
    "        if tag_type_1 not in mappedtags[0][0][2]:\n",
    "            mappedtags[0] = swap_positions(list(mappedtags[0]),0,1)\n",
    "        else:\n",
    "            mappedtags[0] = list(mappedtags[0])\n",
    "\n",
    "        for eachtag in mappedtags:\n",
    "            if tag_type_1==eachtag[0][2] and tag_type_2==eachtag[1][2]:\n",
    "                mini_dict = {}\n",
    "                mini_dict['start1'] = eachtag[0][0]\n",
    "                mini_dict['end1']= eachtag[0][1]\n",
    "                mini_dict['label1']= eachtag[0][3]\n",
    "                mini_dict['start2'] = eachtag[1][0]\n",
    "                mini_dict['end2']= eachtag[1][1]\n",
    "                mini_dict['label2']= eachtag[1][3]\n",
    "                mini_dict['type'] = tag_type_1+'-'+tag_type_2\n",
    "                \n",
    "                if average_evidence_scores[each_sent_map]:\n",
    "                    mini_dict['evidence_score'] = average_evidence_scores[each_sent_map]\n",
    "                else:\n",
    "                    mini_dict['evidence_score'] = 1\n",
    "                    \n",
    "                if tag_type_1=='GP' and tag_type_2=='DS':\n",
    "                    # get associations scores\n",
    "                    mini_dict['association'] = roundoff(relation_model1(each_sent_map).cats)\n",
    "                    # get relations\n",
    "                    rels = get_relations(each_sent_map)\n",
    "                    if rels:\n",
    "                        mini_dict['relation'] = rels\n",
    "                co_occurance_sentences[each_sent_map].append(mini_dict)\n",
    "    return co_occurance_sentences\n"
   ]
  },
  {
   "cell_type": "code",
   "execution_count": 240,
   "metadata": {},
   "outputs": [],
   "source": [
    "ml_gp_ds, ml_gp_cd, ml_ds_cd = get_sentences_offset_per_cooccurance(ml_tagged_sentences)\n",
    "ztag_gp_ds, ztag_gp_cd, ztag_ds_cd = get_sentences_offset_per_cooccurance(ztag_sentences)"
   ]
  },
  {
   "cell_type": "code",
   "execution_count": 241,
   "metadata": {},
   "outputs": [],
   "source": [
    "ml_co_occurance_gp_ds = get_cooccurance_evidence(ml_gp_ds, tag_type_1='GP', tag_type_2='DS')\n",
    "ml_co_occurance_gp_cd = get_cooccurance_evidence(ml_gp_cd, tag_type_1='GP', tag_type_2='CD')\n",
    "ml_co_occurance_ds_cd = get_cooccurance_evidence(ml_ds_cd, tag_type_1='DS', tag_type_2='CD')\n",
    "\n",
    "\n",
    "ztag_co_occurance_gp_ds = get_cooccurance_evidence(ztag_gp_ds, tag_type_1='GP', tag_type_2='DS')\n",
    "ztag_co_occurance_gp_cd = get_cooccurance_evidence(ztag_gp_cd, tag_type_1='GP', tag_type_2='CD')\n",
    "ztag_co_occurance_ds_cd = get_cooccurance_evidence(ztag_ds_cd, tag_type_1='DS', tag_type_2='CD')"
   ]
  },
  {
   "cell_type": "code",
   "execution_count": 242,
   "metadata": {},
   "outputs": [],
   "source": [
    "ml_match_gp_ds_cd = get_sentences_matches_tags(ml_tagged_sentences)\n",
    "ztag_match_gp_ds_cd = get_sentences_matches_tags(ztag_sentences)"
   ]
  },
  {
   "cell_type": "code",
   "execution_count": 243,
   "metadata": {},
   "outputs": [
    {
     "data": {
      "text/plain": [
       "defaultdict(set,\n",
       "            {'EFFECT OF THYROIDECTOMY AND OF THYMECTOMY IN EXPERIMENTAL SYPHILIS OF THE RABBIT': {'title'},\n",
       "             'Experiments are described in which the thyroid or thymus gland of rabbits was removed prior to inoculation of the animals with Tr. pallidum.': {'Abstract'},\n",
       "             'The effect of these procedures is described from the standpoint of the manifestations of the disease.': {'Abstract'},\n",
       "             'After complete thyroidectomy, the disease was considerably more severe than in the controls and very markedly so in certain instances.': {'Abstract'},\n",
       "             'Partial tyroidectomy, on the other hand, resulted in a milder disease than that of the controls.': {'Abstract'},\n",
       "             'The effect of complete thymectomy was less pronounced than that of either complete or partial thyroidectomy, but, in general, the syphilis resembled that in partially thyroidectomized animals.': {'Abstract'},\n",
       "             \"These effects are discussed in relation to the host's reaction and resistance to experimental syphilis and the conclusion was reached that the integrity and balance of the glands of internal secretion play an important rôle in the mechanism of defense against this infection.\": {'Abstract'}})"
      ]
     },
     "execution_count": 243,
     "metadata": {},
     "output_type": "execute_result"
    }
   ],
   "source": [
    "section_tags"
   ]
  },
  {
   "cell_type": "code",
   "execution_count": 244,
   "metadata": {},
   "outputs": [],
   "source": [
    "def generate_interested_sentences_in_json_format(final_sentences, match_gp_ds_cd, co_occurance_gp_ds,co_occurance_gp_cd,co_occurance_ds_cd):\n",
    "    interested_sentences=[]\n",
    "    for each_sentence, tags in final_sentences.items():\n",
    "        minidict = {}\n",
    "\n",
    "        minidict['text'] = each_sentence\n",
    "\n",
    "        if section_tags[each_sentence]:\n",
    "            minidict['section'] = list(section_tags[each_sentence])[0]\n",
    "        else:\n",
    "            minidict['section'] = 'Other'\n",
    "\n",
    "        all_matches = match_gp_ds_cd[each_sentence]\n",
    "\n",
    "        if all_matches:\n",
    "            minidict['matches'] = all_matches\n",
    "\n",
    "        all_co_occurances = co_occurance_gp_ds[each_sentence] + co_occurance_gp_cd[each_sentence]+co_occurance_ds_cd[each_sentence]\n",
    "\n",
    "        if all_co_occurances:\n",
    "            minidict['co-occurrence'] = all_co_occurances\n",
    "        if all_co_occurances or all_matches:\n",
    "            interested_sentences.append(minidict)\n",
    "    \n",
    "    return interested_sentences"
   ]
  },
  {
   "cell_type": "code",
   "execution_count": 245,
   "metadata": {},
   "outputs": [],
   "source": [
    "ml_json_generated = {}\n",
    "\n",
    "try:\n",
    "    ml_json_generated['pmid'] = 'PMC'+soup.find(attrs={\"pub-id-type\" : \"pmcid\"}).text\n",
    "except:\n",
    "    ml_json_generated['pmid'] = soup.find(attrs={\"pub-id-type\" : \"pmid\"}).text\n",
    "    \n",
    "    \n",
    "try:\n",
    "    ml_json_generated['pubDate'] = soup.find('pub-date').year.text+'-'+soup.find('pub-date').month.text+'-'+soup.find('pub-date').day.text\n",
    "except:\n",
    "     ml_json_generated['pubDate'] = '' \n",
    "\n",
    "\n",
    "ml_json_generated['organisms'] = list(og_set)\n",
    "\n",
    "ml_interested_sentences = generate_interested_sentences_in_json_format(ml_tagged_sentences, ml_match_gp_ds_cd, ml_co_occurance_gp_ds, ml_co_occurance_gp_cd, ml_co_occurance_ds_cd)\n",
    "ml_json_generated['sentences'] = ml_interested_sentences"
   ]
  },
  {
   "cell_type": "code",
   "execution_count": 246,
   "metadata": {},
   "outputs": [],
   "source": [
    "ztag_json_generated = {}\n",
    "\n",
    "try:\n",
    "    ztag_json_generated['pmid'] = 'PMC'+soup.find(attrs={\"pub-id-type\" : \"pmcid\"}).text\n",
    "except:\n",
    "    ztag_json_generated['pmid'] = soup.find(attrs={\"pub-id-type\" : \"pmid\"}).text\n",
    "    \n",
    "    \n",
    "try:\n",
    "    ztag_json_generated['pubDate'] = soup.find('pub-date').year.text+'-'+soup.find('pub-date').month.text+'-'+soup.find('pub-date').day.text\n",
    "except:\n",
    "     ztag_json_generated['pubDate'] = '' \n",
    "\n",
    "\n",
    "ztag_json_generated['organisms'] = list(og_set)\n",
    "\n",
    "ztag_interested_sentences = generate_interested_sentences_in_json_format(ztag_sentences, ztag_match_gp_ds_cd, ztag_co_occurance_gp_ds, ztag_co_occurance_gp_cd, ztag_co_occurance_ds_cd)\n",
    "ztag_json_generated['sentences'] = ztag_interested_sentences"
   ]
  },
  {
   "cell_type": "code",
   "execution_count": 247,
   "metadata": {},
   "outputs": [
    {
     "name": "stdout",
     "output_type": "stream",
     "text": [
      "{\n",
      "    \"pmid\": \"19869123\",\n",
      "    \"pubDate\": \"1926-2-28\",\n",
      "    \"organisms\": [\n",
      "        \"animals\",\n",
      "        \"rabbits\",\n",
      "        \"Tr. pallidum\"\n",
      "    ],\n",
      "    \"sentences\": [\n",
      "        {\n",
      "            \"text\": \"The effect of complete thymectomy was less pronounced than that of either complete or partial thyroidectomy, but, in general, the syphilis resembled that in partially thyroidectomized animals.\",\n",
      "            \"section\": \"Abstract\",\n",
      "            \"matches\": [\n",
      "                {\n",
      "                    \"label\": \"syphilis\",\n",
      "                    \"type\": \"DS\",\n",
      "                    \"startInSentence\": 130,\n",
      "                    \"endInSentence\": 138,\n",
      "                    \"sectionStart\": 479,\n",
      "                    \"sectionEnd\": 671\n",
      "                }\n",
      "            ]\n",
      "        },\n",
      "        {\n",
      "            \"text\": \"These effects are discussed in relation to the host's reaction and resistance to experimental syphilis and the conclusion was reached that the integrity and balance of the glands of internal secretion play an important rôle in the mechanism of defense against this infection.\",\n",
      "            \"section\": \"Abstract\",\n",
      "            \"matches\": [\n",
      "                {\n",
      "                    \"label\": \"syphilis\",\n",
      "                    \"type\": \"DS\",\n",
      "                    \"startInSentence\": 94,\n",
      "                    \"endInSentence\": 102\n",
      "                },\n",
      "                {\n",
      "                    \"label\": \"infection\",\n",
      "                    \"type\": \"DS\",\n",
      "                    \"startInSentence\": 266,\n",
      "                    \"endInSentence\": 275\n",
      "                }\n",
      "            ]\n",
      "        }\n",
      "    ]\n",
      "}\n"
     ]
    }
   ],
   "source": [
    "import json\n",
    "json_object = json.dumps(ml_json_generated, indent = 4, ensure_ascii=False)  \n",
    "print(json_object)  "
   ]
  },
  {
   "cell_type": "code",
   "execution_count": 248,
   "metadata": {},
   "outputs": [
    {
     "name": "stdout",
     "output_type": "stream",
     "text": [
      "{\n",
      "    \"pmid\": \"19869123\",\n",
      "    \"pubDate\": \"1926-2-28\",\n",
      "    \"organisms\": [\n",
      "        \"animals\",\n",
      "        \"rabbits\",\n",
      "        \"Tr. pallidum\"\n",
      "    ],\n",
      "    \"sentences\": [\n",
      "        {\n",
      "            \"text\": \"EFFECT OF THYROIDECTOMY AND OF THYMECTOMY IN EXPERIMENTAL SYPHILIS OF THE RABBIT\",\n",
      "            \"section\": \"title\",\n",
      "            \"matches\": [\n",
      "                {\n",
      "                    \"label\": \"SYPHILIS\",\n",
      "                    \"type\": \"DS\",\n",
      "                    \"startInSentence\": 58,\n",
      "                    \"endInSentence\": 66\n",
      "                }\n",
      "            ]\n",
      "        },\n",
      "        {\n",
      "            \"text\": \"The effect of complete thymectomy was less pronounced than that of either complete or partial thyroidectomy, but, in general, the syphilis resembled that in partially thyroidectomized animals.\",\n",
      "            \"section\": \"Abstract\",\n",
      "            \"matches\": [\n",
      "                {\n",
      "                    \"label\": \"syphilis\",\n",
      "                    \"type\": \"DS\",\n",
      "                    \"startInSentence\": 130,\n",
      "                    \"endInSentence\": 138,\n",
      "                    \"sectionStart\": 479,\n",
      "                    \"sectionEnd\": 671\n",
      "                }\n",
      "            ]\n",
      "        },\n",
      "        {\n",
      "            \"text\": \"These effects are discussed in relation to the host's reaction and resistance to experimental syphilis and the conclusion was reached that the integrity and balance of the glands of internal secretion play an important rôle in the mechanism of defense against this infection.\",\n",
      "            \"section\": \"Abstract\",\n",
      "            \"matches\": [\n",
      "                {\n",
      "                    \"label\": \"syphilis\",\n",
      "                    \"type\": \"DS\",\n",
      "                    \"startInSentence\": 94,\n",
      "                    \"endInSentence\": 102\n",
      "                },\n",
      "                {\n",
      "                    \"label\": \"infection\",\n",
      "                    \"type\": \"DS\",\n",
      "                    \"startInSentence\": 266,\n",
      "                    \"endInSentence\": 275\n",
      "                }\n",
      "            ]\n",
      "        }\n",
      "    ]\n",
      "}\n"
     ]
    }
   ],
   "source": [
    "json_object = json.dumps(ztag_json_generated, indent = 4, ensure_ascii=False)  \n",
    "print(json_object)  "
   ]
  },
  {
   "cell_type": "code",
   "execution_count": null,
   "metadata": {},
   "outputs": [],
   "source": [
    "# https://www.ebi.ac.uk/europepmc/webservices/rest/search?query=EXT_ID%3A2109978%20AND%20SRC%3AMED&resultType=core&cursorMark=*&pageSize=25&format=json\n",
    "\n",
    "import requests\n",
    "query = '2109978'\n",
    "url = 'https://www.ebi.ac.uk/europepmc/webservices/rest/search?query=EXT_ID:'+query+' AND SRC:MED&resultType=core&cursorMark=*&pageSize=25&format=json'\n",
    "response = requests.get(url)\n",
    "rjson = response.json()"
   ]
  },
  {
   "cell_type": "code",
   "execution_count": null,
   "metadata": {},
   "outputs": [],
   "source": [
    "rjson['resultList']['result'][0]['abstractText']"
   ]
  },
  {
   "cell_type": "code",
   "execution_count": null,
   "metadata": {},
   "outputs": [],
   "source": [
    "xx_"
   ]
  },
  {
   "cell_type": "code",
   "execution_count": null,
   "metadata": {},
   "outputs": [],
   "source": [
    "xx_==yy_"
   ]
  },
  {
   "cell_type": "code",
   "execution_count": null,
   "metadata": {},
   "outputs": [],
   "source": []
  },
  {
   "cell_type": "markdown",
   "metadata": {},
   "source": [
    "# FP Analysis on test set"
   ]
  },
  {
   "cell_type": "code",
   "execution_count": 47,
   "metadata": {},
   "outputs": [],
   "source": [
    "import requests\n",
    "\n",
    "url = 'https://www.ebi.ac.uk/europepmc/webservices/rest/PMC520822/fullTextXML'\n",
    "\n",
    "r = requests.get(url)"
   ]
  },
  {
   "cell_type": "code",
   "execution_count": 48,
   "metadata": {},
   "outputs": [],
   "source": [
    "ss= BeautifulSoup(r.text, 'lxml')"
   ]
  },
  {
   "cell_type": "code",
   "execution_count": 49,
   "metadata": {},
   "outputs": [
    {
     "data": {
      "text/plain": [
       "<!DOCTYPE article PUBLIC \"-//NLM//DTD Journal Archiving and Interchange DTD v2.3 20070202//EN\" \"archivearticle.dtd\">\n",
       "<html><body><article article-type=\"research-article\" xmlns:xlink=\"http://www.w3.org/1999/xlink\"><front><journal-meta><journal-id journal-id-type=\"nlm-ta\">Respir Res</journal-id><journal-title>Respiratory Research</journal-title><issn pub-type=\"ppub\">1465-9921</issn><issn pub-type=\"epub\">1465-993X</issn><publisher><publisher-name>BioMed Central</publisher-name></publisher></journal-meta><article-meta><article-id pub-id-type=\"publisher-id\">1465-9921-5-11</article-id><article-id pub-id-type=\"pmid\">15377396</article-id><article-id pub-id-type=\"doi\">10.1186/1465-9921-5-11</article-id><article-categories><subj-group subj-group-type=\"heading\"><subject>Research</subject></subj-group></article-categories><title-group><article-title>Proinflammatory role of inducible nitric oxide synthase in acute hyperoxic lung injury</article-title></title-group><contrib-group><contrib contrib-type=\"author\" id=\"A1\"><name><surname>Hesse</surname><given-names>Anne-Karin</given-names></name><xref ref-type=\"aff\" rid=\"I1\">1</xref><email>ak.hesse@web.de</email></contrib><contrib contrib-type=\"author\" id=\"A2\"><name><surname>Dörger</surname><given-names>Martina</given-names></name><xref ref-type=\"aff\" rid=\"I1\">1</xref><email>doerger@med.uni-muenchen.de</email></contrib><contrib contrib-type=\"author\" id=\"A3\"><name><surname>Kupatt</surname><given-names>Christian</given-names></name><xref ref-type=\"aff\" rid=\"I2\">2</xref><email>christian.kupatt@med.uni-muenchen.de</email></contrib><contrib contrib-type=\"author\" corresp=\"yes\" id=\"A4\"><name><surname>Krombach</surname><given-names>Fritz</given-names></name><xref ref-type=\"aff\" rid=\"I1\">1</xref><email>krombach@med.uni-muenchen.de</email></contrib></contrib-group><aff id=\"I1\"><label>1</label>Institute for Surgical Research, University of Munich, Marchioninistr. 15, 81366 Munich, Germany</aff><aff id=\"I2\"><label>2</label>Department of Internal Medicine I, University of Munich, Marchioninistr. 15, 81366 Munich, Germany</aff><pub-date pub-type=\"ppub\"><year>2004</year></pub-date><pub-date pub-type=\"epub\"><day>15</day><month>9</month><year>2004</year></pub-date><volume>5</volume><issue>1</issue><fpage>11</fpage><lpage>11</lpage><ext-link ext-link-type=\"uri\" xlink:href=\"http://respiratory-research.com/content/5/1/11\"></ext-link><history><date date-type=\"received\"><day>16</day><month>7</month><year>2004</year></date><date date-type=\"accepted\"><day>15</day><month>9</month><year>2004</year></date></history><permissions><copyright-statement>Copyright © 2004 Hesse et al; licensee BioMed Central Ltd.</copyright-statement><copyright-year>2004</copyright-year><copyright-holder>Hesse et al; licensee BioMed Central Ltd.</copyright-holder><license license-type=\"open-access\" xlink:href=\"http://creativecommons.org/licenses/by/2.0\"><p>This is an open-access article distributed under the terms of the Creative Commons Attribution License (<ext-link ext-link-type=\"uri\" xlink:href=\"http://creativecommons.org/licenses/by/2.0\"></ext-link>), which permits unrestricted use, distribution, and reproduction in any medium, provided the original work is properly cited.</p><!--<rdf xmlns=\"http://web.resource.org/cc/\" xmlns:rdf=\"http://www.w3.org/1999/02/22-rdf-syntax-ns#\" xmlns:dc=\"http://purl.org/dc/elements/1.1\" xmlns:dcterms=\"http://purl.org/dc/terms\"><Work xmlns:dc=\"http://purl.org/dc/elements/1.1/\" xmlns:dcterms=\"http://purl.org/dc/terms/\" rdf:about=\"\"><license rdf:resource=\"http://creativecommons.org/licenses/by/2.0\"/><dc:type rdf:resource=\"http://purl.org/dc/dcmitype/Text\"/><dc:author>\n",
       "               Hesse\n",
       "               Anne-Karin\n",
       "               \n",
       "               ak.hesse@web.de\n",
       "            </dc:author><dc:title>\n",
       "            Proinflammatory role of inducible nitric oxide synthase in acute hyperoxic lung injury\n",
       "         </dc:title><dc:date>2004</dc:date><dcterms:bibliographicCitation>Respiratory Research 5(1): 11-. (2004)</dcterms:bibliographicCitation><dc:identifier type=\"sici\">1465-9921(2004)5:1&#x0003c;11&#x0003e;</dc:identifier><dcterms:isPartOf>urn:ISSN:1465-9921</dcterms:isPartOf><License rdf:about=\"http://creativecommons.org/licenses/by/2.0\"><permits rdf:resource=\"http://web.resource.org/cc/Reproduction\" xmlns=\"\"/><permits rdf:resource=\"http://web.resource.org/cc/Distribution\" xmlns=\"\"/><requires rdf:resource=\"http://web.resource.org/cc/Notice\" xmlns=\"\"/><requires rdf:resource=\"http://web.resource.org/cc/Attribution\" xmlns=\"\"/><permits rdf:resource=\"http://web.resource.org/cc/DerivativeWorks\" xmlns=\"\"/></License></Work></rdf>--></license></permissions><abstract><sec><title>Background</title><p>Hyperoxic exposures are often found in clinical settings of respiratory insufficient patients, although oxygen therapy (&gt;50% O<sub>2</sub>) can result in the development of acute hyperoxic lung injury within a few days. Upon hyperoxic exposure, the inducible nitric oxide synthase (iNOS) is activated by a variety of proinflammatory cytokines both <italic>in vitro </italic>and <italic>in vivo</italic>. In the present study, we used a murine hyperoxic model to evaluate the effects of iNOS deficiency on the inflammatory response.</p></sec><sec sec-type=\"methods\"><title>Methods</title><p>Wild-type and iNOS-deficient mice were exposed to normoxia, 60% O<sub>2 </sub>or &gt;95% O<sub>2 </sub>for 72 h.</p></sec><sec><title>Results</title><p>Exposure to &gt;95% O<sub>2 </sub>resulted in an increased iNOS mRNA and protein expression in the lungs from wild-type mice. No significant effects of iNOS deficiency on cell differential in bronchoalveolar lavage fluid were observed. However, hyperoxia induced a significant increase in total cell count, protein concentration, LDH activity, lipid peroxidation, and TNF-α concentration in the bronchoalveolar lavage fluid compared to iNOS knockout mice. Moreover, binding activity of NF-κB and AP-1 appeared to be higher in wild-type than in iNOS-deficient mice.</p></sec><sec><title>Conclusion</title><p>Taken together, our results provide evidence to suggest that iNOS plays a proinflammatory role in acute hyperoxic lung injury.</p></sec></abstract></article-meta></front><sec><title>Background</title><p>Supplemental oxygen therapy is administered for the treatment of tissue hypoxia, most commonly in an intensive care setting of respiratory insufficient patients, though its potent toxicity is well described [<xref ref-type=\"bibr\" rid=\"B1\">1</xref>]. The pathophysiology of oxygen injury is characterized by lung inflammation including activation and recruitment of neutrophils and alveolar macrophages, tissue and alveolar edema, surfactant dysfunction, and excess production of free radicals and inflammatory cytokines [<xref ref-type=\"bibr\" rid=\"B2\">2</xref>-<xref ref-type=\"bibr\" rid=\"B4\">4</xref>]. Although the exact mechanisms of pulmonary oxygen toxicity are still unknown, compelling evidence suggests that reactive oxygen species such as superoxide anion, hydroxyl radical, and hydrogen peroxide are important mediators of lung injury [<xref ref-type=\"bibr\" rid=\"B5\">5</xref>-<xref ref-type=\"bibr\" rid=\"B7\">7</xref>]. High oxygen concentrations induce cellular damage by several mechanisms such as oxidation of proteins, peroxidation of membrane lipids, and breakage of DNA strands [<xref ref-type=\"bibr\" rid=\"B8\">8</xref>-<xref ref-type=\"bibr\" rid=\"B10\">10</xref>]. Moreover, hyperoxia also induces the release of a wide spectrum of proinflammatory cytokines such as tumor necrosis factor-<inline-graphic xlink:href=\"1465-9921-5-11-i1.gif\"></inline-graphic>[<xref ref-type=\"bibr\" rid=\"B11\">11</xref>-<xref ref-type=\"bibr\" rid=\"B13\">13</xref>]. However, the precise molecular mechanisms by which hyperoxia produces acute lung injury remain unclear.</p><p>Reactive oxygen species can also react with other free radicals such as nitric oxide (NO) to yield more cytotoxic species including peroxynitrite anion [<xref ref-type=\"bibr\" rid=\"B14\">14</xref>,<xref ref-type=\"bibr\" rid=\"B15\">15</xref>]. Peroxynitrite is a strong oxidizing agent that can also initiate lipid peroxidation [<xref ref-type=\"bibr\" rid=\"B16\">16</xref>,<xref ref-type=\"bibr\" rid=\"B17\">17</xref>]. Since the discovery of NO as a potent vascular smooth muscle relaxant and regulator of blood pressure, NO generated by the inducible nitric oxide synthase (iNOS) has been identified in many cell types such as alveolar macrophages or epithelial cells and implicated in a variety of biological roles [<xref ref-type=\"bibr\" rid=\"B15\">15</xref>,<xref ref-type=\"bibr\" rid=\"B18\">18</xref>,<xref ref-type=\"bibr\" rid=\"B19\">19</xref>].</p><p>NO is synthesized from L-arginine by two main isoforms of the NO synthase: the constitutive and the inducible isoform [<xref ref-type=\"bibr\" rid=\"B20\">20</xref>]. The NOS enzymes are complex homodimeric proteins consisting of a N-terminal oxygenase domain, a central calmodulin binding sequence, and a C-terminal reductase domain [<xref ref-type=\"bibr\" rid=\"B21\">21</xref>,<xref ref-type=\"bibr\" rid=\"B22\">22</xref>]. Inducible NOS is expressed following induction by a variety of inflammatory cytokines such as TNF-α [<xref ref-type=\"bibr\" rid=\"B22\">22</xref>] or by lipopolysaccharide (LPS) [<xref ref-type=\"bibr\" rid=\"B23\">23</xref>-<xref ref-type=\"bibr\" rid=\"B25\">25</xref>]. Constitutive iNOS expression has been reported in the lung [<xref ref-type=\"bibr\" rid=\"B26\">26</xref>,<xref ref-type=\"bibr\" rid=\"B27\">27</xref>] and several inflammatory processes involving the lung, such as sepsis [<xref ref-type=\"bibr\" rid=\"B23\">23</xref>-<xref ref-type=\"bibr\" rid=\"B25\">25</xref>], asbestosis-induced lung injury [<xref ref-type=\"bibr\" rid=\"B28\">28</xref>,<xref ref-type=\"bibr\" rid=\"B29\">29</xref>] and hyperoxia [<xref ref-type=\"bibr\" rid=\"B30\">30</xref>,<xref ref-type=\"bibr\" rid=\"B31\">31</xref>] are associated with an elevated NO production. However, the effect of hyperoxia on endogenous NO production is a matter of controversial discussion, depending on the experimental conditions [<xref ref-type=\"bibr\" rid=\"B30\">30</xref>,<xref ref-type=\"bibr\" rid=\"B32\">32</xref>-<xref ref-type=\"bibr\" rid=\"B34\">34</xref>].</p><p>Inappropriate regulation of nuclear factor-κB (NF-κB)-and activator protein-1 (AP-1)-mediated transcription has also been associated with pathological conditions, including acute inflammation such as hyperoxic exposure [<xref ref-type=\"bibr\" rid=\"B35\">35</xref>]. Intracellular signaling pathways leading to an activation of transcriptional regulators such as NF-κB and AP-1 can be affected by reactive oxygen and nitrogen species [<xref ref-type=\"bibr\" rid=\"B36\">36</xref>-<xref ref-type=\"bibr\" rid=\"B38\">38</xref>]. Both transcription factors are activated in lung cells after short periods of hyperoxic exposure. Binding sites for NF-κB and AP-1 are present in the promotor of the iNOS gene and of proinflammatory cytokines such as TNF-α [<xref ref-type=\"bibr\" rid=\"B35\">35</xref>,<xref ref-type=\"bibr\" rid=\"B39\">39</xref>,<xref ref-type=\"bibr\" rid=\"B40\">40</xref>].</p><p>The objective of this study was to investigate the effect of iNOS deficiency on acute hyperoxic lung injury. As indicators of lung hyperpermeability, lavageable lung protein and LDH activity were measured; lung lipid oxidation was assessed based on the levels of thiobarbituric acid reactive substances. To characterize the inflammatory process, lavageable cell counts, cell differential, and TNF-<inline-graphic xlink:href=\"1465-9921-5-11-i1.gif\"></inline-graphic> concentration were analyzed. Binding activity of NF-κB and AP-1 was investigated in order to elucidate transcriptional mechanisms for iNOS and TNF-α expression.</p></sec><sec sec-type=\"methods\"><title>Methods</title><sec><title>Animals</title><p>Inducible NOS-deficient mice (C57BL6/J × 129SvEv) were originally provided by Dr. J. Mudgett (Merck &amp; Co., Rathway, New Jersey, USA), Dr. J. MacMicking, and Dr. C. Nathan (Cornell University Medical College, New York, USA) [<xref ref-type=\"bibr\" rid=\"B41\">41</xref>]. As controls, matching wild-type mice were used (C57BL6/J × 129SvEv). Animals were bred in the facilities of the Institute for Surgical Research (Munich, Germany). Protocols used in this study were approved by the appropriate government body.</p></sec><sec><title>Hyperoxic exposure</title><p>Male mice (12 – 16 weeks old, body weight between 26.1 g and 27.3 g) were kept in groups of seven in a sealed Plexiglas chamber (27 × 27 × 20 cm<sup>3</sup>). Animals were randomized and exposed to 60% O<sub>2 </sub>and &gt;95% O<sub>2 </sub>with a gas flow rate of 6 l/min at atmospheric pressure for 72 h. Mice exposed to room air in the same chamber served as controls. O<sub>2 </sub>levels were monitored twice daily with an oxygen analyzer (Drägerwerk AG, Lübeck, Germany). The environmental temperature was maintained at 24°C ± 1, relative humidity was 73% ± 13, and air pressure was 947 mbar ± 5. Oxygen was humidified by bubbling through a water chamber. The Plexiglas chamber bottom was lined with soda lime for CO<sub>2 </sub>absorption (Mallinkrodt Baker B. V., Deventer, Holland). Exposures were continuous for the time indicated except for 5 – 10 min daily when the chamber was opened for housekeeping purposes. Animals were kept on a 12 h light/dark cycle. Standard rodent food and water were available <italic>ad libitum</italic>.</p></sec><sec><title>Bronchoalveolar lavage cell counts and cell differential</title><p>Immediately following exposure, mice were anaesthetized by intraperitoneal injection of sodium pentobarbital (10 mg/kg body weight, Narcoren<sup>®</sup>, Merial, Halbergmoos, Germany). Tracheotomy was performed and a 20 G × 32 mm needle (Abbocath<sup>®</sup>-T, Venisystems, Sligo, Ireland) was inserted and secured. Bronchoalveolar lavage (BAL) was performed five times with 1 ml of sterile non-pyrogenic phosphate-buffered saline solution (PBS; Serva, Heidelberg, Germany) in each animal. After centrifugation at 300 × g for 10 min, the supernatant was collected and stored at -20°C and -80°C for later protein assays. The BAL cell pellet was resuspended in PBS and washed by centrifugation. Cells were stained with May-Grunwald-Giemsa (Varistain 4, Shandon Labortechnik GmbH, Frankfurt, Germany) to identify cellular populations. Total cell counts were assessed with a hemacytometer (Coulter Ac T 8, Coulter Electronics, Krefeld, Germany).</p></sec><sec><title>Lavageable lung protein assay</title><p>Cell free BAL fluid was evaluated for total protein content by the bicinchoninic acid assay using bovine serum albumin (PAA Laboratories, Linz, Austria) based on a method of Smith et al. [<xref ref-type=\"bibr\" rid=\"B42\">42</xref>].</p></sec><sec><title>Lactate dehydrogenase activity assay</title><p>To evaluate lactate dehydrogenase (LDH) activity in cell free BAL fluids, a commercially available kit was used (LDH Optimiert, Roche Diagnostics, Mannheim, Germany).</p></sec><sec><title>TNF-α assay</title><p>Concentration of TNF-α in cell free BAL fluid was measured by an enzyme linked immunosorbent assay using a commercially available kit (EM-TNFA, Endogen, Woburn, Massachusetts, USA). Briefly, 50 ml biotinylated antibody reagent were added to 50 ml-samples in an anti-mouse TNF-α pre-coated strip well plate. After incubation for 2 h at room temperature, the plate was washed, a streptavidin horseradish peroxidase solution and the 3, 3',5, 5'-tetramethylbenzidine substrate solution were added and incubated in the dark. The absorbance was detected at 450 nm in a microplate reader (EAR 400 AT, Salzburger Labortechnik, Salzburg, Austria). A standard curve was used to determine the amount of TNF-α concentration in the samples.</p></sec><sec><title>Reverse transcriptase-polymerase chain reaction</title><p>Total RNA was isolated from non-lavaged lung homogenate of each mouse (RNeasy Mini Kit, Quiagen, Hilden, Germany), reverse transcribed into cDNA in a volume of 20 ml, containing 2 μg RNA, 1.5 μM Oligo-p(dT)15-primer, 5 × PCR-buffer, 0.1 M DTT, 10 nM dNTP-mix and 200 U/μl of Moloney murine leukemia virus reverse transcriptase. Reverse transcriptase-polymerase chain reaction (RT-PCR) amplifications were performed with aliquots of cDNA (3 μl) in total volume of 50 μl (5 μl 10 × PCR reaction-buffer, 1 μl dNTP-mix, 1 μl each of forward and reverse single strand DNA primers specific for mouse iNOS, 38.8 μl sterile deionized water, 0.2 μl Taq DNA-polymerase 1 U/ml). Oligonucleotide primers for iNOS were 5'-CAC AAG GCC ACA TCG GAT TTC-3' (sense) and 5'-TGC ATA CCA CTT CAA CCC AG-3' (antisense). Co-amplification of the housekeeping gene β-actin served as an internal control, using the following primers, 5'-GGA CTC CTA TGT GGG TGA CGA GG-3' (sense), 5'-GGG AGA GCA TAG CCC TCG TAG AT-3' (antisense). RT-PCR was started with 1 min incubation at 95°C followed by the steps of denaturation at 95°C for 45 sec, annealing at 55 – 64°C for 45 sec, elongation at 72°C for 1 min. The number of cycles (30 – 35 each) was chosen to ensure that the amplification product did not reach the level of saturation. Reactions were electrophoresed in 1% agarose gel and stained with ethidium bromide. The densitometry of each cDNA band was quantified using BIO-1D.V96 software and the ratio of iNOS cDNA to β-actin cDNA was determined.</p></sec><sec><title>Electrophoretic mobility shift assay</title><p>Nuclear protein extracts were prepared from pooled lung tissue as previously described [<xref ref-type=\"bibr\" rid=\"B43\">43</xref>]. Briefly, the oligonucleotides were incubated with a binding buffer (0.04 M Tris, 0.2 M NaCl, 2 mM EDTA, 8% glycerine, 2 μm Ficoll 400, 0.2 mM PMSF, 4 mM DTT). After 5 min incubation, 5 μ l of [γ<sup>32</sup>P]-dATP end-labeled double-stranded oligonucleotides containing an NF-κB-consensus sequence (5'-AGT TGA GGG GAC TTT CCC AGG C-3') or AP-1-consensus sequence (5'-CGC TTG ATG AGT CAG CCG GAA-3') were added to the reaction followed by an incubation for 1 h at 37°C. The mixture was subjected to electrophoresis on a 6% PAA-Gel (75% H<sub>2</sub>O, 45 mM Tris, 45 mM bore acid, 1 mM EDTA, pH 8. 6% APS, 60 μl TEMED) for 2 h at 250 V.</p></sec><sec><title>Thiobarbituric acid reactive substances assay</title><p>Concentration of thiobarbituric acid reactive substances (TBARS) was evaluated with an assay according to Thiery et al. [<xref ref-type=\"bibr\" rid=\"B44\">44</xref>]. BAL fluid was prepared to denaturate proteins with 50% trichloroacetic acid. The supernatants were transferred to a clean tube and 75 μl of 1.3% thiobarbituric acid (Sigma Chemie, Deisenhofen, Germany) in 0.3% NaOH were added. After incubation for 1 h at 90°C and subsequent cooling in ice water, samples were centrifuged for 6 min. Finally, 200 μl of sample were transferred to a 96-well plate and the absorbance at 530 nm was read in a microplate reader (Dynex Technologies, Denkendorf, Germany). TBARS were quantified by using a standard curve of malondialdehyde (Sigma Chemie, Germany).</p></sec><sec><title>Statistical analysis</title><p>Results are presented as the group mean ± standard error of the mean (SEM). Statistical comparison between values of the three oxygen concentrations was performed by using analysis of variance on ranks and Mann-Whitney rank sum test followed by Bonferroni's correction. Statistical comparison between wild-type and iNOS knockout mice was analyzed by using Mann-Whitney rank sum test. Significance was accepted at p &lt; 0.05.</p></sec></sec><sec><title>Results</title><sec><title>General conditions of the animals and body weight</title><p>Wild-type and iNOS knockout mice all survived hyperoxia the entire 72 h. After hyperoxic exposure &gt;95% O<sub>2</sub>, animals showed signs of reduced general conditions and reactions. Hyperoxic exposure &gt;95% O<sub>2 </sub>also caused a significant reduction in body weight of wild-type mice compared to normoxic conditions and 60% oxygen exposure within the 72 h experimental period. In contrast, there was no significant change in body weight of iNOS knockout mice before and after normoxia and hyperoxia, respectively (table <xref ref-type=\"table\" rid=\"T1\">1</xref>).</p><table-wrap id=\"T1\" position=\"float\"><label>Table 1</label><caption><p>Body weight (g) of wild-type and iNOS knockout mice after 72 h exposure to 21%, 60%, and &gt;95% O<sub>2</sub>*</p></caption><table frame=\"hsides\" rules=\"groups\"><thead><tr><td></td><td></td><td align=\"center\">21% O<sub>2</sub></td><td align=\"center\">60% O<sub>2</sub></td><td align=\"center\">&gt;95% O<sub>2</sub><break></break></td></tr></thead><tbody><tr><td align=\"left\">wild-type mice</td><td align=\"left\">before exposure</td><td align=\"center\">27.1 ± 1.0</td><td align=\"center\">26.5 ± 0.8</td><td align=\"center\">27.8 ± 0.9</td></tr><tr><td></td><td align=\"left\">after exposure</td><td align=\"center\">28.1 ± 0.9</td><td align=\"center\">28.1 ± 0.3</td><td align=\"center\">23.2 ± 0.6<sup>#</sup></td></tr><tr><td align=\"left\">iNOS knockout mice</td><td align=\"left\">before exposure</td><td align=\"center\">24.9 ± 0.7</td><td align=\"center\">23.3 ± 0.5</td><td align=\"center\">25.2 ± 0.9</td></tr><tr><td></td><td align=\"left\">after exposure</td><td align=\"center\">26.1 ± 0.4</td><td align=\"center\">24.0 ± 0.5</td><td align=\"center\">24.1 ± 0.7</td></tr></tbody></table><table-wrap-foot><p>*Each value represents mean ± SEM, n = 7.</p><p><sup>#</sup>p &lt; 0.05 vs. before exposure.</p></table-wrap-foot></table-wrap></sec><sec><title>Differential and total cell counts</title><p>BAL in wild-type and iNOS knockout mice was performed to assess cellular infiltration in the alveolar space upon 72 h hyperoxic exposure (60% and &gt;95% O<sub>2</sub>). Results presented in table <xref ref-type=\"table\" rid=\"T2\">2</xref> demonstrate no differences in baseline cell differentials between wild-type and iNOS knockout mice. Upon 72 h exposure to &gt;95% O<sub>2</sub>, there was a significant decrease in the percentage of alveolar macrophages as well as a significant increase in the percentage of neutrophils and lymphocytes in both wild-type and iNOS knockout mice compared to normoxic conditions. No significant differences between wild-type- and iNOS knockout mice were found. However, hyperoxic exposure (&gt;95% O<sub>2</sub>) resulted in a significant increase in total BAL cell counts after 72 h in wild-type (0.54 ± 0.05 × 10<sup>6</sup>/ml) and in iNOS knockout mice (0.38 ± 0.04 × 10<sup>6</sup>/ml) compared to normoxia (0.20 ± 0.03 × 10<sup>6</sup>/ml and 0.16 ± 0.02 × 10<sup>6</sup>/ml, respectively) and 60% O<sub>2 </sub>exposure (0.24 ± 0.04 × 10<sup>6</sup>/ml and 0.19 ± 0.04 × 10<sup>6</sup>/ml, respectively). This increase in BAL total cell counts under &gt;95% O<sub>2 </sub>was significantly higher in wild-type than in iNOS knockout mice (figure <xref ref-type=\"fig\" rid=\"F1\">1</xref>).</p><table-wrap id=\"T2\" position=\"float\"><label>Table 2</label><caption><p>BAL cell differential in wild-type and iNOS knockout mice after 72 h exposure to 21%, 60%, and &gt;95% O<sub>2</sub>*</p></caption><table frame=\"hsides\" rules=\"groups\"><thead><tr><td></td><td></td><td align=\"center\">alveolar macrophages (%)</td><td align=\"center\">neutrophils (%)</td><td align=\"center\">lymphocytes (%)</td></tr></thead><tbody><tr><td align=\"left\">wild-type mice</td><td align=\"center\">21% O<sub>2</sub><break></break></td><td align=\"center\">98.8 ± 0.5</td><td align=\"center\">0.0 ± 0.0</td><td align=\"center\">1.2 ± 0.5</td></tr><tr><td></td><td align=\"center\">60% O<sub>2</sub><break></break></td><td align=\"center\">97.7 ± 1.0</td><td align=\"center\">0.3 ± 0.2</td><td align=\"center\">2.0 ± 1.0</td></tr><tr><td></td><td align=\"center\">&gt;95% O<sub>2</sub><break></break></td><td align=\"center\">86.2 ± 1.8#*</td><td align=\"center\">4.6 ± 1.0#*</td><td align=\"center\">9.2 ± 0.9#*</td></tr><tr><td align=\"left\">iNOS knockout mice</td><td align=\"center\">21% O<sub>2</sub><break></break></td><td align=\"center\">99.0 ± 0.4</td><td align=\"center\">0.7 ± 0.2</td><td align=\"center\">0.3 ± 0.2</td></tr><tr><td></td><td align=\"center\">60% O<sub>2</sub><break></break></td><td align=\"center\">98.9 ± 0.5</td><td align=\"center\">0.4 ± 0.3</td><td align=\"center\">0.7 ± 0.4</td></tr><tr><td></td><td align=\"center\">&gt;95% O<sub>2</sub><break></break></td><td align=\"center\">85.1 ± 2.0#*</td><td align=\"center\">4.9 ± 1.3#*</td><td align=\"center\">10.0 ± 1.2#*</td></tr></tbody></table><table-wrap-foot><p>*Each value represents mean ± SEM, n = 7.</p><p><sup>#</sup>p &lt; 0.05 vs. normoxia; *p &lt; 0.05 vs. 60% O<sub>2</sub></p></table-wrap-foot></table-wrap><fig id=\"F1\" position=\"float\"><label>Figure 1</label><caption><p>Total cell counts in BAL from wild-type and iNOS knockout mice after 72 h exposure to 21%, 60%, and &gt;95% O<sub>2</sub>. Data are mean ± SEM of seven mice for each group. <sup>#</sup>p &lt; 0.05 vs. normoxia; *p &lt; 0.05 vs. 60% O<sub>2</sub>; <sup>$</sup>p &lt; 0.05 vs. iNOS knockout mice.</p></caption><graphic xlink:href=\"1465-9921-5-11-1\"></graphic></fig></sec><sec><title>Lavageable lung protein</title><p>Total protein concentration in the BAL fluid was determined as an indicator of lung hyperpermeability induced by hyperoxic exposure. Under normoxia and 60% O<sub>2</sub>, total protein concentration did not differ between wild-type mice (21% O<sub>2</sub>: 86.4 ± 37.3 μg/ml; 60% O<sub>2</sub>: 95.5 ± 22.8 μg/ml) and knockout mice (21% O<sub>2</sub>: 157.1 ± 23.7 μg/ml; 60% O<sub>2</sub>: 86.0 ± 26.6 μg/ml). Exposure to &gt;95% O<sub>2 </sub>resulted in a significant increase in protein concentration in wild-type mice (973.8 ± 95.7 μg/ml) and only in a modest increase in iNOS knockout mice (326.8 ± 90.4 μg/ml) that did not reach statistical significance.</p></sec><sec><title>Lactate dehydrogenase activity</title><p>As an indicator of cellular damage, LDH activity was measured in BAL fluid. Under normoxic conditions and 60% O<sub>2</sub>, LDH activity was comparable between wild-type (21% O<sub>2</sub>: 3.1 ± 1.0 U/min/ml; 60% O<sub>2</sub>: 1.6 ± 0.4 U/min/ml) and iNOS knockout mice (21% O<sub>2</sub>: 2.3 ± 0.5 U/min/ml; 60% O<sub>2</sub>: 6.5 ± 1.7 U/min/ml). Exposure to &gt;95% O<sub>2 </sub>resulted in a significant enhancement of LDH activity in wild-type mice (41.8 ± 10.8 U/min/ml) compared to iNOS knockout mice (9.6 ± 3.0 U/min/ml) and to normoxia (figure <xref ref-type=\"fig\" rid=\"F3\">3</xref>).</p><fig id=\"F3\" position=\"float\"><label>Figure 3</label><caption><p>Lactate dehydrogenase activity in BAL from wild-type and iNOS knockout mice after 72 h exposure to 21%, 60%, and &gt;95% O<sub>2</sub>. Data are mean ± SEM of seven mice for each group. <sup>#</sup>p &lt; 0.05 vs. normoxia; *p &lt; 0.05 vs. 60% O<sub>2</sub>; <sup>$</sup>p &lt; 0.05 vs. iNOS knockout mice.</p></caption><graphic xlink:href=\"1465-9921-5-11-3\"></graphic></fig></sec><sec><title>TNF-α concentration</title><p>TNF-α concentrations were determined in BAL fluid to investigate inflammatory cytokine release. Under normoxic conditions, TNF-α release did not differ between wild-type (28.5 ± 3.8 pg/ml) and iNOS knockout mice (35.0 ± 5.4 pg/ml), the same as upon 60% O<sub>2 </sub>exposure (29.2 ± 2.6 pg/ml and 25.4 ± 6.0 pg/ml, respectively). However, there was a significantly enhanced TNF-α release measured upon &gt;95% O<sub>2 </sub>exposure in wild-type (83.0 ± 9.8 pg/ml) and iNOS knockout mice (54.9 ± 9.0 pg/ml) compared to normoxic conditions. TNF-α concentration was significantly higher in wild-type than in iNOS knockout animals (figure <xref ref-type=\"fig\" rid=\"F4\">4</xref>).</p><fig id=\"F4\" position=\"float\"><label>Figure 4</label><caption><p>TNF-α concentration in BAL from wild-type and iNOS knockout mice after 72 h exposure to 21%, 60%, and &gt;95% O<sub>2</sub>. Data are mean ± SEM of seven mice for each group. <sup>#</sup>p &lt; 0.05 vs. normoxia; *p &lt; 0.05 vs. 60% O<sub>2</sub>; <sup>$</sup>p &lt; 0.05 vs. iNOS knockout mice.</p></caption><graphic xlink:href=\"1465-9921-5-11-4\"></graphic></fig></sec><sec><title>Concentration of thiobarbituric acid reactive substances</title><p>Lung lipid peroxidation was assessed based on the levels of thiobarbituric acid reactive substances in BAL (figure <xref ref-type=\"fig\" rid=\"F5\">5</xref>). Wild-type mice exposed to &gt;95% O<sub>2 </sub>exhibited a pronounced increase in concentration of TBARS (146.0 ± 62.0 nmol/ml) compared to normoxia (35.0 ± 14.0 nmol/ml) and 60% O<sub>2 </sub>(31.0 ± 17.0 nmol/ml). In iNOS knockout mice, concentrations of TBARS after &gt;95% O<sub>2 </sub>(52.0 ± 18.0 nmol/ml) did not differ from those after normoxic conditions (26.0 ± 0.0 nmol/ml) and 60% O<sub>2 </sub>exposure (35.0 ± 26.0 nmol/ml), respectively.</p><fig id=\"F5\" position=\"float\"><label>Figure 5</label><caption><p>Concentration of thiobarbituric acid reactive substances in BAL from wild-type and iNOS knockout mice after 72 h exposure to 21%, 60%, and &gt;95% O<sub>2</sub>. Data are mean ± SEM of seven mice for each group. <sup>$</sup>p &lt; 0.05 vs. iNOS knockout mice.</p></caption><graphic xlink:href=\"1465-9921-5-11-5\"></graphic></fig></sec><sec><title>Activation of NF-κB and AP-1</title><p>In an effort to elucidate transcriptional mechanisms for increased iNOS and TNF-α expression after hyperoxic exposure, electrophoretic mobility shift assays for NF-κB and AP-1 were performed (figure <xref ref-type=\"fig\" rid=\"F6\">6</xref>). NF-κB and AP-1 were weakly activated under normoxic conditions. Increased activation of both NF-κB and AP-1 was observed after &gt;95% O<sub>2 </sub>compared to normoxia and 60% O<sub>2</sub>. This enhancement of binding activity under hyperoxia appeared to be more prominent in the group of wild-type mice in comparison to iNOS knockout animals.</p><fig id=\"F6\" position=\"float\"><label>Figure 6</label><caption><p>Binding activity of NF-κB and AP-1 in lung tissue from wild-type and iNOS knockout mice after 72 h normoxia or hyperoxia. Figure shown is representative for seven experiments.</p></caption><graphic xlink:href=\"1465-9921-5-11-6\"></graphic></fig></sec><sec><title>iNOS mRNA expression</title><p>To investigate the induction of the iNOS gene in lung tissue, expression of iNOS mRNA was analyzed (figure <xref ref-type=\"fig\" rid=\"F7\">7</xref>). As expected, there was no expression of iNOS mRNA in lung tissues from iNOS knockout mice. In wild-type mice, hyperoxic exposure (60% and &gt;95% O<sub>2</sub>) induced an increased expression of iNOS mRNA in lung samples compared to normoxic situation. Densitometric analysis was performed by determining the ratio of iNOS cDNA to β-actin cDNA. Results demonstrated a significant increase in iNOS mRNA expression upon &gt;95% O<sub>2 </sub>(1.2 ± 0.1) compared to 60% O<sub>2 </sub>(0.8 ± 0.1).</p><fig id=\"F7\" position=\"float\"><label>Figure 7</label><caption><p>Ethidium bromide stained gels of β-actin and iNOS RT-PCR products in lung tissue from wild-type (<bold>A</bold>) and iNOS knockout mice (<bold>B</bold>) after 72 h normoxia or hyperoxia. Data shown are representative for seven experiments.</p></caption><graphic xlink:href=\"1465-9921-5-11-7\"></graphic></fig></sec></sec><sec><title>Discussion</title><p>Prolonged exposure to high concentrations of oxygen (&gt;50% O<sub>2</sub>) during an intensive care setting to maintain arterial pO<sub>2 </sub>can lead to progressive lung injury. Several cellular systems including alveolar macrophages and leukocytes are involved in this process. Activation of inflammatory cells causes the release of reactive oxygen species and proinflammatory cytokines, resulting in endothelial dysfunction, tissue and alveolar edema formation, and surfactant inactivation. Furthermore, high levels of NO produced by inducible NO synthase may contribute to tissue damage. NO is directly cytotoxic or can combine with superoxide anions to form the more reactive oxidant peroxynitrite. Although a large amount of literature exists concerning the pulmonary response to oxidant exposure, some issues remain unresolved.</p><p>Our findings confirm previous results showing that hyperoxia is able to upregulate iNOS expression in lung tissue [<xref ref-type=\"bibr\" rid=\"B30\">30</xref>,<xref ref-type=\"bibr\" rid=\"B34\">34</xref>]. As expected, there was no expression of iNOS mRNA in lungs of iNOS knockout mice. In wild-type mice, exposure to 60% and &gt;95% O<sub>2 </sub>induced a significant increase in iNOS mRNA expression. This enhanced iNOS mRNA expression during hyperoxic exposure seems to contradict findings reported in a study published by Arkovitz and colleagues, in which hyperoxia did not induce iNOS expression in lungs of mice [<xref ref-type=\"bibr\" rid=\"B32\">32</xref>]. This may be explained by the fact that the detection of iNOS mRNA by using northern blot technique is not as sensitive as RT-PCR. In accordance with results from others [<xref ref-type=\"bibr\" rid=\"B28\">28</xref>-<xref ref-type=\"bibr\" rid=\"B30\">30</xref>], we found little iNOS protein immunostaining under normoxic conditions and 60% oxygen exposure, while hyperoxic exposure &gt;95% O<sub>2 </sub>induced a prominent expression of iNOS protein in the lungs from wild-type mice (data not shown).</p><p>The data from the present study demonstrate that <italic>in vivo </italic>oxygen exposure significantly elevated total BAL cell count after 72 h &gt;95% O<sub>2 </sub>both in wild-type and in iNOS knockout mice. According to this, oxygen exposure resulted in a significant enhancement in the number of neutrophils and lymphocytes in BAL fluid, combined with a significant reduction in the number of alveolar macrophages both in wild-type and iNOS knockout mice. Dedhia et al. also found elevated numbers of neutrophils and lymphocytes combined with decreased numbers of alveolar macrophages in rat lungs [<xref ref-type=\"bibr\" rid=\"B45\">45</xref>]. Recent studies report that, although iNOS deficiency does not affect leukocyte rolling and adhesion following treatment with thrombin [<xref ref-type=\"bibr\" rid=\"B46\">46</xref>], iNOS-deficient mice have significantly elevated leukocyte accumulation and enhanced leukocyte-endothelium interactions in endotoxinemia [<xref ref-type=\"bibr\" rid=\"B24\">24</xref>]. These results suggest that iNOS expression plays a potent role in regulation of leukocyte recruitment depending on the way of induction. Hyperoxia-induced inflammatory cell influx, particularly of neutrophils, can contribute to oxidant stress through formation of reactive oxygen species. Auten and collaborators demonstrated that DNA damage in hyperoxia-exposed rat lungs may be reduced by blocking neutrophil influx [<xref ref-type=\"bibr\" rid=\"B47\">47</xref>]. In our model of oxidant injury, no effect of iNOS deficiency on BAL cell differentials could be made out, whereas total BAL cell counts were significantly elevated in wild-type mice compared to iNOS knockout mice. The increase in the number of neutrophils and lymphocytes in BAL fluid may partially reflect the loss of integrity of the endothelium barrier. This damage is indicated by a significant elevation of total protein concentration and LDH activity after acute hyperoxia in wild-type mice in comparison to iNOS knockout animals. Kleeberger and colleagues previously reported that iNOS expression is involved in ozone-induced lung hyperpermeability showing reduced mean BAL fluid protein and leukocyte accumulation [<xref ref-type=\"bibr\" rid=\"B48\">48</xref>].</p><p>Recent studies indicate that iNOS also plays a proinflammatory role in the development of asbestosis-related pulmonary disorders, measured as a significantly decreased total protein count, LDH activity, and nitrotyrosine staining in iNOS-deficient mice [<xref ref-type=\"bibr\" rid=\"B27\">27</xref>]. In contrast, Kobayashi et al. reported that hyperoxia caused an increased accumulation of leukocytes, elevated LDH activity and albumin concentration, and a higher wet-dry-ratio in lungs from iNOS-deficient mice compared to wild-type animals [<xref ref-type=\"bibr\" rid=\"B31\">31</xref>]. Based on their findings, these authors suggest the presence of an iNOS-independent pathway of lung nitration and injury in hyperoxia. In our study, we found that nitrosylation of proteins in the lungs of mice exposed to &gt;95% O<sub>2 </sub>was attenuated in iNOS-deficient mice (data not shown). Formation of nitrotyrosine was proposed as a relatively specific marker for detecting endogenous generation of peroxynitrite. However, recent evidence indicates that alternate reactions are capable of inducing nitration of tyrosine in proteins, for example the reaction of myeloperoxidase with hydrogen peroxide. Therefore, increased nitrotyrosine staining is considered as an indicator of \"increased nitrative stress\" rather than a \"footprint\" for the formation of peroxynitrite [<xref ref-type=\"bibr\" rid=\"B49\">49</xref>,<xref ref-type=\"bibr\" rid=\"B50\">50</xref>]. Amplified formation of reactive oxygen and nitrogen species can be proved by determination of thiobarbituric acid reactive substances, a secondary product of lipid peroxidation indicating oxidative and/or nitrative stress [<xref ref-type=\"bibr\" rid=\"B9\">9</xref>]. In our study, significantly reduced formation of thiobarbituric acid reactive substances following &gt;95% oxygen exposure was found in iNOS knockout mice, again suggesting a beneficial effect of iNOS deficiency on oxidant lung injury.</p><p>Cytokines may also play a role in oxygen toxicity. Several studies point out that TNF-α is produced during hyperoxic exposure [<xref ref-type=\"bibr\" rid=\"B51\">51</xref>,<xref ref-type=\"bibr\" rid=\"B52\">52</xref>]. Furthermore, hyperoxia induces sequential formation of pulmonary TNF-α and IL-6, which corresponds to the severity of pathological findings [<xref ref-type=\"bibr\" rid=\"B12\">12</xref>]. In our study, iNOS deficiency resulted in a significant decrease in BAL TNF-α concentration during hyperoxic exposure. Findings of Sass et al. also demonstrate that iNOS-derived NO regulates proinflammatory genes <italic>in vivo </italic>resulting in inflammatory liver injury in mice by stimulation of TNF-α production [<xref ref-type=\"bibr\" rid=\"B53\">53</xref>]. To investigate whether hyperoxia-induced TNF-α expression was regulated on the level of protein or mRNA, activation of the redox-sensitive transcription factors NF-κB and AP-1 was analyzed. As recently described, NF-κB was activated following hyperoxia resulting in an increase in TNF-α and IFN-γ gene expression in murine pulmonary lymphocytes [<xref ref-type=\"bibr\" rid=\"B35\">35</xref>]. Moreover, we found that the activation of both factors seen in wild-type mice was weaker in iNOS knockout mice suggesting that induction of iNOS upon hyperoxia may in fact activate these transcription factors. These findings contrast the silencing effect of NO on NF-κB demonstrated upon stimulation with LPS or silica [<xref ref-type=\"bibr\" rid=\"B54\">54</xref>]. Data from Kupatt et al. [<xref ref-type=\"bibr\" rid=\"B55\">55</xref>] also indicate a negative feedback mechanism of eNOS-derived NO on activation of NF-κB following myocardial reoxygenation. In addition to isotype-specific differences in NO forming capacity, the synergistic NF-κB and AP-1 activation upon an reactive oxygen or nitrogen species challenge might diminish the inhibitory effect of NO. Recent studies indicate that exogenously administered NO causes increased c-fos and c-jun gene and protein expression combined with an evident AP-1 binding activity mediated by reactive oxygen and nitrogen species [<xref ref-type=\"bibr\" rid=\"B56\">56</xref>].</p></sec><sec><title>Conclusions</title><p>Taken together, our data show that the absence of the iNOS gene does attenuate, but not fully abolish, oxidation, nitration, and cytotoxicity in response to acute hyperoxic exposure. The degree of transcriptional activation, inflammation, and oxidative lung injury caused by hyperoxia is significantly reduced in iNOS knockout mice compared to wild-type animals. In conclusion, these findings provide evidence to suggest that, upon hyperoxic exposure to &gt;95% O<sub>2</sub>, proinflammatory effects of iNOS may be predominant, thereby contributing to the extent of acute hyperoxic lung injury.</p></sec><sec><title>Authors' contributions</title><p>AKH carried out the hyperoxic model, subsequent cytological and biochemical analyses, and writing and preparation of the manuscript. MD and FK participated in the direction of the study as well as in writing and preparation of the manuscript. CK carried out the electrophoretic mobility shift assays. The data presented in this paper are part of the doctoral thesis of AKH. All authors read and approved the final manuscript.</p></sec><sec><title>List of abbreviations</title><p>AP-1 activator protein-1</p><p>BAL bronchoalveolar lavage</p><p>iNOS inducible nitric oxide synthase</p><p>LDH lactate dehydrogenase</p><p>LPS lipopolysaccharide</p><p>NF-κB nuclear factor-kappa B</p><p>NO nitric oxide</p><p>TBARS thiobarbituric acid reactive substances</p><p>TNF-α tumor necrosis factor-alpha</p><fig id=\"F2\" position=\"float\"><label>Figure 2</label><caption><p>Protein concentration in BAL from wild-type and iNOS knockout mice after 72 h exposure to 21%, 60%, and &gt;95% O<sub>2</sub>. Data are mean ± SEM of seven mice for each group. <sup>#</sup>p &lt; 0.05 vs. normoxia; *p &lt; 0.05 vs. 60% O<sub>2</sub>; <sup>$</sup>p &lt; 0.05 vs. iNOS knockout mice.</p></caption><graphic xlink:href=\"1465-9921-5-11-2\"></graphic></fig></sec><back><ack><sec><title>Acknowledgements</title><p>The authors gratefully acknowledge the excellent technical assistance of Mrs. A.-M. Allmeling, Mrs. A. Schropp, and Mrs. E. Ronft.</p></sec></ack><ref-list><ref id=\"B1\"><citation citation-type=\"journal\"><person-group person-group-type=\"author\"><name><surname>Carvalho</surname><given-names>CR</given-names></name><name><surname>de Paula Pinto Schettino</surname><given-names>G</given-names></name><name><surname>Maranhao</surname><given-names>B</given-names></name><name><surname>Bethlem</surname><given-names>EP</given-names></name></person-group><article-title>Hyperoxia and lung disease</article-title><source>Curr Opin Pulm Med</source><year>1998</year><volume>4</volume><fpage>300</fpage><lpage>304</lpage><pub-id pub-id-type=\"pmid\">10813206</pub-id></citation></ref><ref id=\"B2\"><citation citation-type=\"journal\"><person-group person-group-type=\"author\"><name><surname>Bailey</surname><given-names>TC</given-names></name><name><surname>Cavanagh</surname><given-names>C</given-names></name><name><surname>Mehta</surname><given-names>S</given-names></name><name><surname>Lewis</surname><given-names>JF</given-names></name><name><surname>Veldhuizen</surname><given-names>RA</given-names></name></person-group><article-title>Sepsis and hyperoxia effects on the pulmonary surfactant system in wild-type and iNOS knockout mice</article-title><source>Eur Respir J</source><year>2002</year><volume>20</volume><fpage>177</fpage><lpage>182</lpage><pub-id pub-id-type=\"pmid\">12166567</pub-id><pub-id pub-id-type=\"doi\">10.1183/09031936.02.00276702</pub-id></citation></ref><ref id=\"B3\"><citation citation-type=\"journal\"><person-group person-group-type=\"author\"><name><surname>Capellier</surname><given-names>G</given-names></name><name><surname>Maupoil</surname><given-names>V</given-names></name><name><surname>Boussat</surname><given-names>S</given-names></name><name><surname>Laurent</surname><given-names>E</given-names></name><name><surname>Neidhardt</surname><given-names>A</given-names></name></person-group><article-title>Oxygen toxicity and tolerance</article-title><source>Minerva Anestesiol</source><year>1999</year><volume>65</volume><fpage>388</fpage><lpage>392</lpage><pub-id pub-id-type=\"pmid\">10394807</pub-id></citation></ref><ref id=\"B4\"><citation citation-type=\"journal\"><person-group person-group-type=\"author\"><name><surname>Klein</surname><given-names>J</given-names></name></person-group><article-title>Normobaric pulmonary oxygen toxicity</article-title><source>Anesth Analg</source><year>1990</year><volume>70</volume><fpage>195</fpage><lpage>207</lpage><pub-id pub-id-type=\"pmid\">2105672</pub-id></citation></ref><ref id=\"B5\"><citation citation-type=\"journal\"><person-group person-group-type=\"author\"><name><surname>Chabot</surname><given-names>F</given-names></name><name><surname>Mitchell</surname><given-names>JA</given-names></name><name><surname>Gutteridge</surname><given-names>JM</given-names></name><name><surname>Evans</surname><given-names>TW</given-names></name></person-group><article-title>Reactive oxygen species in acute lung injury</article-title><source>Eur Respir J</source><year>1998</year><volume>11</volume><fpage>745</fpage><lpage>757</lpage><pub-id pub-id-type=\"pmid\">9596132</pub-id></citation></ref><ref id=\"B6\"><citation citation-type=\"journal\"><person-group person-group-type=\"author\"><name><surname>Crapo</surname><given-names>JD</given-names></name><name><surname>Tierney</surname><given-names>DF</given-names></name></person-group><article-title>Superoxide dismutase and pulmonary oxygen toxicity</article-title><source>Am J Physiol</source><year>1974</year><volume>226</volume><fpage>1401</fpage><lpage>1407</lpage><pub-id pub-id-type=\"pmid\">4833996</pub-id></citation></ref><ref id=\"B7\"><citation citation-type=\"journal\"><person-group person-group-type=\"author\"><name><surname>Stogner</surname><given-names>SW</given-names></name><name><surname>Payne</surname><given-names>DK</given-names></name></person-group><article-title>Oxygen toxicity</article-title><source>Ann Pharmacother</source><year>1992</year><volume>26</volume><fpage>1554</fpage><lpage>1562</lpage><pub-id pub-id-type=\"pmid\">1336412</pub-id></citation></ref><ref id=\"B8\"><citation citation-type=\"journal\"><person-group person-group-type=\"author\"><name><surname>Feeney</surname><given-names>L</given-names></name><name><surname>Berman</surname><given-names>ER</given-names></name></person-group><article-title>Oxygen toxicity: membrane damage by free radicals</article-title><source>Invest Ophthalmol</source><year>1976</year><volume>15</volume><fpage>789</fpage><lpage>792</lpage><pub-id pub-id-type=\"pmid\">824221</pub-id></citation></ref><ref id=\"B9\"><citation citation-type=\"journal\"><person-group person-group-type=\"author\"><name><surname>Jamieson</surname><given-names>D</given-names></name><name><surname>Chance</surname><given-names>B</given-names></name><name><surname>Cadenas</surname><given-names>E</given-names></name><name><surname>Boveris</surname><given-names>A</given-names></name></person-group><article-title>The relation of free radical production to hyperoxia</article-title><source>Annu Rev Physiol</source><year>1986</year><volume>48</volume><fpage>703</fpage><lpage>719</lpage><pub-id pub-id-type=\"pmid\">3010832</pub-id><pub-id pub-id-type=\"doi\">10.1146/annurev.ph.48.030186.003415</pub-id></citation></ref><ref id=\"B10\"><citation citation-type=\"journal\"><person-group person-group-type=\"author\"><name><surname>Turanlahti</surname><given-names>M</given-names></name><name><surname>Pesonen</surname><given-names>E</given-names></name><name><surname>Lassus</surname><given-names>P</given-names></name><name><surname>Andersson</surname><given-names>S</given-names></name></person-group><article-title>Nitric oxide and hyperoxia in oxidative lung injury</article-title><source>Acta Paediatr</source><year>2000</year><volume>89</volume><fpage>966</fpage><lpage>970</lpage><pub-id pub-id-type=\"pmid\">10976840</pub-id><pub-id pub-id-type=\"doi\">10.1080/080352500750043440</pub-id></citation></ref><ref id=\"B11\"><citation citation-type=\"journal\"><person-group person-group-type=\"author\"><name><surname>Barazzone</surname><given-names>C</given-names></name><name><surname>Tacchini-Cottier</surname><given-names>F</given-names></name><name><surname>Vesin</surname><given-names>C</given-names></name><name><surname>Rochat</surname><given-names>AF</given-names></name><name><surname>Piguet</surname><given-names>PF</given-names></name></person-group><article-title>Hyperoxia induces platelet activation and lung sequestration: an event dependent on tumor necrosis factor-alpha and CD11a</article-title><source>Am J Respir Cell Mol Biol</source><year>1996</year><volume>15</volume><fpage>107</fpage><lpage>114</lpage><pub-id pub-id-type=\"pmid\">8679214</pub-id></citation></ref><ref id=\"B12\"><citation citation-type=\"journal\"><person-group person-group-type=\"author\"><name><surname>Ben-Ari</surname><given-names>J</given-names></name><name><surname>Makhoul</surname><given-names>IR</given-names></name><name><surname>Dorio</surname><given-names>RJ</given-names></name><name><surname>Buckley</surname><given-names>S</given-names></name><name><surname>Warburton</surname><given-names>D</given-names></name><name><surname>Walker</surname><given-names>SM</given-names></name></person-group><article-title>Cytokine response during hyperoxia: sequential production of pulmonary tumor necrosis factor and interleukin-6 in neonatal rats</article-title><source>Isr Med Assoc J</source><year>2000</year><volume>2</volume><fpage>365</fpage><lpage>369</lpage><pub-id pub-id-type=\"pmid\">10892391</pub-id></citation></ref><ref id=\"B13\"><citation citation-type=\"journal\"><person-group person-group-type=\"author\"><name><surname>Tsan</surname><given-names>MF</given-names></name><name><surname>White</surname><given-names>JE</given-names></name><name><surname>Michelsen</surname><given-names>PB</given-names></name><name><surname>Wong</surname><given-names>GH</given-names></name></person-group><article-title>Pulmonary O<sub>2 </sub>toxicity: role of endogenous tumor necrosis factor</article-title><source>Exp Lung Res</source><year>1995</year><volume>21</volume><fpage>589</fpage><lpage>597</lpage><pub-id pub-id-type=\"pmid\">7588445</pub-id></citation></ref><ref id=\"B14\"><citation citation-type=\"journal\"><person-group person-group-type=\"author\"><name><surname>al-Ali</surname><given-names>MK</given-names></name><name><surname>Howarth</surname><given-names>PH</given-names></name></person-group><article-title>Nitric oxide and the respiratory system in health and disease</article-title><source>Respir Med</source><year>1998</year><volume>92</volume><fpage>701</fpage><lpage>715</lpage><pub-id pub-id-type=\"pmid\">9713628</pub-id><pub-id pub-id-type=\"doi\">10.1016/S0954-6111(98)90000-2</pub-id></citation></ref><ref id=\"B15\"><citation citation-type=\"journal\"><person-group person-group-type=\"author\"><name><surname>Kerwin</surname><given-names>JF</given-names><suffix>Jr</suffix></name><name><surname>Lancaster</surname><given-names>JR</given-names><suffix>Jr</suffix></name><name><surname>Feldman</surname><given-names>PL</given-names></name></person-group><article-title>Nitric oxide: a new paradigm for second messengers</article-title><source>J Med Chem</source><year>1995</year><volume>38</volume><fpage>4343</fpage><lpage>4362</lpage><pub-id pub-id-type=\"pmid\">7473563</pub-id></citation></ref><ref id=\"B16\"><citation citation-type=\"journal\"><person-group person-group-type=\"author\"><name><surname>Pryor</surname><given-names>WA</given-names></name><name><surname>Squadrito</surname><given-names>GL</given-names></name></person-group><article-title>The chemistry of peroxynitrite: a product from the reaction of nitric oxide with superoxide</article-title><source>Am J Physiol</source><year>1995</year><volume>268</volume><fpage>L699</fpage><lpage>L722</lpage><pub-id pub-id-type=\"pmid\">7762673</pub-id></citation></ref><ref id=\"B17\"><citation citation-type=\"journal\"><person-group person-group-type=\"author\"><name><surname>Radi</surname><given-names>R</given-names></name><name><surname>Beckman</surname><given-names>JS</given-names></name><name><surname>Bush</surname><given-names>KM</given-names></name><name><surname>Freeman</surname><given-names>BA</given-names></name></person-group><article-title>Peroxynitrite-induced membrane lipid peroxidation: the cytotoxic potential of superoxide and nitric oxide</article-title><source>Arch Biochem Biophys</source><year>1991</year><volume>288</volume><fpage>481</fpage><lpage>487</lpage><pub-id pub-id-type=\"pmid\">1654835</pub-id></citation></ref><ref id=\"B18\"><citation citation-type=\"journal\"><person-group person-group-type=\"author\"><name><surname>Lyons</surname><given-names>CR</given-names></name></person-group><article-title>The role of nitric oxide in inflammation</article-title><source>Adv Immunol</source><year>1995</year><volume>60</volume><fpage>323</fpage><lpage>371</lpage><pub-id pub-id-type=\"pmid\">8607373</pub-id></citation></ref><ref id=\"B19\"><citation citation-type=\"journal\"><person-group person-group-type=\"author\"><name><surname>Nathan</surname><given-names>C</given-names></name><name><surname>Xie</surname><given-names>QW</given-names></name></person-group><article-title>Nitric oxide synthases: roles, tolls, and controls</article-title><source>Cell</source><year>1994</year><volume>78</volume><fpage>915</fpage><lpage>918</lpage><pub-id pub-id-type=\"pmid\">7522969</pub-id><pub-id pub-id-type=\"doi\">10.1016/0092-8674(94)90266-6</pub-id></citation></ref><ref id=\"B20\"><citation citation-type=\"journal\"><person-group person-group-type=\"author\"><name><surname>Gaston</surname><given-names>B</given-names></name><name><surname>Drazen</surname><given-names>JM</given-names></name><name><surname>Loscalzo</surname><given-names>J</given-names></name><name><surname>Stamler</surname><given-names>JS</given-names></name></person-group><article-title>The biology of nitrogen oxides in the airways</article-title><source>Am J Respir Crit Care Med</source><year>1994</year><volume>149</volume><fpage>538</fpage><lpage>551</lpage><pub-id pub-id-type=\"pmid\">7508323</pub-id></citation></ref><ref id=\"B21\"><citation citation-type=\"journal\"><person-group person-group-type=\"author\"><name><surname>Fischmann</surname><given-names>TO</given-names></name><name><surname>Hruza</surname><given-names>A</given-names></name><name><surname>Niu</surname><given-names>XD</given-names></name><name><surname>Fossetta</surname><given-names>JD</given-names></name><name><surname>Lunn</surname><given-names>CA</given-names></name><name><surname>Dolphin</surname><given-names>E</given-names></name><name><surname>Prongay</surname><given-names>AJ</given-names></name><name><surname>Reichert</surname><given-names>P</given-names></name><name><surname>Lundell</surname><given-names>DJ</given-names></name><name><surname>Narula</surname><given-names>SK</given-names></name><name><surname>Weber</surname><given-names>PC</given-names></name></person-group><article-title>Structural characterization of nitric oxide synthase isoforms reveals striking active-site conservation</article-title><source>Nat Struct Biol</source><year>1999</year><volume>6</volume><fpage>233</fpage><lpage>242</lpage><pub-id pub-id-type=\"pmid\">10074942</pub-id><pub-id pub-id-type=\"doi\">10.1038/6675</pub-id></citation></ref><ref id=\"B22\"><citation citation-type=\"journal\"><person-group person-group-type=\"author\"><name><surname>Schulz</surname><given-names>C</given-names></name><name><surname>Gillissen</surname><given-names>A</given-names></name><name><surname>Schultze-Werninghaus</surname><given-names>G</given-names></name></person-group><article-title>Inducible nitric oxide synthase in pulmonary inflammatory processes</article-title><source>Pneumologie</source><year>1998</year><volume>52</volume><fpage>340</fpage><lpage>349</lpage><pub-id pub-id-type=\"pmid\">9715649</pub-id></citation></ref><ref id=\"B23\"><citation citation-type=\"journal\"><person-group person-group-type=\"author\"><name><surname>Ermert</surname><given-names>M</given-names></name><name><surname>Ruppert</surname><given-names>C</given-names></name><name><surname>Gunther</surname><given-names>A</given-names></name><name><surname>Duncker</surname><given-names>HR</given-names></name><name><surname>Seeger</surname><given-names>W</given-names></name><name><surname>Ermert</surname><given-names>L</given-names></name></person-group><article-title>Cell-specific nitric oxide synthase isoenzyme expression and regulation in response to endotoxin in intact rat lungs</article-title><source>Lab Invest</source><year>2002</year><volume>82</volume><fpage>425</fpage><lpage>441</lpage><pub-id pub-id-type=\"pmid\">11950900</pub-id></citation></ref><ref id=\"B24\"><citation citation-type=\"journal\"><person-group person-group-type=\"author\"><name><surname>Hickey</surname><given-names>MJ</given-names></name><name><surname>Sharkey</surname><given-names>KA</given-names></name><name><surname>Sihota</surname><given-names>EG</given-names></name><name><surname>Reinhardt</surname><given-names>PH</given-names></name><name><surname>MacMicking</surname><given-names>JD</given-names></name><name><surname>Nathan</surname><given-names>C</given-names></name><name><surname>Kubes</surname><given-names>P</given-names></name></person-group><article-title>Inducible nitric oxide synthase-deficient mice have enhanced leukocyte-endothelium interactions in endotoxemia</article-title><source>FASEB J</source><year>1997</year><volume>11</volume><fpage>955</fpage><lpage>964</lpage><pub-id pub-id-type=\"pmid\">9337148</pub-id></citation></ref><ref id=\"B25\"><citation citation-type=\"journal\"><person-group person-group-type=\"author\"><name><surname>Hollenberg</surname><given-names>SM</given-names></name><name><surname>Broussard</surname><given-names>M</given-names></name><name><surname>Osman</surname><given-names>J</given-names></name><name><surname>Parrillo</surname><given-names>JE</given-names></name></person-group><article-title>Increased micro-vascular reactivity and improved mortality in septic mice lacking inducible nitric oxide synthase</article-title><source>Circ Res</source><year>2000</year><volume>86</volume><fpage>774</fpage><lpage>778</lpage><pub-id pub-id-type=\"pmid\">10764411</pub-id></citation></ref><ref id=\"B26\"><citation citation-type=\"journal\"><person-group person-group-type=\"author\"><name><surname>Dorger</surname><given-names>M</given-names></name><name><surname>Allmeling</surname><given-names>AM</given-names></name><name><surname>Kiefmann</surname><given-names>R</given-names></name><name><surname>Munzing</surname><given-names>S</given-names></name><name><surname>Messmer</surname><given-names>K</given-names></name><name><surname>Krombach</surname><given-names>F</given-names></name></person-group><article-title>Early inflammatory response to asbestos exposure in rat and hamster lungs: role of inducible nitric oxide synthase</article-title><source>Toxicol Appl Pharmacol</source><year>2002</year><volume>181</volume><fpage>93</fpage><lpage>105</lpage><pub-id pub-id-type=\"pmid\">12051993</pub-id><pub-id pub-id-type=\"doi\">10.1006/taap.2002.9388</pub-id></citation></ref><ref id=\"B27\"><citation citation-type=\"journal\"><person-group person-group-type=\"author\"><name><surname>Dorger</surname><given-names>M</given-names></name><name><surname>Allmeling</surname><given-names>AM</given-names></name><name><surname>Kiefmann</surname><given-names>R</given-names></name><name><surname>Schropp</surname><given-names>A</given-names></name><name><surname>Krombach</surname><given-names>F</given-names></name></person-group><article-title>Dual role of inducible nitric oxide synthase in acute asbestos-induced lung injury</article-title><source>Free Radic Biol Med</source><year>2002</year><volume>33</volume><fpage>491</fpage><lpage>501</lpage><pub-id pub-id-type=\"pmid\">12160931</pub-id><pub-id pub-id-type=\"doi\">10.1016/S0891-5849(02)00844-4</pub-id></citation></ref><ref id=\"B28\"><citation citation-type=\"journal\"><person-group person-group-type=\"author\"><name><surname>Steudel</surname><given-names>W</given-names></name><name><surname>Watanabe</surname><given-names>M</given-names></name><name><surname>Dikranian</surname><given-names>K</given-names></name><name><surname>Jacobson</surname><given-names>M</given-names></name><name><surname>Jones</surname><given-names>RC</given-names></name></person-group><article-title>Expression of nitric oxide synthase isoforms (NOS II and NOS III) in adult rat lung in hyperoxic pulmonary hypertension</article-title><source>Cell Tissue Res</source><year>1999</year><volume>295</volume><fpage>317</fpage><lpage>329</lpage><pub-id pub-id-type=\"pmid\">9931378</pub-id><pub-id pub-id-type=\"doi\">10.1007/s004410051238</pub-id></citation></ref><ref id=\"B29\"><citation citation-type=\"journal\"><person-group person-group-type=\"author\"><name><surname>Ermert</surname><given-names>M</given-names></name><name><surname>Ruppert</surname><given-names>C</given-names></name><name><surname>Gunther</surname><given-names>A</given-names></name><name><surname>Duncker</surname><given-names>HR</given-names></name><name><surname>Seeger</surname><given-names>W</given-names></name><name><surname>Ermert</surname><given-names>L</given-names></name></person-group><article-title>Cell-specific nitric oxide synthase-isoenzyme expression and regulation in response to endotoxin in intact rat lungs</article-title><source>Lab Invest</source><year>2002</year><volume>82</volume><fpage>425</fpage><lpage>441</lpage><pub-id pub-id-type=\"pmid\">11950900</pub-id></citation></ref><ref id=\"B30\"><citation citation-type=\"journal\"><person-group person-group-type=\"author\"><name><surname>Cucchiaro</surname><given-names>G</given-names></name><name><surname>Tatum</surname><given-names>AH</given-names></name><name><surname>Brown</surname><given-names>MC</given-names></name><name><surname>Camporesi</surname><given-names>EM</given-names></name><name><surname>Daucher</surname><given-names>JW</given-names></name><name><surname>Hakim</surname><given-names>TS</given-names></name></person-group><article-title>Inducible nitric oxide synthase in the lung and exhaled nitric oxide after hyperoxia</article-title><source>Am J Physiol</source><year>1999</year><volume>277</volume><fpage>L636</fpage><lpage>L644</lpage><pub-id pub-id-type=\"pmid\">10484472</pub-id></citation></ref><ref id=\"B31\"><citation citation-type=\"journal\"><person-group person-group-type=\"author\"><name><surname>Kobayashi</surname><given-names>H</given-names></name><name><surname>Hataishi</surname><given-names>R</given-names></name><name><surname>Mitsufuji</surname><given-names>H</given-names></name><name><surname>Tanaka</surname><given-names>M</given-names></name><name><surname>Jacobson</surname><given-names>M</given-names></name><name><surname>Tomita</surname><given-names>T</given-names></name><name><surname>Zapol</surname><given-names>WM</given-names></name><name><surname>Jones</surname><given-names>RC</given-names></name></person-group><article-title>Antiinflammatory properties of inducible nitric oxide synthase in acute hyperoxic lung injury</article-title><source>Am J Respir Cell Mol Biol</source><year>2001</year><volume>24</volume><fpage>390</fpage><lpage>397</lpage><pub-id pub-id-type=\"pmid\">11306431</pub-id></citation></ref><ref id=\"B32\"><citation citation-type=\"journal\"><person-group person-group-type=\"author\"><name><surname>Arkovitz</surname><given-names>MS</given-names></name><name><surname>Szabo</surname><given-names>C</given-names></name><name><surname>Garcia</surname><given-names>VF</given-names></name><name><surname>Wong</surname><given-names>HR</given-names></name><name><surname>Wispe</surname><given-names>JR</given-names></name></person-group><article-title>Differential effects of hyperoxia on the inducible and constitutive isoforms of nitric oxide synthase in the lung</article-title><source>Shock</source><year>1997</year><volume>7</volume><fpage>345</fpage><lpage>350</lpage><pub-id pub-id-type=\"pmid\">9165669</pub-id></citation></ref><ref id=\"B33\"><citation citation-type=\"journal\"><person-group person-group-type=\"author\"><name><surname>Haddad</surname><given-names>IY</given-names></name><name><surname>Zhu</surname><given-names>S</given-names></name><name><surname>Crow</surname><given-names>J</given-names></name><name><surname>Barefield</surname><given-names>E</given-names></name><name><surname>Gadilhe</surname><given-names>T</given-names></name><name><surname>Matalon</surname><given-names>S</given-names></name></person-group><article-title>Inhibition of alveolar type II cell ATP and surfactant synthesis by nitric oxide</article-title><source>Am J Physiol</source><year>1996</year><volume>270</volume><fpage>L898</fpage><lpage>L906</lpage><pub-id pub-id-type=\"pmid\">8764213</pub-id></citation></ref><ref id=\"B34\"><citation citation-type=\"journal\"><person-group person-group-type=\"author\"><name><surname>Pepperl</surname><given-names>S</given-names></name><name><surname>Dorger</surname><given-names>M</given-names></name><name><surname>Ringel</surname><given-names>F</given-names></name><name><surname>Kupatt</surname><given-names>C</given-names></name><name><surname>Krombach</surname><given-names>F</given-names></name></person-group><article-title>Hyperoxia upregulates the NO pathway in alveolar macrophages in vitro: role of AP-1 and NF-kappa B</article-title><source>Am J Physiol Lung Cell Mol Physiol</source><year>2001</year><volume>280</volume><fpage>L905</fpage><lpage>L913</lpage><pub-id pub-id-type=\"pmid\">11290514</pub-id></citation></ref><ref id=\"B35\"><citation citation-type=\"journal\"><person-group person-group-type=\"author\"><name><surname>Shea</surname><given-names>LM</given-names></name><name><surname>Beehler</surname><given-names>C</given-names></name><name><surname>Schwartz</surname><given-names>M</given-names></name><name><surname>Shenkar</surname><given-names>R</given-names></name><name><surname>Tuder</surname><given-names>R</given-names></name><name><surname>Abraham</surname><given-names>E</given-names></name></person-group><article-title>Hyperoxia activates NF-kappaB and increases TNF-alpha and IFN-gamma gene expression in mouse pulmonary lymphocytes</article-title><source>J Immunol</source><year>1996</year><volume>157</volume><fpage>3902</fpage><lpage>3908</lpage><pub-id pub-id-type=\"pmid\">8892621</pub-id></citation></ref><ref id=\"B36\"><citation citation-type=\"journal\"><person-group person-group-type=\"author\"><name><surname>D'Angio</surname><given-names>CT</given-names></name><name><surname>Finkelstein</surname><given-names>JN</given-names></name></person-group><article-title>Oxygen regulation of gene expression: a study in opposites</article-title><source>Mol Genet Metab</source><year>2000</year><volume>71</volume><fpage>371</fpage><lpage>380</lpage><pub-id pub-id-type=\"pmid\">11001829</pub-id><pub-id pub-id-type=\"doi\">10.1006/mgme.2000.3074</pub-id></citation></ref><ref id=\"B37\"><citation citation-type=\"journal\"><person-group person-group-type=\"author\"><name><surname>Haddad</surname><given-names>JJ</given-names></name></person-group><article-title>Antioxidant and prooxidant mechanisms in the regulation of redox (Y)-sensitive transcription factors</article-title><source>Cell Signal</source><year>2002</year><volume>14</volume><fpage>879</fpage><lpage>897</lpage><pub-id pub-id-type=\"pmid\">12220615</pub-id><pub-id pub-id-type=\"doi\">10.1016/S0898-6568(02)00053-0</pub-id></citation></ref><ref id=\"B38\"><citation citation-type=\"journal\"><person-group person-group-type=\"author\"><name><surname>Lee</surname><given-names>PJ</given-names></name><name><surname>Choi</surname><given-names>AMK</given-names></name></person-group><article-title>Pathways of cell signaling in hyperoxia</article-title><source>Free Radic Biol Med</source><year>2003</year><volume>35</volume><fpage>341</fpage><lpage>350</lpage><pub-id pub-id-type=\"pmid\">12899937</pub-id><pub-id pub-id-type=\"doi\">10.1016/S0891-5849(03)00279-X</pub-id></citation></ref><ref id=\"B39\"><citation citation-type=\"journal\"><person-group person-group-type=\"author\"><name><surname>Lowenstein</surname><given-names>CJ</given-names></name><name><surname>Alley</surname><given-names>EW</given-names></name><name><surname>Raval</surname><given-names>P</given-names></name><name><surname>Snowman</surname><given-names>AM</given-names></name><name><surname>Snyder</surname><given-names>SH</given-names></name><name><surname>Russell</surname><given-names>SW</given-names></name><name><surname>Murphy</surname><given-names>WJ</given-names></name></person-group><article-title>Macrophage nitric oxide synthase gene: two upstream regions mediate induction by interferon gamma and lipopolysaccharide</article-title><source>Proc Natl Acad Sci U S A</source><year>1993</year><volume>90</volume><fpage>9730</fpage><lpage>9734</lpage><pub-id pub-id-type=\"pmid\">7692452</pub-id></citation></ref><ref id=\"B40\"><citation citation-type=\"journal\"><person-group person-group-type=\"author\"><name><surname>Nunokawa</surname><given-names>Y</given-names></name><name><surname>Oikawa</surname><given-names>S</given-names></name><name><surname>Tanaka</surname><given-names>S</given-names></name></person-group><article-title>Human inducible nitric oxide synthase gene is transcriptionally regulated by nuclear factor-kappa B dependent mechanism</article-title><source>Biochem Biophys Res Commun</source><year>1996</year><volume>223</volume><fpage>347</fpage><lpage>352</lpage><pub-id pub-id-type=\"pmid\">8670285</pub-id><pub-id pub-id-type=\"doi\">10.1006/bbrc.1996.0897</pub-id></citation></ref><ref id=\"B41\"><citation citation-type=\"journal\"><person-group person-group-type=\"author\"><name><surname>MacMicking</surname><given-names>JD</given-names></name><name><surname>Nathan</surname><given-names>C</given-names></name><name><surname>Hom</surname><given-names>G</given-names></name><name><surname>Chartrain</surname><given-names>N</given-names></name><name><surname>Fletcher</surname><given-names>DS</given-names></name><name><surname>Trumbauer</surname><given-names>M</given-names></name><name><surname>Stevens</surname><given-names>K</given-names></name><name><surname>Xie</surname><given-names>QW</given-names></name><name><surname>Sokol</surname><given-names>K</given-names></name><name><surname>Hutchinson</surname><given-names>N</given-names></name><name><surname>Chen</surname><given-names>H</given-names></name><name><surname>Mudgett</surname><given-names>JS</given-names></name></person-group><article-title>Altered responses to bacterial infection and endotoxic shock in mice lacking inducible nitric oxide synthase</article-title><source>Cell</source><year>1995</year><volume>81</volume><fpage>641</fpage><lpage>650</lpage><pub-id pub-id-type=\"pmid\">7538909</pub-id><pub-id pub-id-type=\"doi\">10.1016/0092-8674(95)90085-3</pub-id></citation></ref><ref id=\"B42\"><citation citation-type=\"journal\"><person-group person-group-type=\"author\"><name><surname>Smith</surname><given-names>PK</given-names></name><name><surname>Krohn</surname><given-names>RI</given-names></name><name><surname>Hermanson</surname><given-names>GT</given-names></name><name><surname>Mallia</surname><given-names>AK</given-names></name><name><surname>Gartner</surname><given-names>FH</given-names></name><name><surname>Provenzano</surname><given-names>MD</given-names></name><name><surname>Fujimoto</surname><given-names>EK</given-names></name><name><surname>Goeke</surname><given-names>NM</given-names></name><name><surname>Olson</surname><given-names>BJ</given-names></name><name><surname>Klenk</surname><given-names>DC</given-names></name></person-group><article-title>Measurement of protein using bicinchoninic acid</article-title><source>Anal Biochem</source><year>1985</year><volume>150</volume><fpage>76</fpage><lpage>85</lpage><pub-id pub-id-type=\"pmid\">3843705</pub-id></citation></ref><ref id=\"B43\"><citation citation-type=\"journal\"><person-group person-group-type=\"author\"><name><surname>Dignam</surname><given-names>JD</given-names></name><name><surname>Lebovitz</surname><given-names>RM</given-names></name><name><surname>Roeder</surname><given-names>RG</given-names></name></person-group><article-title>Accurate transcription initiation by RNA polymerase II in a soluble extract from isolated mammalian nuclei</article-title><source>Nucleic Acids Res</source><year>1983</year><volume>11</volume><issue>1</issue><fpage>475</fpage><lpage>1489</lpage></citation></ref><ref id=\"B44\"><citation citation-type=\"journal\"><person-group person-group-type=\"author\"><name><surname>Thiery</surname><given-names>J</given-names></name><name><surname>Teupser</surname><given-names>D</given-names></name><name><surname>Walli</surname><given-names>AK</given-names></name><name><surname>Ivandic</surname><given-names>B</given-names></name><name><surname>Nebendahl</surname><given-names>K</given-names></name><name><surname>Stein</surname><given-names>O</given-names></name><name><surname>Stein</surname><given-names>Y</given-names></name><name><surname>Seidel</surname><given-names>D</given-names></name></person-group><article-title>Study of causes underlying the low atherosclerotic response to dietary hypercholesterolemia in a selected strain of rabbits</article-title><source>Atherosclerosis</source><year>1996</year><volume>121</volume><fpage>63</fpage><lpage>73</lpage><pub-id pub-id-type=\"pmid\">8678925</pub-id><pub-id pub-id-type=\"doi\">10.1016/0021-9150(95)05700-5</pub-id></citation></ref><ref id=\"B45\"><citation citation-type=\"journal\"><person-group person-group-type=\"author\"><name><surname>Dedhia</surname><given-names>HV</given-names></name><name><surname>Ma</surname><given-names>JY</given-names></name><name><surname>Vallyathan</surname><given-names>V</given-names></name><name><surname>Dalal</surname><given-names>NS</given-names></name><name><surname>Banks</surname><given-names>D</given-names></name><name><surname>Flink</surname><given-names>EB</given-names></name><name><surname>Billie</surname><given-names>M</given-names></name><name><surname>Barger</surname><given-names>MW</given-names></name><name><surname>Castranova</surname><given-names>V</given-names></name></person-group><article-title>Exposure of rats to hyperoxia: alteration of lavagate parameters and macrophage function</article-title><source>J Toxicol Environ Health</source><year>1993</year><volume>40</volume><fpage>1</fpage><lpage>13</lpage><pub-id pub-id-type=\"pmid\">8360938</pub-id></citation></ref><ref id=\"B46\"><citation citation-type=\"journal\"><person-group person-group-type=\"author\"><name><surname>Lefer</surname><given-names>DJ</given-names></name><name><surname>Jones</surname><given-names>SP</given-names></name><name><surname>Girod</surname><given-names>WG</given-names></name><name><surname>Baines</surname><given-names>A</given-names></name><name><surname>Grisham</surname><given-names>MB</given-names></name><name><surname>Cockrell</surname><given-names>AS</given-names></name><name><surname>Huang</surname><given-names>PL</given-names></name><name><surname>Scalia</surname><given-names>R</given-names></name></person-group><article-title>Leukocyte-endothelial cell interactions in nitric oxide synthase-deficient mice</article-title><source>Am J Physiol</source><year>1999</year><volume>276</volume><fpage>H1943</fpage><lpage>H1950</lpage><pub-id pub-id-type=\"pmid\">10362674</pub-id></citation></ref><ref id=\"B47\"><citation citation-type=\"journal\"><person-group person-group-type=\"author\"><name><surname>Auten</surname><given-names>RL</given-names></name><name><surname>Whorton</surname><given-names>MH</given-names></name><name><surname>Nicholas</surname><given-names>MS</given-names></name></person-group><article-title>Blocking neutrophil influx reduces DNA damage in hyperoxia-exposed newborn rat lung</article-title><source>Am J Respir Cell Mol Biol</source><year>2002</year><volume>26</volume><fpage>391</fpage><lpage>397</lpage><pub-id pub-id-type=\"pmid\">11919074</pub-id></citation></ref><ref id=\"B48\"><citation citation-type=\"journal\"><person-group person-group-type=\"author\"><name><surname>Kleeberger</surname><given-names>SR</given-names></name><name><surname>Reddy</surname><given-names>SP</given-names></name><name><surname>Zhang</surname><given-names>LY</given-names></name><name><surname>Cho</surname><given-names>HY</given-names></name><name><surname>Jedlicka</surname><given-names>AE</given-names></name></person-group><article-title>Toll-like receptor 4 mediates ozone-induced murine lung hyperpermeability via inducible nitric oxide synthase</article-title><source>Am J Physiol Lung Cell Mol Physiol</source><year>2001</year><volume>280</volume><fpage>L326</fpage><lpage>L333</lpage><pub-id pub-id-type=\"pmid\">11159012</pub-id></citation></ref><ref id=\"B49\"><citation citation-type=\"journal\"><person-group person-group-type=\"author\"><name><surname>Eiserich</surname><given-names>JP</given-names></name><name><surname>Hristova</surname><given-names>M</given-names></name><name><surname>Cross</surname><given-names>CE</given-names></name><name><surname>Jones</surname><given-names>AD</given-names></name><name><surname>Freeman</surname><given-names>BA</given-names></name><name><surname>Halliwell</surname><given-names>B</given-names></name><name><surname>van der Vliet</surname><given-names>A</given-names></name></person-group><article-title>Formation of nitric oxide-derived inflammatory oxidants by myeloperoxidase in neutrophils</article-title><source>Nature</source><year>1998</year><volume>391</volume><fpage>393</fpage><lpage>397</lpage><pub-id pub-id-type=\"pmid\">9450756</pub-id><pub-id pub-id-type=\"doi\">10.1038/34923</pub-id></citation></ref><ref id=\"B50\"><citation citation-type=\"journal\"><person-group person-group-type=\"author\"><name><surname>Kozlov</surname><given-names>AV</given-names></name><name><surname>Sobhian</surname><given-names>B</given-names></name><name><surname>Duvigneau</surname><given-names>C</given-names></name><name><surname>Gemeiner</surname><given-names>M</given-names></name><name><surname>Nohl</surname><given-names>H</given-names></name><name><surname>Redl</surname><given-names>H</given-names></name><name><surname>Bahrami</surname><given-names>S</given-names></name></person-group><article-title>Organ specific formation of nitrosyl complexes under intestinal ischemia/reperfusion in rats involves NOS-independent mechanism(s)</article-title><source>Shock</source><year>2001</year><volume>15</volume><fpage>366</fpage><lpage>371</lpage><pub-id pub-id-type=\"pmid\">11336196</pub-id></citation></ref><ref id=\"B51\"><citation citation-type=\"journal\"><person-group person-group-type=\"author\"><name><surname>Desmarquest</surname><given-names>P</given-names></name><name><surname>Chadelat</surname><given-names>K</given-names></name><name><surname>Corroyer</surname><given-names>S</given-names></name><name><surname>Cazals</surname><given-names>V</given-names></name><name><surname>Clement</surname><given-names>A</given-names></name></person-group><article-title>Effect of hyperoxia on human macrophage cytokine response</article-title><source>Respir Med</source><year>1998</year><volume>92</volume><fpage>951</fpage><lpage>960</lpage><pub-id pub-id-type=\"pmid\">10070569</pub-id><pub-id pub-id-type=\"doi\">10.1016/S0954-6111(98)90195-0</pub-id></citation></ref><ref id=\"B52\"><citation citation-type=\"journal\"><person-group person-group-type=\"author\"><name><surname>Horinouchi</surname><given-names>H</given-names></name><name><surname>Wang</surname><given-names>CC</given-names></name><name><surname>Shepherd</surname><given-names>KE</given-names></name><name><surname>Jones</surname><given-names>R</given-names></name></person-group><article-title>TNF alpha gene and protein expression in alveolar macrophages in acute and chronic hyperoxia-induced lung injury</article-title><source>Am J Respir Cell Mol Biol</source><year>1996</year><volume>14</volume><fpage>548</fpage><lpage>555</lpage><pub-id pub-id-type=\"pmid\">8652183</pub-id></citation></ref><ref id=\"B53\"><citation citation-type=\"journal\"><person-group person-group-type=\"author\"><name><surname>Sass</surname><given-names>G</given-names></name><name><surname>Koerber</surname><given-names>K</given-names></name><name><surname>Bang</surname><given-names>R</given-names></name><name><surname>Guehring</surname><given-names>H</given-names></name><name><surname>Tiegs</surname><given-names>G</given-names></name></person-group><article-title>Inducible nitric oxide synthase is critical for immune-mediated liver injury in mice</article-title><source>J Clin Invest</source><year>2001</year><volume>107</volume><fpage>439</fpage><lpage>447</lpage><pub-id pub-id-type=\"pmid\">11181643</pub-id></citation></ref><ref id=\"B54\"><citation citation-type=\"journal\"><person-group person-group-type=\"author\"><name><surname>Chen</surname><given-names>F</given-names></name><name><surname>Kuhn</surname><given-names>DC</given-names></name><name><surname>Sun</surname><given-names>SC</given-names></name><name><surname>Gaydos</surname><given-names>LJ</given-names></name><name><surname>Demers</surname><given-names>LM</given-names></name></person-group><article-title>Dependence and reversal of nitric oxide production on NF-kappa B in silica and lipopolysaccharide-induced macrophages</article-title><source>Biochem Biophys Res Commun</source><year>1995</year><volume>214</volume><fpage>839</fpage><lpage>846</lpage><pub-id pub-id-type=\"pmid\">7575553</pub-id><pub-id pub-id-type=\"doi\">10.1006/bbrc.1995.2363</pub-id></citation></ref><ref id=\"B55\"><citation citation-type=\"journal\"><person-group person-group-type=\"author\"><name><surname>Kupatt</surname><given-names>C</given-names></name><name><surname>Weber</surname><given-names>C</given-names></name><name><surname>Wolf</surname><given-names>A</given-names></name><name><surname>Becker</surname><given-names>BF</given-names></name><name><surname>Smith</surname><given-names>TW</given-names></name><name><surname>Kelly</surname><given-names>RA</given-names></name></person-group><article-title>Nitric oxide attenuates reoxygenation-induced ICAM-1 expression in coronary microvascular endothelium: role of NF-kappa B</article-title><source>J Mol Cell Cardiol</source><year>1997</year><volume>29</volume><fpage>2599</fpage><lpage>2609</lpage><pub-id pub-id-type=\"pmid\">9344755</pub-id><pub-id pub-id-type=\"doi\">10.1006/jmcc.1997.0439</pub-id></citation></ref><ref id=\"B56\"><citation citation-type=\"journal\"><person-group person-group-type=\"author\"><name><surname>Janssen</surname><given-names>YM</given-names></name><name><surname>Matalon</surname><given-names>S</given-names></name><name><surname>Mossman</surname><given-names>BT</given-names></name></person-group><article-title>Differential induction of c-fos, c-jun, and apoptosis in lung epithelial cells exposed to ROS or RNS</article-title><source>Am J Physiol</source><year>1997</year><volume>273</volume><fpage>L789</fpage><lpage>L796</lpage><pub-id pub-id-type=\"pmid\">9357854</pub-id></citation></ref></ref-list></back></article>\n",
       "</body></html>"
      ]
     },
     "execution_count": 49,
     "metadata": {},
     "output_type": "execute_result"
    }
   ],
   "source": [
    "ss"
   ]
  },
  {
   "cell_type": "code",
   "execution_count": 50,
   "metadata": {},
   "outputs": [
    {
     "data": {
      "text/plain": [
       "'Background'"
      ]
     },
     "execution_count": 50,
     "metadata": {},
     "output_type": "execute_result"
    }
   ],
   "source": [
    "# ss.find_all('p')[0].findParent('abstract').title.text\n",
    "ss.find_all('p')[1].findParent('sec').title.text"
   ]
  },
  {
   "cell_type": "code",
   "execution_count": 123,
   "metadata": {},
   "outputs": [
    {
     "data": {
      "text/plain": [
       "'BM HSC could be lentivirally modified with long-term transgene expression without compromising cell differentiation or function as also shown in PB HSC [63]. Recently, lentivirally mediated gene therapy was shown to provide clinical benefits in an inheritable fatal demyelinating disease X-linked adrenoleukodystrophy [64]. HSC were transduced ex vivo to restore dysfunctional protein function and proper myelin maintenance and transplanted after myeloablative treatment. Even though less than 15% of leucocytes expressed the transgene, the progressive cerebral demyelination ceased. This suggests that introducing genetically modified leucocytes may work as a therapeutic approach, potentially also for other diseases. Microglia [14] and monocyte function [40,65] may be defective in AD. Introducing fresh monocytic cells into the circulation, whether migrating into the brain and acting as BM-derived microglia in the CNS or circulating in the periphery, may contribute to inflammatory activities in AD, reduction of Aβ and ameliorating AD pathology. It is still under debate which conditions are needed for cell migration: compromised BBB integrity or disease-induced conditions in the brain parenchyma [30,66] and to which extent the migration may occur [67, 68]. Gene modification may be utilized not only to enhance the migration of HSCM into the target area and promote their survival and function as cell-based therapy, but HSCM could also work as carriers for the therapeutic gene. We suggest HSCM to be utilized in future studies and novel therapeutics for AD.'"
      ]
     },
     "execution_count": 123,
     "metadata": {},
     "output_type": "execute_result"
    }
   ],
   "source": [
    "ss.find_all('p')[49].text"
   ]
  },
  {
   "cell_type": "code",
   "execution_count": 124,
   "metadata": {},
   "outputs": [],
   "source": [
    "doc = relation_model1(ss.find_all('p')[49].text)"
   ]
  },
  {
   "cell_type": "code",
   "execution_count": 125,
   "metadata": {},
   "outputs": [
    {
     "data": {
      "text/plain": [
       "[BM HSC could be lentivirally modified with long-term transgene expression without compromising cell differentiation or function as also shown in PB HSC [63].,\n",
       " Recently, lentivirally mediated gene therapy was shown to provide clinical benefits in an inheritable fatal demyelinating disease X-linked adrenoleukodystrophy [64].,\n",
       " HSC were transduced ex vivo to restore dysfunctional protein function and proper myelin maintenance and transplanted after myeloablative treatment.,\n",
       " Even though less than 15% of leucocytes expressed the transgene, the progressive cerebral demyelination ceased.,\n",
       " This suggests that introducing genetically modified leucocytes may work as a therapeutic approach, potentially also for other diseases.,\n",
       " Microglia [14] and monocyte function [40,65] may be defective in AD.,\n",
       " Introducing fresh monocytic cells into the circulation, whether migrating into the brain and acting as BM-derived microglia in the CNS or circulating in the periphery, may contribute to inflammatory activities in AD, reduction of Aβ and ameliorating AD pathology.,\n",
       " It is still under debate which conditions are needed for cell migration: compromised BBB integrity or disease-induced conditions in the brain parenchyma [30,66] and to which extent the migration may occur [67, 68].,\n",
       " Gene modification may be utilized not only to enhance the migration of HSCM into the target area and promote their survival and function as cell-based therapy, but HSCM could also work as carriers for the therapeutic gene.,\n",
       " We suggest HSCM to be utilized in future studies and novel therapeutics for AD.]"
      ]
     },
     "execution_count": 125,
     "metadata": {},
     "output_type": "execute_result"
    }
   ],
   "source": [
    "list(doc.sents)"
   ]
  },
  {
   "cell_type": "code",
   "execution_count": null,
   "metadata": {},
   "outputs": [],
   "source": []
  },
  {
   "cell_type": "code",
   "execution_count": null,
   "metadata": {},
   "outputs": [],
   "source": []
  },
  {
   "cell_type": "code",
   "execution_count": null,
   "metadata": {},
   "outputs": [],
   "source": [
    "from ast import literal_eval\n",
    "\n",
    "def deleting_epmc_GPS(list_1,del_name):\n",
    "   \n",
    "    for sub_list in list_1:\n",
    "        if del_name in sub_list:\n",
    "            list_1.remove(sub_list)\n",
    "    return list_1"
   ]
  },
  {
   "cell_type": "code",
   "execution_count": null,
   "metadata": {},
   "outputs": [],
   "source": [
    "from fuzzywuzzy import fuzz\n",
    "\n",
    "def remove_FP(epmc_list, ml_json):\n",
    "    all_ml_gps = []\n",
    "    if ml_json['annotations']:\n",
    "        for each_ml_annotation in ml_json['annotations']:\n",
    "            if each_ml_annotation[2] == 'GP':\n",
    "                all_ml_gps.append(each_ml_annotation[3])\n",
    "    \n",
    "    non_FP_removed =[]\n",
    "              \n",
    "\n",
    "    for each_ner in epmc_list:\n",
    "        if each_ner[2] == 'Gene_Proteins':\n",
    "            for each_ml_gp in all_ml_gps:         \n",
    "                score = fuzz.token_set_ratio(each_ml_gp, each_ner[1])\n",
    "                if score == 100:\n",
    "                    non_FP_removed.append(each_ner)\n",
    "\n",
    "    non_gp_tags =  deleting_epmc_GPS(epmc_list,'Gene_Proteins')  \n",
    "\n",
    "    fp_removed_tags = non_gp_tags+non_FP_removed\n",
    "\n",
    "    return fp_removed_tags\n"
   ]
  },
  {
   "cell_type": "code",
   "execution_count": null,
   "metadata": {},
   "outputs": [],
   "source": [
    "def get_spacy_annotations(text_sentence):\n",
    "    data_dict ={}\n",
    "    doc = nlp2(text_sentence)\n",
    "    terms_entities = []\n",
    "    \n",
    "    for ent in doc.ents:\n",
    "        terms_entities.append(\n",
    "            [ent.start_char, ent.end_char, ent.label_, ent.text])\n",
    "    \n",
    "    data_dict['annotations'] = terms_entities\n",
    "    \n",
    "    return data_dict"
   ]
  },
  {
   "cell_type": "code",
   "execution_count": null,
   "metadata": {},
   "outputs": [],
   "source": [
    "# from tqdm import tqdm\n",
    "with open(result_path + 'spacy_fp_removal_80.tsv', 'w', newline='\\n') as f1:\n",
    "    public_writer = csv.writer(f1, delimiter='\\t', lineterminator='\\n')\n",
    "    \n",
    "    for index,row in tqdm(test_df.iterrows(),total = len(test_df)):\n",
    "        try:\n",
    "            ml_annotations = get_spacy_annotations(row['sentence'])\n",
    "            fp_removed = remove_FP(literal_eval(row['ner']), ml_annotations)\n",
    "        except ValueError:\n",
    "            fp_removed =''\n",
    "            \n",
    "        public_writer.writerow([row['pmc_id'], row['section'],row['sentence'], fp_removed])   \n",
    "            \n",
    "    "
   ]
  },
  {
   "cell_type": "code",
   "execution_count": null,
   "metadata": {},
   "outputs": [],
   "source": [
    "# Convert to IOB format\n",
    "\n",
    "import sys\n",
    "import os\n",
    "import glob\n",
    "\n",
    "sys.path.append('/mnt/droplet/nfs/gns/literature/Santosh_Tirunagari/test Gitlab/epmc-ml-misc-library/')\n",
    "\n",
    "import capo_tools_lib\n",
    "import evaluation_epmc_lib\n",
    "\n",
    "\n"
   ]
  },
  {
   "cell_type": "code",
   "execution_count": null,
   "metadata": {},
   "outputs": [],
   "source": [
    "iob_result_path = result_path+'iob/'\n",
    "pathlib.Path(iob_result_path).mkdir(parents=True, exist_ok=True)\n",
    "\n",
    "file_path = result_path + 'spacy_fp_removal_80.tsv'\n",
    "capo_tools_lib.annotations_api_tagged_sentences_to_IOB(file_path,\n",
    "                                                       iob_result_path,'spacy_fp_removal_iob.tsv')"
   ]
  },
  {
   "cell_type": "code",
   "execution_count": null,
   "metadata": {},
   "outputs": [],
   "source": [
    "import metrics.ner as ner_metrics\n",
    "\n",
    "\n",
    "# precision\t0.7\t0.7\t0.72\t0.73\n",
    "# recall\t0.53\t0.53\t0.54\t0.55\n",
    "# f1 score\t0.6\t0.6\t0.62\t0.6\n",
    "\n",
    "#\n",
    "# print(ner_metrics.semeval_scores_report(gold=epmc_labels, response=ml_labels, digits=2))\n",
    "\n",
    "root_path = '/mnt/droplet/nfs/gns/literature/machine-learning/'\n",
    "epmc_path = root_path+'Datasets/NER_Datasets/EBI_standard-IOB/test.csv'\n",
    "all_tags = ['GP', 'DS', 'OG']\n",
    "\n",
    "print('################ Annotation Pipeline Results ########################')\n",
    "CAPO_path = iob_result_path+'spacy_fp_removal_iob.tsv'\n",
    "for each_tag in all_tags:\n",
    "    print('############ '+each_tag+' ####################')\n",
    "    print('\\n')\n",
    "    print(ner_metrics.semeval_report(gold_path=epmc_path, response_path=CAPO_path, targets=[each_tag]))"
   ]
  },
  {
   "cell_type": "code",
   "execution_count": null,
   "metadata": {},
   "outputs": [],
   "source": []
  }
 ],
 "metadata": {
  "kernelspec": {
   "display_name": "pytorch",
   "language": "python",
   "name": "pytorch"
  },
  "language_info": {
   "codemirror_mode": {
    "name": "ipython",
    "version": 3
   },
   "file_extension": ".py",
   "mimetype": "text/x-python",
   "name": "python",
   "nbconvert_exporter": "python",
   "pygments_lexer": "ipython3",
   "version": "3.6.9"
  }
 },
 "nbformat": 4,
 "nbformat_minor": 4
}
