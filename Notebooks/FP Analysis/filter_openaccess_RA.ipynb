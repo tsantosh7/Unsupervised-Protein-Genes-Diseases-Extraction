{
 "cells": [
  {
   "cell_type": "code",
   "execution_count": 1,
   "metadata": {},
   "outputs": [],
   "source": [
    "import glob\n",
    "from tqdm import tqdm\n",
    "import sys\n",
    "import pathlib\n",
    "import csv\n",
    "import argparse\n",
    "import pandas as pd\n",
    "import json\n",
    "import io"
   ]
  },
  {
   "cell_type": "code",
   "execution_count": 2,
   "metadata": {},
   "outputs": [],
   "source": [
    "# Read IDS OAs and RAs  Not usefu now. Use this when working at EuropePMC level\n",
    "id_database_df= pd.read_csv('/nfs/misc/literature/Santosh_Tirunagari/OTAR_ids_dataset/id_dataset.csv')\n",
    "FT_IDS = dict(zip(id_database_df['FT_ID'].values.tolist(), id_database_df['PUB_DATE'].values))\n",
    "# id_database_df.sample(n=2)\n",
    "\n"
   ]
  },
  {
   "cell_type": "code",
   "execution_count": 3,
   "metadata": {},
   "outputs": [],
   "source": [
    "# data_file_path = '/nfs/misc/literature/rdf_annotation_data/daily_pipeline_api/15_08_1947/fulltext/job_14/annotation/patch-total-417.xml.gz'\n",
    "data_file_path = '/nfs/production/literature/Santosh_Tirunagari/NMP_FT20.09/'"
   ]
  },
  {
   "cell_type": "code",
   "execution_count": 4,
   "metadata": {},
   "outputs": [],
   "source": [
    "files_list = glob.glob(data_file_path+'*.jsonl')"
   ]
  },
  {
   "cell_type": "code",
   "execution_count": 12,
   "metadata": {},
   "outputs": [],
   "source": [
    "def process_each_file_in_job(each_file_path):\n",
    "    p = pathlib.Path(each_file_path)\n",
    "    \n",
    "    if 'NMP_FT20.09' in each_file_path:\n",
    "        result_path = '/nfs/production/literature/Santosh_Tirunagari/OA_RAset/NMP_FT20.09/'\n",
    "    elif 'NDP_FT20.09' in each_file_path:\n",
    "        result_path = '/nfs/production/literature/Santosh_Tirunagari/OA_RAset/NDP_FT20.09/'\n",
    "    \n",
    "    with io.open(each_file, 'r', encoding='utf8') as f:\n",
    "        json_content = f.readlines()\n",
    "        \n",
    "    with open(result_path + p.name, 'at',encoding='utf8') as json_file:\n",
    "        for each_json_file in json_content:\n",
    "            file_json = json.loads(each_json_file)\n",
    "            if file_json['pmid'] in FT_IDS:\n",
    "                json.dump(file_json, json_file, ensure_ascii=False)\n",
    "                json_file.write('\\n')"
   ]
  },
  {
   "cell_type": "code",
   "execution_count": 14,
   "metadata": {},
   "outputs": [],
   "source": [
    "# for each_file in tqdm(files_list):\n",
    "#     process_each_file_in_job(each_file)"
   ]
  },
  {
   "cell_type": "code",
   "execution_count": null,
   "metadata": {},
   "outputs": [],
   "source": [
    "parser = argparse.ArgumentParser(description='This script will extract OA and RA articles only')\n",
    "parser.add_argument(\"-f\", \"--file\", nargs=1, required=True, help=\"OTAR New Pipeline GP DS CD extractor to Jsonl format\", metavar=\"PATH\")\n",
    "args = parser.parse_args()\n",
    "\n",
    "process_each_file_in_job(args.file[0])\n"
   ]
  }
 ],
 "metadata": {
  "kernelspec": {
   "display_name": "pytorch",
   "language": "python",
   "name": "pytorch"
  },
  "language_info": {
   "codemirror_mode": {
    "name": "ipython",
    "version": 3
   },
   "file_extension": ".py",
   "mimetype": "text/x-python",
   "name": "python",
   "nbconvert_exporter": "python",
   "pygments_lexer": "ipython3",
   "version": "3.6.9"
  }
 },
 "nbformat": 4,
 "nbformat_minor": 4
}
