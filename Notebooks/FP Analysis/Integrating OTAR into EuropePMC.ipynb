{
 "cells": [
  {
   "cell_type": "code",
   "execution_count": 1,
   "metadata": {},
   "outputs": [],
   "source": [
    "import glob\n",
    "import gzip\n",
    "from bs4 import BeautifulSoup\n",
    "import lxml\n",
    "from collections import defaultdict\n",
    "from tqdm import tqdm\n",
    "import requests\n",
    "import random\n",
    "import sys\n",
    "import pathlib\n",
    "import csv\n",
    "\n",
    "\n",
    "\n",
    "import argparse\n",
    "\n",
    "# import multiprocessing\n",
    "from fuzzywuzzy import fuzz\n",
    "\n",
    "# url = 'http://ai-capo-api-lb/spaCy_ner_predictor?text_sentence='  # Load Balancer\n",
    "\n",
    "# result_path = '/nfs/gns/literature/machine-learning/evaluation/FP_Analysis/SpaCy/model_call/'\n",
    "# pathlib.Path(result_path).mkdir(parents=True, exist_ok=True)\n",
    "\n"
   ]
  },
  {
   "cell_type": "code",
   "execution_count": 5,
   "metadata": {},
   "outputs": [],
   "source": [
    "import torch"
   ]
  },
  {
   "cell_type": "code",
   "execution_count": 13,
   "metadata": {},
   "outputs": [],
   "source": [
    "# import spacy\n",
    "# from spacy import util\n",
    "# best_model_path = '/nfs/gns/literature/Santosh_Tirunagari/GitHub/spacy_models/pretrain_exp/best/'\n",
    "\n",
    "# print(\"Loading from\", best_model_path)\n",
    "# nlp2 = util.load_model_from_path(best_model_path)"
   ]
  },
  {
   "cell_type": "code",
   "execution_count": 14,
   "metadata": {},
   "outputs": [],
   "source": [
    "# data_file_path = '/nfs/misc/literature/rdf_annotation_data/daily_pipeline_api/15_08_1947/fulltext/job_14/annotation/patch-total-417.xml.gz'\n",
    "data_file_path = '/nfs/misc/literature/rdf_annotation_data/daily_pipeline_api/15_08_1947/abstract/job_21/annotation/patch-total-415.abstract.gz'"
   ]
  },
  {
   "cell_type": "code",
   "execution_count": 15,
   "metadata": {},
   "outputs": [],
   "source": [
    "def getfileblocks(file_path):\n",
    "    subFileBlocks = []\n",
    "\n",
    "    with gzip.open(file_path, 'rt') as fh:\n",
    "        for line in fh:\n",
    "            if line.startswith('<!DOCTYPE \"JATS-archivearticle1.dtd\">'):  # <!DOCTYPE article\n",
    "                subFileBlocks.append(line)\n",
    "            else:\n",
    "                subFileBlocks[-1] += line\n",
    "\n",
    "    return subFileBlocks\n",
    "\n",
    "\n",
    "\n"
   ]
  },
  {
   "cell_type": "code",
   "execution_count": 16,
   "metadata": {},
   "outputs": [],
   "source": [
    "files_list = getfileblocks(data_file_path)"
   ]
  },
  {
   "cell_type": "code",
   "execution_count": 74,
   "metadata": {},
   "outputs": [],
   "source": [
    "soup = BeautifulSoup(files_list[101], 'lxml')"
   ]
  },
  {
   "cell_type": "code",
   "execution_count": 75,
   "metadata": {},
   "outputs": [],
   "source": [
    "url = 'http://ai-capo-api-3:5001/predict/sent' "
   ]
  },
  {
   "cell_type": "code",
   "execution_count": 76,
   "metadata": {},
   "outputs": [],
   "source": [
    "all_sentences = soup.find_all('sent')# all_sentences = soup.find_all('SENT')"
   ]
  },
  {
   "cell_type": "code",
   "execution_count": 77,
   "metadata": {},
   "outputs": [
    {
     "data": {
      "text/plain": [
       "<!DOCTYPE >\n",
       "<html><body><p>JATS-archivearticle1.dtd\"&gt;\n",
       "<ebiroot xmlns:z=\"ebistuff\"><article><ext_id>30951706</ext_id><source>MED</source><abstract><title><text><sent pm=\".\" sid=\"794\"><plain>Differential contribution of the two waves of cardiac progenitors and their derivatives to aorta and pulmonary artery. </plain></sent>\n",
       "</text></title><p><sectag type=\"ABS\"><text><sent pm=\".\" sid=\"795\"><plain>During <z:species classname=\"common_name\" ids=\"10090\" rank=\"species\">mouse</z:species> development, part of the cells derived from the second heart field (SHF) progenitors contributes to the elongation and enlargement of the outflow tract (OFT) that subsequently septates into the trunks of aorta (Ao) and pulmonary artery (PA). </plain></sent>\n",
       "<sent pm=\".\" sid=\"796\"><plain>Thus, the cardiac progenitor-originated cells are distributed to both Ao and PA. </plain></sent>\n",
       "<sent pm=\".\" sid=\"797\"><plain>Here, we investigated that how these cells are assigned to the two great arteries during OFT septation through lineage tracing technology. </plain></sent>\n",
       "<sent pm=\".\" sid=\"798\"><plain>By use of the inducible <z:uniprot fb=\"0\" ids=\"Q8CFN5\" sup=\"inside\">Mef2c</z:uniprot>-<z:uniprot fb=\"1\" ids=\"P00451\" sup=\"inside\">AHF</z:uniprot>-CreERT2; Rosa26-mTmG reporter system, two waves of SHF progenitors and their derivatives were identified, and they made differential contribution to the Ao and PA, respectively. </plain></sent>\n",
       "<sent pm=\".\" sid=\"799\"><plain>While the early wave of cells (at E7.5) was preferentially destined to the Ao, the second wave of cells (from E8.5 till E11.5) made its favorite path to the PA. </plain></sent>\n",
       "<sent pm=\".\" sid=\"800\"><plain>In addition, we unveiled <z:uniprot fb=\"0\" ids=\"P40530\" sup=\"inside\">PDK1</z:uniprot> as a critical regulator of the second wave of cells as deletion of <z:uniprot fb=\"0\" ids=\"Q9Y1J3\" sup=\"inside\">Pdk1</z:uniprot> resulted in poorly developed PA leading to <z:disease ids=\"C1956257,C3278090,C3280389,C3280779\" semgrp=\"T047,T033,T033,T033\">pulmonary stenosis</z:disease>. </plain></sent>\n",
       "<sent pm=\".\" sid=\"801\"><plain>Thus, this study provides insights into the understanding of the pre-determined cell fate of the cardiac progenitor-derived cells with preferential contribution to the Ao and PA, as well as of the <z:go ids=\"GO:0009405\" onto=\"biological_process\">pathogenesis</z:go> of <z:disease ids=\"C1956257,C3278090,C3280389,C3280779\" semgrp=\"T047,T033,T033,T033\">pulmonary stenosis</z:disease>. </plain></sent>\n",
       "</text></sectag></p></abstract></article>\n",
       "</ebiroot>\n",
       "</p></body></html>"
      ]
     },
     "execution_count": 77,
     "metadata": {},
     "output_type": "execute_result"
    }
   ],
   "source": [
    "soup"
   ]
  },
  {
   "cell_type": "code",
   "execution_count": 67,
   "metadata": {},
   "outputs": [],
   "source": [
    "plain_sentences = []\n",
    "section_tags = defaultdict(set)\n",
    "gene_sentences = defaultdict(set)\n",
    "disease_setences = defaultdict(set)\n",
    "for each_sentence in all_sentences:\n",
    "    extracted_sentence = each_sentence.plain\n",
    "    if extracted_sentence:\n",
    "        try:\n",
    "#             section_tags[extracted_sentence.text].add(extracted_sentence.findParents('SecTag')[0]['type'])\n",
    "            section_tags[extracted_sentence.text].add(extracted_sentence.findParents('sectag')[0]['type'])\n",
    "        except IndexError:\n",
    "            section_tags[extracted_sentence.text].add('')\n",
    "        plain_sentences.append(extracted_sentence.text.strip())\n",
    "        #### Extract GP sentences and their tags######\n",
    "        extracted_sentence_GP_ztags = extracted_sentence.find_all('z:uniprot')\n",
    "        if extracted_sentence_GP_ztags is not None:\n",
    "            for each_GP_z_tag in extracted_sentence_GP_ztags:\n",
    "                gene_sentences[each_sentence.plain.text].add(each_GP_z_tag.text)\n",
    "        #### Extract Disease sentences and their tags######\n",
    "        extracted_sentence_DS_ztags = extracted_sentence.find_all('z:disease')\n",
    "        if extracted_sentence_DS_ztags is not None:\n",
    "            for each_DS_z_tag in extracted_sentence_DS_ztags:\n",
    "                disease_setences[each_sentence.plain.text].add(each_DS_z_tag.text)    "
   ]
  },
  {
   "cell_type": "code",
   "execution_count": 22,
   "metadata": {},
   "outputs": [
    {
     "data": {
      "text/plain": [
       "defaultdict(set,\n",
       "            {'Properties of purine nucleoside phosphorylase (PNP) of mammalian and bacterial origin. ': {''},\n",
       "             'Purine nucleoside phosphorylase (PNP), from calf spleen, human erythrocytes and E. coli have been examined with regard to structural requirements of substrates and inhibitors. ': {'ABS'},\n",
       "             'Kinetic parameters (Km, Vmax/Km) for a variety of N(1) and/or N(7)-methylated analogues of guanosine, inosine and adenosine have been evaluated for all three enzymes. ': {'ABS'},\n",
       "             'The substrate and/or inhibitor properties of purine riboside, 1,6-dihydropurine riboside, some deazapurine nucleosides: 3-deaza- and 7-deazainosine, 1,3-dideazapurine riboside (ribobenzimidazole), and a variety of acyclonucleosides, have been determined with mammalian and bacterial enzymes. ': {'ABS'},\n",
       "             'Overall results indicate distinct similarities of kinetic properties and structural requirements of the two mammalian enzymes, although there are some differences as well. ': {'ABS'},\n",
       "             'The N(1) and O6 of the purine ring are necessary for substrate-inhibitor activity and constitute a binding site for the mammalian (but not the bacterial) enzymes. ': {'ABS'},\n",
       "             'Moreover, nucleosides lacking the N(3) undergo phosphorolysis and those lacking N(7) are inhibitors (but not substrates). ': {'ABS'},\n",
       "             'Methylation of the ring N(7) leads to two overlapping effects: labilization of the glycosidic bond, and impediment to protonation at this site by the enzyme, a postulated prerequisite for enzymatic phosphorolysis. ': {'ABS'},\n",
       "             'It is proposed that a histidine interacts with N(1) as a donor and O6 as an acceptor. ': {'ABS'},\n",
       "             'Alternatively N(1)-H and C(2)-NH2 may serve as donors for hydrogen bonds with a glutamate residue. ': {'ABS'},\n",
       "             'The less specific E. coli enzyme phosphorolyses all purine ring modified nucleosides but 7-deazainosine which is only an inhibitor. ': {'ABS'},\n",
       "             'On the other hand, the bacterial enzyme exhibits decreased activity towards N(7)-methylated nucleosides and lack of affinity for a majority of the tested acyclonucleoside inhibitors of the mammalian enzymes. ': {'ABS'},\n",
       "             'The foregoing results underline the fundamental differences between mammalian and bacterial enzymes, including variations in the binding sites for the purine ring. ': {'ABS'}})"
      ]
     },
     "execution_count": 22,
     "metadata": {},
     "output_type": "execute_result"
    }
   ],
   "source": [
    "section_tags"
   ]
  },
  {
   "cell_type": "code",
   "execution_count": 23,
   "metadata": {},
   "outputs": [
    {
     "name": "stderr",
     "output_type": "stream",
     "text": [
      "100%|██████████| 13/13 [00:07<00:00,  1.75it/s]\n"
     ]
    }
   ],
   "source": [
    "ml_tagged_sentences = defaultdict(list)\n",
    "for each_sentence in tqdm(plain_sentences):\n",
    "    rs = requests.post(url, data={'text': each_sentence})\n",
    "    ml_annotations = rs.json()['annotations']\n",
    "    ml_tagged_sentences[each_sentence].append(ml_annotations)\n",
    "    "
   ]
  },
  {
   "cell_type": "code",
   "execution_count": 24,
   "metadata": {},
   "outputs": [
    {
     "data": {
      "text/plain": [
       "defaultdict(list,\n",
       "            {'Properties of purine nucleoside phosphorylase (PNP) of mammalian and bacterial origin. ': [[[14,\n",
       "                45,\n",
       "                'CD',\n",
       "                'purine nucleoside phosphorylase'],\n",
       "               [47, 50, 'GP', 'PNP']]],\n",
       "             'Purine nucleoside phosphorylase (PNP), from calf spleen, human erythrocytes and E. coli have been examined with regard to structural requirements of substrates and inhibitors. ': [[[0,\n",
       "                31,\n",
       "                'CD',\n",
       "                'Purine nucleoside phosphorylase'],\n",
       "               [33, 36, 'GP', 'PNP'],\n",
       "               [57, 62, 'OG', 'human'],\n",
       "               [80, 87, 'OG', 'E. coli']]],\n",
       "             'Kinetic parameters (Km, Vmax/Km) for a variety of N(1) and/or N(7)-methylated analogues of guanosine, inosine and adenosine have been evaluated for all three enzymes. ': [[[91,\n",
       "                100,\n",
       "                'CD',\n",
       "                'guanosine'],\n",
       "               [102, 109, 'CD', 'inosine'],\n",
       "               [114, 123, 'CD', 'adenosine']]],\n",
       "             'The substrate and/or inhibitor properties of purine riboside, 1,6-dihydropurine riboside, some deazapurine nucleosides: 3-deaza- and 7-deazainosine, 1,3-dideazapurine riboside (ribobenzimidazole), and a variety of acyclonucleosides, have been determined with mammalian and bacterial enzymes. ': [[[45,\n",
       "                60,\n",
       "                'CD',\n",
       "                'purine riboside'],\n",
       "               [95, 118, 'CD', 'deazapurine nucleosides'],\n",
       "               [214, 231, 'CD', 'acyclonucleosides']]],\n",
       "             'Overall results indicate distinct similarities of kinetic properties and structural requirements of the two mammalian enzymes, although there are some differences as well. ': [[]],\n",
       "             'The N(1) and O6 of the purine ring are necessary for substrate-inhibitor activity and constitute a binding site for the mammalian (but not the bacterial) enzymes. ': [[[23,\n",
       "                29,\n",
       "                'CD',\n",
       "                'purine']]],\n",
       "             'Moreover, nucleosides lacking the N(3) undergo phosphorolysis and those lacking N(7) are inhibitors (but not substrates). ': [[[10,\n",
       "                21,\n",
       "                'CD',\n",
       "                'nucleosides']]],\n",
       "             'Methylation of the ring N(7) leads to two overlapping effects: labilization of the glycosidic bond, and impediment to protonation at this site by the enzyme, a postulated prerequisite for enzymatic phosphorolysis. ': [[]],\n",
       "             'It is proposed that a histidine interacts with N(1) as a donor and O6 as an acceptor. ': [[[22,\n",
       "                31,\n",
       "                'CD',\n",
       "                'histidine']]],\n",
       "             'Alternatively N(1)-H and C(2)-NH2 may serve as donors for hydrogen bonds with a glutamate residue. ': [[[80,\n",
       "                89,\n",
       "                'CD',\n",
       "                'glutamate']]],\n",
       "             'The less specific E. coli enzyme phosphorolyses all purine ring modified nucleosides but 7-deazainosine which is only an inhibitor. ': [[[18,\n",
       "                25,\n",
       "                'OG',\n",
       "                'E. coli'],\n",
       "               [52, 58, 'CD', 'purine'],\n",
       "               [73, 84, 'CD', 'nucleosides']]],\n",
       "             'On the other hand, the bacterial enzyme exhibits decreased activity towards N(7)-methylated nucleosides and lack of affinity for a majority of the tested acyclonucleoside inhibitors of the mammalian enzymes. ': [[[92,\n",
       "                103,\n",
       "                'CD',\n",
       "                'nucleosides'],\n",
       "               [154, 170, 'CD', 'acyclonucleoside']]],\n",
       "             'The foregoing results underline the fundamental differences between mammalian and bacterial enzymes, including variations in the binding sites for the purine ring. ': [[[151,\n",
       "                157,\n",
       "                'CD',\n",
       "                'purine']]]})"
      ]
     },
     "execution_count": 24,
     "metadata": {},
     "output_type": "execute_result"
    }
   ],
   "source": [
    "ml_tagged_sentences"
   ]
  },
  {
   "cell_type": "code",
   "execution_count": 25,
   "metadata": {},
   "outputs": [],
   "source": [
    "# ML not recognising covid terms in some cases."
   ]
  },
  {
   "cell_type": "code",
   "execution_count": 26,
   "metadata": {},
   "outputs": [],
   "source": [
    "missing_list = ['covid-19', 'covid19', 'sarscov2', 'sars-cov-2', '2019-ncov']\n",
    "def compare_ml_annotations_with_dictionary_tagged(ml_tags_, z_tags_):\n",
    "    agreed_z_tags = set()\n",
    "#     print(z_tags_, ml_tags_)\n",
    "    for each_z_tag in z_tags_:\n",
    "        for each_ml_annotation in ml_tags_:\n",
    "            if each_z_tag.lower() in missing_list:\n",
    "                agreed_z_tags.add(each_z_tag)\n",
    "            else:\n",
    "                score = fuzz.partial_ratio(each_ml_annotation, each_z_tag) #token_set_ratio\n",
    "                if score == 100:\n",
    "                    agreed_z_tags.add(each_z_tag)\n",
    "    return list(z_tags_- agreed_z_tags)"
   ]
  },
  {
   "cell_type": "code",
   "execution_count": 27,
   "metadata": {},
   "outputs": [],
   "source": [
    "all_ml_gp_tags = set()\n",
    "all_ml_ds_tags = set()\n",
    "all_gp_ztags = set()\n",
    "all_ds_ztags = set()\n",
    "\n",
    "for each_sentence, gp_z_tags in gene_sentences.items():\n",
    "    ml_tags = ml_tagged_sentences[each_sentence]\n",
    "    for each_ml_tag in ml_tags[0]:\n",
    "        if each_ml_tag[2] =='GP':\n",
    "            all_ml_gp_tags.add(each_ml_tag[3])\n",
    "    for each_gp_ztag in gp_z_tags:\n",
    "        all_gp_ztags.add(each_gp_ztag)\n",
    "    \n",
    "for each_sentence, ds_z_tags in disease_setences.items():\n",
    "    ml_tags = ml_tagged_sentences[each_sentence]\n",
    "    for each_ml_tag in ml_tags[0]:\n",
    "        if each_ml_tag[2] =='DS':\n",
    "            all_ml_ds_tags.add(each_ml_tag[3])\n",
    "    for each_ds_ztag in ds_z_tags:\n",
    "        all_ds_ztags.add(each_ds_ztag)   "
   ]
  },
  {
   "cell_type": "code",
   "execution_count": 28,
   "metadata": {},
   "outputs": [
    {
     "data": {
      "text/plain": [
       "['purine nucleoside phosphorylase', 'Purine nucleoside phosphorylase']"
      ]
     },
     "execution_count": 28,
     "metadata": {},
     "output_type": "execute_result"
    }
   ],
   "source": [
    "GP_false_postives = compare_ml_annotations_with_dictionary_tagged(all_ml_gp_tags, all_gp_ztags)\n",
    "GP_false_postives"
   ]
  },
  {
   "cell_type": "code",
   "execution_count": 29,
   "metadata": {},
   "outputs": [
    {
     "data": {
      "text/plain": [
       "[]"
      ]
     },
     "execution_count": 29,
     "metadata": {},
     "output_type": "execute_result"
    }
   ],
   "source": [
    "DS_false_postives = compare_ml_annotations_with_dictionary_tagged(all_ml_ds_tags, all_ds_ztags)\n",
    "DS_false_postives"
   ]
  },
  {
   "cell_type": "code",
   "execution_count": 30,
   "metadata": {},
   "outputs": [],
   "source": [
    "## End of Europe PMC with the ML FP filtering!! Save the XMLS for EuropePMC"
   ]
  },
  {
   "cell_type": "code",
   "execution_count": 31,
   "metadata": {},
   "outputs": [],
   "source": [
    "import numpy as np\n",
    "import itertools\n",
    "import re"
   ]
  },
  {
   "cell_type": "code",
   "execution_count": 32,
   "metadata": {},
   "outputs": [],
   "source": [
    "ml_tagged_sentences['Projected healthcare resource needs for an effective response to COVID-19 in low-income and middle-income countries are significant, but an early response to limit the spread of the SARS-COV-2 virus will reduce resources needed and costs.'] = [[]]"
   ]
  },
  {
   "cell_type": "code",
   "execution_count": 33,
   "metadata": {},
   "outputs": [],
   "source": [
    "# ml_tagged_sentences"
   ]
  },
  {
   "cell_type": "code",
   "execution_count": 34,
   "metadata": {},
   "outputs": [],
   "source": [
    "def get_new_missing_tags(each_sentence):\n",
    "    new_entities = []\n",
    "    for missing_string in missing_list:\n",
    "        for i in re.finditer(missing_string, each_sentence.lower()):\n",
    "            indexlocation= i.span()\n",
    "    #         print(indexlocation)\n",
    "            startindex= i.start()\n",
    "            endindex= i.end()\n",
    "            entity = each_sentence[indexlocation[0]:indexlocation[1]]\n",
    "            new_entities.append([startindex,endindex, 'DS', entity])\n",
    "    return new_entities"
   ]
  },
  {
   "cell_type": "code",
   "execution_count": 35,
   "metadata": {},
   "outputs": [],
   "source": [
    "# get gp, ds, cd, and og sets\n",
    "gp_set = set()\n",
    "ds_set = set()\n",
    "cd_set = set()\n",
    "og_set = set()\n",
    "\n",
    "final_sentences = defaultdict(list)\n",
    "\n",
    "for sentence, ml_tags in ml_tagged_sentences.items():\n",
    "    all_tags =[]\n",
    "    new_missing_stuff = get_new_missing_tags(sentence)\n",
    "    if ml_tags[0]:\n",
    "        all_tags = new_missing_stuff+ml_tags[0]\n",
    "    else:\n",
    "        all_tags = new_missing_stuff\n",
    "    if all_tags: # only if the tags are present, discard the sentence without any tags\n",
    "        final_sentences[sentence] = all_tags\n",
    "        for each_ml_tag in all_tags:\n",
    "            if each_ml_tag[2] =='GP':\n",
    "                gp_set.add(each_ml_tag[3])\n",
    "            elif each_ml_tag[2] =='DS':\n",
    "                ds_set.add(each_ml_tag[3])\n",
    "            if each_ml_tag[2] =='CD':\n",
    "                cd_set.add(each_ml_tag[3])\n",
    "            if each_ml_tag[2] =='OG':\n",
    "                og_set.add(each_ml_tag[3])\n",
    "        "
   ]
  },
  {
   "cell_type": "code",
   "execution_count": 36,
   "metadata": {},
   "outputs": [],
   "source": [
    "\n",
    "def get_sentences_offset_per_tag(tagset, sentences_tags, tag_type):\n",
    "    dicttag = defaultdict(list)\n",
    "    for each_tag in tagset:\n",
    "        for each_sentence, ml_tags in sentences_tags.items():\n",
    "            for each_ml_tag in ml_tags:\n",
    "                if each_tag in each_ml_tag[3] and each_ml_tag[2] ==tag_type:\n",
    "                    dicttag[each_tag].append([each_sentence, each_ml_tag[0], each_ml_tag[1]])\n",
    "    return dicttag\n",
    "\n",
    "\n",
    "def get_mapped_list_from_annotations(annotation_list):\n",
    "    mapped_list = list(itertools.combinations(annotation_list, 2))\n",
    "\n",
    "    unique_maplist = []\n",
    "    for each_list in mapped_list:\n",
    "        if each_list[0][2] !=each_list[1][2] and each_list[1][2]!='OG' and each_list[0][2]!='OG':\n",
    "            unique_maplist.append((each_list[0], each_list[1]))\n",
    "\n",
    "    return unique_maplist  \n",
    "\n",
    "def get_sentences_offset_per_cooccurance(sentences_tags):\n",
    "    \n",
    "    dict_gp_ds = defaultdict(list)\n",
    "    dict_gp_cd = defaultdict(list)\n",
    "    dict_cd_ds = defaultdict(list)\n",
    "\n",
    "    for sentence, tags in final_sentences.items():\n",
    "        if len(tags)>1: # only if more than 1 tag is available\n",
    "            check_tags =np.array(tags)\n",
    "            if 'GP' in  check_tags and 'DS' in check_tags:\n",
    "                dict_gp_ds[sentence] = get_mapped_list_from_annotations(tags)\n",
    "            if 'GP' in  check_tags and 'CD' in check_tags:\n",
    "                dict_gp_cd[sentence] = get_mapped_list_from_annotations(tags)\n",
    "            if 'CD' in  check_tags and 'DS' in check_tags:\n",
    "                dict_cd_ds[sentence]= get_mapped_list_from_annotations(tags)         \n",
    "                \n",
    "    return dict_gp_ds, dict_gp_cd, dict_cd_ds\n",
    "\n",
    "\n",
    "\n",
    "def get_article_offset_per_tag(soup, tagset):\n",
    "    dicttag = defaultdict(list)\n",
    "    \n",
    "    \n",
    "    for each_tag in tagset:\n",
    "        for i in re.finditer(each_tag, each_sentence.lower()):\n",
    "            indexlocation= i.span()\n",
    "    #         print(indexlocation)\n",
    "            startindex= i.start()\n",
    "            endindex= i.end()\n",
    "            entity = each_sentence[indexlocation[0]:indexlocation[1]]\n",
    "        dicttag[each_tag].append([each_sentence, each_ml_tag[0], each_ml_tag[1]])\n",
    "    return dicttag"
   ]
  },
  {
   "cell_type": "code",
   "execution_count": 37,
   "metadata": {},
   "outputs": [],
   "source": [
    "# \n",
    "# GP\": [\n",
    "# {\n",
    "#   label: NR2B,\n",
    "#   abstract_matches: [{start: XXXX, end: XXXX}, {start: XXXX, end: XXXX}],\n",
    "#   full_text_matches: [{start: XXXX, end: XXXX}]\n",
    "# },\n",
    "# {\n",
    "#  label: \"NR2B\",\n",
    "#  abstract_matches:[{start:XXX, end:XXXXX}],\n",
    "# },\n",
    "\n",
    "## hard to get above notations are we process at sentences level, so the offset changes per sentence.\n",
    "\n",
    "dict_gp = get_sentences_offset_per_tag(gp_set, final_sentences, tag_type = 'GP')\n",
    "dict_ds = get_sentences_offset_per_tag(ds_set, final_sentences, tag_type = 'DS')\n",
    "dict_cd = get_sentences_offset_per_tag(cd_set, final_sentences, tag_type = 'CD')\n"
   ]
  },
  {
   "cell_type": "code",
   "execution_count": 38,
   "metadata": {},
   "outputs": [
    {
     "data": {
      "text/plain": [
       "defaultdict(list,\n",
       "            {'PNP': [['Properties of purine nucleoside phosphorylase (PNP) of mammalian and bacterial origin. ',\n",
       "               47,\n",
       "               50],\n",
       "              ['Purine nucleoside phosphorylase (PNP), from calf spleen, human erythrocytes and E. coli have been examined with regard to structural requirements of substrates and inhibitors. ',\n",
       "               33,\n",
       "               36]]})"
      ]
     },
     "execution_count": 38,
     "metadata": {},
     "output_type": "execute_result"
    }
   ],
   "source": [
    "dict_gp"
   ]
  },
  {
   "cell_type": "code",
   "execution_count": 71,
   "metadata": {},
   "outputs": [],
   "source": [
    "xx_ = ' '.join(plain_sentences[1:])"
   ]
  },
  {
   "cell_type": "code",
   "execution_count": 40,
   "metadata": {},
   "outputs": [],
   "source": [
    "# {\n",
    "#   \"lit_id\": \"http://europepmc.org/abstract/MED/11250803\",\n",
    "#   \"mined_sentences\": [\n",
    "# \t{\n",
    "#   \t\"section\": \"abstract\",\n",
    "#   \t\"t_start\": 222,\n",
    "#   \t\"t_end\": 242,\n",
    "#   \t\"d_start\": 23,\n",
    "#   \t\"d_end\": 41,\n",
    "#   \t\"text\": \"Both further stimulate cardiac hypertrophy and, importantly, activate counterregulatory mechanisms including overexpression of atrial natriuretic peptide and b-type natriuretic peptide, and production of cytokines such as tumor necrosis factor-alpha.\"\n",
    "# \t}\n",
    "#   ]\n",
    "\n",
    "# }\n",
    "\n",
    "# old style\n",
    "\n",
    "\n",
    "dict_gp_ds, dict_gp_cd, dict_cd_ds = get_sentences_offset_per_cooccurance(final_sentences)"
   ]
  },
  {
   "cell_type": "code",
   "execution_count": 41,
   "metadata": {},
   "outputs": [
    {
     "data": {
      "text/plain": [
       "defaultdict(list, {})"
      ]
     },
     "execution_count": 41,
     "metadata": {},
     "output_type": "execute_result"
    }
   ],
   "source": [
    "dict_gp_ds"
   ]
  },
  {
   "cell_type": "code",
   "execution_count": 42,
   "metadata": {},
   "outputs": [],
   "source": [
    "def get_cooccurance_evidence(dict_tags, tag_type_1, tag_type_2):\n",
    "    mined_sentences = []\n",
    "    for each_sent_map, mappedtags in dict_tags.items():\n",
    "        for eachtag in mappedtags:\n",
    "            mini_dict = {}\n",
    "            eachtag = list(eachtag)\n",
    "            mini_dict['section'] = section_tags[each_sent_map]\n",
    "\n",
    "            if tag_type_1 =='GP' or tag_type_2 =='GP':          \n",
    "                if tag_type_1 in eachtag[0]:\n",
    "                    mini_dict['t_start'] = eachtag[0][0]\n",
    "                    mini_dict['t_end']= eachtag[0][1]\n",
    "                    mini_dict['t']= eachtag[0][3]\n",
    "                else:\n",
    "                    mini_dict['t_start'] = eachtag[1][0]\n",
    "                    mini_dict['t_end']= eachtag[1][1]\n",
    "                    mini_dict['t']= eachtag[0][3]           \n",
    "\n",
    "            if tag_type_1 =='DS' or tag_type_2 =='DS':  \n",
    "                if tag_type_2 in eachtag[0]:\n",
    "                    mini_dict['d_start'] = eachtag[0][0]\n",
    "                    mini_dict['d_end']= eachtag[0][1]\n",
    "                    mini_dict['d']= eachtag[1][3]\n",
    "                else:\n",
    "                    mini_dict['d_start'] = eachtag[1][0]\n",
    "                    mini_dict['d_end']= eachtag[1][1]\n",
    "                    mini_dict['d']= eachtag[1][3]\n",
    "                            \n",
    "            if tag_type_1 =='CD' or tag_type_2 =='CD':  \n",
    "                if tag_type_1 in eachtag[0]:\n",
    "                    mini_dict['c_start'] = eachtag[0][0]\n",
    "                    mini_dict['c_end']= eachtag[0][1]\n",
    "                    mini_dict['c']= eachtag[1][3]\n",
    "                else:\n",
    "                    mini_dict['c_start'] = eachtag[1][0]\n",
    "                    mini_dict['c_end']= eachtag[1][1]\n",
    "                    mini_dict['c']= eachtag[1][3]\n",
    "\n",
    "            mini_dict['text'] = each_sent_map\n",
    "            mined_sentences.append(mini_dict)\n",
    "    return mined_sentences\n"
   ]
  },
  {
   "cell_type": "code",
   "execution_count": 43,
   "metadata": {},
   "outputs": [],
   "source": [
    "json_generated = {}\n",
    "for each_sentence, ml_tags in final_sentences.items():\n",
    "    try:\n",
    "        json_generated['pmid'] = 'PMC'+soup.find(attrs={\"pub-id-type\" : \"pmcid\"}).text #\"article-id\"\n",
    "    except:\n",
    "        json_generated['pmid'] = 'PMC'\n",
    "\n",
    "    json_generated['GP_set'] = list(gp_set)\n",
    "    json_generated['DS_set'] = list(ds_set)\n",
    "    json_generated['CD_set'] = list(cd_set)\n",
    "    json_generated['OG_set'] = list(og_set)\n",
    "\n",
    "# json_generated\n",
    "json_generated['GP_DS_mined_sentences'] = get_cooccurance_evidence(dict_gp_ds, tag_type_1='GP', tag_type_2='DS')\n",
    "json_generated['GP_CD_mined_sentences'] = get_cooccurance_evidence(dict_gp_cd, tag_type_1='GP', tag_type_2='CD')\n",
    "json_generated['CD_DS_mined_sentences'] = get_cooccurance_evidence(dict_cd_ds, tag_type_1='CD', tag_type_2='DS')"
   ]
  },
  {
   "cell_type": "code",
   "execution_count": null,
   "metadata": {},
   "outputs": [],
   "source": [
    "json_generated"
   ]
  },
  {
   "cell_type": "code",
   "execution_count": 58,
   "metadata": {},
   "outputs": [],
   "source": [
    "# https://www.ebi.ac.uk/europepmc/webservices/rest/search?query=EXT_ID%3A2109978%20AND%20SRC%3AMED&resultType=core&cursorMark=*&pageSize=25&format=json\n",
    "\n",
    "import requests\n",
    "query = '2109978'\n",
    "url = 'https://www.ebi.ac.uk/europepmc/webservices/rest/search?query=EXT_ID:'+query+' AND SRC:MED&resultType=core&cursorMark=*&pageSize=25&format=json'\n",
    "response = requests.get(url)\n",
    "rjson = response.json()"
   ]
  },
  {
   "cell_type": "code",
   "execution_count": 61,
   "metadata": {},
   "outputs": [
    {
     "data": {
      "text/plain": [
       "'Purine nucleoside phosphorylase (PNP), from calf spleen, human erythrocytes and E. coli have been examined with regard to structural requirements of substrates and inhibitors. Kinetic parameters (Km, Vmax/Km) for a variety of N(1) and/or N(7)-methylated analogues of guanosine, inosine and adenosine have been evaluated for all three enzymes. The substrate and/or inhibitor properties of purine riboside, 1,6-dihydropurine riboside, some deazapurine nucleosides: 3-deaza- and 7-deazainosine, 1,3-dideazapurine riboside (ribobenzimidazole), and a variety of acyclonucleosides, have been determined with mammalian and bacterial enzymes. Overall results indicate distinct similarities of kinetic properties and structural requirements of the two mammalian enzymes, although there are some differences as well. The N(1) and O6 of the purine ring are necessary for substrate-inhibitor activity and constitute a binding site for the mammalian (but not the bacterial) enzymes. Moreover, nucleosides lacking the N(3) undergo phosphorolysis and those lacking N(7) are inhibitors (but not substrates). Methylation of the ring N(7) leads to two overlapping effects: labilization of the glycosidic bond, and impediment to protonation at this site by the enzyme, a postulated prerequisite for enzymatic phosphorolysis. It is proposed that a histidine interacts with N(1) as a donor and O6 as an acceptor. Alternatively N(1)-H and C(2)-NH2 may serve as donors for hydrogen bonds with a glutamate residue. The less specific E. coli enzyme phosphorolyses all purine ring modified nucleosides but 7-deazainosine which is only an inhibitor. On the other hand, the bacterial enzyme exhibits decreased activity towards N(7)-methylated nucleosides and lack of affinity for a majority of the tested acyclonucleoside inhibitors of the mammalian enzymes. The foregoing results underline the fundamental differences between mammalian and bacterial enzymes, including variations in the binding sites for the purine ring.'"
      ]
     },
     "execution_count": 61,
     "metadata": {},
     "output_type": "execute_result"
    }
   ],
   "source": [
    "rjson['resultList']['result'][0]['abstractText']"
   ]
  },
  {
   "cell_type": "code",
   "execution_count": 72,
   "metadata": {},
   "outputs": [
    {
     "data": {
      "text/plain": [
       "'Purine nucleoside phosphorylase (PNP), from calf spleen, human erythrocytes and E. coli have been examined with regard to structural requirements of substrates and inhibitors. Kinetic parameters (Km, Vmax/Km) for a variety of N(1) and/or N(7)-methylated analogues of guanosine, inosine and adenosine have been evaluated for all three enzymes. The substrate and/or inhibitor properties of purine riboside, 1,6-dihydropurine riboside, some deazapurine nucleosides: 3-deaza- and 7-deazainosine, 1,3-dideazapurine riboside (ribobenzimidazole), and a variety of acyclonucleosides, have been determined with mammalian and bacterial enzymes. Overall results indicate distinct similarities of kinetic properties and structural requirements of the two mammalian enzymes, although there are some differences as well. The N(1) and O6 of the purine ring are necessary for substrate-inhibitor activity and constitute a binding site for the mammalian (but not the bacterial) enzymes. Moreover, nucleosides lacking the N(3) undergo phosphorolysis and those lacking N(7) are inhibitors (but not substrates). Methylation of the ring N(7) leads to two overlapping effects: labilization of the glycosidic bond, and impediment to protonation at this site by the enzyme, a postulated prerequisite for enzymatic phosphorolysis. It is proposed that a histidine interacts with N(1) as a donor and O6 as an acceptor. Alternatively N(1)-H and C(2)-NH2 may serve as donors for hydrogen bonds with a glutamate residue. The less specific E. coli enzyme phosphorolyses all purine ring modified nucleosides but 7-deazainosine which is only an inhibitor. On the other hand, the bacterial enzyme exhibits decreased activity towards N(7)-methylated nucleosides and lack of affinity for a majority of the tested acyclonucleoside inhibitors of the mammalian enzymes. The foregoing results underline the fundamental differences between mammalian and bacterial enzymes, including variations in the binding sites for the purine ring.'"
      ]
     },
     "execution_count": 72,
     "metadata": {},
     "output_type": "execute_result"
    }
   ],
   "source": [
    "xx_"
   ]
  },
  {
   "cell_type": "code",
   "execution_count": 73,
   "metadata": {},
   "outputs": [
    {
     "data": {
      "text/plain": [
       "True"
      ]
     },
     "execution_count": 73,
     "metadata": {},
     "output_type": "execute_result"
    }
   ],
   "source": [
    "xx_==yy_"
   ]
  },
  {
   "cell_type": "code",
   "execution_count": null,
   "metadata": {},
   "outputs": [],
   "source": []
  },
  {
   "cell_type": "markdown",
   "metadata": {},
   "source": [
    "# FP Analysis on test set"
   ]
  },
  {
   "cell_type": "code",
   "execution_count": 139,
   "metadata": {},
   "outputs": [],
   "source": [
    "def get_pmc_meta(query):\n",
    "        \n",
    "        url = 'https://www.ebi.ac.uk/europepmc/webservices/rest/search?'\n",
    "        params = {'query':query, 'resultType':'core','cursorMark':'*','pageSize':'25','format':'json'}\n",
    "        response = requests.get(url,params)\n",
    "        rjson = response.json()\n",
    "\n",
    "        for rslt in rjson['resultList']['result']:\n",
    "            pmeta = {}\n",
    "            pmeta['pmid'] = ''\n",
    "            pmeta['pmcid'] = ''\n",
    "            pmeta['mesh'] = []\n",
    "            pmeta['pmc_title'] = ''\n",
    "            pmeta['pmc_abstract']= ''\n",
    "            pmeta['text_urls'] = []\n",
    "            pmeta['oa'] =  ''\n",
    "            pmeta['authMan'] = ''\n",
    "            if 'pmid' in rslt.keys():\n",
    "                pmeta['pmid'] = rslt['pmid']\n",
    "                pmids.append(rslt['pmid'])                \n",
    "            if 'meshHeadingList' in rslt.keys():\n",
    "                for m in rslt['meshHeadingList']['meshHeading']:\n",
    "                    if 'meshQualifierList' in m.keys():\n",
    "                        for q in m['meshQualifierList']['meshQualifier']:\n",
    "                            pmeta['mesh'].append(m['descriptorName'])\n",
    "                            pmeta['mesh'].append(q['qualifierName'])\n",
    "                    else:\n",
    "                        pmeta['mesh'].append(m['descriptorName'])\n",
    "            if 'title' in rslt.keys(): pmeta['pmc_title'] = rslt['title']\n",
    "            if 'abstractText' in rslt.keys(): pmeta['pmc_abstract'] = rslt['abstractText']\n",
    "            if 'fullTextUrlList' in rslt.keys():            \n",
    "                for u in rslt['fullTextUrlList']['fullTextUrl']:\n",
    "                    pmeta['text_urls'].append(u['url'])\n",
    "            if 'isOpenAccess' in rslt.keys():pmeta['oa'] =  rslt['isOpenAccess']\n",
    "            if 'authMan' in rslt.keys():pmeta['authMan'] = rslt['authMan']\n",
    "            if 'pmcid' in rslt.keys() and rslt['pmcid']!='':\n",
    "                pmeta['pmcid'] = rslt['pmcid']\n",
    "                pmcids.append(rslt['pmcid'])\n",
    "                if rslt['isOpenAccess'] == 'Y' or rslt['authMan'] == 'Y':\n",
    "                #if rslt['isOpenAccess'] == 'Y':    \n",
    "                    oapids.append(rslt['pmcid'])                        \n",
    "            pmetas.append(pmeta)\n",
    "    except:\n",
    "        print('ERROR IN PMC ID:'+query)\n",
    "        pass\n",
    "    return [pmids,pmcids,oapids,pmetas]"
   ]
  },
  {
   "cell_type": "code",
   "execution_count": null,
   "metadata": {},
   "outputs": [],
   "source": [
    "import pandas as pd\n",
    "\n",
    "path_EPMC_text = '/mnt/droplet/nfs/gns/literature/machine-learning/evaluation/300articles/europePMC-NER/annotations_API/full_sentences/test_annotations/Europe_PMC_annotation.csv'\n",
    "colNames = ['pmc_id', 'section', 'sentence','ner'] \n",
    "    \n",
    "test_df = pd.read_csv(path_EPMC_text,sep ='\\t', names=colNames) "
   ]
  },
  {
   "cell_type": "code",
   "execution_count": null,
   "metadata": {},
   "outputs": [],
   "source": [
    "from ast import literal_eval\n",
    "\n",
    "def deleting_epmc_GPS(list_1,del_name):\n",
    "   \n",
    "    for sub_list in list_1:\n",
    "        if del_name in sub_list:\n",
    "            list_1.remove(sub_list)\n",
    "    return list_1"
   ]
  },
  {
   "cell_type": "code",
   "execution_count": null,
   "metadata": {},
   "outputs": [],
   "source": [
    "from fuzzywuzzy import fuzz\n",
    "\n",
    "def remove_FP(epmc_list, ml_json):\n",
    "    all_ml_gps = []\n",
    "    if ml_json['annotations']:\n",
    "        for each_ml_annotation in ml_json['annotations']:\n",
    "            if each_ml_annotation[2] == 'GP':\n",
    "                all_ml_gps.append(each_ml_annotation[3])\n",
    "    \n",
    "    non_FP_removed =[]\n",
    "              \n",
    "\n",
    "    for each_ner in epmc_list:\n",
    "        if each_ner[2] == 'Gene_Proteins':\n",
    "            for each_ml_gp in all_ml_gps:         \n",
    "                score = fuzz.token_set_ratio(each_ml_gp, each_ner[1])\n",
    "                if score == 100:\n",
    "                    non_FP_removed.append(each_ner)\n",
    "\n",
    "    non_gp_tags =  deleting_epmc_GPS(epmc_list,'Gene_Proteins')  \n",
    "\n",
    "    fp_removed_tags = non_gp_tags+non_FP_removed\n",
    "\n",
    "    return fp_removed_tags\n"
   ]
  },
  {
   "cell_type": "code",
   "execution_count": null,
   "metadata": {},
   "outputs": [],
   "source": [
    "def get_spacy_annotations(text_sentence):\n",
    "    data_dict ={}\n",
    "    doc = nlp2(text_sentence)\n",
    "    terms_entities = []\n",
    "    \n",
    "    for ent in doc.ents:\n",
    "        terms_entities.append(\n",
    "            [ent.start_char, ent.end_char, ent.label_, ent.text])\n",
    "    \n",
    "    data_dict['annotations'] = terms_entities\n",
    "    \n",
    "    return data_dict"
   ]
  },
  {
   "cell_type": "code",
   "execution_count": null,
   "metadata": {},
   "outputs": [],
   "source": [
    "# from tqdm import tqdm\n",
    "with open(result_path + 'spacy_fp_removal_80.tsv', 'w', newline='\\n') as f1:\n",
    "    public_writer = csv.writer(f1, delimiter='\\t', lineterminator='\\n')\n",
    "    \n",
    "    for index,row in tqdm(test_df.iterrows(),total = len(test_df)):\n",
    "        try:\n",
    "            ml_annotations = get_spacy_annotations(row['sentence'])\n",
    "            fp_removed = remove_FP(literal_eval(row['ner']), ml_annotations)\n",
    "        except ValueError:\n",
    "            fp_removed =''\n",
    "            \n",
    "        public_writer.writerow([row['pmc_id'], row['section'],row['sentence'], fp_removed])   \n",
    "            \n",
    "    "
   ]
  },
  {
   "cell_type": "code",
   "execution_count": null,
   "metadata": {},
   "outputs": [],
   "source": [
    "# Convert to IOB format\n",
    "\n",
    "import sys\n",
    "import os\n",
    "import glob\n",
    "\n",
    "sys.path.append('/mnt/droplet/nfs/gns/literature/Santosh_Tirunagari/test Gitlab/epmc-ml-misc-library/')\n",
    "\n",
    "import capo_tools_lib\n",
    "import evaluation_epmc_lib\n",
    "\n",
    "\n"
   ]
  },
  {
   "cell_type": "code",
   "execution_count": null,
   "metadata": {},
   "outputs": [],
   "source": [
    "iob_result_path = result_path+'iob/'\n",
    "pathlib.Path(iob_result_path).mkdir(parents=True, exist_ok=True)\n",
    "\n",
    "file_path = result_path + 'spacy_fp_removal_80.tsv'\n",
    "capo_tools_lib.annotations_api_tagged_sentences_to_IOB(file_path,\n",
    "                                                       iob_result_path,'spacy_fp_removal_iob.tsv')"
   ]
  },
  {
   "cell_type": "code",
   "execution_count": null,
   "metadata": {},
   "outputs": [],
   "source": [
    "import metrics.ner as ner_metrics\n",
    "\n",
    "\n",
    "# precision\t0.7\t0.7\t0.72\t0.73\n",
    "# recall\t0.53\t0.53\t0.54\t0.55\n",
    "# f1 score\t0.6\t0.6\t0.62\t0.6\n",
    "\n",
    "#\n",
    "# print(ner_metrics.semeval_scores_report(gold=epmc_labels, response=ml_labels, digits=2))\n",
    "\n",
    "root_path = '/mnt/droplet/nfs/gns/literature/machine-learning/'\n",
    "epmc_path = root_path+'Datasets/NER_Datasets/EBI_standard-IOB/test.csv'\n",
    "all_tags = ['GP', 'DS', 'OG']\n",
    "\n",
    "print('################ Annotation Pipeline Results ########################')\n",
    "CAPO_path = iob_result_path+'spacy_fp_removal_iob.tsv'\n",
    "for each_tag in all_tags:\n",
    "    print('############ '+each_tag+' ####################')\n",
    "    print('\\n')\n",
    "    print(ner_metrics.semeval_report(gold_path=epmc_path, response_path=CAPO_path, targets=[each_tag]))"
   ]
  },
  {
   "cell_type": "code",
   "execution_count": null,
   "metadata": {},
   "outputs": [],
   "source": []
  }
 ],
 "metadata": {
  "kernelspec": {
   "display_name": "pytorch",
   "language": "python",
   "name": "pytorch"
  },
  "language_info": {
   "codemirror_mode": {
    "name": "ipython",
    "version": 3
   },
   "file_extension": ".py",
   "mimetype": "text/x-python",
   "name": "python",
   "nbconvert_exporter": "python",
   "pygments_lexer": "ipython3",
   "version": "3.6.9"
  }
 },
 "nbformat": 4,
 "nbformat_minor": 4
}
