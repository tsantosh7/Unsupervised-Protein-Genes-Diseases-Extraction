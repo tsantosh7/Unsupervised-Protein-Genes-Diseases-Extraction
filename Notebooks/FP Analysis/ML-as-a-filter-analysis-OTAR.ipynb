{
 "cells": [
  {
   "cell_type": "code",
   "execution_count": 22,
   "metadata": {},
   "outputs": [],
   "source": [
    "import json\n",
    "import requests\n",
    "import itertools\n",
    "from collections import Counter, OrderedDict\n",
    "import pandas as pd\n",
    "%matplotlib inline\n",
    "from tqdm import tqdm"
   ]
  },
  {
   "cell_type": "code",
   "execution_count": 23,
   "metadata": {},
   "outputs": [],
   "source": [
    "file_path = '/nfs/gns/literature/Santosh_Tirunagari/OTAR_Results/ML-NER-Analysis/PCSE/OTAR-GP-DS-Data.csv'\n",
    "annot_csv = pd.read_csv(file_path, names=['pmc_id', 'section', 'sentence', 'EP_GP', 'ML_GP', 'EP_DS', 'ML_DS'],sep='\\t')"
   ]
  },
  {
   "cell_type": "code",
   "execution_count": 3,
   "metadata": {},
   "outputs": [
    {
     "data": {
      "text/plain": [
       "Index(['pmc_id', 'section', 'sentence', 'EP_GP', 'ML_GP', 'EP_DS', 'ML_DS'], dtype='object')"
      ]
     },
     "execution_count": 3,
     "metadata": {},
     "output_type": "execute_result"
    }
   ],
   "source": [
    "annot_csv.columns"
   ]
  },
  {
   "cell_type": "code",
   "execution_count": 4,
   "metadata": {},
   "outputs": [
    {
     "data": {
      "text/plain": [
       "1214918"
      ]
     },
     "execution_count": 4,
     "metadata": {},
     "output_type": "execute_result"
    }
   ],
   "source": [
    "len(annot_csv)"
   ]
  },
  {
   "cell_type": "code",
   "execution_count": 5,
   "metadata": {},
   "outputs": [
    {
     "data": {
      "text/html": [
       "<div>\n",
       "<style scoped>\n",
       "    .dataframe tbody tr th:only-of-type {\n",
       "        vertical-align: middle;\n",
       "    }\n",
       "\n",
       "    .dataframe tbody tr th {\n",
       "        vertical-align: top;\n",
       "    }\n",
       "\n",
       "    .dataframe thead th {\n",
       "        text-align: right;\n",
       "    }\n",
       "</style>\n",
       "<table border=\"1\" class=\"dataframe\">\n",
       "  <thead>\n",
       "    <tr style=\"text-align: right;\">\n",
       "      <th></th>\n",
       "      <th>pmc_id</th>\n",
       "      <th>section</th>\n",
       "      <th>sentence</th>\n",
       "      <th>EP_GP</th>\n",
       "      <th>ML_GP</th>\n",
       "      <th>EP_DS</th>\n",
       "      <th>ML_DS</th>\n",
       "    </tr>\n",
       "  </thead>\n",
       "  <tbody>\n",
       "    <tr>\n",
       "      <td>0</td>\n",
       "      <td>abstract/MED/1002003</td>\n",
       "      <td>abstract</td>\n",
       "      <td>The plasma levels of the cold-insoluble globul...</td>\n",
       "      <td>['cold-insoluble globulin', 'cold-insoluble gl...</td>\n",
       "      <td>['globulin']</td>\n",
       "      <td>['inflammations', 'chronic lymphatic leukemias...</td>\n",
       "      <td>['chronic lymphatic leukemias', 'rheumatic dis...</td>\n",
       "    </tr>\n",
       "    <tr>\n",
       "      <td>1</td>\n",
       "      <td>abstract/MED/1002003</td>\n",
       "      <td>title</td>\n",
       "      <td>Factor-VIII-related antigen and cold-insoluble...</td>\n",
       "      <td>['cold-insoluble globulin', 'cold-insoluble gl...</td>\n",
       "      <td>['globulin']</td>\n",
       "      <td>['leukemias', 'carcinomas']</td>\n",
       "      <td>['leukemias', 'carcinomas']</td>\n",
       "    </tr>\n",
       "    <tr>\n",
       "      <td>2</td>\n",
       "      <td>abstract/MED/1002008</td>\n",
       "      <td>abstract</td>\n",
       "      <td>The whole blood clotting time, plasma fibrinog...</td>\n",
       "      <td>['coagulation factors II']</td>\n",
       "      <td>['fibrinogen', 'coagulation factors II']</td>\n",
       "      <td>['acute myocardial infarction']</td>\n",
       "      <td>['acute myocardial infarction']</td>\n",
       "    </tr>\n",
       "    <tr>\n",
       "      <td>3</td>\n",
       "      <td>abstract/MED/1002112</td>\n",
       "      <td>title</td>\n",
       "      <td>Hyperglycemia induced by somatostatin in norma...</td>\n",
       "      <td>['somatostatin']</td>\n",
       "      <td>['somatostatin']</td>\n",
       "      <td>['Hyperglycemia']</td>\n",
       "      <td>['Hyperglycemia']</td>\n",
       "    </tr>\n",
       "    <tr>\n",
       "      <td>4</td>\n",
       "      <td>abstract/MED/1002113</td>\n",
       "      <td>abstract</td>\n",
       "      <td>Concentrations of testosterone, delta4-androst...</td>\n",
       "      <td>['delta4']</td>\n",
       "      <td>[]</td>\n",
       "      <td>['hirsutism']</td>\n",
       "      <td>['hirsutism', 'menstrual disorders']</td>\n",
       "    </tr>\n",
       "    <tr>\n",
       "      <td>5</td>\n",
       "      <td>abstract/MED/10021292</td>\n",
       "      <td>abstract</td>\n",
       "      <td>Irinotecan (CPT-11) is a DNA topoisomerase I i...</td>\n",
       "      <td>['DNA topoisomerase I', 'DNA topoisomerase I']</td>\n",
       "      <td>['DNA topoisomerase I']</td>\n",
       "      <td>['cancer', 'tumors']</td>\n",
       "      <td>['cancer', 'solid tumors']</td>\n",
       "    </tr>\n",
       "    <tr>\n",
       "      <td>6</td>\n",
       "      <td>abstract/MED/10021296</td>\n",
       "      <td>abstract</td>\n",
       "      <td>Paclitaxel-resistant subclones (T30 and T30-Re...</td>\n",
       "      <td>['Mes']</td>\n",
       "      <td>[]</td>\n",
       "      <td>['uterine sarcoma']</td>\n",
       "      <td>['uterine sarcoma']</td>\n",
       "    </tr>\n",
       "    <tr>\n",
       "      <td>7</td>\n",
       "      <td>abstract/MED/10021299</td>\n",
       "      <td>abstract</td>\n",
       "      <td>This implies that these two parameters may be ...</td>\n",
       "      <td>['WAF1']</td>\n",
       "      <td>['WAF1']</td>\n",
       "      <td>['endometrial carcinomas']</td>\n",
       "      <td>['endometrial carcinomas']</td>\n",
       "    </tr>\n",
       "    <tr>\n",
       "      <td>8</td>\n",
       "      <td>abstract/MED/10021299</td>\n",
       "      <td>title</td>\n",
       "      <td>WAF1 genotype and endometrial cancer susceptib...</td>\n",
       "      <td>['WAF1']</td>\n",
       "      <td>['WAF1']</td>\n",
       "      <td>['cancer']</td>\n",
       "      <td>['endometrial cancer']</td>\n",
       "    </tr>\n",
       "    <tr>\n",
       "      <td>9</td>\n",
       "      <td>abstract/MED/10021305</td>\n",
       "      <td>abstract</td>\n",
       "      <td>In invasive vulvar carcinoma, high VEGF expres...</td>\n",
       "      <td>['VEGF', 'MVD']</td>\n",
       "      <td>['VEGF']</td>\n",
       "      <td>['vulvar carcinoma', 'vulvar carcinoma']</td>\n",
       "      <td>['invasive vulvar carcinoma', 'MVD']</td>\n",
       "    </tr>\n",
       "  </tbody>\n",
       "</table>\n",
       "</div>"
      ],
      "text/plain": [
       "                  pmc_id   section  \\\n",
       "0   abstract/MED/1002003  abstract   \n",
       "1   abstract/MED/1002003     title   \n",
       "2   abstract/MED/1002008  abstract   \n",
       "3   abstract/MED/1002112     title   \n",
       "4   abstract/MED/1002113  abstract   \n",
       "5  abstract/MED/10021292  abstract   \n",
       "6  abstract/MED/10021296  abstract   \n",
       "7  abstract/MED/10021299  abstract   \n",
       "8  abstract/MED/10021299     title   \n",
       "9  abstract/MED/10021305  abstract   \n",
       "\n",
       "                                            sentence  \\\n",
       "0  The plasma levels of the cold-insoluble globul...   \n",
       "1  Factor-VIII-related antigen and cold-insoluble...   \n",
       "2  The whole blood clotting time, plasma fibrinog...   \n",
       "3  Hyperglycemia induced by somatostatin in norma...   \n",
       "4  Concentrations of testosterone, delta4-androst...   \n",
       "5  Irinotecan (CPT-11) is a DNA topoisomerase I i...   \n",
       "6  Paclitaxel-resistant subclones (T30 and T30-Re...   \n",
       "7  This implies that these two parameters may be ...   \n",
       "8  WAF1 genotype and endometrial cancer susceptib...   \n",
       "9  In invasive vulvar carcinoma, high VEGF expres...   \n",
       "\n",
       "                                               EP_GP  \\\n",
       "0  ['cold-insoluble globulin', 'cold-insoluble gl...   \n",
       "1  ['cold-insoluble globulin', 'cold-insoluble gl...   \n",
       "2                         ['coagulation factors II']   \n",
       "3                                   ['somatostatin']   \n",
       "4                                         ['delta4']   \n",
       "5     ['DNA topoisomerase I', 'DNA topoisomerase I']   \n",
       "6                                            ['Mes']   \n",
       "7                                           ['WAF1']   \n",
       "8                                           ['WAF1']   \n",
       "9                                    ['VEGF', 'MVD']   \n",
       "\n",
       "                                      ML_GP  \\\n",
       "0                              ['globulin']   \n",
       "1                              ['globulin']   \n",
       "2  ['fibrinogen', 'coagulation factors II']   \n",
       "3                          ['somatostatin']   \n",
       "4                                        []   \n",
       "5                   ['DNA topoisomerase I']   \n",
       "6                                        []   \n",
       "7                                  ['WAF1']   \n",
       "8                                  ['WAF1']   \n",
       "9                                  ['VEGF']   \n",
       "\n",
       "                                               EP_DS  \\\n",
       "0  ['inflammations', 'chronic lymphatic leukemias...   \n",
       "1                        ['leukemias', 'carcinomas']   \n",
       "2                    ['acute myocardial infarction']   \n",
       "3                                  ['Hyperglycemia']   \n",
       "4                                      ['hirsutism']   \n",
       "5                               ['cancer', 'tumors']   \n",
       "6                                ['uterine sarcoma']   \n",
       "7                         ['endometrial carcinomas']   \n",
       "8                                         ['cancer']   \n",
       "9           ['vulvar carcinoma', 'vulvar carcinoma']   \n",
       "\n",
       "                                               ML_DS  \n",
       "0  ['chronic lymphatic leukemias', 'rheumatic dis...  \n",
       "1                        ['leukemias', 'carcinomas']  \n",
       "2                    ['acute myocardial infarction']  \n",
       "3                                  ['Hyperglycemia']  \n",
       "4               ['hirsutism', 'menstrual disorders']  \n",
       "5                         ['cancer', 'solid tumors']  \n",
       "6                                ['uterine sarcoma']  \n",
       "7                         ['endometrial carcinomas']  \n",
       "8                             ['endometrial cancer']  \n",
       "9               ['invasive vulvar carcinoma', 'MVD']  "
      ]
     },
     "execution_count": 5,
     "metadata": {},
     "output_type": "execute_result"
    }
   ],
   "source": [
    "annot_csv_ = annot_csv.head(10)\n",
    "annot_csv_"
   ]
  },
  {
   "cell_type": "markdown",
   "metadata": {},
   "source": [
    "# Analysis"
   ]
  },
  {
   "cell_type": "code",
   "execution_count": 24,
   "metadata": {},
   "outputs": [
    {
     "name": "stderr",
     "output_type": "stream",
     "text": [
      "100%|██████████| 1334594/1334594 [01:28<00:00, 15165.56it/s]\n"
     ]
    }
   ],
   "source": [
    "from ast import literal_eval\n",
    "from tqdm import tqdm\n",
    "\n",
    "# Remove duplicate entries of the GP from the CSV\n",
    "# 'pmc_id', 'section', 'sentence', 'EP-GP', 'ML-GP', 'EP-DS', 'ML-DS'\n",
    "updated_GP_ner_non_duplicates = []\n",
    "updated_DS_ner_non_duplicates = []\n",
    "\n",
    "updated_ML_DS_ner= []\n",
    "updated_ML_GP_ner= []\n",
    "\n",
    "for index_, each_annotation in tqdm(enumerate(annot_csv.itertuples()),total=len(annot_csv)):\n",
    "    GP_ner = literal_eval(each_annotation.EP_GP)\n",
    "    DS_ner = literal_eval(each_annotation.EP_DS)\n",
    "    \n",
    "    if literal_eval(each_annotation.ML_GP):\n",
    "        updated_ML_GP_ner.append(literal_eval(each_annotation.ML_GP))\n",
    "    else:\n",
    "        updated_ML_GP_ner.append([''])\n",
    "                    \n",
    "    if literal_eval(each_annotation.ML_DS):\n",
    "        updated_ML_DS_ner.append(literal_eval(each_annotation.ML_DS))\n",
    "    else:\n",
    "        updated_ML_DS_ner.append(['']) \n",
    "                    \n",
    "                    \n",
    "    \n",
    "    otar_sentence = each_annotation.sentence\n",
    "    new_GP_ner = []\n",
    "    new_DS_ner = []\n",
    "    \n",
    "    for each_epmc_ner in set(GP_ner):\n",
    "        if GP_ner.count(each_epmc_ner) > 1:\n",
    "            count = otar_sentence.count(each_epmc_ner)\n",
    "            new_GP_ner.extend([each_epmc_ner]*count)\n",
    "        else:\n",
    "            new_GP_ner.append(each_epmc_ner)\n",
    "    updated_GP_ner_non_duplicates.append(new_GP_ner)    \n",
    "            \n",
    "    for each_epmc_ner in set(DS_ner):\n",
    "        if DS_ner.count(each_epmc_ner) > 1:\n",
    "            count = otar_sentence.count(each_epmc_ner)\n",
    "            new_DS_ner.extend([each_epmc_ner]*count)\n",
    "        else:\n",
    "            new_DS_ner.append(each_epmc_ner)\n",
    "#         print(new_epmc_ner)\n",
    "    updated_DS_ner_non_duplicates.append(new_DS_ner)"
   ]
  },
  {
   "cell_type": "code",
   "execution_count": 25,
   "metadata": {},
   "outputs": [
    {
     "data": {
      "text/plain": [
       "(1334594, 1334594)"
      ]
     },
     "execution_count": 25,
     "metadata": {},
     "output_type": "execute_result"
    }
   ],
   "source": [
    "len(updated_ML_GP_ner), len(updated_DS_ner_non_duplicates)"
   ]
  },
  {
   "cell_type": "code",
   "execution_count": 26,
   "metadata": {},
   "outputs": [
    {
     "data": {
      "text/html": [
       "<div>\n",
       "<style scoped>\n",
       "    .dataframe tbody tr th:only-of-type {\n",
       "        vertical-align: middle;\n",
       "    }\n",
       "\n",
       "    .dataframe tbody tr th {\n",
       "        vertical-align: top;\n",
       "    }\n",
       "\n",
       "    .dataframe thead th {\n",
       "        text-align: right;\n",
       "    }\n",
       "</style>\n",
       "<table border=\"1\" class=\"dataframe\">\n",
       "  <thead>\n",
       "    <tr style=\"text-align: right;\">\n",
       "      <th></th>\n",
       "      <th>pmc_id</th>\n",
       "      <th>section</th>\n",
       "      <th>sentence</th>\n",
       "      <th>EP_GP</th>\n",
       "      <th>ML_GP</th>\n",
       "      <th>EP_DS</th>\n",
       "      <th>ML_DS</th>\n",
       "    </tr>\n",
       "  </thead>\n",
       "  <tbody>\n",
       "    <tr>\n",
       "      <td>0</td>\n",
       "      <td>abstract/MED/1002003</td>\n",
       "      <td>abstract</td>\n",
       "      <td>The plasma levels of the cold-insoluble globul...</td>\n",
       "      <td>[cold-insoluble globulin]</td>\n",
       "      <td>[globulin]</td>\n",
       "      <td>[chronic lymphatic leukemias, rheumatic diseas...</td>\n",
       "      <td>[chronic lymphatic leukemias, rheumatic diseases]</td>\n",
       "    </tr>\n",
       "    <tr>\n",
       "      <td>1</td>\n",
       "      <td>abstract/MED/1002003</td>\n",
       "      <td>title</td>\n",
       "      <td>Factor-VIII-related antigen and cold-insoluble...</td>\n",
       "      <td>[cold-insoluble globulin]</td>\n",
       "      <td>[globulin]</td>\n",
       "      <td>[leukemias, carcinomas]</td>\n",
       "      <td>[leukemias, carcinomas]</td>\n",
       "    </tr>\n",
       "    <tr>\n",
       "      <td>2</td>\n",
       "      <td>abstract/MED/1002008</td>\n",
       "      <td>abstract</td>\n",
       "      <td>The whole blood clotting time, plasma fibrinog...</td>\n",
       "      <td>[coagulation factors II]</td>\n",
       "      <td>[fibrinogen, coagulation factors II]</td>\n",
       "      <td>[acute myocardial infarction]</td>\n",
       "      <td>[acute myocardial infarction]</td>\n",
       "    </tr>\n",
       "    <tr>\n",
       "      <td>3</td>\n",
       "      <td>abstract/MED/1002112</td>\n",
       "      <td>title</td>\n",
       "      <td>Hyperglycemia induced by somatostatin in norma...</td>\n",
       "      <td>[somatostatin]</td>\n",
       "      <td>[somatostatin]</td>\n",
       "      <td>[Hyperglycemia]</td>\n",
       "      <td>[Hyperglycemia]</td>\n",
       "    </tr>\n",
       "    <tr>\n",
       "      <td>4</td>\n",
       "      <td>abstract/MED/1002113</td>\n",
       "      <td>abstract</td>\n",
       "      <td>Concentrations of testosterone, delta4-androst...</td>\n",
       "      <td>[delta4]</td>\n",
       "      <td>[]</td>\n",
       "      <td>[hirsutism]</td>\n",
       "      <td>[hirsutism, menstrual disorders]</td>\n",
       "    </tr>\n",
       "    <tr>\n",
       "      <td>5</td>\n",
       "      <td>abstract/MED/10021292</td>\n",
       "      <td>abstract</td>\n",
       "      <td>Irinotecan (CPT-11) is a DNA topoisomerase I i...</td>\n",
       "      <td>[DNA topoisomerase I]</td>\n",
       "      <td>[DNA topoisomerase I]</td>\n",
       "      <td>[tumors, cancer]</td>\n",
       "      <td>[cancer, solid tumors]</td>\n",
       "    </tr>\n",
       "    <tr>\n",
       "      <td>6</td>\n",
       "      <td>abstract/MED/10021296</td>\n",
       "      <td>abstract</td>\n",
       "      <td>Paclitaxel-resistant subclones (T30 and T30-Re...</td>\n",
       "      <td>[Mes]</td>\n",
       "      <td>[]</td>\n",
       "      <td>[uterine sarcoma]</td>\n",
       "      <td>[uterine sarcoma]</td>\n",
       "    </tr>\n",
       "    <tr>\n",
       "      <td>7</td>\n",
       "      <td>abstract/MED/10021299</td>\n",
       "      <td>abstract</td>\n",
       "      <td>This implies that these two parameters may be ...</td>\n",
       "      <td>[WAF1]</td>\n",
       "      <td>[WAF1]</td>\n",
       "      <td>[endometrial carcinomas]</td>\n",
       "      <td>[endometrial carcinomas]</td>\n",
       "    </tr>\n",
       "    <tr>\n",
       "      <td>8</td>\n",
       "      <td>abstract/MED/10021299</td>\n",
       "      <td>title</td>\n",
       "      <td>WAF1 genotype and endometrial cancer susceptib...</td>\n",
       "      <td>[WAF1]</td>\n",
       "      <td>[WAF1]</td>\n",
       "      <td>[cancer]</td>\n",
       "      <td>[endometrial cancer]</td>\n",
       "    </tr>\n",
       "    <tr>\n",
       "      <td>9</td>\n",
       "      <td>abstract/MED/10021305</td>\n",
       "      <td>abstract</td>\n",
       "      <td>In invasive vulvar carcinoma, high VEGF expres...</td>\n",
       "      <td>[VEGF, MVD]</td>\n",
       "      <td>[VEGF]</td>\n",
       "      <td>[vulvar carcinoma]</td>\n",
       "      <td>[invasive vulvar carcinoma, MVD]</td>\n",
       "    </tr>\n",
       "  </tbody>\n",
       "</table>\n",
       "</div>"
      ],
      "text/plain": [
       "                  pmc_id   section  \\\n",
       "0   abstract/MED/1002003  abstract   \n",
       "1   abstract/MED/1002003     title   \n",
       "2   abstract/MED/1002008  abstract   \n",
       "3   abstract/MED/1002112     title   \n",
       "4   abstract/MED/1002113  abstract   \n",
       "5  abstract/MED/10021292  abstract   \n",
       "6  abstract/MED/10021296  abstract   \n",
       "7  abstract/MED/10021299  abstract   \n",
       "8  abstract/MED/10021299     title   \n",
       "9  abstract/MED/10021305  abstract   \n",
       "\n",
       "                                            sentence  \\\n",
       "0  The plasma levels of the cold-insoluble globul...   \n",
       "1  Factor-VIII-related antigen and cold-insoluble...   \n",
       "2  The whole blood clotting time, plasma fibrinog...   \n",
       "3  Hyperglycemia induced by somatostatin in norma...   \n",
       "4  Concentrations of testosterone, delta4-androst...   \n",
       "5  Irinotecan (CPT-11) is a DNA topoisomerase I i...   \n",
       "6  Paclitaxel-resistant subclones (T30 and T30-Re...   \n",
       "7  This implies that these two parameters may be ...   \n",
       "8  WAF1 genotype and endometrial cancer susceptib...   \n",
       "9  In invasive vulvar carcinoma, high VEGF expres...   \n",
       "\n",
       "                       EP_GP                                 ML_GP  \\\n",
       "0  [cold-insoluble globulin]                            [globulin]   \n",
       "1  [cold-insoluble globulin]                            [globulin]   \n",
       "2   [coagulation factors II]  [fibrinogen, coagulation factors II]   \n",
       "3             [somatostatin]                        [somatostatin]   \n",
       "4                   [delta4]                                    []   \n",
       "5      [DNA topoisomerase I]                 [DNA topoisomerase I]   \n",
       "6                      [Mes]                                    []   \n",
       "7                     [WAF1]                                [WAF1]   \n",
       "8                     [WAF1]                                [WAF1]   \n",
       "9                [VEGF, MVD]                                [VEGF]   \n",
       "\n",
       "                                               EP_DS  \\\n",
       "0  [chronic lymphatic leukemias, rheumatic diseas...   \n",
       "1                            [leukemias, carcinomas]   \n",
       "2                      [acute myocardial infarction]   \n",
       "3                                    [Hyperglycemia]   \n",
       "4                                        [hirsutism]   \n",
       "5                                   [tumors, cancer]   \n",
       "6                                  [uterine sarcoma]   \n",
       "7                           [endometrial carcinomas]   \n",
       "8                                           [cancer]   \n",
       "9                                 [vulvar carcinoma]   \n",
       "\n",
       "                                               ML_DS  \n",
       "0  [chronic lymphatic leukemias, rheumatic diseases]  \n",
       "1                            [leukemias, carcinomas]  \n",
       "2                      [acute myocardial infarction]  \n",
       "3                                    [Hyperglycemia]  \n",
       "4                   [hirsutism, menstrual disorders]  \n",
       "5                             [cancer, solid tumors]  \n",
       "6                                  [uterine sarcoma]  \n",
       "7                           [endometrial carcinomas]  \n",
       "8                               [endometrial cancer]  \n",
       "9                   [invasive vulvar carcinoma, MVD]  "
      ]
     },
     "execution_count": 26,
     "metadata": {},
     "output_type": "execute_result"
    }
   ],
   "source": [
    "annot_csv['EP_GP'] =  updated_GP_ner_non_duplicates\n",
    "annot_csv['EP_DS'] =  updated_DS_ner_non_duplicates\n",
    "\n",
    "annot_csv['ML_GP'] =  updated_ML_GP_ner\n",
    "annot_csv['ML_DS'] =  updated_ML_DS_ner\n",
    "\n",
    "annot_csv.head(10)"
   ]
  },
  {
   "cell_type": "code",
   "execution_count": 9,
   "metadata": {},
   "outputs": [
    {
     "name": "stderr",
     "output_type": "stream",
     "text": [
      "100%|██████████| 1214918/1214918 [00:02<00:00, 474091.98it/s]\n"
     ]
    }
   ],
   "source": [
    "k_exacts = []\n",
    "k_preds = []\n",
    "k_missing = []\n",
    "\n",
    "\n",
    "for index_, each_annotation in tqdm(enumerate(annot_csv.itertuples()),total=len(annot_csv)):\n",
    "#     if index_ <10:\n",
    "    #     pmc_id = each_annotation.pmc_id\n",
    "    #     section = each_annotation.section\n",
    "    #     epmc_sentence = each_annotation.sentence\n",
    "#         k_exacts.append(literal_eval(each_annotation.eurpmc_ner))\n",
    "        k_exacts.append(each_annotation.EP_GP)\n",
    "        k_preds.append(each_annotation.ML_GP)\n",
    "\n",
    "    "
   ]
  },
  {
   "cell_type": "code",
   "execution_count": 10,
   "metadata": {},
   "outputs": [],
   "source": [
    "def no_intersection(lst1, lst2): \n",
    "    miss = []\n",
    "    temp = set(lst2) \n",
    "    for value in lst1:\n",
    "        scores = [fuzz.partial_ratio(value,sublist) for sublist in temp]\n",
    "        if 100 not in scores:\n",
    "#         if any(i < 70for i in scores):\n",
    "            miss.append(value)  \n",
    "    return miss\n",
    "    "
   ]
  },
  {
   "cell_type": "code",
   "execution_count": 11,
   "metadata": {},
   "outputs": [],
   "source": [
    "from fuzzywuzzy import fuzz"
   ]
  },
  {
   "cell_type": "code",
   "execution_count": 12,
   "metadata": {},
   "outputs": [
    {
     "name": "stderr",
     "output_type": "stream",
     "text": [
      "100%|██████████| 1214918/1214918 [00:29<00:00, 41686.12it/s]\n"
     ]
    }
   ],
   "source": [
    "k_missing = []\n",
    "for i,j in tqdm(zip(k_exacts,k_preds), total = len(k_exacts)):\n",
    "    if i:\n",
    "        missing = no_intersection(i, j)\n",
    "        if missing:\n",
    "            k_missing.append(missing)"
   ]
  },
  {
   "cell_type": "code",
   "execution_count": 13,
   "metadata": {},
   "outputs": [],
   "source": [
    "missing_data = list(itertools.chain.from_iterable(k_missing))\n",
    "count = Counter(missing_data)\n",
    "y = OrderedDict(count.most_common())"
   ]
  },
  {
   "cell_type": "code",
   "execution_count": 14,
   "metadata": {},
   "outputs": [],
   "source": [
    "import pickle\n",
    "\n",
    "path = '/nfs/gns/literature/Santosh_Tirunagari/OTAR_Results/ML-NER-Analysis/PCSE_Analysis/'\n",
    "with open(path+'k_exacts', 'wb') as fp:\n",
    "    pickle.dump(k_exacts, fp)\n",
    "    \n",
    "with open(path+'k_preds', 'wb') as fp:\n",
    "    pickle.dump(k_preds, fp) "
   ]
  },
  {
   "cell_type": "code",
   "execution_count": 15,
   "metadata": {},
   "outputs": [],
   "source": [
    "anno_data = list(itertools.chain.from_iterable(k_exacts))\n",
    "anno_count = Counter(anno_data)\n",
    "anno_y = OrderedDict(anno_count.most_common())"
   ]
  },
  {
   "cell_type": "code",
   "execution_count": 16,
   "metadata": {},
   "outputs": [],
   "source": [
    "import csv\n",
    "\n",
    "with open(path+\"OTAR_frequencies_GP_20K.csv\", \"w\",  newline='\\n') as outfile:\n",
    "    public_writer = csv.writer(outfile, delimiter='\\t', lineterminator='\\n')\n",
    "    for keys, values in y.items(): # Get keys from the missing\n",
    "        filt_per = (values/anno_y[keys])*100\n",
    "        new_row = [keys, str(values), str(anno_y[keys]), str(filt_per)]\n",
    "        public_writer.writerows([new_row])"
   ]
  },
  {
   "cell_type": "code",
   "execution_count": 17,
   "metadata": {},
   "outputs": [],
   "source": [
    "## Convert to json"
   ]
  },
  {
   "cell_type": "code",
   "execution_count": 18,
   "metadata": {},
   "outputs": [],
   "source": [
    "jsonFilePath = 'OTAR_dump.json'\n",
    "annot_csv.to_json(path+jsonFilePath, orient='records')"
   ]
  },
  {
   "cell_type": "code",
   "execution_count": 19,
   "metadata": {},
   "outputs": [
    {
     "data": {
      "text/plain": [
       "'/nfs/gns/literature/Santosh_Tirunagari/OTAR_Results/ML-NER-Analysis/PCSE_Analysis/OTAR_frequencies_GP_20K.csv'"
      ]
     },
     "execution_count": 19,
     "metadata": {},
     "output_type": "execute_result"
    }
   ],
   "source": [
    "path+\"OTAR_frequencies_GP_20K.csv\""
   ]
  },
  {
   "cell_type": "code",
   "execution_count": 20,
   "metadata": {},
   "outputs": [],
   "source": [
    "# convert annotations freq to json\n",
    "columns_freq = ['Entity', 'Freq_of_ML_removed','EPMC_total_Freq','Percentage_removed']\n",
    "anno_freq_df = pd.read_csv(path+\"OTAR_frequencies_GP_20K.csv\", sep = '\\t', error_bad_lines=False, names = columns_freq)"
   ]
  },
  {
   "cell_type": "code",
   "execution_count": 21,
   "metadata": {},
   "outputs": [],
   "source": [
    "jsonFilePath = 'OTAR_freqs.json'\n",
    "anno_freq_df.to_json(path+jsonFilePath, orient='records')"
   ]
  },
  {
   "cell_type": "code",
   "execution_count": 27,
   "metadata": {},
   "outputs": [
    {
     "name": "stderr",
     "output_type": "stream",
     "text": [
      "100%|██████████| 1334594/1334594 [00:02<00:00, 451742.60it/s]\n",
      "100%|██████████| 1334594/1334594 [00:21<00:00, 60767.89it/s]\n"
     ]
    },
    {
     "ename": "KeyError",
     "evalue": "'inflammation'",
     "output_type": "error",
     "traceback": [
      "\u001b[0;31m---------------------------------------------------------------------------\u001b[0m",
      "\u001b[0;31mKeyError\u001b[0m                                  Traceback (most recent call last)",
      "\u001b[0;32m<ipython-input-27-73cff1372e77>\u001b[0m in \u001b[0;36m<module>\u001b[0;34m\u001b[0m\n\u001b[1;32m     44\u001b[0m     \u001b[0mpublic_writer\u001b[0m \u001b[0;34m=\u001b[0m \u001b[0mcsv\u001b[0m\u001b[0;34m.\u001b[0m\u001b[0mwriter\u001b[0m\u001b[0;34m(\u001b[0m\u001b[0moutfile\u001b[0m\u001b[0;34m,\u001b[0m \u001b[0mdelimiter\u001b[0m\u001b[0;34m=\u001b[0m\u001b[0;34m'\\t'\u001b[0m\u001b[0;34m,\u001b[0m \u001b[0mlineterminator\u001b[0m\u001b[0;34m=\u001b[0m\u001b[0;34m'\\n'\u001b[0m\u001b[0;34m)\u001b[0m\u001b[0;34m\u001b[0m\u001b[0;34m\u001b[0m\u001b[0m\n\u001b[1;32m     45\u001b[0m     \u001b[0;32mfor\u001b[0m \u001b[0mkeys\u001b[0m\u001b[0;34m,\u001b[0m \u001b[0mvalues\u001b[0m \u001b[0;32min\u001b[0m \u001b[0my\u001b[0m\u001b[0;34m.\u001b[0m\u001b[0mitems\u001b[0m\u001b[0;34m(\u001b[0m\u001b[0;34m)\u001b[0m\u001b[0;34m:\u001b[0m \u001b[0;31m# Get keys from the missing\u001b[0m\u001b[0;34m\u001b[0m\u001b[0;34m\u001b[0m\u001b[0m\n\u001b[0;32m---> 46\u001b[0;31m         \u001b[0mfilt_per\u001b[0m \u001b[0;34m=\u001b[0m \u001b[0;34m(\u001b[0m\u001b[0mvalues\u001b[0m\u001b[0;34m/\u001b[0m\u001b[0manno_y\u001b[0m\u001b[0;34m[\u001b[0m\u001b[0mkeys\u001b[0m\u001b[0;34m]\u001b[0m\u001b[0;34m)\u001b[0m\u001b[0;34m*\u001b[0m\u001b[0;36m100\u001b[0m\u001b[0;34m\u001b[0m\u001b[0;34m\u001b[0m\u001b[0m\n\u001b[0m\u001b[1;32m     47\u001b[0m         \u001b[0mnew_row\u001b[0m \u001b[0;34m=\u001b[0m \u001b[0;34m[\u001b[0m\u001b[0mkeys\u001b[0m\u001b[0;34m,\u001b[0m \u001b[0mstr\u001b[0m\u001b[0;34m(\u001b[0m\u001b[0mvalues\u001b[0m\u001b[0;34m)\u001b[0m\u001b[0;34m,\u001b[0m \u001b[0mstr\u001b[0m\u001b[0;34m(\u001b[0m\u001b[0manno_y\u001b[0m\u001b[0;34m[\u001b[0m\u001b[0mkeys\u001b[0m\u001b[0;34m]\u001b[0m\u001b[0;34m)\u001b[0m\u001b[0;34m,\u001b[0m \u001b[0mstr\u001b[0m\u001b[0;34m(\u001b[0m\u001b[0mfilt_per\u001b[0m\u001b[0;34m)\u001b[0m\u001b[0;34m]\u001b[0m\u001b[0;34m\u001b[0m\u001b[0;34m\u001b[0m\u001b[0m\n\u001b[1;32m     48\u001b[0m         \u001b[0mpublic_writer\u001b[0m\u001b[0;34m.\u001b[0m\u001b[0mwriterows\u001b[0m\u001b[0;34m(\u001b[0m\u001b[0;34m[\u001b[0m\u001b[0mnew_row\u001b[0m\u001b[0;34m]\u001b[0m\u001b[0;34m)\u001b[0m\u001b[0;34m\u001b[0m\u001b[0;34m\u001b[0m\u001b[0m\n",
      "\u001b[0;31mKeyError\u001b[0m: 'inflammation'"
     ]
    }
   ],
   "source": [
    "# Disease Freqs\n",
    "\n",
    "k_exacts = []\n",
    "k_preds = []\n",
    "k_missing = []\n",
    "\n",
    "\n",
    "for index_, each_annotation in tqdm(enumerate(annot_csv.itertuples()),total=len(annot_csv)):\n",
    "#     if index_ <10:\n",
    "    #     pmc_id = each_annotation.pmc_id\n",
    "    #     section = each_annotation.section\n",
    "    #     epmc_sentence = each_annotation.sentence\n",
    "#         k_exacts.append(literal_eval(each_annotation.eurpmc_ner))\n",
    "        k_exacts.append(each_annotation.EP_DS)\n",
    "        k_preds.append(each_annotation.ML_DS)\n",
    "\n",
    "        \n",
    "k_missing = []\n",
    "for i,j in tqdm(zip(k_exacts,k_preds), total = len(k_exacts)):\n",
    "    if i:\n",
    "        missing = no_intersection(i, j)\n",
    "        if missing:\n",
    "            k_missing.append(missing) \n",
    "            \n",
    "            \n",
    "missing_data = list(itertools.chain.from_iterable(k_missing))\n",
    "count = Counter(missing_data)\n",
    "y = OrderedDict(count.most_common())\n",
    "\n",
    "\n",
    "import pickle\n",
    "\n",
    "path = '/nfs/gns/literature/Santosh_Tirunagari/OTAR_Results/ML-NER-Analysis/PCSE_Analysis/'\n",
    "with open(path+'k_exacts_DS', 'wb') as fp:\n",
    "    pickle.dump(k_exacts, fp)\n",
    "    \n",
    "with open(path+'k_preds_DS', 'wb') as fp:\n",
    "    pickle.dump(k_preds, fp) \n",
    "    \n"
   ]
  },
  {
   "cell_type": "code",
   "execution_count": 29,
   "metadata": {},
   "outputs": [],
   "source": [
    "anno_data = list(itertools.chain.from_iterable(k_exacts))\n",
    "anno_count = Counter(anno_data)\n",
    "anno_y = OrderedDict(anno_count.most_common())\n",
    "\n",
    "import csv\n",
    "\n",
    "with open(path+\"OTAR_frequencies_DS_20K.csv\", \"w\",  newline='\\n') as outfile:\n",
    "    public_writer = csv.writer(outfile, delimiter='\\t', lineterminator='\\n')\n",
    "    for keys, values in y.items(): # Get keys from the missing\n",
    "        try:\n",
    "            filt_per = (values/anno_y[keys])*100\n",
    "            new_row = [keys, str(values), str(anno_y[keys]), str(filt_per)]\n",
    "            public_writer.writerows([new_row]) \n",
    "        except:\n",
    "            pass\n",
    "        \n",
    "        \n",
    "        \n",
    "path+\"OTAR_frequencies_DS_20K.csv\" \n",
    "\n",
    "\n",
    "# convert annotations freq to json\n",
    "columns_freq = ['Entity', 'Freq_of_ML_removed','EPMC_total_Freq','Percentage_removed']\n",
    "anno_freq_df = pd.read_csv(path+\"OTAR_frequencies_DS_20K.csv\", sep = '\\t', error_bad_lines=False, names = columns_freq)\n",
    "\n",
    "\n",
    "\n",
    "jsonFilePath = 'OTAR_DS_freqs.json'\n",
    "anno_freq_df.to_json(path+jsonFilePath, orient='records')"
   ]
  }
 ],
 "metadata": {
  "kernelspec": {
   "display_name": "PyTorch",
   "language": "python",
   "name": "pytorch"
  },
  "language_info": {
   "codemirror_mode": {
    "name": "ipython",
    "version": 3
   },
   "file_extension": ".py",
   "mimetype": "text/x-python",
   "name": "python",
   "nbconvert_exporter": "python",
   "pygments_lexer": "ipython3",
   "version": "3.7.4"
  }
 },
 "nbformat": 4,
 "nbformat_minor": 2
}
