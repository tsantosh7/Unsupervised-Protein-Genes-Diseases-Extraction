{
 "cells": [
  {
   "cell_type": "code",
   "execution_count": 1,
   "metadata": {},
   "outputs": [
    {
     "name": "stderr",
     "output_type": "stream",
     "text": [
      "Using TensorFlow backend.\n"
     ]
    }
   ],
   "source": [
    "import gensim.models.keyedvectors as word2vec \n",
    "from nltk.tokenize import RegexpTokenizer\n",
    "\n",
    "from keras.models import Sequential\n",
    "from keras.layers.core import Dense, Dropout\n",
    "from keras.layers.embeddings import Embedding\n",
    "from keras.preprocessing.sequence import pad_sequences\n",
    "from keras.preprocessing.text import Tokenizer\n",
    "from keras.layers import LSTM\n",
    "\n",
    "import numpy as np\n",
    "import pandas as pd\n",
    "import matplotlib.pyplot as plt\n",
    "\n",
    "from sklearn.model_selection import train_test_split\n",
    "from sklearn.metrics import confusion_matrix, roc_curve,  roc_auc_score, classification_report\n",
    "\n",
    "\n",
    "\n",
    "import os"
   ]
  },
  {
   "cell_type": "code",
   "execution_count": 2,
   "metadata": {
    "collapsed": true
   },
   "outputs": [],
   "source": [
    "# get the current working directory\n",
    "data_path = os.path.abspath(os.path.join(os.path.dirname( '__file__' ), '..', 'Datasets'))+'/'\n",
    "\n",
    "# Although the dataset says csv, it is tab delimited. In addition to this, they have severe codels problems. \n",
    "# So best to parse throught codes first. \n",
    "# UnicodeDecodeError: 'utf-8' codec can't decode byte 0xfc in position 2: invalid start byte\n",
    "\n",
    "#open for reading with \"universal\" type set\n",
    "\n",
    "import codecs\n",
    "\n",
    "doc_d_t = codecs.open(data_path+'EUADR_Corpus_IBIgroup/'+'EUADR_drug_target'+'.csv','rU','UTF-8') \n",
    "EUADR_drug_target = pd.read_csv(doc_d_t, sep='\\t', na_filter = False)\n",
    "EUADR_drug_target['CLASS'] = 'drug_gene'\n",
    "\n",
    "doc_t_d = codecs.open(data_path+'EUADR_Corpus_IBIgroup/'+'EUADR_target_disease'+'.csv','rU','UTF-8',errors='ignore') \n",
    "EUADR_target_disease = pd.read_csv(doc_t_d, sep='\\t', na_filter = False)\n",
    "EUADR_target_disease['CLASS'] = 'gene_disease'\n",
    "       \n",
    "doc_d_d = codecs.open(data_path+'EUADR_Corpus_IBIgroup/'+'EUADR_drug_disease'+'.csv','rU','UTF-8')                       \n",
    "EUADR_drug_disease = pd.read_csv(doc_d_d, sep='\\t', na_filter = False)\n",
    "EUADR_drug_disease['CLASS'] = 'drug_disease'\n",
    "\n",
    "\n",
    "EUADR_temp = EUADR_drug_target.append(EUADR_target_disease).append(EUADR_drug_disease)\n",
    "\n",
    "EUADR_temp_1 = EUADR_temp[EUADR_temp['ASSOCIATION_TYPE'] == 'PA']\n",
    "EUADR_temp_2 = EUADR_temp[EUADR_temp['ASSOCIATION_TYPE'] == 'NA']\n",
    "EUADR_temp = EUADR_temp_1.append(EUADR_temp_2)"
   ]
  },
  {
   "cell_type": "code",
   "execution_count": 3,
   "metadata": {
    "collapsed": true
   },
   "outputs": [],
   "source": [
    "# Get GAD dataset\n",
    "\n",
    "doc_t_d = codecs.open(data_path+'GAD_Corpus_IBIgroup/'+'GAD_Y_N'+'.csv','rU','UTF-8',errors='ignore') \n",
    "GAD_target_disease_Y_N = pd.read_csv(doc_t_d, sep='\\t', na_filter = False)\n",
    "GAD_target_disease_Y_N['CLASS'] = 'gene_disease'\n",
    "\n",
    "doc_t_d = codecs.open(data_path+'GAD_Corpus_IBIgroup/'+'GAD_F'+'.csv','rU','UTF-8',errors='ignore') \n",
    "GAD_target_disease_F = pd.read_csv(doc_t_d, sep='\\t', na_filter = False)\n",
    "GAD_target_disease_F['CLASS'] = 'gene_disease'\n",
    "\n",
    "GAD_temp = GAD_target_disease_Y_N\n"
   ]
  },
  {
   "cell_type": "code",
   "execution_count": 4,
   "metadata": {
    "collapsed": true
   },
   "outputs": [],
   "source": [
    "# Get PolySearch dataset\n",
    "ColNames = ['entity_1', 'entity_2', 'Association', 'PMID','Sentence']\n",
    "Poly_doc_d_t = codecs.open(data_path+'PolySearch/'+'p1_disease_gene_testset.simple'+'.tsv','rU','UTF-8') \n",
    "Poly_target_disease = pd.read_csv(Poly_doc_d_t, sep='\\t', na_filter = False, names = ColNames)\n",
    "Poly_target_disease['CLASS'] = 'gene_disease'"
   ]
  },
  {
   "cell_type": "code",
   "execution_count": 5,
   "metadata": {
    "collapsed": true
   },
   "outputs": [],
   "source": [
    "from bs4 import BeautifulSoup\n",
    "import lxml\n",
    "import pandas as pd\n",
    "\n",
    "infile = open(data_path+'CoMAGC/'+'CoMAGC.xml','r')\n",
    "contents = infile.read()\n",
    "soup = BeautifulSoup(contents,'lxml')\n",
    "\n",
    "annotations = soup.find_all('annotation_unit')\n",
    "\n",
    "\n",
    "CoMAGClist = []\n",
    "\n",
    "for each_sentence in annotations:\n",
    "    sentence = each_sentence.find('sentence').text\n",
    "    label_ = each_sentence.find('expression_change_keyword_2')\n",
    "    label = label_['type'].split('_')[0]\n",
    "#     print(sentence + '----' + label)\n",
    "    try:\n",
    "        CoMAGClist.append({'SENTENCE': sentence, 'ASSOCIATION': label})\n",
    "    except:\n",
    "        pass\n",
    "\n",
    "CoMAGClist_temp = pd.DataFrame(CoMAGClist)    "
   ]
  },
  {
   "cell_type": "code",
   "execution_count": 6,
   "metadata": {
    "collapsed": true
   },
   "outputs": [],
   "source": [
    "CoMAGClist_temp.to_csv(data_path+'CoMAGC.csv')"
   ]
  },
  {
   "cell_type": "code",
   "execution_count": 7,
   "metadata": {},
   "outputs": [
    {
     "name": "stdout",
     "output_type": "stream",
     "text": [
      "PA    1098\n",
      "NA     282\n",
      "dtype: int64\n"
     ]
    },
    {
     "data": {
      "image/png": "[encoded data removed]",
      "text/plain": [
       "<Figure size 432x288 with 1 Axes>"
      ]
     },
     "metadata": {
      "needs_background": "light"
     },
     "output_type": "display_data"
    }
   ],
   "source": [
    "# get sentences and their associations\n",
    "\n",
    "# sentences = EUADR_temp['SENTENCE'].append(GAD_temp['GAD_CONCLUSION'])\n",
    "# labels = EUADR_temp['ASSOCIATION_TYPE'].append(GAD_temp['GAD_ASSOC'].apply(lambda x: x.replace('Y', 'PA').replace('N', 'NA').replace('F', 'FA')))\n",
    "\n",
    "sentences = EUADR_temp['SENTENCE'].append(CoMAGClist_temp['SENTENCE'])\n",
    "labels = EUADR_temp['ASSOCIATION_TYPE'].append(CoMAGClist_temp['ASSOCIATION'].apply(lambda x: x.replace('Positive', 'PA').replace('Negative', 'NA').replace('Gene', 'NA')))\n",
    "\n",
    "\n",
    "labels_count = labels.value_counts()\n",
    "labels_count.plot(kind=\"bar\")\n",
    "print(labels.value_counts())\n",
    "\n"
   ]
  },
  {
   "cell_type": "code",
   "execution_count": 8,
   "metadata": {
    "collapsed": true
   },
   "outputs": [],
   "source": [
    "from sklearn import preprocessing\n",
    "from keras.utils import np_utils\n",
    "\n",
    "le = preprocessing.LabelEncoder()\n",
    "\n",
    "le.fit(labels)\n",
    "le.classes_\n",
    "# le.inverse_transform()\n",
    "\n",
    "y = le.transform(labels)\n",
    "dummy_y = np_utils.to_categorical(y)\n"
   ]
  },
  {
   "cell_type": "code",
   "execution_count": 9,
   "metadata": {},
   "outputs": [
    {
     "name": "stdout",
     "output_type": "stream",
     "text": [
      "['In', 'a', 'murine', 'prostate', 'tumour', 'model,', 'infusion', 'of', 'recombinant', 'HGF', 'resulted', 'in', 'an', 'increase', 'in', 'the', 'levels', 'of', 'both', 'BMPR-IB', 'and', 'BMPR-II', 'transcript', 'in', 'prostate', 'tumours.']\n"
     ]
    }
   ],
   "source": [
    "def format_sentences(a_list_of_sentences):\n",
    "    \n",
    "#     tkr = RegexpTokenizer('[a-zA-Z@]+')\n",
    "    sentences_split = []\n",
    "\n",
    "    for i, line in enumerate(a_list_of_sentences):\n",
    "        #print(line)\n",
    "        sent = str(line).split()\n",
    "#         sent = tkr.tokenize(str(sent))\n",
    "        sentences_split.append(sent)\n",
    "        \n",
    "    return sentences_split\n",
    "\n",
    "sentences_split = format_sentences(sentences)\n",
    "print(sentences_split[710])\n",
    "\n"
   ]
  },
  {
   "cell_type": "code",
   "execution_count": 10,
   "metadata": {},
   "outputs": [
    {
     "name": "stderr",
     "output_type": "stream",
     "text": [
      "/home/stirunag/anaconda3/envs/KerasCPU/lib/python3.7/site-packages/smart_open/smart_open_lib.py:398: UserWarning: This function is deprecated, use smart_open.open instead. See the migration notes for details: https://github.com/RaRe-Technologies/smart_open/blob/master/README.rst#migrating-to-the-new-open-function\n",
      "  'See the migration notes for details: %s' % _MIGRATION_NOTES_URL\n",
      "/home/stirunag/anaconda3/envs/KerasCPU/lib/python3.7/site-packages/ipykernel_launcher.py:15: DeprecationWarning: Call to deprecated `wv` (Attribute will be removed in 4.0.0, use self instead).\n",
      "  from ipykernel import kernelapp as app\n",
      "WARNING: Logging before flag parsing goes to stderr.\n",
      "W0730 17:11:06.263839 140618515212032 deprecation_wrapper.py:119] From /home/stirunag/anaconda3/envs/KerasCPU/lib/python3.7/site-packages/keras/backend/tensorflow_backend.py:74: The name tf.get_default_graph is deprecated. Please use tf.compat.v1.get_default_graph instead.\n",
      "\n"
     ]
    },
    {
     "name": "stdout",
     "output_type": "stream",
     "text": [
      "(1380, 10)\n"
     ]
    }
   ],
   "source": [
    "w2vModel = word2vec.KeyedVectors.load_word2vec_format('/home/stirunag/pre-trained_word_embeddings/PubMed-and-PMC-w2v.bin', binary=True, limit=1000000)\n",
    "# w2vModel = word2vec.KeyedVectors.load_word2vec_format('/home/stirunag/pre-trained_word_embeddings/PubMed-and-PMC-w2v.bin', binary=True)\n",
    "#Convert words to integers\n",
    "tokenizer = Tokenizer()\n",
    "tokenizer.fit_on_texts(sentences_split)\n",
    "X = tokenizer.texts_to_sequences(sentences_split)\n",
    "\n",
    "#lenght of sentence to consider\n",
    "maxlenth = 10\n",
    "#add padding\n",
    "X = pad_sequences(X, maxlen=maxlenth)\n",
    "print(X.shape)\n",
    "\n",
    "#create a embedding layer using PMC vectors (100000 words)\n",
    "embedding_layer = Embedding(input_dim=w2vModel.wv.vectors.shape[0], output_dim=w2vModel.wv.vectors.shape[1], weights=[w2vModel.wv.vectors], \n",
    "                            input_length=X.shape[1])\n",
    "\n"
   ]
  },
  {
   "cell_type": "code",
   "execution_count": 11,
   "metadata": {},
   "outputs": [
    {
     "name": "stderr",
     "output_type": "stream",
     "text": [
      "W0730 17:11:08.580862 140618515212032 deprecation_wrapper.py:119] From /home/stirunag/anaconda3/envs/KerasCPU/lib/python3.7/site-packages/keras/backend/tensorflow_backend.py:517: The name tf.placeholder is deprecated. Please use tf.compat.v1.placeholder instead.\n",
      "\n",
      "W0730 17:11:08.587901 140618515212032 deprecation_wrapper.py:119] From /home/stirunag/anaconda3/envs/KerasCPU/lib/python3.7/site-packages/keras/backend/tensorflow_backend.py:4138: The name tf.random_uniform is deprecated. Please use tf.random.uniform instead.\n",
      "\n",
      "W0730 17:11:08.609659 140618515212032 deprecation_wrapper.py:119] From /home/stirunag/anaconda3/envs/KerasCPU/lib/python3.7/site-packages/keras/backend/tensorflow_backend.py:174: The name tf.get_default_session is deprecated. Please use tf.compat.v1.get_default_session instead.\n",
      "\n",
      "W0730 17:11:08.611105 140618515212032 deprecation_wrapper.py:119] From /home/stirunag/anaconda3/envs/KerasCPU/lib/python3.7/site-packages/keras/backend/tensorflow_backend.py:181: The name tf.ConfigProto is deprecated. Please use tf.compat.v1.ConfigProto instead.\n",
      "\n",
      "W0730 17:11:11.561249 140618515212032 deprecation_wrapper.py:119] From /home/stirunag/anaconda3/envs/KerasCPU/lib/python3.7/site-packages/keras/optimizers.py:790: The name tf.train.Optimizer is deprecated. Please use tf.compat.v1.train.Optimizer instead.\n",
      "\n"
     ]
    },
    {
     "name": "stdout",
     "output_type": "stream",
     "text": [
      "_________________________________________________________________\n",
      "Layer (type)                 Output Shape              Param #   \n",
      "=================================================================\n",
      "embedding_1 (Embedding)      (None, 10, 200)           200000000 \n",
      "_________________________________________________________________\n",
      "lstm_1 (LSTM)                (None, 32)                29824     \n",
      "_________________________________________________________________\n",
      "dense_1 (Dense)              (None, 2)                 66        \n",
      "=================================================================\n",
      "Total params: 200,029,890\n",
      "Trainable params: 200,029,890\n",
      "Non-trainable params: 0\n",
      "_________________________________________________________________\n",
      "None\n"
     ]
    }
   ],
   "source": [
    "#create model\n",
    "\n",
    "lstm_out = 32\n",
    "\n",
    "model = Sequential()\n",
    "model.add(embedding_layer)\n",
    "model.add(LSTM(units=lstm_out))\n",
    "# model.add(Dense(1, activation='softmax'))\n",
    "model.add(Dense(2, activation='softmax'))\n",
    "# model.compile(loss='binary_crossentropy', optimizer='adam', metrics=['accuracy'])\n",
    "model.compile(loss='categorical_crossentropy', optimizer='adam', metrics=['accuracy'])\n",
    "print(model.summary())\n"
   ]
  },
  {
   "cell_type": "code",
   "execution_count": 13,
   "metadata": {},
   "outputs": [
    {
     "name": "stdout",
     "output_type": "stream",
     "text": [
      "Epoch 1/25\n",
      "1104/1104 [==============================] - 6s 5ms/step - loss: 0.5431 - acc: 0.7953\n",
      "Epoch 2/25\n",
      "1104/1104 [==============================] - 6s 5ms/step - loss: 0.5117 - acc: 0.7953\n",
      "Epoch 3/25\n",
      "1104/1104 [==============================] - 6s 5ms/step - loss: 0.4937 - acc: 0.7953\n",
      "Epoch 4/25\n",
      "1104/1104 [==============================] - 6s 5ms/step - loss: 0.4863 - acc: 0.7953\n",
      "Epoch 5/25\n",
      "1104/1104 [==============================] - 6s 5ms/step - loss: 0.4874 - acc: 0.7953\n",
      "Epoch 6/25\n",
      "1104/1104 [==============================] - 6s 5ms/step - loss: 0.4814 - acc: 0.7953\n",
      "Epoch 7/25\n",
      "1104/1104 [==============================] - 6s 5ms/step - loss: 0.4670 - acc: 0.7953\n",
      "Epoch 8/25\n",
      "1104/1104 [==============================] - 6s 5ms/step - loss: 0.4545 - acc: 0.7953\n",
      "Epoch 9/25\n",
      "1104/1104 [==============================] - 6s 5ms/step - loss: 0.4418 - acc: 0.7953\n",
      "Epoch 10/25\n",
      "1104/1104 [==============================] - 6s 5ms/step - loss: 0.4320 - acc: 0.7953\n",
      "Epoch 11/25\n",
      "1104/1104 [==============================] - 6s 5ms/step - loss: 0.4209 - acc: 0.7953\n",
      "Epoch 12/25\n",
      "1104/1104 [==============================] - 6s 5ms/step - loss: 0.4062 - acc: 0.7971\n",
      "Epoch 13/25\n",
      "1104/1104 [==============================] - 6s 5ms/step - loss: 0.3882 - acc: 0.7971\n",
      "Epoch 14/25\n",
      "1104/1104 [==============================] - 6s 5ms/step - loss: 0.3683 - acc: 0.7971\n",
      "Epoch 15/25\n",
      "1104/1104 [==============================] - 6s 5ms/step - loss: 0.3461 - acc: 0.8071\n",
      "Epoch 16/25\n",
      "1104/1104 [==============================] - 6s 5ms/step - loss: 0.3193 - acc: 0.8134\n",
      "Epoch 17/25\n",
      "1104/1104 [==============================] - 6s 5ms/step - loss: 0.2901 - acc: 0.8270\n",
      "Epoch 18/25\n",
      "1104/1104 [==============================] - 6s 5ms/step - loss: 0.2591 - acc: 0.8605\n",
      "Epoch 19/25\n",
      "1104/1104 [==============================] - 6s 5ms/step - loss: 0.2266 - acc: 0.8886\n",
      "Epoch 20/25\n",
      "1104/1104 [==============================] - 6s 5ms/step - loss: 0.1956 - acc: 0.9185\n",
      "Epoch 21/25\n",
      "1104/1104 [==============================] - 6s 5ms/step - loss: 0.1696 - acc: 0.9393\n",
      "Epoch 22/25\n",
      "1104/1104 [==============================] - 6s 5ms/step - loss: 0.1487 - acc: 0.9520\n",
      "Epoch 23/25\n",
      "1104/1104 [==============================] - 6s 5ms/step - loss: 0.1321 - acc: 0.9601\n",
      "Epoch 24/25\n",
      "1104/1104 [==============================] - 6s 5ms/step - loss: 0.1175 - acc: 0.9601\n",
      "Epoch 25/25\n",
      "1104/1104 [==============================] - 6s 5ms/step - loss: 0.1068 - acc: 0.9611\n"
     ]
    }
   ],
   "source": [
    "from sklearn.model_selection import train_test_split\n",
    "\n",
    "#split dataset\n",
    "# X_train, X_test, Y_train, Y_test = train_test_split(X, y, test_size= 0.1, random_state = 24, stratify=y)\n",
    "X_train, X_test, Y_train, Y_test = train_test_split(X, dummy_y, test_size= 0.2, random_state = 24, stratify=y)\n",
    "\n",
    "#fit model\n",
    "batch_size = 512\n",
    "model.fit(X_train, Y_train, epochs=25, verbose=1, batch_size=batch_size)\n",
    "\n",
    "#analyze the results\n",
    "score, acc = model.evaluate(X_test, Y_test, verbose = 2, batch_size=batch_size)\n",
    "y_pred = model.predict(X_test)"
   ]
  },
  {
   "cell_type": "code",
   "execution_count": 14,
   "metadata": {},
   "outputs": [
    {
     "data": {
      "text/plain": [
       "0.8254009583944638"
      ]
     },
     "execution_count": 14,
     "metadata": {},
     "output_type": "execute_result"
    }
   ],
   "source": [
    "from sklearn.metrics import f1_score, accuracy_score\n",
    "\n",
    "f1_score(Y_test.argmax(axis=1), y_pred.argmax(axis=1), average='weighted')  \n",
    "# f1_score(Y_test, y_pred, average='micro')  \n",
    "\n",
    "# f1_score(Y_test, y_pred.round(), average='macro')\n",
    "\n"
   ]
  },
  {
   "cell_type": "code",
   "execution_count": 20,
   "metadata": {},
   "outputs": [
    {
     "data": {
      "text/plain": [
       "{'NA': 0.0015690014697611332, 'PA': 0.9984310269355774}"
      ]
     },
     "execution_count": 20,
     "metadata": {},
     "output_type": "execute_result"
    }
   ],
   "source": [
    "#Let us test some  samples\n",
    "# test_samples = [\"The human T1663A GH1 gene polymorphism, which may confer lower levels of GH and IGF-I, appears to be associated with a decreased risk of colorectal cancer.\"]\n",
    "# test_samples = [\"Individuals who bear GSTT1 0/0 genotype or GSTT1 0/0-GSTM1 0/0 combined genotypes are more susceptible to leukemia, especially for male and younger carriers.\"]\n",
    "# test_samples = [\"We found no evidence that mutation in GUCA1B,GNGT1,or RGS9 gene is a cause of retinitis pigmentosa.\"]\n",
    "test_samples = ['These results suggest that HLA class I antigens and TNF-alpha A-308G are not associated with susceptibility or resistance to the development of TDI-induced asthma.']\n",
    "# test_samples = ['The results suggest that the studied dinucleotide repeat polymorphism of the ER alpha gene may contribute to specific components of personality.']\n",
    "\n",
    "test_sample_split = format_sentences(test_samples)\n",
    "test_ = tokenizer.texts_to_sequences(test_sample_split)\n",
    "test_pad = pad_sequences(test_, maxlen=maxlenth)\n",
    "#predict\n",
    "# model.predict(x=test_pad)\n",
    "\n",
    "dic = dict(zip(le.classes_, model.predict(x=test_pad).tolist()[0]))\n",
    "\n",
    "dic"
   ]
  },
  {
   "cell_type": "code",
   "execution_count": null,
   "metadata": {
    "collapsed": true
   },
   "outputs": [],
   "source": [
    "from keras.models import model_from_json\n",
    "\n",
    "result_path = os.path.abspath(os.path.join(os.path.dirname( '__file__' ), '..', 'Results'))+'/models/'\n",
    "\n",
    "# serialize model to JSON\n",
    "model_json = model.to_json()\n",
    "with open(result_path+\"sentiment_association_model.json\", \"w\") as json_file:\n",
    "    json_file.write(model_json)\n",
    "# serialize weights to HDF5\n",
    "model.save_weights(result_path+\"sentiment_association_model.h5\")\n",
    "print(\"Saved model weights to disk\")\n",
    "\n",
    "model.save(result_path+\"model_and_architecture_sentiment_association_model.h5\")\n",
    "print(\"Saved architecture model and architecture model to disk\")"
   ]
  },
  {
   "cell_type": "code",
   "execution_count": 18,
   "metadata": {
    "collapsed": true
   },
   "outputs": [],
   "source": [
    "# from keras.models import model_from_json\n",
    "\n",
    "# result_path = os.path.abspath(os.path.join(os.path.dirname( '__file__' ), '..', 'Results'))+'/models/'\n",
    "\n",
    "# # # load json and create model\n",
    "# json_file = open(result_path+'sentiment_association_model.json', 'r')\n",
    "# loaded_model_json = json_file.read()\n",
    "# json_file.close()\n",
    "# loaded_model = model_from_json(loaded_model_json)\n",
    "\n",
    "# # load weights into new model\n",
    "# loaded_model.load_weights(result_path+\"sentiment_association_model.h5\")\n",
    "# print(\"Loaded model from disk\")\n",
    " \n",
    "# # evaluate loaded model on test data\n",
    "# loaded_model.compile(loss='categorical_crossentropy', optimizer='adam', metrics=['accuracy'])\n",
    "# score = loaded_model.evaluate(X, dummy_y, verbose=0)\n",
    "# print(\"%s: %.2f%%\" % (loaded_model.metrics_names[1], score[1]*100))"
   ]
  },
  {
   "cell_type": "code",
   "execution_count": 17,
   "metadata": {},
   "outputs": [
    {
     "data": {
      "text/plain": [
       "{'NA': 0.055498842149972916, 'PA': 0.9445011615753174}"
      ]
     },
     "execution_count": 17,
     "metadata": {},
     "output_type": "execute_result"
    }
   ],
   "source": [
    "test_samples = ['CCBE1 is expressed in normal ovary, but is reduced in ovarian cancer cell lines and primary carcinomas.']\n",
    "\n",
    "test_sample_split = format_sentences(test_samples)\n",
    "test_ = tokenizer.texts_to_sequences(test_sample_split)\n",
    "test_pad = pad_sequences(test_, maxlen=maxlenth)\n",
    "#predict\n",
    "# model.predict(x=test_pad)\n",
    "\n",
    "dic = dict(zip(le.classes_, model.predict(x=test_pad).tolist()[0]))\n",
    "\n",
    "dic"
   ]
  },
  {
   "cell_type": "code",
   "execution_count": 28,
   "metadata": {
    "collapsed": true
   },
   "outputs": [],
   "source": [
    "# Testing on unseen data\n",
    "\n",
    "ColNames = ['entity_1', 'entity_2', 'Association', 'PMID', 'Sentence']\n",
    "Poly_doc_d_t = codecs.open(data_path+'PolySearch/'+'p1_disease_gene_testset.simple'+'.tsv','rU','UTF-8') \n",
    "Poly_target_disease = pd.read_csv(Poly_doc_d_t, sep='\\t', na_filter = False, names = ColNames)\n",
    "Poly_target_disease['CLASS'] = 'gene_disease'\n",
    "\n",
    "# Poly_doc_d_t = codecs.open(data_path+'PolySearch/'+'p1_drug_gene_testset'+'.tsv','rU','UTF-8') \n",
    "# Poly_drug_target = pd.read_csv(Poly_doc_d_t, sep='\\t', na_filter = False, names = ColNames)\n",
    "# Poly_drug_target['CLASS'] = 'drug_gene'\n",
    "\n",
    "\n",
    "# Poly_temp = Poly_drug_target.append(Poly_target_disease)\n",
    "\n",
    "Poly_temp = Poly_target_disease\n",
    "\n",
    "# Poly_temp"
   ]
  },
  {
   "cell_type": "code",
   "execution_count": 29,
   "metadata": {},
   "outputs": [
    {
     "name": "stdout",
     "output_type": "stream",
     "text": [
      "PA    341\n",
      "NA    181\n",
      "Name: Association, dtype: int64\n"
     ]
    },
    {
     "data": {
      "image/png": "[encoded data removed]",
      "text/plain": [
       "<Figure size 432x288 with 1 Axes>"
      ]
     },
     "metadata": {
      "needs_background": "light"
     },
     "output_type": "display_data"
    }
   ],
   "source": [
    "test_sentences = Poly_temp['Sentence']\n",
    "test_labels = Poly_temp['Association'].apply(lambda x: x.replace('Negative', 'NA').replace('Positive', 'PA'))\n",
    "\n",
    "labels_count = test_labels.value_counts()\n",
    "labels_count.plot(kind=\"bar\")\n",
    "print(test_labels.value_counts())"
   ]
  },
  {
   "cell_type": "code",
   "execution_count": 30,
   "metadata": {
    "collapsed": true
   },
   "outputs": [],
   "source": [
    "test_sentences_split = format_sentences(test_sentences)\n",
    "# len(test_sentences_split)\n",
    "test_sequences = tokenizer.texts_to_sequences(test_sentences_split)\n",
    "test_pad = pad_sequences(test_sequences, maxlen=maxlenth)\n",
    "y_pred = model.predict(x=test_pad)"
   ]
  },
  {
   "cell_type": "code",
   "execution_count": 31,
   "metadata": {},
   "outputs": [
    {
     "ename": "NameError",
     "evalue": "name 'y_test' is not defined",
     "output_type": "error",
     "traceback": [
      "\u001b[0;31m---------------------------------------------------------------------------\u001b[0m",
      "\u001b[0;31mNameError\u001b[0m                                 Traceback (most recent call last)",
      "\u001b[0;32m<ipython-input-31-b51e1c46bb02>\u001b[0m in \u001b[0;36m<module>\u001b[0;34m\u001b[0m\n\u001b[0;32m----> 1\u001b[0;31m \u001b[0mf1_score\u001b[0m\u001b[0;34m(\u001b[0m\u001b[0my_test\u001b[0m\u001b[0;34m,\u001b[0m \u001b[0my_pred\u001b[0m\u001b[0;34m.\u001b[0m\u001b[0margmax\u001b[0m\u001b[0;34m(\u001b[0m\u001b[0maxis\u001b[0m\u001b[0;34m=\u001b[0m\u001b[0;36m1\u001b[0m\u001b[0;34m)\u001b[0m\u001b[0;34m,\u001b[0m \u001b[0maverage\u001b[0m\u001b[0;34m=\u001b[0m\u001b[0;34m'weighted'\u001b[0m\u001b[0;34m)\u001b[0m\u001b[0;34m\u001b[0m\u001b[0;34m\u001b[0m\u001b[0m\n\u001b[0m",
      "\u001b[0;31mNameError\u001b[0m: name 'y_test' is not defined"
     ]
    }
   ],
   "source": [
    "f1_score(le_tr, y_pred.argmax(axis=1), average='weighted')  "
   ]
  }
 ],
 "metadata": {
  "kernelspec": {
   "display_name": "Python 3",
   "language": "python",
   "name": "python3"
  },
  "language_info": {
   "codemirror_mode": {
    "name": "ipython",
    "version": 3
   },
   "file_extension": ".py",
   "mimetype": "text/x-python",
   "name": "python",
   "nbconvert_exporter": "python",
   "pygments_lexer": "ipython3",
   "version": "3.6.9"
  }
 },
 "nbformat": 4,
 "nbformat_minor": 2
}
