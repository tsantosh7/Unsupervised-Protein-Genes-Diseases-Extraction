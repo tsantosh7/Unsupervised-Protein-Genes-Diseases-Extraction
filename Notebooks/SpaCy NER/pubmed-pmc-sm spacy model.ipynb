{
 "cells": [
  {
   "cell_type": "code",
   "execution_count": 4,
   "metadata": {},
   "outputs": [],
   "source": [
    "import sys\n",
    "import random\n",
    "import os\n",
    "from pathlib import Path\n",
    "import shutil\n",
    "import json\n",
    "\n",
    "import argparse\n",
    "import tqdm\n",
    "import spacy\n",
    "from spacy.gold import minibatch\n",
    "from spacy.language import Language\n",
    "from spacy import util"
   ]
  },
  {
   "cell_type": "code",
   "execution_count": 5,
   "metadata": {},
   "outputs": [],
   "source": [
    "from scispacy.data_util import read_full_med_mentions, read_ner_from_tsv\n",
    "from scispacy.util import WhitespaceTokenizer\n",
    "from scispacy.per_class_scorer import PerClassScorer\n",
    "from scispacy.train_utils import evaluate_ner"
   ]
  },
  {
   "cell_type": "code",
   "execution_count": 3,
   "metadata": {},
   "outputs": [],
   "source": [
    "def train_ner(output_dir: str,\n",
    "              train_data_path: str,\n",
    "              dev_data_path: str,\n",
    "              test_data_path: str,\n",
    "              run_test: bool = None,\n",
    "              model: str = None,\n",
    "              n_iter: int = 10,\n",
    "              meta_overrides: str = None):\n",
    "\n",
    "    util.fix_random_seed(util.env_opt(\"seed\", 0))\n",
    "    train_data = read_ner_from_tsv(train_data_path)\n",
    "    dev_data = read_ner_from_tsv(dev_data_path)\n",
    "    test_data = read_ner_from_tsv(test_data_path)\n",
    "    os.makedirs(output_dir, exist_ok=True)\n",
    "    if run_test:\n",
    "        nlp = spacy.load(model)\n",
    "        print(\"Loaded model '%s'\" % model)\n",
    "        evaluate_ner(nlp, dev_data, dump_path=os.path.join(output_dir, \"dev_metrics.json\"))\n",
    "        evaluate_ner(nlp, test_data, dump_path=os.path.join(output_dir, \"test_metrics.json\"))\n",
    "    else:\n",
    "        train(model, train_data, dev_data, test_data, output_dir, n_iter, meta_overrides)"
   ]
  },
  {
   "cell_type": "code",
   "execution_count": 4,
   "metadata": {},
   "outputs": [],
   "source": [
    "def train(model, train_data, dev_data, test_data, output_dir, n_iter, meta_overrides):\n",
    "    \"\"\"Load the model, set up the pipeline and train the entity recognizer.\"\"\"\n",
    "    \n",
    "    if model is not None:\n",
    "        nlp = spacy.load(model)  # load existing spaCy model\n",
    "        print(\"Loaded model '%s'\" % model)\n",
    "    else:\n",
    "        nlp = spacy.blank('en')  # create blank Language class\n",
    "        print(\"Created blank 'en' model\")\n",
    "\n",
    "    if meta_overrides is not None:\n",
    "        metadata = json.load(open(meta_overrides))\n",
    "        nlp.meta.update(metadata)\n",
    "\n",
    "    original_tokenizer = nlp.tokenizer\n",
    "\n",
    "    nlp.tokenizer = WhitespaceTokenizer(nlp.vocab)\n",
    "\n",
    "    # create the built-in pipeline components and add them to the pipeline\n",
    "    # nlp.create_pipe works for built-ins that are registered with spaCy\n",
    "    if 'ner' not in nlp.pipe_names and \"parser\" in nlp.pipe_names:\n",
    "        ner = nlp.create_pipe('ner')\n",
    "        nlp.add_pipe(ner, after=\"parser\")\n",
    "    elif 'ner' not in nlp.pipe_names and \"tagger\" in nlp.pipe_names:\n",
    "        ner = nlp.create_pipe('ner')\n",
    "        nlp.add_pipe(ner, after=\"tagger\")\n",
    "    elif 'ner' not in nlp.pipe_names:\n",
    "        ner = nlp.create_pipe('ner')\n",
    "        nlp.add_pipe(ner, last=True)\n",
    "    # otherwise, get it so we can add labels\n",
    "    else:\n",
    "        ner = nlp.get_pipe('ner')\n",
    "\n",
    "    # add labels\n",
    "    for _, annotations in train_data:\n",
    "        for ent in annotations.get('entities'):\n",
    "            ner.add_label(ent[2])\n",
    "\n",
    "    # get names of other pipes to disable them during training\n",
    "    other_pipes = [pipe for pipe in nlp.pipe_names if pipe != 'ner']\n",
    "\n",
    "    dropout_rates = util.decaying(util.env_opt('dropout_from', 0.2),\n",
    "                                  util.env_opt('dropout_to', 0.2),\n",
    "                                  util.env_opt('dropout_decay', 0.005))\n",
    "    batch_sizes = util.compounding(util.env_opt('batch_from', 1),\n",
    "                                   util.env_opt('batch_to', 128),\n",
    "                                   util.env_opt('batch_compound', 1.001))\n",
    "\n",
    "    optimizer = nlp.begin_training()\n",
    "    best_epoch = 0\n",
    "    best_f1 = 0\n",
    "    for i in range(n_iter):\n",
    "        print(str(i)+'--'+str(n_iter))\n",
    "        random.shuffle(train_data)\n",
    "        count = 0\n",
    "        losses = {}\n",
    "        total = len(train_data)\n",
    "\n",
    "        with nlp.disable_pipes(*other_pipes):  # only train NER\n",
    "            with tqdm.tqdm(total=total, leave=True) as pbar:\n",
    "                for batch in minibatch(train_data, size=batch_sizes):\n",
    "                    docs, golds = zip(*batch)\n",
    "                    nlp.update(docs, golds, sgd=optimizer,\n",
    "                               losses=losses, drop=next(dropout_rates))\n",
    "                    pbar.update(len(batch))\n",
    "                    if count % 100 == 0 and count > 0:\n",
    "                        print('sum loss: %s' % losses['ner'])\n",
    "                    count += 1\n",
    "\n",
    "        # save model to output directory\n",
    "        output_dir_path = Path(output_dir + \"/\" + str(i))\n",
    "        if not output_dir_path.exists():\n",
    "            output_dir_path.mkdir()\n",
    "\n",
    "        with nlp.use_params(optimizer.averages):\n",
    "            nlp.tokenizer = original_tokenizer\n",
    "            nlp.to_disk(output_dir_path)\n",
    "            print(\"Saved model to\", output_dir_path)\n",
    "\n",
    "        # test the saved model\n",
    "        print(\"Loading from\", output_dir_path)\n",
    "        nlp2 = util.load_model_from_path(output_dir_path)\n",
    "        nlp2.tokenizer = WhitespaceTokenizer(nlp.vocab)\n",
    "\n",
    "        metrics = evaluate_ner(nlp2, dev_data)\n",
    "        if metrics[\"f1-measure-overall\"] > best_f1:\n",
    "            best_f1 = metrics[\"f1-measure-overall\"]\n",
    "            best_epoch = i\n",
    "    # save model to output directory\n",
    "    best_model_path = Path(output_dir + \"/\" + \"best\")\n",
    "    print(f\"Best Epoch: {best_epoch} of {n_iter}\")\n",
    "    if os.path.exists(best_model_path):\n",
    "        shutil.rmtree(best_model_path)\n",
    "    shutil.copytree(os.path.join(output_dir, str(best_epoch)),\n",
    "                    best_model_path)\n",
    "\n",
    "    # test the saved model\n",
    "    print(\"Loading from\", best_model_path)\n",
    "    nlp2 = util.load_model_from_path(best_model_path)\n",
    "    nlp2.tokenizer = WhitespaceTokenizer(nlp.vocab)\n",
    "\n",
    "    evaluate_ner(nlp2, dev_data, dump_path=os.path.join(output_dir, \"dev_metrics.json\"))\n",
    "    evaluate_ner(nlp2, test_data, dump_path=os.path.join(output_dir, \"test_metrics.json\"))"
   ]
  },
  {
   "cell_type": "code",
   "execution_count": 5,
   "metadata": {},
   "outputs": [],
   "source": [
    "model_output_dir = '/nfs/gns/literature/Santosh_Tirunagari/GitHub/spacy_models/pubmed-pmc-sm/'\n",
    "train_data_path = '/nfs/gns/literature/machine-learning/Datasets/NER_Datasets/EBI_standard-IOB/train.csv'\n",
    "dev_data_path = '/nfs/gns/literature/machine-learning/Datasets/NER_Datasets/EBI_standard-IOB/dev.csv'\n",
    "test_data_path = '/nfs/gns/literature/machine-learning/Datasets/NER_Datasets/EBI_standard-IOB/test.csv'\n",
    "run_test = False\n",
    "model_path = '/nfs/gns/literature/Santosh_Tirunagari/pretrained_word_embeddings/pubmed-pmc-sm' # None #'en_core_sci_md'\n",
    "iterations = 10\n",
    "meta_overrides = '/nfs/gns/literature/Santosh_Tirunagari/GitHub/scispacy/data/EPMC_ner.json'"
   ]
  },
  {
   "cell_type": "code",
   "execution_count": 6,
   "metadata": {},
   "outputs": [
    {
     "name": "stdout",
     "output_type": "stream",
     "text": [
      "Loaded model '/nfs/gns/literature/Santosh_Tirunagari/pretrained_word_embeddings/pubmed-pmc-sm'\n"
     ]
    },
    {
     "name": "stderr",
     "output_type": "stream",
     "text": [
      "  0%|          | 1/79401 [00:00<2:38:10,  8.37it/s]"
     ]
    },
    {
     "name": "stdout",
     "output_type": "stream",
     "text": [
      "0--10\n"
     ]
    },
    {
     "name": "stderr",
     "output_type": "stream",
     "text": [
      "  0%|          | 104/79401 [00:03<36:27, 36.25it/s] "
     ]
    },
    {
     "name": "stdout",
     "output_type": "stream",
     "text": [
      "sum loss: 231.20640152121283\n"
     ]
    },
    {
     "name": "stderr",
     "output_type": "stream",
     "text": [
      "  0%|          | 206/79401 [00:06<37:02, 35.63it/s]"
     ]
    },
    {
     "name": "stdout",
     "output_type": "stream",
     "text": [
      "sum loss: 324.55949121999987\n"
     ]
    },
    {
     "name": "stderr",
     "output_type": "stream",
     "text": [
      "  0%|          | 305/79401 [00:08<37:34, 35.08it/s]"
     ]
    },
    {
     "name": "stdout",
     "output_type": "stream",
     "text": [
      "sum loss: 439.5847596631519\n"
     ]
    },
    {
     "name": "stderr",
     "output_type": "stream",
     "text": [
      "  1%|          | 405/79401 [00:11<35:41, 36.89it/s]"
     ]
    },
    {
     "name": "stdout",
     "output_type": "stream",
     "text": [
      "sum loss: 548.401540035823\n"
     ]
    },
    {
     "name": "stderr",
     "output_type": "stream",
     "text": [
      "  1%|          | 508/79401 [00:14<34:30, 38.10it/s]"
     ]
    },
    {
     "name": "stdout",
     "output_type": "stream",
     "text": [
      "sum loss: 634.4470844157466\n"
     ]
    },
    {
     "name": "stderr",
     "output_type": "stream",
     "text": [
      "  1%|          | 604/79401 [00:17<42:34, 30.84it/s]"
     ]
    },
    {
     "name": "stdout",
     "output_type": "stream",
     "text": [
      "sum loss: 779.8017668799764\n"
     ]
    },
    {
     "name": "stderr",
     "output_type": "stream",
     "text": [
      "  1%|          | 716/79401 [00:20<29:04, 45.10it/s]"
     ]
    },
    {
     "name": "stdout",
     "output_type": "stream",
     "text": [
      "sum loss: 859.63495176615\n"
     ]
    },
    {
     "name": "stderr",
     "output_type": "stream",
     "text": [
      "  1%|          | 914/79401 [00:23<21:19, 61.36it/s]"
     ]
    },
    {
     "name": "stdout",
     "output_type": "stream",
     "text": [
      "sum loss: 1136.6656114975576\n"
     ]
    },
    {
     "name": "stderr",
     "output_type": "stream",
     "text": [
      "  1%|▏         | 1116/79401 [00:27<19:59, 65.28it/s]"
     ]
    },
    {
     "name": "stdout",
     "output_type": "stream",
     "text": [
      "sum loss: 1552.1786961933603\n"
     ]
    },
    {
     "name": "stderr",
     "output_type": "stream",
     "text": [
      "  2%|▏         | 1316/79401 [00:30<19:42, 66.04it/s]"
     ]
    },
    {
     "name": "stdout",
     "output_type": "stream",
     "text": [
      "sum loss: 1760.617337028158\n"
     ]
    },
    {
     "name": "stderr",
     "output_type": "stream",
     "text": [
      "  2%|▏         | 1518/79401 [00:33<17:29, 74.22it/s]"
     ]
    },
    {
     "name": "stdout",
     "output_type": "stream",
     "text": [
      "sum loss: 2059.217083306579\n"
     ]
    },
    {
     "name": "stderr",
     "output_type": "stream",
     "text": [
      "  2%|▏         | 1821/79401 [00:37<14:53, 86.83it/s]"
     ]
    },
    {
     "name": "stdout",
     "output_type": "stream",
     "text": [
      "sum loss: 2399.6513502717166\n"
     ]
    },
    {
     "name": "stderr",
     "output_type": "stream",
     "text": [
      "  3%|▎         | 2118/79401 [00:40<13:57, 92.26it/s]"
     ]
    },
    {
     "name": "stdout",
     "output_type": "stream",
     "text": [
      "sum loss: 2821.210875093155\n"
     ]
    },
    {
     "name": "stderr",
     "output_type": "stream",
     "text": [
      "  3%|▎         | 2443/79401 [00:43<11:58, 107.18it/s]"
     ]
    },
    {
     "name": "stdout",
     "output_type": "stream",
     "text": [
      "sum loss: 3267.8681320365945\n"
     ]
    },
    {
     "name": "stderr",
     "output_type": "stream",
     "text": [
      "  4%|▎         | 2843/79401 [00:47<11:18, 112.92it/s]"
     ]
    },
    {
     "name": "stdout",
     "output_type": "stream",
     "text": [
      "sum loss: 3656.828652323795\n"
     ]
    },
    {
     "name": "stderr",
     "output_type": "stream",
     "text": [
      "  4%|▍         | 3239/79401 [00:51<12:20, 102.85it/s]"
     ]
    },
    {
     "name": "stdout",
     "output_type": "stream",
     "text": [
      "sum loss: 3964.164475322386\n"
     ]
    },
    {
     "name": "stderr",
     "output_type": "stream",
     "text": [
      "  5%|▍         | 3728/79401 [00:55<11:02, 114.15it/s]"
     ]
    },
    {
     "name": "stdout",
     "output_type": "stream",
     "text": [
      "sum loss: 4424.2065535670445\n"
     ]
    },
    {
     "name": "stderr",
     "output_type": "stream",
     "text": [
      "  5%|▌         | 4239/79401 [00:59<09:11, 136.24it/s]"
     ]
    },
    {
     "name": "stdout",
     "output_type": "stream",
     "text": [
      "sum loss: 4732.717007007187\n"
     ]
    },
    {
     "name": "stderr",
     "output_type": "stream",
     "text": [
      "  6%|▌         | 4851/79401 [01:03<08:29, 146.21it/s]"
     ]
    },
    {
     "name": "stdout",
     "output_type": "stream",
     "text": [
      "sum loss: 5163.201104014792\n"
     ]
    },
    {
     "name": "stderr",
     "output_type": "stream",
     "text": [
      "  7%|▋         | 5496/79401 [01:08<08:22, 147.09it/s]"
     ]
    },
    {
     "name": "stdout",
     "output_type": "stream",
     "text": [
      "sum loss: 5645.389974263727\n"
     ]
    },
    {
     "name": "stderr",
     "output_type": "stream",
     "text": [
      "  8%|▊         | 6211/79401 [01:12<07:16, 167.74it/s]"
     ]
    },
    {
     "name": "stdout",
     "output_type": "stream",
     "text": [
      "sum loss: 6147.7528956016495\n"
     ]
    },
    {
     "name": "stderr",
     "output_type": "stream",
     "text": [
      "  9%|▉         | 7033/79401 [01:17<06:04, 198.66it/s]"
     ]
    },
    {
     "name": "stdout",
     "output_type": "stream",
     "text": [
      "sum loss: 6692.066170013604\n"
     ]
    },
    {
     "name": "stderr",
     "output_type": "stream",
     "text": [
      " 10%|▉         | 7924/79401 [01:21<05:53, 202.31it/s]"
     ]
    },
    {
     "name": "stdout",
     "output_type": "stream",
     "text": [
      "sum loss: 7263.902010477488\n"
     ]
    },
    {
     "name": "stderr",
     "output_type": "stream",
     "text": [
      " 11%|█▏        | 8939/79401 [01:26<05:25, 216.44it/s]"
     ]
    },
    {
     "name": "stdout",
     "output_type": "stream",
     "text": [
      "sum loss: 7866.427587741515\n"
     ]
    },
    {
     "name": "stderr",
     "output_type": "stream",
     "text": [
      " 13%|█▎        | 10033/79401 [01:31<04:57, 232.91it/s]"
     ]
    },
    {
     "name": "stdout",
     "output_type": "stream",
     "text": [
      "sum loss: 8533.275605028099\n"
     ]
    },
    {
     "name": "stderr",
     "output_type": "stream",
     "text": [
      " 14%|█▍        | 11269/79401 [01:36<04:53, 231.86it/s]"
     ]
    },
    {
     "name": "stdout",
     "output_type": "stream",
     "text": [
      "sum loss: 9173.656664793576\n"
     ]
    },
    {
     "name": "stderr",
     "output_type": "stream",
     "text": [
      " 16%|█▌        | 12645/79401 [01:41<04:32, 244.65it/s]"
     ]
    },
    {
     "name": "stdout",
     "output_type": "stream",
     "text": [
      "sum loss: 9774.540782990442\n"
     ]
    },
    {
     "name": "stderr",
     "output_type": "stream",
     "text": [
      " 18%|█▊        | 14169/79401 [01:47<03:59, 272.28it/s]"
     ]
    },
    {
     "name": "stdout",
     "output_type": "stream",
     "text": [
      "sum loss: 10391.04519039438\n"
     ]
    },
    {
     "name": "stderr",
     "output_type": "stream",
     "text": [
      " 20%|█▉        | 15850/79401 [01:53<03:55, 269.62it/s]"
     ]
    },
    {
     "name": "stdout",
     "output_type": "stream",
     "text": [
      "sum loss: 11013.416114948302\n"
     ]
    },
    {
     "name": "stderr",
     "output_type": "stream",
     "text": [
      " 22%|██▏       | 17674/79401 [02:00<03:37, 284.41it/s]"
     ]
    },
    {
     "name": "stdout",
     "output_type": "stream",
     "text": [
      "sum loss: 11754.91106438817\n"
     ]
    },
    {
     "name": "stderr",
     "output_type": "stream",
     "text": [
      " 25%|██▍       | 19738/79401 [02:07<03:28, 286.28it/s]"
     ]
    },
    {
     "name": "stdout",
     "output_type": "stream",
     "text": [
      "sum loss: 12517.635172137363\n"
     ]
    },
    {
     "name": "stderr",
     "output_type": "stream",
     "text": [
      " 28%|██▊       | 22024/79401 [02:14<03:07, 306.81it/s]"
     ]
    },
    {
     "name": "stdout",
     "output_type": "stream",
     "text": [
      "sum loss: 13454.487046804057\n"
     ]
    },
    {
     "name": "stderr",
     "output_type": "stream",
     "text": [
      " 31%|███       | 24551/79401 [02:23<02:53, 315.89it/s]"
     ]
    },
    {
     "name": "stdout",
     "output_type": "stream",
     "text": [
      "sum loss: 14226.116620861534\n"
     ]
    },
    {
     "name": "stderr",
     "output_type": "stream",
     "text": [
      " 34%|███▍      | 27352/79401 [02:31<02:31, 343.59it/s]"
     ]
    },
    {
     "name": "stdout",
     "output_type": "stream",
     "text": [
      "sum loss: 15407.242069434355\n"
     ]
    },
    {
     "name": "stderr",
     "output_type": "stream",
     "text": [
      " 38%|███▊      | 30451/79401 [02:40<02:17, 355.31it/s]"
     ]
    },
    {
     "name": "stdout",
     "output_type": "stream",
     "text": [
      "sum loss: 16477.130632546454\n"
     ]
    },
    {
     "name": "stderr",
     "output_type": "stream",
     "text": [
      " 42%|████▏     | 33651/79401 [02:49<02:05, 365.35it/s]"
     ]
    },
    {
     "name": "stdout",
     "output_type": "stream",
     "text": [
      "sum loss: 17495.49624508772\n"
     ]
    },
    {
     "name": "stderr",
     "output_type": "stream",
     "text": [
      " 46%|████▋     | 36851/79401 [02:58<01:58, 358.01it/s]"
     ]
    },
    {
     "name": "stdout",
     "output_type": "stream",
     "text": [
      "sum loss: 18538.39103867403\n"
     ]
    },
    {
     "name": "stderr",
     "output_type": "stream",
     "text": [
      " 50%|█████     | 40051/79401 [03:07<01:49, 360.79it/s]"
     ]
    },
    {
     "name": "stdout",
     "output_type": "stream",
     "text": [
      "sum loss: 19717.997217930955\n"
     ]
    },
    {
     "name": "stderr",
     "output_type": "stream",
     "text": [
      " 55%|█████▍    | 43283/79401 [03:16<01:45, 343.37it/s]"
     ]
    },
    {
     "name": "stdout",
     "output_type": "stream",
     "text": [
      "sum loss: 20568.716381733168\n"
     ]
    },
    {
     "name": "stderr",
     "output_type": "stream",
     "text": [
      " 59%|█████▊    | 46483/79401 [03:25<01:34, 347.04it/s]"
     ]
    },
    {
     "name": "stdout",
     "output_type": "stream",
     "text": [
      "sum loss: 21626.677458011072\n"
     ]
    },
    {
     "name": "stderr",
     "output_type": "stream",
     "text": [
      " 63%|██████▎   | 49683/79401 [03:34<01:18, 380.76it/s]"
     ]
    },
    {
     "name": "stdout",
     "output_type": "stream",
     "text": [
      "sum loss: 22507.087900873466\n"
     ]
    },
    {
     "name": "stderr",
     "output_type": "stream",
     "text": [
      " 67%|██████▋   | 52883/79401 [03:43<01:17, 340.64it/s]"
     ]
    },
    {
     "name": "stdout",
     "output_type": "stream",
     "text": [
      "sum loss: 23460.401306738368\n"
     ]
    },
    {
     "name": "stderr",
     "output_type": "stream",
     "text": [
      " 71%|███████   | 56019/79401 [03:51<01:03, 370.77it/s]"
     ]
    },
    {
     "name": "stdout",
     "output_type": "stream",
     "text": [
      "sum loss: 24332.456632624435\n"
     ]
    },
    {
     "name": "stderr",
     "output_type": "stream",
     "text": [
      " 75%|███████▍  | 59283/79401 [04:00<00:58, 345.74it/s]"
     ]
    },
    {
     "name": "stdout",
     "output_type": "stream",
     "text": [
      "sum loss: 25199.94116993985\n"
     ]
    },
    {
     "name": "stderr",
     "output_type": "stream",
     "text": [
      " 79%|███████▊  | 62483/79401 [04:09<00:46, 361.63it/s]"
     ]
    },
    {
     "name": "stdout",
     "output_type": "stream",
     "text": [
      "sum loss: 25944.18539809857\n"
     ]
    },
    {
     "name": "stderr",
     "output_type": "stream",
     "text": [
      " 83%|████████▎ | 65683/79401 [04:18<00:36, 370.78it/s]"
     ]
    },
    {
     "name": "stdout",
     "output_type": "stream",
     "text": [
      "sum loss: 26681.359126513235\n"
     ]
    },
    {
     "name": "stderr",
     "output_type": "stream",
     "text": [
      " 87%|████████▋ | 68883/79401 [04:27<00:29, 356.41it/s]"
     ]
    },
    {
     "name": "stdout",
     "output_type": "stream",
     "text": [
      "sum loss: 27468.153817950133\n"
     ]
    },
    {
     "name": "stderr",
     "output_type": "stream",
     "text": [
      " 91%|█████████ | 72083/79401 [04:36<00:20, 363.70it/s]"
     ]
    },
    {
     "name": "stdout",
     "output_type": "stream",
     "text": [
      "sum loss: 28253.04511782736\n"
     ]
    },
    {
     "name": "stderr",
     "output_type": "stream",
     "text": [
      " 95%|█████████▍| 75283/79401 [04:46<00:11, 366.74it/s]"
     ]
    },
    {
     "name": "stdout",
     "output_type": "stream",
     "text": [
      "sum loss: 28964.45932148384\n"
     ]
    },
    {
     "name": "stderr",
     "output_type": "stream",
     "text": [
      " 99%|█████████▉| 78483/79401 [04:54<00:02, 376.34it/s]"
     ]
    },
    {
     "name": "stdout",
     "output_type": "stream",
     "text": [
      "sum loss: 29700.21822803571\n"
     ]
    },
    {
     "name": "stderr",
     "output_type": "stream",
     "text": [
      "100%|██████████| 79401/79401 [04:57<00:00, 266.75it/s]\n"
     ]
    },
    {
     "name": "stdout",
     "output_type": "stream",
     "text": [
      "Saved model to /nfs/gns/literature/Santosh_Tirunagari/GitHub/spacy_models/pubmed-pmc-sm/0\n",
      "Loading from /nfs/gns/literature/Santosh_Tirunagari/GitHub/spacy_models/pubmed-pmc-sm/0\n"
     ]
    },
    {
     "name": "stderr",
     "output_type": "stream",
     "text": [
      "  0%|          | 35/16068 [00:00<00:47, 339.81it/s]"
     ]
    },
    {
     "name": "stdout",
     "output_type": "stream",
     "text": [
      "Evaluating 16068 rows\n"
     ]
    },
    {
     "name": "stderr",
     "output_type": "stream",
     "text": [
      "  6%|▋         | 1041/16068 [00:02<00:41, 362.36it/s]"
     ]
    },
    {
     "name": "stdout",
     "output_type": "stream",
     "text": [
      "precision-GP: 0.9557522123893797\n",
      "recall-GP: 0.9075630252100833\n",
      "f1-measure-GP: 0.93103448275857\n",
      "precision-untyped: 0.8361581920903952\n",
      "recall-untyped: 0.7648578811369506\n",
      "f1-measure-untyped: 0.7989203778676961\n",
      "precision-DS: 0.8064516129032252\n",
      "recall-DS: 0.854700854700854\n",
      "f1-measure-DS: 0.8298755186721487\n",
      "precision-OG: 0.7521367521367515\n",
      "recall-OG: 0.5827814569536419\n",
      "f1-measure-OG: 0.656716417910398\n",
      "precision-overall: 0.8361581920903952\n",
      "recall-overall: 0.7648578811369506\n",
      "f1-measure-overall: 0.7989203778676961\n"
     ]
    },
    {
     "name": "stderr",
     "output_type": "stream",
     "text": [
      " 13%|█▎        | 2033/16068 [00:05<00:33, 418.43it/s]"
     ]
    },
    {
     "name": "stdout",
     "output_type": "stream",
     "text": [
      "precision-GP: 0.6981981981981978\n",
      "recall-GP: 0.8201058201058196\n",
      "f1-measure-GP: 0.754257907542529\n",
      "precision-untyped: 0.8348837209302324\n",
      "recall-untyped: 0.8339140534262485\n",
      "f1-measure-untyped: 0.8343986054618907\n",
      "precision-DS: 0.8297872340425527\n",
      "recall-DS: 0.876404494382022\n",
      "f1-measure-DS: 0.8524590163933923\n",
      "precision-OG: 0.9044444444444442\n",
      "recall-OG: 0.8238866396761132\n",
      "f1-measure-OG: 0.8622881355931703\n",
      "precision-overall: 0.8348837209302324\n",
      "recall-overall: 0.8339140534262485\n",
      "f1-measure-overall: 0.8343986054618907\n"
     ]
    },
    {
     "name": "stderr",
     "output_type": "stream",
     "text": [
      " 19%|█▉        | 3051/16068 [00:09<00:43, 296.99it/s]"
     ]
    },
    {
     "name": "stdout",
     "output_type": "stream",
     "text": [
      "precision-GP: 0.583170254403131\n",
      "recall-GP: 0.8186813186813184\n",
      "f1-measure-GP: 0.6811428571428084\n",
      "precision-untyped: 0.7559440559440559\n",
      "recall-untyped: 0.8373353989155693\n",
      "f1-measure-untyped: 0.7945608232267051\n",
      "precision-DS: 0.8152173913043474\n",
      "recall-DS: 0.862068965517241\n",
      "f1-measure-DS: 0.8379888268155923\n",
      "precision-OG: 0.8646967340590979\n",
      "recall-OG: 0.8348348348348347\n",
      "f1-measure-OG: 0.8495034377386819\n",
      "precision-overall: 0.7545454545454545\n",
      "recall-overall: 0.8357862122385747\n",
      "f1-measure-overall: 0.7930907754501523\n"
     ]
    },
    {
     "name": "stderr",
     "output_type": "stream",
     "text": [
      " 25%|██▌       | 4055/16068 [00:11<00:38, 310.88it/s]"
     ]
    },
    {
     "name": "stdout",
     "output_type": "stream",
     "text": [
      "precision-GP: 0.6042031523642731\n",
      "recall-GP: 0.8079625292740045\n",
      "f1-measure-GP: 0.6913827655310131\n",
      "precision-untyped: 0.7690930787589498\n",
      "recall-untyped: 0.8106918238993711\n",
      "f1-measure-untyped: 0.7893447642375495\n",
      "precision-DS: 0.8141891891891889\n",
      "recall-DS: 0.8515901060070667\n",
      "f1-measure-DS: 0.8324697754749066\n",
      "precision-OG: 0.8640296662546352\n",
      "recall-OG: 0.7943181818181817\n",
      "f1-measure-OG: 0.8277087033747279\n",
      "precision-overall: 0.7667064439140812\n",
      "recall-overall: 0.8081761006289309\n",
      "f1-measure-overall: 0.7868952847519401\n"
     ]
    },
    {
     "name": "stderr",
     "output_type": "stream",
     "text": [
      " 32%|███▏      | 5062/16068 [00:14<00:32, 333.74it/s]"
     ]
    },
    {
     "name": "stdout",
     "output_type": "stream",
     "text": [
      "precision-GP: 0.6387195121951218\n",
      "recall-GP: 0.798095238095238\n",
      "f1-measure-GP: 0.7095681625740403\n",
      "precision-untyped: 0.7886847195357833\n",
      "recall-untyped: 0.8159079539769885\n",
      "f1-measure-untyped: 0.8020654044749931\n",
      "precision-DS: 0.809628008752735\n",
      "recall-DS: 0.8167770419426047\n",
      "f1-measure-DS: 0.8131868131867631\n",
      "precision-OG: 0.8774869109947643\n",
      "recall-OG: 0.820763956904995\n",
      "f1-measure-OG: 0.8481781376517717\n",
      "precision-overall: 0.7867504835589942\n",
      "recall-overall: 0.8139069534767384\n",
      "f1-measure-overall: 0.8000983525939998\n"
     ]
    },
    {
     "name": "stderr",
     "output_type": "stream",
     "text": [
      " 38%|███▊      | 6035/16068 [00:17<00:30, 328.24it/s]"
     ]
    },
    {
     "name": "stdout",
     "output_type": "stream",
     "text": [
      "precision-GP: 0.6688829787234042\n",
      "recall-GP: 0.803514376996805\n",
      "f1-measure-GP: 0.7300435413642463\n",
      "precision-untyped: 0.7779497098646034\n",
      "recall-untyped: 0.8279127212844792\n",
      "f1-measure-untyped: 0.8021539688870661\n",
      "precision-DS: 0.7909836065573769\n",
      "recall-DS: 0.8212765957446807\n",
      "f1-measure-DS: 0.8058455114822046\n",
      "precision-OG: 0.8304832713754647\n",
      "recall-OG: 0.8379594898724682\n",
      "f1-measure-OG: 0.8342046303210853\n",
      "precision-overall: 0.7760154738878143\n",
      "recall-overall: 0.8258542610127625\n",
      "f1-measure-overall: 0.8001595532508476\n"
     ]
    },
    {
     "name": "stderr",
     "output_type": "stream",
     "text": [
      " 44%|████▍     | 7044/16068 [00:20<00:31, 287.60it/s]"
     ]
    },
    {
     "name": "stdout",
     "output_type": "stream",
     "text": [
      "precision-GP: 0.707452725250278\n",
      "recall-GP: 0.8132992327365728\n",
      "f1-measure-GP: 0.7566924449731803\n",
      "precision-untyped: 0.807810578105781\n",
      "recall-untyped: 0.8398337595907929\n",
      "f1-measure-untyped: 0.8235109717867839\n",
      "precision-DS: 0.8086124401913874\n",
      "recall-DS: 0.7897196261682241\n",
      "f1-measure-DS: 0.7990543735224084\n",
      "precision-OG: 0.8383545770567786\n",
      "recall-OG: 0.8491784037558685\n",
      "f1-measure-OG: 0.8437317784256059\n",
      "precision-overall: 0.7964329643296433\n",
      "recall-overall: 0.828005115089514\n",
      "f1-measure-overall: 0.8119122257052792\n"
     ]
    },
    {
     "name": "stderr",
     "output_type": "stream",
     "text": [
      " 50%|█████     | 8039/16068 [00:24<00:27, 293.40it/s]"
     ]
    },
    {
     "name": "stdout",
     "output_type": "stream",
     "text": [
      "precision-GP: 0.7202337472607743\n",
      "recall-GP: 0.8588850174216028\n",
      "f1-measure-GP: 0.7834723877631605\n",
      "precision-untyped: 0.7963008031151132\n",
      "recall-untyped: 0.8250126071608673\n",
      "f1-measure-untyped: 0.8104024767801358\n",
      "precision-DS: 0.7983963344788086\n",
      "recall-DS: 0.6949152542372881\n",
      "f1-measure-DS: 0.7430703624732978\n",
      "precision-OG: 0.8312801285484734\n",
      "recall-OG: 0.8550964187327824\n",
      "f1-measure-OG: 0.8430200977728994\n",
      "precision-overall: 0.7872961791190071\n",
      "recall-overall: 0.8156833081190116\n",
      "f1-measure-overall: 0.8012383900928292\n"
     ]
    },
    {
     "name": "stderr",
     "output_type": "stream",
     "text": [
      " 56%|█████▋    | 9075/16068 [00:27<00:20, 346.00it/s]"
     ]
    },
    {
     "name": "stdout",
     "output_type": "stream",
     "text": [
      "precision-GP: 0.7119021134593994\n",
      "recall-GP: 0.84155161078238\n",
      "f1-measure-GP: 0.7713166616450242\n",
      "precision-untyped: 0.7875412541254125\n",
      "recall-untyped: 0.8158119658119658\n",
      "f1-measure-untyped: 0.8014273719562892\n",
      "precision-DS: 0.7939914163090128\n",
      "recall-DS: 0.6987724268177526\n",
      "f1-measure-DS: 0.7433450527372683\n",
      "precision-OG: 0.8305004721435316\n",
      "recall-OG: 0.8376190476190476\n",
      "f1-measure-OG: 0.8340445708866262\n",
      "precision-overall: 0.779496699669967\n",
      "recall-overall: 0.8074786324786325\n",
      "f1-measure-overall: 0.7932409739714027\n"
     ]
    },
    {
     "name": "stderr",
     "output_type": "stream",
     "text": [
      " 63%|██████▎   | 10058/16068 [00:29<00:12, 462.80it/s]"
     ]
    },
    {
     "name": "stdout",
     "output_type": "stream",
     "text": [
      "precision-GP: 0.696149843912591\n",
      "recall-GP: 0.8425692695214105\n",
      "f1-measure-GP: 0.7623931623931128\n",
      "precision-untyped: 0.7759551910382076\n",
      "recall-untyped: 0.8166315789473684\n",
      "f1-measure-untyped: 0.7957739255307736\n",
      "precision-DS: 0.7747653806047966\n",
      "recall-DS: 0.699623352165725\n",
      "f1-measure-DS: 0.7352795645719442\n",
      "precision-OG: 0.8305004721435316\n",
      "recall-OG: 0.8376190476190476\n",
      "f1-measure-OG: 0.8340445708866262\n",
      "precision-overall: 0.7681536307261452\n",
      "recall-overall: 0.8084210526315789\n",
      "f1-measure-overall: 0.7877731049337895\n"
     ]
    },
    {
     "name": "stderr",
     "output_type": "stream",
     "text": [
      " 69%|██████▊   | 11036/16068 [00:32<00:20, 242.33it/s]"
     ]
    },
    {
     "name": "stdout",
     "output_type": "stream",
     "text": [
      "precision-GP: 0.6886792452830188\n",
      "recall-GP: 0.8390804597701149\n",
      "f1-measure-GP: 0.7564766839377743\n",
      "precision-untyped: 0.7627924671866083\n",
      "recall-untyped: 0.815206342752592\n",
      "f1-measure-untyped: 0.7881289308175603\n",
      "precision-DS: 0.7212962962962963\n",
      "recall-DS: 0.6961572832886506\n",
      "f1-measure-DS: 0.7085038653933107\n",
      "precision-OG: 0.8340268146093389\n",
      "recall-OG: 0.8402421984163949\n",
      "f1-measure-OG: 0.837122969837537\n",
      "precision-overall: 0.7551835647707819\n",
      "recall-overall: 0.8070746086602968\n",
      "f1-measure-overall: 0.7802672955974344\n"
     ]
    },
    {
     "name": "stderr",
     "output_type": "stream",
     "text": [
      " 75%|███████▍  | 12035/16068 [00:35<00:10, 367.58it/s]"
     ]
    },
    {
     "name": "stdout",
     "output_type": "stream",
     "text": [
      "precision-GP: 0.6999089253187614\n",
      "recall-GP: 0.8445054945054945\n",
      "f1-measure-GP: 0.7654382470119026\n",
      "precision-untyped: 0.7629364368845121\n",
      "recall-untyped: 0.8016933207902164\n",
      "f1-measure-untyped: 0.7818348623852711\n",
      "precision-DS: 0.7145228215767635\n",
      "recall-DS: 0.658256880733945\n",
      "f1-measure-DS: 0.6852367688021785\n",
      "precision-OG: 0.8347069597069597\n",
      "recall-OG: 0.8335619570187471\n",
      "f1-measure-OG: 0.8341340654312016\n",
      "precision-overall: 0.7557743957027753\n",
      "recall-overall: 0.794167450611477\n",
      "f1-measure-overall: 0.7744954128439868\n"
     ]
    },
    {
     "name": "stderr",
     "output_type": "stream",
     "text": [
      " 81%|████████  | 13055/16068 [00:38<00:09, 325.89it/s]"
     ]
    },
    {
     "name": "stdout",
     "output_type": "stream",
     "text": [
      "precision-GP: 0.7166465135026199\n",
      "recall-GP: 0.8355263157894737\n",
      "f1-measure-GP: 0.7715339553047886\n",
      "precision-untyped: 0.7700387847446671\n",
      "recall-untyped: 0.8028643639427128\n",
      "f1-measure-untyped: 0.7861090489152351\n",
      "precision-DS: 0.7225760792639774\n",
      "recall-DS: 0.6779548472775564\n",
      "f1-measure-DS: 0.6995546420006352\n",
      "precision-OG: 0.8395815170008718\n",
      "recall-OG: 0.8370273794002607\n",
      "f1-measure-OG: 0.8383025027202982\n",
      "precision-overall: 0.7635746606334841\n",
      "recall-overall: 0.7961246840775064\n",
      "f1-measure-overall: 0.779510022271665\n"
     ]
    },
    {
     "name": "stderr",
     "output_type": "stream",
     "text": [
      " 87%|████████▋ | 14059/16068 [00:41<00:05, 383.83it/s]"
     ]
    },
    {
     "name": "stdout",
     "output_type": "stream",
     "text": [
      "precision-GP: 0.7259600614439324\n",
      "recall-GP: 0.8391335227272727\n",
      "f1-measure-GP: 0.7784549497611098\n",
      "precision-untyped: 0.7674863387978142\n",
      "recall-untyped: 0.8076480736055204\n",
      "f1-measure-untyped: 0.7870551975342734\n",
      "precision-DS: 0.7389100126742713\n",
      "recall-DS: 0.6948748510131109\n",
      "f1-measure-DS: 0.7162162162161663\n",
      "precision-OG: 0.8218737434660234\n",
      "recall-OG: 0.8302193338748984\n",
      "f1-measure-OG: 0.8260254596887759\n",
      "precision-overall: 0.7613387978142077\n",
      "recall-overall: 0.801178838412881\n",
      "f1-measure-overall: 0.7807509106191711\n"
     ]
    },
    {
     "name": "stderr",
     "output_type": "stream",
     "text": [
      " 94%|█████████▎| 15044/16068 [00:44<00:03, 299.61it/s]"
     ]
    },
    {
     "name": "stdout",
     "output_type": "stream",
     "text": [
      "precision-GP: 0.7545003913383772\n",
      "recall-GP: 0.8225255972696246\n",
      "f1-measure-GP: 0.7870458565790766\n",
      "precision-untyped: 0.787292817679558\n",
      "recall-untyped: 0.79483448526737\n",
      "f1-measure-untyped: 0.7910456767030214\n",
      "precision-DS: 0.7651345291479821\n",
      "recall-DS: 0.6616577799321377\n",
      "f1-measure-DS: 0.7096438783467139\n",
      "precision-OG: 0.8276116648209672\n",
      "recall-OG: 0.8403298350824587\n",
      "f1-measure-OG: 0.833922261484049\n",
      "precision-overall: 0.7805668988710065\n",
      "recall-overall: 0.7880441372620347\n",
      "f1-measure-overall: 0.7842876968562826\n"
     ]
    },
    {
     "name": "stderr",
     "output_type": "stream",
     "text": [
      "100%|█████████▉| 16054/16068 [00:47<00:00, 328.65it/s]"
     ]
    },
    {
     "name": "stdout",
     "output_type": "stream",
     "text": [
      "precision-GP: 0.7558054265460767\n",
      "recall-GP: 0.8234354194407457\n",
      "f1-measure-GP: 0.7881723171042071\n",
      "precision-untyped: 0.795110078548512\n",
      "recall-untyped: 0.798466837018109\n",
      "f1-measure-untyped: 0.7967849223946285\n",
      "precision-DS: 0.7858565737051793\n",
      "recall-DS: 0.6804657179818887\n",
      "f1-measure-DS: 0.7293737000230609\n",
      "precision-OG: 0.8367346938775511\n",
      "recall-OG: 0.8404509736932012\n",
      "f1-measure-OG: 0.8385887165501461\n",
      "precision-overall: 0.7888040712468194\n",
      "recall-overall: 0.7921342073102988\n",
      "f1-measure-overall: 0.7904656319289967\n"
     ]
    },
    {
     "name": "stderr",
     "output_type": "stream",
     "text": [
      "100%|██████████| 16068/16068 [00:47<00:00, 337.64it/s]\n",
      "  0%|          | 0/79401 [00:00<?, ?it/s]"
     ]
    },
    {
     "name": "stdout",
     "output_type": "stream",
     "text": [
      "precision-untyped: \t\t 0.7950674629506747\n",
      "recall-untyped: \t\t 0.7985116072420304\n",
      "f1-measure-untyped: \t\t 0.7967858132446162\n",
      "precision-overall: \t\t 0.7887635478876355\n",
      "recall-overall: \t\t 0.792180384316339\n",
      "f1-measure-overall: \t\t 0.7904682737599943\n",
      "1--10\n"
     ]
    },
    {
     "name": "stderr",
     "output_type": "stream",
     "text": [
      "  4%|▍         | 3264/79401 [00:09<03:21, 378.24it/s]"
     ]
    },
    {
     "name": "stdout",
     "output_type": "stream",
     "text": [
      "sum loss: 739.8081317156175\n"
     ]
    },
    {
     "name": "stderr",
     "output_type": "stream",
     "text": [
      "  8%|▊         | 6464/79401 [00:18<03:57, 306.89it/s]"
     ]
    },
    {
     "name": "stdout",
     "output_type": "stream",
     "text": [
      "sum loss: 1480.140354865427\n"
     ]
    },
    {
     "name": "stderr",
     "output_type": "stream",
     "text": [
      " 12%|█▏        | 9664/79401 [00:27<03:08, 369.28it/s]"
     ]
    },
    {
     "name": "stdout",
     "output_type": "stream",
     "text": [
      "sum loss: 2108.651538390295\n"
     ]
    },
    {
     "name": "stderr",
     "output_type": "stream",
     "text": [
      " 16%|█▌        | 12896/79401 [00:37<02:58, 373.47it/s]"
     ]
    },
    {
     "name": "stdout",
     "output_type": "stream",
     "text": [
      "sum loss: 2758.1894403627193\n"
     ]
    },
    {
     "name": "stderr",
     "output_type": "stream",
     "text": [
      " 20%|██        | 16064/79401 [00:46<02:55, 359.91it/s]"
     ]
    },
    {
     "name": "stdout",
     "output_type": "stream",
     "text": [
      "sum loss: 3454.5977553813345\n"
     ]
    },
    {
     "name": "stderr",
     "output_type": "stream",
     "text": [
      " 24%|██▍       | 19264/79401 [00:55<02:43, 368.89it/s]"
     ]
    },
    {
     "name": "stdout",
     "output_type": "stream",
     "text": [
      "sum loss: 4090.3862533325046\n"
     ]
    },
    {
     "name": "stderr",
     "output_type": "stream",
     "text": [
      " 28%|██▊       | 22464/79401 [01:03<02:34, 368.84it/s]"
     ]
    },
    {
     "name": "stdout",
     "output_type": "stream",
     "text": [
      "sum loss: 4998.88897397168\n"
     ]
    },
    {
     "name": "stderr",
     "output_type": "stream",
     "text": [
      " 32%|███▏      | 25664/79401 [01:12<02:35, 345.57it/s]"
     ]
    },
    {
     "name": "stdout",
     "output_type": "stream",
     "text": [
      "sum loss: 5651.629109918265\n"
     ]
    },
    {
     "name": "stderr",
     "output_type": "stream",
     "text": [
      " 36%|███▋      | 28864/79401 [01:21<02:22, 355.16it/s]"
     ]
    },
    {
     "name": "stdout",
     "output_type": "stream",
     "text": [
      "sum loss: 6370.150339875321\n"
     ]
    },
    {
     "name": "stderr",
     "output_type": "stream",
     "text": [
      " 40%|████      | 32064/79401 [01:31<02:16, 347.79it/s]"
     ]
    },
    {
     "name": "stdout",
     "output_type": "stream",
     "text": [
      "sum loss: 7005.723533610248\n"
     ]
    },
    {
     "name": "stderr",
     "output_type": "stream",
     "text": [
      " 44%|████▍     | 35264/79401 [01:40<02:03, 356.24it/s]"
     ]
    },
    {
     "name": "stdout",
     "output_type": "stream",
     "text": [
      "sum loss: 7675.119530607191\n"
     ]
    },
    {
     "name": "stderr",
     "output_type": "stream",
     "text": [
      " 48%|████▊     | 38496/79401 [01:49<01:54, 356.14it/s]"
     ]
    },
    {
     "name": "stdout",
     "output_type": "stream",
     "text": [
      "sum loss: 8367.609741384136\n"
     ]
    },
    {
     "name": "stderr",
     "output_type": "stream",
     "text": [
      " 53%|█████▎    | 41696/79401 [01:58<01:45, 356.57it/s]"
     ]
    },
    {
     "name": "stdout",
     "output_type": "stream",
     "text": [
      "sum loss: 8931.844420685597\n"
     ]
    },
    {
     "name": "stderr",
     "output_type": "stream",
     "text": [
      " 57%|█████▋    | 44896/79401 [02:07<01:36, 358.40it/s]"
     ]
    },
    {
     "name": "stdout",
     "output_type": "stream",
     "text": [
      "sum loss: 9569.318985703787\n"
     ]
    },
    {
     "name": "stderr",
     "output_type": "stream",
     "text": [
      " 61%|██████    | 48096/79401 [02:16<01:26, 363.70it/s]"
     ]
    },
    {
     "name": "stdout",
     "output_type": "stream",
     "text": [
      "sum loss: 10288.783095917406\n"
     ]
    },
    {
     "name": "stderr",
     "output_type": "stream",
     "text": [
      " 65%|██████▍   | 51296/79401 [02:25<01:17, 360.36it/s]"
     ]
    },
    {
     "name": "stdout",
     "output_type": "stream",
     "text": [
      "sum loss: 10826.188333434005\n"
     ]
    },
    {
     "name": "stderr",
     "output_type": "stream",
     "text": [
      " 69%|██████▊   | 54496/79401 [02:34<01:14, 332.98it/s]"
     ]
    },
    {
     "name": "stdout",
     "output_type": "stream",
     "text": [
      "sum loss: 11516.807444327711\n"
     ]
    },
    {
     "name": "stderr",
     "output_type": "stream",
     "text": [
      " 73%|███████▎  | 57696/79401 [02:43<01:02, 348.22it/s]"
     ]
    },
    {
     "name": "stdout",
     "output_type": "stream",
     "text": [
      "sum loss: 12231.374813367085\n"
     ]
    },
    {
     "name": "stderr",
     "output_type": "stream",
     "text": [
      " 77%|███████▋  | 60896/79401 [02:52<00:53, 346.55it/s]"
     ]
    },
    {
     "name": "stdout",
     "output_type": "stream",
     "text": [
      "sum loss: 12920.40302832507\n"
     ]
    },
    {
     "name": "stderr",
     "output_type": "stream",
     "text": [
      " 81%|████████  | 64032/79401 [03:01<00:44, 345.81it/s]"
     ]
    },
    {
     "name": "stdout",
     "output_type": "stream",
     "text": [
      "sum loss: 13463.088040275603\n"
     ]
    },
    {
     "name": "stderr",
     "output_type": "stream",
     "text": [
      " 85%|████████▍ | 67264/79401 [03:10<00:34, 348.92it/s]"
     ]
    },
    {
     "name": "stdout",
     "output_type": "stream",
     "text": [
      "sum loss: 14134.652886116357\n"
     ]
    },
    {
     "name": "stderr",
     "output_type": "stream",
     "text": [
      " 89%|████████▊ | 70464/79401 [03:19<00:23, 377.13it/s]"
     ]
    },
    {
     "name": "stdout",
     "output_type": "stream",
     "text": [
      "sum loss: 14830.035166201978\n"
     ]
    },
    {
     "name": "stderr",
     "output_type": "stream",
     "text": [
      " 93%|█████████▎| 73664/79401 [03:28<00:15, 365.64it/s]"
     ]
    },
    {
     "name": "stdout",
     "output_type": "stream",
     "text": [
      "sum loss: 15509.057869950586\n"
     ]
    },
    {
     "name": "stderr",
     "output_type": "stream",
     "text": [
      " 97%|█████████▋| 76864/79401 [03:37<00:07, 351.37it/s]"
     ]
    },
    {
     "name": "stdout",
     "output_type": "stream",
     "text": [
      "sum loss: 16073.023712281356\n"
     ]
    },
    {
     "name": "stderr",
     "output_type": "stream",
     "text": [
      "100%|██████████| 79401/79401 [03:44<00:00, 353.84it/s]\n"
     ]
    },
    {
     "name": "stdout",
     "output_type": "stream",
     "text": [
      "Saved model to /nfs/gns/literature/Santosh_Tirunagari/GitHub/spacy_models/pubmed-pmc-sm/1\n",
      "Loading from /nfs/gns/literature/Santosh_Tirunagari/GitHub/spacy_models/pubmed-pmc-sm/1\n"
     ]
    },
    {
     "name": "stderr",
     "output_type": "stream",
     "text": [
      "  0%|          | 33/16068 [00:00<00:48, 327.30it/s]"
     ]
    },
    {
     "name": "stdout",
     "output_type": "stream",
     "text": [
      "Evaluating 16068 rows\n"
     ]
    },
    {
     "name": "stderr",
     "output_type": "stream",
     "text": [
      "  7%|▋         | 1051/16068 [00:02<00:42, 352.18it/s]"
     ]
    },
    {
     "name": "stdout",
     "output_type": "stream",
     "text": [
      "precision-GP: 0.9568965517241371\n",
      "recall-GP: 0.9327731092436967\n",
      "f1-measure-GP: 0.944680851063779\n",
      "precision-untyped: 0.796833773087071\n",
      "recall-untyped: 0.7803617571059429\n",
      "f1-measure-untyped: 0.7885117493472082\n",
      "precision-DS: 0.798387096774193\n",
      "recall-DS: 0.8461538461538455\n",
      "f1-measure-DS: 0.8215767634854266\n",
      "precision-OG: 0.6618705035971217\n",
      "recall-OG: 0.6092715231788075\n",
      "f1-measure-OG: 0.6344827586206393\n",
      "precision-overall: 0.796833773087071\n",
      "recall-overall: 0.7803617571059429\n",
      "f1-measure-overall: 0.7885117493472082\n"
     ]
    },
    {
     "name": "stderr",
     "output_type": "stream",
     "text": [
      " 13%|█▎        | 2044/16068 [00:05<00:34, 408.88it/s]"
     ]
    },
    {
     "name": "stdout",
     "output_type": "stream",
     "text": [
      "precision-GP: 0.7066666666666663\n",
      "recall-GP: 0.8412698412698407\n",
      "f1-measure-GP: 0.7681159420289355\n",
      "precision-untyped: 0.7922535211267605\n",
      "recall-untyped: 0.78397212543554\n",
      "f1-measure-untyped: 0.7880910683011758\n",
      "precision-DS: 0.8244680851063825\n",
      "recall-DS: 0.870786516853932\n",
      "f1-measure-DS: 0.8469945355190752\n",
      "precision-OG: 0.8223234624145783\n",
      "recall-OG: 0.7307692307692306\n",
      "f1-measure-OG: 0.7738478027866595\n",
      "precision-overall: 0.7922535211267605\n",
      "recall-overall: 0.78397212543554\n",
      "f1-measure-overall: 0.7880910683011758\n"
     ]
    },
    {
     "name": "stderr",
     "output_type": "stream",
     "text": [
      " 19%|█▉        | 3054/16068 [00:09<00:45, 288.59it/s]"
     ]
    },
    {
     "name": "stdout",
     "output_type": "stream",
     "text": [
      "precision-GP: 0.6079207920792078\n",
      "recall-GP: 0.8434065934065932\n",
      "f1-measure-GP: 0.70655926352124\n",
      "precision-untyped: 0.7415014164305949\n",
      "recall-untyped: 0.8109992254066615\n",
      "f1-measure-untyped: 0.774694783573757\n",
      "precision-DS: 0.8208955223880594\n",
      "recall-DS: 0.8429118773946357\n",
      "f1-measure-DS: 0.8317580340264147\n",
      "precision-OG: 0.8106416275430358\n",
      "recall-OG: 0.7777777777777777\n",
      "f1-measure-OG: 0.7938697318007163\n",
      "precision-overall: 0.740084985835694\n",
      "recall-overall: 0.8094500387296669\n",
      "f1-measure-overall: 0.773214946355851\n"
     ]
    },
    {
     "name": "stderr",
     "output_type": "stream",
     "text": [
      " 25%|██▌       | 4046/16068 [00:11<00:38, 312.16it/s]"
     ]
    },
    {
     "name": "stdout",
     "output_type": "stream",
     "text": [
      "precision-GP: 0.6247787610619467\n",
      "recall-GP: 0.8266978922716626\n",
      "f1-measure-GP: 0.7116935483870476\n",
      "precision-untyped: 0.753465943339361\n",
      "recall-untyped: 0.7861635220125787\n",
      "f1-measure-untyped: 0.7694675284702485\n",
      "precision-DS: 0.8200692041522488\n",
      "recall-DS: 0.8374558303886922\n",
      "f1-measure-DS: 0.8286713286712785\n",
      "precision-OG: 0.8161490683229813\n",
      "recall-OG: 0.746590909090909\n",
      "f1-measure-OG: 0.7798219584569233\n",
      "precision-overall: 0.7516576250753466\n",
      "recall-overall: 0.7842767295597485\n",
      "f1-measure-overall: 0.7676208064019199\n"
     ]
    },
    {
     "name": "stderr",
     "output_type": "stream",
     "text": [
      " 31%|███▏      | 5060/16068 [00:14<00:32, 334.92it/s]"
     ]
    },
    {
     "name": "stdout",
     "output_type": "stream",
     "text": [
      "precision-GP: 0.6666666666666665\n",
      "recall-GP: 0.8304761904761903\n",
      "f1-measure-GP: 0.7396098388464305\n",
      "precision-untyped: 0.7804168686379059\n",
      "recall-untyped: 0.8054027013506754\n",
      "f1-measure-untyped: 0.792712949286016\n",
      "precision-DS: 0.8195652173913042\n",
      "recall-DS: 0.8322295805739512\n",
      "f1-measure-DS: 0.8258488499451854\n",
      "precision-OG: 0.8366701791359324\n",
      "recall-OG: 0.7776689520078354\n",
      "f1-measure-OG: 0.8060913705583257\n",
      "precision-overall: 0.7789626757149782\n",
      "recall-overall: 0.8039019509754878\n",
      "f1-measure-overall: 0.79123584441157\n"
     ]
    },
    {
     "name": "stderr",
     "output_type": "stream",
     "text": [
      " 38%|███▊      | 6047/16068 [00:17<00:32, 306.26it/s]"
     ]
    },
    {
     "name": "stdout",
     "output_type": "stream",
     "text": [
      "precision-GP: 0.6965240641711229\n",
      "recall-GP: 0.8322683706070286\n",
      "f1-measure-GP: 0.758369723435176\n",
      "precision-untyped: 0.788726842727631\n",
      "recall-untyped: 0.8237958007410457\n",
      "f1-measure-untyped: 0.8058799838904052\n",
      "precision-DS: 0.8036809815950918\n",
      "recall-DS: 0.8361702127659573\n",
      "f1-measure-DS: 0.8196037539102731\n",
      "precision-OG: 0.833076923076923\n",
      "recall-OG: 0.8124531132783196\n",
      "f1-measure-OG: 0.8226357766805426\n",
      "precision-overall: 0.7871501773748522\n",
      "recall-overall: 0.8221490325236723\n",
      "f1-measure-overall: 0.8042690293998696\n"
     ]
    },
    {
     "name": "stderr",
     "output_type": "stream",
     "text": [
      " 44%|████▍     | 7063/16068 [00:21<00:29, 300.60it/s]"
     ]
    },
    {
     "name": "stdout",
     "output_type": "stream",
     "text": [
      "precision-GP: 0.7268673355629877\n",
      "recall-GP: 0.8337595907928388\n",
      "f1-measure-GP: 0.7766527695056084\n",
      "precision-untyped: 0.8148493320907114\n",
      "recall-untyped: 0.8385549872122762\n",
      "f1-measure-untyped: 0.8265322199463814\n",
      "precision-DS: 0.8237082066869299\n",
      "recall-DS: 0.8442367601246105\n",
      "f1-measure-DS: 0.8338461538461036\n",
      "precision-OG: 0.8503605769230769\n",
      "recall-OG: 0.8303990610328639\n",
      "f1-measure-OG: 0.8402612826602825\n",
      "precision-overall: 0.8105001553277416\n",
      "recall-overall: 0.834079283887468\n",
      "f1-measure-overall: 0.8221206869386612\n"
     ]
    },
    {
     "name": "stderr",
     "output_type": "stream",
     "text": [
      " 50%|█████     | 8054/16068 [00:24<00:25, 308.80it/s]"
     ]
    },
    {
     "name": "stdout",
     "output_type": "stream",
     "text": [
      "precision-GP: 0.7360703812316716\n",
      "recall-GP: 0.8745644599303136\n",
      "f1-measure-GP: 0.7993630573247913\n",
      "precision-untyped: 0.8050036791758646\n",
      "recall-untyped: 0.8275340393343419\n",
      "f1-measure-untyped: 0.8161133905258731\n",
      "precision-DS: 0.8193832599118942\n",
      "recall-DS: 0.7417746759720837\n",
      "f1-measure-DS: 0.7786499215070144\n",
      "precision-OG: 0.8421052631578947\n",
      "recall-OG: 0.837465564738292\n",
      "f1-measure-OG: 0.839779005524812\n",
      "precision-overall: 0.801569781702232\n",
      "recall-overall: 0.8240040342914775\n",
      "f1-measure-overall: 0.8126321024492849\n"
     ]
    },
    {
     "name": "stderr",
     "output_type": "stream",
     "text": [
      " 56%|█████▋    | 9054/16068 [00:27<00:20, 336.03it/s]"
     ]
    },
    {
     "name": "stdout",
     "output_type": "stream",
     "text": [
      "precision-GP: 0.7374020156774916\n",
      "recall-GP: 0.8658777120315582\n",
      "f1-measure-GP: 0.7964922890837121\n",
      "precision-untyped: 0.7946280991735537\n",
      "recall-untyped: 0.8217948717948718\n",
      "f1-measure-untyped: 0.8079831932772609\n",
      "precision-DS: 0.8149688149688149\n",
      "recall-DS: 0.7403210576015109\n",
      "f1-measure-DS: 0.7758535378524983\n",
      "precision-OG: 0.8264818355640535\n",
      "recall-OG: 0.8233333333333334\n",
      "f1-measure-OG: 0.8249045801526217\n",
      "precision-overall: 0.7913223140495868\n",
      "recall-overall: 0.8183760683760684\n",
      "f1-measure-overall: 0.8046218487394459\n"
     ]
    },
    {
     "name": "stderr",
     "output_type": "stream",
     "text": [
      " 63%|██████▎   | 10097/16068 [00:29<00:12, 475.62it/s]"
     ]
    },
    {
     "name": "stdout",
     "output_type": "stream",
     "text": [
      "precision-GP: 0.7193074501573977\n",
      "recall-GP: 0.8633501259445844\n",
      "f1-measure-GP: 0.7847738981109981\n",
      "precision-untyped: 0.7851538925769463\n",
      "recall-untyped: 0.8216842105263158\n",
      "f1-measure-untyped: 0.8030038061927286\n",
      "precision-DS: 0.8088386433710174\n",
      "recall-DS: 0.7410546139359698\n",
      "f1-measure-DS: 0.7734643734643235\n",
      "precision-OG: 0.8264818355640535\n",
      "recall-OG: 0.8233333333333334\n",
      "f1-measure-OG: 0.8249045801526217\n",
      "precision-overall: 0.7819352243009455\n",
      "recall-overall: 0.8183157894736842\n",
      "f1-measure-overall: 0.7997119637896836\n"
     ]
    },
    {
     "name": "stderr",
     "output_type": "stream",
     "text": [
      " 69%|██████▊   | 11038/16068 [00:32<00:20, 247.05it/s]"
     ]
    },
    {
     "name": "stdout",
     "output_type": "stream",
     "text": [
      "precision-GP: 0.7125688532799199\n",
      "recall-GP: 0.8608590441621294\n",
      "f1-measure-GP: 0.7797260273972109\n",
      "precision-untyped: 0.7737799043062201\n",
      "recall-untyped: 0.8219150233787356\n",
      "f1-measure-untyped: 0.7971214511040511\n",
      "precision-DS: 0.7607699358386801\n",
      "recall-DS: 0.741733690795353\n",
      "f1-measure-DS: 0.751131221719407\n",
      "precision-OG: 0.8301357042583061\n",
      "recall-OG: 0.8262692128551468\n",
      "f1-measure-OG: 0.8281979458449548\n",
      "precision-overall: 0.7707177033492822\n",
      "recall-overall: 0.8186623297418174\n",
      "f1-measure-overall: 0.7939668769715589\n"
     ]
    },
    {
     "name": "stderr",
     "output_type": "stream",
     "text": [
      " 75%|███████▍  | 12021/16068 [00:34<00:10, 385.84it/s]"
     ]
    },
    {
     "name": "stdout",
     "output_type": "stream",
     "text": [
      "precision-GP: 0.7247242647058824\n",
      "recall-GP: 0.8664835164835165\n",
      "f1-measure-GP: 0.7892892892892398\n",
      "precision-untyped: 0.7742225417939961\n",
      "recall-untyped: 0.8103480714957667\n",
      "f1-measure-untyped: 0.7918735061591705\n",
      "precision-DS: 0.7532679738562091\n",
      "recall-DS: 0.7048929663608563\n",
      "f1-measure-DS: 0.7282780410741997\n",
      "precision-OG: 0.8284789644012945\n",
      "recall-OG: 0.819387288523091\n",
      "f1-measure-OG: 0.8239080459769614\n",
      "precision-overall: 0.7713463958295883\n",
      "recall-overall: 0.8073377234242709\n",
      "f1-measure-overall: 0.7889317889317389\n"
     ]
    },
    {
     "name": "stderr",
     "output_type": "stream",
     "text": [
      " 81%|████████▏ | 13065/16068 [00:37<00:08, 345.12it/s]"
     ]
    },
    {
     "name": "stdout",
     "output_type": "stream",
     "text": [
      "precision-GP: 0.742834073475979\n",
      "recall-GP: 0.8646616541353384\n",
      "f1-measure-GP: 0.7991313789358896\n",
      "precision-untyped: 0.7816650469711695\n",
      "recall-untyped: 0.8131423757371525\n",
      "f1-measure-untyped: 0.797093071269254\n",
      "precision-DS: 0.7547302032235459\n",
      "recall-DS: 0.7151394422310757\n",
      "f1-measure-DS: 0.734401636549558\n",
      "precision-OG: 0.8339207048458149\n",
      "recall-OG: 0.8226857887874837\n",
      "f1-measure-OG: 0.8282651498577491\n",
      "precision-overall: 0.779073534175575\n",
      "recall-overall: 0.81044650379107\n",
      "f1-measure-overall: 0.794450408786803\n"
     ]
    },
    {
     "name": "stderr",
     "output_type": "stream",
     "text": [
      " 87%|████████▋ | 14049/16068 [00:40<00:05, 393.65it/s]"
     ]
    },
    {
     "name": "stdout",
     "output_type": "stream",
     "text": [
      "precision-GP: 0.7476894639556377\n",
      "recall-GP: 0.8618607954545454\n",
      "f1-measure-GP: 0.8007258330583469\n",
      "precision-untyped: 0.7788580035601808\n",
      "recall-untyped: 0.8177113283496262\n",
      "f1-measure-untyped: 0.7978119082684122\n",
      "precision-DS: 0.7728983688833124\n",
      "recall-DS: 0.734207389749702\n",
      "f1-measure-DS: 0.7530562347187766\n",
      "precision-OG: 0.8164839626471783\n",
      "recall-OG: 0.8168155970755483\n",
      "f1-measure-OG: 0.8166497461928435\n",
      "precision-overall: 0.7763932630425853\n",
      "recall-overall: 0.8151236342725704\n",
      "f1-measure-overall: 0.7952871870397145\n"
     ]
    },
    {
     "name": "stderr",
     "output_type": "stream",
     "text": [
      " 94%|█████████▎| 15041/16068 [00:43<00:03, 319.59it/s]"
     ]
    },
    {
     "name": "stdout",
     "output_type": "stream",
     "text": [
      "precision-GP: 0.777951524628616\n",
      "recall-GP: 0.8489761092150171\n",
      "f1-measure-GP: 0.8119135046919125\n",
      "precision-untyped: 0.7978517982138547\n",
      "recall-untyped: 0.8016248332727052\n",
      "f1-measure-untyped: 0.799733865602079\n",
      "precision-DS: 0.7926345609065156\n",
      "recall-DS: 0.6781386330586524\n",
      "f1-measure-DS: 0.7309299895506295\n",
      "precision-OG: 0.8204172876304023\n",
      "recall-OG: 0.8253373313343328\n",
      "f1-measure-OG: 0.8228699551569006\n",
      "precision-overall: 0.794834660873763\n",
      "recall-overall: 0.7985934279131806\n",
      "f1-measure-overall: 0.7967096110808187\n"
     ]
    },
    {
     "name": "stderr",
     "output_type": "stream",
     "text": [
      "100%|█████████▉| 16036/16068 [00:47<00:00, 335.99it/s]"
     ]
    },
    {
     "name": "stdout",
     "output_type": "stream",
     "text": [
      "precision-GP: 0.7748538011695907\n",
      "recall-GP: 0.8468708388814914\n",
      "f1-measure-GP: 0.8092632650463937\n",
      "precision-untyped: 0.803282324240408\n",
      "recall-untyped: 0.8047994667259193\n",
      "f1-measure-untyped: 0.8040401798101503\n",
      "precision-DS: 0.8097389558232931\n",
      "recall-DS: 0.6955584303579129\n",
      "f1-measure-DS: 0.7483182556250954\n",
      "precision-OG: 0.8299110198494182\n",
      "recall-OG: 0.8284933378886231\n",
      "f1-measure-OG: 0.8292015729183976\n",
      "precision-overall: 0.8003992015968064\n",
      "recall-overall: 0.8019108987890234\n",
      "f1-measure-overall: 0.8011543370885786\n"
     ]
    },
    {
     "name": "stderr",
     "output_type": "stream",
     "text": [
      "100%|██████████| 16068/16068 [00:47<00:00, 339.87it/s]\n",
      "  0%|          | 32/79401 [00:00<04:16, 309.81it/s]"
     ]
    },
    {
     "name": "stdout",
     "output_type": "stream",
     "text": [
      "precision-untyped: \t\t 0.8026140894993354\n",
      "recall-untyped: \t\t 0.8048428301677218\n",
      "f1-measure-untyped: \t\t 0.8037269147578671\n",
      "precision-overall: \t\t 0.7997341603898981\n",
      "recall-overall: \t\t 0.8019549039209153\n",
      "f1-measure-overall: \t\t 0.8008429926237646\n",
      "2--10\n"
     ]
    },
    {
     "name": "stderr",
     "output_type": "stream",
     "text": [
      "  4%|▍         | 3296/79401 [00:09<03:34, 355.54it/s]"
     ]
    },
    {
     "name": "stdout",
     "output_type": "stream",
     "text": [
      "sum loss: 443.71449987920937\n"
     ]
    },
    {
     "name": "stderr",
     "output_type": "stream",
     "text": [
      "  8%|▊         | 6496/79401 [00:19<03:42, 327.04it/s]"
     ]
    },
    {
     "name": "stdout",
     "output_type": "stream",
     "text": [
      "sum loss: 950.1581046338495\n"
     ]
    },
    {
     "name": "stderr",
     "output_type": "stream",
     "text": [
      " 12%|█▏        | 9664/79401 [00:28<03:28, 333.99it/s]"
     ]
    },
    {
     "name": "stdout",
     "output_type": "stream",
     "text": [
      "sum loss: 1430.0410514070572\n"
     ]
    },
    {
     "name": "stderr",
     "output_type": "stream",
     "text": [
      " 16%|█▌        | 12864/79401 [00:38<03:12, 345.74it/s]"
     ]
    },
    {
     "name": "stdout",
     "output_type": "stream",
     "text": [
      "sum loss: 2030.4090311134782\n"
     ]
    },
    {
     "name": "stderr",
     "output_type": "stream",
     "text": [
      " 20%|██        | 16032/79401 [00:48<03:13, 327.50it/s]"
     ]
    },
    {
     "name": "stdout",
     "output_type": "stream",
     "text": [
      "sum loss: 2589.3234743323487\n"
     ]
    },
    {
     "name": "stderr",
     "output_type": "stream",
     "text": [
      " 24%|██▍       | 19264/79401 [00:58<03:01, 332.02it/s]"
     ]
    },
    {
     "name": "stdout",
     "output_type": "stream",
     "text": [
      "sum loss: 3328.545279759358\n"
     ]
    },
    {
     "name": "stderr",
     "output_type": "stream",
     "text": [
      " 28%|██▊       | 22496/79401 [01:08<03:03, 310.41it/s]"
     ]
    },
    {
     "name": "stdout",
     "output_type": "stream",
     "text": [
      "sum loss: 3841.938958877009\n"
     ]
    },
    {
     "name": "stderr",
     "output_type": "stream",
     "text": [
      " 32%|███▏      | 25664/79401 [01:18<02:34, 346.99it/s]"
     ]
    },
    {
     "name": "stdout",
     "output_type": "stream",
     "text": [
      "sum loss: 4366.526205999042\n"
     ]
    },
    {
     "name": "stderr",
     "output_type": "stream",
     "text": [
      " 36%|███▋      | 28864/79401 [01:27<02:51, 295.19it/s]"
     ]
    },
    {
     "name": "stdout",
     "output_type": "stream",
     "text": [
      "sum loss: 4945.126911995408\n"
     ]
    },
    {
     "name": "stderr",
     "output_type": "stream",
     "text": [
      " 40%|████      | 32064/79401 [01:37<02:32, 310.41it/s]"
     ]
    },
    {
     "name": "stdout",
     "output_type": "stream",
     "text": [
      "sum loss: 5479.612041369528\n"
     ]
    },
    {
     "name": "stderr",
     "output_type": "stream",
     "text": [
      " 44%|████▍     | 35264/79401 [01:46<02:13, 331.71it/s]"
     ]
    },
    {
     "name": "stdout",
     "output_type": "stream",
     "text": [
      "sum loss: 6031.452855145521\n"
     ]
    },
    {
     "name": "stderr",
     "output_type": "stream",
     "text": [
      " 48%|████▊     | 38464/79401 [01:56<02:06, 323.57it/s]"
     ]
    },
    {
     "name": "stdout",
     "output_type": "stream",
     "text": [
      "sum loss: 6615.820214268001\n"
     ]
    },
    {
     "name": "stderr",
     "output_type": "stream",
     "text": [
      " 53%|█████▎    | 41696/79401 [02:05<01:52, 336.22it/s]"
     ]
    },
    {
     "name": "stdout",
     "output_type": "stream",
     "text": [
      "sum loss: 7064.030906359973\n"
     ]
    },
    {
     "name": "stderr",
     "output_type": "stream",
     "text": [
      " 57%|█████▋    | 44864/79401 [02:15<01:38, 351.37it/s]"
     ]
    },
    {
     "name": "stdout",
     "output_type": "stream",
     "text": [
      "sum loss: 7586.53708055908\n"
     ]
    },
    {
     "name": "stderr",
     "output_type": "stream",
     "text": [
      " 61%|██████    | 48096/79401 [02:24<01:28, 353.95it/s]"
     ]
    },
    {
     "name": "stdout",
     "output_type": "stream",
     "text": [
      "sum loss: 8175.912380371131\n"
     ]
    },
    {
     "name": "stderr",
     "output_type": "stream",
     "text": [
      " 65%|██████▍   | 51296/79401 [02:33<01:17, 362.79it/s]"
     ]
    },
    {
     "name": "stdout",
     "output_type": "stream",
     "text": [
      "sum loss: 8713.083262520375\n"
     ]
    },
    {
     "name": "stderr",
     "output_type": "stream",
     "text": [
      " 69%|██████▊   | 54496/79401 [02:42<01:13, 340.88it/s]"
     ]
    },
    {
     "name": "stdout",
     "output_type": "stream",
     "text": [
      "sum loss: 9255.019142801835\n"
     ]
    },
    {
     "name": "stderr",
     "output_type": "stream",
     "text": [
      " 73%|███████▎  | 57696/79401 [02:51<00:59, 361.77it/s]"
     ]
    },
    {
     "name": "stdout",
     "output_type": "stream",
     "text": [
      "sum loss: 9789.605229104807\n"
     ]
    },
    {
     "name": "stderr",
     "output_type": "stream",
     "text": [
      " 77%|███████▋  | 60896/79401 [03:00<00:50, 367.49it/s]"
     ]
    },
    {
     "name": "stdout",
     "output_type": "stream",
     "text": [
      "sum loss: 10349.473086954267\n"
     ]
    },
    {
     "name": "stderr",
     "output_type": "stream",
     "text": [
      " 81%|████████  | 64096/79401 [03:09<00:41, 370.22it/s]"
     ]
    },
    {
     "name": "stdout",
     "output_type": "stream",
     "text": [
      "sum loss: 10861.427863870158\n"
     ]
    },
    {
     "name": "stderr",
     "output_type": "stream",
     "text": [
      " 85%|████████▍ | 67296/79401 [03:18<00:35, 344.70it/s]"
     ]
    },
    {
     "name": "stdout",
     "output_type": "stream",
     "text": [
      "sum loss: 11437.958310219816\n"
     ]
    },
    {
     "name": "stderr",
     "output_type": "stream",
     "text": [
      " 89%|████████▉ | 70496/79401 [03:26<00:26, 337.74it/s]"
     ]
    },
    {
     "name": "stdout",
     "output_type": "stream",
     "text": [
      "sum loss: 11877.057127766688\n"
     ]
    },
    {
     "name": "stderr",
     "output_type": "stream",
     "text": [
      " 93%|█████████▎| 73696/79401 [03:35<00:15, 363.41it/s]"
     ]
    },
    {
     "name": "stdout",
     "output_type": "stream",
     "text": [
      "sum loss: 12455.040694310514\n"
     ]
    },
    {
     "name": "stderr",
     "output_type": "stream",
     "text": [
      " 97%|█████████▋| 76896/79401 [03:44<00:06, 379.65it/s]"
     ]
    },
    {
     "name": "stdout",
     "output_type": "stream",
     "text": [
      "sum loss: 13039.007003707522\n"
     ]
    },
    {
     "name": "stderr",
     "output_type": "stream",
     "text": [
      "100%|██████████| 79401/79401 [03:51<00:00, 342.84it/s]\n"
     ]
    },
    {
     "name": "stdout",
     "output_type": "stream",
     "text": [
      "Saved model to /nfs/gns/literature/Santosh_Tirunagari/GitHub/spacy_models/pubmed-pmc-sm/2\n",
      "Loading from /nfs/gns/literature/Santosh_Tirunagari/GitHub/spacy_models/pubmed-pmc-sm/2\n"
     ]
    },
    {
     "name": "stderr",
     "output_type": "stream",
     "text": [
      "  0%|          | 29/16068 [00:00<00:55, 289.61it/s]"
     ]
    },
    {
     "name": "stdout",
     "output_type": "stream",
     "text": [
      "Evaluating 16068 rows\n"
     ]
    },
    {
     "name": "stderr",
     "output_type": "stream",
     "text": [
      "  7%|▋         | 1049/16068 [00:03<00:46, 325.96it/s]"
     ]
    },
    {
     "name": "stdout",
     "output_type": "stream",
     "text": [
      "precision-GP: 0.9568965517241371\n",
      "recall-GP: 0.9327731092436967\n",
      "f1-measure-GP: 0.944680851063779\n",
      "precision-untyped: 0.8187134502923974\n",
      "recall-untyped: 0.7235142118863047\n",
      "f1-measure-untyped: 0.7681755829903478\n",
      "precision-DS: 0.801587301587301\n",
      "recall-DS: 0.8632478632478625\n",
      "f1-measure-DS: 0.8312757201645585\n",
      "precision-OG: 0.6799999999999993\n",
      "recall-OG: 0.4503311258278142\n",
      "f1-measure-OG: 0.5418326693226608\n",
      "precision-overall: 0.8187134502923974\n",
      "recall-overall: 0.7235142118863047\n",
      "f1-measure-overall: 0.7681755829903478\n"
     ]
    },
    {
     "name": "stderr",
     "output_type": "stream",
     "text": [
      " 13%|█▎        | 2052/16068 [00:05<00:35, 394.16it/s]"
     ]
    },
    {
     "name": "stdout",
     "output_type": "stream",
     "text": [
      "precision-GP: 0.714285714285714\n",
      "recall-GP: 0.8465608465608461\n",
      "f1-measure-GP: 0.774818401936996\n",
      "precision-untyped: 0.7984189723320156\n",
      "recall-untyped: 0.7038327526132403\n",
      "f1-measure-untyped: 0.7481481481480982\n",
      "precision-DS: 0.8263157894736837\n",
      "recall-DS: 0.8820224719101118\n",
      "f1-measure-DS: 0.853260869565167\n",
      "precision-OG: 0.8376811594202895\n",
      "recall-OG: 0.5850202429149797\n",
      "f1-measure-OG: 0.6889153754469122\n",
      "precision-overall: 0.7984189723320156\n",
      "recall-overall: 0.7038327526132403\n",
      "f1-measure-overall: 0.7481481481480982\n"
     ]
    },
    {
     "name": "stderr",
     "output_type": "stream",
     "text": [
      " 19%|█▉        | 3038/16068 [00:09<00:48, 271.00it/s]"
     ]
    },
    {
     "name": "stdout",
     "output_type": "stream",
     "text": [
      "precision-GP: 0.621951219512195\n",
      "recall-GP: 0.8406593406593404\n",
      "f1-measure-GP: 0.7149532710279883\n",
      "precision-untyped: 0.7456340167046317\n",
      "recall-untyped: 0.7606506584043378\n",
      "f1-measure-untyped: 0.7530674846625267\n",
      "precision-DS: 0.8231046931407939\n",
      "recall-DS: 0.8735632183908042\n",
      "f1-measure-DS: 0.8475836431226264\n",
      "precision-OG: 0.813868613138686\n",
      "recall-OG: 0.6696696696696696\n",
      "f1-measure-OG: 0.7347611202635417\n",
      "precision-overall: 0.7441154138192863\n",
      "recall-overall: 0.7591014717273431\n",
      "f1-measure-overall: 0.7515337423312383\n"
     ]
    },
    {
     "name": "stderr",
     "output_type": "stream",
     "text": [
      " 25%|██▌       | 4040/16068 [00:12<00:41, 290.77it/s]"
     ]
    },
    {
     "name": "stdout",
     "output_type": "stream",
     "text": [
      "precision-GP: 0.635379061371841\n",
      "recall-GP: 0.8243559718969553\n",
      "f1-measure-GP: 0.7176350662588701\n",
      "precision-untyped: 0.7594611930724824\n",
      "recall-untyped: 0.7446540880503144\n",
      "f1-measure-untyped: 0.7519847570656852\n",
      "precision-DS: 0.8277027027027024\n",
      "recall-DS: 0.8657243816254413\n",
      "f1-measure-DS: 0.8462867012089307\n",
      "precision-OG: 0.8222849083215795\n",
      "recall-OG: 0.6624999999999999\n",
      "f1-measure-OG: 0.7337948395216622\n",
      "precision-overall: 0.7568954457985888\n",
      "recall-overall: 0.7421383647798742\n",
      "f1-measure-overall: 0.7494442680215442\n"
     ]
    },
    {
     "name": "stderr",
     "output_type": "stream",
     "text": [
      " 31%|███▏      | 5049/16068 [00:15<00:33, 324.33it/s]"
     ]
    },
    {
     "name": "stdout",
     "output_type": "stream",
     "text": [
      "precision-GP: 0.675968992248062\n",
      "recall-GP: 0.8304761904761903\n",
      "f1-measure-GP: 0.7452991452990957\n",
      "precision-untyped: 0.7862595419847328\n",
      "recall-untyped: 0.7728864432216108\n",
      "f1-measure-untyped: 0.7795156407668522\n",
      "precision-DS: 0.8251599147121533\n",
      "recall-DS: 0.8543046357615892\n",
      "f1-measure-DS: 0.8394793926246789\n",
      "precision-OG: 0.8437132784958871\n",
      "recall-OG: 0.7032321253672869\n",
      "f1-measure-OG: 0.7670940170939673\n",
      "precision-overall: 0.7842239185750636\n",
      "recall-overall: 0.7708854427213607\n",
      "f1-measure-overall: 0.777497477295611\n"
     ]
    },
    {
     "name": "stderr",
     "output_type": "stream",
     "text": [
      " 38%|███▊      | 6041/16068 [00:18<00:32, 308.60it/s]"
     ]
    },
    {
     "name": "stdout",
     "output_type": "stream",
     "text": [
      "precision-GP: 0.7029972752043596\n",
      "recall-GP: 0.8242811501597442\n",
      "f1-measure-GP: 0.7588235294117149\n",
      "precision-untyped: 0.7964344941956882\n",
      "recall-untyped: 0.7908604363935776\n",
      "f1-measure-untyped: 0.7936376781656183\n",
      "precision-DS: 0.810865191146881\n",
      "recall-DS: 0.857446808510638\n",
      "f1-measure-DS: 0.8335056876938485\n",
      "precision-OG: 0.8441998306519899\n",
      "recall-OG: 0.7479369842460615\n",
      "f1-measure-OG: 0.7931583134446599\n",
      "precision-overall: 0.7943615257048093\n",
      "recall-overall: 0.7888019761218609\n",
      "f1-measure-overall: 0.7915719892583677\n"
     ]
    },
    {
     "name": "stderr",
     "output_type": "stream",
     "text": [
      " 44%|████▍     | 7032/16068 [00:21<00:30, 293.15it/s]"
     ]
    },
    {
     "name": "stdout",
     "output_type": "stream",
     "text": [
      "precision-GP: 0.7290470723306544\n",
      "recall-GP: 0.8120204603580562\n",
      "f1-measure-GP: 0.7683000604960178\n",
      "precision-untyped: 0.8227435646790485\n",
      "recall-untyped: 0.8072250639386189\n",
      "f1-measure-untyped: 0.8149104405356931\n",
      "precision-DS: 0.8295625942684764\n",
      "recall-DS: 0.8566978193146416\n",
      "f1-measure-DS: 0.842911877394586\n",
      "precision-OG: 0.863843648208469\n",
      "recall-OG: 0.778169014084507\n",
      "f1-measure-OG: 0.8187712256868906\n",
      "precision-overall: 0.8181818181818182\n",
      "recall-overall: 0.8027493606138107\n",
      "f1-measure-overall: 0.8103921252218316\n"
     ]
    },
    {
     "name": "stderr",
     "output_type": "stream",
     "text": [
      " 50%|█████     | 8050/16068 [00:24<00:26, 305.15it/s]"
     ]
    },
    {
     "name": "stdout",
     "output_type": "stream",
     "text": [
      "precision-GP: 0.7396849212303076\n",
      "recall-GP: 0.8588850174216028\n",
      "f1-measure-GP: 0.794840790003981\n",
      "precision-untyped: 0.8100431143799137\n",
      "recall-untyped: 0.805345436207766\n",
      "f1-measure-untyped: 0.8076874446832222\n",
      "precision-DS: 0.8202368137782561\n",
      "recall-DS: 0.7597208374875373\n",
      "f1-measure-DS: 0.7888198757763476\n",
      "precision-OG: 0.8518738845925045\n",
      "recall-OG: 0.7889807162534436\n",
      "f1-measure-OG: 0.8192219679633368\n",
      "precision-overall: 0.806492518387015\n",
      "recall-overall: 0.8018154311649016\n",
      "f1-measure-overall: 0.8041471741053996\n"
     ]
    },
    {
     "name": "stderr",
     "output_type": "stream",
     "text": [
      " 56%|█████▋    | 9055/16068 [00:28<00:21, 330.07it/s]"
     ]
    },
    {
     "name": "stdout",
     "output_type": "stream",
     "text": [
      "precision-GP: 0.7262443438914027\n",
      "recall-GP: 0.8441814595660749\n",
      "f1-measure-GP: 0.7807844329582964\n",
      "precision-untyped: 0.7922490470139771\n",
      "recall-untyped: 0.7993589743589744\n",
      "f1-measure-untyped: 0.795788130185017\n",
      "precision-DS: 0.8138351983723295\n",
      "recall-DS: 0.7554296506137866\n",
      "f1-measure-DS: 0.783545543584671\n",
      "precision-OG: 0.832572298325723\n",
      "recall-OG: 0.7814285714285715\n",
      "f1-measure-OG: 0.806190125276295\n",
      "precision-overall: 0.788860652265989\n",
      "recall-overall: 0.7959401709401709\n",
      "f1-measure-overall: 0.7923845990214349\n"
     ]
    },
    {
     "name": "stderr",
     "output_type": "stream",
     "text": [
      " 63%|██████▎   | 10069/16068 [00:30<00:12, 474.40it/s]"
     ]
    },
    {
     "name": "stdout",
     "output_type": "stream",
     "text": [
      "precision-GP: 0.7093700370566437\n",
      "recall-GP: 0.8438287153652393\n",
      "f1-measure-GP: 0.7707794075351819\n",
      "precision-untyped: 0.7826982492276005\n",
      "recall-untyped: 0.8\n",
      "f1-measure-untyped: 0.791254554919263\n",
      "precision-DS: 0.8070351758793969\n",
      "recall-DS: 0.756120527306968\n",
      "f1-measure-DS: 0.7807486631015543\n",
      "precision-OG: 0.832572298325723\n",
      "recall-OG: 0.7814285714285715\n",
      "f1-measure-OG: 0.806190125276295\n",
      "precision-overall: 0.7794026776519053\n",
      "recall-overall: 0.7966315789473685\n",
      "f1-measure-overall: 0.7879229567932868\n"
     ]
    },
    {
     "name": "stderr",
     "output_type": "stream",
     "text": [
      " 69%|██████▊   | 11045/16068 [00:32<00:19, 256.53it/s]"
     ]
    },
    {
     "name": "stdout",
     "output_type": "stream",
     "text": [
      "precision-GP: 0.704660587639311\n",
      "recall-GP: 0.8415003024803388\n",
      "f1-measure-GP: 0.7670250896056852\n",
      "precision-untyped: 0.7717476489028213\n",
      "recall-untyped: 0.8007725147387681\n",
      "f1-measure-untyped: 0.7859922178987828\n",
      "precision-DS: 0.758744394618834\n",
      "recall-DS: 0.7560321715817694\n",
      "f1-measure-DS: 0.757385854968616\n",
      "precision-OG: 0.8362282878411911\n",
      "recall-OG: 0.7848160223567769\n",
      "f1-measure-OG: 0.80970687169625\n",
      "precision-overall: 0.7684169278996865\n",
      "recall-overall: 0.7973165277495425\n",
      "f1-measure-overall: 0.7826000199540556\n"
     ]
    },
    {
     "name": "stderr",
     "output_type": "stream",
     "text": [
      " 75%|███████▌  | 12062/16068 [00:35<00:10, 376.67it/s]"
     ]
    },
    {
     "name": "stdout",
     "output_type": "stream",
     "text": [
      "precision-GP: 0.7160092807424594\n",
      "recall-GP: 0.8478021978021978\n",
      "f1-measure-GP: 0.776352201257812\n",
      "precision-untyped: 0.7724429727740986\n",
      "recall-untyped: 0.7900282220131702\n",
      "f1-measure-untyped: 0.781136638452187\n",
      "precision-DS: 0.7520128824476651\n",
      "recall-DS: 0.7140672782874617\n",
      "f1-measure-DS: 0.7325490196077933\n",
      "precision-OG: 0.836194212849436\n",
      "recall-OG: 0.7796067672610882\n",
      "f1-measure-OG: 0.8069096071935137\n",
      "precision-overall: 0.7693156732891833\n",
      "recall-overall: 0.786829727187206\n",
      "f1-measure-overall: 0.7779741419402346\n"
     ]
    },
    {
     "name": "stderr",
     "output_type": "stream",
     "text": [
      " 81%|████████▏ | 13060/16068 [00:38<00:08, 341.63it/s]"
     ]
    },
    {
     "name": "stdout",
     "output_type": "stream",
     "text": [
      "precision-GP: 0.7416326530612245\n",
      "recall-GP: 0.8538533834586466\n",
      "f1-measure-GP: 0.793796417649579\n",
      "precision-untyped: 0.7834437086092715\n",
      "recall-untyped: 0.7973041280539175\n",
      "f1-measure-untyped: 0.790313152400785\n",
      "precision-DS: 0.7558945908460472\n",
      "recall-DS: 0.7237715803452855\n",
      "f1-measure-DS: 0.7394843962007642\n",
      "precision-OG: 0.8417132216014898\n",
      "recall-OG: 0.7857453281182095\n",
      "f1-measure-OG: 0.8127669139131889\n",
      "precision-overall: 0.7806291390728477\n",
      "recall-overall: 0.7944397641112048\n",
      "f1-measure-overall: 0.7874739039665472\n"
     ]
    },
    {
     "name": "stderr",
     "output_type": "stream",
     "text": [
      " 88%|████████▊ | 14071/16068 [00:41<00:04, 400.71it/s]"
     ]
    },
    {
     "name": "stdout",
     "output_type": "stream",
     "text": [
      "precision-GP: 0.7499219481735873\n",
      "recall-GP: 0.8529829545454546\n",
      "f1-measure-GP: 0.7981392257849643\n",
      "precision-untyped: 0.7815032131880414\n",
      "recall-untyped: 0.8041978148361127\n",
      "f1-measure-untyped: 0.7926881110953164\n",
      "precision-DS: 0.7718536887786733\n",
      "recall-DS: 0.7419547079856973\n",
      "f1-measure-DS: 0.756608933454827\n",
      "precision-OG: 0.8236549957301452\n",
      "recall-OG: 0.7835093419983753\n",
      "f1-measure-OG: 0.8030807660282598\n",
      "precision-overall: 0.7789885442861134\n",
      "recall-overall: 0.8016101207590569\n",
      "f1-measure-overall: 0.7901374521750953\n"
     ]
    },
    {
     "name": "stderr",
     "output_type": "stream",
     "text": [
      " 94%|█████████▎| 15052/16068 [00:44<00:03, 333.63it/s]"
     ]
    },
    {
     "name": "stdout",
     "output_type": "stream",
     "text": [
      "precision-GP: 0.7804428044280443\n",
      "recall-GP: 0.8421501706484642\n",
      "f1-measure-GP: 0.810123119014998\n",
      "precision-untyped: 0.8019400785854617\n",
      "recall-untyped: 0.7919243361222262\n",
      "f1-measure-untyped: 0.7969007382099432\n",
      "precision-DS: 0.7917594654788419\n",
      "recall-DS: 0.6892874454677654\n",
      "f1-measure-DS: 0.7369784918372139\n",
      "precision-OG: 0.8332028191072827\n",
      "recall-OG: 0.7976011994002998\n",
      "f1-measure-OG: 0.8150134048256874\n",
      "precision-overall: 0.799484282907662\n",
      "recall-overall: 0.7894992118346065\n",
      "f1-measure-overall: 0.7944603745957648\n"
     ]
    },
    {
     "name": "stderr",
     "output_type": "stream",
     "text": [
      "100%|█████████▉| 16050/16068 [00:47<00:00, 327.04it/s]"
     ]
    },
    {
     "name": "stdout",
     "output_type": "stream",
     "text": [
      "precision-GP: 0.771916971916972\n",
      "recall-GP: 0.8418109187749667\n",
      "f1-measure-GP: 0.8053503184712877\n",
      "precision-untyped: 0.8044185264102277\n",
      "recall-untyped: 0.7969114542828575\n",
      "f1-measure-untyped: 0.8006473936822807\n",
      "precision-DS: 0.8079960513326753\n",
      "recall-DS: 0.7059077188443295\n",
      "f1-measure-DS: 0.7535097813578329\n",
      "precision-OG: 0.842274678111588\n",
      "recall-OG: 0.804578066279467\n",
      "f1-measure-OG: 0.8229949327275405\n",
      "precision-overall: 0.8021756196030055\n",
      "recall-overall: 0.7946894789467837\n",
      "f1-measure-overall: 0.7984150016742441\n"
     ]
    },
    {
     "name": "stderr",
     "output_type": "stream",
     "text": [
      "100%|██████████| 16068/16068 [00:47<00:00, 336.02it/s]\n",
      "  0%|          | 32/79401 [00:00<04:29, 294.32it/s]"
     ]
    },
    {
     "name": "stdout",
     "output_type": "stream",
     "text": [
      "precision-untyped: \t\t 0.8041017594979267\n",
      "recall-untyped: \t\t 0.7969565700322114\n",
      "f1-measure-untyped: \t\t 0.8005132210196979\n",
      "precision-overall: \t\t 0.8018603608651799\n",
      "recall-overall: \t\t 0.7947350883038987\n",
      "f1-measure-overall: \t\t 0.7982818252816637\n",
      "3--10\n"
     ]
    },
    {
     "name": "stderr",
     "output_type": "stream",
     "text": [
      "  4%|▍         | 3264/79401 [00:09<03:31, 360.27it/s]"
     ]
    },
    {
     "name": "stdout",
     "output_type": "stream",
     "text": [
      "sum loss: 368.3706048871088\n"
     ]
    },
    {
     "name": "stderr",
     "output_type": "stream",
     "text": [
      "  8%|▊         | 6464/79401 [00:18<03:26, 352.66it/s]"
     ]
    },
    {
     "name": "stdout",
     "output_type": "stream",
     "text": [
      "sum loss: 784.9257465757248\n"
     ]
    },
    {
     "name": "stderr",
     "output_type": "stream",
     "text": [
      " 12%|█▏        | 9664/79401 [00:27<03:08, 369.70it/s]"
     ]
    },
    {
     "name": "stdout",
     "output_type": "stream",
     "text": [
      "sum loss: 1258.690782880267\n"
     ]
    },
    {
     "name": "stderr",
     "output_type": "stream",
     "text": [
      " 16%|█▌        | 12864/79401 [00:36<03:12, 346.54it/s]"
     ]
    },
    {
     "name": "stdout",
     "output_type": "stream",
     "text": [
      "sum loss: 1901.8021123805734\n"
     ]
    },
    {
     "name": "stderr",
     "output_type": "stream",
     "text": [
      " 20%|██        | 16064/79401 [00:45<03:01, 348.12it/s]"
     ]
    },
    {
     "name": "stdout",
     "output_type": "stream",
     "text": [
      "sum loss: 2371.1034103388192\n"
     ]
    },
    {
     "name": "stderr",
     "output_type": "stream",
     "text": [
      " 24%|██▍       | 19264/79401 [00:54<02:43, 368.78it/s]"
     ]
    },
    {
     "name": "stdout",
     "output_type": "stream",
     "text": [
      "sum loss: 2767.0883744778075\n"
     ]
    },
    {
     "name": "stderr",
     "output_type": "stream",
     "text": [
      " 28%|██▊       | 22464/79401 [01:02<02:43, 348.31it/s]"
     ]
    },
    {
     "name": "stdout",
     "output_type": "stream",
     "text": [
      "sum loss: 3153.441376322074\n"
     ]
    },
    {
     "name": "stderr",
     "output_type": "stream",
     "text": [
      " 32%|███▏      | 25664/79401 [01:11<02:35, 345.59it/s]"
     ]
    },
    {
     "name": "stdout",
     "output_type": "stream",
     "text": [
      "sum loss: 3543.684656015609\n"
     ]
    },
    {
     "name": "stderr",
     "output_type": "stream",
     "text": [
      " 36%|███▋      | 28864/79401 [01:20<02:31, 333.41it/s]"
     ]
    },
    {
     "name": "stdout",
     "output_type": "stream",
     "text": [
      "sum loss: 3927.0063180477555\n"
     ]
    },
    {
     "name": "stderr",
     "output_type": "stream",
     "text": [
      " 40%|████      | 32064/79401 [01:29<02:12, 357.71it/s]"
     ]
    },
    {
     "name": "stdout",
     "output_type": "stream",
     "text": [
      "sum loss: 4358.54894601712\n"
     ]
    },
    {
     "name": "stderr",
     "output_type": "stream",
     "text": [
      " 44%|████▍     | 35264/79401 [01:38<02:08, 343.91it/s]"
     ]
    },
    {
     "name": "stdout",
     "output_type": "stream",
     "text": [
      "sum loss: 4789.0247838640435\n"
     ]
    },
    {
     "name": "stderr",
     "output_type": "stream",
     "text": [
      " 48%|████▊     | 38464/79401 [01:47<01:55, 353.09it/s]"
     ]
    },
    {
     "name": "stdout",
     "output_type": "stream",
     "text": [
      "sum loss: 5273.46892309969\n"
     ]
    },
    {
     "name": "stderr",
     "output_type": "stream",
     "text": [
      " 52%|█████▏    | 41664/79401 [01:56<01:49, 343.87it/s]"
     ]
    },
    {
     "name": "stdout",
     "output_type": "stream",
     "text": [
      "sum loss: 5776.362567486516\n"
     ]
    },
    {
     "name": "stderr",
     "output_type": "stream",
     "text": [
      " 57%|█████▋    | 44864/79401 [02:05<01:38, 351.03it/s]"
     ]
    },
    {
     "name": "stdout",
     "output_type": "stream",
     "text": [
      "sum loss: 6337.759214501426\n"
     ]
    },
    {
     "name": "stderr",
     "output_type": "stream",
     "text": [
      " 61%|██████    | 48064/79401 [02:14<01:45, 296.21it/s]"
     ]
    },
    {
     "name": "stdout",
     "output_type": "stream",
     "text": [
      "sum loss: 6902.4917210414205\n"
     ]
    },
    {
     "name": "stderr",
     "output_type": "stream",
     "text": [
      " 65%|██████▍   | 51264/79401 [02:23<01:21, 345.51it/s]"
     ]
    },
    {
     "name": "stdout",
     "output_type": "stream",
     "text": [
      "sum loss: 7359.905516707544\n"
     ]
    },
    {
     "name": "stderr",
     "output_type": "stream",
     "text": [
      " 69%|██████▊   | 54464/79401 [02:32<01:11, 350.47it/s]"
     ]
    },
    {
     "name": "stdout",
     "output_type": "stream",
     "text": [
      "sum loss: 7784.548179588518\n"
     ]
    },
    {
     "name": "stderr",
     "output_type": "stream",
     "text": [
      " 73%|███████▎  | 57664/79401 [02:41<01:00, 359.97it/s]"
     ]
    },
    {
     "name": "stdout",
     "output_type": "stream",
     "text": [
      "sum loss: 8243.743857214007\n"
     ]
    },
    {
     "name": "stderr",
     "output_type": "stream",
     "text": [
      " 77%|███████▋  | 60864/79401 [02:50<00:52, 352.83it/s]"
     ]
    },
    {
     "name": "stdout",
     "output_type": "stream",
     "text": [
      "sum loss: 8669.587399100212\n"
     ]
    },
    {
     "name": "stderr",
     "output_type": "stream",
     "text": [
      " 81%|████████  | 64064/79401 [02:59<00:42, 361.09it/s]"
     ]
    },
    {
     "name": "stdout",
     "output_type": "stream",
     "text": [
      "sum loss: 9175.192093539186\n"
     ]
    },
    {
     "name": "stderr",
     "output_type": "stream",
     "text": [
      " 85%|████████▍ | 67264/79401 [03:08<00:31, 385.89it/s]"
     ]
    },
    {
     "name": "stdout",
     "output_type": "stream",
     "text": [
      "sum loss: 9567.772950273695\n"
     ]
    },
    {
     "name": "stderr",
     "output_type": "stream",
     "text": [
      " 89%|████████▊ | 70464/79401 [03:17<00:23, 380.97it/s]"
     ]
    },
    {
     "name": "stdout",
     "output_type": "stream",
     "text": [
      "sum loss: 10119.697375530412\n"
     ]
    },
    {
     "name": "stderr",
     "output_type": "stream",
     "text": [
      " 93%|█████████▎| 73664/79401 [03:26<00:15, 358.88it/s]"
     ]
    },
    {
     "name": "stdout",
     "output_type": "stream",
     "text": [
      "sum loss: 10681.918347164585\n"
     ]
    },
    {
     "name": "stderr",
     "output_type": "stream",
     "text": [
      " 97%|█████████▋| 76864/79401 [03:35<00:07, 356.89it/s]"
     ]
    },
    {
     "name": "stdout",
     "output_type": "stream",
     "text": [
      "sum loss: 11167.500831779329\n"
     ]
    },
    {
     "name": "stderr",
     "output_type": "stream",
     "text": [
      "100%|██████████| 79401/79401 [03:42<00:00, 356.64it/s]\n"
     ]
    },
    {
     "name": "stdout",
     "output_type": "stream",
     "text": [
      "Saved model to /nfs/gns/literature/Santosh_Tirunagari/GitHub/spacy_models/pubmed-pmc-sm/3\n",
      "Loading from /nfs/gns/literature/Santosh_Tirunagari/GitHub/spacy_models/pubmed-pmc-sm/3\n"
     ]
    },
    {
     "name": "stderr",
     "output_type": "stream",
     "text": [
      "  0%|          | 28/16068 [00:00<00:57, 278.25it/s]"
     ]
    },
    {
     "name": "stdout",
     "output_type": "stream",
     "text": [
      "Evaluating 16068 rows\n"
     ]
    },
    {
     "name": "stderr",
     "output_type": "stream",
     "text": [
      "  6%|▋         | 1038/16068 [00:03<00:48, 307.01it/s]"
     ]
    },
    {
     "name": "stdout",
     "output_type": "stream",
     "text": [
      "precision-GP: 0.9561403508771922\n",
      "recall-GP: 0.915966386554621\n",
      "f1-measure-GP: 0.9356223175965158\n",
      "precision-untyped: 0.7906976744186044\n",
      "recall-untyped: 0.7028423772609818\n",
      "f1-measure-untyped: 0.7441860465115779\n",
      "precision-DS: 0.8225806451612897\n",
      "recall-DS: 0.871794871794871\n",
      "f1-measure-DS: 0.8464730290455926\n",
      "precision-OG: 0.575471698113207\n",
      "recall-OG: 0.4039735099337745\n",
      "f1-measure-OG: 0.47470817120617675\n",
      "precision-overall: 0.7906976744186044\n",
      "recall-overall: 0.7028423772609818\n",
      "f1-measure-overall: 0.7441860465115779\n"
     ]
    },
    {
     "name": "stderr",
     "output_type": "stream",
     "text": [
      " 13%|█▎        | 2038/16068 [00:06<00:38, 367.00it/s]"
     ]
    },
    {
     "name": "stdout",
     "output_type": "stream",
     "text": [
      "precision-GP: 0.7194570135746603\n",
      "recall-GP: 0.8412698412698407\n",
      "f1-measure-GP: 0.7756097560975108\n",
      "precision-untyped: 0.7859973579920738\n",
      "recall-untyped: 0.6910569105691056\n",
      "f1-measure-untyped: 0.735475896168059\n",
      "precision-DS: 0.8351063829787229\n",
      "recall-DS: 0.8820224719101118\n",
      "f1-measure-DS: 0.8579234972677091\n",
      "precision-OG: 0.8017241379310343\n",
      "recall-OG: 0.5647773279352225\n",
      "f1-measure-OG: 0.6627078384797613\n",
      "precision-overall: 0.7859973579920738\n",
      "recall-overall: 0.6910569105691056\n",
      "f1-measure-overall: 0.735475896168059\n"
     ]
    },
    {
     "name": "stderr",
     "output_type": "stream",
     "text": [
      " 19%|█▉        | 3053/16068 [00:10<00:47, 271.95it/s]"
     ]
    },
    {
     "name": "stdout",
     "output_type": "stream",
     "text": [
      "precision-GP: 0.625766871165644\n",
      "recall-GP: 0.8406593406593404\n",
      "f1-measure-GP: 0.7174677608440307\n",
      "precision-untyped: 0.741051028179741\n",
      "recall-untyped: 0.7536793183578622\n",
      "f1-measure-untyped: 0.7473118279569393\n",
      "precision-DS: 0.8357664233576639\n",
      "recall-DS: 0.8773946360153253\n",
      "f1-measure-DS: 0.8560747663550899\n",
      "precision-OG: 0.7927272727272726\n",
      "recall-OG: 0.6546546546546546\n",
      "f1-measure-OG: 0.7171052631578451\n",
      "precision-overall: 0.7395277989337395\n",
      "recall-overall: 0.7521301316808675\n",
      "f1-measure-overall: 0.7457757296466474\n"
     ]
    },
    {
     "name": "stderr",
     "output_type": "stream",
     "text": [
      " 25%|██▌       | 4042/16068 [00:13<00:42, 284.19it/s]"
     ]
    },
    {
     "name": "stdout",
     "output_type": "stream",
     "text": [
      "precision-GP: 0.640144665461121\n",
      "recall-GP: 0.8290398126463698\n",
      "f1-measure-GP: 0.7224489795917874\n",
      "precision-untyped: 0.7568954457985888\n",
      "recall-untyped: 0.7421383647798742\n",
      "f1-measure-untyped: 0.7494442680215442\n",
      "precision-DS: 0.833333333333333\n",
      "recall-DS: 0.8657243816254413\n",
      "f1-measure-DS: 0.849220103986085\n",
      "precision-OG: 0.8089887640449437\n",
      "recall-OG: 0.6545454545454544\n",
      "f1-measure-OG: 0.7236180904522118\n",
      "precision-overall: 0.7536882617062219\n",
      "recall-overall: 0.7389937106918238\n",
      "f1-measure-overall: 0.746268656716368\n"
     ]
    },
    {
     "name": "stderr",
     "output_type": "stream",
     "text": [
      " 31%|███▏      | 5045/16068 [00:17<00:33, 333.96it/s]"
     ]
    },
    {
     "name": "stdout",
     "output_type": "stream",
     "text": [
      "precision-GP: 0.6790123456790123\n",
      "recall-GP: 0.8380952380952379\n",
      "f1-measure-GP: 0.7502131287297034\n",
      "precision-untyped: 0.7834946510443199\n",
      "recall-untyped: 0.7693846923461731\n",
      "f1-measure-untyped: 0.7763755678949527\n",
      "precision-DS: 0.8242950108459868\n",
      "recall-DS: 0.8388520971302427\n",
      "f1-measure-DS: 0.8315098468270834\n",
      "precision-OG: 0.8325526932084308\n",
      "recall-OG: 0.6963761018609206\n",
      "f1-measure-OG: 0.7583999999999504\n",
      "precision-overall: 0.7799286805909322\n",
      "recall-overall: 0.7658829414707353\n",
      "f1-measure-overall: 0.7728419989903589\n"
     ]
    },
    {
     "name": "stderr",
     "output_type": "stream",
     "text": [
      " 38%|███▊      | 6056/16068 [00:19<00:30, 323.53it/s]"
     ]
    },
    {
     "name": "stdout",
     "output_type": "stream",
     "text": [
      "precision-GP: 0.705563093622795\n",
      "recall-GP: 0.8306709265175717\n",
      "f1-measure-GP: 0.7630227439471257\n",
      "precision-untyped: 0.796265560165975\n",
      "recall-untyped: 0.7900370522848909\n",
      "f1-measure-untyped: 0.7931390783219173\n",
      "precision-DS: 0.8098159509202452\n",
      "recall-DS: 0.8425531914893615\n",
      "f1-measure-DS: 0.8258602711156954\n",
      "precision-OG: 0.8403716216216216\n",
      "recall-OG: 0.746436609152288\n",
      "f1-measure-OG: 0.7906237584425405\n",
      "precision-overall: 0.7929460580912863\n",
      "recall-overall: 0.7867435158501441\n",
      "f1-measure-overall: 0.7898326100433475\n"
     ]
    },
    {
     "name": "stderr",
     "output_type": "stream",
     "text": [
      " 44%|████▍     | 7052/16068 [00:23<00:31, 283.63it/s]"
     ]
    },
    {
     "name": "stdout",
     "output_type": "stream",
     "text": [
      "precision-GP: 0.734321550741163\n",
      "recall-GP: 0.8235294117647057\n",
      "f1-measure-GP: 0.7763713080168277\n",
      "precision-untyped: 0.8217886178861789\n",
      "recall-untyped: 0.8078644501278772\n",
      "f1-measure-untyped: 0.8147670482024327\n",
      "precision-DS: 0.8188736681887365\n",
      "recall-DS: 0.8380062305295949\n",
      "f1-measure-DS: 0.8283294842185798\n",
      "precision-OG: 0.8611291369240752\n",
      "recall-OG: 0.778755868544601\n",
      "f1-measure-OG: 0.8178736517719071\n",
      "precision-overall: 0.8159349593495935\n",
      "recall-overall: 0.8021099744245525\n",
      "f1-measure-overall: 0.8089634048040771\n"
     ]
    },
    {
     "name": "stderr",
     "output_type": "stream",
     "text": [
      " 50%|█████     | 8045/16068 [00:26<00:27, 294.42it/s]"
     ]
    },
    {
     "name": "stdout",
     "output_type": "stream",
     "text": [
      "precision-GP: 0.7447604790419161\n",
      "recall-GP: 0.8667247386759582\n",
      "f1-measure-GP: 0.8011272141706427\n",
      "precision-untyped: 0.8096446700507615\n",
      "recall-untyped: 0.8043368633383762\n",
      "f1-measure-untyped: 0.8069820389577037\n",
      "precision-DS: 0.8102508178844056\n",
      "recall-DS: 0.7407776669990029\n",
      "f1-measure-DS: 0.7739583333332833\n",
      "precision-OG: 0.8494368701837581\n",
      "recall-OG: 0.7895316804407714\n",
      "f1-measure-OG: 0.8183894917189678\n",
      "precision-overall: 0.8048223350253807\n",
      "recall-overall: 0.7995461422087746\n",
      "f1-measure-overall: 0.8021755628635979\n"
     ]
    },
    {
     "name": "stderr",
     "output_type": "stream",
     "text": [
      " 56%|█████▋    | 9076/16068 [00:29<00:19, 351.64it/s]"
     ]
    },
    {
     "name": "stdout",
     "output_type": "stream",
     "text": [
      "precision-GP: 0.7437214611872146\n",
      "recall-GP: 0.8566732412886259\n",
      "f1-measure-GP: 0.7962114268254926\n",
      "precision-untyped: 0.8099120360437674\n",
      "recall-untyped: 0.8066239316239316\n",
      "f1-measure-untyped: 0.808264639760147\n",
      "precision-DS: 0.8030927835051546\n",
      "recall-DS: 0.7355996222851747\n",
      "f1-measure-DS: 0.7678659438146372\n",
      "precision-OG: 0.8457968024755028\n",
      "recall-OG: 0.780952380952381\n",
      "f1-measure-OG: 0.8120821985639511\n",
      "precision-overall: 0.7985410856039477\n",
      "recall-overall: 0.7952991452991452\n",
      "f1-measure-overall: 0.7969168183277523\n"
     ]
    },
    {
     "name": "stderr",
     "output_type": "stream",
     "text": [
      " 63%|██████▎   | 10056/16068 [00:32<00:13, 461.53it/s]"
     ]
    },
    {
     "name": "stdout",
     "output_type": "stream",
     "text": [
      "precision-GP: 0.7267379679144385\n",
      "recall-GP: 0.8557934508816121\n",
      "f1-measure-GP: 0.7860034702139468\n",
      "precision-untyped: 0.800919156047629\n",
      "recall-untyped: 0.8071578947368421\n",
      "f1-measure-untyped: 0.804026423403536\n",
      "precision-DS: 0.7995910020449897\n",
      "recall-DS: 0.736346516007533\n",
      "f1-measure-DS: 0.7666666666666168\n",
      "precision-OG: 0.8457968024755028\n",
      "recall-OG: 0.780952380952381\n",
      "f1-measure-OG: 0.8120821985639511\n",
      "precision-overall: 0.7898475036557343\n",
      "recall-overall: 0.796\n",
      "f1-measure-overall: 0.7929118171332206\n"
     ]
    },
    {
     "name": "stderr",
     "output_type": "stream",
     "text": [
      " 69%|██████▊   | 11036/16068 [00:34<00:20, 240.76it/s]"
     ]
    },
    {
     "name": "stdout",
     "output_type": "stream",
     "text": [
      "precision-GP: 0.7210015329586101\n",
      "recall-GP: 0.853599516031458\n",
      "f1-measure-GP: 0.7817174515234961\n",
      "precision-untyped: 0.7891602144133413\n",
      "recall-untyped: 0.8080910754218337\n",
      "f1-measure-untyped: 0.7985134592205205\n",
      "precision-DS: 0.7536496350364964\n",
      "recall-DS: 0.7381590705987489\n",
      "f1-measure-DS: 0.7458239277651871\n",
      "precision-OG: 0.8492943548387096\n",
      "recall-OG: 0.7848160223567769\n",
      "f1-measure-OG: 0.8157831033647529\n",
      "precision-overall: 0.7786380782211634\n",
      "recall-overall: 0.7973165277495425\n",
      "f1-measure-overall: 0.7878666130975795\n"
     ]
    },
    {
     "name": "stderr",
     "output_type": "stream",
     "text": [
      " 75%|███████▍  | 12044/16068 [00:37<00:11, 355.94it/s]"
     ]
    },
    {
     "name": "stdout",
     "output_type": "stream",
     "text": [
      "precision-GP: 0.7310924369747899\n",
      "recall-GP: 0.8604395604395605\n",
      "f1-measure-GP: 0.7905098435133274\n",
      "precision-untyped: 0.790070658237263\n",
      "recall-untyped: 0.7994355597365945\n",
      "f1-measure-untyped: 0.79472552136907\n",
      "precision-DS: 0.7506092607636068\n",
      "recall-DS: 0.7064220183486238\n",
      "f1-measure-DS: 0.7278456085072365\n",
      "precision-OG: 0.8508728179551123\n",
      "recall-OG: 0.7800640146319159\n",
      "f1-measure-OG: 0.8139312977098738\n",
      "precision-overall: 0.7802156935663815\n",
      "recall-overall: 0.7894637817497648\n",
      "f1-measure-overall: 0.7848124941550048\n"
     ]
    },
    {
     "name": "stderr",
     "output_type": "stream",
     "text": [
      " 81%|████████▏ | 13070/16068 [00:40<00:08, 355.60it/s]"
     ]
    },
    {
     "name": "stdout",
     "output_type": "stream",
     "text": [
      "precision-GP: 0.7539030402629416\n",
      "recall-GP: 0.862312030075188\n",
      "f1-measure-GP: 0.8044717229284905\n",
      "precision-untyped: 0.7982309746328438\n",
      "recall-untyped: 0.8058972198820556\n",
      "f1-measure-untyped: 0.8020457784857385\n",
      "precision-DS: 0.7513850415512465\n",
      "recall-DS: 0.7204515272244356\n",
      "f1-measure-DS: 0.735593220338933\n",
      "precision-OG: 0.8561967833491012\n",
      "recall-OG: 0.7866145154280747\n",
      "f1-measure-OG: 0.8199320498300747\n",
      "precision-overall: 0.7893858477970628\n",
      "recall-overall: 0.7969671440606572\n",
      "f1-measure-overall: 0.7931583801458375\n"
     ]
    },
    {
     "name": "stderr",
     "output_type": "stream",
     "text": [
      " 88%|████████▊ | 14063/16068 [00:43<00:05, 392.49it/s]"
     ]
    },
    {
     "name": "stdout",
     "output_type": "stream",
     "text": [
      "precision-GP: 0.7607131685955584\n",
      "recall-GP: 0.8636363636363636\n",
      "f1-measure-GP: 0.8089140196240979\n",
      "precision-untyped: 0.79497614369913\n",
      "recall-untyped: 0.8144048303622772\n",
      "f1-measure-untyped: 0.8045732140320477\n",
      "precision-DS: 0.7685643564356436\n",
      "recall-DS: 0.7401668653158522\n",
      "f1-measure-DS: 0.7540983606556877\n",
      "precision-OG: 0.8370082144401211\n",
      "recall-OG: 0.7863525588952072\n",
      "f1-measure-OG: 0.810890052355971\n",
      "precision-overall: 0.7872579287117597\n",
      "recall-overall: 0.8064979873490512\n",
      "f1-measure-overall: 0.7967618236045516\n"
     ]
    },
    {
     "name": "stderr",
     "output_type": "stream",
     "text": [
      " 94%|█████████▎| 15050/16068 [00:46<00:03, 311.44it/s]"
     ]
    },
    {
     "name": "stdout",
     "output_type": "stream",
     "text": [
      "precision-GP: 0.790139731083575\n",
      "recall-GP: 0.8523890784982935\n",
      "f1-measure-GP: 0.8200848269256581\n",
      "precision-untyped: 0.8130864197530864\n",
      "recall-untyped: 0.7985934279131806\n",
      "f1-measure-untyped: 0.8057747598947319\n",
      "precision-DS: 0.787317620650954\n",
      "recall-DS: 0.6800775569558895\n",
      "f1-measure-DS: 0.7297789336800543\n",
      "precision-OG: 0.8431683168316831\n",
      "recall-OG: 0.797976011994003\n",
      "f1-measure-OG: 0.8199499326015292\n",
      "precision-overall: 0.8060493827160494\n",
      "recall-overall: 0.7916818236934643\n",
      "f1-measure-overall: 0.7988010032421351\n"
     ]
    },
    {
     "name": "stderr",
     "output_type": "stream",
     "text": [
      "100%|█████████▉| 16044/16068 [00:49<00:00, 321.83it/s]"
     ]
    },
    {
     "name": "stdout",
     "output_type": "stream",
     "text": [
      "precision-GP: 0.7826937179173796\n",
      "recall-GP: 0.8527296937416777\n",
      "f1-measure-GP: 0.8162120825898048\n",
      "precision-untyped: 0.8143564356435643\n",
      "recall-untyped: 0.8041328741250973\n",
      "f1-measure-untyped: 0.8092123651405391\n",
      "precision-DS: 0.7990123456790124\n",
      "recall-DS: 0.6977145321259164\n",
      "f1-measure-DS: 0.744935543278035\n",
      "precision-OG: 0.8517316017316018\n",
      "recall-OG: 0.806627946703109\n",
      "f1-measure-OG: 0.8285664151605044\n",
      "precision-overall: 0.8079432943294329\n",
      "recall-overall: 0.7978002444172869\n",
      "f1-measure-overall: 0.8028397339146461\n"
     ]
    },
    {
     "name": "stderr",
     "output_type": "stream",
     "text": [
      "100%|██████████| 16068/16068 [00:50<00:00, 320.92it/s]\n",
      "  0%|          | 32/79401 [00:00<04:17, 308.78it/s]"
     ]
    },
    {
     "name": "stdout",
     "output_type": "stream",
     "text": [
      "precision-untyped: \t\t 0.814123467896098\n",
      "recall-untyped: \t\t 0.804176385649228\n",
      "f1-measure-untyped: \t\t 0.8091193562806832\n",
      "precision-overall: \t\t 0.8077139323063083\n",
      "recall-overall: \t\t 0.7978451627235366\n",
      "f1-measure-overall: \t\t 0.8027492177022298\n",
      "4--10\n"
     ]
    },
    {
     "name": "stderr",
     "output_type": "stream",
     "text": [
      "  4%|▍         | 3264/79401 [00:09<03:39, 347.47it/s]"
     ]
    },
    {
     "name": "stdout",
     "output_type": "stream",
     "text": [
      "sum loss: 448.4266156995818\n"
     ]
    },
    {
     "name": "stderr",
     "output_type": "stream",
     "text": [
      "  8%|▊         | 6464/79401 [00:18<03:51, 314.79it/s]"
     ]
    },
    {
     "name": "stdout",
     "output_type": "stream",
     "text": [
      "sum loss: 806.9288357121899\n"
     ]
    },
    {
     "name": "stderr",
     "output_type": "stream",
     "text": [
      " 12%|█▏        | 9696/79401 [00:28<03:19, 348.73it/s]"
     ]
    },
    {
     "name": "stdout",
     "output_type": "stream",
     "text": [
      "sum loss: 1208.4256511849358\n"
     ]
    },
    {
     "name": "stderr",
     "output_type": "stream",
     "text": [
      " 16%|█▌        | 12896/79401 [00:37<03:08, 352.02it/s]"
     ]
    },
    {
     "name": "stdout",
     "output_type": "stream",
     "text": [
      "sum loss: 1615.6465196732267\n"
     ]
    },
    {
     "name": "stderr",
     "output_type": "stream",
     "text": [
      " 20%|██        | 16096/79401 [00:46<02:53, 364.05it/s]"
     ]
    },
    {
     "name": "stdout",
     "output_type": "stream",
     "text": [
      "sum loss: 2038.2989803288997\n"
     ]
    },
    {
     "name": "stderr",
     "output_type": "stream",
     "text": [
      " 24%|██▍       | 19296/79401 [00:57<03:55, 255.73it/s]"
     ]
    },
    {
     "name": "stdout",
     "output_type": "stream",
     "text": [
      "sum loss: 2540.9718173260085\n"
     ]
    },
    {
     "name": "stderr",
     "output_type": "stream",
     "text": [
      " 28%|██▊       | 22496/79401 [01:06<02:34, 368.61it/s]"
     ]
    },
    {
     "name": "stdout",
     "output_type": "stream",
     "text": [
      "sum loss: 2887.687187308919\n"
     ]
    },
    {
     "name": "stderr",
     "output_type": "stream",
     "text": [
      " 32%|███▏      | 25696/79401 [01:14<02:39, 335.95it/s]"
     ]
    },
    {
     "name": "stdout",
     "output_type": "stream",
     "text": [
      "sum loss: 3294.693090022277\n"
     ]
    },
    {
     "name": "stderr",
     "output_type": "stream",
     "text": [
      " 36%|███▋      | 28896/79401 [01:24<02:25, 346.54it/s]"
     ]
    },
    {
     "name": "stdout",
     "output_type": "stream",
     "text": [
      "sum loss: 3707.228664473879\n"
     ]
    },
    {
     "name": "stderr",
     "output_type": "stream",
     "text": [
      " 40%|████      | 32096/79401 [01:33<02:16, 347.70it/s]"
     ]
    },
    {
     "name": "stdout",
     "output_type": "stream",
     "text": [
      "sum loss: 4102.3796241754035\n"
     ]
    },
    {
     "name": "stderr",
     "output_type": "stream",
     "text": [
      " 44%|████▍     | 35296/79401 [01:42<01:58, 373.38it/s]"
     ]
    },
    {
     "name": "stdout",
     "output_type": "stream",
     "text": [
      "sum loss: 4507.4823272335725\n"
     ]
    },
    {
     "name": "stderr",
     "output_type": "stream",
     "text": [
      " 48%|████▊     | 38496/79401 [01:51<01:50, 368.75it/s]"
     ]
    },
    {
     "name": "stdout",
     "output_type": "stream",
     "text": [
      "sum loss: 4862.325752805542\n"
     ]
    },
    {
     "name": "stderr",
     "output_type": "stream",
     "text": [
      " 52%|█████▏    | 41632/79401 [02:02<01:40, 376.17it/s]"
     ]
    },
    {
     "name": "stdout",
     "output_type": "stream",
     "text": [
      "sum loss: 5228.632677941965\n"
     ]
    },
    {
     "name": "stderr",
     "output_type": "stream",
     "text": [
      " 57%|█████▋    | 44864/79401 [02:14<01:38, 349.05it/s]"
     ]
    },
    {
     "name": "stdout",
     "output_type": "stream",
     "text": [
      "sum loss: 5585.387496515795\n"
     ]
    },
    {
     "name": "stderr",
     "output_type": "stream",
     "text": [
      " 61%|██████    | 48064/79401 [02:23<01:23, 374.16it/s]"
     ]
    },
    {
     "name": "stdout",
     "output_type": "stream",
     "text": [
      "sum loss: 5997.081952795739\n"
     ]
    },
    {
     "name": "stderr",
     "output_type": "stream",
     "text": [
      " 65%|██████▍   | 51264/79401 [02:32<01:15, 374.28it/s]"
     ]
    },
    {
     "name": "stdout",
     "output_type": "stream",
     "text": [
      "sum loss: 6364.521374491824\n"
     ]
    },
    {
     "name": "stderr",
     "output_type": "stream",
     "text": [
      " 69%|██████▊   | 54464/79401 [02:41<01:05, 378.44it/s]"
     ]
    },
    {
     "name": "stdout",
     "output_type": "stream",
     "text": [
      "sum loss: 6787.3408819687265\n"
     ]
    },
    {
     "name": "stderr",
     "output_type": "stream",
     "text": [
      " 73%|███████▎  | 57664/79401 [02:50<01:00, 361.80it/s]"
     ]
    },
    {
     "name": "stdout",
     "output_type": "stream",
     "text": [
      "sum loss: 7239.695644836055\n"
     ]
    },
    {
     "name": "stderr",
     "output_type": "stream",
     "text": [
      " 77%|███████▋  | 60864/79401 [02:59<00:51, 362.16it/s]"
     ]
    },
    {
     "name": "stdout",
     "output_type": "stream",
     "text": [
      "sum loss: 7650.032062291666\n"
     ]
    },
    {
     "name": "stderr",
     "output_type": "stream",
     "text": [
      " 81%|████████  | 64064/79401 [03:07<00:45, 337.00it/s]"
     ]
    },
    {
     "name": "stdout",
     "output_type": "stream",
     "text": [
      "sum loss: 8129.4501507155655\n"
     ]
    },
    {
     "name": "stderr",
     "output_type": "stream",
     "text": [
      " 85%|████████▍ | 67264/79401 [03:16<00:34, 352.51it/s]"
     ]
    },
    {
     "name": "stdout",
     "output_type": "stream",
     "text": [
      "sum loss: 8658.9962954547\n"
     ]
    },
    {
     "name": "stderr",
     "output_type": "stream",
     "text": [
      " 89%|████████▊ | 70464/79401 [03:25<00:24, 363.59it/s]"
     ]
    },
    {
     "name": "stdout",
     "output_type": "stream",
     "text": [
      "sum loss: 9074.739152241456\n"
     ]
    },
    {
     "name": "stderr",
     "output_type": "stream",
     "text": [
      " 93%|█████████▎| 73664/79401 [03:34<00:15, 378.96it/s]"
     ]
    },
    {
     "name": "stdout",
     "output_type": "stream",
     "text": [
      "sum loss: 9479.286954804627\n"
     ]
    },
    {
     "name": "stderr",
     "output_type": "stream",
     "text": [
      " 97%|█████████▋| 76864/79401 [03:43<00:06, 375.45it/s]"
     ]
    },
    {
     "name": "stdout",
     "output_type": "stream",
     "text": [
      "sum loss: 9881.646617751192\n"
     ]
    },
    {
     "name": "stderr",
     "output_type": "stream",
     "text": [
      "100%|██████████| 79401/79401 [03:50<00:00, 344.35it/s]\n"
     ]
    },
    {
     "name": "stdout",
     "output_type": "stream",
     "text": [
      "Saved model to /nfs/gns/literature/Santosh_Tirunagari/GitHub/spacy_models/pubmed-pmc-sm/4\n",
      "Loading from /nfs/gns/literature/Santosh_Tirunagari/GitHub/spacy_models/pubmed-pmc-sm/4\n"
     ]
    },
    {
     "name": "stderr",
     "output_type": "stream",
     "text": [
      "  0%|          | 33/16068 [00:00<00:48, 328.94it/s]"
     ]
    },
    {
     "name": "stdout",
     "output_type": "stream",
     "text": [
      "Evaluating 16068 rows\n"
     ]
    },
    {
     "name": "stderr",
     "output_type": "stream",
     "text": [
      "  7%|▋         | 1062/16068 [00:02<00:43, 347.85it/s]"
     ]
    },
    {
     "name": "stdout",
     "output_type": "stream",
     "text": [
      "precision-GP: 0.957627118644067\n",
      "recall-GP: 0.9495798319327723\n",
      "f1-measure-GP: 0.9535864978902446\n",
      "precision-untyped: 0.7887700534759355\n",
      "recall-untyped: 0.7622739018087853\n",
      "f1-measure-untyped: 0.7752956636004754\n",
      "precision-DS: 0.8130081300813001\n",
      "recall-DS: 0.854700854700854\n",
      "f1-measure-DS: 0.8333333333332826\n",
      "precision-OG: 0.6165413533834582\n",
      "recall-OG: 0.5430463576158936\n",
      "f1-measure-OG: 0.5774647887323441\n",
      "precision-overall: 0.7887700534759355\n",
      "recall-overall: 0.7622739018087853\n",
      "f1-measure-overall: 0.7752956636004754\n"
     ]
    },
    {
     "name": "stderr",
     "output_type": "stream",
     "text": [
      " 13%|█▎        | 2063/16068 [00:05<00:36, 382.37it/s]"
     ]
    },
    {
     "name": "stdout",
     "output_type": "stream",
     "text": [
      "precision-GP: 0.7056277056277053\n",
      "recall-GP: 0.8624338624338619\n",
      "f1-measure-GP: 0.7761904761904262\n",
      "precision-untyped: 0.7702871410736578\n",
      "recall-untyped: 0.716608594657375\n",
      "f1-measure-untyped: 0.7424789410348477\n",
      "precision-DS: 0.8342245989304807\n",
      "recall-DS: 0.876404494382022\n",
      "f1-measure-DS: 0.8547945205478947\n",
      "precision-OG: 0.7780678851174933\n",
      "recall-OG: 0.6032388663967609\n",
      "f1-measure-OG: 0.6795895096920829\n",
      "precision-overall: 0.7702871410736578\n",
      "recall-overall: 0.716608594657375\n",
      "f1-measure-overall: 0.7424789410348477\n"
     ]
    },
    {
     "name": "stderr",
     "output_type": "stream",
     "text": [
      " 19%|█▉        | 3063/16068 [00:08<00:42, 305.25it/s]"
     ]
    },
    {
     "name": "stdout",
     "output_type": "stream",
     "text": [
      "precision-GP: 0.6046511627906975\n",
      "recall-GP: 0.8571428571428569\n",
      "f1-measure-GP: 0.7090909090908605\n",
      "precision-untyped: 0.7208271787296898\n",
      "recall-untyped: 0.756003098373354\n",
      "f1-measure-untyped: 0.7379962192816136\n",
      "precision-DS: 0.8272058823529408\n",
      "recall-DS: 0.862068965517241\n",
      "f1-measure-DS: 0.844277673545916\n",
      "precision-OG: 0.7720848056537101\n",
      "recall-OG: 0.6561561561561561\n",
      "f1-measure-OG: 0.7094155844155348\n",
      "precision-overall: 0.7193500738552437\n",
      "recall-overall: 0.7544539116963594\n",
      "f1-measure-overall: 0.73648393194702\n"
     ]
    },
    {
     "name": "stderr",
     "output_type": "stream",
     "text": [
      " 25%|██▌       | 4047/16068 [00:11<00:37, 319.47it/s]"
     ]
    },
    {
     "name": "stdout",
     "output_type": "stream",
     "text": [
      "precision-GP: 0.6189655172413792\n",
      "recall-GP: 0.8407494145199061\n",
      "f1-measure-GP: 0.7130089374378854\n",
      "precision-untyped: 0.7389408099688474\n",
      "recall-untyped: 0.7459119496855345\n",
      "f1-measure-untyped: 0.7424100156494022\n",
      "precision-DS: 0.8281786941580753\n",
      "recall-DS: 0.8515901060070667\n",
      "f1-measure-DS: 0.8397212543553505\n",
      "precision-OG: 0.7915531335149862\n",
      "recall-OG: 0.6602272727272727\n",
      "f1-measure-OG: 0.719950433705031\n",
      "precision-overall: 0.7358255451713396\n",
      "recall-overall: 0.7427672955974842\n",
      "f1-measure-overall: 0.7392801251955682\n"
     ]
    },
    {
     "name": "stderr",
     "output_type": "stream",
     "text": [
      " 31%|███▏      | 5053/16068 [00:14<00:32, 340.19it/s]"
     ]
    },
    {
     "name": "stdout",
     "output_type": "stream",
     "text": [
      "precision-GP: 0.6612184249628528\n",
      "recall-GP: 0.8476190476190474\n",
      "f1-measure-GP: 0.742904841402288\n",
      "precision-untyped: 0.7692690203878667\n",
      "recall-untyped: 0.7738869434717359\n",
      "f1-measure-untyped: 0.771571072319152\n",
      "precision-DS: 0.8158458244111347\n",
      "recall-DS: 0.8410596026490064\n",
      "f1-measure-DS: 0.8282608695651672\n",
      "precision-OG: 0.8163030998851893\n",
      "recall-OG: 0.6963761018609206\n",
      "f1-measure-OG: 0.7515856236785973\n",
      "precision-overall: 0.7642963699651915\n",
      "recall-overall: 0.7688844422211105\n",
      "f1-measure-overall: 0.7665835411470823\n"
     ]
    },
    {
     "name": "stderr",
     "output_type": "stream",
     "text": [
      " 38%|███▊      | 6058/16068 [00:17<00:32, 312.06it/s]"
     ]
    },
    {
     "name": "stdout",
     "output_type": "stream",
     "text": [
      "precision-GP: 0.6857887874837026\n",
      "recall-GP: 0.8402555910543129\n",
      "f1-measure-GP: 0.7552045944005247\n",
      "precision-untyped: 0.7826439578264396\n",
      "recall-untyped: 0.7945656648826678\n",
      "f1-measure-untyped: 0.7885597548518398\n",
      "precision-DS: 0.8020202020202019\n",
      "recall-DS: 0.8446808510638296\n",
      "f1-measure-DS: 0.8227979274610897\n",
      "precision-OG: 0.8272425249169435\n",
      "recall-OG: 0.7471867966991748\n",
      "f1-measure-OG: 0.7851793456838287\n",
      "precision-overall: 0.778183292781833\n",
      "recall-overall: 0.7900370522848909\n",
      "f1-measure-overall: 0.7840653728293677\n"
     ]
    },
    {
     "name": "stderr",
     "output_type": "stream",
     "text": [
      " 44%|████▍     | 7052/16068 [00:20<00:29, 309.84it/s]"
     ]
    },
    {
     "name": "stdout",
     "output_type": "stream",
     "text": [
      "precision-GP: 0.7157079646017698\n",
      "recall-GP: 0.8273657289002556\n",
      "f1-measure-GP: 0.7674970344008992\n",
      "precision-untyped: 0.8120204603580563\n",
      "recall-untyped: 0.8120204603580563\n",
      "f1-measure-untyped: 0.8120204603580063\n",
      "precision-DS: 0.8247734138972809\n",
      "recall-DS: 0.850467289719626\n",
      "f1-measure-DS: 0.8374233128833855\n",
      "precision-OG: 0.8514724711907811\n",
      "recall-OG: 0.7805164319248826\n",
      "f1-measure-OG: 0.814451928965045\n",
      "precision-overall: 0.8065856777493606\n",
      "recall-overall: 0.8065856777493606\n",
      "f1-measure-overall: 0.8065856777493107\n"
     ]
    },
    {
     "name": "stderr",
     "output_type": "stream",
     "text": [
      " 50%|█████     | 8061/16068 [00:23<00:25, 318.58it/s]"
     ]
    },
    {
     "name": "stdout",
     "output_type": "stream",
     "text": [
      "precision-GP: 0.7297297297297297\n",
      "recall-GP: 0.8702090592334495\n",
      "f1-measure-GP: 0.7938021454111542\n",
      "precision-untyped: 0.8008527715073991\n",
      "recall-untyped: 0.8050932929904185\n",
      "f1-measure-untyped: 0.8029674336727779\n",
      "precision-DS: 0.8142857142857142\n",
      "recall-DS: 0.7387836490528414\n",
      "f1-measure-DS: 0.7746994249868817\n",
      "precision-OG: 0.8407494145199064\n",
      "recall-OG: 0.7911845730027548\n",
      "f1-measure-OG: 0.8152143059891638\n",
      "precision-overall: 0.7965889139704038\n",
      "recall-overall: 0.8008068582955119\n",
      "f1-measure-overall: 0.7986923173644666\n"
     ]
    },
    {
     "name": "stderr",
     "output_type": "stream",
     "text": [
      " 56%|█████▋    | 9051/16068 [00:26<00:20, 341.21it/s]"
     ]
    },
    {
     "name": "stdout",
     "output_type": "stream",
     "text": [
      "precision-GP: 0.7146768893756845\n",
      "recall-GP: 0.8579881656804734\n",
      "f1-measure-GP: 0.779802808485161\n",
      "precision-untyped: 0.7829360100376411\n",
      "recall-untyped: 0.8\n",
      "f1-measure-untyped: 0.7913760304374897\n",
      "precision-DS: 0.8064516129032258\n",
      "recall-DS: 0.7318224740321058\n",
      "f1-measure-DS: 0.7673267326732174\n",
      "precision-OG: 0.8245614035087719\n",
      "recall-OG: 0.7833333333333333\n",
      "f1-measure-OG: 0.8034188034187535\n",
      "precision-overall: 0.7789627770807194\n",
      "recall-overall: 0.7959401709401709\n",
      "f1-measure-overall: 0.7873599661804616\n"
     ]
    },
    {
     "name": "stderr",
     "output_type": "stream",
     "text": [
      " 63%|██████▎   | 10080/16068 [00:28<00:12, 485.05it/s]"
     ]
    },
    {
     "name": "stdout",
     "output_type": "stream",
     "text": [
      "precision-GP: 0.6997429305912597\n",
      "recall-GP: 0.8570528967254408\n",
      "f1-measure-GP: 0.7704500424567862\n",
      "precision-untyped: 0.7745417515274949\n",
      "recall-untyped: 0.8006315789473685\n",
      "f1-measure-untyped: 0.7873706004140288\n",
      "precision-DS: 0.802061855670103\n",
      "recall-DS: 0.7325800376647834\n",
      "f1-measure-DS: 0.765748031496013\n",
      "precision-OG: 0.8245614035087719\n",
      "recall-OG: 0.7833333333333333\n",
      "f1-measure-OG: 0.8034188034187535\n",
      "precision-overall: 0.7706720977596742\n",
      "recall-overall: 0.7966315789473685\n",
      "f1-measure-overall: 0.7834368530020204\n"
     ]
    },
    {
     "name": "stderr",
     "output_type": "stream",
     "text": [
      " 69%|██████▊   | 11030/16068 [00:31<00:19, 253.72it/s]"
     ]
    },
    {
     "name": "stdout",
     "output_type": "stream",
     "text": [
      "precision-GP: 0.6957163958641064\n",
      "recall-GP: 0.8548094373865699\n",
      "f1-measure-GP: 0.7671009771986476\n",
      "precision-untyped: 0.7644892421011824\n",
      "recall-untyped: 0.801788981500305\n",
      "f1-measure-untyped: 0.7826949791624823\n",
      "precision-DS: 0.7555147058823529\n",
      "recall-DS: 0.7345844504021448\n",
      "f1-measure-DS: 0.7449025826913864\n",
      "precision-OG: 0.8284313725490197\n",
      "recall-OG: 0.7871448532836516\n",
      "f1-measure-OG: 0.8072605684260309\n",
      "precision-overall: 0.7608063578212831\n",
      "recall-overall: 0.7979264078064647\n",
      "f1-measure-overall: 0.778924389759823\n"
     ]
    },
    {
     "name": "stderr",
     "output_type": "stream",
     "text": [
      " 75%|███████▍  | 12020/16068 [00:34<00:10, 398.14it/s]"
     ]
    },
    {
     "name": "stdout",
     "output_type": "stream",
     "text": [
      "precision-GP: 0.7055380459252589\n",
      "recall-GP: 0.860989010989011\n",
      "f1-measure-GP: 0.7755506062855235\n",
      "precision-untyped: 0.7653580516175936\n",
      "recall-untyped: 0.7922859830667921\n",
      "f1-measure-untyped: 0.7785892576499454\n",
      "precision-DS: 0.7497949138638228\n",
      "recall-DS: 0.6987767584097859\n",
      "f1-measure-DS: 0.7233874159081417\n",
      "precision-OG: 0.8297769156159069\n",
      "recall-OG: 0.782350251486054\n",
      "f1-measure-OG: 0.805365968463118\n",
      "precision-overall: 0.7619047619047619\n",
      "recall-overall: 0.7887111947318909\n",
      "f1-measure-overall: 0.7750762688360414\n"
     ]
    },
    {
     "name": "stderr",
     "output_type": "stream",
     "text": [
      " 81%|████████▏ | 13061/16068 [00:37<00:08, 341.60it/s]"
     ]
    },
    {
     "name": "stdout",
     "output_type": "stream",
     "text": [
      "precision-GP: 0.7281124497991968\n",
      "recall-GP: 0.8519736842105263\n",
      "f1-measure-GP: 0.7851883932437789\n",
      "precision-untyped: 0.7751683363442273\n",
      "recall-untyped: 0.7952822240943556\n",
      "f1-measure-untyped: 0.7850964737191783\n",
      "precision-DS: 0.7517482517482518\n",
      "recall-DS: 0.7138114209827358\n",
      "f1-measure-DS: 0.7322888283378247\n",
      "precision-OG: 0.8358690640848317\n",
      "recall-OG: 0.7879182963928727\n",
      "f1-measure-OG: 0.8111856823265721\n",
      "precision-overall: 0.6753975678203928\n",
      "recall-overall: 0.7006307617661329\n",
      "f1-measure-overall: 0.6877828054298143\n"
     ]
    },
    {
     "name": "stderr",
     "output_type": "stream",
     "text": [
      " 87%|████████▋ | 14058/16068 [00:39<00:05, 398.61it/s]"
     ]
    },
    {
     "name": "stdout",
     "output_type": "stream",
     "text": [
      "precision-GP: 0.7377149877149877\n",
      "recall-GP: 0.8529829545454546\n",
      "f1-measure-GP: 0.7911725955203719\n",
      "precision-untyped: 0.7750380939188253\n",
      "recall-untyped: 0.8043415756181713\n",
      "f1-measure-untyped: 0.7894179894179394\n",
      "precision-DS: 0.7704815509693559\n",
      "recall-DS: 0.734207389749702\n",
      "f1-measure-DS: 0.7519072322245457\n",
      "precision-OG: 0.8206429780033841\n",
      "recall-OG: 0.7879772542648253\n",
      "f1-measure-OG: 0.8039784500621133\n",
      "precision-overall: 0.7721291037539826\n",
      "recall-overall: 0.8013225991949396\n",
      "f1-measure-overall: 0.7864550264549767\n"
     ]
    },
    {
     "name": "stderr",
     "output_type": "stream",
     "text": [
      " 94%|█████████▎| 15036/16068 [00:42<00:03, 319.55it/s]"
     ]
    },
    {
     "name": "stdout",
     "output_type": "stream",
     "text": [
      "precision-GP: 0.7683116883116883\n",
      "recall-GP: 0.841296928327645\n",
      "f1-measure-GP: 0.8031496062991628\n",
      "precision-untyped: 0.7944804005373062\n",
      "recall-untyped: 0.7888929307627016\n",
      "f1-measure-untyped: 0.7916768070089547\n",
      "precision-DS: 0.7876206700738216\n",
      "recall-DS: 0.6723218613669414\n",
      "f1-measure-DS: 0.7254184100417913\n",
      "precision-OG: 0.8297129557796742\n",
      "recall-OG: 0.8017241379310345\n",
      "f1-measure-OG: 0.8154784597788293\n",
      "precision-overall: 0.7917938698253755\n",
      "recall-overall: 0.7862252940463199\n",
      "f1-measure-overall: 0.7889997566317339\n"
     ]
    },
    {
     "name": "stderr",
     "output_type": "stream",
     "text": [
      "100%|█████████▉| 16049/16068 [00:46<00:00, 343.30it/s]"
     ]
    },
    {
     "name": "stdout",
     "output_type": "stream",
     "text": [
      "precision-GP: 0.7531570169168453\n",
      "recall-GP: 0.8418109187749667\n",
      "f1-measure-GP: 0.7950201207242963\n",
      "precision-untyped: 0.7923545706371191\n",
      "recall-untyped: 0.7944672814131764\n",
      "f1-measure-untyped: 0.7934095195827748\n",
      "precision-DS: 0.7982017982017982\n",
      "recall-DS: 0.6890901250539025\n",
      "f1-measure-DS: 0.7396436010182331\n",
      "precision-OG: 0.8386411889596603\n",
      "recall-OG: 0.8097027673385719\n",
      "f1-measure-OG: 0.8239179558490722\n",
      "precision-overall: 0.7899168975069252\n",
      "recall-overall: 0.7920231085434951\n",
      "f1-measure-overall: 0.790968600909747\n"
     ]
    },
    {
     "name": "stderr",
     "output_type": "stream",
     "text": [
      "100%|██████████| 16068/16068 [00:46<00:00, 347.99it/s]\n",
      "  0%|          | 64/79401 [00:00<03:46, 349.93it/s]"
     ]
    },
    {
     "name": "stdout",
     "output_type": "stream",
     "text": [
      "precision-untyped: \t\t 0.7920496069095339\n",
      "recall-untyped: \t\t 0.7945129401310674\n",
      "f1-measure-untyped: \t\t 0.7932793612065598\n",
      "precision-overall: \t\t 0.7896135533163547\n",
      "recall-overall: \t\t 0.7920693102299233\n",
      "f1-measure-overall: \t\t 0.7908395253409725\n",
      "5--10\n"
     ]
    },
    {
     "name": "stderr",
     "output_type": "stream",
     "text": [
      "  4%|▍         | 3296/79401 [00:08<03:24, 371.26it/s]"
     ]
    },
    {
     "name": "stdout",
     "output_type": "stream",
     "text": [
      "sum loss: 352.30099463014346\n"
     ]
    },
    {
     "name": "stderr",
     "output_type": "stream",
     "text": [
      "  8%|▊         | 6496/79401 [00:17<03:02, 400.37it/s]"
     ]
    },
    {
     "name": "stdout",
     "output_type": "stream",
     "text": [
      "sum loss: 661.1508625913307\n"
     ]
    },
    {
     "name": "stderr",
     "output_type": "stream",
     "text": [
      " 12%|█▏        | 9696/79401 [00:26<03:11, 363.76it/s]"
     ]
    },
    {
     "name": "stdout",
     "output_type": "stream",
     "text": [
      "sum loss: 973.4545534921165\n"
     ]
    },
    {
     "name": "stderr",
     "output_type": "stream",
     "text": [
      " 16%|█▌        | 12896/79401 [00:35<03:05, 358.58it/s]"
     ]
    },
    {
     "name": "stdout",
     "output_type": "stream",
     "text": [
      "sum loss: 1398.0340062576533\n"
     ]
    },
    {
     "name": "stderr",
     "output_type": "stream",
     "text": [
      " 20%|██        | 16096/79401 [00:44<02:49, 373.55it/s]"
     ]
    },
    {
     "name": "stdout",
     "output_type": "stream",
     "text": [
      "sum loss: 1788.2088153267102\n"
     ]
    },
    {
     "name": "stderr",
     "output_type": "stream",
     "text": [
      " 24%|██▍       | 19296/79401 [00:53<02:47, 358.56it/s]"
     ]
    },
    {
     "name": "stdout",
     "output_type": "stream",
     "text": [
      "sum loss: 2224.1642525593898\n"
     ]
    },
    {
     "name": "stderr",
     "output_type": "stream",
     "text": [
      " 28%|██▊       | 22496/79401 [01:02<02:33, 371.04it/s]"
     ]
    },
    {
     "name": "stdout",
     "output_type": "stream",
     "text": [
      "sum loss: 2575.5947947773393\n"
     ]
    },
    {
     "name": "stderr",
     "output_type": "stream",
     "text": [
      " 32%|███▏      | 25696/79401 [01:11<02:33, 350.00it/s]"
     ]
    },
    {
     "name": "stdout",
     "output_type": "stream",
     "text": [
      "sum loss: 2915.3684194334696\n"
     ]
    },
    {
     "name": "stderr",
     "output_type": "stream",
     "text": [
      " 36%|███▋      | 28896/79401 [01:20<02:30, 335.85it/s]"
     ]
    },
    {
     "name": "stdout",
     "output_type": "stream",
     "text": [
      "sum loss: 3273.8508084187497\n"
     ]
    },
    {
     "name": "stderr",
     "output_type": "stream",
     "text": [
      " 40%|████      | 32096/79401 [01:29<02:09, 364.53it/s]"
     ]
    },
    {
     "name": "stdout",
     "output_type": "stream",
     "text": [
      "sum loss: 3650.044160959728\n"
     ]
    },
    {
     "name": "stderr",
     "output_type": "stream",
     "text": [
      " 44%|████▍     | 35296/79401 [01:38<02:02, 358.61it/s]"
     ]
    },
    {
     "name": "stdout",
     "output_type": "stream",
     "text": [
      "sum loss: 4092.967073080201\n"
     ]
    },
    {
     "name": "stderr",
     "output_type": "stream",
     "text": [
      " 48%|████▊     | 38496/79401 [01:47<01:56, 350.89it/s]"
     ]
    },
    {
     "name": "stdout",
     "output_type": "stream",
     "text": [
      "sum loss: 4467.923490489971\n"
     ]
    },
    {
     "name": "stderr",
     "output_type": "stream",
     "text": [
      " 53%|█████▎    | 41696/79401 [01:55<01:38, 383.65it/s]"
     ]
    },
    {
     "name": "stdout",
     "output_type": "stream",
     "text": [
      "sum loss: 4973.51197307073\n"
     ]
    },
    {
     "name": "stderr",
     "output_type": "stream",
     "text": [
      " 57%|█████▋    | 44896/79401 [02:04<01:33, 369.70it/s]"
     ]
    },
    {
     "name": "stdout",
     "output_type": "stream",
     "text": [
      "sum loss: 5372.590294411754\n"
     ]
    },
    {
     "name": "stderr",
     "output_type": "stream",
     "text": [
      " 61%|██████    | 48096/79401 [02:13<01:23, 372.88it/s]"
     ]
    },
    {
     "name": "stdout",
     "output_type": "stream",
     "text": [
      "sum loss: 5726.564434934104\n"
     ]
    },
    {
     "name": "stderr",
     "output_type": "stream",
     "text": [
      " 65%|██████▍   | 51296/79401 [02:22<01:15, 372.31it/s]"
     ]
    },
    {
     "name": "stdout",
     "output_type": "stream",
     "text": [
      "sum loss: 6184.034348711217\n"
     ]
    },
    {
     "name": "stderr",
     "output_type": "stream",
     "text": [
      " 69%|██████▊   | 54496/79401 [02:31<01:10, 351.00it/s]"
     ]
    },
    {
     "name": "stdout",
     "output_type": "stream",
     "text": [
      "sum loss: 6550.029457213553\n"
     ]
    },
    {
     "name": "stderr",
     "output_type": "stream",
     "text": [
      " 73%|███████▎  | 57696/79401 [02:40<00:57, 377.92it/s]"
     ]
    },
    {
     "name": "stdout",
     "output_type": "stream",
     "text": [
      "sum loss: 6933.28012191205\n"
     ]
    },
    {
     "name": "stderr",
     "output_type": "stream",
     "text": [
      " 77%|███████▋  | 60896/79401 [02:49<00:53, 346.03it/s]"
     ]
    },
    {
     "name": "stdout",
     "output_type": "stream",
     "text": [
      "sum loss: 7282.594107537445\n"
     ]
    },
    {
     "name": "stderr",
     "output_type": "stream",
     "text": [
      " 81%|████████  | 64096/79401 [02:57<00:40, 376.13it/s]"
     ]
    },
    {
     "name": "stdout",
     "output_type": "stream",
     "text": [
      "sum loss: 7665.807461304004\n"
     ]
    },
    {
     "name": "stderr",
     "output_type": "stream",
     "text": [
      " 85%|████████▍ | 67296/79401 [03:06<00:35, 345.80it/s]"
     ]
    },
    {
     "name": "stdout",
     "output_type": "stream",
     "text": [
      "sum loss: 8006.282787930555\n"
     ]
    },
    {
     "name": "stderr",
     "output_type": "stream",
     "text": [
      " 89%|████████▉ | 70496/79401 [03:15<00:23, 377.14it/s]"
     ]
    },
    {
     "name": "stdout",
     "output_type": "stream",
     "text": [
      "sum loss: 8353.28738060661\n"
     ]
    },
    {
     "name": "stderr",
     "output_type": "stream",
     "text": [
      " 93%|█████████▎| 73696/79401 [03:24<00:15, 362.15it/s]"
     ]
    },
    {
     "name": "stdout",
     "output_type": "stream",
     "text": [
      "sum loss: 8719.88545603785\n"
     ]
    },
    {
     "name": "stderr",
     "output_type": "stream",
     "text": [
      " 97%|█████████▋| 76896/79401 [03:32<00:06, 376.46it/s]"
     ]
    },
    {
     "name": "stdout",
     "output_type": "stream",
     "text": [
      "sum loss: 9186.887012816313\n"
     ]
    },
    {
     "name": "stderr",
     "output_type": "stream",
     "text": [
      "100%|██████████| 79401/79401 [03:39<00:00, 361.33it/s]\n"
     ]
    },
    {
     "name": "stdout",
     "output_type": "stream",
     "text": [
      "Saved model to /nfs/gns/literature/Santosh_Tirunagari/GitHub/spacy_models/pubmed-pmc-sm/5\n",
      "Loading from /nfs/gns/literature/Santosh_Tirunagari/GitHub/spacy_models/pubmed-pmc-sm/5\n"
     ]
    },
    {
     "name": "stderr",
     "output_type": "stream",
     "text": [
      "  0%|          | 34/16068 [00:00<00:47, 334.72it/s]"
     ]
    },
    {
     "name": "stdout",
     "output_type": "stream",
     "text": [
      "Evaluating 16068 rows\n"
     ]
    },
    {
     "name": "stderr",
     "output_type": "stream",
     "text": [
      "  7%|▋         | 1058/16068 [00:03<00:43, 346.95it/s]"
     ]
    },
    {
     "name": "stdout",
     "output_type": "stream",
     "text": [
      "precision-GP: 0.965217391304347\n",
      "recall-GP: 0.9327731092436967\n",
      "f1-measure-GP: 0.9487179487178979\n",
      "precision-untyped: 0.8106508875739642\n",
      "recall-untyped: 0.7080103359173124\n",
      "f1-measure-untyped: 0.7558620689654673\n",
      "precision-DS: 0.8114754098360649\n",
      "recall-DS: 0.8461538461538455\n",
      "f1-measure-DS: 0.8284518828451377\n",
      "precision-OG: 0.633663366336633\n",
      "recall-OG: 0.4238410596026487\n",
      "f1-measure-OG: 0.5079365079364595\n",
      "precision-overall: 0.8106508875739642\n",
      "recall-overall: 0.7080103359173124\n",
      "f1-measure-overall: 0.7558620689654673\n"
     ]
    },
    {
     "name": "stderr",
     "output_type": "stream",
     "text": [
      " 13%|█▎        | 2045/16068 [00:05<00:34, 409.12it/s]"
     ]
    },
    {
     "name": "stdout",
     "output_type": "stream",
     "text": [
      "precision-GP: 0.7092511013215855\n",
      "recall-GP: 0.8518518518518513\n",
      "f1-measure-GP: 0.7740384615384116\n",
      "precision-untyped: 0.7862796833773086\n",
      "recall-untyped: 0.692218350754936\n",
      "f1-measure-untyped: 0.7362569487337364\n",
      "precision-DS: 0.8333333333333328\n",
      "recall-DS: 0.870786516853932\n",
      "f1-measure-DS: 0.8516483516483011\n",
      "precision-OG: 0.8115942028985504\n",
      "recall-OG: 0.5668016194331983\n",
      "f1-measure-OG: 0.6674612634087714\n",
      "precision-overall: 0.7862796833773086\n",
      "recall-overall: 0.692218350754936\n",
      "f1-measure-overall: 0.7362569487337364\n"
     ]
    },
    {
     "name": "stderr",
     "output_type": "stream",
     "text": [
      " 19%|█▉        | 3035/16068 [00:08<00:43, 296.79it/s]"
     ]
    },
    {
     "name": "stdout",
     "output_type": "stream",
     "text": [
      "precision-GP: 0.5904761904761904\n",
      "recall-GP: 0.8516483516483514\n",
      "f1-measure-GP: 0.6974128233970269\n",
      "precision-untyped: 0.7266616878267363\n",
      "recall-untyped: 0.7536793183578622\n",
      "f1-measure-untyped: 0.7399239543725736\n",
      "precision-DS: 0.8218181818181814\n",
      "recall-DS: 0.8659003831417621\n",
      "f1-measure-DS: 0.8432835820895019\n",
      "precision-OG: 0.8070500927643783\n",
      "recall-OG: 0.653153153153153\n",
      "f1-measure-OG: 0.7219917012447639\n",
      "precision-overall: 0.7251680358476476\n",
      "recall-overall: 0.7521301316808675\n",
      "f1-measure-overall: 0.7384030418250451\n"
     ]
    },
    {
     "name": "stderr",
     "output_type": "stream",
     "text": [
      " 25%|██▌       | 4041/16068 [00:11<00:37, 321.03it/s]"
     ]
    },
    {
     "name": "stdout",
     "output_type": "stream",
     "text": [
      "precision-GP: 0.6064189189189187\n",
      "recall-GP: 0.8407494145199061\n",
      "f1-measure-GP: 0.7046123650637391\n",
      "precision-untyped: 0.7440401505646174\n",
      "recall-untyped: 0.7459119496855345\n",
      "f1-measure-untyped: 0.7449748743718093\n",
      "precision-DS: 0.8237288135593217\n",
      "recall-DS: 0.8586572438162541\n",
      "f1-measure-DS: 0.8408304498269393\n",
      "precision-OG: 0.8203677510608203\n",
      "recall-OG: 0.6590909090909091\n",
      "f1-measure-OG: 0.730938878386844\n",
      "precision-overall: 0.7415307402760352\n",
      "recall-overall: 0.7433962264150943\n",
      "f1-measure-overall: 0.7424623115577389\n"
     ]
    },
    {
     "name": "stderr",
     "output_type": "stream",
     "text": [
      " 32%|███▏      | 5064/16068 [00:14<00:32, 341.93it/s]"
     ]
    },
    {
     "name": "stdout",
     "output_type": "stream",
     "text": [
      "precision-GP: 0.6486880466472302\n",
      "recall-GP: 0.8476190476190474\n",
      "f1-measure-GP: 0.7349298100742695\n",
      "precision-untyped: 0.7741612418627942\n",
      "recall-untyped: 0.7733866933466733\n",
      "f1-measure-untyped: 0.7737737737737239\n",
      "precision-DS: 0.8127659574468084\n",
      "recall-DS: 0.8432671081677702\n",
      "f1-measure-DS: 0.8277356446370029\n",
      "precision-OG: 0.8406658739595718\n",
      "recall-OG: 0.6924583741429969\n",
      "f1-measure-OG: 0.7593984962405519\n",
      "precision-overall: 0.7681522283425137\n",
      "recall-overall: 0.7673836918459229\n",
      "f1-measure-overall: 0.7677677677677177\n"
     ]
    },
    {
     "name": "stderr",
     "output_type": "stream",
     "text": [
      " 38%|███▊      | 6052/16068 [00:17<00:30, 324.10it/s]"
     ]
    },
    {
     "name": "stdout",
     "output_type": "stream",
     "text": [
      "precision-GP: 0.6739690721649484\n",
      "recall-GP: 0.8354632587859423\n",
      "f1-measure-GP: 0.7460770328102215\n",
      "precision-untyped: 0.787321063394683\n",
      "recall-untyped: 0.792507204610951\n",
      "f1-measure-untyped: 0.7899056216659327\n",
      "precision-DS: 0.8024193548387095\n",
      "recall-DS: 0.8468085106382977\n",
      "f1-measure-DS: 0.8240165631469478\n",
      "precision-OG: 0.8456947996589941\n",
      "recall-OG: 0.7441860465116279\n",
      "f1-measure-OG: 0.7916999201914906\n",
      "precision-overall: 0.7824130879345603\n",
      "recall-overall: 0.7875668999588308\n",
      "f1-measure-overall: 0.7849815346737292\n"
     ]
    },
    {
     "name": "stderr",
     "output_type": "stream",
     "text": [
      " 44%|████▍     | 7054/16068 [00:20<00:29, 309.12it/s]"
     ]
    },
    {
     "name": "stdout",
     "output_type": "stream",
     "text": [
      "precision-GP: 0.7\n",
      "recall-GP: 0.7966751918158567\n",
      "f1-measure-GP: 0.7452153110047347\n",
      "precision-untyped: 0.8106796116504854\n",
      "recall-untyped: 0.8008312020460358\n",
      "f1-measure-untyped: 0.805725313605611\n",
      "precision-DS: 0.8172205438066464\n",
      "recall-DS: 0.8426791277258565\n",
      "f1-measure-DS: 0.8297546012269438\n",
      "precision-OG: 0.8602080624187256\n",
      "recall-OG: 0.7764084507042254\n",
      "f1-measure-OG: 0.8161628624305487\n",
      "precision-overall: 0.8048543689320389\n",
      "recall-overall: 0.795076726342711\n",
      "f1-measure-overall: 0.7999356706335943\n"
     ]
    },
    {
     "name": "stderr",
     "output_type": "stream",
     "text": [
      " 50%|█████     | 8040/16068 [00:23<00:25, 315.55it/s]"
     ]
    },
    {
     "name": "stdout",
     "output_type": "stream",
     "text": [
      "precision-GP: 0.7186115214180206\n",
      "recall-GP: 0.8475609756097561\n",
      "f1-measure-GP: 0.7777777777777283\n",
      "precision-untyped: 0.7993445928913536\n",
      "recall-untyped: 0.7995461422087746\n",
      "f1-measure-untyped: 0.7994453548467924\n",
      "precision-DS: 0.8083961248654467\n",
      "recall-DS: 0.7487537387836489\n",
      "f1-measure-DS: 0.7774327122152708\n",
      "precision-OG: 0.8485748218527316\n",
      "recall-OG: 0.78732782369146\n",
      "f1-measure-OG: 0.8168048013717707\n",
      "precision-overall: 0.7948071590622636\n",
      "recall-overall: 0.7950075642965204\n",
      "f1-measure-overall: 0.7949073490482294\n"
     ]
    },
    {
     "name": "stderr",
     "output_type": "stream",
     "text": [
      " 56%|█████▋    | 9054/16068 [00:26<00:20, 340.50it/s]"
     ]
    },
    {
     "name": "stdout",
     "output_type": "stream",
     "text": [
      "precision-GP: 0.7144450641383157\n",
      "recall-GP: 0.8422090729783037\n",
      "f1-measure-GP: 0.7730838865418935\n",
      "precision-untyped: 0.7853977632411901\n",
      "recall-untyped: 0.7952991452991452\n",
      "f1-measure-untyped: 0.790317443465286\n",
      "precision-DS: 0.8022426095820591\n",
      "recall-DS: 0.7431539187913125\n",
      "f1-measure-DS: 0.7715686274509305\n",
      "precision-OG: 0.8315521628498728\n",
      "recall-OG: 0.7780952380952381\n",
      "f1-measure-OG: 0.8039360393603437\n",
      "precision-overall: 0.7811774635999156\n",
      "recall-overall: 0.791025641025641\n",
      "f1-measure-overall: 0.7860707081430649\n"
     ]
    },
    {
     "name": "stderr",
     "output_type": "stream",
     "text": [
      " 63%|██████▎   | 10065/16068 [00:28<00:12, 480.73it/s]"
     ]
    },
    {
     "name": "stdout",
     "output_type": "stream",
     "text": [
      "precision-GP: 0.7000524383848977\n",
      "recall-GP: 0.8406801007556675\n",
      "f1-measure-GP: 0.7639484978540276\n",
      "precision-untyped: 0.7769325657894737\n",
      "recall-untyped: 0.795578947368421\n",
      "f1-measure-untyped: 0.7861452049094569\n",
      "precision-DS: 0.7963709677419354\n",
      "recall-DS: 0.743879472693032\n",
      "f1-measure-DS: 0.7692307692307192\n",
      "precision-OG: 0.8315521628498728\n",
      "recall-OG: 0.7780952380952381\n",
      "f1-measure-OG: 0.8039360393603437\n",
      "precision-overall: 0.7728207236842105\n",
      "recall-overall: 0.7913684210526316\n",
      "f1-measure-overall: 0.7819846057831829\n"
     ]
    },
    {
     "name": "stderr",
     "output_type": "stream",
     "text": [
      " 69%|██████▉   | 11047/16068 [00:31<00:19, 259.29it/s]"
     ]
    },
    {
     "name": "stdout",
     "output_type": "stream",
     "text": [
      "precision-GP: 0.6971371170266197\n",
      "recall-GP: 0.8396854204476709\n",
      "f1-measure-GP: 0.7618002195389185\n",
      "precision-untyped: 0.767018779342723\n",
      "recall-untyped: 0.7971132343972352\n",
      "f1-measure-untyped: 0.7817764928720464\n",
      "precision-DS: 0.7506750675067507\n",
      "recall-DS: 0.7453083109919572\n",
      "f1-measure-DS: 0.7479820627802192\n",
      "precision-OG: 0.8353233830845771\n",
      "recall-OG: 0.7820214252445272\n",
      "f1-measure-OG: 0.8077940822708185\n",
      "precision-overall: 0.7631064162754304\n",
      "recall-overall: 0.7930473673510876\n",
      "f1-measure-overall: 0.7777888545508423\n"
     ]
    },
    {
     "name": "stderr",
     "output_type": "stream",
     "text": [
      " 75%|███████▍  | 12048/16068 [00:34<00:10, 369.62it/s]"
     ]
    },
    {
     "name": "stdout",
     "output_type": "stream",
     "text": [
      "precision-GP: 0.7068014705882353\n",
      "recall-GP: 0.845054945054945\n",
      "f1-measure-GP: 0.7697697697697202\n",
      "precision-untyped: 0.7682009902805795\n",
      "recall-untyped: 0.7881467544684854\n",
      "f1-measure-untyped: 0.7780460624070824\n",
      "precision-DS: 0.7467845659163987\n",
      "recall-DS: 0.7102446483180428\n",
      "f1-measure-DS: 0.7280564263322384\n",
      "precision-OG: 0.8371864240039351\n",
      "recall-OG: 0.7782350251486054\n",
      "f1-measure-OG: 0.8066350710899975\n",
      "precision-overall: 0.7645332844305887\n",
      "recall-overall: 0.7843838193791157\n",
      "f1-measure-overall: 0.7743313521544821\n"
     ]
    },
    {
     "name": "stderr",
     "output_type": "stream",
     "text": [
      " 81%|████████▏ | 13069/16068 [00:36<00:08, 353.77it/s]"
     ]
    },
    {
     "name": "stdout",
     "output_type": "stream",
     "text": [
      "precision-GP: 0.7287996722654649\n",
      "recall-GP: 0.8359962406015038\n",
      "f1-measure-GP: 0.7787261982927933\n",
      "precision-untyped: 0.777612187448253\n",
      "recall-untyped: 0.7912384161752317\n",
      "f1-measure-untyped: 0.7843661266076\n",
      "precision-DS: 0.7498281786941581\n",
      "recall-DS: 0.7244355909694555\n",
      "f1-measure-DS: 0.7369132049982614\n",
      "precision-OG: 0.8427438170788614\n",
      "recall-OG: 0.7848761408083442\n",
      "f1-measure-OG: 0.8127812781277628\n",
      "precision-overall: 0.7743003808577579\n",
      "recall-overall: 0.7878685762426285\n",
      "f1-measure-overall: 0.7810255553699184\n"
     ]
    },
    {
     "name": "stderr",
     "output_type": "stream",
     "text": [
      " 88%|████████▊ | 14075/16068 [00:39<00:04, 398.65it/s]"
     ]
    },
    {
     "name": "stdout",
     "output_type": "stream",
     "text": [
      "precision-GP: 0.7408679363097096\n",
      "recall-GP: 0.8426846590909091\n",
      "f1-measure-GP: 0.788503073600216\n",
      "precision-untyped: 0.7772505233775296\n",
      "recall-untyped: 0.8006037952846463\n",
      "f1-measure-untyped: 0.7887543375114576\n",
      "precision-DS: 0.7684729064039408\n",
      "recall-DS: 0.7437425506555423\n",
      "f1-measure-DS: 0.7559055118109738\n",
      "precision-OG: 0.823781009409752\n",
      "recall-OG: 0.7822908204711616\n",
      "f1-measure-OG: 0.80249999999995\n",
      "precision-overall: 0.7741800418702024\n",
      "recall-overall: 0.797441058079356\n",
      "f1-measure-overall: 0.7856384108773666\n"
     ]
    },
    {
     "name": "stderr",
     "output_type": "stream",
     "text": [
      " 94%|█████████▍| 15071/16068 [00:42<00:02, 335.82it/s]"
     ]
    },
    {
     "name": "stdout",
     "output_type": "stream",
     "text": [
      "precision-GP: 0.7727751448130595\n",
      "recall-GP: 0.8347554038680318\n",
      "f1-measure-GP: 0.8025704129067043\n",
      "precision-untyped: 0.7968519429414658\n",
      "recall-untyped: 0.7857402691887959\n",
      "f1-measure-untyped: 0.79125709750285\n",
      "precision-DS: 0.7855543113101904\n",
      "recall-DS: 0.6800775569558895\n",
      "f1-measure-DS: 0.7290205248115897\n",
      "precision-OG: 0.8316326530612245\n",
      "recall-OG: 0.7942278860569715\n",
      "f1-measure-OG: 0.81249999999995\n",
      "precision-overall: 0.794023610427939\n",
      "recall-overall: 0.7829513762580332\n",
      "f1-measure-overall: 0.7884486232370218\n"
     ]
    },
    {
     "name": "stderr",
     "output_type": "stream",
     "text": [
      "100%|█████████▉| 16038/16068 [00:46<00:00, 343.96it/s]"
     ]
    },
    {
     "name": "stdout",
     "output_type": "stream",
     "text": [
      "precision-GP: 0.7651940444227483\n",
      "recall-GP: 0.8348868175765646\n",
      "f1-measure-GP: 0.7985226693835467\n",
      "precision-untyped: 0.7983409931622015\n",
      "recall-untyped: 0.7912454171758694\n",
      "f1-measure-untyped: 0.7947773685972049\n",
      "precision-DS: 0.7955665024630542\n",
      "recall-DS: 0.6964208710651143\n",
      "f1-measure-DS: 0.7426994711427417\n",
      "precision-OG: 0.8407301360057265\n",
      "recall-OG: 0.8025281858558251\n",
      "f1-measure-OG: 0.8211851074986392\n",
      "precision-overall: 0.7957628068602175\n",
      "recall-overall: 0.7886901455393845\n",
      "f1-measure-overall: 0.7922106907710694\n"
     ]
    },
    {
     "name": "stderr",
     "output_type": "stream",
     "text": [
      "100%|██████████| 16068/16068 [00:46<00:00, 347.85it/s]\n",
      "  0%|          | 0/79401 [00:00<?, ?it/s]"
     ]
    },
    {
     "name": "stdout",
     "output_type": "stream",
     "text": [
      "precision-untyped: \t\t 0.7976710334788938\n",
      "recall-untyped: \t\t 0.7912917916250138\n",
      "f1-measure-untyped: \t\t 0.7944686071149272\n",
      "precision-overall: \t\t 0.7950957339603628\n",
      "recall-overall: \t\t 0.7887370876374542\n",
      "f1-measure-overall: \t\t 0.7919036467045335\n",
      "6--10\n"
     ]
    },
    {
     "name": "stderr",
     "output_type": "stream",
     "text": [
      "  4%|▍         | 3264/79401 [00:08<03:20, 379.98it/s]"
     ]
    },
    {
     "name": "stdout",
     "output_type": "stream",
     "text": [
      "sum loss: 282.6135028847659\n"
     ]
    },
    {
     "name": "stderr",
     "output_type": "stream",
     "text": [
      "  8%|▊         | 6464/79401 [00:17<03:18, 366.63it/s]"
     ]
    },
    {
     "name": "stdout",
     "output_type": "stream",
     "text": [
      "sum loss: 575.2063950625159\n"
     ]
    },
    {
     "name": "stderr",
     "output_type": "stream",
     "text": [
      " 12%|█▏        | 9696/79401 [00:26<03:06, 373.89it/s]"
     ]
    },
    {
     "name": "stdout",
     "output_type": "stream",
     "text": [
      "sum loss: 977.5725757705411\n"
     ]
    },
    {
     "name": "stderr",
     "output_type": "stream",
     "text": [
      " 16%|█▌        | 12896/79401 [00:35<03:00, 368.19it/s]"
     ]
    },
    {
     "name": "stdout",
     "output_type": "stream",
     "text": [
      "sum loss: 1272.4833091073751\n"
     ]
    },
    {
     "name": "stderr",
     "output_type": "stream",
     "text": [
      " 20%|██        | 16096/79401 [00:44<02:56, 357.78it/s]"
     ]
    },
    {
     "name": "stdout",
     "output_type": "stream",
     "text": [
      "sum loss: 1624.392703492645\n"
     ]
    },
    {
     "name": "stderr",
     "output_type": "stream",
     "text": [
      " 24%|██▍       | 19296/79401 [00:52<02:50, 352.33it/s]"
     ]
    },
    {
     "name": "stdout",
     "output_type": "stream",
     "text": [
      "sum loss: 1928.3253582726716\n"
     ]
    },
    {
     "name": "stderr",
     "output_type": "stream",
     "text": [
      " 28%|██▊       | 22496/79401 [01:01<02:33, 371.93it/s]"
     ]
    },
    {
     "name": "stdout",
     "output_type": "stream",
     "text": [
      "sum loss: 2277.4690712973725\n"
     ]
    },
    {
     "name": "stderr",
     "output_type": "stream",
     "text": [
      " 32%|███▏      | 25664/79401 [01:10<02:22, 378.23it/s]"
     ]
    },
    {
     "name": "stdout",
     "output_type": "stream",
     "text": [
      "sum loss: 2659.5413025995526\n"
     ]
    },
    {
     "name": "stderr",
     "output_type": "stream",
     "text": [
      " 36%|███▋      | 28864/79401 [01:19<02:13, 377.63it/s]"
     ]
    },
    {
     "name": "stdout",
     "output_type": "stream",
     "text": [
      "sum loss: 2986.24790559444\n"
     ]
    },
    {
     "name": "stderr",
     "output_type": "stream",
     "text": [
      " 40%|████      | 32064/79401 [01:27<02:02, 386.01it/s]"
     ]
    },
    {
     "name": "stdout",
     "output_type": "stream",
     "text": [
      "sum loss: 3310.9378103215267\n"
     ]
    },
    {
     "name": "stderr",
     "output_type": "stream",
     "text": [
      " 44%|████▍     | 35264/79401 [01:36<01:50, 398.21it/s]"
     ]
    },
    {
     "name": "stdout",
     "output_type": "stream",
     "text": [
      "sum loss: 3682.5170010583593\n"
     ]
    },
    {
     "name": "stderr",
     "output_type": "stream",
     "text": [
      " 48%|████▊     | 38464/79401 [01:44<02:02, 332.96it/s]"
     ]
    },
    {
     "name": "stdout",
     "output_type": "stream",
     "text": [
      "sum loss: 4052.931103159483\n"
     ]
    },
    {
     "name": "stderr",
     "output_type": "stream",
     "text": [
      " 52%|█████▏    | 41664/79401 [01:53<01:40, 376.01it/s]"
     ]
    },
    {
     "name": "stdout",
     "output_type": "stream",
     "text": [
      "sum loss: 4358.107926943445\n"
     ]
    },
    {
     "name": "stderr",
     "output_type": "stream",
     "text": [
      " 57%|█████▋    | 44864/79401 [02:02<01:51, 309.61it/s]"
     ]
    },
    {
     "name": "stdout",
     "output_type": "stream",
     "text": [
      "sum loss: 4684.864985592676\n"
     ]
    },
    {
     "name": "stderr",
     "output_type": "stream",
     "text": [
      " 61%|██████    | 48064/79401 [02:11<01:32, 338.04it/s]"
     ]
    },
    {
     "name": "stdout",
     "output_type": "stream",
     "text": [
      "sum loss: 5051.340510068647\n"
     ]
    },
    {
     "name": "stderr",
     "output_type": "stream",
     "text": [
      " 65%|██████▍   | 51264/79401 [02:20<01:19, 351.93it/s]"
     ]
    },
    {
     "name": "stdout",
     "output_type": "stream",
     "text": [
      "sum loss: 5417.445280388503\n"
     ]
    },
    {
     "name": "stderr",
     "output_type": "stream",
     "text": [
      " 69%|██████▊   | 54464/79401 [02:29<01:08, 362.46it/s]"
     ]
    },
    {
     "name": "stdout",
     "output_type": "stream",
     "text": [
      "sum loss: 5760.285945719989\n"
     ]
    },
    {
     "name": "stderr",
     "output_type": "stream",
     "text": [
      " 73%|███████▎  | 57664/79401 [02:38<01:00, 360.17it/s]"
     ]
    },
    {
     "name": "stdout",
     "output_type": "stream",
     "text": [
      "sum loss: 6118.102141035716\n"
     ]
    },
    {
     "name": "stderr",
     "output_type": "stream",
     "text": [
      " 77%|███████▋  | 60864/79401 [02:46<00:50, 368.52it/s]"
     ]
    },
    {
     "name": "stdout",
     "output_type": "stream",
     "text": [
      "sum loss: 6587.771065152296\n"
     ]
    },
    {
     "name": "stderr",
     "output_type": "stream",
     "text": [
      " 81%|████████  | 64064/79401 [02:55<00:43, 350.28it/s]"
     ]
    },
    {
     "name": "stdout",
     "output_type": "stream",
     "text": [
      "sum loss: 6929.830832848363\n"
     ]
    },
    {
     "name": "stderr",
     "output_type": "stream",
     "text": [
      " 85%|████████▍ | 67264/79401 [03:04<00:33, 363.46it/s]"
     ]
    },
    {
     "name": "stdout",
     "output_type": "stream",
     "text": [
      "sum loss: 7276.161123477232\n"
     ]
    },
    {
     "name": "stderr",
     "output_type": "stream",
     "text": [
      " 89%|████████▊ | 70464/79401 [03:13<00:24, 360.99it/s]"
     ]
    },
    {
     "name": "stdout",
     "output_type": "stream",
     "text": [
      "sum loss: 7656.018585990332\n"
     ]
    },
    {
     "name": "stderr",
     "output_type": "stream",
     "text": [
      " 93%|█████████▎| 73664/79401 [03:22<00:15, 376.42it/s]"
     ]
    },
    {
     "name": "stdout",
     "output_type": "stream",
     "text": [
      "sum loss: 7983.990645994971\n"
     ]
    },
    {
     "name": "stderr",
     "output_type": "stream",
     "text": [
      " 97%|█████████▋| 76864/79401 [03:31<00:07, 352.97it/s]"
     ]
    },
    {
     "name": "stdout",
     "output_type": "stream",
     "text": [
      "sum loss: 8336.811639115618\n"
     ]
    },
    {
     "name": "stderr",
     "output_type": "stream",
     "text": [
      "100%|██████████| 79401/79401 [03:38<00:00, 363.21it/s]\n"
     ]
    },
    {
     "name": "stdout",
     "output_type": "stream",
     "text": [
      "Saved model to /nfs/gns/literature/Santosh_Tirunagari/GitHub/spacy_models/pubmed-pmc-sm/6\n",
      "Loading from /nfs/gns/literature/Santosh_Tirunagari/GitHub/spacy_models/pubmed-pmc-sm/6\n"
     ]
    },
    {
     "name": "stderr",
     "output_type": "stream",
     "text": [
      "  0%|          | 33/16068 [00:00<00:48, 328.82it/s]"
     ]
    },
    {
     "name": "stdout",
     "output_type": "stream",
     "text": [
      "Evaluating 16068 rows\n"
     ]
    },
    {
     "name": "stderr",
     "output_type": "stream",
     "text": [
      "  6%|▋         | 1027/16068 [00:02<00:39, 378.81it/s]"
     ]
    },
    {
     "name": "stdout",
     "output_type": "stream",
     "text": [
      "precision-GP: 0.9482758620689647\n",
      "recall-GP: 0.9243697478991589\n",
      "f1-measure-GP: 0.9361702127659067\n",
      "precision-untyped: 0.811145510835913\n",
      "recall-untyped: 0.677002583979328\n",
      "f1-measure-untyped: 0.7380281690140347\n",
      "precision-DS: 0.8333333333333326\n",
      "recall-DS: 0.854700854700854\n",
      "f1-measure-DS: 0.8438818565400338\n",
      "precision-OG: 0.5977011494252866\n",
      "recall-OG: 0.3443708609271521\n",
      "f1-measure-OG: 0.43697478991591965\n",
      "precision-overall: 0.811145510835913\n",
      "recall-overall: 0.677002583979328\n",
      "f1-measure-overall: 0.7380281690140347\n"
     ]
    },
    {
     "name": "stderr",
     "output_type": "stream",
     "text": [
      " 13%|█▎        | 2043/16068 [00:05<00:34, 410.74it/s]"
     ]
    },
    {
     "name": "stdout",
     "output_type": "stream",
     "text": [
      "precision-GP: 0.7061403508771926\n",
      "recall-GP: 0.8518518518518513\n",
      "f1-measure-GP: 0.7721822541965927\n",
      "precision-untyped: 0.7869742198100406\n",
      "recall-untyped: 0.6736353077816492\n",
      "f1-measure-untyped: 0.725907384230238\n",
      "precision-DS: 0.8432432432432427\n",
      "recall-DS: 0.876404494382022\n",
      "f1-measure-DS: 0.8595041322313546\n",
      "precision-OG: 0.8117283950617281\n",
      "recall-OG: 0.5323886639676112\n",
      "f1-measure-OG: 0.6430317848410277\n",
      "precision-overall: 0.7869742198100406\n",
      "recall-overall: 0.6736353077816492\n",
      "f1-measure-overall: 0.725907384230238\n"
     ]
    },
    {
     "name": "stderr",
     "output_type": "stream",
     "text": [
      " 19%|█▉        | 3047/16068 [00:08<00:43, 302.81it/s]"
     ]
    },
    {
     "name": "stdout",
     "output_type": "stream",
     "text": [
      "precision-GP: 0.6054687499999999\n",
      "recall-GP: 0.8516483516483514\n",
      "f1-measure-GP: 0.707762557077577\n",
      "precision-untyped: 0.7363984674329502\n",
      "recall-untyped: 0.7443841982958946\n",
      "f1-measure-untyped: 0.7403697996917835\n",
      "precision-DS: 0.8220640569395015\n",
      "recall-DS: 0.8850574712643674\n",
      "f1-measure-DS: 0.8523985239851894\n",
      "precision-OG: 0.8164062499999998\n",
      "recall-OG: 0.6276276276276275\n",
      "f1-measure-OG: 0.7096774193547896\n",
      "precision-overall: 0.7348659003831418\n",
      "recall-overall: 0.7428350116189001\n",
      "f1-measure-overall: 0.7388289676424771\n"
     ]
    },
    {
     "name": "stderr",
     "output_type": "stream",
     "text": [
      " 25%|██▌       | 4053/16068 [00:11<00:37, 323.85it/s]"
     ]
    },
    {
     "name": "stdout",
     "output_type": "stream",
     "text": [
      "precision-GP: 0.6247848537005162\n",
      "recall-GP: 0.8501170960187351\n",
      "f1-measure-GP: 0.7202380952380463\n",
      "precision-untyped: 0.7543186180422264\n",
      "recall-untyped: 0.7415094339622641\n",
      "f1-measure-untyped: 0.7478591817316341\n",
      "precision-DS: 0.8239202657807306\n",
      "recall-DS: 0.8763250883392223\n",
      "f1-measure-DS: 0.8493150684931006\n",
      "precision-OG: 0.829662261380323\n",
      "recall-OG: 0.6420454545454545\n",
      "f1-measure-OG: 0.7238949391415266\n",
      "precision-overall: 0.7523992322456814\n",
      "recall-overall: 0.7396226415094339\n",
      "f1-measure-overall: 0.7459562321597978\n"
     ]
    },
    {
     "name": "stderr",
     "output_type": "stream",
     "text": [
      " 32%|███▏      | 5062/16068 [00:14<00:32, 338.13it/s]"
     ]
    },
    {
     "name": "stdout",
     "output_type": "stream",
     "text": [
      "precision-GP: 0.6587183308494783\n",
      "recall-GP: 0.8419047619047617\n",
      "f1-measure-GP: 0.7391304347825594\n",
      "precision-untyped: 0.7793594306049823\n",
      "recall-untyped: 0.7668834417208604\n",
      "f1-measure-untyped: 0.7730711043872421\n",
      "precision-DS: 0.8108108108108106\n",
      "recall-DS: 0.8609271523178805\n",
      "f1-measure-DS: 0.8351177730192217\n",
      "precision-OG: 0.8466257668711655\n",
      "recall-OG: 0.6758080313418217\n",
      "f1-measure-OG: 0.751633986928055\n",
      "precision-overall: 0.7737671581087952\n",
      "recall-overall: 0.7613806903451726\n",
      "f1-measure-overall: 0.7675239536055981\n"
     ]
    },
    {
     "name": "stderr",
     "output_type": "stream",
     "text": [
      " 38%|███▊      | 6057/16068 [00:17<00:31, 321.46it/s]"
     ]
    },
    {
     "name": "stdout",
     "output_type": "stream",
     "text": [
      "precision-GP: 0.6863517060367453\n",
      "recall-GP: 0.8354632587859423\n",
      "f1-measure-GP: 0.7536023054754548\n",
      "precision-untyped: 0.791649441918148\n",
      "recall-untyped: 0.7883902840675175\n",
      "f1-measure-untyped: 0.790016501650115\n",
      "precision-DS: 0.8023715415019761\n",
      "recall-DS: 0.8638297872340424\n",
      "f1-measure-DS: 0.831967213114704\n",
      "precision-OG: 0.8470894874022589\n",
      "recall-OG: 0.7314328582145536\n",
      "f1-measure-OG: 0.7850241545893223\n",
      "precision-overall: 0.7871021083092187\n",
      "recall-overall: 0.7838616714697406\n",
      "f1-measure-overall: 0.7854785478547355\n"
     ]
    },
    {
     "name": "stderr",
     "output_type": "stream",
     "text": [
      " 44%|████▍     | 7049/16068 [00:20<00:29, 304.42it/s]"
     ]
    },
    {
     "name": "stdout",
     "output_type": "stream",
     "text": [
      "precision-GP: 0.7139614074914868\n",
      "recall-GP: 0.8043478260869564\n",
      "f1-measure-GP: 0.7564642212867813\n",
      "precision-untyped: 0.818122555410691\n",
      "recall-untyped: 0.8024296675191815\n",
      "f1-measure-untyped: 0.8102001291155085\n",
      "precision-DS: 0.8261515601783059\n",
      "recall-DS: 0.866043613707165\n",
      "f1-measure-DS: 0.8456273764258054\n",
      "precision-OG: 0.8639365918097754\n",
      "recall-OG: 0.7676056338028169\n",
      "f1-measure-OG: 0.8129272840272964\n",
      "precision-overall: 0.8125814863102999\n",
      "recall-overall: 0.796994884910486\n",
      "f1-measure-overall: 0.804712717882455\n"
     ]
    },
    {
     "name": "stderr",
     "output_type": "stream",
     "text": [
      " 50%|█████     | 8046/16068 [00:23<00:25, 315.51it/s]"
     ]
    },
    {
     "name": "stdout",
     "output_type": "stream",
     "text": [
      "precision-GP: 0.726800296956199\n",
      "recall-GP: 0.8527874564459931\n",
      "f1-measure-GP: 0.7847695390781066\n",
      "precision-untyped: 0.8042206966692093\n",
      "recall-untyped: 0.797528996469995\n",
      "f1-measure-untyped: 0.8008608684643127\n",
      "precision-DS: 0.8120950323974081\n",
      "recall-DS: 0.7497507477567297\n",
      "f1-measure-DS: 0.7796785899429256\n",
      "precision-OG: 0.8518072289156626\n",
      "recall-OG: 0.7790633608815427\n",
      "f1-measure-OG: 0.8138129496402379\n",
      "precision-overall: 0.7996440376303077\n",
      "recall-overall: 0.7929904185577408\n",
      "f1-measure-overall: 0.7963033295353342\n"
     ]
    },
    {
     "name": "stderr",
     "output_type": "stream",
     "text": [
      " 56%|█████▋    | 9058/16068 [00:26<00:20, 338.46it/s]"
     ]
    },
    {
     "name": "stdout",
     "output_type": "stream",
     "text": [
      "precision-GP: 0.7069818581638263\n",
      "recall-GP: 0.8454963839579224\n",
      "f1-measure-GP: 0.7700598802394714\n",
      "precision-untyped: 0.7842971718024483\n",
      "recall-untyped: 0.794017094017094\n",
      "f1-measure-untyped: 0.7891272032278116\n",
      "precision-DS: 0.8022426095820591\n",
      "recall-DS: 0.7431539187913125\n",
      "f1-measure-DS: 0.7715686274509305\n",
      "precision-OG: 0.8364293085655314\n",
      "recall-OG: 0.7719047619047619\n",
      "f1-measure-OG: 0.802872709261961\n",
      "precision-overall: 0.7796538623891938\n",
      "recall-overall: 0.7893162393162393\n",
      "f1-measure-overall: 0.7844552983647833\n"
     ]
    },
    {
     "name": "stderr",
     "output_type": "stream",
     "text": [
      " 63%|██████▎   | 10075/16068 [00:28<00:12, 486.75it/s]"
     ]
    },
    {
     "name": "stdout",
     "output_type": "stream",
     "text": [
      "precision-GP: 0.6931818181818182\n",
      "recall-GP: 0.845088161209068\n",
      "f1-measure-GP: 0.7616345062428564\n",
      "precision-untyped: 0.7757912042745582\n",
      "recall-untyped: 0.7947368421052632\n",
      "f1-measure-untyped: 0.7851497504159235\n",
      "precision-DS: 0.7963709677419354\n",
      "recall-DS: 0.743879472693032\n",
      "f1-measure-DS: 0.7692307692307192\n",
      "precision-OG: 0.8364293085655314\n",
      "recall-OG: 0.7719047619047619\n",
      "f1-measure-OG: 0.802872709261961\n",
      "precision-overall: 0.7712700369913686\n",
      "recall-overall: 0.7901052631578948\n",
      "f1-measure-overall: 0.7805740432611813\n"
     ]
    },
    {
     "name": "stderr",
     "output_type": "stream",
     "text": [
      " 69%|██████▉   | 11052/16068 [00:31<00:19, 261.54it/s]"
     ]
    },
    {
     "name": "stdout",
     "output_type": "stream",
     "text": [
      "precision-GP: 0.690064260998517\n",
      "recall-GP: 0.8445251058681186\n",
      "f1-measure-GP: 0.7595212187159461\n",
      "precision-untyped: 0.7647403358063256\n",
      "recall-untyped: 0.7963000609880057\n",
      "f1-measure-untyped: 0.7802011751817047\n",
      "precision-DS: 0.7468694096601073\n",
      "recall-DS: 0.7462019660411081\n",
      "f1-measure-DS: 0.7465355386678086\n",
      "precision-OG: 0.839979808177688\n",
      "recall-OG: 0.7750349324639031\n",
      "f1-measure-OG: 0.8062015503875469\n",
      "precision-overall: 0.7604451386177274\n",
      "recall-overall: 0.7918276072372433\n",
      "f1-measure-overall: 0.775819141519719\n"
     ]
    },
    {
     "name": "stderr",
     "output_type": "stream",
     "text": [
      " 75%|███████▍  | 12031/16068 [00:34<00:10, 391.61it/s]"
     ]
    },
    {
     "name": "stdout",
     "output_type": "stream",
     "text": [
      "precision-GP: 0.7009936766034327\n",
      "recall-GP: 0.8527472527472527\n",
      "f1-measure-GP: 0.7694595934555777\n",
      "precision-untyped: 0.7666727571715696\n",
      "recall-untyped: 0.7894637817497648\n",
      "f1-measure-untyped: 0.7779013718946479\n",
      "precision-DS: 0.7448\n",
      "recall-DS: 0.7117737003058104\n",
      "f1-measure-DS: 0.7279124315871276\n",
      "precision-OG: 0.8417122946739671\n",
      "recall-OG: 0.7732053040695016\n",
      "f1-measure-OG: 0.8060057197330293\n",
      "precision-overall: 0.7626530239356842\n",
      "recall-overall: 0.7853245531514581\n",
      "f1-measure-overall: 0.7738227660362866\n"
     ]
    },
    {
     "name": "stderr",
     "output_type": "stream",
     "text": [
      " 81%|████████▏ | 13066/16068 [00:36<00:08, 354.30it/s]"
     ]
    },
    {
     "name": "stdout",
     "output_type": "stream",
     "text": [
      "precision-GP: 0.7230520791279774\n",
      "recall-GP: 0.8416353383458647\n",
      "f1-measure-GP: 0.7778501628663999\n",
      "precision-untyped: 0.7767503302509907\n",
      "recall-untyped: 0.792586352148273\n",
      "f1-measure-untyped: 0.7845884413309484\n",
      "precision-DS: 0.750514050719671\n",
      "recall-DS: 0.7270916334661355\n",
      "f1-measure-DS: 0.7386172006744863\n",
      "precision-OG: 0.8471698113207548\n",
      "recall-OG: 0.7805302042590179\n",
      "f1-measure-OG: 0.8124858629268898\n",
      "precision-overall: 0.773117569352708\n",
      "recall-overall: 0.7888795282224095\n",
      "f1-measure-overall: 0.7809190226002335\n"
     ]
    },
    {
     "name": "stderr",
     "output_type": "stream",
     "text": [
      " 88%|████████▊ | 14087/16068 [00:39<00:04, 420.15it/s]"
     ]
    },
    {
     "name": "stdout",
     "output_type": "stream",
     "text": [
      "precision-GP: 0.7347758887171562\n",
      "recall-GP: 0.8441051136363636\n",
      "f1-measure-GP: 0.785655263592745\n",
      "precision-untyped: 0.7757035385901365\n",
      "recall-untyped: 0.8004600345025877\n",
      "f1-measure-untyped: 0.7878873638035443\n",
      "precision-DS: 0.7685696746470227\n",
      "recall-DS: 0.7461263408820024\n",
      "f1-measure-DS: 0.7571817357120758\n",
      "precision-OG: 0.8271391529818496\n",
      "recall-OG: 0.7774167343623071\n",
      "f1-measure-OG: 0.8015075376883922\n",
      "precision-overall: 0.7722206742825299\n",
      "recall-overall: 0.7968660149511213\n",
      "f1-measure-overall: 0.784349794820949\n"
     ]
    },
    {
     "name": "stderr",
     "output_type": "stream",
     "text": [
      " 94%|█████████▎| 15050/16068 [00:42<00:03, 334.89it/s]"
     ]
    },
    {
     "name": "stdout",
     "output_type": "stream",
     "text": [
      "precision-GP: 0.7658906617839393\n",
      "recall-GP: 0.8327645051194539\n",
      "f1-measure-GP: 0.79792887314343\n",
      "precision-untyped: 0.7958732498157701\n",
      "recall-untyped: 0.7857402691887959\n",
      "f1-measure-untyped: 0.7907742998352055\n",
      "precision-DS: 0.7877437325905292\n",
      "recall-DS: 0.6854095976732913\n",
      "f1-measure-DS: 0.7330222913426149\n",
      "precision-OG: 0.8371632329635499\n",
      "recall-OG: 0.7919790104947526\n",
      "f1-measure-OG: 0.8139445300461751\n",
      "precision-overall: 0.7928027511667894\n",
      "recall-overall: 0.7827088638292713\n",
      "f1-measure-overall: 0.7877234730611495\n"
     ]
    },
    {
     "name": "stderr",
     "output_type": "stream",
     "text": [
      "100%|█████████▉| 16048/16068 [00:45<00:00, 345.82it/s]"
     ]
    },
    {
     "name": "stdout",
     "output_type": "stream",
     "text": [
      "precision-GP: 0.7610124117790217\n",
      "recall-GP: 0.8327563249001332\n",
      "f1-measure-GP: 0.795269582909411\n",
      "precision-untyped: 0.7987435494727395\n",
      "recall-untyped: 0.791023219642262\n",
      "f1-measure-untyped: 0.7948646385709799\n",
      "precision-DS: 0.7981335952848723\n",
      "recall-DS: 0.7007330746011212\n",
      "f1-measure-DS: 0.7462686567163682\n",
      "precision-OG: 0.8461538461538461\n",
      "recall-OG: 0.8004783054321831\n",
      "f1-measure-OG: 0.8226825842696129\n",
      "precision-overall: 0.7959389724029616\n",
      "recall-overall: 0.7882457504721697\n",
      "f1-measure-overall: 0.7920736812726265\n"
     ]
    },
    {
     "name": "stderr",
     "output_type": "stream",
     "text": [
      "100%|██████████| 16068/16068 [00:45<00:00, 350.62it/s]\n",
      "  0%|          | 0/79401 [00:00<?, ?it/s]"
     ]
    },
    {
     "name": "stdout",
     "output_type": "stream",
     "text": [
      "precision-untyped: \t\t 0.7981620531211476\n",
      "recall-untyped: \t\t 0.7910696434521826\n",
      "f1-measure-untyped: \t\t 0.7946000223139074\n",
      "precision-overall: \t\t 0.795360304830214\n",
      "recall-overall: \t\t 0.7882927912917916\n",
      "f1-measure-overall: \t\t 0.7918107776413648\n",
      "7--10\n"
     ]
    },
    {
     "name": "stderr",
     "output_type": "stream",
     "text": [
      "  4%|▍         | 3296/79401 [00:09<03:18, 382.48it/s]"
     ]
    },
    {
     "name": "stdout",
     "output_type": "stream",
     "text": [
      "sum loss: 284.2320546663467\n"
     ]
    },
    {
     "name": "stderr",
     "output_type": "stream",
     "text": [
      "  8%|▊         | 6496/79401 [00:17<03:07, 389.37it/s]"
     ]
    },
    {
     "name": "stdout",
     "output_type": "stream",
     "text": [
      "sum loss: 631.0023213407503\n"
     ]
    },
    {
     "name": "stderr",
     "output_type": "stream",
     "text": [
      " 12%|█▏        | 9696/79401 [00:26<03:04, 377.63it/s]"
     ]
    },
    {
     "name": "stdout",
     "output_type": "stream",
     "text": [
      "sum loss: 926.3047935721675\n"
     ]
    },
    {
     "name": "stderr",
     "output_type": "stream",
     "text": [
      " 16%|█▌        | 12896/79401 [00:35<03:08, 351.95it/s]"
     ]
    },
    {
     "name": "stdout",
     "output_type": "stream",
     "text": [
      "sum loss: 1219.4228819014284\n"
     ]
    },
    {
     "name": "stderr",
     "output_type": "stream",
     "text": [
      " 20%|██        | 16096/79401 [00:44<03:00, 350.66it/s]"
     ]
    },
    {
     "name": "stdout",
     "output_type": "stream",
     "text": [
      "sum loss: 1518.8440140854116\n"
     ]
    },
    {
     "name": "stderr",
     "output_type": "stream",
     "text": [
      " 24%|██▍       | 19296/79401 [00:52<02:42, 368.80it/s]"
     ]
    },
    {
     "name": "stdout",
     "output_type": "stream",
     "text": [
      "sum loss: 1827.044554640937\n"
     ]
    },
    {
     "name": "stderr",
     "output_type": "stream",
     "text": [
      " 28%|██▊       | 22496/79401 [01:01<02:32, 373.19it/s]"
     ]
    },
    {
     "name": "stdout",
     "output_type": "stream",
     "text": [
      "sum loss: 2163.300127748984\n"
     ]
    },
    {
     "name": "stderr",
     "output_type": "stream",
     "text": [
      " 32%|███▏      | 25696/79401 [01:10<02:31, 353.96it/s]"
     ]
    },
    {
     "name": "stdout",
     "output_type": "stream",
     "text": [
      "sum loss: 2484.3359637591325\n"
     ]
    },
    {
     "name": "stderr",
     "output_type": "stream",
     "text": [
      " 36%|███▋      | 28896/79401 [01:19<02:18, 364.90it/s]"
     ]
    },
    {
     "name": "stdout",
     "output_type": "stream",
     "text": [
      "sum loss: 2865.257322573042\n"
     ]
    },
    {
     "name": "stderr",
     "output_type": "stream",
     "text": [
      " 40%|████      | 32096/79401 [01:28<02:11, 359.52it/s]"
     ]
    },
    {
     "name": "stdout",
     "output_type": "stream",
     "text": [
      "sum loss: 3248.9207945653066\n"
     ]
    },
    {
     "name": "stderr",
     "output_type": "stream",
     "text": [
      " 44%|████▍     | 35296/79401 [01:36<01:59, 369.75it/s]"
     ]
    },
    {
     "name": "stdout",
     "output_type": "stream",
     "text": [
      "sum loss: 3611.926647875098\n"
     ]
    },
    {
     "name": "stderr",
     "output_type": "stream",
     "text": [
      " 48%|████▊     | 38496/79401 [01:45<01:56, 349.82it/s]"
     ]
    },
    {
     "name": "stdout",
     "output_type": "stream",
     "text": [
      "sum loss: 3932.2660876701702\n"
     ]
    },
    {
     "name": "stderr",
     "output_type": "stream",
     "text": [
      " 53%|█████▎    | 41696/79401 [01:54<01:44, 362.20it/s]"
     ]
    },
    {
     "name": "stdout",
     "output_type": "stream",
     "text": [
      "sum loss: 4202.949454442249\n"
     ]
    },
    {
     "name": "stderr",
     "output_type": "stream",
     "text": [
      " 57%|█████▋    | 44896/79401 [02:03<01:31, 376.50it/s]"
     ]
    },
    {
     "name": "stdout",
     "output_type": "stream",
     "text": [
      "sum loss: 4553.881479944539\n"
     ]
    },
    {
     "name": "stderr",
     "output_type": "stream",
     "text": [
      " 61%|██████    | 48096/79401 [02:12<01:25, 365.33it/s]"
     ]
    },
    {
     "name": "stdout",
     "output_type": "stream",
     "text": [
      "sum loss: 4857.674378407916\n"
     ]
    },
    {
     "name": "stderr",
     "output_type": "stream",
     "text": [
      " 65%|██████▍   | 51296/79401 [02:20<01:13, 381.83it/s]"
     ]
    },
    {
     "name": "stdout",
     "output_type": "stream",
     "text": [
      "sum loss: 5223.962742624972\n"
     ]
    },
    {
     "name": "stderr",
     "output_type": "stream",
     "text": [
      " 69%|██████▊   | 54432/79401 [02:29<01:10, 355.06it/s]"
     ]
    },
    {
     "name": "stdout",
     "output_type": "stream",
     "text": [
      "sum loss: 5527.379296446768\n"
     ]
    },
    {
     "name": "stderr",
     "output_type": "stream",
     "text": [
      " 73%|███████▎  | 57696/79401 [02:38<00:55, 392.91it/s]"
     ]
    },
    {
     "name": "stdout",
     "output_type": "stream",
     "text": [
      "sum loss: 5831.560145557598\n"
     ]
    },
    {
     "name": "stderr",
     "output_type": "stream",
     "text": [
      " 77%|███████▋  | 60896/79401 [02:47<00:50, 369.79it/s]"
     ]
    },
    {
     "name": "stdout",
     "output_type": "stream",
     "text": [
      "sum loss: 6250.94585517853\n"
     ]
    },
    {
     "name": "stderr",
     "output_type": "stream",
     "text": [
      " 81%|████████  | 64096/79401 [02:56<00:44, 347.69it/s]"
     ]
    },
    {
     "name": "stdout",
     "output_type": "stream",
     "text": [
      "sum loss: 6588.2702587512595\n"
     ]
    },
    {
     "name": "stderr",
     "output_type": "stream",
     "text": [
      " 85%|████████▍ | 67296/79401 [03:04<00:32, 366.83it/s]"
     ]
    },
    {
     "name": "stdout",
     "output_type": "stream",
     "text": [
      "sum loss: 6939.250044278492\n"
     ]
    },
    {
     "name": "stderr",
     "output_type": "stream",
     "text": [
      " 89%|████████▉ | 70496/79401 [03:13<00:24, 358.85it/s]"
     ]
    },
    {
     "name": "stdout",
     "output_type": "stream",
     "text": [
      "sum loss: 7392.680127174324\n"
     ]
    },
    {
     "name": "stderr",
     "output_type": "stream",
     "text": [
      " 93%|█████████▎| 73696/79401 [03:22<00:15, 369.87it/s]"
     ]
    },
    {
     "name": "stdout",
     "output_type": "stream",
     "text": [
      "sum loss: 7692.44407370245\n"
     ]
    },
    {
     "name": "stderr",
     "output_type": "stream",
     "text": [
      " 97%|█████████▋| 76896/79401 [03:30<00:06, 410.01it/s]"
     ]
    },
    {
     "name": "stdout",
     "output_type": "stream",
     "text": [
      "sum loss: 7988.015039731665\n"
     ]
    },
    {
     "name": "stderr",
     "output_type": "stream",
     "text": [
      "100%|██████████| 79401/79401 [03:37<00:00, 364.62it/s]\n"
     ]
    },
    {
     "name": "stdout",
     "output_type": "stream",
     "text": [
      "Saved model to /nfs/gns/literature/Santosh_Tirunagari/GitHub/spacy_models/pubmed-pmc-sm/7\n",
      "Loading from /nfs/gns/literature/Santosh_Tirunagari/GitHub/spacy_models/pubmed-pmc-sm/7\n"
     ]
    },
    {
     "name": "stderr",
     "output_type": "stream",
     "text": [
      "  0%|          | 33/16068 [00:00<00:49, 323.57it/s]"
     ]
    },
    {
     "name": "stdout",
     "output_type": "stream",
     "text": [
      "Evaluating 16068 rows\n"
     ]
    },
    {
     "name": "stderr",
     "output_type": "stream",
     "text": [
      "  7%|▋         | 1060/16068 [00:03<00:43, 348.58it/s]"
     ]
    },
    {
     "name": "stdout",
     "output_type": "stream",
     "text": [
      "precision-GP: 0.9482758620689647\n",
      "recall-GP: 0.9243697478991589\n",
      "f1-measure-GP: 0.9361702127659067\n",
      "precision-untyped: 0.8317460317460315\n",
      "recall-untyped: 0.677002583979328\n",
      "f1-measure-untyped: 0.7464387464386969\n",
      "precision-DS: 0.8264462809917349\n",
      "recall-DS: 0.854700854700854\n",
      "f1-measure-DS: 0.8403361344537309\n",
      "precision-OG: 0.6666666666666659\n",
      "recall-OG: 0.3443708609271521\n",
      "f1-measure-OG: 0.45414847161567523\n",
      "precision-overall: 0.8317460317460315\n",
      "recall-overall: 0.677002583979328\n",
      "f1-measure-overall: 0.7464387464386969\n"
     ]
    },
    {
     "name": "stderr",
     "output_type": "stream",
     "text": [
      " 13%|█▎        | 2053/16068 [00:05<00:35, 397.91it/s]"
     ]
    },
    {
     "name": "stdout",
     "output_type": "stream",
     "text": [
      "precision-GP: 0.7318181818181815\n",
      "recall-GP: 0.8518518518518513\n",
      "f1-measure-GP: 0.7872860635696322\n",
      "precision-untyped: 0.8150684931506849\n",
      "recall-untyped: 0.6910569105691056\n",
      "f1-measure-untyped: 0.7479572595851168\n",
      "precision-DS: 0.8432432432432427\n",
      "recall-DS: 0.876404494382022\n",
      "f1-measure-DS: 0.8595041322313546\n",
      "precision-OG: 0.8553846153846151\n",
      "recall-OG: 0.5627530364372468\n",
      "f1-measure-OG: 0.6788766788766308\n",
      "precision-overall: 0.8150684931506849\n",
      "recall-overall: 0.6910569105691056\n",
      "f1-measure-overall: 0.7479572595851168\n"
     ]
    },
    {
     "name": "stderr",
     "output_type": "stream",
     "text": [
      " 19%|█▉        | 3050/16068 [00:08<00:43, 297.00it/s]"
     ]
    },
    {
     "name": "stdout",
     "output_type": "stream",
     "text": [
      "precision-GP: 0.6275303643724695\n",
      "recall-GP: 0.8516483516483514\n",
      "f1-measure-GP: 0.7226107226106735\n",
      "precision-untyped: 0.7577639751552795\n",
      "recall-untyped: 0.756003098373354\n",
      "f1-measure-untyped: 0.7568825126017338\n",
      "precision-DS: 0.8214285714285711\n",
      "recall-DS: 0.8812260536398464\n",
      "f1-measure-DS: 0.8502772643252733\n",
      "precision-OG: 0.8443579766536963\n",
      "recall-OG: 0.6516516516516515\n",
      "f1-measure-OG: 0.7355932203389337\n",
      "precision-overall: 0.7562111801242236\n",
      "recall-overall: 0.7544539116963594\n",
      "f1-measure-overall: 0.7553315238464022\n"
     ]
    },
    {
     "name": "stderr",
     "output_type": "stream",
     "text": [
      " 25%|██▌       | 4041/16068 [00:11<00:37, 321.75it/s]"
     ]
    },
    {
     "name": "stdout",
     "output_type": "stream",
     "text": [
      "precision-GP: 0.6492805755395682\n",
      "recall-GP: 0.8454332552693207\n",
      "f1-measure-GP: 0.7344862665309781\n",
      "precision-untyped: 0.7761194029850746\n",
      "recall-untyped: 0.7522012578616353\n",
      "f1-measure-untyped: 0.7639731715106496\n",
      "precision-DS: 0.823333333333333\n",
      "recall-DS: 0.8727915194346286\n",
      "f1-measure-DS: 0.8473413379073254\n",
      "precision-OG: 0.8525547445255474\n",
      "recall-OG: 0.6636363636363636\n",
      "f1-measure-OG: 0.7463258785941999\n",
      "precision-overall: 0.773523685918235\n",
      "recall-overall: 0.7496855345911949\n",
      "f1-measure-overall: 0.7614180772915501\n"
     ]
    },
    {
     "name": "stderr",
     "output_type": "stream",
     "text": [
      " 31%|███▏      | 5034/16068 [00:14<00:32, 341.69it/s]"
     ]
    },
    {
     "name": "stdout",
     "output_type": "stream",
     "text": [
      "precision-GP: 0.6821705426356588\n",
      "recall-GP: 0.8380952380952379\n",
      "f1-measure-GP: 0.7521367521367027\n",
      "precision-untyped: 0.799792531120332\n",
      "recall-untyped: 0.7713856928464232\n",
      "f1-measure-untyped: 0.7853323147440295\n",
      "precision-DS: 0.8211206896551723\n",
      "recall-DS: 0.8410596026490064\n",
      "f1-measure-DS: 0.8309705561613456\n",
      "precision-OG: 0.8656898656898656\n",
      "recall-OG: 0.6944172380019588\n",
      "f1-measure-OG: 0.770652173912994\n",
      "precision-overall: 0.7935684647302904\n",
      "recall-overall: 0.7653826913456728\n",
      "f1-measure-overall: 0.7792207792207293\n"
     ]
    },
    {
     "name": "stderr",
     "output_type": "stream",
     "text": [
      " 38%|███▊      | 6034/16068 [00:17<00:31, 320.40it/s]"
     ]
    },
    {
     "name": "stdout",
     "output_type": "stream",
     "text": [
      "precision-GP: 0.7074829931972788\n",
      "recall-GP: 0.8306709265175717\n",
      "f1-measure-GP: 0.764144011756012\n",
      "precision-untyped: 0.8085016835016835\n",
      "recall-untyped: 0.7908604363935776\n",
      "f1-measure-untyped: 0.7995837669094193\n",
      "precision-DS: 0.8118609406952964\n",
      "recall-DS: 0.8446808510638296\n",
      "f1-measure-DS: 0.8279457768508361\n",
      "precision-OG: 0.8611111111111112\n",
      "recall-OG: 0.7441860465116279\n",
      "f1-measure-OG: 0.7983903420522642\n",
      "precision-overall: 0.8034511784511784\n",
      "recall-overall: 0.7859201317414574\n",
      "f1-measure-overall: 0.7945889698230508\n"
     ]
    },
    {
     "name": "stderr",
     "output_type": "stream",
     "text": [
      " 44%|████▍     | 7037/16068 [00:20<00:30, 298.31it/s]"
     ]
    },
    {
     "name": "stdout",
     "output_type": "stream",
     "text": [
      "precision-GP: 0.7300115874855155\n",
      "recall-GP: 0.805626598465473\n",
      "f1-measure-GP: 0.7659574468084608\n",
      "precision-untyped: 0.8296612956264386\n",
      "recall-untyped: 0.8065856777493606\n",
      "f1-measure-untyped: 0.8179607715998851\n",
      "precision-DS: 0.8340943683409435\n",
      "recall-DS: 0.8535825545171338\n",
      "f1-measure-DS: 0.8437259430330524\n",
      "precision-OG: 0.8731097961867192\n",
      "recall-OG: 0.7793427230046949\n",
      "f1-measure-OG: 0.8235658914728184\n",
      "precision-overall: 0.8240710292666886\n",
      "recall-overall: 0.801150895140665\n",
      "f1-measure-overall: 0.8124493434916019\n"
     ]
    },
    {
     "name": "stderr",
     "output_type": "stream",
     "text": [
      " 50%|█████     | 8047/16068 [00:23<00:25, 310.01it/s]"
     ]
    },
    {
     "name": "stdout",
     "output_type": "stream",
     "text": [
      "precision-GP: 0.7364864864864865\n",
      "recall-GP: 0.8545296167247387\n",
      "f1-measure-GP: 0.7911290322580149\n",
      "precision-untyped: 0.8116833205226749\n",
      "recall-untyped: 0.7987897125567323\n",
      "f1-measure-untyped: 0.805184902783023\n",
      "precision-DS: 0.8132596685082872\n",
      "recall-DS: 0.7337986041874376\n",
      "f1-measure-DS: 0.7714884696016272\n",
      "precision-OG: 0.8607442977190877\n",
      "recall-OG: 0.7900826446280992\n",
      "f1-measure-OG: 0.823901177822415\n",
      "precision-overall: 0.8073276966436075\n",
      "recall-overall: 0.7945032778618255\n",
      "f1-measure-overall: 0.8008641504637957\n"
     ]
    },
    {
     "name": "stderr",
     "output_type": "stream",
     "text": [
      " 56%|█████▋    | 9066/16068 [00:26<00:20, 345.45it/s]"
     ]
    },
    {
     "name": "stdout",
     "output_type": "stream",
     "text": [
      "precision-GP: 0.7160288408208542\n",
      "recall-GP: 0.8487836949375411\n",
      "f1-measure-GP: 0.7767749699157146\n",
      "precision-untyped: 0.79053480475382\n",
      "recall-untyped: 0.7959401709401709\n",
      "f1-measure-untyped: 0.7932282793866621\n",
      "precision-DS: 0.80564263322884\n",
      "recall-DS: 0.7280453257790368\n",
      "f1-measure-DS: 0.7648809523809025\n",
      "precision-OG: 0.8411885245901639\n",
      "recall-OG: 0.7819047619047619\n",
      "f1-measure-OG: 0.8104639684106114\n",
      "precision-overall: 0.7860780984719864\n",
      "recall-overall: 0.7914529914529914\n",
      "f1-measure-overall: 0.788756388415623\n"
     ]
    },
    {
     "name": "stderr",
     "output_type": "stream",
     "text": [
      " 63%|██████▎   | 10074/16068 [00:29<00:12, 474.26it/s]"
     ]
    },
    {
     "name": "stdout",
     "output_type": "stream",
     "text": [
      "precision-GP: 0.7011972930765227\n",
      "recall-GP: 0.8482367758186398\n",
      "f1-measure-GP: 0.7677400968936524\n",
      "precision-untyped: 0.781656682503615\n",
      "recall-untyped: 0.7966315789473685\n",
      "f1-measure-untyped: 0.7890730893545533\n",
      "precision-DS: 0.7995867768595041\n",
      "recall-DS: 0.7288135593220338\n",
      "f1-measure-DS: 0.76256157635463\n",
      "precision-OG: 0.8411885245901639\n",
      "recall-OG: 0.7819047619047619\n",
      "f1-measure-OG: 0.8104639684106114\n",
      "precision-overall: 0.7773187357983887\n",
      "recall-overall: 0.7922105263157895\n",
      "f1-measure-overall: 0.7846939839432303\n"
     ]
    },
    {
     "name": "stderr",
     "output_type": "stream",
     "text": [
      " 69%|██████▊   | 11040/16068 [00:31<00:20, 250.88it/s]"
     ]
    },
    {
     "name": "stdout",
     "output_type": "stream",
     "text": [
      "precision-GP: 0.6967131474103586\n",
      "recall-GP: 0.8463399879007865\n",
      "f1-measure-GP: 0.7642720568150285\n",
      "precision-untyped: 0.7700608200902491\n",
      "recall-untyped: 0.7979264078064647\n",
      "f1-measure-untyped: 0.7837460063897264\n",
      "precision-DS: 0.75\n",
      "recall-DS: 0.7319034852546917\n",
      "f1-measure-DS: 0.740841248303885\n",
      "precision-OG: 0.8442663995993991\n",
      "recall-OG: 0.7852817885421518\n",
      "f1-measure-OG: 0.8137065637065137\n",
      "precision-overall: 0.765940749460467\n",
      "recall-overall: 0.7936572474080098\n",
      "f1-measure-overall: 0.7795527156549021\n"
     ]
    },
    {
     "name": "stderr",
     "output_type": "stream",
     "text": [
      " 75%|███████▍  | 12029/16068 [00:34<00:10, 384.69it/s]"
     ]
    },
    {
     "name": "stdout",
     "output_type": "stream",
     "text": [
      "precision-GP: 0.7073281747837961\n",
      "recall-GP: 0.8538461538461538\n",
      "f1-measure-GP: 0.7737117251679863\n",
      "precision-untyped: 0.7720588235294118\n",
      "recall-untyped: 0.7902163687676388\n",
      "f1-measure-untyped: 0.7810320781031579\n",
      "precision-DS: 0.748974569319114\n",
      "recall-DS: 0.6980122324159022\n",
      "f1-measure-DS: 0.7225959635931436\n",
      "precision-OG: 0.8458498023715415\n",
      "recall-OG: 0.7828074988568816\n",
      "f1-measure-OG: 0.813108525290855\n",
      "precision-overall: 0.7681985294117647\n",
      "recall-overall: 0.7862652869238006\n",
      "f1-measure-overall: 0.7771269177126418\n"
     ]
    },
    {
     "name": "stderr",
     "output_type": "stream",
     "text": [
      " 81%|████████▏ | 13066/16068 [00:37<00:08, 348.73it/s]"
     ]
    },
    {
     "name": "stdout",
     "output_type": "stream",
     "text": [
      "precision-GP: 0.730004060089322\n",
      "recall-GP: 0.8449248120300752\n",
      "f1-measure-GP: 0.7832716183837448\n",
      "precision-untyped: 0.7818725099601593\n",
      "recall-untyped: 0.793597304128054\n",
      "f1-measure-untyped: 0.7876912785349446\n",
      "precision-DS: 0.7533286615276804\n",
      "recall-DS: 0.7138114209827358\n",
      "f1-measure-DS: 0.733037845209633\n",
      "precision-OG: 0.8509840674789129\n",
      "recall-OG: 0.7892220773576706\n",
      "f1-measure-OG: 0.8189402480270076\n",
      "precision-overall: 0.7783864541832669\n",
      "recall-overall: 0.7900589721988206\n",
      "f1-measure-overall: 0.784179279203897\n"
     ]
    },
    {
     "name": "stderr",
     "output_type": "stream",
     "text": [
      " 88%|████████▊ | 14065/16068 [00:40<00:05, 398.29it/s]"
     ]
    },
    {
     "name": "stdout",
     "output_type": "stream",
     "text": [
      "precision-GP: 0.7407751937984496\n",
      "recall-GP: 0.8483664772727273\n",
      "f1-measure-GP: 0.7909286541962753\n",
      "precision-untyped: 0.7800783435926133\n",
      "recall-untyped: 0.8016101207590569\n",
      "f1-measure-untyped: 0.7906976744185547\n",
      "precision-DS: 0.7714464621164684\n",
      "recall-DS: 0.734207389749702\n",
      "f1-measure-DS: 0.7523664122136905\n",
      "precision-OG: 0.8301805674978504\n",
      "recall-OG: 0.7843216896831844\n",
      "f1-measure-OG: 0.8065998329155725\n",
      "precision-overall: 0.7767207610520426\n",
      "recall-overall: 0.7981598619896493\n",
      "f1-measure-overall: 0.7872943845717028\n"
     ]
    },
    {
     "name": "stderr",
     "output_type": "stream",
     "text": [
      " 94%|█████████▍| 15071/16068 [00:43<00:02, 339.53it/s]"
     ]
    },
    {
     "name": "stdout",
     "output_type": "stream",
     "text": [
      "precision-GP: 0.7678571428571429\n",
      "recall-GP: 0.8316268486916951\n",
      "f1-measure-GP: 0.7984707809939426\n",
      "precision-untyped: 0.7977791486736583\n",
      "recall-untyped: 0.7840426821874621\n",
      "f1-measure-untyped: 0.7908512720156057\n",
      "precision-DS: 0.7893242475865985\n",
      "recall-DS: 0.6737760542898691\n",
      "f1-measure-DS: 0.726987447698695\n",
      "precision-OG: 0.8383280757097792\n",
      "recall-OG: 0.7968515742128935\n",
      "f1-measure-OG: 0.81706379707912\n",
      "precision-overall: 0.7945712523133868\n",
      "recall-overall: 0.7808900206135564\n",
      "f1-measure-overall: 0.7876712328766624\n"
     ]
    },
    {
     "name": "stderr",
     "output_type": "stream",
     "text": [
      "100%|█████████▉| 16041/16068 [00:46<00:00, 341.99it/s]"
     ]
    },
    {
     "name": "stdout",
     "output_type": "stream",
     "text": [
      "precision-GP: 0.7630679042501222\n",
      "recall-GP: 0.8319573901464714\n",
      "f1-measure-GP: 0.7960249713338781\n",
      "precision-untyped: 0.8017144146176404\n",
      "recall-untyped: 0.7896900344406177\n",
      "f1-measure-untyped: 0.795656797447759\n",
      "precision-DS: 0.8033115905669844\n",
      "recall-DS: 0.6903837861147046\n",
      "f1-measure-DS: 0.7425788497216571\n",
      "precision-OG: 0.8481468154012235\n",
      "recall-OG: 0.8052613597540144\n",
      "f1-measure-OG: 0.8261479144759403\n",
      "precision-overall: 0.7987818632979923\n",
      "recall-overall: 0.7868014665037218\n",
      "f1-measure-overall: 0.7927464039849503\n"
     ]
    },
    {
     "name": "stderr",
     "output_type": "stream",
     "text": [
      "100%|██████████| 16068/16068 [00:46<00:00, 344.62it/s]\n",
      "  0%|          | 64/79401 [00:00<03:42, 357.34it/s]"
     ]
    },
    {
     "name": "stdout",
     "output_type": "stream",
     "text": [
      "precision-untyped: \t\t 0.8010365029292474\n",
      "recall-untyped: \t\t 0.789736754415195\n",
      "f1-measure-untyped: \t\t 0.7953464958889819\n",
      "precision-overall: \t\t 0.7981072555205048\n",
      "recall-overall: \t\t 0.7868488281683883\n",
      "f1-measure-overall: \t\t 0.7924380558196268\n",
      "8--10\n"
     ]
    },
    {
     "name": "stderr",
     "output_type": "stream",
     "text": [
      "  4%|▍         | 3296/79401 [00:09<03:39, 346.09it/s]"
     ]
    },
    {
     "name": "stdout",
     "output_type": "stream",
     "text": [
      "sum loss: 240.49696469791144\n"
     ]
    },
    {
     "name": "stderr",
     "output_type": "stream",
     "text": [
      "  8%|▊         | 6496/79401 [00:18<03:17, 368.46it/s]"
     ]
    },
    {
     "name": "stdout",
     "output_type": "stream",
     "text": [
      "sum loss: 499.9374513883004\n"
     ]
    },
    {
     "name": "stderr",
     "output_type": "stream",
     "text": [
      " 12%|█▏        | 9664/79401 [00:27<03:36, 322.36it/s]"
     ]
    },
    {
     "name": "stdout",
     "output_type": "stream",
     "text": [
      "sum loss: 708.4229473812364\n"
     ]
    },
    {
     "name": "stderr",
     "output_type": "stream",
     "text": [
      " 16%|█▌        | 12864/79401 [00:37<03:02, 364.57it/s]"
     ]
    },
    {
     "name": "stdout",
     "output_type": "stream",
     "text": [
      "sum loss: 984.3467839667594\n"
     ]
    },
    {
     "name": "stderr",
     "output_type": "stream",
     "text": [
      " 20%|██        | 16064/79401 [00:46<03:01, 348.75it/s]"
     ]
    },
    {
     "name": "stdout",
     "output_type": "stream",
     "text": [
      "sum loss: 1315.5640223740702\n"
     ]
    },
    {
     "name": "stderr",
     "output_type": "stream",
     "text": [
      " 24%|██▍       | 19264/79401 [00:56<02:58, 337.50it/s]"
     ]
    },
    {
     "name": "stdout",
     "output_type": "stream",
     "text": [
      "sum loss: 1697.3688769548814\n"
     ]
    },
    {
     "name": "stderr",
     "output_type": "stream",
     "text": [
      " 28%|██▊       | 22464/79401 [01:05<02:35, 365.00it/s]"
     ]
    },
    {
     "name": "stdout",
     "output_type": "stream",
     "text": [
      "sum loss: 2010.4351204689146\n"
     ]
    },
    {
     "name": "stderr",
     "output_type": "stream",
     "text": [
      " 32%|███▏      | 25664/79401 [01:14<02:29, 358.35it/s]"
     ]
    },
    {
     "name": "stdout",
     "output_type": "stream",
     "text": [
      "sum loss: 2258.3731876186657\n"
     ]
    },
    {
     "name": "stderr",
     "output_type": "stream",
     "text": [
      " 36%|███▋      | 28864/79401 [01:23<02:20, 359.87it/s]"
     ]
    },
    {
     "name": "stdout",
     "output_type": "stream",
     "text": [
      "sum loss: 2589.1264786556994\n"
     ]
    },
    {
     "name": "stderr",
     "output_type": "stream",
     "text": [
      " 40%|████      | 32064/79401 [01:32<02:04, 378.72it/s]"
     ]
    },
    {
     "name": "stdout",
     "output_type": "stream",
     "text": [
      "sum loss: 2958.629758931013\n"
     ]
    },
    {
     "name": "stderr",
     "output_type": "stream",
     "text": [
      " 44%|████▍     | 35264/79401 [01:40<02:02, 361.66it/s]"
     ]
    },
    {
     "name": "stdout",
     "output_type": "stream",
     "text": [
      "sum loss: 3253.164945565613\n"
     ]
    },
    {
     "name": "stderr",
     "output_type": "stream",
     "text": [
      " 48%|████▊     | 38464/79401 [01:49<01:49, 374.80it/s]"
     ]
    },
    {
     "name": "stdout",
     "output_type": "stream",
     "text": [
      "sum loss: 3506.4539453447765\n"
     ]
    },
    {
     "name": "stderr",
     "output_type": "stream",
     "text": [
      " 52%|█████▏    | 41664/79401 [01:58<01:38, 383.69it/s]"
     ]
    },
    {
     "name": "stdout",
     "output_type": "stream",
     "text": [
      "sum loss: 3814.9032383569142\n"
     ]
    },
    {
     "name": "stderr",
     "output_type": "stream",
     "text": [
      " 57%|█████▋    | 44864/79401 [02:06<01:28, 389.07it/s]"
     ]
    },
    {
     "name": "stdout",
     "output_type": "stream",
     "text": [
      "sum loss: 4113.882540474305\n"
     ]
    },
    {
     "name": "stderr",
     "output_type": "stream",
     "text": [
      " 61%|██████    | 48064/79401 [02:15<01:24, 371.10it/s]"
     ]
    },
    {
     "name": "stdout",
     "output_type": "stream",
     "text": [
      "sum loss: 4396.966923773276\n"
     ]
    },
    {
     "name": "stderr",
     "output_type": "stream",
     "text": [
      " 65%|██████▍   | 51264/79401 [02:24<01:13, 385.30it/s]"
     ]
    },
    {
     "name": "stdout",
     "output_type": "stream",
     "text": [
      "sum loss: 4821.631825830697\n"
     ]
    },
    {
     "name": "stderr",
     "output_type": "stream",
     "text": [
      " 69%|██████▊   | 54464/79401 [02:32<01:03, 390.22it/s]"
     ]
    },
    {
     "name": "stdout",
     "output_type": "stream",
     "text": [
      "sum loss: 5128.771751160824\n"
     ]
    },
    {
     "name": "stderr",
     "output_type": "stream",
     "text": [
      " 73%|███████▎  | 57664/79401 [02:41<00:59, 368.39it/s]"
     ]
    },
    {
     "name": "stdout",
     "output_type": "stream",
     "text": [
      "sum loss: 5405.860251361419\n"
     ]
    },
    {
     "name": "stderr",
     "output_type": "stream",
     "text": [
      " 77%|███████▋  | 60864/79401 [02:50<00:49, 373.12it/s]"
     ]
    },
    {
     "name": "stdout",
     "output_type": "stream",
     "text": [
      "sum loss: 5658.587310426719\n"
     ]
    },
    {
     "name": "stderr",
     "output_type": "stream",
     "text": [
      " 81%|████████  | 64064/79401 [02:58<00:43, 352.86it/s]"
     ]
    },
    {
     "name": "stdout",
     "output_type": "stream",
     "text": [
      "sum loss: 6008.8702645575095\n"
     ]
    },
    {
     "name": "stderr",
     "output_type": "stream",
     "text": [
      " 85%|████████▍ | 67264/79401 [03:07<00:34, 355.39it/s]"
     ]
    },
    {
     "name": "stdout",
     "output_type": "stream",
     "text": [
      "sum loss: 6306.7273831411685\n"
     ]
    },
    {
     "name": "stderr",
     "output_type": "stream",
     "text": [
      " 89%|████████▊ | 70464/79401 [03:16<00:23, 376.07it/s]"
     ]
    },
    {
     "name": "stdout",
     "output_type": "stream",
     "text": [
      "sum loss: 6645.855154777504\n"
     ]
    },
    {
     "name": "stderr",
     "output_type": "stream",
     "text": [
      " 93%|█████████▎| 73664/79401 [03:25<00:14, 394.34it/s]"
     ]
    },
    {
     "name": "stdout",
     "output_type": "stream",
     "text": [
      "sum loss: 6949.311405315112\n"
     ]
    },
    {
     "name": "stderr",
     "output_type": "stream",
     "text": [
      " 97%|█████████▋| 76864/79401 [03:33<00:06, 391.33it/s]"
     ]
    },
    {
     "name": "stdout",
     "output_type": "stream",
     "text": [
      "sum loss: 7266.463209431414\n"
     ]
    },
    {
     "name": "stderr",
     "output_type": "stream",
     "text": [
      "100%|██████████| 79401/79401 [03:40<00:00, 359.53it/s]\n"
     ]
    },
    {
     "name": "stdout",
     "output_type": "stream",
     "text": [
      "Saved model to /nfs/gns/literature/Santosh_Tirunagari/GitHub/spacy_models/pubmed-pmc-sm/8\n",
      "Loading from /nfs/gns/literature/Santosh_Tirunagari/GitHub/spacy_models/pubmed-pmc-sm/8\n"
     ]
    },
    {
     "name": "stderr",
     "output_type": "stream",
     "text": [
      "  0%|          | 28/16068 [00:00<00:57, 277.49it/s]"
     ]
    },
    {
     "name": "stdout",
     "output_type": "stream",
     "text": [
      "Evaluating 16068 rows\n"
     ]
    },
    {
     "name": "stderr",
     "output_type": "stream",
     "text": [
      "  6%|▋         | 1040/16068 [00:03<00:48, 310.04it/s]"
     ]
    },
    {
     "name": "stdout",
     "output_type": "stream",
     "text": [
      "precision-GP: 0.9482758620689647\n",
      "recall-GP: 0.9243697478991589\n",
      "f1-measure-GP: 0.9361702127659067\n",
      "precision-untyped: 0.8101983002832859\n",
      "recall-untyped: 0.739018087855297\n",
      "f1-measure-untyped: 0.7729729729729229\n",
      "precision-DS: 0.8333333333333326\n",
      "recall-DS: 0.854700854700854\n",
      "f1-measure-DS: 0.8438818565400338\n",
      "precision-OG: 0.649572649572649\n",
      "recall-OG: 0.5033112582781453\n",
      "f1-measure-OG: 0.567164179104428\n",
      "precision-overall: 0.8101983002832859\n",
      "recall-overall: 0.739018087855297\n",
      "f1-measure-overall: 0.7729729729729229\n"
     ]
    },
    {
     "name": "stderr",
     "output_type": "stream",
     "text": [
      " 13%|█▎        | 2047/16068 [00:06<00:38, 364.19it/s]"
     ]
    },
    {
     "name": "stdout",
     "output_type": "stream",
     "text": [
      "precision-GP: 0.7187499999999997\n",
      "recall-GP: 0.8518518518518513\n",
      "f1-measure-GP: 0.7796610169491025\n",
      "precision-untyped: 0.8025974025974025\n",
      "recall-untyped: 0.7177700348432055\n",
      "f1-measure-untyped: 0.7578172900060813\n",
      "precision-DS: 0.8432432432432427\n",
      "recall-DS: 0.876404494382022\n",
      "f1-measure-DS: 0.8595041322313546\n",
      "precision-OG: 0.8337950138504152\n",
      "recall-OG: 0.6093117408906881\n",
      "f1-measure-OG: 0.704093567251413\n",
      "precision-overall: 0.8025974025974025\n",
      "recall-overall: 0.7177700348432055\n",
      "f1-measure-overall: 0.7578172900060813\n"
     ]
    },
    {
     "name": "stderr",
     "output_type": "stream",
     "text": [
      " 19%|█▉        | 3055/16068 [00:10<00:47, 274.88it/s]"
     ]
    },
    {
     "name": "stdout",
     "output_type": "stream",
     "text": [
      "precision-GP: 0.6138613861386137\n",
      "recall-GP: 0.8516483516483514\n",
      "f1-measure-GP: 0.7134637514383861\n",
      "precision-untyped: 0.748314606741573\n",
      "recall-untyped: 0.7738187451587917\n",
      "f1-measure-untyped: 0.760853008377711\n",
      "precision-DS: 0.8249999999999996\n",
      "recall-DS: 0.8850574712643674\n",
      "f1-measure-DS: 0.8539741219962529\n",
      "precision-OG: 0.8290909090909089\n",
      "recall-OG: 0.6846846846846846\n",
      "f1-measure-OG: 0.7499999999999503\n",
      "precision-overall: 0.746816479400749\n",
      "recall-overall: 0.772269558481797\n",
      "f1-measure-overall: 0.7593297791317093\n"
     ]
    },
    {
     "name": "stderr",
     "output_type": "stream",
     "text": [
      " 25%|██▌       | 4037/16068 [00:13<00:41, 286.63it/s]"
     ]
    },
    {
     "name": "stdout",
     "output_type": "stream",
     "text": [
      "precision-GP: 0.6378091872791518\n",
      "recall-GP: 0.8454332552693207\n",
      "f1-measure-GP: 0.7270896273916931\n",
      "precision-untyped: 0.7652611705475142\n",
      "recall-untyped: 0.7647798742138365\n",
      "f1-measure-untyped: 0.7650204466812963\n",
      "precision-DS: 0.8266666666666663\n",
      "recall-DS: 0.8763250883392223\n",
      "f1-measure-DS: 0.8507718696397438\n",
      "precision-OG: 0.8354080221300137\n",
      "recall-OG: 0.6863636363636363\n",
      "f1-measure-OG: 0.7535870243293328\n",
      "precision-overall: 0.763373190685966\n",
      "recall-overall: 0.7628930817610063\n",
      "f1-measure-overall: 0.7631330607108655\n"
     ]
    },
    {
     "name": "stderr",
     "output_type": "stream",
     "text": [
      " 31%|███▏      | 5049/16068 [00:16<00:36, 304.53it/s]"
     ]
    },
    {
     "name": "stdout",
     "output_type": "stream",
     "text": [
      "precision-GP: 0.6747720364741641\n",
      "recall-GP: 0.8457142857142855\n",
      "f1-measure-GP: 0.7506339814031627\n",
      "precision-untyped: 0.7916454406520632\n",
      "recall-untyped: 0.7773886943471736\n",
      "f1-measure-untyped: 0.7844522968197379\n",
      "precision-DS: 0.8218262806236079\n",
      "recall-DS: 0.8145695364238409\n",
      "f1-measure-DS: 0.8181818181817682\n",
      "precision-OG: 0.8528037383177569\n",
      "recall-OG: 0.7149853085210577\n",
      "f1-measure-OG: 0.7778369738944629\n",
      "precision-overall: 0.7860417727967397\n",
      "recall-overall: 0.7718859429714857\n",
      "f1-measure-overall: 0.778899545683948\n"
     ]
    },
    {
     "name": "stderr",
     "output_type": "stream",
     "text": [
      " 38%|███▊      | 6031/16068 [00:19<00:34, 291.62it/s]"
     ]
    },
    {
     "name": "stdout",
     "output_type": "stream",
     "text": [
      "precision-GP: 0.6997319034852546\n",
      "recall-GP: 0.8338658146964855\n",
      "f1-measure-GP: 0.7609329446063643\n",
      "precision-untyped: 0.8004140786749483\n",
      "recall-untyped: 0.7958007410456979\n",
      "f1-measure-untyped: 0.7981007431873984\n",
      "precision-DS: 0.8105263157894735\n",
      "recall-DS: 0.8191489361702126\n",
      "f1-measure-DS: 0.8148148148147646\n",
      "precision-OG: 0.8500837520938024\n",
      "recall-OG: 0.7614403600900225\n",
      "f1-measure-OG: 0.8033240997229418\n",
      "precision-overall: 0.7958592132505176\n",
      "recall-overall: 0.7912721284479209\n",
      "f1-measure-overall: 0.7935590421139054\n"
     ]
    },
    {
     "name": "stderr",
     "output_type": "stream",
     "text": [
      " 44%|████▍     | 7048/16068 [00:23<00:31, 287.95it/s]"
     ]
    },
    {
     "name": "stdout",
     "output_type": "stream",
     "text": [
      "precision-GP: 0.7219679633867276\n",
      "recall-GP: 0.8069053708439896\n",
      "f1-measure-GP: 0.7620772946859405\n",
      "precision-untyped: 0.8213359273670557\n",
      "recall-untyped: 0.8097826086956522\n",
      "f1-measure-untyped: 0.8155183515775418\n",
      "precision-DS: 0.8310077519379844\n",
      "recall-DS: 0.8348909657320871\n",
      "f1-measure-DS: 0.8329448329447829\n",
      "precision-OG: 0.8626198083067093\n",
      "recall-OG: 0.7922535211267606\n",
      "f1-measure-OG: 0.825940654634395\n",
      "precision-overall: 0.816147859922179\n",
      "recall-overall: 0.8046675191815856\n",
      "f1-measure-overall: 0.8103670315517851\n"
     ]
    },
    {
     "name": "stderr",
     "output_type": "stream",
     "text": [
      " 50%|█████     | 8034/16068 [00:26<00:26, 307.31it/s]"
     ]
    },
    {
     "name": "stdout",
     "output_type": "stream",
     "text": [
      "precision-GP: 0.7301115241635687\n",
      "recall-GP: 0.8554006968641115\n",
      "f1-measure-GP: 0.7878058563978644\n",
      "precision-untyped: 0.8048162230671736\n",
      "recall-untyped: 0.8005547150781644\n",
      "f1-measure-untyped: 0.8026798129186709\n",
      "precision-DS: 0.8112359550561796\n",
      "recall-DS: 0.719840478564307\n",
      "f1-measure-DS: 0.7628103539355021\n",
      "precision-OG: 0.8508771929824561\n",
      "recall-OG: 0.8016528925619835\n",
      "f1-measure-OG: 0.8255319148935671\n",
      "precision-overall: 0.8007604562737642\n",
      "recall-overall: 0.7965204236006052\n",
      "f1-measure-overall: 0.7986348122866395\n"
     ]
    },
    {
     "name": "stderr",
     "output_type": "stream",
     "text": [
      " 56%|█████▋    | 9066/16068 [00:29<00:20, 341.81it/s]"
     ]
    },
    {
     "name": "stdout",
     "output_type": "stream",
     "text": [
      "precision-GP: 0.7257431295569265\n",
      "recall-GP: 0.8507560815253123\n",
      "f1-measure-GP: 0.7832929782081829\n",
      "precision-untyped: 0.7907666243117323\n",
      "recall-untyped: 0.7978632478632479\n",
      "f1-measure-untyped: 0.7942990853009498\n",
      "precision-DS: 0.8036093418259023\n",
      "recall-DS: 0.7148253068932956\n",
      "f1-measure-DS: 0.7566216891553725\n",
      "precision-OG: 0.8327491236855283\n",
      "recall-OG: 0.7919047619047619\n",
      "f1-measure-OG: 0.8118135220892836\n",
      "precision-overall: 0.7865311308767471\n",
      "recall-overall: 0.7935897435897435\n",
      "f1-measure-overall: 0.7900446713464719\n"
     ]
    },
    {
     "name": "stderr",
     "output_type": "stream",
     "text": [
      " 63%|██████▎   | 10054/16068 [00:31<00:13, 453.22it/s]"
     ]
    },
    {
     "name": "stdout",
     "output_type": "stream",
     "text": [
      "precision-GP: 0.7101525512887954\n",
      "recall-GP: 0.8501259445843828\n",
      "f1-measure-GP: 0.7738607050730373\n",
      "precision-untyped: 0.7817394888705689\n",
      "recall-untyped: 0.7985263157894736\n",
      "f1-measure-untyped: 0.7900437408872651\n",
      "precision-DS: 0.7966457023060796\n",
      "recall-DS: 0.7156308851224106\n",
      "f1-measure-DS: 0.7539682539682041\n",
      "precision-OG: 0.8327491236855283\n",
      "recall-OG: 0.7919047619047619\n",
      "f1-measure-OG: 0.8118135220892836\n",
      "precision-overall: 0.7776174773289365\n",
      "recall-overall: 0.7943157894736842\n",
      "f1-measure-overall: 0.7858779420953469\n"
     ]
    },
    {
     "name": "stderr",
     "output_type": "stream",
     "text": [
      " 69%|██████▉   | 11051/16068 [00:34<00:20, 243.74it/s]"
     ]
    },
    {
     "name": "stdout",
     "output_type": "stream",
     "text": [
      "precision-GP: 0.7053212851405622\n",
      "recall-GP: 0.8499697519661222\n",
      "f1-measure-GP: 0.770919067215314\n",
      "precision-untyped: 0.7707068729195222\n",
      "recall-untyped: 0.8001626346818459\n",
      "f1-measure-untyped: 0.7851585876720028\n",
      "precision-DS: 0.7486033519553073\n",
      "recall-DS: 0.7184986595174263\n",
      "f1-measure-DS: 0.7332421340628775\n",
      "precision-OG: 0.8363547280744733\n",
      "recall-OG: 0.7950628784350257\n",
      "f1-measure-OG: 0.8151862464182882\n",
      "precision-overall: 0.7667906794595652\n",
      "recall-overall: 0.7960967676356984\n",
      "f1-measure-overall: 0.7811689607021244\n"
     ]
    },
    {
     "name": "stderr",
     "output_type": "stream",
     "text": [
      " 75%|███████▌  | 12051/16068 [00:37<00:11, 349.01it/s]"
     ]
    },
    {
     "name": "stdout",
     "output_type": "stream",
     "text": [
      "precision-GP: 0.7152044097381718\n",
      "recall-GP: 0.8554945054945055\n",
      "f1-measure-GP: 0.7790843132348766\n",
      "precision-untyped: 0.7720776841333822\n",
      "recall-untyped: 0.7928504233301975\n",
      "f1-measure-untyped: 0.7823261858349078\n",
      "precision-DS: 0.7460711331679074\n",
      "recall-DS: 0.6896024464831805\n",
      "f1-measure-DS: 0.7167262614222782\n",
      "precision-OG: 0.8373552123552124\n",
      "recall-OG: 0.7933241883859168\n",
      "f1-measure-OG: 0.8147452453627113\n",
      "precision-overall: 0.7684133382191279\n",
      "recall-overall: 0.7890874882408279\n",
      "f1-measure-overall: 0.7786131996657815\n"
     ]
    },
    {
     "name": "stderr",
     "output_type": "stream",
     "text": [
      " 81%|████████  | 13040/16068 [00:40<00:09, 313.39it/s]"
     ]
    },
    {
     "name": "stdout",
     "output_type": "stream",
     "text": [
      "precision-GP: 0.7380465876583572\n",
      "recall-GP: 0.8486842105263158\n",
      "f1-measure-GP: 0.7895081967212618\n",
      "precision-untyped: 0.7821487603305786\n",
      "recall-untyped: 0.7973041280539175\n",
      "f1-measure-untyped: 0.7896537338339092\n",
      "precision-DS: 0.7503526093088858\n",
      "recall-DS: 0.7065073041168659\n",
      "f1-measure-DS: 0.7277701778385275\n",
      "precision-OG: 0.843020594965675\n",
      "recall-OG: 0.8005215123859192\n",
      "f1-measure-OG: 0.8212215782433739\n",
      "precision-overall: 0.7788429752066116\n",
      "recall-overall: 0.7939342881213143\n",
      "f1-measure-overall: 0.7863162286190573\n"
     ]
    },
    {
     "name": "stderr",
     "output_type": "stream",
     "text": [
      " 88%|████████▊ | 14084/16068 [00:43<00:05, 384.36it/s]"
     ]
    },
    {
     "name": "stdout",
     "output_type": "stream",
     "text": [
      "precision-GP: 0.7465753424657534\n",
      "recall-GP: 0.8515625\n",
      "f1-measure-GP: 0.7956204379561547\n",
      "precision-untyped: 0.7801309739445451\n",
      "recall-untyped: 0.804916618746406\n",
      "f1-measure-untyped: 0.7923300077831525\n",
      "precision-DS: 0.7686002522068096\n",
      "recall-DS: 0.7264600715137068\n",
      "f1-measure-DS: 0.7469362745097541\n",
      "precision-OG: 0.8238755779739386\n",
      "recall-OG: 0.7961007311129163\n",
      "f1-measure-OG: 0.8097500516421727\n",
      "precision-overall: 0.7770656263062561\n",
      "recall-overall: 0.8017538815411156\n",
      "f1-measure-overall: 0.7892167268095446\n"
     ]
    },
    {
     "name": "stderr",
     "output_type": "stream",
     "text": [
      " 94%|█████████▎| 15042/16068 [00:46<00:03, 316.77it/s]"
     ]
    },
    {
     "name": "stdout",
     "output_type": "stream",
     "text": [
      "precision-GP: 0.7747108307045215\n",
      "recall-GP: 0.8381683731513083\n",
      "f1-measure-GP: 0.8051912568305511\n",
      "precision-untyped: 0.7981076431555665\n",
      "recall-untyped: 0.7875591124045107\n",
      "f1-measure-untyped: 0.7927982911198769\n",
      "precision-DS: 0.7861238532110092\n",
      "recall-DS: 0.6645661657779932\n",
      "f1-measure-DS: 0.7202521670606281\n",
      "precision-OG: 0.8312741312741313\n",
      "recall-OG: 0.8069715142428786\n",
      "f1-measure-OG: 0.8189425637123882\n",
      "precision-overall: 0.7951585156058\n",
      "recall-overall: 0.7846489632593671\n",
      "f1-measure-overall: 0.7898687824228978\n"
     ]
    },
    {
     "name": "stderr",
     "output_type": "stream",
     "text": [
      "100%|█████████▉| 16060/16068 [00:49<00:00, 329.16it/s]"
     ]
    },
    {
     "name": "stdout",
     "output_type": "stream",
     "text": [
      "precision-GP: 0.7716593245227606\n",
      "recall-GP: 0.8396804260985353\n",
      "f1-measure-GP: 0.8042341538068626\n",
      "precision-untyped: 0.803035413153457\n",
      "recall-untyped: 0.7935784912787468\n",
      "f1-measure-untyped: 0.7982789450155959\n",
      "precision-DS: 0.8002023267577137\n",
      "recall-DS: 0.6821905993962915\n",
      "f1-measure-DS: 0.7364990689012538\n",
      "precision-OG: 0.8418079096045198\n",
      "recall-OG: 0.8144858216604032\n",
      "f1-measure-OG: 0.8279215141517124\n",
      "precision-overall: 0.8003372681281619\n",
      "recall-overall: 0.7909121208754583\n",
      "f1-measure-overall: 0.7955967814036156\n"
     ]
    },
    {
     "name": "stderr",
     "output_type": "stream",
     "text": [
      "100%|██████████| 16068/16068 [00:49<00:00, 321.48it/s]\n",
      "  0%|          | 32/79401 [00:00<04:23, 301.36it/s]"
     ]
    },
    {
     "name": "stdout",
     "output_type": "stream",
     "text": [
      "precision-untyped: \t\t 0.80235822571589\n",
      "recall-untyped: \t\t 0.7936243474397423\n",
      "f1-measure-untyped: \t\t 0.7979673888764298\n",
      "precision-overall: \t\t 0.7996631106120157\n",
      "recall-overall: \t\t 0.7909585693657669\n",
      "f1-measure-overall: \t\t 0.7952870225596999\n",
      "9--10\n"
     ]
    },
    {
     "name": "stderr",
     "output_type": "stream",
     "text": [
      "  4%|▍         | 3264/79401 [00:09<03:24, 372.64it/s]"
     ]
    },
    {
     "name": "stdout",
     "output_type": "stream",
     "text": [
      "sum loss: 259.5318645596608\n"
     ]
    },
    {
     "name": "stderr",
     "output_type": "stream",
     "text": [
      "  8%|▊         | 6464/79401 [00:18<03:25, 354.39it/s]"
     ]
    },
    {
     "name": "stdout",
     "output_type": "stream",
     "text": [
      "sum loss: 504.155817898506\n"
     ]
    },
    {
     "name": "stderr",
     "output_type": "stream",
     "text": [
      " 12%|█▏        | 9664/79401 [00:27<03:13, 361.04it/s]"
     ]
    },
    {
     "name": "stdout",
     "output_type": "stream",
     "text": [
      "sum loss: 756.5029077505695\n"
     ]
    },
    {
     "name": "stderr",
     "output_type": "stream",
     "text": [
      " 16%|█▌        | 12864/79401 [00:37<03:10, 350.15it/s]"
     ]
    },
    {
     "name": "stdout",
     "output_type": "stream",
     "text": [
      "sum loss: 1034.887267985868\n"
     ]
    },
    {
     "name": "stderr",
     "output_type": "stream",
     "text": [
      " 20%|██        | 16064/79401 [00:46<03:07, 337.02it/s]"
     ]
    },
    {
     "name": "stdout",
     "output_type": "stream",
     "text": [
      "sum loss: 1268.0934141123391\n"
     ]
    },
    {
     "name": "stderr",
     "output_type": "stream",
     "text": [
      " 24%|██▍       | 19264/79401 [00:55<02:54, 345.12it/s]"
     ]
    },
    {
     "name": "stdout",
     "output_type": "stream",
     "text": [
      "sum loss: 1564.2759777499803\n"
     ]
    },
    {
     "name": "stderr",
     "output_type": "stream",
     "text": [
      " 28%|██▊       | 22496/79401 [01:05<02:48, 338.19it/s]"
     ]
    },
    {
     "name": "stdout",
     "output_type": "stream",
     "text": [
      "sum loss: 1932.8732548448565\n"
     ]
    },
    {
     "name": "stderr",
     "output_type": "stream",
     "text": [
      " 32%|███▏      | 25696/79401 [01:14<02:27, 364.77it/s]"
     ]
    },
    {
     "name": "stdout",
     "output_type": "stream",
     "text": [
      "sum loss: 2211.164982695841\n"
     ]
    },
    {
     "name": "stderr",
     "output_type": "stream",
     "text": [
      " 36%|███▋      | 28896/79401 [01:24<02:33, 329.46it/s]"
     ]
    },
    {
     "name": "stdout",
     "output_type": "stream",
     "text": [
      "sum loss: 2437.9302340322606\n"
     ]
    },
    {
     "name": "stderr",
     "output_type": "stream",
     "text": [
      " 40%|████      | 32096/79401 [01:33<02:17, 344.93it/s]"
     ]
    },
    {
     "name": "stdout",
     "output_type": "stream",
     "text": [
      "sum loss: 2740.149977577935\n"
     ]
    },
    {
     "name": "stderr",
     "output_type": "stream",
     "text": [
      " 44%|████▍     | 35296/79401 [01:42<02:12, 333.37it/s]"
     ]
    },
    {
     "name": "stdout",
     "output_type": "stream",
     "text": [
      "sum loss: 3087.5678851338503\n"
     ]
    },
    {
     "name": "stderr",
     "output_type": "stream",
     "text": [
      " 48%|████▊     | 38496/79401 [01:51<01:57, 346.90it/s]"
     ]
    },
    {
     "name": "stdout",
     "output_type": "stream",
     "text": [
      "sum loss: 3390.42041982316\n"
     ]
    },
    {
     "name": "stderr",
     "output_type": "stream",
     "text": [
      " 52%|█████▏    | 41632/79401 [02:01<01:45, 356.69it/s]"
     ]
    },
    {
     "name": "stdout",
     "output_type": "stream",
     "text": [
      "sum loss: 3671.6996848351037\n"
     ]
    },
    {
     "name": "stderr",
     "output_type": "stream",
     "text": [
      " 57%|█████▋    | 44896/79401 [02:10<01:33, 370.59it/s]"
     ]
    },
    {
     "name": "stdout",
     "output_type": "stream",
     "text": [
      "sum loss: 3937.7722460817845\n"
     ]
    },
    {
     "name": "stderr",
     "output_type": "stream",
     "text": [
      " 61%|██████    | 48096/79401 [02:19<01:32, 337.55it/s]"
     ]
    },
    {
     "name": "stdout",
     "output_type": "stream",
     "text": [
      "sum loss: 4278.733158846836\n"
     ]
    },
    {
     "name": "stderr",
     "output_type": "stream",
     "text": [
      " 65%|██████▍   | 51264/79401 [02:29<01:23, 337.16it/s]"
     ]
    },
    {
     "name": "stdout",
     "output_type": "stream",
     "text": [
      "sum loss: 4503.497174128347\n"
     ]
    },
    {
     "name": "stderr",
     "output_type": "stream",
     "text": [
      " 69%|██████▊   | 54464/79401 [02:39<01:15, 331.03it/s]"
     ]
    },
    {
     "name": "stdout",
     "output_type": "stream",
     "text": [
      "sum loss: 4928.050321785294\n"
     ]
    },
    {
     "name": "stderr",
     "output_type": "stream",
     "text": [
      " 73%|███████▎  | 57696/79401 [02:48<01:05, 330.15it/s]"
     ]
    },
    {
     "name": "stdout",
     "output_type": "stream",
     "text": [
      "sum loss: 5222.304804370401\n"
     ]
    },
    {
     "name": "stderr",
     "output_type": "stream",
     "text": [
      " 77%|███████▋  | 60864/79401 [02:58<00:59, 310.75it/s]"
     ]
    },
    {
     "name": "stdout",
     "output_type": "stream",
     "text": [
      "sum loss: 5493.716933173304\n"
     ]
    },
    {
     "name": "stderr",
     "output_type": "stream",
     "text": [
      " 81%|████████  | 64064/79401 [03:08<00:44, 341.60it/s]"
     ]
    },
    {
     "name": "stdout",
     "output_type": "stream",
     "text": [
      "sum loss: 5807.840158846832\n"
     ]
    },
    {
     "name": "stderr",
     "output_type": "stream",
     "text": [
      " 85%|████████▍ | 67264/79401 [03:17<00:38, 312.95it/s]"
     ]
    },
    {
     "name": "stdout",
     "output_type": "stream",
     "text": [
      "sum loss: 6081.416353059366\n"
     ]
    },
    {
     "name": "stderr",
     "output_type": "stream",
     "text": [
      " 89%|████████▊ | 70464/79401 [03:27<00:26, 333.79it/s]"
     ]
    },
    {
     "name": "stdout",
     "output_type": "stream",
     "text": [
      "sum loss: 6375.798147919122\n"
     ]
    },
    {
     "name": "stderr",
     "output_type": "stream",
     "text": [
      " 93%|█████████▎| 73664/79401 [03:36<00:17, 336.69it/s]"
     ]
    },
    {
     "name": "stdout",
     "output_type": "stream",
     "text": [
      "sum loss: 6649.353494380404\n"
     ]
    },
    {
     "name": "stderr",
     "output_type": "stream",
     "text": [
      " 97%|█████████▋| 76896/79401 [03:46<00:07, 338.75it/s]"
     ]
    },
    {
     "name": "stdout",
     "output_type": "stream",
     "text": [
      "sum loss: 6980.09115305816\n"
     ]
    },
    {
     "name": "stderr",
     "output_type": "stream",
     "text": [
      "100%|██████████| 79401/79401 [03:53<00:00, 339.99it/s]\n"
     ]
    },
    {
     "name": "stdout",
     "output_type": "stream",
     "text": [
      "Saved model to /nfs/gns/literature/Santosh_Tirunagari/GitHub/spacy_models/pubmed-pmc-sm/9\n",
      "Loading from /nfs/gns/literature/Santosh_Tirunagari/GitHub/spacy_models/pubmed-pmc-sm/9\n"
     ]
    },
    {
     "name": "stderr",
     "output_type": "stream",
     "text": [
      "  0%|          | 30/16068 [00:00<00:54, 294.56it/s]"
     ]
    },
    {
     "name": "stdout",
     "output_type": "stream",
     "text": [
      "Evaluating 16068 rows\n"
     ]
    },
    {
     "name": "stderr",
     "output_type": "stream",
     "text": [
      "  6%|▋         | 1024/16068 [00:03<00:43, 342.81it/s]"
     ]
    },
    {
     "name": "stdout",
     "output_type": "stream",
     "text": [
      "precision-GP: 0.9487179487179479\n",
      "recall-GP: 0.9327731092436967\n",
      "f1-measure-GP: 0.9406779661016442\n",
      "precision-untyped: 0.8077994428969357\n",
      "recall-untyped: 0.7493540051679585\n",
      "f1-measure-untyped: 0.7774798927613441\n",
      "precision-DS: 0.838983050847457\n",
      "recall-DS: 0.8461538461538455\n",
      "f1-measure-DS: 0.8425531914893111\n",
      "precision-OG: 0.6451612903225801\n",
      "recall-OG: 0.5298013245033109\n",
      "f1-measure-OG: 0.5818181818181318\n",
      "precision-overall: 0.8077994428969357\n",
      "recall-overall: 0.7493540051679585\n",
      "f1-measure-overall: 0.7774798927613441\n"
     ]
    },
    {
     "name": "stderr",
     "output_type": "stream",
     "text": [
      " 13%|█▎        | 2064/16068 [00:06<00:39, 356.89it/s]"
     ]
    },
    {
     "name": "stdout",
     "output_type": "stream",
     "text": [
      "precision-GP: 0.7168141592920351\n",
      "recall-GP: 0.8571428571428567\n",
      "f1-measure-GP: 0.780722891566215\n",
      "precision-untyped: 0.796153846153846\n",
      "recall-untyped: 0.7212543554006968\n",
      "f1-measure-untyped: 0.756855575868323\n",
      "precision-DS: 0.8508287292817674\n",
      "recall-DS: 0.8651685393258421\n",
      "f1-measure-DS: 0.8579387186629021\n",
      "precision-OG: 0.8176943699731901\n",
      "recall-OG: 0.617408906882591\n",
      "f1-measure-OG: 0.7035755478661561\n",
      "precision-overall: 0.796153846153846\n",
      "recall-overall: 0.7212543554006968\n",
      "f1-measure-overall: 0.756855575868323\n"
     ]
    },
    {
     "name": "stderr",
     "output_type": "stream",
     "text": [
      " 19%|█▉        | 3043/16068 [00:09<00:44, 291.64it/s]"
     ]
    },
    {
     "name": "stdout",
     "output_type": "stream",
     "text": [
      "precision-GP: 0.6141732283464566\n",
      "recall-GP: 0.8571428571428569\n",
      "f1-measure-GP: 0.7155963302751807\n",
      "precision-untyped: 0.7492559523809523\n",
      "recall-untyped: 0.78001549186677\n",
      "f1-measure-untyped: 0.7643263757115252\n",
      "precision-DS: 0.8357664233576639\n",
      "recall-DS: 0.8773946360153253\n",
      "f1-measure-DS: 0.8560747663550899\n",
      "precision-OG: 0.8256227758007115\n",
      "recall-OG: 0.6966966966966965\n",
      "f1-measure-OG: 0.7557003257328492\n",
      "precision-overall: 0.7477678571428571\n",
      "recall-overall: 0.7784663051897753\n",
      "f1-measure-overall: 0.7628083491460601\n"
     ]
    },
    {
     "name": "stderr",
     "output_type": "stream",
     "text": [
      " 25%|██▌       | 4048/16068 [00:12<00:41, 291.54it/s]"
     ]
    },
    {
     "name": "stdout",
     "output_type": "stream",
     "text": [
      "precision-GP: 0.6368421052631578\n",
      "recall-GP: 0.8501170960187351\n",
      "f1-measure-GP: 0.7281845536609338\n",
      "precision-untyped: 0.7633061991233563\n",
      "recall-untyped: 0.7666666666666667\n",
      "f1-measure-untyped: 0.7649827423909132\n",
      "precision-DS: 0.8338983050847455\n",
      "recall-DS: 0.869257950530035\n",
      "f1-measure-DS: 0.8512110726643096\n",
      "precision-OG: 0.8292349726775955\n",
      "recall-OG: 0.6897727272727272\n",
      "f1-measure-OG: 0.753101736972655\n",
      "precision-overall: 0.7614276768941766\n",
      "recall-overall: 0.7647798742138365\n",
      "f1-measure-overall: 0.763100094132363\n"
     ]
    },
    {
     "name": "stderr",
     "output_type": "stream",
     "text": [
      " 31%|███▏      | 5047/16068 [00:15<00:37, 293.09it/s]"
     ]
    },
    {
     "name": "stdout",
     "output_type": "stream",
     "text": [
      "precision-GP: 0.6782477341389727\n",
      "recall-GP: 0.855238095238095\n",
      "f1-measure-GP: 0.7565290648693692\n",
      "precision-untyped: 0.7914141414141415\n",
      "recall-untyped: 0.7838919459729865\n",
      "f1-measure-untyped: 0.7876350841919582\n",
      "precision-DS: 0.8256070640176598\n",
      "recall-DS: 0.8256070640176598\n",
      "f1-measure-DS: 0.82560706401761\n",
      "precision-OG: 0.8473988439306357\n",
      "recall-OG: 0.7179236043095004\n",
      "f1-measure-OG: 0.7773064687168113\n",
      "precision-overall: 0.7858585858585858\n",
      "recall-overall: 0.7783891945972986\n",
      "f1-measure-overall: 0.7821060567981406\n"
     ]
    },
    {
     "name": "stderr",
     "output_type": "stream",
     "text": [
      " 38%|███▊      | 6043/16068 [00:18<00:33, 295.35it/s]"
     ]
    },
    {
     "name": "stdout",
     "output_type": "stream",
     "text": [
      "precision-GP: 0.7026666666666666\n",
      "recall-GP: 0.8418530351437699\n",
      "f1-measure-GP: 0.7659883720929737\n",
      "precision-untyped: 0.7998359310910582\n",
      "recall-untyped: 0.8027995059695348\n",
      "f1-measure-untyped: 0.8013149784260852\n",
      "precision-DS: 0.8141962421711898\n",
      "recall-DS: 0.829787234042553\n",
      "f1-measure-DS: 0.821917808219128\n",
      "precision-OG: 0.8453267162944582\n",
      "recall-OG: 0.7666916729182296\n",
      "f1-measure-OG: 0.804091266719069\n",
      "precision-overall: 0.79532403609516\n",
      "recall-overall: 0.7982708933717579\n",
      "f1-measure-overall: 0.7967947400862455\n"
     ]
    },
    {
     "name": "stderr",
     "output_type": "stream",
     "text": [
      " 44%|████▍     | 7031/16068 [00:22<00:33, 272.59it/s]"
     ]
    },
    {
     "name": "stdout",
     "output_type": "stream",
     "text": [
      "precision-GP: 0.7161520190023752\n",
      "recall-GP: 0.7710997442455242\n",
      "f1-measure-GP: 0.7426108374383737\n",
      "precision-untyped: 0.8196027352653859\n",
      "recall-untyped: 0.8046675191815856\n",
      "f1-measure-untyped: 0.8120664623325842\n",
      "precision-DS: 0.8335901386748843\n",
      "recall-DS: 0.8426791277258565\n",
      "f1-measure-DS: 0.8381099922540165\n",
      "precision-OG: 0.8575949367088608\n",
      "recall-OG: 0.79518779342723\n",
      "f1-measure-OG: 0.8252131546893532\n",
      "precision-overall: 0.8137414522956692\n",
      "recall-overall: 0.7989130434782609\n",
      "f1-measure-overall: 0.8062590740441508\n"
     ]
    },
    {
     "name": "stderr",
     "output_type": "stream",
     "text": [
      " 50%|█████     | 8037/16068 [00:25<00:29, 273.22it/s]"
     ]
    },
    {
     "name": "stdout",
     "output_type": "stream",
     "text": [
      "precision-GP: 0.7269260106788711\n",
      "recall-GP: 0.8301393728222997\n",
      "f1-measure-GP: 0.7751118340788441\n",
      "precision-untyped: 0.8038265306122448\n",
      "recall-untyped: 0.7945032778618255\n",
      "f1-measure-untyped: 0.7991377124016745\n",
      "precision-DS: 0.8154020385050962\n",
      "recall-DS: 0.7178464606181455\n",
      "f1-measure-DS: 0.7635206786849978\n",
      "precision-OG: 0.8458864426419467\n",
      "recall-OG: 0.8044077134986226\n",
      "f1-measure-OG: 0.8246258119174874\n",
      "precision-overall: 0.799234693877551\n",
      "recall-overall: 0.7899646999495713\n",
      "f1-measure-overall: 0.7945726604108047\n"
     ]
    },
    {
     "name": "stderr",
     "output_type": "stream",
     "text": [
      " 56%|█████▋    | 9074/16068 [00:29<00:21, 326.38it/s]"
     ]
    },
    {
     "name": "stdout",
     "output_type": "stream",
     "text": [
      "precision-GP: 0.715819209039548\n",
      "recall-GP: 0.8330046022353714\n",
      "f1-measure-GP: 0.769978729869291\n",
      "precision-untyped: 0.7942553191489362\n",
      "recall-untyped: 0.7976495726495727\n",
      "f1-measure-untyped: 0.7959488272920611\n",
      "precision-DS: 0.8078975453575239\n",
      "recall-DS: 0.7148253068932956\n",
      "f1-measure-DS: 0.7585170340680865\n",
      "precision-OG: 0.8359257400903161\n",
      "recall-OG: 0.7933333333333333\n",
      "f1-measure-OG: 0.8140728072318093\n",
      "precision-overall: 0.7851063829787234\n",
      "recall-overall: 0.7884615384615384\n",
      "f1-measure-overall: 0.7867803837952592\n"
     ]
    },
    {
     "name": "stderr",
     "output_type": "stream",
     "text": [
      " 63%|██████▎   | 10061/16068 [00:31<00:13, 445.06it/s]"
     ]
    },
    {
     "name": "stdout",
     "output_type": "stream",
     "text": [
      "precision-GP: 0.701271186440678\n",
      "recall-GP: 0.8337531486146096\n",
      "f1-measure-GP: 0.7617951668584084\n",
      "precision-untyped: 0.7853002070393375\n",
      "recall-untyped: 0.7985263157894736\n",
      "f1-measure-untyped: 0.7918580375782381\n",
      "precision-DS: 0.8008429926238144\n",
      "recall-DS: 0.7156308851224106\n",
      "f1-measure-DS: 0.7558428642465936\n",
      "precision-OG: 0.8359257400903161\n",
      "recall-OG: 0.7933333333333333\n",
      "f1-measure-OG: 0.8140728072318093\n",
      "precision-overall: 0.7763975155279503\n",
      "recall-overall: 0.7894736842105263\n",
      "f1-measure-overall: 0.7828810020876328\n"
     ]
    },
    {
     "name": "stderr",
     "output_type": "stream",
     "text": [
      " 69%|██████▊   | 11027/16068 [00:34<00:22, 224.68it/s]"
     ]
    },
    {
     "name": "stdout",
     "output_type": "stream",
     "text": [
      "precision-GP: 0.6964646464646465\n",
      "recall-GP: 0.8342407743496673\n",
      "f1-measure-GP: 0.759152215799565\n",
      "precision-untyped: 0.7740857255210382\n",
      "recall-untyped: 0.8003659280341533\n",
      "f1-measure-untyped: 0.7870064967515742\n",
      "precision-DS: 0.7530402245088869\n",
      "recall-DS: 0.7193923145665773\n",
      "f1-measure-DS: 0.7358318098719793\n",
      "precision-OG: 0.8394698085419735\n",
      "recall-OG: 0.7964601769911505\n",
      "f1-measure-OG: 0.8173996175907722\n",
      "precision-overall: 0.7656311443177349\n",
      "recall-overall: 0.7916243138849359\n",
      "f1-measure-overall: 0.7784107946026486\n"
     ]
    },
    {
     "name": "stderr",
     "output_type": "stream",
     "text": [
      " 75%|███████▍  | 12050/16068 [00:37<00:12, 333.36it/s]"
     ]
    },
    {
     "name": "stdout",
     "output_type": "stream",
     "text": [
      "precision-GP: 0.7066173068024063\n",
      "recall-GP: 0.839010989010989\n",
      "f1-measure-GP: 0.7671439336849543\n",
      "precision-untyped: 0.774489983458923\n",
      "recall-untyped: 0.7928504233301975\n",
      "f1-measure-untyped: 0.7835626626998384\n",
      "precision-DS: 0.7495854063018242\n",
      "recall-DS: 0.691131498470948\n",
      "f1-measure-DS: 0.7191726332537289\n",
      "precision-OG: 0.8389585342333655\n",
      "recall-OG: 0.7956104252400549\n",
      "f1-measure-OG: 0.8167096925603818\n",
      "precision-overall: 0.766587024444036\n",
      "recall-overall: 0.7847601128880527\n",
      "f1-measure-overall: 0.7755671253253499\n"
     ]
    },
    {
     "name": "stderr",
     "output_type": "stream",
     "text": [
      " 81%|████████  | 13034/16068 [00:40<00:10, 290.75it/s]"
     ]
    },
    {
     "name": "stdout",
     "output_type": "stream",
     "text": [
      "precision-GP: 0.7294407894736842\n",
      "recall-GP: 0.8336466165413534\n",
      "f1-measure-GP: 0.7780701754385468\n",
      "precision-untyped: 0.784258492129246\n",
      "recall-untyped: 0.7974726200505476\n",
      "f1-measure-untyped: 0.790810359231362\n",
      "precision-DS: 0.7535310734463276\n",
      "recall-DS: 0.7084993359893759\n",
      "f1-measure-DS: 0.730321697467438\n",
      "precision-OG: 0.8454503886602652\n",
      "recall-OG: 0.8035636679704476\n",
      "f1-measure-OG: 0.82397504456323\n",
      "precision-overall: 0.7771333885666943\n",
      "recall-overall: 0.7902274641954508\n",
      "f1-measure-overall: 0.783625730994102\n"
     ]
    },
    {
     "name": "stderr",
     "output_type": "stream",
     "text": [
      " 88%|████████▊ | 14075/16068 [00:43<00:05, 360.62it/s]"
     ]
    },
    {
     "name": "stdout",
     "output_type": "stream",
     "text": [
      "precision-GP: 0.7413793103448276\n",
      "recall-GP: 0.83984375\n",
      "f1-measure-GP: 0.7875457875457378\n",
      "precision-untyped: 0.7831375838926175\n",
      "recall-untyped: 0.8052041403105233\n",
      "f1-measure-untyped: 0.7940175786787139\n",
      "precision-DS: 0.7729285262492094\n",
      "recall-DS: 0.7282479141835518\n",
      "f1-measure-DS: 0.7499232893525123\n",
      "precision-OG: 0.8269634607307854\n",
      "recall-OG: 0.7997562956945573\n",
      "f1-measure-OG: 0.8131323559776498\n",
      "precision-overall: 0.7768456375838926\n",
      "recall-overall: 0.7987349051178838\n",
      "f1-measure-overall: 0.7876382194499074\n"
     ]
    },
    {
     "name": "stderr",
     "output_type": "stream",
     "text": [
      " 94%|█████████▍| 15069/16068 [00:47<00:03, 309.72it/s]"
     ]
    },
    {
     "name": "stdout",
     "output_type": "stream",
     "text": [
      "precision-GP: 0.7702881311128734\n",
      "recall-GP: 0.8287827076222981\n",
      "f1-measure-GP: 0.7984655432250495\n",
      "precision-untyped: 0.8003699136868064\n",
      "recall-untyped: 0.7870740875469868\n",
      "f1-measure-untyped: 0.7936663202298211\n",
      "precision-DS: 0.788594470046083\n",
      "recall-DS: 0.6635967038293747\n",
      "f1-measure-DS: 0.7207159778888687\n",
      "precision-OG: 0.8332690081049787\n",
      "recall-OG: 0.8092203898050975\n",
      "f1-measure-OG: 0.8210686442288908\n",
      "precision-overall: 0.794327990135635\n",
      "recall-overall: 0.7811325330423184\n",
      "f1-measure-overall: 0.7876750015283478\n"
     ]
    },
    {
     "name": "stderr",
     "output_type": "stream",
     "text": [
      "100%|█████████▉| 16054/16068 [00:50<00:00, 289.38it/s]"
     ]
    },
    {
     "name": "stdout",
     "output_type": "stream",
     "text": [
      "precision-GP: 0.7663390663390663\n",
      "recall-GP: 0.8306258322237017\n",
      "f1-measure-GP: 0.797188498402506\n",
      "precision-untyped: 0.8044384364086966\n",
      "recall-untyped: 0.7933562937451394\n",
      "f1-measure-untyped: 0.7988589327664787\n",
      "precision-DS: 0.8016235413495687\n",
      "recall-DS: 0.6813281586890901\n",
      "f1-measure-DS: 0.7365967365966869\n",
      "precision-OG: 0.8430888575458392\n",
      "recall-OG: 0.8168773488213188\n",
      "f1-measure-OG: 0.829776158250861\n",
      "precision-overall: 0.7986932522248508\n",
      "recall-overall: 0.7876902566381513\n",
      "f1-measure-overall: 0.7931535965991222\n"
     ]
    },
    {
     "name": "stderr",
     "output_type": "stream",
     "text": [
      "100%|██████████| 16068/16068 [00:51<00:00, 314.87it/s]\n"
     ]
    },
    {
     "name": "stdout",
     "output_type": "stream",
     "text": [
      "precision-untyped: \t\t 0.8037582986384607\n",
      "recall-untyped: \t\t 0.793402199266911\n",
      "f1-measure-untyped: \t\t 0.7985466741195699\n",
      "precision-overall: \t\t 0.7980195791605716\n",
      "recall-overall: \t\t 0.7877374208597134\n",
      "f1-measure-overall: \t\t 0.7928451648965402\n",
      "Best Epoch: 3 of 10\n",
      "Loading from /nfs/gns/literature/Santosh_Tirunagari/GitHub/spacy_models/pubmed-pmc-sm/best\n"
     ]
    },
    {
     "name": "stderr",
     "output_type": "stream",
     "text": [
      "  0%|          | 32/16068 [00:00<00:51, 311.30it/s]"
     ]
    },
    {
     "name": "stdout",
     "output_type": "stream",
     "text": [
      "Evaluating 16068 rows\n"
     ]
    },
    {
     "name": "stderr",
     "output_type": "stream",
     "text": [
      "  6%|▋         | 1029/16068 [00:02<00:40, 373.74it/s]"
     ]
    },
    {
     "name": "stdout",
     "output_type": "stream",
     "text": [
      "precision-GP: 0.9561403508771922\n",
      "recall-GP: 0.915966386554621\n",
      "f1-measure-GP: 0.9356223175965158\n",
      "precision-untyped: 0.7906976744186044\n",
      "recall-untyped: 0.7028423772609818\n",
      "f1-measure-untyped: 0.7441860465115779\n",
      "precision-DS: 0.8225806451612897\n",
      "recall-DS: 0.871794871794871\n",
      "f1-measure-DS: 0.8464730290455926\n",
      "precision-OG: 0.575471698113207\n",
      "recall-OG: 0.4039735099337745\n",
      "f1-measure-OG: 0.47470817120617675\n",
      "precision-overall: 0.7906976744186044\n",
      "recall-overall: 0.7028423772609818\n",
      "f1-measure-overall: 0.7441860465115779\n"
     ]
    },
    {
     "name": "stderr",
     "output_type": "stream",
     "text": [
      " 13%|█▎        | 2060/16068 [00:05<00:36, 388.74it/s]"
     ]
    },
    {
     "name": "stdout",
     "output_type": "stream",
     "text": [
      "precision-GP: 0.7194570135746603\n",
      "recall-GP: 0.8412698412698407\n",
      "f1-measure-GP: 0.7756097560975108\n",
      "precision-untyped: 0.7859973579920738\n",
      "recall-untyped: 0.6910569105691056\n",
      "f1-measure-untyped: 0.735475896168059\n",
      "precision-DS: 0.8351063829787229\n",
      "recall-DS: 0.8820224719101118\n",
      "f1-measure-DS: 0.8579234972677091\n",
      "precision-OG: 0.8017241379310343\n",
      "recall-OG: 0.5647773279352225\n",
      "f1-measure-OG: 0.6627078384797613\n",
      "precision-overall: 0.7859973579920738\n",
      "recall-overall: 0.6910569105691056\n",
      "f1-measure-overall: 0.735475896168059\n"
     ]
    },
    {
     "name": "stderr",
     "output_type": "stream",
     "text": [
      " 19%|█▉        | 3037/16068 [00:09<00:44, 295.17it/s]"
     ]
    },
    {
     "name": "stdout",
     "output_type": "stream",
     "text": [
      "precision-GP: 0.625766871165644\n",
      "recall-GP: 0.8406593406593404\n",
      "f1-measure-GP: 0.7174677608440307\n",
      "precision-untyped: 0.741051028179741\n",
      "recall-untyped: 0.7536793183578622\n",
      "f1-measure-untyped: 0.7473118279569393\n",
      "precision-DS: 0.8357664233576639\n",
      "recall-DS: 0.8773946360153253\n",
      "f1-measure-DS: 0.8560747663550899\n",
      "precision-OG: 0.7927272727272726\n",
      "recall-OG: 0.6546546546546546\n",
      "f1-measure-OG: 0.7171052631578451\n",
      "precision-overall: 0.7395277989337395\n",
      "recall-overall: 0.7521301316808675\n",
      "f1-measure-overall: 0.7457757296466474\n"
     ]
    },
    {
     "name": "stderr",
     "output_type": "stream",
     "text": [
      " 25%|██▌       | 4041/16068 [00:11<00:37, 318.08it/s]"
     ]
    },
    {
     "name": "stdout",
     "output_type": "stream",
     "text": [
      "precision-GP: 0.640144665461121\n",
      "recall-GP: 0.8290398126463698\n",
      "f1-measure-GP: 0.7224489795917874\n",
      "precision-untyped: 0.7568954457985888\n",
      "recall-untyped: 0.7421383647798742\n",
      "f1-measure-untyped: 0.7494442680215442\n",
      "precision-DS: 0.833333333333333\n",
      "recall-DS: 0.8657243816254413\n",
      "f1-measure-DS: 0.849220103986085\n",
      "precision-OG: 0.8089887640449437\n",
      "recall-OG: 0.6545454545454544\n",
      "f1-measure-OG: 0.7236180904522118\n",
      "precision-overall: 0.7536882617062219\n",
      "recall-overall: 0.7389937106918238\n",
      "f1-measure-overall: 0.746268656716368\n"
     ]
    },
    {
     "name": "stderr",
     "output_type": "stream",
     "text": [
      " 31%|███▏      | 5040/16068 [00:14<00:31, 355.20it/s]"
     ]
    },
    {
     "name": "stdout",
     "output_type": "stream",
     "text": [
      "precision-GP: 0.6790123456790123\n",
      "recall-GP: 0.8380952380952379\n",
      "f1-measure-GP: 0.7502131287297034\n",
      "precision-untyped: 0.7834946510443199\n",
      "recall-untyped: 0.7693846923461731\n",
      "f1-measure-untyped: 0.7763755678949527\n",
      "precision-DS: 0.8242950108459868\n",
      "recall-DS: 0.8388520971302427\n",
      "f1-measure-DS: 0.8315098468270834\n",
      "precision-OG: 0.8325526932084308\n",
      "recall-OG: 0.6963761018609206\n",
      "f1-measure-OG: 0.7583999999999504\n",
      "precision-overall: 0.7799286805909322\n",
      "recall-overall: 0.7658829414707353\n",
      "f1-measure-overall: 0.7728419989903589\n"
     ]
    },
    {
     "name": "stderr",
     "output_type": "stream",
     "text": [
      " 38%|███▊      | 6042/16068 [00:17<00:32, 306.80it/s]"
     ]
    },
    {
     "name": "stdout",
     "output_type": "stream",
     "text": [
      "precision-GP: 0.705563093622795\n",
      "recall-GP: 0.8306709265175717\n",
      "f1-measure-GP: 0.7630227439471257\n",
      "precision-untyped: 0.796265560165975\n",
      "recall-untyped: 0.7900370522848909\n",
      "f1-measure-untyped: 0.7931390783219173\n",
      "precision-DS: 0.8098159509202452\n",
      "recall-DS: 0.8425531914893615\n",
      "f1-measure-DS: 0.8258602711156954\n",
      "precision-OG: 0.8403716216216216\n",
      "recall-OG: 0.746436609152288\n",
      "f1-measure-OG: 0.7906237584425405\n",
      "precision-overall: 0.7929460580912863\n",
      "recall-overall: 0.7867435158501441\n",
      "f1-measure-overall: 0.7898326100433475\n"
     ]
    },
    {
     "name": "stderr",
     "output_type": "stream",
     "text": [
      " 44%|████▍     | 7045/16068 [00:20<00:28, 314.22it/s]"
     ]
    },
    {
     "name": "stdout",
     "output_type": "stream",
     "text": [
      "precision-GP: 0.734321550741163\n",
      "recall-GP: 0.8235294117647057\n",
      "f1-measure-GP: 0.7763713080168277\n",
      "precision-untyped: 0.8217886178861789\n",
      "recall-untyped: 0.8078644501278772\n",
      "f1-measure-untyped: 0.8147670482024327\n",
      "precision-DS: 0.8188736681887365\n",
      "recall-DS: 0.8380062305295949\n",
      "f1-measure-DS: 0.8283294842185798\n",
      "precision-OG: 0.8611291369240752\n",
      "recall-OG: 0.778755868544601\n",
      "f1-measure-OG: 0.8178736517719071\n",
      "precision-overall: 0.8159349593495935\n",
      "recall-overall: 0.8021099744245525\n",
      "f1-measure-overall: 0.8089634048040771\n"
     ]
    },
    {
     "name": "stderr",
     "output_type": "stream",
     "text": [
      " 50%|█████     | 8039/16068 [00:23<00:24, 330.57it/s]"
     ]
    },
    {
     "name": "stdout",
     "output_type": "stream",
     "text": [
      "precision-GP: 0.7447604790419161\n",
      "recall-GP: 0.8667247386759582\n",
      "f1-measure-GP: 0.8011272141706427\n",
      "precision-untyped: 0.8096446700507615\n",
      "recall-untyped: 0.8043368633383762\n",
      "f1-measure-untyped: 0.8069820389577037\n",
      "precision-DS: 0.8102508178844056\n",
      "recall-DS: 0.7407776669990029\n",
      "f1-measure-DS: 0.7739583333332833\n",
      "precision-OG: 0.8494368701837581\n",
      "recall-OG: 0.7895316804407714\n",
      "f1-measure-OG: 0.8183894917189678\n",
      "precision-overall: 0.8048223350253807\n",
      "recall-overall: 0.7995461422087746\n",
      "f1-measure-overall: 0.8021755628635979\n"
     ]
    },
    {
     "name": "stderr",
     "output_type": "stream",
     "text": [
      " 56%|█████▋    | 9058/16068 [00:26<00:19, 351.49it/s]"
     ]
    },
    {
     "name": "stdout",
     "output_type": "stream",
     "text": [
      "precision-GP: 0.7437214611872146\n",
      "recall-GP: 0.8566732412886259\n",
      "f1-measure-GP: 0.7962114268254926\n",
      "precision-untyped: 0.8099120360437674\n",
      "recall-untyped: 0.8066239316239316\n",
      "f1-measure-untyped: 0.808264639760147\n",
      "precision-DS: 0.8030927835051546\n",
      "recall-DS: 0.7355996222851747\n",
      "f1-measure-DS: 0.7678659438146372\n",
      "precision-OG: 0.8457968024755028\n",
      "recall-OG: 0.780952380952381\n",
      "f1-measure-OG: 0.8120821985639511\n",
      "precision-overall: 0.7985410856039477\n",
      "recall-overall: 0.7952991452991452\n",
      "f1-measure-overall: 0.7969168183277523\n"
     ]
    },
    {
     "name": "stderr",
     "output_type": "stream",
     "text": [
      " 63%|██████▎   | 10060/16068 [00:28<00:12, 488.69it/s]"
     ]
    },
    {
     "name": "stdout",
     "output_type": "stream",
     "text": [
      "precision-GP: 0.7267379679144385\n",
      "recall-GP: 0.8557934508816121\n",
      "f1-measure-GP: 0.7860034702139468\n",
      "precision-untyped: 0.800919156047629\n",
      "recall-untyped: 0.8071578947368421\n",
      "f1-measure-untyped: 0.804026423403536\n",
      "precision-DS: 0.7995910020449897\n",
      "recall-DS: 0.736346516007533\n",
      "f1-measure-DS: 0.7666666666666168\n",
      "precision-OG: 0.8457968024755028\n",
      "recall-OG: 0.780952380952381\n",
      "f1-measure-OG: 0.8120821985639511\n",
      "precision-overall: 0.7898475036557343\n",
      "recall-overall: 0.796\n",
      "f1-measure-overall: 0.7929118171332206\n"
     ]
    },
    {
     "name": "stderr",
     "output_type": "stream",
     "text": [
      " 69%|██████▊   | 11033/16068 [00:31<00:21, 239.57it/s]"
     ]
    },
    {
     "name": "stdout",
     "output_type": "stream",
     "text": [
      "precision-GP: 0.7210015329586101\n",
      "recall-GP: 0.853599516031458\n",
      "f1-measure-GP: 0.7817174515234961\n",
      "precision-untyped: 0.7891602144133413\n",
      "recall-untyped: 0.8080910754218337\n",
      "f1-measure-untyped: 0.7985134592205205\n",
      "precision-DS: 0.7536496350364964\n",
      "recall-DS: 0.7381590705987489\n",
      "f1-measure-DS: 0.7458239277651871\n",
      "precision-OG: 0.8492943548387096\n",
      "recall-OG: 0.7848160223567769\n",
      "f1-measure-OG: 0.8157831033647529\n",
      "precision-overall: 0.7786380782211634\n",
      "recall-overall: 0.7973165277495425\n",
      "f1-measure-overall: 0.7878666130975795\n"
     ]
    },
    {
     "name": "stderr",
     "output_type": "stream",
     "text": [
      " 75%|███████▍  | 12025/16068 [00:33<00:09, 404.34it/s]"
     ]
    },
    {
     "name": "stdout",
     "output_type": "stream",
     "text": [
      "precision-GP: 0.7310924369747899\n",
      "recall-GP: 0.8604395604395605\n",
      "f1-measure-GP: 0.7905098435133274\n",
      "precision-untyped: 0.790070658237263\n",
      "recall-untyped: 0.7994355597365945\n",
      "f1-measure-untyped: 0.79472552136907\n",
      "precision-DS: 0.7506092607636068\n",
      "recall-DS: 0.7064220183486238\n",
      "f1-measure-DS: 0.7278456085072365\n",
      "precision-OG: 0.8508728179551123\n",
      "recall-OG: 0.7800640146319159\n",
      "f1-measure-OG: 0.8139312977098738\n",
      "precision-overall: 0.7802156935663815\n",
      "recall-overall: 0.7894637817497648\n",
      "f1-measure-overall: 0.7848124941550048\n"
     ]
    },
    {
     "name": "stderr",
     "output_type": "stream",
     "text": [
      " 81%|████████▏ | 13066/16068 [00:36<00:08, 364.16it/s]"
     ]
    },
    {
     "name": "stdout",
     "output_type": "stream",
     "text": [
      "precision-GP: 0.7539030402629416\n",
      "recall-GP: 0.862312030075188\n",
      "f1-measure-GP: 0.8044717229284905\n",
      "precision-untyped: 0.7982309746328438\n",
      "recall-untyped: 0.8058972198820556\n",
      "f1-measure-untyped: 0.8020457784857385\n",
      "precision-DS: 0.7513850415512465\n",
      "recall-DS: 0.7204515272244356\n",
      "f1-measure-DS: 0.735593220338933\n",
      "precision-OG: 0.8561967833491012\n",
      "recall-OG: 0.7866145154280747\n",
      "f1-measure-OG: 0.8199320498300747\n",
      "precision-overall: 0.7893858477970628\n",
      "recall-overall: 0.7969671440606572\n",
      "f1-measure-overall: 0.7931583801458375\n"
     ]
    },
    {
     "name": "stderr",
     "output_type": "stream",
     "text": [
      " 88%|████████▊ | 14068/16068 [00:39<00:05, 381.16it/s]"
     ]
    },
    {
     "name": "stdout",
     "output_type": "stream",
     "text": [
      "precision-GP: 0.7607131685955584\n",
      "recall-GP: 0.8636363636363636\n",
      "f1-measure-GP: 0.8089140196240979\n",
      "precision-untyped: 0.79497614369913\n",
      "recall-untyped: 0.8144048303622772\n",
      "f1-measure-untyped: 0.8045732140320477\n",
      "precision-DS: 0.7685643564356436\n",
      "recall-DS: 0.7401668653158522\n",
      "f1-measure-DS: 0.7540983606556877\n",
      "precision-OG: 0.8370082144401211\n",
      "recall-OG: 0.7863525588952072\n",
      "f1-measure-OG: 0.810890052355971\n",
      "precision-overall: 0.7872579287117597\n",
      "recall-overall: 0.8064979873490512\n",
      "f1-measure-overall: 0.7967618236045516\n"
     ]
    },
    {
     "name": "stderr",
     "output_type": "stream",
     "text": [
      " 94%|█████████▎| 15043/16068 [00:42<00:03, 304.70it/s]"
     ]
    },
    {
     "name": "stdout",
     "output_type": "stream",
     "text": [
      "precision-GP: 0.790139731083575\n",
      "recall-GP: 0.8523890784982935\n",
      "f1-measure-GP: 0.8200848269256581\n",
      "precision-untyped: 0.8130864197530864\n",
      "recall-untyped: 0.7985934279131806\n",
      "f1-measure-untyped: 0.8057747598947319\n",
      "precision-DS: 0.787317620650954\n",
      "recall-DS: 0.6800775569558895\n",
      "f1-measure-DS: 0.7297789336800543\n",
      "precision-OG: 0.8431683168316831\n",
      "recall-OG: 0.797976011994003\n",
      "f1-measure-OG: 0.8199499326015292\n",
      "precision-overall: 0.8060493827160494\n",
      "recall-overall: 0.7916818236934643\n",
      "f1-measure-overall: 0.7988010032421351\n"
     ]
    },
    {
     "name": "stderr",
     "output_type": "stream",
     "text": [
      "100%|█████████▉| 16038/16068 [00:46<00:00, 318.57it/s]"
     ]
    },
    {
     "name": "stdout",
     "output_type": "stream",
     "text": [
      "precision-GP: 0.7826937179173796\n",
      "recall-GP: 0.8527296937416777\n",
      "f1-measure-GP: 0.8162120825898048\n",
      "precision-untyped: 0.8143564356435643\n",
      "recall-untyped: 0.8041328741250973\n",
      "f1-measure-untyped: 0.8092123651405391\n",
      "precision-DS: 0.7990123456790124\n",
      "recall-DS: 0.6977145321259164\n",
      "f1-measure-DS: 0.744935543278035\n",
      "precision-OG: 0.8517316017316018\n",
      "recall-OG: 0.806627946703109\n",
      "f1-measure-OG: 0.8285664151605044\n",
      "precision-overall: 0.8079432943294329\n",
      "recall-overall: 0.7978002444172869\n",
      "f1-measure-overall: 0.8028397339146461\n"
     ]
    },
    {
     "name": "stderr",
     "output_type": "stream",
     "text": [
      "100%|██████████| 16068/16068 [00:46<00:00, 346.13it/s]\n",
      "  0%|          | 28/17680 [00:00<01:03, 276.72it/s]"
     ]
    },
    {
     "name": "stdout",
     "output_type": "stream",
     "text": [
      "precision-untyped: \t\t 0.814123467896098\n",
      "recall-untyped: \t\t 0.804176385649228\n",
      "f1-measure-untyped: \t\t 0.8091193562806832\n",
      "precision-overall: \t\t 0.8077139323063083\n",
      "recall-overall: \t\t 0.7978451627235366\n",
      "f1-measure-overall: \t\t 0.8027492177022298\n",
      "Evaluating 17680 rows\n"
     ]
    },
    {
     "name": "stderr",
     "output_type": "stream",
     "text": [
      "  6%|▌         | 1032/17680 [00:03<00:50, 328.33it/s]"
     ]
    },
    {
     "name": "stdout",
     "output_type": "stream",
     "text": [
      "precision-GP: 0.8742857142857141\n",
      "recall-GP: 0.7439222042139383\n",
      "f1-measure-GP: 0.8038528896672007\n",
      "precision-untyped: 0.8528138528138527\n",
      "recall-untyped: 0.7776315789473683\n",
      "f1-measure-untyped: 0.8134893324156418\n",
      "precision-DS: 0.3571428571428546\n",
      "recall-DS: 0.4545454545454504\n",
      "f1-measure-DS: 0.3999999999999475\n",
      "precision-OG: 0.8116883116883111\n",
      "recall-OG: 0.9469696969696961\n",
      "f1-measure-OG: 0.8741258741258238\n",
      "precision-overall: 0.8499278499278498\n",
      "recall-overall: 0.7749999999999999\n",
      "f1-measure-overall: 0.8107364074328475\n"
     ]
    },
    {
     "name": "stderr",
     "output_type": "stream",
     "text": [
      " 11%|█▏        | 2014/17680 [00:06<00:41, 377.24it/s]"
     ]
    },
    {
     "name": "stdout",
     "output_type": "stream",
     "text": [
      "precision-GP: 0.8479899497487436\n",
      "recall-GP: 0.7714285714285714\n",
      "f1-measure-GP: 0.807899461400309\n",
      "precision-untyped: 0.8296089385474861\n",
      "recall-untyped: 0.8319327731092437\n",
      "f1-measure-untyped: 0.830769230769181\n",
      "precision-DS: 0.7549668874172183\n",
      "recall-DS: 0.8803088803088799\n",
      "f1-measure-DS: 0.8128342245988804\n",
      "precision-OG: 0.8383233532934129\n",
      "recall-OG: 0.952380952380952\n",
      "f1-measure-OG: 0.89171974522288\n",
      "precision-overall: 0.8261173184357542\n",
      "recall-overall: 0.8284313725490197\n",
      "f1-measure-overall: 0.8272727272726773\n"
     ]
    },
    {
     "name": "stderr",
     "output_type": "stream",
     "text": [
      " 17%|█▋        | 3037/17680 [00:08<00:32, 452.61it/s]"
     ]
    },
    {
     "name": "stdout",
     "output_type": "stream",
     "text": [
      "precision-GP: 0.8552123552123552\n",
      "recall-GP: 0.7806167400881058\n",
      "f1-measure-GP: 0.8162137263933172\n",
      "precision-untyped: 0.8419633225458468\n",
      "recall-untyped: 0.8272390037095919\n",
      "f1-measure-untyped: 0.8345362202619121\n",
      "precision-DS: 0.7449856733524353\n",
      "recall-DS: 0.8201892744479492\n",
      "f1-measure-DS: 0.7807807807807307\n",
      "precision-OG: 0.8742004264392322\n",
      "recall-OG: 0.9425287356321836\n",
      "f1-measure-OG: 0.9070796460176489\n",
      "precision-overall: 0.8392664509169363\n",
      "recall-overall: 0.8245892951775304\n",
      "f1-measure-overall: 0.8318631381982927\n"
     ]
    },
    {
     "name": "stderr",
     "output_type": "stream",
     "text": [
      " 23%|██▎       | 4038/17680 [00:11<00:47, 286.21it/s]"
     ]
    },
    {
     "name": "stdout",
     "output_type": "stream",
     "text": [
      "precision-GP: 0.8759800427655025\n",
      "recall-GP: 0.7939276485788114\n",
      "f1-measure-GP: 0.8329379871229593\n",
      "precision-untyped: 0.850996015936255\n",
      "recall-untyped: 0.835027365129007\n",
      "f1-measure-untyped: 0.8429360694553565\n",
      "precision-DS: 0.7641723356009068\n",
      "recall-DS: 0.8488664987405539\n",
      "f1-measure-DS: 0.8042959427207136\n",
      "precision-OG: 0.8453453453453452\n",
      "recall-OG: 0.9184339314845023\n",
      "f1-measure-OG: 0.8803752931977609\n",
      "precision-overall: 0.848207171314741\n",
      "recall-overall: 0.8322908522283033\n",
      "f1-measure-overall: 0.8401736385161299\n"
     ]
    },
    {
     "name": "stderr",
     "output_type": "stream",
     "text": [
      " 29%|██▊       | 5051/17680 [00:14<00:40, 313.94it/s]"
     ]
    },
    {
     "name": "stdout",
     "output_type": "stream",
     "text": [
      "precision-GP: 0.8197170241898677\n",
      "recall-GP: 0.8272685398433901\n",
      "f1-measure-GP: 0.8234754699678546\n",
      "precision-untyped: 0.82607481853713\n",
      "recall-untyped: 0.8561921296296297\n",
      "f1-measure-untyped: 0.840863881784548\n",
      "precision-DS: 0.7855822550831791\n",
      "recall-DS: 0.863821138211382\n",
      "f1-measure-DS: 0.8228460793803952\n",
      "precision-OG: 0.8541176470588234\n",
      "recall-OG: 0.9155107187894072\n",
      "f1-measure-OG: 0.8837492391965415\n",
      "precision-overall: 0.8227247347850363\n",
      "recall-overall: 0.8695780466214222\n",
      "f1-measure-overall: 0.845502797303063\n"
     ]
    },
    {
     "name": "stderr",
     "output_type": "stream",
     "text": [
      " 34%|███▍      | 6060/17680 [00:17<00:35, 324.80it/s]"
     ]
    },
    {
     "name": "stdout",
     "output_type": "stream",
     "text": [
      "precision-GP: 0.816572504708098\n",
      "recall-GP: 0.8425961912164788\n",
      "f1-measure-GP: 0.82938026013767\n",
      "precision-untyped: 0.8260556621880998\n",
      "recall-untyped: 0.8609652413103276\n",
      "f1-measure-untyped: 0.8431492592138597\n",
      "precision-DS: 0.7962962962962962\n",
      "recall-DS: 0.8327464788732393\n",
      "f1-measure-DS: 0.8141135972460773\n",
      "precision-OG: 0.8596300326441784\n",
      "recall-OG: 0.9207459207459207\n",
      "f1-measure-OG: 0.8891389983117114\n",
      "precision-overall: 0.8231765834932822\n",
      "recall-overall: 0.8579644911227807\n",
      "f1-measure-overall: 0.8402106036487808\n"
     ]
    },
    {
     "name": "stderr",
     "output_type": "stream",
     "text": [
      " 40%|███▉      | 7054/17680 [00:21<00:32, 324.38it/s]"
     ]
    },
    {
     "name": "stdout",
     "output_type": "stream",
     "text": [
      "precision-GP: 0.8247170388498012\n",
      "recall-GP: 0.8297937827023699\n",
      "f1-measure-GP: 0.8272476219698794\n",
      "precision-untyped: 0.8321582452017234\n",
      "recall-untyped: 0.8413861386138614\n",
      "f1-measure-untyped: 0.8367467506891978\n",
      "precision-DS: 0.7951441578148709\n",
      "recall-DS: 0.7660818713450291\n",
      "f1-measure-DS: 0.7803425167534869\n",
      "precision-OG: 0.8607809847198642\n",
      "recall-OG: 0.9077887197851388\n",
      "f1-measure-OG: 0.8836601307189043\n",
      "precision-overall: 0.8292205248726988\n",
      "recall-overall: 0.8384158415841584\n",
      "f1-measure-overall: 0.8337928318235026\n"
     ]
    },
    {
     "name": "stderr",
     "output_type": "stream",
     "text": [
      " 45%|████▌     | 8040/17680 [00:23<00:30, 314.68it/s]"
     ]
    },
    {
     "name": "stdout",
     "output_type": "stream",
     "text": [
      "precision-GP: 0.8106727221118365\n",
      "recall-GP: 0.8249566724436742\n",
      "f1-measure-GP: 0.8177523264136938\n",
      "precision-untyped: 0.8244177583697234\n",
      "recall-untyped: 0.838608180640385\n",
      "f1-measure-untyped: 0.8314524268280994\n",
      "precision-DS: 0.8011444921316164\n",
      "recall-DS: 0.7702888583218706\n",
      "f1-measure-DS: 0.7854137447404829\n",
      "precision-OG: 0.8634222919937206\n",
      "recall-OG: 0.9060955518945635\n",
      "f1-measure-OG: 0.8842443729903037\n",
      "precision-overall: 0.8216885007278021\n",
      "recall-overall: 0.835831945215621\n",
      "f1-measure-overall: 0.8286998807229522\n"
     ]
    },
    {
     "name": "stderr",
     "output_type": "stream",
     "text": [
      " 51%|█████     | 9034/17680 [00:26<00:28, 304.84it/s]"
     ]
    },
    {
     "name": "stdout",
     "output_type": "stream",
     "text": [
      "precision-GP: 0.8066759388038943\n",
      "recall-GP: 0.8182844243792325\n",
      "f1-measure-GP: 0.8124387169070799\n",
      "precision-untyped: 0.8130641720006565\n",
      "recall-untyped: 0.8043513557395681\n",
      "f1-measure-untyped: 0.8086842964413472\n",
      "precision-DS: 0.7440305635148042\n",
      "recall-DS: 0.6881625441696113\n",
      "f1-measure-DS: 0.7150068838916436\n",
      "precision-OG: 0.8662991040661613\n",
      "recall-OG: 0.8476062036412677\n",
      "f1-measure-OG: 0.8568507157463714\n",
      "precision-overall: 0.8101099622517643\n",
      "recall-overall: 0.8014288033771716\n",
      "f1-measure-overall: 0.8057460006529046\n"
     ]
    },
    {
     "name": "stderr",
     "output_type": "stream",
     "text": [
      " 57%|█████▋    | 10069/17680 [00:29<00:18, 417.91it/s]"
     ]
    },
    {
     "name": "stdout",
     "output_type": "stream",
     "text": [
      "precision-GP: 0.8074866310160428\n",
      "recall-GP: 0.7819782496116002\n",
      "f1-measure-GP: 0.7945277558536727\n",
      "precision-untyped: 0.8184012066365007\n",
      "recall-untyped: 0.7862628604550065\n",
      "f1-measure-untyped: 0.8020101988026993\n",
      "precision-DS: 0.7566445182724253\n",
      "recall-DS: 0.7083981337480559\n",
      "f1-measure-DS: 0.7317269076304723\n",
      "precision-OG: 0.8754448398576512\n",
      "recall-OG: 0.8419851682829436\n",
      "f1-measure-OG: 0.8583890665890749\n",
      "precision-overall: 0.8155354449472096\n",
      "recall-overall: 0.7835096362845965\n",
      "f1-measure-overall: 0.7992018328282703\n"
     ]
    },
    {
     "name": "stderr",
     "output_type": "stream",
     "text": [
      " 62%|██████▏   | 11032/17680 [00:32<00:22, 293.63it/s]"
     ]
    },
    {
     "name": "stdout",
     "output_type": "stream",
     "text": [
      "precision-GP: 0.8051636944370508\n",
      "recall-GP: 0.7810482829847664\n",
      "f1-measure-GP: 0.7929226736565687\n",
      "precision-untyped: 0.8075183719615602\n",
      "recall-untyped: 0.7673918882621542\n",
      "f1-measure-untyped: 0.7869439471146726\n",
      "precision-DS: 0.7597930524759793\n",
      "recall-DS: 0.7089655172413794\n",
      "f1-measure-DS: 0.7334998216196433\n",
      "precision-OG: 0.8351983723296033\n",
      "recall-OG: 0.7734338200659444\n",
      "f1-measure-OG: 0.8031303497187078\n",
      "precision-overall: 0.8048332391181459\n",
      "recall-overall: 0.7648401826484018\n",
      "f1-measure-overall: 0.784327227654543\n"
     ]
    },
    {
     "name": "stderr",
     "output_type": "stream",
     "text": [
      " 68%|██████▊   | 12065/17680 [00:35<00:14, 385.23it/s]"
     ]
    },
    {
     "name": "stdout",
     "output_type": "stream",
     "text": [
      "precision-GP: 0.7954246647383645\n",
      "recall-GP: 0.7810482829847664\n",
      "f1-measure-GP: 0.7881709223553434\n",
      "precision-untyped: 0.8032560706401766\n",
      "recall-untyped: 0.7602507182031862\n",
      "f1-measure-untyped: 0.781161948208725\n",
      "precision-DS: 0.7671418873048201\n",
      "recall-DS: 0.6836055656382335\n",
      "f1-measure-DS: 0.72296865003194\n",
      "precision-OG: 0.8356997971602435\n",
      "recall-OG: 0.7729831144465291\n",
      "f1-measure-OG: 0.8031189083820163\n",
      "precision-overall: 0.8006346578366446\n",
      "recall-overall: 0.7577696526508226\n",
      "f1-measure-overall: 0.7786126392056391\n"
     ]
    },
    {
     "name": "stderr",
     "output_type": "stream",
     "text": [
      " 74%|███████▍  | 13081/17680 [00:38<00:12, 366.85it/s]"
     ]
    },
    {
     "name": "stdout",
     "output_type": "stream",
     "text": [
      "precision-GP: 0.8034017008504252\n",
      "recall-GP: 0.7828418230563002\n",
      "f1-measure-GP: 0.7929885199357604\n",
      "precision-untyped: 0.8070338420703385\n",
      "recall-untyped: 0.7614575507137491\n",
      "f1-measure-untyped: 0.7835835319888683\n",
      "precision-DS: 0.7598137059214903\n",
      "recall-DS: 0.6838323353293413\n",
      "f1-measure-DS: 0.7198235108729409\n",
      "precision-OG: 0.8392330383480826\n",
      "recall-OG: 0.7713511070944419\n",
      "f1-measure-OG: 0.8038615493288881\n",
      "precision-overall: 0.8043795620437956\n",
      "recall-overall: 0.7589531680440771\n",
      "f1-measure-overall: 0.7810063784549465\n"
     ]
    },
    {
     "name": "stderr",
     "output_type": "stream",
     "text": [
      " 80%|███████▉  | 14065/17680 [00:41<00:10, 348.84it/s]"
     ]
    },
    {
     "name": "stdout",
     "output_type": "stream",
     "text": [
      "precision-GP: 0.8206570657065707\n",
      "recall-GP: 0.774968125796855\n",
      "f1-measure-GP: 0.7971584699453054\n",
      "precision-untyped: 0.819375443577005\n",
      "recall-untyped: 0.762801453584407\n",
      "f1-measure-untyped: 0.7900769888793343\n",
      "precision-DS: 0.7530006317119393\n",
      "recall-DS: 0.6870317002881844\n",
      "f1-measure-DS: 0.7185051235683647\n",
      "precision-OG: 0.8516687268232386\n",
      "recall-OG: 0.7829545454545455\n",
      "f1-measure-OG: 0.8158673771461905\n",
      "precision-overall: 0.8168914123491838\n",
      "recall-overall: 0.7604889329369012\n",
      "f1-measure-overall: 0.7876817792984959\n"
     ]
    },
    {
     "name": "stderr",
     "output_type": "stream",
     "text": [
      " 85%|████████▌ | 15079/17680 [00:44<00:06, 401.07it/s]"
     ]
    },
    {
     "name": "stdout",
     "output_type": "stream",
     "text": [
      "precision-GP: 0.8224076281287247\n",
      "recall-GP: 0.7720999627004849\n",
      "f1-measure-GP: 0.7964601769911004\n",
      "precision-untyped: 0.8209751413634909\n",
      "recall-untyped: 0.7664342629482072\n",
      "f1-measure-untyped: 0.7927677329623981\n",
      "precision-DS: 0.7471124620060791\n",
      "recall-DS: 0.6904494382022472\n",
      "f1-measure-DS: 0.7176642335765925\n",
      "precision-OG: 0.8530066815144766\n",
      "recall-OG: 0.7929606625258799\n",
      "f1-measure-OG: 0.8218884120171175\n",
      "precision-overall: 0.8179878374053131\n",
      "recall-overall: 0.7636454183266932\n",
      "f1-measure-overall: 0.7898830680471349\n"
     ]
    },
    {
     "name": "stderr",
     "output_type": "stream",
     "text": [
      " 91%|█████████ | 16043/17680 [00:47<00:03, 409.26it/s]"
     ]
    },
    {
     "name": "stdout",
     "output_type": "stream",
     "text": [
      "precision-GP: 0.8052016985138004\n",
      "recall-GP: 0.7447226313205695\n",
      "f1-measure-GP: 0.7737821984187208\n",
      "precision-untyped: 0.8074424099232133\n",
      "recall-untyped: 0.7494517543859649\n",
      "f1-measure-untyped: 0.7773670742109254\n",
      "precision-DS: 0.741119807344973\n",
      "recall-DS: 0.6857938718662953\n",
      "f1-measure-DS: 0.7123842592592093\n",
      "precision-OG: 0.8407732864674868\n",
      "recall-OG: 0.7873601053324556\n",
      "f1-measure-OG: 0.8131905490395558\n",
      "precision-overall: 0.8046859618035046\n",
      "recall-overall: 0.7468932748538012\n",
      "f1-measure-overall: 0.7747132973177399\n"
     ]
    },
    {
     "name": "stderr",
     "output_type": "stream",
     "text": [
      " 96%|█████████▋| 17049/17680 [00:50<00:01, 361.00it/s]"
     ]
    },
    {
     "name": "stdout",
     "output_type": "stream",
     "text": [
      "precision-GP: 0.8087662887121341\n",
      "recall-GP: 0.7517697026899481\n",
      "f1-measure-GP: 0.779227131909293\n",
      "precision-untyped: 0.812580823942361\n",
      "recall-untyped: 0.7533613085552796\n",
      "f1-measure-untyped: 0.7818513087143438\n",
      "precision-DS: 0.7599403578528827\n",
      "recall-DS: 0.6890491212257773\n",
      "f1-measure-DS: 0.7227605766957668\n",
      "precision-OG: 0.8430292598967297\n",
      "recall-OG: 0.7897452434698484\n",
      "f1-measure-OG: 0.8155178155177655\n",
      "precision-overall: 0.808886015148716\n",
      "recall-overall: 0.7499357711741029\n",
      "f1-measure-overall: 0.7782962271696608\n"
     ]
    },
    {
     "name": "stderr",
     "output_type": "stream",
     "text": [
      "100%|██████████| 17680/17680 [00:51<00:00, 342.77it/s]\n"
     ]
    },
    {
     "name": "stdout",
     "output_type": "stream",
     "text": [
      "precision-untyped: \t\t 0.8126202033153219\n",
      "recall-untyped: \t\t 0.7529062367416207\n",
      "f1-measure-untyped: \t\t 0.7816243833685195\n",
      "precision-overall: \t\t 0.8089568641817017\n",
      "recall-overall: \t\t 0.7495120916419177\n",
      "f1-measure-overall: \t\t 0.7781007751937487\n"
     ]
    }
   ],
   "source": [
    "train_ner(model_output_dir,\n",
    "              train_data_path,\n",
    "              dev_data_path,\n",
    "              test_data_path,\n",
    "              run_test,\n",
    "              model_path,\n",
    "              iterations,\n",
    "              meta_overrides)"
   ]
  }
 ],
 "metadata": {
  "kernelspec": {
   "display_name": "scispcacy",
   "language": "python",
   "name": "scispcacy"
  },
  "language_info": {
   "codemirror_mode": {
    "name": "ipython",
    "version": 3
   },
   "file_extension": ".py",
   "mimetype": "text/x-python",
   "name": "python",
   "nbconvert_exporter": "python",
   "pygments_lexer": "ipython3",
   "version": "3.6.9"
  }
 },
 "nbformat": 4,
 "nbformat_minor": 2
}
