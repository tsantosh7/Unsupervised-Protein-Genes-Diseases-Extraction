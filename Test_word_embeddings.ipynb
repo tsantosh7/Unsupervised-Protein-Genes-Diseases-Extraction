{
 "cells": [
  {
   "cell_type": "code",
   "execution_count": 32,
   "metadata": {},
   "outputs": [],
   "source": [
    "from gensim.models import KeyedVectors\n",
    "model = 'full_model_OTAR_200d_10_iter.bin'\n",
    "w2v_path = '/mnt/droplet/nfs/gns/literature/Santosh_Tirunagari/Models/'+model\n",
    "\n",
    "w2v = KeyedVectors.load_word2vec_format(w2v_path, binary=True)\n"
   ]
  },
  {
   "cell_type": "code",
   "execution_count": 33,
   "metadata": {},
   "outputs": [
    {
     "name": "stdout",
     "output_type": "stream",
     "text": [
      "Most similar to cancer [('cancers', 0.7871127724647522), ('carcinoma', 0.7415306568145752), ('adenocarcinoma', 0.7244918346405029), ('carcinomas', 0.6808085441589355), ('tumors', 0.6718302965164185), ('tumor', 0.6668273210525513), ('melanoma', 0.601204514503479), ('adenocarcinomas', 0.5992950797080994), ('Cancer', 0.5688608884811401), ('cancer-derived', 0.5614933371543884)]\n"
     ]
    }
   ],
   "source": [
    "w1 = \"cancer\"\n",
    "\n",
    "print(\"Most similar to {0}\".format(w1), w2v.most_similar(positive=w1))"
   ]
  },
  {
   "cell_type": "code",
   "execution_count": 35,
   "metadata": {},
   "outputs": [
    {
     "data": {
      "text/plain": [
       "0.03829912902773729"
      ]
     },
     "execution_count": 35,
     "metadata": {},
     "output_type": "execute_result"
    }
   ],
   "source": [
    "w1 = \"LOXL1\"\n",
    "w2 = 'carcinoma'\n",
    "w2v.similarity(w1, w2)"
   ]
  },
  {
   "cell_type": "code",
   "execution_count": 36,
   "metadata": {},
   "outputs": [
    {
     "name": "stdout",
     "output_type": "stream",
     "text": [
      "Most similar to k-ras [('K-ras', 0.7236489653587341), ('c-K-ras', 0.6938831806182861), ('Ki-ras', 0.659921407699585), ('KRAS2', 0.6511437892913818), ('c-Ki-ras', 0.6445430517196655), ('K-ras-2', 0.6400061249732971), ('ki-ras', 0.6103998422622681), ('H-ras', 0.6081706285476685), ('braf', 0.5968808531761169), ('K-RAS', 0.5725597739219666)]\n"
     ]
    },
    {
     "name": "stderr",
     "output_type": "stream",
     "text": [
      "/home/stirunag/anaconda3/lib/python3.7/site-packages/ipykernel_launcher.py:3: DeprecationWarning: Call to deprecated `wv` (Attribute will be removed in 4.0.0, use self instead).\n",
      "  This is separate from the ipykernel package so we can avoid doing imports until\n"
     ]
    }
   ],
   "source": [
    "w1 = \"k-ras\"\n",
    "\n",
    "print(\"Most similar to {0}\".format(w1), w2v.wv.most_similar(positive=w1))"
   ]
  },
  {
   "cell_type": "code",
   "execution_count": 38,
   "metadata": {},
   "outputs": [
    {
     "name": "stdout",
     "output_type": "stream",
     "text": [
      "Most similar to Gene [('Genes', 0.6356513500213623), ('gene', 0.6103031039237976), ('genes', 0.5458037853240967), ('Name', 0.5375816822052002), ('Microarray', 0.5367627739906311), ('3Gene', 0.5335216522216797), ('Transcriptional', 0.5265238881111145), ('Transcriptome', 0.49877551198005676), ('Fold', 0.4966423213481903), ('HEYL', 0.49448472261428833)]\n"
     ]
    },
    {
     "name": "stderr",
     "output_type": "stream",
     "text": [
      "/home/stirunag/anaconda3/lib/python3.7/site-packages/ipykernel_launcher.py:3: DeprecationWarning: Call to deprecated `wv` (Attribute will be removed in 4.0.0, use self instead).\n",
      "  This is separate from the ipykernel package so we can avoid doing imports until\n"
     ]
    }
   ],
   "source": [
    "w1 = \"Gene\"\n",
    "\n",
    "print(\"Most similar to {0}\".format(w1), w2v.wv.most_similar(positive=w1))"
   ]
  },
  {
   "cell_type": "code",
   "execution_count": 39,
   "metadata": {},
   "outputs": [
    {
     "name": "stdout",
     "output_type": "stream",
     "text": [
      "cousin: 0.7532\n"
     ]
    }
   ],
   "source": [
    "result = w2v.most_similar(positive=['father', 'girl'], negative=['boy'])\n",
    "print(\"{}: {:.4f}\".format(*result[0]))"
   ]
  },
  {
   "cell_type": "code",
   "execution_count": 40,
   "metadata": {},
   "outputs": [
    {
     "name": "stdout",
     "output_type": "stream",
     "text": [
      "IL1: 0.5179\n"
     ]
    }
   ],
   "source": [
    "result = w2v.most_similar(positive=['IL6', 'Diabetes'], negative=['Cancer'])\n",
    "print(\"{}: {:.4f}\".format(*result[0]))"
   ]
  },
  {
   "cell_type": "code",
   "execution_count": 43,
   "metadata": {},
   "outputs": [
    {
     "name": "stdout",
     "output_type": "stream",
     "text": [
      "TNFÎ±: 0.4472\n"
     ]
    }
   ],
   "source": [
    "result = w2v.most_similar(positive=['cancer', 'TNF'], negative=['LOXL1'])\n",
    "print(\"{}: {:.4f}\".format(*result[0]))"
   ]
  },
  {
   "cell_type": "code",
   "execution_count": 45,
   "metadata": {},
   "outputs": [],
   "source": [
    "import nltk\n",
    "from nltk.corpus import stopwords\n",
    "\n",
    "def clean_my_text(full_text):\n",
    "    # stopset = set(stopwords.words('english'))  # | set(string.punctuation)\n",
    "    tokens = nltk.word_tokenize(full_text)\n",
    "    cleanup = [token for token in tokens if len(token) > 2]\n",
    "    return cleanup"
   ]
  },
  {
   "cell_type": "code",
   "execution_count": 44,
   "metadata": {},
   "outputs": [
    {
     "data": {
      "text/plain": [
       "'hepatocellular'"
      ]
     },
     "execution_count": 44,
     "metadata": {},
     "output_type": "execute_result"
    }
   ],
   "source": [
    "sentence = 'To evaluate serum glutathione S-transferase B1 (GST B1), a highly sensitive test of hepatocellular function, as a means of identifying liver disease in patients with cystic fibrosis (CF).'\n",
    "w2v.doesnt_match(clean_my_text(sentence))"
   ]
  },
  {
   "cell_type": "code",
   "execution_count": 46,
   "metadata": {},
   "outputs": [],
   "source": [
    "keys = ['LOXL1', 'cancer', 'cystic']\n",
    "\n",
    "embedding_clusters = []\n",
    "word_clusters = []\n",
    "for word in keys:\n",
    "    embeddings = []\n",
    "    words = []\n",
    "    for similar_word, _ in w2v.most_similar(word, topn=30):\n",
    "        words.append(similar_word)\n",
    "        embeddings.append(w2v[similar_word])\n",
    "    embedding_clusters.append(embeddings)\n",
    "    word_clusters.append(words)\n",
    "    \n",
    "    "
   ]
  },
  {
   "cell_type": "code",
   "execution_count": 47,
   "metadata": {},
   "outputs": [],
   "source": [
    "from sklearn.manifold import TSNE\n",
    "import numpy as np\n",
    "\n",
    "embedding_clusters = np.array(embedding_clusters)\n",
    "n, m, k = embedding_clusters.shape\n",
    "tsne_model_en_2d = TSNE(perplexity=15, n_components=2, init='pca', n_iter=3500, random_state=32)\n",
    "embeddings_en_2d = np.array(tsne_model_en_2d.fit_transform(embedding_clusters.reshape(n * m, k))).reshape(n, m, 2)\n"
   ]
  },
  {
   "cell_type": "code",
   "execution_count": 48,
   "metadata": {},
   "outputs": [
    {
     "name": "stderr",
     "output_type": "stream",
     "text": [
      "UsageError: Line magic function `%` not found.\n"
     ]
    }
   ],
   "source": [
    "import matplotlib.pyplot as plt\n",
    "import matplotlib.cm as cm\n",
    "% matplotlib inline\n",
    "\n",
    "\n",
    "def tsne_plot_similar_words(title, labels, embedding_clusters, word_clusters, a, filename=None):\n",
    "    plt.figure(figsize=(16, 9))\n",
    "    colors = cm.rainbow(np.linspace(0, 1, len(labels)))\n",
    "    for label, embeddings, words, color in zip(labels, embedding_clusters, word_clusters, colors):\n",
    "        x = embeddings[:, 0]\n",
    "        y = embeddings[:, 1]\n",
    "        plt.scatter(x, y, c=color, alpha=a, label=label)\n",
    "        for i, word in enumerate(words):\n",
    "            plt.annotate(word, alpha=0.5, xy=(x[i], y[i]), xytext=(5, 2),\n",
    "                         textcoords='offset points', ha='right', va='bottom', size=8)\n",
    "    plt.legend(loc=4)\n",
    "    plt.title(title)\n",
    "    plt.grid(True)\n",
    "    if filename:\n",
    "        plt.savefig(filename, format='png', dpi=150, bbox_inches='tight')\n",
    "    plt.show()\n",
    "\n",
    "\n",
    "tsne_plot_similar_words('Similar words from OTAR', keys, embeddings_en_2d, word_clusters, 0.7,\n",
    "                        'similar_words_OTAR.png')"
   ]
  },
  {
   "cell_type": "code",
   "execution_count": 51,
   "metadata": {},
   "outputs": [],
   "source": [
    "from collections import defaultdict\n",
    "import os\n",
    "\n",
    "wordcount = defaultdict(int)\n",
    "\n",
    "# get the current working directory and file\n",
    "data_dir_path = '/mnt/droplet/nfs/gns/literature/Santosh_Tirunagari/Dataset/'\n",
    "\n",
    "for fname in os.listdir(data_dir_path):\n",
    "    print(fname)\n",
    "    for line in open(os.path.join(data_dir_path, fname), 'r', encoding='ISO-8859-1'):\n",
    "        for word in clean_my_text(line):\n",
    "            wordcount[word] += 1"
   ]
  },
  {
   "cell_type": "code",
   "execution_count": 52,
   "metadata": {},
   "outputs": [],
   "source": [
    "import itertools\n",
    "import collections\n",
    "\n",
    "w2cSorted=dict(sorted(wordcount.items(), key=lambda x: x[1],reverse=True))"
   ]
  },
  {
   "cell_type": "code",
   "execution_count": 53,
   "metadata": {},
   "outputs": [],
   "source": [
    "x = itertools.islice(w2cSorted.items(), 0, 10)\n",
    "\n",
    "for key, value in x:\n",
    "    print(key, value)"
   ]
  },
  {
   "cell_type": "code",
   "execution_count": 54,
   "metadata": {},
   "outputs": [],
   "source": [
    "import csv\n",
    "newFile = '/home/stirunag/TF.txt'\n",
    "\n",
    "def makeFile(textSorted, newFile) :\n",
    "    from collections import Counter\n",
    "    with open(newFile, \"w\") as f:\n",
    "        wr = csv.writer(f,delimiter=\" \")\n",
    "        wr.writerows(Counter(textSorted).items())\n",
    "        \n",
    "        \n",
    "makeFile(w2cSorted, newFile)\n"
   ]
  }
 ],
 "metadata": {
  "kernelspec": {
   "display_name": "Python 3",
   "language": "python",
   "name": "python3"
  },
  "language_info": {
   "codemirror_mode": {
    "name": "ipython",
    "version": 3
   },
   "file_extension": ".py",
   "mimetype": "text/x-python",
   "name": "python",
   "nbconvert_exporter": "python",
   "pygments_lexer": "ipython3",
   "version": "3.7.3"
  }
 },
 "nbformat": 4,
 "nbformat_minor": 2
}
