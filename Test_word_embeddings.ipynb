{
 "cells": [
  {
   "cell_type": "code",
   "execution_count": 1,
   "metadata": {
    "collapsed": true
   },
   "outputs": [],
   "source": [
    "from gensim.models import KeyedVectors\n",
    "model = 'model_Toy.bin'\n",
    "w2v_path = '/home/stirunag/models/'+model\n",
    "\n",
    "w2v = KeyedVectors.load_word2vec_format(w2v_path, binary=True)\n"
   ]
  },
  {
   "cell_type": "code",
   "execution_count": 9,
   "metadata": {},
   "outputs": [
    {
     "name": "stdout",
     "output_type": "stream",
     "text": [
      "Most similar to cancer [('cancers', 0.6672343015670776), ('adenocarcinoma', 0.5402218103408813), ('carcinoma', 0.5315968990325928), ('carcinomas', 0.5133336782455444), ('adenocarcinomas', 0.4950236678123474), ('tumor', 0.4574427604675293), ('tumours', 0.4544111490249634), ('20-40', 0.44781258702278137), ('tumors', 0.44198551774024963), ('types,69', 0.4376928210258484)]\n"
     ]
    },
    {
     "name": "stderr",
     "output_type": "stream",
     "text": [
      "/home/synoptica/anaconda3/lib/python3.6/site-packages/ipykernel_launcher.py:3: DeprecationWarning: Call to deprecated `wv` (Attribute will be removed in 4.0.0, use self instead).\n",
      "  This is separate from the ipykernel package so we can avoid doing imports until\n"
     ]
    }
   ],
   "source": [
    "w1 = \"cancer\"\n",
    "\n",
    "print(\"Most similar to {0}\".format(w1), w2v.wv.most_similar(positive=w1))"
   ]
  },
  {
   "cell_type": "code",
   "execution_count": 8,
   "metadata": {},
   "outputs": [
    {
     "name": "stdout",
     "output_type": "stream",
     "text": [
      "NCKAP1: 0.6579\n"
     ]
    }
   ],
   "source": [
    "result = w2v.most_similar(positive=['cancer', 'GPR44'], negative=['pain'])\n",
    "print(\"{}: {:.4f}\".format(*result[0]))"
   ]
  }
 ],
 "metadata": {
  "kernelspec": {
   "display_name": "Python 3",
   "language": "python",
   "name": "python3"
  },
  "language_info": {
   "codemirror_mode": {
    "name": "ipython",
    "version": 3
   },
   "file_extension": ".py",
   "mimetype": "text/x-python",
   "name": "python",
   "nbconvert_exporter": "python",
   "pygments_lexer": "ipython3",
   "version": "3.6.4"
  }
 },
 "nbformat": 4,
 "nbformat_minor": 2
}
