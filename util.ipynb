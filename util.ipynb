{
 "cells": [
  {
   "cell_type": "code",
   "execution_count": 1,
   "metadata": {},
   "outputs": [],
   "source": [
    "!git config --global user.name \"Santosh Tirunagari\"\n",
    "!git config --global user.email \"tsantosh7@gmail.com\""
   ]
  },
  {
   "cell_type": "code",
   "execution_count": 2,
   "metadata": {},
   "outputs": [
    {
     "name": "stdout",
     "output_type": "stream",
     "text": [
      "From https://github.com/tsantosh7/Unsupervised-Protein-Genes-Diseases-Extraction\n",
      " * branch            master     -> FETCH_HEAD\n",
      "Already up to date.\n"
     ]
    }
   ],
   "source": [
    "!git pull origin master"
   ]
  },
  {
   "cell_type": "code",
   "execution_count": 3,
   "metadata": {},
   "outputs": [
    {
     "name": "stdout",
     "output_type": "stream",
     "text": [
      "On branch master\r\n",
      "Your branch is up to date with 'origin/master'.\r\n",
      "\r\n",
      "Changes not staged for commit:\r\n",
      "  (use \"git add <file>...\" to update what will be committed)\r\n",
      "  (use \"git checkout -- <file>...\" to discard changes in working directory)\r\n",
      "\r\n",
      "\t\u001b[31mmodified:   Notebooks/FP Analysis/Performace Check Spacy FP Removal (Load Model).ipynb\u001b[m\r\n",
      "\r\n",
      "Untracked files:\r\n",
      "  (use \"git add <file>...\" to include in what will be committed)\r\n",
      "\r\n",
      "\t\u001b[31mMicro_Services/COVID-19_Graph_D3js/\u001b[m\r\n",
      "\t\u001b[31mUntitled.ipynb\u001b[m\r\n",
      "\t\u001b[31mutil.ipynb\u001b[m\r\n",
      "\r\n",
      "no changes added to commit (use \"git add\" and/or \"git commit -a\")\r\n"
     ]
    }
   ],
   "source": [
    "!git status"
   ]
  },
  {
   "cell_type": "code",
   "execution_count": 4,
   "metadata": {},
   "outputs": [],
   "source": [
    "# !git reset"
   ]
  },
  {
   "cell_type": "code",
   "execution_count": 5,
   "metadata": {},
   "outputs": [],
   "source": [
    "!git add ."
   ]
  },
  {
   "cell_type": "code",
   "execution_count": 6,
   "metadata": {},
   "outputs": [
    {
     "name": "stdout",
     "output_type": "stream",
     "text": [
      "[master a0b30b1] Noisy text experiment\r\n",
      " 11 files changed, 271 insertions(+), 2 deletions(-)\r\n",
      " create mode 100644 Micro_Services/COVID-19_Graph_D3js/README.md\r\n",
      " create mode 100644 Micro_Services/COVID-19_Graph_D3js/app.py\r\n",
      " create mode 100644 Micro_Services/COVID-19_Graph_D3js/app_multi_thread.py\r\n",
      " create mode 100755 Micro_Services/COVID-19_Graph_D3js/d3.min.js\r\n",
      " create mode 100644 Micro_Services/COVID-19_Graph_D3js/genes_effecting_COVID-19.html\r\n",
      " create mode 100644 Micro_Services/COVID-19_Graph_D3js/index.html\r\n",
      " create mode 100644 Micro_Services/COVID-19_Graph_D3js/main.css\r\n",
      " create mode 100755 Micro_Services/COVID-19_Graph_D3js/server\r\n",
      " create mode 100644 Untitled.ipynb\r\n",
      " create mode 100644 util.ipynb\r\n"
     ]
    }
   ],
   "source": [
    "!git commit -m \"Noisy text experiment\""
   ]
  },
  {
   "cell_type": "code",
   "execution_count": 7,
   "metadata": {},
   "outputs": [
    {
     "name": "stdout",
     "output_type": "stream",
     "text": [
      "Username for 'https://github.com': ^C\n"
     ]
    }
   ],
   "source": [
    "!git push origin master"
   ]
  },
  {
   "cell_type": "code",
   "execution_count": null,
   "metadata": {},
   "outputs": [],
   "source": []
  }
 ],
 "metadata": {
  "kernelspec": {
   "display_name": "PyTorch",
   "language": "python",
   "name": "pytorch"
  },
  "language_info": {
   "codemirror_mode": {
    "name": "ipython",
    "version": 3
   },
   "file_extension": ".py",
   "mimetype": "text/x-python",
   "name": "python",
   "nbconvert_exporter": "python",
   "pygments_lexer": "ipython3",
   "version": "3.7.4"
  }
 },
 "nbformat": 4,
 "nbformat_minor": 2
}
