{
 "cells": [
  {
   "cell_type": "code",
   "execution_count": 1,
   "metadata": {},
   "outputs": [],
   "source": [
    "!git config --global user.name \"Santosh Tirunagari\"\n",
    "!git config --global user.email \"tsantosh7@gmail.com\""
   ]
  },
  {
   "cell_type": "code",
   "execution_count": 2,
   "metadata": {},
   "outputs": [
    {
     "name": "stdout",
     "output_type": "stream",
     "text": [
      "From https://github.com/tsantosh7/Unsupervised-Protein-Genes-Diseases-Extraction\r\n",
      " * branch            master     -> FETCH_HEAD\r\n",
      "Already up-to-date.\r\n"
     ]
    }
   ],
   "source": [
    "!git pull origin master"
   ]
  },
  {
   "cell_type": "code",
   "execution_count": 3,
   "metadata": {},
   "outputs": [
    {
     "name": "stdout",
     "output_type": "stream",
     "text": [
      "# On branch master\n",
      "# Changes not staged for commit:\n",
      "#   (use \"git add/rm <file>...\" to update what will be committed)\n",
      "#   (use \"git checkout -- <file>...\" to discard changes in working directory)\n",
      "#\n",
      "#\tdeleted:    Notebooks/Contextual NER/Contextual Character Embeddings-Sentiment.ipynb\n",
      "#\tmodified:   util.ipynb\n",
      "#\n",
      "# Untracked files:\n",
      "#   (use \"git add <file>...\" to include in what will be committed)\n",
      "#\n",
      "#\tNotebooks/Contextual NER/Contextual Character Embeddings-Sentiments.ipynb\n",
      "#\tNotebooks/Contextual NER/Contextual Character Embeddings-informative.ipynb\n",
      "#\tNotebooks/Contextual NER/Datasets/\n",
      "#\tNotebooks/flair_models/\n",
      "no changes added to commit (use \"git add\" and/or \"git commit -a\")\n"
     ]
    }
   ],
   "source": [
    "!git status"
   ]
  },
  {
   "cell_type": "code",
   "execution_count": 4,
   "metadata": {},
   "outputs": [],
   "source": [
    "# !git reset"
   ]
  },
  {
   "cell_type": "code",
   "execution_count": 6,
   "metadata": {},
   "outputs": [],
   "source": [
    "!git add --all"
   ]
  },
  {
   "cell_type": "code",
   "execution_count": 7,
   "metadata": {},
   "outputs": [
    {
     "name": "stdout",
     "output_type": "stream",
     "text": [
      "[master 8e84644] Noisy text experiment\n",
      " 11 files changed, 19559 insertions(+), 2 deletions(-)\n",
      " rename Notebooks/Contextual NER/{Contextual Character Embeddings-Sentiment.ipynb => Contextual Character Embeddings-Sentiments.ipynb} (99%)\n",
      " create mode 100644 Notebooks/Contextual NER/Contextual Character Embeddings-informative.ipynb\n",
      " create mode 100644 Notebooks/Contextual NER/Datasets/dev.csv\n",
      " create mode 100644 Notebooks/Contextual NER/Datasets/labels.csv\n",
      " create mode 100644 Notebooks/Contextual NER/Datasets/test.csv\n",
      " create mode 100644 Notebooks/Contextual NER/Datasets/train.csv\n",
      " create mode 100644 Notebooks/Contextual NER/Datasets/train.tsv\n",
      " create mode 100644 Notebooks/Contextual NER/Datasets/valid.tsv\n",
      " create mode 100644 Notebooks/flair_models/text_classification/noist_text_model/v-01/loss.tsv\n",
      " create mode 100644 Notebooks/flair_models/text_classification/noist_text_model/v-01/test.tsv\n"
     ]
    }
   ],
   "source": [
    "!git commit -m \"Noisy text experiment\""
   ]
  },
  {
   "cell_type": "code",
   "execution_count": 7,
   "metadata": {},
   "outputs": [
    {
     "name": "stdout",
     "output_type": "stream",
     "text": [
      "Username for 'https://github.com': ^C\n"
     ]
    }
   ],
   "source": [
    "!git push origin master"
   ]
  },
  {
   "cell_type": "code",
   "execution_count": null,
   "metadata": {},
   "outputs": [],
   "source": []
  }
 ],
 "metadata": {
  "kernelspec": {
   "display_name": "PyTorch",
   "language": "python",
   "name": "pytorch"
  },
  "language_info": {
   "codemirror_mode": {
    "name": "ipython",
    "version": 3
   },
   "file_extension": ".py",
   "mimetype": "text/x-python",
   "name": "python",
   "nbconvert_exporter": "python",
   "pygments_lexer": "ipython3",
   "version": "3.7.4"
  }
 },
 "nbformat": 4,
 "nbformat_minor": 2
}
