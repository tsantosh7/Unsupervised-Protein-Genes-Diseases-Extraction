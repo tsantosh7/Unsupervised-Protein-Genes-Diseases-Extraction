{
 "cells": [
  {
   "cell_type": "code",
   "execution_count": 1,
   "metadata": {},
   "outputs": [
    {
     "name": "stdout",
     "output_type": "stream",
     "text": [
      "2019-09-23 13:33:07,114 loading file ../flair_models/ner/multi_bio_ner_model_gene/best-model.pt\n",
      "2019-09-23 13:33:26,382 loading file ../flair_models/ner/multi_bio_ner_model_disease/best-model.pt\n",
      "2019-09-23 13:33:33,789 loading file ../flair_models/text_classification/association_model/best-model.pt\n",
      "2019-09-23 13:34:16,561 loading file ../flair_models/text_classification/sentiment_model/best-model.pt\n"
     ]
    }
   ],
   "source": [
    "from flair.models import TextClassifier\n",
    "from flair.data import Sentence, Token\n",
    "from flair.models import SequenceTagger\n",
    "\n",
    "\n",
    "############### Gene & Disease NER ######################\n",
    "# load the model you trained\n",
    "gene_model = SequenceTagger.load('../flair_models/ner/multi_bio_ner_model_gene/best-model.pt')\n",
    "disease_model = SequenceTagger.load('../flair_models/ner/multi_bio_ner_model_disease/best-model.pt')\n",
    "\n",
    "############### Gene & Disease Association ######################\n",
    "# load the model you trained\n",
    "\n",
    "\n",
    "association_classifier = TextClassifier.load('../flair_models/text_classification/association_model'+'/best-model.pt')\n",
    "\n",
    "############### Gene & Disease Sentiment ######################\n",
    "# load the model you trained\n",
    "\n",
    "sentiment_classifier = TextClassifier.load('../flair_models/text_classification/sentiment_model'+'/best-model.pt')\n"
   ]
  },
  {
   "cell_type": "code",
   "execution_count": 2,
   "metadata": {},
   "outputs": [],
   "source": [
    "import os\n",
    "import pandas as pd\n",
    "# import glob\n",
    "import json\n",
    "import re\n",
    "\n",
    "colNames = ('pmcid', 'section', 'target', 'disease', 'text', 'ml_target', 'ml_disease', 'association', 'sentiment' )\n",
    "\n",
    "file_path = '/nfs/gns/literature/Santosh_Tirunagari/OTAR_DUMPS/Toy/Mixed_Json'\n",
    "# all_files = glob.glob(file_path+'*split*')\n",
    "\n",
    "result_folder = '/nfs/gns/literature/Santosh_Tirunagari/OTAR_Results/Results/'\n",
    "\n"
   ]
  },
  {
   "cell_type": "code",
   "execution_count": null,
   "metadata": {},
   "outputs": [],
   "source": [
    "import re\n",
    "\n",
    "json_string = '144:{\"type\":\"literature\",\"sourceID\":\"europepmc\",\"target\":{\"activity\":\"http://identifiers.org/cttv.activity/up_or_down\",\"id\":\"http://identifiers.org/uniprot/O60682\",\"target_type\":\"http://identifiers.org/cttv.target/protein_evidence\"},\"disease\":{\"id\":\"http://www.ebi.ac.uk/efo/EFO_0000616\",\"name\":\"tumor\"},\"evidence\":{\"unique_experiment_reference\":\"http://europepmc.org/abstract/MED/16168115\",\"resource_score\":{\"type\":\"summed_total\",\"value\":40.6,\"method\":{\"description\":\"Custom text-mining method for target-disease association\"}},\"literature_ref\":{\"lit_id\":\"http://europepmc.org/abstract/MED/16168115\",\"mined_sentences\":[{\"section\":\"abstract\",\"t_start\":37,\"t_end\":39,\"d_start\":127,\"d_end\":131,\"text\":\"We have demonstrated previously that MSC induces apoptosis after a cell growth arrest in S phase in a mouse mammary epithelial tumor cell model (TM6 cells) in vitro.\"},{\"section\":\"abstract\",\"t_start\":160,\"t_end\":162,\"d_start\":118,\"d_end\":122,\"text\":\"The present study was designed to examine the involvement of the phosphatidylinositol 3-kinase (PI3-K) pathway in TM6 tumor model in vitro after treatment with MSC.\"},{\"section\":\"abstract\",\"t_start\":27,\"t_end\":29,\"d_start\":83,\"d_end\":87,\"text\":\"These studies suggest that MSC blocks multiple signaling pathways in mouse mammary tumor cells.\"},{\"section\":\"abstract\",\"t_start\":0,\"t_end\":2,\"d_start\":116,\"d_end\":120,\"text\":\"MSC inhibits cell growth by inhibiting the activity of PI3-K and its downstream effector molecules in mouse mammary tumor cells in vitro.\"},{\"section\":\"introduction_and_background\",\"t_start\":28,\"t_end\":30,\"d_start\":15,\"d_end\":19,\"text\":\"In the mammary tumor model, MSC is more efficacious than the most extensively studied selenoamino acids in animal models [15,18].\"},{\"section\":\"introduction_and_background\",\"t_start\":13,\"t_end\":15,\"d_start\":63,\"d_end\":67,\"text\":\"Furthermore, MSC inhibits cell growth in several mouse mammary tumor cell lines [19,20] and human breast cancer cell lines [21].\"},{\"section\":\"introduction_and_background\",\"t_start\":57,\"t_end\":59,\"d_start\":233,\"d_end\":237,\"text\":\"For the present investigation we examined the effects of MSC on the components of the PI3-KâAkt and RafâMEKâERK pathways to improve our understanding of the mechanisms of growth inhibition in the synchronized TM6 mouse mammary tumor cell line.\"},{\"section\":\"results\",\"t_start\":15,\"t_end\":17,\"d_start\":130,\"d_end\":134,\"text\":\"Treatment with MSC inhibited DNA synthesis in both asynchronous (Fig. 2a) and synchronized (Fig. 2b) TM6 mouse mammary epithelial tumor cells, as measured by [3H]thymidine incorporation.\"},{\"section\":\"results\",\"t_start\":0,\"t_end\":2,\"d_start\":44,\"d_end\":48,\"text\":\"MSC induces apoptosis in mammary epithelial tumor cells [19,20] and we have documented that caspase-3 activity is enhanced in MSC-treated cells at 24 hours [22].\"},{\"section\":\"conclusion_and_future_work\",\"t_start\":30,\"t_end\":32,\"d_start\":76,\"d_end\":80,\"text\":\"The present studies show that MSC blocks multiple pathways in mouse mammary tumor cells in vitro.\"},{\"section\":\"figure\",\"t_start\":59,\"t_end\":61,\"d_start\":34,\"d_end\":38,\"text\":\"Each bar represents levels in TM6 tumor cells treated with MSC in three different wells. *P < 0.05 compared with 0 hours.\"},{\"section\":\"figure\",\"t_start\":43,\"t_end\":45,\"d_start\":231,\"d_end\":235,\"text\":\"Possible sites of Se-methylselenocysteine (MSC) interaction with components of the Rasâphosphatidylinositol 3-kinaseâAkt (RasâPI3-KâAkt) and RafâMAP kinase/ERK kinaseâERK (RafâMEKâERK) pathways in TM6 mouse mammary tumor cells.\"}]},\"provenance_type\":{\"database\":{\"version\":\"2019-08-16\",\"id\":\"EuropePMC\"}},\"is_associated\":true,\"date_asserted\":\"2005-01-01T00:00:00Z\",\"evidence_codes\":[\"http://www.targetvalidation.org/evidence/literature_mining\",\"http://purl.obolibrary.org/obo/ECO_0000213\"]},\"validated_against_schema_version\":\"1.6.1\",\"access_level\":\"public\",\"unique_association_fields\":{\"target_id\":\"http://identifiers.org/uniprot/O60682\",\"publication_id\":\"http://europepmc.org/abstract/MED/16168115\",\"disease_id\":\"http://www.ebi.ac.uk/efo/EFO_0000616\"},\"literature\":{\"references\":[{\"lit_id\":\"http://europepmc.org/abstract/MED/16168115\"}]}}'\n",
    "json_line = json.loads(json_string[json_string.find('{'):])\n",
    "# re.sub(r'.*{\"type\"', '', json_string)"
   ]
  },
  {
   "cell_type": "code",
   "execution_count": null,
   "metadata": {},
   "outputs": [],
   "source": [
    "pmc_id = json_line['evidence']['literature_ref']['lit_id']\n",
    "print(pmc_id)"
   ]
  },
  {
   "cell_type": "code",
   "execution_count": null,
   "metadata": {},
   "outputs": [],
   "source": [
    "each_sentence = json_line['evidence']['literature_ref']['mined_sentences'][6]\n",
    "each_sentence"
   ]
  },
  {
   "cell_type": "code",
   "execution_count": null,
   "metadata": {},
   "outputs": [],
   "source": [
    "section = each_sentence['section']\n",
    "t_start = each_sentence['t_start']\n",
    "t_end = each_sentence['t_end']\n",
    "d_start = each_sentence['d_start']\n",
    "d_end = each_sentence['d_end']\n",
    "sentence = each_sentence['text']\n",
    "\n",
    "target = sentence[t_start:t_end+1].strip()\n",
    "disease = sentence[d_start-1:d_end+1].strip()\n",
    "\n",
    "print(section)\n",
    "print(sentence)\n",
    "print(target)\n",
    "print(disease)"
   ]
  },
  {
   "cell_type": "code",
   "execution_count": null,
   "metadata": {},
   "outputs": [],
   "source": [
    "import re\n",
    "def extract_ner_tokens(text):      \n",
    "  matches=re.findall(r'\\\"(.+?)\\\"',text)\n",
    "  # matches is now ['String 1', 'String 2', 'String3']\n",
    "  return ', '.join(list(set(matches)))\n",
    "\n",
    "extract_ner_tokens('Regex should return \"String 1\" or \"String 1\" or \"String 1\" ')\n"
   ]
  },
  {
   "cell_type": "code",
   "execution_count": null,
   "metadata": {},
   "outputs": [],
   "source": [
    "sentence_list = []\n",
    "for each_word in sentence.split():\n",
    "    try:\n",
    "        sentence_list.append(\n",
    "            each_word.encode('latin_1').decode('utf-8').strip())  # Each char is a Unicode codepoint.\n",
    "    except:\n",
    "        sentence_list.append(re.sub(r'[^\\x00-\\x7f]', r'', each_word).strip())\n",
    "\n",
    "sentence = ' '.join(sentence_list)\n",
    "\n",
    "gene_sentence = Sentence(sentence)\n",
    "gene_model.predict(gene_sentence)\n",
    "\n",
    "disease_sentence = Sentence(sentence)\n",
    "disease_model.predict(disease_sentence)\n",
    "\n",
    "ml_target = extract_ner_tokens(str(gene_sentence.get_spans('ner')).replace('.','').replace(',',''))\n",
    "ml_disease = extract_ner_tokens(str(disease_sentence.get_spans('ner')).replace('.','').replace(',',''))\n",
    "\n",
    "print(ml_target)\n",
    "print(ml_disease)"
   ]
  },
  {
   "cell_type": "code",
   "execution_count": null,
   "metadata": {},
   "outputs": [],
   "source": [
    "association_sentence = Sentence(sentence)\n",
    "association_classifier.predict(association_sentence)\n",
    "\n",
    "if str(association_sentence.labels[0]).split()[0] == 'YGD':\n",
    "    association_score_ = float(str(association_sentence.labels[0]).split()[1].replace('(', '').replace(')',''))\n",
    "else:\n",
    "    association_score_ = 1.0-float(str(association_sentence.labels[0]).split()[1].replace('(', '').replace(')',''))\n",
    "\n",
    "association_score = format(association_score_, '.2f')\n",
    "print(association_score)"
   ]
  },
  {
   "cell_type": "code",
   "execution_count": null,
   "metadata": {},
   "outputs": [],
   "source": [
    "sentiment_sentence = Sentence(sentence)\n",
    "sentiment_classifier.predict(sentiment_sentence)\n",
    "\n",
    "if str(sentiment_sentence.labels[0]).split()[0] == 'PA':\n",
    "    sentiment_score_ = float(str(sentiment_sentence.labels[0]).split()[1].replace('(', '').replace(')',''))\n",
    "else:\n",
    "    sentiment_score_ = -1.0*float(str(sentiment_sentence.labels[0]).split()[1].replace('(', '').replace(')',''))\n",
    "\n",
    "sentiment_score = format(sentiment_score_, '.2f')\n",
    "print(sentiment_score)"
   ]
  },
  {
   "cell_type": "code",
   "execution_count": null,
   "metadata": {},
   "outputs": [],
   "source": [
    "str(sentiment_sentence.labels[0]).split()[1]"
   ]
  },
  {
   "cell_type": "code",
   "execution_count": null,
   "metadata": {},
   "outputs": [],
   "source": [
    "def process_each_split_to_extract_sentences(complete_file_path):\n",
    "    with open(complete_file_path) as f:\n",
    "        print(complete_file_path)\n",
    "\n",
    "        for line in f:\n",
    "            json_line = json.loads(line[line.find('{'):])\n",
    "            pmc_id = json_line['evidence']['literature_ref']['lit_id']\n",
    "#             print(pmc_id)\n",
    "            try:\n",
    "                for each_sentence in json_line['evidence']['literature_ref']['mined_sentences']:\n",
    "                    \n",
    "                    section = each_sentence['section']\n",
    "                    t_start = each_sentence['t_start']\n",
    "                    t_end = each_sentence['t_end']\n",
    "                    d_start = each_sentence['d_start']\n",
    "                    d_end = each_sentence['d_end']\n",
    "                    sentence_ = each_sentence['text']\n",
    "\n",
    "                    target = sentence_[t_start:t_end+1]\n",
    "                    disease = sentence_[d_start:d_end+1]\n",
    "                    \n",
    "                    ################# Format Sentence ###########################\n",
    "                    \n",
    "                    sentence_list = []\n",
    "                    for each_word in sentence_.split():\n",
    "                        try:\n",
    "                            sentence_list.append(\n",
    "                                each_word.encode('latin_1').decode('utf-8').strip())  # Each char is a Unicode codepoint.\n",
    "                        except:\n",
    "                            sentence_list.append(re.sub(r'[^\\x00-\\x7f]', r'', each_word).strip())\n",
    "        \n",
    "                    sentence = ' '.join(sentence_list)\n",
    "                    sentence = sentence.replace(',' ,' ')\n",
    "                    \n",
    "                    ########################### NER #############################\n",
    "                    \n",
    "                    gene_sentence = Sentence(sentence)\n",
    "                    gene_model.predict(gene_sentence)\n",
    "                    \n",
    "                    disease_sentence = Sentence(sentence)\n",
    "                    disease_model.predict(disease_sentence)\n",
    "                    \n",
    "                    ml_target = extract_ner_tokens(str(gene_sentence.get_spans('ner')).replace('.','').replace(',',''))\n",
    "                    ml_disease = extract_ner_tokens(str(disease_sentence.get_spans('ner')).replace('.','').replace(',',''))\n",
    "            \n",
    "#                     print(ml_target+ '  ---  ' + ml_disease)\n",
    "                \n",
    "                    ########################### Association #############################    \n",
    "                    \n",
    "                    \n",
    "                    association_sentence = Sentence(sentence)\n",
    "                    association_classifier.predict(association_sentence)\n",
    "\n",
    "                    if str(association_sentence.labels[0]).split()[0] == 'YGD':\n",
    "                        association_score_ = float(str(association_sentence.labels[0]).split()[1].replace('(', '').replace(')',''))\n",
    "                    else:\n",
    "                        association_score_ = 1.0-float(str(association_sentence.labels[0]).split()[1].replace('(', '').replace(')',''))\n",
    "    \n",
    "                    association_score = format(association_score_, '.2f')\n",
    "#                     print(association_score)\n",
    "                 \n",
    "                    ########################### Sentiment #############################    \n",
    "                    \n",
    "                    \n",
    "                    sentiment_sentence = Sentence(sentence)\n",
    "                    sentiment_classifier.predict(sentiment_sentence)\n",
    "\n",
    "                    if str(sentiment_sentence.labels[0]).split()[0] == 'PA':\n",
    "                        sentiment_score_ = float(str(sentiment_sentence.labels[0]).split()[1].replace('(', '').replace(')',''))\n",
    "                    else:\n",
    "                        sentiment_score_ = -1.0*float(str(sentiment_sentence.labels[0]).split()[1].replace('(', '').replace(')',''))\n",
    "    \n",
    "                    sentiment_score = format(sentiment_score_, '.2f')\n",
    "#                     print(sentiment_score)\n",
    "        \n",
    "                \n",
    "#                     with open(result_folder + 'Preliminary_ML_OTAR_review.csv', 'a') as sent_file:\n",
    "#                         sent_file.writelines(sentence+'\\n')\n",
    "\n",
    "                    OTAR_info = [pmc_id, section, target, disease, sentence, ml_target, ml_disease, association_score, sentiment_score]\n",
    "                    OTAR_data = pd.DataFrame(columns=colNames)\n",
    "\n",
    "                    OTAR_dict = dict(zip(colNames, OTAR_info))\n",
    "                    OTAR_CSV = OTAR_data.append(OTAR_dict, ignore_index=True)\n",
    "\n",
    "                    OTAR_CSV.to_csv(result_folder + 'Preliminary_ML_OTAR_review.csv', sep='\\t', encoding='utf-8', index=False, mode='a', header=False)\n",
    "\n",
    "                    del OTAR_data  # Very important to delete or it will consume the memory\n",
    "\n",
    "            except:\n",
    "                print('exception in -- '+pmc_id)\n",
    "                continue"
   ]
  },
  {
   "cell_type": "code",
   "execution_count": null,
   "metadata": {},
   "outputs": [],
   "source": [
    "process_each_split_to_extract_sentences(file_path)"
   ]
  },
  {
   "cell_type": "code",
   "execution_count": null,
   "metadata": {},
   "outputs": [],
   "source": [
    "# import pandas as pd\n",
    "names_ = ['PMC_ID','SECTION','EPMC_TARGET','EPMC_DISEASE','SENTENCE','ML_TARGET','ML_DISEASE','ASSOCIATION','SENTIMENT']\n",
    "\n",
    "df3 = pd.read_csv(result_folder + 'Preliminary_ML_OTAR_review.csv', sep='\\t', encoding='utf-8', names=names_)\n",
    "\n",
    "distributed_set = df3.groupby('SECTION').head(56)\n",
    "\n",
    "distributed_set.to_csv(result_folder + 'Preliminary_ML_OTAR_review_balanced.csv', sep='\\t', encoding='utf-8', index=False, header=True)\n"
   ]
  },
  {
   "cell_type": "code",
   "execution_count": 5,
   "metadata": {},
   "outputs": [
    {
     "name": "stdout",
     "output_type": "stream",
     "text": [
      "[<GENE-span (3,4,5): \"TNF - 1\">]\n",
      "[]\n"
     ]
    }
   ],
   "source": [
    "from nltk.tokenize import wordpunct_tokenize\n",
    "\n",
    "text = 'Increased GABAergic tone induces motor incoordination, and extracellular GABA in cerebellum correlates with motor incoordination in rats'\n",
    "\n",
    "sentence= ' '.join(wordpunct_tokenize(text))\n",
    "\n",
    "gene_sentence = Sentence(sentence)\n",
    "gene_model.predict(gene_sentence)\n",
    "\n",
    "disease_sentence = Sentence(sentence)\n",
    "disease_model.predict(disease_sentence)\n",
    "\n",
    "ml_target = gene_sentence.get_spans('ner')\n",
    "ml_disease = disease_sentence.get_spans('ner')\n",
    "\n",
    "print(ml_target)\n",
    "print(ml_disease)"
   ]
  },
  {
   "cell_type": "code",
   "execution_count": null,
   "metadata": {},
   "outputs": [],
   "source": [
    "sentence= Sentence(' '.join(wordpunct_tokenize(text)))\n",
    "sentence"
   ]
  }
 ],
 "metadata": {
  "kernelspec": {
   "display_name": "PyTorch",
   "language": "python",
   "name": "pytorch"
  },
  "language_info": {
   "codemirror_mode": {
    "name": "ipython",
    "version": 3
   },
   "file_extension": ".py",
   "mimetype": "text/x-python",
   "name": "python",
   "nbconvert_exporter": "python",
   "pygments_lexer": "ipython3",
   "version": "3.7.4"
  }
 },
 "nbformat": 4,
 "nbformat_minor": 2
}
