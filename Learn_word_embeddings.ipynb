{
 "cells": [
  {
   "cell_type": "code",
   "execution_count": 2,
   "metadata": {},
   "outputs": [],
   "source": [
    "# Here I am using gensim for learning the word embeddings from the EUADR corpus\n",
    "# This is just a rough start to learn \n",
    "import gensim\n",
    "import logging\n",
    "import os\n",
    "import pandas as pd\n",
    "from gensim.models.fasttext import FastText\n",
    "\n",
    "from gensim import utils\n",
    "from nltk import CoreNLPParser\n",
    "# import click\n",
    "import sys\n",
    "from nltk.tokenize.regexp import WordPunctTokenizer\n"
   ]
  },
  {
   "cell_type": "code",
   "execution_count": 3,
   "metadata": {},
   "outputs": [],
   "source": [
    "# start the log\n",
    "logging.basicConfig(\n",
    "    format='%(asctime)s : %(levelname)s : %(message)s',\n",
    "    level=logging.INFO)"
   ]
  },
  {
   "cell_type": "code",
   "execution_count": null,
   "metadata": {},
   "outputs": [],
   "source": [
    "# get the current working directory\n",
    "data_path = '/home/stirunag/Work/OTAR dumps/'\n",
    "\n",
    "# Although the dataset says csv, it is tab delimited. In addition to this, they have severe codels problems. \n",
    "# So best to parse throught codes first. \n",
    "# UnicodeDecodeError: 'utf-8' codec can't decode byte 0xfc in position 2: invalid start byte\n",
    "\n",
    "#open for reading with \"universal\" type set\n",
    "\n",
    "# import codecs\n",
    "\n",
    "# sentences_t = codecs.open(data_path+'OTAR_sentences_toy'+'.csv','rU','UTF-8') \n",
    "# met_gen_sentences = pd.read_csv(sentences_t, header = None)\n",
    "\n",
    "# logging.info(\"Done reading data files\")\n",
    "\n",
    "\n",
    "class SentenceIterator: \n",
    "    def __init__(self, filepath): \n",
    "        self.filepath = filepath \n",
    "\n",
    "    def __iter__(self): \n",
    "        for line in open(self.filepath): \n",
    "            yield line.split() \n",
    "\n",
    "sentences = SentenceIterator(data_path+'datadir/textfile.txt') \n",
    "model = Word2Vec(sentences)\n",
    "\n"
   ]
  },
  {
   "cell_type": "code",
   "execution_count": null,
   "metadata": {},
   "outputs": [],
   "source": [
    "met_gen_sentences.columns"
   ]
  },
  {
   "cell_type": "code",
   "execution_count": null,
   "metadata": {},
   "outputs": [],
   "source": [
    "sentences =  met_gen_sentences[6].values.tolist()"
   ]
  },
  {
   "cell_type": "code",
   "execution_count": null,
   "metadata": {},
   "outputs": [],
   "source": [
    "sentences[1:10]"
   ]
  },
  {
   "cell_type": "code",
   "execution_count": null,
   "metadata": {},
   "outputs": [],
   "source": [
    "#########################  tokenisation ###############################################\n",
    "documents = []\n",
    "for row in sentences:\n",
    "    try:\n",
    "        documents.append(row.split())\n",
    "    except AttributeError:\n",
    "        pass\n"
   ]
  },
  {
   "cell_type": "code",
   "execution_count": null,
   "metadata": {},
   "outputs": [],
   "source": [
    "documents[1:3]"
   ]
  },
  {
   "cell_type": "code",
   "execution_count": null,
   "metadata": {},
   "outputs": [],
   "source": [
    "from gensim.models import Word2Vec, Phrases, phrases, KeyedVectors\n",
    "\n",
    "\n",
    "# OTAR_wv = KeyedVectors.load_word2vec_format('/home/santosh/pre-trained_word_embeddings/PubMed-and-PMC-w2v.bin', binary=True)\n",
    "\n",
    "# min_count = 3\n",
    "# model = Word2Vec(size=200, min_count=min_count, iter=10, window=10, workers=10)\n",
    "# model.build_vocab(documents)\n",
    "# training_examples_count = model.corpus_count\n",
    "# # below line will make it 1, so saving it before\n",
    "# model.build_vocab([list(PMC_wv.vocab.keys())], update=True)\n",
    "# model.intersect_word2vec_format(\"/home/santosh/pre-trained_word_embeddings/PubMed-and-PMC-w2v.bin\", binary=True, lockf=1.0)\n",
    "# model.train(sentences, total_examples=training_examples_count, epochs=model.iter)\n",
    "\n",
    "\n",
    "model = gensim.models.Word2Vec(\n",
    "    documents,\n",
    "    size=300,\n",
    "    window=10,\n",
    "    min_count=5,\n",
    "    workers=10)\n",
    "model.train(documents, total_examples=len(documents), epochs=10)\n",
    "\n",
    "\n"
   ]
  },
  {
   "cell_type": "code",
   "execution_count": null,
   "metadata": {},
   "outputs": [],
   "source": [
    "model.save(\"/home/stirunag/OTAR_wv_model\")\n",
    "model.wv.save(\"/home/stirunag/OTAR_wv\")"
   ]
  },
  {
   "cell_type": "code",
   "execution_count": null,
   "metadata": {},
   "outputs": [],
   "source": [
    "w1 = \"tyrosine\"\n",
    "print(\"Most similar to {0}\".format(w1), model.wv.most_similar(positive=w1))"
   ]
  },
  {
   "cell_type": "code",
   "execution_count": null,
   "metadata": {},
   "outputs": [],
   "source": [
    "# w1 = \"antibiotics\".lower()\n",
    "\n",
    "# print(\"Most similar to {0}\".format(w1), model.wv.most_similar(positive=w1))"
   ]
  },
  {
   "cell_type": "code",
   "execution_count": null,
   "metadata": {},
   "outputs": [],
   "source": [
    "# w1 = \"ias\".lower()\n",
    "\n",
    "# print(\"Most similar to {0}\".format(w1), model.wv.most_similar(positive=w1))"
   ]
  },
  {
   "cell_type": "code",
   "execution_count": null,
   "metadata": {
    "scrolled": true
   },
   "outputs": [],
   "source": [
    "# word = 'gut'\n",
    "# new_sentence = word.split()\n",
    "# model.wv.most_similar(positive=filter(lambda x: x in model.wv.vocab, new_sentence), topn=20)\n"
   ]
  },
  {
   "cell_type": "code",
   "execution_count": null,
   "metadata": {},
   "outputs": [],
   "source": [
    "# word = 'fresh-water microbiome'\n",
    "# new_sentence = word.split()\n",
    "# model.wv.most_similar(positive=filter(lambda x: x in model.wv.vocab, new_sentence), topn=50)\n"
   ]
  },
  {
   "cell_type": "code",
   "execution_count": null,
   "metadata": {},
   "outputs": [],
   "source": [
    "# import spacy\n",
    "# parse = spacy.load('biobio')\n",
    "\n",
    "# text = u'INTRODUCTION The hydrolysis of phosphatidylcholine (PC) by phospholipase D (PLD) generates the signaling lipid phosphatidic acid (PA) (reviewed in Frohman et al. , 1999 ; Jones et al. , 1999 ). PA has been hypothesized to act as a fusogenic lipid in vesicular transport such as exocytosis (Way et al. , 2000 ; Caumont et al. , 1998 ) or endocytosis (Schmidt et al. , 1999a ). PA also may act as an anchor for signaling molecules that act in proliferation pathways, such as the Raf-1 kinase (Rizzo et al. , 2000 ), as regulators of cell shape through the stimulation of PI4P5-kinase (Honda et al. , 1999 ) or as the substrate to generate diacylglycerol or lysophosphatidic acid (LPA) through further metabolism (reviewed in Frohman et al. , 1999 ; Jones et al. , 1999 ). Many cell types express the known PLD1 (Hammond et al. , 1995 ) and/or PLD2 (Colley et al. , 1997 ) isoenzymes, which become activated in response to a wide variety of agonists that signal through heterotrimeric G protein-coupled or tyrosine kinase receptors (reviewed in Liscovitch et al. , 2000 ). It has been proposed that the link between receptor stimulation and PLD activation is mediated by protein kinase C (PKC), ADP-ribosylation factor (ARF), and Rho family members (Singer et al. , 1995 ; Siddiqi et al. , 1995 ; Liscovitch et al. , 2000 ), which have been shown to stimulate PLD1 directly using in vitro reconstitution assays (Hammond et al. , 1997 ). Since ARF, Rho, and PKC stimulate multiple downstream effector pathways that ultimately regulate cellular morphology, proliferation, and secretion, there has been intense interest in determining the relationship of PLD stimulation through each activator to these cell biological events. Such studies generally have been approached through the manipulation of PKC, Rho, or ARF activity using the overexpression of activated or inactive alleles, toxins, or pharmacologic agents to activate or inhibit them (Liscovitch et al. , 2000 ). A key issue raised by many of these studies has been whether PLD1 is actually activated in vivo through direct stimulation by its effectors, or whether indirect pathways are more critical. Specifically, inhibitors of the enzymatic activity of PKC have been shown to block PLD activation, even though the direct stimulation of PLD1 by PKC in vitro involves an interaction with the regulatory domain of PKC and is ATP-independent (Liscovitch et al. , 2000 ). This suggests that a PKC target other than PLD is critical for the activation of PLD by PKC in vivo. Similarly, it has been proposed that the primary mechanism through which Rho activates PLD1 is an indirect one in which Rho activates Rho-kinase, which then activates PLD via an unknown pathway (Schmidt et al. , 1999b ). However, these approaches involve complicated interpretations, since manipulation of PKC, Rho, and ARF levels of activity affect many things aside from PLD regulation. These include cross-regulation of the other stimulators and alterations in availability of PI4,5P2  (a required cofactor for PLD). In addition, the pharmacologic agents are inevitably found to exhibit less than complete specificity (Zhang et al. , 1999 ). Moreover, reagents such as Rho-dominant negative alleles cause undesired widespread effects by sequestering the guanine?nucleotide exchange factors required to activate other small G-proteins. In recent years, we have described an alternative approach based on generating alleles of PLD that exhibit altered regulation. These include mutants that are inactive (Sung et al. , 1997 ), selectively nonresponsive to PKC (Zhang et al. , 1999 ), or insensitive to PI4,5P2  (Sciorra et al. , 1999 ). The rationale for this scheme was given in earlier studies that demonstrated that the stimulators of PLD1 physically interact with it at distinct sites in the molecule (Hammond et al. , 1997 ; Sung et al. , 1997 ; Sung et al. , 1999b ; Yamazaki et al. , 1999 ). Our previous study using an allele selectively nonresponsive to PKC revealed that direct stimulation of PLD1 by PKC is required for much of the response of PLD1 to G protein-coupled agonists. In this report, we demonstrate that direct stimulation of PLD1 by Rho is also critical using novel, selectively nonresponsive alleles. Taken together, our results demonstrate that signal integration through both PKC and Rho via direct contact is required for significant physiologic in vivo activation of PLD1 during agonist signaling.'\n"
   ]
  },
  {
   "cell_type": "code",
   "execution_count": null,
   "metadata": {},
   "outputs": [],
   "source": [
    "# doc = parse(text)\n",
    "\n",
    "# for w in doc:\n",
    "#     # Prints \"E\" for being part of a biomedical entity, and shows IOB tagging.\n",
    "#     print(w, w.ent_type_, w.ent_iob_)"
   ]
  },
  {
   "cell_type": "code",
   "execution_count": null,
   "metadata": {},
   "outputs": [],
   "source": [
    "# for s in doc.sents:\n",
    "#     print('sentence: ' + str(s) + '\\n')"
   ]
  },
  {
   "cell_type": "code",
   "execution_count": null,
   "metadata": {},
   "outputs": [],
   "source": [
    "# import re\n",
    "\n",
    "# def remove_parenthesized_chunks(text):\n",
    "#     new_text = re.sub('[\\(\\[].*?[\\)\\]]', '', text)\n",
    "# #     new_text = re.sub(r'\\(.*\\)', '', text)\n",
    "#     return new_text"
   ]
  },
  {
   "cell_type": "code",
   "execution_count": null,
   "metadata": {},
   "outputs": [],
   "source": [
    "# parse_1 = spacy.load('en')\n",
    "# doc_1 = parse_1(text)\n",
    "# for s in doc_1.sents:\n",
    "#     print('sentence: ' + str(s) + '\\n')"
   ]
  },
  {
   "cell_type": "code",
   "execution_count": null,
   "metadata": {},
   "outputs": [],
   "source": [
    "# remove_parenthesized_chunks(text)"
   ]
  },
  {
   "cell_type": "code",
   "execution_count": null,
   "metadata": {},
   "outputs": [],
   "source": [
    "# doc_1 = parse_1(remove_parenthesized_chunks(text))\n",
    "# for s in doc_1.sents:\n",
    "#     print('sentence: ' + str(s) + '\\n')"
   ]
  },
  {
   "cell_type": "code",
   "execution_count": null,
   "metadata": {},
   "outputs": [],
   "source": [
    "# doc = parse(text)\n",
    "\n",
    "# for w in doc:\n",
    "#     # Prints \"E\" for being part of a biomedical entity, and shows IOB tagging.\n",
    "#     print(w, w.ent_type_, w.ent_iob_)"
   ]
  }
 ],
 "metadata": {
  "kernelspec": {
   "display_name": "Python 3",
   "language": "python",
   "name": "python3"
  },
  "language_info": {
   "codemirror_mode": {
    "name": "ipython",
    "version": 3
   },
   "file_extension": ".py",
   "mimetype": "text/x-python",
   "name": "python",
   "nbconvert_exporter": "python",
   "pygments_lexer": "ipython3",
   "version": "3.7.3"
  }
 },
 "nbformat": 4,
 "nbformat_minor": 2
}
