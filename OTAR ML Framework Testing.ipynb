{
 "cells": [
  {
   "cell_type": "code",
   "execution_count": 1,
   "metadata": {},
   "outputs": [],
   "source": [
    "import glob\n",
    "import gzip\n",
    "from bs4 import BeautifulSoup\n",
    "import lxml\n",
    "from collections import defaultdict\n",
    "from tqdm import tqdm\n",
    "\n",
    "path = '/nfs/misc/literature/shyama/OTAR_Old_Pipeline/FullTextJan2020/'"
   ]
  },
  {
   "cell_type": "code",
   "execution_count": 2,
   "metadata": {},
   "outputs": [],
   "source": [
    "all_files = sorted(glob.glob(path+'Annot_PMC*.xml'))"
   ]
  },
  {
   "cell_type": "code",
   "execution_count": 3,
   "metadata": {},
   "outputs": [
    {
     "data": {
      "text/plain": [
       "266"
      ]
     },
     "execution_count": 3,
     "metadata": {},
     "output_type": "execute_result"
    }
   ],
   "source": [
    "len(all_files)"
   ]
  },
  {
   "cell_type": "code",
   "execution_count": 4,
   "metadata": {},
   "outputs": [
    {
     "data": {
      "text/plain": [
       "'/nfs/misc/literature/shyama/OTAR_Old_Pipeline/FullTextJan2020/Annot_PMC1240624_PMC1474480.xml'"
      ]
     },
     "execution_count": 4,
     "metadata": {},
     "output_type": "execute_result"
    }
   ],
   "source": [
    "all_files[0]"
   ]
  },
  {
   "cell_type": "code",
   "execution_count": 4,
   "metadata": {},
   "outputs": [],
   "source": [
    "def getfileblocks(file_path):\n",
    "\n",
    "    subFileBlocks = []\n",
    "\n",
    "    with open(file_path, 'r') as fh:\n",
    "        for line in fh:\n",
    "            if line.startswith('<!DOCTYPE'):\n",
    "                subFileBlocks.append(line)\n",
    "            else:\n",
    "                subFileBlocks[-1] += line\n",
    "                \n",
    "    return subFileBlocks"
   ]
  },
  {
   "cell_type": "code",
   "execution_count": 5,
   "metadata": {},
   "outputs": [],
   "source": [
    "def GP_soup(file_soup):\n",
    "    dict_sentences = defaultdict(list)\n",
    "    for each_ztag in file_soup.find_all('z:uniprot'):\n",
    "        try:\n",
    "            gene_sentence = each_ztag.findParents('plain')[0].text\n",
    "            dict_sentences[gene_sentence].append(each_ztag) \n",
    "        except:\n",
    "            pass\n",
    "    return dict_sentences\n",
    "\n",
    "\n",
    "from fuzzywuzzy import fuzz \n",
    "def compare_with_ml_annotations(r, z_tags, ml_json):\n",
    "    FP_removed_z_tags = []\n",
    "    for each_z_tag in z_tags:\n",
    "        for each_ml_annotation in r.json()['annotations']:\n",
    "            score = fuzz.token_set_ratio(each_ml_annotation[3],each_z_tag.text)\n",
    "            if  score ==100 and each_ml_annotation[2]=='GP':\n",
    "                FP_removed_z_tags.append(each_z_tag)\n",
    "    \n",
    "    return list(set(z_tags) - set(FP_removed_z_tags))\n",
    "\n"
   ]
  },
  {
   "cell_type": "code",
   "execution_count": 6,
   "metadata": {},
   "outputs": [],
   "source": [
    "import requests\n",
    "\n",
    "def get_unique_fp_tags(GP_dict_sentences):\n",
    "    url = 'http://ai-capo-api-1:5200/spaCy_ner_predictor?text_sentence='\n",
    "\n",
    "    FP_dict_sentences =defaultdict(list)\n",
    "    set_FPs = set()\n",
    "    \n",
    "    for each_uniprot_sentence, z_tags in GP_dict_sentences.items():\n",
    "        r = requests.get(url+each_uniprot_sentence)\n",
    "        if r.status_code == 200 and r.json()['status']==200:\n",
    "            FPs = compare_with_ml_annotations(r, z_tags,r.json())\n",
    "            if FPs:\n",
    "                FP_dict_sentences[each_uniprot_sentence].append(FPs)\n",
    "        else:\n",
    "            print(each_uniprot_sentence)\n",
    "        \n",
    "    for FP_sent,FP_tag in FP_dict_sentences.items():\n",
    "        for each_ztag in FP_tag[0]:\n",
    "            set_FPs.add(each_ztag)\n",
    "\n",
    "    return list(set_FPs)\n",
    "        "
   ]
  },
  {
   "cell_type": "code",
   "execution_count": 7,
   "metadata": {},
   "outputs": [
    {
     "name": "stderr",
     "output_type": "stream",
     "text": [
      " 26%|██▌       | 2607/10000 [08:27<1:38:28,  1.25it/s]"
     ]
    },
    {
     "name": "stdout",
     "output_type": "stream",
     "text": [
      "Australia: F Alard, J Alcoe, F Alford, C Allan, J Amerena, R Anderson, N Arnold, T Arsov, D Ashby, C Atkinson, L Badhni, M Balme, D Barton, B Batrouney, C Beare, T Beattie, J Beggs, C Bendall, C Bendall, A Benz, A Bond, R Bradfield, J Bradshaw, S Brearley, D Bruce, J Burgess, J Butler, M Callary, J Campbell, K Chambers, J Chow, S Chow, K Ciszek, P Clifton, P Clifton-Bligh, V Clowes, P Coates, C Cocks, S Cole, D Colquhoun, M Correcha, B Costa, S Coverdale, M Croft, J Crowe, S Dal Sasso, W Davis, J Dunn, S Edwards, R Elder, S El-Kaissi, L Emery, M England, O Farouque, M Fernandez, B Fitzpatrick, N Francis, P Freeman, A Fuller, D Gale, V Gaylard, C Gillzan, C Glatthaar, J Goddard, V Grange, T Greenaway, J Griffin, A Grogan, S Guha, J Gustafson, P S Hamblin, T Hannay, C Hardie, A Harper, G Hartl, A Harvey, S Havlin, K Haworth, P Hay, L Hay, B Heenan, R Hesketh, A Heyworth, M Hines, G Hockings, A Hodge, L Hoffman, L Hoskin, M Howells, D Hunt, A Hunt, W Inder, W Inder, D Jackson, A Jovanovska, K Kearins, P Kee, J Keen, D Kilpatrick, J Kindellan, M Kingston-Ray, M Kotowicz, A Lassig, M Layton, S Lean, E Lim, F Long, L Lucas, D Ludeman, D Ludeman, C Ludeman-Robertson, M Lyall, L Lynch, C Maddison, B Malkus, A Marangou, F Margrie, K Matthiesson, J Matthiesson, S Maxwell, K McCarthy, A McElduff, H McKee, J McKenzie, K McLachan, P McNair, M Meischke, A Merkel, C Miller, B Morrison, A Morton, W Mossman, A Mowat, J Muecke, P Murie, S Murray, P Nadorp, S Nair, J Nairn, A Nankervis, K Narayan, N Nattrass, J Ngui, S Nicholls, V Nicholls, JA Nye, E Nye, D O'Neal, M O'Neill, S O'Rourke, J Pearse, C Pearson, J Phillips, L Pittis, D Playford, L Porter, L Porter, R Portley, M Powell, C Preston, S Pringle, W A Quinn, J Raffaele, G Ramnath, J Ramsden, D Richtsteiger, S Roffe, S Rosen, G Ross, Z Ross, J Rowe, D Rumble, S Ryan, J Sansom, C Seymour, E Shanahan, S Shelly, J Shepherd, G Sherman, R Siddall, D Silva, S Simmons, R Simpson, A Sinha, R Slobodniuk, M Smith, P Smith, S Smith, V Smith-Orr, J Snow, L Socha, T Stack, K Steed, K Steele, J Stephensen, P Stevens, G Stewart, R Stewart, C Strakosch, M Sullivan, S Sunder, J Sunderland, E Tapp, J Taylor, D Thorn, D Thorn, A Tolley, D Torpy, G Truran, F Turner, J Turner, J van de Velde, S Varley, J Wallace, J Walsh, J Walsh, J Walshe, G Ward, B Watson, J Watson, A Webb, F Werner, E White, A Whitehouse, N Whitehouse, S Wigg, J Wilkinson, E Wilmshurst, D Wilson, G Wittert, B Wong, M Wong, S Worboys, S Wright, S Wu, J Yarker, M Yeo, K Young, J Youssef, R Yuen, H Zeimer, R W Ziffer; Finland: A Aura, A Friman, J Hanninen, J Henell, N Hyvarinen, M Ikonen, A Itkonen, J Jappinen, A Jarva, T Jerkkola, V Jokinen, J Juutilainen, H Kahkonen, T Kangas, M Karttunen, P Kauranen, S Kortelainen, H Koukkunen, L Kumpulainen, T Laitinen, M Laitinen, S Lehto, R Lehto, E Leinonen, M Lindstron-Karjalainen, A Lumiaho, J Makela, K Makinen, L Mannermaa, T Mard, J Miettinen, V Naatti, S Paavola, N Parssinen, J Ripatti, S Ruotsalainen, A Salo, M Siiskonen, A Soppela, J Starck, I Suonranta, L Ukkola, K Valli, J Virolainen; New Zealand: P Allan, W Arnold, W Bagg, K Balfour, T Ball, B Ballantine, C Ballantyne, C Barker, C Barker, F Bartley, E Berry, G Braatvedt, A Campbell, T Clarke, R Clarke, A Claydon, S Clayton, P Cresswell, R Cutfield, J Daffurn, J Delahunt, A Dissnayake, C Eagleton, C Ferguson, C Florkowski, D Fry, P Giles, M Gluyas, C Grant, P Guile, M Guolo, P Hale, M Hammond, M Hammond, P Healy, M Hills, J Hinge, J Holland, B Hyne, A Ireland, A Johnstone, S Jones, G Kerr, K Kerr, M Khant, J Krebs, L Law, B Lydon, K MacAuley, R McEwan, P McGregor, B McLaren, L McLeod, J Medforth, R Miskimmin, J Moffat, M Pickup, C Prentice, M Rahman, E Reda, C Ross, A Ryalls, D Schmid, N Shergill, A Snaddon, H Snell, L Stevens, A Waterman, V Watts. \n"
     ]
    },
    {
     "name": "stderr",
     "output_type": "stream",
     "text": [
      " 29%|██▊       | 2872/10000 [10:42<52:19,  2.27it/s]  "
     ]
    },
    {
     "name": "stdout",
     "output_type": "stream",
     "text": [
      "\"acinic cell carcinoma of the lung, adenocarcinoma and large cell carcinoma of lung, adenomatous hyperplasia of the rete testis, adenosarcoma of the renal pelvis with heterologous elements, adenosarcoma of the uterus with sarcomatous overgrowth, adrenal cortical adenoma in the spinal canal, aggressive digital papillary adenoma and adenocarcinoma, anaplastic carcinoma of the lung, atypical burkitt lymphoma arising from follicular lymphoma, atypical duct hyperplasia of the breast, atypical fibrous histiocytoma of the skin, atypical polypoid adenomyoma of the uterus, b-cell lymphoma of mucosa-associated lymphoid tissue, benign cystic mesothelioma of the liver, benign epithelioid peripheral nerve sheath tumor of the soft tissues, benign mesenchymal tumor of lymph node, benign mesenchymal tumor of the uterus, benign schwannoma of the digestive tract, bile duct adenoma clear cell type, bizarre parosteal osteochondromatous proliferation of bone, borderline epithelial lesions of the breast, borderline papillary serous tumour of the fallopian tube, botryoid rhabdomyosarcoma of the biliary tract, breast tumor resembling the tall cell variant of papillary thyroid carcinoma, carcinoid tumor of the extrahepatic bile ducts, carcinosarcoma of the female genital tract, clear cell carcinoma of the gallbladder, clear cell carcinoma of the ovary, clear cell carcinoma of the skin, clear cell myomelanocytic tumor of the thigh, clear cell myomelanocytic tumor of the urinary bladder, clear cell sarcoma of soft tissues, clear cell sarcoma of the ileum, clear cell sugar tumor of the pancreas, clear cell tumor in the liver, clear cell tumor of the kidney, clear cell tumor of the lung, combined small cell and spindle cell carcinoma of the lung, composite follicular variant of papillary carcinoma and mucoepidermoid carcinoma of the thyroid, condylomata acuminata of the urinary bladder, congenital cystic adenomatoid malformation of the lung, cutaneous epidermotropic alveolar rhabdomyosarcoma, cutaneous follicle center b-cell lymphoma, cystadenofibroma of the ovary with epithelial atypia, cystic hamartoma of the renal pelvis, desmoplastic small cell tumor in the pancreas, desmoplastic small cell tumor of soft tissues, desmoplastic small round cell tumor of the pleura, diffuse mesothelioma of the genital tract and peritoneum, ductal adenoma of the breast, ductal carcinoma in situ in breast, ductal carcinoma in situ in salivary duct carcinoma, ductal carcinoma in situ of the female breast, dysplasia of the epididymis, endometrial stromal and smooth muscle tumor of the uterus, epithelial mesothelioma of the pleura, epithelial-stromal tumor of the seminal vesicle, epithelioid hemangioendothelioma of skin and soft tissues, epithelioid leiomyosarcoma of the skin and subcutaneous tissue, epithelioid mesothelioma of the pleura, ewing family of tumor, extragastrointestinal stromal tumor gastrointestinal stromal tumor of the soft tissue, extramammary paget disease of the oral mucosa, familial adenomatous polyposis associated with multiple endocrine neoplasia, foamy gland high-grade prostatic intraepithelial neoplasia, follicle center lymphoma of the ampulla of vater, follicular center-cell lymphoma with plasmacytic differentiation, follicular dendritic cell tumor of the liver, follicular dendritic cell tumor of the oral cavity, follicular thyroid carcinoma with clear cell change, gastric mucosa-associated lymphoid tissue, gastric neuroendocrine tumor in multiple endocrine neoplasia, gastrointestinal autonomic nerve tumor in the colon, germ cell neoplasms of the testis, giant cell tumor of soft tissues, glycogen-rich clear cell carcinoma of the breast, granular cell tumor of the lung, granulocytic sarcoma of the female genital tract, hematopoietic tumor in chronic myeloproliferative disorders, high-grade dysplasia in a colonic adenoma, histiocytic lymphoma of the central nervous system, histiocytic sarcoma involving the central nervous system, hyalinizing trabecular adenoma and papillary carcinoma of the thyroid gland, hyalinizing trabecular tumor of the thyroid gland, hyperplasia of interstitial cells of cajal, infiltrating colloid carcinoma of the pancreas, inflammatory fibroid polyp of the stomach, intestinal metaplasia of the distal esophagus, intraductal carcinoma of the oral cavity, juvenile granulosa cell tumor of the ovary, keratinizing squamous cell cancer of the cervix, langerhans cell granulomatosis of the thymus, large cell lymphoma of the mediastinum, lobular carcinoma in situ of the female breast, low grade b-cell lymphoma of mucosa associated lymphoid tissue, low malignant potential tumor of the ovary, low-grade b-cell lymphoma of mucosa-associated lymphoid tissue, low-grade endometrial stromal sarcoma, lymphoid hyperplasia of the gastrointestinal tract, lymphoma of the gastrointestinal tract, malignant epithelioid hemangioendothelioma of the liver, malignant epithelioid schwannoma, malignant fibrous histiocytoma of the extremities, malignant fibrous tumor of the pleura, malignant giant cell tumor of the tendon sheaths, malignant lymphoma of the mucosa-associated lymphoid tissue, malignant lymphoma of the small bowel, malignant lymphoma of the upper aerodigestive tract, malignant melanoma of the esophagus, malignant melanoma of the urethra, malignant mesonephric tumor of the female genital tract, malignant mesothelioma of the tunica vaginalis, malignant neuroendocrine tumor of the jejunum with osteoclast-like giant cells, malignant ovarian tumor with osteoclast-like giant cells, malignant peripheral nerve sheath tumor of infancy, malignant small cell tumor of thoracopulmonary region, marginal zone b-cell lymphoma in children and young adults, marginal zone b-cell lymphoma of the salivary gland arising in chronic sclerosing sialadenitis, melanocytic neoplasms of the central nervous, metaplasia of the renal collecting ducts, microinvasive squamous carcinoma of the esophagus, micropapillary variant of transitional cell carcinoma of the urinary bladder, mixed endometrial stromal and smooth muscle tumor of the uterus, mucin-secreting adenocarcinoma of the prostate with neuroendocrine differentiation, mucinous adenocarcinoma of the prostate gland, mucinous borderline tumor of the ovary mucinous cystic tumor of the ovary, multiple lymphomatous polyposis of the gastrointestinal tract, myoepithelial carcinoma of the salivary glands, neuroendocrine merkel cell carcinoma, nonsmall cell carcinoma of the lung, oat cell carcinoma of the kidney, oncocytic mucoepidermoid carcinoma of the salivary glands, ovarian sertoli cell tumor with retiform and heterologous elements, papillary carcinoma of the bladder, papillary cystic tumor of the pancreas, papillary transitional cell carcinoma of the renal pelvis, papillary urothelial neoplasms of low malignant potential, pediatric soft tissue tumor, peripheral nerve sheath tumor of the adrenal, peritoneal serous micropapillomatosis of low malignant potential serous borderline tumor of the peritoneum, perivascular epithelioid clear cell family of tumor, peutz-jeghers syndrome with adenoma and adenocarcinoma, plasma cell granuloma of the lung, plasmablastic lymphoma of the oral cavity, pleomorphic adenoma mixed tumor of the major salivary glands, pleomorphic hyalinizing angiectatic tumor of soft parts, pleomorphic large cell lymphoma of the mediastinum, pleomorphic soft tissue myogenic sarcoma of adulthood, polycystic adenosis of major salivary glands, precursor of uterine papillary serous carcinoma, primary embryonal rhabdomyosarcoma of long bone, primary hepatic non-hodgkin lymphoma in childhood, primary lung carcinoma with signet-ring cell carcinoma, primary lymphoma of the small intestine, primary malignant lymphoma of the cauda equina, primary malignant melanoma of the anterior mediastinum, primary mixed adenocarcinoma and small cell carcinoma of the appendix, primary mucinous carcinoma of the skin, primary mucinous tumor of the ovary, primary neuroendocrine merkel cell carcinoma of the skin, primary ovarian small cell carcinoma, primary ovarian squamous cell carcinoma, primary squamous cell carcinoma of the ovary, primary synovial sarcoma of the kidney, primary tumor of the exocrine pancreas, pulmonary carcinoma with pleomorphic sarcomatoid or sarcomatous elements, pulmonary malignant lymphoma of mucosa-associated lymphoid tissue, reactive lymphoid hyperplasia of the spleen, renal angiomyolipoma with epithelioid sarcomatous transformation, renal cell carcinoma in children and young adults, renal cell carcinoma in tuberous sclerosis, reticulum cell neoplasms of lymph nodes, rhabdoid tumor of the gastrointestinal tract, round cell tumor of the tibia, sclerosing mucoepidermoid thyroid carcinoma with eosinophilia, serous borderline tumor of the peritoneum, serous borderline tumor of the peritoneum, signet-ring cell lymphoma of t-cell origin, small cell anaplastic carcinoma of the lung, small cell sweat gland carcinoma, small cell sweat gland carcinoma in childhood, small cell tumor of the lung, small cleaved cell lymphoma in bone marrow, small lymphocytic lymphoma leukemia, smooth muscle tumor of the gastrointestinal tract, smooth muscle tumor of the liver, smooth muscle tumor of the ovary, soft tissue lymphoma of the extremities, solid and cystic papillary epithelial neoplasm of the pancreas, solitary fibrous tumor of soft tissue, solitary fibrous tumor of the kidney, solitary fibrous tumor of the liver, solitary fibrous tumor of the mediastinum, solitary fibrous tumor of the nasal cavity, solitary fibrous tumor of the orbit, solitary fibrous tumor of the spinal cord, solitary fibrous tumor of the thyroid gland, solitary fibrous tumor of the upper respiratory tract, spindle cell and epithelioid cell nevi with atypia, spindle cell neoplasms of lymph nodes, spindle cell tumor of the pleura, spindle-cell carcinoid tumor of the lung, spindle-cell carcinoma of the upper aerodigestive tract, squamous cell carcinoma of the palatine tonsil, squamous cell carcinoma of the upper aerodigestive tract, stromal neoplasms of the gastrointestinal tract, systemic mast cell disease involving the bone marrow, t-cell histiocyte-rich large b-cell lymphoma of the spleen, t-cell lymphoma in the small intestine, t-cell-rich b-cell lymphoma of the spleen, thymic squamous cell carcinoma associated with mixed type thymoma, transitional cell carcinoma with rhabdoid features, transitional cell metaplasia of the uterine cervix, transitional cell tumor of the pituitary, urothelial carcinoma of the renal pelvis, urothelial transitional cell neoplasms of the urinary bladder, variant of malignant peripheral nerve sheath tumor, vascular hamartoma of the small bowel, well-differentiated neuroendocrine tumor, well-differentiated papillary mesothelioma of the pleura, yolk sac tumor of the anterior mediastinum.\" \n"
     ]
    },
    {
     "name": "stderr",
     "output_type": "stream",
     "text": [
      " 29%|██▉       | 2923/10000 [11:09<1:08:17,  1.73it/s]"
     ]
    },
    {
     "name": "stdout",
     "output_type": "stream",
     "text": [
      "#introns (#ASPIC) \n"
     ]
    },
    {
     "name": "stderr",
     "output_type": "stream",
     "text": [
      " 39%|███▊      | 3863/10000 [18:40<1:56:47,  1.14s/it]"
     ]
    },
    {
     "name": "stdout",
     "output_type": "stream",
     "text": [
      "#1-no PCI \n",
      "#2-no PCI \n",
      "#3-no PCI \n",
      "#1-PCI \n",
      "#2-PCI \n",
      "#3-PCI \n",
      "#4-no PCI \n",
      "#5-no PCI \n",
      "#6-no PCI \n",
      "#4-PCI \n",
      "#5-PCI \n",
      "#6-PCI \n"
     ]
    },
    {
     "name": "stderr",
     "output_type": "stream",
     "text": [
      " 42%|████▏     | 4244/10000 [22:02<34:22,  2.79it/s]  "
     ]
    },
    {
     "name": "stdout",
     "output_type": "stream",
     "text": [
      "For a flat-ended circular indenter of radius a: 5\\documentclass[12pt]{minimal} \\usepackage{amsmath} \\usepackage{wasysym} \\usepackage{amsfonts} \\usepackage{amssymb} \\usepackage{amsbsy} \\usepackage{mathrsfs} \\usepackage{upgreek} \\setlength{\\oddsidemargin}{-69pt} \\begin{document} $$ \\hat{f}{\\left( \\delta \\right)} = \\frac{{2a\\delta }} {\\pi }, $$ \\end{document} for a spherical tip of radius a:6\\documentclass[12pt]{minimal} \\usepackage{amsmath} \\usepackage{wasysym} \\usepackage{amsfonts} \\usepackage{amssymb} \\usepackage{amsbsy} \\usepackage{mathrsfs} \\usepackage{upgreek} \\setlength{\\oddsidemargin}{-69pt} \\begin{document}$$ $$ \\hat{f}{\\left( \\delta \\right)} = \\frac{4} {{3\\pi }}{\\sqrt {a\\delta ^{3} } }, $$ \\end{document} for a conical tip with tip angle 2Φ:7\\documentclass[12pt]{minimal} \\usepackage{amsmath} \\usepackage{wasysym} \\usepackage{amsfonts} \\usepackage{amssymb} \\usepackage{amsbsy} \\usepackage{mathrsfs} \\usepackage{upgreek} \\setlength{\\oddsidemargin}{-69pt} \\begin{document}$$ \\hat{f}{\\left( \\delta \\right)} = \\frac{{2\\tan \\Phi }} {{\\pi ^{2} }}\\delta ^{2} , $$ \\end{document} and for a blunted cone-shaped tip of angle 2Φ, which transitions at radius b to a spherical cap of radius a:8\\documentclass[12pt]{minimal} \\usepackage{amsmath} \\usepackage{wasysym} \\usepackage{amsfonts} \\usepackage{amssymb} \\usepackage{amsbsy} \\usepackage{mathrsfs} \\usepackage{upgreek} \\setlength{\\oddsidemargin}{-69pt} \\begin{document}$$ \\ifmmode\\expandafter\\hat\\else\\expandafter\\^\\fi{f}{\\left( \\delta \\right)} = \\frac{2} {\\pi }{\\left[ {r_{{\\text{c}}} \\delta - \\frac{{r^{2}_{{\\text{c}}} }} {{2\\tan \\Phi }}{\\left( {\\frac{\\pi } {2} - \\arcsin {\\left( {\\frac{b} {{r_{{\\text{c}}} }}} \\right)}} \\right)} - \\frac{{r^{3}_{{\\text{c}}} }} {{{\\text{3}}a}} + {\\left( {r^{2}_{{\\text{c}}} - b^{2} } \\right)}^{{1 \\mathord{\\left/ {\\vphantom {1 2}} \\right. \\kern-\\nulldelimiterspace} 2}} {\\left( {\\frac{b} {{2\\tan \\Phi }} + \\frac{{r^{2}_{{\\text{c}}} - b^{2} }} {{{\\text{3}}a}}} \\right)}} \\right]} $$ \\end{document} where the radius of contact rc≥b and is obtained from Eq. 9, namely (Briscoe et al. 1994)9\\documentclass[12pt]{minimal} \\usepackage{amsmath} \\usepackage{wasysym} \\usepackage{amsfonts} \\usepackage{amssymb} \\usepackage{amsbsy} \\usepackage{mathrsfs} \\usepackage{upgreek} \\setlength{\\oddsidemargin}{-69pt} \\begin{document}$$ \\delta + \\frac{{r^{{}}_{{\\text{c}}} }} {a}{\\left[ {{\\left( {r^{2}_{{\\text{c}}} - b^{2} } \\right)}^{{1 \\mathord{\\left/ {\\vphantom {1 2}} \\right. \\kern-\\nulldelimiterspace} 2}} - r_{{\\text{c}}} } \\right]} - \\frac{{r_{{\\text{c}}} }} {{\\tan \\Phi }}{\\left[ {\\frac{\\pi } {2} - \\arcsin {\\left( {\\frac{b} {{r_{{\\text{c}}} }}} \\right)}} \\right]} = 0. $$ \\end{document} Finally, Humphrey et al. (1991) list the following results for computing Γ(W) and Σ(W):10\\documentclass[12pt]{minimal} \\usepackage{amsmath} \\usepackage{wasysym} \\usepackage{amsfonts} \\usepackage{amssymb} \\usepackage{amsbsy} \\usepackage{mathrsfs} \\usepackage{upgreek} \\setlength{\\oddsidemargin}{-69pt} \\begin{document}$$ \\begin{aligned} & \\Gamma = \\frac{{{\\left( {A + K_{1} B} \\right)}{\\sqrt {K_{1} } }}} {{1 + K_{1} }} - \\frac{{{\\left( {A + K_{2} B} \\right)}{\\sqrt {K_{2} } }}} {{1 + K_{2} }}\\;{\\text{and}} \\\\ & \\Sigma = \\frac{{K_{1} }} {{1 + K_{1} }} - \\frac{{K_{2} }} {{1 + K_{2} }} \\\\ \\end{aligned} $$ \\end{document} where11\\documentclass[12pt]{minimal} \\usepackage{amsmath} \\usepackage{wasysym} \\usepackage{amsfonts} \\usepackage{amssymb} \\usepackage{amsbsy} \\usepackage{mathrsfs} \\usepackage{upgreek} \\setlength{\\oddsidemargin}{-69pt} \\begin{document}$$ \\begin{aligned} & A = 2\\lambda ^{2} {\\left( {W_{1} + \\mu ^{2} W_{2} } \\right)}\\;{\\text{and}} \\\\ & B = 2\\mu ^{2} {\\left( {W_{1} + \\mu ^{2} W_{2} } \\right)} \\\\ \\end{aligned} $$ \\end{document} and K1 and K2 (dimensionless) are determined by solving the following quadratic equation for K:12\\documentclass[12pt]{minimal} \\usepackage{amsmath} \\usepackage{wasysym} \\usepackage{amsfonts} \\usepackage{amssymb} \\usepackage{amsbsy} \\usepackage{mathrsfs} \\usepackage{upgreek} \\setlength{\\oddsidemargin}{-69pt} \\begin{document}$$ BK^{2} + {\\left( {A + B - C - D} \\right)}K + A = 0 $$ \\end{document} with13\\documentclass[12pt]{minimal} \\usepackage{amsmath} \\usepackage{wasysym} \\usepackage{amsfonts} \\usepackage{amssymb} \\usepackage{amsbsy} \\usepackage{mathrsfs} \\usepackage{upgreek} \\setlength{\\oddsidemargin}{-69pt} \\begin{document}$$ C = 4\\mu ^{2} {\\left[ {{\\left( {W_{1} + \\mu ^{2} W_{2} } \\right)} + {\\left( {\\mu ^{2} - \\lambda ^{2} } \\right)}{\\left( {W_{{11}} + W_{{22}} \\mu ^{2} {\\left( {\\mu ^{2} + \\lambda ^{2} } \\right)} + W_{{12}} {\\left( {2\\mu ^{2} + \\lambda ^{2} } \\right)}} \\right)}} \\right]} $$ \\end{document} and14\\documentclass[12pt]{minimal} \\usepackage{amsmath} \\usepackage{wasysym} \\usepackage{amsfonts} \\usepackage{amssymb} \\usepackage{amsbsy} \\usepackage{mathrsfs} \\usepackage{upgreek} \\setlength{\\oddsidemargin}{-69pt} \\begin{document}$$ D = 4\\lambda ^{2} {\\left[ {{\\left( {W_{1} + \\mu ^{2} W_{2} } \\right)} + {\\left( {\\lambda ^{2} - \\mu ^{2} } \\right)}{\\left( {W_{{11}} + 2W_{{22}} \\mu ^{4} + 3W_{{12}} \\mu ^{2} } \\right)}} \\right]}. $$ \\end{document} Note that, for convenience, we denote:15\\documentclass[12pt]{minimal} \\usepackage{amsmath} \\usepackage{wasysym} \\usepackage{amsfonts} \\usepackage{amssymb} \\usepackage{amsbsy} \\usepackage{mathrsfs} \\usepackage{upgreek} \\setlength{\\oddsidemargin}{-69pt} \\begin{document}$$ W_{i} \\equiv \\frac{{\\partial W}} {{\\partial I_{i} }},\\quad W_{{ij}} \\equiv \\frac{{\\partial ^{2} W}} {{\\partial I_{i} \\partial I_{j} }},\\quad i,j = 1,2. $$ \\end{document} Together, Eqs. 4–15 allow one to compute the indentation force–depth relation for an incompressible, initially isotropic material that is first stretched equibiaxially (note: this stretch induces an anisotropy relative to the original reference configuration). \n",
      "For an equibiaxial stretch, however, the results for the in-plane components C11 and C22 are the same and it is easy to show that:22\\documentclass[12pt]{minimal} \\usepackage{amsmath} \\usepackage{wasysym} \\usepackage{amsfonts} \\usepackage{amssymb} \\usepackage{amsbsy} \\usepackage{mathrsfs} \\usepackage{upgreek} \\setlength{\\oddsidemargin}{-69pt} \\begin{document}$$ \\begin{array}{*{20}c} {W_{1} = \\frac{1} {{C_{{11}} - C_{{33}} }}{\\left( {{\\left( {C_{{11}} + C_{{22}} } \\right)}\\frac{{\\partial W}} {{\\partial C_{{11}} }} - {\\left( {C_{{22}} + C_{{33}} } \\right)}\\frac{{\\partial W}} {{\\partial C_{{33}} }}} \\right)}} \\\\ { = \\frac{1} {{\\mu ^{2} - \\lambda ^{2} }}{\\left( {2\\mu ^{2} \\frac{{\\partial W}} {{\\partial C_{{11}} }} - {\\left( {\\mu ^{2} + \\lambda ^{2} } \\right)}\\frac{{\\partial W}} {{\\partial C_{{33}} }}} \\right)}} \\\\ \\end{array} $$ \\end{document}23\\documentclass[12pt]{minimal} \\usepackage{amsmath} \\usepackage{wasysym} \\usepackage{amsfonts} \\usepackage{amssymb} \\usepackage{amsbsy} \\usepackage{mathrsfs} \\usepackage{upgreek} \\setlength{\\oddsidemargin}{-69pt} \\begin{document}$$ \\begin{array}{*{20}c} {W_{2} = \\frac{1} {{C_{{33}} - C_{{11}} }}{\\left( {\\frac{{\\partial W}} {{\\partial C_{{11}} }} - \\frac{{\\partial W}} {{\\partial C_{{33}} }}} \\right)}} \\\\ { = \\frac{1} {{\\lambda ^{2} - \\mu ^{2} }}{\\left( {\\frac{{\\partial W}} {{\\partial C_{{11}} }} - \\frac{{\\partial W}} {{\\partial C_{{33}} }}} \\right)}} \\\\ \\end{array} $$ \\end{document} Next, let \\documentclass[12pt]{minimal} \\usepackage{amsmath} \\usepackage{wasysym} \\usepackage{amsfonts} \\usepackage{amssymb} \\usepackage{amsbsy} \\usepackage{mathrsfs} \\usepackage{upgreek} \\setlength{\\oddsidemargin}{-69pt} \\begin{document}$$ W_{1} = \\ifmmode\\expandafter\\hat\\else\\expandafter\\^\\fi{g}{\\left( {C_{{11}} ,C_{{22}} ,C_{{33}} } \\right)}\\;and\\;W_{2} = \\ifmmode\\expandafter\\tilde\\else\\expandafter\\~\\fi{g}{\\left( {C_{{11}} ,C_{{22}} ,C_{{33}} } \\right)} $$ \\end{document} and consider the following derivatives: 24\\documentclass[12pt]{minimal} \\usepackage{amsmath} \\usepackage{wasysym} \\usepackage{amsfonts} \\usepackage{amssymb} \\usepackage{amsbsy} \\usepackage{mathrsfs} \\usepackage{upgreek} \\setlength{\\oddsidemargin}{-69pt} \\begin{document}$$ \\begin{aligned} & \\frac{{\\partial \\ifmmode\\expandafter\\hat\\else\\expandafter\\^\\fi{g}}} {{\\partial C_{{MN}} }} = \\frac{{\\partial \\ifmmode\\expandafter\\hat\\else\\expandafter\\^\\fi{g}}} {{\\partial I_{1} }}\\frac{{\\partial I_{1} }} {{\\partial C_{{MN}} }} + \\frac{{\\partial \\ifmmode\\expandafter\\hat\\else\\expandafter\\^\\fi{g}}} {{\\partial I_{2} }}\\frac{{\\partial I_{2} }} {{\\partial C_{{MN}} }}\\;{\\text{and}}\\; \\\\ & \\frac{{\\partial \\ifmmode\\expandafter\\tilde\\else\\expandafter\\~\\fi{g}}} {{\\partial C_{{MN}} }} = \\frac{{\\partial \\ifmmode\\expandafter\\tilde\\else\\expandafter\\~\\fi{g}}} {{\\partial I_{1} }}\\frac{{\\partial I_{1} }} {{\\partial C_{{MN}} }} + \\frac{{\\partial \\ifmmode\\expandafter\\tilde\\else\\expandafter\\~\\fi{g}}} {{\\partial I_{2} }}\\frac{{\\partial I_{2} }} {{\\partial C_{{MN}} }} \\\\ \\end{aligned} $$ \\end{document} which provide six equations in terms of the four “unknown” second derivatives of W with respect to the invariants, which we denote by Wij=Wji (see Eq. 15). \n"
     ]
    },
    {
     "name": "stderr",
     "output_type": "stream",
     "text": [
      " 50%|█████     | 5001/10000 [28:17<36:35,  2.28it/s]  "
     ]
    },
    {
     "name": "stdout",
     "output_type": "stream",
     "text": [
      "#M17 chr21/22 \n"
     ]
    },
    {
     "name": "stderr",
     "output_type": "stream",
     "text": [
      " 69%|██████▉   | 6922/10000 [43:18<19:15,  2.66it/s]  "
     ]
    },
    {
     "name": "stdout",
     "output_type": "stream",
     "text": [
      "The following additional data are provided with the online version of this article: A spot map for the array design (Additional data file 1); a fasta file containing the EST sequences used for the array (Additional data file 2); an Excel file containing expression values for the 780 selected ESTs (Additional data file 3); an Excel file containing expression values for the 5205 ESTs filtered with ANOVA (Additional data file 4); GenePix result files containing raw data (Additional data file 5); images showing the distribution of gene ontology (Additional data file 6); a table listing relevant proteins (Additional data file 7); a fasta file containing sequences of the relevant proteins (Additional data file 8); a pdf file containing real-time RT-PCR data (Additional data file 9); a table including statistical analysis of independent experiments (Additional data file 10); figure showing a comparison with GeneAtlas (Additional data file 11); a table including expression levels from the present study and GeneAtlas (Additional data file 12); figure showing a comparison with the data set reported by Soukas and coworkers [8]Additional data file 13); figure showing a comparison with the data set reported by Ross and coworkers [9] (Additional data file 14); figure showing a comparison with the data set reported by Burton and coworkers [12] (Additional data file 15); a table including ESTs unique to the present study (Additional data file 16); a figure showing genes with miRNA motifs in 3'-UTR (Additional data file 17); a figure illustrating the significant over-representation of miRNA motifs in the 3'-UTR of genes in each cluster (Additional data file 18); figures showing the significant over-representation of miRNA motifs in the 3'-UTR from genes in each cluster (Additional data files 19, 20, 21, 22, 23, 24, 25, 26, 27, 28, 29); a table including over-represented miRNA motifs in the 3'-UTR from genes in the set of 780 selected ESTs (Additional data file 30); text describing regulation of metabolic pathways (Additional data file 31); figure showing regulation of metabolic pathways by key points (Additional data file 32); figure showing the cellular localization of gene products involved in metabolism and their gene expression at different time points (Additional data file 33); figure showing the cellular localization of gene products involved in other biological processes and their gene expression at different time points (Additional data file 30); text describing signaling networks (Additional data file 35); text file describing extracellular matrix remodeling and cytoskeleton reorganization (Additional data file 36); figure showing cell cycle processes (Additional data file 37); figure showing the cholesterol pathway (Additional data file 38); a list of experimental verified binding site for PPAR:RXR and the derived position weight matrix (Additional data file 39); text file containing TRANSFAC matrices for vertebrates (Additional data file 40); a file showing the promoter sequences in fasta format (Additional data file 41); figure showing cluster-wise mapping of 780 ESTs to all chromosomes (Additional data file 42); figure showing expression of colocalized ESTs for each cluster (Additional data file 43); an Excel file showing a statistical analysis of colocalized ESTs for 780 selected ESTs (Additional data file 44); and an Excel file showing a statistical analysis of colocalized ESTs for 5,502 ANOVA selected ESTs (Additional data file 45). \n"
     ]
    },
    {
     "name": "stderr",
     "output_type": "stream",
     "text": [
      " 72%|███████▏  | 7171/10000 [45:47<15:53,  2.97it/s]  "
     ]
    },
    {
     "name": "stdout",
     "output_type": "stream",
     "text": [
      "#CD4 levels of patients with and without identifiable pathogens in patients of diarrhea were compared \n"
     ]
    },
    {
     "name": "stderr",
     "output_type": "stream",
     "text": [
      " 80%|████████  | 8021/10000 [51:32<11:32,  2.86it/s]  "
     ]
    },
    {
     "name": "stdout",
     "output_type": "stream",
     "text": [
      "VG=V(∑rarxr)+2Cov(∑rarxr,∑r<sbrsxrxs)+V(∑r<sbrsxrxs)=∑rar2pr(1−pr)+2∑r<sarasDrs+2∑r<s[arbrs(1−2pr)Drs+asbrs(1−2ps)Drs]+2∑r<s<t(arbst+asbrt+atbrs)Drst+∑r<sbrs2[(1−2pr)(1−2ps)Drs+pr(1−pr)ps(1−ps)−Drs2]+2∑r<s<t{brsbrt[(1−2pr)Drst−pr(1−pr)Dst−DrsDrt]+brsbst[(1−2ps)Drst+ps(1−ps)Drt−DrsDst]+brtbst[(1−2pt)Drst+pt(1−pt)Drs−DrtDst]}+2∑r<s<t<u[brtbsu(Drstu−DrtDsu)+brubst(Drstu−DruDst)+brsbtu(Drstu−DrsDtu)]     (11) MathType@MTEF@5@5@+=feaafiart1ev1aaatCvAUfKttLearuWrP9MDH5MBPbIqV92AaeXatLxBI9gBaebbnrfifHhDYfgasaacH8akY=wiFfYdH8Gipec8Eeeu0xXdbba9frFj0=OqFfea0dXdd9vqai=hGuQ8kuc9pgc9s8qqaq=dirpe0xb9q8qiLsFr0=vr0=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@32E1@ \n",
      "a1=E[G−μ)w1]/E(w12)=2(G1...−G....)d1=E[(G−μ)v1]/E(v21)=(−2)(G1.1.−2G1...+G....)a2=2(G.1..−G....)d2=(−2)(G.1.1−2G.1..+G....)(aa)12=E[(G−μ)w1w2]/E(w12w22)=4(G..11−G1...−G.1..+G....(ad)12=E[(G−μ)w1v2]/E(w12v22)=(−4)(G11.1−2G11..−G.1.1+G1...+2G.1..−G....)(da)12=E[(G−μ)v1w2]/E(v12w22)=(−4)(G111.−2G11..−G1.1.+G.1..+2G1...−G....)(dd)12=E[(G−μ)v1v2]/E(v12v22)=4(G1111−2G111.−2G11.1+G1.1.+G.1.1+4G11..−2G1...−2G.1..+G....) MathType@MTEF@5@5@+=feaafiart1ev1aaatCvAUfKttLearuWrP9MDH5MBPbIqV92AaeXatLxBI9gBaebbnrfifHhDYfgasaacH8akY=wiFfYdH8Gipec8Eeeu0xXdbba9frFj0=OqFfea0dXdd9vqai=hGuQ8kuc9pgc9s8qqaq=dirpe0xb9q8qiLsFr0=vr0=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X7aTjabcMcaPiabdAha2naaBaaaleaacqaIXaqmaeqaaOGaem4DaC3aaSbaaSqaaiabikdaYaqabaGccqGGDbqxcqGGVaWlcqWGfbqrcqGGOaakcqWG2bGDdaqhaaWcbaGaeGymaedabaGaeGOmaidaaOGaem4DaC3aa0baaSqaaiabikdaYaqaaiabikdaYaaakiabcMcaPaqaaiabg2da9iabcIcaOiabgkHiTiabisda0iabcMcaPiabcIcaOiabdEeahnaaDaaaleaacqaIXaqmcqaIXaqmaeaacqaIXaqmcqGGUaGlaaGccqGHsislcqaIYaGmcqWGhbWrdaqhaaWcbaGaeGymaeJaeGymaedabaGaeiOla4IaeiOla4caaOGaeyOeI0Iaem4raC0aa0baaSqaaiabigdaXiabc6caUaqaaiabigdaXiabc6caUaaakiabgUcaRiabdEeahnaaDaaaleaacqGGUaGlcqaIXaqmaeaacqGGUaGlcqGGUaGlaaGccqGHRaWkcqaIYaGmcqWGhbWrdaqhaaWcbaGaeGymaeJaeiOla4cabaGaeiOla4IaeiOla4caaOGaeyOeI0Iaem4raC0aa0baaSqaaiabc6caUiabc6caUaqaaiabc6caUiabc6caUaaakiabcMcaPaqaaiabcIcaOiabdsgaKjabdsgaKjabcMcaPmaaBaaaleaacqaIXaqmcqaIYaGmaeqaaOGaeyypa0JaemyrauKaei4waSLaeiikaGIaem4raCKaeyOeI0Iae8hVd0MaeiykaKIaemODay3aaSbaaSqaaiabigdaXaqabaGccqWG2bGDdaWgaaWcbaGaeGOmaidabeaakiabc2faDjabc+caViabdweafjabcIcaOiabdAha2naaDaaaleaacqaIXaqmaeaacqaIYaGmaaGccqWG2bGDdaqhaaWcbaGaeGOmaidabaGaeGOmaidaaOGaeiykaKcabaGaeyypa0JaeGinaqJaeiikaGIaem4raC0aa0baaSqaaiabigdaXiabigdaXaqaaiabigdaXiabigdaXaaakiabgkHiTiabikdaYiabdEeahnaaDaaaleaacqaIXaqmcqaIXaqmaeaacqaIXaqmcqGGUaGlaaGccqGHsislcqaIYaGmcqWGhbWrdaqhaaWcbaGaeGymaeJaeGymaedabaGaeiOla4IaeGymaedaaOGaey4kaSIaem4raC0aa0baaSqaaiabigdaXiabc6caUaqaaiabigdaXiabc6caUaaakiabgUcaRiabdEeahnaaDaaaleaacqGGUaGlcqaIXaqmaeaacqGGUaGlcqaIXaqmaaGccqGHRaWkcqaI0aancqWGhbWrdaqhaaWcbaGaeGymaeJaeGymaedabaGaeiOla4IaeiOla4caaaGcbaGaaCzcaiabgkHiTiabikdaYiabdEeahnaaDaaaleaacqaIXaqmcqGGUaGlaeaacqGGUaGlcqGGUaGlaaGccqGHsislcqaIYaGmcqWGhbWrdaqhaaWcbaGaeiOla4IaeGymaedabaGaeiOla4IaeiOla4caaOGaey4kaSIaem4raC0aa0baaSqaaiabc6caUiabc6caUaqaaiabc6caUiabc6caUaaakiabcMcaPaaaaa@D683@ \n",
      "VAD=2∑r≠s(ad)rs2[(1−2ps)2Drs2+(1−2pr)(1−2ps)ps(1−ps)Drs+pr(1−pr)ps2(1−ps)2]+2∑r≠s(ad)rs(ad)srDrs[2(1−2pr)(1−2ps)Drs+pr(1−pr)ps(1−ps)]+2∑r≠s≠s'(ad)rs{(ad)rs'[Drss'2+(1−2pr)Drss'Dss'+pr(1−pr)Dss'2]+(ad)ss'[2(1−2ps)Drss'Dss'+ps(1−ps)Dss'Drs']+(ad)s'r[2(1−2pr)Drss'Drs+pr(1−pr)DrsDss']+(ad)s's[(1−2ps)2DrsDss'+(1−2ps)ps(1−ps)Drss'+ps2(1−ps)2Drs']}+2∑r≠s≠r'≠s'(ad)rs(ad)r's'(Drsr's'Dss'+Drss'Dsr's') MathType@MTEF@5@5@+=feaafiart1ev1aaatCvAUfKttLearuWrP9MDH5MBPbIqV92AaeXatLxBI9gBaebbfv3ySLgzGueE0jxyaibaieYdOi=BH8vipeYdI8qiW7rqqrFfpeea0xe9Lq=Jc9vqaqpepm0xbbG8FasPYRqj0=yi0lXdbba9pGe9qqFf0dXdHuk9fr=xfr=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@07AE@ \n"
     ]
    },
    {
     "name": "stderr",
     "output_type": "stream",
     "text": [
      " 84%|████████▍ | 8417/10000 [54:20<20:55,  1.26it/s]  "
     ]
    },
    {
     "name": "stdout",
     "output_type": "stream",
     "text": [
      "# (CD44+ /CD8+) \n",
      "# (CD25+ /CD4+) \n",
      "# (CD44+ /CD4+) \n"
     ]
    },
    {
     "name": "stderr",
     "output_type": "stream",
     "text": [
      " 86%|████████▌ | 8572/10000 [56:01<05:20,  4.46it/s]  "
     ]
    },
    {
     "name": "stdout",
     "output_type": "stream",
     "text": [
      "# hash tables (lookups) \n",
      "# entries per hash table \n"
     ]
    },
    {
     "name": "stderr",
     "output_type": "stream",
     "text": [
      " 98%|█████████▊| 9758/10000 [57:02<01:47,  2.26it/s] "
     ]
    },
    {
     "name": "stdout",
     "output_type": "stream",
     "text": [
      "# AMD 5  \n"
     ]
    },
    {
     "name": "stderr",
     "output_type": "stream",
     "text": [
      "100%|██████████| 10000/10000 [57:26<00:00,  2.90it/s]\n",
      "  6%|▌         | 555/10000 [05:01<1:36:24,  1.63it/s]"
     ]
    },
    {
     "ename": "KeyboardInterrupt",
     "evalue": "",
     "output_type": "error",
     "traceback": [
      "\u001b[0;31m---------------------------------------------------------------------------\u001b[0m",
      "\u001b[0;31mKeyboardInterrupt\u001b[0m                         Traceback (most recent call last)",
      "\u001b[0;32m<ipython-input-7-8e0a972d430b>\u001b[0m in \u001b[0;36m<module>\u001b[0;34m\u001b[0m\n\u001b[1;32m      7\u001b[0m         \u001b[0mGP_dict_sentences\u001b[0m \u001b[0;34m=\u001b[0m \u001b[0mGP_soup\u001b[0m\u001b[0;34m(\u001b[0m\u001b[0msoup\u001b[0m\u001b[0;34m)\u001b[0m\u001b[0;34m\u001b[0m\u001b[0;34m\u001b[0m\u001b[0m\n\u001b[1;32m      8\u001b[0m         \u001b[0;32mif\u001b[0m \u001b[0mGP_dict_sentences\u001b[0m\u001b[0;34m:\u001b[0m\u001b[0;34m\u001b[0m\u001b[0;34m\u001b[0m\u001b[0m\n\u001b[0;32m----> 9\u001b[0;31m             \u001b[0munique_fps\u001b[0m \u001b[0;34m=\u001b[0m \u001b[0mget_unique_fp_tags\u001b[0m\u001b[0;34m(\u001b[0m\u001b[0mGP_dict_sentences\u001b[0m\u001b[0;34m)\u001b[0m\u001b[0;34m\u001b[0m\u001b[0;34m\u001b[0m\u001b[0m\n\u001b[0m\u001b[1;32m     10\u001b[0m \u001b[0;34m\u001b[0m\u001b[0m\n\u001b[1;32m     11\u001b[0m             \u001b[0;32mfor\u001b[0m \u001b[0meach_fp\u001b[0m \u001b[0;32min\u001b[0m \u001b[0munique_fps\u001b[0m\u001b[0;34m:\u001b[0m\u001b[0;34m\u001b[0m\u001b[0;34m\u001b[0m\u001b[0m\n",
      "\u001b[0;32m<ipython-input-6-359671e9bc3e>\u001b[0m in \u001b[0;36mget_unique_fp_tags\u001b[0;34m(GP_dict_sentences)\u001b[0m\n\u001b[1;32m      8\u001b[0m \u001b[0;34m\u001b[0m\u001b[0m\n\u001b[1;32m      9\u001b[0m     \u001b[0;32mfor\u001b[0m \u001b[0meach_uniprot_sentence\u001b[0m\u001b[0;34m,\u001b[0m \u001b[0mz_tags\u001b[0m \u001b[0;32min\u001b[0m \u001b[0mGP_dict_sentences\u001b[0m\u001b[0;34m.\u001b[0m\u001b[0mitems\u001b[0m\u001b[0;34m(\u001b[0m\u001b[0;34m)\u001b[0m\u001b[0;34m:\u001b[0m\u001b[0;34m\u001b[0m\u001b[0;34m\u001b[0m\u001b[0m\n\u001b[0;32m---> 10\u001b[0;31m         \u001b[0mr\u001b[0m \u001b[0;34m=\u001b[0m \u001b[0mrequests\u001b[0m\u001b[0;34m.\u001b[0m\u001b[0mget\u001b[0m\u001b[0;34m(\u001b[0m\u001b[0murl\u001b[0m\u001b[0;34m+\u001b[0m\u001b[0meach_uniprot_sentence\u001b[0m\u001b[0;34m)\u001b[0m\u001b[0;34m\u001b[0m\u001b[0;34m\u001b[0m\u001b[0m\n\u001b[0m\u001b[1;32m     11\u001b[0m         \u001b[0;32mif\u001b[0m \u001b[0mr\u001b[0m\u001b[0;34m.\u001b[0m\u001b[0mstatus_code\u001b[0m \u001b[0;34m==\u001b[0m \u001b[0;36m200\u001b[0m \u001b[0;32mand\u001b[0m \u001b[0mr\u001b[0m\u001b[0;34m.\u001b[0m\u001b[0mjson\u001b[0m\u001b[0;34m(\u001b[0m\u001b[0;34m)\u001b[0m\u001b[0;34m[\u001b[0m\u001b[0;34m'status'\u001b[0m\u001b[0;34m]\u001b[0m\u001b[0;34m==\u001b[0m\u001b[0;36m200\u001b[0m\u001b[0;34m:\u001b[0m\u001b[0;34m\u001b[0m\u001b[0;34m\u001b[0m\u001b[0m\n\u001b[1;32m     12\u001b[0m             \u001b[0mFPs\u001b[0m \u001b[0;34m=\u001b[0m \u001b[0mcompare_with_ml_annotations\u001b[0m\u001b[0;34m(\u001b[0m\u001b[0mr\u001b[0m\u001b[0;34m,\u001b[0m \u001b[0mz_tags\u001b[0m\u001b[0;34m,\u001b[0m\u001b[0mr\u001b[0m\u001b[0;34m.\u001b[0m\u001b[0mjson\u001b[0m\u001b[0;34m(\u001b[0m\u001b[0;34m)\u001b[0m\u001b[0;34m)\u001b[0m\u001b[0;34m\u001b[0m\u001b[0;34m\u001b[0m\u001b[0m\n",
      "\u001b[0;32m~/anaconda3/envs/scispacy/lib/python3.6/site-packages/requests/api.py\u001b[0m in \u001b[0;36mget\u001b[0;34m(url, params, **kwargs)\u001b[0m\n\u001b[1;32m     73\u001b[0m \u001b[0;34m\u001b[0m\u001b[0m\n\u001b[1;32m     74\u001b[0m     \u001b[0mkwargs\u001b[0m\u001b[0;34m.\u001b[0m\u001b[0msetdefault\u001b[0m\u001b[0;34m(\u001b[0m\u001b[0;34m'allow_redirects'\u001b[0m\u001b[0;34m,\u001b[0m \u001b[0;32mTrue\u001b[0m\u001b[0;34m)\u001b[0m\u001b[0;34m\u001b[0m\u001b[0;34m\u001b[0m\u001b[0m\n\u001b[0;32m---> 75\u001b[0;31m     \u001b[0;32mreturn\u001b[0m \u001b[0mrequest\u001b[0m\u001b[0;34m(\u001b[0m\u001b[0;34m'get'\u001b[0m\u001b[0;34m,\u001b[0m \u001b[0murl\u001b[0m\u001b[0;34m,\u001b[0m \u001b[0mparams\u001b[0m\u001b[0;34m=\u001b[0m\u001b[0mparams\u001b[0m\u001b[0;34m,\u001b[0m \u001b[0;34m**\u001b[0m\u001b[0mkwargs\u001b[0m\u001b[0;34m)\u001b[0m\u001b[0;34m\u001b[0m\u001b[0;34m\u001b[0m\u001b[0m\n\u001b[0m\u001b[1;32m     76\u001b[0m \u001b[0;34m\u001b[0m\u001b[0m\n\u001b[1;32m     77\u001b[0m \u001b[0;34m\u001b[0m\u001b[0m\n",
      "\u001b[0;32m~/anaconda3/envs/scispacy/lib/python3.6/site-packages/requests/api.py\u001b[0m in \u001b[0;36mrequest\u001b[0;34m(method, url, **kwargs)\u001b[0m\n\u001b[1;32m     58\u001b[0m     \u001b[0;31m# cases, and look like a memory leak in others.\u001b[0m\u001b[0;34m\u001b[0m\u001b[0;34m\u001b[0m\u001b[0;34m\u001b[0m\u001b[0m\n\u001b[1;32m     59\u001b[0m     \u001b[0;32mwith\u001b[0m \u001b[0msessions\u001b[0m\u001b[0;34m.\u001b[0m\u001b[0mSession\u001b[0m\u001b[0;34m(\u001b[0m\u001b[0;34m)\u001b[0m \u001b[0;32mas\u001b[0m \u001b[0msession\u001b[0m\u001b[0;34m:\u001b[0m\u001b[0;34m\u001b[0m\u001b[0;34m\u001b[0m\u001b[0m\n\u001b[0;32m---> 60\u001b[0;31m         \u001b[0;32mreturn\u001b[0m \u001b[0msession\u001b[0m\u001b[0;34m.\u001b[0m\u001b[0mrequest\u001b[0m\u001b[0;34m(\u001b[0m\u001b[0mmethod\u001b[0m\u001b[0;34m=\u001b[0m\u001b[0mmethod\u001b[0m\u001b[0;34m,\u001b[0m \u001b[0murl\u001b[0m\u001b[0;34m=\u001b[0m\u001b[0murl\u001b[0m\u001b[0;34m,\u001b[0m \u001b[0;34m**\u001b[0m\u001b[0mkwargs\u001b[0m\u001b[0;34m)\u001b[0m\u001b[0;34m\u001b[0m\u001b[0;34m\u001b[0m\u001b[0m\n\u001b[0m\u001b[1;32m     61\u001b[0m \u001b[0;34m\u001b[0m\u001b[0m\n\u001b[1;32m     62\u001b[0m \u001b[0;34m\u001b[0m\u001b[0m\n",
      "\u001b[0;32m~/anaconda3/envs/scispacy/lib/python3.6/site-packages/requests/sessions.py\u001b[0m in \u001b[0;36mrequest\u001b[0;34m(self, method, url, params, data, headers, cookies, files, auth, timeout, allow_redirects, proxies, hooks, stream, verify, cert, json)\u001b[0m\n\u001b[1;32m    517\u001b[0m             \u001b[0mhooks\u001b[0m\u001b[0;34m=\u001b[0m\u001b[0mhooks\u001b[0m\u001b[0;34m,\u001b[0m\u001b[0;34m\u001b[0m\u001b[0;34m\u001b[0m\u001b[0m\n\u001b[1;32m    518\u001b[0m         )\n\u001b[0;32m--> 519\u001b[0;31m         \u001b[0mprep\u001b[0m \u001b[0;34m=\u001b[0m \u001b[0mself\u001b[0m\u001b[0;34m.\u001b[0m\u001b[0mprepare_request\u001b[0m\u001b[0;34m(\u001b[0m\u001b[0mreq\u001b[0m\u001b[0;34m)\u001b[0m\u001b[0;34m\u001b[0m\u001b[0;34m\u001b[0m\u001b[0m\n\u001b[0m\u001b[1;32m    520\u001b[0m \u001b[0;34m\u001b[0m\u001b[0m\n\u001b[1;32m    521\u001b[0m         \u001b[0mproxies\u001b[0m \u001b[0;34m=\u001b[0m \u001b[0mproxies\u001b[0m \u001b[0;32mor\u001b[0m \u001b[0;34m{\u001b[0m\u001b[0;34m}\u001b[0m\u001b[0;34m\u001b[0m\u001b[0;34m\u001b[0m\u001b[0m\n",
      "\u001b[0;32m~/anaconda3/envs/scispacy/lib/python3.6/site-packages/requests/sessions.py\u001b[0m in \u001b[0;36mprepare_request\u001b[0;34m(self, request)\u001b[0m\n\u001b[1;32m    447\u001b[0m         \u001b[0mauth\u001b[0m \u001b[0;34m=\u001b[0m \u001b[0mrequest\u001b[0m\u001b[0;34m.\u001b[0m\u001b[0mauth\u001b[0m\u001b[0;34m\u001b[0m\u001b[0;34m\u001b[0m\u001b[0m\n\u001b[1;32m    448\u001b[0m         \u001b[0;32mif\u001b[0m \u001b[0mself\u001b[0m\u001b[0;34m.\u001b[0m\u001b[0mtrust_env\u001b[0m \u001b[0;32mand\u001b[0m \u001b[0;32mnot\u001b[0m \u001b[0mauth\u001b[0m \u001b[0;32mand\u001b[0m \u001b[0;32mnot\u001b[0m \u001b[0mself\u001b[0m\u001b[0;34m.\u001b[0m\u001b[0mauth\u001b[0m\u001b[0;34m:\u001b[0m\u001b[0;34m\u001b[0m\u001b[0;34m\u001b[0m\u001b[0m\n\u001b[0;32m--> 449\u001b[0;31m             \u001b[0mauth\u001b[0m \u001b[0;34m=\u001b[0m \u001b[0mget_netrc_auth\u001b[0m\u001b[0;34m(\u001b[0m\u001b[0mrequest\u001b[0m\u001b[0;34m.\u001b[0m\u001b[0murl\u001b[0m\u001b[0;34m)\u001b[0m\u001b[0;34m\u001b[0m\u001b[0;34m\u001b[0m\u001b[0m\n\u001b[0m\u001b[1;32m    450\u001b[0m \u001b[0;34m\u001b[0m\u001b[0m\n\u001b[1;32m    451\u001b[0m         \u001b[0mp\u001b[0m \u001b[0;34m=\u001b[0m \u001b[0mPreparedRequest\u001b[0m\u001b[0;34m(\u001b[0m\u001b[0;34m)\u001b[0m\u001b[0;34m\u001b[0m\u001b[0;34m\u001b[0m\u001b[0m\n",
      "\u001b[0;32m~/anaconda3/envs/scispacy/lib/python3.6/site-packages/requests/utils.py\u001b[0m in \u001b[0;36mget_netrc_auth\u001b[0;34m(url, raise_errors)\u001b[0m\n\u001b[1;32m    183\u001b[0m                 \u001b[0;32mreturn\u001b[0m\u001b[0;34m\u001b[0m\u001b[0;34m\u001b[0m\u001b[0m\n\u001b[1;32m    184\u001b[0m \u001b[0;34m\u001b[0m\u001b[0m\n\u001b[0;32m--> 185\u001b[0;31m             \u001b[0;32mif\u001b[0m \u001b[0mos\u001b[0m\u001b[0;34m.\u001b[0m\u001b[0mpath\u001b[0m\u001b[0;34m.\u001b[0m\u001b[0mexists\u001b[0m\u001b[0;34m(\u001b[0m\u001b[0mloc\u001b[0m\u001b[0;34m)\u001b[0m\u001b[0;34m:\u001b[0m\u001b[0;34m\u001b[0m\u001b[0;34m\u001b[0m\u001b[0m\n\u001b[0m\u001b[1;32m    186\u001b[0m                 \u001b[0mnetrc_path\u001b[0m \u001b[0;34m=\u001b[0m \u001b[0mloc\u001b[0m\u001b[0;34m\u001b[0m\u001b[0;34m\u001b[0m\u001b[0m\n\u001b[1;32m    187\u001b[0m                 \u001b[0;32mbreak\u001b[0m\u001b[0;34m\u001b[0m\u001b[0;34m\u001b[0m\u001b[0m\n",
      "\u001b[0;31mKeyboardInterrupt\u001b[0m: "
     ]
    }
   ],
   "source": [
    "path_new = '/nfs/misc/literature/Santosh_Tirunagari/OTAR_dumps/FP_removed/'\n",
    "# for each_file_content in subFileBlocks:\n",
    "for each_file_path in all_files:\n",
    "    ss = getfileblocks(each_file_path)\n",
    "    for each_article in tqdm(ss):\n",
    "        soup = BeautifulSoup(each_article, 'lxml')\n",
    "        GP_dict_sentences = GP_soup(soup)\n",
    "        if GP_dict_sentences:\n",
    "            unique_fps = get_unique_fp_tags(GP_dict_sentences)\n",
    "\n",
    "            for each_fp in unique_fps:\n",
    "                for tag in soup.findAll('z:uniprot', attrs={'ids':each_fp['ids']}):\n",
    "                    tag.unwrap()\n",
    "\n",
    "            new_file_content = str(soup).replace('<!DOCTYPE >\\n<html><body><p>JATS-archivearticle1.dtd\"&gt;','<!DOCTYPE \"JATS-archivearticle1.dtd\">').replace('</p></body></html>','')\n",
    "\n",
    "            with open(path_new+'edited_'+each_file_path.split('/')[-1], 'at') as f:\n",
    "                f.write(new_file_content)\n",
    "\n"
   ]
  },
  {
   "cell_type": "code",
   "execution_count": null,
   "metadata": {},
   "outputs": [],
   "source": [
    "# offset = 25\n",
    "\n",
    "# start_index = key_fp.find(value_fp[0][0].text)\n",
    "# end_index = start_index+len(value_fp[0][0].text)\n",
    "\n",
    "# key_fp[start_index:end_index]\n",
    "\n",
    "# exact = value_fp[0][0].text\n",
    "# prefix = key_fp[max(0,start_index-offset):start_index-1]\n",
    "# postfix = key_fp[end_index+1:end_index+offset]\n",
    "            \n",
    "# [prefix, exact, postfix]      \n",
    "\n",
    "# # make sure the index starts from 0, if the start_index-offset<0, set it 0\n",
    "# # the total offset incuding prefix and posfix is 50\n",
    "# \n",
    "\n",
    "# value_fp[0][0].attrs['ids'].split(',')[0]\n",
    "# normalisation = 'http://purl.uniprot.org/uniprot/'+value_fp[0][0].attrs['ids'].split(',')[0]\n",
    "# normalisation"
   ]
  }
 ],
 "metadata": {
  "kernelspec": {
   "display_name": "scispcacy",
   "language": "python",
   "name": "scispcacy"
  },
  "language_info": {
   "codemirror_mode": {
    "name": "ipython",
    "version": 3
   },
   "file_extension": ".py",
   "mimetype": "text/x-python",
   "name": "python",
   "nbconvert_exporter": "python",
   "pygments_lexer": "ipython3",
   "version": "3.6.9"
  }
 },
 "nbformat": 4,
 "nbformat_minor": 2
}
