{
 "cells": [
  {
   "cell_type": "code",
   "execution_count": 19,
   "metadata": {},
   "outputs": [],
   "source": [
    "import os\n",
    "import pandas as pd\n",
    "import glob\n",
    "import json\n",
    "import csv\n"
   ]
  },
  {
   "cell_type": "code",
   "execution_count": 20,
   "metadata": {},
   "outputs": [],
   "source": [
    "def convert_to_required_format(dataframe):\n",
    "    \n",
    "#     real_tags = list(set(dataframe['Tag'].tolist())-set('O'))\n",
    "#     converted_tags = ['I-ChemD', 'I-ChemD', 'B-ChemD', 'B-ChemD', 'B-ChemD', 'B-ChemD', 'I-ChemD','I-ChemD','I-ChemD','I-ChemD', 'B-ChemD', 'B-ChemD', 'I-ChemD', 'B-ChemD', 'I-ChemD', 'B-ChemD']\n",
    "\n",
    "#     rename_tags = dict(zip(real_tags,converted_tags))\n",
    "\n",
    "#     dataframe['Tag'] = dataframe['Tag'].replace(rename_tags, regex=True)\n",
    "    \n",
    "    dataframe['Sentence_Index'] = dataframe['Sentence_Index'].apply(str)\n",
    "    dataframe[\"id\"] = dataframe[\"PMID_Type\"] + dataframe[\"Sentence_Index\"]\n",
    "    dataframe = dataframe[['id', 'Token', 'Tag']]\n",
    "    final_df = dataframe.groupby('id').agg(lambda x: list(x))\n",
    "    \n",
    "    return final_df.reset_index()"
   ]
  },
  {
   "cell_type": "code",
   "execution_count": 21,
   "metadata": {},
   "outputs": [
    {
     "data": {
      "text/plain": [
       "['B-FORMULA',\n",
       " 'B-NO CLASS',\n",
       " 'I-FAMILY',\n",
       " 'B-ABBREVIATION',\n",
       " 'I-MULTIPLE',\n",
       " 'B-FAMILY',\n",
       " 'I-SYSTEMATIC',\n",
       " 'B-IDENTIFIER',\n",
       " 'B-TRIVIAL',\n",
       " 'I-ABBREVIATION',\n",
       " 'I-IDENTIFIER',\n",
       " 'I-NO CLASS',\n",
       " 'B-SYSTEMATIC',\n",
       " 'I-TRIVIAL',\n",
       " 'I-FORMULA',\n",
       " 'B-MULTIPLE']"
      ]
     },
     "execution_count": 21,
     "metadata": {},
     "output_type": "execute_result"
    }
   ],
   "source": [
    "xx = pd.read_csv('validation.csv')\n",
    "real_tags = list(set(xx['Tag'].tolist())-set('O'))\n",
    "real_tags"
   ]
  },
  {
   "cell_type": "code",
   "execution_count": 22,
   "metadata": {},
   "outputs": [],
   "source": [
    "unwanted_tags = ['ABBREVIATION','SYSTEMATIC', 'FORMULA', 'MULTIPLE', 'NO CLASS']\n",
    "wanted_tags = ['TRIVIAL', 'FAMILY', 'IDENTIFIER']"
   ]
  },
  {
   "cell_type": "code",
   "execution_count": 23,
   "metadata": {},
   "outputs": [],
   "source": [
    "dev_df = convert_to_required_format(pd.read_csv('validation.csv'))\n",
    "train_df = convert_to_required_format(pd.read_csv('training.csv'))\n",
    "test_df = convert_to_required_format(pd.read_csv('evaluation.csv'))"
   ]
  },
  {
   "cell_type": "code",
   "execution_count": 24,
   "metadata": {},
   "outputs": [],
   "source": [
    "# test_df['Sentence_Index'] = test_df['Sentence_Index'].apply(str)\n",
    "# test_df[\"id\"] = test_df[\"PMID_Type\"] + test_df[\"Sentence_Index\"]\n",
    "# final_list_ = test_df.groupby('id').agg(lambda x: list(x))\n",
    "# final_list = final_list_[['Token', 'Tag']]"
   ]
  },
  {
   "cell_type": "code",
   "execution_count": 25,
   "metadata": {},
   "outputs": [],
   "source": [
    "# token_tags = zip(final_df.iloc[1]['Token'], final_df.iloc[1]['Tag'])\n",
    "# for each_tt in token_tags:\n",
    "#     print(list(each_tt))"
   ]
  },
  {
   "cell_type": "code",
   "execution_count": 26,
   "metadata": {},
   "outputs": [],
   "source": [
    "with open('train.tsv','w') as f1:\n",
    "    writer=csv.writer(f1, delimiter='\\t',lineterminator='\\n',)\n",
    "    \n",
    "    for iter_a, row_a in train_df.iterrows():\n",
    "        token_tags = zip(row_a['Token'], row_a['Tag'])\n",
    "        for each_tt in token_tags:\n",
    "            temp = list(each_tt)\n",
    "            for each_tag in unwanted_tags:\n",
    "                if each_tag in temp[1]:\n",
    "                    temp[1] = 'O'\n",
    "            if 'B-' in temp[1]:\n",
    "                temp[1] = 'B-ChemD'\n",
    "            elif 'I-' in temp[1]:\n",
    "                temp[1] = 'I-ChemD'\n",
    "            writer.writerow([temp[0],temp[1]])\n",
    "        writer.writerow('')\n",
    "        \n",
    "        \n",
    "        \n",
    "        \n"
   ]
  },
  {
   "cell_type": "code",
   "execution_count": 27,
   "metadata": {},
   "outputs": [],
   "source": [
    "with open('dev.tsv','w') as f1:\n",
    "    writer=csv.writer(f1, delimiter='\\t',lineterminator='\\n',)\n",
    "    \n",
    "    for iter_a, row_a in dev_df.iterrows():\n",
    "        token_tags = zip(row_a['Token'], row_a['Tag'])\n",
    "        for each_tt in token_tags:\n",
    "            temp = list(each_tt)\n",
    "            for each_tag in unwanted_tags:\n",
    "                if each_tag in temp[1]:\n",
    "                    temp[1] = 'O'\n",
    "            if 'B-' in temp[1]:\n",
    "                temp[1] = 'B-ChemD'\n",
    "            elif 'I-' in temp[1]:\n",
    "                temp[1] = 'I-ChemD'\n",
    "            writer.writerow([temp[0],temp[1]])\n",
    "        writer.writerow('')\n",
    "        \n",
    "        \n",
    "        \n",
    "        \n"
   ]
  },
  {
   "cell_type": "code",
   "execution_count": 28,
   "metadata": {},
   "outputs": [],
   "source": [
    "with open('test.tsv','w') as f1:\n",
    "    writer=csv.writer(f1, delimiter='\\t',lineterminator='\\n',)\n",
    "    \n",
    "    for iter_a, row_a in test_df.iterrows():\n",
    "        token_tags = zip(row_a['Token'], row_a['Tag'])\n",
    "        for each_tt in token_tags:\n",
    "            temp = list(each_tt)\n",
    "            for each_tag in unwanted_tags:\n",
    "                if each_tag in temp[1]:\n",
    "                    temp[1] = 'O'\n",
    "            if 'B-' in temp[1]:\n",
    "                temp[1] = 'B-ChemD'\n",
    "            elif 'I-' in temp[1]:\n",
    "                temp[1] = 'I-ChemD'\n",
    "            writer.writerow([temp[0],temp[1]])\n",
    "        writer.writerow('')\n",
    "        \n",
    "        \n",
    "        \n",
    "        \n"
   ]
  },
  {
   "cell_type": "code",
   "execution_count": null,
   "metadata": {},
   "outputs": [],
   "source": []
  }
 ],
 "metadata": {
  "kernelspec": {
   "display_name": "Python 3",
   "language": "python",
   "name": "python3"
  },
  "language_info": {
   "codemirror_mode": {
    "name": "ipython",
    "version": 3
   },
   "file_extension": ".py",
   "mimetype": "text/x-python",
   "name": "python",
   "nbconvert_exporter": "python",
   "pygments_lexer": "ipython3",
   "version": "3.7.4"
  }
 },
 "nbformat": 4,
 "nbformat_minor": 2
}
