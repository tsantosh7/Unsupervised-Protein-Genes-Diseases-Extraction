{
 "cells": [
  {
   "cell_type": "code",
   "execution_count": 2,
   "metadata": {},
   "outputs": [
    {
     "name": "stdout",
     "output_type": "stream",
     "text": [
      "2019-12-17 10:03:59,534 loading file /nfs/gns/literature/Santosh_Tirunagari/GitHub/flair_models/ner/manual_annotated_dataset/best-model.pt\n"
     ]
    }
   ],
   "source": [
    "from nltk.tokenize import wordpunct_tokenize, WordPunctTokenizer\n",
    "from typing import List\n",
    "\n",
    "from flair.data import Sentence, Token\n",
    "from flair.models import SequenceTagger\n",
    "import re\n",
    "\n",
    "# sequence_model = SequenceTagger.load('/mnt/droplet/nfs/gns/literature/Santosh_Tirunagari/GitHub/flair_models/ner/multi_bio_ner_model/EBI/best-model.pt')\n",
    "flair_model = SequenceTagger.load('/nfs/gns/literature/Santosh_Tirunagari/GitHub/flair_models/ner/manual_annotated_dataset/best-model.pt')"
   ]
  },
  {
   "cell_type": "code",
   "execution_count": 3,
   "metadata": {},
   "outputs": [],
   "source": [
    "def custom_tokenizer(text: str) -> List[Token]:\n",
    "    \"\"\"\n",
    "    Tokenizer based on space character only.\n",
    "    \"\"\"\n",
    "    tokens: List[Token] = []\n",
    "\n",
    "    tokenizer = WordPunctTokenizer()\n",
    "\n",
    "    text = tokenizer.tokenize(text)\n",
    "\n",
    "    index = 0\n",
    "    for index, word in enumerate(text):\n",
    "        tokens.append(\n",
    "            Token(\n",
    "                text=word, start_position=index, whitespace_after=False\n",
    "            )\n",
    "        )\n",
    "\n",
    "    return tokens"
   ]
  },
  {
   "cell_type": "code",
   "execution_count": 4,
   "metadata": {},
   "outputs": [],
   "source": [
    "k_annos = ['ived and designed the experiments: AG DMK. ',\n",
    " 'Analyzed the data: AG DMK. ',\n",
    " 'Wrote the paper: AG DMK DRH. ',\n",
    " ' et al., 2010; Jäämaa et al., 2010, 2012)',\n",
    " ', Division of Statistics, Sri Lanka (php). ',\n",
    " 'lordimeform, thallium and DDT were banned. ',\n",
    " ' such a role in the keratin layers of snake ski',\n",
    " 'ntervals across the C1s, O1s, N1s, Cl2p, P2',\n",
    " ' in the spectrum of C1s and the P2s, in the',\n",
    " 'Namely, CS2 extraction did not decrease the',\n",
    " 'on using mesoporous SBA-15 as a template, a',\n",
    " 'where size-selected Ptn clusters deposited ',\n",
    " ' selectivity as the Ptn cluster size decrea',\n",
    " 'HClO4, KCN, CS2, starch solution (1% in H2O',\n",
    " 'd catalysts over Pt LIII-edge (11,570\\u2009eV) ',\n",
    " 'omically dispersed platinum catalyst. Nat. ',\n",
    " 's of k3-weighted Pt LIII-edge EXAFS, confirm',\n",
    " ', and tables are in APA format for convenie',\n",
    " 'hcal {H}_+: \\\\delta \\\\sim \\\\text {Cauchy}^+(0,',\n",
    " 'hcal {H}_+: \\\\delta \\\\sim \\\\text {Cauchy}^+(0,',\n",
    " 'unctionality of the BAS package (i.e., Baye',\n",
    " 'y OpenOffice), and .sav (i.e., the SPSS fil',\n",
    " 'k proteins, such as Hsp90 and GroEl, which ar',\n",
    " ', through the action of Dicer endonuclease [45-47]. ',\n",
    " ' with the aid of 1L-myo-inositol 1-phosphate synthase, archaetidylinosito',\n",
    " 'inositol phosphate (AIP) synthase and AIP-p',\n",
    " ' (AIP) synthase and AIP-phosphatase, archae',\n",
    " 'P) synthase and AIP-phosphatase, archaeal inositol ',\n",
    " ' can be formed from CDP-archaeol and D-gluc',\n",
    " 'via myo-inositol-1-phosphate and AIP [31]. ',\n",
    " 'TPL extracts contain both diether and tetra',\n",
    " 'ethanosarcina mazei TPL (0\\u2009wt% in caldarc',\n",
    " 'while those made of TPL from Methanobacteri',\n",
    " 'liposomes made with TPL from the archaeon M',\n",
    " 'archaeon M. smithii AL1 can be highly fusog',\n",
    " 'ic when exposed to low pH and α- and β-glucosidases. ',\n",
    " 'ipids in M. smithii TPL, which in turn caus',\n",
    " 'Since TPL of M. smithii AL1 contains a sign',\n",
    " 'e TPL of M. smithii AL1 contains a signific',\n",
    " 'bility coefficient (β T) and relative volum',\n",
    " 'ontra Costa, Marin, Napa, San Francisco, San',\n",
    " 'such a role in the keratin layers of snake ski',\n",
    " 'such a role in the keratin layers of snake ski']"
   ]
  },
  {
   "cell_type": "code",
   "execution_count": 6,
   "metadata": {},
   "outputs": [],
   "source": [
    "sentences = []\n",
    "for each_sentence in k_annos:\n",
    "    sentences.append(Sentence(each_sentence, use_tokenizer=custom_tokenizer))\n",
    "# print(sentence)\n",
    "# print(text_sentence)\n",
    "predicted_sentences = flair_model.predict(sentences,mini_batch_size=16)"
   ]
  },
  {
   "cell_type": "code",
   "execution_count": 14,
   "metadata": {},
   "outputs": [
    {
     "data": {
      "text/plain": [
       "[[],\n",
       " [],\n",
       " [],\n",
       " [],\n",
       " [],\n",
       " [],\n",
       " {'exact': 'keratin', 'entity': 'GP'},\n",
       " {'exact': 'snake', 'entity': 'OG'},\n",
       " {'exact': 'C1s', 'entity': 'GP'},\n",
       " [],\n",
       " [],\n",
       " [],\n",
       " [],\n",
       " [],\n",
       " [],\n",
       " [],\n",
       " [],\n",
       " [],\n",
       " [],\n",
       " [],\n",
       " [],\n",
       " [],\n",
       " [],\n",
       " {'exact': 'Hsp90', 'entity': 'GP'},\n",
       " {'exact': 'GroEl', 'entity': 'GP'},\n",
       " {'exact': 'Dicer endonuclease', 'entity': 'GP'},\n",
       " {'exact': '1L-myo-inositol 1-phosphate synthase', 'entity': 'GP'},\n",
       " {'exact': 'AIP) synthase', 'entity': 'GP'},\n",
       " {'exact': 'AIP) synthase', 'entity': 'GP'},\n",
       " {'exact': 'AIP-phosphatase', 'entity': 'GP'},\n",
       " {'exact': 'P) synthase', 'entity': 'GP'},\n",
       " {'exact': 'AIP-phosphatase', 'entity': 'GP'},\n",
       " [],\n",
       " [],\n",
       " [],\n",
       " [],\n",
       " [],\n",
       " {'exact': 'archaeon', 'entity': 'OG'},\n",
       " {'exact': 'archaeon', 'entity': 'OG'},\n",
       " {'exact': 'M. smithii AL1', 'entity': 'OG'},\n",
       " [],\n",
       " {'exact': 'M. smithii', 'entity': 'OG'},\n",
       " {'exact': 'M. smithii AL1', 'entity': 'OG'},\n",
       " {'exact': 'M. smithii AL1', 'entity': 'OG'},\n",
       " [],\n",
       " [],\n",
       " {'exact': 'keratin', 'entity': 'GP'},\n",
       " {'exact': 'snake', 'entity': 'OG'},\n",
       " {'exact': 'keratin', 'entity': 'GP'},\n",
       " {'exact': 'snake', 'entity': 'OG'}]"
      ]
     },
     "execution_count": 14,
     "metadata": {},
     "output_type": "execute_result"
    }
   ],
   "source": [
    "all_entities"
   ]
  },
  {
   "cell_type": "code",
   "execution_count": 13,
   "metadata": {},
   "outputs": [],
   "source": [
    "list_names = ['exact', 'entity']\n",
    "all_entities = []\n",
    "\n",
    "for i in range(0, len(sentences)):\n",
    "    entities = predicted_sentences[i].to_dict(tag_type='ner')['entities']\n",
    "    if entities:\n",
    "        tagged_sents = predicted_sentences[i].to_dict(tag_type='ner')\n",
    "        for root_node in tagged_sents['entities']:\n",
    "            exact = root_node['text']\n",
    "            entity = root_node['type']\n",
    "            data_names = [exact,entity]\n",
    "            all_entities.append(dict(zip(list_names, data_names)))\n",
    "    else:\n",
    "        all_entities.append(entities)\n",
    "                "
   ]
  }
 ],
 "metadata": {
  "kernelspec": {
   "display_name": "PyTorch",
   "language": "python",
   "name": "pytorch"
  },
  "language_info": {
   "codemirror_mode": {
    "name": "ipython",
    "version": 3
   },
   "file_extension": ".py",
   "mimetype": "text/x-python",
   "name": "python",
   "nbconvert_exporter": "python",
   "pygments_lexer": "ipython3",
   "version": "3.7.4"
  }
 },
 "nbformat": 4,
 "nbformat_minor": 2
}
