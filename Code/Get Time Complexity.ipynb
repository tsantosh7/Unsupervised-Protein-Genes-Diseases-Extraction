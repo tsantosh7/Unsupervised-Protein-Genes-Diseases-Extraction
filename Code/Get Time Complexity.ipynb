{
 "cells": [
  {
   "cell_type": "code",
   "execution_count": 37,
   "metadata": {},
   "outputs": [
    {
     "name": "stderr",
     "output_type": "stream",
     "text": [
      "100%|██████████| 2000/2000 [01:02<00:00, 32.05it/s]\n"
     ]
    }
   ],
   "source": [
    "import time\n",
    "import glob\n",
    "import os\n",
    "import json\n",
    "from tqdm import tqdm\n",
    "\n",
    "\n",
    "result_json_dump_path =  '/nfs/gns/literature/machine-learning/evaluation/time_complexity/en-pubmed-pmc-lg/'\n",
    "# result_json_dump_path = '/nfs/gns/literature/machine-learning/evaluation/time_complexity/PCSE/'\n",
    "# result_json_dump_path = '/nfs/gns/literature/machine-learning/evaluation/time_complexity/flair/'\n",
    "already_processed_files = sorted(glob.glob(result_json_dump_path + '*.json*'))\n",
    "\n",
    "# article_file_path = article_path+'PMC3649237_sentences.txt'\n",
    "time_taken = []\n",
    "for each_file in tqdm(already_processed_files):\n",
    "    with open(each_file) as json_file:\n",
    "        json_text = json.load(json_file)\n",
    "        time_taken.append(json_text['time_taken'])\n"
   ]
  },
  {
   "cell_type": "code",
   "execution_count": 15,
   "metadata": {},
   "outputs": [],
   "source": [
    "def mean(data):\n",
    "    \"\"\"Return the sample arithmetic mean of data.\"\"\"\n",
    "    n = len(data)\n",
    "    if n < 1:\n",
    "        raise ValueError('mean requires at least one data point')\n",
    "    return sum(data)/n \n",
    "\n",
    "def _ss(data):\n",
    "    \"\"\"Return sum of square deviations of sequence data.\"\"\"\n",
    "    c = mean(data)\n",
    "    ss = sum((x-c)**2 for x in data)\n",
    "    return ss\n",
    "\n",
    "def stddev(data, ddof=0):\n",
    "    \"\"\"Calculates the population standard deviation\n",
    "    by default; specify ddof=1 to compute the sample\n",
    "    standard deviation.\"\"\"\n",
    "    n = len(data)\n",
    "    if n < 2:\n",
    "        raise ValueError('variance requires at least two data points')\n",
    "    ss = _ss(data)\n",
    "    pvar = ss/(n-ddof)\n",
    "    return pvar**0.5"
   ]
  },
  {
   "cell_type": "code",
   "execution_count": 38,
   "metadata": {},
   "outputs": [
    {
     "data": {
      "text/plain": [
       "[9.2935, 7.806366488322232]"
      ]
     },
     "execution_count": 38,
     "metadata": {},
     "output_type": "execute_result"
    }
   ],
   "source": [
    "[mean(time_taken), stddev(time_taken)]"
   ]
  },
  {
   "cell_type": "code",
   "execution_count": 35,
   "metadata": {},
   "outputs": [
    {
     "data": {
      "image/png": "[encoded data removed]",
      "text/plain": [
       "<Figure size 432x288 with 1 Axes>"
      ]
     },
     "metadata": {
      "needs_background": "light"
     },
     "output_type": "display_data"
    }
   ],
   "source": [
    "import numpy as np\n",
    "import math\n",
    "from matplotlib import pyplot as plt\n",
    "%matplotlib inline\n",
    "\n",
    "data = time_taken\n",
    "\n",
    "bins = np.linspace(math.ceil(min(data)), \n",
    "                   math.floor(max(data)),\n",
    "                   30) # fixed number of bins\n",
    "\n",
    "plt.xlim([min(data)-5, max(data)+5])\n",
    "\n",
    "plt.hist(data, bins=bins, alpha=0.5)\n",
    "plt.title('Time taken for PCSE on a GPU')\n",
    "plt.xlabel('Seconds (30 evenly spaced bins)')\n",
    "plt.ylabel('EPMC articles')\n",
    "\n",
    "plt.show()"
   ]
  }
 ],
 "metadata": {
  "kernelspec": {
   "display_name": "scispcacy",
   "language": "python",
   "name": "scispcacy"
  },
  "language_info": {
   "codemirror_mode": {
    "name": "ipython",
    "version": 3
   },
   "file_extension": ".py",
   "mimetype": "text/x-python",
   "name": "python",
   "nbconvert_exporter": "python",
   "pygments_lexer": "ipython3",
   "version": "3.6.9"
  }
 },
 "nbformat": 4,
 "nbformat_minor": 2
}
