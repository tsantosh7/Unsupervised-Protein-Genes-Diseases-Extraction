{
 "cells": [
  {
   "cell_type": "code",
   "execution_count": 1,
   "metadata": {},
   "outputs": [],
   "source": [
    "# Code to evaluate EPMC annotation to the Manual Annotation\n",
    "# Code to compare results from ML methods and EPMC annotation\n",
    "\n",
    "# (c) EMBL-EBI, September 2019\n",
    "#\n",
    "# Started: 23 Septmember  2019\n",
    "# Updated: 24 Septmember  2019\n",
    "\n",
    "_author_ = 'Santosh Tirunagari'\n",
    "\n",
    "import os\n",
    "import pandas as pd\n",
    "import glob\n",
    "import json\n",
    "import csv\n",
    "import sys\n",
    "\n",
    "import multiprocessing\n",
    "\n",
    "import numpy as np\n",
    "import re\n",
    "\n",
    "from nltk.tokenize import wordpunct_tokenize\n",
    "\n",
    "import requests\n",
    "# from pprint import pprint\n",
    "import pandas as pd\n",
    "\n",
    "from collections import defaultdict, Counter\n",
    "import time\n",
    "from requests.compat import urljoin\n",
    "\n",
    "from tqdm import tqdm"
   ]
  },
  {
   "cell_type": "code",
   "execution_count": 2,
   "metadata": {},
   "outputs": [],
   "source": [
    "result_path = '/nfs/gns/literature/machine-learning/evaluation/300articles/ML-NER/PCSE/public_trained/'\n",
    "\n",
    "from nltk.tokenize import wordpunct_tokenize, WordPunctTokenizer\n",
    "from tqdm import tqdm\n",
    "import csv\n",
    "import pandas as pd\n",
    "\n",
    "test_df = pd.read_csv('/nfs/gns/literature/machine-learning/evaluation/300articles/CSV formats/test.csv', sep='\\t', names = ['pmc_id','sentence', 'gt'])\n",
    "dev_df = pd.read_csv('/nfs/gns/literature/machine-learning/evaluation/300articles/CSV formats/dev.csv', sep='\\t', names = ['pmc_id','sentence', 'gt'])\n",
    "train_df = pd.read_csv('/nfs/gns/literature/machine-learning/evaluation/300articles/CSV formats/train.csv', sep='\\t', names = ['pmc_id','sentence', 'gt'])"
   ]
  },
  {
   "cell_type": "code",
   "execution_count": 3,
   "metadata": {},
   "outputs": [
    {
     "name": "stdout",
     "output_type": "stream",
     "text": [
      "2019-12-12 15:42:29,823 loading file /nfs/gns/literature/Santosh_Tirunagari/GitHub/flair_models/ner/multi_bio_ner_model_disease/best-model.pt\n"
     ]
    }
   ],
   "source": [
    "from flair.models import TextClassifier\n",
    "from flair.data import Sentence, Token\n",
    "from flair.models import SequenceTagger\n",
    "\n",
    "flair_models = '/nfs/gns/literature/Santosh_Tirunagari/GitHub/flair_models/ner/'\n",
    "# load the model you trained\n",
    "# gene_model = SequenceTagger.load(flair_models+'multi_bio_ner_model_gene/v01/'+'best-model.pt')\n",
    "disease_model = SequenceTagger.load(flair_models+'multi_bio_ner_model_disease/'+'best-model.pt')\n",
    "# organisms_model = SequenceTagger.load(flair_models+'multi_bio_ner_model_organisms/v01/'+'best-model.pt')\n"
   ]
  },
  {
   "cell_type": "code",
   "execution_count": 4,
   "metadata": {},
   "outputs": [
    {
     "name": "stdout",
     "output_type": "stream",
     "text": [
      "Brief\tO\n",
      "inactivation\tO\n",
      "of\tO\n",
      "c\tO\n",
      "-\tO\n",
      "Myc\tO\n",
      "is\tO\n",
      "not\tO\n",
      "sufficient\tO\n",
      "for\tO\n",
      "sustained\tO\n",
      "regression\tO\n",
      "of\tO\n",
      "c\tO\n",
      "-\tO\n",
      "Myc\tO\n",
      "-\tO\n",
      "induced\tO\n",
      "tumours\tB-Disease\n",
      "of\tO\n",
      "pancreatic\tO\n",
      "islets\tO\n",
      "and\tO\n",
      "skin\tO\n",
      "epidermis\tO\n"
     ]
    }
   ],
   "source": [
    "from nltk.tokenize import WordPunctTokenizer\n",
    "\n",
    "text_temp = 'Brief inactivation of c-Myc is not sufficient for sustained regression of c-Myc-induced tumours of pancreatic islets and skin epidermis'\n",
    "\n",
    "sentence = ' '.join(wordpunct_tokenize(text_temp))\n",
    "sentence = Sentence(sentence)\n",
    "disease_model.predict(sentence)\n",
    "\n",
    "for token in sentence:\n",
    "# print what you need (text and NER value)\n",
    "    print(f\"{token.text}\\t{token.get_tag('ner').value}\")"
   ]
  },
  {
   "cell_type": "code",
   "execution_count": null,
   "metadata": {},
   "outputs": [
    {
     "name": "stderr",
     "output_type": "stream",
     "text": [
      "  2%|▏         | 1767/80014 [01:56<2:03:29, 10.56it/s]"
     ]
    },
    {
     "name": "stdout",
     "output_type": "stream",
     "text": [
      "2019-12-12 15:45:02,438 ACHTUNG: An empty Sentence was created! Are there empty strings in your dataset?\n",
      "2019-12-12 15:45:02,440 Ignore 1 sentence(s) with no tokens.\n"
     ]
    },
    {
     "name": "stderr",
     "output_type": "stream",
     "text": [
      "  2%|▏         | 1984/80014 [02:16<2:22:43,  9.11it/s]"
     ]
    },
    {
     "name": "stdout",
     "output_type": "stream",
     "text": [
      "2019-12-12 15:45:22,279 ACHTUNG: An empty Sentence was created! Are there empty strings in your dataset?\n",
      "2019-12-12 15:45:22,280 Ignore 1 sentence(s) with no tokens.\n"
     ]
    },
    {
     "name": "stderr",
     "output_type": "stream",
     "text": [
      "  4%|▍         | 3001/80014 [03:55<1:17:30, 16.56it/s]"
     ]
    },
    {
     "name": "stdout",
     "output_type": "stream",
     "text": [
      "2019-12-12 15:47:01,174 ACHTUNG: An empty Sentence was created! Are there empty strings in your dataset?\n",
      "2019-12-12 15:47:01,175 Ignore 1 sentence(s) with no tokens.\n",
      "2019-12-12 15:47:01,209 ACHTUNG: An empty Sentence was created! Are there empty strings in your dataset?\n",
      "2019-12-12 15:47:01,210 Ignore 1 sentence(s) with no tokens.\n",
      "2019-12-12 15:47:01,253 ACHTUNG: An empty Sentence was created! Are there empty strings in your dataset?\n",
      "2019-12-12 15:47:01,254 Ignore 1 sentence(s) with no tokens.\n"
     ]
    },
    {
     "name": "stderr",
     "output_type": "stream",
     "text": [
      "\r",
      "  4%|▍         | 3009/80014 [03:55<59:46, 21.47it/s]  "
     ]
    },
    {
     "name": "stdout",
     "output_type": "stream",
     "text": [
      "2019-12-12 15:47:01,298 ACHTUNG: An empty Sentence was created! Are there empty strings in your dataset?\n",
      "2019-12-12 15:47:01,299 Ignore 1 sentence(s) with no tokens.\n"
     ]
    },
    {
     "name": "stderr",
     "output_type": "stream",
     "text": [
      "  4%|▍         | 3020/80014 [03:55<42:08, 30.45it/s]"
     ]
    },
    {
     "name": "stdout",
     "output_type": "stream",
     "text": [
      "2019-12-12 15:47:01,563 ACHTUNG: An empty Sentence was created! Are there empty strings in your dataset?\n",
      "2019-12-12 15:47:01,564 Ignore 1 sentence(s) with no tokens.\n"
     ]
    },
    {
     "name": "stderr",
     "output_type": "stream",
     "text": [
      "\r",
      "  4%|▍         | 3028/80014 [03:55<34:24, 37.29it/s]"
     ]
    },
    {
     "name": "stdout",
     "output_type": "stream",
     "text": [
      "2019-12-12 15:47:01,640 ACHTUNG: An empty Sentence was created! Are there empty strings in your dataset?\n",
      "2019-12-12 15:47:01,641 Ignore 1 sentence(s) with no tokens.\n"
     ]
    },
    {
     "name": "stderr",
     "output_type": "stream",
     "text": [
      "\r",
      "  4%|▍         | 3036/80014 [03:55<29:20, 43.73it/s]"
     ]
    },
    {
     "name": "stdout",
     "output_type": "stream",
     "text": [
      "2019-12-12 15:47:01,713 ACHTUNG: An empty Sentence was created! Are there empty strings in your dataset?\n",
      "2019-12-12 15:47:01,715 Ignore 1 sentence(s) with no tokens.\n"
     ]
    },
    {
     "name": "stderr",
     "output_type": "stream",
     "text": [
      "  4%|▍         | 3079/80014 [03:58<1:18:17, 16.38it/s]"
     ]
    },
    {
     "name": "stdout",
     "output_type": "stream",
     "text": [
      "2019-12-12 15:47:04,616 ACHTUNG: An empty Sentence was created! Are there empty strings in your dataset?\n",
      "2019-12-12 15:47:04,617 Ignore 1 sentence(s) with no tokens.\n"
     ]
    },
    {
     "name": "stderr",
     "output_type": "stream",
     "text": [
      "\r",
      "  4%|▍         | 3088/80014 [03:58<59:06, 21.69it/s]  "
     ]
    },
    {
     "name": "stdout",
     "output_type": "stream",
     "text": [
      "2019-12-12 15:47:04,659 ACHTUNG: An empty Sentence was created! Are there empty strings in your dataset?\n",
      "2019-12-12 15:47:04,660 Ignore 1 sentence(s) with no tokens.\n",
      "2019-12-12 15:47:04,700 ACHTUNG: An empty Sentence was created! Are there empty strings in your dataset?\n",
      "2019-12-12 15:47:04,701 Ignore 1 sentence(s) with no tokens.\n",
      "2019-12-12 15:47:04,741 ACHTUNG: An empty Sentence was created! Are there empty strings in your dataset?\n",
      "2019-12-12 15:47:04,743 Ignore 1 sentence(s) with no tokens.\n"
     ]
    },
    {
     "name": "stderr",
     "output_type": "stream",
     "text": [
      "\r",
      "  4%|▍         | 3098/80014 [03:58<45:27, 28.20it/s]"
     ]
    },
    {
     "name": "stdout",
     "output_type": "stream",
     "text": [
      "2019-12-12 15:47:04,784 ACHTUNG: An empty Sentence was created! Are there empty strings in your dataset?\n",
      "2019-12-12 15:47:04,786 Ignore 1 sentence(s) with no tokens.\n",
      "2019-12-12 15:47:04,826 ACHTUNG: An empty Sentence was created! Are there empty strings in your dataset?\n",
      "2019-12-12 15:47:04,827 Ignore 1 sentence(s) with no tokens.\n"
     ]
    },
    {
     "name": "stderr",
     "output_type": "stream",
     "text": [
      "\r",
      "  4%|▍         | 3108/80014 [03:59<35:47, 35.81it/s]"
     ]
    },
    {
     "name": "stdout",
     "output_type": "stream",
     "text": [
      "2019-12-12 15:47:04,869 ACHTUNG: An empty Sentence was created! Are there empty strings in your dataset?\n",
      "2019-12-12 15:47:04,870 Ignore 1 sentence(s) with no tokens.\n",
      "2019-12-12 15:47:04,910 ACHTUNG: An empty Sentence was created! Are there empty strings in your dataset?\n",
      "2019-12-12 15:47:04,911 Ignore 1 sentence(s) with no tokens.\n"
     ]
    },
    {
     "name": "stderr",
     "output_type": "stream",
     "text": [
      "\r",
      "  4%|▍         | 3117/80014 [03:59<29:57, 42.77it/s]"
     ]
    },
    {
     "name": "stdout",
     "output_type": "stream",
     "text": [
      "2019-12-12 15:47:04,999 ACHTUNG: An empty Sentence was created! Are there empty strings in your dataset?\n",
      "2019-12-12 15:47:05,001 Ignore 1 sentence(s) with no tokens.\n"
     ]
    },
    {
     "name": "stderr",
     "output_type": "stream",
     "text": [
      "  4%|▍         | 3361/80014 [04:18<1:30:26, 14.13it/s]"
     ]
    },
    {
     "name": "stdout",
     "output_type": "stream",
     "text": [
      "2019-12-12 15:47:24,804 ACHTUNG: An empty Sentence was created! Are there empty strings in your dataset?\n",
      "2019-12-12 15:47:24,805 Ignore 1 sentence(s) with no tokens.\n",
      "2019-12-12 15:47:24,865 ACHTUNG: An empty Sentence was created! Are there empty strings in your dataset?\n",
      "2019-12-12 15:47:24,866 Ignore 1 sentence(s) with no tokens.\n"
     ]
    },
    {
     "name": "stderr",
     "output_type": "stream",
     "text": [
      "  4%|▍         | 3378/80014 [04:19<52:38, 24.26it/s]  "
     ]
    },
    {
     "name": "stdout",
     "output_type": "stream",
     "text": [
      "2019-12-12 15:47:25,047 ACHTUNG: An empty Sentence was created! Are there empty strings in your dataset?\n",
      "2019-12-12 15:47:25,049 Ignore 1 sentence(s) with no tokens.\n"
     ]
    },
    {
     "name": "stderr",
     "output_type": "stream",
     "text": [
      "\r",
      "  4%|▍         | 3388/80014 [04:19<40:49, 31.28it/s]"
     ]
    },
    {
     "name": "stdout",
     "output_type": "stream",
     "text": [
      "2019-12-12 15:47:25,151 ACHTUNG: An empty Sentence was created! Are there empty strings in your dataset?\n",
      "2019-12-12 15:47:25,152 Ignore 1 sentence(s) with no tokens.\n"
     ]
    },
    {
     "name": "stderr",
     "output_type": "stream",
     "text": [
      "  6%|▌         | 4832/80014 [05:50<30:56, 40.50it/s]  "
     ]
    },
    {
     "name": "stdout",
     "output_type": "stream",
     "text": [
      "2019-12-12 15:48:56,062 ACHTUNG: An empty Sentence was created! Are there empty strings in your dataset?\n",
      "2019-12-12 15:48:56,063 Ignore 1 sentence(s) with no tokens.\n"
     ]
    },
    {
     "name": "stderr",
     "output_type": "stream",
     "text": [
      "\r",
      "  6%|▌         | 4839/80014 [05:50<29:21, 42.67it/s]"
     ]
    },
    {
     "name": "stdout",
     "output_type": "stream",
     "text": [
      "2019-12-12 15:48:56,188 ACHTUNG: An empty Sentence was created! Are there empty strings in your dataset?\n",
      "2019-12-12 15:48:56,190 Ignore 1 sentence(s) with no tokens.\n",
      "2019-12-12 15:48:56,191 ACHTUNG: An empty Sentence was created! Are there empty strings in your dataset?\n",
      "2019-12-12 15:48:56,193 Ignore 1 sentence(s) with no tokens.\n",
      "2019-12-12 15:48:56,194 ACHTUNG: An empty Sentence was created! Are there empty strings in your dataset?\n",
      "2019-12-12 15:48:56,196 Ignore 1 sentence(s) with no tokens.\n"
     ]
    },
    {
     "name": "stderr",
     "output_type": "stream",
     "text": [
      "  6%|▌         | 4859/80014 [05:50<30:03, 41.66it/s]"
     ]
    },
    {
     "name": "stdout",
     "output_type": "stream",
     "text": [
      "2019-12-12 15:48:56,594 ACHTUNG: An empty Sentence was created! Are there empty strings in your dataset?\n",
      "2019-12-12 15:48:56,595 Ignore 1 sentence(s) with no tokens.\n",
      "2019-12-12 15:48:56,597 ACHTUNG: An empty Sentence was created! Are there empty strings in your dataset?\n",
      "2019-12-12 15:48:56,598 Ignore 1 sentence(s) with no tokens.\n",
      "2019-12-12 15:48:56,600 ACHTUNG: An empty Sentence was created! Are there empty strings in your dataset?\n",
      "2019-12-12 15:48:56,601 Ignore 1 sentence(s) with no tokens.\n"
     ]
    },
    {
     "name": "stderr",
     "output_type": "stream",
     "text": [
      "\r",
      "  6%|▌         | 4866/80014 [05:50<27:19, 45.83it/s]"
     ]
    },
    {
     "name": "stdout",
     "output_type": "stream",
     "text": [
      "2019-12-12 15:48:56,735 ACHTUNG: An empty Sentence was created! Are there empty strings in your dataset?\n",
      "2019-12-12 15:48:56,736 Ignore 1 sentence(s) with no tokens.\n",
      "2019-12-12 15:48:56,738 ACHTUNG: An empty Sentence was created! Are there empty strings in your dataset?\n",
      "2019-12-12 15:48:56,739 Ignore 1 sentence(s) with no tokens.\n",
      "2019-12-12 15:48:56,741 ACHTUNG: An empty Sentence was created! Are there empty strings in your dataset?\n",
      "2019-12-12 15:48:56,742 Ignore 1 sentence(s) with no tokens.\n"
     ]
    },
    {
     "name": "stderr",
     "output_type": "stream",
     "text": [
      "\r",
      "  6%|▌         | 4874/80014 [05:50<23:53, 52.41it/s]"
     ]
    },
    {
     "name": "stdout",
     "output_type": "stream",
     "text": [
      "2019-12-12 15:48:56,836 ACHTUNG: An empty Sentence was created! Are there empty strings in your dataset?\n",
      "2019-12-12 15:48:56,837 Ignore 1 sentence(s) with no tokens.\n",
      "2019-12-12 15:48:56,839 ACHTUNG: An empty Sentence was created! Are there empty strings in your dataset?\n",
      "2019-12-12 15:48:56,840 Ignore 1 sentence(s) with no tokens.\n",
      "2019-12-12 15:48:56,842 ACHTUNG: An empty Sentence was created! Are there empty strings in your dataset?\n",
      "2019-12-12 15:48:56,843 Ignore 1 sentence(s) with no tokens.\n"
     ]
    },
    {
     "name": "stderr",
     "output_type": "stream",
     "text": [
      " 10%|▉         | 7867/80014 [10:02<2:00:33,  9.97it/s]"
     ]
    },
    {
     "name": "stdout",
     "output_type": "stream",
     "text": [
      "2019-12-12 15:53:08,696 ACHTUNG: An empty Sentence was created! Are there empty strings in your dataset?\n",
      "2019-12-12 15:53:08,698 Ignore 1 sentence(s) with no tokens.\n"
     ]
    },
    {
     "name": "stderr",
     "output_type": "stream",
     "text": [
      "\r",
      " 10%|▉         | 7870/80014 [10:02<1:40:31, 11.96it/s]"
     ]
    },
    {
     "name": "stdout",
     "output_type": "stream",
     "text": [
      "2019-12-12 15:53:08,867 ACHTUNG: An empty Sentence was created! Are there empty strings in your dataset?\n",
      "2019-12-12 15:53:08,869 Ignore 1 sentence(s) with no tokens.\n"
     ]
    },
    {
     "name": "stderr",
     "output_type": "stream",
     "text": [
      "\r",
      " 10%|▉         | 7872/80014 [10:03<1:34:42, 12.70it/s]"
     ]
    },
    {
     "name": "stdout",
     "output_type": "stream",
     "text": [
      "2019-12-12 15:53:08,940 ACHTUNG: An empty Sentence was created! Are there empty strings in your dataset?\n",
      "2019-12-12 15:53:08,942 Ignore 1 sentence(s) with no tokens.\n"
     ]
    },
    {
     "name": "stderr",
     "output_type": "stream",
     "text": [
      " 10%|▉         | 7877/80014 [10:03<1:47:35, 11.17it/s]"
     ]
    },
    {
     "name": "stdout",
     "output_type": "stream",
     "text": [
      "2019-12-12 15:53:09,282 ACHTUNG: An empty Sentence was created! Are there empty strings in your dataset?\n",
      "2019-12-12 15:53:09,284 Ignore 1 sentence(s) with no tokens.\n",
      "2019-12-12 15:53:09,327 ACHTUNG: An empty Sentence was created! Are there empty strings in your dataset?\n",
      "2019-12-12 15:53:09,328 Ignore 1 sentence(s) with no tokens.\n"
     ]
    },
    {
     "name": "stderr",
     "output_type": "stream",
     "text": [
      " 12%|█▏        | 9601/80014 [12:28<32:01, 36.64it/s]  "
     ]
    },
    {
     "name": "stdout",
     "output_type": "stream",
     "text": [
      "2019-12-12 15:55:34,845 ACHTUNG: An empty Sentence was created! Are there empty strings in your dataset?\n",
      "2019-12-12 15:55:34,847 Ignore 1 sentence(s) with no tokens.\n"
     ]
    },
    {
     "name": "stderr",
     "output_type": "stream",
     "text": [
      " 12%|█▏        | 9634/80014 [12:29<19:29, 60.17it/s]"
     ]
    },
    {
     "name": "stdout",
     "output_type": "stream",
     "text": [
      "2019-12-12 15:55:35,222 ACHTUNG: An empty Sentence was created! Are there empty strings in your dataset?\n",
      "2019-12-12 15:55:35,223 Ignore 1 sentence(s) with no tokens.\n"
     ]
    },
    {
     "name": "stderr",
     "output_type": "stream",
     "text": [
      " 12%|█▏        | 9659/80014 [12:29<16:49, 69.70it/s]"
     ]
    },
    {
     "name": "stdout",
     "output_type": "stream",
     "text": [
      "2019-12-12 15:55:35,598 ACHTUNG: An empty Sentence was created! Are there empty strings in your dataset?\n",
      "2019-12-12 15:55:35,600 Ignore 1 sentence(s) with no tokens.\n"
     ]
    },
    {
     "name": "stderr",
     "output_type": "stream",
     "text": [
      " 12%|█▏        | 9691/80014 [12:30<15:55, 73.60it/s]"
     ]
    },
    {
     "name": "stdout",
     "output_type": "stream",
     "text": [
      "2019-12-12 15:55:35,991 ACHTUNG: An empty Sentence was created! Are there empty strings in your dataset?\n",
      "2019-12-12 15:55:35,993 Ignore 1 sentence(s) with no tokens.\n"
     ]
    },
    {
     "name": "stderr",
     "output_type": "stream",
     "text": [
      " 12%|█▏        | 9716/80014 [12:30<15:25, 75.99it/s]"
     ]
    },
    {
     "name": "stdout",
     "output_type": "stream",
     "text": [
      "2019-12-12 15:55:36,362 ACHTUNG: An empty Sentence was created! Are there empty strings in your dataset?\n",
      "2019-12-12 15:55:36,363 Ignore 1 sentence(s) with no tokens.\n"
     ]
    },
    {
     "name": "stderr",
     "output_type": "stream",
     "text": [
      " 12%|█▏        | 9749/80014 [12:30<15:14, 76.84it/s]"
     ]
    },
    {
     "name": "stdout",
     "output_type": "stream",
     "text": [
      "2019-12-12 15:55:36,732 ACHTUNG: An empty Sentence was created! Are there empty strings in your dataset?\n",
      "2019-12-12 15:55:36,734 Ignore 1 sentence(s) with no tokens.\n"
     ]
    },
    {
     "name": "stderr",
     "output_type": "stream",
     "text": [
      " 12%|█▏        | 9776/80014 [12:31<14:32, 80.49it/s]"
     ]
    },
    {
     "name": "stdout",
     "output_type": "stream",
     "text": [
      "2019-12-12 15:55:37,078 ACHTUNG: An empty Sentence was created! Are there empty strings in your dataset?\n",
      "2019-12-12 15:55:37,079 Ignore 1 sentence(s) with no tokens.\n"
     ]
    },
    {
     "name": "stderr",
     "output_type": "stream",
     "text": [
      " 12%|█▏        | 9803/80014 [12:31<14:55, 78.37it/s]"
     ]
    },
    {
     "name": "stdout",
     "output_type": "stream",
     "text": [
      "2019-12-12 15:55:37,453 ACHTUNG: An empty Sentence was created! Are there empty strings in your dataset?\n",
      "2019-12-12 15:55:37,454 Ignore 1 sentence(s) with no tokens.\n"
     ]
    },
    {
     "name": "stderr",
     "output_type": "stream",
     "text": [
      " 12%|█▏        | 9837/80014 [12:31<15:22, 76.09it/s]"
     ]
    },
    {
     "name": "stdout",
     "output_type": "stream",
     "text": [
      "2019-12-12 15:55:37,828 ACHTUNG: An empty Sentence was created! Are there empty strings in your dataset?\n",
      "2019-12-12 15:55:37,830 Ignore 1 sentence(s) with no tokens.\n"
     ]
    },
    {
     "name": "stderr",
     "output_type": "stream",
     "text": [
      " 12%|█▏        | 9862/80014 [12:32<15:08, 77.19it/s]"
     ]
    },
    {
     "name": "stdout",
     "output_type": "stream",
     "text": [
      "2019-12-12 15:55:38,197 ACHTUNG: An empty Sentence was created! Are there empty strings in your dataset?\n",
      "2019-12-12 15:55:38,199 Ignore 1 sentence(s) with no tokens.\n"
     ]
    },
    {
     "name": "stderr",
     "output_type": "stream",
     "text": [
      " 12%|█▏        | 9895/80014 [12:32<14:47, 78.98it/s]"
     ]
    },
    {
     "name": "stdout",
     "output_type": "stream",
     "text": [
      "2019-12-12 15:55:38,557 ACHTUNG: An empty Sentence was created! Are there empty strings in your dataset?\n",
      "2019-12-12 15:55:38,558 Ignore 1 sentence(s) with no tokens.\n"
     ]
    },
    {
     "name": "stderr",
     "output_type": "stream",
     "text": [
      " 12%|█▏        | 9971/80014 [12:33<15:57, 73.16it/s]"
     ]
    },
    {
     "name": "stdout",
     "output_type": "stream",
     "text": [
      "2019-12-12 15:55:39,619 ACHTUNG: An empty Sentence was created! Are there empty strings in your dataset?\n",
      "2019-12-12 15:55:39,621 Ignore 1 sentence(s) with no tokens.\n"
     ]
    },
    {
     "name": "stderr",
     "output_type": "stream",
     "text": [
      " 13%|█▎        | 10111/80014 [12:35<15:10, 76.81it/s]"
     ]
    },
    {
     "name": "stdout",
     "output_type": "stream",
     "text": [
      "2019-12-12 15:55:41,423 ACHTUNG: An empty Sentence was created! Are there empty strings in your dataset?\n",
      "2019-12-12 15:55:41,424 Ignore 1 sentence(s) with no tokens.\n"
     ]
    },
    {
     "name": "stderr",
     "output_type": "stream",
     "text": [
      " 13%|█▎        | 10165/80014 [12:36<14:17, 81.47it/s]"
     ]
    },
    {
     "name": "stdout",
     "output_type": "stream",
     "text": [
      "2019-12-12 15:55:42,120 ACHTUNG: An empty Sentence was created! Are there empty strings in your dataset?\n",
      "2019-12-12 15:55:42,122 Ignore 1 sentence(s) with no tokens.\n"
     ]
    },
    {
     "name": "stderr",
     "output_type": "stream",
     "text": [
      " 13%|█▎        | 10193/80014 [12:36<14:30, 80.18it/s]"
     ]
    },
    {
     "name": "stdout",
     "output_type": "stream",
     "text": [
      "2019-12-12 15:55:42,498 ACHTUNG: An empty Sentence was created! Are there empty strings in your dataset?\n",
      "2019-12-12 15:55:42,499 Ignore 1 sentence(s) with no tokens.\n"
     ]
    },
    {
     "name": "stderr",
     "output_type": "stream",
     "text": [
      " 13%|█▎        | 10413/80014 [12:45<1:13:22, 15.81it/s]"
     ]
    },
    {
     "name": "stdout",
     "output_type": "stream",
     "text": [
      "2019-12-12 15:55:50,934 ACHTUNG: An empty Sentence was created! Are there empty strings in your dataset?\n",
      "2019-12-12 15:55:50,935 Ignore 1 sentence(s) with no tokens.\n"
     ]
    },
    {
     "name": "stderr",
     "output_type": "stream",
     "text": [
      "\r",
      " 13%|█▎        | 10421/80014 [12:45<55:59, 20.72it/s]  "
     ]
    },
    {
     "name": "stdout",
     "output_type": "stream",
     "text": [
      "2019-12-12 15:55:51,056 ACHTUNG: An empty Sentence was created! Are there empty strings in your dataset?\n",
      "2019-12-12 15:55:51,057 Ignore 1 sentence(s) with no tokens.\n",
      "2019-12-12 15:55:51,078 ACHTUNG: An empty Sentence was created! Are there empty strings in your dataset?\n",
      "2019-12-12 15:55:51,079 Ignore 1 sentence(s) with no tokens.\n"
     ]
    },
    {
     "name": "stderr",
     "output_type": "stream",
     "text": [
      " 13%|█▎        | 10485/80014 [12:46<45:20, 25.56it/s]"
     ]
    },
    {
     "name": "stdout",
     "output_type": "stream",
     "text": [
      "2019-12-12 15:55:52,764 ACHTUNG: An empty Sentence was created! Are there empty strings in your dataset?\n",
      "2019-12-12 15:55:52,765 Ignore 1 sentence(s) with no tokens.\n"
     ]
    },
    {
     "name": "stderr",
     "output_type": "stream",
     "text": [
      "\r",
      " 13%|█▎        | 10490/80014 [12:47<41:04, 28.21it/s]"
     ]
    },
    {
     "name": "stdout",
     "output_type": "stream",
     "text": [
      "2019-12-12 15:55:52,898 ACHTUNG: An empty Sentence was created! Are there empty strings in your dataset?\n",
      "2019-12-12 15:55:52,899 Ignore 1 sentence(s) with no tokens.\n"
     ]
    },
    {
     "name": "stderr",
     "output_type": "stream",
     "text": [
      "\r",
      " 13%|█▎        | 10495/80014 [12:47<38:25, 30.16it/s]"
     ]
    },
    {
     "name": "stdout",
     "output_type": "stream",
     "text": [
      "2019-12-12 15:55:53,040 ACHTUNG: An empty Sentence was created! Are there empty strings in your dataset?\n",
      "2019-12-12 15:55:53,041 Ignore 1 sentence(s) with no tokens.\n"
     ]
    },
    {
     "name": "stderr",
     "output_type": "stream",
     "text": [
      "\r",
      " 13%|█▎        | 10501/80014 [12:47<32:55, 35.20it/s]"
     ]
    },
    {
     "name": "stdout",
     "output_type": "stream",
     "text": [
      "2019-12-12 15:55:53,126 ACHTUNG: An empty Sentence was created! Are there empty strings in your dataset?\n",
      "2019-12-12 15:55:53,127 Ignore 1 sentence(s) with no tokens.\n",
      "2019-12-12 15:55:53,206 ACHTUNG: An empty Sentence was created! Are there empty strings in your dataset?\n",
      "2019-12-12 15:55:53,207 Ignore 1 sentence(s) with no tokens.\n"
     ]
    },
    {
     "name": "stderr",
     "output_type": "stream",
     "text": [
      "\r",
      " 13%|█▎        | 10509/80014 [12:47<27:48, 41.67it/s]"
     ]
    },
    {
     "name": "stdout",
     "output_type": "stream",
     "text": [
      "2019-12-12 15:55:53,293 ACHTUNG: An empty Sentence was created! Are there empty strings in your dataset?\n",
      "2019-12-12 15:55:53,294 Ignore 1 sentence(s) with no tokens.\n"
     ]
    },
    {
     "name": "stderr",
     "output_type": "stream",
     "text": [
      "\r",
      " 13%|█▎        | 10515/80014 [12:47<26:24, 43.86it/s]"
     ]
    },
    {
     "name": "stdout",
     "output_type": "stream",
     "text": [
      "2019-12-12 15:55:53,371 ACHTUNG: An empty Sentence was created! Are there empty strings in your dataset?\n",
      "2019-12-12 15:55:53,372 Ignore 1 sentence(s) with no tokens.\n"
     ]
    },
    {
     "name": "stderr",
     "output_type": "stream",
     "text": [
      "\r",
      " 13%|█▎        | 10522/80014 [12:47<26:29, 43.71it/s]"
     ]
    },
    {
     "name": "stdout",
     "output_type": "stream",
     "text": [
      "2019-12-12 15:55:53,616 ACHTUNG: An empty Sentence was created! Are there empty strings in your dataset?\n",
      "2019-12-12 15:55:53,618 Ignore 1 sentence(s) with no tokens.\n"
     ]
    },
    {
     "name": "stderr",
     "output_type": "stream",
     "text": [
      " 13%|█▎        | 10534/80014 [12:47<24:34, 47.13it/s]"
     ]
    },
    {
     "name": "stdout",
     "output_type": "stream",
     "text": [
      "2019-12-12 15:55:53,845 ACHTUNG: An empty Sentence was created! Are there empty strings in your dataset?\n",
      "2019-12-12 15:55:53,847 Ignore 1 sentence(s) with no tokens.\n"
     ]
    },
    {
     "name": "stderr",
     "output_type": "stream",
     "text": [
      " 13%|█▎        | 10547/80014 [12:48<26:30, 43.67it/s]"
     ]
    },
    {
     "name": "stdout",
     "output_type": "stream",
     "text": [
      "2019-12-12 15:55:54,046 ACHTUNG: An empty Sentence was created! Are there empty strings in your dataset?\n",
      "2019-12-12 15:55:54,047 Ignore 1 sentence(s) with no tokens.\n"
     ]
    },
    {
     "name": "stderr",
     "output_type": "stream",
     "text": [
      "\r",
      " 13%|█▎        | 10552/80014 [12:48<28:04, 41.24it/s]"
     ]
    },
    {
     "name": "stdout",
     "output_type": "stream",
     "text": [
      "2019-12-12 15:55:54,250 ACHTUNG: An empty Sentence was created! Are there empty strings in your dataset?\n",
      "2019-12-12 15:55:54,252 Ignore 1 sentence(s) with no tokens.\n"
     ]
    },
    {
     "name": "stderr",
     "output_type": "stream",
     "text": [
      " 13%|█▎        | 10564/80014 [12:48<28:06, 41.19it/s]"
     ]
    },
    {
     "name": "stdout",
     "output_type": "stream",
     "text": [
      "2019-12-12 15:55:54,568 ACHTUNG: An empty Sentence was created! Are there empty strings in your dataset?\n",
      "2019-12-12 15:55:54,569 Ignore 1 sentence(s) with no tokens.\n"
     ]
    },
    {
     "name": "stderr",
     "output_type": "stream",
     "text": [
      " 13%|█▎        | 10576/80014 [12:48<25:02, 46.23it/s]"
     ]
    },
    {
     "name": "stdout",
     "output_type": "stream",
     "text": [
      "2019-12-12 15:55:54,791 ACHTUNG: An empty Sentence was created! Are there empty strings in your dataset?\n",
      "2019-12-12 15:55:54,792 Ignore 1 sentence(s) with no tokens.\n"
     ]
    },
    {
     "name": "stderr",
     "output_type": "stream",
     "text": [
      " 13%|█▎        | 10589/80014 [12:49<22:21, 51.74it/s]"
     ]
    },
    {
     "name": "stdout",
     "output_type": "stream",
     "text": [
      "2019-12-12 15:55:54,916 ACHTUNG: An empty Sentence was created! Are there empty strings in your dataset?\n",
      "2019-12-12 15:55:54,917 Ignore 1 sentence(s) with no tokens.\n"
     ]
    },
    {
     "name": "stderr",
     "output_type": "stream",
     "text": [
      "\r",
      " 13%|█▎        | 10596/80014 [12:49<21:26, 53.95it/s]"
     ]
    },
    {
     "name": "stdout",
     "output_type": "stream",
     "text": [
      "2019-12-12 15:55:55,055 ACHTUNG: An empty Sentence was created! Are there empty strings in your dataset?\n",
      "2019-12-12 15:55:55,056 Ignore 1 sentence(s) with no tokens.\n"
     ]
    },
    {
     "name": "stderr",
     "output_type": "stream",
     "text": [
      " 13%|█▎        | 10656/80014 [12:54<1:31:23, 12.65it/s]"
     ]
    },
    {
     "name": "stdout",
     "output_type": "stream",
     "text": [
      "2019-12-12 15:56:00,320 ACHTUNG: An empty Sentence was created! Are there empty strings in your dataset?\n",
      "2019-12-12 15:56:00,321 Ignore 1 sentence(s) with no tokens.\n"
     ]
    },
    {
     "name": "stderr",
     "output_type": "stream",
     "text": [
      " 13%|█▎        | 10677/80014 [12:54<44:26, 26.00it/s]  "
     ]
    },
    {
     "name": "stdout",
     "output_type": "stream",
     "text": [
      "2019-12-12 15:56:00,815 ACHTUNG: An empty Sentence was created! Are there empty strings in your dataset?\n",
      "2019-12-12 15:56:00,817 Ignore 1 sentence(s) with no tokens.\n",
      "2019-12-12 15:56:00,863 ACHTUNG: An empty Sentence was created! Are there empty strings in your dataset?\n",
      "2019-12-12 15:56:00,864 Ignore 1 sentence(s) with no tokens.\n"
     ]
    },
    {
     "name": "stderr",
     "output_type": "stream",
     "text": [
      " 13%|█▎        | 10740/80014 [12:57<40:11, 28.72it/s]"
     ]
    },
    {
     "name": "stdout",
     "output_type": "stream",
     "text": [
      "2019-12-12 15:56:03,024 ACHTUNG: An empty Sentence was created! Are there empty strings in your dataset?\n",
      "2019-12-12 15:56:03,025 Ignore 1 sentence(s) with no tokens.\n"
     ]
    },
    {
     "name": "stderr",
     "output_type": "stream",
     "text": [
      " 14%|█▎        | 10813/80014 [13:02<1:22:41, 13.95it/s]"
     ]
    },
    {
     "name": "stdout",
     "output_type": "stream",
     "text": [
      "2019-12-12 15:56:08,654 ACHTUNG: An empty Sentence was created! Are there empty strings in your dataset?\n",
      "2019-12-12 15:56:08,656 Ignore 1 sentence(s) with no tokens.\n"
     ]
    },
    {
     "name": "stderr",
     "output_type": "stream",
     "text": [
      " 14%|█▎        | 10828/80014 [13:03<45:35, 25.29it/s]  "
     ]
    },
    {
     "name": "stdout",
     "output_type": "stream",
     "text": [
      "2019-12-12 15:56:08,944 ACHTUNG: An empty Sentence was created! Are there empty strings in your dataset?\n",
      "2019-12-12 15:56:08,946 Ignore 1 sentence(s) with no tokens.\n"
     ]
    },
    {
     "name": "stderr",
     "output_type": "stream",
     "text": [
      " 14%|█▎        | 10839/80014 [13:03<34:03, 33.84it/s]"
     ]
    },
    {
     "name": "stdout",
     "output_type": "stream",
     "text": [
      "2019-12-12 15:56:09,231 ACHTUNG: An empty Sentence was created! Are there empty strings in your dataset?\n",
      "2019-12-12 15:56:09,233 Ignore 1 sentence(s) with no tokens.\n"
     ]
    },
    {
     "name": "stderr",
     "output_type": "stream",
     "text": [
      " 14%|█▎        | 10855/80014 [13:03<27:52, 41.35it/s]"
     ]
    },
    {
     "name": "stdout",
     "output_type": "stream",
     "text": [
      "2019-12-12 15:56:09,520 ACHTUNG: An empty Sentence was created! Are there empty strings in your dataset?\n",
      "2019-12-12 15:56:09,521 Ignore 1 sentence(s) with no tokens.\n"
     ]
    },
    {
     "name": "stderr",
     "output_type": "stream",
     "text": [
      " 14%|█▎        | 10876/80014 [13:04<30:09, 38.21it/s]"
     ]
    },
    {
     "name": "stdout",
     "output_type": "stream",
     "text": [
      "2019-12-12 15:56:09,984 ACHTUNG: An empty Sentence was created! Are there empty strings in your dataset?\n",
      "2019-12-12 15:56:09,985 Ignore 1 sentence(s) with no tokens.\n"
     ]
    },
    {
     "name": "stderr",
     "output_type": "stream",
     "text": [
      " 14%|█▎        | 10887/80014 [13:04<27:22, 42.09it/s]"
     ]
    },
    {
     "name": "stdout",
     "output_type": "stream",
     "text": [
      "2019-12-12 15:56:10,275 ACHTUNG: An empty Sentence was created! Are there empty strings in your dataset?\n",
      "2019-12-12 15:56:10,277 Ignore 1 sentence(s) with no tokens.\n"
     ]
    },
    {
     "name": "stderr",
     "output_type": "stream",
     "text": [
      " 14%|█▎        | 10903/80014 [13:04<26:03, 44.20it/s]"
     ]
    },
    {
     "name": "stdout",
     "output_type": "stream",
     "text": [
      "2019-12-12 15:56:10,570 ACHTUNG: An empty Sentence was created! Are there empty strings in your dataset?\n",
      "2019-12-12 15:56:10,571 Ignore 1 sentence(s) with no tokens.\n"
     ]
    },
    {
     "name": "stderr",
     "output_type": "stream",
     "text": [
      " 14%|█▎        | 10914/80014 [13:04<24:45, 46.53it/s]"
     ]
    },
    {
     "name": "stdout",
     "output_type": "stream",
     "text": [
      "2019-12-12 15:56:10,860 ACHTUNG: An empty Sentence was created! Are there empty strings in your dataset?\n",
      "2019-12-12 15:56:10,861 Ignore 1 sentence(s) with no tokens.\n"
     ]
    },
    {
     "name": "stderr",
     "output_type": "stream",
     "text": [
      " 16%|█▌        | 12483/80014 [14:58<1:45:51, 10.63it/s]"
     ]
    },
    {
     "name": "stdout",
     "output_type": "stream",
     "text": [
      "2019-12-12 15:58:04,079 ACHTUNG: An empty Sentence was created! Are there empty strings in your dataset?\n",
      "2019-12-12 15:58:04,080 Ignore 1 sentence(s) with no tokens.\n"
     ]
    },
    {
     "name": "stderr",
     "output_type": "stream",
     "text": [
      " 16%|█▌        | 12522/80014 [14:58<30:20, 37.08it/s]  "
     ]
    },
    {
     "name": "stdout",
     "output_type": "stream",
     "text": [
      "2019-12-12 15:58:04,670 ACHTUNG: An empty Sentence was created! Are there empty strings in your dataset?\n",
      "2019-12-12 15:58:04,672 Ignore 1 sentence(s) with no tokens.\n"
     ]
    },
    {
     "name": "stderr",
     "output_type": "stream",
     "text": [
      " 16%|█▌        | 12555/80014 [14:59<22:57, 48.98it/s]"
     ]
    },
    {
     "name": "stdout",
     "output_type": "stream",
     "text": [
      "2019-12-12 15:58:05,300 ACHTUNG: An empty Sentence was created! Are there empty strings in your dataset?\n",
      "2019-12-12 15:58:05,302 Ignore 1 sentence(s) with no tokens.\n",
      "2019-12-12 15:58:05,303 ACHTUNG: An empty Sentence was created! Are there empty strings in your dataset?\n",
      "2019-12-12 15:58:05,304 Ignore 1 sentence(s) with no tokens.\n",
      "2019-12-12 15:58:05,340 ACHTUNG: An empty Sentence was created! Are there empty strings in your dataset?\n",
      "2019-12-12 15:58:05,342 Ignore 1 sentence(s) with no tokens.\n"
     ]
    },
    {
     "name": "stderr",
     "output_type": "stream",
     "text": [
      " 16%|█▌        | 12586/80014 [14:59<19:46, 56.82it/s]"
     ]
    },
    {
     "name": "stdout",
     "output_type": "stream",
     "text": [
      "2019-12-12 15:58:05,797 ACHTUNG: An empty Sentence was created! Are there empty strings in your dataset?\n",
      "2019-12-12 15:58:05,799 Ignore 1 sentence(s) with no tokens.\n"
     ]
    },
    {
     "name": "stderr",
     "output_type": "stream",
     "text": [
      "\r",
      " 16%|█▌        | 12592/80014 [15:00<19:42, 56.99it/s]"
     ]
    },
    {
     "name": "stdout",
     "output_type": "stream",
     "text": [
      "2019-12-12 15:58:05,955 ACHTUNG: An empty Sentence was created! Are there empty strings in your dataset?\n",
      "2019-12-12 15:58:05,956 Ignore 1 sentence(s) with no tokens.\n"
     ]
    },
    {
     "name": "stderr",
     "output_type": "stream",
     "text": [
      " 16%|█▌        | 12613/80014 [15:00<18:47, 59.76it/s]"
     ]
    },
    {
     "name": "stdout",
     "output_type": "stream",
     "text": [
      "2019-12-12 15:58:06,255 ACHTUNG: An empty Sentence was created! Are there empty strings in your dataset?\n",
      "2019-12-12 15:58:06,256 Ignore 1 sentence(s) with no tokens.\n"
     ]
    },
    {
     "name": "stderr",
     "output_type": "stream",
     "text": [
      " 16%|█▌        | 12665/80014 [15:05<2:35:47,  7.20it/s]"
     ]
    },
    {
     "name": "stdout",
     "output_type": "stream",
     "text": [
      "2019-12-12 15:58:11,427 ACHTUNG: An empty Sentence was created! Are there empty strings in your dataset?\n",
      "2019-12-12 15:58:11,428 Ignore 1 sentence(s) with no tokens.\n"
     ]
    },
    {
     "name": "stderr",
     "output_type": "stream",
     "text": [
      " 16%|█▌        | 12821/80014 [15:15<1:42:21, 10.94it/s]"
     ]
    },
    {
     "name": "stdout",
     "output_type": "stream",
     "text": [
      "2019-12-12 15:58:21,105 ACHTUNG: An empty Sentence was created! Are there empty strings in your dataset?\n",
      "2019-12-12 15:58:21,107 Ignore 1 sentence(s) with no tokens.\n",
      "2019-12-12 15:58:21,108 ACHTUNG: An empty Sentence was created! Are there empty strings in your dataset?\n",
      "2019-12-12 15:58:21,110 Ignore 1 sentence(s) with no tokens.\n",
      "2019-12-12 15:58:21,151 ACHTUNG: An empty Sentence was created! Are there empty strings in your dataset?\n",
      "2019-12-12 15:58:21,152 Ignore 1 sentence(s) with no tokens.\n",
      "2019-12-12 15:58:21,154 ACHTUNG: An empty Sentence was created! Are there empty strings in your dataset?\n",
      "2019-12-12 15:58:21,155 Ignore 1 sentence(s) with no tokens.\n",
      "2019-12-12 15:58:21,191 ACHTUNG: An empty Sentence was created! Are there empty strings in your dataset?\n",
      "2019-12-12 15:58:21,192 Ignore 1 sentence(s) with no tokens.\n"
     ]
    },
    {
     "name": "stderr",
     "output_type": "stream",
     "text": [
      " 16%|█▌        | 12927/80014 [15:17<21:23, 52.26it/s]  "
     ]
    },
    {
     "name": "stdout",
     "output_type": "stream",
     "text": [
      "2019-12-12 15:58:23,061 ACHTUNG: An empty Sentence was created! Are there empty strings in your dataset?\n",
      "2019-12-12 15:58:23,062 Ignore 1 sentence(s) with no tokens.\n"
     ]
    },
    {
     "name": "stderr",
     "output_type": "stream",
     "text": [
      " 16%|█▌        | 12976/80014 [15:19<36:04, 30.97it/s]  "
     ]
    },
    {
     "name": "stdout",
     "output_type": "stream",
     "text": [
      "2019-12-12 15:58:25,052 ACHTUNG: An empty Sentence was created! Are there empty strings in your dataset?\n",
      "2019-12-12 15:58:25,053 Ignore 1 sentence(s) with no tokens.\n"
     ]
    },
    {
     "name": "stderr",
     "output_type": "stream",
     "text": [
      " 17%|█▋        | 13297/80014 [15:48<30:41, 36.22it/s]  "
     ]
    },
    {
     "name": "stdout",
     "output_type": "stream",
     "text": [
      "2019-12-12 15:58:54,295 ACHTUNG: An empty Sentence was created! Are there empty strings in your dataset?\n",
      "2019-12-12 15:58:54,297 Ignore 1 sentence(s) with no tokens.\n"
     ]
    },
    {
     "name": "stderr",
     "output_type": "stream",
     "text": [
      " 17%|█▋        | 13310/80014 [15:48<24:49, 44.77it/s]"
     ]
    },
    {
     "name": "stdout",
     "output_type": "stream",
     "text": [
      "2019-12-12 15:58:54,531 ACHTUNG: An empty Sentence was created! Are there empty strings in your dataset?\n",
      "2019-12-12 15:58:54,532 Ignore 1 sentence(s) with no tokens.\n"
     ]
    },
    {
     "name": "stderr",
     "output_type": "stream",
     "text": [
      " 17%|█▋        | 13329/80014 [15:48<21:28, 51.75it/s]"
     ]
    },
    {
     "name": "stdout",
     "output_type": "stream",
     "text": [
      "2019-12-12 15:58:54,772 ACHTUNG: An empty Sentence was created! Are there empty strings in your dataset?\n",
      "2019-12-12 15:58:54,773 Ignore 1 sentence(s) with no tokens.\n"
     ]
    },
    {
     "name": "stderr",
     "output_type": "stream",
     "text": [
      " 17%|█▋        | 13353/80014 [15:49<22:53, 48.52it/s]"
     ]
    },
    {
     "name": "stdout",
     "output_type": "stream",
     "text": [
      "2019-12-12 15:58:55,362 ACHTUNG: An empty Sentence was created! Are there empty strings in your dataset?\n",
      "2019-12-12 15:58:55,364 Ignore 1 sentence(s) with no tokens.\n"
     ]
    },
    {
     "name": "stderr",
     "output_type": "stream",
     "text": [
      " 17%|█▋        | 13390/80014 [15:50<20:37, 53.83it/s]"
     ]
    },
    {
     "name": "stdout",
     "output_type": "stream",
     "text": [
      "2019-12-12 15:58:55,959 ACHTUNG: An empty Sentence was created! Are there empty strings in your dataset?\n",
      "2019-12-12 15:58:55,960 Ignore 1 sentence(s) with no tokens.\n"
     ]
    },
    {
     "name": "stderr",
     "output_type": "stream",
     "text": [
      " 17%|█▋        | 13513/80014 [15:53<32:36, 33.99it/s]  "
     ]
    },
    {
     "name": "stdout",
     "output_type": "stream",
     "text": [
      "2019-12-12 15:58:59,089 ACHTUNG: An empty Sentence was created! Are there empty strings in your dataset?\n",
      "2019-12-12 15:58:59,090 Ignore 1 sentence(s) with no tokens.\n"
     ]
    },
    {
     "name": "stderr",
     "output_type": "stream",
     "text": [
      "\r",
      " 17%|█▋        | 13521/80014 [15:53<27:08, 40.83it/s]"
     ]
    },
    {
     "name": "stdout",
     "output_type": "stream",
     "text": [
      "2019-12-12 15:58:59,303 ACHTUNG: An empty Sentence was created! Are there empty strings in your dataset?\n",
      "2019-12-12 15:58:59,304 Ignore 1 sentence(s) with no tokens.\n"
     ]
    },
    {
     "name": "stderr",
     "output_type": "stream",
     "text": [
      " 17%|█▋        | 13549/80014 [15:54<28:18, 39.13it/s]"
     ]
    },
    {
     "name": "stdout",
     "output_type": "stream",
     "text": [
      "2019-12-12 15:58:59,969 ACHTUNG: An empty Sentence was created! Are there empty strings in your dataset?\n",
      "2019-12-12 15:58:59,971 Ignore 1 sentence(s) with no tokens.\n"
     ]
    },
    {
     "name": "stderr",
     "output_type": "stream",
     "text": [
      " 17%|█▋        | 13566/80014 [15:54<25:41, 43.10it/s]"
     ]
    },
    {
     "name": "stdout",
     "output_type": "stream",
     "text": [
      "2019-12-12 15:59:00,325 ACHTUNG: An empty Sentence was created! Are there empty strings in your dataset?\n",
      "2019-12-12 15:59:00,326 Ignore 1 sentence(s) with no tokens.\n"
     ]
    },
    {
     "name": "stderr",
     "output_type": "stream",
     "text": [
      " 17%|█▋        | 13677/80014 [15:57<22:02, 50.17it/s]"
     ]
    },
    {
     "name": "stdout",
     "output_type": "stream",
     "text": [
      "2019-12-12 15:59:02,976 ACHTUNG: An empty Sentence was created! Are there empty strings in your dataset?\n",
      "2019-12-12 15:59:02,977 Ignore 1 sentence(s) with no tokens.\n"
     ]
    },
    {
     "name": "stderr",
     "output_type": "stream",
     "text": [
      " 17%|█▋        | 13691/80014 [15:57<19:38, 56.30it/s]"
     ]
    },
    {
     "name": "stdout",
     "output_type": "stream",
     "text": [
      "2019-12-12 15:59:03,249 ACHTUNG: An empty Sentence was created! Are there empty strings in your dataset?\n",
      "2019-12-12 15:59:03,250 Ignore 1 sentence(s) with no tokens.\n"
     ]
    },
    {
     "name": "stderr",
     "output_type": "stream",
     "text": [
      " 17%|█▋        | 13732/80014 [15:58<23:08, 47.75it/s]"
     ]
    },
    {
     "name": "stdout",
     "output_type": "stream",
     "text": [
      "2019-12-12 15:59:04,142 ACHTUNG: An empty Sentence was created! Are there empty strings in your dataset?\n",
      "2019-12-12 15:59:04,143 Ignore 1 sentence(s) with no tokens.\n"
     ]
    },
    {
     "name": "stderr",
     "output_type": "stream",
     "text": [
      " 17%|█▋        | 13921/80014 [16:02<33:30, 32.87it/s]  "
     ]
    },
    {
     "name": "stdout",
     "output_type": "stream",
     "text": [
      "2019-12-12 15:59:08,808 ACHTUNG: An empty Sentence was created! Are there empty strings in your dataset?\n",
      "2019-12-12 15:59:08,809 Ignore 1 sentence(s) with no tokens.\n"
     ]
    },
    {
     "name": "stderr",
     "output_type": "stream",
     "text": [
      "\r",
      " 17%|█▋        | 13929/80014 [16:03<27:48, 39.61it/s]"
     ]
    },
    {
     "name": "stdout",
     "output_type": "stream",
     "text": [
      "2019-12-12 15:59:09,024 ACHTUNG: An empty Sentence was created! Are there empty strings in your dataset?\n",
      "2019-12-12 15:59:09,025 Ignore 1 sentence(s) with no tokens.\n"
     ]
    },
    {
     "name": "stderr",
     "output_type": "stream",
     "text": [
      " 17%|█▋        | 13957/80014 [16:03<28:09, 39.10it/s]"
     ]
    },
    {
     "name": "stdout",
     "output_type": "stream",
     "text": [
      "2019-12-12 15:59:09,688 ACHTUNG: An empty Sentence was created! Are there empty strings in your dataset?\n",
      "2019-12-12 15:59:09,690 Ignore 1 sentence(s) with no tokens.\n"
     ]
    },
    {
     "name": "stderr",
     "output_type": "stream",
     "text": [
      " 18%|█▊        | 14084/80014 [16:06<21:55, 50.11it/s]"
     ]
    },
    {
     "name": "stdout",
     "output_type": "stream",
     "text": [
      "2019-12-12 15:59:12,690 ACHTUNG: An empty Sentence was created! Are there empty strings in your dataset?\n",
      "2019-12-12 15:59:12,692 Ignore 1 sentence(s) with no tokens.\n"
     ]
    },
    {
     "name": "stderr",
     "output_type": "stream",
     "text": [
      " 18%|█▊        | 14098/80014 [16:07<19:29, 56.34it/s]"
     ]
    },
    {
     "name": "stdout",
     "output_type": "stream",
     "text": [
      "2019-12-12 15:59:12,963 ACHTUNG: An empty Sentence was created! Are there empty strings in your dataset?\n",
      "2019-12-12 15:59:12,964 Ignore 1 sentence(s) with no tokens.\n"
     ]
    },
    {
     "name": "stderr",
     "output_type": "stream",
     "text": [
      " 18%|█▊        | 14139/80014 [16:07<23:00, 47.73it/s]"
     ]
    },
    {
     "name": "stdout",
     "output_type": "stream",
     "text": [
      "2019-12-12 15:59:13,856 ACHTUNG: An empty Sentence was created! Are there empty strings in your dataset?\n",
      "2019-12-12 15:59:13,857 Ignore 1 sentence(s) with no tokens.\n"
     ]
    },
    {
     "name": "stderr",
     "output_type": "stream",
     "text": [
      " 21%|██        | 16954/80014 [20:02<1:24:10, 12.49it/s] "
     ]
    },
    {
     "name": "stdout",
     "output_type": "stream",
     "text": [
      "2019-12-12 16:03:08,819 ACHTUNG: An empty Sentence was created! Are there empty strings in your dataset?\n",
      "2019-12-12 16:03:08,821 Ignore 1 sentence(s) with no tokens.\n",
      "2019-12-12 16:03:08,897 ACHTUNG: An empty Sentence was created! Are there empty strings in your dataset?\n",
      "2019-12-12 16:03:08,899 Ignore 1 sentence(s) with no tokens.\n"
     ]
    },
    {
     "name": "stderr",
     "output_type": "stream",
     "text": [
      "\r",
      " 21%|██        | 16961/80014 [20:03<1:03:36, 16.52it/s]"
     ]
    },
    {
     "name": "stdout",
     "output_type": "stream",
     "text": [
      "2019-12-12 16:03:09,004 ACHTUNG: An empty Sentence was created! Are there empty strings in your dataset?\n",
      "2019-12-12 16:03:09,006 Ignore 1 sentence(s) with no tokens.\n"
     ]
    },
    {
     "name": "stderr",
     "output_type": "stream",
     "text": [
      "\r",
      " 21%|██        | 16968/80014 [20:03<49:10, 21.37it/s]  "
     ]
    },
    {
     "name": "stdout",
     "output_type": "stream",
     "text": [
      "2019-12-12 16:03:09,046 ACHTUNG: An empty Sentence was created! Are there empty strings in your dataset?\n",
      "2019-12-12 16:03:09,047 Ignore 1 sentence(s) with no tokens.\n",
      "2019-12-12 16:03:09,121 ACHTUNG: An empty Sentence was created! Are there empty strings in your dataset?\n",
      "2019-12-12 16:03:09,123 Ignore 1 sentence(s) with no tokens.\n"
     ]
    },
    {
     "name": "stderr",
     "output_type": "stream",
     "text": [
      "\r",
      " 21%|██        | 16976/80014 [20:03<38:48, 27.07it/s]"
     ]
    },
    {
     "name": "stdout",
     "output_type": "stream",
     "text": [
      "2019-12-12 16:03:09,157 ACHTUNG: An empty Sentence was created! Are there empty strings in your dataset?\n",
      "2019-12-12 16:03:09,159 Ignore 1 sentence(s) with no tokens.\n",
      "2019-12-12 16:03:09,160 ACHTUNG: An empty Sentence was created! Are there empty strings in your dataset?\n",
      "2019-12-12 16:03:09,162 Ignore 1 sentence(s) with no tokens.\n",
      "2019-12-12 16:03:09,194 ACHTUNG: An empty Sentence was created! Are there empty strings in your dataset?\n",
      "2019-12-12 16:03:09,196 Ignore 1 sentence(s) with no tokens.\n"
     ]
    },
    {
     "name": "stderr",
     "output_type": "stream",
     "text": [
      "\r",
      " 21%|██        | 16985/80014 [20:03<30:54, 33.99it/s]"
     ]
    },
    {
     "name": "stdout",
     "output_type": "stream",
     "text": [
      "2019-12-12 16:03:09,259 ACHTUNG: An empty Sentence was created! Are there empty strings in your dataset?\n",
      "2019-12-12 16:03:09,261 Ignore 1 sentence(s) with no tokens.\n",
      "2019-12-12 16:03:09,297 ACHTUNG: An empty Sentence was created! Are there empty strings in your dataset?\n",
      "2019-12-12 16:03:09,299 Ignore 1 sentence(s) with no tokens.\n"
     ]
    },
    {
     "name": "stderr",
     "output_type": "stream",
     "text": [
      "\r",
      " 21%|██        | 16993/80014 [20:03<26:10, 40.13it/s]"
     ]
    },
    {
     "name": "stdout",
     "output_type": "stream",
     "text": [
      "2019-12-12 16:03:09,375 ACHTUNG: An empty Sentence was created! Are there empty strings in your dataset?\n",
      "2019-12-12 16:03:09,376 Ignore 1 sentence(s) with no tokens.\n",
      "2019-12-12 16:03:09,418 ACHTUNG: An empty Sentence was created! Are there empty strings in your dataset?\n",
      "2019-12-12 16:03:09,419 Ignore 1 sentence(s) with no tokens.\n"
     ]
    },
    {
     "name": "stderr",
     "output_type": "stream",
     "text": [
      "\r",
      " 21%|██        | 17001/80014 [20:03<22:47, 46.06it/s]"
     ]
    },
    {
     "name": "stdout",
     "output_type": "stream",
     "text": [
      "2019-12-12 16:03:09,488 ACHTUNG: An empty Sentence was created! Are there empty strings in your dataset?\n",
      "2019-12-12 16:03:09,490 Ignore 1 sentence(s) with no tokens.\n",
      "2019-12-12 16:03:09,524 ACHTUNG: An empty Sentence was created! Are there empty strings in your dataset?\n",
      "2019-12-12 16:03:09,526 Ignore 1 sentence(s) with no tokens.\n",
      "2019-12-12 16:03:09,527 ACHTUNG: An empty Sentence was created! Are there empty strings in your dataset?\n",
      "2019-12-12 16:03:09,529 Ignore 1 sentence(s) with no tokens.\n",
      "2019-12-12 16:03:09,564 ACHTUNG: An empty Sentence was created! Are there empty strings in your dataset?\n",
      "2019-12-12 16:03:09,566 Ignore 1 sentence(s) with no tokens.\n",
      "2019-12-12 16:03:09,567 ACHTUNG: An empty Sentence was created! Are there empty strings in your dataset?\n",
      "2019-12-12 16:03:09,569 Ignore 1 sentence(s) with no tokens.\n"
     ]
    },
    {
     "name": "stderr",
     "output_type": "stream",
     "text": [
      "\r",
      " 21%|██▏       | 17012/80014 [20:03<19:09, 54.81it/s]"
     ]
    },
    {
     "name": "stdout",
     "output_type": "stream",
     "text": [
      "2019-12-12 16:03:09,604 ACHTUNG: An empty Sentence was created! Are there empty strings in your dataset?\n",
      "2019-12-12 16:03:09,606 Ignore 1 sentence(s) with no tokens.\n",
      "2019-12-12 16:03:09,671 ACHTUNG: An empty Sentence was created! Are there empty strings in your dataset?\n",
      "2019-12-12 16:03:09,672 Ignore 1 sentence(s) with no tokens.\n"
     ]
    },
    {
     "name": "stderr",
     "output_type": "stream",
     "text": [
      "\r",
      " 21%|██▏       | 17020/80014 [20:03<17:26, 60.22it/s]"
     ]
    },
    {
     "name": "stdout",
     "output_type": "stream",
     "text": [
      "2019-12-12 16:03:09,708 ACHTUNG: An empty Sentence was created! Are there empty strings in your dataset?\n",
      "2019-12-12 16:03:09,709 Ignore 1 sentence(s) with no tokens.\n",
      "2019-12-12 16:03:09,711 ACHTUNG: An empty Sentence was created! Are there empty strings in your dataset?\n",
      "2019-12-12 16:03:09,712 Ignore 1 sentence(s) with no tokens.\n",
      "2019-12-12 16:03:09,745 ACHTUNG: An empty Sentence was created! Are there empty strings in your dataset?\n",
      "2019-12-12 16:03:09,746 Ignore 1 sentence(s) with no tokens.\n"
     ]
    },
    {
     "name": "stderr",
     "output_type": "stream",
     "text": [
      "\r",
      " 21%|██▏       | 17029/80014 [20:03<16:00, 65.56it/s]"
     ]
    },
    {
     "name": "stdout",
     "output_type": "stream",
     "text": [
      "2019-12-12 16:03:09,811 ACHTUNG: An empty Sentence was created! Are there empty strings in your dataset?\n",
      "2019-12-12 16:03:09,813 Ignore 1 sentence(s) with no tokens.\n",
      "2019-12-12 16:03:09,847 ACHTUNG: An empty Sentence was created! Are there empty strings in your dataset?\n",
      "2019-12-12 16:03:09,848 Ignore 1 sentence(s) with no tokens.\n",
      "2019-12-12 16:03:09,850 ACHTUNG: An empty Sentence was created! Are there empty strings in your dataset?\n",
      "2019-12-12 16:03:09,851 Ignore 1 sentence(s) with no tokens.\n",
      "2019-12-12 16:03:09,882 ACHTUNG: An empty Sentence was created! Are there empty strings in your dataset?\n",
      "2019-12-12 16:03:09,884 Ignore 1 sentence(s) with no tokens.\n",
      "2019-12-12 16:03:09,885 ACHTUNG: An empty Sentence was created! Are there empty strings in your dataset?\n",
      "2019-12-12 16:03:09,887 Ignore 1 sentence(s) with no tokens.\n"
     ]
    },
    {
     "name": "stderr",
     "output_type": "stream",
     "text": [
      "\r",
      " 21%|██▏       | 17040/80014 [20:04<14:13, 73.75it/s]"
     ]
    },
    {
     "name": "stdout",
     "output_type": "stream",
     "text": [
      "2019-12-12 16:03:09,921 ACHTUNG: An empty Sentence was created! Are there empty strings in your dataset?\n",
      "2019-12-12 16:03:09,922 Ignore 1 sentence(s) with no tokens.\n",
      "2019-12-12 16:03:09,996 ACHTUNG: An empty Sentence was created! Are there empty strings in your dataset?\n",
      "2019-12-12 16:03:09,997 Ignore 1 sentence(s) with no tokens.\n"
     ]
    },
    {
     "name": "stderr",
     "output_type": "stream",
     "text": [
      "\r",
      " 21%|██▏       | 17049/80014 [20:04<15:22, 68.26it/s]"
     ]
    },
    {
     "name": "stdout",
     "output_type": "stream",
     "text": [
      "2019-12-12 16:03:10,091 ACHTUNG: An empty Sentence was created! Are there empty strings in your dataset?\n",
      "2019-12-12 16:03:10,092 Ignore 1 sentence(s) with no tokens.\n",
      "2019-12-12 16:03:10,127 ACHTUNG: An empty Sentence was created! Are there empty strings in your dataset?\n",
      "2019-12-12 16:03:10,129 Ignore 1 sentence(s) with no tokens.\n",
      "2019-12-12 16:03:10,162 ACHTUNG: An empty Sentence was created! Are there empty strings in your dataset?\n",
      "2019-12-12 16:03:10,164 Ignore 1 sentence(s) with no tokens.\n"
     ]
    },
    {
     "name": "stderr",
     "output_type": "stream",
     "text": [
      "\r",
      " 21%|██▏       | 17057/80014 [20:04<15:03, 69.68it/s]"
     ]
    },
    {
     "name": "stdout",
     "output_type": "stream",
     "text": [
      "2019-12-12 16:03:10,268 ACHTUNG: An empty Sentence was created! Are there empty strings in your dataset?\n",
      "2019-12-12 16:03:10,269 Ignore 1 sentence(s) with no tokens.\n"
     ]
    },
    {
     "name": "stderr",
     "output_type": "stream",
     "text": [
      "\r",
      " 21%|██▏       | 17065/80014 [20:04<15:11, 69.07it/s]"
     ]
    },
    {
     "name": "stdout",
     "output_type": "stream",
     "text": [
      "2019-12-12 16:03:10,304 ACHTUNG: An empty Sentence was created! Are there empty strings in your dataset?\n",
      "2019-12-12 16:03:10,306 Ignore 1 sentence(s) with no tokens.\n",
      "2019-12-12 16:03:10,307 ACHTUNG: An empty Sentence was created! Are there empty strings in your dataset?\n",
      "2019-12-12 16:03:10,309 Ignore 1 sentence(s) with no tokens.\n",
      "2019-12-12 16:03:10,341 ACHTUNG: An empty Sentence was created! Are there empty strings in your dataset?\n",
      "2019-12-12 16:03:10,343 Ignore 1 sentence(s) with no tokens.\n"
     ]
    },
    {
     "name": "stderr",
     "output_type": "stream",
     "text": [
      "\r",
      " 21%|██▏       | 17073/80014 [20:04<14:41, 71.39it/s]"
     ]
    },
    {
     "name": "stdout",
     "output_type": "stream",
     "text": [
      "2019-12-12 16:03:10,421 ACHTUNG: An empty Sentence was created! Are there empty strings in your dataset?\n",
      "2019-12-12 16:03:10,422 Ignore 1 sentence(s) with no tokens.\n",
      "2019-12-12 16:03:10,453 ACHTUNG: An empty Sentence was created! Are there empty strings in your dataset?\n",
      "2019-12-12 16:03:10,454 Ignore 1 sentence(s) with no tokens.\n",
      "2019-12-12 16:03:10,456 ACHTUNG: An empty Sentence was created! Are there empty strings in your dataset?\n",
      "2019-12-12 16:03:10,457 Ignore 1 sentence(s) with no tokens.\n"
     ]
    },
    {
     "name": "stderr",
     "output_type": "stream",
     "text": [
      "\r",
      " 21%|██▏       | 17082/80014 [20:04<13:52, 75.63it/s]"
     ]
    },
    {
     "name": "stdout",
     "output_type": "stream",
     "text": [
      "2019-12-12 16:03:10,491 ACHTUNG: An empty Sentence was created! Are there empty strings in your dataset?\n",
      "2019-12-12 16:03:10,492 Ignore 1 sentence(s) with no tokens.\n",
      "2019-12-12 16:03:10,494 ACHTUNG: An empty Sentence was created! Are there empty strings in your dataset?\n",
      "2019-12-12 16:03:10,495 Ignore 1 sentence(s) with no tokens.\n",
      "2019-12-12 16:03:10,526 ACHTUNG: An empty Sentence was created! Are there empty strings in your dataset?\n",
      "2019-12-12 16:03:10,527 Ignore 1 sentence(s) with no tokens.\n"
     ]
    },
    {
     "name": "stderr",
     "output_type": "stream",
     "text": [
      "\r",
      " 21%|██▏       | 17090/80014 [20:04<13:49, 75.84it/s]"
     ]
    },
    {
     "name": "stdout",
     "output_type": "stream",
     "text": [
      "2019-12-12 16:03:10,610 ACHTUNG: An empty Sentence was created! Are there empty strings in your dataset?\n",
      "2019-12-12 16:03:10,611 Ignore 1 sentence(s) with no tokens.\n",
      "2019-12-12 16:03:10,642 ACHTUNG: An empty Sentence was created! Are there empty strings in your dataset?\n",
      "2019-12-12 16:03:10,644 Ignore 1 sentence(s) with no tokens.\n"
     ]
    },
    {
     "name": "stderr",
     "output_type": "stream",
     "text": [
      "\r",
      " 21%|██▏       | 17098/80014 [20:04<14:10, 74.01it/s]"
     ]
    },
    {
     "name": "stdout",
     "output_type": "stream",
     "text": [
      "2019-12-12 16:03:10,724 ACHTUNG: An empty Sentence was created! Are there empty strings in your dataset?\n",
      "2019-12-12 16:03:10,725 Ignore 1 sentence(s) with no tokens.\n",
      "2019-12-12 16:03:10,759 ACHTUNG: An empty Sentence was created! Are there empty strings in your dataset?\n",
      "2019-12-12 16:03:10,760 Ignore 1 sentence(s) with no tokens.\n",
      "2019-12-12 16:03:10,762 ACHTUNG: An empty Sentence was created! Are there empty strings in your dataset?\n",
      "2019-12-12 16:03:10,763 Ignore 1 sentence(s) with no tokens.\n",
      "2019-12-12 16:03:10,796 ACHTUNG: An empty Sentence was created! Are there empty strings in your dataset?\n",
      "2019-12-12 16:03:10,797 Ignore 1 sentence(s) with no tokens.\n"
     ]
    },
    {
     "name": "stderr",
     "output_type": "stream",
     "text": [
      "\r",
      " 21%|██▏       | 17108/80014 [20:04<13:25, 78.12it/s]"
     ]
    },
    {
     "name": "stdout",
     "output_type": "stream",
     "text": [
      "2019-12-12 16:03:10,865 ACHTUNG: An empty Sentence was created! Are there empty strings in your dataset?\n",
      "2019-12-12 16:03:10,867 Ignore 1 sentence(s) with no tokens.\n",
      "2019-12-12 16:03:10,898 ACHTUNG: An empty Sentence was created! Are there empty strings in your dataset?\n",
      "2019-12-12 16:03:10,899 Ignore 1 sentence(s) with no tokens.\n"
     ]
    },
    {
     "name": "stderr",
     "output_type": "stream",
     "text": [
      " 21%|██▏       | 17162/80014 [20:10<1:56:37,  8.98it/s]"
     ]
    },
    {
     "name": "stdout",
     "output_type": "stream",
     "text": [
      "2019-12-12 16:03:16,171 ACHTUNG: An empty Sentence was created! Are there empty strings in your dataset?\n",
      "2019-12-12 16:03:16,173 Ignore 1 sentence(s) with no tokens.\n",
      "2019-12-12 16:03:16,175 ACHTUNG: An empty Sentence was created! Are there empty strings in your dataset?\n",
      "2019-12-12 16:03:16,176 Ignore 1 sentence(s) with no tokens.\n"
     ]
    },
    {
     "name": "stderr",
     "output_type": "stream",
     "text": [
      " 21%|██▏       | 17176/80014 [20:10<1:05:30, 15.99it/s]"
     ]
    },
    {
     "name": "stdout",
     "output_type": "stream",
     "text": [
      "2019-12-12 16:03:16,327 ACHTUNG: An empty Sentence was created! Are there empty strings in your dataset?\n",
      "2019-12-12 16:03:16,329 Ignore 1 sentence(s) with no tokens.\n",
      "2019-12-12 16:03:16,330 ACHTUNG: An empty Sentence was created! Are there empty strings in your dataset?\n",
      "2019-12-12 16:03:16,332 Ignore 1 sentence(s) with no tokens.\n",
      "2019-12-12 16:03:16,333 ACHTUNG: An empty Sentence was created! Are there empty strings in your dataset?\n",
      "2019-12-12 16:03:16,335 Ignore 1 sentence(s) with no tokens.\n"
     ]
    },
    {
     "name": "stderr",
     "output_type": "stream",
     "text": [
      "\r",
      " 21%|██▏       | 17185/80014 [20:10<49:33, 21.13it/s]  "
     ]
    },
    {
     "name": "stdout",
     "output_type": "stream",
     "text": [
      "2019-12-12 16:03:16,415 ACHTUNG: An empty Sentence was created! Are there empty strings in your dataset?\n",
      "2019-12-12 16:03:16,416 Ignore 1 sentence(s) with no tokens.\n",
      "2019-12-12 16:03:16,418 ACHTUNG: An empty Sentence was created! Are there empty strings in your dataset?\n",
      "2019-12-12 16:03:16,419 Ignore 1 sentence(s) with no tokens.\n",
      "2019-12-12 16:03:16,502 ACHTUNG: An empty Sentence was created! Are there empty strings in your dataset?\n",
      "2019-12-12 16:03:16,503 Ignore 1 sentence(s) with no tokens.\n",
      "2019-12-12 16:03:16,505 ACHTUNG: An empty Sentence was created! Are there empty strings in your dataset?\n",
      "2019-12-12 16:03:16,506 Ignore 1 sentence(s) with no tokens.\n",
      "2019-12-12 16:03:16,508 ACHTUNG: An empty Sentence was created! Are there empty strings in your dataset?\n",
      "2019-12-12 16:03:16,509 Ignore 1 sentence(s) with no tokens.\n"
     ]
    },
    {
     "name": "stderr",
     "output_type": "stream",
     "text": [
      "\r",
      " 21%|██▏       | 17196/80014 [20:10<37:48, 27.69it/s]"
     ]
    },
    {
     "name": "stdout",
     "output_type": "stream",
     "text": [
      "2019-12-12 16:03:16,583 ACHTUNG: An empty Sentence was created! Are there empty strings in your dataset?\n",
      "2019-12-12 16:03:16,584 Ignore 1 sentence(s) with no tokens.\n",
      "2019-12-12 16:03:16,586 ACHTUNG: An empty Sentence was created! Are there empty strings in your dataset?\n",
      "2019-12-12 16:03:16,587 Ignore 1 sentence(s) with no tokens.\n",
      "2019-12-12 16:03:16,589 ACHTUNG: An empty Sentence was created! Are there empty strings in your dataset?\n",
      "2019-12-12 16:03:16,590 Ignore 1 sentence(s) with no tokens.\n"
     ]
    },
    {
     "name": "stderr",
     "output_type": "stream",
     "text": [
      "\r",
      " 22%|██▏       | 17204/80014 [20:10<30:32, 34.28it/s]"
     ]
    },
    {
     "name": "stdout",
     "output_type": "stream",
     "text": [
      "2019-12-12 16:03:16,664 ACHTUNG: An empty Sentence was created! Are there empty strings in your dataset?\n",
      "2019-12-12 16:03:16,665 Ignore 1 sentence(s) with no tokens.\n",
      "2019-12-12 16:03:16,667 ACHTUNG: An empty Sentence was created! Are there empty strings in your dataset?\n",
      "2019-12-12 16:03:16,668 Ignore 1 sentence(s) with no tokens.\n"
     ]
    },
    {
     "name": "stderr",
     "output_type": "stream",
     "text": [
      "\r",
      " 22%|██▏       | 17212/80014 [20:10<25:27, 41.13it/s]"
     ]
    },
    {
     "name": "stdout",
     "output_type": "stream",
     "text": [
      "2019-12-12 16:03:16,741 ACHTUNG: An empty Sentence was created! Are there empty strings in your dataset?\n",
      "2019-12-12 16:03:16,742 Ignore 1 sentence(s) with no tokens.\n",
      "2019-12-12 16:03:16,744 ACHTUNG: An empty Sentence was created! Are there empty strings in your dataset?\n",
      "2019-12-12 16:03:16,745 Ignore 1 sentence(s) with no tokens.\n",
      "2019-12-12 16:03:16,747 ACHTUNG: An empty Sentence was created! Are there empty strings in your dataset?\n",
      "2019-12-12 16:03:16,749 Ignore 1 sentence(s) with no tokens.\n",
      "2019-12-12 16:03:16,823 ACHTUNG: An empty Sentence was created! Are there empty strings in your dataset?\n",
      "2019-12-12 16:03:16,825 Ignore 1 sentence(s) with no tokens.\n",
      "2019-12-12 16:03:16,826 ACHTUNG: An empty Sentence was created! Are there empty strings in your dataset?\n",
      "2019-12-12 16:03:16,828 Ignore 1 sentence(s) with no tokens.\n"
     ]
    },
    {
     "name": "stderr",
     "output_type": "stream",
     "text": [
      "\r",
      " 22%|██▏       | 17223/80014 [20:11<21:12, 49.35it/s]"
     ]
    },
    {
     "name": "stdout",
     "output_type": "stream",
     "text": [
      "2019-12-12 16:03:16,912 ACHTUNG: An empty Sentence was created! Are there empty strings in your dataset?\n",
      "2019-12-12 16:03:16,914 Ignore 1 sentence(s) with no tokens.\n",
      "2019-12-12 16:03:16,916 ACHTUNG: An empty Sentence was created! Are there empty strings in your dataset?\n",
      "2019-12-12 16:03:16,917 Ignore 1 sentence(s) with no tokens.\n",
      "2019-12-12 16:03:16,919 ACHTUNG: An empty Sentence was created! Are there empty strings in your dataset?\n",
      "2019-12-12 16:03:16,920 Ignore 1 sentence(s) with no tokens.\n"
     ]
    },
    {
     "name": "stderr",
     "output_type": "stream",
     "text": [
      "\r",
      " 22%|██▏       | 17232/80014 [20:11<18:53, 55.38it/s]"
     ]
    },
    {
     "name": "stdout",
     "output_type": "stream",
     "text": [
      "2019-12-12 16:03:17,003 ACHTUNG: An empty Sentence was created! Are there empty strings in your dataset?\n",
      "2019-12-12 16:03:17,004 Ignore 1 sentence(s) with no tokens.\n",
      "2019-12-12 16:03:17,006 ACHTUNG: An empty Sentence was created! Are there empty strings in your dataset?\n",
      "2019-12-12 16:03:17,007 Ignore 1 sentence(s) with no tokens.\n"
     ]
    },
    {
     "name": "stderr",
     "output_type": "stream",
     "text": [
      "\r",
      " 22%|██▏       | 17240/80014 [20:11<17:29, 59.81it/s]"
     ]
    },
    {
     "name": "stdout",
     "output_type": "stream",
     "text": [
      "2019-12-12 16:03:17,085 ACHTUNG: An empty Sentence was created! Are there empty strings in your dataset?\n",
      "2019-12-12 16:03:17,086 Ignore 1 sentence(s) with no tokens.\n",
      "2019-12-12 16:03:17,088 ACHTUNG: An empty Sentence was created! Are there empty strings in your dataset?\n",
      "2019-12-12 16:03:17,089 Ignore 1 sentence(s) with no tokens.\n",
      "2019-12-12 16:03:17,091 ACHTUNG: An empty Sentence was created! Are there empty strings in your dataset?\n",
      "2019-12-12 16:03:17,093 Ignore 1 sentence(s) with no tokens.\n",
      "2019-12-12 16:03:17,167 ACHTUNG: An empty Sentence was created! Are there empty strings in your dataset?\n",
      "2019-12-12 16:03:17,169 Ignore 1 sentence(s) with no tokens.\n",
      "2019-12-12 16:03:17,170 ACHTUNG: An empty Sentence was created! Are there empty strings in your dataset?\n",
      "2019-12-12 16:03:17,172 Ignore 1 sentence(s) with no tokens.\n",
      "2019-12-12 16:03:17,173 ACHTUNG: An empty Sentence was created! Are there empty strings in your dataset?\n",
      "2019-12-12 16:03:17,175 Ignore 1 sentence(s) with no tokens.\n"
     ]
    },
    {
     "name": "stderr",
     "output_type": "stream",
     "text": [
      "\r",
      " 22%|██▏       | 17251/80014 [20:11<15:10, 68.96it/s]"
     ]
    },
    {
     "name": "stdout",
     "output_type": "stream",
     "text": [
      "2019-12-12 16:03:17,248 ACHTUNG: An empty Sentence was created! Are there empty strings in your dataset?\n",
      "2019-12-12 16:03:17,250 Ignore 1 sentence(s) with no tokens.\n",
      "2019-12-12 16:03:17,251 ACHTUNG: An empty Sentence was created! Are there empty strings in your dataset?\n",
      "2019-12-12 16:03:17,253 Ignore 1 sentence(s) with no tokens.\n"
     ]
    },
    {
     "name": "stderr",
     "output_type": "stream",
     "text": [
      "\r",
      " 22%|██▏       | 17260/80014 [20:11<15:11, 68.82it/s]"
     ]
    },
    {
     "name": "stdout",
     "output_type": "stream",
     "text": [
      "2019-12-12 16:03:17,328 ACHTUNG: An empty Sentence was created! Are there empty strings in your dataset?\n",
      "2019-12-12 16:03:17,330 Ignore 1 sentence(s) with no tokens.\n",
      "2019-12-12 16:03:17,331 ACHTUNG: An empty Sentence was created! Are there empty strings in your dataset?\n",
      "2019-12-12 16:03:17,333 Ignore 1 sentence(s) with no tokens.\n",
      "2019-12-12 16:03:17,334 ACHTUNG: An empty Sentence was created! Are there empty strings in your dataset?\n",
      "2019-12-12 16:03:17,336 Ignore 1 sentence(s) with no tokens.\n"
     ]
    },
    {
     "name": "stderr",
     "output_type": "stream",
     "text": [
      "\r",
      " 22%|██▏       | 17269/80014 [20:11<14:07, 74.00it/s]"
     ]
    },
    {
     "name": "stdout",
     "output_type": "stream",
     "text": [
      "2019-12-12 16:03:17,410 ACHTUNG: An empty Sentence was created! Are there empty strings in your dataset?\n",
      "2019-12-12 16:03:17,411 Ignore 1 sentence(s) with no tokens.\n",
      "2019-12-12 16:03:17,413 ACHTUNG: An empty Sentence was created! Are there empty strings in your dataset?\n",
      "2019-12-12 16:03:17,414 Ignore 1 sentence(s) with no tokens.\n"
     ]
    },
    {
     "name": "stderr",
     "output_type": "stream",
     "text": [
      "\r",
      " 22%|██▏       | 17278/80014 [20:11<13:42, 76.27it/s]"
     ]
    },
    {
     "name": "stdout",
     "output_type": "stream",
     "text": [
      "2019-12-12 16:03:17,519 ACHTUNG: An empty Sentence was created! Are there empty strings in your dataset?\n",
      "2019-12-12 16:03:17,521 Ignore 1 sentence(s) with no tokens.\n",
      "2019-12-12 16:03:17,668 ACHTUNG: An empty Sentence was created! Are there empty strings in your dataset?\n",
      "2019-12-12 16:03:17,669 Ignore 1 sentence(s) with no tokens.\n"
     ]
    },
    {
     "name": "stderr",
     "output_type": "stream",
     "text": [
      "\r",
      " 22%|██▏       | 17287/80014 [20:11<14:56, 69.99it/s]"
     ]
    },
    {
     "name": "stdout",
     "output_type": "stream",
     "text": [
      "2019-12-12 16:03:17,724 ACHTUNG: An empty Sentence was created! Are there empty strings in your dataset?\n",
      "2019-12-12 16:03:17,725 Ignore 1 sentence(s) with no tokens.\n",
      "2019-12-12 16:03:17,727 ACHTUNG: An empty Sentence was created! Are there empty strings in your dataset?\n",
      "2019-12-12 16:03:17,728 Ignore 1 sentence(s) with no tokens.\n"
     ]
    },
    {
     "name": "stderr",
     "output_type": "stream",
     "text": [
      "\r",
      " 22%|██▏       | 17295/80014 [20:11<14:30, 72.02it/s]"
     ]
    },
    {
     "name": "stdout",
     "output_type": "stream",
     "text": [
      "2019-12-12 16:03:17,795 ACHTUNG: An empty Sentence was created! Are there empty strings in your dataset?\n",
      "2019-12-12 16:03:17,797 Ignore 1 sentence(s) with no tokens.\n",
      "2019-12-12 16:03:17,798 ACHTUNG: An empty Sentence was created! Are there empty strings in your dataset?\n",
      "2019-12-12 16:03:17,800 Ignore 1 sentence(s) with no tokens.\n",
      "2019-12-12 16:03:17,801 ACHTUNG: An empty Sentence was created! Are there empty strings in your dataset?\n",
      "2019-12-12 16:03:17,803 Ignore 1 sentence(s) with no tokens.\n"
     ]
    },
    {
     "name": "stderr",
     "output_type": "stream",
     "text": [
      "\r",
      " 22%|██▏       | 17304/80014 [20:12<13:44, 76.09it/s]"
     ]
    },
    {
     "name": "stdout",
     "output_type": "stream",
     "text": [
      "2019-12-12 16:03:17,879 ACHTUNG: An empty Sentence was created! Are there empty strings in your dataset?\n",
      "2019-12-12 16:03:17,880 Ignore 1 sentence(s) with no tokens.\n",
      "2019-12-12 16:03:17,882 ACHTUNG: An empty Sentence was created! Are there empty strings in your dataset?\n",
      "2019-12-12 16:03:17,883 Ignore 1 sentence(s) with no tokens.\n",
      "2019-12-12 16:03:17,917 ACHTUNG: An empty Sentence was created! Are there empty strings in your dataset?\n",
      "2019-12-12 16:03:17,918 Ignore 1 sentence(s) with no tokens.\n",
      "2019-12-12 16:03:17,971 ACHTUNG: An empty Sentence was created! Are there empty strings in your dataset?\n",
      "2019-12-12 16:03:17,972 Ignore 1 sentence(s) with no tokens.\n",
      "2019-12-12 16:03:17,974 ACHTUNG: An empty Sentence was created! Are there empty strings in your dataset?\n",
      "2019-12-12 16:03:17,976 Ignore 1 sentence(s) with no tokens.\n"
     ]
    },
    {
     "name": "stderr",
     "output_type": "stream",
     "text": [
      "\r",
      " 22%|██▏       | 17314/80014 [20:12<13:31, 77.27it/s]"
     ]
    },
    {
     "name": "stdout",
     "output_type": "stream",
     "text": [
      "2019-12-12 16:03:18,073 ACHTUNG: An empty Sentence was created! Are there empty strings in your dataset?\n",
      "2019-12-12 16:03:18,075 Ignore 1 sentence(s) with no tokens.\n"
     ]
    },
    {
     "name": "stderr",
     "output_type": "stream",
     "text": [
      "\r",
      " 22%|██▏       | 17323/80014 [20:12<13:17, 78.57it/s]"
     ]
    },
    {
     "name": "stdout",
     "output_type": "stream",
     "text": [
      "2019-12-12 16:03:18,186 ACHTUNG: An empty Sentence was created! Are there empty strings in your dataset?\n",
      "2019-12-12 16:03:18,187 Ignore 1 sentence(s) with no tokens.\n"
     ]
    },
    {
     "name": "stderr",
     "output_type": "stream",
     "text": [
      "\r",
      " 22%|██▏       | 17332/80014 [20:12<14:27, 72.29it/s]"
     ]
    },
    {
     "name": "stdout",
     "output_type": "stream",
     "text": [
      "2019-12-12 16:03:18,387 ACHTUNG: An empty Sentence was created! Are there empty strings in your dataset?\n",
      "2019-12-12 16:03:18,389 Ignore 1 sentence(s) with no tokens.\n"
     ]
    },
    {
     "name": "stderr",
     "output_type": "stream",
     "text": [
      "\r",
      " 22%|██▏       | 17340/80014 [20:12<15:13, 68.61it/s]"
     ]
    },
    {
     "name": "stdout",
     "output_type": "stream",
     "text": [
      "2019-12-12 16:03:18,392 ACHTUNG: An empty Sentence was created! Are there empty strings in your dataset?\n",
      "2019-12-12 16:03:18,393 Ignore 1 sentence(s) with no tokens.\n",
      "2019-12-12 16:03:18,395 ACHTUNG: An empty Sentence was created! Are there empty strings in your dataset?\n",
      "2019-12-12 16:03:18,396 Ignore 1 sentence(s) with no tokens.\n",
      "2019-12-12 16:03:18,467 ACHTUNG: An empty Sentence was created! Are there empty strings in your dataset?\n",
      "2019-12-12 16:03:18,469 Ignore 1 sentence(s) with no tokens.\n",
      "2019-12-12 16:03:18,470 ACHTUNG: An empty Sentence was created! Are there empty strings in your dataset?\n",
      "2019-12-12 16:03:18,472 Ignore 1 sentence(s) with no tokens.\n"
     ]
    },
    {
     "name": "stderr",
     "output_type": "stream",
     "text": [
      "\r",
      " 22%|██▏       | 17349/80014 [20:12<14:46, 70.68it/s]"
     ]
    },
    {
     "name": "stdout",
     "output_type": "stream",
     "text": [
      "2019-12-12 16:03:18,581 ACHTUNG: An empty Sentence was created! Are there empty strings in your dataset?\n",
      "2019-12-12 16:03:18,583 Ignore 1 sentence(s) with no tokens.\n"
     ]
    },
    {
     "name": "stderr",
     "output_type": "stream",
     "text": [
      " 22%|██▏       | 17366/80014 [20:12<15:49, 65.98it/s]"
     ]
    },
    {
     "name": "stdout",
     "output_type": "stream",
     "text": [
      "2019-12-12 16:03:18,780 ACHTUNG: An empty Sentence was created! Are there empty strings in your dataset?\n",
      "2019-12-12 16:03:18,782 Ignore 1 sentence(s) with no tokens.\n",
      "2019-12-12 16:03:18,783 ACHTUNG: An empty Sentence was created! Are there empty strings in your dataset?\n",
      "2019-12-12 16:03:18,785 Ignore 1 sentence(s) with no tokens.\n",
      "2019-12-12 16:03:18,786 ACHTUNG: An empty Sentence was created! Are there empty strings in your dataset?\n",
      "2019-12-12 16:03:18,788 Ignore 1 sentence(s) with no tokens.\n",
      "2019-12-12 16:03:18,861 ACHTUNG: An empty Sentence was created! Are there empty strings in your dataset?\n",
      "2019-12-12 16:03:18,862 Ignore 1 sentence(s) with no tokens.\n",
      "2019-12-12 16:03:18,864 ACHTUNG: An empty Sentence was created! Are there empty strings in your dataset?\n",
      "2019-12-12 16:03:18,865 Ignore 1 sentence(s) with no tokens.\n",
      "2019-12-12 16:03:18,867 ACHTUNG: An empty Sentence was created! Are there empty strings in your dataset?\n",
      "2019-12-12 16:03:18,868 Ignore 1 sentence(s) with no tokens.\n"
     ]
    },
    {
     "name": "stderr",
     "output_type": "stream",
     "text": [
      "\r",
      " 22%|██▏       | 17377/80014 [20:13<13:55, 74.94it/s]"
     ]
    },
    {
     "name": "stdout",
     "output_type": "stream",
     "text": [
      "2019-12-12 16:03:18,941 ACHTUNG: An empty Sentence was created! Are there empty strings in your dataset?\n",
      "2019-12-12 16:03:18,943 Ignore 1 sentence(s) with no tokens.\n",
      "2019-12-12 16:03:18,944 ACHTUNG: An empty Sentence was created! Are there empty strings in your dataset?\n",
      "2019-12-12 16:03:18,946 Ignore 1 sentence(s) with no tokens.\n"
     ]
    },
    {
     "name": "stderr",
     "output_type": "stream",
     "text": [
      "\r",
      " 22%|██▏       | 17386/80014 [20:13<14:20, 72.75it/s]"
     ]
    },
    {
     "name": "stdout",
     "output_type": "stream",
     "text": [
      "2019-12-12 16:03:19,022 ACHTUNG: An empty Sentence was created! Are there empty strings in your dataset?\n",
      "2019-12-12 16:03:19,024 Ignore 1 sentence(s) with no tokens.\n",
      "2019-12-12 16:03:19,025 ACHTUNG: An empty Sentence was created! Are there empty strings in your dataset?\n",
      "2019-12-12 16:03:19,027 Ignore 1 sentence(s) with no tokens.\n",
      "2019-12-12 16:03:19,028 ACHTUNG: An empty Sentence was created! Are there empty strings in your dataset?\n",
      "2019-12-12 16:03:19,030 Ignore 1 sentence(s) with no tokens.\n",
      "2019-12-12 16:03:19,101 ACHTUNG: An empty Sentence was created! Are there empty strings in your dataset?\n",
      "2019-12-12 16:03:19,102 Ignore 1 sentence(s) with no tokens.\n"
     ]
    },
    {
     "name": "stderr",
     "output_type": "stream",
     "text": [
      "\r",
      " 22%|██▏       | 17396/80014 [20:13<13:13, 78.87it/s]"
     ]
    },
    {
     "name": "stdout",
     "output_type": "stream",
     "text": [
      "2019-12-12 16:03:19,105 ACHTUNG: An empty Sentence was created! Are there empty strings in your dataset?\n",
      "2019-12-12 16:03:19,106 Ignore 1 sentence(s) with no tokens.\n"
     ]
    },
    {
     "name": "stderr",
     "output_type": "stream",
     "text": [
      " 28%|██▊       | 22032/80014 [26:02<2:18:04,  7.00it/s] "
     ]
    },
    {
     "name": "stdout",
     "output_type": "stream",
     "text": [
      "2019-12-12 16:09:08,233 ACHTUNG: An empty Sentence was created! Are there empty strings in your dataset?\n",
      "2019-12-12 16:09:08,235 Ignore 1 sentence(s) with no tokens.\n"
     ]
    },
    {
     "name": "stderr",
     "output_type": "stream",
     "text": [
      " 33%|███▎      | 26228/80014 [30:24<32:22, 27.69it/s]  "
     ]
    },
    {
     "name": "stdout",
     "output_type": "stream",
     "text": [
      "2019-12-12 16:13:30,336 ACHTUNG: An empty Sentence was created! Are there empty strings in your dataset?\n",
      "2019-12-12 16:13:30,337 Ignore 1 sentence(s) with no tokens.\n"
     ]
    },
    {
     "name": "stderr",
     "output_type": "stream",
     "text": [
      " 33%|███▎      | 26239/80014 [30:24<25:32, 35.10it/s]"
     ]
    },
    {
     "name": "stdout",
     "output_type": "stream",
     "text": [
      "2019-12-12 16:13:30,626 ACHTUNG: An empty Sentence was created! Are there empty strings in your dataset?\n",
      "2019-12-12 16:13:30,627 Ignore 1 sentence(s) with no tokens.\n"
     ]
    },
    {
     "name": "stderr",
     "output_type": "stream",
     "text": [
      " 35%|███▍      | 27968/80014 [32:13<1:02:01, 13.98it/s]"
     ]
    },
    {
     "name": "stdout",
     "output_type": "stream",
     "text": [
      "2019-12-12 16:15:19,006 ACHTUNG: An empty Sentence was created! Are there empty strings in your dataset?\n",
      "2019-12-12 16:15:19,008 Ignore 1 sentence(s) with no tokens.\n"
     ]
    },
    {
     "name": "stderr",
     "output_type": "stream",
     "text": [
      " 35%|███▍      | 27989/80014 [32:13<30:22, 28.55it/s]  "
     ]
    },
    {
     "name": "stdout",
     "output_type": "stream",
     "text": [
      "2019-12-12 16:15:19,412 ACHTUNG: An empty Sentence was created! Are there empty strings in your dataset?\n",
      "2019-12-12 16:15:19,413 Ignore 1 sentence(s) with no tokens.\n",
      "2019-12-12 16:15:19,415 ACHTUNG: An empty Sentence was created! Are there empty strings in your dataset?\n",
      "2019-12-12 16:15:19,416 Ignore 1 sentence(s) with no tokens.\n",
      "2019-12-12 16:15:19,418 ACHTUNG: An empty Sentence was created! Are there empty strings in your dataset?\n",
      "2019-12-12 16:15:19,419 Ignore 1 sentence(s) with no tokens.\n"
     ]
    },
    {
     "name": "stderr",
     "output_type": "stream",
     "text": [
      "\r",
      " 35%|███▍      | 27997/80014 [32:13<24:31, 35.35it/s]"
     ]
    },
    {
     "name": "stdout",
     "output_type": "stream",
     "text": [
      "2019-12-12 16:15:19,505 ACHTUNG: An empty Sentence was created! Are there empty strings in your dataset?\n",
      "2019-12-12 16:15:19,507 Ignore 1 sentence(s) with no tokens.\n",
      "2019-12-12 16:15:19,508 ACHTUNG: An empty Sentence was created! Are there empty strings in your dataset?\n",
      "2019-12-12 16:15:19,510 Ignore 1 sentence(s) with no tokens.\n",
      "2019-12-12 16:15:19,511 ACHTUNG: An empty Sentence was created! Are there empty strings in your dataset?\n",
      "2019-12-12 16:15:19,513 Ignore 1 sentence(s) with no tokens.\n"
     ]
    },
    {
     "name": "stderr",
     "output_type": "stream",
     "text": [
      " 35%|███▌      | 28366/80014 [32:42<27:31, 31.27it/s]  "
     ]
    },
    {
     "name": "stdout",
     "output_type": "stream",
     "text": [
      "2019-12-12 16:15:48,713 ACHTUNG: An empty Sentence was created! Are there empty strings in your dataset?\n",
      "2019-12-12 16:15:48,714 Ignore 1 sentence(s) with no tokens.\n"
     ]
    },
    {
     "name": "stderr",
     "output_type": "stream",
     "text": [
      "\r",
      " 35%|███▌      | 28375/80014 [32:42<22:23, 38.44it/s]"
     ]
    },
    {
     "name": "stdout",
     "output_type": "stream",
     "text": [
      "2019-12-12 16:15:48,918 ACHTUNG: An empty Sentence was created! Are there empty strings in your dataset?\n",
      "2019-12-12 16:15:48,919 Ignore 1 sentence(s) with no tokens.\n"
     ]
    },
    {
     "name": "stderr",
     "output_type": "stream",
     "text": [
      " 35%|███▌      | 28398/80014 [32:43<15:43, 54.71it/s]"
     ]
    },
    {
     "name": "stdout",
     "output_type": "stream",
     "text": [
      "2019-12-12 16:15:49,238 ACHTUNG: An empty Sentence was created! Are there empty strings in your dataset?\n",
      "2019-12-12 16:15:49,240 Ignore 1 sentence(s) with no tokens.\n"
     ]
    },
    {
     "name": "stderr",
     "output_type": "stream",
     "text": [
      "\r",
      " 36%|███▌      | 28406/80014 [32:43<14:53, 57.78it/s]"
     ]
    },
    {
     "name": "stdout",
     "output_type": "stream",
     "text": [
      "2019-12-12 16:15:49,332 ACHTUNG: An empty Sentence was created! Are there empty strings in your dataset?\n",
      "2019-12-12 16:15:49,334 Ignore 1 sentence(s) with no tokens.\n"
     ]
    },
    {
     "name": "stderr",
     "output_type": "stream",
     "text": [
      " 36%|███▌      | 28421/80014 [32:43<13:44, 62.54it/s]"
     ]
    },
    {
     "name": "stdout",
     "output_type": "stream",
     "text": [
      "2019-12-12 16:15:49,515 ACHTUNG: An empty Sentence was created! Are there empty strings in your dataset?\n",
      "2019-12-12 16:15:49,517 Ignore 1 sentence(s) with no tokens.\n"
     ]
    },
    {
     "name": "stderr",
     "output_type": "stream",
     "text": [
      " 36%|███▌      | 28487/80014 [32:44<12:53, 66.65it/s]"
     ]
    },
    {
     "name": "stdout",
     "output_type": "stream",
     "text": [
      "2019-12-12 16:15:50,556 ACHTUNG: An empty Sentence was created! Are there empty strings in your dataset?\n",
      "2019-12-12 16:15:50,557 Ignore 1 sentence(s) with no tokens.\n"
     ]
    },
    {
     "name": "stderr",
     "output_type": "stream",
     "text": [
      "\r",
      " 36%|███▌      | 28495/80014 [32:44<12:36, 68.06it/s]"
     ]
    },
    {
     "name": "stdout",
     "output_type": "stream",
     "text": [
      "2019-12-12 16:15:50,602 ACHTUNG: An empty Sentence was created! Are there empty strings in your dataset?\n",
      "2019-12-12 16:15:50,604 Ignore 1 sentence(s) with no tokens.\n"
     ]
    },
    {
     "name": "stderr",
     "output_type": "stream",
     "text": [
      " 36%|███▌      | 28535/80014 [32:46<30:44, 27.91it/s]"
     ]
    },
    {
     "name": "stdout",
     "output_type": "stream",
     "text": [
      "2019-12-12 16:15:52,549 ACHTUNG: An empty Sentence was created! Are there empty strings in your dataset?\n",
      "2019-12-12 16:15:52,550 Ignore 1 sentence(s) with no tokens.\n"
     ]
    },
    {
     "name": "stderr",
     "output_type": "stream",
     "text": [
      " 36%|███▌      | 28556/80014 [32:47<19:37, 43.71it/s]"
     ]
    },
    {
     "name": "stdout",
     "output_type": "stream",
     "text": [
      "2019-12-12 16:15:52,852 ACHTUNG: An empty Sentence was created! Are there empty strings in your dataset?\n",
      "2019-12-12 16:15:52,853 Ignore 1 sentence(s) with no tokens.\n",
      "2019-12-12 16:15:52,947 ACHTUNG: An empty Sentence was created! Are there empty strings in your dataset?\n",
      "2019-12-12 16:15:52,948 Ignore 1 sentence(s) with no tokens.\n"
     ]
    },
    {
     "name": "stderr",
     "output_type": "stream",
     "text": [
      " 36%|███▌      | 28572/80014 [32:47<16:42, 51.33it/s]"
     ]
    },
    {
     "name": "stdout",
     "output_type": "stream",
     "text": [
      "2019-12-12 16:15:53,133 ACHTUNG: An empty Sentence was created! Are there empty strings in your dataset?\n",
      "2019-12-12 16:15:53,134 Ignore 1 sentence(s) with no tokens.\n"
     ]
    },
    {
     "name": "stderr",
     "output_type": "stream",
     "text": [
      " 36%|███▌      | 28642/80014 [32:48<13:24, 63.82it/s]"
     ]
    },
    {
     "name": "stdout",
     "output_type": "stream",
     "text": [
      "2019-12-12 16:15:54,230 ACHTUNG: An empty Sentence was created! Are there empty strings in your dataset?\n",
      "2019-12-12 16:15:54,232 Ignore 1 sentence(s) with no tokens.\n"
     ]
    },
    {
     "name": "stderr",
     "output_type": "stream",
     "text": [
      "\r",
      " 36%|███▌      | 28649/80014 [32:48<13:19, 64.25it/s]"
     ]
    },
    {
     "name": "stdout",
     "output_type": "stream",
     "text": [
      "2019-12-12 16:15:54,320 ACHTUNG: An empty Sentence was created! Are there empty strings in your dataset?\n",
      "2019-12-12 16:15:54,321 Ignore 1 sentence(s) with no tokens.\n"
     ]
    },
    {
     "name": "stderr",
     "output_type": "stream",
     "text": [
      " 36%|███▌      | 28663/80014 [32:48<21:17, 40.19it/s]"
     ]
    },
    {
     "name": "stdout",
     "output_type": "stream",
     "text": [
      "2019-12-12 16:15:54,782 ACHTUNG: An empty Sentence was created! Are there empty strings in your dataset?\n",
      "2019-12-12 16:15:54,784 Ignore 1 sentence(s) with no tokens.\n"
     ]
    },
    {
     "name": "stderr",
     "output_type": "stream",
     "text": [
      "\r",
      " 36%|███▌      | 28669/80014 [32:49<26:19, 32.50it/s]"
     ]
    },
    {
     "name": "stdout",
     "output_type": "stream",
     "text": [
      "2019-12-12 16:15:55,026 ACHTUNG: An empty Sentence was created! Are there empty strings in your dataset?\n",
      "2019-12-12 16:15:55,028 Ignore 1 sentence(s) with no tokens.\n",
      "2019-12-12 16:15:55,066 ACHTUNG: An empty Sentence was created! Are there empty strings in your dataset?\n",
      "2019-12-12 16:15:55,068 Ignore 1 sentence(s) with no tokens.\n",
      "2019-12-12 16:15:55,105 ACHTUNG: An empty Sentence was created! Are there empty strings in your dataset?\n",
      "2019-12-12 16:15:55,106 Ignore 1 sentence(s) with no tokens.\n"
     ]
    },
    {
     "name": "stderr",
     "output_type": "stream",
     "text": [
      "\r",
      " 36%|███▌      | 28677/80014 [32:49<21:59, 38.91it/s]"
     ]
    },
    {
     "name": "stdout",
     "output_type": "stream",
     "text": [
      "2019-12-12 16:15:55,169 ACHTUNG: An empty Sentence was created! Are there empty strings in your dataset?\n",
      "2019-12-12 16:15:55,170 Ignore 1 sentence(s) with no tokens.\n",
      "2019-12-12 16:15:55,172 ACHTUNG: An empty Sentence was created! Are there empty strings in your dataset?\n",
      "2019-12-12 16:15:55,173 Ignore 1 sentence(s) with no tokens.\n"
     ]
    },
    {
     "name": "stderr",
     "output_type": "stream",
     "text": [
      "\r",
      " 36%|███▌      | 28685/80014 [32:49<18:39, 45.84it/s]"
     ]
    },
    {
     "name": "stdout",
     "output_type": "stream",
     "text": [
      "2019-12-12 16:15:55,259 ACHTUNG: An empty Sentence was created! Are there empty strings in your dataset?\n",
      "2019-12-12 16:15:55,260 Ignore 1 sentence(s) with no tokens.\n"
     ]
    },
    {
     "name": "stderr",
     "output_type": "stream",
     "text": [
      "\r",
      " 36%|███▌      | 28691/80014 [32:49<25:15, 33.87it/s]"
     ]
    },
    {
     "name": "stdout",
     "output_type": "stream",
     "text": [
      "2019-12-12 16:15:55,524 ACHTUNG: An empty Sentence was created! Are there empty strings in your dataset?\n",
      "2019-12-12 16:15:55,526 Ignore 1 sentence(s) with no tokens.\n",
      "2019-12-12 16:15:55,559 ACHTUNG: An empty Sentence was created! Are there empty strings in your dataset?\n",
      "2019-12-12 16:15:55,561 Ignore 1 sentence(s) with no tokens.\n"
     ]
    },
    {
     "name": "stderr",
     "output_type": "stream",
     "text": [
      "\r",
      " 36%|███▌      | 28699/80014 [32:49<20:55, 40.88it/s]"
     ]
    },
    {
     "name": "stdout",
     "output_type": "stream",
     "text": [
      "2019-12-12 16:15:55,642 ACHTUNG: An empty Sentence was created! Are there empty strings in your dataset?\n",
      "2019-12-12 16:15:55,643 Ignore 1 sentence(s) with no tokens.\n",
      "2019-12-12 16:15:55,645 ACHTUNG: An empty Sentence was created! Are there empty strings in your dataset?\n",
      "2019-12-12 16:15:55,646 Ignore 1 sentence(s) with no tokens.\n"
     ]
    },
    {
     "name": "stderr",
     "output_type": "stream",
     "text": [
      "\r",
      " 36%|███▌      | 28708/80014 [32:49<17:38, 48.47it/s]"
     ]
    },
    {
     "name": "stdout",
     "output_type": "stream",
     "text": [
      "2019-12-12 16:15:55,731 ACHTUNG: An empty Sentence was created! Are there empty strings in your dataset?\n",
      "2019-12-12 16:15:55,732 Ignore 1 sentence(s) with no tokens.\n",
      "2019-12-12 16:15:55,990 ACHTUNG: An empty Sentence was created! Are there empty strings in your dataset?\n",
      "2019-12-12 16:15:55,991 Ignore 1 sentence(s) with no tokens.\n"
     ]
    },
    {
     "name": "stderr",
     "output_type": "stream",
     "text": [
      "\r",
      " 36%|███▌      | 28715/80014 [32:50<23:37, 36.20it/s]"
     ]
    },
    {
     "name": "stdout",
     "output_type": "stream",
     "text": [
      "2019-12-12 16:15:56,038 ACHTUNG: An empty Sentence was created! Are there empty strings in your dataset?\n",
      "2019-12-12 16:15:56,040 Ignore 1 sentence(s) with no tokens.\n",
      "2019-12-12 16:15:56,078 ACHTUNG: An empty Sentence was created! Are there empty strings in your dataset?\n",
      "2019-12-12 16:15:56,079 Ignore 1 sentence(s) with no tokens.\n"
     ]
    },
    {
     "name": "stderr",
     "output_type": "stream",
     "text": [
      " 36%|███▌      | 28741/80014 [32:51<36:39, 23.31it/s]"
     ]
    },
    {
     "name": "stdout",
     "output_type": "stream",
     "text": [
      "2019-12-12 16:15:57,179 ACHTUNG: An empty Sentence was created! Are there empty strings in your dataset?\n",
      "2019-12-12 16:15:57,180 Ignore 1 sentence(s) with no tokens.\n"
     ]
    },
    {
     "name": "stderr",
     "output_type": "stream",
     "text": [
      " 36%|███▌      | 28757/80014 [32:51<24:05, 35.45it/s]"
     ]
    },
    {
     "name": "stdout",
     "output_type": "stream",
     "text": [
      "2019-12-12 16:15:57,403 ACHTUNG: An empty Sentence was created! Are there empty strings in your dataset?\n",
      "2019-12-12 16:15:57,405 Ignore 1 sentence(s) with no tokens.\n"
     ]
    },
    {
     "name": "stderr",
     "output_type": "stream",
     "text": [
      " 36%|███▌      | 28779/80014 [32:51<17:13, 49.59it/s]"
     ]
    },
    {
     "name": "stdout",
     "output_type": "stream",
     "text": [
      "2019-12-12 16:15:57,704 ACHTUNG: An empty Sentence was created! Are there empty strings in your dataset?\n",
      "2019-12-12 16:15:57,706 Ignore 1 sentence(s) with no tokens.\n"
     ]
    },
    {
     "name": "stderr",
     "output_type": "stream",
     "text": [
      " 36%|███▌      | 28807/80014 [32:52<14:36, 58.45it/s]"
     ]
    },
    {
     "name": "stdout",
     "output_type": "stream",
     "text": [
      "2019-12-12 16:15:58,169 ACHTUNG: An empty Sentence was created! Are there empty strings in your dataset?\n",
      "2019-12-12 16:15:58,171 Ignore 1 sentence(s) with no tokens.\n"
     ]
    },
    {
     "name": "stderr",
     "output_type": "stream",
     "text": [
      "\r",
      " 36%|███▌      | 28815/80014 [32:52<13:47, 61.86it/s]"
     ]
    },
    {
     "name": "stdout",
     "output_type": "stream",
     "text": [
      "2019-12-12 16:15:58,267 ACHTUNG: An empty Sentence was created! Are there empty strings in your dataset?\n",
      "2019-12-12 16:15:58,269 Ignore 1 sentence(s) with no tokens.\n"
     ]
    },
    {
     "name": "stderr",
     "output_type": "stream",
     "text": [
      " 36%|███▌      | 28829/80014 [32:52<14:00, 60.87it/s]"
     ]
    },
    {
     "name": "stdout",
     "output_type": "stream",
     "text": [
      "2019-12-12 16:15:58,563 ACHTUNG: An empty Sentence was created! Are there empty strings in your dataset?\n",
      "2019-12-12 16:15:58,565 Ignore 1 sentence(s) with no tokens.\n"
     ]
    },
    {
     "name": "stderr",
     "output_type": "stream",
     "text": [
      " 36%|███▌      | 28919/80014 [32:54<13:37, 62.50it/s]"
     ]
    },
    {
     "name": "stdout",
     "output_type": "stream",
     "text": [
      "2019-12-12 16:16:00,032 ACHTUNG: An empty Sentence was created! Are there empty strings in your dataset?\n",
      "2019-12-12 16:16:00,033 Ignore 1 sentence(s) with no tokens.\n"
     ]
    },
    {
     "name": "stderr",
     "output_type": "stream",
     "text": [
      " 36%|███▌      | 28933/80014 [32:54<13:16, 64.15it/s]"
     ]
    },
    {
     "name": "stdout",
     "output_type": "stream",
     "text": [
      "2019-12-12 16:16:00,210 ACHTUNG: An empty Sentence was created! Are there empty strings in your dataset?\n",
      "2019-12-12 16:16:00,211 Ignore 1 sentence(s) with no tokens.\n"
     ]
    },
    {
     "name": "stderr",
     "output_type": "stream",
     "text": [
      " 37%|███▋      | 29529/80014 [33:50<37:15, 22.59it/s]  "
     ]
    },
    {
     "name": "stdout",
     "output_type": "stream",
     "text": [
      "2019-12-12 16:16:56,019 ACHTUNG: An empty Sentence was created! Are there empty strings in your dataset?\n",
      "2019-12-12 16:16:56,021 Ignore 1 sentence(s) with no tokens.\n"
     ]
    },
    {
     "name": "stderr",
     "output_type": "stream",
     "text": [
      " 37%|███▋      | 29538/80014 [33:50<28:41, 29.31it/s]"
     ]
    },
    {
     "name": "stdout",
     "output_type": "stream",
     "text": [
      "2019-12-12 16:16:56,151 ACHTUNG: An empty Sentence was created! Are there empty strings in your dataset?\n",
      "2019-12-12 16:16:56,153 Ignore 1 sentence(s) with no tokens.\n"
     ]
    },
    {
     "name": "stderr",
     "output_type": "stream",
     "text": [
      "\r",
      " 37%|███▋      | 29544/80014 [33:50<25:14, 33.33it/s]"
     ]
    },
    {
     "name": "stdout",
     "output_type": "stream",
     "text": [
      "2019-12-12 16:16:56,274 ACHTUNG: An empty Sentence was created! Are there empty strings in your dataset?\n",
      "2019-12-12 16:16:56,275 Ignore 1 sentence(s) with no tokens.\n"
     ]
    },
    {
     "name": "stderr",
     "output_type": "stream",
     "text": [
      "\r",
      " 37%|███▋      | 29550/80014 [33:50<22:56, 36.67it/s]"
     ]
    },
    {
     "name": "stdout",
     "output_type": "stream",
     "text": [
      "2019-12-12 16:16:56,399 ACHTUNG: An empty Sentence was created! Are there empty strings in your dataset?\n",
      "2019-12-12 16:16:56,400 Ignore 1 sentence(s) with no tokens.\n"
     ]
    },
    {
     "name": "stderr",
     "output_type": "stream",
     "text": [
      " 40%|████      | 32013/80014 [37:02<46:43, 17.12it/s]  "
     ]
    },
    {
     "name": "stdout",
     "output_type": "stream",
     "text": [
      "2019-12-12 16:20:08,763 ACHTUNG: An empty Sentence was created! Are there empty strings in your dataset?\n",
      "2019-12-12 16:20:08,765 Ignore 1 sentence(s) with no tokens.\n"
     ]
    },
    {
     "name": "stderr",
     "output_type": "stream",
     "text": [
      " 40%|████      | 32030/80014 [37:03<28:05, 28.46it/s]"
     ]
    },
    {
     "name": "stdout",
     "output_type": "stream",
     "text": [
      "2019-12-12 16:20:08,899 ACHTUNG: An empty Sentence was created! Are there empty strings in your dataset?\n",
      "2019-12-12 16:20:08,900 Ignore 1 sentence(s) with no tokens.\n"
     ]
    },
    {
     "name": "stderr",
     "output_type": "stream",
     "text": [
      "\r",
      " 40%|████      | 32039/80014 [37:03<22:33, 35.45it/s]"
     ]
    },
    {
     "name": "stdout",
     "output_type": "stream",
     "text": [
      "2019-12-12 16:20:09,035 ACHTUNG: An empty Sentence was created! Are there empty strings in your dataset?\n",
      "2019-12-12 16:20:09,036 Ignore 1 sentence(s) with no tokens.\n"
     ]
    },
    {
     "name": "stderr",
     "output_type": "stream",
     "text": [
      " 40%|████      | 32064/80014 [37:03<14:54, 53.61it/s]"
     ]
    },
    {
     "name": "stdout",
     "output_type": "stream",
     "text": [
      "2019-12-12 16:20:09,332 ACHTUNG: An empty Sentence was created! Are there empty strings in your dataset?\n",
      "2019-12-12 16:20:09,334 Ignore 1 sentence(s) with no tokens.\n"
     ]
    },
    {
     "name": "stderr",
     "output_type": "stream",
     "text": [
      "\r",
      " 40%|████      | 32073/80014 [37:03<13:16, 60.16it/s]"
     ]
    },
    {
     "name": "stdout",
     "output_type": "stream",
     "text": [
      "2019-12-12 16:20:09,465 ACHTUNG: An empty Sentence was created! Are there empty strings in your dataset?\n",
      "2019-12-12 16:20:09,467 Ignore 1 sentence(s) with no tokens.\n"
     ]
    },
    {
     "name": "stderr",
     "output_type": "stream",
     "text": [
      "\r",
      " 40%|████      | 32082/80014 [37:03<12:08, 65.77it/s]"
     ]
    },
    {
     "name": "stdout",
     "output_type": "stream",
     "text": [
      "2019-12-12 16:20:09,601 ACHTUNG: An empty Sentence was created! Are there empty strings in your dataset?\n",
      "2019-12-12 16:20:09,603 Ignore 1 sentence(s) with no tokens.\n"
     ]
    },
    {
     "name": "stderr",
     "output_type": "stream",
     "text": [
      " 40%|████      | 32107/80014 [37:04<11:17, 70.74it/s]"
     ]
    },
    {
     "name": "stdout",
     "output_type": "stream",
     "text": [
      "2019-12-12 16:20:09,896 ACHTUNG: An empty Sentence was created! Are there empty strings in your dataset?\n",
      "2019-12-12 16:20:09,897 Ignore 1 sentence(s) with no tokens.\n"
     ]
    },
    {
     "name": "stderr",
     "output_type": "stream",
     "text": [
      "\r",
      " 40%|████      | 32116/80014 [37:04<10:45, 74.20it/s]"
     ]
    },
    {
     "name": "stdout",
     "output_type": "stream",
     "text": [
      "2019-12-12 16:20:10,030 ACHTUNG: An empty Sentence was created! Are there empty strings in your dataset?\n",
      "2019-12-12 16:20:10,031 Ignore 1 sentence(s) with no tokens.\n"
     ]
    },
    {
     "name": "stderr",
     "output_type": "stream",
     "text": [
      "\r",
      " 40%|████      | 32125/80014 [37:04<10:24, 76.74it/s]"
     ]
    },
    {
     "name": "stdout",
     "output_type": "stream",
     "text": [
      "2019-12-12 16:20:10,164 ACHTUNG: An empty Sentence was created! Are there empty strings in your dataset?\n",
      "2019-12-12 16:20:10,166 Ignore 1 sentence(s) with no tokens.\n"
     ]
    },
    {
     "name": "stderr",
     "output_type": "stream",
     "text": [
      " 40%|████      | 32151/80014 [37:04<10:37, 75.10it/s]"
     ]
    },
    {
     "name": "stdout",
     "output_type": "stream",
     "text": [
      "2019-12-12 16:20:10,459 ACHTUNG: An empty Sentence was created! Are there empty strings in your dataset?\n",
      "2019-12-12 16:20:10,460 Ignore 1 sentence(s) with no tokens.\n"
     ]
    },
    {
     "name": "stderr",
     "output_type": "stream",
     "text": [
      "\r",
      " 40%|████      | 32160/80014 [37:04<10:18, 77.40it/s]"
     ]
    },
    {
     "name": "stdout",
     "output_type": "stream",
     "text": [
      "2019-12-12 16:20:10,593 ACHTUNG: An empty Sentence was created! Are there empty strings in your dataset?\n",
      "2019-12-12 16:20:10,595 Ignore 1 sentence(s) with no tokens.\n"
     ]
    },
    {
     "name": "stderr",
     "output_type": "stream",
     "text": [
      "\r",
      " 40%|████      | 32169/80014 [37:04<10:05, 78.99it/s]"
     ]
    },
    {
     "name": "stdout",
     "output_type": "stream",
     "text": [
      "2019-12-12 16:20:10,728 ACHTUNG: An empty Sentence was created! Are there empty strings in your dataset?\n",
      "2019-12-12 16:20:10,729 Ignore 1 sentence(s) with no tokens.\n"
     ]
    },
    {
     "name": "stderr",
     "output_type": "stream",
     "text": [
      " 40%|████      | 32195/80014 [37:05<10:32, 75.54it/s]"
     ]
    },
    {
     "name": "stdout",
     "output_type": "stream",
     "text": [
      "2019-12-12 16:20:11,024 ACHTUNG: An empty Sentence was created! Are there empty strings in your dataset?\n",
      "2019-12-12 16:20:11,026 Ignore 1 sentence(s) with no tokens.\n"
     ]
    },
    {
     "name": "stderr",
     "output_type": "stream",
     "text": [
      "\r",
      " 40%|████      | 32204/80014 [37:05<10:12, 78.07it/s]"
     ]
    },
    {
     "name": "stdout",
     "output_type": "stream",
     "text": [
      "2019-12-12 16:20:11,157 ACHTUNG: An empty Sentence was created! Are there empty strings in your dataset?\n",
      "2019-12-12 16:20:11,159 Ignore 1 sentence(s) with no tokens.\n"
     ]
    },
    {
     "name": "stderr",
     "output_type": "stream",
     "text": [
      "\r",
      " 40%|████      | 32213/80014 [37:05<09:59, 79.72it/s]"
     ]
    },
    {
     "name": "stdout",
     "output_type": "stream",
     "text": [
      "2019-12-12 16:20:11,290 ACHTUNG: An empty Sentence was created! Are there empty strings in your dataset?\n",
      "2019-12-12 16:20:11,291 Ignore 1 sentence(s) with no tokens.\n"
     ]
    },
    {
     "name": "stderr",
     "output_type": "stream",
     "text": [
      " 40%|████      | 32239/80014 [37:05<10:29, 75.87it/s]"
     ]
    },
    {
     "name": "stdout",
     "output_type": "stream",
     "text": [
      "2019-12-12 16:20:11,586 ACHTUNG: An empty Sentence was created! Are there empty strings in your dataset?\n",
      "2019-12-12 16:20:11,587 Ignore 1 sentence(s) with no tokens.\n"
     ]
    },
    {
     "name": "stderr",
     "output_type": "stream",
     "text": [
      "\r",
      " 40%|████      | 32248/80014 [37:05<10:10, 78.22it/s]"
     ]
    },
    {
     "name": "stdout",
     "output_type": "stream",
     "text": [
      "2019-12-12 16:20:11,719 ACHTUNG: An empty Sentence was created! Are there empty strings in your dataset?\n",
      "2019-12-12 16:20:11,721 Ignore 1 sentence(s) with no tokens.\n"
     ]
    },
    {
     "name": "stderr",
     "output_type": "stream",
     "text": [
      "\r",
      " 40%|████      | 32257/80014 [37:05<09:59, 79.65it/s]"
     ]
    },
    {
     "name": "stdout",
     "output_type": "stream",
     "text": [
      "2019-12-12 16:20:11,853 ACHTUNG: An empty Sentence was created! Are there empty strings in your dataset?\n",
      "2019-12-12 16:20:11,854 Ignore 1 sentence(s) with no tokens.\n"
     ]
    },
    {
     "name": "stderr",
     "output_type": "stream",
     "text": [
      " 40%|████      | 32283/80014 [37:06<10:29, 75.83it/s]"
     ]
    },
    {
     "name": "stdout",
     "output_type": "stream",
     "text": [
      "2019-12-12 16:20:12,150 ACHTUNG: An empty Sentence was created! Are there empty strings in your dataset?\n",
      "2019-12-12 16:20:12,151 Ignore 1 sentence(s) with no tokens.\n"
     ]
    },
    {
     "name": "stderr",
     "output_type": "stream",
     "text": [
      "\r",
      " 40%|████      | 32292/80014 [37:06<10:12, 77.89it/s]"
     ]
    },
    {
     "name": "stdout",
     "output_type": "stream",
     "text": [
      "2019-12-12 16:20:12,285 ACHTUNG: An empty Sentence was created! Are there empty strings in your dataset?\n",
      "2019-12-12 16:20:12,286 Ignore 1 sentence(s) with no tokens.\n"
     ]
    },
    {
     "name": "stderr",
     "output_type": "stream",
     "text": [
      "\r",
      " 40%|████      | 32301/80014 [37:06<10:01, 79.37it/s]"
     ]
    },
    {
     "name": "stdout",
     "output_type": "stream",
     "text": [
      "2019-12-12 16:20:12,419 ACHTUNG: An empty Sentence was created! Are there empty strings in your dataset?\n",
      "2019-12-12 16:20:12,420 Ignore 1 sentence(s) with no tokens.\n"
     ]
    },
    {
     "name": "stderr",
     "output_type": "stream",
     "text": [
      " 45%|████▌     | 36298/80014 [41:26<48:11, 15.12it/s]  "
     ]
    },
    {
     "name": "stdout",
     "output_type": "stream",
     "text": [
      "2019-12-12 16:24:32,443 ACHTUNG: An empty Sentence was created! Are there empty strings in your dataset?\n",
      "2019-12-12 16:24:32,444 Ignore 1 sentence(s) with no tokens.\n"
     ]
    },
    {
     "name": "stderr",
     "output_type": "stream",
     "text": [
      "\r",
      " 45%|████▌     | 36304/80014 [41:26<38:17, 19.02it/s]"
     ]
    },
    {
     "name": "stdout",
     "output_type": "stream",
     "text": [
      "2019-12-12 16:24:32,653 ACHTUNG: An empty Sentence was created! Are there empty strings in your dataset?\n",
      "2019-12-12 16:24:32,655 Ignore 1 sentence(s) with no tokens.\n",
      "2019-12-12 16:24:32,656 ACHTUNG: An empty Sentence was created! Are there empty strings in your dataset?\n",
      "2019-12-12 16:24:32,658 Ignore 1 sentence(s) with no tokens.\n",
      "2019-12-12 16:24:32,659 ACHTUNG: An empty Sentence was created! Are there empty strings in your dataset?\n",
      "2019-12-12 16:24:32,661 Ignore 1 sentence(s) with no tokens.\n"
     ]
    },
    {
     "name": "stderr",
     "output_type": "stream",
     "text": [
      " 46%|████▌     | 36461/80014 [41:33<44:39, 16.26it/s]  "
     ]
    },
    {
     "name": "stdout",
     "output_type": "stream",
     "text": [
      "2019-12-12 16:24:39,502 ACHTUNG: An empty Sentence was created! Are there empty strings in your dataset?\n",
      "2019-12-12 16:24:39,503 Ignore 1 sentence(s) with no tokens.\n"
     ]
    },
    {
     "name": "stderr",
     "output_type": "stream",
     "text": [
      " 46%|████▌     | 36473/80014 [41:33<29:12, 24.85it/s]"
     ]
    },
    {
     "name": "stdout",
     "output_type": "stream",
     "text": [
      "2019-12-12 16:24:39,800 ACHTUNG: An empty Sentence was created! Are there empty strings in your dataset?\n",
      "2019-12-12 16:24:39,801 Ignore 1 sentence(s) with no tokens.\n"
     ]
    },
    {
     "name": "stderr",
     "output_type": "stream",
     "text": [
      "\r",
      " 46%|████▌     | 36481/80014 [41:34<23:32, 30.82it/s]"
     ]
    },
    {
     "name": "stdout",
     "output_type": "stream",
     "text": [
      "2019-12-12 16:24:39,904 ACHTUNG: An empty Sentence was created! Are there empty strings in your dataset?\n",
      "2019-12-12 16:24:39,906 Ignore 1 sentence(s) with no tokens.\n"
     ]
    },
    {
     "name": "stderr",
     "output_type": "stream",
     "text": [
      " 46%|████▌     | 36501/80014 [41:34<16:20, 44.40it/s]"
     ]
    },
    {
     "name": "stdout",
     "output_type": "stream",
     "text": [
      "2019-12-12 16:24:40,185 ACHTUNG: An empty Sentence was created! Are there empty strings in your dataset?\n",
      "2019-12-12 16:24:40,187 Ignore 1 sentence(s) with no tokens.\n"
     ]
    },
    {
     "name": "stderr",
     "output_type": "stream",
     "text": [
      " 46%|████▌     | 36516/80014 [41:34<14:02, 51.63it/s]"
     ]
    },
    {
     "name": "stdout",
     "output_type": "stream",
     "text": [
      "2019-12-12 16:24:40,454 ACHTUNG: An empty Sentence was created! Are there empty strings in your dataset?\n",
      "2019-12-12 16:24:40,456 Ignore 1 sentence(s) with no tokens.\n"
     ]
    },
    {
     "name": "stderr",
     "output_type": "stream",
     "text": [
      "\r",
      " 46%|████▌     | 36525/80014 [41:34<12:44, 56.89it/s]"
     ]
    },
    {
     "name": "stdout",
     "output_type": "stream",
     "text": [
      "2019-12-12 16:24:40,541 ACHTUNG: An empty Sentence was created! Are there empty strings in your dataset?\n",
      "2019-12-12 16:24:40,542 Ignore 1 sentence(s) with no tokens.\n"
     ]
    },
    {
     "name": "stderr",
     "output_type": "stream",
     "text": [
      "\r",
      " 46%|████▌     | 36532/80014 [41:34<12:43, 56.93it/s]"
     ]
    },
    {
     "name": "stdout",
     "output_type": "stream",
     "text": [
      "2019-12-12 16:24:40,664 ACHTUNG: An empty Sentence was created! Are there empty strings in your dataset?\n",
      "2019-12-12 16:24:40,665 Ignore 1 sentence(s) with no tokens.\n",
      "2019-12-12 16:24:40,718 ACHTUNG: An empty Sentence was created! Are there empty strings in your dataset?\n",
      "2019-12-12 16:24:40,719 Ignore 1 sentence(s) with no tokens.\n"
     ]
    },
    {
     "name": "stderr",
     "output_type": "stream",
     "text": [
      "\r",
      " 46%|████▌     | 36541/80014 [41:34<11:23, 63.61it/s]"
     ]
    },
    {
     "name": "stdout",
     "output_type": "stream",
     "text": [
      "2019-12-12 16:24:40,822 ACHTUNG: An empty Sentence was created! Are there empty strings in your dataset?\n",
      "2019-12-12 16:24:40,823 Ignore 1 sentence(s) with no tokens.\n"
     ]
    },
    {
     "name": "stderr",
     "output_type": "stream",
     "text": [
      "\r",
      " 46%|████▌     | 36548/80014 [41:35<11:19, 63.98it/s]"
     ]
    },
    {
     "name": "stdout",
     "output_type": "stream",
     "text": [
      "2019-12-12 16:24:40,899 ACHTUNG: An empty Sentence was created! Are there empty strings in your dataset?\n",
      "2019-12-12 16:24:40,901 Ignore 1 sentence(s) with no tokens.\n"
     ]
    },
    {
     "name": "stderr",
     "output_type": "stream",
     "text": [
      "\r",
      " 46%|████▌     | 36555/80014 [41:35<11:21, 63.75it/s]"
     ]
    },
    {
     "name": "stdout",
     "output_type": "stream",
     "text": [
      "2019-12-12 16:24:40,985 ACHTUNG: An empty Sentence was created! Are there empty strings in your dataset?\n",
      "2019-12-12 16:24:40,987 Ignore 1 sentence(s) with no tokens.\n"
     ]
    },
    {
     "name": "stderr",
     "output_type": "stream",
     "text": [
      "\r",
      " 46%|████▌     | 36562/80014 [41:35<11:19, 63.96it/s]"
     ]
    },
    {
     "name": "stdout",
     "output_type": "stream",
     "text": [
      "2019-12-12 16:24:41,084 ACHTUNG: An empty Sentence was created! Are there empty strings in your dataset?\n",
      "2019-12-12 16:24:41,086 Ignore 1 sentence(s) with no tokens.\n",
      "2019-12-12 16:24:41,152 ACHTUNG: An empty Sentence was created! Are there empty strings in your dataset?\n",
      "2019-12-12 16:24:41,153 Ignore 1 sentence(s) with no tokens.\n"
     ]
    },
    {
     "name": "stderr",
     "output_type": "stream",
     "text": [
      "\r",
      " 46%|████▌     | 36571/80014 [41:35<10:33, 68.62it/s]"
     ]
    },
    {
     "name": "stdout",
     "output_type": "stream",
     "text": [
      "2019-12-12 16:24:41,230 ACHTUNG: An empty Sentence was created! Are there empty strings in your dataset?\n",
      "2019-12-12 16:24:41,231 Ignore 1 sentence(s) with no tokens.\n"
     ]
    },
    {
     "name": "stderr",
     "output_type": "stream",
     "text": [
      "\r",
      " 46%|████▌     | 36579/80014 [41:35<11:36, 62.40it/s]"
     ]
    },
    {
     "name": "stdout",
     "output_type": "stream",
     "text": [
      "2019-12-12 16:24:41,358 ACHTUNG: An empty Sentence was created! Are there empty strings in your dataset?\n",
      "2019-12-12 16:24:41,359 Ignore 1 sentence(s) with no tokens.\n"
     ]
    },
    {
     "name": "stderr",
     "output_type": "stream",
     "text": [
      "\r",
      " 46%|████▌     | 36587/80014 [41:35<10:58, 65.94it/s]"
     ]
    },
    {
     "name": "stdout",
     "output_type": "stream",
     "text": [
      "2019-12-12 16:24:41,444 ACHTUNG: An empty Sentence was created! Are there empty strings in your dataset?\n",
      "2019-12-12 16:24:41,445 Ignore 1 sentence(s) with no tokens.\n"
     ]
    },
    {
     "name": "stderr",
     "output_type": "stream",
     "text": [
      " 49%|████▉     | 39360/80014 [45:33<23:36, 28.69it/s]  "
     ]
    },
    {
     "name": "stdout",
     "output_type": "stream",
     "text": [
      "2019-12-12 16:28:39,814 ACHTUNG: An empty Sentence was created! Are there empty strings in your dataset?\n",
      "2019-12-12 16:28:39,816 Ignore 1 sentence(s) with no tokens.\n",
      "2019-12-12 16:28:39,817 ACHTUNG: An empty Sentence was created! Are there empty strings in your dataset?\n",
      "2019-12-12 16:28:39,819 Ignore 1 sentence(s) with no tokens.\n"
     ]
    },
    {
     "name": "stderr",
     "output_type": "stream",
     "text": [
      " 56%|█████▋    | 45046/80014 [53:32<37:55, 15.37it/s]  "
     ]
    },
    {
     "name": "stdout",
     "output_type": "stream",
     "text": [
      "2019-12-12 16:36:38,055 ACHTUNG: An empty Sentence was created! Are there empty strings in your dataset?\n",
      "2019-12-12 16:36:38,057 Ignore 1 sentence(s) with no tokens.\n"
     ]
    },
    {
     "name": "stderr",
     "output_type": "stream",
     "text": [
      "\r",
      " 56%|█████▋    | 45055/80014 [53:32<28:40, 20.32it/s]"
     ]
    },
    {
     "name": "stdout",
     "output_type": "stream",
     "text": [
      "2019-12-12 16:36:38,144 ACHTUNG: An empty Sentence was created! Are there empty strings in your dataset?\n",
      "2019-12-12 16:36:38,145 Ignore 1 sentence(s) with no tokens.\n"
     ]
    },
    {
     "name": "stderr",
     "output_type": "stream",
     "text": [
      "\r",
      " 56%|█████▋    | 45065/80014 [53:32<21:58, 26.51it/s]"
     ]
    },
    {
     "name": "stdout",
     "output_type": "stream",
     "text": [
      "2019-12-12 16:36:38,231 ACHTUNG: An empty Sentence was created! Are there empty strings in your dataset?\n",
      "2019-12-12 16:36:38,232 Ignore 1 sentence(s) with no tokens.\n"
     ]
    },
    {
     "name": "stderr",
     "output_type": "stream",
     "text": [
      "\r",
      " 56%|█████▋    | 45075/80014 [53:32<17:18, 33.64it/s]"
     ]
    },
    {
     "name": "stdout",
     "output_type": "stream",
     "text": [
      "2019-12-12 16:36:38,324 ACHTUNG: An empty Sentence was created! Are there empty strings in your dataset?\n",
      "2019-12-12 16:36:38,325 Ignore 1 sentence(s) with no tokens.\n"
     ]
    },
    {
     "name": "stderr",
     "output_type": "stream",
     "text": [
      "\r",
      " 56%|█████▋    | 45084/80014 [53:32<14:03, 41.42it/s]"
     ]
    },
    {
     "name": "stdout",
     "output_type": "stream",
     "text": [
      "2019-12-12 16:36:38,411 ACHTUNG: An empty Sentence was created! Are there empty strings in your dataset?\n",
      "2019-12-12 16:36:38,413 Ignore 1 sentence(s) with no tokens.\n",
      "2019-12-12 16:36:38,506 ACHTUNG: An empty Sentence was created! Are there empty strings in your dataset?\n",
      "2019-12-12 16:36:38,508 Ignore 1 sentence(s) with no tokens.\n"
     ]
    },
    {
     "name": "stderr",
     "output_type": "stream",
     "text": [
      "\r",
      " 56%|█████▋    | 45094/80014 [53:32<11:52, 48.98it/s]"
     ]
    },
    {
     "name": "stdout",
     "output_type": "stream",
     "text": [
      "2019-12-12 16:36:38,602 ACHTUNG: An empty Sentence was created! Are there empty strings in your dataset?\n",
      "2019-12-12 16:36:38,604 Ignore 1 sentence(s) with no tokens.\n"
     ]
    },
    {
     "name": "stderr",
     "output_type": "stream",
     "text": [
      "\r",
      " 56%|█████▋    | 45103/80014 [53:32<10:20, 56.27it/s]"
     ]
    },
    {
     "name": "stdout",
     "output_type": "stream",
     "text": [
      "2019-12-12 16:36:38,686 ACHTUNG: An empty Sentence was created! Are there empty strings in your dataset?\n",
      "2019-12-12 16:36:38,687 Ignore 1 sentence(s) with no tokens.\n"
     ]
    },
    {
     "name": "stderr",
     "output_type": "stream",
     "text": [
      "\r",
      " 56%|█████▋    | 45113/80014 [53:32<09:00, 64.60it/s]"
     ]
    },
    {
     "name": "stdout",
     "output_type": "stream",
     "text": [
      "2019-12-12 16:36:38,769 ACHTUNG: An empty Sentence was created! Are there empty strings in your dataset?\n",
      "2019-12-12 16:36:38,771 Ignore 1 sentence(s) with no tokens.\n"
     ]
    },
    {
     "name": "stderr",
     "output_type": "stream",
     "text": [
      "\r",
      " 56%|█████▋    | 45122/80014 [53:33<08:19, 69.89it/s]"
     ]
    },
    {
     "name": "stdout",
     "output_type": "stream",
     "text": [
      "2019-12-12 16:36:38,859 ACHTUNG: An empty Sentence was created! Are there empty strings in your dataset?\n",
      "2019-12-12 16:36:38,860 Ignore 1 sentence(s) with no tokens.\n"
     ]
    },
    {
     "name": "stderr",
     "output_type": "stream",
     "text": [
      " 56%|█████▋    | 45162/80014 [53:34<20:25, 28.44it/s]"
     ]
    },
    {
     "name": "stdout",
     "output_type": "stream",
     "text": [
      "2019-12-12 16:36:40,640 ACHTUNG: An empty Sentence was created! Are there empty strings in your dataset?\n",
      "2019-12-12 16:36:40,642 Ignore 1 sentence(s) with no tokens.\n",
      "2019-12-12 16:36:40,721 ACHTUNG: An empty Sentence was created! Are there empty strings in your dataset?\n",
      "2019-12-12 16:36:40,723 Ignore 1 sentence(s) with no tokens.\n"
     ]
    },
    {
     "name": "stderr",
     "output_type": "stream",
     "text": [
      "\r",
      " 56%|█████▋    | 45172/80014 [53:34<16:05, 36.10it/s]"
     ]
    },
    {
     "name": "stdout",
     "output_type": "stream",
     "text": [
      "2019-12-12 16:36:40,803 ACHTUNG: An empty Sentence was created! Are there empty strings in your dataset?\n",
      "2019-12-12 16:36:40,804 Ignore 1 sentence(s) with no tokens.\n"
     ]
    },
    {
     "name": "stderr",
     "output_type": "stream",
     "text": [
      "\r",
      " 56%|█████▋    | 45182/80014 [53:35<13:01, 44.56it/s]"
     ]
    },
    {
     "name": "stdout",
     "output_type": "stream",
     "text": [
      "2019-12-12 16:36:40,887 ACHTUNG: An empty Sentence was created! Are there empty strings in your dataset?\n",
      "2019-12-12 16:36:40,889 Ignore 1 sentence(s) with no tokens.\n"
     ]
    },
    {
     "name": "stderr",
     "output_type": "stream",
     "text": [
      "\r",
      " 56%|█████▋    | 45192/80014 [53:35<10:56, 53.01it/s]"
     ]
    },
    {
     "name": "stdout",
     "output_type": "stream",
     "text": [
      "2019-12-12 16:36:40,971 ACHTUNG: An empty Sentence was created! Are there empty strings in your dataset?\n",
      "2019-12-12 16:36:40,973 Ignore 1 sentence(s) with no tokens.\n"
     ]
    },
    {
     "name": "stderr",
     "output_type": "stream",
     "text": [
      "\r",
      " 56%|█████▋    | 45202/80014 [53:35<09:32, 60.84it/s]"
     ]
    },
    {
     "name": "stdout",
     "output_type": "stream",
     "text": [
      "2019-12-12 16:36:41,058 ACHTUNG: An empty Sentence was created! Are there empty strings in your dataset?\n",
      "2019-12-12 16:36:41,059 Ignore 1 sentence(s) with no tokens.\n",
      "2019-12-12 16:36:41,143 ACHTUNG: An empty Sentence was created! Are there empty strings in your dataset?\n",
      "2019-12-12 16:36:41,145 Ignore 1 sentence(s) with no tokens.\n"
     ]
    },
    {
     "name": "stderr",
     "output_type": "stream",
     "text": [
      "\r",
      " 57%|█████▋    | 45212/80014 [53:35<08:28, 68.40it/s]"
     ]
    },
    {
     "name": "stdout",
     "output_type": "stream",
     "text": [
      "2019-12-12 16:36:41,219 ACHTUNG: An empty Sentence was created! Are there empty strings in your dataset?\n",
      "2019-12-12 16:36:41,220 Ignore 1 sentence(s) with no tokens.\n"
     ]
    },
    {
     "name": "stderr",
     "output_type": "stream",
     "text": [
      "\r",
      " 57%|█████▋    | 45223/80014 [53:35<07:35, 76.38it/s]"
     ]
    },
    {
     "name": "stdout",
     "output_type": "stream",
     "text": [
      "2019-12-12 16:36:41,298 ACHTUNG: An empty Sentence was created! Are there empty strings in your dataset?\n",
      "2019-12-12 16:36:41,300 Ignore 1 sentence(s) with no tokens.\n"
     ]
    },
    {
     "name": "stderr",
     "output_type": "stream",
     "text": [
      "\r",
      " 57%|█████▋    | 45233/80014 [53:35<07:09, 81.05it/s]"
     ]
    },
    {
     "name": "stdout",
     "output_type": "stream",
     "text": [
      "2019-12-12 16:36:41,382 ACHTUNG: An empty Sentence was created! Are there empty strings in your dataset?\n",
      "2019-12-12 16:36:41,384 Ignore 1 sentence(s) with no tokens.\n"
     ]
    },
    {
     "name": "stderr",
     "output_type": "stream",
     "text": [
      " 57%|█████▋    | 45283/80014 [53:39<36:38, 15.80it/s]  "
     ]
    },
    {
     "name": "stdout",
     "output_type": "stream",
     "text": [
      "2019-12-12 16:36:45,534 ACHTUNG: An empty Sentence was created! Are there empty strings in your dataset?\n",
      "2019-12-12 16:36:45,535 Ignore 1 sentence(s) with no tokens.\n"
     ]
    },
    {
     "name": "stderr",
     "output_type": "stream",
     "text": [
      "\r",
      " 57%|█████▋    | 45291/80014 [53:39<27:50, 20.79it/s]"
     ]
    },
    {
     "name": "stdout",
     "output_type": "stream",
     "text": [
      "2019-12-12 16:36:45,634 ACHTUNG: An empty Sentence was created! Are there empty strings in your dataset?\n",
      "2019-12-12 16:36:45,636 Ignore 1 sentence(s) with no tokens.\n"
     ]
    },
    {
     "name": "stderr",
     "output_type": "stream",
     "text": [
      "\r",
      " 57%|█████▋    | 45299/80014 [53:39<21:39, 26.72it/s]"
     ]
    },
    {
     "name": "stdout",
     "output_type": "stream",
     "text": [
      "2019-12-12 16:36:45,734 ACHTUNG: An empty Sentence was created! Are there empty strings in your dataset?\n",
      "2019-12-12 16:36:45,736 Ignore 1 sentence(s) with no tokens.\n"
     ]
    },
    {
     "name": "stderr",
     "output_type": "stream",
     "text": [
      "\r",
      " 57%|█████▋    | 45307/80014 [53:39<17:21, 33.33it/s]"
     ]
    },
    {
     "name": "stdout",
     "output_type": "stream",
     "text": [
      "2019-12-12 16:36:45,833 ACHTUNG: An empty Sentence was created! Are there empty strings in your dataset?\n",
      "2019-12-12 16:36:45,834 Ignore 1 sentence(s) with no tokens.\n"
     ]
    },
    {
     "name": "stderr",
     "output_type": "stream",
     "text": [
      "\r",
      " 57%|█████▋    | 45316/80014 [53:40<14:13, 40.64it/s]"
     ]
    },
    {
     "name": "stdout",
     "output_type": "stream",
     "text": [
      "2019-12-12 16:36:45,934 ACHTUNG: An empty Sentence was created! Are there empty strings in your dataset?\n",
      "2019-12-12 16:36:45,935 Ignore 1 sentence(s) with no tokens.\n"
     ]
    },
    {
     "name": "stderr",
     "output_type": "stream",
     "text": [
      "\r",
      " 57%|█████▋    | 45324/80014 [53:40<12:16, 47.08it/s]"
     ]
    },
    {
     "name": "stdout",
     "output_type": "stream",
     "text": [
      "2019-12-12 16:36:46,041 ACHTUNG: An empty Sentence was created! Are there empty strings in your dataset?\n",
      "2019-12-12 16:36:46,043 Ignore 1 sentence(s) with no tokens.\n"
     ]
    },
    {
     "name": "stderr",
     "output_type": "stream",
     "text": [
      "\r",
      " 57%|█████▋    | 45332/80014 [53:40<10:50, 53.35it/s]"
     ]
    },
    {
     "name": "stdout",
     "output_type": "stream",
     "text": [
      "2019-12-12 16:36:46,141 ACHTUNG: An empty Sentence was created! Are there empty strings in your dataset?\n",
      "2019-12-12 16:36:46,143 Ignore 1 sentence(s) with no tokens.\n"
     ]
    },
    {
     "name": "stderr",
     "output_type": "stream",
     "text": [
      "\r",
      " 57%|█████▋    | 45341/80014 [53:40<09:40, 59.71it/s]"
     ]
    },
    {
     "name": "stdout",
     "output_type": "stream",
     "text": [
      "2019-12-12 16:36:46,240 ACHTUNG: An empty Sentence was created! Are there empty strings in your dataset?\n",
      "2019-12-12 16:36:46,241 Ignore 1 sentence(s) with no tokens.\n",
      "2019-12-12 16:36:46,338 ACHTUNG: An empty Sentence was created! Are there empty strings in your dataset?\n",
      "2019-12-12 16:36:46,339 Ignore 1 sentence(s) with no tokens.\n"
     ]
    },
    {
     "name": "stderr",
     "output_type": "stream",
     "text": [
      "\r",
      " 57%|█████▋    | 45350/80014 [53:40<08:44, 66.10it/s]"
     ]
    },
    {
     "name": "stdout",
     "output_type": "stream",
     "text": [
      "2019-12-12 16:36:46,440 ACHTUNG: An empty Sentence was created! Are there empty strings in your dataset?\n",
      "2019-12-12 16:36:46,441 Ignore 1 sentence(s) with no tokens.\n"
     ]
    },
    {
     "name": "stderr",
     "output_type": "stream",
     "text": [
      " 57%|█████▋    | 45393/80014 [53:42<28:21, 20.34it/s]"
     ]
    },
    {
     "name": "stdout",
     "output_type": "stream",
     "text": [
      "2019-12-12 16:36:48,265 ACHTUNG: An empty Sentence was created! Are there empty strings in your dataset?\n",
      "2019-12-12 16:36:48,266 Ignore 1 sentence(s) with no tokens.\n",
      "2019-12-12 16:36:48,317 ACHTUNG: An empty Sentence was created! Are there empty strings in your dataset?\n",
      "2019-12-12 16:36:48,318 Ignore 1 sentence(s) with no tokens.\n"
     ]
    },
    {
     "name": "stderr",
     "output_type": "stream",
     "text": [
      "\r",
      " 57%|█████▋    | 45403/80014 [53:42<21:38, 26.65it/s]"
     ]
    },
    {
     "name": "stdout",
     "output_type": "stream",
     "text": [
      "2019-12-12 16:36:48,369 ACHTUNG: An empty Sentence was created! Are there empty strings in your dataset?\n",
      "2019-12-12 16:36:48,370 Ignore 1 sentence(s) with no tokens.\n",
      "2019-12-12 16:36:48,421 ACHTUNG: An empty Sentence was created! Are there empty strings in your dataset?\n",
      "2019-12-12 16:36:48,422 Ignore 1 sentence(s) with no tokens.\n"
     ]
    },
    {
     "name": "stderr",
     "output_type": "stream",
     "text": [
      "\r",
      " 57%|█████▋    | 45413/80014 [53:42<16:57, 34.02it/s]"
     ]
    },
    {
     "name": "stdout",
     "output_type": "stream",
     "text": [
      "2019-12-12 16:36:48,473 ACHTUNG: An empty Sentence was created! Are there empty strings in your dataset?\n",
      "2019-12-12 16:36:48,474 Ignore 1 sentence(s) with no tokens.\n",
      "2019-12-12 16:36:48,524 ACHTUNG: An empty Sentence was created! Are there empty strings in your dataset?\n",
      "2019-12-12 16:36:48,525 Ignore 1 sentence(s) with no tokens.\n"
     ]
    },
    {
     "name": "stderr",
     "output_type": "stream",
     "text": [
      "\r",
      " 57%|█████▋    | 45423/80014 [53:42<13:39, 42.23it/s]"
     ]
    },
    {
     "name": "stdout",
     "output_type": "stream",
     "text": [
      "2019-12-12 16:36:48,576 ACHTUNG: An empty Sentence was created! Are there empty strings in your dataset?\n",
      "2019-12-12 16:36:48,578 Ignore 1 sentence(s) with no tokens.\n",
      "2019-12-12 16:36:48,623 ACHTUNG: An empty Sentence was created! Are there empty strings in your dataset?\n",
      "2019-12-12 16:36:48,625 Ignore 1 sentence(s) with no tokens.\n",
      "2019-12-12 16:36:48,670 ACHTUNG: An empty Sentence was created! Are there empty strings in your dataset?\n",
      "2019-12-12 16:36:48,671 Ignore 1 sentence(s) with no tokens.\n"
     ]
    },
    {
     "name": "stderr",
     "output_type": "stream",
     "text": [
      "\r",
      " 57%|█████▋    | 45435/80014 [53:42<11:14, 51.25it/s]"
     ]
    },
    {
     "name": "stdout",
     "output_type": "stream",
     "text": [
      "2019-12-12 16:36:48,724 ACHTUNG: An empty Sentence was created! Are there empty strings in your dataset?\n",
      "2019-12-12 16:36:48,726 Ignore 1 sentence(s) with no tokens.\n"
     ]
    },
    {
     "name": "stderr",
     "output_type": "stream",
     "text": [
      " 57%|█████▋    | 45452/80014 [53:43<16:18, 35.32it/s]"
     ]
    },
    {
     "name": "stdout",
     "output_type": "stream",
     "text": [
      "2019-12-12 16:36:49,293 ACHTUNG: An empty Sentence was created! Are there empty strings in your dataset?\n",
      "2019-12-12 16:36:49,295 Ignore 1 sentence(s) with no tokens.\n",
      "2019-12-12 16:36:49,386 ACHTUNG: An empty Sentence was created! Are there empty strings in your dataset?\n",
      "2019-12-12 16:36:49,388 Ignore 1 sentence(s) with no tokens.\n"
     ]
    },
    {
     "name": "stderr",
     "output_type": "stream",
     "text": [
      "\r",
      " 57%|█████▋    | 45459/80014 [53:43<15:25, 37.33it/s]"
     ]
    },
    {
     "name": "stdout",
     "output_type": "stream",
     "text": [
      "2019-12-12 16:36:49,461 ACHTUNG: An empty Sentence was created! Are there empty strings in your dataset?\n",
      "2019-12-12 16:36:49,462 Ignore 1 sentence(s) with no tokens.\n",
      "2019-12-12 16:36:49,506 ACHTUNG: An empty Sentence was created! Are there empty strings in your dataset?\n",
      "2019-12-12 16:36:49,508 Ignore 1 sentence(s) with no tokens.\n"
     ]
    },
    {
     "name": "stderr",
     "output_type": "stream",
     "text": [
      "\r",
      " 57%|█████▋    | 45465/80014 [53:43<13:42, 42.00it/s]"
     ]
    },
    {
     "name": "stdout",
     "output_type": "stream",
     "text": [
      "2019-12-12 16:36:49,574 ACHTUNG: An empty Sentence was created! Are there empty strings in your dataset?\n",
      "2019-12-12 16:36:49,576 Ignore 1 sentence(s) with no tokens.\n"
     ]
    },
    {
     "name": "stderr",
     "output_type": "stream",
     "text": [
      "\r",
      " 57%|█████▋    | 45471/80014 [53:43<13:38, 42.19it/s]"
     ]
    },
    {
     "name": "stdout",
     "output_type": "stream",
     "text": [
      "2019-12-12 16:36:49,651 ACHTUNG: An empty Sentence was created! Are there empty strings in your dataset?\n",
      "2019-12-12 16:36:49,653 Ignore 1 sentence(s) with no tokens.\n",
      "2019-12-12 16:36:49,769 ACHTUNG: An empty Sentence was created! Are there empty strings in your dataset?\n",
      "2019-12-12 16:36:49,770 Ignore 1 sentence(s) with no tokens.\n"
     ]
    },
    {
     "name": "stderr",
     "output_type": "stream",
     "text": [
      "\r",
      " 57%|█████▋    | 45477/80014 [53:43<13:27, 42.76it/s]"
     ]
    },
    {
     "name": "stdout",
     "output_type": "stream",
     "text": [
      "2019-12-12 16:36:49,827 ACHTUNG: An empty Sentence was created! Are there empty strings in your dataset?\n",
      "2019-12-12 16:36:49,829 Ignore 1 sentence(s) with no tokens.\n",
      "2019-12-12 16:36:49,881 ACHTUNG: An empty Sentence was created! Are there empty strings in your dataset?\n",
      "2019-12-12 16:36:49,882 Ignore 1 sentence(s) with no tokens.\n"
     ]
    },
    {
     "name": "stderr",
     "output_type": "stream",
     "text": [
      "\r",
      " 57%|█████▋    | 45484/80014 [53:44<12:10, 47.24it/s]"
     ]
    },
    {
     "name": "stdout",
     "output_type": "stream",
     "text": [
      "2019-12-12 16:36:49,928 ACHTUNG: An empty Sentence was created! Are there empty strings in your dataset?\n",
      "2019-12-12 16:36:49,930 Ignore 1 sentence(s) with no tokens.\n",
      "2019-12-12 16:36:50,025 ACHTUNG: An empty Sentence was created! Are there empty strings in your dataset?\n",
      "2019-12-12 16:36:50,027 Ignore 1 sentence(s) with no tokens.\n"
     ]
    },
    {
     "name": "stderr",
     "output_type": "stream",
     "text": [
      "\r",
      " 57%|█████▋    | 45490/80014 [53:44<12:16, 46.85it/s]"
     ]
    },
    {
     "name": "stdout",
     "output_type": "stream",
     "text": [
      "2019-12-12 16:36:50,063 ACHTUNG: An empty Sentence was created! Are there empty strings in your dataset?\n",
      "2019-12-12 16:36:50,065 Ignore 1 sentence(s) with no tokens.\n",
      "2019-12-12 16:36:50,118 ACHTUNG: An empty Sentence was created! Are there empty strings in your dataset?\n",
      "2019-12-12 16:36:50,120 Ignore 1 sentence(s) with no tokens.\n"
     ]
    },
    {
     "name": "stderr",
     "output_type": "stream",
     "text": [
      "\r",
      " 57%|█████▋    | 45498/80014 [53:44<10:54, 52.76it/s]"
     ]
    },
    {
     "name": "stdout",
     "output_type": "stream",
     "text": [
      "2019-12-12 16:36:50,208 ACHTUNG: An empty Sentence was created! Are there empty strings in your dataset?\n",
      "2019-12-12 16:36:50,210 Ignore 1 sentence(s) with no tokens.\n",
      "2019-12-12 16:36:50,260 ACHTUNG: An empty Sentence was created! Are there empty strings in your dataset?\n",
      "2019-12-12 16:36:50,261 Ignore 1 sentence(s) with no tokens.\n"
     ]
    },
    {
     "name": "stderr",
     "output_type": "stream",
     "text": [
      "\r",
      " 57%|█████▋    | 45504/80014 [53:44<11:17, 50.93it/s]"
     ]
    },
    {
     "name": "stdout",
     "output_type": "stream",
     "text": [
      "2019-12-12 16:36:50,310 ACHTUNG: An empty Sentence was created! Are there empty strings in your dataset?\n",
      "2019-12-12 16:36:50,311 Ignore 1 sentence(s) with no tokens.\n"
     ]
    },
    {
     "name": "stderr",
     "output_type": "stream",
     "text": [
      "\r",
      " 57%|█████▋    | 45510/80014 [53:44<11:01, 52.19it/s]"
     ]
    },
    {
     "name": "stdout",
     "output_type": "stream",
     "text": [
      "2019-12-12 16:36:50,372 ACHTUNG: An empty Sentence was created! Are there empty strings in your dataset?\n",
      "2019-12-12 16:36:50,374 Ignore 1 sentence(s) with no tokens.\n",
      "2019-12-12 16:36:50,420 ACHTUNG: An empty Sentence was created! Are there empty strings in your dataset?\n",
      "2019-12-12 16:36:50,421 Ignore 1 sentence(s) with no tokens.\n"
     ]
    },
    {
     "name": "stderr",
     "output_type": "stream",
     "text": [
      "\r",
      " 57%|█████▋    | 45517/80014 [53:44<10:35, 54.29it/s]"
     ]
    },
    {
     "name": "stdout",
     "output_type": "stream",
     "text": [
      "2019-12-12 16:36:50,489 ACHTUNG: An empty Sentence was created! Are there empty strings in your dataset?\n",
      "2019-12-12 16:36:50,491 Ignore 1 sentence(s) with no tokens.\n",
      "2019-12-12 16:36:50,572 ACHTUNG: An empty Sentence was created! Are there empty strings in your dataset?\n",
      "2019-12-12 16:36:50,573 Ignore 1 sentence(s) with no tokens.\n"
     ]
    },
    {
     "name": "stderr",
     "output_type": "stream",
     "text": [
      "\r",
      " 57%|█████▋    | 45523/80014 [53:44<10:51, 52.92it/s]"
     ]
    },
    {
     "name": "stdout",
     "output_type": "stream",
     "text": [
      "2019-12-12 16:36:50,629 ACHTUNG: An empty Sentence was created! Are there empty strings in your dataset?\n",
      "2019-12-12 16:36:50,631 Ignore 1 sentence(s) with no tokens.\n"
     ]
    },
    {
     "name": "stderr",
     "output_type": "stream",
     "text": [
      " 57%|█████▋    | 45620/80014 [53:53<38:27, 14.91it/s]  "
     ]
    },
    {
     "name": "stdout",
     "output_type": "stream",
     "text": [
      "2019-12-12 16:36:59,282 ACHTUNG: An empty Sentence was created! Are there empty strings in your dataset?\n",
      "2019-12-12 16:36:59,283 Ignore 1 sentence(s) with no tokens.\n"
     ]
    },
    {
     "name": "stderr",
     "output_type": "stream",
     "text": [
      "\r",
      " 57%|█████▋    | 45627/80014 [53:53<29:46, 19.25it/s]"
     ]
    },
    {
     "name": "stdout",
     "output_type": "stream",
     "text": [
      "2019-12-12 16:36:59,363 ACHTUNG: An empty Sentence was created! Are there empty strings in your dataset?\n",
      "2019-12-12 16:36:59,365 Ignore 1 sentence(s) with no tokens.\n",
      "2019-12-12 16:36:59,440 ACHTUNG: An empty Sentence was created! Are there empty strings in your dataset?\n",
      "2019-12-12 16:36:59,441 Ignore 1 sentence(s) with no tokens.\n"
     ]
    },
    {
     "name": "stderr",
     "output_type": "stream",
     "text": [
      "\r",
      " 57%|█████▋    | 45634/80014 [53:53<23:18, 24.59it/s]"
     ]
    },
    {
     "name": "stdout",
     "output_type": "stream",
     "text": [
      "2019-12-12 16:36:59,528 ACHTUNG: An empty Sentence was created! Are there empty strings in your dataset?\n",
      "2019-12-12 16:36:59,530 Ignore 1 sentence(s) with no tokens.\n"
     ]
    },
    {
     "name": "stderr",
     "output_type": "stream",
     "text": [
      "\r",
      " 57%|█████▋    | 45640/80014 [53:53<19:28, 29.42it/s]"
     ]
    },
    {
     "name": "stdout",
     "output_type": "stream",
     "text": [
      "2019-12-12 16:36:59,605 ACHTUNG: An empty Sentence was created! Are there empty strings in your dataset?\n",
      "2019-12-12 16:36:59,606 Ignore 1 sentence(s) with no tokens.\n"
     ]
    },
    {
     "name": "stderr",
     "output_type": "stream",
     "text": [
      "\r",
      " 57%|█████▋    | 45647/80014 [53:53<16:45, 34.18it/s]"
     ]
    },
    {
     "name": "stdout",
     "output_type": "stream",
     "text": [
      "2019-12-12 16:36:59,701 ACHTUNG: An empty Sentence was created! Are there empty strings in your dataset?\n",
      "2019-12-12 16:36:59,703 Ignore 1 sentence(s) with no tokens.\n"
     ]
    },
    {
     "name": "stderr",
     "output_type": "stream",
     "text": [
      "\r",
      " 57%|█████▋    | 45653/80014 [53:53<14:41, 38.96it/s]"
     ]
    },
    {
     "name": "stdout",
     "output_type": "stream",
     "text": [
      "2019-12-12 16:36:59,786 ACHTUNG: An empty Sentence was created! Are there empty strings in your dataset?\n",
      "2019-12-12 16:36:59,787 Ignore 1 sentence(s) with no tokens.\n",
      "2019-12-12 16:36:59,856 ACHTUNG: An empty Sentence was created! Are there empty strings in your dataset?\n",
      "2019-12-12 16:36:59,857 Ignore 1 sentence(s) with no tokens.\n"
     ]
    },
    {
     "name": "stderr",
     "output_type": "stream",
     "text": [
      "\r",
      " 57%|█████▋    | 45661/80014 [53:54<12:31, 45.68it/s]"
     ]
    },
    {
     "name": "stdout",
     "output_type": "stream",
     "text": [
      "2019-12-12 16:36:59,950 ACHTUNG: An empty Sentence was created! Are there empty strings in your dataset?\n",
      "2019-12-12 16:36:59,951 Ignore 1 sentence(s) with no tokens.\n"
     ]
    },
    {
     "name": "stderr",
     "output_type": "stream",
     "text": [
      "\r",
      " 57%|█████▋    | 45667/80014 [53:54<12:31, 45.72it/s]"
     ]
    },
    {
     "name": "stdout",
     "output_type": "stream",
     "text": [
      "2019-12-12 16:37:00,041 ACHTUNG: An empty Sentence was created! Are there empty strings in your dataset?\n",
      "2019-12-12 16:37:00,042 Ignore 1 sentence(s) with no tokens.\n"
     ]
    },
    {
     "name": "stderr",
     "output_type": "stream",
     "text": [
      " 57%|█████▋    | 45951/80014 [54:20<21:20, 26.59it/s]  "
     ]
    },
    {
     "name": "stdout",
     "output_type": "stream",
     "text": [
      "2019-12-12 16:37:26,129 ACHTUNG: An empty Sentence was created! Are there empty strings in your dataset?\n",
      "2019-12-12 16:37:26,130 Ignore 1 sentence(s) with no tokens.\n"
     ]
    },
    {
     "name": "stderr",
     "output_type": "stream",
     "text": [
      " 58%|█████▊    | 46617/80014 [55:05<28:08, 19.77it/s]  "
     ]
    },
    {
     "name": "stdout",
     "output_type": "stream",
     "text": [
      "2019-12-12 16:38:11,591 ACHTUNG: An empty Sentence was created! Are there empty strings in your dataset?\n",
      "2019-12-12 16:38:11,592 Ignore 1 sentence(s) with no tokens.\n"
     ]
    },
    {
     "name": "stderr",
     "output_type": "stream",
     "text": [
      " 59%|█████▉    | 47549/80014 [56:32<1:10:51,  7.64it/s]"
     ]
    },
    {
     "name": "stdout",
     "output_type": "stream",
     "text": [
      "2019-12-12 16:39:38,614 ACHTUNG: An empty Sentence was created! Are there empty strings in your dataset?\n",
      "2019-12-12 16:39:38,615 Ignore 1 sentence(s) with no tokens.\n"
     ]
    },
    {
     "name": "stderr",
     "output_type": "stream",
     "text": [
      " 65%|██████▍   | 51938/80014 [1:02:02<54:42,  8.55it/s]  "
     ]
    },
    {
     "name": "stdout",
     "output_type": "stream",
     "text": [
      "2019-12-12 16:45:08,371 ACHTUNG: An empty Sentence was created! Are there empty strings in your dataset?\n",
      "2019-12-12 16:45:08,372 Ignore 1 sentence(s) with no tokens.\n"
     ]
    },
    {
     "name": "stderr",
     "output_type": "stream",
     "text": [
      " 65%|██████▍   | 51977/80014 [1:02:03<13:14, 35.27it/s]"
     ]
    },
    {
     "name": "stdout",
     "output_type": "stream",
     "text": [
      "2019-12-12 16:45:09,191 ACHTUNG: An empty Sentence was created! Are there empty strings in your dataset?\n",
      "2019-12-12 16:45:09,193 Ignore 1 sentence(s) with no tokens.\n"
     ]
    },
    {
     "name": "stderr",
     "output_type": "stream",
     "text": [
      " 65%|██████▌   | 52013/80014 [1:02:03<09:14, 50.53it/s]"
     ]
    },
    {
     "name": "stdout",
     "output_type": "stream",
     "text": [
      "2019-12-12 16:45:09,882 ACHTUNG: An empty Sentence was created! Are there empty strings in your dataset?\n",
      "2019-12-12 16:45:09,883 Ignore 1 sentence(s) with no tokens.\n"
     ]
    },
    {
     "name": "stderr",
     "output_type": "stream",
     "text": [
      " 65%|██████▌   | 52036/80014 [1:02:04<11:31, 40.45it/s]"
     ]
    },
    {
     "name": "stdout",
     "output_type": "stream",
     "text": [
      "2019-12-12 16:45:10,344 ACHTUNG: An empty Sentence was created! Are there empty strings in your dataset?\n",
      "2019-12-12 16:45:10,346 Ignore 1 sentence(s) with no tokens.\n"
     ]
    },
    {
     "name": "stderr",
     "output_type": "stream",
     "text": [
      " 69%|██████▉   | 55433/80014 [1:07:02<31:23, 13.05it/s]  "
     ]
    },
    {
     "name": "stdout",
     "output_type": "stream",
     "text": [
      "2019-12-12 16:50:08,436 ACHTUNG: An empty Sentence was created! Are there empty strings in your dataset?\n",
      "2019-12-12 16:50:08,438 Ignore 1 sentence(s) with no tokens.\n"
     ]
    },
    {
     "name": "stderr",
     "output_type": "stream",
     "text": [
      " 72%|███████▏  | 57387/80014 [1:09:52<07:57, 47.40it/s]  "
     ]
    },
    {
     "name": "stdout",
     "output_type": "stream",
     "text": [
      "2019-12-12 16:52:58,177 ACHTUNG: An empty Sentence was created! Are there empty strings in your dataset?\n",
      "2019-12-12 16:52:58,179 Ignore 1 sentence(s) with no tokens.\n"
     ]
    },
    {
     "name": "stderr",
     "output_type": "stream",
     "text": [
      " 72%|███████▏  | 57411/80014 [1:09:52<05:56, 63.36it/s]"
     ]
    },
    {
     "name": "stdout",
     "output_type": "stream",
     "text": [
      "2019-12-12 16:52:58,431 ACHTUNG: An empty Sentence was created! Are there empty strings in your dataset?\n",
      "2019-12-12 16:52:58,433 Ignore 1 sentence(s) with no tokens.\n"
     ]
    },
    {
     "name": "stderr",
     "output_type": "stream",
     "text": [
      " 75%|███████▍  | 59906/80014 [1:12:55<16:38, 20.13it/s]  "
     ]
    },
    {
     "name": "stdout",
     "output_type": "stream",
     "text": [
      "2019-12-12 16:56:01,418 ACHTUNG: An empty Sentence was created! Are there empty strings in your dataset?\n",
      "2019-12-12 16:56:01,419 Ignore 1 sentence(s) with no tokens.\n"
     ]
    },
    {
     "name": "stderr",
     "output_type": "stream",
     "text": [
      "\r",
      " 75%|███████▍  | 59913/80014 [1:12:55<13:13, 25.32it/s]"
     ]
    },
    {
     "name": "stdout",
     "output_type": "stream",
     "text": [
      "2019-12-12 16:56:01,551 ACHTUNG: An empty Sentence was created! Are there empty strings in your dataset?\n",
      "2019-12-12 16:56:01,552 Ignore 1 sentence(s) with no tokens.\n"
     ]
    },
    {
     "name": "stderr",
     "output_type": "stream",
     "text": [
      "\r",
      " 75%|███████▍  | 59920/80014 [1:12:55<10:48, 30.98it/s]"
     ]
    },
    {
     "name": "stdout",
     "output_type": "stream",
     "text": [
      "2019-12-12 16:56:01,636 ACHTUNG: An empty Sentence was created! Are there empty strings in your dataset?\n",
      "2019-12-12 16:56:01,637 Ignore 1 sentence(s) with no tokens.\n"
     ]
    },
    {
     "name": "stderr",
     "output_type": "stream",
     "text": [
      " 75%|███████▍  | 59933/80014 [1:12:56<09:07, 36.68it/s]"
     ]
    },
    {
     "name": "stdout",
     "output_type": "stream",
     "text": [
      "2019-12-12 16:56:01,967 ACHTUNG: An empty Sentence was created! Are there empty strings in your dataset?\n",
      "2019-12-12 16:56:01,968 Ignore 1 sentence(s) with no tokens.\n",
      "2019-12-12 16:56:01,970 ACHTUNG: An empty Sentence was created! Are there empty strings in your dataset?\n",
      "2019-12-12 16:56:01,971 Ignore 1 sentence(s) with no tokens.\n",
      "2019-12-12 16:56:01,973 ACHTUNG: An empty Sentence was created! Are there empty strings in your dataset?\n",
      "2019-12-12 16:56:01,974 Ignore 1 sentence(s) with no tokens.\n",
      "2019-12-12 16:56:01,976 ACHTUNG: An empty Sentence was created! Are there empty strings in your dataset?\n",
      "2019-12-12 16:56:01,977 Ignore 1 sentence(s) with no tokens.\n"
     ]
    },
    {
     "name": "stderr",
     "output_type": "stream",
     "text": [
      "\r",
      " 75%|███████▍  | 59942/80014 [1:12:56<07:31, 44.48it/s]"
     ]
    },
    {
     "name": "stdout",
     "output_type": "stream",
     "text": [
      "2019-12-12 16:56:02,090 ACHTUNG: An empty Sentence was created! Are there empty strings in your dataset?\n",
      "2019-12-12 16:56:02,091 Ignore 1 sentence(s) with no tokens.\n"
     ]
    },
    {
     "name": "stderr",
     "output_type": "stream",
     "text": [
      " 75%|███████▍  | 59980/80014 [1:12:56<06:24, 52.14it/s]"
     ]
    },
    {
     "name": "stdout",
     "output_type": "stream",
     "text": [
      "2019-12-12 16:56:02,730 ACHTUNG: An empty Sentence was created! Are there empty strings in your dataset?\n",
      "2019-12-12 16:56:02,731 Ignore 1 sentence(s) with no tokens.\n",
      "2019-12-12 16:56:02,733 ACHTUNG: An empty Sentence was created! Are there empty strings in your dataset?\n",
      "2019-12-12 16:56:02,734 Ignore 1 sentence(s) with no tokens.\n",
      "2019-12-12 16:56:02,736 ACHTUNG: An empty Sentence was created! Are there empty strings in your dataset?\n",
      "2019-12-12 16:56:02,737 Ignore 1 sentence(s) with no tokens.\n",
      "2019-12-12 16:56:02,761 ACHTUNG: An empty Sentence was created! Are there empty strings in your dataset?\n",
      "2019-12-12 16:56:02,762 Ignore 1 sentence(s) with no tokens.\n"
     ]
    },
    {
     "name": "stderr",
     "output_type": "stream",
     "text": [
      "\r",
      " 75%|███████▍  | 59989/80014 [1:12:56<05:37, 59.31it/s]"
     ]
    },
    {
     "name": "stdout",
     "output_type": "stream",
     "text": [
      "2019-12-12 16:56:02,838 ACHTUNG: An empty Sentence was created! Are there empty strings in your dataset?\n",
      "2019-12-12 16:56:02,839 Ignore 1 sentence(s) with no tokens.\n"
     ]
    },
    {
     "name": "stderr",
     "output_type": "stream",
     "text": [
      "\r",
      " 75%|███████▍  | 59996/80014 [1:12:57<05:35, 59.58it/s]"
     ]
    },
    {
     "name": "stdout",
     "output_type": "stream",
     "text": [
      "2019-12-12 16:56:02,916 ACHTUNG: An empty Sentence was created! Are there empty strings in your dataset?\n",
      "2019-12-12 16:56:02,917 Ignore 1 sentence(s) with no tokens.\n",
      "2019-12-12 16:56:03,003 ACHTUNG: An empty Sentence was created! Are there empty strings in your dataset?\n",
      "2019-12-12 16:56:03,004 Ignore 1 sentence(s) with no tokens.\n"
     ]
    },
    {
     "name": "stderr",
     "output_type": "stream",
     "text": [
      "\r",
      " 75%|███████▍  | 60003/80014 [1:12:57<05:28, 60.90it/s]"
     ]
    },
    {
     "name": "stdout",
     "output_type": "stream",
     "text": [
      "2019-12-12 16:56:03,105 ACHTUNG: An empty Sentence was created! Are there empty strings in your dataset?\n",
      "2019-12-12 16:56:03,106 Ignore 1 sentence(s) with no tokens.\n",
      "2019-12-12 16:56:03,108 ACHTUNG: An empty Sentence was created! Are there empty strings in your dataset?\n",
      "2019-12-12 16:56:03,109 Ignore 1 sentence(s) with no tokens.\n",
      "2019-12-12 16:56:03,111 ACHTUNG: An empty Sentence was created! Are there empty strings in your dataset?\n",
      "2019-12-12 16:56:03,112 Ignore 1 sentence(s) with no tokens.\n"
     ]
    },
    {
     "name": "stderr",
     "output_type": "stream",
     "text": [
      "\r",
      " 75%|███████▌  | 60011/80014 [1:12:57<05:13, 63.71it/s]"
     ]
    },
    {
     "name": "stdout",
     "output_type": "stream",
     "text": [
      "2019-12-12 16:56:03,137 ACHTUNG: An empty Sentence was created! Are there empty strings in your dataset?\n",
      "2019-12-12 16:56:03,138 Ignore 1 sentence(s) with no tokens.\n",
      "2019-12-12 16:56:03,211 ACHTUNG: An empty Sentence was created! Are there empty strings in your dataset?\n",
      "2019-12-12 16:56:03,213 Ignore 1 sentence(s) with no tokens.\n"
     ]
    },
    {
     "name": "stderr",
     "output_type": "stream",
     "text": [
      "\r",
      " 75%|███████▌  | 60019/80014 [1:12:57<05:07, 65.02it/s]"
     ]
    },
    {
     "name": "stdout",
     "output_type": "stream",
     "text": [
      "2019-12-12 16:56:03,291 ACHTUNG: An empty Sentence was created! Are there empty strings in your dataset?\n",
      "2019-12-12 16:56:03,293 Ignore 1 sentence(s) with no tokens.\n"
     ]
    },
    {
     "name": "stderr",
     "output_type": "stream",
     "text": [
      "\r",
      " 75%|███████▌  | 60026/80014 [1:12:57<05:10, 64.29it/s]"
     ]
    },
    {
     "name": "stdout",
     "output_type": "stream",
     "text": [
      "2019-12-12 16:56:03,366 ACHTUNG: An empty Sentence was created! Are there empty strings in your dataset?\n",
      "2019-12-12 16:56:03,367 Ignore 1 sentence(s) with no tokens.\n",
      "2019-12-12 16:56:03,507 ACHTUNG: An empty Sentence was created! Are there empty strings in your dataset?\n",
      "2019-12-12 16:56:03,509 Ignore 1 sentence(s) with no tokens.\n"
     ]
    },
    {
     "name": "stderr",
     "output_type": "stream",
     "text": [
      "\r",
      " 75%|███████▌  | 60033/80014 [1:12:57<05:51, 56.92it/s]"
     ]
    },
    {
     "name": "stdout",
     "output_type": "stream",
     "text": [
      "2019-12-12 16:56:03,612 ACHTUNG: An empty Sentence was created! Are there empty strings in your dataset?\n",
      "2019-12-12 16:56:03,614 Ignore 1 sentence(s) with no tokens.\n",
      "2019-12-12 16:56:03,615 ACHTUNG: An empty Sentence was created! Are there empty strings in your dataset?\n",
      "2019-12-12 16:56:03,617 Ignore 1 sentence(s) with no tokens.\n",
      "2019-12-12 16:56:03,618 ACHTUNG: An empty Sentence was created! Are there empty strings in your dataset?\n",
      "2019-12-12 16:56:03,620 Ignore 1 sentence(s) with no tokens.\n"
     ]
    },
    {
     "name": "stderr",
     "output_type": "stream",
     "text": [
      "\r",
      " 75%|███████▌  | 60040/80014 [1:12:57<05:32, 60.09it/s]"
     ]
    },
    {
     "name": "stdout",
     "output_type": "stream",
     "text": [
      "2019-12-12 16:56:03,623 ACHTUNG: An empty Sentence was created! Are there empty strings in your dataset?\n",
      "2019-12-12 16:56:03,624 Ignore 1 sentence(s) with no tokens.\n"
     ]
    },
    {
     "name": "stderr",
     "output_type": "stream",
     "text": [
      " 75%|███████▌  | 60061/80014 [1:12:58<05:45, 57.70it/s]"
     ]
    },
    {
     "name": "stdout",
     "output_type": "stream",
     "text": [
      "2019-12-12 16:56:04,016 ACHTUNG: An empty Sentence was created! Are there empty strings in your dataset?\n",
      "2019-12-12 16:56:04,018 Ignore 1 sentence(s) with no tokens.\n",
      "2019-12-12 16:56:04,019 ACHTUNG: An empty Sentence was created! Are there empty strings in your dataset?\n",
      "2019-12-12 16:56:04,021 Ignore 1 sentence(s) with no tokens.\n",
      "2019-12-12 16:56:04,022 ACHTUNG: An empty Sentence was created! Are there empty strings in your dataset?\n",
      "2019-12-12 16:56:04,024 Ignore 1 sentence(s) with no tokens.\n",
      "2019-12-12 16:56:04,025 ACHTUNG: An empty Sentence was created! Are there empty strings in your dataset?\n",
      "2019-12-12 16:56:04,027 Ignore 1 sentence(s) with no tokens.\n"
     ]
    },
    {
     "name": "stderr",
     "output_type": "stream",
     "text": [
      " 75%|███████▌  | 60083/80014 [1:12:58<06:17, 52.78it/s]"
     ]
    },
    {
     "name": "stdout",
     "output_type": "stream",
     "text": [
      "2019-12-12 16:56:04,460 ACHTUNG: An empty Sentence was created! Are there empty strings in your dataset?\n",
      "2019-12-12 16:56:04,462 Ignore 1 sentence(s) with no tokens.\n",
      "2019-12-12 16:56:04,463 ACHTUNG: An empty Sentence was created! Are there empty strings in your dataset?\n",
      "2019-12-12 16:56:04,465 Ignore 1 sentence(s) with no tokens.\n",
      "2019-12-12 16:56:04,466 ACHTUNG: An empty Sentence was created! Are there empty strings in your dataset?\n",
      "2019-12-12 16:56:04,468 Ignore 1 sentence(s) with no tokens.\n",
      "2019-12-12 16:56:04,469 ACHTUNG: An empty Sentence was created! Are there empty strings in your dataset?\n",
      "2019-12-12 16:56:04,471 Ignore 1 sentence(s) with no tokens.\n"
     ]
    },
    {
     "name": "stderr",
     "output_type": "stream",
     "text": [
      " 76%|███████▋  | 61160/80014 [1:14:28<51:58,  6.05it/s]  "
     ]
    },
    {
     "name": "stdout",
     "output_type": "stream",
     "text": [
      "2019-12-12 16:57:34,055 ACHTUNG: An empty Sentence was created! Are there empty strings in your dataset?\n",
      "2019-12-12 16:57:34,057 Ignore 1 sentence(s) with no tokens.\n"
     ]
    },
    {
     "name": "stderr",
     "output_type": "stream",
     "text": [
      " 78%|███████▊  | 62423/80014 [1:16:35<24:39, 11.89it/s]  "
     ]
    },
    {
     "name": "stdout",
     "output_type": "stream",
     "text": [
      "2019-12-12 16:59:41,382 ACHTUNG: An empty Sentence was created! Are there empty strings in your dataset?\n",
      "2019-12-12 16:59:41,384 Ignore 1 sentence(s) with no tokens.\n"
     ]
    },
    {
     "name": "stderr",
     "output_type": "stream",
     "text": [
      "\r",
      " 78%|███████▊  | 62431/80014 [1:16:35<18:28, 15.86it/s]"
     ]
    },
    {
     "name": "stdout",
     "output_type": "stream",
     "text": [
      "2019-12-12 16:59:41,538 ACHTUNG: An empty Sentence was created! Are there empty strings in your dataset?\n",
      "2019-12-12 16:59:41,540 Ignore 1 sentence(s) with no tokens.\n",
      "2019-12-12 16:59:41,542 ACHTUNG: An empty Sentence was created! Are there empty strings in your dataset?\n",
      "2019-12-12 16:59:41,543 Ignore 1 sentence(s) with no tokens.\n",
      "2019-12-12 16:59:41,545 ACHTUNG: An empty Sentence was created! Are there empty strings in your dataset?\n",
      "2019-12-12 16:59:41,546 Ignore 1 sentence(s) with no tokens.\n",
      "2019-12-12 16:59:41,548 ACHTUNG: An empty Sentence was created! Are there empty strings in your dataset?\n",
      "2019-12-12 16:59:41,549 Ignore 1 sentence(s) with no tokens.\n"
     ]
    },
    {
     "name": "stderr",
     "output_type": "stream",
     "text": [
      "\r",
      " 78%|███████▊  | 62442/80014 [1:16:35<13:48, 21.21it/s]"
     ]
    },
    {
     "name": "stdout",
     "output_type": "stream",
     "text": [
      "2019-12-12 16:59:41,649 ACHTUNG: An empty Sentence was created! Are there empty strings in your dataset?\n",
      "2019-12-12 16:59:41,650 Ignore 1 sentence(s) with no tokens.\n",
      "2019-12-12 16:59:41,652 ACHTUNG: An empty Sentence was created! Are there empty strings in your dataset?\n",
      "2019-12-12 16:59:41,653 Ignore 1 sentence(s) with no tokens.\n",
      "2019-12-12 16:59:41,655 ACHTUNG: An empty Sentence was created! Are there empty strings in your dataset?\n",
      "2019-12-12 16:59:41,656 Ignore 1 sentence(s) with no tokens.\n",
      "2019-12-12 16:59:41,658 ACHTUNG: An empty Sentence was created! Are there empty strings in your dataset?\n",
      "2019-12-12 16:59:41,659 Ignore 1 sentence(s) with no tokens.\n"
     ]
    },
    {
     "name": "stderr",
     "output_type": "stream",
     "text": [
      "\r",
      " 78%|███████▊  | 62453/80014 [1:16:35<10:32, 27.78it/s]"
     ]
    },
    {
     "name": "stdout",
     "output_type": "stream",
     "text": [
      "2019-12-12 16:59:41,759 ACHTUNG: An empty Sentence was created! Are there empty strings in your dataset?\n",
      "2019-12-12 16:59:41,760 Ignore 1 sentence(s) with no tokens.\n",
      "2019-12-12 16:59:41,762 ACHTUNG: An empty Sentence was created! Are there empty strings in your dataset?\n",
      "2019-12-12 16:59:41,763 Ignore 1 sentence(s) with no tokens.\n",
      "2019-12-12 16:59:41,765 ACHTUNG: An empty Sentence was created! Are there empty strings in your dataset?\n",
      "2019-12-12 16:59:41,766 Ignore 1 sentence(s) with no tokens.\n",
      "2019-12-12 16:59:41,768 ACHTUNG: An empty Sentence was created! Are there empty strings in your dataset?\n",
      "2019-12-12 16:59:41,769 Ignore 1 sentence(s) with no tokens.\n"
     ]
    },
    {
     "name": "stderr",
     "output_type": "stream",
     "text": [
      "\r",
      " 78%|███████▊  | 62463/80014 [1:16:36<08:26, 34.63it/s]"
     ]
    },
    {
     "name": "stdout",
     "output_type": "stream",
     "text": [
      "2019-12-12 16:59:41,881 ACHTUNG: An empty Sentence was created! Are there empty strings in your dataset?\n",
      "2019-12-12 16:59:41,882 Ignore 1 sentence(s) with no tokens.\n"
     ]
    },
    {
     "name": "stderr",
     "output_type": "stream",
     "text": [
      "\r",
      " 78%|███████▊  | 62471/80014 [1:16:36<07:07, 41.01it/s]"
     ]
    },
    {
     "name": "stdout",
     "output_type": "stream",
     "text": [
      "2019-12-12 16:59:42,033 ACHTUNG: An empty Sentence was created! Are there empty strings in your dataset?\n",
      "2019-12-12 16:59:42,035 Ignore 1 sentence(s) with no tokens.\n",
      "2019-12-12 16:59:42,036 ACHTUNG: An empty Sentence was created! Are there empty strings in your dataset?\n",
      "2019-12-12 16:59:42,038 Ignore 1 sentence(s) with no tokens.\n",
      "2019-12-12 16:59:42,039 ACHTUNG: An empty Sentence was created! Are there empty strings in your dataset?\n",
      "2019-12-12 16:59:42,041 Ignore 1 sentence(s) with no tokens.\n",
      "2019-12-12 16:59:42,042 ACHTUNG: An empty Sentence was created! Are there empty strings in your dataset?\n",
      "2019-12-12 16:59:42,044 Ignore 1 sentence(s) with no tokens.\n"
     ]
    },
    {
     "name": "stderr",
     "output_type": "stream",
     "text": [
      "\r",
      " 78%|███████▊  | 62482/80014 [1:16:36<05:52, 49.76it/s]"
     ]
    },
    {
     "name": "stdout",
     "output_type": "stream",
     "text": [
      "2019-12-12 16:59:42,154 ACHTUNG: An empty Sentence was created! Are there empty strings in your dataset?\n",
      "2019-12-12 16:59:42,156 Ignore 1 sentence(s) with no tokens.\n",
      "2019-12-12 16:59:42,157 ACHTUNG: An empty Sentence was created! Are there empty strings in your dataset?\n",
      "2019-12-12 16:59:42,159 Ignore 1 sentence(s) with no tokens.\n",
      "2019-12-12 16:59:42,160 ACHTUNG: An empty Sentence was created! Are there empty strings in your dataset?\n",
      "2019-12-12 16:59:42,162 Ignore 1 sentence(s) with no tokens.\n"
     ]
    },
    {
     "name": "stderr",
     "output_type": "stream",
     "text": [
      "\r",
      " 78%|███████▊  | 62491/80014 [1:16:36<05:08, 56.75it/s]"
     ]
    },
    {
     "name": "stdout",
     "output_type": "stream",
     "text": [
      "2019-12-12 16:59:42,165 ACHTUNG: An empty Sentence was created! Are there empty strings in your dataset?\n",
      "2019-12-12 16:59:42,166 Ignore 1 sentence(s) with no tokens.\n",
      "2019-12-12 16:59:42,264 ACHTUNG: An empty Sentence was created! Are there empty strings in your dataset?\n",
      "2019-12-12 16:59:42,265 Ignore 1 sentence(s) with no tokens.\n"
     ]
    },
    {
     "name": "stderr",
     "output_type": "stream",
     "text": [
      " 78%|███████▊  | 62509/80014 [1:16:36<04:35, 63.50it/s]"
     ]
    },
    {
     "name": "stdout",
     "output_type": "stream",
     "text": [
      "2019-12-12 16:59:42,430 ACHTUNG: An empty Sentence was created! Are there empty strings in your dataset?\n",
      "2019-12-12 16:59:42,431 Ignore 1 sentence(s) with no tokens.\n",
      "2019-12-12 16:59:42,433 ACHTUNG: An empty Sentence was created! Are there empty strings in your dataset?\n",
      "2019-12-12 16:59:42,434 Ignore 1 sentence(s) with no tokens.\n",
      "2019-12-12 16:59:42,436 ACHTUNG: An empty Sentence was created! Are there empty strings in your dataset?\n",
      "2019-12-12 16:59:42,437 Ignore 1 sentence(s) with no tokens.\n",
      "2019-12-12 16:59:42,439 ACHTUNG: An empty Sentence was created! Are there empty strings in your dataset?\n",
      "2019-12-12 16:59:42,440 Ignore 1 sentence(s) with no tokens.\n"
     ]
    },
    {
     "name": "stderr",
     "output_type": "stream",
     "text": [
      "\r",
      " 78%|███████▊  | 62519/80014 [1:16:36<04:08, 70.35it/s]"
     ]
    },
    {
     "name": "stdout",
     "output_type": "stream",
     "text": [
      "2019-12-12 16:59:42,551 ACHTUNG: An empty Sentence was created! Are there empty strings in your dataset?\n",
      "2019-12-12 16:59:42,553 Ignore 1 sentence(s) with no tokens.\n",
      "2019-12-12 16:59:42,554 ACHTUNG: An empty Sentence was created! Are there empty strings in your dataset?\n",
      "2019-12-12 16:59:42,556 Ignore 1 sentence(s) with no tokens.\n",
      "2019-12-12 16:59:42,557 ACHTUNG: An empty Sentence was created! Are there empty strings in your dataset?\n",
      "2019-12-12 16:59:42,559 Ignore 1 sentence(s) with no tokens.\n",
      "2019-12-12 16:59:42,560 ACHTUNG: An empty Sentence was created! Are there empty strings in your dataset?\n",
      "2019-12-12 16:59:42,562 Ignore 1 sentence(s) with no tokens.\n"
     ]
    },
    {
     "name": "stderr",
     "output_type": "stream",
     "text": [
      "\r",
      " 78%|███████▊  | 62529/80014 [1:16:36<03:46, 77.19it/s]"
     ]
    },
    {
     "name": "stdout",
     "output_type": "stream",
     "text": [
      "2019-12-12 16:59:42,661 ACHTUNG: An empty Sentence was created! Are there empty strings in your dataset?\n",
      "2019-12-12 16:59:42,663 Ignore 1 sentence(s) with no tokens.\n",
      "2019-12-12 16:59:42,664 ACHTUNG: An empty Sentence was created! Are there empty strings in your dataset?\n",
      "2019-12-12 16:59:42,665 Ignore 1 sentence(s) with no tokens.\n",
      "2019-12-12 16:59:42,667 ACHTUNG: An empty Sentence was created! Are there empty strings in your dataset?\n",
      "2019-12-12 16:59:42,669 Ignore 1 sentence(s) with no tokens.\n",
      "2019-12-12 16:59:42,670 ACHTUNG: An empty Sentence was created! Are there empty strings in your dataset?\n",
      "2019-12-12 16:59:42,671 Ignore 1 sentence(s) with no tokens.\n"
     ]
    },
    {
     "name": "stderr",
     "output_type": "stream",
     "text": [
      "\r",
      " 78%|███████▊  | 62540/80014 [1:16:36<03:36, 80.84it/s]"
     ]
    },
    {
     "name": "stdout",
     "output_type": "stream",
     "text": [
      "2019-12-12 16:59:42,782 ACHTUNG: An empty Sentence was created! Are there empty strings in your dataset?\n",
      "2019-12-12 16:59:42,783 Ignore 1 sentence(s) with no tokens.\n"
     ]
    },
    {
     "name": "stderr",
     "output_type": "stream",
     "text": [
      "\r",
      " 78%|███████▊  | 62549/80014 [1:16:37<03:43, 78.27it/s]"
     ]
    },
    {
     "name": "stdout",
     "output_type": "stream",
     "text": [
      "2019-12-12 16:59:42,925 ACHTUNG: An empty Sentence was created! Are there empty strings in your dataset?\n",
      "2019-12-12 16:59:42,926 Ignore 1 sentence(s) with no tokens.\n",
      "2019-12-12 16:59:42,928 ACHTUNG: An empty Sentence was created! Are there empty strings in your dataset?\n",
      "2019-12-12 16:59:42,929 Ignore 1 sentence(s) with no tokens.\n",
      "2019-12-12 16:59:42,931 ACHTUNG: An empty Sentence was created! Are there empty strings in your dataset?\n",
      "2019-12-12 16:59:42,932 Ignore 1 sentence(s) with no tokens.\n",
      "2019-12-12 16:59:42,934 ACHTUNG: An empty Sentence was created! Are there empty strings in your dataset?\n",
      "2019-12-12 16:59:42,935 Ignore 1 sentence(s) with no tokens.\n"
     ]
    },
    {
     "name": "stderr",
     "output_type": "stream",
     "text": [
      "\r",
      " 78%|███████▊  | 62561/80014 [1:16:37<03:24, 85.46it/s]"
     ]
    },
    {
     "name": "stdout",
     "output_type": "stream",
     "text": [
      "2019-12-12 16:59:43,057 ACHTUNG: An empty Sentence was created! Are there empty strings in your dataset?\n",
      "2019-12-12 16:59:43,059 Ignore 1 sentence(s) with no tokens.\n",
      "2019-12-12 16:59:43,060 ACHTUNG: An empty Sentence was created! Are there empty strings in your dataset?\n",
      "2019-12-12 16:59:43,062 Ignore 1 sentence(s) with no tokens.\n",
      "2019-12-12 16:59:43,063 ACHTUNG: An empty Sentence was created! Are there empty strings in your dataset?\n",
      "2019-12-12 16:59:43,065 Ignore 1 sentence(s) with no tokens.\n",
      "2019-12-12 16:59:43,066 ACHTUNG: An empty Sentence was created! Are there empty strings in your dataset?\n",
      "2019-12-12 16:59:43,068 Ignore 1 sentence(s) with no tokens.\n"
     ]
    },
    {
     "name": "stderr",
     "output_type": "stream",
     "text": [
      "\r",
      " 78%|███████▊  | 62571/80014 [1:16:37<03:26, 84.33it/s]"
     ]
    },
    {
     "name": "stdout",
     "output_type": "stream",
     "text": [
      "2019-12-12 16:59:43,179 ACHTUNG: An empty Sentence was created! Are there empty strings in your dataset?\n",
      "2019-12-12 16:59:43,181 Ignore 1 sentence(s) with no tokens.\n",
      "2019-12-12 16:59:43,182 ACHTUNG: An empty Sentence was created! Are there empty strings in your dataset?\n",
      "2019-12-12 16:59:43,184 Ignore 1 sentence(s) with no tokens.\n",
      "2019-12-12 16:59:43,185 ACHTUNG: An empty Sentence was created! Are there empty strings in your dataset?\n",
      "2019-12-12 16:59:43,187 Ignore 1 sentence(s) with no tokens.\n",
      "2019-12-12 16:59:43,188 ACHTUNG: An empty Sentence was created! Are there empty strings in your dataset?\n",
      "2019-12-12 16:59:43,190 Ignore 1 sentence(s) with no tokens.\n"
     ]
    },
    {
     "name": "stderr",
     "output_type": "stream",
     "text": [
      "\r",
      " 78%|███████▊  | 62581/80014 [1:16:37<03:23, 85.85it/s]"
     ]
    },
    {
     "name": "stdout",
     "output_type": "stream",
     "text": [
      "2019-12-12 16:59:43,301 ACHTUNG: An empty Sentence was created! Are there empty strings in your dataset?\n",
      "2019-12-12 16:59:43,303 Ignore 1 sentence(s) with no tokens.\n"
     ]
    },
    {
     "name": "stderr",
     "output_type": "stream",
     "text": [
      "\r",
      " 78%|███████▊  | 62590/80014 [1:16:37<03:49, 75.96it/s]"
     ]
    },
    {
     "name": "stdout",
     "output_type": "stream",
     "text": [
      "2019-12-12 16:59:43,473 ACHTUNG: An empty Sentence was created! Are there empty strings in your dataset?\n",
      "2019-12-12 16:59:43,475 Ignore 1 sentence(s) with no tokens.\n"
     ]
    },
    {
     "name": "stderr",
     "output_type": "stream",
     "text": [
      " 79%|███████▉  | 63444/80014 [1:18:00<32:56,  8.38it/s]  "
     ]
    }
   ],
   "source": [
    "####### Disease ###################\n",
    "\n",
    "train_result_file_name = 'PCSE_public_train_DS_IOB.csv'\n",
    "dev_result_file_name = 'PCSE_public_dev_DS_IOB.csv'\n",
    "\n",
    "with open(result_path + train_result_file_name, 'w', newline='\\n') as f1:\n",
    "    public_writer = csv.writer(f1, delimiter='\\t', lineterminator='\\n')\n",
    "\n",
    "    for index_, each_annotation in tqdm(train_df.iterrows(), total=train_df.shape[0]):\n",
    "        text_temp = each_annotation['sentence'].encode('utf-8').decode('utf-8')\n",
    "\n",
    "        sentence = ' '.join(wordpunct_tokenize(text_temp))\n",
    "        sentence = Sentence(sentence)\n",
    "        disease_model.predict(sentence)\n",
    "\n",
    "        for token in sentence:\n",
    "        # print what you need (text and NER value)\n",
    "            ner_value = token.get_tag('ner').value\n",
    "            if  ner_value == 'B-Disease':\n",
    "                ner_value = 'B-DS'\n",
    "                \n",
    "            if  ner_value == 'I-Disease':\n",
    "                ner_value = 'I-DS'   \n",
    "            \n",
    "            public_writer.writerow([token.text, ner_value])\n",
    "        public_writer.writerow('')\n",
    "        \n",
    "        \n",
    "with open(result_path + dev_result_file_name, 'a', newline='\\n') as f1:\n",
    "    public_writer = csv.writer(f1, delimiter='\\t', lineterminator='\\n')\n",
    "\n",
    "    for index_, each_annotation in tqdm(dev_df.iterrows(), total=dev_df.shape[0]):\n",
    "        text_temp = each_annotation['sentence'].encode('utf-8').decode('utf-8')\n",
    "\n",
    "        sentence = ' '.join(wordpunct_tokenize(text_temp))\n",
    "        sentence = Sentence(sentence)\n",
    "        disease_model.predict(sentence)\n",
    "\n",
    "        for token in sentence:\n",
    "        # print what you need (text and NER value)\n",
    "            ner_value = token.get_tag('ner').value\n",
    "            if  ner_value == 'B-Disease':\n",
    "                ner_value = 'B-DS'\n",
    "                \n",
    "            if  ner_value == 'I-Disease':\n",
    "                ner_value = 'I-DS'   \n",
    "            \n",
    "            public_writer.writerow([token.text, ner_value])\n",
    "        public_writer.writerow('')        "
   ]
  },
  {
   "cell_type": "code",
   "execution_count": null,
   "metadata": {},
   "outputs": [],
   "source": [
    "import csv\n",
    "data_path = '/nfs/gns/literature/machine-learning/Datasets/NER_Datasets/BC2GM-IOB/test.tsv'\n",
    "targets = ['GENE']\n",
    "                \n",
    "def load_IOBdataset(data_path,targets):\n",
    "    \"\"\"\n",
    "    load the IOB dataset, which is in csv format\n",
    "    :param data_path: path to the csv file of IOB dataset\n",
    "    :type data_path: str\n",
    "    :param targets: a list of interest types\n",
    "    :type targets: List[str]\n",
    "    :return: list of labels of every sentence in dataset\n",
    "    :rtype: List[List[str\n",
    "    \"\"\"\n",
    "    X = []\n",
    "    y = []\n",
    "\n",
    "    X_sent = []\n",
    "    y_sent = []\n",
    "    with open(data_path, 'r') as f:\n",
    "        csv_reader = csv.reader(f, delimiter='\\t')\n",
    "        for line in csv_reader:\n",
    "            if line:\n",
    "                token, tag = line[0], line[-1]\n",
    "                X_sent.append(token)\n",
    "                if targets:\n",
    "                    if tag.split('-')[-1] in set(targets):\n",
    "                        y_sent.append(tag)\n",
    "                    else:\n",
    "                        y_sent.append('O')\n",
    "                else:\n",
    "                    y_sent.append(tag)\n",
    "            else:\n",
    "                # we reach the end of a sentence\n",
    "                if len(X_sent) > 0:\n",
    "                    X.append(' '.join(X_sent))\n",
    "                    y.append(y_sent)\n",
    "                X_sent = []\n",
    "                y_sent = []\n",
    "    return X, y\n",
    "\n",
    "BC2GM_test,y = load_IOBdataset(data_path,targets)"
   ]
  },
  {
   "cell_type": "code",
   "execution_count": null,
   "metadata": {},
   "outputs": [],
   "source": [
    "result_path = '/nfs/gns/literature/machine-learning/Santosh/public_train_test'\n",
    "result_file_name = 'BC2GM_test_IOB.csv'\n",
    "\n",
    "from nltk.tokenize import wordpunct_tokenize, WordPunctTokenizer\n",
    "from tqdm import tqdm\n",
    "import csv\n",
    "import pandas as pd\n",
    "\n",
    "with open(result_path + result_file_name, 'a', newline='\\n') as f1:\n",
    "    public_writer = csv.writer(f1, delimiter='\\t', lineterminator='\\n')\n",
    "\n",
    "    for each_sentence in tqdm(BC2GM_test):\n",
    "        text_temp = each_sentence\n",
    "\n",
    "#         sentence = ' '.join(text_temp.split(' '))\n",
    "        sentence = Sentence(text_temp)\n",
    "        gene_model.predict(sentence)\n",
    "\n",
    "        for token in sentence:\n",
    "        # print what you need (text and NER value)\n",
    "            ner_value = token.get_tag('ner').value\n",
    "#             if  ner_value == 'B-GP':\n",
    "#                 ner_value = 'B-GENE'\n",
    "                \n",
    "#             if  ner_value == 'I-GP':\n",
    "#                 ner_value = 'I-GENE'  \n",
    "            \n",
    "            public_writer.writerow([token.text, ner_value])\n",
    "        public_writer.writerow('')"
   ]
  }
 ],
 "metadata": {
  "kernelspec": {
   "display_name": "PyTorch",
   "language": "python",
   "name": "pytorch"
  },
  "language_info": {
   "codemirror_mode": {
    "name": "ipython",
    "version": 3
   },
   "file_extension": ".py",
   "mimetype": "text/x-python",
   "name": "python",
   "nbconvert_exporter": "python",
   "pygments_lexer": "ipython3",
   "version": "3.7.4"
  }
 },
 "nbformat": 4,
 "nbformat_minor": 2
}
