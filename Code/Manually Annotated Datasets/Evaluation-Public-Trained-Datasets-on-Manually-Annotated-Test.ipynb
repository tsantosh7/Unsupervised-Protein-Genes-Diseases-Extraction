{
 "cells": [
  {
   "cell_type": "code",
   "execution_count": 1,
   "metadata": {},
   "outputs": [],
   "source": [
    "# Code to evaluate EPMC annotation to the Manual Annotation\n",
    "# Code to compare results from ML methods and EPMC annotation\n",
    "\n",
    "# (c) EMBL-EBI, September 2019\n",
    "#\n",
    "# Started: 23 Septmember  2019\n",
    "# Updated: 24 Septmember  2019\n",
    "\n",
    "_author_ = 'Santosh Tirunagari'\n",
    "\n",
    "import os\n",
    "import pandas as pd\n",
    "import glob\n",
    "import json\n",
    "import csv\n",
    "import sys\n",
    "\n",
    "import multiprocessing\n",
    "\n",
    "import numpy as np\n",
    "import re\n",
    "\n",
    "from nltk.tokenize import wordpunct_tokenize\n",
    "\n",
    "import requests\n",
    "# from pprint import pprint\n",
    "import pandas as pd\n",
    "\n",
    "from collections import defaultdict, Counter\n",
    "import time\n",
    "from requests.compat import urljoin\n",
    "\n",
    "from tqdm import tqdm"
   ]
  },
  {
   "cell_type": "code",
   "execution_count": 2,
   "metadata": {},
   "outputs": [],
   "source": [
    "result_path = '/nfs/gns/literature/machine-learning/evaluation/300articles/ML-NER/PCSE/public_trained/'\n",
    "\n",
    "from nltk.tokenize import wordpunct_tokenize, WordPunctTokenizer\n",
    "from tqdm import tqdm\n",
    "import csv\n",
    "import pandas as pd\n",
    "\n",
    "test_df = pd.read_csv('/nfs/gns/literature/machine-learning/evaluation/300articles/CSV formats/test.csv', sep='\\t', names = ['pmc_id','sentence', 'gt'])\n"
   ]
  },
  {
   "cell_type": "code",
   "execution_count": 3,
   "metadata": {},
   "outputs": [
    {
     "name": "stdout",
     "output_type": "stream",
     "text": [
      "2019-11-21 14:20:47,063 loading file /nfs/gns/literature/Santosh_Tirunagari/GitHub/flair_models/ner/multi_bio_ner_model_gene/v01/best-model.pt\n"
     ]
    }
   ],
   "source": [
    "from flair.models import TextClassifier\n",
    "from flair.data import Sentence, Token\n",
    "from flair.models import SequenceTagger\n",
    "\n",
    "flair_models = '/nfs/gns/literature/Santosh_Tirunagari/GitHub/flair_models/ner/'\n",
    "# load the model you trained\n",
    "gene_model = SequenceTagger.load(flair_models+'multi_bio_ner_model_gene/v01/'+'best-model.pt')\n",
    "# disease_model = SequenceTagger.load(flair_models+'multi_bio_ner_model_disease/'+'best-model.pt')\n",
    "# organisms_model = SequenceTagger.load(flair_models+'multi_bio_ner_model_organisms/v01/'+'best-model.pt')\n"
   ]
  },
  {
   "cell_type": "code",
   "execution_count": 4,
   "metadata": {},
   "outputs": [
    {
     "name": "stdout",
     "output_type": "stream",
     "text": [
      "Brief\tO\n",
      "inactivation\tO\n",
      "of\tO\n",
      "c\tB-GENE\n",
      "-\tI-GENE\n",
      "Myc\tI-GENE\n",
      "is\tO\n",
      "not\tO\n",
      "sufficient\tO\n",
      "for\tO\n",
      "sustained\tO\n",
      "regression\tO\n",
      "of\tO\n",
      "c\tB-GENE\n",
      "-\tI-GENE\n",
      "Myc\tI-GENE\n",
      "-\tO\n",
      "induced\tO\n",
      "tumours\tO\n",
      "of\tO\n",
      "pancreatic\tO\n",
      "islets\tO\n",
      "and\tO\n",
      "skin\tO\n",
      "epidermis\tO\n"
     ]
    }
   ],
   "source": [
    "from nltk.tokenize import WordPunctTokenizer\n",
    "\n",
    "text_temp = 'Brief inactivation of c-Myc is not sufficient for sustained regression of c-Myc-induced tumours of pancreatic islets and skin epidermis'\n",
    "\n",
    "sentence = ' '.join(wordpunct_tokenize(text_temp))\n",
    "sentence = Sentence(sentence)\n",
    "gene_model.predict(sentence)\n",
    "\n",
    "for token in sentence:\n",
    "# print what you need (text and NER value)\n",
    "    print(f\"{token.text}\\t{token.get_tag('ner').value}\")"
   ]
  },
  {
   "cell_type": "code",
   "execution_count": 5,
   "metadata": {},
   "outputs": [
    {
     "name": "stderr",
     "output_type": "stream",
     "text": [
      "  3%|▎         | 545/17957 [04:20<1:04:02,  4.53it/s]"
     ]
    },
    {
     "name": "stdout",
     "output_type": "stream",
     "text": [
      "2019-11-21 14:48:05,173 ACHTUNG: An empty Sentence was created! Are there empty strings in your dataset?\n",
      "2019-11-21 14:48:05,176 Ignore 1 sentence(s) with no tokens.\n"
     ]
    },
    {
     "name": "stderr",
     "output_type": "stream",
     "text": [
      "  3%|▎         | 550/17957 [04:21<1:03:47,  4.55it/s]"
     ]
    },
    {
     "name": "stdout",
     "output_type": "stream",
     "text": [
      "2019-11-21 14:48:05,851 ACHTUNG: An empty Sentence was created! Are there empty strings in your dataset?\n",
      "2019-11-21 14:48:05,863 Ignore 1 sentence(s) with no tokens.\n"
     ]
    },
    {
     "name": "stderr",
     "output_type": "stream",
     "text": [
      "  3%|▎         | 554/17957 [04:21<48:58,  5.92it/s]  "
     ]
    },
    {
     "name": "stdout",
     "output_type": "stream",
     "text": [
      "2019-11-21 14:48:06,356 ACHTUNG: An empty Sentence was created! Are there empty strings in your dataset?\n",
      "2019-11-21 14:48:06,358 Ignore 1 sentence(s) with no tokens.\n"
     ]
    },
    {
     "name": "stderr",
     "output_type": "stream",
     "text": [
      "  3%|▎         | 617/17957 [04:32<1:10:59,  4.07it/s]"
     ]
    },
    {
     "name": "stdout",
     "output_type": "stream",
     "text": [
      "2019-11-21 14:48:17,264 ACHTUNG: An empty Sentence was created! Are there empty strings in your dataset?\n",
      "2019-11-21 14:48:17,267 Ignore 1 sentence(s) with no tokens.\n"
     ]
    },
    {
     "name": "stderr",
     "output_type": "stream",
     "text": [
      "  3%|▎         | 624/17957 [04:33<41:40,  6.93it/s]  "
     ]
    },
    {
     "name": "stdout",
     "output_type": "stream",
     "text": [
      "2019-11-21 14:48:17,945 ACHTUNG: An empty Sentence was created! Are there empty strings in your dataset?\n",
      "2019-11-21 14:48:17,946 Ignore 1 sentence(s) with no tokens.\n"
     ]
    },
    {
     "name": "stderr",
     "output_type": "stream",
     "text": [
      "  4%|▎         | 631/17957 [04:34<51:16,  5.63it/s]"
     ]
    },
    {
     "name": "stdout",
     "output_type": "stream",
     "text": [
      "2019-11-21 14:48:19,006 ACHTUNG: An empty Sentence was created! Are there empty strings in your dataset?\n",
      "2019-11-21 14:48:19,008 Ignore 1 sentence(s) with no tokens.\n"
     ]
    },
    {
     "name": "stderr",
     "output_type": "stream",
     "text": [
      "  4%|▎         | 639/17957 [04:35<52:48,  5.47it/s]"
     ]
    },
    {
     "name": "stdout",
     "output_type": "stream",
     "text": [
      "2019-11-21 14:48:20,176 ACHTUNG: An empty Sentence was created! Are there empty strings in your dataset?\n",
      "2019-11-21 14:48:20,178 Ignore 1 sentence(s) with no tokens.\n"
     ]
    },
    {
     "name": "stderr",
     "output_type": "stream",
     "text": [
      "  4%|▎         | 648/17957 [04:37<1:14:17,  3.88it/s]"
     ]
    },
    {
     "name": "stdout",
     "output_type": "stream",
     "text": [
      "2019-11-21 14:48:21,929 ACHTUNG: An empty Sentence was created! Are there empty strings in your dataset?\n",
      "2019-11-21 14:48:21,931 Ignore 1 sentence(s) with no tokens.\n"
     ]
    },
    {
     "name": "stderr",
     "output_type": "stream",
     "text": [
      "  4%|▎         | 656/17957 [04:38<51:16,  5.62it/s]  "
     ]
    },
    {
     "name": "stdout",
     "output_type": "stream",
     "text": [
      "2019-11-21 14:48:22,847 ACHTUNG: An empty Sentence was created! Are there empty strings in your dataset?\n",
      "2019-11-21 14:48:22,851 Ignore 1 sentence(s) with no tokens.\n"
     ]
    },
    {
     "name": "stderr",
     "output_type": "stream",
     "text": [
      " 10%|▉         | 1725/17957 [12:11<45:31,  5.94it/s]  "
     ]
    },
    {
     "name": "stdout",
     "output_type": "stream",
     "text": [
      "2019-11-21 14:55:55,608 ACHTUNG: An empty Sentence was created! Are there empty strings in your dataset?\n",
      "2019-11-21 14:55:55,610 Ignore 1 sentence(s) with no tokens.\n"
     ]
    },
    {
     "name": "stderr",
     "output_type": "stream",
     "text": [
      " 10%|▉         | 1736/17957 [12:13<55:34,  4.86it/s]  "
     ]
    },
    {
     "name": "stdout",
     "output_type": "stream",
     "text": [
      "2019-11-21 14:55:57,571 ACHTUNG: An empty Sentence was created! Are there empty strings in your dataset?\n",
      "2019-11-21 14:55:57,573 Ignore 1 sentence(s) with no tokens.\n"
     ]
    },
    {
     "name": "stderr",
     "output_type": "stream",
     "text": [
      " 10%|▉         | 1776/17957 [12:20<41:45,  6.46it/s]  "
     ]
    },
    {
     "name": "stdout",
     "output_type": "stream",
     "text": [
      "2019-11-21 14:56:04,763 ACHTUNG: An empty Sentence was created! Are there empty strings in your dataset?\n",
      "2019-11-21 14:56:04,765 Ignore 1 sentence(s) with no tokens.\n"
     ]
    },
    {
     "name": "stderr",
     "output_type": "stream",
     "text": [
      " 10%|▉         | 1793/17957 [12:23<53:30,  5.03it/s]  "
     ]
    },
    {
     "name": "stdout",
     "output_type": "stream",
     "text": [
      "2019-11-21 14:56:07,788 ACHTUNG: An empty Sentence was created! Are there empty strings in your dataset?\n",
      "2019-11-21 14:56:07,791 Ignore 1 sentence(s) with no tokens.\n"
     ]
    },
    {
     "name": "stderr",
     "output_type": "stream",
     "text": [
      " 10%|█         | 1855/17957 [12:35<42:02,  6.38it/s]  "
     ]
    },
    {
     "name": "stdout",
     "output_type": "stream",
     "text": [
      "2019-11-21 14:56:19,582 ACHTUNG: An empty Sentence was created! Are there empty strings in your dataset?\n",
      "2019-11-21 14:56:19,584 Ignore 1 sentence(s) with no tokens.\n"
     ]
    },
    {
     "name": "stderr",
     "output_type": "stream",
     "text": [
      " 10%|█         | 1868/17957 [12:37<37:58,  7.06it/s]"
     ]
    },
    {
     "name": "stdout",
     "output_type": "stream",
     "text": [
      "2019-11-21 14:56:21,469 ACHTUNG: An empty Sentence was created! Are there empty strings in your dataset?\n",
      "2019-11-21 14:56:21,471 Ignore 1 sentence(s) with no tokens.\n"
     ]
    },
    {
     "name": "stderr",
     "output_type": "stream",
     "text": [
      " 10%|█         | 1876/17957 [12:38<34:39,  7.73it/s]"
     ]
    },
    {
     "name": "stdout",
     "output_type": "stream",
     "text": [
      "2019-11-21 14:56:22,452 ACHTUNG: An empty Sentence was created! Are there empty strings in your dataset?\n",
      "2019-11-21 14:56:22,453 Ignore 1 sentence(s) with no tokens.\n"
     ]
    },
    {
     "name": "stderr",
     "output_type": "stream",
     "text": [
      " 11%|█         | 1894/17957 [12:40<40:24,  6.63it/s]"
     ]
    },
    {
     "name": "stdout",
     "output_type": "stream",
     "text": [
      "2019-11-21 14:56:25,344 ACHTUNG: An empty Sentence was created! Are there empty strings in your dataset?\n",
      "2019-11-21 14:56:25,346 Ignore 1 sentence(s) with no tokens.\n"
     ]
    },
    {
     "name": "stderr",
     "output_type": "stream",
     "text": [
      " 11%|█         | 1968/17957 [12:53<37:16,  7.15it/s]  "
     ]
    },
    {
     "name": "stdout",
     "output_type": "stream",
     "text": [
      "2019-11-21 14:56:38,359 ACHTUNG: An empty Sentence was created! Are there empty strings in your dataset?\n",
      "2019-11-21 14:56:38,359 Ignore 1 sentence(s) with no tokens.\n"
     ]
    },
    {
     "name": "stderr",
     "output_type": "stream",
     "text": [
      " 42%|████▏     | 7453/17957 [47:04<30:17,  5.78it/s]  "
     ]
    },
    {
     "name": "stdout",
     "output_type": "stream",
     "text": [
      "2019-11-21 15:30:49,146 ACHTUNG: An empty Sentence was created! Are there empty strings in your dataset?\n",
      "2019-11-21 15:30:49,149 Ignore 1 sentence(s) with no tokens.\n"
     ]
    },
    {
     "name": "stderr",
     "output_type": "stream",
     "text": [
      " 42%|████▏     | 7458/17957 [47:05<20:52,  8.38it/s]"
     ]
    },
    {
     "name": "stdout",
     "output_type": "stream",
     "text": [
      "2019-11-21 15:30:49,606 ACHTUNG: An empty Sentence was created! Are there empty strings in your dataset?\n",
      "2019-11-21 15:30:49,608 Ignore 1 sentence(s) with no tokens.\n"
     ]
    },
    {
     "name": "stderr",
     "output_type": "stream",
     "text": [
      " 42%|████▏     | 7464/17957 [47:05<20:53,  8.37it/s]"
     ]
    },
    {
     "name": "stdout",
     "output_type": "stream",
     "text": [
      "2019-11-21 15:30:50,434 ACHTUNG: An empty Sentence was created! Are there empty strings in your dataset?\n",
      "2019-11-21 15:30:50,439 Ignore 1 sentence(s) with no tokens.\n"
     ]
    },
    {
     "name": "stderr",
     "output_type": "stream",
     "text": [
      " 42%|████▏     | 7470/17957 [47:06<15:44, 11.10it/s]"
     ]
    },
    {
     "name": "stdout",
     "output_type": "stream",
     "text": [
      "2019-11-21 15:30:50,772 ACHTUNG: An empty Sentence was created! Are there empty strings in your dataset?\n",
      "2019-11-21 15:30:50,792 Ignore 1 sentence(s) with no tokens.\n"
     ]
    },
    {
     "name": "stderr",
     "output_type": "stream",
     "text": [
      " 42%|████▏     | 7477/17957 [47:07<17:06, 10.21it/s]"
     ]
    },
    {
     "name": "stdout",
     "output_type": "stream",
     "text": [
      "2019-11-21 15:30:51,480 ACHTUNG: An empty Sentence was created! Are there empty strings in your dataset?\n",
      "2019-11-21 15:30:51,495 Ignore 1 sentence(s) with no tokens.\n"
     ]
    },
    {
     "name": "stderr",
     "output_type": "stream",
     "text": [
      " 42%|████▏     | 7483/17957 [47:07<22:08,  7.88it/s]"
     ]
    },
    {
     "name": "stdout",
     "output_type": "stream",
     "text": [
      "2019-11-21 15:30:52,312 ACHTUNG: An empty Sentence was created! Are there empty strings in your dataset?\n",
      "2019-11-21 15:30:52,314 Ignore 1 sentence(s) with no tokens.\n"
     ]
    },
    {
     "name": "stderr",
     "output_type": "stream",
     "text": [
      "\r",
      " 42%|████▏     | 7486/17957 [47:08<18:55,  9.22it/s]"
     ]
    },
    {
     "name": "stdout",
     "output_type": "stream",
     "text": [
      "2019-11-21 15:30:52,530 ACHTUNG: An empty Sentence was created! Are there empty strings in your dataset?\n",
      "2019-11-21 15:30:52,534 Ignore 1 sentence(s) with no tokens.\n"
     ]
    },
    {
     "name": "stderr",
     "output_type": "stream",
     "text": [
      " 42%|████▏     | 7493/17957 [47:08<16:32, 10.54it/s]"
     ]
    },
    {
     "name": "stdout",
     "output_type": "stream",
     "text": [
      "2019-11-21 15:30:53,091 ACHTUNG: An empty Sentence was created! Are there empty strings in your dataset?\n",
      "2019-11-21 15:30:53,093 Ignore 1 sentence(s) with no tokens.\n"
     ]
    },
    {
     "name": "stderr",
     "output_type": "stream",
     "text": [
      " 42%|████▏     | 7500/17957 [47:09<17:50,  9.77it/s]"
     ]
    },
    {
     "name": "stdout",
     "output_type": "stream",
     "text": [
      "2019-11-21 15:30:53,730 ACHTUNG: An empty Sentence was created! Are there empty strings in your dataset?\n",
      "2019-11-21 15:30:53,732 Ignore 1 sentence(s) with no tokens.\n"
     ]
    },
    {
     "name": "stderr",
     "output_type": "stream",
     "text": [
      "\r",
      " 42%|████▏     | 7503/17957 [47:09<15:42, 11.09it/s]"
     ]
    },
    {
     "name": "stdout",
     "output_type": "stream",
     "text": [
      "2019-11-21 15:30:53,940 ACHTUNG: An empty Sentence was created! Are there empty strings in your dataset?\n",
      "2019-11-21 15:30:53,960 Ignore 1 sentence(s) with no tokens.\n"
     ]
    },
    {
     "name": "stderr",
     "output_type": "stream",
     "text": [
      " 42%|████▏     | 7511/17957 [47:10<19:51,  8.77it/s]"
     ]
    },
    {
     "name": "stdout",
     "output_type": "stream",
     "text": [
      "2019-11-21 15:30:54,755 ACHTUNG: An empty Sentence was created! Are there empty strings in your dataset?\n",
      "2019-11-21 15:30:54,758 Ignore 1 sentence(s) with no tokens.\n"
     ]
    },
    {
     "name": "stderr",
     "output_type": "stream",
     "text": [
      " 42%|████▏     | 7518/17957 [47:10<16:15, 10.70it/s]"
     ]
    },
    {
     "name": "stdout",
     "output_type": "stream",
     "text": [
      "2019-11-21 15:30:55,255 ACHTUNG: An empty Sentence was created! Are there empty strings in your dataset?\n",
      "2019-11-21 15:30:55,257 Ignore 1 sentence(s) with no tokens.\n"
     ]
    },
    {
     "name": "stderr",
     "output_type": "stream",
     "text": [
      " 42%|████▏     | 7523/17957 [47:11<15:47, 11.01it/s]"
     ]
    },
    {
     "name": "stdout",
     "output_type": "stream",
     "text": [
      "2019-11-21 15:30:55,714 ACHTUNG: An empty Sentence was created! Are there empty strings in your dataset?\n",
      "2019-11-21 15:30:55,716 Ignore 1 sentence(s) with no tokens.\n"
     ]
    },
    {
     "name": "stderr",
     "output_type": "stream",
     "text": [
      " 42%|████▏     | 7527/17957 [47:11<16:16, 10.69it/s]"
     ]
    },
    {
     "name": "stdout",
     "output_type": "stream",
     "text": [
      "2019-11-21 15:30:56,160 ACHTUNG: An empty Sentence was created! Are there empty strings in your dataset?\n",
      "2019-11-21 15:30:56,164 Ignore 1 sentence(s) with no tokens.\n"
     ]
    },
    {
     "name": "stderr",
     "output_type": "stream",
     "text": [
      " 42%|████▏     | 7535/17957 [47:12<16:16, 10.68it/s]"
     ]
    },
    {
     "name": "stdout",
     "output_type": "stream",
     "text": [
      "2019-11-21 15:30:56,770 ACHTUNG: An empty Sentence was created! Are there empty strings in your dataset?\n",
      "2019-11-21 15:30:56,780 Ignore 1 sentence(s) with no tokens.\n"
     ]
    },
    {
     "name": "stderr",
     "output_type": "stream",
     "text": [
      " 42%|████▏     | 7542/17957 [47:12<14:58, 11.59it/s]"
     ]
    },
    {
     "name": "stdout",
     "output_type": "stream",
     "text": [
      "2019-11-21 15:30:57,266 ACHTUNG: An empty Sentence was created! Are there empty strings in your dataset?\n",
      "2019-11-21 15:30:57,268 Ignore 1 sentence(s) with no tokens.\n"
     ]
    },
    {
     "name": "stderr",
     "output_type": "stream",
     "text": [
      " 42%|████▏     | 7564/17957 [47:17<28:00,  6.19it/s]  "
     ]
    },
    {
     "name": "stdout",
     "output_type": "stream",
     "text": [
      "2019-11-21 15:31:02,104 ACHTUNG: An empty Sentence was created! Are there empty strings in your dataset?\n",
      "2019-11-21 15:31:02,107 Ignore 1 sentence(s) with no tokens.\n"
     ]
    },
    {
     "name": "stderr",
     "output_type": "stream",
     "text": [
      " 42%|████▏     | 7570/17957 [47:18<17:10, 10.08it/s]"
     ]
    },
    {
     "name": "stdout",
     "output_type": "stream",
     "text": [
      "2019-11-21 15:31:02,437 ACHTUNG: An empty Sentence was created! Are there empty strings in your dataset?\n",
      "2019-11-21 15:31:02,439 Ignore 1 sentence(s) with no tokens.\n"
     ]
    },
    {
     "name": "stderr",
     "output_type": "stream",
     "text": [
      " 42%|████▏     | 7577/17957 [47:18<15:03, 11.49it/s]"
     ]
    },
    {
     "name": "stdout",
     "output_type": "stream",
     "text": [
      "2019-11-21 15:31:03,085 ACHTUNG: An empty Sentence was created! Are there empty strings in your dataset?\n",
      "2019-11-21 15:31:03,087 Ignore 1 sentence(s) with no tokens.\n"
     ]
    },
    {
     "name": "stderr",
     "output_type": "stream",
     "text": [
      " 42%|████▏     | 7584/17957 [47:19<13:38, 12.68it/s]"
     ]
    },
    {
     "name": "stdout",
     "output_type": "stream",
     "text": [
      "2019-11-21 15:31:03,428 ACHTUNG: An empty Sentence was created! Are there empty strings in your dataset?\n",
      "2019-11-21 15:31:03,429 Ignore 1 sentence(s) with no tokens.\n"
     ]
    },
    {
     "name": "stderr",
     "output_type": "stream",
     "text": [
      " 42%|████▏     | 7591/17957 [47:19<12:09, 14.21it/s]"
     ]
    },
    {
     "name": "stdout",
     "output_type": "stream",
     "text": [
      "2019-11-21 15:31:03,838 ACHTUNG: An empty Sentence was created! Are there empty strings in your dataset?\n",
      "2019-11-21 15:31:03,839 Ignore 1 sentence(s) with no tokens.\n"
     ]
    },
    {
     "name": "stderr",
     "output_type": "stream",
     "text": [
      " 42%|████▏     | 7597/17957 [47:19<11:49, 14.60it/s]"
     ]
    },
    {
     "name": "stdout",
     "output_type": "stream",
     "text": [
      "2019-11-21 15:31:04,249 ACHTUNG: An empty Sentence was created! Are there empty strings in your dataset?\n",
      "2019-11-21 15:31:04,252 Ignore 1 sentence(s) with no tokens.\n"
     ]
    },
    {
     "name": "stderr",
     "output_type": "stream",
     "text": [
      " 42%|████▏     | 7603/17957 [47:20<12:26, 13.86it/s]"
     ]
    },
    {
     "name": "stdout",
     "output_type": "stream",
     "text": [
      "2019-11-21 15:31:04,672 ACHTUNG: An empty Sentence was created! Are there empty strings in your dataset?\n",
      "2019-11-21 15:31:04,674 Ignore 1 sentence(s) with no tokens.\n"
     ]
    },
    {
     "name": "stderr",
     "output_type": "stream",
     "text": [
      " 42%|████▏     | 7620/17957 [47:23<39:12,  4.39it/s]"
     ]
    },
    {
     "name": "stdout",
     "output_type": "stream",
     "text": [
      "2019-11-21 15:31:08,037 ACHTUNG: An empty Sentence was created! Are there empty strings in your dataset?\n",
      "2019-11-21 15:31:08,048 Ignore 1 sentence(s) with no tokens.\n"
     ]
    },
    {
     "name": "stderr",
     "output_type": "stream",
     "text": [
      " 43%|████▎     | 7633/17957 [47:24<19:19,  8.91it/s]"
     ]
    },
    {
     "name": "stdout",
     "output_type": "stream",
     "text": [
      "2019-11-21 15:31:09,366 ACHTUNG: An empty Sentence was created! Are there empty strings in your dataset?\n",
      "2019-11-21 15:31:09,369 Ignore 1 sentence(s) with no tokens.\n"
     ]
    },
    {
     "name": "stderr",
     "output_type": "stream",
     "text": [
      " 43%|████▎     | 7641/17957 [47:25<17:40,  9.73it/s]"
     ]
    },
    {
     "name": "stdout",
     "output_type": "stream",
     "text": [
      "2019-11-21 15:31:10,073 ACHTUNG: An empty Sentence was created! Are there empty strings in your dataset?\n",
      "2019-11-21 15:31:10,083 Ignore 1 sentence(s) with no tokens.\n"
     ]
    },
    {
     "name": "stderr",
     "output_type": "stream",
     "text": [
      " 43%|████▎     | 7649/17957 [47:26<14:48, 11.60it/s]"
     ]
    },
    {
     "name": "stdout",
     "output_type": "stream",
     "text": [
      "2019-11-21 15:31:10,756 ACHTUNG: An empty Sentence was created! Are there empty strings in your dataset?\n",
      "2019-11-21 15:31:10,765 Ignore 1 sentence(s) with no tokens.\n"
     ]
    },
    {
     "name": "stderr",
     "output_type": "stream",
     "text": [
      " 43%|████▎     | 7657/17957 [47:27<16:42, 10.28it/s]"
     ]
    },
    {
     "name": "stdout",
     "output_type": "stream",
     "text": [
      "2019-11-21 15:31:11,619 ACHTUNG: An empty Sentence was created! Are there empty strings in your dataset?\n",
      "2019-11-21 15:31:11,621 Ignore 1 sentence(s) with no tokens.\n"
     ]
    },
    {
     "name": "stderr",
     "output_type": "stream",
     "text": [
      " 43%|████▎     | 7665/17957 [47:27<17:29,  9.80it/s]"
     ]
    },
    {
     "name": "stdout",
     "output_type": "stream",
     "text": [
      "2019-11-21 15:31:12,340 ACHTUNG: An empty Sentence was created! Are there empty strings in your dataset?\n",
      "2019-11-21 15:31:12,342 Ignore 1 sentence(s) with no tokens.\n"
     ]
    },
    {
     "name": "stderr",
     "output_type": "stream",
     "text": [
      " 43%|████▎     | 7673/17957 [47:28<16:33, 10.35it/s]"
     ]
    },
    {
     "name": "stdout",
     "output_type": "stream",
     "text": [
      "2019-11-21 15:31:12,987 ACHTUNG: An empty Sentence was created! Are there empty strings in your dataset?\n",
      "2019-11-21 15:31:12,995 Ignore 1 sentence(s) with no tokens.\n"
     ]
    },
    {
     "name": "stderr",
     "output_type": "stream",
     "text": [
      " 43%|████▎     | 7713/17957 [47:40<30:15,  5.64it/s]  "
     ]
    },
    {
     "name": "stdout",
     "output_type": "stream",
     "text": [
      "2019-11-21 15:31:25,249 ACHTUNG: An empty Sentence was created! Are there empty strings in your dataset?\n",
      "2019-11-21 15:31:25,251 Ignore 1 sentence(s) with no tokens.\n"
     ]
    },
    {
     "name": "stderr",
     "output_type": "stream",
     "text": [
      " 43%|████▎     | 7719/17957 [47:41<19:01,  8.97it/s]"
     ]
    },
    {
     "name": "stdout",
     "output_type": "stream",
     "text": [
      "2019-11-21 15:31:25,533 ACHTUNG: An empty Sentence was created! Are there empty strings in your dataset?\n",
      "2019-11-21 15:31:25,535 Ignore 1 sentence(s) with no tokens.\n"
     ]
    },
    {
     "name": "stderr",
     "output_type": "stream",
     "text": [
      " 43%|████▎     | 7724/17957 [47:41<14:45, 11.55it/s]"
     ]
    },
    {
     "name": "stdout",
     "output_type": "stream",
     "text": [
      "2019-11-21 15:31:25,813 ACHTUNG: An empty Sentence was created! Are there empty strings in your dataset?\n",
      "2019-11-21 15:31:25,815 Ignore 1 sentence(s) with no tokens.\n"
     ]
    },
    {
     "name": "stderr",
     "output_type": "stream",
     "text": [
      " 43%|████▎     | 7730/17957 [47:41<11:48, 14.43it/s]"
     ]
    },
    {
     "name": "stdout",
     "output_type": "stream",
     "text": [
      "2019-11-21 15:31:26,125 ACHTUNG: An empty Sentence was created! Are there empty strings in your dataset?\n",
      "2019-11-21 15:31:26,127 Ignore 1 sentence(s) with no tokens.\n"
     ]
    },
    {
     "name": "stderr",
     "output_type": "stream",
     "text": [
      " 43%|████▎     | 7735/17957 [47:42<13:16, 12.84it/s]"
     ]
    },
    {
     "name": "stdout",
     "output_type": "stream",
     "text": [
      "2019-11-21 15:31:26,485 ACHTUNG: An empty Sentence was created! Are there empty strings in your dataset?\n",
      "2019-11-21 15:31:26,487 Ignore 1 sentence(s) with no tokens.\n"
     ]
    },
    {
     "name": "stderr",
     "output_type": "stream",
     "text": [
      " 43%|████▎     | 7740/17957 [47:42<16:54, 10.07it/s]"
     ]
    },
    {
     "name": "stdout",
     "output_type": "stream",
     "text": [
      "2019-11-21 15:31:27,001 ACHTUNG: An empty Sentence was created! Are there empty strings in your dataset?\n",
      "2019-11-21 15:31:27,004 Ignore 1 sentence(s) with no tokens.\n"
     ]
    },
    {
     "name": "stderr",
     "output_type": "stream",
     "text": [
      " 43%|████▎     | 7745/17957 [47:43<19:10,  8.88it/s]"
     ]
    },
    {
     "name": "stdout",
     "output_type": "stream",
     "text": [
      "2019-11-21 15:31:27,535 ACHTUNG: An empty Sentence was created! Are there empty strings in your dataset?\n",
      "2019-11-21 15:31:27,537 Ignore 1 sentence(s) with no tokens.\n"
     ]
    },
    {
     "name": "stderr",
     "output_type": "stream",
     "text": [
      " 43%|████▎     | 7751/17957 [47:43<15:14, 11.16it/s]"
     ]
    },
    {
     "name": "stdout",
     "output_type": "stream",
     "text": [
      "2019-11-21 15:31:28,032 ACHTUNG: An empty Sentence was created! Are there empty strings in your dataset?\n",
      "2019-11-21 15:31:28,043 Ignore 1 sentence(s) with no tokens.\n"
     ]
    },
    {
     "name": "stderr",
     "output_type": "stream",
     "text": [
      " 43%|████▎     | 7755/17957 [47:44<16:02, 10.60it/s]"
     ]
    },
    {
     "name": "stdout",
     "output_type": "stream",
     "text": [
      "2019-11-21 15:31:28,445 ACHTUNG: An empty Sentence was created! Are there empty strings in your dataset?\n",
      "2019-11-21 15:31:28,456 Ignore 1 sentence(s) with no tokens.\n"
     ]
    },
    {
     "name": "stderr",
     "output_type": "stream",
     "text": [
      " 43%|████▎     | 7762/17957 [47:44<15:52, 10.70it/s]"
     ]
    },
    {
     "name": "stdout",
     "output_type": "stream",
     "text": [
      "2019-11-21 15:31:28,970 ACHTUNG: An empty Sentence was created! Are there empty strings in your dataset?\n",
      "2019-11-21 15:31:28,972 Ignore 1 sentence(s) with no tokens.\n"
     ]
    },
    {
     "name": "stderr",
     "output_type": "stream",
     "text": [
      " 43%|████▎     | 7767/17957 [47:45<20:43,  8.20it/s]"
     ]
    },
    {
     "name": "stdout",
     "output_type": "stream",
     "text": [
      "2019-11-21 15:31:29,653 ACHTUNG: An empty Sentence was created! Are there empty strings in your dataset?\n",
      "2019-11-21 15:31:29,665 Ignore 1 sentence(s) with no tokens.\n"
     ]
    },
    {
     "name": "stderr",
     "output_type": "stream",
     "text": [
      " 43%|████▎     | 7772/17957 [47:45<15:02, 11.29it/s]"
     ]
    },
    {
     "name": "stdout",
     "output_type": "stream",
     "text": [
      "2019-11-21 15:31:29,959 ACHTUNG: An empty Sentence was created! Are there empty strings in your dataset?\n",
      "2019-11-21 15:31:29,962 Ignore 1 sentence(s) with no tokens.\n"
     ]
    },
    {
     "name": "stderr",
     "output_type": "stream",
     "text": [
      " 43%|████▎     | 7777/17957 [47:45<12:02, 14.09it/s]"
     ]
    },
    {
     "name": "stdout",
     "output_type": "stream",
     "text": [
      "2019-11-21 15:31:30,181 ACHTUNG: An empty Sentence was created! Are there empty strings in your dataset?\n",
      "2019-11-21 15:31:30,207 Ignore 1 sentence(s) with no tokens.\n"
     ]
    },
    {
     "name": "stderr",
     "output_type": "stream",
     "text": [
      " 43%|████▎     | 7783/17957 [47:46<10:06, 16.77it/s]"
     ]
    },
    {
     "name": "stdout",
     "output_type": "stream",
     "text": [
      "2019-11-21 15:31:30,529 ACHTUNG: An empty Sentence was created! Are there empty strings in your dataset?\n",
      "2019-11-21 15:31:30,532 Ignore 1 sentence(s) with no tokens.\n"
     ]
    },
    {
     "name": "stderr",
     "output_type": "stream",
     "text": [
      " 43%|████▎     | 7788/17957 [47:46<10:55, 15.50it/s]"
     ]
    },
    {
     "name": "stdout",
     "output_type": "stream",
     "text": [
      "2019-11-21 15:31:30,947 ACHTUNG: An empty Sentence was created! Are there empty strings in your dataset?\n",
      "2019-11-21 15:31:30,948 Ignore 1 sentence(s) with no tokens.\n"
     ]
    },
    {
     "name": "stderr",
     "output_type": "stream",
     "text": [
      " 43%|████▎     | 7794/17957 [47:46<11:52, 14.27it/s]"
     ]
    },
    {
     "name": "stdout",
     "output_type": "stream",
     "text": [
      "2019-11-21 15:31:31,260 ACHTUNG: An empty Sentence was created! Are there empty strings in your dataset?\n",
      "2019-11-21 15:31:31,262 Ignore 1 sentence(s) with no tokens.\n"
     ]
    },
    {
     "name": "stderr",
     "output_type": "stream",
     "text": [
      " 43%|████▎     | 7799/17957 [47:47<12:27, 13.59it/s]"
     ]
    },
    {
     "name": "stdout",
     "output_type": "stream",
     "text": [
      "2019-11-21 15:31:31,697 ACHTUNG: An empty Sentence was created! Are there empty strings in your dataset?\n",
      "2019-11-21 15:31:31,707 Ignore 1 sentence(s) with no tokens.\n"
     ]
    },
    {
     "name": "stderr",
     "output_type": "stream",
     "text": [
      " 43%|████▎     | 7805/17957 [47:47<15:41, 10.79it/s]"
     ]
    },
    {
     "name": "stdout",
     "output_type": "stream",
     "text": [
      "2019-11-21 15:31:32,137 ACHTUNG: An empty Sentence was created! Are there empty strings in your dataset?\n",
      "2019-11-21 15:31:32,138 Ignore 1 sentence(s) with no tokens.\n"
     ]
    },
    {
     "name": "stderr",
     "output_type": "stream",
     "text": [
      " 53%|█████▎    | 9467/17957 [59:49<1:58:44,  1.19it/s]"
     ]
    },
    {
     "name": "stdout",
     "output_type": "stream",
     "text": [
      "2019-11-21 15:43:33,899 ACHTUNG: An empty Sentence was created! Are there empty strings in your dataset?\n",
      "2019-11-21 15:43:33,901 Ignore 1 sentence(s) with no tokens.\n"
     ]
    },
    {
     "name": "stderr",
     "output_type": "stream",
     "text": [
      " 53%|█████▎    | 9471/17957 [59:49<1:08:47,  2.06it/s]"
     ]
    },
    {
     "name": "stdout",
     "output_type": "stream",
     "text": [
      "2019-11-21 15:43:34,349 ACHTUNG: An empty Sentence was created! Are there empty strings in your dataset?\n",
      "2019-11-21 15:43:34,360 Ignore 1 sentence(s) with no tokens.\n"
     ]
    },
    {
     "name": "stderr",
     "output_type": "stream",
     "text": [
      " 53%|█████▎    | 9478/17957 [59:50<30:16,  4.67it/s]  "
     ]
    },
    {
     "name": "stdout",
     "output_type": "stream",
     "text": [
      "2019-11-21 15:43:35,099 ACHTUNG: An empty Sentence was created! Are there empty strings in your dataset?\n",
      "2019-11-21 15:43:35,100 Ignore 1 sentence(s) with no tokens.\n"
     ]
    },
    {
     "name": "stderr",
     "output_type": "stream",
     "text": [
      " 53%|█████▎    | 9485/17957 [59:51<17:57,  7.86it/s]"
     ]
    },
    {
     "name": "stdout",
     "output_type": "stream",
     "text": [
      "2019-11-21 15:43:35,723 ACHTUNG: An empty Sentence was created! Are there empty strings in your dataset?\n",
      "2019-11-21 15:43:35,727 Ignore 1 sentence(s) with no tokens.\n",
      "2019-11-21 15:43:35,728 ACHTUNG: An empty Sentence was created! Are there empty strings in your dataset?\n",
      "2019-11-21 15:43:35,732 Ignore 1 sentence(s) with no tokens.\n",
      "2019-11-21 15:43:35,733 ACHTUNG: An empty Sentence was created! Are there empty strings in your dataset?\n",
      "2019-11-21 15:43:35,736 Ignore 1 sentence(s) with no tokens.\n"
     ]
    },
    {
     "name": "stderr",
     "output_type": "stream",
     "text": [
      " 53%|█████▎    | 9548/17957 [1:00:01<23:56,  5.85it/s]"
     ]
    },
    {
     "name": "stdout",
     "output_type": "stream",
     "text": [
      "2019-11-21 15:43:45,834 ACHTUNG: An empty Sentence was created! Are there empty strings in your dataset?\n",
      "2019-11-21 15:43:45,844 Ignore 1 sentence(s) with no tokens.\n"
     ]
    },
    {
     "name": "stderr",
     "output_type": "stream",
     "text": [
      " 54%|█████▎    | 9615/17957 [1:00:10<20:55,  6.64it/s]"
     ]
    },
    {
     "name": "stdout",
     "output_type": "stream",
     "text": [
      "2019-11-21 15:43:54,695 ACHTUNG: An empty Sentence was created! Are there empty strings in your dataset?\n",
      "2019-11-21 15:43:54,697 Ignore 1 sentence(s) with no tokens.\n",
      "2019-11-21 15:43:54,699 ACHTUNG: An empty Sentence was created! Are there empty strings in your dataset?\n",
      "2019-11-21 15:43:54,709 Ignore 1 sentence(s) with no tokens.\n"
     ]
    },
    {
     "name": "stderr",
     "output_type": "stream",
     "text": [
      "\r",
      " 54%|█████▎    | 9619/17957 [1:00:10<16:32,  8.40it/s]"
     ]
    },
    {
     "name": "stdout",
     "output_type": "stream",
     "text": [
      "2019-11-21 15:43:54,879 ACHTUNG: An empty Sentence was created! Are there empty strings in your dataset?\n",
      "2019-11-21 15:43:54,881 Ignore 1 sentence(s) with no tokens.\n"
     ]
    },
    {
     "name": "stderr",
     "output_type": "stream",
     "text": [
      " 54%|█████▎    | 9625/17957 [1:00:11<16:11,  8.57it/s]"
     ]
    },
    {
     "name": "stdout",
     "output_type": "stream",
     "text": [
      "2019-11-21 15:43:55,557 ACHTUNG: An empty Sentence was created! Are there empty strings in your dataset?\n",
      "2019-11-21 15:43:55,559 Ignore 1 sentence(s) with no tokens.\n"
     ]
    },
    {
     "name": "stderr",
     "output_type": "stream",
     "text": [
      " 54%|█████▎    | 9630/17957 [1:00:11<13:19, 10.42it/s]"
     ]
    },
    {
     "name": "stdout",
     "output_type": "stream",
     "text": [
      "2019-11-21 15:43:55,912 ACHTUNG: An empty Sentence was created! Are there empty strings in your dataset?\n",
      "2019-11-21 15:43:55,918 Ignore 1 sentence(s) with no tokens.\n"
     ]
    },
    {
     "name": "stderr",
     "output_type": "stream",
     "text": [
      " 54%|█████▎    | 9635/17957 [1:00:11<11:53, 11.66it/s]"
     ]
    },
    {
     "name": "stdout",
     "output_type": "stream",
     "text": [
      "2019-11-21 15:43:56,251 ACHTUNG: An empty Sentence was created! Are there empty strings in your dataset?\n",
      "2019-11-21 15:43:56,253 Ignore 1 sentence(s) with no tokens.\n"
     ]
    },
    {
     "name": "stderr",
     "output_type": "stream",
     "text": [
      " 54%|█████▎    | 9639/17957 [1:00:12<11:39, 11.90it/s]"
     ]
    },
    {
     "name": "stdout",
     "output_type": "stream",
     "text": [
      "2019-11-21 15:43:56,636 ACHTUNG: An empty Sentence was created! Are there empty strings in your dataset?\n",
      "2019-11-21 15:43:56,638 Ignore 1 sentence(s) with no tokens.\n"
     ]
    },
    {
     "name": "stderr",
     "output_type": "stream",
     "text": [
      " 54%|█████▎    | 9644/17957 [1:00:12<11:18, 12.26it/s]"
     ]
    },
    {
     "name": "stdout",
     "output_type": "stream",
     "text": [
      "2019-11-21 15:43:56,975 ACHTUNG: An empty Sentence was created! Are there empty strings in your dataset?\n",
      "2019-11-21 15:43:56,996 Ignore 1 sentence(s) with no tokens.\n"
     ]
    },
    {
     "name": "stderr",
     "output_type": "stream",
     "text": [
      " 54%|█████▎    | 9650/17957 [1:00:12<11:50, 11.69it/s]"
     ]
    },
    {
     "name": "stdout",
     "output_type": "stream",
     "text": [
      "2019-11-21 15:43:57,368 ACHTUNG: An empty Sentence was created! Are there empty strings in your dataset?\n",
      "2019-11-21 15:43:57,370 Ignore 1 sentence(s) with no tokens.\n",
      "2019-11-21 15:43:57,380 ACHTUNG: An empty Sentence was created! Are there empty strings in your dataset?\n",
      "2019-11-21 15:43:57,382 Ignore 1 sentence(s) with no tokens.\n",
      "2019-11-21 15:43:57,384 ACHTUNG: An empty Sentence was created! Are there empty strings in your dataset?\n",
      "2019-11-21 15:43:57,394 Ignore 1 sentence(s) with no tokens.\n",
      "2019-11-21 15:43:57,398 ACHTUNG: An empty Sentence was created! Are there empty strings in your dataset?\n",
      "2019-11-21 15:43:57,401 Ignore 1 sentence(s) with no tokens.\n",
      "2019-11-21 15:43:57,402 ACHTUNG: An empty Sentence was created! Are there empty strings in your dataset?\n",
      "2019-11-21 15:43:57,404 Ignore 1 sentence(s) with no tokens.\n"
     ]
    },
    {
     "name": "stderr",
     "output_type": "stream",
     "text": [
      " 54%|█████▍    | 9660/17957 [1:00:13<11:31, 12.00it/s]"
     ]
    },
    {
     "name": "stdout",
     "output_type": "stream",
     "text": [
      "2019-11-21 15:43:57,902 ACHTUNG: An empty Sentence was created! Are there empty strings in your dataset?\n",
      "2019-11-21 15:43:57,904 Ignore 1 sentence(s) with no tokens.\n"
     ]
    },
    {
     "name": "stderr",
     "output_type": "stream",
     "text": [
      " 54%|█████▍    | 9664/17957 [1:00:13<12:01, 11.50it/s]"
     ]
    },
    {
     "name": "stdout",
     "output_type": "stream",
     "text": [
      "2019-11-21 15:43:58,344 ACHTUNG: An empty Sentence was created! Are there empty strings in your dataset?\n",
      "2019-11-21 15:43:58,356 Ignore 1 sentence(s) with no tokens.\n"
     ]
    },
    {
     "name": "stderr",
     "output_type": "stream",
     "text": [
      " 54%|█████▍    | 9670/17957 [1:00:14<12:48, 10.78it/s]"
     ]
    },
    {
     "name": "stdout",
     "output_type": "stream",
     "text": [
      "2019-11-21 15:43:58,777 ACHTUNG: An empty Sentence was created! Are there empty strings in your dataset?\n",
      "2019-11-21 15:43:58,789 Ignore 1 sentence(s) with no tokens.\n"
     ]
    },
    {
     "name": "stderr",
     "output_type": "stream",
     "text": [
      " 54%|█████▍    | 9675/17957 [1:00:14<14:05,  9.79it/s]"
     ]
    },
    {
     "name": "stdout",
     "output_type": "stream",
     "text": [
      "2019-11-21 15:43:59,296 ACHTUNG: An empty Sentence was created! Are there empty strings in your dataset?\n",
      "2019-11-21 15:43:59,303 Ignore 1 sentence(s) with no tokens.\n"
     ]
    },
    {
     "name": "stderr",
     "output_type": "stream",
     "text": [
      " 54%|█████▍    | 9680/17957 [1:00:15<14:20,  9.61it/s]"
     ]
    },
    {
     "name": "stdout",
     "output_type": "stream",
     "text": [
      "2019-11-21 15:43:59,765 ACHTUNG: An empty Sentence was created! Are there empty strings in your dataset?\n",
      "2019-11-21 15:43:59,766 Ignore 1 sentence(s) with no tokens.\n"
     ]
    },
    {
     "name": "stderr",
     "output_type": "stream",
     "text": [
      " 54%|█████▍    | 9685/17957 [1:00:15<13:26, 10.25it/s]"
     ]
    },
    {
     "name": "stdout",
     "output_type": "stream",
     "text": [
      "2019-11-21 15:44:00,172 ACHTUNG: An empty Sentence was created! Are there empty strings in your dataset?\n",
      "2019-11-21 15:44:00,184 Ignore 1 sentence(s) with no tokens.\n",
      "2019-11-21 15:44:00,188 ACHTUNG: An empty Sentence was created! Are there empty strings in your dataset?\n",
      "2019-11-21 15:44:00,192 Ignore 1 sentence(s) with no tokens.\n",
      "2019-11-21 15:44:00,196 ACHTUNG: An empty Sentence was created! Are there empty strings in your dataset?\n",
      "2019-11-21 15:44:00,198 Ignore 1 sentence(s) with no tokens.\n",
      "2019-11-21 15:44:00,199 ACHTUNG: An empty Sentence was created! Are there empty strings in your dataset?\n",
      "2019-11-21 15:44:00,201 Ignore 1 sentence(s) with no tokens.\n",
      "2019-11-21 15:44:00,202 ACHTUNG: An empty Sentence was created! Are there empty strings in your dataset?\n",
      "2019-11-21 15:44:00,204 Ignore 1 sentence(s) with no tokens.\n"
     ]
    },
    {
     "name": "stderr",
     "output_type": "stream",
     "text": [
      " 54%|█████▍    | 9695/17957 [1:00:16<13:50,  9.94it/s]"
     ]
    },
    {
     "name": "stdout",
     "output_type": "stream",
     "text": [
      "2019-11-21 15:44:00,808 ACHTUNG: An empty Sentence was created! Are there empty strings in your dataset?\n",
      "2019-11-21 15:44:00,810 Ignore 1 sentence(s) with no tokens.\n"
     ]
    },
    {
     "name": "stderr",
     "output_type": "stream",
     "text": [
      " 54%|█████▍    | 9700/17957 [1:00:16<13:02, 10.55it/s]"
     ]
    },
    {
     "name": "stdout",
     "output_type": "stream",
     "text": [
      "2019-11-21 15:44:01,237 ACHTUNG: An empty Sentence was created! Are there empty strings in your dataset?\n",
      "2019-11-21 15:44:01,247 Ignore 1 sentence(s) with no tokens.\n"
     ]
    },
    {
     "name": "stderr",
     "output_type": "stream",
     "text": [
      " 54%|█████▍    | 9705/17957 [1:00:17<11:54, 11.55it/s]"
     ]
    },
    {
     "name": "stdout",
     "output_type": "stream",
     "text": [
      "2019-11-21 15:44:01,609 ACHTUNG: An empty Sentence was created! Are there empty strings in your dataset?\n",
      "2019-11-21 15:44:01,627 Ignore 1 sentence(s) with no tokens.\n"
     ]
    },
    {
     "name": "stderr",
     "output_type": "stream",
     "text": [
      " 54%|█████▍    | 9710/17957 [1:00:17<10:31, 13.07it/s]"
     ]
    },
    {
     "name": "stdout",
     "output_type": "stream",
     "text": [
      "2019-11-21 15:44:01,936 ACHTUNG: An empty Sentence was created! Are there empty strings in your dataset?\n",
      "2019-11-21 15:44:01,938 Ignore 1 sentence(s) with no tokens.\n"
     ]
    },
    {
     "name": "stderr",
     "output_type": "stream",
     "text": [
      " 54%|█████▍    | 9715/17957 [1:00:17<10:38, 12.90it/s]"
     ]
    },
    {
     "name": "stdout",
     "output_type": "stream",
     "text": [
      "2019-11-21 15:44:02,292 ACHTUNG: An empty Sentence was created! Are there empty strings in your dataset?\n",
      "2019-11-21 15:44:02,303 Ignore 1 sentence(s) with no tokens.\n"
     ]
    },
    {
     "name": "stderr",
     "output_type": "stream",
     "text": [
      " 54%|█████▍    | 9720/17957 [1:00:18<11:10, 12.29it/s]"
     ]
    },
    {
     "name": "stdout",
     "output_type": "stream",
     "text": [
      "2019-11-21 15:44:02,667 ACHTUNG: An empty Sentence was created! Are there empty strings in your dataset?\n",
      "2019-11-21 15:44:02,669 Ignore 1 sentence(s) with no tokens.\n",
      "2019-11-21 15:44:02,671 ACHTUNG: An empty Sentence was created! Are there empty strings in your dataset?\n",
      "2019-11-21 15:44:02,673 Ignore 1 sentence(s) with no tokens.\n",
      "2019-11-21 15:44:02,675 ACHTUNG: An empty Sentence was created! Are there empty strings in your dataset?\n",
      "2019-11-21 15:44:02,677 Ignore 1 sentence(s) with no tokens.\n",
      "2019-11-21 15:44:02,678 ACHTUNG: An empty Sentence was created! Are there empty strings in your dataset?\n",
      "2019-11-21 15:44:02,680 Ignore 1 sentence(s) with no tokens.\n",
      "2019-11-21 15:44:02,682 ACHTUNG: An empty Sentence was created! Are there empty strings in your dataset?\n",
      "2019-11-21 15:44:02,683 Ignore 1 sentence(s) with no tokens.\n"
     ]
    },
    {
     "name": "stderr",
     "output_type": "stream",
     "text": [
      " 54%|█████▍    | 9729/17957 [1:00:18<10:06, 13.57it/s]"
     ]
    },
    {
     "name": "stdout",
     "output_type": "stream",
     "text": [
      "2019-11-21 15:44:03,163 ACHTUNG: An empty Sentence was created! Are there empty strings in your dataset?\n",
      "2019-11-21 15:44:03,166 Ignore 1 sentence(s) with no tokens.\n"
     ]
    },
    {
     "name": "stderr",
     "output_type": "stream",
     "text": [
      " 54%|█████▍    | 9734/17957 [1:00:19<10:56, 12.52it/s]"
     ]
    },
    {
     "name": "stdout",
     "output_type": "stream",
     "text": [
      "2019-11-21 15:44:03,571 ACHTUNG: An empty Sentence was created! Are there empty strings in your dataset?\n",
      "2019-11-21 15:44:03,574 Ignore 1 sentence(s) with no tokens.\n"
     ]
    },
    {
     "name": "stderr",
     "output_type": "stream",
     "text": [
      " 54%|█████▍    | 9740/17957 [1:00:19<11:00, 12.44it/s]"
     ]
    },
    {
     "name": "stdout",
     "output_type": "stream",
     "text": [
      "2019-11-21 15:44:03,931 ACHTUNG: An empty Sentence was created! Are there empty strings in your dataset?\n",
      "2019-11-21 15:44:03,933 Ignore 1 sentence(s) with no tokens.\n"
     ]
    },
    {
     "name": "stderr",
     "output_type": "stream",
     "text": [
      " 54%|█████▍    | 9745/17957 [1:00:19<09:45, 14.02it/s]"
     ]
    },
    {
     "name": "stdout",
     "output_type": "stream",
     "text": [
      "2019-11-21 15:44:04,224 ACHTUNG: An empty Sentence was created! Are there empty strings in your dataset?\n",
      "2019-11-21 15:44:04,227 Ignore 1 sentence(s) with no tokens.\n"
     ]
    },
    {
     "name": "stderr",
     "output_type": "stream",
     "text": [
      " 54%|█████▍    | 9750/17957 [1:00:20<11:52, 11.51it/s]"
     ]
    },
    {
     "name": "stdout",
     "output_type": "stream",
     "text": [
      "2019-11-21 15:44:04,667 ACHTUNG: An empty Sentence was created! Are there empty strings in your dataset?\n",
      "2019-11-21 15:44:04,669 Ignore 1 sentence(s) with no tokens.\n"
     ]
    },
    {
     "name": "stderr",
     "output_type": "stream",
     "text": [
      " 54%|█████▍    | 9757/17957 [1:00:20<13:05, 10.44it/s]"
     ]
    },
    {
     "name": "stdout",
     "output_type": "stream",
     "text": [
      "2019-11-21 15:44:05,458 ACHTUNG: An empty Sentence was created! Are there empty strings in your dataset?\n",
      "2019-11-21 15:44:05,468 Ignore 1 sentence(s) with no tokens.\n"
     ]
    },
    {
     "name": "stderr",
     "output_type": "stream",
     "text": [
      " 54%|█████▍    | 9763/17957 [1:00:21<14:15,  9.58it/s]"
     ]
    },
    {
     "name": "stdout",
     "output_type": "stream",
     "text": [
      "2019-11-21 15:44:05,922 ACHTUNG: An empty Sentence was created! Are there empty strings in your dataset?\n",
      "2019-11-21 15:44:05,924 Ignore 1 sentence(s) with no tokens.\n"
     ]
    },
    {
     "name": "stderr",
     "output_type": "stream",
     "text": [
      " 65%|██████▌   | 11726/17957 [1:11:01<16:22,  6.34it/s]  "
     ]
    },
    {
     "name": "stdout",
     "output_type": "stream",
     "text": [
      "2019-11-21 15:54:45,538 ACHTUNG: An empty Sentence was created! Are there empty strings in your dataset?\n",
      "2019-11-21 15:54:45,540 Ignore 1 sentence(s) with no tokens.\n",
      "2019-11-21 15:54:45,545 ACHTUNG: An empty Sentence was created! Are there empty strings in your dataset?\n",
      "2019-11-21 15:54:45,546 Ignore 1 sentence(s) with no tokens.\n",
      "2019-11-21 15:54:45,549 ACHTUNG: An empty Sentence was created! Are there empty strings in your dataset?\n",
      "2019-11-21 15:54:45,564 Ignore 1 sentence(s) with no tokens.\n"
     ]
    },
    {
     "name": "stderr",
     "output_type": "stream",
     "text": [
      "\r",
      " 65%|██████▌   | 11731/17957 [1:11:01<12:11,  8.52it/s]"
     ]
    },
    {
     "name": "stdout",
     "output_type": "stream",
     "text": [
      "2019-11-21 15:54:45,568 ACHTUNG: An empty Sentence was created! Are there empty strings in your dataset?\n",
      "2019-11-21 15:54:45,569 Ignore 1 sentence(s) with no tokens.\n",
      "2019-11-21 15:54:45,571 ACHTUNG: An empty Sentence was created! Are there empty strings in your dataset?\n",
      "2019-11-21 15:54:45,572 Ignore 1 sentence(s) with no tokens.\n",
      "2019-11-21 15:54:45,575 ACHTUNG: An empty Sentence was created! Are there empty strings in your dataset?\n",
      "2019-11-21 15:54:45,578 Ignore 1 sentence(s) with no tokens.\n"
     ]
    },
    {
     "name": "stderr",
     "output_type": "stream",
     "text": [
      " 66%|██████▌   | 11791/17957 [1:11:06<09:02, 11.36it/s]"
     ]
    },
    {
     "name": "stdout",
     "output_type": "stream",
     "text": [
      "2019-11-21 15:54:51,290 ACHTUNG: An empty Sentence was created! Are there empty strings in your dataset?\n",
      "2019-11-21 15:54:51,315 Ignore 1 sentence(s) with no tokens.\n",
      "2019-11-21 15:54:51,318 ACHTUNG: An empty Sentence was created! Are there empty strings in your dataset?\n",
      "2019-11-21 15:54:51,320 Ignore 1 sentence(s) with no tokens.\n",
      "2019-11-21 15:54:51,322 ACHTUNG: An empty Sentence was created! Are there empty strings in your dataset?\n",
      "2019-11-21 15:54:51,324 Ignore 1 sentence(s) with no tokens.\n",
      "2019-11-21 15:54:51,326 ACHTUNG: An empty Sentence was created! Are there empty strings in your dataset?\n",
      "2019-11-21 15:54:51,328 Ignore 1 sentence(s) with no tokens.\n",
      "2019-11-21 15:54:51,330 ACHTUNG: An empty Sentence was created! Are there empty strings in your dataset?\n",
      "2019-11-21 15:54:51,332 Ignore 1 sentence(s) with no tokens.\n",
      "2019-11-21 15:54:51,334 ACHTUNG: An empty Sentence was created! Are there empty strings in your dataset?\n",
      "2019-11-21 15:54:51,336 Ignore 1 sentence(s) with no tokens.\n"
     ]
    },
    {
     "name": "stderr",
     "output_type": "stream",
     "text": [
      " 66%|██████▋   | 11921/17957 [1:11:18<16:50,  5.97it/s]"
     ]
    },
    {
     "name": "stdout",
     "output_type": "stream",
     "text": [
      "2019-11-21 15:55:03,166 ACHTUNG: An empty Sentence was created! Are there empty strings in your dataset?\n",
      "2019-11-21 15:55:03,170 Ignore 1 sentence(s) with no tokens.\n"
     ]
    },
    {
     "name": "stderr",
     "output_type": "stream",
     "text": [
      " 77%|███████▋  | 13784/17957 [1:17:03<07:53,  8.81it/s]  "
     ]
    },
    {
     "name": "stdout",
     "output_type": "stream",
     "text": [
      "2019-11-21 16:00:48,006 ACHTUNG: An empty Sentence was created! Are there empty strings in your dataset?\n",
      "2019-11-21 16:00:48,017 Ignore 1 sentence(s) with no tokens.\n"
     ]
    },
    {
     "name": "stderr",
     "output_type": "stream",
     "text": [
      "\r",
      " 77%|███████▋  | 13786/17957 [1:17:03<06:33, 10.59it/s]"
     ]
    },
    {
     "name": "stdout",
     "output_type": "stream",
     "text": [
      "2019-11-21 16:00:48,066 ACHTUNG: An empty Sentence was created! Are there empty strings in your dataset?\n",
      "2019-11-21 16:00:48,082 Ignore 1 sentence(s) with no tokens.\n"
     ]
    },
    {
     "name": "stderr",
     "output_type": "stream",
     "text": [
      " 77%|███████▋  | 13795/17957 [1:17:04<05:25, 12.80it/s]"
     ]
    },
    {
     "name": "stdout",
     "output_type": "stream",
     "text": [
      "2019-11-21 16:00:48,631 ACHTUNG: An empty Sentence was created! Are there empty strings in your dataset?\n",
      "2019-11-21 16:00:48,632 Ignore 1 sentence(s) with no tokens.\n",
      "2019-11-21 16:00:48,698 ACHTUNG: An empty Sentence was created! Are there empty strings in your dataset?\n",
      "2019-11-21 16:00:48,713 Ignore 1 sentence(s) with no tokens.\n"
     ]
    },
    {
     "name": "stderr",
     "output_type": "stream",
     "text": [
      " 77%|███████▋  | 13805/17957 [1:17:04<06:05, 11.36it/s]"
     ]
    },
    {
     "name": "stdout",
     "output_type": "stream",
     "text": [
      "2019-11-21 16:00:49,336 ACHTUNG: An empty Sentence was created! Are there empty strings in your dataset?\n",
      "2019-11-21 16:00:49,337 Ignore 1 sentence(s) with no tokens.\n",
      "2019-11-21 16:00:49,376 ACHTUNG: An empty Sentence was created! Are there empty strings in your dataset?\n",
      "2019-11-21 16:00:49,395 Ignore 1 sentence(s) with no tokens.\n"
     ]
    },
    {
     "name": "stderr",
     "output_type": "stream",
     "text": [
      " 77%|███████▋  | 13814/17957 [1:17:05<04:57, 13.93it/s]"
     ]
    },
    {
     "name": "stdout",
     "output_type": "stream",
     "text": [
      "2019-11-21 16:00:49,884 ACHTUNG: An empty Sentence was created! Are there empty strings in your dataset?\n",
      "2019-11-21 16:00:49,886 Ignore 1 sentence(s) with no tokens.\n"
     ]
    },
    {
     "name": "stderr",
     "output_type": "stream",
     "text": [
      "\r",
      " 77%|███████▋  | 13816/17957 [1:17:05<04:36, 14.99it/s]"
     ]
    },
    {
     "name": "stdout",
     "output_type": "stream",
     "text": [
      "2019-11-21 16:00:49,966 ACHTUNG: An empty Sentence was created! Are there empty strings in your dataset?\n",
      "2019-11-21 16:00:49,990 Ignore 1 sentence(s) with no tokens.\n"
     ]
    },
    {
     "name": "stderr",
     "output_type": "stream",
     "text": [
      " 77%|███████▋  | 13824/17957 [1:17:06<05:03, 13.61it/s]"
     ]
    },
    {
     "name": "stdout",
     "output_type": "stream",
     "text": [
      "2019-11-21 16:00:50,589 ACHTUNG: An empty Sentence was created! Are there empty strings in your dataset?\n",
      "2019-11-21 16:00:50,603 Ignore 1 sentence(s) with no tokens.\n"
     ]
    },
    {
     "name": "stderr",
     "output_type": "stream",
     "text": [
      "\r",
      " 77%|███████▋  | 13826/17957 [1:17:06<04:47, 14.38it/s]"
     ]
    },
    {
     "name": "stdout",
     "output_type": "stream",
     "text": [
      "2019-11-21 16:00:50,731 ACHTUNG: An empty Sentence was created! Are there empty strings in your dataset?\n",
      "2019-11-21 16:00:50,733 Ignore 1 sentence(s) with no tokens.\n"
     ]
    },
    {
     "name": "stderr",
     "output_type": "stream",
     "text": [
      " 77%|███████▋  | 13834/17957 [1:17:06<05:49, 11.80it/s]"
     ]
    },
    {
     "name": "stdout",
     "output_type": "stream",
     "text": [
      "2019-11-21 16:00:51,475 ACHTUNG: An empty Sentence was created! Are there empty strings in your dataset?\n",
      "2019-11-21 16:00:51,478 Ignore 1 sentence(s) with no tokens.\n"
     ]
    },
    {
     "name": "stderr",
     "output_type": "stream",
     "text": [
      "\r",
      " 77%|███████▋  | 13836/17957 [1:17:07<06:03, 11.33it/s]"
     ]
    },
    {
     "name": "stdout",
     "output_type": "stream",
     "text": [
      "2019-11-21 16:00:51,503 ACHTUNG: An empty Sentence was created! Are there empty strings in your dataset?\n",
      "2019-11-21 16:00:51,506 Ignore 1 sentence(s) with no tokens.\n"
     ]
    },
    {
     "name": "stderr",
     "output_type": "stream",
     "text": [
      " 77%|███████▋  | 13844/17957 [1:17:07<04:47, 14.32it/s]"
     ]
    },
    {
     "name": "stdout",
     "output_type": "stream",
     "text": [
      "2019-11-21 16:00:52,038 ACHTUNG: An empty Sentence was created! Are there empty strings in your dataset?\n",
      "2019-11-21 16:00:52,053 Ignore 1 sentence(s) with no tokens.\n"
     ]
    },
    {
     "name": "stderr",
     "output_type": "stream",
     "text": [
      "\r",
      " 77%|███████▋  | 13846/17957 [1:17:07<04:36, 14.89it/s]"
     ]
    },
    {
     "name": "stdout",
     "output_type": "stream",
     "text": [
      "2019-11-21 16:00:52,095 ACHTUNG: An empty Sentence was created! Are there empty strings in your dataset?\n",
      "2019-11-21 16:00:52,104 Ignore 1 sentence(s) with no tokens.\n"
     ]
    },
    {
     "name": "stderr",
     "output_type": "stream",
     "text": [
      " 77%|███████▋  | 13854/17957 [1:17:08<05:41, 12.03it/s]"
     ]
    },
    {
     "name": "stdout",
     "output_type": "stream",
     "text": [
      "2019-11-21 16:00:52,777 ACHTUNG: An empty Sentence was created! Are there empty strings in your dataset?\n",
      "2019-11-21 16:00:52,779 Ignore 1 sentence(s) with no tokens.\n"
     ]
    },
    {
     "name": "stderr",
     "output_type": "stream",
     "text": [
      "\r",
      " 77%|███████▋  | 13856/17957 [1:17:08<05:09, 13.24it/s]"
     ]
    },
    {
     "name": "stdout",
     "output_type": "stream",
     "text": [
      "2019-11-21 16:00:52,842 ACHTUNG: An empty Sentence was created! Are there empty strings in your dataset?\n",
      "2019-11-21 16:00:52,845 Ignore 1 sentence(s) with no tokens.\n"
     ]
    },
    {
     "name": "stderr",
     "output_type": "stream",
     "text": [
      " 77%|███████▋  | 13864/17957 [1:17:08<05:10, 13.20it/s]"
     ]
    },
    {
     "name": "stdout",
     "output_type": "stream",
     "text": [
      "2019-11-21 16:00:53,531 ACHTUNG: An empty Sentence was created! Are there empty strings in your dataset?\n",
      "2019-11-21 16:00:53,542 Ignore 1 sentence(s) with no tokens.\n"
     ]
    },
    {
     "name": "stderr",
     "output_type": "stream",
     "text": [
      "\r",
      " 77%|███████▋  | 13866/17957 [1:17:09<05:46, 11.82it/s]"
     ]
    },
    {
     "name": "stdout",
     "output_type": "stream",
     "text": [
      "2019-11-21 16:00:53,566 ACHTUNG: An empty Sentence was created! Are there empty strings in your dataset?\n",
      "2019-11-21 16:00:53,568 Ignore 1 sentence(s) with no tokens.\n"
     ]
    },
    {
     "name": "stderr",
     "output_type": "stream",
     "text": [
      " 77%|███████▋  | 13875/17957 [1:17:09<05:24, 12.58it/s]"
     ]
    },
    {
     "name": "stdout",
     "output_type": "stream",
     "text": [
      "2019-11-21 16:00:54,170 ACHTUNG: An empty Sentence was created! Are there empty strings in your dataset?\n",
      "2019-11-21 16:00:54,173 Ignore 1 sentence(s) with no tokens.\n"
     ]
    },
    {
     "name": "stderr",
     "output_type": "stream",
     "text": [
      "\r",
      " 77%|███████▋  | 13877/17957 [1:17:09<04:56, 13.75it/s]"
     ]
    },
    {
     "name": "stdout",
     "output_type": "stream",
     "text": [
      "2019-11-21 16:00:54,275 ACHTUNG: An empty Sentence was created! Are there empty strings in your dataset?\n",
      "2019-11-21 16:00:54,278 Ignore 1 sentence(s) with no tokens.\n"
     ]
    },
    {
     "name": "stderr",
     "output_type": "stream",
     "text": [
      " 77%|███████▋  | 13884/17957 [1:17:10<05:25, 12.50it/s]"
     ]
    },
    {
     "name": "stdout",
     "output_type": "stream",
     "text": [
      "2019-11-21 16:00:55,038 ACHTUNG: An empty Sentence was created! Are there empty strings in your dataset?\n",
      "2019-11-21 16:00:55,048 Ignore 1 sentence(s) with no tokens.\n"
     ]
    },
    {
     "name": "stderr",
     "output_type": "stream",
     "text": [
      "\r",
      " 77%|███████▋  | 13886/17957 [1:17:10<05:57, 11.40it/s]"
     ]
    },
    {
     "name": "stdout",
     "output_type": "stream",
     "text": [
      "2019-11-21 16:00:55,091 ACHTUNG: An empty Sentence was created! Are there empty strings in your dataset?\n",
      "2019-11-21 16:00:55,094 Ignore 1 sentence(s) with no tokens.\n"
     ]
    },
    {
     "name": "stderr",
     "output_type": "stream",
     "text": [
      " 79%|███████▉  | 14196/17957 [1:18:21<17:45,  3.53it/s]"
     ]
    },
    {
     "name": "stdout",
     "output_type": "stream",
     "text": [
      "2019-11-21 16:02:06,017 ACHTUNG: An empty Sentence was created! Are there empty strings in your dataset?\n",
      "2019-11-21 16:02:06,019 Ignore 1 sentence(s) with no tokens.\n"
     ]
    },
    {
     "name": "stderr",
     "output_type": "stream",
     "text": [
      " 79%|███████▉  | 14201/17957 [1:18:21<11:02,  5.67it/s]"
     ]
    },
    {
     "name": "stdout",
     "output_type": "stream",
     "text": [
      "2019-11-21 16:02:06,397 ACHTUNG: An empty Sentence was created! Are there empty strings in your dataset?\n",
      "2019-11-21 16:02:06,399 Ignore 1 sentence(s) with no tokens.\n"
     ]
    },
    {
     "name": "stderr",
     "output_type": "stream",
     "text": [
      "\r",
      " 79%|███████▉  | 14204/17957 [1:18:22<08:23,  7.46it/s]"
     ]
    },
    {
     "name": "stdout",
     "output_type": "stream",
     "text": [
      "2019-11-21 16:02:06,538 ACHTUNG: An empty Sentence was created! Are there empty strings in your dataset?\n",
      "2019-11-21 16:02:06,540 Ignore 1 sentence(s) with no tokens.\n"
     ]
    },
    {
     "name": "stderr",
     "output_type": "stream",
     "text": [
      " 79%|███████▉  | 14214/17957 [1:18:22<05:50, 10.67it/s]"
     ]
    },
    {
     "name": "stdout",
     "output_type": "stream",
     "text": [
      "2019-11-21 16:02:07,183 ACHTUNG: An empty Sentence was created! Are there empty strings in your dataset?\n",
      "2019-11-21 16:02:07,186 Ignore 1 sentence(s) with no tokens.\n"
     ]
    },
    {
     "name": "stderr",
     "output_type": "stream",
     "text": [
      " 79%|███████▉  | 14221/17957 [1:18:23<05:32, 11.23it/s]"
     ]
    },
    {
     "name": "stdout",
     "output_type": "stream",
     "text": [
      "2019-11-21 16:02:07,736 ACHTUNG: An empty Sentence was created! Are there empty strings in your dataset?\n",
      "2019-11-21 16:02:07,738 Ignore 1 sentence(s) with no tokens.\n"
     ]
    },
    {
     "name": "stderr",
     "output_type": "stream",
     "text": [
      "\r",
      " 79%|███████▉  | 14224/17957 [1:18:23<05:00, 12.43it/s]"
     ]
    },
    {
     "name": "stdout",
     "output_type": "stream",
     "text": [
      "2019-11-21 16:02:07,990 ACHTUNG: An empty Sentence was created! Are there empty strings in your dataset?\n",
      "2019-11-21 16:02:07,992 Ignore 1 sentence(s) with no tokens.\n"
     ]
    },
    {
     "name": "stderr",
     "output_type": "stream",
     "text": [
      " 79%|███████▉  | 14236/17957 [1:18:24<05:35, 11.10it/s]"
     ]
    },
    {
     "name": "stdout",
     "output_type": "stream",
     "text": [
      "2019-11-21 16:02:08,909 ACHTUNG: An empty Sentence was created! Are there empty strings in your dataset?\n",
      "2019-11-21 16:02:08,911 Ignore 1 sentence(s) with no tokens.\n"
     ]
    },
    {
     "name": "stderr",
     "output_type": "stream",
     "text": [
      "\r",
      " 79%|███████▉  | 14239/17957 [1:18:24<04:52, 12.73it/s]"
     ]
    },
    {
     "name": "stdout",
     "output_type": "stream",
     "text": [
      "2019-11-21 16:02:09,122 ACHTUNG: An empty Sentence was created! Are there empty strings in your dataset?\n",
      "2019-11-21 16:02:09,124 Ignore 1 sentence(s) with no tokens.\n"
     ]
    },
    {
     "name": "stderr",
     "output_type": "stream",
     "text": [
      " 79%|███████▉  | 14250/17957 [1:18:25<05:24, 11.41it/s]"
     ]
    },
    {
     "name": "stdout",
     "output_type": "stream",
     "text": [
      "2019-11-21 16:02:10,023 ACHTUNG: An empty Sentence was created! Are there empty strings in your dataset?\n",
      "2019-11-21 16:02:10,025 Ignore 1 sentence(s) with no tokens.\n"
     ]
    },
    {
     "name": "stderr",
     "output_type": "stream",
     "text": [
      " 79%|███████▉  | 14255/17957 [1:18:25<04:33, 13.52it/s]"
     ]
    },
    {
     "name": "stdout",
     "output_type": "stream",
     "text": [
      "2019-11-21 16:02:10,242 ACHTUNG: An empty Sentence was created! Are there empty strings in your dataset?\n",
      "2019-11-21 16:02:10,243 Ignore 1 sentence(s) with no tokens.\n"
     ]
    },
    {
     "name": "stderr",
     "output_type": "stream",
     "text": [
      " 80%|███████▉  | 14284/17957 [1:18:28<05:21, 11.44it/s]"
     ]
    },
    {
     "name": "stdout",
     "output_type": "stream",
     "text": [
      "2019-11-21 16:02:12,829 ACHTUNG: An empty Sentence was created! Are there empty strings in your dataset?\n",
      "2019-11-21 16:02:12,831 Ignore 1 sentence(s) with no tokens.\n"
     ]
    },
    {
     "name": "stderr",
     "output_type": "stream",
     "text": [
      " 80%|███████▉  | 14292/17957 [1:18:29<05:36, 10.89it/s]"
     ]
    },
    {
     "name": "stdout",
     "output_type": "stream",
     "text": [
      "2019-11-21 16:02:13,389 ACHTUNG: An empty Sentence was created! Are there empty strings in your dataset?\n",
      "2019-11-21 16:02:13,392 Ignore 1 sentence(s) with no tokens.\n"
     ]
    },
    {
     "name": "stderr",
     "output_type": "stream",
     "text": [
      " 80%|███████▉  | 14296/17957 [1:18:29<04:54, 12.42it/s]"
     ]
    },
    {
     "name": "stdout",
     "output_type": "stream",
     "text": [
      "2019-11-21 16:02:13,683 ACHTUNG: An empty Sentence was created! Are there empty strings in your dataset?\n",
      "2019-11-21 16:02:13,685 Ignore 1 sentence(s) with no tokens.\n"
     ]
    },
    {
     "name": "stderr",
     "output_type": "stream",
     "text": [
      " 80%|███████▉  | 14306/17957 [1:18:29<04:16, 14.22it/s]"
     ]
    },
    {
     "name": "stdout",
     "output_type": "stream",
     "text": [
      "2019-11-21 16:02:14,320 ACHTUNG: An empty Sentence was created! Are there empty strings in your dataset?\n",
      "2019-11-21 16:02:14,325 Ignore 1 sentence(s) with no tokens.\n"
     ]
    },
    {
     "name": "stderr",
     "output_type": "stream",
     "text": [
      " 80%|███████▉  | 14328/17957 [1:18:30<02:52, 21.04it/s]"
     ]
    },
    {
     "name": "stdout",
     "output_type": "stream",
     "text": [
      "2019-11-21 16:02:15,265 ACHTUNG: An empty Sentence was created! Are there empty strings in your dataset?\n",
      "2019-11-21 16:02:15,266 Ignore 1 sentence(s) with no tokens.\n"
     ]
    },
    {
     "name": "stderr",
     "output_type": "stream",
     "text": [
      "\r",
      " 80%|███████▉  | 14331/17957 [1:18:31<03:04, 19.69it/s]"
     ]
    },
    {
     "name": "stdout",
     "output_type": "stream",
     "text": [
      "2019-11-21 16:02:15,437 ACHTUNG: An empty Sentence was created! Are there empty strings in your dataset?\n",
      "2019-11-21 16:02:15,438 Ignore 1 sentence(s) with no tokens.\n"
     ]
    },
    {
     "name": "stderr",
     "output_type": "stream",
     "text": [
      " 80%|███████▉  | 14338/17957 [1:18:31<02:58, 20.33it/s]"
     ]
    },
    {
     "name": "stdout",
     "output_type": "stream",
     "text": [
      "2019-11-21 16:02:15,954 ACHTUNG: An empty Sentence was created! Are there empty strings in your dataset?\n",
      "2019-11-21 16:02:15,956 Ignore 1 sentence(s) with no tokens.\n"
     ]
    },
    {
     "name": "stderr",
     "output_type": "stream",
     "text": [
      " 80%|███████▉  | 14347/17957 [1:18:32<03:50, 15.67it/s]"
     ]
    },
    {
     "name": "stdout",
     "output_type": "stream",
     "text": [
      "2019-11-21 16:02:16,374 ACHTUNG: An empty Sentence was created! Are there empty strings in your dataset?\n",
      "2019-11-21 16:02:16,375 Ignore 1 sentence(s) with no tokens.\n"
     ]
    },
    {
     "name": "stderr",
     "output_type": "stream",
     "text": [
      "\r",
      " 80%|███████▉  | 14350/17957 [1:18:32<03:31, 17.05it/s]"
     ]
    },
    {
     "name": "stdout",
     "output_type": "stream",
     "text": [
      "2019-11-21 16:02:16,560 ACHTUNG: An empty Sentence was created! Are there empty strings in your dataset?\n",
      "2019-11-21 16:02:16,562 Ignore 1 sentence(s) with no tokens.\n"
     ]
    },
    {
     "name": "stderr",
     "output_type": "stream",
     "text": [
      " 80%|████████  | 14429/17957 [1:18:51<12:51,  4.57it/s]"
     ]
    },
    {
     "name": "stdout",
     "output_type": "stream",
     "text": [
      "2019-11-21 16:02:35,476 ACHTUNG: An empty Sentence was created! Are there empty strings in your dataset?\n",
      "2019-11-21 16:02:35,478 Ignore 1 sentence(s) with no tokens.\n"
     ]
    },
    {
     "name": "stderr",
     "output_type": "stream",
     "text": [
      " 80%|████████  | 14434/17957 [1:18:51<07:56,  7.40it/s]"
     ]
    },
    {
     "name": "stdout",
     "output_type": "stream",
     "text": [
      "2019-11-21 16:02:35,754 ACHTUNG: An empty Sentence was created! Are there empty strings in your dataset?\n",
      "2019-11-21 16:02:35,757 Ignore 1 sentence(s) with no tokens.\n"
     ]
    },
    {
     "name": "stderr",
     "output_type": "stream",
     "text": [
      "\r",
      " 80%|████████  | 14438/17957 [1:18:51<06:16,  9.35it/s]"
     ]
    },
    {
     "name": "stdout",
     "output_type": "stream",
     "text": [
      "2019-11-21 16:02:35,886 ACHTUNG: An empty Sentence was created! Are there empty strings in your dataset?\n",
      "2019-11-21 16:02:35,888 Ignore 1 sentence(s) with no tokens.\n"
     ]
    },
    {
     "name": "stderr",
     "output_type": "stream",
     "text": [
      " 80%|████████  | 14450/17957 [1:18:52<03:48, 15.36it/s]"
     ]
    },
    {
     "name": "stdout",
     "output_type": "stream",
     "text": [
      "2019-11-21 16:02:36,449 ACHTUNG: An empty Sentence was created! Are there empty strings in your dataset?\n",
      "2019-11-21 16:02:36,450 Ignore 1 sentence(s) with no tokens.\n"
     ]
    },
    {
     "name": "stderr",
     "output_type": "stream",
     "text": [
      "\r",
      " 80%|████████  | 14453/17957 [1:18:52<03:44, 15.62it/s]"
     ]
    },
    {
     "name": "stdout",
     "output_type": "stream",
     "text": [
      "2019-11-21 16:02:36,634 ACHTUNG: An empty Sentence was created! Are there empty strings in your dataset?\n",
      "2019-11-21 16:02:36,636 Ignore 1 sentence(s) with no tokens.\n"
     ]
    },
    {
     "name": "stderr",
     "output_type": "stream",
     "text": [
      " 81%|████████  | 14464/17957 [1:18:53<04:34, 12.72it/s]"
     ]
    },
    {
     "name": "stdout",
     "output_type": "stream",
     "text": [
      "2019-11-21 16:02:37,499 ACHTUNG: An empty Sentence was created! Are there empty strings in your dataset?\n",
      "2019-11-21 16:02:37,501 Ignore 1 sentence(s) with no tokens.\n"
     ]
    },
    {
     "name": "stderr",
     "output_type": "stream",
     "text": [
      " 81%|████████  | 14470/17957 [1:18:53<03:43, 15.59it/s]"
     ]
    },
    {
     "name": "stdout",
     "output_type": "stream",
     "text": [
      "2019-11-21 16:02:37,744 ACHTUNG: An empty Sentence was created! Are there empty strings in your dataset?\n",
      "2019-11-21 16:02:37,746 Ignore 1 sentence(s) with no tokens.\n"
     ]
    },
    {
     "name": "stderr",
     "output_type": "stream",
     "text": [
      " 81%|████████  | 14474/17957 [1:18:53<04:39, 12.48it/s]"
     ]
    },
    {
     "name": "stdout",
     "output_type": "stream",
     "text": [
      "2019-11-21 16:02:38,123 ACHTUNG: An empty Sentence was created! Are there empty strings in your dataset?\n",
      "2019-11-21 16:02:38,126 Ignore 1 sentence(s) with no tokens.\n"
     ]
    },
    {
     "name": "stderr",
     "output_type": "stream",
     "text": [
      " 81%|████████  | 14488/17957 [1:18:55<05:28, 10.56it/s]"
     ]
    },
    {
     "name": "stdout",
     "output_type": "stream",
     "text": [
      "2019-11-21 16:02:39,570 ACHTUNG: An empty Sentence was created! Are there empty strings in your dataset?\n",
      "2019-11-21 16:02:39,573 Ignore 1 sentence(s) with no tokens.\n"
     ]
    },
    {
     "name": "stderr",
     "output_type": "stream",
     "text": [
      " 89%|████████▊ | 15909/17957 [1:24:47<03:48,  8.97it/s]"
     ]
    },
    {
     "name": "stdout",
     "output_type": "stream",
     "text": [
      "2019-11-21 16:08:31,607 ACHTUNG: An empty Sentence was created! Are there empty strings in your dataset?\n",
      "2019-11-21 16:08:31,610 Ignore 1 sentence(s) with no tokens.\n",
      "2019-11-21 16:08:31,611 ACHTUNG: An empty Sentence was created! Are there empty strings in your dataset?\n",
      "2019-11-21 16:08:31,613 Ignore 1 sentence(s) with no tokens.\n"
     ]
    },
    {
     "name": "stderr",
     "output_type": "stream",
     "text": [
      "\r",
      " 89%|████████▊ | 15912/17957 [1:24:47<03:04, 11.09it/s]"
     ]
    },
    {
     "name": "stdout",
     "output_type": "stream",
     "text": [
      "2019-11-21 16:08:31,740 ACHTUNG: An empty Sentence was created! Are there empty strings in your dataset?\n",
      "2019-11-21 16:08:31,742 Ignore 1 sentence(s) with no tokens.\n",
      "2019-11-21 16:08:31,744 ACHTUNG: An empty Sentence was created! Are there empty strings in your dataset?\n",
      "2019-11-21 16:08:31,745 Ignore 1 sentence(s) with no tokens.\n"
     ]
    },
    {
     "name": "stderr",
     "output_type": "stream",
     "text": [
      " 89%|████████▉ | 16020/17957 [1:24:57<02:24, 13.44it/s]"
     ]
    },
    {
     "name": "stdout",
     "output_type": "stream",
     "text": [
      "2019-11-21 16:08:42,016 ACHTUNG: An empty Sentence was created! Are there empty strings in your dataset?\n",
      "2019-11-21 16:08:42,018 Ignore 1 sentence(s) with no tokens.\n"
     ]
    },
    {
     "name": "stderr",
     "output_type": "stream",
     "text": [
      "\r",
      " 89%|████████▉ | 16023/17957 [1:24:57<02:13, 14.45it/s]"
     ]
    },
    {
     "name": "stdout",
     "output_type": "stream",
     "text": [
      "2019-11-21 16:08:42,222 ACHTUNG: An empty Sentence was created! Are there empty strings in your dataset?\n",
      "2019-11-21 16:08:42,225 Ignore 1 sentence(s) with no tokens.\n"
     ]
    },
    {
     "name": "stderr",
     "output_type": "stream",
     "text": [
      " 89%|████████▉ | 16029/17957 [1:24:58<02:27, 13.09it/s]"
     ]
    },
    {
     "name": "stdout",
     "output_type": "stream",
     "text": [
      "2019-11-21 16:08:42,574 ACHTUNG: An empty Sentence was created! Are there empty strings in your dataset?\n",
      "2019-11-21 16:08:42,575 Ignore 1 sentence(s) with no tokens.\n"
     ]
    },
    {
     "name": "stderr",
     "output_type": "stream",
     "text": [
      "\r",
      " 89%|████████▉ | 16032/17957 [1:24:58<02:03, 15.63it/s]"
     ]
    },
    {
     "name": "stdout",
     "output_type": "stream",
     "text": [
      "2019-11-21 16:08:42,679 ACHTUNG: An empty Sentence was created! Are there empty strings in your dataset?\n",
      "2019-11-21 16:08:42,680 Ignore 1 sentence(s) with no tokens.\n"
     ]
    },
    {
     "name": "stderr",
     "output_type": "stream",
     "text": [
      "\r",
      " 89%|████████▉ | 16035/17957 [1:24:58<01:49, 17.50it/s]"
     ]
    },
    {
     "name": "stdout",
     "output_type": "stream",
     "text": [
      "2019-11-21 16:08:42,910 ACHTUNG: An empty Sentence was created! Are there empty strings in your dataset?\n",
      "2019-11-21 16:08:42,923 Ignore 1 sentence(s) with no tokens.\n"
     ]
    },
    {
     "name": "stderr",
     "output_type": "stream",
     "text": [
      "\r",
      " 89%|████████▉ | 16038/17957 [1:24:58<01:40, 19.06it/s]"
     ]
    },
    {
     "name": "stdout",
     "output_type": "stream",
     "text": [
      "2019-11-21 16:08:43,132 ACHTUNG: An empty Sentence was created! Are there empty strings in your dataset?\n",
      "2019-11-21 16:08:43,134 Ignore 1 sentence(s) with no tokens.\n"
     ]
    },
    {
     "name": "stderr",
     "output_type": "stream",
     "text": [
      " 89%|████████▉ | 16045/17957 [1:24:59<02:27, 13.01it/s]"
     ]
    },
    {
     "name": "stdout",
     "output_type": "stream",
     "text": [
      "2019-11-21 16:08:43,522 ACHTUNG: An empty Sentence was created! Are there empty strings in your dataset?\n",
      "2019-11-21 16:08:43,525 Ignore 1 sentence(s) with no tokens.\n"
     ]
    },
    {
     "name": "stderr",
     "output_type": "stream",
     "text": [
      "\r",
      " 89%|████████▉ | 16047/17957 [1:24:59<02:21, 13.51it/s]"
     ]
    },
    {
     "name": "stdout",
     "output_type": "stream",
     "text": [
      "2019-11-21 16:08:43,699 ACHTUNG: An empty Sentence was created! Are there empty strings in your dataset?\n",
      "2019-11-21 16:08:43,701 Ignore 1 sentence(s) with no tokens.\n"
     ]
    },
    {
     "name": "stderr",
     "output_type": "stream",
     "text": [
      " 89%|████████▉ | 16053/17957 [1:24:59<02:09, 14.68it/s]"
     ]
    },
    {
     "name": "stdout",
     "output_type": "stream",
     "text": [
      "2019-11-21 16:08:43,965 ACHTUNG: An empty Sentence was created! Are there empty strings in your dataset?\n",
      "2019-11-21 16:08:43,981 Ignore 1 sentence(s) with no tokens.\n"
     ]
    },
    {
     "name": "stderr",
     "output_type": "stream",
     "text": [
      "\r",
      " 89%|████████▉ | 16056/17957 [1:24:59<01:58, 16.06it/s]"
     ]
    },
    {
     "name": "stdout",
     "output_type": "stream",
     "text": [
      "2019-11-21 16:08:44,105 ACHTUNG: An empty Sentence was created! Are there empty strings in your dataset?\n",
      "2019-11-21 16:08:44,107 Ignore 1 sentence(s) with no tokens.\n"
     ]
    },
    {
     "name": "stderr",
     "output_type": "stream",
     "text": [
      "\r",
      " 89%|████████▉ | 16059/17957 [1:24:59<01:42, 18.59it/s]"
     ]
    },
    {
     "name": "stdout",
     "output_type": "stream",
     "text": [
      "2019-11-21 16:08:44,291 ACHTUNG: An empty Sentence was created! Are there empty strings in your dataset?\n",
      "2019-11-21 16:08:44,318 Ignore 1 sentence(s) with no tokens.\n"
     ]
    },
    {
     "name": "stderr",
     "output_type": "stream",
     "text": [
      "\r",
      " 89%|████████▉ | 16062/17957 [1:24:59<01:33, 20.30it/s]"
     ]
    },
    {
     "name": "stdout",
     "output_type": "stream",
     "text": [
      "2019-11-21 16:08:44,411 ACHTUNG: An empty Sentence was created! Are there empty strings in your dataset?\n",
      "2019-11-21 16:08:44,414 Ignore 1 sentence(s) with no tokens.\n"
     ]
    },
    {
     "name": "stderr",
     "output_type": "stream",
     "text": [
      " 89%|████████▉ | 16069/17957 [1:25:00<01:30, 20.83it/s]"
     ]
    },
    {
     "name": "stdout",
     "output_type": "stream",
     "text": [
      "2019-11-21 16:08:44,628 ACHTUNG: An empty Sentence was created! Are there empty strings in your dataset?\n",
      "2019-11-21 16:08:44,631 Ignore 1 sentence(s) with no tokens.\n"
     ]
    },
    {
     "name": "stderr",
     "output_type": "stream",
     "text": [
      "\r",
      " 90%|████████▉ | 16072/17957 [1:25:00<01:28, 21.21it/s]"
     ]
    },
    {
     "name": "stdout",
     "output_type": "stream",
     "text": [
      "2019-11-21 16:08:44,761 ACHTUNG: An empty Sentence was created! Are there empty strings in your dataset?\n",
      "2019-11-21 16:08:44,763 Ignore 1 sentence(s) with no tokens.\n"
     ]
    },
    {
     "name": "stderr",
     "output_type": "stream",
     "text": [
      " 90%|████████▉ | 16081/17957 [1:25:00<01:36, 19.47it/s]"
     ]
    },
    {
     "name": "stdout",
     "output_type": "stream",
     "text": [
      "2019-11-21 16:08:45,226 ACHTUNG: An empty Sentence was created! Are there empty strings in your dataset?\n",
      "2019-11-21 16:08:45,228 Ignore 1 sentence(s) with no tokens.\n"
     ]
    },
    {
     "name": "stderr",
     "output_type": "stream",
     "text": [
      "\r",
      " 90%|████████▉ | 16084/17957 [1:25:00<01:28, 21.23it/s]"
     ]
    },
    {
     "name": "stdout",
     "output_type": "stream",
     "text": [
      "2019-11-21 16:08:45,339 ACHTUNG: An empty Sentence was created! Are there empty strings in your dataset?\n",
      "2019-11-21 16:08:45,342 Ignore 1 sentence(s) with no tokens.\n"
     ]
    },
    {
     "name": "stderr",
     "output_type": "stream",
     "text": [
      " 90%|████████▉ | 16090/17957 [1:25:01<01:25, 21.87it/s]"
     ]
    },
    {
     "name": "stdout",
     "output_type": "stream",
     "text": [
      "2019-11-21 16:08:45,616 ACHTUNG: An empty Sentence was created! Are there empty strings in your dataset?\n",
      "2019-11-21 16:08:45,617 Ignore 1 sentence(s) with no tokens.\n"
     ]
    },
    {
     "name": "stderr",
     "output_type": "stream",
     "text": [
      "\r",
      " 90%|████████▉ | 16093/17957 [1:25:01<01:35, 19.43it/s]"
     ]
    },
    {
     "name": "stdout",
     "output_type": "stream",
     "text": [
      "2019-11-21 16:08:45,798 ACHTUNG: An empty Sentence was created! Are there empty strings in your dataset?\n",
      "2019-11-21 16:08:45,799 Ignore 1 sentence(s) with no tokens.\n"
     ]
    },
    {
     "name": "stderr",
     "output_type": "stream",
     "text": [
      " 90%|████████▉ | 16099/17957 [1:25:01<01:32, 20.10it/s]"
     ]
    },
    {
     "name": "stdout",
     "output_type": "stream",
     "text": [
      "2019-11-21 16:08:46,077 ACHTUNG: An empty Sentence was created! Are there empty strings in your dataset?\n",
      "2019-11-21 16:08:46,078 Ignore 1 sentence(s) with no tokens.\n"
     ]
    },
    {
     "name": "stderr",
     "output_type": "stream",
     "text": [
      "\r",
      " 90%|████████▉ | 16102/17957 [1:25:01<01:37, 19.06it/s]"
     ]
    },
    {
     "name": "stdout",
     "output_type": "stream",
     "text": [
      "2019-11-21 16:08:46,256 ACHTUNG: An empty Sentence was created! Are there empty strings in your dataset?\n",
      "2019-11-21 16:08:46,260 Ignore 1 sentence(s) with no tokens.\n"
     ]
    },
    {
     "name": "stderr",
     "output_type": "stream",
     "text": [
      " 90%|████████▉ | 16108/17957 [1:25:02<01:39, 18.58it/s]"
     ]
    },
    {
     "name": "stdout",
     "output_type": "stream",
     "text": [
      "2019-11-21 16:08:46,600 ACHTUNG: An empty Sentence was created! Are there empty strings in your dataset?\n",
      "2019-11-21 16:08:46,602 Ignore 1 sentence(s) with no tokens.\n"
     ]
    },
    {
     "name": "stderr",
     "output_type": "stream",
     "text": [
      "\r",
      " 90%|████████▉ | 16111/17957 [1:25:02<01:39, 18.56it/s]"
     ]
    },
    {
     "name": "stdout",
     "output_type": "stream",
     "text": [
      "2019-11-21 16:08:46,736 ACHTUNG: An empty Sentence was created! Are there empty strings in your dataset?\n",
      "2019-11-21 16:08:46,737 Ignore 1 sentence(s) with no tokens.\n"
     ]
    },
    {
     "name": "stderr",
     "output_type": "stream",
     "text": [
      " 90%|█████████ | 16192/17957 [1:25:07<01:48, 16.29it/s]"
     ]
    },
    {
     "name": "stdout",
     "output_type": "stream",
     "text": [
      "2019-11-21 16:08:51,573 ACHTUNG: An empty Sentence was created! Are there empty strings in your dataset?\n",
      "2019-11-21 16:08:51,574 Ignore 1 sentence(s) with no tokens.\n"
     ]
    },
    {
     "name": "stderr",
     "output_type": "stream",
     "text": [
      "\r",
      " 90%|█████████ | 16195/17957 [1:25:07<01:38, 17.83it/s]"
     ]
    },
    {
     "name": "stdout",
     "output_type": "stream",
     "text": [
      "2019-11-21 16:08:51,705 ACHTUNG: An empty Sentence was created! Are there empty strings in your dataset?\n",
      "2019-11-21 16:08:51,708 Ignore 1 sentence(s) with no tokens.\n"
     ]
    },
    {
     "name": "stderr",
     "output_type": "stream",
     "text": [
      "\r",
      " 90%|█████████ | 16198/17957 [1:25:07<01:34, 18.62it/s]"
     ]
    },
    {
     "name": "stdout",
     "output_type": "stream",
     "text": [
      "2019-11-21 16:08:51,849 ACHTUNG: An empty Sentence was created! Are there empty strings in your dataset?\n",
      "2019-11-21 16:08:51,851 Ignore 1 sentence(s) with no tokens.\n"
     ]
    },
    {
     "name": "stderr",
     "output_type": "stream",
     "text": [
      "\r",
      " 90%|█████████ | 16201/17957 [1:25:07<01:34, 18.56it/s]"
     ]
    },
    {
     "name": "stdout",
     "output_type": "stream",
     "text": [
      "2019-11-21 16:08:52,036 ACHTUNG: An empty Sentence was created! Are there empty strings in your dataset?\n",
      "2019-11-21 16:08:52,038 Ignore 1 sentence(s) with no tokens.\n"
     ]
    },
    {
     "name": "stderr",
     "output_type": "stream",
     "text": [
      "\r",
      " 90%|█████████ | 16204/17957 [1:25:07<01:31, 19.09it/s]"
     ]
    },
    {
     "name": "stdout",
     "output_type": "stream",
     "text": [
      "2019-11-21 16:08:52,158 ACHTUNG: An empty Sentence was created! Are there empty strings in your dataset?\n",
      "2019-11-21 16:08:52,161 Ignore 1 sentence(s) with no tokens.\n"
     ]
    },
    {
     "name": "stderr",
     "output_type": "stream",
     "text": [
      "\r",
      " 90%|█████████ | 16207/17957 [1:25:07<01:32, 18.82it/s]"
     ]
    },
    {
     "name": "stdout",
     "output_type": "stream",
     "text": [
      "2019-11-21 16:08:52,325 ACHTUNG: An empty Sentence was created! Are there empty strings in your dataset?\n",
      "2019-11-21 16:08:52,326 Ignore 1 sentence(s) with no tokens.\n"
     ]
    },
    {
     "name": "stderr",
     "output_type": "stream",
     "text": [
      "\r",
      " 90%|█████████ | 16210/17957 [1:25:08<01:28, 19.73it/s]"
     ]
    },
    {
     "name": "stdout",
     "output_type": "stream",
     "text": [
      "2019-11-21 16:08:52,458 ACHTUNG: An empty Sentence was created! Are there empty strings in your dataset?\n",
      "2019-11-21 16:08:52,461 Ignore 1 sentence(s) with no tokens.\n"
     ]
    },
    {
     "name": "stderr",
     "output_type": "stream",
     "text": [
      " 92%|█████████▏| 16574/17957 [1:26:39<03:50,  6.01it/s]"
     ]
    },
    {
     "name": "stdout",
     "output_type": "stream",
     "text": [
      "2019-11-21 16:10:23,751 ACHTUNG: An empty Sentence was created! Are there empty strings in your dataset?\n",
      "2019-11-21 16:10:23,755 Ignore 1 sentence(s) with no tokens.\n"
     ]
    },
    {
     "name": "stderr",
     "output_type": "stream",
     "text": [
      " 93%|█████████▎| 16617/17957 [1:26:45<02:54,  7.67it/s]"
     ]
    },
    {
     "name": "stdout",
     "output_type": "stream",
     "text": [
      "2019-11-21 16:10:29,815 ACHTUNG: An empty Sentence was created! Are there empty strings in your dataset?\n",
      "2019-11-21 16:10:29,816 Ignore 1 sentence(s) with no tokens.\n"
     ]
    },
    {
     "name": "stderr",
     "output_type": "stream",
     "text": [
      " 94%|█████████▍| 16869/17957 [1:27:47<05:09,  3.51it/s]"
     ]
    },
    {
     "name": "stdout",
     "output_type": "stream",
     "text": [
      "2019-11-21 16:11:31,983 ACHTUNG: An empty Sentence was created! Are there empty strings in your dataset?\n",
      "2019-11-21 16:11:31,985 Ignore 1 sentence(s) with no tokens.\n"
     ]
    },
    {
     "name": "stderr",
     "output_type": "stream",
     "text": [
      " 97%|█████████▋| 17407/17957 [1:29:56<00:52, 10.56it/s]"
     ]
    },
    {
     "name": "stdout",
     "output_type": "stream",
     "text": [
      "2019-11-21 16:13:40,657 ACHTUNG: An empty Sentence was created! Are there empty strings in your dataset?\n",
      "2019-11-21 16:13:40,659 Ignore 1 sentence(s) with no tokens.\n",
      "2019-11-21 16:13:40,661 ACHTUNG: An empty Sentence was created! Are there empty strings in your dataset?\n",
      "2019-11-21 16:13:40,661 Ignore 1 sentence(s) with no tokens.\n",
      "2019-11-21 16:13:40,677 ACHTUNG: An empty Sentence was created! Are there empty strings in your dataset?\n",
      "2019-11-21 16:13:40,679 Ignore 1 sentence(s) with no tokens.\n",
      "2019-11-21 16:13:40,681 ACHTUNG: An empty Sentence was created! Are there empty strings in your dataset?\n",
      "2019-11-21 16:13:40,682 Ignore 1 sentence(s) with no tokens.\n",
      "2019-11-21 16:13:40,683 ACHTUNG: An empty Sentence was created! Are there empty strings in your dataset?\n",
      "2019-11-21 16:13:40,685 Ignore 1 sentence(s) with no tokens.\n",
      "2019-11-21 16:13:40,686 ACHTUNG: An empty Sentence was created! Are there empty strings in your dataset?\n",
      "2019-11-21 16:13:40,688 Ignore 1 sentence(s) with no tokens.\n",
      "2019-11-21 16:13:40,689 ACHTUNG: An empty Sentence was created! Are there empty strings in your dataset?\n",
      "2019-11-21 16:13:40,691 Ignore 1 sentence(s) with no tokens.\n",
      "2019-11-21 16:13:40,692 ACHTUNG: An empty Sentence was created! Are there empty strings in your dataset?\n",
      "2019-11-21 16:13:40,693 Ignore 1 sentence(s) with no tokens.\n"
     ]
    },
    {
     "name": "stderr",
     "output_type": "stream",
     "text": [
      " 97%|█████████▋| 17424/17957 [1:29:57<00:57,  9.30it/s]"
     ]
    },
    {
     "name": "stdout",
     "output_type": "stream",
     "text": [
      "2019-11-21 16:13:41,708 ACHTUNG: An empty Sentence was created! Are there empty strings in your dataset?\n",
      "2019-11-21 16:13:41,709 Ignore 1 sentence(s) with no tokens.\n"
     ]
    },
    {
     "name": "stderr",
     "output_type": "stream",
     "text": [
      " 97%|█████████▋| 17433/17957 [1:29:58<00:51, 10.20it/s]"
     ]
    },
    {
     "name": "stdout",
     "output_type": "stream",
     "text": [
      "2019-11-21 16:13:42,521 ACHTUNG: An empty Sentence was created! Are there empty strings in your dataset?\n",
      "2019-11-21 16:13:42,524 Ignore 1 sentence(s) with no tokens.\n"
     ]
    },
    {
     "name": "stderr",
     "output_type": "stream",
     "text": [
      " 97%|█████████▋| 17442/17957 [1:29:59<00:59,  8.69it/s]"
     ]
    },
    {
     "name": "stdout",
     "output_type": "stream",
     "text": [
      "2019-11-21 16:13:43,534 ACHTUNG: An empty Sentence was created! Are there empty strings in your dataset?\n",
      "2019-11-21 16:13:43,536 Ignore 1 sentence(s) with no tokens.\n"
     ]
    },
    {
     "name": "stderr",
     "output_type": "stream",
     "text": [
      " 97%|█████████▋| 17451/17957 [1:29:59<00:54,  9.21it/s]"
     ]
    },
    {
     "name": "stdout",
     "output_type": "stream",
     "text": [
      "2019-11-21 16:13:44,381 ACHTUNG: An empty Sentence was created! Are there empty strings in your dataset?\n",
      "2019-11-21 16:13:44,383 Ignore 1 sentence(s) with no tokens.\n"
     ]
    },
    {
     "name": "stderr",
     "output_type": "stream",
     "text": [
      " 97%|█████████▋| 17459/17957 [1:30:00<00:49, 10.12it/s]"
     ]
    },
    {
     "name": "stdout",
     "output_type": "stream",
     "text": [
      "2019-11-21 16:13:45,156 ACHTUNG: An empty Sentence was created! Are there empty strings in your dataset?\n",
      "2019-11-21 16:13:45,158 Ignore 1 sentence(s) with no tokens.\n"
     ]
    },
    {
     "name": "stderr",
     "output_type": "stream",
     "text": [
      " 97%|█████████▋| 17469/17957 [1:30:01<00:45, 10.67it/s]"
     ]
    },
    {
     "name": "stdout",
     "output_type": "stream",
     "text": [
      "2019-11-21 16:13:45,918 ACHTUNG: An empty Sentence was created! Are there empty strings in your dataset?\n",
      "2019-11-21 16:13:45,920 Ignore 1 sentence(s) with no tokens.\n"
     ]
    },
    {
     "name": "stderr",
     "output_type": "stream",
     "text": [
      " 97%|█████████▋| 17478/17957 [1:30:02<00:47, 10.17it/s]"
     ]
    },
    {
     "name": "stdout",
     "output_type": "stream",
     "text": [
      "2019-11-21 16:13:46,896 ACHTUNG: An empty Sentence was created! Are there empty strings in your dataset?\n",
      "2019-11-21 16:13:46,900 Ignore 1 sentence(s) with no tokens.\n"
     ]
    },
    {
     "name": "stderr",
     "output_type": "stream",
     "text": [
      "\r",
      " 97%|█████████▋| 17480/17957 [1:30:02<00:41, 11.51it/s]"
     ]
    },
    {
     "name": "stdout",
     "output_type": "stream",
     "text": [
      "2019-11-21 16:13:46,906 ACHTUNG: An empty Sentence was created! Are there empty strings in your dataset?\n",
      "2019-11-21 16:13:46,907 Ignore 1 sentence(s) with no tokens.\n",
      "2019-11-21 16:13:46,909 ACHTUNG: An empty Sentence was created! Are there empty strings in your dataset?\n",
      "2019-11-21 16:13:46,910 Ignore 1 sentence(s) with no tokens.\n",
      "2019-11-21 16:13:46,912 ACHTUNG: An empty Sentence was created! Are there empty strings in your dataset?\n",
      "2019-11-21 16:13:46,913 Ignore 1 sentence(s) with no tokens.\n",
      "2019-11-21 16:13:46,914 ACHTUNG: An empty Sentence was created! Are there empty strings in your dataset?\n",
      "2019-11-21 16:13:46,916 Ignore 1 sentence(s) with no tokens.\n",
      "2019-11-21 16:13:46,917 ACHTUNG: An empty Sentence was created! Are there empty strings in your dataset?\n",
      "2019-11-21 16:13:46,919 Ignore 1 sentence(s) with no tokens.\n",
      "2019-11-21 16:13:46,920 ACHTUNG: An empty Sentence was created! Are there empty strings in your dataset?\n",
      "2019-11-21 16:13:46,923 Ignore 1 sentence(s) with no tokens.\n",
      "2019-11-21 16:13:46,925 ACHTUNG: An empty Sentence was created! Are there empty strings in your dataset?\n",
      "2019-11-21 16:13:46,927 Ignore 1 sentence(s) with no tokens.\n"
     ]
    },
    {
     "name": "stderr",
     "output_type": "stream",
     "text": [
      " 97%|█████████▋| 17495/17957 [1:30:03<00:43, 10.70it/s]"
     ]
    },
    {
     "name": "stdout",
     "output_type": "stream",
     "text": [
      "2019-11-21 16:13:47,786 ACHTUNG: An empty Sentence was created! Are there empty strings in your dataset?\n",
      "2019-11-21 16:13:47,789 Ignore 1 sentence(s) with no tokens.\n"
     ]
    },
    {
     "name": "stderr",
     "output_type": "stream",
     "text": [
      " 98%|█████████▊| 17517/17957 [1:30:06<00:47,  9.24it/s]"
     ]
    },
    {
     "name": "stdout",
     "output_type": "stream",
     "text": [
      "2019-11-21 16:13:50,534 ACHTUNG: An empty Sentence was created! Are there empty strings in your dataset?\n",
      "2019-11-21 16:13:50,536 Ignore 1 sentence(s) with no tokens.\n",
      "2019-11-21 16:13:50,538 ACHTUNG: An empty Sentence was created! Are there empty strings in your dataset?\n",
      "2019-11-21 16:13:50,540 Ignore 1 sentence(s) with no tokens.\n",
      "2019-11-21 16:13:50,541 ACHTUNG: An empty Sentence was created! Are there empty strings in your dataset?\n",
      "2019-11-21 16:13:50,557 Ignore 1 sentence(s) with no tokens.\n",
      "2019-11-21 16:13:50,559 ACHTUNG: An empty Sentence was created! Are there empty strings in your dataset?\n",
      "2019-11-21 16:13:50,561 Ignore 1 sentence(s) with no tokens.\n",
      "2019-11-21 16:13:50,562 ACHTUNG: An empty Sentence was created! Are there empty strings in your dataset?\n",
      "2019-11-21 16:13:50,563 Ignore 1 sentence(s) with no tokens.\n",
      "2019-11-21 16:13:50,565 ACHTUNG: An empty Sentence was created! Are there empty strings in your dataset?\n",
      "2019-11-21 16:13:50,566 Ignore 1 sentence(s) with no tokens.\n",
      "2019-11-21 16:13:50,567 ACHTUNG: An empty Sentence was created! Are there empty strings in your dataset?\n",
      "2019-11-21 16:13:50,569 Ignore 1 sentence(s) with no tokens.\n",
      "2019-11-21 16:13:50,571 ACHTUNG: An empty Sentence was created! Are there empty strings in your dataset?\n",
      "2019-11-21 16:13:50,572 Ignore 1 sentence(s) with no tokens.\n"
     ]
    },
    {
     "name": "stderr",
     "output_type": "stream",
     "text": [
      " 98%|█████████▊| 17534/17957 [1:30:07<00:44,  9.45it/s]"
     ]
    },
    {
     "name": "stdout",
     "output_type": "stream",
     "text": [
      "2019-11-21 16:13:51,531 ACHTUNG: An empty Sentence was created! Are there empty strings in your dataset?\n",
      "2019-11-21 16:13:51,534 Ignore 1 sentence(s) with no tokens.\n"
     ]
    },
    {
     "name": "stderr",
     "output_type": "stream",
     "text": [
      " 98%|█████████▊| 17543/17957 [1:30:07<00:39, 10.38it/s]"
     ]
    },
    {
     "name": "stdout",
     "output_type": "stream",
     "text": [
      "2019-11-21 16:13:52,314 ACHTUNG: An empty Sentence was created! Are there empty strings in your dataset?\n",
      "2019-11-21 16:13:52,316 Ignore 1 sentence(s) with no tokens.\n"
     ]
    },
    {
     "name": "stderr",
     "output_type": "stream",
     "text": [
      " 98%|█████████▊| 17552/17957 [1:30:08<00:40, 10.04it/s]"
     ]
    },
    {
     "name": "stdout",
     "output_type": "stream",
     "text": [
      "2019-11-21 16:13:53,140 ACHTUNG: An empty Sentence was created! Are there empty strings in your dataset?\n",
      "2019-11-21 16:13:53,142 Ignore 1 sentence(s) with no tokens.\n"
     ]
    },
    {
     "name": "stderr",
     "output_type": "stream",
     "text": [
      " 98%|█████████▊| 17561/17957 [1:30:09<00:42,  9.27it/s]"
     ]
    },
    {
     "name": "stdout",
     "output_type": "stream",
     "text": [
      "2019-11-21 16:13:54,055 ACHTUNG: An empty Sentence was created! Are there empty strings in your dataset?\n",
      "2019-11-21 16:13:54,056 Ignore 1 sentence(s) with no tokens.\n"
     ]
    },
    {
     "name": "stderr",
     "output_type": "stream",
     "text": [
      " 98%|█████████▊| 17570/17957 [1:30:10<00:40,  9.54it/s]"
     ]
    },
    {
     "name": "stdout",
     "output_type": "stream",
     "text": [
      "2019-11-21 16:13:54,917 ACHTUNG: An empty Sentence was created! Are there empty strings in your dataset?\n",
      "2019-11-21 16:13:54,919 Ignore 1 sentence(s) with no tokens.\n"
     ]
    },
    {
     "name": "stderr",
     "output_type": "stream",
     "text": [
      " 98%|█████████▊| 17579/17957 [1:30:11<00:32, 11.57it/s]"
     ]
    },
    {
     "name": "stdout",
     "output_type": "stream",
     "text": [
      "2019-11-21 16:13:55,622 ACHTUNG: An empty Sentence was created! Are there empty strings in your dataset?\n",
      "2019-11-21 16:13:55,624 Ignore 1 sentence(s) with no tokens.\n"
     ]
    },
    {
     "name": "stderr",
     "output_type": "stream",
     "text": [
      " 98%|█████████▊| 17588/17957 [1:30:12<00:37,  9.85it/s]"
     ]
    },
    {
     "name": "stdout",
     "output_type": "stream",
     "text": [
      "2019-11-21 16:13:56,511 ACHTUNG: An empty Sentence was created! Are there empty strings in your dataset?\n",
      "2019-11-21 16:13:56,513 Ignore 1 sentence(s) with no tokens.\n"
     ]
    },
    {
     "name": "stderr",
     "output_type": "stream",
     "text": [
      " 98%|█████████▊| 17598/17957 [1:30:12<00:32, 11.14it/s]"
     ]
    },
    {
     "name": "stdout",
     "output_type": "stream",
     "text": [
      "2019-11-21 16:13:57,283 ACHTUNG: An empty Sentence was created! Are there empty strings in your dataset?\n",
      "2019-11-21 16:13:57,300 Ignore 1 sentence(s) with no tokens.\n",
      "2019-11-21 16:13:57,302 ACHTUNG: An empty Sentence was created! Are there empty strings in your dataset?\n",
      "2019-11-21 16:13:57,304 Ignore 1 sentence(s) with no tokens.\n",
      "2019-11-21 16:13:57,306 ACHTUNG: An empty Sentence was created! Are there empty strings in your dataset?\n",
      "2019-11-21 16:13:57,307 Ignore 1 sentence(s) with no tokens.\n",
      "2019-11-21 16:13:57,309 ACHTUNG: An empty Sentence was created! Are there empty strings in your dataset?\n",
      "2019-11-21 16:13:57,310 Ignore 1 sentence(s) with no tokens.\n",
      "2019-11-21 16:13:57,311 ACHTUNG: An empty Sentence was created! Are there empty strings in your dataset?\n",
      "2019-11-21 16:13:57,313 Ignore 1 sentence(s) with no tokens.\n",
      "2019-11-21 16:13:57,314 ACHTUNG: An empty Sentence was created! Are there empty strings in your dataset?\n",
      "2019-11-21 16:13:57,316 Ignore 1 sentence(s) with no tokens.\n",
      "2019-11-21 16:13:57,317 ACHTUNG: An empty Sentence was created! Are there empty strings in your dataset?\n",
      "2019-11-21 16:13:57,318 Ignore 1 sentence(s) with no tokens.\n",
      "2019-11-21 16:13:57,320 ACHTUNG: An empty Sentence was created! Are there empty strings in your dataset?\n",
      "2019-11-21 16:13:57,321 Ignore 1 sentence(s) with no tokens.\n"
     ]
    },
    {
     "name": "stderr",
     "output_type": "stream",
     "text": [
      " 98%|█████████▊| 17614/17957 [1:30:13<00:32, 10.70it/s]"
     ]
    },
    {
     "name": "stdout",
     "output_type": "stream",
     "text": [
      "2019-11-21 16:13:58,167 ACHTUNG: An empty Sentence was created! Are there empty strings in your dataset?\n",
      "2019-11-21 16:13:58,168 Ignore 1 sentence(s) with no tokens.\n"
     ]
    },
    {
     "name": "stderr",
     "output_type": "stream",
     "text": [
      " 99%|█████████▉| 17826/17957 [1:30:42<00:18,  7.12it/s]"
     ]
    },
    {
     "name": "stdout",
     "output_type": "stream",
     "text": [
      "2019-11-21 16:14:26,593 ACHTUNG: An empty Sentence was created! Are there empty strings in your dataset?\n",
      "2019-11-21 16:14:26,595 Ignore 1 sentence(s) with no tokens.\n",
      "2019-11-21 16:14:26,597 ACHTUNG: An empty Sentence was created! Are there empty strings in your dataset?\n",
      "2019-11-21 16:14:26,599 Ignore 1 sentence(s) with no tokens.\n",
      "2019-11-21 16:14:26,601 ACHTUNG: An empty Sentence was created! Are there empty strings in your dataset?\n",
      "2019-11-21 16:14:26,602 Ignore 1 sentence(s) with no tokens.\n",
      "2019-11-21 16:14:26,604 ACHTUNG: An empty Sentence was created! Are there empty strings in your dataset?\n",
      "2019-11-21 16:14:26,606 Ignore 1 sentence(s) with no tokens.\n",
      "2019-11-21 16:14:26,607 ACHTUNG: An empty Sentence was created! Are there empty strings in your dataset?\n",
      "2019-11-21 16:14:26,609 Ignore 1 sentence(s) with no tokens.\n"
     ]
    },
    {
     "name": "stderr",
     "output_type": "stream",
     "text": [
      " 99%|█████████▉| 17836/17957 [1:30:42<00:10, 11.07it/s]"
     ]
    },
    {
     "name": "stdout",
     "output_type": "stream",
     "text": [
      "2019-11-21 16:14:26,881 ACHTUNG: An empty Sentence was created! Are there empty strings in your dataset?\n",
      "2019-11-21 16:14:26,883 Ignore 1 sentence(s) with no tokens.\n"
     ]
    },
    {
     "name": "stderr",
     "output_type": "stream",
     "text": [
      " 99%|█████████▉| 17842/17957 [1:30:42<00:07, 14.38it/s]"
     ]
    },
    {
     "name": "stdout",
     "output_type": "stream",
     "text": [
      "2019-11-21 16:14:27,225 ACHTUNG: An empty Sentence was created! Are there empty strings in your dataset?\n",
      "2019-11-21 16:14:27,227 Ignore 1 sentence(s) with no tokens.\n",
      "2019-11-21 16:14:27,237 ACHTUNG: An empty Sentence was created! Are there empty strings in your dataset?\n",
      "2019-11-21 16:14:27,238 Ignore 1 sentence(s) with no tokens.\n",
      "2019-11-21 16:14:27,239 ACHTUNG: An empty Sentence was created! Are there empty strings in your dataset?\n",
      "2019-11-21 16:14:27,241 Ignore 1 sentence(s) with no tokens.\n",
      "2019-11-21 16:14:27,242 ACHTUNG: An empty Sentence was created! Are there empty strings in your dataset?\n",
      "2019-11-21 16:14:27,244 Ignore 1 sentence(s) with no tokens.\n",
      "2019-11-21 16:14:27,245 ACHTUNG: An empty Sentence was created! Are there empty strings in your dataset?\n",
      "2019-11-21 16:14:27,247 Ignore 1 sentence(s) with no tokens.\n"
     ]
    },
    {
     "name": "stderr",
     "output_type": "stream",
     "text": [
      " 99%|█████████▉| 17852/17957 [1:30:43<00:05, 18.01it/s]"
     ]
    },
    {
     "name": "stdout",
     "output_type": "stream",
     "text": [
      "2019-11-21 16:14:27,526 ACHTUNG: An empty Sentence was created! Are there empty strings in your dataset?\n",
      "2019-11-21 16:14:27,541 Ignore 1 sentence(s) with no tokens.\n"
     ]
    },
    {
     "name": "stderr",
     "output_type": "stream",
     "text": [
      " 99%|█████████▉| 17859/17957 [1:30:43<00:04, 19.72it/s]"
     ]
    },
    {
     "name": "stdout",
     "output_type": "stream",
     "text": [
      "2019-11-21 16:14:27,907 ACHTUNG: An empty Sentence was created! Are there empty strings in your dataset?\n",
      "2019-11-21 16:14:27,909 Ignore 1 sentence(s) with no tokens.\n",
      "2019-11-21 16:14:27,911 ACHTUNG: An empty Sentence was created! Are there empty strings in your dataset?\n",
      "2019-11-21 16:14:27,912 Ignore 1 sentence(s) with no tokens.\n"
     ]
    },
    {
     "name": "stderr",
     "output_type": "stream",
     "text": [
      "\r",
      " 99%|█████████▉| 17862/17957 [1:30:43<00:04, 21.76it/s]"
     ]
    },
    {
     "name": "stdout",
     "output_type": "stream",
     "text": [
      "2019-11-21 16:14:27,916 ACHTUNG: An empty Sentence was created! Are there empty strings in your dataset?\n",
      "2019-11-21 16:14:27,917 Ignore 1 sentence(s) with no tokens.\n",
      "2019-11-21 16:14:27,919 ACHTUNG: An empty Sentence was created! Are there empty strings in your dataset?\n",
      "2019-11-21 16:14:27,920 Ignore 1 sentence(s) with no tokens.\n",
      "2019-11-21 16:14:27,922 ACHTUNG: An empty Sentence was created! Are there empty strings in your dataset?\n",
      "2019-11-21 16:14:27,922 Ignore 1 sentence(s) with no tokens.\n"
     ]
    },
    {
     "name": "stderr",
     "output_type": "stream",
     "text": [
      "100%|█████████▉| 17869/17957 [1:30:43<00:04, 21.17it/s]"
     ]
    },
    {
     "name": "stdout",
     "output_type": "stream",
     "text": [
      "2019-11-21 16:14:28,235 ACHTUNG: An empty Sentence was created! Are there empty strings in your dataset?\n",
      "2019-11-21 16:14:28,262 Ignore 1 sentence(s) with no tokens.\n"
     ]
    },
    {
     "name": "stderr",
     "output_type": "stream",
     "text": [
      "100%|██████████| 17957/17957 [1:31:03<00:00,  3.29it/s]\n"
     ]
    }
   ],
   "source": [
    "####### GENE ###################\n",
    "\n",
    "result_file_name = 'PCSE_public_GP_IOB.csv'\n",
    "\n",
    "with open(result_path + result_file_name, 'a', newline='\\n') as f1:\n",
    "    public_writer = csv.writer(f1, delimiter='\\t', lineterminator='\\n')\n",
    "\n",
    "    for index_, each_annotation in tqdm(test_df.iterrows(), total=test_df.shape[0]):\n",
    "        text_temp = each_annotation['sentence'].encode('utf-8').decode('utf-8')\n",
    "\n",
    "        sentence = ' '.join(wordpunct_tokenize(text_temp))\n",
    "        sentence = Sentence(sentence)\n",
    "        gene_model.predict(sentence)\n",
    "\n",
    "        for token in sentence:\n",
    "        # print what you need (text and NER value)\n",
    "            ner_value = token.get_tag('ner').value\n",
    "            if  ner_value == 'B-GENE':\n",
    "                ner_value = 'B-GP'\n",
    "                \n",
    "            if  ner_value == 'I-GENE':\n",
    "                ner_value = 'I-GP'   \n",
    "            \n",
    "            public_writer.writerow([token.text, ner_value])\n",
    "        public_writer.writerow('')"
   ]
  },
  {
   "cell_type": "code",
   "execution_count": 36,
   "metadata": {},
   "outputs": [],
   "source": [
    "import csv\n",
    "data_path = '/nfs/gns/literature/machine-learning/Datasets/NER_Datasets/BC2GM-IOB/test.tsv'\n",
    "targets = ['GENE']\n",
    "                \n",
    "def load_IOBdataset(data_path,targets):\n",
    "    \"\"\"\n",
    "    load the IOB dataset, which is in csv format\n",
    "    :param data_path: path to the csv file of IOB dataset\n",
    "    :type data_path: str\n",
    "    :param targets: a list of interest types\n",
    "    :type targets: List[str]\n",
    "    :return: list of labels of every sentence in dataset\n",
    "    :rtype: List[List[str\n",
    "    \"\"\"\n",
    "    X = []\n",
    "    y = []\n",
    "\n",
    "    X_sent = []\n",
    "    y_sent = []\n",
    "    with open(data_path, 'r') as f:\n",
    "        csv_reader = csv.reader(f, delimiter='\\t')\n",
    "        for line in csv_reader:\n",
    "            if line:\n",
    "                token, tag = line[0], line[-1]\n",
    "                X_sent.append(token)\n",
    "                if targets:\n",
    "                    if tag.split('-')[-1] in set(targets):\n",
    "                        y_sent.append(tag)\n",
    "                    else:\n",
    "                        y_sent.append('O')\n",
    "                else:\n",
    "                    y_sent.append(tag)\n",
    "            else:\n",
    "                # we reach the end of a sentence\n",
    "                if len(X_sent) > 0:\n",
    "                    X.append(' '.join(X_sent))\n",
    "                    y.append(y_sent)\n",
    "                X_sent = []\n",
    "                y_sent = []\n",
    "    return X, y\n",
    "\n",
    "BC2GM_test,y = load_IOBdataset(data_path,targets)"
   ]
  },
  {
   "cell_type": "code",
   "execution_count": 37,
   "metadata": {},
   "outputs": [
    {
     "name": "stderr",
     "output_type": "stream",
     "text": [
      "100%|██████████| 3920/3920 [13:55<00:00,  4.69it/s]   \n"
     ]
    }
   ],
   "source": [
    "result_path = '/nfs/gns/literature/machine-learning/Santosh/public_train_test'\n",
    "result_file_name = 'BC2GM_test_IOB.csv'\n",
    "\n",
    "from nltk.tokenize import wordpunct_tokenize, WordPunctTokenizer\n",
    "from tqdm import tqdm\n",
    "import csv\n",
    "import pandas as pd\n",
    "\n",
    "with open(result_path + result_file_name, 'a', newline='\\n') as f1:\n",
    "    public_writer = csv.writer(f1, delimiter='\\t', lineterminator='\\n')\n",
    "\n",
    "    for each_sentence in tqdm(BC2GM_test):\n",
    "        text_temp = each_sentence\n",
    "\n",
    "#         sentence = ' '.join(text_temp.split(' '))\n",
    "        sentence = Sentence(text_temp)\n",
    "        gene_model.predict(sentence)\n",
    "\n",
    "        for token in sentence:\n",
    "        # print what you need (text and NER value)\n",
    "            ner_value = token.get_tag('ner').value\n",
    "#             if  ner_value == 'B-GP':\n",
    "#                 ner_value = 'B-GENE'\n",
    "                \n",
    "#             if  ner_value == 'I-GP':\n",
    "#                 ner_value = 'I-GENE'  \n",
    "            \n",
    "            public_writer.writerow([token.text, ner_value])\n",
    "        public_writer.writerow('')"
   ]
  }
 ],
 "metadata": {
  "kernelspec": {
   "display_name": "Python 3",
   "language": "python",
   "name": "python3"
  },
  "language_info": {
   "codemirror_mode": {
    "name": "ipython",
    "version": 3
   },
   "file_extension": ".py",
   "mimetype": "text/x-python",
   "name": "python",
   "nbconvert_exporter": "python",
   "pygments_lexer": "ipython3",
   "version": "3.7.4"
  }
 },
 "nbformat": 4,
 "nbformat_minor": 2
}
