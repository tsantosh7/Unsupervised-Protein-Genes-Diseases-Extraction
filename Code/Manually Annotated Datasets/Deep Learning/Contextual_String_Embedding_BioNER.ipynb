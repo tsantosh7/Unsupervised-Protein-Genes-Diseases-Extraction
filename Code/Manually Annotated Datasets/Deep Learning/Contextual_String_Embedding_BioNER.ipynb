{
 "cells": [
  {
   "cell_type": "code",
   "execution_count": null,
   "metadata": {},
   "outputs": [],
   "source": [
    "import flair.datasets\n",
    "from pathlib import Path\n",
    "from flair.data import Corpus\n",
    "from flair.datasets import ColumnCorpus\n",
    "from flair.data_fetcher import NLPTaskDataFetcher, NLPTask\n",
    "from flair.embeddings import TokenEmbeddings, BertEmbeddings,  ELMoEmbeddings, FlairEmbeddings, WordEmbeddings, PooledFlairEmbeddings, StackedEmbeddings, CharacterEmbeddings, CharLMEmbeddings\n",
    "from flair.models import LanguageModel\n",
    "from gensim.models.keyedvectors import KeyedVectors\n",
    "from typing import List\n",
    "import os"
   ]
  },
  {
   "cell_type": "code",
   "execution_count": null,
   "metadata": {},
   "outputs": [],
   "source": [
    "# Disease\n",
    "EBI_data_folder = '/nfs/gns/literature/Santosh_Tirunagari/NER_Datasets/EBI_standard-IOB'\n",
    "# define columns\n",
    "columns = {0: 'text', 1: 'ner'}"
   ]
  },
  {
   "cell_type": "code",
   "execution_count": null,
   "metadata": {},
   "outputs": [],
   "source": [
    "EBI = ColumnCorpus(EBI_data_folder, columns, \n",
    "                              train_file='train.csv',  test_file='test.csv', dev_file='dev.csv', in_memory=False)\n",
    "\n"
   ]
  },
  {
   "cell_type": "code",
   "execution_count": null,
   "metadata": {},
   "outputs": [],
   "source": [
    "tag_type = 'ner'\n",
    "\n",
    "# 3. make the tag dictionary from the corpus\n",
    "tag_dictionary = EBI.make_tag_dictionary(tag_type=tag_type)\n",
    "print(tag_dictionary.idx2item)"
   ]
  },
  {
   "cell_type": "code",
   "execution_count": null,
   "metadata": {},
   "outputs": [],
   "source": [
    "embedding_types: List[TokenEmbeddings] = [\n",
    "                   WordEmbeddings('glove'),\n",
    "                   FlairEmbeddings('news-forward'),\n",
    "                   FlairEmbeddings('news-backward'),\n",
    "                   CharacterEmbeddings(), \n",
    "                   PooledFlairEmbeddings('pubmed-backward', pooling='max'),\n",
    "                   PooledFlairEmbeddings('pubmed-forward', pooling='max'),\n",
    "                   ]"
   ]
  },
  {
   "cell_type": "code",
   "execution_count": null,
   "metadata": {},
   "outputs": [],
   "source": [
    "embeddings: StackedEmbeddings = StackedEmbeddings(embeddings=embedding_types)"
   ]
  },
  {
   "cell_type": "code",
   "execution_count": null,
   "metadata": {},
   "outputs": [],
   "source": [
    "# 5. initialize sequence tagger\n",
    "from flair.models import SequenceTagger\n",
    "\n",
    "tagger: SequenceTagger = SequenceTagger(hidden_size=256,\n",
    "                                        embeddings=embeddings,\n",
    "                                        tag_dictionary=tag_dictionary,\n",
    "                                        tag_type=tag_type,\n",
    "                                        use_crf=True)"
   ]
  },
  {
   "cell_type": "code",
   "execution_count": null,
   "metadata": {},
   "outputs": [],
   "source": [
    "# 6. initialize trainer\n",
    "from flair.trainers import ModelTrainer\n",
    "\n",
    "trainer: ModelTrainer = ModelTrainer(tagger, EBI)"
   ]
  },
  {
   "cell_type": "code",
   "execution_count": null,
   "metadata": {},
   "outputs": [],
   "source": [
    "trainer.train('/nfs/gns/literature/Santosh_Tirunagari/GitHub/flair_models/ner/multi_bio_ner_model/EBI',\n",
    "              learning_rate=0.1,\n",
    "              mini_batch_size=32,\n",
    "              max_epochs=150)"
   ]
  },
  {
   "cell_type": "code",
   "execution_count": 1,
   "metadata": {},
   "outputs": [
    {
     "name": "stdout",
     "output_type": "stream",
     "text": [
      "2019-10-10 16:54:47,803 loading file /nfs/gns/literature/Santosh_Tirunagari/GitHub/flair_models/ner/multi_bio_ner_model/EBI/best-model.pt\n"
     ]
    },
    {
     "data": {
      "text/plain": [
       "{'text': 'For example , the chemical inhibition of IL4I1 activity may represent a new adjuvant strategy for the treatment of cancer by restoring specific anti - tumor immune responses .',\n",
       " 'labels': [],\n",
       " 'entities': [{'text': 'IL4I1',\n",
       "   'start_pos': 41,\n",
       "   'end_pos': 46,\n",
       "   'type': 'GP',\n",
       "   'confidence': 0.9873186945915222},\n",
       "  {'text': 'cancer',\n",
       "   'start_pos': 115,\n",
       "   'end_pos': 121,\n",
       "   'type': 'DS',\n",
       "   'confidence': 0.9942744374275208},\n",
       "  {'text': 'tumor',\n",
       "   'start_pos': 151,\n",
       "   'end_pos': 156,\n",
       "   'type': 'DS',\n",
       "   'confidence': 0.9886742234230042}]}"
      ]
     },
     "execution_count": 1,
     "metadata": {},
     "output_type": "execute_result"
    }
   ],
   "source": [
    "from flair.models import TextClassifier\n",
    "from flair.data import Sentence, Token\n",
    "from flair.models import SequenceTagger\n",
    "\n",
    "from nltk.tokenize import wordpunct_tokenize\n",
    "\n",
    "# load the model you trained\n",
    "\n",
    "flair_model = SequenceTagger.load('/nfs/gns/literature/Santosh_Tirunagari/GitHub/flair_models/ner/multi_bio_ner_model/EBI/best-model.pt')\n",
    "\n",
    "# create example sentence\n",
    "# text= 'Conditions for production, and some characteristics, of mycobacterial growth inhibitory factor produced by spleen cells from mice immunized with viable cells of the attenuated H37Ra strain of Mycobacterium tuberculosis.'\n",
    "text = 'For example, the chemical inhibition of IL4I1 activity may represent a new adjuvant strategy for the treatment of cancer by restoring specific anti-tumor immune responses.'\n",
    "sentence = Sentence(' '.join(wordpunct_tokenize(text)))\n",
    "flair_model.predict(sentence)\n",
    "\n",
    "sentence.to_dict(tag_type='ner')\n",
    "# [<GP-span (8): \"IL4I1\">, <DS-span (20): \"cancer\">, <DS-span (26): \"tumor\">]"
   ]
  }
 ],
 "metadata": {
  "kernelspec": {
   "display_name": "PyTorch",
   "language": "python",
   "name": "pytorch"
  },
  "language_info": {
   "codemirror_mode": {
    "name": "ipython",
    "version": 3
   },
   "file_extension": ".py",
   "mimetype": "text/x-python",
   "name": "python",
   "nbconvert_exporter": "python",
   "pygments_lexer": "ipython3",
   "version": "3.7.4"
  }
 },
 "nbformat": 4,
 "nbformat_minor": 2
}
