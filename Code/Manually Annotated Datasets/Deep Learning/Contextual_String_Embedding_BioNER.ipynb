{
 "cells": [
  {
   "cell_type": "code",
   "execution_count": null,
   "metadata": {},
   "outputs": [],
   "source": [
    "import flair.datasets\n",
    "from pathlib import Path\n",
    "from flair.data import Corpus\n",
    "from flair.datasets import ColumnCorpus\n",
    "from flair.data_fetcher import NLPTaskDataFetcher, NLPTask\n",
    "from flair.embeddings import TokenEmbeddings, BertEmbeddings,  ELMoEmbeddings, FlairEmbeddings, WordEmbeddings, PooledFlairEmbeddings, StackedEmbeddings, CharacterEmbeddings, CharLMEmbeddings\n",
    "from flair.models import LanguageModel\n",
    "from gensim.models.keyedvectors import KeyedVectors\n",
    "from typing import List\n",
    "import os"
   ]
  },
  {
   "cell_type": "code",
   "execution_count": null,
   "metadata": {},
   "outputs": [],
   "source": [
    "# Disease\n",
    "EBI_data_folder = '/nfs/gns/literature/Santosh_Tirunagari/NER_Datasets/EBI_standard-IOB'\n",
    "# define columns\n",
    "columns = {0: 'text', 1: 'ner'}"
   ]
  },
  {
   "cell_type": "code",
   "execution_count": null,
   "metadata": {},
   "outputs": [],
   "source": [
    "EBI = ColumnCorpus(EBI_data_folder, columns, \n",
    "                              train_file='train.csv',  test_file='test.csv', dev_file='dev.csv', in_memory=False)\n",
    "\n"
   ]
  },
  {
   "cell_type": "code",
   "execution_count": null,
   "metadata": {},
   "outputs": [],
   "source": [
    "tag_type = 'ner'\n",
    "\n",
    "# 3. make the tag dictionary from the corpus\n",
    "tag_dictionary = EBI.make_tag_dictionary(tag_type=tag_type)\n",
    "print(tag_dictionary.idx2item)"
   ]
  },
  {
   "cell_type": "code",
   "execution_count": null,
   "metadata": {},
   "outputs": [],
   "source": [
    "embedding_types: List[TokenEmbeddings] = [\n",
    "                   WordEmbeddings('glove'),\n",
    "                   FlairEmbeddings('news-forward'),\n",
    "                   FlairEmbeddings('news-backward'),\n",
    "                   CharacterEmbeddings(), \n",
    "                   PooledFlairEmbeddings('pubmed-backward', pooling='max'),\n",
    "                   PooledFlairEmbeddings('pubmed-forward', pooling='max'),\n",
    "                   ]"
   ]
  },
  {
   "cell_type": "code",
   "execution_count": null,
   "metadata": {},
   "outputs": [],
   "source": [
    "embeddings: StackedEmbeddings = StackedEmbeddings(embeddings=embedding_types)"
   ]
  },
  {
   "cell_type": "code",
   "execution_count": null,
   "metadata": {},
   "outputs": [],
   "source": [
    "# 5. initialize sequence tagger\n",
    "from flair.models import SequenceTagger\n",
    "\n",
    "tagger: SequenceTagger = SequenceTagger(hidden_size=256,\n",
    "                                        embeddings=embeddings,\n",
    "                                        tag_dictionary=tag_dictionary,\n",
    "                                        tag_type=tag_type,\n",
    "                                        use_crf=True)"
   ]
  },
  {
   "cell_type": "code",
   "execution_count": null,
   "metadata": {},
   "outputs": [],
   "source": [
    "# 6. initialize trainer\n",
    "from flair.trainers import ModelTrainer\n",
    "\n",
    "trainer: ModelTrainer = ModelTrainer(tagger, EBI)"
   ]
  },
  {
   "cell_type": "code",
   "execution_count": null,
   "metadata": {},
   "outputs": [],
   "source": [
    "trainer.train('/nfs/gns/literature/Santosh_Tirunagari/GitHub/flair_models/ner/multi_bio_ner_model/EBI',\n",
    "              learning_rate=0.1,\n",
    "              mini_batch_size=32,\n",
    "              max_epochs=150)"
   ]
  },
  {
   "cell_type": "code",
   "execution_count": 1,
   "metadata": {},
   "outputs": [
    {
     "name": "stdout",
     "output_type": "stream",
     "text": [
      "2019-10-14 15:57:21,093 loading file /nfs/gns/literature/Santosh_Tirunagari/GitHub/flair_models/ner/multi_bio_ner_model/EBI/best-model.pt\n"
     ]
    }
   ],
   "source": [
    "from flair.data import Sentence, Token\n",
    "from flair.models import SequenceTagger\n",
    "\n",
    "flair_model = flair_model = SequenceTagger.load('/nfs/gns/literature/Santosh_Tirunagari/GitHub/flair_models/ner/multi_bio_ner_model/EBI/best-model.pt')\n"
   ]
  },
  {
   "cell_type": "code",
   "execution_count": 8,
   "metadata": {},
   "outputs": [],
   "source": [
    "from flask import Flask, jsonify, request\n",
    "\n",
    "def term_highlighter(text: str = None, terms: list = None) -> str:\n",
    "    if not text or not terms:\n",
    "        raise ValueError('Either the supplied text or list of terms and scores is empty or of type None')\n",
    "\n",
    "    used_term_strs = set()\n",
    "\n",
    "    for term in terms:\n",
    "\n",
    "        # because here  each term is something like 'ProjectSummary:AI' followed by a float score\n",
    "        # (this is just the format that solr returns the 'interesting terms' list).\n",
    "        term_str = term[3]\n",
    "\n",
    "        if type(term_str) != str:\n",
    "            continue\n",
    "\n",
    "        # prevent double highlighting\n",
    "        if term_str in used_term_strs:\n",
    "            continue\n",
    "\n",
    "        used_term_strs.add(term_str)\n",
    "        new_term = set()\n",
    "        for s in filter(lambda x: term_str in x, wordpunct_tokenize(text)):\n",
    "            new_term.add(s)\n",
    "        try:\n",
    "            new_term_str = list(new_term)[0]\n",
    "        except:\n",
    "            new_term_str = term_str\n",
    "\n",
    "        if term[2] == 'GP':\n",
    "            text = text.replace(new_term_str, '<span class=\\'GP\\'>' + new_term_str + '</span>')\n",
    "        elif term[2] == 'DS':\n",
    "            text = text.replace(new_term_str, '<span class=\\'DS\\'>' + new_term_str + '</span>')\n",
    "        elif term[2] == 'OG':\n",
    "            text = text.replace(new_term_str, '<span class=\\'OG\\'>' + new_term_str + '</span>')\n",
    "\n",
    "    return text\n",
    "\n",
    "\n",
    "def pcse_ner_predictor(text_sentence):\n",
    "\n",
    "    data_dict ={}\n",
    "\n",
    "    if not text_sentence:\n",
    "        return jsonify({\n",
    "            'error': 'No parameters supplied',\n",
    "            \"status\": 400,\n",
    "            \"service\": 'pcse_ner_predictor'\n",
    "        })\n",
    "\n",
    "    sentence = Sentence(' '.join(wordpunct_tokenize(text_sentence)))\n",
    "    # print(sentence)\n",
    "    # print(text_sentence)\n",
    "    flair_model.predict(sentence)\n",
    "\n",
    "    try:\n",
    "        data_dict['tagged'] = sentence.to_dict(tag_type='ner')\n",
    "\n",
    "        text_input = data_dict['tagged']['text']\n",
    "\n",
    "        terms_entities = []\n",
    "        for each_entity in data_dict['tagged']['entities']:\n",
    "            terms_entities.append(\n",
    "                [each_entity['start_pos'], each_entity['end_pos'], each_entity['type'], each_entity['text']])\n",
    "\n",
    "        data_dict['highlighted_text'] = term_highlighter(text_input,terms_entities)\n",
    "\n",
    "        data_dict['status'] = 200\n",
    "    except:\n",
    "        data_dict['status'] = 400\n",
    "\n",
    "    if data_dict['status'] != 200:\n",
    "        data_dict['status'] = 400\n",
    "        return data_dict\n",
    "    else:\n",
    "        return data_dict"
   ]
  },
  {
   "cell_type": "code",
   "execution_count": 9,
   "metadata": {},
   "outputs": [
    {
     "name": "stdout",
     "output_type": "stream",
     "text": [
      "{'tagged': {'text': 'AS1411 Aptamer - functionalized liposome was successfully formulated and found to be nanosized . Flow cytometer and CLSM results demonstrated that Aptamer enhanced the targeting of carrier in the cancer cells via nucleolin - mediated transmembrane endocytosis pathway . The lipofectaminebased miR - 29b showed a typical concentration - dependent cytotoxic effect in the cancer cells . LP - miR induced a significant reduction in the cell viability of A2780 cells compared to that of nontreated control , while LP - Mut ( mutant loaded ) did not have any effect on the cell viability indicating the importance of the specific gene sequencing . LP - miR induced a significant decrease in the green fluorescence which is indicative of the decrease in the cell viability . Simultaneously , higher PI positive cells were observed for LP - miR treated cancer cells in Live / Dead assay . Cells treated with LP - miR exhibited the brightest fluorescence indicating the presence of apoptotic cells . Significant increase in the Annexin - V + cells and PI + cells were observed for cell treated with LP - miR compared to that of non - treated control indicating the potential of miR - 29b . This novel miR - 29b - loaded Aptamer - directed liposome could potential serve as a new platform to improve the therapeutic outcome in ovarian cancers .', 'labels': [], 'entities': [{'text': 'cancer', 'start_pos': 196, 'end_pos': 202, 'type': 'DS', 'confidence': 0.9674324989318848}, {'text': 'nucleolin', 'start_pos': 213, 'end_pos': 222, 'type': 'GP', 'confidence': 0.9940561056137085}, {'text': 'cancer', 'start_pos': 370, 'end_pos': 376, 'type': 'DS', 'confidence': 0.9610093235969543}, {'text': 'cancer', 'start_pos': 846, 'end_pos': 852, 'type': 'DS', 'confidence': 0.9354074001312256}, {'text': 'Annexin - V', 'start_pos': 1020, 'end_pos': 1031, 'type': 'GP', 'confidence': 0.9835895101229349}, {'text': 'ovarian cancers', 'start_pos': 1318, 'end_pos': 1333, 'type': 'DS', 'confidence': 0.9333644509315491}]}, 'highlighted_text': \"AS1411 Aptamer - functionalized liposome was successfully formulated and found to be nanosized . Flow cytometer and CLSM results demonstrated that Aptamer enhanced the targeting of carrier in the cancer cells via <span class='GP'>nucleolin</span> - mediated transmembrane endocytosis pathway . The lipofectaminebased miR - 29b showed a typical concentration - dependent cytotoxic effect in the cancer cells . LP - miR induced a significant reduction in the cell viability of A2780 cells compared to that of nontreated control , while LP - Mut ( mutant loaded ) did not have any effect on the cell viability indicating the importance of the specific gene sequencing . LP - miR induced a significant decrease in the green fluorescence which is indicative of the decrease in the cell viability . Simultaneously , higher PI positive cells were observed for LP - miR treated cancer cells in Live / Dead assay . Cells treated with LP - miR exhibited the brightest fluorescence indicating the presence of apoptotic cells . Significant increase in the <span class='GP'>Annexin - V</span> + cells and PI + cells were observed for cell treated with LP - miR compared to that of non - treated control indicating the potential of miR - 29b . This novel miR - 29b - loaded Aptamer - directed liposome could potential serve as a new platform to improve the therapeutic outcome in ovarian <span class='DS'>cancers</span> .\", 'status': 200}\n"
     ]
    }
   ],
   "source": [
    "from nltk.tokenize import wordpunct_tokenize\n",
    "\n",
    "text_sentence = 'AS1411 Aptamer-functionalized liposome was successfully formulated and found to be nanosized. Flow cytometer and CLSM results demonstrated that Aptamer enhanced the targeting of carrier in the cancer cells via nucleolin-mediated transmembrane endocytosis pathway. The lipofectaminebased miR-29b showed a typical concentration-dependent cytotoxic effect in the cancer cells. LP-miR induced a significant reduction in the cell viability of A2780 cells compared to that of nontreated control, while LP-Mut (mutant loaded) did not have any effect on the cell viability indicating the importance of the specific gene sequencing. LP-miR induced a significant decrease in the green fluorescence which is indicative of the decrease in the cell viability. Simultaneously, higher PI positive cells were observed for LP-miR treated cancer cells in Live/Dead assay. Cells treated with LP-miR exhibited the brightest fluorescence indicating the presence of apoptotic cells. Significant increase in the Annexin-V+ cells and PI+ cells were observed for cell treated with LP-miR compared to that of non-treated control indicating the potential of miR-29b. This novel miR-29b-loaded Aptamer-directed liposome could potential serve as a new platform to improve the therapeutic outcome in ovarian cancers.'\n",
    "\n",
    "print(pcse_ner_predictor(text_sentence))\n",
    "\n",
    "    \n",
    "    "
   ]
  }
 ],
 "metadata": {
  "kernelspec": {
   "display_name": "PyTorch",
   "language": "python",
   "name": "pytorch"
  },
  "language_info": {
   "codemirror_mode": {
    "name": "ipython",
    "version": 3
   },
   "file_extension": ".py",
   "mimetype": "text/x-python",
   "name": "python",
   "nbconvert_exporter": "python",
   "pygments_lexer": "ipython3",
   "version": "3.7.4"
  }
 },
 "nbformat": 4,
 "nbformat_minor": 2
}
