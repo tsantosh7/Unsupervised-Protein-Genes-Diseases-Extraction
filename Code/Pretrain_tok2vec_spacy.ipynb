{
 "cells": [
  {
   "cell_type": "code",
   "execution_count": 1,
   "metadata": {},
   "outputs": [],
   "source": [
    "import sys\n",
    "import random\n",
    "import os\n",
    "from pathlib import Path\n",
    "import shutil\n",
    "import json\n",
    "\n",
    "import argparse\n",
    "import tqdm\n",
    "import spacy\n",
    "from spacy.gold import minibatch\n",
    "from spacy.language import Language\n",
    "from spacy import util"
   ]
  },
  {
   "cell_type": "code",
   "execution_count": 2,
   "metadata": {},
   "outputs": [],
   "source": [
    "from scispacy.data_util import read_full_med_mentions, read_ner_from_tsv\n",
    "from scispacy.per_class_scorer import PerClassScorer\n",
    "from scispacy.train_utils import evaluate_ner"
   ]
  },
  {
   "cell_type": "code",
   "execution_count": 3,
   "metadata": {},
   "outputs": [],
   "source": [
    "def train_ner(output_dir: str,\n",
    "              train_data_path: str,\n",
    "              dev_data_path: str,\n",
    "              test_data_path: str,\n",
    "              run_test: bool = None,\n",
    "              model: str = None,\n",
    "              n_iter: int = 10,\n",
    "              meta_overrides: str = None):\n",
    "\n",
    "    util.fix_random_seed(util.env_opt(\"seed\", 0))\n",
    "    train_data = read_ner_from_tsv(train_data_path)\n",
    "    dev_data = read_ner_from_tsv(dev_data_path)\n",
    "    test_data = read_ner_from_tsv(test_data_path)\n",
    "    os.makedirs(output_dir, exist_ok=True)\n",
    "    if run_test:\n",
    "        nlp = spacy.load(model)\n",
    "        print(\"Loaded model '%s'\" % model)\n",
    "        evaluate_ner(nlp, dev_data, dump_path=os.path.join(output_dir, \"dev_metrics.json\"))\n",
    "        evaluate_ner(nlp, test_data, dump_path=os.path.join(output_dir, \"test_metrics.json\"))\n",
    "    else:\n",
    "        train(model, train_data, dev_data, test_data, output_dir, n_iter, meta_overrides)"
   ]
  },
  {
   "cell_type": "code",
   "execution_count": 4,
   "metadata": {},
   "outputs": [],
   "source": [
    "path_to_pretrained_weights = '/nfs/gns/literature/Santosh_Tirunagari/pretrained_word_embeddings/models/gold_pretrained/model41.bin'\n",
    "# otherwise, get it so we can add labels\n",
    "def train(model, train_data, dev_data, test_data, output_dir, n_iter, meta_overrides):\n",
    "    \"\"\"Load the model, set up the pipeline and train the entity recognizer.\"\"\"\n",
    "    \n",
    "    if model is not None:\n",
    "        nlp = spacy.load(model)  # load existing spaCy model\n",
    "        print(\"Loaded model '%s'\" % model)\n",
    "    else:\n",
    "        nlp = spacy.blank('en')  # create blank Language class\n",
    "        print(\"Created blank 'en' model\")\n",
    "\n",
    "    if meta_overrides is not None:\n",
    "        metadata = json.load(open(meta_overrides))\n",
    "        nlp.meta.update(metadata)\n",
    "\n",
    "    original_tokenizer = nlp.tokenizer\n",
    "\n",
    "#     nlp.tokenizer = nlp_en.tokenizer\n",
    "\n",
    "    # create the built-in pipeline components and add them to the pipeline\n",
    "    # nlp.create_pipe works for built-ins that are registered with spaCy\n",
    "    if 'ner' not in nlp.pipe_names and \"parser\" in nlp.pipe_names:\n",
    "        ner = nlp.create_pipe(\"ner\", config={\"architecture\": \"simple_cnn\", \"exclusive_classes\": True})\n",
    "        nlp.add_pipe(ner, after=\"parser\")\n",
    "    elif 'ner' not in nlp.pipe_names and \"tagger\" in nlp.pipe_names:\n",
    "        ner = nlp.create_pipe(\"ner\", config={\"architecture\": \"simple_cnn\", \"exclusive_classes\": True})\n",
    "        nlp.add_pipe(ner, after=\"tagger\")\n",
    "    elif 'ner' not in nlp.pipe_names:\n",
    "        ner = nlp.create_pipe(\"ner\", config={\"architecture\": \"simple_cnn\", \"exclusive_classes\": True})\n",
    "        nlp.add_pipe(ner, last=True)\n",
    "    # otherwise, get it so we can add labels\n",
    "    else:\n",
    "        ner = nlp.get_pipe('ner')\n",
    "\n",
    "    # add labels\n",
    "    for _, annotations in train_data:\n",
    "        for ent in annotations.get('entities'):\n",
    "            ner.add_label(ent[2])\n",
    "\n",
    "    # get names of other pipes to disable them during training\n",
    "    other_pipes = [pipe for pipe in nlp.pipe_names if pipe != 'ner']\n",
    "\n",
    "    dropout_rates = util.decaying(util.env_opt('dropout_from', 0.2),\n",
    "                                  util.env_opt('dropout_to', 0.2),\n",
    "                                  util.env_opt('dropout_decay', 0.005))\n",
    "    batch_sizes = util.compounding(util.env_opt('batch_from', 1),\n",
    "                                   util.env_opt('batch_to', 64),\n",
    "                                   util.env_opt('batch_compound', 1.001))\n",
    "\n",
    "    optimizer = nlp.begin_training()\n",
    "    \n",
    "    \n",
    "# Now that we have our model, we can load in the pretrained weights.\n",
    "    with open(path_to_pretrained_weights, \"rb\") as file_:\n",
    "        ner.model.tok2vec.from_bytes(file_.read())\n",
    "    \n",
    "    best_epoch = 0\n",
    "    best_f1 = 0\n",
    "    for i in range(n_iter):\n",
    "        print(str(i)+'--'+str(n_iter))\n",
    "        random.shuffle(train_data)\n",
    "        count = 0\n",
    "        losses = {}\n",
    "        total = len(train_data)\n",
    "\n",
    "        with nlp.disable_pipes(*other_pipes):  # only train NER\n",
    "            with tqdm.tqdm(total=total, leave=True) as pbar:\n",
    "                for batch in minibatch(train_data, size=batch_sizes):\n",
    "                    docs, golds = zip(*batch)\n",
    "                    nlp.update(docs, golds, sgd=optimizer,\n",
    "                               losses=losses, drop=next(dropout_rates))\n",
    "                    pbar.update(len(batch))\n",
    "                    if count % 100 == 0 and count > 0:\n",
    "                        print('sum loss: %s' % losses['ner'])\n",
    "                    count += 1\n",
    "\n",
    "        # save model to output directory\n",
    "        output_dir_path = Path(output_dir + \"/\" + str(i))\n",
    "        if not output_dir_path.exists():\n",
    "            output_dir_path.mkdir()\n",
    "\n",
    "        with nlp.use_params(optimizer.averages):\n",
    "            nlp.tokenizer = original_tokenizer\n",
    "            nlp.to_disk(output_dir_path)\n",
    "            print(\"Saved model to\", output_dir_path)\n",
    "\n",
    "        # test the saved model\n",
    "        print(\"Loading from\", output_dir_path)\n",
    "        nlp2 = util.load_model_from_path(output_dir_path)\n",
    "#         nlp2.tokenizer = nlp_en.tokenizer\n",
    "\n",
    "        metrics = evaluate_ner(nlp2, dev_data)\n",
    "        if metrics[\"f1-measure-overall\"] > best_f1:\n",
    "            best_f1 = metrics[\"f1-measure-overall\"]\n",
    "            best_epoch = i\n",
    "    # save model to output directory\n",
    "    best_model_path = Path(output_dir + \"/\" + \"best\")\n",
    "    print(f\"Best Epoch: {best_epoch} of {n_iter}\")\n",
    "    if os.path.exists(best_model_path):\n",
    "        shutil.rmtree(best_model_path)\n",
    "    shutil.copytree(os.path.join(output_dir, str(best_epoch)),\n",
    "                    best_model_path)\n",
    "\n",
    "    # test the saved model\n",
    "    print(\"Loading from\", best_model_path)\n",
    "    nlp2 = util.load_model_from_path(best_model_path)\n",
    "#     nlp2.tokenizer = nlp_en.tokenizer\n",
    "\n",
    "    evaluate_ner(nlp2, dev_data, dump_path=os.path.join(output_dir, \"dev_metrics.json\"))\n",
    "    evaluate_ner(nlp2, test_data, dump_path=os.path.join(output_dir, \"test_metrics.json\"))"
   ]
  },
  {
   "cell_type": "code",
   "execution_count": 5,
   "metadata": {},
   "outputs": [],
   "source": [
    "model_output_dir = '/nfs/gns/literature/Santosh_Tirunagari/GitHub/spacy_models/pretrain_exp/'\n",
    "train_data_path = '/nfs/gns/literature/machine-learning/Datasets/NER_Datasets/EBI_standard-IOB/train.csv'\n",
    "dev_data_path = '/nfs/gns/literature/machine-learning/Datasets/NER_Datasets/EBI_standard-IOB/dev.csv'\n",
    "test_data_path = '/nfs/gns/literature/machine-learning/Datasets/NER_Datasets/EBI_standard-IOB/test.csv'\n",
    "run_test = False\n",
    "model_path = '/nfs/gns/literature/Santosh_Tirunagari/pretrained_word_embeddings/models/pubmed-pmc/' # None #'en_core_sci_md'\n",
    "iterations = 7\n",
    "meta_overrides = '/nfs/gns/literature/Santosh_Tirunagari/GitHub/scispacy/data/EPMC_ner.json'"
   ]
  },
  {
   "cell_type": "code",
   "execution_count": null,
   "metadata": {},
   "outputs": [
    {
     "name": "stdout",
     "output_type": "stream",
     "text": [
      "Loaded model '/nfs/gns/literature/Santosh_Tirunagari/pretrained_word_embeddings/models/pubmed-pmc/'\n"
     ]
    },
    {
     "name": "stderr",
     "output_type": "stream",
     "text": [
      "  0%|          | 4/79401 [00:00<41:02, 32.25it/s]"
     ]
    },
    {
     "name": "stdout",
     "output_type": "stream",
     "text": [
      "0--7\n"
     ]
    },
    {
     "name": "stderr",
     "output_type": "stream",
     "text": [
      "  0%|          | 104/79401 [00:03<39:47, 33.21it/s]"
     ]
    },
    {
     "name": "stdout",
     "output_type": "stream",
     "text": [
      "sum loss: 211.39885538931108\n"
     ]
    },
    {
     "name": "stderr",
     "output_type": "stream",
     "text": [
      "  0%|          | 206/79401 [00:06<40:37, 32.50it/s]"
     ]
    },
    {
     "name": "stdout",
     "output_type": "stream",
     "text": [
      "sum loss: 319.3121952926424\n"
     ]
    },
    {
     "name": "stderr",
     "output_type": "stream",
     "text": [
      "  0%|          | 308/79401 [00:09<38:16, 34.44it/s]"
     ]
    },
    {
     "name": "stdout",
     "output_type": "stream",
     "text": [
      "sum loss: 421.0799433667654\n"
     ]
    },
    {
     "name": "stderr",
     "output_type": "stream",
     "text": [
      "  1%|          | 406/79401 [00:12<39:47, 33.09it/s]"
     ]
    },
    {
     "name": "stdout",
     "output_type": "stream",
     "text": [
      "sum loss: 558.7470415399551\n"
     ]
    },
    {
     "name": "stderr",
     "output_type": "stream",
     "text": [
      "  1%|          | 508/79401 [00:15<37:46, 34.80it/s]"
     ]
    },
    {
     "name": "stdout",
     "output_type": "stream",
     "text": [
      "sum loss: 675.8138501503577\n"
     ]
    },
    {
     "name": "stderr",
     "output_type": "stream",
     "text": [
      "  1%|          | 604/79401 [00:19<42:55, 30.59it/s]"
     ]
    },
    {
     "name": "stdout",
     "output_type": "stream",
     "text": [
      "sum loss: 850.9952326375515\n"
     ]
    },
    {
     "name": "stderr",
     "output_type": "stream",
     "text": [
      "  1%|          | 716/79401 [00:22<28:22, 46.21it/s]"
     ]
    },
    {
     "name": "stdout",
     "output_type": "stream",
     "text": [
      "sum loss: 948.3275064660165\n"
     ]
    },
    {
     "name": "stderr",
     "output_type": "stream",
     "text": [
      "  1%|          | 916/79401 [00:25<20:35, 63.52it/s]"
     ]
    },
    {
     "name": "stdout",
     "output_type": "stream",
     "text": [
      "sum loss: 1183.9378388754983\n"
     ]
    },
    {
     "name": "stderr",
     "output_type": "stream",
     "text": [
      "  1%|▏         | 1116/79401 [00:28<19:12, 67.91it/s]"
     ]
    },
    {
     "name": "stdout",
     "output_type": "stream",
     "text": [
      "sum loss: 1504.405067654026\n"
     ]
    },
    {
     "name": "stderr",
     "output_type": "stream",
     "text": [
      "  2%|▏         | 1320/79401 [00:31<16:39, 78.09it/s]"
     ]
    },
    {
     "name": "stdout",
     "output_type": "stream",
     "text": [
      "sum loss: 1749.3846807087302\n"
     ]
    },
    {
     "name": "stderr",
     "output_type": "stream",
     "text": [
      "  2%|▏         | 1521/79401 [00:34<15:40, 82.85it/s]"
     ]
    },
    {
     "name": "stdout",
     "output_type": "stream",
     "text": [
      "sum loss: 2012.8446572449789\n"
     ]
    },
    {
     "name": "stderr",
     "output_type": "stream",
     "text": [
      "  2%|▏         | 1824/79401 [00:37<13:21, 96.85it/s] "
     ]
    },
    {
     "name": "stdout",
     "output_type": "stream",
     "text": [
      "sum loss: 2336.6873397433465\n"
     ]
    },
    {
     "name": "stderr",
     "output_type": "stream",
     "text": [
      "  3%|▎         | 2124/79401 [00:40<12:52, 100.03it/s]"
     ]
    },
    {
     "name": "stdout",
     "output_type": "stream",
     "text": [
      "sum loss: 2767.0543333893406\n"
     ]
    },
    {
     "name": "stderr",
     "output_type": "stream",
     "text": [
      "  3%|▎         | 2443/79401 [00:43<11:23, 112.62it/s]"
     ]
    },
    {
     "name": "stdout",
     "output_type": "stream",
     "text": [
      "sum loss: 3151.203707239125\n"
     ]
    },
    {
     "name": "stderr",
     "output_type": "stream",
     "text": [
      "  4%|▎         | 2839/79401 [00:46<10:27, 122.03it/s]"
     ]
    },
    {
     "name": "stdout",
     "output_type": "stream",
     "text": [
      "sum loss: 3531.7077863869054\n"
     ]
    },
    {
     "name": "stderr",
     "output_type": "stream",
     "text": [
      "  4%|▍         | 3239/79401 [00:50<11:11, 113.41it/s]"
     ]
    },
    {
     "name": "stdout",
     "output_type": "stream",
     "text": [
      "sum loss: 3797.795533573441\n"
     ]
    },
    {
     "name": "stderr",
     "output_type": "stream",
     "text": [
      "  5%|▍         | 3723/79401 [00:54<10:11, 123.68it/s]"
     ]
    },
    {
     "name": "stdout",
     "output_type": "stream",
     "text": [
      "sum loss: 4226.8240013707755\n"
     ]
    },
    {
     "name": "stderr",
     "output_type": "stream",
     "text": [
      "  5%|▌         | 4245/79401 [00:57<08:01, 155.93it/s]"
     ]
    },
    {
     "name": "stdout",
     "output_type": "stream",
     "text": [
      "sum loss: 4547.150552026566\n"
     ]
    },
    {
     "name": "stderr",
     "output_type": "stream",
     "text": [
      "  6%|▌         | 4845/79401 [01:01<07:24, 167.80it/s]"
     ]
    },
    {
     "name": "stdout",
     "output_type": "stream",
     "text": [
      "sum loss: 4921.715931566579\n"
     ]
    },
    {
     "name": "stderr",
     "output_type": "stream",
     "text": [
      "  7%|▋         | 5503/79401 [01:05<07:37, 161.70it/s]"
     ]
    },
    {
     "name": "stdout",
     "output_type": "stream",
     "text": [
      "sum loss: 5383.651675193996\n"
     ]
    },
    {
     "name": "stderr",
     "output_type": "stream",
     "text": [
      "  8%|▊         | 6219/79401 [01:09<06:44, 180.89it/s]"
     ]
    },
    {
     "name": "stdout",
     "output_type": "stream",
     "text": [
      "sum loss: 5846.239258280344\n"
     ]
    },
    {
     "name": "stderr",
     "output_type": "stream",
     "text": [
      "  9%|▉         | 7015/79401 [01:13<05:46, 208.95it/s]"
     ]
    },
    {
     "name": "stdout",
     "output_type": "stream",
     "text": [
      "sum loss: 6350.553569337955\n"
     ]
    },
    {
     "name": "stderr",
     "output_type": "stream",
     "text": [
      " 10%|▉         | 7934/79401 [01:18<05:55, 201.17it/s]"
     ]
    },
    {
     "name": "stdout",
     "output_type": "stream",
     "text": [
      "sum loss: 6821.97047975235\n"
     ]
    },
    {
     "name": "stderr",
     "output_type": "stream",
     "text": [
      " 11%|█         | 8928/79401 [01:22<05:27, 215.12it/s]"
     ]
    },
    {
     "name": "stdout",
     "output_type": "stream",
     "text": [
      "sum loss: 7336.385271353072\n"
     ]
    },
    {
     "name": "stderr",
     "output_type": "stream",
     "text": [
      " 13%|█▎        | 10033/79401 [01:27<05:07, 225.75it/s]"
     ]
    },
    {
     "name": "stdout",
     "output_type": "stream",
     "text": [
      "sum loss: 7956.135736867227\n"
     ]
    },
    {
     "name": "stderr",
     "output_type": "stream",
     "text": [
      " 14%|█▍        | 11269/79401 [01:32<04:33, 248.85it/s]"
     ]
    },
    {
     "name": "stdout",
     "output_type": "stream",
     "text": [
      "sum loss: 8579.129373171241\n"
     ]
    },
    {
     "name": "stderr",
     "output_type": "stream",
     "text": [
      " 16%|█▌        | 12631/79401 [01:38<04:20, 256.34it/s]"
     ]
    },
    {
     "name": "stdout",
     "output_type": "stream",
     "text": [
      "sum loss: 9132.68597929548\n"
     ]
    },
    {
     "name": "stderr",
     "output_type": "stream",
     "text": [
      " 18%|█▊        | 14153/79401 [01:43<03:57, 275.10it/s]"
     ]
    },
    {
     "name": "stdout",
     "output_type": "stream",
     "text": [
      "sum loss: 9678.626140034543\n"
     ]
    },
    {
     "name": "stderr",
     "output_type": "stream",
     "text": [
      " 20%|█▉        | 15850/79401 [01:49<03:48, 278.33it/s]"
     ]
    },
    {
     "name": "stdout",
     "output_type": "stream",
     "text": [
      "sum loss: 10277.101205962961\n"
     ]
    },
    {
     "name": "stderr",
     "output_type": "stream",
     "text": [
      " 22%|██▏       | 17694/79401 [01:56<03:25, 300.45it/s]"
     ]
    },
    {
     "name": "stdout",
     "output_type": "stream",
     "text": [
      "sum loss: 11040.959089190284\n"
     ]
    },
    {
     "name": "stderr",
     "output_type": "stream",
     "text": [
      " 25%|██▍       | 19760/79401 [02:02<03:09, 314.24it/s]"
     ]
    },
    {
     "name": "stdout",
     "output_type": "stream",
     "text": [
      "sum loss: 11801.760097413444\n"
     ]
    },
    {
     "name": "stderr",
     "output_type": "stream",
     "text": [
      " 28%|██▊       | 22048/79401 [02:09<02:45, 345.56it/s]"
     ]
    },
    {
     "name": "stdout",
     "output_type": "stream",
     "text": [
      "sum loss: 12666.80506792774\n"
     ]
    },
    {
     "name": "stderr",
     "output_type": "stream",
     "text": [
      " 31%|███       | 24578/79401 [02:17<02:37, 347.47it/s]"
     ]
    },
    {
     "name": "stdout",
     "output_type": "stream",
     "text": [
      "sum loss: 13397.530585409892\n"
     ]
    },
    {
     "name": "stderr",
     "output_type": "stream",
     "text": [
      " 34%|███▍      | 27381/79401 [02:24<02:15, 383.56it/s]"
     ]
    },
    {
     "name": "stdout",
     "output_type": "stream",
     "text": [
      "sum loss: 14420.976221023546\n"
     ]
    },
    {
     "name": "stderr",
     "output_type": "stream",
     "text": [
      " 38%|███▊      | 30487/79401 [02:33<02:07, 383.88it/s]"
     ]
    },
    {
     "name": "stdout",
     "output_type": "stream",
     "text": [
      "sum loss: 15441.77000120193\n"
     ]
    },
    {
     "name": "stderr",
     "output_type": "stream",
     "text": [
      " 43%|████▎     | 33923/79401 [02:42<02:01, 373.31it/s]"
     ]
    },
    {
     "name": "stdout",
     "output_type": "stream",
     "text": [
      "sum loss: 16448.489329120937\n"
     ]
    },
    {
     "name": "stderr",
     "output_type": "stream",
     "text": [
      " 47%|████▋     | 37685/79401 [02:51<01:40, 413.37it/s]"
     ]
    },
    {
     "name": "stdout",
     "output_type": "stream",
     "text": [
      "sum loss: 17504.749536404248\n"
     ]
    },
    {
     "name": "stderr",
     "output_type": "stream",
     "text": [
      " 53%|█████▎    | 41886/79401 [03:02<01:29, 417.63it/s]"
     ]
    },
    {
     "name": "stdout",
     "output_type": "stream",
     "text": [
      "sum loss: 18865.68385282078\n"
     ]
    },
    {
     "name": "stderr",
     "output_type": "stream",
     "text": [
      " 59%|█████▊    | 46535/79401 [03:14<01:24, 389.47it/s]"
     ]
    },
    {
     "name": "stdout",
     "output_type": "stream",
     "text": [
      "sum loss: 20168.56999988913\n"
     ]
    },
    {
     "name": "stderr",
     "output_type": "stream",
     "text": [
      " 65%|██████▌   | 51679/79401 [03:26<01:06, 419.39it/s]"
     ]
    },
    {
     "name": "stdout",
     "output_type": "stream",
     "text": [
      "sum loss: 21637.777029957746\n"
     ]
    },
    {
     "name": "stderr",
     "output_type": "stream",
     "text": [
      " 72%|███████▏  | 57367/79401 [03:39<00:52, 420.02it/s]"
     ]
    },
    {
     "name": "stdout",
     "output_type": "stream",
     "text": [
      "sum loss: 22888.284593993543\n"
     ]
    },
    {
     "name": "stderr",
     "output_type": "stream",
     "text": [
      " 80%|████████  | 63625/79401 [03:54<00:36, 429.76it/s]"
     ]
    },
    {
     "name": "stdout",
     "output_type": "stream",
     "text": [
      "sum loss: 24265.426666723775\n"
     ]
    },
    {
     "name": "stderr",
     "output_type": "stream",
     "text": [
      " 88%|████████▊ | 70025/79401 [04:08<00:20, 460.92it/s]"
     ]
    },
    {
     "name": "stdout",
     "output_type": "stream",
     "text": [
      "sum loss: 25714.702625723767\n"
     ]
    },
    {
     "name": "stderr",
     "output_type": "stream",
     "text": [
      " 96%|█████████▋| 76425/79401 [04:23<00:06, 458.80it/s]"
     ]
    },
    {
     "name": "stdout",
     "output_type": "stream",
     "text": [
      "sum loss: 26966.11555914893\n"
     ]
    },
    {
     "name": "stderr",
     "output_type": "stream",
     "text": [
      "100%|██████████| 79401/79401 [04:30<00:00, 293.88it/s]\n"
     ]
    },
    {
     "name": "stdout",
     "output_type": "stream",
     "text": [
      "Saved model to /nfs/gns/literature/Santosh_Tirunagari/GitHub/spacy_models/pretrain_exp/0\n",
      "Loading from /nfs/gns/literature/Santosh_Tirunagari/GitHub/spacy_models/pretrain_exp/0\n"
     ]
    },
    {
     "name": "stderr",
     "output_type": "stream",
     "text": [
      "  0%|          | 38/16068 [00:00<00:42, 375.26it/s]"
     ]
    },
    {
     "name": "stdout",
     "output_type": "stream",
     "text": [
      "Evaluating 16068 rows\n"
     ]
    },
    {
     "name": "stderr",
     "output_type": "stream",
     "text": [
      "  7%|▋         | 1062/16068 [00:02<00:37, 399.99it/s]"
     ]
    },
    {
     "name": "stdout",
     "output_type": "stream",
     "text": [
      "precision-OG: 0.5942028985507242\n",
      "recall-OG: 0.5430463576158936\n",
      "f1-measure-OG: 0.5674740484428562\n",
      "precision-DS: 0.8110236220472434\n",
      "recall-DS: 0.8803418803418795\n",
      "f1-measure-DS: 0.8442622950819166\n",
      "precision-untyped: 0.779255319148936\n",
      "recall-untyped: 0.7571059431524546\n",
      "f1-measure-untyped: 0.7680209698557822\n",
      "precision-GP: 0.9639639639639631\n",
      "recall-GP: 0.8991596638655455\n",
      "f1-measure-GP: 0.9304347826086449\n",
      "precision-overall: 0.7765957446808508\n",
      "recall-overall: 0.7545219638242892\n",
      "f1-measure-overall: 0.7653997378767519\n"
     ]
    },
    {
     "name": "stderr",
     "output_type": "stream",
     "text": [
      " 13%|█▎        | 2042/16068 [00:04<00:30, 466.44it/s]"
     ]
    },
    {
     "name": "stdout",
     "output_type": "stream",
     "text": [
      "precision-OG: 0.8445378151260502\n",
      "recall-OG: 0.8137651821862346\n",
      "f1-measure-OG: 0.8288659793813932\n",
      "precision-DS: 0.8232044198895022\n",
      "recall-DS: 0.8370786516853927\n",
      "f1-measure-DS: 0.8300835654595595\n",
      "precision-untyped: 0.80751708428246\n",
      "recall-untyped: 0.8234610917537746\n",
      "f1-measure-untyped: 0.8154111558366376\n",
      "precision-GP: 0.7104072398190041\n",
      "recall-GP: 0.8306878306878301\n",
      "f1-measure-GP: 0.7658536585365352\n",
      "precision-overall: 0.8063781321184509\n",
      "recall-overall: 0.8222996515679442\n",
      "f1-measure-overall: 0.8142610695801684\n"
     ]
    },
    {
     "name": "stderr",
     "output_type": "stream",
     "text": [
      " 19%|█▉        | 3044/16068 [00:07<00:37, 348.36it/s]"
     ]
    },
    {
     "name": "stdout",
     "output_type": "stream",
     "text": [
      "precision-OG: 0.8348623853211008\n",
      "recall-OG: 0.8198198198198197\n",
      "f1-measure-OG: 0.8272727272726771\n",
      "precision-DS: 0.7919999999999996\n",
      "recall-DS: 0.758620689655172\n",
      "f1-measure-DS: 0.774951076320889\n",
      "precision-untyped: 0.7241857241857241\n",
      "recall-untyped: 0.8094500387296669\n",
      "f1-measure-untyped: 0.7644476956839296\n",
      "precision-GP: 0.5510204081632651\n",
      "recall-GP: 0.8159340659340657\n",
      "f1-measure-GP: 0.6578073089700514\n",
      "precision-overall: 0.7214137214137214\n",
      "recall-overall: 0.8063516653756778\n",
      "f1-measure-overall: 0.7615215801023643\n"
     ]
    },
    {
     "name": "stderr",
     "output_type": "stream",
     "text": [
      " 25%|██▌       | 4035/16068 [00:10<00:32, 374.06it/s]"
     ]
    },
    {
     "name": "stdout",
     "output_type": "stream",
     "text": [
      "precision-OG: 0.8168373151308304\n",
      "recall-OG: 0.8159090909090908\n",
      "f1-measure-OG: 0.8163729391699329\n",
      "precision-DS: 0.7789855072463765\n",
      "recall-DS: 0.7597173144876322\n",
      "f1-measure-DS: 0.7692307692307191\n",
      "precision-untyped: 0.735677821894498\n",
      "recall-untyped: 0.8157232704402516\n",
      "f1-measure-untyped: 0.7736355502534544\n",
      "precision-GP: 0.5871710526315789\n",
      "recall-GP: 0.8360655737704916\n",
      "f1-measure-GP: 0.6898550724637197\n",
      "precision-overall: 0.7317073170731707\n",
      "recall-overall: 0.8113207547169812\n",
      "f1-measure-overall: 0.7694601849089868\n"
     ]
    },
    {
     "name": "stderr",
     "output_type": "stream",
     "text": [
      " 32%|███▏      | 5074/16068 [00:12<00:28, 388.18it/s]"
     ]
    },
    {
     "name": "stdout",
     "output_type": "stream",
     "text": [
      "precision-OG: 0.8352941176470587\n",
      "recall-OG: 0.8344760039177276\n",
      "f1-measure-OG: 0.8348848603625172\n",
      "precision-DS: 0.8246913580246912\n",
      "recall-DS: 0.7373068432671079\n",
      "f1-measure-DS: 0.7785547785547285\n",
      "precision-untyped: 0.7664783427495292\n",
      "recall-untyped: 0.8144072036018009\n",
      "f1-measure-untyped: 0.7897162260489435\n",
      "precision-GP: 0.6208869814020027\n",
      "recall-GP: 0.8266666666666664\n",
      "f1-measure-GP: 0.7091503267973366\n",
      "precision-overall: 0.7627118644067796\n",
      "recall-overall: 0.8104052026013007\n",
      "f1-measure-overall: 0.7858355566334694\n"
     ]
    },
    {
     "name": "stderr",
     "output_type": "stream",
     "text": [
      " 38%|███▊      | 6058/16068 [00:15<00:26, 375.93it/s]"
     ]
    },
    {
     "name": "stdout",
     "output_type": "stream",
     "text": [
      "precision-OG: 0.8553030303030303\n",
      "recall-OG: 0.8469617404351087\n",
      "f1-measure-OG: 0.8511119487372286\n",
      "precision-DS: 0.8045977011494251\n",
      "recall-DS: 0.7446808510638296\n",
      "f1-measure-DS: 0.7734806629833754\n",
      "precision-untyped: 0.7867242733699922\n",
      "recall-untyped: 0.8246191848497324\n",
      "f1-measure-untyped: 0.8052261306532164\n",
      "precision-GP: 0.6498103666245258\n",
      "recall-GP: 0.8210862619808306\n",
      "f1-measure-GP: 0.7254763585038321\n",
      "precision-overall: 0.7827965435978005\n",
      "recall-overall: 0.8205022643062989\n",
      "f1-measure-overall: 0.8012060301507039\n"
     ]
    },
    {
     "name": "stderr",
     "output_type": "stream",
     "text": [
      " 44%|████▍     | 7058/16068 [00:18<00:24, 361.31it/s]"
     ]
    },
    {
     "name": "stdout",
     "output_type": "stream",
     "text": [
      "precision-OG: 0.8565549676660787\n",
      "recall-OG: 0.8550469483568075\n",
      "f1-measure-OG: 0.8558002936857062\n",
      "precision-DS: 0.8045774647887323\n",
      "recall-DS: 0.7118380062305295\n",
      "f1-measure-DS: 0.7553719008263964\n",
      "precision-untyped: 0.8012899262899262\n",
      "recall-untyped: 0.834079283887468\n",
      "f1-measure-untyped: 0.8173558897242608\n",
      "precision-GP: 0.6534954407294832\n",
      "recall-GP: 0.8248081841432224\n",
      "f1-measure-GP: 0.7292255511587975\n",
      "precision-overall: 0.7859336609336609\n",
      "recall-overall: 0.8180946291560103\n",
      "f1-measure-overall: 0.8016917293232584\n"
     ]
    },
    {
     "name": "stderr",
     "output_type": "stream",
     "text": [
      " 50%|█████     | 8068/16068 [00:20<00:21, 365.89it/s]"
     ]
    },
    {
     "name": "stdout",
     "output_type": "stream",
     "text": [
      "precision-OG: 0.8475311991318503\n",
      "recall-OG: 0.8606060606060606\n",
      "f1-measure-OG: 0.854018589393061\n",
      "precision-DS: 0.7969837587006959\n",
      "recall-DS: 0.6849451645064805\n",
      "f1-measure-DS: 0.7367292225200575\n",
      "precision-untyped: 0.7893729056965055\n",
      "recall-untyped: 0.8315683308119012\n",
      "f1-measure-untyped: 0.8099214145382604\n",
      "precision-GP: 0.6782077393075356\n",
      "recall-GP: 0.8702090592334495\n",
      "f1-measure-GP: 0.76230446394501\n",
      "precision-overall: 0.7774054571565342\n",
      "recall-overall: 0.8189611699445285\n",
      "f1-measure-overall: 0.7976424361492624\n"
     ]
    },
    {
     "name": "stderr",
     "output_type": "stream",
     "text": [
      " 57%|█████▋    | 9092/16068 [00:23<00:16, 426.00it/s]"
     ]
    },
    {
     "name": "stdout",
     "output_type": "stream",
     "text": [
      "precision-OG: 0.8336466165413534\n",
      "recall-OG: 0.8447619047619047\n",
      "f1-measure-OG: 0.8391674550614449\n",
      "precision-DS: 0.7922497308934338\n",
      "recall-DS: 0.6949952785646837\n",
      "f1-measure-DS: 0.7404426559355639\n",
      "precision-untyped: 0.7865396310561524\n",
      "recall-untyped: 0.8290598290598291\n",
      "f1-measure-untyped: 0.8072401955684511\n",
      "precision-GP: 0.6977611940298507\n",
      "recall-GP: 0.8606180144641683\n",
      "f1-measure-GP: 0.7706800117750463\n",
      "precision-overall: 0.7741739306709913\n",
      "recall-overall: 0.816025641025641\n",
      "f1-measure-overall: 0.7945490481638947\n"
     ]
    },
    {
     "name": "stderr",
     "output_type": "stream",
     "text": [
      " 63%|██████▎   | 10058/16068 [00:25<00:11, 519.83it/s]"
     ]
    },
    {
     "name": "stdout",
     "output_type": "stream",
     "text": [
      "precision-OG: 0.8336466165413534\n",
      "recall-OG: 0.8447619047619047\n",
      "f1-measure-OG: 0.8391674550614449\n",
      "precision-DS: 0.7903743315508021\n",
      "recall-DS: 0.6958568738229756\n",
      "f1-measure-DS: 0.740110165247822\n",
      "precision-untyped: 0.7797112912794146\n",
      "recall-untyped: 0.8301052631578948\n",
      "f1-measure-untyped: 0.804119506474917\n",
      "precision-GP: 0.6865596790371113\n",
      "recall-GP: 0.8620906801007556\n",
      "f1-measure-GP: 0.7643774427693534\n",
      "precision-overall: 0.7676488036385208\n",
      "recall-overall: 0.8172631578947368\n",
      "f1-measure-overall: 0.7916794126643735\n"
     ]
    },
    {
     "name": "stderr",
     "output_type": "stream",
     "text": [
      " 69%|██████▊   | 11041/16068 [00:27<00:17, 280.71it/s]"
     ]
    },
    {
     "name": "stdout",
     "output_type": "stream",
     "text": [
      "precision-OG: 0.8370915784629545\n",
      "recall-OG: 0.847228691197019\n",
      "f1-measure-OG: 0.8421296296295797\n",
      "precision-DS: 0.7413793103448276\n",
      "recall-DS: 0.6916890080428955\n",
      "f1-measure-DS: 0.7156726768376755\n",
      "precision-untyped: 0.7723654283548143\n",
      "recall-untyped: 0.8284204106525717\n",
      "f1-measure-untyped: 0.7994114762137804\n",
      "precision-GP: 0.6901408450704225\n",
      "recall-GP: 0.8596491228070176\n",
      "f1-measure-GP: 0.7656249999999507\n",
      "precision-overall: 0.7608036391205458\n",
      "recall-overall: 0.8160195161618216\n",
      "f1-measure-overall: 0.7874448258949966\n"
     ]
    },
    {
     "name": "stderr",
     "output_type": "stream",
     "text": [
      " 75%|███████▍  | 12035/16068 [00:29<00:09, 445.88it/s]"
     ]
    },
    {
     "name": "stdout",
     "output_type": "stream",
     "text": [
      "precision-OG: 0.8376652986776105\n",
      "recall-OG: 0.8399634202103338\n",
      "f1-measure-OG: 0.838812785388078\n",
      "precision-DS: 0.7367972742759795\n",
      "recall-DS: 0.6613149847094801\n",
      "f1-measure-DS: 0.6970185334407237\n",
      "precision-untyped: 0.7732547759328692\n",
      "recall-untyped: 0.8148635936030103\n",
      "f1-measure-untyped: 0.79351410773172\n",
      "precision-GP: 0.7018800358102059\n",
      "recall-GP: 0.8615384615384616\n",
      "f1-measure-GP: 0.773556980759694\n",
      "precision-overall: 0.7623638635957865\n",
      "recall-overall: 0.8033866415804327\n",
      "f1-measure-overall: 0.7823378526932444\n"
     ]
    },
    {
     "name": "stderr",
     "output_type": "stream",
     "text": [
      " 81%|████████▏ | 13070/16068 [00:32<00:07, 394.52it/s]"
     ]
    },
    {
     "name": "stdout",
     "output_type": "stream",
     "text": [
      "precision-OG: 0.8429752066115702\n",
      "recall-OG: 0.8422425032594524\n",
      "f1-measure-OG: 0.8426086956521239\n",
      "precision-DS: 0.7385057471264368\n",
      "recall-DS: 0.6826029216467463\n",
      "f1-measure-DS: 0.7094547964112683\n",
      "precision-untyped: 0.7790660225442834\n",
      "recall-untyped: 0.8151642796967145\n",
      "f1-measure-untyped: 0.7967064635652032\n",
      "precision-GP: 0.7189360857483128\n",
      "recall-GP: 0.8510338345864662\n",
      "f1-measure-GP: 0.7794275876909338\n",
      "precision-overall: 0.769243156199678\n",
      "recall-overall: 0.8048862679022747\n",
      "f1-measure-overall: 0.7866611774392255\n"
     ]
    },
    {
     "name": "stderr",
     "output_type": "stream",
     "text": [
      " 87%|████████▋ | 14052/16068 [00:35<00:04, 428.72it/s]"
     ]
    },
    {
     "name": "stdout",
     "output_type": "stream",
     "text": [
      "precision-OG: 0.8226324237560193\n",
      "recall-OG: 0.8326563769293257\n",
      "f1-measure-OG: 0.8276140492530789\n",
      "precision-DS: 0.7610789980732178\n",
      "recall-DS: 0.7061978545887961\n",
      "f1-measure-DS: 0.732612055641372\n",
      "precision-untyped: 0.775213791231166\n",
      "recall-untyped: 0.8210178263369753\n",
      "f1-measure-untyped: 0.7974586329679038\n",
      "precision-GP: 0.7272453285111513\n",
      "recall-GP: 0.8568892045454546\n",
      "f1-measure-GP: 0.7867623084446846\n",
      "precision-overall: 0.7666621419845255\n",
      "recall-overall: 0.81196089706728\n",
      "f1-measure-overall: 0.7886615932415894\n"
     ]
    },
    {
     "name": "stderr",
     "output_type": "stream",
     "text": [
      " 94%|█████████▍| 15067/16068 [00:37<00:02, 378.54it/s]"
     ]
    },
    {
     "name": "stdout",
     "output_type": "stream",
     "text": [
      "precision-OG: 0.8139788860575173\n",
      "recall-OG: 0.8380809595202399\n",
      "f1-measure-OG: 0.8258541089565522\n",
      "precision-DS: 0.7664148750726322\n",
      "recall-DS: 0.6393601551139118\n",
      "f1-measure-DS: 0.697145877378386\n",
      "precision-untyped: 0.7842067820725634\n",
      "recall-untyped: 0.8019886019158482\n",
      "f1-measure-untyped: 0.7929980217012869\n",
      "precision-GP: 0.7471003530005043\n",
      "recall-GP: 0.8427189988623436\n",
      "f1-measure-GP: 0.7920342154503646\n",
      "precision-overall: 0.7728242826654019\n",
      "recall-overall: 0.7903480053352734\n",
      "f1-measure-overall: 0.781487920388416\n"
     ]
    },
    {
     "name": "stderr",
     "output_type": "stream",
     "text": [
      "100%|██████████| 16068/16068 [00:40<00:00, 394.56it/s]"
     ]
    },
    {
     "name": "stdout",
     "output_type": "stream",
     "text": [
      "precision-OG: 0.8176570458404074\n",
      "recall-OG: 0.822685343354971\n",
      "f1-measure-OG: 0.8201634877383697\n",
      "precision-DS: 0.7842535787321063\n",
      "recall-DS: 0.6614920224234584\n",
      "f1-measure-DS: 0.7176608187134007\n",
      "precision-untyped: 0.7871968538343893\n",
      "recall-untyped: 0.8005777135873792\n",
      "f1-measure-untyped: 0.7938309005783031\n",
      "precision-GP: 0.7444157065600753\n",
      "recall-GP: 0.8431424766977363\n",
      "f1-measure-GP: 0.7907092907092409\n",
      "precision-overall: 0.77649115140922\n",
      "recall-overall: 0.7896900344406177\n",
      "f1-measure-overall: 0.7830349765904211\n",
      "precision-untyped: \t\t 0.7870714129722647\n",
      "recall-untyped: \t\t 0.8006220148839276\n",
      "f1-measure-untyped: \t\t 0.7937888882770273\n",
      "precision-overall: \t\t 0.7763703865472811\n",
      "recall-overall: \t\t 0.789736754415195\n",
      "f1-measure-overall: \t\t 0.7829965310279772\n",
      "1--7\n"
     ]
    },
    {
     "name": "stderr",
     "output_type": "stream",
     "text": [
      "\n",
      "  8%|▊         | 6528/79401 [00:15<03:09, 384.18it/s]"
     ]
    },
    {
     "name": "stdout",
     "output_type": "stream",
     "text": [
      "sum loss: 1170.3174787592143\n"
     ]
    },
    {
     "name": "stderr",
     "output_type": "stream",
     "text": [
      " 16%|█▋        | 12928/79401 [00:29<02:14, 495.11it/s]"
     ]
    },
    {
     "name": "stdout",
     "output_type": "stream",
     "text": [
      "sum loss: 2211.105535768438\n"
     ]
    },
    {
     "name": "stderr",
     "output_type": "stream",
     "text": [
      " 24%|██▍       | 19328/79401 [00:44<02:03, 484.98it/s]"
     ]
    },
    {
     "name": "stdout",
     "output_type": "stream",
     "text": [
      "sum loss: 3374.984782245243\n"
     ]
    },
    {
     "name": "stderr",
     "output_type": "stream",
     "text": [
      " 32%|███▏      | 25728/79401 [00:58<02:06, 424.18it/s]"
     ]
    },
    {
     "name": "stdout",
     "output_type": "stream",
     "text": [
      "sum loss: 4743.253280766541\n"
     ]
    },
    {
     "name": "stderr",
     "output_type": "stream",
     "text": [
      " 40%|████      | 32128/79401 [01:14<01:55, 410.31it/s]"
     ]
    },
    {
     "name": "stdout",
     "output_type": "stream",
     "text": [
      "sum loss: 5914.505453318823\n"
     ]
    },
    {
     "name": "stderr",
     "output_type": "stream",
     "text": [
      " 49%|████▊     | 38528/79401 [01:29<01:37, 420.62it/s]"
     ]
    },
    {
     "name": "stdout",
     "output_type": "stream",
     "text": [
      "sum loss: 7178.825176900515\n"
     ]
    },
    {
     "name": "stderr",
     "output_type": "stream",
     "text": [
      " 57%|█████▋    | 44928/79401 [01:44<01:18, 436.96it/s]"
     ]
    },
    {
     "name": "stdout",
     "output_type": "stream",
     "text": [
      "sum loss: 8275.56555005911\n"
     ]
    },
    {
     "name": "stderr",
     "output_type": "stream",
     "text": [
      " 65%|██████▍   | 51328/79401 [01:59<01:04, 432.63it/s]"
     ]
    },
    {
     "name": "stdout",
     "output_type": "stream",
     "text": [
      "sum loss: 9459.371031484043\n"
     ]
    },
    {
     "name": "stderr",
     "output_type": "stream",
     "text": [
      " 73%|███████▎  | 57728/79401 [02:14<00:53, 402.86it/s]"
     ]
    },
    {
     "name": "stdout",
     "output_type": "stream",
     "text": [
      "sum loss: 10661.850884109677\n"
     ]
    },
    {
     "name": "stderr",
     "output_type": "stream",
     "text": [
      " 81%|████████  | 64128/79401 [02:29<00:42, 361.99it/s]"
     ]
    },
    {
     "name": "stdout",
     "output_type": "stream",
     "text": [
      "sum loss: 11795.75739944639\n"
     ]
    },
    {
     "name": "stderr",
     "output_type": "stream",
     "text": [
      " 89%|████████▉ | 70528/79401 [02:44<00:19, 445.97it/s]"
     ]
    },
    {
     "name": "stdout",
     "output_type": "stream",
     "text": [
      "sum loss: 13023.105591485335\n"
     ]
    },
    {
     "name": "stderr",
     "output_type": "stream",
     "text": [
      " 97%|█████████▋| 76928/79401 [02:58<00:05, 433.25it/s]"
     ]
    },
    {
     "name": "stdout",
     "output_type": "stream",
     "text": [
      "sum loss: 14046.169377205137\n"
     ]
    },
    {
     "name": "stderr",
     "output_type": "stream",
     "text": [
      "100%|██████████| 79401/79401 [03:04<00:00, 431.05it/s]\n"
     ]
    },
    {
     "name": "stdout",
     "output_type": "stream",
     "text": [
      "Saved model to /nfs/gns/literature/Santosh_Tirunagari/GitHub/spacy_models/pretrain_exp/1\n",
      "Loading from /nfs/gns/literature/Santosh_Tirunagari/GitHub/spacy_models/pretrain_exp/1\n"
     ]
    },
    {
     "name": "stderr",
     "output_type": "stream",
     "text": [
      "  0%|          | 37/16068 [00:00<00:43, 365.98it/s]"
     ]
    },
    {
     "name": "stdout",
     "output_type": "stream",
     "text": [
      "Evaluating 16068 rows\n"
     ]
    },
    {
     "name": "stderr",
     "output_type": "stream",
     "text": [
      "  7%|▋         | 1047/16068 [00:02<00:38, 392.99it/s]"
     ]
    },
    {
     "name": "stdout",
     "output_type": "stream",
     "text": [
      "precision-OG: 0.5923566878980887\n",
      "recall-OG: 0.6158940397350988\n",
      "f1-measure-OG: 0.6038961038960534\n",
      "precision-DS: 0.830645161290322\n",
      "recall-DS: 0.8803418803418795\n",
      "f1-measure-DS: 0.8547717842323146\n",
      "precision-untyped: 0.7729591836734692\n",
      "recall-untyped: 0.7829457364341083\n",
      "f1-measure-untyped: 0.777920410783005\n",
      "precision-GP: 0.9639639639639631\n",
      "recall-GP: 0.8991596638655455\n",
      "f1-measure-GP: 0.9304347826086449\n",
      "precision-overall: 0.7729591836734692\n",
      "recall-overall: 0.7829457364341083\n",
      "f1-measure-overall: 0.777920410783005\n"
     ]
    },
    {
     "name": "stderr",
     "output_type": "stream",
     "text": [
      " 13%|█▎        | 2045/16068 [00:05<00:31, 448.16it/s]"
     ]
    },
    {
     "name": "stdout",
     "output_type": "stream",
     "text": [
      "precision-OG: 0.8214285714285713\n",
      "recall-OG: 0.8380566801619431\n",
      "f1-measure-OG: 0.8296593186372245\n",
      "precision-DS: 0.8277777777777773\n",
      "recall-DS: 0.8370786516853927\n",
      "f1-measure-DS: 0.8324022346368211\n",
      "precision-untyped: 0.7953539823008848\n",
      "recall-untyped: 0.8350754936120789\n",
      "f1-measure-untyped: 0.8147308781869189\n",
      "precision-GP: 0.7090909090909088\n",
      "recall-GP: 0.8253968253968249\n",
      "f1-measure-GP: 0.7628361858190208\n",
      "precision-overall: 0.7953539823008848\n",
      "recall-overall: 0.8350754936120789\n",
      "f1-measure-overall: 0.8147308781869189\n"
     ]
    },
    {
     "name": "stderr",
     "output_type": "stream",
     "text": [
      " 19%|█▉        | 3067/16068 [00:08<00:37, 344.16it/s]"
     ]
    },
    {
     "name": "stdout",
     "output_type": "stream",
     "text": [
      "precision-OG: 0.8193832599118941\n",
      "recall-OG: 0.8378378378378377\n",
      "f1-measure-OG: 0.8285077951001727\n",
      "precision-DS: 0.8137651821862344\n",
      "recall-DS: 0.7701149425287352\n",
      "f1-measure-DS: 0.791338582677115\n",
      "precision-untyped: 0.7191689008042895\n",
      "recall-untyped: 0.831138652207591\n",
      "f1-measure-untyped: 0.7711103126122393\n",
      "precision-GP: 0.553191489361702\n",
      "recall-GP: 0.8571428571428569\n",
      "f1-measure-GP: 0.6724137931034004\n",
      "precision-overall: 0.717828418230563\n",
      "recall-overall: 0.8295894655305964\n",
      "f1-measure-overall: 0.7696730147322535\n"
     ]
    },
    {
     "name": "stderr",
     "output_type": "stream",
     "text": [
      " 25%|██▌       | 4034/16068 [00:10<00:32, 365.82it/s]"
     ]
    },
    {
     "name": "stdout",
     "output_type": "stream",
     "text": [
      "precision-OG: 0.8028322440087144\n",
      "recall-OG: 0.8374999999999999\n",
      "f1-measure-OG: 0.8197997775305395\n",
      "precision-DS: 0.8164794007490633\n",
      "recall-DS: 0.7703180212014131\n",
      "f1-measure-DS: 0.7927272727272224\n",
      "precision-untyped: 0.7314662273476112\n",
      "recall-untyped: 0.8377358490566038\n",
      "f1-measure-untyped: 0.7810026385223777\n",
      "precision-GP: 0.5849056603773584\n",
      "recall-GP: 0.8711943793911004\n",
      "f1-measure-GP: 0.6999059266227176\n",
      "precision-overall: 0.7287204832509611\n",
      "recall-overall: 0.8345911949685535\n",
      "f1-measure-overall: 0.7780709469363326\n"
     ]
    },
    {
     "name": "stderr",
     "output_type": "stream",
     "text": [
      " 32%|███▏      | 5072/16068 [00:13<00:28, 382.71it/s]"
     ]
    },
    {
     "name": "stdout",
     "output_type": "stream",
     "text": [
      "precision-OG: 0.8210922787193974\n",
      "recall-OG: 0.8540646425073456\n",
      "f1-measure-OG: 0.8372539606336514\n",
      "precision-DS: 0.8571428571428569\n",
      "recall-DS: 0.7682119205298011\n",
      "f1-measure-DS: 0.8102444703142689\n",
      "precision-untyped: 0.7630741246020919\n",
      "recall-untyped: 0.8394197098549274\n",
      "f1-measure-untyped: 0.7994282991900407\n",
      "precision-GP: 0.6183310533515731\n",
      "recall-GP: 0.8609523809523808\n",
      "f1-measure-GP: 0.7197452229298876\n",
      "precision-overall: 0.7603456116416553\n",
      "recall-overall: 0.8364182091045522\n",
      "f1-measure-overall: 0.7965697951404932\n"
     ]
    },
    {
     "name": "stderr",
     "output_type": "stream",
     "text": [
      " 38%|███▊      | 6073/16068 [00:15<00:26, 373.07it/s]"
     ]
    },
    {
     "name": "stdout",
     "output_type": "stream",
     "text": [
      "precision-OG: 0.8400292184075968\n",
      "recall-OG: 0.8627156789197299\n",
      "f1-measure-OG: 0.8512213175425111\n",
      "precision-DS: 0.8406466512702077\n",
      "recall-DS: 0.7744680851063828\n",
      "f1-measure-DS: 0.8062015503875467\n",
      "precision-untyped: 0.7807017543859649\n",
      "recall-untyped: 0.8427336352408399\n",
      "f1-measure-untyped: 0.8105325678083048\n",
      "precision-GP: 0.6414634146341462\n",
      "recall-GP: 0.8402555910543129\n",
      "f1-measure-GP: 0.7275242047025788\n",
      "precision-overall: 0.7780320366132724\n",
      "recall-overall: 0.8398517908604364\n",
      "f1-measure-overall: 0.8077608394376854\n"
     ]
    },
    {
     "name": "stderr",
     "output_type": "stream",
     "text": [
      " 44%|████▍     | 7061/16068 [00:18<00:25, 348.30it/s]"
     ]
    },
    {
     "name": "stdout",
     "output_type": "stream",
     "text": [
      "precision-OG: 0.849942726231386\n",
      "recall-OG: 0.8708920187793427\n",
      "f1-measure-OG: 0.8602898550724138\n",
      "precision-DS: 0.8411053540587218\n",
      "recall-DS: 0.7585669781931463\n",
      "f1-measure-DS: 0.7977067977067478\n",
      "precision-untyped: 0.7980221756068325\n",
      "recall-untyped: 0.8513427109974424\n",
      "f1-measure-untyped: 0.8238205723124018\n",
      "precision-GP: 0.6472332015810276\n",
      "recall-GP: 0.8375959079283887\n",
      "f1-measure-GP: 0.7302118171682898\n",
      "precision-overall: 0.7869343721905904\n",
      "recall-overall: 0.8395140664961637\n",
      "f1-measure-overall: 0.8123743232791458\n"
     ]
    },
    {
     "name": "stderr",
     "output_type": "stream",
     "text": [
      " 50%|█████     | 8040/16068 [00:20<00:22, 349.91it/s]"
     ]
    },
    {
     "name": "stdout",
     "output_type": "stream",
     "text": [
      "precision-OG: 0.8416313559322034\n",
      "recall-OG: 0.8754820936639118\n",
      "f1-measure-OG: 0.8582230623818026\n",
      "precision-DS: 0.8236658932714616\n",
      "recall-DS: 0.7078763708873379\n",
      "f1-measure-DS: 0.7613941018766258\n",
      "precision-untyped: 0.7898961284230406\n",
      "recall-untyped: 0.843671205244579\n",
      "f1-measure-untyped: 0.8158985613264559\n",
      "precision-GP: 0.6790040376850606\n",
      "recall-GP: 0.8789198606271778\n",
      "f1-measure-GP: 0.7661351556567467\n",
      "precision-overall: 0.7809254013220018\n",
      "recall-overall: 0.8340897629853757\n",
      "f1-measure-overall: 0.8066325286514985\n"
     ]
    },
    {
     "name": "stderr",
     "output_type": "stream",
     "text": [
      " 56%|█████▋    | 9065/16068 [00:23<00:17, 393.24it/s]"
     ]
    },
    {
     "name": "stdout",
     "output_type": "stream",
     "text": [
      "precision-OG: 0.8276020174232004\n",
      "recall-OG: 0.8595238095238096\n",
      "f1-measure-OG: 0.8432609203456638\n",
      "precision-DS: 0.8168103448275861\n",
      "recall-DS: 0.7157695939565628\n",
      "f1-measure-DS: 0.7629592350276302\n",
      "precision-untyped: 0.7849162011173184\n",
      "recall-untyped: 0.8405982905982906\n",
      "f1-measure-untyped: 0.8118035493189761\n",
      "precision-GP: 0.6967945349448239\n",
      "recall-GP: 0.8717948717948718\n",
      "f1-measure-GP: 0.7745327102803244\n",
      "precision-overall: 0.7759377494014366\n",
      "recall-overall: 0.830982905982906\n",
      "f1-measure-overall: 0.8025175402393228\n"
     ]
    },
    {
     "name": "stderr",
     "output_type": "stream",
     "text": [
      " 63%|██████▎   | 10054/16068 [00:25<00:12, 494.24it/s]"
     ]
    },
    {
     "name": "stdout",
     "output_type": "stream",
     "text": [
      "precision-OG: 0.8276020174232004\n",
      "recall-OG: 0.8595238095238096\n",
      "f1-measure-OG: 0.8432609203456638\n",
      "precision-DS: 0.8147751605995717\n",
      "recall-DS: 0.716572504708098\n",
      "f1-measure-DS: 0.7625250501001507\n",
      "precision-untyped: 0.7782320872274143\n",
      "recall-untyped: 0.8414736842105263\n",
      "f1-measure-untyped: 0.8086182480274637\n",
      "precision-GP: 0.685799109351806\n",
      "recall-GP: 0.8727959697732998\n",
      "f1-measure-GP: 0.768079800498704\n",
      "precision-overall: 0.7694704049844237\n",
      "recall-overall: 0.832\n",
      "f1-measure-overall: 0.7995144648998084\n"
     ]
    },
    {
     "name": "stderr",
     "output_type": "stream",
     "text": [
      " 69%|██████▉   | 11053/16068 [00:28<00:18, 266.49it/s]"
     ]
    },
    {
     "name": "stdout",
     "output_type": "stream",
     "text": [
      "precision-OG: 0.8310871518418689\n",
      "recall-OG: 0.8616674429436423\n",
      "f1-measure-OG: 0.846101074776991\n",
      "precision-DS: 0.763915547024952\n",
      "recall-DS: 0.711349419124218\n",
      "f1-measure-DS: 0.7366959740860213\n",
      "precision-untyped: 0.7713272353929438\n",
      "recall-untyped: 0.8400081317340923\n",
      "f1-measure-untyped: 0.8042039704164546\n",
      "precision-GP: 0.6898037338439444\n",
      "recall-GP: 0.8717483363581368\n",
      "f1-measure-GP: 0.7701763762693252\n",
      "precision-overall: 0.7629270113869703\n",
      "recall-overall: 0.8308599308802602\n",
      "f1-measure-overall: 0.7954456987154036\n"
     ]
    },
    {
     "name": "stderr",
     "output_type": "stream",
     "text": [
      " 75%|███████▍  | 12040/16068 [00:30<00:09, 441.25it/s]"
     ]
    },
    {
     "name": "stdout",
     "output_type": "stream",
     "text": [
      "precision-OG: 0.8314806580702534\n",
      "recall-OG: 0.8550525834476452\n",
      "f1-measure-OG: 0.8431018935977859\n",
      "precision-DS: 0.7563667232597623\n",
      "recall-DS: 0.6811926605504587\n",
      "f1-measure-DS: 0.7168141592919854\n",
      "precision-untyped: 0.7719852553975777\n",
      "recall-untyped: 0.8274694261523988\n",
      "f1-measure-untyped: 0.7987649836541455\n",
      "precision-GP: 0.7013215859030837\n",
      "recall-GP: 0.8747252747252747\n",
      "f1-measure-GP: 0.7784841075794128\n",
      "precision-overall: 0.7640863612427593\n",
      "recall-overall: 0.819002822201317\n",
      "f1-measure-overall: 0.7905920813657329\n"
     ]
    },
    {
     "name": "stderr",
     "output_type": "stream",
     "text": [
      " 81%|████████▏ | 13076/16068 [00:33<00:07, 408.22it/s]"
     ]
    },
    {
     "name": "stdout",
     "output_type": "stream",
     "text": [
      "precision-OG: 0.8372982158028887\n",
      "recall-OG: 0.8565840938722294\n",
      "f1-measure-OG: 0.8468313641245472\n",
      "precision-DS: 0.7582496413199427\n",
      "recall-DS: 0.701859229747676\n",
      "f1-measure-DS: 0.7289655172413294\n",
      "precision-untyped: 0.7805573147561748\n",
      "recall-untyped: 0.8306655433866892\n",
      "f1-measure-untyped: 0.8048322585910855\n",
      "precision-GP: 0.7227414330218068\n",
      "recall-GP: 0.8721804511278195\n",
      "f1-measure-GP: 0.7904599659284003\n",
      "precision-overall: 0.7732742241925269\n",
      "recall-overall: 0.8229149115417018\n",
      "f1-measure-overall: 0.797322667537294\n"
     ]
    },
    {
     "name": "stderr",
     "output_type": "stream",
     "text": [
      " 88%|████████▊ | 14066/16068 [00:35<00:04, 457.70it/s]"
     ]
    },
    {
     "name": "stdout",
     "output_type": "stream",
     "text": [
      "precision-OG: 0.8162544169611308\n",
      "recall-OG: 0.8444354183590577\n",
      "f1-measure-OG: 0.8301058095427729\n",
      "precision-DS: 0.7761385503527902\n",
      "recall-DS: 0.7210965435041716\n",
      "f1-measure-DS: 0.7476058078467218\n",
      "precision-untyped: 0.7782999865717739\n",
      "recall-untyped: 0.8332374928119609\n",
      "f1-measure-untyped: 0.8048323265985755\n",
      "precision-GP: 0.7363064950613589\n",
      "recall-GP: 0.8735795454545454\n",
      "f1-measure-GP: 0.7990904661360556\n",
      "precision-overall: 0.7719887202900497\n",
      "recall-overall: 0.8264807360552041\n",
      "f1-measure-overall: 0.7983059084912367\n"
     ]
    },
    {
     "name": "stderr",
     "output_type": "stream",
     "text": [
      " 94%|█████████▎| 15043/16068 [00:38<00:02, 375.84it/s]"
     ]
    },
    {
     "name": "stdout",
     "output_type": "stream",
     "text": [
      "precision-OG: 0.8135106000718649\n",
      "recall-OG: 0.848575712143928\n",
      "f1-measure-OG: 0.830673270959407\n",
      "precision-DS: 0.7795138888888888\n",
      "recall-DS: 0.6529326223945711\n",
      "f1-measure-DS: 0.7106304405169644\n",
      "precision-untyped: 0.7892255098432158\n",
      "recall-untyped: 0.8118103552807081\n",
      "f1-measure-untyped: 0.8003586371786708\n",
      "precision-GP: 0.7552870090634441\n",
      "recall-GP: 0.8532423208191127\n",
      "f1-measure-GP: 0.8012820512820017\n",
      "precision-overall: 0.779323352587528\n",
      "recall-overall: 0.8016248332727052\n",
      "f1-measure-overall: 0.7903167961744868\n"
     ]
    },
    {
     "name": "stderr",
     "output_type": "stream",
     "text": [
      "100%|██████████| 16068/16068 [00:40<00:00, 392.06it/s]"
     ]
    },
    {
     "name": "stdout",
     "output_type": "stream",
     "text": [
      "precision-OG: 0.8208015899304405\n",
      "recall-OG: 0.8466006149641271\n",
      "f1-measure-OG: 0.8335015136225534\n",
      "precision-DS: 0.7945066124109867\n",
      "recall-DS: 0.6735661923242777\n",
      "f1-measure-DS: 0.729054842473696\n",
      "precision-untyped: 0.7915182907089673\n",
      "recall-untyped: 0.814909454505055\n",
      "f1-measure-untyped: 0.8030435734617412\n",
      "precision-GP: 0.7498832321345166\n",
      "recall-GP: 0.8551264980026632\n",
      "f1-measure-GP: 0.7990543735224088\n",
      "precision-overall: 0.782453868565879\n",
      "recall-overall: 0.8055771580935451\n",
      "f1-measure-overall: 0.793847164440502\n",
      "precision-untyped: \t\t 0.7908806726312385\n",
      "recall-untyped: \t\t 0.8149505720315451\n",
      "f1-measure-untyped: \t\t 0.8027352297592498\n",
      "precision-overall: \t\t 0.7818260213431066\n",
      "recall-overall: \t\t 0.8056203487726313\n",
      "f1-measure-overall: \t\t 0.7935448577680025\n",
      "2--7\n"
     ]
    },
    {
     "name": "stderr",
     "output_type": "stream",
     "text": [
      "\n",
      "  8%|▊         | 6528/79401 [00:14<02:42, 448.21it/s]"
     ]
    },
    {
     "name": "stdout",
     "output_type": "stream",
     "text": [
      "sum loss: 837.2402796336683\n"
     ]
    },
    {
     "name": "stderr",
     "output_type": "stream",
     "text": [
      " 16%|█▋        | 12928/79401 [00:29<02:30, 442.86it/s]"
     ]
    },
    {
     "name": "stdout",
     "output_type": "stream",
     "text": [
      "sum loss: 1833.244517508254\n"
     ]
    },
    {
     "name": "stderr",
     "output_type": "stream",
     "text": [
      " 24%|██▍       | 19328/79401 [00:44<02:07, 471.87it/s]"
     ]
    },
    {
     "name": "stdout",
     "output_type": "stream",
     "text": [
      "sum loss: 2981.4971507294395\n"
     ]
    },
    {
     "name": "stderr",
     "output_type": "stream",
     "text": [
      " 32%|███▏      | 25728/79401 [00:59<02:15, 397.26it/s]"
     ]
    },
    {
     "name": "stdout",
     "output_type": "stream",
     "text": [
      "sum loss: 3842.5684139128134\n"
     ]
    },
    {
     "name": "stderr",
     "output_type": "stream",
     "text": [
      " 40%|████      | 32128/79401 [01:13<01:53, 416.84it/s]"
     ]
    },
    {
     "name": "stdout",
     "output_type": "stream",
     "text": [
      "sum loss: 4861.529198154676\n"
     ]
    },
    {
     "name": "stderr",
     "output_type": "stream",
     "text": [
      " 49%|████▊     | 38528/79401 [01:28<01:31, 448.00it/s]"
     ]
    },
    {
     "name": "stdout",
     "output_type": "stream",
     "text": [
      "sum loss: 5888.746045195832\n"
     ]
    },
    {
     "name": "stderr",
     "output_type": "stream",
     "text": [
      " 57%|█████▋    | 44928/79401 [01:43<01:15, 457.70it/s]"
     ]
    },
    {
     "name": "stdout",
     "output_type": "stream",
     "text": [
      "sum loss: 6768.409619387836\n"
     ]
    },
    {
     "name": "stderr",
     "output_type": "stream",
     "text": [
      " 65%|██████▍   | 51328/79401 [01:57<01:02, 450.13it/s]"
     ]
    },
    {
     "name": "stdout",
     "output_type": "stream",
     "text": [
      "sum loss: 7750.34606613942\n"
     ]
    },
    {
     "name": "stderr",
     "output_type": "stream",
     "text": [
      " 73%|███████▎  | 57728/79401 [02:11<00:47, 458.91it/s]"
     ]
    },
    {
     "name": "stdout",
     "output_type": "stream",
     "text": [
      "sum loss: 8709.356324815864\n"
     ]
    },
    {
     "name": "stderr",
     "output_type": "stream",
     "text": [
      " 81%|████████  | 64128/79401 [02:25<00:34, 440.98it/s]"
     ]
    },
    {
     "name": "stdout",
     "output_type": "stream",
     "text": [
      "sum loss: 9632.564858980575\n"
     ]
    },
    {
     "name": "stderr",
     "output_type": "stream",
     "text": [
      " 89%|████████▉ | 70528/79401 [02:40<00:21, 411.72it/s]"
     ]
    },
    {
     "name": "stdout",
     "output_type": "stream",
     "text": [
      "sum loss: 10509.388486904278\n"
     ]
    },
    {
     "name": "stderr",
     "output_type": "stream",
     "text": [
      " 97%|█████████▋| 76928/79401 [02:54<00:05, 477.82it/s]"
     ]
    },
    {
     "name": "stdout",
     "output_type": "stream",
     "text": [
      "sum loss: 11557.075349996554\n"
     ]
    },
    {
     "name": "stderr",
     "output_type": "stream",
     "text": [
      "100%|██████████| 79401/79401 [03:00<00:00, 441.05it/s]\n"
     ]
    },
    {
     "name": "stdout",
     "output_type": "stream",
     "text": [
      "Saved model to /nfs/gns/literature/Santosh_Tirunagari/GitHub/spacy_models/pretrain_exp/2\n",
      "Loading from /nfs/gns/literature/Santosh_Tirunagari/GitHub/spacy_models/pretrain_exp/2\n",
      "Evaluating 16068 rows\n"
     ]
    },
    {
     "name": "stderr",
     "output_type": "stream",
     "text": [
      "  7%|▋         | 1045/16068 [00:02<00:38, 391.65it/s]"
     ]
    },
    {
     "name": "stdout",
     "output_type": "stream",
     "text": [
      "precision-OG: 0.6040268456375835\n",
      "recall-OG: 0.5960264900662248\n",
      "f1-measure-OG: 0.5999999999999496\n",
      "precision-DS: 0.8347107438016522\n",
      "recall-DS: 0.8632478632478625\n",
      "f1-measure-DS: 0.8487394957982687\n",
      "precision-untyped: 0.7838541666666664\n",
      "recall-untyped: 0.7777777777777776\n",
      "f1-measure-untyped: 0.7808041504539057\n",
      "precision-GP: 0.9649122807017535\n",
      "recall-GP: 0.9243697478991589\n",
      "f1-measure-GP: 0.9442060085836402\n",
      "precision-overall: 0.7838541666666664\n",
      "recall-overall: 0.7777777777777776\n",
      "f1-measure-overall: 0.7808041504539057\n"
     ]
    },
    {
     "name": "stderr",
     "output_type": "stream",
     "text": [
      " 13%|█▎        | 2056/16068 [00:05<00:32, 427.53it/s]"
     ]
    },
    {
     "name": "stdout",
     "output_type": "stream",
     "text": [
      "precision-OG: 0.8296146044624745\n",
      "recall-OG: 0.8279352226720645\n",
      "f1-measure-OG: 0.8287740628165657\n",
      "precision-DS: 0.829545454545454\n",
      "recall-DS: 0.820224719101123\n",
      "f1-measure-DS: 0.8248587570620964\n",
      "precision-untyped: 0.8031496062992125\n",
      "recall-untyped: 0.8292682926829267\n",
      "f1-measure-untyped: 0.8159999999999499\n",
      "precision-GP: 0.7227272727272723\n",
      "recall-GP: 0.8412698412698407\n",
      "f1-measure-GP: 0.7775061124693875\n",
      "precision-overall: 0.8031496062992125\n",
      "recall-overall: 0.8292682926829267\n",
      "f1-measure-overall: 0.8159999999999499\n"
     ]
    },
    {
     "name": "stderr",
     "output_type": "stream",
     "text": [
      " 19%|█▉        | 3053/16068 [00:08<00:38, 340.94it/s]"
     ]
    },
    {
     "name": "stdout",
     "output_type": "stream",
     "text": [
      "precision-OG: 0.8244047619047618\n",
      "recall-OG: 0.8318318318318317\n",
      "f1-measure-OG: 0.8281016442450919\n",
      "precision-DS: 0.8032786885245898\n",
      "recall-DS: 0.7509578544061299\n",
      "f1-measure-DS: 0.7762376237623259\n",
      "precision-untyped: 0.7191087103308575\n",
      "recall-untyped: 0.8249419054996127\n",
      "f1-measure-untyped: 0.7683982683982188\n",
      "precision-GP: 0.5539823008849556\n",
      "recall-GP: 0.8598901098901096\n",
      "f1-measure-GP: 0.6738428417652913\n",
      "precision-overall: 0.7177582714382175\n",
      "recall-overall: 0.8233927188226181\n",
      "f1-measure-overall: 0.7669552669552172\n"
     ]
    },
    {
     "name": "stderr",
     "output_type": "stream",
     "text": [
      " 25%|██▌       | 4035/16068 [00:10<00:34, 348.76it/s]"
     ]
    },
    {
     "name": "stdout",
     "output_type": "stream",
     "text": [
      "precision-OG: 0.8172757475083056\n",
      "recall-OG: 0.8386363636363635\n",
      "f1-measure-OG: 0.8278182837913128\n",
      "precision-DS: 0.809885931558935\n",
      "recall-DS: 0.7526501766784449\n",
      "f1-measure-DS: 0.78021978021973\n",
      "precision-untyped: 0.7371048252911814\n",
      "recall-untyped: 0.8358490566037736\n",
      "f1-measure-untyped: 0.783377541998182\n",
      "precision-GP: 0.5855572998430141\n",
      "recall-GP: 0.8735362997658077\n",
      "f1-measure-GP: 0.701127819548824\n",
      "precision-overall: 0.7343316694398225\n",
      "recall-overall: 0.8327044025157233\n",
      "f1-measure-overall: 0.7804302976716272\n"
     ]
    },
    {
     "name": "stderr",
     "output_type": "stream",
     "text": [
      " 31%|███▏      | 5051/16068 [00:13<00:30, 362.66it/s]"
     ]
    },
    {
     "name": "stdout",
     "output_type": "stream",
     "text": [
      "precision-OG: 0.8333333333333334\n",
      "recall-OG: 0.8521057786483839\n",
      "f1-measure-OG: 0.8426150121064875\n",
      "precision-DS: 0.8455696202531643\n",
      "recall-DS: 0.7373068432671079\n",
      "f1-measure-DS: 0.7877358490565538\n",
      "precision-untyped: 0.7676023930050622\n",
      "recall-untyped: 0.8344172086043021\n",
      "f1-measure-untyped: 0.7996164908916088\n",
      "precision-GP: 0.6198910081743868\n",
      "recall-GP: 0.8666666666666665\n",
      "f1-measure-GP: 0.7227958697378385\n",
      "precision-overall: 0.7634606534744592\n",
      "recall-overall: 0.8299149574787393\n",
      "f1-measure-overall: 0.7953020134227688\n"
     ]
    },
    {
     "name": "stderr",
     "output_type": "stream",
     "text": [
      " 38%|███▊      | 6041/16068 [00:15<00:27, 358.52it/s]"
     ]
    },
    {
     "name": "stdout",
     "output_type": "stream",
     "text": [
      "precision-OG: 0.8527881040892193\n",
      "recall-OG: 0.8604651162790697\n",
      "f1-measure-OG: 0.8566094100074183\n",
      "precision-DS: 0.8274231678486995\n",
      "recall-DS: 0.7446808510638296\n",
      "f1-measure-DS: 0.7838745800671392\n",
      "precision-untyped: 0.7861562258313999\n",
      "recall-untyped: 0.836969946480033\n",
      "f1-measure-untyped: 0.8107676969092223\n",
      "precision-GP: 0.6430317848410757\n",
      "recall-GP: 0.8402555910543129\n",
      "f1-measure-GP: 0.7285318559556295\n",
      "precision-overall: 0.7822892498066512\n",
      "recall-overall: 0.8328530259365994\n",
      "f1-measure-overall: 0.8067796610168991\n"
     ]
    },
    {
     "name": "stderr",
     "output_type": "stream",
     "text": [
      " 44%|████▍     | 7066/16068 [00:19<00:26, 341.03it/s]"
     ]
    },
    {
     "name": "stdout",
     "output_type": "stream",
     "text": [
      "precision-OG: 0.8701527614571093\n",
      "recall-OG: 0.869131455399061\n",
      "f1-measure-OG: 0.8696418085730563\n",
      "precision-DS: 0.8313659359190555\n",
      "recall-DS: 0.7679127725856697\n",
      "f1-measure-DS: 0.7983805668015694\n",
      "precision-untyped: 0.7998787143723469\n",
      "recall-untyped: 0.8433503836317136\n",
      "f1-measure-untyped: 0.8210395269218299\n",
      "precision-GP: 0.6440677966101694\n",
      "recall-GP: 0.826086956521739\n",
      "f1-measure-GP: 0.7238095238094746\n",
      "precision-overall: 0.7944208611279563\n",
      "recall-overall: 0.8375959079283888\n",
      "f1-measure-overall: 0.8154372860254714\n"
     ]
    },
    {
     "name": "stderr",
     "output_type": "stream",
     "text": [
      " 50%|█████     | 8052/16068 [00:21<00:22, 360.44it/s]"
     ]
    },
    {
     "name": "stdout",
     "output_type": "stream",
     "text": [
      "precision-OG: 0.8586897671900379\n",
      "recall-OG: 0.8738292011019284\n",
      "f1-measure-OG: 0.8661933369742809\n",
      "precision-DS: 0.8159090909090908\n",
      "recall-DS: 0.715852442671984\n",
      "f1-measure-DS: 0.7626128518321328\n",
      "precision-untyped: 0.7920343429525399\n",
      "recall-untyped: 0.8373676248108926\n",
      "f1-measure-untyped: 0.8140703517587439\n",
      "precision-GP: 0.680081855388813\n",
      "recall-GP: 0.8684668989547039\n",
      "f1-measure-GP: 0.762815608263149\n",
      "precision-overall: 0.7872644884331028\n",
      "recall-overall: 0.8323247604639435\n",
      "f1-measure-overall: 0.8091677901703141\n"
     ]
    },
    {
     "name": "stderr",
     "output_type": "stream",
     "text": [
      " 56%|█████▋    | 9049/16068 [00:24<00:18, 379.74it/s]"
     ]
    },
    {
     "name": "stdout",
     "output_type": "stream",
     "text": [
      "precision-OG: 0.8562589243217515\n",
      "recall-OG: 0.8566666666666667\n",
      "f1-measure-OG: 0.8564627469649584\n",
      "precision-DS: 0.8097251585623678\n",
      "recall-DS: 0.7233238904627006\n",
      "f1-measure-DS: 0.7640897755610473\n",
      "precision-untyped: 0.7988225740966302\n",
      "recall-untyped: 0.8408119658119658\n",
      "f1-measure-untyped: 0.8192796169060504\n",
      "precision-GP: 0.6961149547631719\n",
      "recall-GP: 0.8599605522682445\n",
      "f1-measure-GP: 0.769411764705833\n",
      "precision-overall: 0.7862362971985384\n",
      "recall-overall: 0.8275641025641025\n",
      "f1-measure-overall: 0.806371018113629\n"
     ]
    },
    {
     "name": "stderr",
     "output_type": "stream",
     "text": [
      " 63%|██████▎   | 10060/16068 [00:26<00:11, 501.36it/s]"
     ]
    },
    {
     "name": "stdout",
     "output_type": "stream",
     "text": [
      "precision-OG: 0.8558515699333967\n",
      "recall-OG: 0.8566666666666667\n",
      "f1-measure-OG: 0.8562589243217017\n",
      "precision-DS: 0.8077731092436974\n",
      "recall-DS: 0.724105461393597\n",
      "f1-measure-DS: 0.7636544190664845\n",
      "precision-untyped: 0.7924677898909812\n",
      "recall-untyped: 0.8416842105263158\n",
      "f1-measure-untyped: 0.8163348647268516\n",
      "precision-GP: 0.6870919136112507\n",
      "recall-GP: 0.8614609571788413\n",
      "f1-measure-GP: 0.7644593461860363\n",
      "precision-overall: 0.7801783944499504\n",
      "recall-overall: 0.8286315789473684\n",
      "f1-measure-overall: 0.803675344563503\n"
     ]
    },
    {
     "name": "stderr",
     "output_type": "stream",
     "text": [
      " 69%|██████▉   | 11057/16068 [00:29<00:17, 283.25it/s]"
     ]
    },
    {
     "name": "stdout",
     "output_type": "stream",
     "text": [
      "precision-OG: 0.8584070796460177\n",
      "recall-OG: 0.8584070796460177\n",
      "f1-measure-OG: 0.8584070796459677\n",
      "precision-DS: 0.7603383458646616\n",
      "recall-DS: 0.7229669347631814\n",
      "f1-measure-DS: 0.7411818598258777\n",
      "precision-untyped: 0.7843732220747203\n",
      "recall-untyped: 0.8408213051433218\n",
      "f1-measure-untyped: 0.8116169544740474\n",
      "precision-GP: 0.6896217264791464\n",
      "recall-GP: 0.8602540834845736\n",
      "f1-measure-GP: 0.765545087483127\n",
      "precision-overall: 0.7726152095581263\n",
      "recall-overall: 0.8282171173002643\n",
      "f1-measure-overall: 0.7994505494504995\n"
     ]
    },
    {
     "name": "stderr",
     "output_type": "stream",
     "text": [
      " 75%|███████▌  | 12054/16068 [00:31<00:09, 409.83it/s]"
     ]
    },
    {
     "name": "stdout",
     "output_type": "stream",
     "text": [
      "precision-OG: 0.8593173431734318\n",
      "recall-OG: 0.8518518518518519\n",
      "f1-measure-OG: 0.8555683122846802\n",
      "precision-DS: 0.7535387177352206\n",
      "recall-DS: 0.6918960244648318\n",
      "f1-measure-DS: 0.7214029493821741\n",
      "precision-untyped: 0.7854467629748528\n",
      "recall-untyped: 0.8285983066792098\n",
      "f1-measure-untyped: 0.8064457059146177\n",
      "precision-GP: 0.7033065236818588\n",
      "recall-GP: 0.8648351648351649\n",
      "f1-measure-GP: 0.7757516017742236\n",
      "precision-overall: 0.7743891564116283\n",
      "recall-overall: 0.8169332079021637\n",
      "f1-measure-overall: 0.7950924739058282\n"
     ]
    },
    {
     "name": "stderr",
     "output_type": "stream",
     "text": [
      " 81%|████████  | 13039/16068 [00:34<00:08, 371.27it/s]"
     ]
    },
    {
     "name": "stdout",
     "output_type": "stream",
     "text": [
      "precision-OG: 0.8644962604487462\n",
      "recall-OG: 0.8539765319426337\n",
      "f1-measure-OG: 0.8592041976387782\n",
      "precision-DS: 0.7512263489838823\n",
      "recall-DS: 0.7118193891102258\n",
      "f1-measure-DS: 0.7309921581997455\n",
      "precision-untyped: 0.7936074526180533\n",
      "recall-untyped: 0.832518955349621\n",
      "f1-measure-untyped: 0.8125976482196688\n",
      "precision-GP: 0.7272367379255741\n",
      "recall-GP: 0.8632518796992481\n",
      "f1-measure-GP: 0.7894284486462761\n",
      "precision-overall: 0.7828461291358818\n",
      "recall-overall: 0.8212299915754002\n",
      "f1-measure-overall: 0.8015788175314031\n"
     ]
    },
    {
     "name": "stderr",
     "output_type": "stream",
     "text": [
      " 87%|████████▋ | 14054/16068 [00:36<00:04, 434.73it/s]"
     ]
    },
    {
     "name": "stdout",
     "output_type": "stream",
     "text": [
      "precision-OG: 0.8402270884022709\n",
      "recall-OG: 0.8415922014622258\n",
      "f1-measure-OG: 0.8409090909090409\n",
      "precision-DS: 0.767879548306148\n",
      "recall-DS: 0.7294398092967819\n",
      "f1-measure-DS: 0.7481662591686542\n",
      "precision-untyped: 0.7900394611511771\n",
      "recall-untyped: 0.8346751006325475\n",
      "f1-measure-untyped: 0.8117441454036552\n",
      "precision-GP: 0.7424749163879598\n",
      "recall-GP: 0.8671875\n",
      "f1-measure-GP: 0.7999999999999503\n",
      "precision-overall: 0.7807865015648388\n",
      "recall-overall: 0.824899367452559\n",
      "f1-measure-overall: 0.8022369800768463\n"
     ]
    },
    {
     "name": "stderr",
     "output_type": "stream",
     "text": [
      " 94%|█████████▎| 15059/16068 [00:39<00:02, 366.43it/s]"
     ]
    },
    {
     "name": "stdout",
     "output_type": "stream",
     "text": [
      "precision-OG: 0.8366666666666667\n",
      "recall-OG: 0.8467016491754122\n",
      "f1-measure-OG: 0.8416542473919023\n",
      "precision-DS: 0.7703160270880361\n",
      "recall-DS: 0.6616577799321377\n",
      "f1-measure-DS: 0.7118644067796113\n",
      "precision-untyped: 0.7995707642780494\n",
      "recall-untyped: 0.813144173638899\n",
      "f1-measure-untyped: 0.8063003486833694\n",
      "precision-GP: 0.7588761174968072\n",
      "recall-GP: 0.8449943117178612\n",
      "f1-measure-GP: 0.7996232001076072\n",
      "precision-overall: 0.7863359961845714\n",
      "recall-overall: 0.7996847338426094\n",
      "f1-measure-overall: 0.7929541902127671\n"
     ]
    },
    {
     "name": "stderr",
     "output_type": "stream",
     "text": [
      "100%|██████████| 16068/16068 [00:42<00:00, 379.04it/s]"
     ]
    },
    {
     "name": "stdout",
     "output_type": "stream",
     "text": [
      "precision-OG: 0.8410169491525423\n",
      "recall-OG: 0.8476255551759481\n",
      "f1-measure-OG: 0.8443083205716703\n",
      "precision-DS: 0.7835153922542205\n",
      "recall-DS: 0.6804657179818887\n",
      "f1-measure-DS: 0.7283637202861262\n",
      "precision-untyped: 0.7964668906470141\n",
      "recall-untyped: 0.8164648372403066\n",
      "f1-measure-untyped: 0.8063418915952978\n",
      "precision-GP: 0.7457189772460708\n",
      "recall-GP: 0.8466045272969375\n",
      "f1-measure-GP: 0.7929658268894488\n",
      "precision-overall: 0.7844369784328601\n",
      "recall-overall: 0.8041328741250973\n",
      "f1-measure-overall: 0.7941628264208411\n",
      "precision-untyped: \t\t 0.7960797054364306\n",
      "recall-untyped: \t\t 0.816505609241364\n",
      "f1-measure-untyped: \t\t 0.8061632944014415\n",
      "precision-overall: \t\t 0.7840589127138835\n",
      "recall-overall: \t\t 0.804176385649228\n",
      "f1-measure-overall: \t\t 0.7939902396226949\n",
      "3--7\n"
     ]
    },
    {
     "name": "stderr",
     "output_type": "stream",
     "text": [
      "\n",
      "  8%|▊         | 6528/79401 [00:15<02:49, 429.49it/s]"
     ]
    },
    {
     "name": "stdout",
     "output_type": "stream",
     "text": [
      "sum loss: 711.1215271647743\n"
     ]
    },
    {
     "name": "stderr",
     "output_type": "stream",
     "text": [
      " 16%|█▋        | 12928/79401 [00:29<02:26, 452.84it/s]"
     ]
    },
    {
     "name": "stdout",
     "output_type": "stream",
     "text": [
      "sum loss: 1669.5053427222083\n"
     ]
    },
    {
     "name": "stderr",
     "output_type": "stream",
     "text": [
      " 24%|██▍       | 19328/79401 [00:43<02:17, 436.14it/s]"
     ]
    },
    {
     "name": "stdout",
     "output_type": "stream",
     "text": [
      "sum loss: 2501.5379898063493\n"
     ]
    },
    {
     "name": "stderr",
     "output_type": "stream",
     "text": [
      " 32%|███▏      | 25728/79401 [00:58<02:02, 438.85it/s]"
     ]
    },
    {
     "name": "stdout",
     "output_type": "stream",
     "text": [
      "sum loss: 3269.8929760976152\n"
     ]
    },
    {
     "name": "stderr",
     "output_type": "stream",
     "text": [
      " 40%|████      | 32128/79401 [01:12<01:43, 456.66it/s]"
     ]
    },
    {
     "name": "stdout",
     "output_type": "stream",
     "text": [
      "sum loss: 3988.6170127041896\n"
     ]
    },
    {
     "name": "stderr",
     "output_type": "stream",
     "text": [
      " 48%|████▊     | 38464/79401 [01:28<01:48, 377.26it/s]"
     ]
    },
    {
     "name": "stdout",
     "output_type": "stream",
     "text": [
      "sum loss: 4836.350281329678\n"
     ]
    },
    {
     "name": "stderr",
     "output_type": "stream",
     "text": [
      " 57%|█████▋    | 44928/79401 [01:44<01:18, 438.43it/s]"
     ]
    },
    {
     "name": "stdout",
     "output_type": "stream",
     "text": [
      "sum loss: 5706.461302165828\n"
     ]
    },
    {
     "name": "stderr",
     "output_type": "stream",
     "text": [
      " 65%|██████▍   | 51328/79401 [01:59<01:05, 431.20it/s]"
     ]
    },
    {
     "name": "stdout",
     "output_type": "stream",
     "text": [
      "sum loss: 6629.199323778228\n"
     ]
    },
    {
     "name": "stderr",
     "output_type": "stream",
     "text": [
      " 73%|███████▎  | 57728/79401 [02:13<00:44, 486.54it/s]"
     ]
    },
    {
     "name": "stdout",
     "output_type": "stream",
     "text": [
      "sum loss: 7397.598842794459\n"
     ]
    },
    {
     "name": "stderr",
     "output_type": "stream",
     "text": [
      " 81%|████████  | 64128/79401 [02:28<00:36, 424.10it/s]"
     ]
    },
    {
     "name": "stdout",
     "output_type": "stream",
     "text": [
      "sum loss: 8213.667462518748\n"
     ]
    },
    {
     "name": "stderr",
     "output_type": "stream",
     "text": [
      " 89%|████████▉ | 70528/79401 [02:43<00:18, 482.33it/s]"
     ]
    },
    {
     "name": "stdout",
     "output_type": "stream",
     "text": [
      "sum loss: 9139.028734635114\n"
     ]
    },
    {
     "name": "stderr",
     "output_type": "stream",
     "text": [
      " 93%|█████████▎| 73728/79401 [02:50<00:12, 443.43it/s]"
     ]
    }
   ],
   "source": [
    "train_ner(model_output_dir,\n",
    "              train_data_path,\n",
    "              dev_data_path,\n",
    "              test_data_path,\n",
    "              run_test,\n",
    "              model_path,\n",
    "              iterations\n",
    "             )"
   ]
  }
 ],
 "metadata": {
  "kernelspec": {
   "display_name": "scispcacy",
   "language": "python",
   "name": "scispcacy"
  },
  "language_info": {
   "codemirror_mode": {
    "name": "ipython",
    "version": 3
   },
   "file_extension": ".py",
   "mimetype": "text/x-python",
   "name": "python",
   "nbconvert_exporter": "python",
   "pygments_lexer": "ipython3",
   "version": "3.6.9"
  }
 },
 "nbformat": 4,
 "nbformat_minor": 2
}
