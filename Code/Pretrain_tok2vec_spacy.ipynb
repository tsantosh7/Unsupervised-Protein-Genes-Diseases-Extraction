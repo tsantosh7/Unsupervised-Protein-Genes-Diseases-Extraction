{
 "cells": [
  {
   "cell_type": "code",
   "execution_count": 1,
   "metadata": {},
   "outputs": [],
   "source": [
    "import sys\n",
    "import random\n",
    "import os\n",
    "from pathlib import Path\n",
    "import shutil\n",
    "import json\n",
    "\n",
    "import argparse\n",
    "import tqdm\n",
    "import spacy\n",
    "from spacy.gold import minibatch\n",
    "from spacy.language import Language\n",
    "from spacy import util"
   ]
  },
  {
   "cell_type": "code",
   "execution_count": 2,
   "metadata": {},
   "outputs": [],
   "source": [
    "from scispacy.data_util import read_full_med_mentions, read_ner_from_tsv\n",
    "from scispacy.per_class_scorer import PerClassScorer\n",
    "from scispacy.train_utils import evaluate_ner"
   ]
  },
  {
   "cell_type": "code",
   "execution_count": 3,
   "metadata": {},
   "outputs": [],
   "source": [
    "def train_ner(output_dir: str,\n",
    "              train_data_path: str,\n",
    "              dev_data_path: str,\n",
    "              test_data_path: str,\n",
    "              run_test: bool = None,\n",
    "              model: str = None,\n",
    "              n_iter: int = 10,\n",
    "              meta_overrides: str = None):\n",
    "\n",
    "    util.fix_random_seed(util.env_opt(\"seed\", 0))\n",
    "    train_data = read_ner_from_tsv(train_data_path)\n",
    "    dev_data = read_ner_from_tsv(dev_data_path)\n",
    "    test_data = read_ner_from_tsv(test_data_path)\n",
    "    os.makedirs(output_dir, exist_ok=True)\n",
    "    if run_test:\n",
    "        nlp = spacy.load(model)\n",
    "        print(\"Loaded model '%s'\" % model)\n",
    "        evaluate_ner(nlp, dev_data, dump_path=os.path.join(output_dir, \"dev_metrics.json\"))\n",
    "        evaluate_ner(nlp, test_data, dump_path=os.path.join(output_dir, \"test_metrics.json\"))\n",
    "    else:\n",
    "        train(model, train_data, dev_data, test_data, output_dir, n_iter, meta_overrides)"
   ]
  },
  {
   "cell_type": "code",
   "execution_count": 4,
   "metadata": {},
   "outputs": [],
   "source": [
    "# otherwise, get it so we can add labels\n",
    "def train(model, train_data, dev_data, test_data, output_dir, n_iter, meta_overrides):\n",
    "    \"\"\"Load the model, set up the pipeline and train the entity recognizer.\"\"\"\n",
    "    \n",
    "    if model is not None:\n",
    "        nlp = spacy.load(model)  # load existing spaCy model\n",
    "        print(\"Loaded model '%s'\" % model)\n",
    "    else:\n",
    "        nlp = spacy.blank('en')  # create blank Language class\n",
    "        print(\"Created blank 'en' model\")\n",
    "\n",
    "    if meta_overrides is not None:\n",
    "        metadata = json.load(open(meta_overrides))\n",
    "        nlp.meta.update(metadata)\n",
    "\n",
    "    original_tokenizer = nlp.tokenizer\n",
    "\n",
    "#     nlp.tokenizer = nlp_en.tokenizer\n",
    "\n",
    "    # create the built-in pipeline components and add them to the pipeline\n",
    "    # nlp.create_pipe works for built-ins that are registered with spaCy\n",
    "    if 'ner' not in nlp.pipe_names and \"parser\" in nlp.pipe_names:\n",
    "        ner = nlp.create_pipe(\"ner\", config={\"architecture\": \"simple_cnn\", \"exclusive_classes\": True})\n",
    "        nlp.add_pipe(ner, after=\"parser\")\n",
    "    elif 'ner' not in nlp.pipe_names and \"tagger\" in nlp.pipe_names:\n",
    "        ner = nlp.create_pipe(\"ner\", config={\"architecture\": \"simple_cnn\", \"exclusive_classes\": True})\n",
    "        nlp.add_pipe(ner, after=\"tagger\")\n",
    "    elif 'ner' not in nlp.pipe_names:\n",
    "        ner = nlp.create_pipe(\"ner\", config={\"architecture\": \"simple_cnn\", \"exclusive_classes\": True})\n",
    "        nlp.add_pipe(ner, last=True)\n",
    "    # otherwise, get it so we can add labels\n",
    "    else:\n",
    "        ner = nlp.get_pipe('ner')\n",
    "\n",
    "    # add labels\n",
    "    for _, annotations in train_data:\n",
    "        for ent in annotations.get('entities'):\n",
    "            ner.add_label(ent[2])\n",
    "    path_to_pretrained_weights = '/nfs/gns/literature/Santosh_Tirunagari/pretrained_word_embeddings/models/gold_pretrained/model999.bin'\n",
    "    # get names of other pipes to disable them during training\n",
    "    other_pipes = [pipe for pipe in nlp.pipe_names if pipe != 'ner']\n",
    "\n",
    "    dropout_rates = util.decaying(util.env_opt('dropout_from', 0.2),\n",
    "                                  util.env_opt('dropout_to', 0.2),\n",
    "                                  util.env_opt('dropout_decay', 0.005))\n",
    "    batch_sizes = util.compounding(util.env_opt('batch_from', 1),\n",
    "                                   util.env_opt('batch_to', 64),\n",
    "                                   util.env_opt('batch_compound', 1.001))\n",
    "\n",
    "    optimizer = nlp.begin_training()\n",
    "    \n",
    "    \n",
    "# Now that we have our model, we can load in the pretrained weights.\n",
    "    with open(path_to_pretrained_weights, \"rb\") as file_:\n",
    "        ner.model.tok2vec.from_bytes(file_.read())\n",
    "    \n",
    "    best_epoch = 0\n",
    "    best_f1 = 0\n",
    "    for i in range(n_iter):\n",
    "        print(str(i)+'--'+str(n_iter))\n",
    "        random.shuffle(train_data)\n",
    "        count = 0\n",
    "        losses = {}\n",
    "        total = len(train_data)\n",
    "\n",
    "        with nlp.disable_pipes(*other_pipes):  # only train NER\n",
    "            with tqdm.tqdm(total=total, leave=True) as pbar:\n",
    "                for batch in minibatch(train_data, size=batch_sizes):\n",
    "                    docs, golds = zip(*batch)\n",
    "                    nlp.update(docs, golds, sgd=optimizer,\n",
    "                               losses=losses, drop=next(dropout_rates))\n",
    "                    pbar.update(len(batch))\n",
    "                    if count % 100 == 0 and count > 0:\n",
    "                        print('sum loss: %s' % losses['ner'])\n",
    "                    count += 1\n",
    "\n",
    "        # save model to output directory\n",
    "        output_dir_path = Path(output_dir + \"/\" + str(i))\n",
    "        if not output_dir_path.exists():\n",
    "            output_dir_path.mkdir()\n",
    "\n",
    "        with nlp.use_params(optimizer.averages):\n",
    "            nlp.tokenizer = original_tokenizer\n",
    "            nlp.to_disk(output_dir_path)\n",
    "            print(\"Saved model to\", output_dir_path)\n",
    "\n",
    "        # test the saved model\n",
    "        print(\"Loading from\", output_dir_path)\n",
    "        nlp2 = util.load_model_from_path(output_dir_path)\n",
    "#         nlp2.tokenizer = nlp_en.tokenizer\n",
    "\n",
    "        metrics = evaluate_ner(nlp2, dev_data)\n",
    "        if metrics[\"f1-measure-overall\"] > best_f1:\n",
    "            best_f1 = metrics[\"f1-measure-overall\"]\n",
    "            best_epoch = i\n",
    "    # save model to output directory\n",
    "    best_model_path = Path(output_dir + \"/\" + \"best\")\n",
    "    print(f\"Best Epoch: {best_epoch} of {n_iter}\")\n",
    "    if os.path.exists(best_model_path):\n",
    "        shutil.rmtree(best_model_path)\n",
    "    shutil.copytree(os.path.join(output_dir, str(best_epoch)),\n",
    "                    best_model_path)\n",
    "\n",
    "    # test the saved model\n",
    "    print(\"Loading from\", best_model_path)\n",
    "    nlp2 = util.load_model_from_path(best_model_path)\n",
    "#     nlp2.tokenizer = nlp_en.tokenizer\n",
    "\n",
    "    evaluate_ner(nlp2, dev_data, dump_path=os.path.join(output_dir, \"dev_metrics.json\"))\n",
    "    evaluate_ner(nlp2, test_data, dump_path=os.path.join(output_dir, \"test_metrics.json\"))"
   ]
  },
  {
   "cell_type": "code",
   "execution_count": 5,
   "metadata": {},
   "outputs": [],
   "source": [
    "model_output_dir = '/nfs/gns/literature/Santosh_Tirunagari/GitHub/spacy_models/pretrain_exp/'\n",
    "train_data_path = '/nfs/gns/literature/machine-learning/Datasets/NER_Datasets/EBI_standard-IOB/train.csv'\n",
    "dev_data_path = '/nfs/gns/literature/machine-learning/Datasets/NER_Datasets/EBI_standard-IOB/dev.csv'\n",
    "test_data_path = '/nfs/gns/literature/machine-learning/Datasets/NER_Datasets/EBI_standard-IOB/test.csv'\n",
    "run_test = False\n",
    "model_path = '/nfs/gns/literature/Santosh_Tirunagari/pretrained_word_embeddings/models/pubmed-pmc/' # None #'en_core_sci_md'\n",
    "iterations = 7\n",
    "meta_overrides = '/nfs/gns/literature/Santosh_Tirunagari/GitHub/scispacy/data/EPMC_ner.json'"
   ]
  },
  {
   "cell_type": "code",
   "execution_count": 6,
   "metadata": {},
   "outputs": [
    {
     "name": "stdout",
     "output_type": "stream",
     "text": [
      "Loaded model '/nfs/gns/literature/Santosh_Tirunagari/pretrained_word_embeddings/models/pubmed-pmc/'\n"
     ]
    },
    {
     "name": "stderr",
     "output_type": "stream",
     "text": [
      "  0%|          | 3/79401 [00:00<45:15, 29.23it/s]"
     ]
    },
    {
     "name": "stdout",
     "output_type": "stream",
     "text": [
      "0--7\n"
     ]
    },
    {
     "name": "stderr",
     "output_type": "stream",
     "text": [
      "  0%|          | 106/79401 [00:04<46:51, 28.20it/s] "
     ]
    },
    {
     "name": "stdout",
     "output_type": "stream",
     "text": [
      "sum loss: 240.9309713488384\n"
     ]
    },
    {
     "name": "stderr",
     "output_type": "stream",
     "text": [
      "  0%|          | 205/79401 [00:07<46:47, 28.21it/s]"
     ]
    },
    {
     "name": "stdout",
     "output_type": "stream",
     "text": [
      "sum loss: 351.17729084214244\n"
     ]
    },
    {
     "name": "stderr",
     "output_type": "stream",
     "text": [
      "  0%|          | 303/79401 [00:11<47:07, 27.97it/s]"
     ]
    },
    {
     "name": "stdout",
     "output_type": "stream",
     "text": [
      "sum loss: 460.8865192767247\n"
     ]
    },
    {
     "name": "stderr",
     "output_type": "stream",
     "text": [
      "  1%|          | 405/79401 [00:15<42:59, 30.63it/s]  "
     ]
    },
    {
     "name": "stdout",
     "output_type": "stream",
     "text": [
      "sum loss: 571.7826558714669\n"
     ]
    },
    {
     "name": "stderr",
     "output_type": "stream",
     "text": [
      "  1%|          | 505/79401 [00:18<41:46, 31.48it/s]"
     ]
    },
    {
     "name": "stdout",
     "output_type": "stream",
     "text": [
      "sum loss: 650.226659982623\n"
     ]
    },
    {
     "name": "stderr",
     "output_type": "stream",
     "text": [
      "  1%|          | 605/79401 [00:22<51:18, 25.59it/s]"
     ]
    },
    {
     "name": "stdout",
     "output_type": "stream",
     "text": [
      "sum loss: 795.2124581691664\n"
     ]
    },
    {
     "name": "stderr",
     "output_type": "stream",
     "text": [
      "  1%|          | 716/79401 [00:25<31:10, 42.07it/s]"
     ]
    },
    {
     "name": "stdout",
     "output_type": "stream",
     "text": [
      "sum loss: 866.3495432714249\n"
     ]
    },
    {
     "name": "stderr",
     "output_type": "stream",
     "text": [
      "  1%|          | 918/79401 [00:29<21:25, 61.07it/s]"
     ]
    },
    {
     "name": "stdout",
     "output_type": "stream",
     "text": [
      "sum loss: 1093.9328096313031\n"
     ]
    },
    {
     "name": "stderr",
     "output_type": "stream",
     "text": [
      "  1%|▏         | 1120/79401 [00:32<20:18, 64.24it/s]"
     ]
    },
    {
     "name": "stdout",
     "output_type": "stream",
     "text": [
      "sum loss: 1550.659477193863\n"
     ]
    },
    {
     "name": "stderr",
     "output_type": "stream",
     "text": [
      "  2%|▏         | 1318/79401 [00:35<20:54, 62.25it/s]"
     ]
    },
    {
     "name": "stdout",
     "output_type": "stream",
     "text": [
      "sum loss: 1716.8460366922072\n"
     ]
    },
    {
     "name": "stderr",
     "output_type": "stream",
     "text": [
      "  2%|▏         | 1518/79401 [00:39<19:08, 67.81it/s]"
     ]
    },
    {
     "name": "stdout",
     "output_type": "stream",
     "text": [
      "sum loss: 1977.7341969317267\n"
     ]
    },
    {
     "name": "stderr",
     "output_type": "stream",
     "text": [
      "  2%|▏         | 1818/79401 [00:43<16:18, 79.28it/s]"
     ]
    },
    {
     "name": "stdout",
     "output_type": "stream",
     "text": [
      "sum loss: 2296.5662697947564\n"
     ]
    },
    {
     "name": "stderr",
     "output_type": "stream",
     "text": [
      "  3%|▎         | 2124/79401 [00:46<15:39, 82.29it/s]"
     ]
    },
    {
     "name": "stdout",
     "output_type": "stream",
     "text": [
      "sum loss: 2706.9153536502286\n"
     ]
    },
    {
     "name": "stderr",
     "output_type": "stream",
     "text": [
      "  3%|▎         | 2443/79401 [00:50<11:47, 108.82it/s]"
     ]
    },
    {
     "name": "stdout",
     "output_type": "stream",
     "text": [
      "sum loss: 3068.120673444965\n"
     ]
    },
    {
     "name": "stderr",
     "output_type": "stream",
     "text": [
      "  4%|▎         | 2839/79401 [00:53<11:09, 114.42it/s]"
     ]
    },
    {
     "name": "stdout",
     "output_type": "stream",
     "text": [
      "sum loss: 3402.3809362704787\n"
     ]
    },
    {
     "name": "stderr",
     "output_type": "stream",
     "text": [
      "  4%|▍         | 3239/79401 [00:57<12:18, 103.14it/s]"
     ]
    },
    {
     "name": "stdout",
     "output_type": "stream",
     "text": [
      "sum loss: 3672.669045291954\n"
     ]
    },
    {
     "name": "stderr",
     "output_type": "stream",
     "text": [
      "  5%|▍         | 3728/79401 [01:01<10:42, 117.75it/s]"
     ]
    },
    {
     "name": "stdout",
     "output_type": "stream",
     "text": [
      "sum loss: 4031.183457845992\n"
     ]
    },
    {
     "name": "stderr",
     "output_type": "stream",
     "text": [
      "  5%|▌         | 4239/79401 [01:05<08:48, 142.33it/s]"
     ]
    },
    {
     "name": "stdout",
     "output_type": "stream",
     "text": [
      "sum loss: 4296.294594220653\n"
     ]
    },
    {
     "name": "stderr",
     "output_type": "stream",
     "text": [
      "  6%|▌         | 4851/79401 [01:09<08:05, 153.47it/s]"
     ]
    },
    {
     "name": "stdout",
     "output_type": "stream",
     "text": [
      "sum loss: 4665.349138440293\n"
     ]
    },
    {
     "name": "stderr",
     "output_type": "stream",
     "text": [
      "  7%|▋         | 5496/79401 [01:13<08:13, 149.86it/s]"
     ]
    },
    {
     "name": "stdout",
     "output_type": "stream",
     "text": [
      "sum loss: 5085.249764119437\n"
     ]
    },
    {
     "name": "stderr",
     "output_type": "stream",
     "text": [
      "  8%|▊         | 6211/79401 [01:18<07:02, 173.28it/s]"
     ]
    },
    {
     "name": "stdout",
     "output_type": "stream",
     "text": [
      "sum loss: 5461.324639543833\n"
     ]
    },
    {
     "name": "stderr",
     "output_type": "stream",
     "text": [
      "  9%|▉         | 7033/79401 [01:22<06:34, 183.65it/s]"
     ]
    },
    {
     "name": "stdout",
     "output_type": "stream",
     "text": [
      "sum loss: 5940.10327720421\n"
     ]
    },
    {
     "name": "stderr",
     "output_type": "stream",
     "text": [
      " 10%|▉         | 7924/79401 [01:27<06:10, 192.87it/s]"
     ]
    },
    {
     "name": "stdout",
     "output_type": "stream",
     "text": [
      "sum loss: 6380.115293033399\n"
     ]
    },
    {
     "name": "stderr",
     "output_type": "stream",
     "text": [
      " 11%|█         | 8906/79401 [01:32<05:53, 199.58it/s]"
     ]
    },
    {
     "name": "stdout",
     "output_type": "stream",
     "text": [
      "sum loss: 6873.933501825007\n"
     ]
    },
    {
     "name": "stderr",
     "output_type": "stream",
     "text": [
      " 13%|█▎        | 10033/79401 [01:37<05:22, 215.21it/s]"
     ]
    },
    {
     "name": "stdout",
     "output_type": "stream",
     "text": [
      "sum loss: 7449.993415864664\n"
     ]
    },
    {
     "name": "stderr",
     "output_type": "stream",
     "text": [
      " 14%|█▍        | 11269/79401 [01:43<05:15, 215.89it/s]"
     ]
    },
    {
     "name": "stdout",
     "output_type": "stream",
     "text": [
      "sum loss: 8047.797681435754\n"
     ]
    },
    {
     "name": "stderr",
     "output_type": "stream",
     "text": [
      " 16%|█▌        | 12645/79401 [01:49<04:55, 225.84it/s]"
     ]
    },
    {
     "name": "stdout",
     "output_type": "stream",
     "text": [
      "sum loss: 8581.986909759657\n"
     ]
    },
    {
     "name": "stderr",
     "output_type": "stream",
     "text": [
      " 18%|█▊        | 14153/79401 [01:55<04:16, 254.05it/s]"
     ]
    },
    {
     "name": "stdout",
     "output_type": "stream",
     "text": [
      "sum loss: 9073.779056619072\n"
     ]
    },
    {
     "name": "stderr",
     "output_type": "stream",
     "text": [
      " 20%|█▉        | 15832/79401 [02:01<04:14, 249.72it/s]"
     ]
    },
    {
     "name": "stdout",
     "output_type": "stream",
     "text": [
      "sum loss: 9656.80974913062\n"
     ]
    },
    {
     "name": "stderr",
     "output_type": "stream",
     "text": [
      " 22%|██▏       | 17694/79401 [02:08<03:47, 271.14it/s]"
     ]
    },
    {
     "name": "stdout",
     "output_type": "stream",
     "text": [
      "sum loss: 10331.139222288033\n"
     ]
    },
    {
     "name": "stderr",
     "output_type": "stream",
     "text": [
      " 25%|██▍       | 19760/79401 [02:16<03:41, 268.77it/s]"
     ]
    },
    {
     "name": "stdout",
     "output_type": "stream",
     "text": [
      "sum loss: 11021.047359637027\n"
     ]
    },
    {
     "name": "stderr",
     "output_type": "stream",
     "text": [
      " 28%|██▊       | 22048/79401 [02:24<03:11, 298.94it/s]"
     ]
    },
    {
     "name": "stdout",
     "output_type": "stream",
     "text": [
      "sum loss: 11850.65868653995\n"
     ]
    },
    {
     "name": "stderr",
     "output_type": "stream",
     "text": [
      " 31%|███       | 24578/79401 [02:33<02:56, 309.96it/s]"
     ]
    },
    {
     "name": "stdout",
     "output_type": "stream",
     "text": [
      "sum loss: 12505.485947093239\n"
     ]
    },
    {
     "name": "stderr",
     "output_type": "stream",
     "text": [
      " 34%|███▍      | 27381/79401 [02:42<02:38, 328.21it/s]"
     ]
    },
    {
     "name": "stdout",
     "output_type": "stream",
     "text": [
      "sum loss: 13540.800013553326\n"
     ]
    },
    {
     "name": "stderr",
     "output_type": "stream",
     "text": [
      " 38%|███▊      | 30487/79401 [02:52<02:34, 317.25it/s]"
     ]
    },
    {
     "name": "stdout",
     "output_type": "stream",
     "text": [
      "sum loss: 14449.259852460647\n"
     ]
    },
    {
     "name": "stderr",
     "output_type": "stream",
     "text": [
      " 43%|████▎     | 33887/79401 [03:02<02:21, 322.37it/s]"
     ]
    },
    {
     "name": "stdout",
     "output_type": "stream",
     "text": [
      "sum loss: 15429.63364248956\n"
     ]
    },
    {
     "name": "stderr",
     "output_type": "stream",
     "text": [
      " 47%|████▋     | 37685/79401 [03:13<01:55, 360.19it/s]"
     ]
    },
    {
     "name": "stdout",
     "output_type": "stream",
     "text": [
      "sum loss: 16459.243044135746\n"
     ]
    },
    {
     "name": "stderr",
     "output_type": "stream",
     "text": [
      " 53%|█████▎    | 41886/79401 [03:25<01:42, 367.59it/s]"
     ]
    },
    {
     "name": "stdout",
     "output_type": "stream",
     "text": [
      "sum loss: 17777.848190028573\n"
     ]
    },
    {
     "name": "stderr",
     "output_type": "stream",
     "text": [
      " 59%|█████▊    | 46535/79401 [03:38<01:32, 354.95it/s]"
     ]
    },
    {
     "name": "stdout",
     "output_type": "stream",
     "text": [
      "sum loss: 19046.22197346925\n"
     ]
    },
    {
     "name": "stderr",
     "output_type": "stream",
     "text": [
      " 65%|██████▌   | 51679/79401 [03:52<01:14, 370.89it/s]"
     ]
    },
    {
     "name": "stdout",
     "output_type": "stream",
     "text": [
      "sum loss: 20490.249763200296\n"
     ]
    },
    {
     "name": "stderr",
     "output_type": "stream",
     "text": [
      " 72%|███████▏  | 57367/79401 [04:07<00:57, 381.81it/s]"
     ]
    },
    {
     "name": "stdout",
     "output_type": "stream",
     "text": [
      "sum loss: 21709.204823647862\n"
     ]
    },
    {
     "name": "stderr",
     "output_type": "stream",
     "text": [
      " 80%|████████  | 63625/79401 [04:23<00:41, 378.63it/s]"
     ]
    },
    {
     "name": "stdout",
     "output_type": "stream",
     "text": [
      "sum loss: 23079.077875135237\n"
     ]
    },
    {
     "name": "stderr",
     "output_type": "stream",
     "text": [
      " 88%|████████▊ | 70025/79401 [04:40<00:23, 400.44it/s]"
     ]
    },
    {
     "name": "stdout",
     "output_type": "stream",
     "text": [
      "sum loss: 24430.947406756462\n"
     ]
    },
    {
     "name": "stderr",
     "output_type": "stream",
     "text": [
      " 96%|█████████▋| 76425/79401 [04:56<00:07, 408.11it/s]"
     ]
    },
    {
     "name": "stdout",
     "output_type": "stream",
     "text": [
      "sum loss: 25633.654916293224\n"
     ]
    },
    {
     "name": "stderr",
     "output_type": "stream",
     "text": [
      "100%|██████████| 79401/79401 [05:04<00:00, 260.67it/s]\n"
     ]
    },
    {
     "name": "stdout",
     "output_type": "stream",
     "text": [
      "Saved model to /nfs/gns/literature/Santosh_Tirunagari/GitHub/spacy_models/pretrain_exp/0\n",
      "Loading from /nfs/gns/literature/Santosh_Tirunagari/GitHub/spacy_models/pretrain_exp/0\n"
     ]
    },
    {
     "name": "stderr",
     "output_type": "stream",
     "text": [
      "  0%|          | 29/16068 [00:00<00:55, 289.09it/s]"
     ]
    },
    {
     "name": "stdout",
     "output_type": "stream",
     "text": [
      "Evaluating 16068 rows\n"
     ]
    },
    {
     "name": "stderr",
     "output_type": "stream",
     "text": [
      "  7%|▋         | 1051/16068 [00:03<00:46, 320.92it/s]"
     ]
    },
    {
     "name": "stdout",
     "output_type": "stream",
     "text": [
      "precision-DS: 0.7999999999999993\n",
      "recall-DS: 0.8888888888888882\n",
      "f1-measure-DS: 0.8421052631578443\n",
      "precision-OG: 0.6111111111111106\n",
      "recall-OG: 0.5827814569536419\n",
      "f1-measure-OG: 0.5966101694914749\n",
      "precision-untyped: 0.7814910025706938\n",
      "recall-untyped: 0.7855297157622737\n",
      "f1-measure-untyped: 0.7835051546391251\n",
      "precision-GP: 0.97391304347826\n",
      "recall-GP: 0.9411764705882345\n",
      "f1-measure-GP: 0.9572649572649066\n",
      "precision-overall: 0.7814910025706938\n",
      "recall-overall: 0.7855297157622737\n",
      "f1-measure-overall: 0.7835051546391251\n"
     ]
    },
    {
     "name": "stderr",
     "output_type": "stream",
     "text": [
      " 13%|█▎        | 2060/16068 [00:06<00:40, 343.62it/s]"
     ]
    },
    {
     "name": "stdout",
     "output_type": "stream",
     "text": [
      "precision-DS: 0.8108108108108103\n",
      "recall-DS: 0.8426966292134827\n",
      "f1-measure-DS: 0.8264462809916852\n",
      "precision-OG: 0.8333333333333331\n",
      "recall-OG: 0.7894736842105261\n",
      "f1-measure-OG: 0.8108108108107608\n",
      "precision-untyped: 0.8018223234624144\n",
      "recall-untyped: 0.8176538908246225\n",
      "f1-measure-untyped: 0.8096607245542915\n",
      "precision-GP: 0.7288888888888885\n",
      "recall-GP: 0.8677248677248672\n",
      "f1-measure-GP: 0.7922705314009162\n",
      "precision-overall: 0.8018223234624144\n",
      "recall-overall: 0.8176538908246225\n",
      "f1-measure-overall: 0.8096607245542915\n"
     ]
    },
    {
     "name": "stderr",
     "output_type": "stream",
     "text": [
      " 19%|█▉        | 3053/16068 [00:09<00:46, 278.17it/s]"
     ]
    },
    {
     "name": "stdout",
     "output_type": "stream",
     "text": [
      "precision-DS: 0.8127490039840634\n",
      "recall-DS: 0.7816091954022986\n",
      "f1-measure-DS: 0.7968749999999497\n",
      "precision-OG: 0.8302180685358254\n",
      "recall-OG: 0.8003003003003002\n",
      "f1-measure-OG: 0.8149847094800722\n",
      "precision-untyped: 0.733715103793844\n",
      "recall-untyped: 0.7939581719597212\n",
      "f1-measure-untyped: 0.7626488095237597\n",
      "precision-GP: 0.5674603174603173\n",
      "recall-GP: 0.7857142857142855\n",
      "f1-measure-GP: 0.6589861751151586\n",
      "precision-overall: 0.7322834645669292\n",
      "recall-overall: 0.7924089852827265\n",
      "f1-measure-overall: 0.7611607142856645\n"
     ]
    },
    {
     "name": "stderr",
     "output_type": "stream",
     "text": [
      " 25%|██▌       | 4056/16068 [00:13<00:41, 287.84it/s]"
     ]
    },
    {
     "name": "stdout",
     "output_type": "stream",
     "text": [
      "precision-DS: 0.8118081180811805\n",
      "recall-DS: 0.7773851590106003\n",
      "f1-measure-DS: 0.7942238267147511\n",
      "precision-OG: 0.8426573426573426\n",
      "recall-OG: 0.821590909090909\n",
      "f1-measure-OG: 0.8319907940160604\n",
      "precision-untyped: 0.7595757218621096\n",
      "recall-untyped: 0.8106918238993711\n",
      "f1-measure-untyped: 0.7843017949497524\n",
      "precision-GP: 0.6038732394366196\n",
      "recall-GP: 0.80327868852459\n",
      "f1-measure-GP: 0.6894472361808555\n",
      "precision-overall: 0.7578078962875663\n",
      "recall-overall: 0.8088050314465409\n",
      "f1-measure-overall: 0.7824764222694968\n"
     ]
    },
    {
     "name": "stderr",
     "output_type": "stream",
     "text": [
      " 31%|███▏      | 5032/16068 [00:16<00:36, 304.76it/s]"
     ]
    },
    {
     "name": "stdout",
     "output_type": "stream",
     "text": [
      "precision-DS: 0.8490566037735847\n",
      "recall-DS: 0.7947019867549667\n",
      "f1-measure-DS: 0.8209806157354117\n",
      "precision-OG: 0.8592814371257484\n",
      "recall-OG: 0.8432908912830558\n",
      "f1-measure-OG: 0.85121107266431\n",
      "precision-untyped: 0.7899280575539568\n",
      "recall-untyped: 0.8239119559779889\n",
      "f1-measure-untyped: 0.806562193927472\n",
      "precision-GP: 0.6418816388467373\n",
      "recall-GP: 0.8057142857142855\n",
      "f1-measure-GP: 0.7145270270269776\n",
      "precision-overall: 0.7884892086330936\n",
      "recall-overall: 0.8224112056028015\n",
      "f1-measure-overall: 0.8050930460332508\n"
     ]
    },
    {
     "name": "stderr",
     "output_type": "stream",
     "text": [
      " 38%|███▊      | 6033/16068 [00:19<00:34, 289.57it/s]"
     ]
    },
    {
     "name": "stdout",
     "output_type": "stream",
     "text": [
      "precision-DS: 0.8318584070796458\n",
      "recall-DS: 0.7999999999999998\n",
      "f1-measure-DS: 0.8156182212580844\n",
      "precision-OG: 0.839063643013899\n",
      "recall-OG: 0.8604651162790697\n",
      "f1-measure-OG: 0.8496296296295797\n",
      "precision-untyped: 0.7898212898212899\n",
      "recall-untyped: 0.836969946480033\n",
      "f1-measure-untyped: 0.8127123725764042\n",
      "precision-GP: 0.6701986754966887\n",
      "recall-GP: 0.8083067092651756\n",
      "f1-measure-GP: 0.7328023171614275\n",
      "precision-overall: 0.7882672882672883\n",
      "recall-overall: 0.8353231782626596\n",
      "f1-measure-overall: 0.8111133320007496\n"
     ]
    },
    {
     "name": "stderr",
     "output_type": "stream",
     "text": [
      " 44%|████▍     | 7048/16068 [00:23<00:31, 282.18it/s]"
     ]
    },
    {
     "name": "stdout",
     "output_type": "stream",
     "text": [
      "precision-DS: 0.8333333333333331\n",
      "recall-DS: 0.7554517133956385\n",
      "f1-measure-DS: 0.7924836601306691\n",
      "precision-OG: 0.8409734012450482\n",
      "recall-OG: 0.8720657276995305\n",
      "f1-measure-OG: 0.8562373955631882\n",
      "precision-untyped: 0.8126341613002147\n",
      "recall-untyped: 0.8471867007672634\n",
      "f1-measure-untyped: 0.8295507904209862\n",
      "precision-GP: 0.6984649122807016\n",
      "recall-GP: 0.8145780051150894\n",
      "f1-measure-GP: 0.7520661157024295\n",
      "precision-overall: 0.7997546764796075\n",
      "recall-overall: 0.8337595907928389\n",
      "f1-measure-overall: 0.8164031929878981\n"
     ]
    },
    {
     "name": "stderr",
     "output_type": "stream",
     "text": [
      " 50%|█████     | 8055/16068 [00:26<00:27, 293.65it/s]"
     ]
    },
    {
     "name": "stdout",
     "output_type": "stream",
     "text": [
      "precision-DS: 0.8145620022753127\n",
      "recall-DS: 0.7138584247258225\n",
      "f1-measure-DS: 0.760892667375083\n",
      "precision-OG: 0.8339444735463594\n",
      "recall-OG: 0.8771349862258954\n",
      "f1-measure-OG: 0.8549946294306698\n",
      "precision-untyped: 0.7984699976093713\n",
      "recall-untyped: 0.8421583459404942\n",
      "f1-measure-untyped: 0.819732482513142\n",
      "precision-GP: 0.7096774193548387\n",
      "recall-GP: 0.8623693379790941\n",
      "f1-measure-GP: 0.7786079433739183\n",
      "precision-overall: 0.7884293569208702\n",
      "recall-overall: 0.8315683308119012\n",
      "f1-measure-overall: 0.8094244692599821\n"
     ]
    },
    {
     "name": "stderr",
     "output_type": "stream",
     "text": [
      " 56%|█████▋    | 9067/16068 [00:29<00:22, 316.23it/s]"
     ]
    },
    {
     "name": "stdout",
     "output_type": "stream",
     "text": [
      "precision-DS: 0.812566560170394\n",
      "recall-DS: 0.720491029272899\n",
      "f1-measure-DS: 0.763763763763714\n",
      "precision-OG: 0.8294679399727148\n",
      "recall-OG: 0.8685714285714285\n",
      "f1-measure-OG: 0.848569434752218\n",
      "precision-untyped: 0.7954407908008876\n",
      "recall-untyped: 0.8425213675213675\n",
      "f1-measure-untyped: 0.8183044515927693\n",
      "precision-GP: 0.7212754260582738\n",
      "recall-GP: 0.8625904010519395\n",
      "f1-measure-GP: 0.7856287425149205\n",
      "precision-overall: 0.7865644543070406\n",
      "recall-overall: 0.8331196581196582\n",
      "f1-measure-overall: 0.8091729791428369\n"
     ]
    },
    {
     "name": "stderr",
     "output_type": "stream",
     "text": [
      " 63%|██████▎   | 10053/16068 [00:32<00:16, 374.87it/s]"
     ]
    },
    {
     "name": "stdout",
     "output_type": "stream",
     "text": [
      "precision-DS: 0.8012552301255229\n",
      "recall-DS: 0.7212806026365348\n",
      "f1-measure-DS: 0.7591674925668481\n",
      "precision-OG: 0.8294679399727148\n",
      "recall-OG: 0.8685714285714285\n",
      "f1-measure-OG: 0.848569434752218\n",
      "precision-untyped: 0.7872716558632882\n",
      "recall-untyped: 0.8437894736842105\n",
      "f1-measure-untyped: 0.8145513667309734\n",
      "precision-GP: 0.7097107438016529\n",
      "recall-GP: 0.8652392947103275\n",
      "f1-measure-GP: 0.7797956867195873\n",
      "precision-overall: 0.7786289530544097\n",
      "recall-overall: 0.8345263157894737\n",
      "f1-measure-overall: 0.8056091860582775\n"
     ]
    },
    {
     "name": "stderr",
     "output_type": "stream",
     "text": [
      " 69%|██████▊   | 11041/16068 [00:35<00:22, 224.17it/s]"
     ]
    },
    {
     "name": "stdout",
     "output_type": "stream",
     "text": [
      "precision-DS: 0.744641192917055\n",
      "recall-DS: 0.7140303842716711\n",
      "f1-measure-DS: 0.7290145985400961\n",
      "precision-OG: 0.8328131966116807\n",
      "recall-OG: 0.8700512342803912\n",
      "f1-measure-OG: 0.8510250569475583\n",
      "precision-untyped: 0.7773393461104848\n",
      "recall-untyped: 0.8410245984956292\n",
      "f1-measure-untyped: 0.8079289131920212\n",
      "precision-GP: 0.7108673978065803\n",
      "recall-GP: 0.8626739261947973\n",
      "f1-measure-GP: 0.7794479365946485\n",
      "precision-overall: 0.7690717775272454\n",
      "recall-overall: 0.8320796909941045\n",
      "f1-measure-overall: 0.7993360023434712\n"
     ]
    },
    {
     "name": "stderr",
     "output_type": "stream",
     "text": [
      " 75%|███████▍  | 12020/16068 [00:38<00:12, 334.14it/s]"
     ]
    },
    {
     "name": "stdout",
     "output_type": "stream",
     "text": [
      "precision-DS: 0.7390946502057614\n",
      "recall-DS: 0.6865443425076453\n",
      "f1-measure-DS: 0.7118509710661411\n",
      "precision-OG: 0.831495368328187\n",
      "recall-OG: 0.8619112940100594\n",
      "f1-measure-OG: 0.8464301751234344\n",
      "precision-untyped: 0.7772285966460724\n",
      "recall-untyped: 0.8284101599247413\n",
      "f1-measure-untyped: 0.8020036429871996\n",
      "precision-GP: 0.7219422812643151\n",
      "recall-GP: 0.865934065934066\n",
      "f1-measure-GP: 0.7874094429177619\n",
      "precision-overall: 0.7694616063548102\n",
      "recall-overall: 0.820131702728128\n",
      "f1-measure-overall: 0.7939890710382014\n"
     ]
    },
    {
     "name": "stderr",
     "output_type": "stream",
     "text": [
      " 81%|████████  | 13055/16068 [00:41<00:09, 306.08it/s]"
     ]
    },
    {
     "name": "stdout",
     "output_type": "stream",
     "text": [
      "precision-DS: 0.7383437717466945\n",
      "recall-DS: 0.704515272244356\n",
      "f1-measure-DS: 0.7210329595650198\n",
      "precision-OG: 0.8376212568536483\n",
      "recall-OG: 0.863102998696219\n",
      "f1-measure-OG: 0.8501712328766624\n",
      "precision-untyped: 0.7829531051964512\n",
      "recall-untyped: 0.8326874473462511\n",
      "f1-measure-untyped: 0.8070547889278509\n",
      "precision-GP: 0.7348242811501597\n",
      "recall-GP: 0.8646616541353384\n",
      "f1-measure-GP: 0.7944732297063408\n",
      "precision-overall: 0.7742395437262357\n",
      "recall-overall: 0.8234203875315923\n",
      "f1-measure-overall: 0.798072997468718\n"
     ]
    },
    {
     "name": "stderr",
     "output_type": "stream",
     "text": [
      " 87%|████████▋ | 14059/16068 [00:45<00:05, 344.55it/s]"
     ]
    },
    {
     "name": "stdout",
     "output_type": "stream",
     "text": [
      "precision-DS: 0.7539632213062778\n",
      "recall-DS: 0.7085816448152562\n",
      "f1-measure-DS: 0.7305683563747581\n",
      "precision-OG: 0.8202334630350194\n",
      "recall-OG: 0.8562144597887896\n",
      "f1-measure-OG: 0.837837837837788\n",
      "precision-untyped: 0.779843707895446\n",
      "recall-untyped: 0.8320874065554916\n",
      "f1-measure-untyped: 0.8051189317011602\n",
      "precision-GP: 0.743206106870229\n",
      "recall-GP: 0.8643465909090909\n",
      "f1-measure-GP: 0.7992119520603673\n",
      "precision-overall: 0.772163837240636\n",
      "recall-overall: 0.8238930419781484\n",
      "f1-measure-overall: 0.7971901516204815\n"
     ]
    },
    {
     "name": "stderr",
     "output_type": "stream",
     "text": [
      " 94%|█████████▎| 15057/16068 [00:48<00:03, 300.31it/s]"
     ]
    },
    {
     "name": "stdout",
     "output_type": "stream",
     "text": [
      "precision-DS: 0.7691415313225058\n",
      "recall-DS: 0.6427532719340766\n",
      "f1-measure-DS: 0.7002904673883846\n",
      "precision-OG: 0.8134751773049645\n",
      "recall-OG: 0.8598200899550225\n",
      "f1-measure-OG: 0.8360058309037401\n",
      "precision-untyped: 0.7862532421598679\n",
      "recall-untyped: 0.8086576937068025\n",
      "f1-measure-untyped: 0.7972981050869248\n",
      "precision-GP: 0.7574911122397155\n",
      "recall-GP: 0.8484072810011376\n",
      "f1-measure-GP: 0.8003756372416996\n",
      "precision-overall: 0.7784720584767744\n",
      "recall-overall: 0.8006547835576573\n",
      "f1-measure-overall: 0.7894076155179129\n"
     ]
    },
    {
     "name": "stderr",
     "output_type": "stream",
     "text": [
      "100%|█████████▉| 16054/16068 [00:52<00:00, 299.76it/s]"
     ]
    },
    {
     "name": "stdout",
     "output_type": "stream",
     "text": [
      "precision-DS: 0.7771053958648513\n",
      "recall-DS: 0.6645105648986632\n",
      "f1-measure-DS: 0.7164109716410475\n",
      "precision-OG: 0.8181214736143378\n",
      "recall-OG: 0.8421592073795695\n",
      "f1-measure-OG: 0.8299663299662801\n",
      "precision-untyped: 0.7861941915908106\n",
      "recall-untyped: 0.80602155316076\n",
      "f1-measure-untyped: 0.7959844204289369\n",
      "precision-GP: 0.7521266540642723\n",
      "recall-GP: 0.8476697736351532\n",
      "f1-measure-GP: 0.7970451984474274\n",
      "precision-overall: 0.7790420459471175\n",
      "recall-overall: 0.7986890345517165\n",
      "f1-measure-overall: 0.788743211366454\n"
     ]
    },
    {
     "name": "stderr",
     "output_type": "stream",
     "text": [
      "100%|██████████| 16068/16068 [00:52<00:00, 308.67it/s]\n",
      "  0%|          | 0/79401 [00:00<?, ?it/s]"
     ]
    },
    {
     "name": "stdout",
     "output_type": "stream",
     "text": [
      "precision-untyped: \t\t 0.785899935022742\n",
      "recall-untyped: \t\t 0.8060646451182939\n",
      "f1-measure-untyped: \t\t 0.795854581345566\n",
      "precision-overall: \t\t 0.7787524366471735\n",
      "recall-overall: \t\t 0.7987337554148617\n",
      "f1-measure-overall: \t\t 0.7886165487744196\n",
      "1--7\n"
     ]
    },
    {
     "name": "stderr",
     "output_type": "stream",
     "text": [
      "  8%|▊         | 6528/79401 [00:17<03:38, 334.26it/s]"
     ]
    },
    {
     "name": "stdout",
     "output_type": "stream",
     "text": [
      "sum loss: 1081.3904359166045\n"
     ]
    },
    {
     "name": "stderr",
     "output_type": "stream",
     "text": [
      " 16%|█▋        | 12928/79401 [00:34<02:40, 415.43it/s]"
     ]
    },
    {
     "name": "stdout",
     "output_type": "stream",
     "text": [
      "sum loss: 2130.8651994114625\n"
     ]
    },
    {
     "name": "stderr",
     "output_type": "stream",
     "text": [
      " 24%|██▍       | 19328/79401 [00:50<02:16, 438.78it/s]"
     ]
    },
    {
     "name": "stdout",
     "output_type": "stream",
     "text": [
      "sum loss: 3221.420063021418\n"
     ]
    },
    {
     "name": "stderr",
     "output_type": "stream",
     "text": [
      " 32%|███▏      | 25728/79401 [01:06<02:16, 392.30it/s]"
     ]
    },
    {
     "name": "stdout",
     "output_type": "stream",
     "text": [
      "sum loss: 4488.562892655667\n"
     ]
    },
    {
     "name": "stderr",
     "output_type": "stream",
     "text": [
      " 40%|████      | 32128/79401 [01:23<02:05, 377.49it/s]"
     ]
    },
    {
     "name": "stdout",
     "output_type": "stream",
     "text": [
      "sum loss: 5671.974125775567\n"
     ]
    },
    {
     "name": "stderr",
     "output_type": "stream",
     "text": [
      " 49%|████▊     | 38528/79401 [01:39<01:45, 388.73it/s]"
     ]
    },
    {
     "name": "stdout",
     "output_type": "stream",
     "text": [
      "sum loss: 6848.953683838539\n"
     ]
    },
    {
     "name": "stderr",
     "output_type": "stream",
     "text": [
      " 57%|█████▋    | 44928/79401 [01:56<01:29, 386.78it/s]"
     ]
    },
    {
     "name": "stdout",
     "output_type": "stream",
     "text": [
      "sum loss: 7883.401351107459\n"
     ]
    },
    {
     "name": "stderr",
     "output_type": "stream",
     "text": [
      " 65%|██████▍   | 51328/79401 [02:13<01:12, 388.68it/s]"
     ]
    },
    {
     "name": "stdout",
     "output_type": "stream",
     "text": [
      "sum loss: 8931.965901367192\n"
     ]
    },
    {
     "name": "stderr",
     "output_type": "stream",
     "text": [
      " 73%|███████▎  | 57728/79401 [02:29<00:58, 371.52it/s]"
     ]
    },
    {
     "name": "stdout",
     "output_type": "stream",
     "text": [
      "sum loss: 10076.633118580212\n"
     ]
    },
    {
     "name": "stderr",
     "output_type": "stream",
     "text": [
      " 81%|████████  | 64064/79401 [02:45<00:43, 356.59it/s]"
     ]
    },
    {
     "name": "stdout",
     "output_type": "stream",
     "text": [
      "sum loss: 11145.246170251281\n"
     ]
    },
    {
     "name": "stderr",
     "output_type": "stream",
     "text": [
      " 89%|████████▉ | 70528/79401 [03:02<00:22, 391.15it/s]"
     ]
    },
    {
     "name": "stdout",
     "output_type": "stream",
     "text": [
      "sum loss: 12262.838249181048\n"
     ]
    },
    {
     "name": "stderr",
     "output_type": "stream",
     "text": [
      " 97%|█████████▋| 76928/79401 [03:19<00:06, 382.92it/s]"
     ]
    },
    {
     "name": "stdout",
     "output_type": "stream",
     "text": [
      "sum loss: 13274.201306381816\n"
     ]
    },
    {
     "name": "stderr",
     "output_type": "stream",
     "text": [
      "100%|██████████| 79401/79401 [03:25<00:00, 386.89it/s]\n"
     ]
    },
    {
     "name": "stdout",
     "output_type": "stream",
     "text": [
      "Saved model to /nfs/gns/literature/Santosh_Tirunagari/GitHub/spacy_models/pretrain_exp/1\n",
      "Loading from /nfs/gns/literature/Santosh_Tirunagari/GitHub/spacy_models/pretrain_exp/1\n"
     ]
    },
    {
     "name": "stderr",
     "output_type": "stream",
     "text": [
      "  0%|          | 29/16068 [00:00<00:56, 285.27it/s]"
     ]
    },
    {
     "name": "stdout",
     "output_type": "stream",
     "text": [
      "Evaluating 16068 rows\n"
     ]
    },
    {
     "name": "stderr",
     "output_type": "stream",
     "text": [
      "  6%|▋         | 1025/16068 [00:03<00:47, 315.56it/s]"
     ]
    },
    {
     "name": "stdout",
     "output_type": "stream",
     "text": [
      "precision-DS: 0.8387096774193542\n",
      "recall-DS: 0.8888888888888882\n",
      "f1-measure-DS: 0.8630705394190364\n",
      "precision-OG: 0.6133333333333328\n",
      "recall-OG: 0.6092715231788075\n",
      "f1-measure-OG: 0.6112956810630725\n",
      "precision-untyped: 0.7902813299232734\n",
      "recall-untyped: 0.7984496124031005\n",
      "f1-measure-untyped: 0.794344473007662\n",
      "precision-GP: 0.965811965811965\n",
      "recall-GP: 0.9495798319327723\n",
      "f1-measure-GP: 0.9576271186440171\n",
      "precision-overall: 0.7902813299232734\n",
      "recall-overall: 0.7984496124031005\n",
      "f1-measure-overall: 0.794344473007662\n"
     ]
    },
    {
     "name": "stderr",
     "output_type": "stream",
     "text": [
      " 13%|█▎        | 2064/16068 [00:06<00:43, 324.13it/s]"
     ]
    },
    {
     "name": "stdout",
     "output_type": "stream",
     "text": [
      "precision-DS: 0.8426966292134827\n",
      "recall-DS: 0.8426966292134827\n",
      "f1-measure-DS: 0.8426966292134327\n",
      "precision-OG: 0.8232848232848231\n",
      "recall-OG: 0.8016194331983804\n",
      "f1-measure-OG: 0.8123076923076421\n",
      "precision-untyped: 0.8031674208144796\n",
      "recall-untyped: 0.824622531939605\n",
      "f1-measure-untyped: 0.8137535816618412\n",
      "precision-GP: 0.7288888888888885\n",
      "recall-GP: 0.8677248677248672\n",
      "f1-measure-GP: 0.7922705314009162\n",
      "precision-overall: 0.8031674208144796\n",
      "recall-overall: 0.824622531939605\n",
      "f1-measure-overall: 0.8137535816618412\n"
     ]
    },
    {
     "name": "stderr",
     "output_type": "stream",
     "text": [
      " 19%|█▉        | 3033/16068 [00:10<00:49, 264.83it/s]"
     ]
    },
    {
     "name": "stdout",
     "output_type": "stream",
     "text": [
      "precision-DS: 0.8312757201646087\n",
      "recall-DS: 0.7739463601532564\n",
      "f1-measure-DS: 0.8015873015872513\n",
      "precision-OG: 0.8209408194233686\n",
      "recall-OG: 0.8123123123123122\n",
      "f1-measure-OG: 0.8166037735848556\n",
      "precision-untyped: 0.7440225035161744\n",
      "recall-untyped: 0.8195197521301317\n",
      "f1-measure-untyped: 0.7799483966088702\n",
      "precision-GP: 0.6019230769230768\n",
      "recall-GP: 0.8598901098901096\n",
      "f1-measure-GP: 0.7081447963800419\n",
      "precision-overall: 0.7426160337552743\n",
      "recall-overall: 0.8179705654531371\n",
      "f1-measure-overall: 0.7784740140065849\n"
     ]
    },
    {
     "name": "stderr",
     "output_type": "stream",
     "text": [
      " 25%|██▌       | 4041/16068 [00:13<00:42, 281.67it/s]"
     ]
    },
    {
     "name": "stdout",
     "output_type": "stream",
     "text": [
      "precision-DS: 0.8257575757575754\n",
      "recall-DS: 0.7703180212014131\n",
      "f1-measure-DS: 0.7970749542961107\n",
      "precision-OG: 0.831615120274914\n",
      "recall-OG: 0.8249999999999998\n",
      "f1-measure-OG: 0.8282943525384553\n",
      "precision-untyped: 0.7658338175479372\n",
      "recall-untyped: 0.8289308176100629\n",
      "f1-measure-untyped: 0.7961340984596301\n",
      "precision-GP: 0.6335616438356163\n",
      "recall-GP: 0.8665105386416859\n",
      "f1-measure-GP: 0.73194856577641\n",
      "precision-overall: 0.7635095874491574\n",
      "recall-overall: 0.8264150943396227\n",
      "f1-measure-overall: 0.7937179099969299\n"
     ]
    },
    {
     "name": "stderr",
     "output_type": "stream",
     "text": [
      " 31%|███▏      | 5050/16068 [00:16<00:37, 295.49it/s]"
     ]
    },
    {
     "name": "stdout",
     "output_type": "stream",
     "text": [
      "precision-DS: 0.844221105527638\n",
      "recall-DS: 0.7417218543046356\n",
      "f1-measure-DS: 0.7896592244417832\n",
      "precision-OG: 0.8486646884272996\n",
      "recall-OG: 0.840352595494613\n",
      "f1-measure-OG: 0.8444881889763278\n",
      "precision-untyped: 0.7938638542665388\n",
      "recall-untyped: 0.8284142071035517\n",
      "f1-measure-untyped: 0.8107711138310394\n",
      "precision-GP: 0.6706056129985228\n",
      "recall-GP: 0.8647619047619046\n",
      "f1-measure-GP: 0.7554076539101006\n",
      "precision-overall: 0.7900287631831256\n",
      "recall-overall: 0.8244122061030515\n",
      "f1-measure-overall: 0.8068543451651888\n"
     ]
    },
    {
     "name": "stderr",
     "output_type": "stream",
     "text": [
      " 38%|███▊      | 6054/16068 [00:20<00:36, 277.26it/s]"
     ]
    },
    {
     "name": "stdout",
     "output_type": "stream",
     "text": [
      "precision-DS: 0.8262910798122064\n",
      "recall-DS: 0.7489361702127658\n",
      "f1-measure-DS: 0.7857142857142356\n",
      "precision-OG: 0.8305332359386414\n",
      "recall-OG: 0.8529632408102026\n",
      "f1-measure-OG: 0.8415988156920301\n",
      "precision-untyped: 0.7916666666666666\n",
      "recall-untyped: 0.836969946480033\n",
      "f1-measure-untyped: 0.8136882129277067\n",
      "precision-GP: 0.6921086675291073\n",
      "recall-GP: 0.8546325878594248\n",
      "f1-measure-GP: 0.7648320228734315\n",
      "precision-overall: 0.7881619937694704\n",
      "recall-overall: 0.8332647179909428\n",
      "f1-measure-overall: 0.8100860516309286\n"
     ]
    },
    {
     "name": "stderr",
     "output_type": "stream",
     "text": [
      " 44%|████▍     | 7046/16068 [00:23<00:32, 274.10it/s]"
     ]
    },
    {
     "name": "stdout",
     "output_type": "stream",
     "text": [
      "precision-DS: 0.829525483304042\n",
      "recall-DS: 0.7352024922118379\n",
      "f1-measure-DS: 0.7795210569776545\n",
      "precision-OG: 0.835608646188851\n",
      "recall-OG: 0.8620892018779343\n",
      "f1-measure-OG: 0.8486424032350743\n",
      "precision-untyped: 0.8116164720344192\n",
      "recall-untyped: 0.844309462915601\n",
      "f1-measure-untyped: 0.8276402381698027\n",
      "precision-GP: 0.7108953613807982\n",
      "recall-GP: 0.8427109974424551\n",
      "f1-measure-GP: 0.7712112346400908\n",
      "precision-overall: 0.7990165949600492\n",
      "recall-overall: 0.8312020460358056\n",
      "f1-measure-overall: 0.8147916013788281\n"
     ]
    },
    {
     "name": "stderr",
     "output_type": "stream",
     "text": [
      " 50%|████▉     | 8028/16068 [00:27<00:28, 279.93it/s]"
     ]
    },
    {
     "name": "stdout",
     "output_type": "stream",
     "text": [
      "precision-DS: 0.810623556581986\n",
      "recall-DS: 0.6999002991026918\n",
      "f1-measure-DS: 0.751203852327398\n",
      "precision-OG: 0.828421052631579\n",
      "recall-OG: 0.8672176308539945\n",
      "f1-measure-OG: 0.8473755047105826\n",
      "precision-untyped: 0.8010597302504817\n",
      "recall-untyped: 0.8386283408976298\n",
      "f1-measure-untyped: 0.8194136486818915\n",
      "precision-GP: 0.727994227994228\n",
      "recall-GP: 0.8789198606271778\n",
      "f1-measure-GP: 0.7963693764798242\n",
      "precision-overall: 0.7911849710982659\n",
      "recall-overall: 0.8282904689863843\n",
      "f1-measure-overall: 0.8093126385808814\n"
     ]
    },
    {
     "name": "stderr",
     "output_type": "stream",
     "text": [
      " 56%|█████▋    | 9069/16068 [00:30<00:22, 309.88it/s]"
     ]
    },
    {
     "name": "stdout",
     "output_type": "stream",
     "text": [
      "precision-DS: 0.8108108108108107\n",
      "recall-DS: 0.7082152974504249\n",
      "f1-measure-DS: 0.7560483870967244\n",
      "precision-OG: 0.8320258421781265\n",
      "recall-OG: 0.8585714285714285\n",
      "f1-measure-OG: 0.8450902273259402\n",
      "precision-untyped: 0.7975634517766498\n",
      "recall-untyped: 0.8393162393162393\n",
      "f1-measure-untyped: 0.8179073399270714\n",
      "precision-GP: 0.7266775777414075\n",
      "recall-GP: 0.8757396449704142\n",
      "f1-measure-GP: 0.794275491949861\n",
      "precision-overall: 0.7888324873096447\n",
      "recall-overall: 0.8301282051282052\n",
      "f1-measure-overall: 0.8089536699635107\n"
     ]
    },
    {
     "name": "stderr",
     "output_type": "stream",
     "text": [
      " 63%|██████▎   | 10071/16068 [00:33<00:15, 385.08it/s]"
     ]
    },
    {
     "name": "stdout",
     "output_type": "stream",
     "text": [
      "precision-DS: 0.8079399141630901\n",
      "recall-DS: 0.7090395480225988\n",
      "f1-measure-DS: 0.7552657973921266\n",
      "precision-OG: 0.8320258421781265\n",
      "recall-OG: 0.8585714285714285\n",
      "f1-measure-OG: 0.8450902273259402\n",
      "precision-untyped: 0.7908910891089109\n",
      "recall-untyped: 0.840842105263158\n",
      "f1-measure-untyped: 0.8151020408162767\n",
      "precision-GP: 0.7150179395181958\n",
      "recall-GP: 0.878463476070529\n",
      "f1-measure-GP: 0.7883582933031436\n",
      "precision-overall: 0.7823762376237624\n",
      "recall-overall: 0.8317894736842105\n",
      "f1-measure-overall: 0.8063265306121952\n"
     ]
    },
    {
     "name": "stderr",
     "output_type": "stream",
     "text": [
      " 69%|██████▊   | 11034/16068 [00:36<00:23, 216.73it/s]"
     ]
    },
    {
     "name": "stdout",
     "output_type": "stream",
     "text": [
      "precision-DS: 0.7610364683301344\n",
      "recall-DS: 0.7086684539767649\n",
      "f1-measure-DS: 0.7339194817213752\n",
      "precision-OG: 0.8349909584086799\n",
      "recall-OG: 0.8602701443875175\n",
      "f1-measure-OG: 0.8474420738701037\n",
      "precision-untyped: 0.7839529590288316\n",
      "recall-untyped: 0.8402114250863997\n",
      "f1-measure-untyped: 0.8111078402511522\n",
      "precision-GP: 0.7185332011892963\n",
      "recall-GP: 0.8771929824561403\n",
      "f1-measure-GP: 0.7899754835194275\n",
      "precision-overall: 0.7757966616084977\n",
      "recall-overall: 0.8314698109371823\n",
      "f1-measure-overall: 0.8026690216857513\n"
     ]
    },
    {
     "name": "stderr",
     "output_type": "stream",
     "text": [
      " 75%|███████▍  | 12048/16068 [00:39<00:13, 308.28it/s]"
     ]
    },
    {
     "name": "stdout",
     "output_type": "stream",
     "text": [
      "precision-DS: 0.7546374367622259\n",
      "recall-DS: 0.6842507645259939\n",
      "f1-measure-DS: 0.7177225340817465\n",
      "precision-OG: 0.8353467561521253\n",
      "recall-OG: 0.8536808413351623\n",
      "f1-measure-OG: 0.8444142921754363\n",
      "precision-untyped: 0.7834666666666666\n",
      "recall-untyped: 0.8291627469426153\n",
      "f1-measure-untyped: 0.8056672760511384\n",
      "precision-GP: 0.7268602540834845\n",
      "recall-GP: 0.8802197802197802\n",
      "f1-measure-GP: 0.7962226640158551\n",
      "precision-overall: 0.7758222222222222\n",
      "recall-overall: 0.8210724365004703\n",
      "f1-measure-overall: 0.7978062157220706\n"
     ]
    },
    {
     "name": "stderr",
     "output_type": "stream",
     "text": [
      " 81%|████████  | 13054/16068 [00:43<00:10, 298.85it/s]"
     ]
    },
    {
     "name": "stdout",
     "output_type": "stream",
     "text": [
      "precision-DS: 0.7530249110320285\n",
      "recall-DS: 0.702523240371846\n",
      "f1-measure-DS: 0.7268979732050342\n",
      "precision-OG: 0.8414529914529915\n",
      "recall-OG: 0.8557149065623642\n",
      "f1-measure-OG: 0.8485240249945631\n",
      "precision-untyped: 0.7909279667784699\n",
      "recall-untyped: 0.8343723673125526\n",
      "f1-measure-untyped: 0.8120695309937185\n",
      "precision-GP: 0.744435612082671\n",
      "recall-GP: 0.8801691729323309\n",
      "f1-measure-GP: 0.8066322136089082\n",
      "precision-overall: 0.7826225842517169\n",
      "recall-overall: 0.8256107834877844\n",
      "f1-measure-overall: 0.8035421449655126\n"
     ]
    },
    {
     "name": "stderr",
     "output_type": "stream",
     "text": [
      " 87%|████████▋ | 14039/16068 [00:46<00:06, 332.36it/s]"
     ]
    },
    {
     "name": "stdout",
     "output_type": "stream",
     "text": [
      "precision-DS: 0.7703134996801023\n",
      "recall-DS: 0.7175208581644815\n",
      "f1-measure-DS: 0.7429805615550257\n",
      "precision-OG: 0.822739834188709\n",
      "recall-OG: 0.8464662875710804\n",
      "f1-measure-OG: 0.8344344344343846\n",
      "precision-untyped: 0.787956698240866\n",
      "recall-untyped: 0.8371190339275446\n",
      "f1-measure-untyped: 0.8117942283562863\n",
      "precision-GP: 0.7534911961141469\n",
      "recall-GP: 0.8813920454545454\n",
      "f1-measure-GP: 0.8124386252045329\n",
      "precision-overall: 0.7807848443843031\n",
      "recall-overall: 0.8294997124784359\n",
      "f1-measure-overall: 0.8044054091732388\n"
     ]
    },
    {
     "name": "stderr",
     "output_type": "stream",
     "text": [
      " 94%|█████████▎| 15040/16068 [00:49<00:03, 287.74it/s]"
     ]
    },
    {
     "name": "stdout",
     "output_type": "stream",
     "text": [
      "precision-DS: 0.7842105263157895\n",
      "recall-DS: 0.6500242365487154\n",
      "f1-measure-DS: 0.7108401802278859\n",
      "precision-OG: 0.8145624103299857\n",
      "recall-OG: 0.8511994002998501\n",
      "f1-measure-OG: 0.8324780058650527\n",
      "precision-untyped: 0.795763814933144\n",
      "recall-untyped: 0.8154480417121377\n",
      "f1-measure-untyped: 0.8054856869085617\n",
      "precision-GP: 0.77181887174298\n",
      "recall-GP: 0.8677474402730375\n",
      "f1-measure-GP: 0.8169768375953445\n",
      "precision-overall: 0.7884274050408235\n",
      "recall-overall: 0.8079301564205166\n",
      "f1-measure-overall: 0.7980596478619694\n"
     ]
    },
    {
     "name": "stderr",
     "output_type": "stream",
     "text": [
      "100%|█████████▉| 16053/16068 [00:53<00:00, 298.88it/s]"
     ]
    },
    {
     "name": "stdout",
     "output_type": "stream",
     "text": [
      "precision-DS: 0.7939826619071902\n",
      "recall-DS: 0.6714100905562742\n",
      "f1-measure-DS: 0.7275700934578944\n",
      "precision-OG: 0.8193656093489149\n",
      "recall-OG: 0.8384010932695592\n",
      "f1-measure-OG: 0.8287740628165661\n",
      "precision-untyped: 0.7967833079765269\n",
      "recall-untyped: 0.8145761582046439\n",
      "f1-measure-untyped: 0.8055814975552981\n",
      "precision-GP: 0.7668393782383419\n",
      "recall-GP: 0.8671105193075899\n",
      "f1-measure-GP: 0.8138982627171106\n",
      "precision-overall: 0.7897196261682243\n",
      "recall-overall: 0.8073547383624041\n",
      "f1-measure-overall: 0.7984398176124314\n"
     ]
    },
    {
     "name": "stderr",
     "output_type": "stream",
     "text": [
      "100%|██████████| 16068/16068 [00:53<00:00, 300.52it/s]\n",
      "  0%|          | 0/79401 [00:00<?, ?it/s]"
     ]
    },
    {
     "name": "stdout",
     "output_type": "stream",
     "text": [
      "precision-untyped: \t\t 0.7959626655090081\n",
      "recall-untyped: \t\t 0.8146173497722982\n",
      "f1-measure-untyped: \t\t 0.8051819728824225\n",
      "precision-overall: \t\t 0.7889081831994791\n",
      "recall-overall: \t\t 0.8073975341552816\n",
      "f1-measure-overall: \t\t 0.798045781412916\n",
      "2--7\n"
     ]
    },
    {
     "name": "stderr",
     "output_type": "stream",
     "text": [
      "  8%|▊         | 6528/79401 [00:16<03:06, 390.91it/s]"
     ]
    },
    {
     "name": "stdout",
     "output_type": "stream",
     "text": [
      "sum loss: 789.0531138709048\n"
     ]
    },
    {
     "name": "stderr",
     "output_type": "stream",
     "text": [
      " 16%|█▋        | 12928/79401 [00:33<02:54, 381.83it/s]"
     ]
    },
    {
     "name": "stdout",
     "output_type": "stream",
     "text": [
      "sum loss: 1662.994472358172\n"
     ]
    },
    {
     "name": "stderr",
     "output_type": "stream",
     "text": [
      " 24%|██▍       | 19328/79401 [00:50<02:24, 417.03it/s]"
     ]
    },
    {
     "name": "stdout",
     "output_type": "stream",
     "text": [
      "sum loss: 2741.7545115830508\n"
     ]
    },
    {
     "name": "stderr",
     "output_type": "stream",
     "text": [
      " 32%|███▏      | 25664/79401 [01:06<02:15, 398.04it/s]"
     ]
    },
    {
     "name": "stdout",
     "output_type": "stream",
     "text": [
      "sum loss: 3566.958223742644\n"
     ]
    },
    {
     "name": "stderr",
     "output_type": "stream",
     "text": [
      " 40%|████      | 32128/79401 [01:23<02:09, 364.58it/s]"
     ]
    },
    {
     "name": "stdout",
     "output_type": "stream",
     "text": [
      "sum loss: 4499.796090602307\n"
     ]
    },
    {
     "name": "stderr",
     "output_type": "stream",
     "text": [
      " 49%|████▊     | 38528/79401 [01:40<01:45, 386.89it/s]"
     ]
    },
    {
     "name": "stdout",
     "output_type": "stream",
     "text": [
      "sum loss: 5447.154632401376\n"
     ]
    },
    {
     "name": "stderr",
     "output_type": "stream",
     "text": [
      " 57%|█████▋    | 44928/79401 [01:57<01:25, 403.48it/s]"
     ]
    },
    {
     "name": "stdout",
     "output_type": "stream",
     "text": [
      "sum loss: 6252.384444197218\n"
     ]
    },
    {
     "name": "stderr",
     "output_type": "stream",
     "text": [
      " 65%|██████▍   | 51328/79401 [02:12<01:06, 420.64it/s]"
     ]
    },
    {
     "name": "stdout",
     "output_type": "stream",
     "text": [
      "sum loss: 7175.922844798653\n"
     ]
    },
    {
     "name": "stderr",
     "output_type": "stream",
     "text": [
      " 73%|███████▎  | 57728/79401 [02:28<00:53, 401.35it/s]"
     ]
    },
    {
     "name": "stdout",
     "output_type": "stream",
     "text": [
      "sum loss: 8071.107955962565\n"
     ]
    },
    {
     "name": "stderr",
     "output_type": "stream",
     "text": [
      " 81%|████████  | 64128/79401 [02:44<00:37, 406.94it/s]"
     ]
    },
    {
     "name": "stdout",
     "output_type": "stream",
     "text": [
      "sum loss: 8942.478207180073\n"
     ]
    },
    {
     "name": "stderr",
     "output_type": "stream",
     "text": [
      " 89%|████████▉ | 70528/79401 [03:00<00:24, 362.28it/s]"
     ]
    },
    {
     "name": "stdout",
     "output_type": "stream",
     "text": [
      "sum loss: 9819.204758079493\n"
     ]
    },
    {
     "name": "stderr",
     "output_type": "stream",
     "text": [
      " 97%|█████████▋| 76928/79401 [03:16<00:06, 401.45it/s]"
     ]
    },
    {
     "name": "stdout",
     "output_type": "stream",
     "text": [
      "sum loss: 10800.529628373919\n"
     ]
    },
    {
     "name": "stderr",
     "output_type": "stream",
     "text": [
      "100%|██████████| 79401/79401 [03:23<00:00, 390.23it/s]\n"
     ]
    },
    {
     "name": "stdout",
     "output_type": "stream",
     "text": [
      "Saved model to /nfs/gns/literature/Santosh_Tirunagari/GitHub/spacy_models/pretrain_exp/2\n",
      "Loading from /nfs/gns/literature/Santosh_Tirunagari/GitHub/spacy_models/pretrain_exp/2\n"
     ]
    },
    {
     "name": "stderr",
     "output_type": "stream",
     "text": [
      "  0%|          | 29/16068 [00:00<00:56, 286.34it/s]"
     ]
    },
    {
     "name": "stdout",
     "output_type": "stream",
     "text": [
      "Evaluating 16068 rows\n"
     ]
    },
    {
     "name": "stderr",
     "output_type": "stream",
     "text": [
      "  6%|▋         | 1033/16068 [00:03<00:47, 318.50it/s]"
     ]
    },
    {
     "name": "stdout",
     "output_type": "stream",
     "text": [
      "precision-DS: 0.8267716535433064\n",
      "recall-DS: 0.8974358974358967\n",
      "f1-measure-DS: 0.8606557377048675\n",
      "precision-OG: 0.6216216216216212\n",
      "recall-OG: 0.6092715231788075\n",
      "f1-measure-OG: 0.6153846153845651\n",
      "precision-untyped: 0.7902813299232734\n",
      "recall-untyped: 0.7984496124031005\n",
      "f1-measure-untyped: 0.794344473007662\n",
      "precision-GP: 0.9655172413793095\n",
      "recall-GP: 0.9411764705882345\n",
      "f1-measure-GP: 0.9531914893616513\n",
      "precision-overall: 0.7902813299232734\n",
      "recall-overall: 0.7984496124031005\n",
      "f1-measure-overall: 0.794344473007662\n"
     ]
    },
    {
     "name": "stderr",
     "output_type": "stream",
     "text": [
      " 13%|█▎        | 2064/16068 [00:06<00:41, 334.58it/s]"
     ]
    },
    {
     "name": "stdout",
     "output_type": "stream",
     "text": [
      "precision-DS: 0.820652173913043\n",
      "recall-DS: 0.8483146067415724\n",
      "f1-measure-DS: 0.8342541436463585\n",
      "precision-OG: 0.8187499999999998\n",
      "recall-OG: 0.7955465587044532\n",
      "f1-measure-OG: 0.8069815195071367\n",
      "precision-untyped: 0.8006795016987541\n",
      "recall-untyped: 0.8211382113821137\n",
      "f1-measure-untyped: 0.8107798165137114\n",
      "precision-GP: 0.744292237442922\n",
      "recall-GP: 0.8624338624338619\n",
      "f1-measure-GP: 0.7990196078430871\n",
      "precision-overall: 0.8006795016987541\n",
      "recall-overall: 0.8211382113821137\n",
      "f1-measure-overall: 0.8107798165137114\n"
     ]
    },
    {
     "name": "stderr",
     "output_type": "stream",
     "text": [
      " 19%|█▉        | 3037/16068 [00:10<00:48, 270.89it/s]"
     ]
    },
    {
     "name": "stdout",
     "output_type": "stream",
     "text": [
      "precision-DS: 0.8055555555555552\n",
      "recall-DS: 0.7777777777777775\n",
      "f1-measure-DS: 0.7914230019492675\n",
      "precision-OG: 0.8183183183183181\n",
      "recall-OG: 0.8183183183183181\n",
      "f1-measure-OG: 0.8183183183182682\n",
      "precision-untyped: 0.7305841924398625\n",
      "recall-untyped: 0.8233927188226181\n",
      "f1-measure-untyped: 0.7742170429715451\n",
      "precision-GP: 0.5828677839851023\n",
      "recall-GP: 0.8598901098901096\n",
      "f1-measure-GP: 0.6947835738068329\n",
      "precision-overall: 0.7292096219931271\n",
      "recall-overall: 0.8218435321456236\n",
      "f1-measure-overall: 0.7727603787326524\n"
     ]
    },
    {
     "name": "stderr",
     "output_type": "stream",
     "text": [
      " 25%|██▌       | 4046/16068 [00:13<00:42, 282.71it/s]"
     ]
    },
    {
     "name": "stdout",
     "output_type": "stream",
     "text": [
      "precision-DS: 0.8044280442804425\n",
      "recall-DS: 0.7703180212014131\n",
      "f1-measure-DS: 0.7870036101082529\n",
      "precision-OG: 0.8259887005649716\n",
      "recall-OG: 0.8306818181818181\n",
      "f1-measure-OG: 0.828328611897967\n",
      "precision-untyped: 0.7521318931210915\n",
      "recall-untyped: 0.8320754716981132\n",
      "f1-measure-untyped: 0.7900865930127898\n",
      "precision-GP: 0.6152570480928689\n",
      "recall-GP: 0.8688524590163932\n",
      "f1-measure-GP: 0.7203883495145145\n",
      "precision-overall: 0.7504263786242183\n",
      "recall-overall: 0.8301886792452831\n",
      "f1-measure-overall: 0.788295013436797\n"
     ]
    },
    {
     "name": "stderr",
     "output_type": "stream",
     "text": [
      " 31%|███▏      | 5035/16068 [00:16<00:37, 297.84it/s]"
     ]
    },
    {
     "name": "stdout",
     "output_type": "stream",
     "text": [
      "precision-DS: 0.8454545454545452\n",
      "recall-DS: 0.8211920529801322\n",
      "f1-measure-DS: 0.8331466965285053\n",
      "precision-OG: 0.8424657534246575\n",
      "recall-OG: 0.8432908912830558\n",
      "f1-measure-OG: 0.84287812041111\n",
      "precision-untyped: 0.7874709976798144\n",
      "recall-untyped: 0.8489244622311155\n",
      "f1-measure-untyped: 0.8170438131920541\n",
      "precision-GP: 0.6565656565656565\n",
      "recall-GP: 0.8666666666666665\n",
      "f1-measure-GP: 0.7471264367815601\n",
      "precision-overall: 0.7832946635730859\n",
      "recall-overall: 0.8444222111055528\n",
      "f1-measure-overall: 0.8127106403466039\n"
     ]
    },
    {
     "name": "stderr",
     "output_type": "stream",
     "text": [
      " 38%|███▊      | 6038/16068 [00:19<00:36, 271.74it/s]"
     ]
    },
    {
     "name": "stdout",
     "output_type": "stream",
     "text": [
      "precision-DS: 0.8290598290598289\n",
      "recall-DS: 0.8255319148936168\n",
      "f1-measure-DS: 0.8272921108741503\n",
      "precision-OG: 0.8276856524873828\n",
      "recall-OG: 0.8612153038259565\n",
      "f1-measure-OG: 0.8441176470587735\n",
      "precision-untyped: 0.7872260015117158\n",
      "recall-untyped: 0.8575545491972005\n",
      "f1-measure-untyped: 0.8208866995073394\n",
      "precision-GP: 0.6801517067003792\n",
      "recall-GP: 0.8594249201277954\n",
      "f1-measure-GP: 0.7593507410020678\n",
      "precision-overall: 0.7838246409674982\n",
      "recall-overall: 0.8538493207081104\n",
      "f1-measure-overall: 0.8173399014777828\n"
     ]
    },
    {
     "name": "stderr",
     "output_type": "stream",
     "text": [
      " 44%|████▍     | 7034/16068 [00:23<00:32, 275.29it/s]"
     ]
    },
    {
     "name": "stdout",
     "output_type": "stream",
     "text": [
      "precision-DS: 0.8386075949367087\n",
      "recall-DS: 0.8255451713395637\n",
      "f1-measure-DS: 0.8320251177393534\n",
      "precision-OG: 0.8463735008566533\n",
      "recall-OG: 0.8697183098591549\n",
      "f1-measure-OG: 0.8578871201157242\n",
      "precision-untyped: 0.8067603948549207\n",
      "recall-untyped: 0.8622122762148338\n",
      "f1-measure-untyped: 0.8335651367639741\n",
      "precision-GP: 0.6937499999999999\n",
      "recall-GP: 0.8516624040920715\n",
      "f1-measure-GP: 0.7646383467278494\n",
      "precision-overall: 0.8010768770565361\n",
      "recall-overall: 0.8561381074168798\n",
      "f1-measure-overall: 0.8276927831864747\n"
     ]
    },
    {
     "name": "stderr",
     "output_type": "stream",
     "text": [
      " 50%|█████     | 8043/16068 [00:26<00:28, 278.17it/s]"
     ]
    },
    {
     "name": "stdout",
     "output_type": "stream",
     "text": [
      "precision-DS: 0.8196544276457882\n",
      "recall-DS: 0.756729810568295\n",
      "f1-measure-DS: 0.786936236391863\n",
      "precision-OG: 0.838351822503962\n",
      "recall-OG: 0.8743801652892562\n",
      "f1-measure-OG: 0.8559870550161314\n",
      "precision-untyped: 0.7967977395808806\n",
      "recall-untyped: 0.8532526475037822\n",
      "f1-measure-untyped: 0.8240594179958103\n",
      "precision-GP: 0.7128851540616247\n",
      "recall-GP: 0.8867595818815331\n",
      "f1-measure-GP: 0.790372670807404\n",
      "precision-overall: 0.7920885330821756\n",
      "recall-overall: 0.848209783156833\n",
      "f1-measure-overall: 0.8191890904662839\n"
     ]
    },
    {
     "name": "stderr",
     "output_type": "stream",
     "text": [
      " 56%|█████▋    | 9057/16068 [00:30<00:23, 301.66it/s]"
     ]
    },
    {
     "name": "stdout",
     "output_type": "stream",
     "text": [
      "precision-DS: 0.8191056910569104\n",
      "recall-DS: 0.76109537299339\n",
      "f1-measure-DS: 0.7890357317669594\n",
      "precision-OG: 0.8462971588262692\n",
      "recall-OG: 0.8652380952380953\n",
      "f1-measure-OG: 0.8556628208146427\n",
      "precision-untyped: 0.7944932162809257\n",
      "recall-untyped: 0.8508547008547008\n",
      "f1-measure-untyped: 0.8217086256706062\n",
      "precision-GP: 0.7107921318447634\n",
      "recall-GP: 0.8790269559500329\n",
      "f1-measure-GP: 0.7860082304526256\n",
      "precision-overall: 0.7901037509976058\n",
      "recall-overall: 0.8461538461538461\n",
      "f1-measure-overall: 0.8171687990094425\n"
     ]
    },
    {
     "name": "stderr",
     "output_type": "stream",
     "text": [
      " 63%|██████▎   | 10073/16068 [00:33<00:15, 387.43it/s]"
     ]
    },
    {
     "name": "stdout",
     "output_type": "stream",
     "text": [
      "precision-DS: 0.8171717171717171\n",
      "recall-DS: 0.7617702448210922\n",
      "f1-measure-DS: 0.7884990253410807\n",
      "precision-OG: 0.8462971588262692\n",
      "recall-OG: 0.8652380952380953\n",
      "f1-measure-OG: 0.8556628208146427\n",
      "precision-untyped: 0.788315481986368\n",
      "recall-untyped: 0.8522105263157894\n",
      "f1-measure-untyped: 0.8190187152250384\n",
      "precision-GP: 0.7007007007007007\n",
      "recall-GP: 0.8816120906801007\n",
      "f1-measure-GP: 0.7808142777467438\n",
      "precision-overall: 0.784031158714703\n",
      "recall-overall: 0.8475789473684211\n",
      "f1-measure-overall: 0.814567526555337\n"
     ]
    },
    {
     "name": "stderr",
     "output_type": "stream",
     "text": [
      " 69%|██████▊   | 11045/16068 [00:36<00:22, 220.11it/s]"
     ]
    },
    {
     "name": "stdout",
     "output_type": "stream",
     "text": [
      "precision-DS: 0.7718181818181818\n",
      "recall-DS: 0.7587131367292225\n",
      "f1-measure-DS: 0.765209553853037\n",
      "precision-OG: 0.8490652074783401\n",
      "recall-OG: 0.8672566371681416\n",
      "f1-measure-OG: 0.8580645161289822\n",
      "precision-untyped: 0.7806150978564772\n",
      "recall-untyped: 0.8513925594633055\n",
      "f1-measure-untyped: 0.8144690781796468\n",
      "precision-GP: 0.7022200772200772\n",
      "recall-GP: 0.8802177858439202\n",
      "f1-measure-GP: 0.7812080536912259\n",
      "precision-overall: 0.7765144454799627\n",
      "recall-overall: 0.8469201057125432\n",
      "f1-measure-overall: 0.8101905873200591\n"
     ]
    },
    {
     "name": "stderr",
     "output_type": "stream",
     "text": [
      " 75%|███████▍  | 12026/16068 [00:39<00:12, 321.61it/s]"
     ]
    },
    {
     "name": "stdout",
     "output_type": "stream",
     "text": [
      "precision-DS: 0.7647058823529411\n",
      "recall-DS: 0.7255351681957186\n",
      "f1-measure-DS: 0.7446057277363173\n",
      "precision-OG: 0.8492779783393501\n",
      "recall-OG: 0.8605395518975766\n",
      "f1-measure-OG: 0.8548716784010402\n",
      "precision-untyped: 0.7803043554311702\n",
      "recall-untyped: 0.8393226716839135\n",
      "f1-measure-untyped: 0.8087382160985723\n",
      "precision-GP: 0.7115044247787611\n",
      "recall-GP: 0.8835164835164835\n",
      "f1-measure-GP: 0.7882352941175976\n",
      "precision-overall: 0.7764561833129263\n",
      "recall-overall: 0.8351834430856068\n",
      "f1-measure-overall: 0.8047498187091596\n"
     ]
    },
    {
     "name": "stderr",
     "output_type": "stream",
     "text": [
      " 81%|████████  | 13038/16068 [00:42<00:10, 294.97it/s]"
     ]
    },
    {
     "name": "stdout",
     "output_type": "stream",
     "text": [
      "precision-DS: 0.7628512679917752\n",
      "recall-DS: 0.7390438247011952\n",
      "f1-measure-DS: 0.7507588532883143\n",
      "precision-OG: 0.8548664944013781\n",
      "recall-OG: 0.8626684050412864\n",
      "f1-measure-OG: 0.8587497296127555\n",
      "precision-untyped: 0.7910683288622377\n",
      "recall-untyped: 0.8446503791069924\n",
      "f1-measure-untyped: 0.8169817470664428\n",
      "precision-GP: 0.7374804381846636\n",
      "recall-GP: 0.8858082706766918\n",
      "f1-measure-GP: 0.8048676345003775\n",
      "precision-overall: 0.7863342275524696\n",
      "recall-overall: 0.8395956192080876\n",
      "f1-measure-overall: 0.8120925684484507\n"
     ]
    },
    {
     "name": "stderr",
     "output_type": "stream",
     "text": [
      " 88%|████████▊ | 14070/16068 [00:46<00:05, 340.80it/s]"
     ]
    },
    {
     "name": "stdout",
     "output_type": "stream",
     "text": [
      "precision-DS: 0.7762669962917181\n",
      "recall-DS: 0.7485101311084624\n",
      "f1-measure-DS: 0.7621359223300472\n",
      "precision-OG: 0.8377733598409542\n",
      "recall-OG: 0.855808285946385\n",
      "f1-measure-OG: 0.8466947960618347\n",
      "precision-untyped: 0.790058949624866\n",
      "recall-untyped: 0.847757331799885\n",
      "f1-measure-untyped: 0.8178918169208932\n",
      "precision-GP: 0.7511257880516361\n",
      "recall-GP: 0.8884943181818182\n",
      "f1-measure-GP: 0.8140556368959972\n",
      "precision-overall: 0.7857717041800643\n",
      "recall-overall: 0.8431569867740081\n",
      "f1-measure-overall: 0.8134535367544576\n"
     ]
    },
    {
     "name": "stderr",
     "output_type": "stream",
     "text": [
      " 94%|█████████▎| 15046/16068 [00:49<00:03, 290.84it/s]"
     ]
    },
    {
     "name": "stdout",
     "output_type": "stream",
     "text": [
      "precision-DS: 0.7915966386554621\n",
      "recall-DS: 0.6849248666989821\n",
      "f1-measure-DS: 0.7344074844074346\n",
      "precision-OG: 0.8301955104996379\n",
      "recall-OG: 0.8594452773613194\n",
      "f1-measure-OG: 0.8445672191528046\n",
      "precision-untyped: 0.7990161630358398\n",
      "recall-untyped: 0.8272098945070935\n",
      "f1-measure-untyped: 0.8128686327077249\n",
      "precision-GP: 0.7709847156101228\n",
      "recall-GP: 0.8751422070534699\n",
      "f1-measure-GP: 0.8197682163313743\n",
      "precision-overall: 0.7944483485593816\n",
      "recall-overall: 0.822480902146235\n",
      "f1-measure-overall: 0.8082216264521396\n"
     ]
    },
    {
     "name": "stderr",
     "output_type": "stream",
     "text": [
      "100%|█████████▉| 16033/16068 [00:52<00:00, 304.61it/s]"
     ]
    },
    {
     "name": "stdout",
     "output_type": "stream",
     "text": [
      "precision-DS: 0.7995085995085995\n",
      "recall-DS: 0.7015955153083225\n",
      "f1-measure-DS: 0.747358750574135\n",
      "precision-OG: 0.8359558085035153\n",
      "recall-OG: 0.8530919029723266\n",
      "f1-measure-OG: 0.8444369293202071\n",
      "precision-untyped: 0.8012262020006453\n",
      "recall-untyped: 0.8275747139206755\n",
      "f1-measure-untyped: 0.8141873428789531\n",
      "precision-GP: 0.767953216374269\n",
      "recall-GP: 0.8743009320905459\n",
      "f1-measure-GP: 0.8176836861767871\n",
      "precision-overall: 0.7967086156824782\n",
      "recall-overall: 0.8229085657149205\n",
      "f1-measure-overall: 0.8095966772324344\n"
     ]
    },
    {
     "name": "stderr",
     "output_type": "stream",
     "text": [
      "100%|██████████| 16068/16068 [00:53<00:00, 302.48it/s]\n",
      "  0%|          | 0/79401 [00:00<?, ?it/s]"
     ]
    },
    {
     "name": "stdout",
     "output_type": "stream",
     "text": [
      "precision-untyped: \t\t 0.8005802084452562\n",
      "recall-untyped: \t\t 0.827613017882928\n",
      "f1-measure-untyped: \t\t 0.8138722009830194\n",
      "precision-overall: \t\t 0.7960674760932631\n",
      "recall-overall: \t\t 0.822947906253471\n",
      "f1-measure-overall: \t\t 0.8092845439649965\n",
      "3--7\n"
     ]
    },
    {
     "name": "stderr",
     "output_type": "stream",
     "text": [
      "  8%|▊         | 6528/79401 [00:16<03:07, 388.91it/s]"
     ]
    },
    {
     "name": "stdout",
     "output_type": "stream",
     "text": [
      "sum loss: 660.4590785373875\n"
     ]
    },
    {
     "name": "stderr",
     "output_type": "stream",
     "text": [
      " 16%|█▋        | 12928/79401 [00:32<02:43, 407.54it/s]"
     ]
    },
    {
     "name": "stdout",
     "output_type": "stream",
     "text": [
      "sum loss: 1621.0477723391086\n"
     ]
    },
    {
     "name": "stderr",
     "output_type": "stream",
     "text": [
      " 24%|██▍       | 19328/79401 [00:49<02:39, 377.61it/s]"
     ]
    },
    {
     "name": "stdout",
     "output_type": "stream",
     "text": [
      "sum loss: 2398.741829179202\n"
     ]
    },
    {
     "name": "stderr",
     "output_type": "stream",
     "text": [
      " 32%|███▏      | 25728/79401 [01:05<02:20, 382.33it/s]"
     ]
    },
    {
     "name": "stdout",
     "output_type": "stream",
     "text": [
      "sum loss: 3088.53327742864\n"
     ]
    },
    {
     "name": "stderr",
     "output_type": "stream",
     "text": [
      " 40%|████      | 32128/79401 [01:22<01:56, 406.04it/s]"
     ]
    },
    {
     "name": "stdout",
     "output_type": "stream",
     "text": [
      "sum loss: 3790.180421391611\n"
     ]
    },
    {
     "name": "stderr",
     "output_type": "stream",
     "text": [
      " 49%|████▊     | 38528/79401 [01:38<01:53, 361.12it/s]"
     ]
    },
    {
     "name": "stdout",
     "output_type": "stream",
     "text": [
      "sum loss: 4497.485006601346\n"
     ]
    },
    {
     "name": "stderr",
     "output_type": "stream",
     "text": [
      " 57%|█████▋    | 44928/79401 [01:54<01:31, 377.14it/s]"
     ]
    },
    {
     "name": "stdout",
     "output_type": "stream",
     "text": [
      "sum loss: 5352.3270971054735\n"
     ]
    },
    {
     "name": "stderr",
     "output_type": "stream",
     "text": [
      " 65%|██████▍   | 51328/79401 [02:11<01:13, 383.52it/s]"
     ]
    },
    {
     "name": "stdout",
     "output_type": "stream",
     "text": [
      "sum loss: 6198.949410180707\n"
     ]
    },
    {
     "name": "stderr",
     "output_type": "stream",
     "text": [
      " 73%|███████▎  | 57728/79401 [02:27<00:51, 418.59it/s]"
     ]
    },
    {
     "name": "stdout",
     "output_type": "stream",
     "text": [
      "sum loss: 6948.063555900833\n"
     ]
    },
    {
     "name": "stderr",
     "output_type": "stream",
     "text": [
      " 81%|████████  | 64128/79401 [02:44<00:38, 398.10it/s]"
     ]
    },
    {
     "name": "stdout",
     "output_type": "stream",
     "text": [
      "sum loss: 7700.412241275009\n"
     ]
    },
    {
     "name": "stderr",
     "output_type": "stream",
     "text": [
      " 89%|████████▉ | 70528/79401 [03:00<00:19, 453.52it/s]"
     ]
    },
    {
     "name": "stdout",
     "output_type": "stream",
     "text": [
      "sum loss: 8542.617754227389\n"
     ]
    },
    {
     "name": "stderr",
     "output_type": "stream",
     "text": [
      " 97%|█████████▋| 76864/79401 [03:15<00:06, 390.36it/s]"
     ]
    },
    {
     "name": "stdout",
     "output_type": "stream",
     "text": [
      "sum loss: 9496.121905243754\n"
     ]
    },
    {
     "name": "stderr",
     "output_type": "stream",
     "text": [
      "100%|██████████| 79401/79401 [03:22<00:00, 392.06it/s]\n"
     ]
    },
    {
     "name": "stdout",
     "output_type": "stream",
     "text": [
      "Saved model to /nfs/gns/literature/Santosh_Tirunagari/GitHub/spacy_models/pretrain_exp/3\n",
      "Loading from /nfs/gns/literature/Santosh_Tirunagari/GitHub/spacy_models/pretrain_exp/3\n"
     ]
    },
    {
     "name": "stderr",
     "output_type": "stream",
     "text": [
      "  0%|          | 29/16068 [00:00<00:56, 281.96it/s]"
     ]
    },
    {
     "name": "stdout",
     "output_type": "stream",
     "text": [
      "Evaluating 16068 rows\n"
     ]
    },
    {
     "name": "stderr",
     "output_type": "stream",
     "text": [
      "  6%|▋         | 1033/16068 [00:03<00:46, 320.01it/s]"
     ]
    },
    {
     "name": "stdout",
     "output_type": "stream",
     "text": [
      "precision-DS: 0.8548387096774187\n",
      "recall-DS: 0.9059829059829052\n",
      "f1-measure-DS: 0.8796680497924805\n",
      "precision-OG: 0.6363636363636359\n",
      "recall-OG: 0.6026490066225161\n",
      "f1-measure-OG: 0.6190476190475687\n",
      "precision-untyped: 0.8036649214659684\n",
      "recall-untyped: 0.7932816537467698\n",
      "f1-measure-untyped: 0.7984395318595077\n",
      "precision-GP: 0.9565217391304339\n",
      "recall-GP: 0.9243697478991589\n",
      "f1-measure-GP: 0.9401709401708895\n",
      "precision-overall: 0.8036649214659684\n",
      "recall-overall: 0.7932816537467698\n",
      "f1-measure-overall: 0.7984395318595077\n"
     ]
    },
    {
     "name": "stderr",
     "output_type": "stream",
     "text": [
      " 13%|█▎        | 2045/16068 [00:06<00:40, 348.71it/s]"
     ]
    },
    {
     "name": "stdout",
     "output_type": "stream",
     "text": [
      "precision-DS: 0.8444444444444439\n",
      "recall-DS: 0.8539325842696623\n",
      "f1-measure-DS: 0.8491620111731338\n",
      "precision-OG: 0.837894736842105\n",
      "recall-OG: 0.8056680161943318\n",
      "f1-measure-OG: 0.8214654282765236\n",
      "precision-untyped: 0.8153669724770641\n",
      "recall-untyped: 0.8257839721254354\n",
      "f1-measure-untyped: 0.8205424120022581\n",
      "precision-GP: 0.7419354838709673\n",
      "recall-GP: 0.8518518518518513\n",
      "f1-measure-GP: 0.7931034482758118\n",
      "precision-overall: 0.8153669724770641\n",
      "recall-overall: 0.8257839721254354\n",
      "f1-measure-overall: 0.8205424120022581\n"
     ]
    },
    {
     "name": "stderr",
     "output_type": "stream",
     "text": [
      " 19%|█▉        | 3042/16068 [00:10<00:48, 269.41it/s]"
     ]
    },
    {
     "name": "stdout",
     "output_type": "stream",
     "text": [
      "precision-DS: 0.826612903225806\n",
      "recall-DS: 0.7854406130268196\n",
      "f1-measure-DS: 0.8055009823182209\n",
      "precision-OG: 0.8310502283105021\n",
      "recall-OG: 0.8198198198198197\n",
      "f1-measure-OG: 0.8253968253967754\n",
      "precision-untyped: 0.7307692307692307\n",
      "recall-untyped: 0.8241673121611154\n",
      "f1-measure-untyped: 0.7746632690207002\n",
      "precision-GP: 0.5644283121597095\n",
      "recall-GP: 0.8543956043956041\n",
      "f1-measure-GP: 0.6797814207649793\n",
      "precision-overall: 0.7293956043956044\n",
      "recall-overall: 0.8226181254841208\n",
      "f1-measure-overall: 0.7732071350563754\n"
     ]
    },
    {
     "name": "stderr",
     "output_type": "stream",
     "text": [
      " 25%|██▌       | 4044/16068 [00:13<00:42, 284.10it/s]"
     ]
    },
    {
     "name": "stdout",
     "output_type": "stream",
     "text": [
      "precision-DS: 0.8246268656716415\n",
      "recall-DS: 0.780918727915194\n",
      "f1-measure-DS: 0.8021778584391511\n",
      "precision-OG: 0.8380520951302377\n",
      "recall-OG: 0.8409090909090908\n",
      "f1-measure-OG: 0.8394781622234326\n",
      "precision-untyped: 0.7536806342015855\n",
      "recall-untyped: 0.8371069182389937\n",
      "f1-measure-untyped: 0.793206197854539\n",
      "precision-GP: 0.5967479674796747\n",
      "recall-GP: 0.8594847775175641\n",
      "f1-measure-GP: 0.7044145873320052\n",
      "precision-overall: 0.7519818799546999\n",
      "recall-overall: 0.8352201257861636\n",
      "f1-measure-overall: 0.7914183551846941\n"
     ]
    },
    {
     "name": "stderr",
     "output_type": "stream",
     "text": [
      " 31%|███▏      | 5059/16068 [00:16<00:36, 298.60it/s]"
     ]
    },
    {
     "name": "stdout",
     "output_type": "stream",
     "text": [
      "precision-DS: 0.8452655889145494\n",
      "recall-DS: 0.8079470198675495\n",
      "f1-measure-DS: 0.8261851015800852\n",
      "precision-OG: 0.8530852105778648\n",
      "recall-OG: 0.8530852105778648\n",
      "f1-measure-OG: 0.8530852105778148\n",
      "precision-untyped: 0.7858136300417247\n",
      "recall-untyped: 0.8479239619809905\n",
      "f1-measure-untyped: 0.8156881616938866\n",
      "precision-GP: 0.6372688477951635\n",
      "recall-GP: 0.8533333333333332\n",
      "f1-measure-GP: 0.729641693811026\n",
      "precision-overall: 0.7811775614279092\n",
      "recall-overall: 0.8429214607303652\n",
      "f1-measure-overall: 0.8108758421558693\n"
     ]
    },
    {
     "name": "stderr",
     "output_type": "stream",
     "text": [
      " 38%|███▊      | 6038/16068 [00:19<00:35, 279.86it/s]"
     ]
    },
    {
     "name": "stdout",
     "output_type": "stream",
     "text": [
      "precision-DS: 0.8268398268398266\n",
      "recall-DS: 0.8127659574468084\n",
      "f1-measure-DS: 0.8197424892703361\n",
      "precision-OG: 0.8374277456647399\n",
      "recall-OG: 0.8694673668417104\n",
      "f1-measure-OG: 0.8531468531468033\n",
      "precision-untyped: 0.7849340866290019\n",
      "recall-untyped: 0.8579662412515439\n",
      "f1-measure-untyped: 0.819826907946449\n",
      "precision-GP: 0.6576019777503089\n",
      "recall-GP: 0.8498402555910541\n",
      "f1-measure-GP: 0.7414634146340972\n",
      "precision-overall: 0.7807909604519774\n",
      "recall-overall: 0.8534376286537669\n",
      "f1-measure-overall: 0.8154996066089194\n"
     ]
    },
    {
     "name": "stderr",
     "output_type": "stream",
     "text": [
      " 44%|████▍     | 7044/16068 [00:23<00:32, 278.12it/s]"
     ]
    },
    {
     "name": "stdout",
     "output_type": "stream",
     "text": [
      "precision-DS: 0.8338607594936708\n",
      "recall-DS: 0.820872274143302\n",
      "f1-measure-DS: 0.8273155416012058\n",
      "precision-OG: 0.8529244747302669\n",
      "recall-OG: 0.8814553990610329\n",
      "f1-measure-OG: 0.866955266955217\n",
      "precision-untyped: 0.8007096392667061\n",
      "recall-untyped: 0.8657289002557544\n",
      "f1-measure-untyped: 0.8319508448540207\n",
      "precision-GP: 0.6683518705763397\n",
      "recall-GP: 0.8452685421994883\n",
      "f1-measure-GP: 0.7464709203839145\n",
      "precision-overall: 0.7953873447664104\n",
      "recall-overall: 0.8599744245524297\n",
      "f1-measure-overall: 0.82642089093697\n"
     ]
    },
    {
     "name": "stderr",
     "output_type": "stream",
     "text": [
      " 50%|█████     | 8048/16068 [00:27<00:28, 281.43it/s]"
     ]
    },
    {
     "name": "stdout",
     "output_type": "stream",
     "text": [
      "precision-DS: 0.8240437158469944\n",
      "recall-DS: 0.7517447657028913\n",
      "f1-measure-DS: 0.786235662148021\n",
      "precision-OG: 0.8449816079873883\n",
      "recall-OG: 0.8859504132231405\n",
      "f1-measure-OG: 0.8649811726734304\n",
      "precision-untyped: 0.7920653442240373\n",
      "recall-untyped: 0.8557740796772567\n",
      "f1-measure-untyped: 0.8226881590109791\n",
      "precision-GP: 0.6905248807089298\n",
      "recall-GP: 0.882404181184669\n",
      "f1-measure-GP: 0.7747609942638132\n",
      "precision-overall: 0.7876312718786465\n",
      "recall-overall: 0.850983358547655\n",
      "f1-measure-overall: 0.8180826566476292\n"
     ]
    },
    {
     "name": "stderr",
     "output_type": "stream",
     "text": [
      " 56%|█████▋    | 9059/16068 [00:30<00:23, 302.41it/s]"
     ]
    },
    {
     "name": "stdout",
     "output_type": "stream",
     "text": [
      "precision-DS: 0.8206967213114753\n",
      "recall-DS: 0.7563739376770539\n",
      "f1-measure-DS: 0.7872235872235375\n",
      "precision-OG: 0.8499305233904585\n",
      "recall-OG: 0.8738095238095238\n",
      "f1-measure-OG: 0.8617046254988934\n",
      "precision-untyped: 0.7894736842105263\n",
      "recall-untyped: 0.8525641025641025\n",
      "f1-measure-untyped: 0.8198068625436115\n",
      "precision-GP: 0.6946326211568525\n",
      "recall-GP: 0.8763971071663379\n",
      "f1-measure-GP: 0.7749999999999506\n",
      "precision-overall: 0.7853185595567868\n",
      "recall-overall: 0.8480769230769231\n",
      "f1-measure-overall: 0.8154920895828554\n"
     ]
    },
    {
     "name": "stderr",
     "output_type": "stream",
     "text": [
      " 63%|██████▎   | 10056/16068 [00:33<00:15, 378.89it/s]"
     ]
    },
    {
     "name": "stdout",
     "output_type": "stream",
     "text": [
      "precision-DS: 0.8187372708757636\n",
      "recall-DS: 0.7570621468926554\n",
      "f1-measure-DS: 0.7866927592954491\n",
      "precision-OG: 0.8499305233904585\n",
      "recall-OG: 0.8738095238095238\n",
      "f1-measure-OG: 0.8617046254988934\n",
      "precision-untyped: 0.7834912043301759\n",
      "recall-untyped: 0.8532631578947368\n",
      "f1-measure-untyped: 0.8168900534112169\n",
      "precision-GP: 0.6855314960629921\n",
      "recall-GP: 0.8772040302267002\n",
      "f1-measure-GP: 0.7696132596684592\n",
      "precision-overall: 0.7794316644113667\n",
      "recall-overall: 0.8488421052631578\n",
      "f1-measure-overall: 0.8126574624608994\n"
     ]
    },
    {
     "name": "stderr",
     "output_type": "stream",
     "text": [
      " 69%|██████▊   | 11032/16068 [00:36<00:23, 211.18it/s]"
     ]
    },
    {
     "name": "stdout",
     "output_type": "stream",
     "text": [
      "precision-DS: 0.7743403093721565\n",
      "recall-DS: 0.7605004468275246\n",
      "f1-measure-DS: 0.7673579801622584\n",
      "precision-OG: 0.8526077097505669\n",
      "recall-OG: 0.8756404285048905\n",
      "f1-measure-OG: 0.8639705882352441\n",
      "precision-untyped: 0.7777777777777778\n",
      "recall-untyped: 0.8538320796909941\n",
      "f1-measure-untyped: 0.8140323674774189\n",
      "precision-GP: 0.6908396946564885\n",
      "recall-GP: 0.8759830611010284\n",
      "f1-measure-GP: 0.7724726593757844\n",
      "precision-overall: 0.7738888888888888\n",
      "recall-overall: 0.8495629192925391\n",
      "f1-measure-overall: 0.8099622056400315\n"
     ]
    },
    {
     "name": "stderr",
     "output_type": "stream",
     "text": [
      " 75%|███████▍  | 12032/16068 [00:39<00:12, 317.67it/s]"
     ]
    },
    {
     "name": "stdout",
     "output_type": "stream",
     "text": [
      "precision-DS: 0.7656500802568218\n",
      "recall-DS: 0.7293577981651376\n",
      "f1-measure-DS: 0.7470634299138107\n",
      "precision-OG: 0.8523489932885906\n",
      "recall-OG: 0.8710562414266118\n",
      "f1-measure-OG: 0.8616010854816325\n",
      "precision-untyped: 0.7771993753253513\n",
      "recall-untyped: 0.8427093132643462\n",
      "f1-measure-untyped: 0.808629716555285\n",
      "precision-GP: 0.7007011393514461\n",
      "recall-GP: 0.8785714285714286\n",
      "f1-measure-GP: 0.7796196977083856\n",
      "precision-overall: 0.773555439875065\n",
      "recall-overall: 0.838758231420508\n",
      "f1-measure-overall: 0.8048384184870415\n"
     ]
    },
    {
     "name": "stderr",
     "output_type": "stream",
     "text": [
      " 81%|████████  | 13037/16068 [00:43<00:10, 289.66it/s]"
     ]
    },
    {
     "name": "stdout",
     "output_type": "stream",
     "text": [
      "precision-DS: 0.7678571428571429\n",
      "recall-DS: 0.7423638778220452\n",
      "f1-measure-DS: 0.7548953409857704\n",
      "precision-OG: 0.8578745198463509\n",
      "recall-OG: 0.8735332464146024\n",
      "f1-measure-OG: 0.8656330749353506\n",
      "precision-untyped: 0.7873338545738858\n",
      "recall-untyped: 0.8483572030328559\n",
      "f1-measure-untyped: 0.8167072181670223\n",
      "precision-GP: 0.726502311248074\n",
      "recall-GP: 0.8862781954887218\n",
      "f1-measure-GP: 0.7984758679085027\n",
      "precision-overall: 0.7840500390930414\n",
      "recall-overall: 0.8448188711036225\n",
      "f1-measure-overall: 0.8133008921329589\n"
     ]
    },
    {
     "name": "stderr",
     "output_type": "stream",
     "text": [
      " 87%|████████▋ | 14048/16068 [00:46<00:05, 337.60it/s]"
     ]
    },
    {
     "name": "stdout",
     "output_type": "stream",
     "text": [
      "precision-DS: 0.7797766749379652\n",
      "recall-DS: 0.7491060786650775\n",
      "f1-measure-DS: 0.7641337386017738\n",
      "precision-OG: 0.8406940063091483\n",
      "recall-OG: 0.8659626320064988\n",
      "f1-measure-OG: 0.853141256502551\n",
      "precision-untyped: 0.7861325525685388\n",
      "recall-untyped: 0.8491949396204715\n",
      "f1-measure-untyped: 0.8164478230821893\n",
      "precision-GP: 0.7415329768270945\n",
      "recall-GP: 0.8863636363636364\n",
      "f1-measure-GP: 0.8075056615981389\n",
      "precision-overall: 0.7832046845887677\n",
      "recall-overall: 0.8460322024151812\n",
      "f1-measure-overall: 0.8134070490669854\n"
     ]
    },
    {
     "name": "stderr",
     "output_type": "stream",
     "text": [
      " 94%|█████████▎| 15036/16068 [00:49<00:03, 282.72it/s]"
     ]
    },
    {
     "name": "stdout",
     "output_type": "stream",
     "text": [
      "precision-DS: 0.7942664418212478\n",
      "recall-DS: 0.6849248666989821\n",
      "f1-measure-DS: 0.735554398750601\n",
      "precision-OG: 0.8351965380454381\n",
      "recall-OG: 0.8680659670164917\n",
      "f1-measure-OG: 0.8513140966733557\n",
      "precision-untyped: 0.7933286680662468\n",
      "recall-untyped: 0.8247847702194737\n",
      "f1-measure-untyped: 0.8087509660542869\n",
      "precision-GP: 0.7578319244157136\n",
      "recall-GP: 0.8668941979522184\n",
      "f1-measure-GP: 0.8087025736269069\n",
      "precision-overall: 0.7904128761371588\n",
      "recall-overall: 0.8217533648599491\n",
      "f1-measure-overall: 0.8057784911716998\n"
     ]
    },
    {
     "name": "stderr",
     "output_type": "stream",
     "text": [
      "100%|█████████▉| 16037/16068 [00:53<00:00, 301.64it/s]"
     ]
    },
    {
     "name": "stdout",
     "output_type": "stream",
     "text": [
      "precision-DS: 0.8014814814814815\n",
      "recall-DS: 0.6998706338939198\n",
      "f1-measure-DS: 0.7472375690607237\n",
      "precision-OG: 0.8417742469381\n",
      "recall-OG: 0.868807652886915\n",
      "f1-measure-OG: 0.8550773369199232\n",
      "precision-untyped: 0.7974954511398908\n",
      "recall-untyped: 0.8277969114542828\n",
      "f1-measure-untyped: 0.8123637156562953\n",
      "precision-GP: 0.7582033977193391\n",
      "recall-GP: 0.8676431424766977\n",
      "f1-measure-GP: 0.8092399403874316\n",
      "precision-overall: 0.7946055870705341\n",
      "recall-overall: 0.8247972447505832\n",
      "f1-measure-overall: 0.8094199738333561\n"
     ]
    },
    {
     "name": "stderr",
     "output_type": "stream",
     "text": [
      "100%|██████████| 16068/16068 [00:53<00:00, 299.50it/s]\n",
      "  0%|          | 0/79401 [00:00<?, ?it/s]"
     ]
    },
    {
     "name": "stdout",
     "output_type": "stream",
     "text": [
      "precision-untyped: \t\t 0.7971122994652406\n",
      "recall-untyped: \t\t 0.8278351660557592\n",
      "f1-measure-untyped: \t\t 0.8121832942842633\n",
      "precision-overall: \t\t 0.7942245989304813\n",
      "recall-overall: \t\t 0.8248361657225369\n",
      "f1-measure-overall: \t\t 0.8092409960223987\n",
      "4--7\n"
     ]
    },
    {
     "name": "stderr",
     "output_type": "stream",
     "text": [
      "  8%|▊         | 6528/79401 [00:16<03:18, 367.41it/s]"
     ]
    },
    {
     "name": "stdout",
     "output_type": "stream",
     "text": [
      "sum loss: 699.6352833923593\n"
     ]
    },
    {
     "name": "stderr",
     "output_type": "stream",
     "text": [
      " 16%|█▋        | 12928/79401 [00:33<02:47, 397.99it/s]"
     ]
    },
    {
     "name": "stdout",
     "output_type": "stream",
     "text": [
      "sum loss: 1317.8386360593795\n"
     ]
    },
    {
     "name": "stderr",
     "output_type": "stream",
     "text": [
      " 24%|██▍       | 19328/79401 [00:50<02:48, 356.47it/s]"
     ]
    },
    {
     "name": "stdout",
     "output_type": "stream",
     "text": [
      "sum loss: 2070.5894116368945\n"
     ]
    },
    {
     "name": "stderr",
     "output_type": "stream",
     "text": [
      " 32%|███▏      | 25728/79401 [01:06<02:25, 368.98it/s]"
     ]
    },
    {
     "name": "stdout",
     "output_type": "stream",
     "text": [
      "sum loss: 2663.97996715929\n"
     ]
    },
    {
     "name": "stderr",
     "output_type": "stream",
     "text": [
      " 40%|████      | 32128/79401 [01:23<02:02, 386.99it/s]"
     ]
    },
    {
     "name": "stdout",
     "output_type": "stream",
     "text": [
      "sum loss: 3328.000981271828\n"
     ]
    },
    {
     "name": "stderr",
     "output_type": "stream",
     "text": [
      " 49%|████▊     | 38528/79401 [01:40<01:41, 403.46it/s]"
     ]
    },
    {
     "name": "stdout",
     "output_type": "stream",
     "text": [
      "sum loss: 3930.0833476130438\n"
     ]
    },
    {
     "name": "stderr",
     "output_type": "stream",
     "text": [
      " 57%|█████▋    | 44928/79401 [01:56<01:25, 402.25it/s]"
     ]
    },
    {
     "name": "stdout",
     "output_type": "stream",
     "text": [
      "sum loss: 4556.724029979277\n"
     ]
    },
    {
     "name": "stderr",
     "output_type": "stream",
     "text": [
      " 65%|██████▍   | 51328/79401 [02:13<01:13, 382.21it/s]"
     ]
    },
    {
     "name": "stdout",
     "output_type": "stream",
     "text": [
      "sum loss: 5152.363093427296\n"
     ]
    },
    {
     "name": "stderr",
     "output_type": "stream",
     "text": [
      " 73%|███████▎  | 57728/79401 [02:30<00:54, 396.50it/s]"
     ]
    },
    {
     "name": "stdout",
     "output_type": "stream",
     "text": [
      "sum loss: 5881.444652872641\n"
     ]
    },
    {
     "name": "stderr",
     "output_type": "stream",
     "text": [
      " 81%|████████  | 64128/79401 [02:47<00:40, 376.78it/s]"
     ]
    },
    {
     "name": "stdout",
     "output_type": "stream",
     "text": [
      "sum loss: 6600.88911196471\n"
     ]
    },
    {
     "name": "stderr",
     "output_type": "stream",
     "text": [
      " 89%|████████▉ | 70528/79401 [03:04<00:22, 393.53it/s]"
     ]
    },
    {
     "name": "stdout",
     "output_type": "stream",
     "text": [
      "sum loss: 7414.328910850142\n"
     ]
    },
    {
     "name": "stderr",
     "output_type": "stream",
     "text": [
      " 97%|█████████▋| 76928/79401 [03:21<00:06, 367.95it/s]"
     ]
    },
    {
     "name": "stdout",
     "output_type": "stream",
     "text": [
      "sum loss: 8119.217760459557\n"
     ]
    },
    {
     "name": "stderr",
     "output_type": "stream",
     "text": [
      "100%|██████████| 79401/79401 [03:28<00:00, 380.08it/s]\n"
     ]
    },
    {
     "name": "stdout",
     "output_type": "stream",
     "text": [
      "Saved model to /nfs/gns/literature/Santosh_Tirunagari/GitHub/spacy_models/pretrain_exp/4\n",
      "Loading from /nfs/gns/literature/Santosh_Tirunagari/GitHub/spacy_models/pretrain_exp/4\n"
     ]
    },
    {
     "name": "stderr",
     "output_type": "stream",
     "text": [
      "  0%|          | 29/16068 [00:00<00:56, 281.92it/s]"
     ]
    },
    {
     "name": "stdout",
     "output_type": "stream",
     "text": [
      "Evaluating 16068 rows\n"
     ]
    },
    {
     "name": "stderr",
     "output_type": "stream",
     "text": [
      "  6%|▋         | 1040/16068 [00:03<00:47, 315.55it/s]"
     ]
    },
    {
     "name": "stdout",
     "output_type": "stream",
     "text": [
      "precision-DS: 0.8267716535433064\n",
      "recall-DS: 0.8974358974358967\n",
      "f1-measure-DS: 0.8606557377048675\n",
      "precision-OG: 0.6618705035971217\n",
      "recall-OG: 0.6092715231788075\n",
      "f1-measure-OG: 0.6344827586206393\n",
      "precision-untyped: 0.8057742782152229\n",
      "recall-untyped: 0.7932816537467698\n",
      "f1-measure-untyped: 0.7994791666666164\n",
      "precision-GP: 0.9565217391304339\n",
      "recall-GP: 0.9243697478991589\n",
      "f1-measure-GP: 0.9401709401708895\n",
      "precision-overall: 0.8057742782152229\n",
      "recall-overall: 0.7932816537467698\n",
      "f1-measure-overall: 0.7994791666666164\n"
     ]
    },
    {
     "name": "stderr",
     "output_type": "stream",
     "text": [
      " 13%|█▎        | 2061/16068 [00:06<00:42, 327.34it/s]"
     ]
    },
    {
     "name": "stdout",
     "output_type": "stream",
     "text": [
      "precision-DS: 0.8241758241758237\n",
      "recall-DS: 0.8426966292134827\n",
      "f1-measure-DS: 0.8333333333332829\n",
      "precision-OG: 0.8322147651006709\n",
      "recall-OG: 0.7530364372469633\n",
      "f1-measure-OG: 0.7906482465461774\n",
      "precision-untyped: 0.8068315665488809\n",
      "recall-untyped: 0.7955865272938443\n",
      "f1-measure-untyped: 0.8011695906432247\n",
      "precision-GP: 0.7409090909090905\n",
      "recall-GP: 0.8624338624338619\n",
      "f1-measure-GP: 0.7970660146698765\n",
      "precision-overall: 0.8068315665488809\n",
      "recall-overall: 0.7955865272938443\n",
      "f1-measure-overall: 0.8011695906432247\n"
     ]
    },
    {
     "name": "stderr",
     "output_type": "stream",
     "text": [
      " 19%|█▉        | 3031/16068 [00:10<00:48, 271.05it/s]"
     ]
    },
    {
     "name": "stdout",
     "output_type": "stream",
     "text": [
      "precision-DS: 0.8104838709677415\n",
      "recall-DS: 0.7701149425287352\n",
      "f1-measure-DS: 0.7897838899803034\n",
      "precision-OG: 0.8226837060702874\n",
      "recall-OG: 0.7732732732732731\n",
      "f1-measure-OG: 0.7972136222909716\n",
      "precision-untyped: 0.7268877911079746\n",
      "recall-untyped: 0.7978311386522076\n",
      "f1-measure-untyped: 0.7607090103396843\n",
      "precision-GP: 0.5745856353591159\n",
      "recall-GP: 0.8571428571428569\n",
      "f1-measure-GP: 0.6879823594266332\n",
      "precision-overall: 0.7254763585038815\n",
      "recall-overall: 0.796281951975213\n",
      "f1-measure-overall: 0.7592319054652381\n"
     ]
    },
    {
     "name": "stderr",
     "output_type": "stream",
     "text": [
      " 25%|██▌       | 4040/16068 [00:13<00:42, 282.11it/s]"
     ]
    },
    {
     "name": "stdout",
     "output_type": "stream",
     "text": [
      "precision-DS: 0.807407407407407\n",
      "recall-DS: 0.7703180212014131\n",
      "f1-measure-DS: 0.7884267631102573\n",
      "precision-OG: 0.8315665488810364\n",
      "recall-OG: 0.8022727272727271\n",
      "f1-measure-OG: 0.816657027183293\n",
      "precision-untyped: 0.7501445922498554\n",
      "recall-untyped: 0.8157232704402516\n",
      "f1-measure-untyped: 0.7815607110574976\n",
      "precision-GP: 0.6065573770491802\n",
      "recall-GP: 0.8665105386416859\n",
      "f1-measure-GP: 0.7135969141754577\n",
      "precision-overall: 0.7484094852515906\n",
      "recall-overall: 0.8138364779874214\n",
      "f1-measure-overall: 0.779752937631767\n"
     ]
    },
    {
     "name": "stderr",
     "output_type": "stream",
     "text": [
      " 31%|███▏      | 5052/16068 [00:16<00:35, 306.87it/s]"
     ]
    },
    {
     "name": "stdout",
     "output_type": "stream",
     "text": [
      "precision-DS: 0.8225806451612901\n",
      "recall-DS: 0.7880794701986753\n",
      "f1-measure-DS: 0.8049605411498936\n",
      "precision-OG: 0.847560975609756\n",
      "recall-OG: 0.8168462291870714\n",
      "f1-measure-OG: 0.8319201995011969\n",
      "precision-untyped: 0.7830812854442344\n",
      "recall-untyped: 0.8289144572286143\n",
      "f1-measure-untyped: 0.8053462940461226\n",
      "precision-GP: 0.650429799426934\n",
      "recall-GP: 0.8647619047619046\n",
      "f1-measure-GP: 0.7424366312346199\n",
      "precision-overall: 0.7774102079395085\n",
      "recall-overall: 0.822911455727864\n",
      "f1-measure-overall: 0.7995139732684798\n"
     ]
    },
    {
     "name": "stderr",
     "output_type": "stream",
     "text": [
      " 38%|███▊      | 6040/16068 [00:19<00:34, 290.37it/s]"
     ]
    },
    {
     "name": "stdout",
     "output_type": "stream",
     "text": [
      "precision-DS: 0.809110629067245\n",
      "recall-DS: 0.7936170212765955\n",
      "f1-measure-DS: 0.8012889366272324\n",
      "precision-OG: 0.8303703703703704\n",
      "recall-OG: 0.840960240060015\n",
      "f1-measure-OG: 0.8356317554975274\n",
      "precision-untyped: 0.7839080459770115\n",
      "recall-untyped: 0.8423219431864964\n",
      "f1-measure-untyped: 0.8120658860884596\n",
      "precision-GP: 0.6745932415519398\n",
      "recall-GP: 0.8610223642172522\n",
      "f1-measure-GP: 0.756491228070126\n",
      "precision-overall: 0.7789272030651341\n",
      "recall-overall: 0.836969946480033\n",
      "f1-measure-overall: 0.8069061321690313\n"
     ]
    },
    {
     "name": "stderr",
     "output_type": "stream",
     "text": [
      " 44%|████▍     | 7040/16068 [00:23<00:32, 279.13it/s]"
     ]
    },
    {
     "name": "stdout",
     "output_type": "stream",
     "text": [
      "precision-DS: 0.8209191759112519\n",
      "recall-DS: 0.806853582554517\n",
      "f1-measure-DS: 0.8138256087980645\n",
      "precision-OG: 0.8508158508158508\n",
      "recall-OG: 0.8568075117370892\n",
      "f1-measure-OG: 0.8538011695905933\n",
      "precision-untyped: 0.8005398920215957\n",
      "recall-untyped: 0.8532608695652174\n",
      "f1-measure-untyped: 0.8260600433301885\n",
      "precision-GP: 0.6767983789260384\n",
      "recall-GP: 0.8542199488491047\n",
      "f1-measure-GP: 0.755228942905547\n",
      "precision-overall: 0.7936412717456509\n",
      "recall-overall: 0.8459079283887468\n",
      "f1-measure-overall: 0.8189415041782232\n"
     ]
    },
    {
     "name": "stderr",
     "output_type": "stream",
     "text": [
      " 50%|█████     | 8047/16068 [00:26<00:27, 292.41it/s]"
     ]
    },
    {
     "name": "stdout",
     "output_type": "stream",
     "text": [
      "precision-DS: 0.8054347826086955\n",
      "recall-DS: 0.7387836490528414\n",
      "f1-measure-DS: 0.7706708268330233\n",
      "precision-OG: 0.84375\n",
      "recall-OG: 0.8628099173553719\n",
      "f1-measure-OG: 0.8531735222009851\n",
      "precision-untyped: 0.7912632821723731\n",
      "recall-untyped: 0.8449319213313162\n",
      "f1-measure-untyped: 0.8172174125106195\n",
      "precision-GP: 0.6991089787525703\n",
      "recall-GP: 0.8885017421602788\n",
      "f1-measure-GP: 0.7825086306098471\n",
      "precision-overall: 0.7855962219598583\n",
      "recall-overall: 0.8388804841149773\n",
      "f1-measure-overall: 0.8113644677477858\n"
     ]
    },
    {
     "name": "stderr",
     "output_type": "stream",
     "text": [
      " 56%|█████▋    | 9057/16068 [00:29<00:22, 310.77it/s]"
     ]
    },
    {
     "name": "stdout",
     "output_type": "stream",
     "text": [
      "precision-DS: 0.804902962206333\n",
      "recall-DS: 0.7440982058545798\n",
      "f1-measure-DS: 0.773307163886113\n",
      "precision-OG: 0.8459000942507069\n",
      "recall-OG: 0.8547619047619047\n",
      "f1-measure-OG: 0.8503079109426314\n",
      "precision-untyped: 0.7898\n",
      "recall-untyped: 0.8438034188034188\n",
      "f1-measure-untyped: 0.815909090909041\n",
      "precision-GP: 0.7051079515534492\n",
      "recall-GP: 0.8803418803418803\n",
      "f1-measure-GP: 0.7830409356724652\n",
      "precision-overall: 0.7844\n",
      "recall-overall: 0.838034188034188\n",
      "f1-measure-overall: 0.8103305785123468\n"
     ]
    },
    {
     "name": "stderr",
     "output_type": "stream",
     "text": [
      " 63%|██████▎   | 10053/16068 [00:32<00:15, 389.56it/s]"
     ]
    },
    {
     "name": "stdout",
     "output_type": "stream",
     "text": [
      "precision-DS: 0.8030456852791877\n",
      "recall-DS: 0.7448210922787194\n",
      "f1-measure-DS: 0.7728382999510981\n",
      "precision-OG: 0.8459000942507069\n",
      "recall-OG: 0.8547619047619047\n",
      "f1-measure-OG: 0.8503079109426314\n",
      "precision-untyped: 0.783984375\n",
      "recall-untyped: 0.8450526315789474\n",
      "f1-measure-untyped: 0.8133738601823208\n",
      "precision-GP: 0.6959761549925484\n",
      "recall-GP: 0.8822418136020151\n",
      "f1-measure-GP: 0.778117189669487\n",
      "precision-overall: 0.7787109375\n",
      "recall-overall: 0.8393684210526315\n",
      "f1-measure-overall: 0.8079027355622602\n"
     ]
    },
    {
     "name": "stderr",
     "output_type": "stream",
     "text": [
      " 69%|██████▊   | 11038/16068 [00:35<00:22, 220.72it/s]"
     ]
    },
    {
     "name": "stdout",
     "output_type": "stream",
     "text": [
      "precision-DS: 0.7615593834995467\n",
      "recall-DS: 0.7506702412868632\n",
      "f1-measure-DS: 0.7560756075607061\n",
      "precision-OG: 0.8487084870848709\n",
      "recall-OG: 0.8570097810898929\n",
      "f1-measure-OG: 0.8528389339512826\n",
      "precision-untyped: 0.7775494957041464\n",
      "recall-untyped: 0.8463102256556211\n",
      "f1-measure-untyped: 0.8104740582107942\n",
      "precision-GP: 0.6989918386941911\n",
      "recall-GP: 0.8808227465214761\n",
      "f1-measure-GP: 0.7794432548179379\n",
      "precision-overall: 0.7725065371684722\n",
      "recall-overall: 0.8408213051433218\n",
      "f1-measure-overall: 0.8052175605956865\n"
     ]
    },
    {
     "name": "stderr",
     "output_type": "stream",
     "text": [
      " 75%|███████▍  | 12020/16068 [00:38<00:12, 330.02it/s]"
     ]
    },
    {
     "name": "stdout",
     "output_type": "stream",
     "text": [
      "precision-DS: 0.7566265060240964\n",
      "recall-DS: 0.7201834862385321\n",
      "f1-measure-DS: 0.737955346650949\n",
      "precision-OG: 0.8473421172194457\n",
      "recall-OG: 0.8527663465935071\n",
      "f1-measure-OG: 0.850045578851363\n",
      "precision-untyped: 0.7775831873905429\n",
      "recall-untyped: 0.8353715898400753\n",
      "f1-measure-untyped: 0.8054421768706983\n",
      "precision-GP: 0.7093639575971732\n",
      "recall-GP: 0.8824175824175824\n",
      "f1-measure-GP: 0.7864838393731142\n",
      "precision-overall: 0.7728546409807355\n",
      "recall-overall: 0.8302916274694262\n",
      "f1-measure-overall: 0.8005442176870249\n"
     ]
    },
    {
     "name": "stderr",
     "output_type": "stream",
     "text": [
      " 81%|████████  | 13054/16068 [00:42<00:10, 290.16it/s]"
     ]
    },
    {
     "name": "stdout",
     "output_type": "stream",
     "text": [
      "precision-DS: 0.760989010989011\n",
      "recall-DS: 0.7357237715803453\n",
      "f1-measure-DS: 0.7481431465225699\n",
      "precision-OG: 0.8531195840554593\n",
      "recall-OG: 0.8557149065623642\n",
      "f1-measure-OG: 0.8544152744629572\n",
      "precision-untyped: 0.7881369301151602\n",
      "recall-untyped: 0.8417860151642796\n",
      "f1-measure-untyped: 0.814078540003209\n",
      "precision-GP: 0.734757281553398\n",
      "recall-GP: 0.8890977443609023\n",
      "f1-measure-GP: 0.804592813097973\n",
      "precision-overall: 0.7838775832150181\n",
      "recall-overall: 0.8372367312552653\n",
      "f1-measure-overall: 0.8096789962521904\n"
     ]
    },
    {
     "name": "stderr",
     "output_type": "stream",
     "text": [
      " 88%|████████▊ | 14063/16068 [00:45<00:05, 339.88it/s]"
     ]
    },
    {
     "name": "stdout",
     "output_type": "stream",
     "text": [
      "precision-DS: 0.7750309023485785\n",
      "recall-DS: 0.7473182359952324\n",
      "f1-measure-DS: 0.7609223300970375\n",
      "precision-OG: 0.8367346938775511\n",
      "recall-OG: 0.8493095044679123\n",
      "f1-measure-OG: 0.8429752066115203\n",
      "precision-untyped: 0.7881265076387027\n",
      "recall-untyped: 0.8454571592869465\n",
      "f1-measure-untyped: 0.8157858232764101\n",
      "precision-GP: 0.7494768310911809\n",
      "recall-GP: 0.8902698863636364\n",
      "f1-measure-GP: 0.8138289238759445\n",
      "precision-overall: 0.7842401500938087\n",
      "recall-overall: 0.8412880966072456\n",
      "f1-measure-overall: 0.8117630739353087\n"
     ]
    },
    {
     "name": "stderr",
     "output_type": "stream",
     "text": [
      " 94%|█████████▎| 15038/16068 [00:48<00:03, 288.30it/s]"
     ]
    },
    {
     "name": "stdout",
     "output_type": "stream",
     "text": [
      "precision-DS: 0.7879300620417372\n",
      "recall-DS: 0.6771691711100339\n",
      "f1-measure-DS: 0.7283628779978648\n",
      "precision-OG: 0.836457184858508\n",
      "recall-OG: 0.8530734632683659\n",
      "f1-measure-OG: 0.8446836147707795\n",
      "precision-untyped: 0.7957837710517018\n",
      "recall-untyped: 0.8193282405723293\n",
      "f1-measure-untyped: 0.8073843947902476\n",
      "precision-GP: 0.7640730547910933\n",
      "recall-GP: 0.8686006825938567\n",
      "f1-measure-GP: 0.8129908159190239\n",
      "precision-overall: 0.7922506183017313\n",
      "recall-overall: 0.8156905541408997\n",
      "f1-measure-overall: 0.8037997371250546\n"
     ]
    },
    {
     "name": "stderr",
     "output_type": "stream",
     "text": [
      "100%|█████████▉| 16055/16068 [00:52<00:00, 297.92it/s]"
     ]
    },
    {
     "name": "stdout",
     "output_type": "stream",
     "text": [
      "precision-DS: 0.7960396039603961\n",
      "recall-DS: 0.6934023285899095\n",
      "f1-measure-DS: 0.7411846047475878\n",
      "precision-OG: 0.8438975050573162\n",
      "recall-OG: 0.8551417833959686\n",
      "f1-measure-OG: 0.8494824367893612\n",
      "precision-untyped: 0.7999352191751241\n",
      "recall-untyped: 0.823130763248528\n",
      "f1-measure-untyped: 0.8113672452499089\n",
      "precision-GP: 0.7633302151543498\n",
      "recall-GP: 0.8692410119840213\n",
      "f1-measure-GP: 0.8128502054538164\n",
      "precision-overall: 0.7962643057654935\n",
      "recall-overall: 0.8193534051772026\n",
      "f1-measure-overall: 0.8076438701198646\n"
     ]
    },
    {
     "name": "stderr",
     "output_type": "stream",
     "text": [
      "100%|██████████| 16068/16068 [00:52<00:00, 304.78it/s]\n",
      "  0%|          | 0/79401 [00:00<?, ?it/s]"
     ]
    },
    {
     "name": "stdout",
     "output_type": "stream",
     "text": [
      "precision-untyped: \t\t 0.7994606256742179\n",
      "recall-untyped: \t\t 0.8231700544263023\n",
      "f1-measure-untyped: \t\t 0.8111421222568317\n",
      "precision-overall: \t\t 0.7957928802588997\n",
      "recall-overall: \t\t 0.8193935354881706\n",
      "f1-measure-overall: \t\t 0.8074207847643566\n",
      "5--7\n"
     ]
    },
    {
     "name": "stderr",
     "output_type": "stream",
     "text": [
      "  8%|▊         | 6528/79401 [00:16<02:56, 413.76it/s]"
     ]
    },
    {
     "name": "stdout",
     "output_type": "stream",
     "text": [
      "sum loss: 529.3383628579504\n"
     ]
    },
    {
     "name": "stderr",
     "output_type": "stream",
     "text": [
      " 16%|█▋        | 12928/79401 [00:33<02:53, 383.59it/s]"
     ]
    },
    {
     "name": "stdout",
     "output_type": "stream",
     "text": [
      "sum loss: 1176.8627880637218\n"
     ]
    },
    {
     "name": "stderr",
     "output_type": "stream",
     "text": [
      " 24%|██▍       | 19328/79401 [00:50<02:31, 395.38it/s]"
     ]
    },
    {
     "name": "stdout",
     "output_type": "stream",
     "text": [
      "sum loss: 1812.0760073495335\n"
     ]
    },
    {
     "name": "stderr",
     "output_type": "stream",
     "text": [
      " 32%|███▏      | 25728/79401 [01:07<02:25, 369.88it/s]"
     ]
    },
    {
     "name": "stdout",
     "output_type": "stream",
     "text": [
      "sum loss: 2427.992495845538\n"
     ]
    },
    {
     "name": "stderr",
     "output_type": "stream",
     "text": [
      " 40%|████      | 32128/79401 [01:23<01:59, 396.31it/s]"
     ]
    },
    {
     "name": "stdout",
     "output_type": "stream",
     "text": [
      "sum loss: 3090.5688906661167\n"
     ]
    },
    {
     "name": "stderr",
     "output_type": "stream",
     "text": [
      " 49%|████▊     | 38528/79401 [01:40<01:49, 373.02it/s]"
     ]
    },
    {
     "name": "stdout",
     "output_type": "stream",
     "text": [
      "sum loss: 3718.365068865766\n"
     ]
    },
    {
     "name": "stderr",
     "output_type": "stream",
     "text": [
      " 57%|█████▋    | 44928/79401 [01:56<01:25, 401.26it/s]"
     ]
    },
    {
     "name": "stdout",
     "output_type": "stream",
     "text": [
      "sum loss: 4479.018084255105\n"
     ]
    },
    {
     "name": "stderr",
     "output_type": "stream",
     "text": [
      " 65%|██████▍   | 51328/79401 [02:13<01:09, 404.58it/s]"
     ]
    },
    {
     "name": "stdout",
     "output_type": "stream",
     "text": [
      "sum loss: 5100.488010773161\n"
     ]
    },
    {
     "name": "stderr",
     "output_type": "stream",
     "text": [
      " 73%|███████▎  | 57728/79401 [02:29<00:52, 414.33it/s]"
     ]
    },
    {
     "name": "stdout",
     "output_type": "stream",
     "text": [
      "sum loss: 5728.681750058096\n"
     ]
    },
    {
     "name": "stderr",
     "output_type": "stream",
     "text": [
      " 81%|████████  | 64128/79401 [02:46<00:39, 389.03it/s]"
     ]
    },
    {
     "name": "stdout",
     "output_type": "stream",
     "text": [
      "sum loss: 6348.24579180301\n"
     ]
    },
    {
     "name": "stderr",
     "output_type": "stream",
     "text": [
      " 89%|████████▉ | 70528/79401 [03:02<00:22, 396.66it/s]"
     ]
    },
    {
     "name": "stdout",
     "output_type": "stream",
     "text": [
      "sum loss: 6922.685852390914\n"
     ]
    },
    {
     "name": "stderr",
     "output_type": "stream",
     "text": [
      " 97%|█████████▋| 76928/79401 [03:19<00:06, 401.79it/s]"
     ]
    },
    {
     "name": "stdout",
     "output_type": "stream",
     "text": [
      "sum loss: 7658.968197644881\n"
     ]
    },
    {
     "name": "stderr",
     "output_type": "stream",
     "text": [
      "100%|██████████| 79401/79401 [03:25<00:00, 385.98it/s]\n"
     ]
    },
    {
     "name": "stdout",
     "output_type": "stream",
     "text": [
      "Saved model to /nfs/gns/literature/Santosh_Tirunagari/GitHub/spacy_models/pretrain_exp/5\n",
      "Loading from /nfs/gns/literature/Santosh_Tirunagari/GitHub/spacy_models/pretrain_exp/5\n"
     ]
    },
    {
     "name": "stderr",
     "output_type": "stream",
     "text": [
      "  0%|          | 28/16068 [00:00<00:57, 279.51it/s]"
     ]
    },
    {
     "name": "stdout",
     "output_type": "stream",
     "text": [
      "Evaluating 16068 rows\n"
     ]
    },
    {
     "name": "stderr",
     "output_type": "stream",
     "text": [
      "  6%|▋         | 1033/16068 [00:03<00:48, 312.32it/s]"
     ]
    },
    {
     "name": "stdout",
     "output_type": "stream",
     "text": [
      "precision-DS: 0.8387096774193542\n",
      "recall-DS: 0.8888888888888882\n",
      "f1-measure-DS: 0.8630705394190364\n",
      "precision-OG: 0.6413793103448271\n",
      "recall-OG: 0.6158940397350988\n",
      "f1-measure-OG: 0.6283783783783279\n",
      "precision-untyped: 0.796344647519582\n",
      "recall-untyped: 0.788113695090439\n",
      "f1-measure-untyped: 0.7922077922077421\n",
      "precision-GP: 0.9473684210526307\n",
      "recall-GP: 0.9075630252100833\n",
      "f1-measure-GP: 0.9270386266093913\n",
      "precision-overall: 0.796344647519582\n",
      "recall-overall: 0.788113695090439\n",
      "f1-measure-overall: 0.7922077922077421\n"
     ]
    },
    {
     "name": "stderr",
     "output_type": "stream",
     "text": [
      " 13%|█▎        | 2057/16068 [00:06<00:43, 319.66it/s]"
     ]
    },
    {
     "name": "stdout",
     "output_type": "stream",
     "text": [
      "precision-DS: 0.8370786516853927\n",
      "recall-DS: 0.8370786516853927\n",
      "f1-measure-DS: 0.8370786516853428\n",
      "precision-OG: 0.8236607142857141\n",
      "recall-OG: 0.7469635627530362\n",
      "f1-measure-OG: 0.7834394904458098\n",
      "precision-untyped: 0.8059171597633135\n",
      "recall-untyped: 0.7909407665505226\n",
      "f1-measure-untyped: 0.7983587338803719\n",
      "precision-GP: 0.744292237442922\n",
      "recall-GP: 0.8624338624338619\n",
      "f1-measure-GP: 0.7990196078430871\n",
      "precision-overall: 0.8059171597633135\n",
      "recall-overall: 0.7909407665505226\n",
      "f1-measure-overall: 0.7983587338803719\n"
     ]
    },
    {
     "name": "stderr",
     "output_type": "stream",
     "text": [
      " 19%|█▉        | 3048/16068 [00:10<00:48, 269.38it/s]"
     ]
    },
    {
     "name": "stdout",
     "output_type": "stream",
     "text": [
      "precision-DS: 0.8257261410788378\n",
      "recall-DS: 0.7624521072796931\n",
      "f1-measure-DS: 0.7928286852589139\n",
      "precision-OG: 0.8205928237129484\n",
      "recall-OG: 0.7897897897897896\n",
      "f1-measure-OG: 0.8048967100229033\n",
      "precision-untyped: 0.7317415730337079\n",
      "recall-untyped: 0.8071262587141751\n",
      "f1-measure-untyped: 0.7675874769796923\n",
      "precision-GP: 0.581180811808118\n",
      "recall-GP: 0.8653846153846151\n",
      "f1-measure-GP: 0.6953642384105477\n",
      "precision-overall: 0.7303370786516854\n",
      "recall-overall: 0.8055770720371804\n",
      "f1-measure-overall: 0.7661141804787716\n"
     ]
    },
    {
     "name": "stderr",
     "output_type": "stream",
     "text": [
      " 25%|██▌       | 4041/16068 [00:13<00:43, 278.12it/s]"
     ]
    },
    {
     "name": "stdout",
     "output_type": "stream",
     "text": [
      "precision-DS: 0.8181818181818178\n",
      "recall-DS: 0.7632508833922258\n",
      "f1-measure-DS: 0.7897623400365127\n",
      "precision-OG: 0.8308227114716106\n",
      "recall-OG: 0.8147727272727272\n",
      "f1-measure-OG: 0.8227194492254233\n",
      "precision-untyped: 0.7530364372469636\n",
      "recall-untyped: 0.8188679245283019\n",
      "f1-measure-untyped: 0.7845736667670488\n",
      "precision-GP: 0.6079734219269102\n",
      "recall-GP: 0.8571428571428569\n",
      "f1-measure-GP: 0.711370262390622\n",
      "precision-overall: 0.7513013302486987\n",
      "recall-overall: 0.8169811320754717\n",
      "f1-measure-overall: 0.782765893341318\n"
     ]
    },
    {
     "name": "stderr",
     "output_type": "stream",
     "text": [
      " 31%|███▏      | 5057/16068 [00:17<00:37, 291.04it/s]"
     ]
    },
    {
     "name": "stdout",
     "output_type": "stream",
     "text": [
      "precision-DS: 0.8325688073394494\n",
      "recall-DS: 0.801324503311258\n",
      "f1-measure-DS: 0.8166479190100736\n",
      "precision-OG: 0.8469999999999999\n",
      "recall-OG: 0.8295788442703231\n",
      "f1-measure-OG: 0.838198911429935\n",
      "precision-untyped: 0.7861516721620349\n",
      "recall-untyped: 0.8349174587293647\n",
      "f1-measure-untyped: 0.8098010674429389\n",
      "precision-GP: 0.650655021834061\n",
      "recall-GP: 0.8514285714285712\n",
      "f1-measure-GP: 0.7376237623761883\n",
      "precision-overall: 0.7804992934526613\n",
      "recall-overall: 0.8289144572286143\n",
      "f1-measure-overall: 0.8039786511401732\n"
     ]
    },
    {
     "name": "stderr",
     "output_type": "stream",
     "text": [
      " 38%|███▊      | 6039/16068 [00:20<00:36, 278.11it/s]"
     ]
    },
    {
     "name": "stdout",
     "output_type": "stream",
     "text": [
      "precision-DS: 0.8185745140388767\n",
      "recall-DS: 0.806382978723404\n",
      "f1-measure-DS: 0.8124330117898748\n",
      "precision-OG: 0.8161499639509733\n",
      "recall-OG: 0.8492123030757689\n",
      "f1-measure-OG: 0.8323529411764207\n",
      "precision-untyped: 0.7784522003034902\n",
      "recall-untyped: 0.8447920955125566\n",
      "f1-measure-untyped: 0.8102665350443725\n",
      "precision-GP: 0.6717557251908396\n",
      "recall-GP: 0.8434504792332267\n",
      "f1-measure-GP: 0.7478753541075994\n",
      "precision-overall: 0.7735204855842185\n",
      "recall-overall: 0.839440098806093\n",
      "f1-measure-overall: 0.8051332675221614\n"
     ]
    },
    {
     "name": "stderr",
     "output_type": "stream",
     "text": [
      " 44%|████▍     | 7033/16068 [00:23<00:33, 271.75it/s]"
     ]
    },
    {
     "name": "stdout",
     "output_type": "stream",
     "text": [
      "precision-DS: 0.837025316455696\n",
      "recall-DS: 0.8239875389408098\n",
      "f1-measure-DS: 0.8304552590266375\n",
      "precision-OG: 0.8316326530612245\n",
      "recall-OG: 0.8609154929577465\n",
      "f1-measure-OG: 0.8460207612456248\n",
      "precision-untyped: 0.7979135618479881\n",
      "recall-untyped: 0.8558184143222506\n",
      "f1-measure-untyped: 0.8258522289063207\n",
      "precision-GP: 0.6861313868613138\n",
      "recall-GP: 0.8414322250639384\n",
      "f1-measure-GP: 0.7558874210223514\n",
      "precision-overall: 0.7910581222056632\n",
      "recall-overall: 0.84846547314578\n",
      "f1-measure-overall: 0.8187567484188919\n"
     ]
    },
    {
     "name": "stderr",
     "output_type": "stream",
     "text": [
      " 50%|█████     | 8042/16068 [00:27<00:28, 279.21it/s]"
     ]
    },
    {
     "name": "stdout",
     "output_type": "stream",
     "text": [
      "precision-DS: 0.8190789473684209\n",
      "recall-DS: 0.7447657028913259\n",
      "f1-measure-DS: 0.7801566579633965\n",
      "precision-OG: 0.8257217847769028\n",
      "recall-OG: 0.8666666666666667\n",
      "f1-measure-OG: 0.845698924731133\n",
      "precision-untyped: 0.7902048504826936\n",
      "recall-untyped: 0.8461926374180535\n",
      "f1-measure-untyped: 0.8172409594544735\n",
      "precision-GP: 0.7062937062937062\n",
      "recall-GP: 0.8797909407665505\n",
      "f1-measure-GP: 0.7835531419704703\n",
      "precision-overall: 0.7840828820343773\n",
      "recall-overall: 0.8396369137670197\n",
      "f1-measure-overall: 0.8109095336660892\n"
     ]
    },
    {
     "name": "stderr",
     "output_type": "stream",
     "text": [
      " 56%|█████▋    | 9051/16068 [00:30<00:23, 298.80it/s]"
     ]
    },
    {
     "name": "stdout",
     "output_type": "stream",
     "text": [
      "precision-DS: 0.8177136972193614\n",
      "recall-DS: 0.7497639282341831\n",
      "f1-measure-DS: 0.7822660098521669\n",
      "precision-OG: 0.8278236914600551\n",
      "recall-OG: 0.8585714285714285\n",
      "f1-measure-OG: 0.8429172510518435\n",
      "precision-untyped: 0.7891902672516953\n",
      "recall-untyped: 0.8455128205128205\n",
      "f1-measure-untyped: 0.8163812667628964\n",
      "precision-GP: 0.7136729222520107\n",
      "recall-GP: 0.8750821827744905\n",
      "f1-measure-GP: 0.7861783815711261\n",
      "precision-overall: 0.7834064619066613\n",
      "recall-overall: 0.8393162393162393\n",
      "f1-measure-overall: 0.8103981844439361\n"
     ]
    },
    {
     "name": "stderr",
     "output_type": "stream",
     "text": [
      " 63%|██████▎   | 10044/16068 [00:33<00:16, 373.25it/s]"
     ]
    },
    {
     "name": "stdout",
     "output_type": "stream",
     "text": [
      "precision-DS: 0.8157625383828044\n",
      "recall-DS: 0.7504708097928436\n",
      "f1-measure-DS: 0.7817557626286896\n",
      "precision-OG: 0.8278236914600551\n",
      "recall-OG: 0.8585714285714285\n",
      "f1-measure-OG: 0.8429172510518435\n",
      "precision-untyped: 0.7830996884735203\n",
      "recall-untyped: 0.8467368421052631\n",
      "f1-measure-untyped: 0.8136759053206056\n",
      "precision-GP: 0.7031802120141343\n",
      "recall-GP: 0.8772040302267002\n",
      "f1-measure-GP: 0.7806108153543916\n",
      "precision-overall: 0.7774532710280374\n",
      "recall-overall: 0.8406315789473684\n",
      "f1-measure-overall: 0.8078090228605612\n"
     ]
    },
    {
     "name": "stderr",
     "output_type": "stream",
     "text": [
      " 69%|██████▊   | 11036/16068 [00:36<00:23, 211.00it/s]"
     ]
    },
    {
     "name": "stdout",
     "output_type": "stream",
     "text": [
      "precision-DS: 0.7723132969034608\n",
      "recall-DS: 0.7578194816800715\n",
      "f1-measure-DS: 0.7649977446999953\n",
      "precision-OG: 0.8313090418353576\n",
      "recall-OG: 0.8607359105728924\n",
      "f1-measure-OG: 0.8457665903889661\n",
      "precision-untyped: 0.7779642058165548\n",
      "recall-untyped: 0.8483431591786949\n",
      "f1-measure-untyped: 0.8116308470290271\n",
      "precision-GP: 0.7087616250611846\n",
      "recall-GP: 0.8759830611010284\n",
      "f1-measure-GP: 0.7835497835497341\n",
      "precision-overall: 0.7725577926920209\n",
      "recall-overall: 0.8424476519617808\n",
      "f1-measure-overall: 0.805990469707234\n"
     ]
    },
    {
     "name": "stderr",
     "output_type": "stream",
     "text": [
      " 75%|███████▌  | 12053/16068 [00:40<00:13, 302.39it/s]"
     ]
    },
    {
     "name": "stdout",
     "output_type": "stream",
     "text": [
      "precision-DS: 0.7653225806451613\n",
      "recall-DS: 0.7255351681957186\n",
      "f1-measure-DS: 0.7448979591836236\n",
      "precision-OG: 0.8308170515097691\n",
      "recall-OG: 0.8555098308184728\n",
      "f1-measure-OG: 0.842982653750795\n",
      "precision-untyped: 0.7785364145658263\n",
      "recall-untyped: 0.8366886171213547\n",
      "f1-measure-untyped: 0.8065657023668676\n",
      "precision-GP: 0.7198198198198198\n",
      "recall-GP: 0.878021978021978\n",
      "f1-measure-GP: 0.7910891089108416\n",
      "precision-overall: 0.7734593837535014\n",
      "recall-overall: 0.8312323612417686\n",
      "f1-measure-overall: 0.8013058855535912\n"
     ]
    },
    {
     "name": "stderr",
     "output_type": "stream",
     "text": [
      " 81%|████████  | 13030/16068 [00:43<00:10, 285.19it/s]"
     ]
    },
    {
     "name": "stdout",
     "output_type": "stream",
     "text": [
      "precision-DS: 0.7668500687757909\n",
      "recall-DS: 0.7403718459495352\n",
      "f1-measure-DS: 0.7533783783783284\n",
      "precision-OG: 0.837643069097075\n",
      "recall-OG: 0.8587570621468926\n",
      "f1-measure-OG: 0.848068669527847\n",
      "precision-untyped: 0.7888100866824271\n",
      "recall-untyped: 0.8433024431339511\n",
      "f1-measure-untyped: 0.8151465798045103\n",
      "precision-GP: 0.7428909952606635\n",
      "recall-GP: 0.8839285714285714\n",
      "f1-measure-GP: 0.8072961373390062\n",
      "precision-overall: 0.7836091410559496\n",
      "recall-overall: 0.8377422072451558\n",
      "f1-measure-overall: 0.809771986970634\n"
     ]
    },
    {
     "name": "stderr",
     "output_type": "stream",
     "text": [
      " 87%|████████▋ | 14039/16068 [00:46<00:06, 331.96it/s]"
     ]
    },
    {
     "name": "stdout",
     "output_type": "stream",
     "text": [
      "precision-DS: 0.7793017456359103\n",
      "recall-DS: 0.7449344457687723\n",
      "f1-measure-DS: 0.7617306520413883\n",
      "precision-OG: 0.8227450980392157\n",
      "recall-OG: 0.8521527213647441\n",
      "f1-measure-OG: 0.8371907422186251\n",
      "precision-untyped: 0.7892406761470352\n",
      "recall-untyped: 0.8457446808510638\n",
      "f1-measure-untyped: 0.8165163081193118\n",
      "precision-GP: 0.7572727272727273\n",
      "recall-GP: 0.8874289772727273\n",
      "f1-measure-GP: 0.8172007848266345\n",
      "precision-overall: 0.7844110544674\n",
      "recall-overall: 0.8405692926969522\n",
      "f1-measure-overall: 0.8115197779319417\n"
     ]
    },
    {
     "name": "stderr",
     "output_type": "stream",
     "text": [
      " 94%|█████████▎| 15035/16068 [00:50<00:03, 285.51it/s]"
     ]
    },
    {
     "name": "stdout",
     "output_type": "stream",
     "text": [
      "precision-DS: 0.7933978372225384\n",
      "recall-DS: 0.6757149781871061\n",
      "f1-measure-DS: 0.729842931937123\n",
      "precision-OG: 0.8229354489722323\n",
      "recall-OG: 0.8553223388305847\n",
      "f1-measure-OG: 0.8388163940451623\n",
      "precision-untyped: 0.7991281809613572\n",
      "recall-untyped: 0.822480902146235\n",
      "f1-measure-untyped: 0.8106363907976794\n",
      "precision-GP: 0.7753916119252148\n",
      "recall-GP: 0.8728668941979523\n",
      "f1-measure-GP: 0.8212469895637714\n",
      "precision-overall: 0.7946512723845429\n",
      "recall-overall: 0.8178731659997575\n",
      "f1-measure-overall: 0.8060950104570758\n"
     ]
    },
    {
     "name": "stderr",
     "output_type": "stream",
     "text": [
      "100%|█████████▉| 16037/16068 [00:53<00:00, 297.67it/s]"
     ]
    },
    {
     "name": "stdout",
     "output_type": "stream",
     "text": [
      "precision-DS: 0.8025987006496752\n",
      "recall-DS: 0.692539887882708\n",
      "f1-measure-DS: 0.7435185185184688\n",
      "precision-OG: 0.8310698906922822\n",
      "recall-OG: 0.8571916638196105\n",
      "f1-measure-OG: 0.8439286915572997\n",
      "precision-untyped: 0.8030450275348234\n",
      "recall-untyped: 0.8262415287190312\n",
      "f1-measure-untyped: 0.8144781513524855\n",
      "precision-GP: 0.7736382928554586\n",
      "recall-GP: 0.8737683089214381\n",
      "f1-measure-GP: 0.8206603301650328\n",
      "precision-overall: 0.7986178598423497\n",
      "recall-overall: 0.82168647928008\n",
      "f1-measure-overall: 0.8099879531266613\n"
     ]
    },
    {
     "name": "stderr",
     "output_type": "stream",
     "text": [
      "100%|██████████| 16068/16068 [00:54<00:00, 297.44it/s]\n",
      "  0%|          | 0/79401 [00:00<?, ?it/s]"
     ]
    },
    {
     "name": "stdout",
     "output_type": "stream",
     "text": [
      "precision-untyped: \t\t 0.8026542943461372\n",
      "recall-untyped: \t\t 0.8262801288459403\n",
      "f1-measure-untyped: \t\t 0.8142958787148534\n",
      "precision-overall: \t\t 0.7982304704359086\n",
      "recall-overall: \t\t 0.8217260913028991\n",
      "f1-measure-overall: \t\t 0.8098078922882759\n",
      "6--7\n"
     ]
    },
    {
     "name": "stderr",
     "output_type": "stream",
     "text": [
      "  8%|▊         | 6528/79401 [00:17<03:19, 365.94it/s]"
     ]
    },
    {
     "name": "stdout",
     "output_type": "stream",
     "text": [
      "sum loss: 476.2304795005093\n"
     ]
    },
    {
     "name": "stderr",
     "output_type": "stream",
     "text": [
      " 16%|█▋        | 12928/79401 [00:34<02:53, 384.11it/s]"
     ]
    },
    {
     "name": "stdout",
     "output_type": "stream",
     "text": [
      "sum loss: 1084.7739756255396\n"
     ]
    },
    {
     "name": "stderr",
     "output_type": "stream",
     "text": [
      " 24%|██▍       | 19328/79401 [00:52<02:38, 379.02it/s]"
     ]
    },
    {
     "name": "stdout",
     "output_type": "stream",
     "text": [
      "sum loss: 1607.2635177281209\n"
     ]
    },
    {
     "name": "stderr",
     "output_type": "stream",
     "text": [
      " 32%|███▏      | 25728/79401 [01:09<02:10, 410.72it/s]"
     ]
    },
    {
     "name": "stdout",
     "output_type": "stream",
     "text": [
      "sum loss: 2181.482827043892\n"
     ]
    },
    {
     "name": "stderr",
     "output_type": "stream",
     "text": [
      " 40%|████      | 32128/79401 [01:25<02:02, 386.23it/s]"
     ]
    },
    {
     "name": "stdout",
     "output_type": "stream",
     "text": [
      "sum loss: 2718.7870409549823\n"
     ]
    },
    {
     "name": "stderr",
     "output_type": "stream",
     "text": [
      " 49%|████▊     | 38528/79401 [01:41<01:52, 363.68it/s]"
     ]
    },
    {
     "name": "stdout",
     "output_type": "stream",
     "text": [
      "sum loss: 3347.1154011340177\n"
     ]
    },
    {
     "name": "stderr",
     "output_type": "stream",
     "text": [
      " 57%|█████▋    | 44928/79401 [01:58<01:38, 349.59it/s]"
     ]
    },
    {
     "name": "stdout",
     "output_type": "stream",
     "text": [
      "sum loss: 3893.5367691125048\n"
     ]
    },
    {
     "name": "stderr",
     "output_type": "stream",
     "text": [
      " 65%|██████▍   | 51328/79401 [02:15<01:16, 368.78it/s]"
     ]
    },
    {
     "name": "stdout",
     "output_type": "stream",
     "text": [
      "sum loss: 4443.9862198916835\n"
     ]
    },
    {
     "name": "stderr",
     "output_type": "stream",
     "text": [
      " 73%|███████▎  | 57728/79401 [02:31<00:57, 380.00it/s]"
     ]
    },
    {
     "name": "stdout",
     "output_type": "stream",
     "text": [
      "sum loss: 5027.784181995001\n"
     ]
    },
    {
     "name": "stderr",
     "output_type": "stream",
     "text": [
      " 81%|████████  | 64128/79401 [02:48<00:40, 376.79it/s]"
     ]
    },
    {
     "name": "stdout",
     "output_type": "stream",
     "text": [
      "sum loss: 5704.26869031657\n"
     ]
    },
    {
     "name": "stderr",
     "output_type": "stream",
     "text": [
      " 89%|████████▉ | 70528/79401 [03:04<00:23, 383.10it/s]"
     ]
    },
    {
     "name": "stdout",
     "output_type": "stream",
     "text": [
      "sum loss: 6296.609338870672\n"
     ]
    },
    {
     "name": "stderr",
     "output_type": "stream",
     "text": [
      " 97%|█████████▋| 76928/79401 [03:21<00:06, 382.81it/s]"
     ]
    },
    {
     "name": "stdout",
     "output_type": "stream",
     "text": [
      "sum loss: 6880.779375210905\n"
     ]
    },
    {
     "name": "stderr",
     "output_type": "stream",
     "text": [
      "100%|██████████| 79401/79401 [03:27<00:00, 382.53it/s]\n"
     ]
    },
    {
     "name": "stdout",
     "output_type": "stream",
     "text": [
      "Saved model to /nfs/gns/literature/Santosh_Tirunagari/GitHub/spacy_models/pretrain_exp/6\n",
      "Loading from /nfs/gns/literature/Santosh_Tirunagari/GitHub/spacy_models/pretrain_exp/6\n"
     ]
    },
    {
     "name": "stderr",
     "output_type": "stream",
     "text": [
      "  0%|          | 30/16068 [00:00<00:54, 295.41it/s]"
     ]
    },
    {
     "name": "stdout",
     "output_type": "stream",
     "text": [
      "Evaluating 16068 rows\n"
     ]
    },
    {
     "name": "stderr",
     "output_type": "stream",
     "text": [
      "  7%|▋         | 1054/16068 [00:03<00:47, 318.50it/s]"
     ]
    },
    {
     "name": "stdout",
     "output_type": "stream",
     "text": [
      "precision-DS: 0.8319999999999993\n",
      "recall-DS: 0.8888888888888882\n",
      "f1-measure-DS: 0.8595041322313544\n",
      "precision-OG: 0.6506849315068488\n",
      "recall-OG: 0.6291390728476817\n",
      "f1-measure-OG: 0.6397306397305893\n",
      "precision-untyped: 0.7974025974025971\n",
      "recall-untyped: 0.7932816537467698\n",
      "f1-measure-untyped: 0.7953367875647166\n",
      "precision-GP: 0.9473684210526307\n",
      "recall-GP: 0.9075630252100833\n",
      "f1-measure-GP: 0.9270386266093913\n",
      "precision-overall: 0.7974025974025971\n",
      "recall-overall: 0.7932816537467698\n",
      "f1-measure-overall: 0.7953367875647166\n"
     ]
    },
    {
     "name": "stderr",
     "output_type": "stream",
     "text": [
      " 13%|█▎        | 2029/16068 [00:06<00:38, 361.79it/s]"
     ]
    },
    {
     "name": "stdout",
     "output_type": "stream",
     "text": [
      "precision-DS: 0.8268156424581\n",
      "recall-DS: 0.8314606741573028\n",
      "f1-measure-DS: 0.8291316526610139\n",
      "precision-OG: 0.8196721311475408\n",
      "recall-OG: 0.7085020242914978\n",
      "f1-measure-OG: 0.7600434310531532\n",
      "precision-untyped: 0.7968561064087061\n",
      "recall-untyped: 0.7653890824622531\n",
      "f1-measure-untyped: 0.7808056872037414\n",
      "precision-GP: 0.7285067873303164\n",
      "recall-GP: 0.8518518518518513\n",
      "f1-measure-GP: 0.7853658536584865\n",
      "precision-overall: 0.7968561064087061\n",
      "recall-overall: 0.7653890824622531\n",
      "f1-measure-overall: 0.7808056872037414\n"
     ]
    },
    {
     "name": "stderr",
     "output_type": "stream",
     "text": [
      " 19%|█▉        | 3055/16068 [00:09<00:46, 277.17it/s]"
     ]
    },
    {
     "name": "stdout",
     "output_type": "stream",
     "text": [
      "precision-DS: 0.8230452674897115\n",
      "recall-DS: 0.7662835249042143\n",
      "f1-measure-DS: 0.7936507936507434\n",
      "precision-OG: 0.8120915032679737\n",
      "recall-OG: 0.7462462462462461\n",
      "f1-measure-OG: 0.7777777777777278\n",
      "precision-untyped: 0.7354651162790697\n",
      "recall-untyped: 0.7838884585592564\n",
      "f1-measure-untyped: 0.758905136857843\n",
      "precision-GP: 0.600767754318618\n",
      "recall-GP: 0.8598901098901096\n",
      "f1-measure-GP: 0.707344632768313\n",
      "precision-overall: 0.7340116279069767\n",
      "recall-overall: 0.7823392718822618\n",
      "f1-measure-overall: 0.7574053243344082\n"
     ]
    },
    {
     "name": "stderr",
     "output_type": "stream",
     "text": [
      " 25%|██▌       | 4050/16068 [00:13<00:41, 289.99it/s]"
     ]
    },
    {
     "name": "stdout",
     "output_type": "stream",
     "text": [
      "precision-DS: 0.8188679245283015\n",
      "recall-DS: 0.7667844522968195\n",
      "f1-measure-DS: 0.7919708029196578\n",
      "precision-OG: 0.8237410071942445\n",
      "recall-OG: 0.780681818181818\n",
      "f1-measure-OG: 0.8016336056008834\n",
      "precision-untyped: 0.7550535077288941\n",
      "recall-untyped: 0.7987421383647799\n",
      "f1-measure-untyped: 0.776283618581857\n",
      "precision-GP: 0.6226415094339621\n",
      "recall-GP: 0.8501170960187351\n",
      "f1-measure-GP: 0.7188118811880699\n",
      "precision-overall: 0.753269916765755\n",
      "recall-overall: 0.7968553459119497\n",
      "f1-measure-overall: 0.7744498777505613\n"
     ]
    },
    {
     "name": "stderr",
     "output_type": "stream",
     "text": [
      " 31%|███▏      | 5034/16068 [00:16<00:36, 303.75it/s]"
     ]
    },
    {
     "name": "stdout",
     "output_type": "stream",
     "text": [
      "precision-DS: 0.8321995464852605\n",
      "recall-DS: 0.8101545253863133\n",
      "f1-measure-DS: 0.821029082773999\n",
      "precision-OG: 0.8415637860082303\n",
      "recall-OG: 0.801175318315377\n",
      "f1-measure-OG: 0.8208730556948823\n",
      "precision-untyped: 0.7883877159309021\n",
      "recall-untyped: 0.8219109554777388\n",
      "f1-measure-untyped: 0.804800391868674\n",
      "precision-GP: 0.6646795827123695\n",
      "recall-GP: 0.8495238095238093\n",
      "f1-measure-GP: 0.7458193979932617\n",
      "precision-overall: 0.7826295585412668\n",
      "recall-overall: 0.8159079539769885\n",
      "f1-measure-overall: 0.7989223610090119\n"
     ]
    },
    {
     "name": "stderr",
     "output_type": "stream",
     "text": [
      " 38%|███▊      | 6037/16068 [00:19<00:34, 287.04it/s]"
     ]
    },
    {
     "name": "stdout",
     "output_type": "stream",
     "text": [
      "precision-DS: 0.8183760683760681\n",
      "recall-DS: 0.8148936170212764\n",
      "f1-measure-DS: 0.8166311300639157\n",
      "precision-OG: 0.8242333582647718\n",
      "recall-OG: 0.8267066766691673\n",
      "f1-measure-OG: 0.8254681647939576\n",
      "precision-untyped: 0.7854093907644548\n",
      "recall-untyped: 0.8332647179909428\n",
      "f1-measure-untyped: 0.8086296444266382\n",
      "precision-GP: 0.6813471502590672\n",
      "recall-GP: 0.8402555910543129\n",
      "f1-measure-GP: 0.7525035765378617\n",
      "precision-overall: 0.7803647652308886\n",
      "recall-overall: 0.8279127212844792\n",
      "f1-measure-overall: 0.803435876947613\n"
     ]
    },
    {
     "name": "stderr",
     "output_type": "stream",
     "text": [
      " 44%|████▍     | 7033/16068 [00:23<00:32, 278.71it/s]"
     ]
    },
    {
     "name": "stdout",
     "output_type": "stream",
     "text": [
      "precision-DS: 0.8289269051321927\n",
      "recall-DS: 0.8302180685358254\n",
      "f1-measure-DS: 0.8295719844357474\n",
      "precision-OG: 0.8376018626309663\n",
      "recall-OG: 0.8444835680751174\n",
      "f1-measure-OG: 0.8410286382232114\n",
      "precision-untyped: 0.8023079259034315\n",
      "recall-untyped: 0.8446291560102301\n",
      "f1-measure-untyped: 0.8229247780719016\n",
      "precision-GP: 0.6974248927038625\n",
      "recall-GP: 0.8312020460358055\n",
      "f1-measure-GP: 0.7584597432904987\n",
      "precision-overall: 0.7962344366838748\n",
      "recall-overall: 0.8382352941176471\n",
      "f1-measure-overall: 0.8166952188132189\n"
     ]
    },
    {
     "name": "stderr",
     "output_type": "stream",
     "text": [
      " 50%|█████     | 8040/16068 [00:26<00:27, 288.51it/s]"
     ]
    },
    {
     "name": "stdout",
     "output_type": "stream",
     "text": [
      "precision-DS: 0.8140043763676148\n",
      "recall-DS: 0.7417746759720837\n",
      "f1-measure-DS: 0.7762128325508107\n",
      "precision-OG: 0.8310919849381387\n",
      "recall-OG: 0.8512396694214877\n",
      "f1-measure-OG: 0.8410451823624977\n",
      "precision-untyped: 0.7923536439665472\n",
      "recall-untyped: 0.8361069087241553\n",
      "f1-measure-untyped: 0.8136424978529742\n",
      "precision-GP: 0.7089235127478754\n",
      "recall-GP: 0.8719512195121951\n",
      "f1-measure-GP: 0.7820312499999507\n",
      "precision-overall: 0.7861409796893668\n",
      "recall-overall: 0.8295511850731215\n",
      "f1-measure-overall: 0.8072629125260207\n"
     ]
    },
    {
     "name": "stderr",
     "output_type": "stream",
     "text": [
      " 56%|█████▋    | 9053/16068 [00:29<00:22, 309.21it/s]"
     ]
    },
    {
     "name": "stdout",
     "output_type": "stream",
     "text": [
      "precision-DS: 0.8129496402877697\n",
      "recall-DS: 0.7469310670443815\n",
      "f1-measure-DS: 0.7785433070865644\n",
      "precision-OG: 0.8318501170960187\n",
      "recall-OG: 0.8457142857142858\n",
      "f1-measure-OG: 0.8387249114521343\n",
      "precision-untyped: 0.7912797739200645\n",
      "recall-untyped: 0.8376068376068376\n",
      "f1-measure-untyped: 0.8137845131824288\n",
      "precision-GP: 0.7166847237269772\n",
      "recall-GP: 0.8698224852071006\n",
      "f1-measure-GP: 0.7858627858627364\n",
      "precision-overall: 0.7852240613645539\n",
      "recall-overall: 0.8311965811965812\n",
      "f1-measure-overall: 0.8075565704795017\n"
     ]
    },
    {
     "name": "stderr",
     "output_type": "stream",
     "text": [
      " 63%|██████▎   | 10046/16068 [00:32<00:16, 371.01it/s]"
     ]
    },
    {
     "name": "stdout",
     "output_type": "stream",
     "text": [
      "precision-DS: 0.8110316649642492\n",
      "recall-DS: 0.7476459510357816\n",
      "f1-measure-DS: 0.7780499755021549\n",
      "precision-OG: 0.8318501170960187\n",
      "recall-OG: 0.8457142857142858\n",
      "f1-measure-OG: 0.8387249114521343\n",
      "precision-untyped: 0.7855312438399369\n",
      "recall-untyped: 0.8389473684210527\n",
      "f1-measure-untyped: 0.8113610913162486\n",
      "precision-GP: 0.7069933639612047\n",
      "recall-GP: 0.8721662468513854\n",
      "f1-measure-GP: 0.7809416408231815\n",
      "precision-overall: 0.7796175832840528\n",
      "recall-overall: 0.8326315789473684\n",
      "f1-measure-overall: 0.8052529777053354\n"
     ]
    },
    {
     "name": "stderr",
     "output_type": "stream",
     "text": [
      " 69%|██████▊   | 11046/16068 [00:35<00:21, 228.66it/s]"
     ]
    },
    {
     "name": "stdout",
     "output_type": "stream",
     "text": [
      "precision-DS: 0.7674841053587648\n",
      "recall-DS: 0.7551385165326184\n",
      "f1-measure-DS: 0.7612612612612113\n",
      "precision-OG: 0.8353211009174312\n",
      "recall-OG: 0.848160223567769\n",
      "f1-measure-OG: 0.8416917032585588\n",
      "precision-untyped: 0.7800829875518672\n",
      "recall-untyped: 0.8408213051433218\n",
      "f1-measure-untyped: 0.8093141571274328\n",
      "precision-GP: 0.7125185551707076\n",
      "recall-GP: 0.8711433756805808\n",
      "f1-measure-GP: 0.7838867719106746\n",
      "precision-overall: 0.7744247453791022\n",
      "recall-overall: 0.8347225045741005\n",
      "f1-measure-overall: 0.8034438900302799\n"
     ]
    },
    {
     "name": "stderr",
     "output_type": "stream",
     "text": [
      " 75%|███████▍  | 12026/16068 [00:38<00:12, 320.94it/s]"
     ]
    },
    {
     "name": "stdout",
     "output_type": "stream",
     "text": [
      "precision-DS: 0.7614826752618856\n",
      "recall-DS: 0.7224770642201835\n",
      "f1-measure-DS: 0.7414672420556582\n",
      "precision-OG: 0.835070231082918\n",
      "recall-OG: 0.8427069044352995\n",
      "f1-measure-OG: 0.8388711879835642\n",
      "precision-untyped: 0.7806691449814126\n",
      "recall-untyped: 0.8297271872060207\n",
      "f1-measure-untyped: 0.8044509303173524\n",
      "precision-GP: 0.7233075874602454\n",
      "recall-GP: 0.8747252747252747\n",
      "f1-measure-GP: 0.7918428251678191\n",
      "precision-overall: 0.7753584705257568\n",
      "recall-overall: 0.8240827845719662\n",
      "f1-measure-overall: 0.7989784750090708\n"
     ]
    },
    {
     "name": "stderr",
     "output_type": "stream",
     "text": [
      " 81%|████████  | 13033/16068 [00:41<00:10, 298.47it/s]"
     ]
    },
    {
     "name": "stdout",
     "output_type": "stream",
     "text": [
      "precision-DS: 0.7623626373626373\n",
      "recall-DS: 0.7370517928286853\n",
      "f1-measure-DS: 0.7494935854152099\n",
      "precision-OG: 0.8410367170626349\n",
      "recall-OG: 0.8461538461538461\n",
      "f1-measure-OG: 0.8435875216637281\n",
      "precision-untyped: 0.791427660930529\n",
      "recall-untyped: 0.836899747262005\n",
      "f1-measure-untyped: 0.8135287855212013\n",
      "precision-GP: 0.7485029940119761\n",
      "recall-GP: 0.881109022556391\n",
      "f1-measure-GP: 0.8094107489746968\n",
      "precision-overall: 0.7858508604206501\n",
      "recall-overall: 0.8310025273799495\n",
      "f1-measure-overall: 0.8077962492833831\n"
     ]
    },
    {
     "name": "stderr",
     "output_type": "stream",
     "text": [
      " 87%|████████▋ | 14038/16068 [00:44<00:05, 340.29it/s]"
     ]
    },
    {
     "name": "stdout",
     "output_type": "stream",
     "text": [
      "precision-DS: 0.7787391841779975\n",
      "recall-DS: 0.7508939213349225\n",
      "f1-measure-DS: 0.7645631067960664\n",
      "precision-OG: 0.8256185155626496\n",
      "recall-OG: 0.8403736799350122\n",
      "f1-measure-OG: 0.8329307568437504\n",
      "precision-untyped: 0.7912949445796161\n",
      "recall-untyped: 0.8415756181713628\n",
      "f1-measure-untyped: 0.8156611397519355\n",
      "precision-GP: 0.7599266951740989\n",
      "recall-GP: 0.8835227272727273\n",
      "f1-measure-GP: 0.8170771756978157\n",
      "precision-overall: 0.7862935928629359\n",
      "recall-overall: 0.8362564692351926\n",
      "f1-measure-overall: 0.8105057823602677\n"
     ]
    },
    {
     "name": "stderr",
     "output_type": "stream",
     "text": [
      " 94%|█████████▍| 15065/16068 [00:48<00:03, 304.47it/s]"
     ]
    },
    {
     "name": "stdout",
     "output_type": "stream",
     "text": [
      "precision-DS: 0.7934904601571269\n",
      "recall-DS: 0.6854095976732913\n",
      "f1-measure-DS: 0.735500650195009\n",
      "precision-OG: 0.824067300658376\n",
      "recall-OG: 0.8444527736131934\n",
      "f1-measure-OG: 0.8341355053683321\n",
      "precision-untyped: 0.7988859919412183\n",
      "recall-untyped: 0.8173881411422336\n",
      "f1-measure-untyped: 0.8080311657176605\n",
      "precision-GP: 0.7738398776134625\n",
      "recall-GP: 0.8631968145620023\n",
      "f1-measure-GP: 0.8160795912879308\n",
      "precision-overall: 0.7942640436122304\n",
      "recall-overall: 0.812659148781375\n",
      "f1-measure-overall: 0.8033563080610828\n"
     ]
    },
    {
     "name": "stderr",
     "output_type": "stream",
     "text": [
      "100%|█████████▉| 16031/16068 [00:51<00:00, 305.79it/s]"
     ]
    },
    {
     "name": "stdout",
     "output_type": "stream",
     "text": [
      "precision-DS: 0.8019704433497536\n",
      "recall-DS: 0.7020267356619232\n",
      "f1-measure-DS: 0.748677856978566\n",
      "precision-OG: 0.8319919517102615\n",
      "recall-OG: 0.8476255551759481\n",
      "f1-measure-OG: 0.8397359959383491\n",
      "precision-untyped: 0.8018642965532191\n",
      "recall-untyped: 0.8219086768136874\n",
      "f1-measure-untyped: 0.8117627695176985\n",
      "precision-GP: 0.7705268153773137\n",
      "recall-GP: 0.8647137150466045\n",
      "f1-measure-GP: 0.8149077675993982\n",
      "precision-overall: 0.7973119445046607\n",
      "recall-overall: 0.8172425286079325\n",
      "f1-measure-overall: 0.8071542217588791\n"
     ]
    },
    {
     "name": "stderr",
     "output_type": "stream",
     "text": [
      "100%|██████████| 16068/16068 [00:52<00:00, 308.46it/s]\n"
     ]
    },
    {
     "name": "stdout",
     "output_type": "stream",
     "text": [
      "precision-untyped: \t\t 0.8014729773638037\n",
      "recall-untyped: \t\t 0.8219482394757303\n",
      "f1-measure-untyped: \t\t 0.8115814871681888\n",
      "precision-overall: \t\t 0.7969240766814687\n",
      "recall-overall: \t\t 0.8172831278462734\n",
      "f1-measure-overall: \t\t 0.8069752138626392\n",
      "Best Epoch: 5 of 7\n",
      "Loading from /nfs/gns/literature/Santosh_Tirunagari/GitHub/spacy_models/pretrain_exp/best\n"
     ]
    },
    {
     "name": "stderr",
     "output_type": "stream",
     "text": [
      "  0%|          | 28/16068 [00:00<00:57, 279.15it/s]"
     ]
    },
    {
     "name": "stdout",
     "output_type": "stream",
     "text": [
      "Evaluating 16068 rows\n"
     ]
    },
    {
     "name": "stderr",
     "output_type": "stream",
     "text": [
      "  6%|▋         | 1029/16068 [00:03<00:47, 316.77it/s]"
     ]
    },
    {
     "name": "stdout",
     "output_type": "stream",
     "text": [
      "precision-DS: 0.8387096774193542\n",
      "recall-DS: 0.8888888888888882\n",
      "f1-measure-DS: 0.8630705394190364\n",
      "precision-OG: 0.6413793103448271\n",
      "recall-OG: 0.6158940397350988\n",
      "f1-measure-OG: 0.6283783783783279\n",
      "precision-untyped: 0.796344647519582\n",
      "recall-untyped: 0.788113695090439\n",
      "f1-measure-untyped: 0.7922077922077421\n",
      "precision-GP: 0.9473684210526307\n",
      "recall-GP: 0.9075630252100833\n",
      "f1-measure-GP: 0.9270386266093913\n",
      "precision-overall: 0.796344647519582\n",
      "recall-overall: 0.788113695090439\n",
      "f1-measure-overall: 0.7922077922077421\n"
     ]
    },
    {
     "name": "stderr",
     "output_type": "stream",
     "text": [
      " 13%|█▎        | 2044/16068 [00:06<00:40, 346.77it/s]"
     ]
    },
    {
     "name": "stdout",
     "output_type": "stream",
     "text": [
      "precision-DS: 0.8370786516853927\n",
      "recall-DS: 0.8370786516853927\n",
      "f1-measure-DS: 0.8370786516853428\n",
      "precision-OG: 0.8236607142857141\n",
      "recall-OG: 0.7469635627530362\n",
      "f1-measure-OG: 0.7834394904458098\n",
      "precision-untyped: 0.8059171597633135\n",
      "recall-untyped: 0.7909407665505226\n",
      "f1-measure-untyped: 0.7983587338803719\n",
      "precision-GP: 0.744292237442922\n",
      "recall-GP: 0.8624338624338619\n",
      "f1-measure-GP: 0.7990196078430871\n",
      "precision-overall: 0.8059171597633135\n",
      "recall-overall: 0.7909407665505226\n",
      "f1-measure-overall: 0.7983587338803719\n"
     ]
    },
    {
     "name": "stderr",
     "output_type": "stream",
     "text": [
      " 19%|█▉        | 3049/16068 [00:10<00:48, 270.68it/s]"
     ]
    },
    {
     "name": "stdout",
     "output_type": "stream",
     "text": [
      "precision-DS: 0.8257261410788378\n",
      "recall-DS: 0.7624521072796931\n",
      "f1-measure-DS: 0.7928286852589139\n",
      "precision-OG: 0.8205928237129484\n",
      "recall-OG: 0.7897897897897896\n",
      "f1-measure-OG: 0.8048967100229033\n",
      "precision-untyped: 0.7317415730337079\n",
      "recall-untyped: 0.8071262587141751\n",
      "f1-measure-untyped: 0.7675874769796923\n",
      "precision-GP: 0.581180811808118\n",
      "recall-GP: 0.8653846153846151\n",
      "f1-measure-GP: 0.6953642384105477\n",
      "precision-overall: 0.7303370786516854\n",
      "recall-overall: 0.8055770720371804\n",
      "f1-measure-overall: 0.7661141804787716\n"
     ]
    },
    {
     "name": "stderr",
     "output_type": "stream",
     "text": [
      " 25%|██▌       | 4052/16068 [00:13<00:43, 277.93it/s]"
     ]
    },
    {
     "name": "stdout",
     "output_type": "stream",
     "text": [
      "precision-DS: 0.8181818181818178\n",
      "recall-DS: 0.7632508833922258\n",
      "f1-measure-DS: 0.7897623400365127\n",
      "precision-OG: 0.8308227114716106\n",
      "recall-OG: 0.8147727272727272\n",
      "f1-measure-OG: 0.8227194492254233\n",
      "precision-untyped: 0.7530364372469636\n",
      "recall-untyped: 0.8188679245283019\n",
      "f1-measure-untyped: 0.7845736667670488\n",
      "precision-GP: 0.6079734219269102\n",
      "recall-GP: 0.8571428571428569\n",
      "f1-measure-GP: 0.711370262390622\n",
      "precision-overall: 0.7513013302486987\n",
      "recall-overall: 0.8169811320754717\n",
      "f1-measure-overall: 0.782765893341318\n"
     ]
    },
    {
     "name": "stderr",
     "output_type": "stream",
     "text": [
      " 31%|███▏      | 5033/16068 [00:16<00:37, 295.80it/s]"
     ]
    },
    {
     "name": "stdout",
     "output_type": "stream",
     "text": [
      "precision-DS: 0.8325688073394494\n",
      "recall-DS: 0.801324503311258\n",
      "f1-measure-DS: 0.8166479190100736\n",
      "precision-OG: 0.8469999999999999\n",
      "recall-OG: 0.8295788442703231\n",
      "f1-measure-OG: 0.838198911429935\n",
      "precision-untyped: 0.7861516721620349\n",
      "recall-untyped: 0.8349174587293647\n",
      "f1-measure-untyped: 0.8098010674429389\n",
      "precision-GP: 0.650655021834061\n",
      "recall-GP: 0.8514285714285712\n",
      "f1-measure-GP: 0.7376237623761883\n",
      "precision-overall: 0.7804992934526613\n",
      "recall-overall: 0.8289144572286143\n",
      "f1-measure-overall: 0.8039786511401732\n"
     ]
    },
    {
     "name": "stderr",
     "output_type": "stream",
     "text": [
      " 38%|███▊      | 6037/16068 [00:19<00:35, 280.24it/s]"
     ]
    },
    {
     "name": "stdout",
     "output_type": "stream",
     "text": [
      "precision-DS: 0.8185745140388767\n",
      "recall-DS: 0.806382978723404\n",
      "f1-measure-DS: 0.8124330117898748\n",
      "precision-OG: 0.8161499639509733\n",
      "recall-OG: 0.8492123030757689\n",
      "f1-measure-OG: 0.8323529411764207\n",
      "precision-untyped: 0.7784522003034902\n",
      "recall-untyped: 0.8447920955125566\n",
      "f1-measure-untyped: 0.8102665350443725\n",
      "precision-GP: 0.6717557251908396\n",
      "recall-GP: 0.8434504792332267\n",
      "f1-measure-GP: 0.7478753541075994\n",
      "precision-overall: 0.7735204855842185\n",
      "recall-overall: 0.839440098806093\n",
      "f1-measure-overall: 0.8051332675221614\n"
     ]
    },
    {
     "name": "stderr",
     "output_type": "stream",
     "text": [
      " 44%|████▍     | 7037/16068 [00:23<00:33, 271.13it/s]"
     ]
    },
    {
     "name": "stdout",
     "output_type": "stream",
     "text": [
      "precision-DS: 0.837025316455696\n",
      "recall-DS: 0.8239875389408098\n",
      "f1-measure-DS: 0.8304552590266375\n",
      "precision-OG: 0.8316326530612245\n",
      "recall-OG: 0.8609154929577465\n",
      "f1-measure-OG: 0.8460207612456248\n",
      "precision-untyped: 0.7979135618479881\n",
      "recall-untyped: 0.8558184143222506\n",
      "f1-measure-untyped: 0.8258522289063207\n",
      "precision-GP: 0.6861313868613138\n",
      "recall-GP: 0.8414322250639384\n",
      "f1-measure-GP: 0.7558874210223514\n",
      "precision-overall: 0.7910581222056632\n",
      "recall-overall: 0.84846547314578\n",
      "f1-measure-overall: 0.8187567484188919\n"
     ]
    },
    {
     "name": "stderr",
     "output_type": "stream",
     "text": [
      " 50%|█████     | 8049/16068 [00:27<00:28, 283.75it/s]"
     ]
    },
    {
     "name": "stdout",
     "output_type": "stream",
     "text": [
      "precision-DS: 0.8190789473684209\n",
      "recall-DS: 0.7447657028913259\n",
      "f1-measure-DS: 0.7801566579633965\n",
      "precision-OG: 0.8257217847769028\n",
      "recall-OG: 0.8666666666666667\n",
      "f1-measure-OG: 0.845698924731133\n",
      "precision-untyped: 0.7902048504826936\n",
      "recall-untyped: 0.8461926374180535\n",
      "f1-measure-untyped: 0.8172409594544735\n",
      "precision-GP: 0.7062937062937062\n",
      "recall-GP: 0.8797909407665505\n",
      "f1-measure-GP: 0.7835531419704703\n",
      "precision-overall: 0.7840828820343773\n",
      "recall-overall: 0.8396369137670197\n",
      "f1-measure-overall: 0.8109095336660892\n"
     ]
    },
    {
     "name": "stderr",
     "output_type": "stream",
     "text": [
      " 56%|█████▋    | 9062/16068 [00:30<00:22, 306.50it/s]"
     ]
    },
    {
     "name": "stdout",
     "output_type": "stream",
     "text": [
      "precision-DS: 0.8177136972193614\n",
      "recall-DS: 0.7497639282341831\n",
      "f1-measure-DS: 0.7822660098521669\n",
      "precision-OG: 0.8278236914600551\n",
      "recall-OG: 0.8585714285714285\n",
      "f1-measure-OG: 0.8429172510518435\n",
      "precision-untyped: 0.7891902672516953\n",
      "recall-untyped: 0.8455128205128205\n",
      "f1-measure-untyped: 0.8163812667628964\n",
      "precision-GP: 0.7136729222520107\n",
      "recall-GP: 0.8750821827744905\n",
      "f1-measure-GP: 0.7861783815711261\n",
      "precision-overall: 0.7834064619066613\n",
      "recall-overall: 0.8393162393162393\n",
      "f1-measure-overall: 0.8103981844439361\n"
     ]
    },
    {
     "name": "stderr",
     "output_type": "stream",
     "text": [
      " 63%|██████▎   | 10071/16068 [00:33<00:15, 382.73it/s]"
     ]
    },
    {
     "name": "stdout",
     "output_type": "stream",
     "text": [
      "precision-DS: 0.8157625383828044\n",
      "recall-DS: 0.7504708097928436\n",
      "f1-measure-DS: 0.7817557626286896\n",
      "precision-OG: 0.8278236914600551\n",
      "recall-OG: 0.8585714285714285\n",
      "f1-measure-OG: 0.8429172510518435\n",
      "precision-untyped: 0.7830996884735203\n",
      "recall-untyped: 0.8467368421052631\n",
      "f1-measure-untyped: 0.8136759053206056\n",
      "precision-GP: 0.7031802120141343\n",
      "recall-GP: 0.8772040302267002\n",
      "f1-measure-GP: 0.7806108153543916\n",
      "precision-overall: 0.7774532710280374\n",
      "recall-overall: 0.8406315789473684\n",
      "f1-measure-overall: 0.8078090228605612\n"
     ]
    },
    {
     "name": "stderr",
     "output_type": "stream",
     "text": [
      " 69%|██████▊   | 11043/16068 [00:36<00:22, 219.61it/s]"
     ]
    },
    {
     "name": "stdout",
     "output_type": "stream",
     "text": [
      "precision-DS: 0.7723132969034608\n",
      "recall-DS: 0.7578194816800715\n",
      "f1-measure-DS: 0.7649977446999953\n",
      "precision-OG: 0.8313090418353576\n",
      "recall-OG: 0.8607359105728924\n",
      "f1-measure-OG: 0.8457665903889661\n",
      "precision-untyped: 0.7779642058165548\n",
      "recall-untyped: 0.8483431591786949\n",
      "f1-measure-untyped: 0.8116308470290271\n",
      "precision-GP: 0.7087616250611846\n",
      "recall-GP: 0.8759830611010284\n",
      "f1-measure-GP: 0.7835497835497341\n",
      "precision-overall: 0.7725577926920209\n",
      "recall-overall: 0.8424476519617808\n",
      "f1-measure-overall: 0.805990469707234\n"
     ]
    },
    {
     "name": "stderr",
     "output_type": "stream",
     "text": [
      " 75%|███████▍  | 12020/16068 [00:39<00:12, 321.11it/s]"
     ]
    },
    {
     "name": "stdout",
     "output_type": "stream",
     "text": [
      "precision-DS: 0.7653225806451613\n",
      "recall-DS: 0.7255351681957186\n",
      "f1-measure-DS: 0.7448979591836236\n",
      "precision-OG: 0.8308170515097691\n",
      "recall-OG: 0.8555098308184728\n",
      "f1-measure-OG: 0.842982653750795\n",
      "precision-untyped: 0.7785364145658263\n",
      "recall-untyped: 0.8366886171213547\n",
      "f1-measure-untyped: 0.8065657023668676\n",
      "precision-GP: 0.7198198198198198\n",
      "recall-GP: 0.878021978021978\n",
      "f1-measure-GP: 0.7910891089108416\n",
      "precision-overall: 0.7734593837535014\n",
      "recall-overall: 0.8312323612417686\n",
      "f1-measure-overall: 0.8013058855535912\n"
     ]
    },
    {
     "name": "stderr",
     "output_type": "stream",
     "text": [
      " 81%|████████  | 13030/16068 [00:42<00:10, 288.23it/s]"
     ]
    },
    {
     "name": "stdout",
     "output_type": "stream",
     "text": [
      "precision-DS: 0.7668500687757909\n",
      "recall-DS: 0.7403718459495352\n",
      "f1-measure-DS: 0.7533783783783284\n",
      "precision-OG: 0.837643069097075\n",
      "recall-OG: 0.8587570621468926\n",
      "f1-measure-OG: 0.848068669527847\n",
      "precision-untyped: 0.7888100866824271\n",
      "recall-untyped: 0.8433024431339511\n",
      "f1-measure-untyped: 0.8151465798045103\n",
      "precision-GP: 0.7428909952606635\n",
      "recall-GP: 0.8839285714285714\n",
      "f1-measure-GP: 0.8072961373390062\n",
      "precision-overall: 0.7836091410559496\n",
      "recall-overall: 0.8377422072451558\n",
      "f1-measure-overall: 0.809771986970634\n"
     ]
    },
    {
     "name": "stderr",
     "output_type": "stream",
     "text": [
      " 87%|████████▋ | 14056/16068 [00:46<00:05, 337.13it/s]"
     ]
    },
    {
     "name": "stdout",
     "output_type": "stream",
     "text": [
      "precision-DS: 0.7793017456359103\n",
      "recall-DS: 0.7449344457687723\n",
      "f1-measure-DS: 0.7617306520413883\n",
      "precision-OG: 0.8227450980392157\n",
      "recall-OG: 0.8521527213647441\n",
      "f1-measure-OG: 0.8371907422186251\n",
      "precision-untyped: 0.7892406761470352\n",
      "recall-untyped: 0.8457446808510638\n",
      "f1-measure-untyped: 0.8165163081193118\n",
      "precision-GP: 0.7572727272727273\n",
      "recall-GP: 0.8874289772727273\n",
      "f1-measure-GP: 0.8172007848266345\n",
      "precision-overall: 0.7844110544674\n",
      "recall-overall: 0.8405692926969522\n",
      "f1-measure-overall: 0.8115197779319417\n"
     ]
    },
    {
     "name": "stderr",
     "output_type": "stream",
     "text": [
      " 94%|█████████▎| 15055/16068 [00:49<00:03, 291.77it/s]"
     ]
    },
    {
     "name": "stdout",
     "output_type": "stream",
     "text": [
      "precision-DS: 0.7933978372225384\n",
      "recall-DS: 0.6757149781871061\n",
      "f1-measure-DS: 0.729842931937123\n",
      "precision-OG: 0.8229354489722323\n",
      "recall-OG: 0.8553223388305847\n",
      "f1-measure-OG: 0.8388163940451623\n",
      "precision-untyped: 0.7991281809613572\n",
      "recall-untyped: 0.822480902146235\n",
      "f1-measure-untyped: 0.8106363907976794\n",
      "precision-GP: 0.7753916119252148\n",
      "recall-GP: 0.8728668941979523\n",
      "f1-measure-GP: 0.8212469895637714\n",
      "precision-overall: 0.7946512723845429\n",
      "recall-overall: 0.8178731659997575\n",
      "f1-measure-overall: 0.8060950104570758\n"
     ]
    },
    {
     "name": "stderr",
     "output_type": "stream",
     "text": [
      "100%|█████████▉| 16036/16068 [00:53<00:00, 302.49it/s]"
     ]
    },
    {
     "name": "stdout",
     "output_type": "stream",
     "text": [
      "precision-DS: 0.8025987006496752\n",
      "recall-DS: 0.692539887882708\n",
      "f1-measure-DS: 0.7435185185184688\n",
      "precision-OG: 0.8310698906922822\n",
      "recall-OG: 0.8571916638196105\n",
      "f1-measure-OG: 0.8439286915572997\n",
      "precision-untyped: 0.8030450275348234\n",
      "recall-untyped: 0.8262415287190312\n",
      "f1-measure-untyped: 0.8144781513524855\n",
      "precision-GP: 0.7736382928554586\n",
      "recall-GP: 0.8737683089214381\n",
      "f1-measure-GP: 0.8206603301650328\n",
      "precision-overall: 0.7986178598423497\n",
      "recall-overall: 0.82168647928008\n",
      "f1-measure-overall: 0.8099879531266613\n"
     ]
    },
    {
     "name": "stderr",
     "output_type": "stream",
     "text": [
      "100%|██████████| 16068/16068 [00:53<00:00, 300.83it/s]\n",
      "  0%|          | 28/17680 [00:00<01:04, 273.11it/s]"
     ]
    },
    {
     "name": "stdout",
     "output_type": "stream",
     "text": [
      "precision-untyped: \t\t 0.8026542943461372\n",
      "recall-untyped: \t\t 0.8262801288459403\n",
      "f1-measure-untyped: \t\t 0.8142958787148534\n",
      "precision-overall: \t\t 0.7982304704359086\n",
      "recall-overall: \t\t 0.8217260913028991\n",
      "f1-measure-overall: \t\t 0.8098078922882759\n",
      "Evaluating 17680 rows\n"
     ]
    },
    {
     "name": "stderr",
     "output_type": "stream",
     "text": [
      "  6%|▌         | 1044/17680 [00:03<00:57, 290.08it/s]"
     ]
    },
    {
     "name": "stdout",
     "output_type": "stream",
     "text": [
      "precision-GP: 0.840637450199203\n",
      "recall-GP: 0.6839546191247973\n",
      "f1-measure-GP: 0.7542448614834178\n",
      "precision-OG: 0.7911392405063286\n",
      "recall-OG: 0.9469696969696961\n",
      "f1-measure-OG: 0.862068965517191\n",
      "precision-untyped: 0.8249258160237387\n",
      "recall-untyped: 0.731578947368421\n",
      "f1-measure-untyped: 0.7754532775452779\n",
      "precision-DS: 0.6428571428571382\n",
      "recall-DS: 0.8181818181818108\n",
      "f1-measure-DS: 0.7199999999999449\n",
      "precision-overall: 0.8249258160237387\n",
      "recall-overall: 0.731578947368421\n",
      "f1-measure-overall: 0.7754532775452779\n"
     ]
    },
    {
     "name": "stderr",
     "output_type": "stream",
     "text": [
      " 12%|█▏        | 2036/17680 [00:06<00:51, 301.33it/s]"
     ]
    },
    {
     "name": "stdout",
     "output_type": "stream",
     "text": [
      "precision-GP: 0.8320413436692505\n",
      "recall-GP: 0.7359999999999999\n",
      "f1-measure-GP: 0.7810794420860628\n",
      "precision-OG: 0.8289085545722711\n",
      "recall-OG: 0.9557823129251697\n",
      "f1-measure-OG: 0.8878357030015297\n",
      "precision-untyped: 0.8249110320284697\n",
      "recall-untyped: 0.811624649859944\n",
      "f1-measure-untyped: 0.8182139075184817\n",
      "precision-DS: 0.7979452054794517\n",
      "recall-DS: 0.8996138996138993\n",
      "f1-measure-DS: 0.8457350272231804\n",
      "precision-overall: 0.8241992882562278\n",
      "recall-overall: 0.8109243697478992\n",
      "f1-measure-overall: 0.8175079421107867\n"
     ]
    },
    {
     "name": "stderr",
     "output_type": "stream",
     "text": [
      " 17%|█▋        | 3035/17680 [00:09<00:39, 374.65it/s]"
     ]
    },
    {
     "name": "stdout",
     "output_type": "stream",
     "text": [
      "precision-GP: 0.8036750483558994\n",
      "recall-GP: 0.73215859030837\n",
      "f1-measure-GP: 0.7662517289072807\n",
      "precision-OG: 0.8644067796610168\n",
      "recall-OG: 0.9379310344827584\n",
      "f1-measure-OG: 0.8996692392502256\n",
      "precision-untyped: 0.8177874186550976\n",
      "recall-untyped: 0.7991520932697403\n",
      "f1-measure-untyped: 0.8083623693379293\n",
      "precision-DS: 0.7928994082840234\n",
      "recall-DS: 0.8454258675078862\n",
      "f1-measure-DS: 0.8183206106869727\n",
      "precision-overall: 0.8172451193058569\n",
      "recall-overall: 0.798622151563328\n",
      "f1-measure-overall: 0.807826320021392\n"
     ]
    },
    {
     "name": "stderr",
     "output_type": "stream",
     "text": [
      " 23%|██▎       | 4042/17680 [00:13<00:51, 263.25it/s]"
     ]
    },
    {
     "name": "stdout",
     "output_type": "stream",
     "text": [
      "precision-GP: 0.8418772563176895\n",
      "recall-GP: 0.7532299741602068\n",
      "f1-measure-GP: 0.7950903511762202\n",
      "precision-OG: 0.8261494252873561\n",
      "recall-OG: 0.9380097879282216\n",
      "f1-measure-OG: 0.8785332314743579\n",
      "precision-untyped: 0.8352\n",
      "recall-untyped: 0.8162627052384676\n",
      "f1-measure-untyped: 0.8256227758006618\n",
      "precision-DS: 0.8210023866348446\n",
      "recall-DS: 0.8664987405541559\n",
      "f1-measure-DS: 0.8431372549019106\n",
      "precision-overall: 0.834\n",
      "recall-overall: 0.8150899139953088\n",
      "f1-measure-overall: 0.8244365361802585\n"
     ]
    },
    {
     "name": "stderr",
     "output_type": "stream",
     "text": [
      " 29%|██▊       | 5055/17680 [00:16<00:42, 294.06it/s]"
     ]
    },
    {
     "name": "stdout",
     "output_type": "stream",
     "text": [
      "precision-GP: 0.8063314711359404\n",
      "recall-GP: 0.7977890373099954\n",
      "f1-measure-GP: 0.8020375086825154\n",
      "precision-OG: 0.8342728297632468\n",
      "recall-OG: 0.9331651954602773\n",
      "f1-measure-OG: 0.8809523809523311\n",
      "precision-untyped: 0.8196675119752043\n",
      "recall-untyped: 0.8417245370370371\n",
      "f1-measure-untyped: 0.8305496074232193\n",
      "precision-DS: 0.8365758754863811\n",
      "recall-DS: 0.8739837398373982\n",
      "f1-measure-DS: 0.8548707753478624\n",
      "precision-overall: 0.817695125387433\n",
      "recall-overall: 0.8396990740740741\n",
      "f1-measure-overall: 0.8285510349749678\n"
     ]
    },
    {
     "name": "stderr",
     "output_type": "stream",
     "text": [
      " 34%|███▍      | 6034/17680 [00:19<00:40, 290.45it/s]"
     ]
    },
    {
     "name": "stdout",
     "output_type": "stream",
     "text": [
      "precision-GP: 0.809560823940925\n",
      "recall-GP: 0.809560823940925\n",
      "f1-measure-GP: 0.8095608239408749\n",
      "precision-OG: 0.8436516264428121\n",
      "recall-OG: 0.937062937062937\n",
      "f1-measure-OG: 0.887907233572562\n",
      "precision-untyped: 0.8227106227106227\n",
      "recall-untyped: 0.8424606151537885\n",
      "f1-measure-untyped: 0.832468495181566\n",
      "precision-DS: 0.8347978910369067\n",
      "recall-DS: 0.8362676056338026\n",
      "f1-measure-DS: 0.8355321020228171\n",
      "precision-overall: 0.821001221001221\n",
      "recall-overall: 0.8407101775443862\n",
      "f1-measure-overall: 0.8307388188781314\n"
     ]
    },
    {
     "name": "stderr",
     "output_type": "stream",
     "text": [
      " 40%|███▉      | 7038/17680 [00:23<00:35, 296.17it/s]"
     ]
    },
    {
     "name": "stdout",
     "output_type": "stream",
     "text": [
      "precision-GP: 0.8178973717146433\n",
      "recall-GP: 0.8045552477685441\n",
      "f1-measure-GP: 0.8111714507369554\n",
      "precision-OG: 0.8482362592288761\n",
      "recall-OG: 0.9256938227394808\n",
      "f1-measure-OG: 0.8852739726026898\n",
      "precision-untyped: 0.8294466403162055\n",
      "recall-untyped: 0.831089108910891\n",
      "f1-measure-untyped: 0.83026706231449\n",
      "precision-DS: 0.8341085271317829\n",
      "recall-DS: 0.786549707602339\n",
      "f1-measure-DS: 0.8096313017305744\n",
      "precision-overall: 0.8272727272727273\n",
      "recall-overall: 0.8289108910891089\n",
      "f1-measure-overall: 0.8280909990108304\n"
     ]
    },
    {
     "name": "stderr",
     "output_type": "stream",
     "text": [
      " 45%|████▌     | 8042/17680 [00:26<00:34, 278.00it/s]"
     ]
    },
    {
     "name": "stdout",
     "output_type": "stream",
     "text": [
      "precision-GP: 0.8147930730848254\n",
      "recall-GP: 0.8018486424032352\n",
      "f1-measure-GP: 0.8082690347939521\n",
      "precision-OG: 0.8487841945288754\n",
      "recall-OG: 0.9200988467874794\n",
      "f1-measure-OG: 0.88300395256912\n",
      "precision-untyped: 0.8281539030706623\n",
      "recall-untyped: 0.8286137331112345\n",
      "f1-measure-untyped: 0.8283837542787919\n",
      "precision-DS: 0.8389458272327963\n",
      "recall-DS: 0.7881705639614854\n",
      "f1-measure-DS: 0.8127659574467584\n",
      "precision-overall: 0.8261191268960414\n",
      "recall-overall: 0.8265778271330743\n",
      "f1-measure-overall: 0.8263484133591876\n"
     ]
    },
    {
     "name": "stderr",
     "output_type": "stream",
     "text": [
      " 51%|█████     | 9041/17680 [00:29<00:30, 283.68it/s]"
     ]
    },
    {
     "name": "stdout",
     "output_type": "stream",
     "text": [
      "precision-GP: 0.8113316077077941\n",
      "recall-GP: 0.7959932279909706\n",
      "f1-measure-GP: 0.8035892323030408\n",
      "precision-OG: 0.8508064516129032\n",
      "recall-OG: 0.8536749831422792\n",
      "f1-measure-OG: 0.852238303601431\n",
      "precision-untyped: 0.823\n",
      "recall-untyped: 0.8017535314174379\n",
      "f1-measure-untyped: 0.8122378485072286\n",
      "precision-DS: 0.8067632850241546\n",
      "recall-DS: 0.7376325088339223\n",
      "f1-measure-DS: 0.7706506691277767\n",
      "precision-overall: 0.8203333333333334\n",
      "recall-overall: 0.7991557070953077\n",
      "f1-measure-overall: 0.8096060531293192\n"
     ]
    },
    {
     "name": "stderr",
     "output_type": "stream",
     "text": [
      " 57%|█████▋    | 10051/17680 [00:32<00:21, 361.31it/s]"
     ]
    },
    {
     "name": "stdout",
     "output_type": "stream",
     "text": [
      "precision-GP: 0.8125348189415041\n",
      "recall-GP: 0.7553081305023304\n",
      "f1-measure-GP: 0.7828770799784793\n",
      "precision-OG: 0.8598615916955017\n",
      "recall-OG: 0.8505419281232174\n",
      "f1-measure-OG: 0.855176369371903\n",
      "precision-untyped: 0.8283123270826929\n",
      "recall-untyped: 0.7809013186494711\n",
      "f1-measure-untyped: 0.8039084060564877\n",
      "precision-DS: 0.8164128595600677\n",
      "recall-DS: 0.750388802488336\n",
      "f1-measure-DS: 0.7820097244732079\n",
      "precision-overall: 0.8258530587150322\n",
      "recall-overall: 0.7785828140849153\n",
      "f1-measure-overall: 0.8015215931975335\n"
     ]
    },
    {
     "name": "stderr",
     "output_type": "stream",
     "text": [
      " 62%|██████▏   | 11043/17680 [00:36<00:23, 284.54it/s]"
     ]
    },
    {
     "name": "stdout",
     "output_type": "stream",
     "text": [
      "precision-GP: 0.8113888888888889\n",
      "recall-GP: 0.7541957139168604\n",
      "f1-measure-GP: 0.7817476247825007\n",
      "precision-OG: 0.8512\n",
      "recall-OG: 0.7517663683466792\n",
      "f1-measure-OG: 0.79839919959975\n",
      "precision-untyped: 0.8264134275618374\n",
      "recall-untyped: 0.7538275584206285\n",
      "f1-measure-untyped: 0.7884534344710838\n",
      "precision-DS: 0.8185269552012149\n",
      "recall-DS: 0.743448275862069\n",
      "f1-measure-DS: 0.779183230935982\n",
      "precision-overall: 0.8237632508833922\n",
      "recall-overall: 0.7514101531023368\n",
      "f1-measure-overall: 0.7859249894647625\n"
     ]
    },
    {
     "name": "stderr",
     "output_type": "stream",
     "text": [
      " 68%|██████▊   | 12042/17680 [00:39<00:16, 340.82it/s]"
     ]
    },
    {
     "name": "stdout",
     "output_type": "stream",
     "text": [
      "precision-GP: 0.8046831955922865\n",
      "recall-GP: 0.7541957139168604\n",
      "f1-measure-GP: 0.7786218845794517\n",
      "precision-OG: 0.8508492569002123\n",
      "recall-OG: 0.75187617260788\n",
      "f1-measure-OG: 0.7983067729083169\n",
      "precision-untyped: 0.8225829622180721\n",
      "recall-untyped: 0.7477148080438757\n",
      "f1-measure-untyped: 0.7833641151925078\n",
      "precision-DS: 0.8182446440912232\n",
      "recall-DS: 0.7162734422262553\n",
      "f1-measure-DS: 0.7638709677418857\n",
      "precision-overall: 0.8199971268495906\n",
      "recall-overall: 0.745364324889005\n",
      "f1-measure-overall: 0.7809015664545639\n"
     ]
    },
    {
     "name": "stderr",
     "output_type": "stream",
     "text": [
      " 74%|███████▍  | 13048/17680 [00:42<00:14, 327.39it/s]"
     ]
    },
    {
     "name": "stdout",
     "output_type": "stream",
     "text": [
      "precision-GP: 0.8105646630236795\n",
      "recall-GP: 0.7592005849378504\n",
      "f1-measure-GP: 0.7840422854265799\n",
      "precision-OG: 0.8548717948717949\n",
      "recall-OG: 0.7532760957975598\n",
      "f1-measure-OG: 0.8008647609896211\n",
      "precision-untyped: 0.8248074807480749\n",
      "recall-untyped: 0.7510643626346105\n",
      "f1-measure-untyped: 0.7862105125179735\n",
      "precision-DS: 0.8093306288032455\n",
      "recall-DS: 0.7167664670658682\n",
      "f1-measure-DS: 0.7602413464591437\n",
      "precision-overall: 0.8221947194719472\n",
      "recall-overall: 0.7486851990984222\n",
      "f1-measure-overall: 0.7837200157294036\n"
     ]
    },
    {
     "name": "stderr",
     "output_type": "stream",
     "text": [
      " 79%|███████▉  | 14050/17680 [00:45<00:11, 322.22it/s]"
     ]
    },
    {
     "name": "stdout",
     "output_type": "stream",
     "text": [
      "precision-GP: 0.8284528475905003\n",
      "recall-GP: 0.7634934126646834\n",
      "f1-measure-GP: 0.7946477938736646\n",
      "precision-OG: 0.8624361158432708\n",
      "recall-OG: 0.7670454545454546\n",
      "f1-measure-OG: 0.8119486768243287\n",
      "precision-untyped: 0.8357411679009348\n",
      "recall-untyped: 0.7580662922585618\n",
      "f1-measure-untyped: 0.7950109712437426\n",
      "precision-DS: 0.8028350515463918\n",
      "recall-DS: 0.7181556195965418\n",
      "f1-measure-DS: 0.7581381198660896\n",
      "precision-overall: 0.8333130994294039\n",
      "recall-overall: 0.7558638916418896\n",
      "f1-measure-overall: 0.7927012357084614\n"
     ]
    },
    {
     "name": "stderr",
     "output_type": "stream",
     "text": [
      " 85%|████████▌ | 15069/17680 [00:48<00:07, 370.15it/s]"
     ]
    },
    {
     "name": "stdout",
     "output_type": "stream",
     "text": [
      "precision-GP: 0.8313798067036808\n",
      "recall-GP: 0.7540096978739277\n",
      "f1-measure-GP: 0.7908068459657204\n",
      "precision-OG: 0.8652157311951126\n",
      "recall-OG: 0.7819185645272602\n",
      "f1-measure-OG: 0.8214609389160278\n",
      "precision-untyped: 0.8371274606840426\n",
      "recall-untyped: 0.7581673306772908\n",
      "f1-measure-untyped: 0.7956933047613571\n",
      "precision-DS: 0.7951582867783985\n",
      "recall-DS: 0.7196629213483146\n",
      "f1-measure-DS: 0.75552934237683\n",
      "precision-overall: 0.8347080171560541\n",
      "recall-overall: 0.7559760956175299\n",
      "f1-measure-overall: 0.7933936131290987\n"
     ]
    },
    {
     "name": "stderr",
     "output_type": "stream",
     "text": [
      " 91%|█████████ | 16046/17680 [00:51<00:04, 357.04it/s]"
     ]
    },
    {
     "name": "stdout",
     "output_type": "stream",
     "text": [
      "precision-GP: 0.8110322228290552\n",
      "recall-GP: 0.7290132547864506\n",
      "f1-measure-GP: 0.7678386763184609\n",
      "precision-OG: 0.8498379546272956\n",
      "recall-OG: 0.7768268597761685\n",
      "f1-measure-OG: 0.8116938950988323\n",
      "precision-untyped: 0.8207823713736986\n",
      "recall-untyped: 0.7419590643274854\n",
      "f1-measure-untyped: 0.7793828286221127\n",
      "precision-DS: 0.7905113986444855\n",
      "recall-DS: 0.7147632311977716\n",
      "f1-measure-DS: 0.750731421884093\n",
      "precision-overall: 0.8185585767714546\n",
      "recall-overall: 0.7399488304093568\n",
      "f1-measure-overall: 0.777271200268703\n"
     ]
    },
    {
     "name": "stderr",
     "output_type": "stream",
     "text": [
      " 96%|█████████▋| 17050/17680 [00:54<00:01, 327.86it/s]"
     ]
    },
    {
     "name": "stdout",
     "output_type": "stream",
     "text": [
      "precision-GP: 0.8158536585365853\n",
      "recall-GP: 0.7366682397357244\n",
      "f1-measure-GP: 0.7742415474910636\n",
      "precision-OG: 0.8516560958421423\n",
      "recall-OG: 0.7794259916156079\n",
      "f1-measure-OG: 0.8139417410337942\n",
      "precision-untyped: 0.8259308259308259\n",
      "recall-untyped: 0.7484799177871029\n",
      "f1-measure-untyped: 0.785300327957181\n",
      "precision-DS: 0.8073852295409182\n",
      "recall-DS: 0.7291572780531771\n",
      "f1-measure-DS: 0.766279895808617\n",
      "precision-overall: 0.8238518238518239\n",
      "recall-overall: 0.7465958722274557\n",
      "f1-measure-overall: 0.783323599442872\n"
     ]
    },
    {
     "name": "stderr",
     "output_type": "stream",
     "text": [
      "100%|██████████| 17680/17680 [00:56<00:00, 312.80it/s]\n"
     ]
    },
    {
     "name": "stdout",
     "output_type": "stream",
     "text": [
      "precision-untyped: \t\t 0.8259932533733133\n",
      "recall-untyped: \t\t 0.7479847263470514\n",
      "f1-measure-untyped: \t\t 0.7850558845793687\n",
      "precision-overall: \t\t 0.823931784107946\n",
      "recall-overall: \t\t 0.7461179465422146\n",
      "f1-measure-overall: \t\t 0.7830965845838215\n"
     ]
    }
   ],
   "source": [
    "train_ner(model_output_dir,\n",
    "              train_data_path,\n",
    "              dev_data_path,\n",
    "              test_data_path,\n",
    "              run_test,\n",
    "              model_path,\n",
    "              iterations\n",
    "             )"
   ]
  },
  {
   "cell_type": "code",
   "execution_count": null,
   "metadata": {},
   "outputs": [],
   "source": []
  }
 ],
 "metadata": {
  "kernelspec": {
   "display_name": "scispcacy",
   "language": "python",
   "name": "scispcacy"
  },
  "language_info": {
   "codemirror_mode": {
    "name": "ipython",
    "version": 3
   },
   "file_extension": ".py",
   "mimetype": "text/x-python",
   "name": "python",
   "nbconvert_exporter": "python",
   "pygments_lexer": "ipython3",
   "version": "3.6.9"
  }
 },
 "nbformat": 4,
 "nbformat_minor": 2
}
